{
 "cells": [
  {
   "cell_type": "code",
   "execution_count": null,
   "metadata": {},
   "outputs": [],
   "source": [
    "import sys\n",
    "sys.path.append('/Users/lucaortolomo/Desktop/TESI/Thesis_DiffusionRecommender-main')\n",
    "from Data_manager.DataSplitter_Holdout import DataSplitter_Holdout\n",
    "from Data_manager.Movielens.Movielens100KReader import Movielens100KReader\n",
    "from Evaluation.Evaluator import EvaluatorHoldout\n",
    "import numpy as np\n",
    "\n",
    "dataset_reader = Movielens100KReader()\n",
    "\n",
    "dataSplitter = DataSplitter_Holdout(dataset_reader, user_wise=False, split_interaction_quota_list=[80, 10, 10])\n",
    "dataSplitter.load_data(\"/Users/lucaortolomo/Desktop/TESI/Thesis_DiffusionRecommender-main/teams/CiteULike_a/data\") #\"results_experiments/Movielens1M/data\"\n",
    "URM_train, URM_validation, URM_test = dataSplitter.get_holdout_split()\n",
    "\n",
    "cutoff_list = [10, 50]\n",
    "evaluator_validation = EvaluatorHoldout(URM_validation, cutoff_list=cutoff_list)\n",
    "evaluator_test = EvaluatorHoldout(URM_test, cutoff_list=cutoff_list)"
   ]
  },
  {
   "cell_type": "code",
   "execution_count": null,
   "metadata": {},
   "outputs": [],
   "source": [
    "import optuna\n",
    "import numpy as np\n",
    "import pandas as pd\n",
    "import os\n",
    "\n",
    "def create_objective_d(recommender_instance, URM_train, URM_validation, hyperparam_space, evaluator_validation, cutoff, directory_path):\n",
    "    def objective(trial):\n",
    "        # Gather and set hyperparameters\n",
    "        hyperparams = {name: trial.suggest_categorical(name, space) for name, space in hyperparam_space.items()}\n",
    "\n",
    "        # Initialize and train the recommender\n",
    "        \n",
    "        recommender_instance.fit(**hyperparams)\n",
    "\n",
    "        # Evaluate recommender\n",
    "        user_id_array = np.arange(URM_validation.shape[0])\n",
    "        \n",
    "        result_df, _ = evaluator_validation.evaluateRecommender(recommender_instance)\n",
    "        result_df['hyperparams'] = str(hyperparams)\n",
    "\n",
    "        # Assuming df_row is the DataFrame containing the row to append\n",
    "\n",
    "        filename = directory_path + recommender_instance.RECOMMENDER_NAME + \".csv\"\n",
    "\n",
    "        # Check if file exists\n",
    "        if os.path.isfile(filename):\n",
    "            # If it exists, append without writing the header\n",
    "           pd.DataFrame(result_df.loc[cutoff]).transpose().to_csv(filename, mode='a', header=False, index=False)\n",
    "        else:\n",
    "            # If it doesn't exist, create it, write the header\n",
    "           pd.DataFrame(result_df.loc[cutoff]).transpose().to_csv(filename, mode='w', header=True, index=False)\n",
    "    \n",
    "        return result_df.loc[cutoff]['NDCG']\n",
    "\n",
    "    return objective\n"
   ]
  },
  {
   "cell_type": "code",
   "execution_count": 1,
   "metadata": {},
   "outputs": [
    {
     "ename": "OSError",
     "evalue": "dlopen(/Users/lucaortolomo/opt/anaconda3/envs/TESI/lib/python3.8/site-packages/torch/lib/libtorch_global_deps.dylib, 0x000A): tried: '/Users/lucaortolomo/opt/anaconda3/envs/TESI/lib/python3.8/site-packages/torch/lib/libtorch_global_deps.dylib' (mach-o file, but is an incompatible architecture (have 'arm64', need 'x86_64')), '/System/Volumes/Preboot/Cryptexes/OS/Users/lucaortolomo/opt/anaconda3/envs/TESI/lib/python3.8/site-packages/torch/lib/libtorch_global_deps.dylib' (no such file), '/Users/lucaortolomo/opt/anaconda3/envs/TESI/lib/python3.8/site-packages/torch/lib/libtorch_global_deps.dylib' (mach-o file, but is an incompatible architecture (have 'arm64', need 'x86_64')), '/Users/lucaortolomo/opt/anaconda3/envs/Tesi/lib/python3.8/site-packages/torch/lib/libtorch_global_deps.dylib' (mach-o file, but is an incompatible architecture (have 'arm64', need 'x86_64')), '/System/Volumes/Preboot/Cryptexes/OS/Users/lucaortolomo/opt/anaconda3/envs/Tesi/lib/python3.8/site-packages/torch/lib/libtorch_global_deps.dylib' (no such file), '/Users/lucaortolomo/opt/anaconda3/envs/Tesi/lib/python3.8/site-packages/torch/lib/libtorch_global_deps.dylib' (mach-o file, but is an incompatible architecture (have 'arm64', need 'x86_64'))",
     "output_type": "error",
     "traceback": [
      "\u001b[0;31m---------------------------------------------------------------------------\u001b[0m",
      "\u001b[0;31mOSError\u001b[0m                                   Traceback (most recent call last)",
      "\u001b[1;32m/Users/lucaortolomo/Desktop/TESI/Thesis_DiffusionRecommender-main/Self-Attention/self_attention_notebook.ipynb Cell 3\u001b[0m line \u001b[0;36m1\n\u001b[0;32m----> <a href='vscode-notebook-cell:/Users/lucaortolomo/Desktop/TESI/Thesis_DiffusionRecommender-main/Self-Attention/self_attention_notebook.ipynb#W2sZmlsZQ%3D%3D?line=0'>1</a>\u001b[0m \u001b[39mimport\u001b[39;00m \u001b[39mtorch\u001b[39;00m\n\u001b[1;32m      <a href='vscode-notebook-cell:/Users/lucaortolomo/Desktop/TESI/Thesis_DiffusionRecommender-main/Self-Attention/self_attention_notebook.ipynb#W2sZmlsZQ%3D%3D?line=1'>2</a>\u001b[0m \u001b[39mif\u001b[39;00m torch\u001b[39m.\u001b[39mbackends\u001b[39m.\u001b[39mmps\u001b[39m.\u001b[39mis_available():\n\u001b[1;32m      <a href='vscode-notebook-cell:/Users/lucaortolomo/Desktop/TESI/Thesis_DiffusionRecommender-main/Self-Attention/self_attention_notebook.ipynb#W2sZmlsZQ%3D%3D?line=2'>3</a>\u001b[0m     mps_device \u001b[39m=\u001b[39m torch\u001b[39m.\u001b[39mdevice(\u001b[39m\"\u001b[39m\u001b[39mmps\u001b[39m\u001b[39m\"\u001b[39m)\n",
      "File \u001b[0;32m~/opt/anaconda3/envs/TESI/lib/python3.8/site-packages/torch/__init__.py:234\u001b[0m\n\u001b[1;32m    223\u001b[0m \u001b[39melse\u001b[39;00m:\n\u001b[1;32m    224\u001b[0m     \u001b[39m# Easy way.  You want this most of the time, because it will prevent\u001b[39;00m\n\u001b[1;32m    225\u001b[0m     \u001b[39m# C++ symbols from libtorch clobbering C++ symbols from other\u001b[39;00m\n\u001b[0;32m   (...)\u001b[0m\n\u001b[1;32m    231\u001b[0m     \u001b[39m#\u001b[39;00m\n\u001b[1;32m    232\u001b[0m     \u001b[39m# See Note [Global dependencies]\u001b[39;00m\n\u001b[1;32m    233\u001b[0m     \u001b[39mif\u001b[39;00m USE_GLOBAL_DEPS:\n\u001b[0;32m--> 234\u001b[0m         _load_global_deps()\n\u001b[1;32m    235\u001b[0m     \u001b[39mfrom\u001b[39;00m \u001b[39mtorch\u001b[39;00m\u001b[39m.\u001b[39;00m\u001b[39m_C\u001b[39;00m \u001b[39mimport\u001b[39;00m \u001b[39m*\u001b[39m  \u001b[39m# noqa: F403\u001b[39;00m\n\u001b[1;32m    237\u001b[0m \u001b[39m# Appease the type checker; ordinarily this binding is inserted by the\u001b[39;00m\n\u001b[1;32m    238\u001b[0m \u001b[39m# torch._C module initialization code in C\u001b[39;00m\n",
      "File \u001b[0;32m~/opt/anaconda3/envs/TESI/lib/python3.8/site-packages/torch/__init__.py:193\u001b[0m, in \u001b[0;36m_load_global_deps\u001b[0;34m()\u001b[0m\n\u001b[1;32m    191\u001b[0m is_cuda_lib_err \u001b[39m=\u001b[39m [lib \u001b[39mfor\u001b[39;00m lib \u001b[39min\u001b[39;00m cuda_libs\u001b[39m.\u001b[39mvalues() \u001b[39mif\u001b[39;00m(lib\u001b[39m.\u001b[39msplit(\u001b[39m'\u001b[39m\u001b[39m.\u001b[39m\u001b[39m'\u001b[39m)[\u001b[39m0\u001b[39m] \u001b[39min\u001b[39;00m err\u001b[39m.\u001b[39margs[\u001b[39m0\u001b[39m])]\n\u001b[1;32m    192\u001b[0m \u001b[39mif\u001b[39;00m \u001b[39mnot\u001b[39;00m is_cuda_lib_err:\n\u001b[0;32m--> 193\u001b[0m     \u001b[39mraise\u001b[39;00m err\n\u001b[1;32m    194\u001b[0m \u001b[39mfor\u001b[39;00m lib_folder, lib_name \u001b[39min\u001b[39;00m cuda_libs\u001b[39m.\u001b[39mitems():\n\u001b[1;32m    195\u001b[0m     _preload_cuda_deps(lib_folder, lib_name)\n",
      "File \u001b[0;32m~/opt/anaconda3/envs/TESI/lib/python3.8/site-packages/torch/__init__.py:174\u001b[0m, in \u001b[0;36m_load_global_deps\u001b[0;34m()\u001b[0m\n\u001b[1;32m    171\u001b[0m lib_path \u001b[39m=\u001b[39m os\u001b[39m.\u001b[39mpath\u001b[39m.\u001b[39mjoin(os\u001b[39m.\u001b[39mpath\u001b[39m.\u001b[39mdirname(here), \u001b[39m'\u001b[39m\u001b[39mlib\u001b[39m\u001b[39m'\u001b[39m, lib_name)\n\u001b[1;32m    173\u001b[0m \u001b[39mtry\u001b[39;00m:\n\u001b[0;32m--> 174\u001b[0m     ctypes\u001b[39m.\u001b[39;49mCDLL(lib_path, mode\u001b[39m=\u001b[39;49mctypes\u001b[39m.\u001b[39;49mRTLD_GLOBAL)\n\u001b[1;32m    175\u001b[0m \u001b[39mexcept\u001b[39;00m \u001b[39mOSError\u001b[39;00m \u001b[39mas\u001b[39;00m err:\n\u001b[1;32m    176\u001b[0m     \u001b[39m# Can only happen for wheel with cuda libs as PYPI deps\u001b[39;00m\n\u001b[1;32m    177\u001b[0m     \u001b[39m# As PyTorch is not purelib, but nvidia-*-cu12 is\u001b[39;00m\n\u001b[1;32m    178\u001b[0m     cuda_libs: Dict[\u001b[39mstr\u001b[39m, \u001b[39mstr\u001b[39m] \u001b[39m=\u001b[39m {\n\u001b[1;32m    179\u001b[0m         \u001b[39m'\u001b[39m\u001b[39mcublas\u001b[39m\u001b[39m'\u001b[39m: \u001b[39m'\u001b[39m\u001b[39mlibcublas.so.*[0-9]\u001b[39m\u001b[39m'\u001b[39m,\n\u001b[1;32m    180\u001b[0m         \u001b[39m'\u001b[39m\u001b[39mcudnn\u001b[39m\u001b[39m'\u001b[39m: \u001b[39m'\u001b[39m\u001b[39mlibcudnn.so.*[0-9]\u001b[39m\u001b[39m'\u001b[39m,\n\u001b[0;32m   (...)\u001b[0m\n\u001b[1;32m    189\u001b[0m         \u001b[39m'\u001b[39m\u001b[39mnvtx\u001b[39m\u001b[39m'\u001b[39m: \u001b[39m'\u001b[39m\u001b[39mlibnvToolsExt.so.*[0-9]\u001b[39m\u001b[39m'\u001b[39m,\n\u001b[1;32m    190\u001b[0m     }\n",
      "File \u001b[0;32m~/opt/anaconda3/envs/TESI/lib/python3.8/ctypes/__init__.py:373\u001b[0m, in \u001b[0;36mCDLL.__init__\u001b[0;34m(self, name, mode, handle, use_errno, use_last_error, winmode)\u001b[0m\n\u001b[1;32m    370\u001b[0m \u001b[39mself\u001b[39m\u001b[39m.\u001b[39m_FuncPtr \u001b[39m=\u001b[39m _FuncPtr\n\u001b[1;32m    372\u001b[0m \u001b[39mif\u001b[39;00m handle \u001b[39mis\u001b[39;00m \u001b[39mNone\u001b[39;00m:\n\u001b[0;32m--> 373\u001b[0m     \u001b[39mself\u001b[39m\u001b[39m.\u001b[39m_handle \u001b[39m=\u001b[39m _dlopen(\u001b[39mself\u001b[39;49m\u001b[39m.\u001b[39;49m_name, mode)\n\u001b[1;32m    374\u001b[0m \u001b[39melse\u001b[39;00m:\n\u001b[1;32m    375\u001b[0m     \u001b[39mself\u001b[39m\u001b[39m.\u001b[39m_handle \u001b[39m=\u001b[39m handle\n",
      "\u001b[0;31mOSError\u001b[0m: dlopen(/Users/lucaortolomo/opt/anaconda3/envs/TESI/lib/python3.8/site-packages/torch/lib/libtorch_global_deps.dylib, 0x000A): tried: '/Users/lucaortolomo/opt/anaconda3/envs/TESI/lib/python3.8/site-packages/torch/lib/libtorch_global_deps.dylib' (mach-o file, but is an incompatible architecture (have 'arm64', need 'x86_64')), '/System/Volumes/Preboot/Cryptexes/OS/Users/lucaortolomo/opt/anaconda3/envs/TESI/lib/python3.8/site-packages/torch/lib/libtorch_global_deps.dylib' (no such file), '/Users/lucaortolomo/opt/anaconda3/envs/TESI/lib/python3.8/site-packages/torch/lib/libtorch_global_deps.dylib' (mach-o file, but is an incompatible architecture (have 'arm64', need 'x86_64')), '/Users/lucaortolomo/opt/anaconda3/envs/Tesi/lib/python3.8/site-packages/torch/lib/libtorch_global_deps.dylib' (mach-o file, but is an incompatible architecture (have 'arm64', need 'x86_64')), '/System/Volumes/Preboot/Cryptexes/OS/Users/lucaortolomo/opt/anaconda3/envs/Tesi/lib/python3.8/site-packages/torch/lib/libtorch_global_deps.dylib' (no such file), '/Users/lucaortolomo/opt/anaconda3/envs/Tesi/lib/python3.8/site-packages/torch/lib/libtorch_global_deps.dylib' (mach-o file, but is an incompatible architecture (have 'arm64', need 'x86_64'))"
     ]
    }
   ],
   "source": [
    "import torch\n",
    "if torch.backends.mps.is_available():\n",
    "    mps_device = torch.device(\"mps\")\n",
    "    x = torch.ones(1, device=mps_device)\n",
    "    print (x)\n",
    "else:\n",
    "    print (\"MPS device not found.\")"
   ]
  },
  {
   "cell_type": "code",
   "execution_count": null,
   "metadata": {},
   "outputs": [],
   "source": [
    "from Diffusion.DiffusionRecommender import SimpleAttentionDiffusionRecommender\n",
    "diffusion_model = SimpleAttentionDiffusionRecommender(URM_train = URM_train, use_gpu = True)\n",
    "diffusion_model.fit(epochs=50)"
   ]
  }
 ],
 "metadata": {
  "kernelspec": {
   "display_name": "Tesi",
   "language": "python",
   "name": "python3"
  },
  "language_info": {
   "codemirror_mode": {
    "name": "ipython",
    "version": 3
   },
   "file_extension": ".py",
   "mimetype": "text/x-python",
   "name": "python",
   "nbconvert_exporter": "python",
   "pygments_lexer": "ipython3",
   "version": "3.8.16"
  }
 },
 "nbformat": 4,
 "nbformat_minor": 2
}
