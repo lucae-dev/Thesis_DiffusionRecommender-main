{
 "cells": [
  {
   "cell_type": "code",
   "execution_count": 1,
   "metadata": {},
   "outputs": [
    {
     "name": "stdout",
     "output_type": "stream",
     "text": [
      "DataSplitter_Holdout: Verifying data consistency...\n",
      "DataSplitter_Holdout: Verifying data consistency... Passed!\n",
      "DataSplitter_Holdout: DataReader: Movielens1M\n",
      "\tNum items: 3883\n",
      "\tNum users: 6040\n",
      "\tTrain \t\tquota 80.00 (80.00), \tinteractions 800167, \tdensity 3.41E-02\n",
      "\tValidation \tquota 10.00 (10.00), \tinteractions 100021, \tdensity 4.26E-03\n",
      "\tTest \t\tquota 10.00 (10.00), \tinteractions 100021, \tdensity 4.26E-03\n",
      "\n",
      "\n",
      "\n",
      "\tICM name: ICM_genres, Num features: 18, feature occurrences: 6408, density 9.17E-02\n",
      "\tICM name: ICM_year, Num features: 1, feature occurrences: 3883, density 1.00E+00\n",
      "\tUCM name: UCM_all, Num features: 3469, feature occurrences: 24160, density 1.15E-03\n",
      "\n",
      "\n",
      "DataSplitter_Holdout: Done.\n",
      "EvaluatorHoldout: Ignoring 75 ( 1.2%) Users that have less than 1 test interactions\n",
      "EvaluatorHoldout: Ignoring 80 ( 1.3%) Users that have less than 1 test interactions\n"
     ]
    }
   ],
   "source": [
    "\n",
    "from Data_manager.DataSplitter_Holdout import DataSplitter_Holdout\n",
    "from Data_manager.Movielens.Movielens1MReader import Movielens1MReader\n",
    "from Evaluation.Evaluator import EvaluatorHoldout\n",
    "\n",
    "dataset_reader = Movielens1MReader()\n",
    "\n",
    "dataSplitter = DataSplitter_Holdout(dataset_reader, user_wise=False, split_interaction_quota_list=[80, 10, 10])\n",
    "dataSplitter.load_data() #\"results_experiments/Movielens1M/data\"\n",
    "URM_train, URM_validation, URM_test = dataSplitter.get_holdout_split()\n",
    "\n",
    "cutoff_list = [5, 10, 20, 30, 40, 50, 100]\n",
    "evaluator_validation = EvaluatorHoldout(URM_validation, cutoff_list=[10])\n",
    "evaluator_test = EvaluatorHoldout(URM_test, cutoff_list=[10])"
   ]
  },
  {
   "cell_type": "code",
   "execution_count": 2,
   "metadata": {},
   "outputs": [
    {
     "name": "stdout",
     "output_type": "stream",
     "text": [
      "Requirement already satisfied: optuna in /Users/lucaortolomo/opt/anaconda3/envs/Tesi/lib/python3.8/site-packages (3.2.0)\n",
      "Requirement already satisfied: tqdm in /Users/lucaortolomo/opt/anaconda3/envs/Tesi/lib/python3.8/site-packages (from optuna) (4.59.0)\n",
      "Requirement already satisfied: packaging>=20.0 in /Users/lucaortolomo/opt/anaconda3/envs/Tesi/lib/python3.8/site-packages (from optuna) (22.0)\n",
      "Requirement already satisfied: alembic>=1.5.0 in /Users/lucaortolomo/opt/anaconda3/envs/Tesi/lib/python3.8/site-packages (from optuna) (1.11.1)\n",
      "Requirement already satisfied: colorlog in /Users/lucaortolomo/opt/anaconda3/envs/Tesi/lib/python3.8/site-packages (from optuna) (6.7.0)\n",
      "Requirement already satisfied: PyYAML in /Users/lucaortolomo/opt/anaconda3/envs/Tesi/lib/python3.8/site-packages (from optuna) (6.0)\n",
      "Requirement already satisfied: numpy in /Users/lucaortolomo/opt/anaconda3/envs/Tesi/lib/python3.8/site-packages (from optuna) (1.22.4)\n",
      "Requirement already satisfied: cmaes>=0.9.1 in /Users/lucaortolomo/opt/anaconda3/envs/Tesi/lib/python3.8/site-packages (from optuna) (0.10.0)\n",
      "Requirement already satisfied: sqlalchemy>=1.3.0 in /Users/lucaortolomo/opt/anaconda3/envs/Tesi/lib/python3.8/site-packages (from optuna) (1.4.39)\n",
      "Requirement already satisfied: Mako in /Users/lucaortolomo/opt/anaconda3/envs/Tesi/lib/python3.8/site-packages (from alembic>=1.5.0->optuna) (1.2.4)\n",
      "Requirement already satisfied: importlib-resources in /Users/lucaortolomo/opt/anaconda3/envs/Tesi/lib/python3.8/site-packages (from alembic>=1.5.0->optuna) (5.2.0)\n",
      "Requirement already satisfied: typing-extensions>=4 in /Users/lucaortolomo/opt/anaconda3/envs/Tesi/lib/python3.8/site-packages (from alembic>=1.5.0->optuna) (4.4.0)\n",
      "Requirement already satisfied: importlib-metadata in /Users/lucaortolomo/opt/anaconda3/envs/Tesi/lib/python3.8/site-packages (from alembic>=1.5.0->optuna) (4.11.3)\n",
      "Requirement already satisfied: greenlet!=0.4.17 in /Users/lucaortolomo/opt/anaconda3/envs/Tesi/lib/python3.8/site-packages (from sqlalchemy>=1.3.0->optuna) (2.0.1)\n",
      "Requirement already satisfied: zipp>=0.5 in /Users/lucaortolomo/opt/anaconda3/envs/Tesi/lib/python3.8/site-packages (from importlib-metadata->alembic>=1.5.0->optuna) (3.11.0)\n",
      "Requirement already satisfied: MarkupSafe>=0.9.2 in /Users/lucaortolomo/opt/anaconda3/envs/Tesi/lib/python3.8/site-packages (from Mako->alembic>=1.5.0->optuna) (2.1.1)\n"
     ]
    }
   ],
   "source": [
    "!pip install optuna\n"
   ]
  },
  {
   "cell_type": "code",
   "execution_count": 3,
   "metadata": {},
   "outputs": [],
   "source": [
    "import optuna\n",
    "import numpy as np\n",
    "\n",
    "def create_objective(recommender_class, URM_train, URM_validation, hyperparam_space, evaluator_validation):\n",
    "    def objective(trial):\n",
    "        # Gather and set hyperparameters\n",
    "        hyperparams = {name: trial.suggest_categorical(name, space) for name, space in hyperparam_space.items()}\n",
    "\n",
    "        # Initialize and train the recommender\n",
    "        recommender = recommender_class(URM_train)\n",
    "        recommender.fit(**hyperparams)\n",
    "\n",
    "        # Evaluate recommender\n",
    "        user_id_array = np.arange(URM_validation.shape[0])\n",
    "        \n",
    "        result_df, _ = evaluator_validation.evaluateRecommender(recommender)\n",
    "\n",
    "        return result_df.loc[10]['MAP']\n",
    "\n",
    "    return objective\n"
   ]
  },
  {
   "cell_type": "code",
   "execution_count": 4,
   "metadata": {},
   "outputs": [],
   "source": [
    "import optuna\n",
    "import numpy as np\n",
    "import pandas as pd\n",
    "import os\n",
    "\n",
    "def create_objective_d(recommender_instance, URM_train, URM_validation, hyperparam_space, evaluator_validation):\n",
    "    def objective(trial):\n",
    "        # Gather and set hyperparameters\n",
    "        hyperparams = {name: trial.suggest_categorical(name, space) for name, space in hyperparam_space.items()}\n",
    "\n",
    "        # Initialize and train the recommender\n",
    "        \n",
    "        recommender_instance.fit(**hyperparams)\n",
    "\n",
    "        # Evaluate recommender\n",
    "        user_id_array = np.arange(URM_validation.shape[0])\n",
    "        \n",
    "        result_df, _ = evaluator_validation.evaluateRecommender(recommender_instance)\n",
    "        result_df['hyperparams'] = str(hyperparams)\n",
    "\n",
    "        # Assuming df_row is the DataFrame containing the row to append\n",
    "\n",
    "        filename = recommender_instance.RECOMMENDER_NAME + \".csv\"\n",
    "\n",
    "        # Check if file exists\n",
    "        if os.path.isfile(filename):\n",
    "            # If it exists, append without writing the header\n",
    "           pd.DataFrame(result_df.loc[10]).transpose().to_csv(filename, mode='a', header=False, index=False)\n",
    "        else:\n",
    "            # If it doesn't exist, create it, write the header\n",
    "           pd.DataFrame(result_df.loc[10]).transpose().to_csv(filename, mode='w', header=True, index=False)\n",
    "    \n",
    "        return result_df.loc[10]['MAP']\n",
    "\n",
    "    return objective\n"
   ]
  },
  {
   "cell_type": "code",
   "execution_count": 5,
   "metadata": {},
   "outputs": [
    {
     "name": "stdout",
     "output_type": "stream",
     "text": [
      "ItemKNNCFRecommender: URM Detected 204 ( 5.3%) items with no interactions.\n",
      "Unable to load Cython Compute_Similarity, reverting to Python\n",
      "Similarity column 3883 (100.0%), 4339.86 column/sec. Elapsed time 0.89 sec\n",
      "EvaluatorHoldout: Processed 5965 (100.0%) in 2.14 sec. Users per second: 2783\n",
      "<class 'pandas.core.series.Series'>\n"
     ]
    }
   ],
   "source": [
    "from Recommenders.KNN.ItemKNNCFRecommender import ItemKNNCFRecommender\n",
    "\n",
    "itemKNNinstance = ItemKNNCFRecommender(URM_train= URM_train)\n",
    "itemKNNinstance.fit()\n",
    "result_df, _ = evaluator_validation.evaluateRecommender(itemKNNinstance)\n",
    "filename = \"prova.csv\"\n",
    "\n",
    "# Check if file exists\n",
    "if os.path.isfile(filename):\n",
    "    # If it exists, append without writing the header\n",
    "    pd.DataFrame(result_df.loc[10]).transpose().to_csv(filename, mode='a', header=False, index=False)\n",
    "else:\n",
    "    # If it doesn't exist, create it, write the header\n",
    "    pd.DataFrame(result_df.loc[10]).transpose().to_csv(filename, mode='w', header=True, index=False)\n",
    "print(type(result_df.loc[10]))\n"
   ]
  },
  {
   "cell_type": "code",
   "execution_count": 6,
   "metadata": {},
   "outputs": [
    {
     "data": {
      "text/html": [
       "<div>\n",
       "<style scoped>\n",
       "    .dataframe tbody tr th:only-of-type {\n",
       "        vertical-align: middle;\n",
       "    }\n",
       "\n",
       "    .dataframe tbody tr th {\n",
       "        vertical-align: top;\n",
       "    }\n",
       "\n",
       "    .dataframe thead th {\n",
       "        text-align: right;\n",
       "    }\n",
       "</style>\n",
       "<table border=\"1\" class=\"dataframe\">\n",
       "  <thead>\n",
       "    <tr style=\"text-align: right;\">\n",
       "      <th></th>\n",
       "      <th>PRECISION</th>\n",
       "      <th>PRECISION_RECALL_MIN_DEN</th>\n",
       "      <th>RECALL</th>\n",
       "      <th>MAP</th>\n",
       "      <th>MAP_MIN_DEN</th>\n",
       "      <th>MRR</th>\n",
       "      <th>NDCG</th>\n",
       "      <th>F1</th>\n",
       "      <th>HIT_RATE</th>\n",
       "      <th>ARHR_ALL_HITS</th>\n",
       "      <th>...</th>\n",
       "      <th>COVERAGE_USER</th>\n",
       "      <th>COVERAGE_USER_HIT</th>\n",
       "      <th>USERS_IN_GT</th>\n",
       "      <th>DIVERSITY_GINI</th>\n",
       "      <th>SHANNON_ENTROPY</th>\n",
       "      <th>RATIO_DIVERSITY_HERFINDAHL</th>\n",
       "      <th>RATIO_DIVERSITY_GINI</th>\n",
       "      <th>RATIO_SHANNON_ENTROPY</th>\n",
       "      <th>RATIO_AVERAGE_POPULARITY</th>\n",
       "      <th>RATIO_NOVELTY</th>\n",
       "    </tr>\n",
       "  </thead>\n",
       "  <tbody>\n",
       "    <tr>\n",
       "      <th>10</th>\n",
       "      <td>0.165968</td>\n",
       "      <td>0.214284</td>\n",
       "      <td>0.143382</td>\n",
       "      <td>0.087172</td>\n",
       "      <td>0.107448</td>\n",
       "      <td>0.385499</td>\n",
       "      <td>0.187772</td>\n",
       "      <td>0.153851</td>\n",
       "      <td>0.727075</td>\n",
       "      <td>0.5701</td>\n",
       "      <td>...</td>\n",
       "      <td>0.987583</td>\n",
       "      <td>0.718046</td>\n",
       "      <td>0.987583</td>\n",
       "      <td>0.071175</td>\n",
       "      <td>8.451121</td>\n",
       "      <td>0.995768</td>\n",
       "      <td>0.203534</td>\n",
       "      <td>0.781573</td>\n",
       "      <td>1.627008</td>\n",
       "      <td>0.066553</td>\n",
       "    </tr>\n",
       "  </tbody>\n",
       "</table>\n",
       "<p>1 rows × 27 columns</p>\n",
       "</div>"
      ],
      "text/plain": [
       "   PRECISION PRECISION_RECALL_MIN_DEN    RECALL       MAP MAP_MIN_DEN  \\\n",
       "10  0.165968                 0.214284  0.143382  0.087172    0.107448   \n",
       "\n",
       "         MRR      NDCG        F1  HIT_RATE ARHR_ALL_HITS  ... COVERAGE_USER  \\\n",
       "10  0.385499  0.187772  0.153851  0.727075        0.5701  ...      0.987583   \n",
       "\n",
       "   COVERAGE_USER_HIT USERS_IN_GT DIVERSITY_GINI SHANNON_ENTROPY  \\\n",
       "10          0.718046    0.987583       0.071175        8.451121   \n",
       "\n",
       "   RATIO_DIVERSITY_HERFINDAHL RATIO_DIVERSITY_GINI RATIO_SHANNON_ENTROPY  \\\n",
       "10                   0.995768             0.203534              0.781573   \n",
       "\n",
       "   RATIO_AVERAGE_POPULARITY RATIO_NOVELTY  \n",
       "10                 1.627008      0.066553  \n",
       "\n",
       "[1 rows x 27 columns]"
      ]
     },
     "execution_count": 6,
     "metadata": {},
     "output_type": "execute_result"
    }
   ],
   "source": [
    "pd.DataFrame(result_df.loc[10]).transpose()"
   ]
  },
  {
   "cell_type": "code",
   "execution_count": 7,
   "metadata": {},
   "outputs": [
    {
     "name": "stderr",
     "output_type": "stream",
     "text": [
      "[I 2023-07-26 18:53:29,934] A new study created in memory with name: no-name-64d42b04-774d-4bd5-8c04-8da72449ceee\n"
     ]
    },
    {
     "name": "stdout",
     "output_type": "stream",
     "text": [
      "ItemKNNCFRecommender: URM Detected 204 ( 5.3%) items with no interactions.\n",
      "Unable to load Cython Compute_Similarity, reverting to Python\n",
      "Similarity column 3883 (100.0%), 4799.30 column/sec. Elapsed time 0.81 sec\n",
      "EvaluatorHoldout: Processed 5965 (100.0%) in 1.86 sec. Users per second: 3209\n"
     ]
    },
    {
     "name": "stderr",
     "output_type": "stream",
     "text": [
      "[I 2023-07-26 18:53:32,621] Trial 0 finished with value: 0.07928532843704722 and parameters: {'topK': 16, 'shrink': 94, 'similarity': 'jaccard', 'normalize': False, 'feature_weighting': 'none'}. Best is trial 0 with value: 0.07928532843704722.\n"
     ]
    },
    {
     "name": "stdout",
     "output_type": "stream",
     "text": [
      "Unable to load Cython Compute_Similarity, reverting to Python\n",
      "Similarity column 3883 (100.0%), 4451.20 column/sec. Elapsed time 0.87 sec\n",
      "EvaluatorHoldout: Processed 5965 (100.0%) in 2.25 sec. Users per second: 2646\n"
     ]
    },
    {
     "name": "stderr",
     "output_type": "stream",
     "text": [
      "[I 2023-07-26 18:53:35,788] Trial 1 finished with value: 0.06177522984605995 and parameters: {'topK': 60, 'shrink': 58, 'similarity': 'cosine', 'normalize': False, 'feature_weighting': 'TF-IDF'}. Best is trial 0 with value: 0.07928532843704722.\n"
     ]
    },
    {
     "name": "stdout",
     "output_type": "stream",
     "text": [
      "Unable to load Cython Compute_Similarity, reverting to Python\n",
      "Similarity column 3883 (100.0%), 4980.50 column/sec. Elapsed time 0.78 sec\n",
      "EvaluatorHoldout: Processed 5965 (100.0%) in 1.87 sec. Users per second: 3197\n"
     ]
    },
    {
     "name": "stderr",
     "output_type": "stream",
     "text": [
      "[I 2023-07-26 18:53:38,465] Trial 2 finished with value: 0.08472240184142976 and parameters: {'topK': 18, 'shrink': 41, 'similarity': 'cosine', 'normalize': True, 'feature_weighting': 'TF-IDF'}. Best is trial 2 with value: 0.08472240184142976.\n"
     ]
    },
    {
     "name": "stdout",
     "output_type": "stream",
     "text": [
      "Unable to load Cython Compute_Similarity, reverting to Python\n",
      "Similarity column 3883 (100.0%), 4068.71 column/sec. Elapsed time 0.95 sec\n",
      "EvaluatorHoldout: Processed 5965 (100.0%) in 2.12 sec. Users per second: 2813\n"
     ]
    },
    {
     "name": "stderr",
     "output_type": "stream",
     "text": [
      "[I 2023-07-26 18:53:41,557] Trial 3 finished with value: 0.09149159781263762 and parameters: {'topK': 81, 'shrink': 53, 'similarity': 'cosine', 'normalize': True, 'feature_weighting': 'none'}. Best is trial 3 with value: 0.09149159781263762.\n"
     ]
    },
    {
     "name": "stdout",
     "output_type": "stream",
     "text": [
      "Unable to load Cython Compute_Similarity, reverting to Python\n",
      "Similarity column 3883 (100.0%), 4515.80 column/sec. Elapsed time 0.86 sec\n",
      "EvaluatorHoldout: Processed 5965 (100.0%) in 2.03 sec. Users per second: 2941\n"
     ]
    },
    {
     "name": "stderr",
     "output_type": "stream",
     "text": [
      "[I 2023-07-26 18:53:44,477] Trial 4 finished with value: 0.08947166673319232 and parameters: {'topK': 53, 'shrink': 40, 'similarity': 'cosine', 'normalize': True, 'feature_weighting': 'TF-IDF'}. Best is trial 3 with value: 0.09149159781263762.\n"
     ]
    },
    {
     "name": "stdout",
     "output_type": "stream",
     "text": [
      "Unable to load Cython Compute_Similarity, reverting to Python\n",
      "Similarity column 3883 (100.0%), 4439.90 column/sec. Elapsed time 0.87 sec\n",
      "EvaluatorHoldout: Processed 5965 (100.0%) in 2.05 sec. Users per second: 2917\n"
     ]
    },
    {
     "name": "stderr",
     "output_type": "stream",
     "text": [
      "[I 2023-07-26 18:53:47,433] Trial 5 finished with value: 0.0777089769688265 and parameters: {'topK': 58, 'shrink': 38, 'similarity': 'cosine', 'normalize': True, 'feature_weighting': 'BM25'}. Best is trial 3 with value: 0.09149159781263762.\n"
     ]
    },
    {
     "name": "stdout",
     "output_type": "stream",
     "text": [
      "Unable to load Cython Compute_Similarity, reverting to Python\n",
      "Similarity column 3883 (100.0%), 4480.09 column/sec. Elapsed time 0.87 sec\n",
      "EvaluatorHoldout: Processed 5965 (100.0%) in 2.22 sec. Users per second: 2685\n"
     ]
    },
    {
     "name": "stderr",
     "output_type": "stream",
     "text": [
      "[I 2023-07-26 18:53:50,538] Trial 6 finished with value: 0.08884812198139974 and parameters: {'topK': 70, 'shrink': 32, 'similarity': 'cosine', 'normalize': False, 'feature_weighting': 'none'}. Best is trial 3 with value: 0.09149159781263762.\n"
     ]
    },
    {
     "name": "stdout",
     "output_type": "stream",
     "text": [
      "Unable to load Cython Compute_Similarity, reverting to Python\n",
      "Similarity column 3883 (100.0%), 4216.69 column/sec. Elapsed time 0.92 sec\n",
      "EvaluatorHoldout: Processed 5965 (100.0%) in 2.01 sec. Users per second: 2963\n"
     ]
    },
    {
     "name": "stderr",
     "output_type": "stream",
     "text": [
      "[I 2023-07-26 18:53:53,489] Trial 7 finished with value: 0.07657080988304811 and parameters: {'topK': 69, 'shrink': 57, 'similarity': 'jaccard', 'normalize': True, 'feature_weighting': 'none'}. Best is trial 3 with value: 0.09149159781263762.\n"
     ]
    },
    {
     "name": "stdout",
     "output_type": "stream",
     "text": [
      "Unable to load Cython Compute_Similarity, reverting to Python\n",
      "Similarity column 3883 (100.0%), 4963.00 column/sec. Elapsed time 0.78 sec\n",
      "EvaluatorHoldout: Processed 5965 (100.0%) in 2.07 sec. Users per second: 2881\n"
     ]
    },
    {
     "name": "stderr",
     "output_type": "stream",
     "text": [
      "[I 2023-07-26 18:53:56,375] Trial 8 finished with value: 0.08116520310275586 and parameters: {'topK': 40, 'shrink': 44, 'similarity': 'cosine', 'normalize': False, 'feature_weighting': 'BM25'}. Best is trial 3 with value: 0.09149159781263762.\n"
     ]
    },
    {
     "name": "stdout",
     "output_type": "stream",
     "text": [
      "Unable to load Cython Compute_Similarity, reverting to Python\n",
      "Similarity column 3883 (100.0%), 4811.56 column/sec. Elapsed time 0.81 sec\n",
      "EvaluatorHoldout: Processed 5965 (100.0%) in 1.85 sec. Users per second: 3220\n"
     ]
    },
    {
     "name": "stderr",
     "output_type": "stream",
     "text": [
      "[I 2023-07-26 18:53:59,051] Trial 9 finished with value: 0.06587940233371956 and parameters: {'topK': 26, 'shrink': 30, 'similarity': 'jaccard', 'normalize': False, 'feature_weighting': 'none'}. Best is trial 3 with value: 0.09149159781263762.\n"
     ]
    },
    {
     "name": "stdout",
     "output_type": "stream",
     "text": [
      "Unable to load Cython Compute_Similarity, reverting to Python\n",
      "Similarity column 3883 (100.0%), 3998.20 column/sec. Elapsed time 0.97 sec\n",
      "EvaluatorHoldout: Processed 5965 (100.0%) in 2.05 sec. Users per second: 2904\n"
     ]
    },
    {
     "name": "stderr",
     "output_type": "stream",
     "text": [
      "[I 2023-07-26 18:54:02,100] Trial 10 finished with value: 0.0722334184861433 and parameters: {'topK': 86, 'shrink': 53, 'similarity': 'jaccard', 'normalize': True, 'feature_weighting': 'none'}. Best is trial 3 with value: 0.09149159781263762.\n"
     ]
    },
    {
     "name": "stdout",
     "output_type": "stream",
     "text": [
      "Unable to load Cython Compute_Similarity, reverting to Python\n",
      "Similarity column 3883 (100.0%), 4146.71 column/sec. Elapsed time 0.94 sec\n",
      "EvaluatorHoldout: Processed 5965 (100.0%) in 2.10 sec. Users per second: 2837\n"
     ]
    },
    {
     "name": "stderr",
     "output_type": "stream",
     "text": [
      "[I 2023-07-26 18:54:05,175] Trial 11 finished with value: 0.0844481565747284 and parameters: {'topK': 81, 'shrink': 60, 'similarity': 'cosine', 'normalize': True, 'feature_weighting': 'TF-IDF'}. Best is trial 3 with value: 0.09149159781263762.\n"
     ]
    },
    {
     "name": "stdout",
     "output_type": "stream",
     "text": [
      "Unable to load Cython Compute_Similarity, reverting to Python\n",
      "Similarity column 3883 (100.0%), 4514.00 column/sec. Elapsed time 0.86 sec\n",
      "EvaluatorHoldout: Processed 5965 (100.0%) in 2.04 sec. Users per second: 2920\n"
     ]
    },
    {
     "name": "stderr",
     "output_type": "stream",
     "text": [
      "[I 2023-07-26 18:54:08,117] Trial 12 finished with value: 0.08725891776101372 and parameters: {'topK': 53, 'shrink': 88, 'similarity': 'cosine', 'normalize': True, 'feature_weighting': 'TF-IDF'}. Best is trial 3 with value: 0.09149159781263762.\n"
     ]
    },
    {
     "name": "stdout",
     "output_type": "stream",
     "text": [
      "Unable to load Cython Compute_Similarity, reverting to Python\n",
      "Similarity column 3883 (100.0%), 4004.98 column/sec. Elapsed time 0.97 sec\n",
      "EvaluatorHoldout: Processed 5965 (100.0%) in 2.13 sec. Users per second: 2799\n"
     ]
    },
    {
     "name": "stderr",
     "output_type": "stream",
     "text": [
      "[I 2023-07-26 18:54:11,255] Trial 13 finished with value: 0.0907419138093914 and parameters: {'topK': 93, 'shrink': 40, 'similarity': 'cosine', 'normalize': True, 'feature_weighting': 'TF-IDF'}. Best is trial 3 with value: 0.09149159781263762.\n"
     ]
    },
    {
     "name": "stdout",
     "output_type": "stream",
     "text": [
      "Unable to load Cython Compute_Similarity, reverting to Python\n",
      "Similarity column 3883 (100.0%), 3991.15 column/sec. Elapsed time 0.97 sec\n",
      "EvaluatorHoldout: Processed 5965 (100.0%) in 2.17 sec. Users per second: 2746\n"
     ]
    },
    {
     "name": "stderr",
     "output_type": "stream",
     "text": [
      "[I 2023-07-26 18:54:14,441] Trial 14 finished with value: 0.07947756755678005 and parameters: {'topK': 93, 'shrink': 53, 'similarity': 'cosine', 'normalize': True, 'feature_weighting': 'BM25'}. Best is trial 3 with value: 0.09149159781263762.\n"
     ]
    },
    {
     "name": "stdout",
     "output_type": "stream",
     "text": [
      "Unable to load Cython Compute_Similarity, reverting to Python\n",
      "Similarity column 3883 (100.0%), 4081.50 column/sec. Elapsed time 0.95 sec\n",
      "EvaluatorHoldout: Processed 5965 (100.0%) in 2.18 sec. Users per second: 2740\n"
     ]
    },
    {
     "name": "stderr",
     "output_type": "stream",
     "text": [
      "[I 2023-07-26 18:54:17,595] Trial 15 finished with value: 0.07661685892574475 and parameters: {'topK': 59, 'shrink': 11, 'similarity': 'cosine', 'normalize': True, 'feature_weighting': 'none'}. Best is trial 3 with value: 0.09149159781263762.\n"
     ]
    },
    {
     "name": "stdout",
     "output_type": "stream",
     "text": [
      "Unable to load Cython Compute_Similarity, reverting to Python\n",
      "Similarity column 3883 (100.0%), 3805.20 column/sec. Elapsed time 1.02 sec\n",
      "EvaluatorHoldout: Processed 5965 (100.0%) in 2.21 sec. Users per second: 2703\n"
     ]
    },
    {
     "name": "stderr",
     "output_type": "stream",
     "text": [
      "[I 2023-07-26 18:54:20,869] Trial 16 finished with value: 0.08701541398901061 and parameters: {'topK': 93, 'shrink': 87, 'similarity': 'cosine', 'normalize': True, 'feature_weighting': 'TF-IDF'}. Best is trial 3 with value: 0.09149159781263762.\n"
     ]
    },
    {
     "name": "stdout",
     "output_type": "stream",
     "text": [
      "Unable to load Cython Compute_Similarity, reverting to Python\n",
      "Similarity column 3883 (100.0%), 4503.79 column/sec. Elapsed time 0.86 sec\n",
      "EvaluatorHoldout: Processed 5965 (100.0%) in 2.12 sec. Users per second: 2811\n"
     ]
    },
    {
     "name": "stderr",
     "output_type": "stream",
     "text": [
      "[I 2023-07-26 18:54:23,877] Trial 17 finished with value: 0.08387604278928713 and parameters: {'topK': 51, 'shrink': 40, 'similarity': 'cosine', 'normalize': True, 'feature_weighting': 'none'}. Best is trial 3 with value: 0.09149159781263762.\n"
     ]
    },
    {
     "name": "stdout",
     "output_type": "stream",
     "text": [
      "Unable to load Cython Compute_Similarity, reverting to Python\n",
      "Similarity column 3883 (100.0%), 4746.21 column/sec. Elapsed time 0.82 sec\n",
      "EvaluatorHoldout: Processed 5965 (100.0%) in 1.93 sec. Users per second: 3098\n"
     ]
    },
    {
     "name": "stderr",
     "output_type": "stream",
     "text": [
      "[I 2023-07-26 18:54:26,667] Trial 18 finished with value: 0.07686119426815193 and parameters: {'topK': 15, 'shrink': 92, 'similarity': 'jaccard', 'normalize': True, 'feature_weighting': 'TF-IDF'}. Best is trial 3 with value: 0.09149159781263762.\n"
     ]
    },
    {
     "name": "stdout",
     "output_type": "stream",
     "text": [
      "Unable to load Cython Compute_Similarity, reverting to Python\n",
      "Similarity column 3883 (100.0%), 4484.53 column/sec. Elapsed time 0.87 sec\n",
      "EvaluatorHoldout: Processed 5965 (100.0%) in 2.00 sec. Users per second: 2987\n"
     ]
    },
    {
     "name": "stderr",
     "output_type": "stream",
     "text": [
      "[I 2023-07-26 18:54:29,574] Trial 19 finished with value: 0.07290675102116895 and parameters: {'topK': 33, 'shrink': 21, 'similarity': 'cosine', 'normalize': True, 'feature_weighting': 'BM25'}. Best is trial 3 with value: 0.09149159781263762.\n"
     ]
    },
    {
     "name": "stdout",
     "output_type": "stream",
     "text": [
      "Unable to load Cython Compute_Similarity, reverting to Python\n",
      "Similarity column 3883 (100.0%), 4112.97 column/sec. Elapsed time 0.94 sec\n",
      "EvaluatorHoldout: Processed 5965 (100.0%) in 2.10 sec. Users per second: 2847\n"
     ]
    },
    {
     "name": "stderr",
     "output_type": "stream",
     "text": [
      "[I 2023-07-26 18:54:32,636] Trial 20 finished with value: 0.07765737303583077 and parameters: {'topK': 76, 'shrink': 22, 'similarity': 'cosine', 'normalize': True, 'feature_weighting': 'none'}. Best is trial 3 with value: 0.09149159781263762.\n"
     ]
    },
    {
     "name": "stdout",
     "output_type": "stream",
     "text": [
      "Unable to load Cython Compute_Similarity, reverting to Python\n",
      "Similarity column 3883 (100.0%), 4478.68 column/sec. Elapsed time 0.87 sec\n",
      "EvaluatorHoldout: Processed 5965 (100.0%) in 2.03 sec. Users per second: 2944\n"
     ]
    },
    {
     "name": "stderr",
     "output_type": "stream",
     "text": [
      "[I 2023-07-26 18:54:35,566] Trial 21 finished with value: 0.08333144400537573 and parameters: {'topK': 49, 'shrink': 40, 'similarity': 'cosine', 'normalize': True, 'feature_weighting': 'TF-IDF'}. Best is trial 3 with value: 0.09149159781263762.\n"
     ]
    },
    {
     "name": "stdout",
     "output_type": "stream",
     "text": [
      "Unable to load Cython Compute_Similarity, reverting to Python\n",
      "Similarity column 3883 (100.0%), 4067.78 column/sec. Elapsed time 0.95 sec\n",
      "EvaluatorHoldout: Processed 5965 (100.0%) in 2.22 sec. Users per second: 2692\n"
     ]
    },
    {
     "name": "stderr",
     "output_type": "stream",
     "text": [
      "[I 2023-07-26 18:54:38,776] Trial 22 finished with value: 0.08894014688859662 and parameters: {'topK': 81, 'shrink': 76, 'similarity': 'cosine', 'normalize': True, 'feature_weighting': 'TF-IDF'}. Best is trial 3 with value: 0.09149159781263762.\n"
     ]
    },
    {
     "name": "stdout",
     "output_type": "stream",
     "text": [
      "Unable to load Cython Compute_Similarity, reverting to Python\n",
      "Similarity column 3883 (100.0%), 4844.54 column/sec. Elapsed time 0.80 sec\n",
      "EvaluatorHoldout: Processed 5965 (100.0%) in 1.92 sec. Users per second: 3112\n"
     ]
    },
    {
     "name": "stderr",
     "output_type": "stream",
     "text": [
      "[I 2023-07-26 18:54:41,534] Trial 23 finished with value: 0.084059819848588 and parameters: {'topK': 21, 'shrink': 35, 'similarity': 'cosine', 'normalize': True, 'feature_weighting': 'TF-IDF'}. Best is trial 3 with value: 0.09149159781263762.\n"
     ]
    },
    {
     "name": "stdout",
     "output_type": "stream",
     "text": [
      "Unable to load Cython Compute_Similarity, reverting to Python\n",
      "Similarity column 3883 (100.0%), 4168.48 column/sec. Elapsed time 0.93 sec\n",
      "EvaluatorHoldout: Processed 5965 (100.0%) in 2.15 sec. Users per second: 2781\n"
     ]
    },
    {
     "name": "stderr",
     "output_type": "stream",
     "text": [
      "[I 2023-07-26 18:54:44,657] Trial 24 finished with value: 0.08876075386846573 and parameters: {'topK': 53, 'shrink': 50, 'similarity': 'cosine', 'normalize': True, 'feature_weighting': 'TF-IDF'}. Best is trial 3 with value: 0.09149159781263762.\n"
     ]
    },
    {
     "name": "stdout",
     "output_type": "stream",
     "text": [
      "Unable to load Cython Compute_Similarity, reverting to Python\n",
      "Similarity column 3883 (100.0%), 4968.02 column/sec. Elapsed time 0.78 sec\n",
      "EvaluatorHoldout: Processed 5965 (100.0%) in 1.88 sec. Users per second: 3174\n"
     ]
    },
    {
     "name": "stderr",
     "output_type": "stream",
     "text": [
      "[I 2023-07-26 18:54:47,359] Trial 25 finished with value: 0.08121525033595475 and parameters: {'topK': 14, 'shrink': 84, 'similarity': 'cosine', 'normalize': True, 'feature_weighting': 'TF-IDF'}. Best is trial 3 with value: 0.09149159781263762.\n"
     ]
    },
    {
     "name": "stdout",
     "output_type": "stream",
     "text": [
      "Unable to load Cython Compute_Similarity, reverting to Python\n",
      "Similarity column 3883 (100.0%), 4340.72 column/sec. Elapsed time 0.89 sec\n",
      "EvaluatorHoldout: Processed 5965 (100.0%) in 1.93 sec. Users per second: 3093\n"
     ]
    },
    {
     "name": "stderr",
     "output_type": "stream",
     "text": [
      "[I 2023-07-26 18:54:50,243] Trial 26 finished with value: 0.08263877912159578 and parameters: {'topK': 32, 'shrink': 54, 'similarity': 'jaccard', 'normalize': False, 'feature_weighting': 'TF-IDF'}. Best is trial 3 with value: 0.09149159781263762.\n"
     ]
    },
    {
     "name": "stdout",
     "output_type": "stream",
     "text": [
      "Unable to load Cython Compute_Similarity, reverting to Python\n",
      "Similarity column 3883 (100.0%), 4314.46 column/sec. Elapsed time 0.90 sec\n",
      "EvaluatorHoldout: Processed 5965 (100.0%) in 2.06 sec. Users per second: 2890\n"
     ]
    },
    {
     "name": "stderr",
     "output_type": "stream",
     "text": [
      "[I 2023-07-26 18:54:53,248] Trial 27 finished with value: 0.08906187549062682 and parameters: {'topK': 56, 'shrink': 40, 'similarity': 'cosine', 'normalize': True, 'feature_weighting': 'TF-IDF'}. Best is trial 3 with value: 0.09149159781263762.\n"
     ]
    },
    {
     "name": "stdout",
     "output_type": "stream",
     "text": [
      "Unable to load Cython Compute_Similarity, reverting to Python\n",
      "Similarity column 3883 (100.0%), 4130.95 column/sec. Elapsed time 0.94 sec\n",
      "EvaluatorHoldout: Processed 5965 (100.0%) in 2.19 sec. Users per second: 2728\n"
     ]
    },
    {
     "name": "stderr",
     "output_type": "stream",
     "text": [
      "[I 2023-07-26 18:54:56,421] Trial 28 finished with value: 0.07914452028366564 and parameters: {'topK': 72, 'shrink': 19, 'similarity': 'cosine', 'normalize': True, 'feature_weighting': 'BM25'}. Best is trial 3 with value: 0.09149159781263762.\n"
     ]
    },
    {
     "name": "stdout",
     "output_type": "stream",
     "text": [
      "Unable to load Cython Compute_Similarity, reverting to Python\n",
      "Similarity column 3883 (100.0%), 4635.94 column/sec. Elapsed time 0.84 sec\n",
      "EvaluatorHoldout: Processed 5965 (100.0%) in 1.94 sec. Users per second: 3080\n"
     ]
    },
    {
     "name": "stderr",
     "output_type": "stream",
     "text": [
      "[I 2023-07-26 18:54:59,221] Trial 29 finished with value: 0.07283777059300979 and parameters: {'topK': 28, 'shrink': 99, 'similarity': 'jaccard', 'normalize': False, 'feature_weighting': 'none'}. Best is trial 3 with value: 0.09149159781263762.\n"
     ]
    },
    {
     "name": "stdout",
     "output_type": "stream",
     "text": [
      "Unable to load Cython Compute_Similarity, reverting to Python\n",
      "Similarity column 3883 (100.0%), 4324.19 column/sec. Elapsed time 0.90 sec\n",
      "EvaluatorHoldout: Processed 5965 (100.0%) in 2.09 sec. Users per second: 2859\n"
     ]
    },
    {
     "name": "stderr",
     "output_type": "stream",
     "text": [
      "[I 2023-07-26 18:55:02,230] Trial 30 finished with value: 0.07671185087614307 and parameters: {'topK': 54, 'shrink': 15, 'similarity': 'cosine', 'normalize': True, 'feature_weighting': 'none'}. Best is trial 3 with value: 0.09149159781263762.\n"
     ]
    },
    {
     "name": "stdout",
     "output_type": "stream",
     "text": [
      "Unable to load Cython Compute_Similarity, reverting to Python\n",
      "Similarity column 3883 (100.0%), 4356.40 column/sec. Elapsed time 0.89 sec\n",
      "EvaluatorHoldout: Processed 5965 (100.0%) in 2.10 sec. Users per second: 2834\n"
     ]
    },
    {
     "name": "stderr",
     "output_type": "stream",
     "text": [
      "[I 2023-07-26 18:55:05,267] Trial 31 finished with value: 0.08522308040287972 and parameters: {'topK': 56, 'shrink': 40, 'similarity': 'cosine', 'normalize': True, 'feature_weighting': 'TF-IDF'}. Best is trial 3 with value: 0.09149159781263762.\n"
     ]
    },
    {
     "name": "stdout",
     "output_type": "stream",
     "text": [
      "Unable to load Cython Compute_Similarity, reverting to Python\n",
      "Similarity column 3883 (100.0%), 4850.77 column/sec. Elapsed time 0.80 sec\n",
      "EvaluatorHoldout: Processed 5965 (100.0%) in 1.99 sec. Users per second: 2991\n"
     ]
    },
    {
     "name": "stderr",
     "output_type": "stream",
     "text": [
      "[I 2023-07-26 18:55:08,102] Trial 32 finished with value: 0.08390182812437653 and parameters: {'topK': 23, 'shrink': 90, 'similarity': 'cosine', 'normalize': True, 'feature_weighting': 'TF-IDF'}. Best is trial 3 with value: 0.09149159781263762.\n"
     ]
    },
    {
     "name": "stdout",
     "output_type": "stream",
     "text": [
      "Unable to load Cython Compute_Similarity, reverting to Python\n",
      "Similarity column 3883 (100.0%), 4405.41 column/sec. Elapsed time 0.88 sec\n"
     ]
    },
    {
     "name": "stderr",
     "output_type": "stream",
     "text": [
      "[W 2023-07-26 18:55:10,546] Trial 33 failed with parameters: {'topK': 38, 'shrink': 18, 'similarity': 'cosine', 'normalize': True, 'feature_weighting': 'TF-IDF'} because of the following error: KeyboardInterrupt().\n",
      "Traceback (most recent call last):\n",
      "  File \"/Users/lucaortolomo/opt/anaconda3/envs/tesi/lib/python3.8/site-packages/optuna/study/_optimize.py\", line 200, in _run_trial\n",
      "    value_or_values = func(trial)\n",
      "  File \"/var/folders/vy/ssvybtks5ms1n3l5ldrh_hv40000gn/T/ipykernel_60550/3884821255.py\", line 18, in objective\n",
      "    result_df, _ = evaluator_validation.evaluateRecommender(recommender_instance)\n",
      "  File \"/Users/lucaortolomo/Desktop/TESI/Thesis_DiffusionRecommender-main/Evaluation/Evaluator.py\", line 276, in evaluateRecommender\n",
      "    results_dict = self._run_evaluation_on_selected_users(recommender_object, self.users_to_evaluate)\n",
      "  File \"/Users/lucaortolomo/Desktop/TESI/Thesis_DiffusionRecommender-main/Evaluation/Evaluator.py\", line 484, in _run_evaluation_on_selected_users\n",
      "    results_dict = self._compute_metrics_on_recommendation_list(test_user_batch_array = test_user_batch_array,\n",
      "  File \"/Users/lucaortolomo/Desktop/TESI/Thesis_DiffusionRecommender-main/Evaluation/Evaluator.py\", line 374, in _compute_metrics_on_recommendation_list\n",
      "    results_current_cutoff[EvaluatorMetrics.HIT_RATE.value].add_recommendations(is_relevant_current_cutoff)\n",
      "  File \"/Users/lucaortolomo/Desktop/TESI/Thesis_DiffusionRecommender-main/Evaluation/metrics.py\", line 180, in add_recommendations\n",
      "    self.cumulative_HR += np.any(is_relevant)\n",
      "KeyboardInterrupt\n",
      "[W 2023-07-26 18:55:10,549] Trial 33 failed with value None.\n"
     ]
    },
    {
     "ename": "KeyboardInterrupt",
     "evalue": "",
     "output_type": "error",
     "traceback": [
      "\u001b[0;31m---------------------------------------------------------------------------\u001b[0m",
      "\u001b[0;31mKeyboardInterrupt\u001b[0m                         Traceback (most recent call last)",
      "Cell \u001b[0;32mIn[7], line 16\u001b[0m\n\u001b[1;32m     14\u001b[0m \u001b[39m# Create the study and run optimization\u001b[39;00m\n\u001b[1;32m     15\u001b[0m study \u001b[39m=\u001b[39m optuna\u001b[39m.\u001b[39mcreate_study(direction\u001b[39m=\u001b[39m\u001b[39m\"\u001b[39m\u001b[39mmaximize\u001b[39m\u001b[39m\"\u001b[39m)\n\u001b[0;32m---> 16\u001b[0m study\u001b[39m.\u001b[39;49moptimize(objective, n_trials\u001b[39m=\u001b[39;49m\u001b[39m150\u001b[39;49m)\n",
      "File \u001b[0;32m~/opt/anaconda3/envs/tesi/lib/python3.8/site-packages/optuna/study/study.py:443\u001b[0m, in \u001b[0;36mStudy.optimize\u001b[0;34m(self, func, n_trials, timeout, n_jobs, catch, callbacks, gc_after_trial, show_progress_bar)\u001b[0m\n\u001b[1;32m    339\u001b[0m \u001b[39mdef\u001b[39;00m \u001b[39moptimize\u001b[39m(\n\u001b[1;32m    340\u001b[0m     \u001b[39mself\u001b[39m,\n\u001b[1;32m    341\u001b[0m     func: ObjectiveFuncType,\n\u001b[0;32m   (...)\u001b[0m\n\u001b[1;32m    348\u001b[0m     show_progress_bar: \u001b[39mbool\u001b[39m \u001b[39m=\u001b[39m \u001b[39mFalse\u001b[39;00m,\n\u001b[1;32m    349\u001b[0m ) \u001b[39m-\u001b[39m\u001b[39m>\u001b[39m \u001b[39mNone\u001b[39;00m:\n\u001b[1;32m    350\u001b[0m     \u001b[39m\"\"\"Optimize an objective function.\u001b[39;00m\n\u001b[1;32m    351\u001b[0m \n\u001b[1;32m    352\u001b[0m \u001b[39m    Optimization is done by choosing a suitable set of hyperparameter values from a given\u001b[39;00m\n\u001b[0;32m   (...)\u001b[0m\n\u001b[1;32m    440\u001b[0m \u001b[39m            If nested invocation of this method occurs.\u001b[39;00m\n\u001b[1;32m    441\u001b[0m \u001b[39m    \"\"\"\u001b[39;00m\n\u001b[0;32m--> 443\u001b[0m     _optimize(\n\u001b[1;32m    444\u001b[0m         study\u001b[39m=\u001b[39;49m\u001b[39mself\u001b[39;49m,\n\u001b[1;32m    445\u001b[0m         func\u001b[39m=\u001b[39;49mfunc,\n\u001b[1;32m    446\u001b[0m         n_trials\u001b[39m=\u001b[39;49mn_trials,\n\u001b[1;32m    447\u001b[0m         timeout\u001b[39m=\u001b[39;49mtimeout,\n\u001b[1;32m    448\u001b[0m         n_jobs\u001b[39m=\u001b[39;49mn_jobs,\n\u001b[1;32m    449\u001b[0m         catch\u001b[39m=\u001b[39;49m\u001b[39mtuple\u001b[39;49m(catch) \u001b[39mif\u001b[39;49;00m \u001b[39misinstance\u001b[39;49m(catch, Iterable) \u001b[39melse\u001b[39;49;00m (catch,),\n\u001b[1;32m    450\u001b[0m         callbacks\u001b[39m=\u001b[39;49mcallbacks,\n\u001b[1;32m    451\u001b[0m         gc_after_trial\u001b[39m=\u001b[39;49mgc_after_trial,\n\u001b[1;32m    452\u001b[0m         show_progress_bar\u001b[39m=\u001b[39;49mshow_progress_bar,\n\u001b[1;32m    453\u001b[0m     )\n",
      "File \u001b[0;32m~/opt/anaconda3/envs/tesi/lib/python3.8/site-packages/optuna/study/_optimize.py:66\u001b[0m, in \u001b[0;36m_optimize\u001b[0;34m(study, func, n_trials, timeout, n_jobs, catch, callbacks, gc_after_trial, show_progress_bar)\u001b[0m\n\u001b[1;32m     64\u001b[0m \u001b[39mtry\u001b[39;00m:\n\u001b[1;32m     65\u001b[0m     \u001b[39mif\u001b[39;00m n_jobs \u001b[39m==\u001b[39m \u001b[39m1\u001b[39m:\n\u001b[0;32m---> 66\u001b[0m         _optimize_sequential(\n\u001b[1;32m     67\u001b[0m             study,\n\u001b[1;32m     68\u001b[0m             func,\n\u001b[1;32m     69\u001b[0m             n_trials,\n\u001b[1;32m     70\u001b[0m             timeout,\n\u001b[1;32m     71\u001b[0m             catch,\n\u001b[1;32m     72\u001b[0m             callbacks,\n\u001b[1;32m     73\u001b[0m             gc_after_trial,\n\u001b[1;32m     74\u001b[0m             reseed_sampler_rng\u001b[39m=\u001b[39;49m\u001b[39mFalse\u001b[39;49;00m,\n\u001b[1;32m     75\u001b[0m             time_start\u001b[39m=\u001b[39;49m\u001b[39mNone\u001b[39;49;00m,\n\u001b[1;32m     76\u001b[0m             progress_bar\u001b[39m=\u001b[39;49mprogress_bar,\n\u001b[1;32m     77\u001b[0m         )\n\u001b[1;32m     78\u001b[0m     \u001b[39melse\u001b[39;00m:\n\u001b[1;32m     79\u001b[0m         \u001b[39mif\u001b[39;00m n_jobs \u001b[39m==\u001b[39m \u001b[39m-\u001b[39m\u001b[39m1\u001b[39m:\n",
      "File \u001b[0;32m~/opt/anaconda3/envs/tesi/lib/python3.8/site-packages/optuna/study/_optimize.py:163\u001b[0m, in \u001b[0;36m_optimize_sequential\u001b[0;34m(study, func, n_trials, timeout, catch, callbacks, gc_after_trial, reseed_sampler_rng, time_start, progress_bar)\u001b[0m\n\u001b[1;32m    160\u001b[0m         \u001b[39mbreak\u001b[39;00m\n\u001b[1;32m    162\u001b[0m \u001b[39mtry\u001b[39;00m:\n\u001b[0;32m--> 163\u001b[0m     frozen_trial \u001b[39m=\u001b[39m _run_trial(study, func, catch)\n\u001b[1;32m    164\u001b[0m \u001b[39mfinally\u001b[39;00m:\n\u001b[1;32m    165\u001b[0m     \u001b[39m# The following line mitigates memory problems that can be occurred in some\u001b[39;00m\n\u001b[1;32m    166\u001b[0m     \u001b[39m# environments (e.g., services that use computing containers such as GitHub Actions).\u001b[39;00m\n\u001b[1;32m    167\u001b[0m     \u001b[39m# Please refer to the following PR for further details:\u001b[39;00m\n\u001b[1;32m    168\u001b[0m     \u001b[39m# https://github.com/optuna/optuna/pull/325.\u001b[39;00m\n\u001b[1;32m    169\u001b[0m     \u001b[39mif\u001b[39;00m gc_after_trial:\n",
      "File \u001b[0;32m~/opt/anaconda3/envs/tesi/lib/python3.8/site-packages/optuna/study/_optimize.py:251\u001b[0m, in \u001b[0;36m_run_trial\u001b[0;34m(study, func, catch)\u001b[0m\n\u001b[1;32m    244\u001b[0m         \u001b[39massert\u001b[39;00m \u001b[39mFalse\u001b[39;00m, \u001b[39m\"\u001b[39m\u001b[39mShould not reach.\u001b[39m\u001b[39m\"\u001b[39m\n\u001b[1;32m    246\u001b[0m \u001b[39mif\u001b[39;00m (\n\u001b[1;32m    247\u001b[0m     frozen_trial\u001b[39m.\u001b[39mstate \u001b[39m==\u001b[39m TrialState\u001b[39m.\u001b[39mFAIL\n\u001b[1;32m    248\u001b[0m     \u001b[39mand\u001b[39;00m func_err \u001b[39mis\u001b[39;00m \u001b[39mnot\u001b[39;00m \u001b[39mNone\u001b[39;00m\n\u001b[1;32m    249\u001b[0m     \u001b[39mand\u001b[39;00m \u001b[39mnot\u001b[39;00m \u001b[39misinstance\u001b[39m(func_err, catch)\n\u001b[1;32m    250\u001b[0m ):\n\u001b[0;32m--> 251\u001b[0m     \u001b[39mraise\u001b[39;00m func_err\n\u001b[1;32m    252\u001b[0m \u001b[39mreturn\u001b[39;00m frozen_trial\n",
      "File \u001b[0;32m~/opt/anaconda3/envs/tesi/lib/python3.8/site-packages/optuna/study/_optimize.py:200\u001b[0m, in \u001b[0;36m_run_trial\u001b[0;34m(study, func, catch)\u001b[0m\n\u001b[1;32m    198\u001b[0m \u001b[39mwith\u001b[39;00m get_heartbeat_thread(trial\u001b[39m.\u001b[39m_trial_id, study\u001b[39m.\u001b[39m_storage):\n\u001b[1;32m    199\u001b[0m     \u001b[39mtry\u001b[39;00m:\n\u001b[0;32m--> 200\u001b[0m         value_or_values \u001b[39m=\u001b[39m func(trial)\n\u001b[1;32m    201\u001b[0m     \u001b[39mexcept\u001b[39;00m exceptions\u001b[39m.\u001b[39mTrialPruned \u001b[39mas\u001b[39;00m e:\n\u001b[1;32m    202\u001b[0m         \u001b[39m# TODO(mamu): Handle multi-objective cases.\u001b[39;00m\n\u001b[1;32m    203\u001b[0m         state \u001b[39m=\u001b[39m TrialState\u001b[39m.\u001b[39mPRUNED\n",
      "Cell \u001b[0;32mIn[4], line 18\u001b[0m, in \u001b[0;36mcreate_objective_d.<locals>.objective\u001b[0;34m(trial)\u001b[0m\n\u001b[1;32m     15\u001b[0m \u001b[39m# Evaluate recommender\u001b[39;00m\n\u001b[1;32m     16\u001b[0m user_id_array \u001b[39m=\u001b[39m np\u001b[39m.\u001b[39marange(URM_validation\u001b[39m.\u001b[39mshape[\u001b[39m0\u001b[39m])\n\u001b[0;32m---> 18\u001b[0m result_df, _ \u001b[39m=\u001b[39m evaluator_validation\u001b[39m.\u001b[39;49mevaluateRecommender(recommender_instance)\n\u001b[1;32m     19\u001b[0m result_df[\u001b[39m'\u001b[39m\u001b[39mhyperparams\u001b[39m\u001b[39m'\u001b[39m] \u001b[39m=\u001b[39m \u001b[39mstr\u001b[39m(hyperparams)\n\u001b[1;32m     21\u001b[0m \u001b[39m# Assuming df_row is the DataFrame containing the row to append\u001b[39;00m\n",
      "File \u001b[0;32m~/Desktop/TESI/Thesis_DiffusionRecommender-main/Evaluation/Evaluator.py:276\u001b[0m, in \u001b[0;36mEvaluator.evaluateRecommender\u001b[0;34m(self, recommender_object)\u001b[0m\n\u001b[1;32m    273\u001b[0m \u001b[39mself\u001b[39m\u001b[39m.\u001b[39m_start_time_print \u001b[39m=\u001b[39m time\u001b[39m.\u001b[39mtime()\n\u001b[1;32m    274\u001b[0m \u001b[39mself\u001b[39m\u001b[39m.\u001b[39m_n_users_evaluated \u001b[39m=\u001b[39m \u001b[39m0\u001b[39m\n\u001b[0;32m--> 276\u001b[0m results_dict \u001b[39m=\u001b[39m \u001b[39mself\u001b[39;49m\u001b[39m.\u001b[39;49m_run_evaluation_on_selected_users(recommender_object, \u001b[39mself\u001b[39;49m\u001b[39m.\u001b[39;49musers_to_evaluate)\n\u001b[1;32m    279\u001b[0m \u001b[39mif\u001b[39;00m \u001b[39mself\u001b[39m\u001b[39m.\u001b[39m_n_users_evaluated \u001b[39m>\u001b[39m \u001b[39m0\u001b[39m:\n\u001b[1;32m    281\u001b[0m     \u001b[39mfor\u001b[39;00m cutoff \u001b[39min\u001b[39;00m \u001b[39mself\u001b[39m\u001b[39m.\u001b[39mcutoff_list:\n",
      "File \u001b[0;32m~/Desktop/TESI/Thesis_DiffusionRecommender-main/Evaluation/Evaluator.py:484\u001b[0m, in \u001b[0;36mEvaluatorHoldout._run_evaluation_on_selected_users\u001b[0;34m(self, recommender_object, users_to_evaluate, block_size)\u001b[0m\n\u001b[1;32m    475\u001b[0m     \u001b[39m# Compute predictions for a batch of users using vectorization, much more efficient than computing it one at a time\u001b[39;00m\n\u001b[1;32m    476\u001b[0m     recommended_items_batch_list, scores_batch \u001b[39m=\u001b[39m recommender_object\u001b[39m.\u001b[39mrecommend(test_user_batch_array,\n\u001b[1;32m    477\u001b[0m                                                               remove_seen_flag\u001b[39m=\u001b[39m\u001b[39mself\u001b[39m\u001b[39m.\u001b[39mexclude_seen,\n\u001b[1;32m    478\u001b[0m                                                               cutoff \u001b[39m=\u001b[39m \u001b[39mself\u001b[39m\u001b[39m.\u001b[39mmax_cutoff,\n\u001b[0;32m   (...)\u001b[0m\n\u001b[1;32m    481\u001b[0m                                                               return_scores \u001b[39m=\u001b[39m \u001b[39mTrue\u001b[39;00m\n\u001b[1;32m    482\u001b[0m                                                              )\n\u001b[0;32m--> 484\u001b[0m     results_dict \u001b[39m=\u001b[39m \u001b[39mself\u001b[39;49m\u001b[39m.\u001b[39;49m_compute_metrics_on_recommendation_list(test_user_batch_array \u001b[39m=\u001b[39;49m test_user_batch_array,\n\u001b[1;32m    485\u001b[0m                                                  recommended_items_batch_list \u001b[39m=\u001b[39;49m recommended_items_batch_list,\n\u001b[1;32m    486\u001b[0m                                                  scores_batch \u001b[39m=\u001b[39;49m scores_batch,\n\u001b[1;32m    487\u001b[0m                                                  results_dict \u001b[39m=\u001b[39;49m results_dict)\n\u001b[1;32m    490\u001b[0m \u001b[39mreturn\u001b[39;00m results_dict\n",
      "File \u001b[0;32m~/Desktop/TESI/Thesis_DiffusionRecommender-main/Evaluation/Evaluator.py:374\u001b[0m, in \u001b[0;36mEvaluator._compute_metrics_on_recommendation_list\u001b[0;34m(self, test_user_batch_array, recommended_items_batch_list, scores_batch, results_dict)\u001b[0m\n\u001b[1;32m    372\u001b[0m results_current_cutoff[EvaluatorMetrics\u001b[39m.\u001b[39mMAP\u001b[39m.\u001b[39mvalue]\u001b[39m.\u001b[39madd_recommendations(is_relevant_current_cutoff, relevant_items)\n\u001b[1;32m    373\u001b[0m results_current_cutoff[EvaluatorMetrics\u001b[39m.\u001b[39mMAP_MIN_DEN\u001b[39m.\u001b[39mvalue]\u001b[39m.\u001b[39madd_recommendations(is_relevant_current_cutoff, relevant_items)\n\u001b[0;32m--> 374\u001b[0m results_current_cutoff[EvaluatorMetrics\u001b[39m.\u001b[39;49mHIT_RATE\u001b[39m.\u001b[39;49mvalue]\u001b[39m.\u001b[39;49madd_recommendations(is_relevant_current_cutoff)\n\u001b[1;32m    376\u001b[0m results_current_cutoff[EvaluatorMetrics\u001b[39m.\u001b[39mNOVELTY\u001b[39m.\u001b[39mvalue]\u001b[39m.\u001b[39madd_recommendations(recommended_items_current_cutoff)\n\u001b[1;32m    377\u001b[0m results_current_cutoff[EvaluatorMetrics\u001b[39m.\u001b[39mAVERAGE_POPULARITY\u001b[39m.\u001b[39mvalue]\u001b[39m.\u001b[39madd_recommendations(recommended_items_current_cutoff)\n",
      "File \u001b[0;32m~/Desktop/TESI/Thesis_DiffusionRecommender-main/Evaluation/metrics.py:180\u001b[0m, in \u001b[0;36mHIT_RATE.add_recommendations\u001b[0;34m(self, is_relevant)\u001b[0m\n\u001b[1;32m    179\u001b[0m \u001b[39mdef\u001b[39;00m \u001b[39madd_recommendations\u001b[39m(\u001b[39mself\u001b[39m, is_relevant):\n\u001b[0;32m--> 180\u001b[0m     \u001b[39mself\u001b[39m\u001b[39m.\u001b[39mcumulative_HR \u001b[39m+\u001b[39m\u001b[39m=\u001b[39m np\u001b[39m.\u001b[39many(is_relevant)\n\u001b[1;32m    181\u001b[0m     \u001b[39mself\u001b[39m\u001b[39m.\u001b[39mn_users \u001b[39m+\u001b[39m\u001b[39m=\u001b[39m \u001b[39m1\u001b[39m\n",
      "\u001b[0;31mKeyboardInterrupt\u001b[0m: "
     ]
    }
   ],
   "source": [
    "\n",
    "# Define the hyperparameter space\n",
    "itemknn_hyperparam_space = {\n",
    "    \"topK\": list(range(10, 100)),\n",
    "    \"shrink\": list(range(10, 100)),\n",
    "    \"similarity\": [\"cosine\", \"jaccard\"],\n",
    "    \"normalize\": [True, False],\n",
    "    \"feature_weighting\": [\"BM25\", \"TF-IDF\", \"none\"]\n",
    "}\n",
    "\n",
    "itemKNNinstance = ItemKNNCFRecommender(URM_train= URM_train)\n",
    "# Create an objective function\n",
    "objective = create_objective_d(recommender_instance=itemKNNinstance, URM_train= URM_train, URM_validation=URM_validation, hyperparam_space=itemknn_hyperparam_space, evaluator_validation=evaluator_validation)\n",
    "\n",
    "# Create the study and run optimization\n",
    "study = optuna.create_study(direction=\"maximize\")\n",
    "study.optimize(objective, n_trials=150)\n"
   ]
  },
  {
   "cell_type": "code",
   "execution_count": null,
   "metadata": {},
   "outputs": [
    {
     "data": {
      "text/plain": [
       "'ItemKNNCFRecommender'"
      ]
     },
     "execution_count": 98,
     "metadata": {},
     "output_type": "execute_result"
    }
   ],
   "source": []
  },
  {
   "cell_type": "code",
   "execution_count": null,
   "metadata": {},
   "outputs": [],
   "source": [
    "{'topK': 96, 'shrink': 59, 'similarity': 'cosine', 'normalize': True, 'feature_weighting': 'TF-IDF'}"
   ]
  },
  {
   "cell_type": "code",
   "execution_count": null,
   "metadata": {},
   "outputs": [],
   "source": []
  },
  {
   "cell_type": "code",
   "execution_count": null,
   "metadata": {},
   "outputs": [
    {
     "name": "stdout",
     "output_type": "stream",
     "text": [
      "DiffusionAutoencoderRecommender: URM Detected 204 ( 5.3%) items with no interactions.\n",
      "DiffusionAutoencoderRecommender: Architecture: [3883, 245]\n",
      "fit!!!\n",
      "429\n",
      "DiffusionAutoencoderRecommender: Epoch 1, loss 2.08E+01\n",
      "DiffusionAutoencoderRecommender: Epoch 1 of 240. Elapsed time 2.12 sec\n",
      "DiffusionAutoencoderRecommender: Epoch 2, loss 2.02E+01\n",
      "DiffusionAutoencoderRecommender: Epoch 2 of 240. Elapsed time 4.29 sec\n",
      "DiffusionAutoencoderRecommender: Epoch 3, loss 1.97E+01\n",
      "DiffusionAutoencoderRecommender: Epoch 3 of 240. Elapsed time 6.41 sec\n",
      "DiffusionAutoencoderRecommender: Epoch 4, loss 1.97E+01\n",
      "DiffusionAutoencoderRecommender: Epoch 4 of 240. Elapsed time 8.53 sec\n",
      "DiffusionAutoencoderRecommender: Epoch 5, loss 1.93E+01\n",
      "DiffusionAutoencoderRecommender: Epoch 5 of 240. Elapsed time 10.64 sec\n",
      "DiffusionAutoencoderRecommender: Epoch 6, loss 1.97E+01\n",
      "DiffusionAutoencoderRecommender: Epoch 6 of 240. Elapsed time 12.73 sec\n",
      "DiffusionAutoencoderRecommender: Epoch 7, loss 1.97E+01\n",
      "DiffusionAutoencoderRecommender: Epoch 7 of 240. Elapsed time 14.86 sec\n",
      "DiffusionAutoencoderRecommender: Epoch 8, loss 1.93E+01\n",
      "DiffusionAutoencoderRecommender: Epoch 8 of 240. Elapsed time 16.93 sec\n",
      "DiffusionAutoencoderRecommender: Epoch 9, loss 1.96E+01\n",
      "DiffusionAutoencoderRecommender: Epoch 9 of 240. Elapsed time 19.04 sec\n",
      "DiffusionAutoencoderRecommender: Epoch 10, loss 2.01E+01\n",
      "DiffusionAutoencoderRecommender: Epoch 10 of 240. Elapsed time 21.16 sec\n",
      "DiffusionAutoencoderRecommender: Epoch 11, loss 1.96E+01\n",
      "DiffusionAutoencoderRecommender: Epoch 11 of 240. Elapsed time 23.25 sec\n",
      "DiffusionAutoencoderRecommender: Epoch 12, loss 1.96E+01\n",
      "DiffusionAutoencoderRecommender: Epoch 12 of 240. Elapsed time 25.33 sec\n",
      "DiffusionAutoencoderRecommender: Epoch 13, loss 1.94E+01\n",
      "DiffusionAutoencoderRecommender: Epoch 13 of 240. Elapsed time 27.45 sec\n",
      "DiffusionAutoencoderRecommender: Epoch 14, loss 1.90E+01\n",
      "DiffusionAutoencoderRecommender: Epoch 14 of 240. Elapsed time 29.52 sec\n",
      "DiffusionAutoencoderRecommender: Epoch 15, loss 1.95E+01\n",
      "DiffusionAutoencoderRecommender: Epoch 15 of 240. Elapsed time 31.58 sec\n",
      "DiffusionAutoencoderRecommender: Epoch 16, loss 1.96E+01\n",
      "DiffusionAutoencoderRecommender: Epoch 16 of 240. Elapsed time 33.67 sec\n",
      "DiffusionAutoencoderRecommender: Epoch 17, loss 1.92E+01\n",
      "DiffusionAutoencoderRecommender: Epoch 17 of 240. Elapsed time 35.74 sec\n",
      "DiffusionAutoencoderRecommender: Epoch 18, loss 1.94E+01\n",
      "DiffusionAutoencoderRecommender: Epoch 18 of 240. Elapsed time 37.89 sec\n",
      "DiffusionAutoencoderRecommender: Epoch 19, loss 1.96E+01\n",
      "DiffusionAutoencoderRecommender: Epoch 19 of 240. Elapsed time 40.01 sec\n",
      "DiffusionAutoencoderRecommender: Epoch 20, loss 1.92E+01\n",
      "DiffusionAutoencoderRecommender: Epoch 20 of 240. Elapsed time 42.11 sec\n",
      "DiffusionAutoencoderRecommender: Epoch 21, loss 1.89E+01\n",
      "DiffusionAutoencoderRecommender: Epoch 21 of 240. Elapsed time 44.24 sec\n",
      "DiffusionAutoencoderRecommender: Epoch 22, loss 1.88E+01\n",
      "DiffusionAutoencoderRecommender: Epoch 22 of 240. Elapsed time 46.36 sec\n",
      "DiffusionAutoencoderRecommender: Epoch 23, loss 1.96E+01\n",
      "DiffusionAutoencoderRecommender: Epoch 23 of 240. Elapsed time 48.48 sec\n",
      "DiffusionAutoencoderRecommender: Epoch 24, loss 1.92E+01\n",
      "DiffusionAutoencoderRecommender: Epoch 24 of 240. Elapsed time 50.58 sec\n",
      "DiffusionAutoencoderRecommender: Epoch 25, loss 1.91E+01\n",
      "DiffusionAutoencoderRecommender: Epoch 25 of 240. Elapsed time 52.67 sec\n",
      "DiffusionAutoencoderRecommender: Epoch 26, loss 1.90E+01\n",
      "DiffusionAutoencoderRecommender: Epoch 26 of 240. Elapsed time 54.76 sec\n",
      "DiffusionAutoencoderRecommender: Epoch 27, loss 1.89E+01\n",
      "DiffusionAutoencoderRecommender: Epoch 27 of 240. Elapsed time 56.85 sec\n",
      "DiffusionAutoencoderRecommender: Epoch 28, loss 1.90E+01\n",
      "DiffusionAutoencoderRecommender: Epoch 28 of 240. Elapsed time 58.93 sec\n",
      "DiffusionAutoencoderRecommender: Epoch 29, loss 1.90E+01\n",
      "DiffusionAutoencoderRecommender: Epoch 29 of 240. Elapsed time 1.02 min\n",
      "DiffusionAutoencoderRecommender: Epoch 30, loss 1.90E+01\n",
      "DiffusionAutoencoderRecommender: Epoch 30 of 240. Elapsed time 1.05 min\n",
      "DiffusionAutoencoderRecommender: Epoch 31, loss 1.91E+01\n",
      "DiffusionAutoencoderRecommender: Epoch 31 of 240. Elapsed time 1.09 min\n",
      "DiffusionAutoencoderRecommender: Epoch 32, loss 1.93E+01\n",
      "DiffusionAutoencoderRecommender: Epoch 32 of 240. Elapsed time 1.12 min\n",
      "DiffusionAutoencoderRecommender: Epoch 33, loss 1.89E+01\n",
      "DiffusionAutoencoderRecommender: Epoch 33 of 240. Elapsed time 1.16 min\n",
      "DiffusionAutoencoderRecommender: Epoch 34, loss 1.95E+01\n",
      "DiffusionAutoencoderRecommender: Epoch 34 of 240. Elapsed time 1.19 min\n",
      "DiffusionAutoencoderRecommender: Epoch 35, loss 1.91E+01\n",
      "DiffusionAutoencoderRecommender: Epoch 35 of 240. Elapsed time 1.23 min\n",
      "DiffusionAutoencoderRecommender: Epoch 36, loss 1.87E+01\n",
      "DiffusionAutoencoderRecommender: Epoch 36 of 240. Elapsed time 1.26 min\n",
      "DiffusionAutoencoderRecommender: Epoch 37, loss 1.87E+01\n",
      "DiffusionAutoencoderRecommender: Epoch 37 of 240. Elapsed time 1.30 min\n",
      "DiffusionAutoencoderRecommender: Epoch 38, loss 1.85E+01\n",
      "DiffusionAutoencoderRecommender: Epoch 38 of 240. Elapsed time 1.33 min\n",
      "DiffusionAutoencoderRecommender: Epoch 39, loss 1.89E+01\n",
      "DiffusionAutoencoderRecommender: Epoch 39 of 240. Elapsed time 1.37 min\n",
      "DiffusionAutoencoderRecommender: Epoch 40, loss 1.87E+01\n",
      "DiffusionAutoencoderRecommender: Epoch 40 of 240. Elapsed time 1.41 min\n",
      "DiffusionAutoencoderRecommender: Epoch 41, loss 1.88E+01\n",
      "DiffusionAutoencoderRecommender: Epoch 41 of 240. Elapsed time 1.44 min\n",
      "DiffusionAutoencoderRecommender: Epoch 42, loss 1.88E+01\n",
      "DiffusionAutoencoderRecommender: Epoch 42 of 240. Elapsed time 1.48 min\n",
      "DiffusionAutoencoderRecommender: Epoch 43, loss 1.89E+01\n",
      "DiffusionAutoencoderRecommender: Epoch 43 of 240. Elapsed time 1.51 min\n",
      "DiffusionAutoencoderRecommender: Epoch 44, loss 1.89E+01\n",
      "DiffusionAutoencoderRecommender: Epoch 44 of 240. Elapsed time 1.55 min\n",
      "DiffusionAutoencoderRecommender: Epoch 45, loss 1.87E+01\n",
      "DiffusionAutoencoderRecommender: Epoch 45 of 240. Elapsed time 1.58 min\n",
      "DiffusionAutoencoderRecommender: Epoch 46, loss 1.90E+01\n",
      "DiffusionAutoencoderRecommender: Epoch 46 of 240. Elapsed time 1.62 min\n",
      "DiffusionAutoencoderRecommender: Epoch 47, loss 1.85E+01\n",
      "DiffusionAutoencoderRecommender: Epoch 47 of 240. Elapsed time 1.65 min\n",
      "DiffusionAutoencoderRecommender: Epoch 48, loss 1.89E+01\n",
      "DiffusionAutoencoderRecommender: Epoch 48 of 240. Elapsed time 1.69 min\n",
      "DiffusionAutoencoderRecommender: Epoch 49, loss 1.94E+01\n",
      "DiffusionAutoencoderRecommender: Epoch 49 of 240. Elapsed time 1.73 min\n",
      "DiffusionAutoencoderRecommender: Epoch 50, loss 1.89E+01\n",
      "DiffusionAutoencoderRecommender: Epoch 50 of 240. Elapsed time 1.76 min\n",
      "DiffusionAutoencoderRecommender: Epoch 51, loss 1.91E+01\n",
      "DiffusionAutoencoderRecommender: Epoch 51 of 240. Elapsed time 1.80 min\n",
      "DiffusionAutoencoderRecommender: Epoch 52, loss 1.89E+01\n",
      "DiffusionAutoencoderRecommender: Epoch 52 of 240. Elapsed time 1.83 min\n",
      "DiffusionAutoencoderRecommender: Epoch 53, loss 1.89E+01\n",
      "DiffusionAutoencoderRecommender: Epoch 53 of 240. Elapsed time 1.87 min\n",
      "DiffusionAutoencoderRecommender: Epoch 54, loss 1.92E+01\n",
      "DiffusionAutoencoderRecommender: Epoch 54 of 240. Elapsed time 1.90 min\n",
      "DiffusionAutoencoderRecommender: Epoch 55, loss 1.87E+01\n",
      "DiffusionAutoencoderRecommender: Epoch 55 of 240. Elapsed time 1.94 min\n",
      "DiffusionAutoencoderRecommender: Epoch 56, loss 1.81E+01\n",
      "DiffusionAutoencoderRecommender: Epoch 56 of 240. Elapsed time 1.97 min\n",
      "DiffusionAutoencoderRecommender: Epoch 57, loss 1.89E+01\n",
      "DiffusionAutoencoderRecommender: Epoch 57 of 240. Elapsed time 2.01 min\n",
      "DiffusionAutoencoderRecommender: Epoch 58, loss 1.90E+01\n",
      "DiffusionAutoencoderRecommender: Epoch 58 of 240. Elapsed time 2.04 min\n",
      "DiffusionAutoencoderRecommender: Epoch 59, loss 1.90E+01\n",
      "DiffusionAutoencoderRecommender: Epoch 59 of 240. Elapsed time 2.07 min\n",
      "DiffusionAutoencoderRecommender: Epoch 60, loss 1.92E+01\n",
      "DiffusionAutoencoderRecommender: Epoch 60 of 240. Elapsed time 2.11 min\n",
      "DiffusionAutoencoderRecommender: Epoch 61, loss 1.83E+01\n",
      "DiffusionAutoencoderRecommender: Epoch 61 of 240. Elapsed time 2.14 min\n",
      "DiffusionAutoencoderRecommender: Epoch 62, loss 1.89E+01\n",
      "DiffusionAutoencoderRecommender: Epoch 62 of 240. Elapsed time 2.18 min\n",
      "DiffusionAutoencoderRecommender: Epoch 63, loss 1.85E+01\n",
      "DiffusionAutoencoderRecommender: Epoch 63 of 240. Elapsed time 2.21 min\n",
      "DiffusionAutoencoderRecommender: Epoch 64, loss 1.89E+01\n",
      "DiffusionAutoencoderRecommender: Epoch 64 of 240. Elapsed time 2.24 min\n",
      "DiffusionAutoencoderRecommender: Epoch 65, loss 1.89E+01\n",
      "DiffusionAutoencoderRecommender: Epoch 65 of 240. Elapsed time 2.28 min\n",
      "DiffusionAutoencoderRecommender: Epoch 66, loss 1.85E+01\n",
      "DiffusionAutoencoderRecommender: Epoch 66 of 240. Elapsed time 2.31 min\n",
      "DiffusionAutoencoderRecommender: Epoch 67, loss 1.89E+01\n",
      "DiffusionAutoencoderRecommender: Epoch 67 of 240. Elapsed time 2.35 min\n",
      "DiffusionAutoencoderRecommender: Epoch 68, loss 1.90E+01\n",
      "DiffusionAutoencoderRecommender: Epoch 68 of 240. Elapsed time 2.38 min\n",
      "DiffusionAutoencoderRecommender: Epoch 69, loss 1.88E+01\n",
      "DiffusionAutoencoderRecommender: Epoch 69 of 240. Elapsed time 2.42 min\n",
      "DiffusionAutoencoderRecommender: Epoch 70, loss 1.83E+01\n",
      "DiffusionAutoencoderRecommender: Epoch 70 of 240. Elapsed time 2.45 min\n",
      "DiffusionAutoencoderRecommender: Epoch 71, loss 1.85E+01\n",
      "DiffusionAutoencoderRecommender: Epoch 71 of 240. Elapsed time 2.48 min\n",
      "DiffusionAutoencoderRecommender: Epoch 72, loss 1.85E+01\n",
      "DiffusionAutoencoderRecommender: Epoch 72 of 240. Elapsed time 2.52 min\n",
      "DiffusionAutoencoderRecommender: Epoch 73, loss 1.84E+01\n",
      "DiffusionAutoencoderRecommender: Epoch 73 of 240. Elapsed time 2.55 min\n",
      "DiffusionAutoencoderRecommender: Epoch 74, loss 1.86E+01\n",
      "DiffusionAutoencoderRecommender: Epoch 74 of 240. Elapsed time 2.59 min\n",
      "DiffusionAutoencoderRecommender: Epoch 75, loss 1.90E+01\n",
      "DiffusionAutoencoderRecommender: Epoch 75 of 240. Elapsed time 2.62 min\n",
      "DiffusionAutoencoderRecommender: Epoch 76, loss 1.87E+01\n",
      "DiffusionAutoencoderRecommender: Epoch 76 of 240. Elapsed time 2.66 min\n",
      "DiffusionAutoencoderRecommender: Epoch 77, loss 1.89E+01\n",
      "DiffusionAutoencoderRecommender: Epoch 77 of 240. Elapsed time 2.69 min\n",
      "DiffusionAutoencoderRecommender: Epoch 78, loss 1.88E+01\n",
      "DiffusionAutoencoderRecommender: Epoch 78 of 240. Elapsed time 2.72 min\n",
      "DiffusionAutoencoderRecommender: Epoch 79, loss 1.86E+01\n",
      "DiffusionAutoencoderRecommender: Epoch 79 of 240. Elapsed time 2.76 min\n",
      "DiffusionAutoencoderRecommender: Epoch 80, loss 1.87E+01\n",
      "DiffusionAutoencoderRecommender: Epoch 80 of 240. Elapsed time 2.79 min\n",
      "DiffusionAutoencoderRecommender: Epoch 81, loss 1.85E+01\n",
      "DiffusionAutoencoderRecommender: Epoch 81 of 240. Elapsed time 2.83 min\n",
      "DiffusionAutoencoderRecommender: Epoch 82, loss 1.83E+01\n",
      "DiffusionAutoencoderRecommender: Epoch 82 of 240. Elapsed time 2.86 min\n",
      "DiffusionAutoencoderRecommender: Epoch 83, loss 1.88E+01\n",
      "DiffusionAutoencoderRecommender: Epoch 83 of 240. Elapsed time 2.90 min\n",
      "DiffusionAutoencoderRecommender: Epoch 84, loss 1.87E+01\n",
      "DiffusionAutoencoderRecommender: Epoch 84 of 240. Elapsed time 2.93 min\n",
      "DiffusionAutoencoderRecommender: Epoch 85, loss 1.88E+01\n",
      "DiffusionAutoencoderRecommender: Epoch 85 of 240. Elapsed time 2.97 min\n",
      "DiffusionAutoencoderRecommender: Epoch 86, loss 1.84E+01\n",
      "DiffusionAutoencoderRecommender: Epoch 86 of 240. Elapsed time 3.00 min\n",
      "DiffusionAutoencoderRecommender: Epoch 87, loss 1.87E+01\n",
      "DiffusionAutoencoderRecommender: Epoch 87 of 240. Elapsed time 3.04 min\n",
      "DiffusionAutoencoderRecommender: Epoch 88, loss 1.87E+01\n",
      "DiffusionAutoencoderRecommender: Epoch 88 of 240. Elapsed time 3.07 min\n",
      "DiffusionAutoencoderRecommender: Epoch 89, loss 1.90E+01\n",
      "DiffusionAutoencoderRecommender: Epoch 89 of 240. Elapsed time 3.10 min\n",
      "DiffusionAutoencoderRecommender: Epoch 90, loss 1.86E+01\n",
      "DiffusionAutoencoderRecommender: Epoch 90 of 240. Elapsed time 3.14 min\n",
      "DiffusionAutoencoderRecommender: Epoch 91, loss 1.90E+01\n",
      "DiffusionAutoencoderRecommender: Epoch 91 of 240. Elapsed time 3.17 min\n",
      "DiffusionAutoencoderRecommender: Epoch 92, loss 1.85E+01\n",
      "DiffusionAutoencoderRecommender: Epoch 92 of 240. Elapsed time 3.21 min\n",
      "DiffusionAutoencoderRecommender: Epoch 93, loss 1.87E+01\n",
      "DiffusionAutoencoderRecommender: Epoch 93 of 240. Elapsed time 3.24 min\n",
      "DiffusionAutoencoderRecommender: Epoch 94, loss 1.84E+01\n",
      "DiffusionAutoencoderRecommender: Epoch 94 of 240. Elapsed time 3.28 min\n",
      "DiffusionAutoencoderRecommender: Epoch 95, loss 1.87E+01\n",
      "DiffusionAutoencoderRecommender: Epoch 95 of 240. Elapsed time 3.31 min\n",
      "DiffusionAutoencoderRecommender: Epoch 96, loss 1.86E+01\n",
      "DiffusionAutoencoderRecommender: Epoch 96 of 240. Elapsed time 3.35 min\n",
      "DiffusionAutoencoderRecommender: Epoch 97, loss 1.88E+01\n",
      "DiffusionAutoencoderRecommender: Epoch 97 of 240. Elapsed time 3.38 min\n",
      "DiffusionAutoencoderRecommender: Epoch 98, loss 1.86E+01\n",
      "DiffusionAutoencoderRecommender: Epoch 98 of 240. Elapsed time 3.42 min\n",
      "DiffusionAutoencoderRecommender: Epoch 99, loss 1.87E+01\n",
      "DiffusionAutoencoderRecommender: Epoch 99 of 240. Elapsed time 3.45 min\n",
      "DiffusionAutoencoderRecommender: Epoch 100, loss 1.84E+01\n",
      "DiffusionAutoencoderRecommender: Epoch 100 of 240. Elapsed time 3.49 min\n",
      "DiffusionAutoencoderRecommender: Epoch 101, loss 1.84E+01\n",
      "DiffusionAutoencoderRecommender: Epoch 101 of 240. Elapsed time 3.52 min\n",
      "DiffusionAutoencoderRecommender: Epoch 102, loss 1.85E+01\n",
      "DiffusionAutoencoderRecommender: Epoch 102 of 240. Elapsed time 3.56 min\n",
      "DiffusionAutoencoderRecommender: Epoch 103, loss 1.86E+01\n",
      "DiffusionAutoencoderRecommender: Epoch 103 of 240. Elapsed time 3.59 min\n",
      "DiffusionAutoencoderRecommender: Epoch 104, loss 1.86E+01\n",
      "DiffusionAutoencoderRecommender: Epoch 104 of 240. Elapsed time 3.62 min\n",
      "DiffusionAutoencoderRecommender: Epoch 105, loss 1.86E+01\n",
      "DiffusionAutoencoderRecommender: Epoch 105 of 240. Elapsed time 3.66 min\n",
      "DiffusionAutoencoderRecommender: Epoch 106, loss 1.85E+01\n",
      "DiffusionAutoencoderRecommender: Epoch 106 of 240. Elapsed time 3.70 min\n",
      "DiffusionAutoencoderRecommender: Epoch 107, loss 1.85E+01\n",
      "DiffusionAutoencoderRecommender: Epoch 107 of 240. Elapsed time 3.73 min\n",
      "DiffusionAutoencoderRecommender: Epoch 108, loss 1.84E+01\n",
      "DiffusionAutoencoderRecommender: Epoch 108 of 240. Elapsed time 3.77 min\n",
      "DiffusionAutoencoderRecommender: Epoch 109, loss 1.91E+01\n",
      "DiffusionAutoencoderRecommender: Epoch 109 of 240. Elapsed time 3.80 min\n",
      "DiffusionAutoencoderRecommender: Epoch 110, loss 1.85E+01\n",
      "DiffusionAutoencoderRecommender: Epoch 110 of 240. Elapsed time 3.84 min\n",
      "DiffusionAutoencoderRecommender: Epoch 111, loss 1.84E+01\n",
      "DiffusionAutoencoderRecommender: Epoch 111 of 240. Elapsed time 3.87 min\n",
      "DiffusionAutoencoderRecommender: Epoch 112, loss 1.84E+01\n",
      "DiffusionAutoencoderRecommender: Epoch 112 of 240. Elapsed time 3.91 min\n",
      "DiffusionAutoencoderRecommender: Epoch 113, loss 1.82E+01\n",
      "DiffusionAutoencoderRecommender: Epoch 113 of 240. Elapsed time 3.94 min\n",
      "DiffusionAutoencoderRecommender: Epoch 114, loss 1.84E+01\n",
      "DiffusionAutoencoderRecommender: Epoch 114 of 240. Elapsed time 3.98 min\n",
      "DiffusionAutoencoderRecommender: Epoch 115, loss 1.88E+01\n",
      "DiffusionAutoencoderRecommender: Epoch 115 of 240. Elapsed time 4.01 min\n",
      "DiffusionAutoencoderRecommender: Epoch 116, loss 1.91E+01\n",
      "DiffusionAutoencoderRecommender: Epoch 116 of 240. Elapsed time 4.05 min\n",
      "DiffusionAutoencoderRecommender: Epoch 117, loss 1.91E+01\n",
      "DiffusionAutoencoderRecommender: Epoch 117 of 240. Elapsed time 4.08 min\n",
      "DiffusionAutoencoderRecommender: Epoch 118, loss 1.83E+01\n",
      "DiffusionAutoencoderRecommender: Epoch 118 of 240. Elapsed time 4.12 min\n",
      "DiffusionAutoencoderRecommender: Epoch 119, loss 1.87E+01\n",
      "DiffusionAutoencoderRecommender: Epoch 119 of 240. Elapsed time 4.15 min\n",
      "DiffusionAutoencoderRecommender: Epoch 120, loss 1.87E+01\n",
      "DiffusionAutoencoderRecommender: Epoch 120 of 240. Elapsed time 4.19 min\n",
      "DiffusionAutoencoderRecommender: Epoch 121, loss 1.85E+01\n",
      "DiffusionAutoencoderRecommender: Epoch 121 of 240. Elapsed time 4.22 min\n",
      "DiffusionAutoencoderRecommender: Epoch 122, loss 1.85E+01\n",
      "DiffusionAutoencoderRecommender: Epoch 122 of 240. Elapsed time 4.26 min\n",
      "DiffusionAutoencoderRecommender: Epoch 123, loss 1.88E+01\n",
      "DiffusionAutoencoderRecommender: Epoch 123 of 240. Elapsed time 4.29 min\n",
      "DiffusionAutoencoderRecommender: Epoch 124, loss 1.84E+01\n",
      "DiffusionAutoencoderRecommender: Epoch 124 of 240. Elapsed time 4.33 min\n",
      "DiffusionAutoencoderRecommender: Epoch 125, loss 1.85E+01\n",
      "DiffusionAutoencoderRecommender: Epoch 125 of 240. Elapsed time 4.36 min\n",
      "DiffusionAutoencoderRecommender: Epoch 126, loss 1.83E+01\n",
      "DiffusionAutoencoderRecommender: Epoch 126 of 240. Elapsed time 4.40 min\n",
      "DiffusionAutoencoderRecommender: Epoch 127, loss 1.89E+01\n",
      "DiffusionAutoencoderRecommender: Epoch 127 of 240. Elapsed time 4.43 min\n",
      "DiffusionAutoencoderRecommender: Epoch 128, loss 1.90E+01\n",
      "DiffusionAutoencoderRecommender: Epoch 128 of 240. Elapsed time 4.47 min\n",
      "DiffusionAutoencoderRecommender: Epoch 129, loss 1.85E+01\n",
      "DiffusionAutoencoderRecommender: Epoch 129 of 240. Elapsed time 4.50 min\n",
      "DiffusionAutoencoderRecommender: Epoch 130, loss 1.84E+01\n",
      "DiffusionAutoencoderRecommender: Epoch 130 of 240. Elapsed time 4.53 min\n",
      "DiffusionAutoencoderRecommender: Epoch 131, loss 1.83E+01\n",
      "DiffusionAutoencoderRecommender: Epoch 131 of 240. Elapsed time 4.57 min\n",
      "DiffusionAutoencoderRecommender: Epoch 132, loss 1.85E+01\n",
      "DiffusionAutoencoderRecommender: Epoch 132 of 240. Elapsed time 4.60 min\n",
      "DiffusionAutoencoderRecommender: Epoch 133, loss 1.87E+01\n",
      "DiffusionAutoencoderRecommender: Epoch 133 of 240. Elapsed time 4.64 min\n",
      "DiffusionAutoencoderRecommender: Epoch 134, loss 1.86E+01\n",
      "DiffusionAutoencoderRecommender: Epoch 134 of 240. Elapsed time 4.67 min\n",
      "DiffusionAutoencoderRecommender: Epoch 135, loss 1.80E+01\n",
      "DiffusionAutoencoderRecommender: Epoch 135 of 240. Elapsed time 4.71 min\n",
      "DiffusionAutoencoderRecommender: Epoch 136, loss 1.86E+01\n",
      "DiffusionAutoencoderRecommender: Epoch 136 of 240. Elapsed time 4.74 min\n",
      "DiffusionAutoencoderRecommender: Epoch 137, loss 1.85E+01\n",
      "DiffusionAutoencoderRecommender: Epoch 137 of 240. Elapsed time 4.78 min\n",
      "DiffusionAutoencoderRecommender: Epoch 138, loss 1.83E+01\n",
      "DiffusionAutoencoderRecommender: Epoch 138 of 240. Elapsed time 4.81 min\n",
      "DiffusionAutoencoderRecommender: Epoch 139, loss 1.84E+01\n",
      "DiffusionAutoencoderRecommender: Epoch 139 of 240. Elapsed time 4.85 min\n",
      "DiffusionAutoencoderRecommender: Epoch 140, loss 1.87E+01\n",
      "DiffusionAutoencoderRecommender: Epoch 140 of 240. Elapsed time 4.88 min\n",
      "DiffusionAutoencoderRecommender: Epoch 141, loss 1.88E+01\n",
      "DiffusionAutoencoderRecommender: Epoch 141 of 240. Elapsed time 4.91 min\n",
      "DiffusionAutoencoderRecommender: Epoch 142, loss 1.93E+01\n",
      "DiffusionAutoencoderRecommender: Epoch 142 of 240. Elapsed time 4.95 min\n",
      "DiffusionAutoencoderRecommender: Epoch 143, loss 1.85E+01\n",
      "DiffusionAutoencoderRecommender: Epoch 143 of 240. Elapsed time 4.98 min\n",
      "DiffusionAutoencoderRecommender: Epoch 144, loss 1.86E+01\n",
      "DiffusionAutoencoderRecommender: Epoch 144 of 240. Elapsed time 5.02 min\n",
      "DiffusionAutoencoderRecommender: Epoch 145, loss 1.83E+01\n",
      "DiffusionAutoencoderRecommender: Epoch 145 of 240. Elapsed time 5.05 min\n",
      "DiffusionAutoencoderRecommender: Epoch 146, loss 1.85E+01\n",
      "DiffusionAutoencoderRecommender: Epoch 146 of 240. Elapsed time 5.09 min\n",
      "DiffusionAutoencoderRecommender: Epoch 147, loss 1.88E+01\n",
      "DiffusionAutoencoderRecommender: Epoch 147 of 240. Elapsed time 5.12 min\n",
      "DiffusionAutoencoderRecommender: Epoch 148, loss 1.90E+01\n",
      "DiffusionAutoencoderRecommender: Epoch 148 of 240. Elapsed time 5.16 min\n",
      "DiffusionAutoencoderRecommender: Epoch 149, loss 1.86E+01\n",
      "DiffusionAutoencoderRecommender: Epoch 149 of 240. Elapsed time 5.19 min\n",
      "DiffusionAutoencoderRecommender: Epoch 150, loss 1.83E+01\n",
      "DiffusionAutoencoderRecommender: Epoch 150 of 240. Elapsed time 5.23 min\n",
      "DiffusionAutoencoderRecommender: Epoch 151, loss 1.83E+01\n",
      "DiffusionAutoencoderRecommender: Epoch 151 of 240. Elapsed time 5.26 min\n",
      "DiffusionAutoencoderRecommender: Epoch 152, loss 1.85E+01\n",
      "DiffusionAutoencoderRecommender: Epoch 152 of 240. Elapsed time 5.29 min\n",
      "DiffusionAutoencoderRecommender: Epoch 153, loss 1.85E+01\n",
      "DiffusionAutoencoderRecommender: Epoch 153 of 240. Elapsed time 5.33 min\n",
      "DiffusionAutoencoderRecommender: Epoch 154, loss 1.84E+01\n",
      "DiffusionAutoencoderRecommender: Epoch 154 of 240. Elapsed time 5.36 min\n",
      "DiffusionAutoencoderRecommender: Epoch 155, loss 1.91E+01\n",
      "DiffusionAutoencoderRecommender: Epoch 155 of 240. Elapsed time 5.40 min\n",
      "DiffusionAutoencoderRecommender: Epoch 156, loss 1.85E+01\n",
      "DiffusionAutoencoderRecommender: Epoch 156 of 240. Elapsed time 5.43 min\n",
      "DiffusionAutoencoderRecommender: Epoch 157, loss 1.87E+01\n",
      "DiffusionAutoencoderRecommender: Epoch 157 of 240. Elapsed time 5.47 min\n",
      "DiffusionAutoencoderRecommender: Epoch 158, loss 1.85E+01\n",
      "DiffusionAutoencoderRecommender: Epoch 158 of 240. Elapsed time 5.50 min\n",
      "DiffusionAutoencoderRecommender: Epoch 159, loss 1.83E+01\n",
      "DiffusionAutoencoderRecommender: Epoch 159 of 240. Elapsed time 5.54 min\n",
      "DiffusionAutoencoderRecommender: Epoch 160, loss 1.85E+01\n",
      "DiffusionAutoencoderRecommender: Epoch 160 of 240. Elapsed time 5.57 min\n",
      "DiffusionAutoencoderRecommender: Epoch 161, loss 1.88E+01\n",
      "DiffusionAutoencoderRecommender: Epoch 161 of 240. Elapsed time 5.61 min\n",
      "DiffusionAutoencoderRecommender: Epoch 162, loss 1.84E+01\n",
      "DiffusionAutoencoderRecommender: Epoch 162 of 240. Elapsed time 5.64 min\n",
      "DiffusionAutoencoderRecommender: Epoch 163, loss 1.87E+01\n",
      "DiffusionAutoencoderRecommender: Epoch 163 of 240. Elapsed time 5.67 min\n",
      "DiffusionAutoencoderRecommender: Epoch 164, loss 1.87E+01\n",
      "DiffusionAutoencoderRecommender: Epoch 164 of 240. Elapsed time 5.71 min\n",
      "DiffusionAutoencoderRecommender: Epoch 165, loss 1.85E+01\n",
      "DiffusionAutoencoderRecommender: Epoch 165 of 240. Elapsed time 5.74 min\n",
      "DiffusionAutoencoderRecommender: Epoch 166, loss 1.82E+01\n",
      "DiffusionAutoencoderRecommender: Epoch 166 of 240. Elapsed time 5.78 min\n",
      "DiffusionAutoencoderRecommender: Epoch 167, loss 1.86E+01\n",
      "DiffusionAutoencoderRecommender: Epoch 167 of 240. Elapsed time 5.81 min\n",
      "DiffusionAutoencoderRecommender: Epoch 168, loss 1.84E+01\n",
      "DiffusionAutoencoderRecommender: Epoch 168 of 240. Elapsed time 5.85 min\n",
      "DiffusionAutoencoderRecommender: Epoch 169, loss 1.88E+01\n",
      "DiffusionAutoencoderRecommender: Epoch 169 of 240. Elapsed time 5.88 min\n",
      "DiffusionAutoencoderRecommender: Epoch 170, loss 1.81E+01\n",
      "DiffusionAutoencoderRecommender: Epoch 170 of 240. Elapsed time 5.92 min\n",
      "DiffusionAutoencoderRecommender: Epoch 171, loss 1.82E+01\n",
      "DiffusionAutoencoderRecommender: Epoch 171 of 240. Elapsed time 5.95 min\n",
      "DiffusionAutoencoderRecommender: Epoch 172, loss 1.84E+01\n",
      "DiffusionAutoencoderRecommender: Epoch 172 of 240. Elapsed time 5.99 min\n",
      "DiffusionAutoencoderRecommender: Epoch 173, loss 1.86E+01\n",
      "DiffusionAutoencoderRecommender: Epoch 173 of 240. Elapsed time 6.02 min\n",
      "DiffusionAutoencoderRecommender: Epoch 174, loss 1.82E+01\n",
      "DiffusionAutoencoderRecommender: Epoch 174 of 240. Elapsed time 6.06 min\n",
      "DiffusionAutoencoderRecommender: Epoch 175, loss 1.89E+01\n",
      "DiffusionAutoencoderRecommender: Epoch 175 of 240. Elapsed time 6.09 min\n",
      "DiffusionAutoencoderRecommender: Epoch 176, loss 1.81E+01\n",
      "DiffusionAutoencoderRecommender: Epoch 176 of 240. Elapsed time 6.12 min\n",
      "DiffusionAutoencoderRecommender: Epoch 177, loss 1.87E+01\n",
      "DiffusionAutoencoderRecommender: Epoch 177 of 240. Elapsed time 6.16 min\n",
      "DiffusionAutoencoderRecommender: Epoch 178, loss 1.80E+01\n",
      "DiffusionAutoencoderRecommender: Epoch 178 of 240. Elapsed time 6.19 min\n",
      "DiffusionAutoencoderRecommender: Epoch 179, loss 1.86E+01\n",
      "DiffusionAutoencoderRecommender: Epoch 179 of 240. Elapsed time 6.23 min\n",
      "DiffusionAutoencoderRecommender: Epoch 180, loss 1.87E+01\n",
      "DiffusionAutoencoderRecommender: Epoch 180 of 240. Elapsed time 6.26 min\n",
      "DiffusionAutoencoderRecommender: Epoch 181, loss 1.82E+01\n",
      "DiffusionAutoencoderRecommender: Epoch 181 of 240. Elapsed time 6.30 min\n",
      "DiffusionAutoencoderRecommender: Epoch 182, loss 1.85E+01\n",
      "DiffusionAutoencoderRecommender: Epoch 182 of 240. Elapsed time 6.33 min\n",
      "DiffusionAutoencoderRecommender: Epoch 183, loss 1.85E+01\n",
      "DiffusionAutoencoderRecommender: Epoch 183 of 240. Elapsed time 6.37 min\n",
      "DiffusionAutoencoderRecommender: Epoch 184, loss 1.84E+01\n",
      "DiffusionAutoencoderRecommender: Epoch 184 of 240. Elapsed time 6.40 min\n",
      "DiffusionAutoencoderRecommender: Epoch 185, loss 1.86E+01\n",
      "DiffusionAutoencoderRecommender: Epoch 185 of 240. Elapsed time 6.44 min\n",
      "DiffusionAutoencoderRecommender: Epoch 186, loss 1.88E+01\n",
      "DiffusionAutoencoderRecommender: Epoch 186 of 240. Elapsed time 6.47 min\n",
      "DiffusionAutoencoderRecommender: Epoch 187, loss 1.84E+01\n",
      "DiffusionAutoencoderRecommender: Epoch 187 of 240. Elapsed time 6.51 min\n",
      "DiffusionAutoencoderRecommender: Epoch 188, loss 1.83E+01\n",
      "DiffusionAutoencoderRecommender: Epoch 188 of 240. Elapsed time 6.54 min\n",
      "DiffusionAutoencoderRecommender: Epoch 189, loss 1.83E+01\n",
      "DiffusionAutoencoderRecommender: Epoch 189 of 240. Elapsed time 6.58 min\n",
      "DiffusionAutoencoderRecommender: Epoch 190, loss 1.83E+01\n",
      "DiffusionAutoencoderRecommender: Epoch 190 of 240. Elapsed time 6.61 min\n",
      "DiffusionAutoencoderRecommender: Epoch 191, loss 1.83E+01\n",
      "DiffusionAutoencoderRecommender: Epoch 191 of 240. Elapsed time 6.64 min\n",
      "DiffusionAutoencoderRecommender: Epoch 192, loss 1.83E+01\n",
      "DiffusionAutoencoderRecommender: Epoch 192 of 240. Elapsed time 6.68 min\n",
      "DiffusionAutoencoderRecommender: Epoch 193, loss 1.84E+01\n",
      "DiffusionAutoencoderRecommender: Epoch 193 of 240. Elapsed time 6.71 min\n",
      "DiffusionAutoencoderRecommender: Epoch 194, loss 1.86E+01\n",
      "DiffusionAutoencoderRecommender: Epoch 194 of 240. Elapsed time 6.75 min\n",
      "DiffusionAutoencoderRecommender: Epoch 195, loss 1.86E+01\n",
      "DiffusionAutoencoderRecommender: Epoch 195 of 240. Elapsed time 6.78 min\n",
      "DiffusionAutoencoderRecommender: Epoch 196, loss 1.80E+01\n",
      "DiffusionAutoencoderRecommender: Epoch 196 of 240. Elapsed time 6.82 min\n",
      "DiffusionAutoencoderRecommender: Epoch 197, loss 1.80E+01\n",
      "DiffusionAutoencoderRecommender: Epoch 197 of 240. Elapsed time 6.85 min\n",
      "DiffusionAutoencoderRecommender: Epoch 198, loss 1.84E+01\n",
      "DiffusionAutoencoderRecommender: Epoch 198 of 240. Elapsed time 6.89 min\n",
      "DiffusionAutoencoderRecommender: Epoch 199, loss 1.83E+01\n",
      "DiffusionAutoencoderRecommender: Epoch 199 of 240. Elapsed time 6.92 min\n",
      "DiffusionAutoencoderRecommender: Epoch 200, loss 1.85E+01\n",
      "DiffusionAutoencoderRecommender: Epoch 200 of 240. Elapsed time 6.95 min\n",
      "DiffusionAutoencoderRecommender: Epoch 201, loss 1.82E+01\n",
      "DiffusionAutoencoderRecommender: Epoch 201 of 240. Elapsed time 6.99 min\n",
      "DiffusionAutoencoderRecommender: Epoch 202, loss 1.81E+01\n",
      "DiffusionAutoencoderRecommender: Epoch 202 of 240. Elapsed time 7.02 min\n",
      "DiffusionAutoencoderRecommender: Epoch 203, loss 1.83E+01\n",
      "DiffusionAutoencoderRecommender: Epoch 203 of 240. Elapsed time 7.06 min\n",
      "DiffusionAutoencoderRecommender: Epoch 204, loss 1.81E+01\n",
      "DiffusionAutoencoderRecommender: Epoch 204 of 240. Elapsed time 7.09 min\n",
      "DiffusionAutoencoderRecommender: Epoch 205, loss 1.82E+01\n",
      "DiffusionAutoencoderRecommender: Epoch 205 of 240. Elapsed time 7.13 min\n",
      "DiffusionAutoencoderRecommender: Epoch 206, loss 1.82E+01\n",
      "DiffusionAutoencoderRecommender: Epoch 206 of 240. Elapsed time 7.16 min\n",
      "DiffusionAutoencoderRecommender: Epoch 207, loss 1.84E+01\n",
      "DiffusionAutoencoderRecommender: Epoch 207 of 240. Elapsed time 7.20 min\n",
      "DiffusionAutoencoderRecommender: Epoch 208, loss 1.82E+01\n",
      "DiffusionAutoencoderRecommender: Epoch 208 of 240. Elapsed time 7.23 min\n",
      "DiffusionAutoencoderRecommender: Epoch 209, loss 1.84E+01\n",
      "DiffusionAutoencoderRecommender: Epoch 209 of 240. Elapsed time 7.26 min\n",
      "DiffusionAutoencoderRecommender: Epoch 210, loss 1.82E+01\n",
      "DiffusionAutoencoderRecommender: Epoch 210 of 240. Elapsed time 7.30 min\n",
      "DiffusionAutoencoderRecommender: Epoch 211, loss 1.82E+01\n",
      "DiffusionAutoencoderRecommender: Epoch 211 of 240. Elapsed time 7.33 min\n",
      "DiffusionAutoencoderRecommender: Epoch 212, loss 1.87E+01\n",
      "DiffusionAutoencoderRecommender: Epoch 212 of 240. Elapsed time 7.37 min\n",
      "DiffusionAutoencoderRecommender: Epoch 213, loss 1.87E+01\n",
      "DiffusionAutoencoderRecommender: Epoch 213 of 240. Elapsed time 7.40 min\n",
      "DiffusionAutoencoderRecommender: Epoch 214, loss 1.84E+01\n",
      "DiffusionAutoencoderRecommender: Epoch 214 of 240. Elapsed time 7.43 min\n",
      "DiffusionAutoencoderRecommender: Epoch 215, loss 1.86E+01\n",
      "DiffusionAutoencoderRecommender: Epoch 215 of 240. Elapsed time 7.47 min\n",
      "DiffusionAutoencoderRecommender: Epoch 216, loss 1.87E+01\n",
      "DiffusionAutoencoderRecommender: Epoch 216 of 240. Elapsed time 7.50 min\n",
      "DiffusionAutoencoderRecommender: Epoch 217, loss 1.82E+01\n",
      "DiffusionAutoencoderRecommender: Epoch 217 of 240. Elapsed time 7.54 min\n",
      "DiffusionAutoencoderRecommender: Epoch 218, loss 1.84E+01\n",
      "DiffusionAutoencoderRecommender: Epoch 218 of 240. Elapsed time 7.57 min\n",
      "DiffusionAutoencoderRecommender: Epoch 219, loss 1.86E+01\n",
      "DiffusionAutoencoderRecommender: Epoch 219 of 240. Elapsed time 7.61 min\n",
      "DiffusionAutoencoderRecommender: Epoch 220, loss 1.81E+01\n",
      "DiffusionAutoencoderRecommender: Epoch 220 of 240. Elapsed time 7.64 min\n",
      "DiffusionAutoencoderRecommender: Epoch 221, loss 1.82E+01\n",
      "DiffusionAutoencoderRecommender: Epoch 221 of 240. Elapsed time 7.67 min\n",
      "DiffusionAutoencoderRecommender: Epoch 222, loss 1.81E+01\n",
      "DiffusionAutoencoderRecommender: Epoch 222 of 240. Elapsed time 7.71 min\n",
      "DiffusionAutoencoderRecommender: Epoch 223, loss 1.83E+01\n",
      "DiffusionAutoencoderRecommender: Epoch 223 of 240. Elapsed time 7.74 min\n",
      "DiffusionAutoencoderRecommender: Epoch 224, loss 1.79E+01\n",
      "DiffusionAutoencoderRecommender: Epoch 224 of 240. Elapsed time 7.78 min\n",
      "DiffusionAutoencoderRecommender: Epoch 225, loss 1.86E+01\n",
      "DiffusionAutoencoderRecommender: Epoch 225 of 240. Elapsed time 7.81 min\n",
      "DiffusionAutoencoderRecommender: Epoch 226, loss 1.82E+01\n",
      "DiffusionAutoencoderRecommender: Epoch 226 of 240. Elapsed time 7.84 min\n",
      "DiffusionAutoencoderRecommender: Epoch 227, loss 1.79E+01\n",
      "DiffusionAutoencoderRecommender: Epoch 227 of 240. Elapsed time 7.88 min\n",
      "DiffusionAutoencoderRecommender: Epoch 228, loss 1.84E+01\n",
      "DiffusionAutoencoderRecommender: Epoch 228 of 240. Elapsed time 7.91 min\n",
      "DiffusionAutoencoderRecommender: Epoch 229, loss 1.82E+01\n",
      "DiffusionAutoencoderRecommender: Epoch 229 of 240. Elapsed time 7.95 min\n",
      "DiffusionAutoencoderRecommender: Epoch 230, loss 1.83E+01\n",
      "DiffusionAutoencoderRecommender: Epoch 230 of 240. Elapsed time 7.98 min\n",
      "DiffusionAutoencoderRecommender: Epoch 231, loss 1.83E+01\n",
      "DiffusionAutoencoderRecommender: Epoch 231 of 240. Elapsed time 8.02 min\n",
      "DiffusionAutoencoderRecommender: Epoch 232, loss 1.91E+01\n",
      "DiffusionAutoencoderRecommender: Epoch 232 of 240. Elapsed time 8.05 min\n",
      "DiffusionAutoencoderRecommender: Epoch 233, loss 1.82E+01\n",
      "DiffusionAutoencoderRecommender: Epoch 233 of 240. Elapsed time 8.08 min\n",
      "DiffusionAutoencoderRecommender: Epoch 234, loss 1.77E+01\n",
      "DiffusionAutoencoderRecommender: Epoch 234 of 240. Elapsed time 8.12 min\n",
      "DiffusionAutoencoderRecommender: Epoch 235, loss 1.83E+01\n",
      "DiffusionAutoencoderRecommender: Epoch 235 of 240. Elapsed time 8.15 min\n",
      "DiffusionAutoencoderRecommender: Epoch 236, loss 1.85E+01\n",
      "DiffusionAutoencoderRecommender: Epoch 236 of 240. Elapsed time 8.19 min\n",
      "DiffusionAutoencoderRecommender: Epoch 237, loss 1.81E+01\n",
      "DiffusionAutoencoderRecommender: Epoch 237 of 240. Elapsed time 8.22 min\n",
      "DiffusionAutoencoderRecommender: Epoch 238, loss 1.82E+01\n",
      "DiffusionAutoencoderRecommender: Epoch 238 of 240. Elapsed time 8.25 min\n",
      "DiffusionAutoencoderRecommender: Epoch 239, loss 1.82E+01\n",
      "DiffusionAutoencoderRecommender: Epoch 239 of 240. Elapsed time 8.29 min\n",
      "DiffusionAutoencoderRecommender: Epoch 240, loss 1.82E+01\n",
      "DiffusionAutoencoderRecommender: Epoch 240 of 240. Elapsed time 8.32 min\n",
      "DiffusionAutoencoderRecommender: Terminating at epoch 240. Elapsed time 8.32 min\n",
      "DiffusionAutoencoderRecommender: Training complete\n",
      "EvaluatorHoldout: Processed 5965 (100.0%) in 2.85 sec. Users per second: 2093\n"
     ]
    },
    {
     "data": {
      "text/plain": [
       "PRECISION                     0.178374\n",
       "PRECISION_RECALL_MIN_DEN      0.234254\n",
       "RECALL                        0.159779\n",
       "MAP                           0.094984\n",
       "MAP_MIN_DEN                   0.119691\n",
       "MRR                           0.407674\n",
       "NDCG                          0.210904\n",
       "F1                            0.168565\n",
       "HIT_RATE                      0.761777\n",
       "ARHR_ALL_HITS                 0.612217\n",
       "NOVELTY                       0.024251\n",
       "AVERAGE_POPULARITY            0.474333\n",
       "DIVERSITY_MEAN_INTER_LIST     0.942305\n",
       "DIVERSITY_HERFINDAHL          0.994215\n",
       "COVERAGE_ITEM                 0.210662\n",
       "COVERAGE_ITEM_HIT             0.166109\n",
       "ITEMS_IN_GT                   0.853206\n",
       "COVERAGE_USER                 0.987583\n",
       "COVERAGE_USER_HIT             0.752318\n",
       "USERS_IN_GT                   0.987583\n",
       "DIVERSITY_GINI                0.055612\n",
       "SHANNON_ENTROPY               8.135414\n",
       "RATIO_DIVERSITY_HERFINDAHL    0.995028\n",
       "RATIO_DIVERSITY_GINI           0.15903\n",
       "RATIO_SHANNON_ENTROPY         0.752376\n",
       "RATIO_AVERAGE_POPULARITY      1.717132\n",
       "RATIO_NOVELTY                 0.065736\n",
       "Name: 10, dtype: object"
      ]
     },
     "execution_count": 28,
     "metadata": {},
     "output_type": "execute_result"
    }
   ],
   "source": [
    "from Diffusion.DiffusionRecommender import DiffusionAutoencoderRecommender_OptimizerMask\n",
    "\n",
    "modelP = DiffusionAutoencoderRecommender_OptimizerMask(URM_train, use_gpu= False)\n",
    "modelP.fit(epochs= 240, learning_rate= 0.00022443058798716912, l2_reg= 1.9501901504153858e-05, batch_size= 128, start_beta= 0.00038565911164407826, end_beta= 0.12444974448281955, noise_timesteps= 429.80432866068713, inference_timesteps= 1, objective= 'pred_x0', sgd_mode= 'rmsprop', activation_function= 'GELU', encoding_size= 245, next_layer_size_multiplier= 5, max_n_hidden_layers= 5, max_parameters= 1000000000.0)\n",
    "result_df, _ = evaluator_validation.evaluateRecommender(modelP)\n",
    "result_df.loc[10]"
   ]
  },
  {
   "cell_type": "code",
   "execution_count": null,
   "metadata": {},
   "outputs": [
    {
     "name": "stdout",
     "output_type": "stream",
     "text": [
      "DiffusionAutoencoderRecommender: Saving model in file '/savedModels/AutoencoderDiffusion0'\n"
     ]
    },
    {
     "ename": "OSError",
     "evalue": "[Errno 30] Read-only file system: '/savedModels'",
     "output_type": "error",
     "traceback": [
      "\u001b[0;31m---------------------------------------------------------------------------\u001b[0m",
      "\u001b[0;31mOSError\u001b[0m                                   Traceback (most recent call last)",
      "Cell \u001b[0;32mIn[33], line 1\u001b[0m\n\u001b[0;32m----> 1\u001b[0m modelP\u001b[39m.\u001b[39;49msave_model(folder_path\u001b[39m=\u001b[39;49m\u001b[39m\"\u001b[39;49m\u001b[39m/savedModels\u001b[39;49m\u001b[39m\"\u001b[39;49m, file_name\u001b[39m=\u001b[39;49m\u001b[39m\"\u001b[39;49m\u001b[39m/AutoencoderDiffusion0\u001b[39;49m\u001b[39m\"\u001b[39;49m)\n",
      "File \u001b[0;32m~/Desktop/TESI/Thesis_DiffusionRecommender-main/Diffusion/DiffusionRecommender.py:445\u001b[0m, in \u001b[0;36mDiffusionRecommender.save_model\u001b[0;34m(self, folder_path, file_name, create_zip)\u001b[0m\n\u001b[1;32m    443\u001b[0m \u001b[39m# Save session within a temp folder called as the desired file_name\u001b[39;00m\n\u001b[1;32m    444\u001b[0m \u001b[39mif\u001b[39;00m \u001b[39mnot\u001b[39;00m os\u001b[39m.\u001b[39mpath\u001b[39m.\u001b[39misdir(folder_path \u001b[39m+\u001b[39m file_name \u001b[39m+\u001b[39m \u001b[39m\"\u001b[39m\u001b[39m/.torch_state_dict\u001b[39m\u001b[39m\"\u001b[39m):\n\u001b[0;32m--> 445\u001b[0m     os\u001b[39m.\u001b[39;49mmakedirs(folder_path \u001b[39m+\u001b[39;49m file_name \u001b[39m+\u001b[39;49m \u001b[39m\"\u001b[39;49m\u001b[39m/.torch_state_dict\u001b[39;49m\u001b[39m\"\u001b[39;49m)\n\u001b[1;32m    447\u001b[0m torch\u001b[39m.\u001b[39msave(\u001b[39mself\u001b[39m\u001b[39m.\u001b[39m_model\u001b[39m.\u001b[39mstate_dict(), folder_path \u001b[39m+\u001b[39m file_name \u001b[39m+\u001b[39m \u001b[39m\"\u001b[39m\u001b[39m/.torch_state_dict/torch_state_dict\u001b[39m\u001b[39m\"\u001b[39m)\n\u001b[1;32m    449\u001b[0m data_dict_to_save \u001b[39m=\u001b[39m {\n\u001b[1;32m    450\u001b[0m     \u001b[39m\"\u001b[39m\u001b[39mencoder_architecture\u001b[39m\u001b[39m\"\u001b[39m: \u001b[39mself\u001b[39m\u001b[39m.\u001b[39mencoder_architecture,\n\u001b[1;32m    451\u001b[0m     \u001b[39m\"\u001b[39m\u001b[39mactivation_function\u001b[39m\u001b[39m\"\u001b[39m: \u001b[39mself\u001b[39m\u001b[39m.\u001b[39mactivation_function,\n\u001b[0;32m   (...)\u001b[0m\n\u001b[1;32m    460\u001b[0m     \u001b[39m\"\u001b[39m\u001b[39ml2_reg\u001b[39m\u001b[39m\"\u001b[39m: \u001b[39mself\u001b[39m\u001b[39m.\u001b[39ml2_reg,\n\u001b[1;32m    461\u001b[0m }\n",
      "File \u001b[0;32m~/opt/anaconda3/envs/tesi/lib/python3.8/os.py:213\u001b[0m, in \u001b[0;36mmakedirs\u001b[0;34m(name, mode, exist_ok)\u001b[0m\n\u001b[1;32m    211\u001b[0m \u001b[39mif\u001b[39;00m head \u001b[39mand\u001b[39;00m tail \u001b[39mand\u001b[39;00m \u001b[39mnot\u001b[39;00m path\u001b[39m.\u001b[39mexists(head):\n\u001b[1;32m    212\u001b[0m     \u001b[39mtry\u001b[39;00m:\n\u001b[0;32m--> 213\u001b[0m         makedirs(head, exist_ok\u001b[39m=\u001b[39;49mexist_ok)\n\u001b[1;32m    214\u001b[0m     \u001b[39mexcept\u001b[39;00m \u001b[39mFileExistsError\u001b[39;00m:\n\u001b[1;32m    215\u001b[0m         \u001b[39m# Defeats race condition when another thread created the path\u001b[39;00m\n\u001b[1;32m    216\u001b[0m         \u001b[39mpass\u001b[39;00m\n",
      "File \u001b[0;32m~/opt/anaconda3/envs/tesi/lib/python3.8/os.py:213\u001b[0m, in \u001b[0;36mmakedirs\u001b[0;34m(name, mode, exist_ok)\u001b[0m\n\u001b[1;32m    211\u001b[0m \u001b[39mif\u001b[39;00m head \u001b[39mand\u001b[39;00m tail \u001b[39mand\u001b[39;00m \u001b[39mnot\u001b[39;00m path\u001b[39m.\u001b[39mexists(head):\n\u001b[1;32m    212\u001b[0m     \u001b[39mtry\u001b[39;00m:\n\u001b[0;32m--> 213\u001b[0m         makedirs(head, exist_ok\u001b[39m=\u001b[39;49mexist_ok)\n\u001b[1;32m    214\u001b[0m     \u001b[39mexcept\u001b[39;00m \u001b[39mFileExistsError\u001b[39;00m:\n\u001b[1;32m    215\u001b[0m         \u001b[39m# Defeats race condition when another thread created the path\u001b[39;00m\n\u001b[1;32m    216\u001b[0m         \u001b[39mpass\u001b[39;00m\n",
      "File \u001b[0;32m~/opt/anaconda3/envs/tesi/lib/python3.8/os.py:223\u001b[0m, in \u001b[0;36mmakedirs\u001b[0;34m(name, mode, exist_ok)\u001b[0m\n\u001b[1;32m    221\u001b[0m         \u001b[39mreturn\u001b[39;00m\n\u001b[1;32m    222\u001b[0m \u001b[39mtry\u001b[39;00m:\n\u001b[0;32m--> 223\u001b[0m     mkdir(name, mode)\n\u001b[1;32m    224\u001b[0m \u001b[39mexcept\u001b[39;00m \u001b[39mOSError\u001b[39;00m:\n\u001b[1;32m    225\u001b[0m     \u001b[39m# Cannot rely on checking for EEXIST, since the operating system\u001b[39;00m\n\u001b[1;32m    226\u001b[0m     \u001b[39m# could give priority to other errors like EACCES or EROFS\u001b[39;00m\n\u001b[1;32m    227\u001b[0m     \u001b[39mif\u001b[39;00m \u001b[39mnot\u001b[39;00m exist_ok \u001b[39mor\u001b[39;00m \u001b[39mnot\u001b[39;00m path\u001b[39m.\u001b[39misdir(name):\n",
      "\u001b[0;31mOSError\u001b[0m: [Errno 30] Read-only file system: '/savedModels'"
     ]
    }
   ],
   "source": [
    "modelP.save_model(folder_path=\"/savedModels\", file_name=\"/AutoencoderDiffusion0\")\n"
   ]
  },
  {
   "cell_type": "code",
   "execution_count": null,
   "metadata": {},
   "outputs": [
    {
     "name": "stdout",
     "output_type": "stream",
     "text": [
      "DiffusionAutoencoderRecommender: URM Detected 204 ( 5.3%) items with no interactions.\n",
      "DiffusionAutoencoderRecommender: Loading model from file 'savedModelsAutoencoderDiffusion0'\n"
     ]
    },
    {
     "ename": "AttributeError",
     "evalue": "'DiffusionAutoencoderRecommender_OptimizerMask' object has no attribute 'use_batch_norm'",
     "output_type": "error",
     "traceback": [
      "\u001b[0;31m---------------------------------------------------------------------------\u001b[0m",
      "\u001b[0;31mAttributeError\u001b[0m                            Traceback (most recent call last)",
      "Cell \u001b[0;32mIn[36], line 2\u001b[0m\n\u001b[1;32m      1\u001b[0m modelP2 \u001b[39m=\u001b[39m DiffusionAutoencoderRecommender_OptimizerMask(URM_train\u001b[39m=\u001b[39mURM_train, use_gpu\u001b[39m=\u001b[39m\u001b[39mFalse\u001b[39;00m)\n\u001b[0;32m----> 2\u001b[0m modelP2\u001b[39m.\u001b[39;49mload_model(folder_path\u001b[39m=\u001b[39;49m\u001b[39m\"\u001b[39;49m\u001b[39msavedModels\u001b[39;49m\u001b[39m\"\u001b[39;49m, file_name\u001b[39m=\u001b[39;49m\u001b[39m\"\u001b[39;49m\u001b[39mAutoencoderDiffusion0\u001b[39;49m\u001b[39m\"\u001b[39;49m)\n",
      "File \u001b[0;32m~/Desktop/TESI/Thesis_DiffusionRecommender-main/Diffusion/DiffusionRecommender.py:502\u001b[0m, in \u001b[0;36mDiffusionRecommender.load_model\u001b[0;34m(self, folder_path, file_name, create_zip)\u001b[0m\n\u001b[1;32m    499\u001b[0m \u001b[39mfor\u001b[39;00m attrib_name \u001b[39min\u001b[39;00m data_dict\u001b[39m.\u001b[39mkeys():\n\u001b[1;32m    500\u001b[0m      \u001b[39mself\u001b[39m\u001b[39m.\u001b[39m\u001b[39m__setattr__\u001b[39m(attrib_name, data_dict[attrib_name])\n\u001b[0;32m--> 502\u001b[0m \u001b[39mself\u001b[39;49m\u001b[39m.\u001b[39;49m_init_model()\n\u001b[1;32m    504\u001b[0m \u001b[39mself\u001b[39m\u001b[39m.\u001b[39m_model\u001b[39m.\u001b[39mload_state_dict(torch\u001b[39m.\u001b[39mload(folder_path \u001b[39m+\u001b[39m file_name \u001b[39m+\u001b[39m \u001b[39m\"\u001b[39m\u001b[39m/.torch_state_dict/torch_state_dict\u001b[39m\u001b[39m\"\u001b[39m))\n\u001b[1;32m    505\u001b[0m \u001b[39mself\u001b[39m\u001b[39m.\u001b[39m_model\u001b[39m.\u001b[39meval()\n",
      "File \u001b[0;32m~/Desktop/TESI/Thesis_DiffusionRecommender-main/Diffusion/DiffusionRecommender.py:301\u001b[0m, in \u001b[0;36mDiffusionRecommender._init_model\u001b[0;34m(self)\u001b[0m\n\u001b[1;32m    295\u001b[0m positional_encoding \u001b[39m=\u001b[39m SinusoidalPositionalEncoding(embedding_size \u001b[39m=\u001b[39m \u001b[39mself\u001b[39m\u001b[39m.\u001b[39mn_items, device\u001b[39m=\u001b[39m\u001b[39mself\u001b[39m\u001b[39m.\u001b[39mdevice)\n\u001b[1;32m    296\u001b[0m noise_schedule \u001b[39m=\u001b[39m LinearNoiseSchedule(start_beta \u001b[39m=\u001b[39m \u001b[39mself\u001b[39m\u001b[39m.\u001b[39mstart_beta, end_beta \u001b[39m=\u001b[39m \u001b[39mself\u001b[39m\u001b[39m.\u001b[39mend_beta,\n\u001b[1;32m    297\u001b[0m                                      device\u001b[39m=\u001b[39m\u001b[39mself\u001b[39m\u001b[39m.\u001b[39mdevice, noise_timesteps \u001b[39m=\u001b[39m \u001b[39mself\u001b[39m\u001b[39m.\u001b[39mnoise_timesteps)\n\u001b[1;32m    299\u001b[0m denoiser_model \u001b[39m=\u001b[39m AutoencoderModel(encoder_architecture \u001b[39m=\u001b[39m \u001b[39mself\u001b[39m\u001b[39m.\u001b[39mencoder_architecture,\n\u001b[1;32m    300\u001b[0m                                   activation_function \u001b[39m=\u001b[39m _get_activation_function(\u001b[39mself\u001b[39m\u001b[39m.\u001b[39mactivation_function),\n\u001b[0;32m--> 301\u001b[0m                                   use_batch_norm \u001b[39m=\u001b[39m \u001b[39mself\u001b[39;49m\u001b[39m.\u001b[39;49muse_batch_norm,\n\u001b[1;32m    302\u001b[0m                                   use_dropout \u001b[39m=\u001b[39m \u001b[39mself\u001b[39m\u001b[39m.\u001b[39muse_dropout,\n\u001b[1;32m    303\u001b[0m                                   dropout_p \u001b[39m=\u001b[39m \u001b[39mself\u001b[39m\u001b[39m.\u001b[39mdropout_p,\n\u001b[1;32m    304\u001b[0m                                   device\u001b[39m=\u001b[39m\u001b[39mself\u001b[39m\u001b[39m.\u001b[39mdevice)\n\u001b[1;32m    306\u001b[0m \u001b[39mself\u001b[39m\u001b[39m.\u001b[39m_model \u001b[39m=\u001b[39m _GaussianDiffusionModel(denoiser_model,\n\u001b[1;32m    307\u001b[0m                                       noise_schedule,\n\u001b[1;32m    308\u001b[0m                                       positional_encoding,\n\u001b[0;32m   (...)\u001b[0m\n\u001b[1;32m    312\u001b[0m                                       objective \u001b[39m=\u001b[39m \u001b[39mself\u001b[39m\u001b[39m.\u001b[39mobjective,\n\u001b[1;32m    313\u001b[0m                                       )\u001b[39m.\u001b[39mto(\u001b[39mself\u001b[39m\u001b[39m.\u001b[39mdevice)\n",
      "\u001b[0;31mAttributeError\u001b[0m: 'DiffusionAutoencoderRecommender_OptimizerMask' object has no attribute 'use_batch_norm'"
     ]
    }
   ],
   "source": [
    "modelP2 = DiffusionAutoencoderRecommender_OptimizerMask(URM_train=URM_train, use_gpu=False)\n",
    "modelP2.load_model(folder_path=\"savedModels\", file_name=\"AutoencoderDiffusion0\")"
   ]
  },
  {
   "cell_type": "code",
   "execution_count": null,
   "metadata": {},
   "outputs": [
    {
     "name": "stdout",
     "output_type": "stream",
     "text": [
      "EvaluatorHoldout: Processed 5965 (100.0%) in 1.45 min. Users per second: 69\n"
     ]
    },
    {
     "data": {
      "text/plain": [
       "PRECISION                     0.060436\n",
       "PRECISION_RECALL_MIN_DEN      0.080896\n",
       "RECALL                        0.057029\n",
       "MAP                           0.026853\n",
       "MAP_MIN_DEN                   0.035202\n",
       "MRR                           0.166286\n",
       "NDCG                          0.066772\n",
       "F1                            0.058683\n",
       "HIT_RATE                      0.382733\n",
       "ARHR_ALL_HITS                 0.209498\n",
       "NOVELTY                       0.025672\n",
       "AVERAGE_POPULARITY            0.348331\n",
       "DIVERSITY_MEAN_INTER_LIST     0.920369\n",
       "DIVERSITY_HERFINDAHL          0.992021\n",
       "COVERAGE_ITEM                 0.168684\n",
       "COVERAGE_ITEM_HIT              0.11692\n",
       "ITEMS_IN_GT                   0.853206\n",
       "COVERAGE_USER                 0.987583\n",
       "COVERAGE_USER_HIT              0.37798\n",
       "USERS_IN_GT                   0.987583\n",
       "DIVERSITY_GINI                0.043977\n",
       "SHANNON_ENTROPY               7.768874\n",
       "RATIO_DIVERSITY_HERFINDAHL    0.992833\n",
       "RATIO_DIVERSITY_GINI          0.125757\n",
       "RATIO_SHANNON_ENTROPY         0.718478\n",
       "RATIO_AVERAGE_POPULARITY      1.260993\n",
       "RATIO_NOVELTY                 0.069589\n",
       "Name: 10, dtype: object"
      ]
     },
     "execution_count": 37,
     "metadata": {},
     "output_type": "execute_result"
    }
   ],
   "source": [
    "modelP.inference_timesteps=100\n",
    "result_df, _ = evaluator_validation.evaluateRecommender(modelP)\n",
    "result_df.loc[10]"
   ]
  },
  {
   "cell_type": "code",
   "execution_count": null,
   "metadata": {},
   "outputs": [],
   "source": [
    "from RecommenderLuca import TwoLevelRec\n",
    "import importlib\n",
    "\n",
    "# Make some changes to your_module.py\n",
    "\n",
    "importlib.reload(TwoLevelRec)\n",
    "from RecommenderLuca.TwoLevelRec import TwoLevelRec\n"
   ]
  },
  {
   "cell_type": "code",
   "execution_count": null,
   "metadata": {},
   "outputs": [
    {
     "name": "stderr",
     "output_type": "stream",
     "text": [
      "[I 2023-07-24 19:59:34,588] A new study created in memory with name: no-name-2356a2e6-cb71-4e2d-a939-1f95846f1d08\n"
     ]
    },
    {
     "name": "stdout",
     "output_type": "stream",
     "text": [
      "TwoLevelRec: URM Detected 204 ( 5.3%) items with no interactions.\n",
      "TwoLevelRec: URM Detected 204 ( 5.3%) items with no interactions.\n",
      "TwoLevelRec: URM Detected 204 ( 5.3%) items with no interactions.\n",
      "TwoLevelRec: URM Detected 204 ( 5.3%) items with no interactions.\n",
      "EvaluatorHoldout: Processed 5965 (100.0%) in 2.92 sec. Users per second: 2039\n"
     ]
    },
    {
     "name": "stderr",
     "output_type": "stream",
     "text": [
      "[I 2023-07-24 20:00:04,701] Trial 0 finished with value: 0.08595536795327283 and parameters: {'cutoff': 77}. Best is trial 0 with value: 0.08595536795327283.\n"
     ]
    },
    {
     "name": "stdout",
     "output_type": "stream",
     "text": [
      "EvaluatorHoldout: Processed 5965 (100.0%) in 2.62 sec. Users per second: 2273\n"
     ]
    },
    {
     "name": "stderr",
     "output_type": "stream",
     "text": [
      "[I 2023-07-24 20:00:35,400] Trial 1 finished with value: 0.07576005534932663 and parameters: {'cutoff': 12}. Best is trial 0 with value: 0.08595536795327283.\n"
     ]
    },
    {
     "name": "stdout",
     "output_type": "stream",
     "text": [
      "EvaluatorHoldout: Processed 5965 (100.0%) in 2.81 sec. Users per second: 2123\n"
     ]
    },
    {
     "name": "stderr",
     "output_type": "stream",
     "text": [
      "[I 2023-07-24 20:01:10,633] Trial 2 finished with value: 0.08701178834204852 and parameters: {'cutoff': 169}. Best is trial 2 with value: 0.08701178834204852.\n"
     ]
    },
    {
     "name": "stdout",
     "output_type": "stream",
     "text": [
      "EvaluatorHoldout: Processed 5965 (100.0%) in 2.73 sec. Users per second: 2183\n"
     ]
    },
    {
     "name": "stderr",
     "output_type": "stream",
     "text": [
      "[I 2023-07-24 20:01:42,140] Trial 3 finished with value: 0.08704606900038621 and parameters: {'cutoff': 152}. Best is trial 3 with value: 0.08704606900038621.\n"
     ]
    },
    {
     "name": "stdout",
     "output_type": "stream",
     "text": [
      "EvaluatorHoldout: Processed 5965 (100.0%) in 2.68 sec. Users per second: 2226\n"
     ]
    },
    {
     "name": "stderr",
     "output_type": "stream",
     "text": [
      "[I 2023-07-24 20:02:14,016] Trial 4 finished with value: 0.08394174350377244 and parameters: {'cutoff': 50}. Best is trial 3 with value: 0.08704606900038621.\n"
     ]
    },
    {
     "name": "stdout",
     "output_type": "stream",
     "text": [
      "EvaluatorHoldout: Processed 5965 (100.0%) in 2.59 sec. Users per second: 2305\n"
     ]
    },
    {
     "name": "stderr",
     "output_type": "stream",
     "text": [
      "[I 2023-07-24 20:02:43,940] Trial 5 finished with value: 0.08584444311393231 and parameters: {'cutoff': 95}. Best is trial 3 with value: 0.08704606900038621.\n"
     ]
    },
    {
     "name": "stdout",
     "output_type": "stream",
     "text": [
      "EvaluatorHoldout: Processed 5965 (100.0%) in 2.65 sec. Users per second: 2249\n"
     ]
    },
    {
     "name": "stderr",
     "output_type": "stream",
     "text": [
      "[I 2023-07-24 20:03:13,698] Trial 6 finished with value: 0.08580186670924363 and parameters: {'cutoff': 93}. Best is trial 3 with value: 0.08704606900038621.\n"
     ]
    },
    {
     "name": "stdout",
     "output_type": "stream",
     "text": [
      "EvaluatorHoldout: Processed 5965 (100.0%) in 2.69 sec. Users per second: 2217\n"
     ]
    },
    {
     "name": "stderr",
     "output_type": "stream",
     "text": [
      "[I 2023-07-24 20:03:43,860] Trial 7 finished with value: 0.08206573397730182 and parameters: {'cutoff': 35}. Best is trial 3 with value: 0.08704606900038621.\n"
     ]
    },
    {
     "name": "stdout",
     "output_type": "stream",
     "text": [
      "EvaluatorHoldout: Processed 5965 (100.0%) in 2.82 sec. Users per second: 2117\n"
     ]
    },
    {
     "name": "stderr",
     "output_type": "stream",
     "text": [
      "[I 2023-07-24 20:04:14,581] Trial 8 finished with value: 0.08698080735507424 and parameters: {'cutoff': 192}. Best is trial 3 with value: 0.08704606900038621.\n"
     ]
    },
    {
     "name": "stdout",
     "output_type": "stream",
     "text": [
      "EvaluatorHoldout: Processed 5965 (100.0%) in 3.01 sec. Users per second: 1984\n"
     ]
    },
    {
     "name": "stderr",
     "output_type": "stream",
     "text": [
      "[I 2023-07-24 20:04:44,874] Trial 9 finished with value: 0.07857659096049742 and parameters: {'cutoff': 18}. Best is trial 3 with value: 0.08704606900038621.\n"
     ]
    },
    {
     "name": "stdout",
     "output_type": "stream",
     "text": [
      "EvaluatorHoldout: Processed 5965 (100.0%) in 2.85 sec. Users per second: 2095\n"
     ]
    },
    {
     "name": "stderr",
     "output_type": "stream",
     "text": [
      "[I 2023-07-24 20:05:15,560] Trial 10 finished with value: 0.08646016445136359 and parameters: {'cutoff': 142}. Best is trial 3 with value: 0.08704606900038621.\n"
     ]
    },
    {
     "name": "stdout",
     "output_type": "stream",
     "text": [
      "EvaluatorHoldout: Processed 5965 (100.0%) in 2.52 sec. Users per second: 2363\n"
     ]
    },
    {
     "name": "stderr",
     "output_type": "stream",
     "text": [
      "[I 2023-07-24 20:05:42,508] Trial 11 finished with value: 0.08667051184821552 and parameters: {'cutoff': 137}. Best is trial 3 with value: 0.08704606900038621.\n"
     ]
    },
    {
     "name": "stdout",
     "output_type": "stream",
     "text": [
      "EvaluatorHoldout: Processed 5965 (100.0%) in 2.53 sec. Users per second: 2358\n"
     ]
    },
    {
     "name": "stderr",
     "output_type": "stream",
     "text": [
      "[I 2023-07-24 20:06:07,128] Trial 12 finished with value: 0.08711118428930692 and parameters: {'cutoff': 150}. Best is trial 12 with value: 0.08711118428930692.\n"
     ]
    },
    {
     "name": "stdout",
     "output_type": "stream",
     "text": [
      "EvaluatorHoldout: Processed 5965 (100.0%) in 2.41 sec. Users per second: 2470\n"
     ]
    },
    {
     "name": "stderr",
     "output_type": "stream",
     "text": [
      "[I 2023-07-24 20:06:31,632] Trial 13 finished with value: 0.08207250628667274 and parameters: {'cutoff': 34}. Best is trial 12 with value: 0.08711118428930692.\n"
     ]
    },
    {
     "name": "stdout",
     "output_type": "stream",
     "text": [
      "EvaluatorHoldout: Processed 5965 (100.0%) in 2.37 sec. Users per second: 2522\n"
     ]
    },
    {
     "name": "stderr",
     "output_type": "stream",
     "text": [
      "[I 2023-07-24 20:06:56,198] Trial 14 finished with value: 0.08532373368458912 and parameters: {'cutoff': 82}. Best is trial 12 with value: 0.08711118428930692.\n"
     ]
    },
    {
     "name": "stdout",
     "output_type": "stream",
     "text": [
      "EvaluatorHoldout: Processed 5965 (100.0%) in 2.50 sec. Users per second: 2382\n"
     ]
    },
    {
     "name": "stderr",
     "output_type": "stream",
     "text": [
      "[I 2023-07-24 20:07:20,887] Trial 15 finished with value: 0.08670723399725941 and parameters: {'cutoff': 152}. Best is trial 12 with value: 0.08711118428930692.\n"
     ]
    },
    {
     "name": "stdout",
     "output_type": "stream",
     "text": [
      "EvaluatorHoldout: Processed 5965 (100.0%) in 2.72 sec. Users per second: 2191\n"
     ]
    },
    {
     "name": "stderr",
     "output_type": "stream",
     "text": [
      "[I 2023-07-24 20:07:45,812] Trial 16 finished with value: 0.08696615175827281 and parameters: {'cutoff': 150}. Best is trial 12 with value: 0.08711118428930692.\n"
     ]
    },
    {
     "name": "stdout",
     "output_type": "stream",
     "text": [
      "EvaluatorHoldout: Processed 5965 (100.0%) in 2.50 sec. Users per second: 2384\n"
     ]
    },
    {
     "name": "stderr",
     "output_type": "stream",
     "text": [
      "[I 2023-07-24 20:08:10,483] Trial 17 finished with value: 0.0871068202078264 and parameters: {'cutoff': 162}. Best is trial 12 with value: 0.08711118428930692.\n"
     ]
    },
    {
     "name": "stdout",
     "output_type": "stream",
     "text": [
      "EvaluatorHoldout: Processed 5965 (100.0%) in 2.82 sec. Users per second: 2112\n"
     ]
    },
    {
     "name": "stderr",
     "output_type": "stream",
     "text": [
      "[I 2023-07-24 20:08:35,643] Trial 18 finished with value: 0.08051604598251727 and parameters: {'cutoff': 25}. Best is trial 12 with value: 0.08711118428930692.\n"
     ]
    },
    {
     "name": "stdout",
     "output_type": "stream",
     "text": [
      "EvaluatorHoldout: Processed 5965 (100.0%) in 2.58 sec. Users per second: 2312\n"
     ]
    },
    {
     "name": "stderr",
     "output_type": "stream",
     "text": [
      "[I 2023-07-24 20:09:00,556] Trial 19 finished with value: 0.08689318644473747 and parameters: {'cutoff': 199}. Best is trial 12 with value: 0.08711118428930692.\n"
     ]
    },
    {
     "name": "stdout",
     "output_type": "stream",
     "text": [
      "EvaluatorHoldout: Processed 5965 (100.0%) in 2.41 sec. Users per second: 2476\n"
     ]
    },
    {
     "name": "stderr",
     "output_type": "stream",
     "text": [
      "[I 2023-07-24 20:09:25,401] Trial 20 finished with value: 0.08650540853390842 and parameters: {'cutoff': 121}. Best is trial 12 with value: 0.08711118428930692.\n"
     ]
    },
    {
     "name": "stdout",
     "output_type": "stream",
     "text": [
      "EvaluatorHoldout: Processed 5965 (100.0%) in 2.53 sec. Users per second: 2354\n"
     ]
    },
    {
     "name": "stderr",
     "output_type": "stream",
     "text": [
      "[I 2023-07-24 20:09:50,507] Trial 21 finished with value: 0.08713213321092642 and parameters: {'cutoff': 162}. Best is trial 21 with value: 0.08713213321092642.\n"
     ]
    },
    {
     "name": "stdout",
     "output_type": "stream",
     "text": [
      "EvaluatorHoldout: Processed 5965 (100.0%) in 2.52 sec. Users per second: 2370\n"
     ]
    },
    {
     "name": "stderr",
     "output_type": "stream",
     "text": [
      "[I 2023-07-24 20:10:15,394] Trial 22 finished with value: 0.08688872257480838 and parameters: {'cutoff': 147}. Best is trial 21 with value: 0.08713213321092642.\n"
     ]
    },
    {
     "name": "stdout",
     "output_type": "stream",
     "text": [
      "EvaluatorHoldout: Processed 5965 (100.0%) in 2.54 sec. Users per second: 2352\n"
     ]
    },
    {
     "name": "stderr",
     "output_type": "stream",
     "text": [
      "[I 2023-07-24 20:10:40,198] Trial 23 finished with value: 0.08700993892946986 and parameters: {'cutoff': 162}. Best is trial 21 with value: 0.08713213321092642.\n"
     ]
    },
    {
     "name": "stdout",
     "output_type": "stream",
     "text": [
      "EvaluatorHoldout: Processed 5965 (100.0%) in 2.52 sec. Users per second: 2369\n"
     ]
    },
    {
     "name": "stderr",
     "output_type": "stream",
     "text": [
      "[I 2023-07-24 20:11:04,924] Trial 24 finished with value: 0.08673615934219495 and parameters: {'cutoff': 154}. Best is trial 21 with value: 0.08713213321092642.\n"
     ]
    },
    {
     "name": "stdout",
     "output_type": "stream",
     "text": [
      "EvaluatorHoldout: Processed 5965 (100.0%) in 2.45 sec. Users per second: 2432\n"
     ]
    },
    {
     "name": "stderr",
     "output_type": "stream",
     "text": [
      "[I 2023-07-24 20:11:29,606] Trial 25 finished with value: 0.08658872523583383 and parameters: {'cutoff': 123}. Best is trial 21 with value: 0.08713213321092642.\n"
     ]
    },
    {
     "name": "stdout",
     "output_type": "stream",
     "text": [
      "EvaluatorHoldout: Processed 5965 (100.0%) in 2.40 sec. Users per second: 2489\n"
     ]
    },
    {
     "name": "stderr",
     "output_type": "stream",
     "text": [
      "[I 2023-07-24 20:11:54,119] Trial 26 finished with value: 0.0851385063665033 and parameters: {'cutoff': 64}. Best is trial 21 with value: 0.08713213321092642.\n"
     ]
    },
    {
     "name": "stdout",
     "output_type": "stream",
     "text": [
      "EvaluatorHoldout: Processed 5965 (100.0%) in 2.49 sec. Users per second: 2397\n"
     ]
    },
    {
     "name": "stderr",
     "output_type": "stream",
     "text": [
      "[I 2023-07-24 20:12:18,766] Trial 27 finished with value: 0.0872028699157789 and parameters: {'cutoff': 162}. Best is trial 27 with value: 0.0872028699157789.\n"
     ]
    },
    {
     "name": "stdout",
     "output_type": "stream",
     "text": [
      "EvaluatorHoldout: Processed 5965 (100.0%) in 2.49 sec. Users per second: 2397\n"
     ]
    },
    {
     "name": "stderr",
     "output_type": "stream",
     "text": [
      "[I 2023-07-24 20:12:43,422] Trial 28 finished with value: 0.08711923389081848 and parameters: {'cutoff': 162}. Best is trial 27 with value: 0.0872028699157789.\n"
     ]
    },
    {
     "name": "stdout",
     "output_type": "stream",
     "text": [
      "EvaluatorHoldout: Processed 5965 (100.0%) in 2.49 sec. Users per second: 2394\n"
     ]
    },
    {
     "name": "stderr",
     "output_type": "stream",
     "text": [
      "[I 2023-07-24 20:13:08,094] Trial 29 finished with value: 0.08710091273167585 and parameters: {'cutoff': 162}. Best is trial 27 with value: 0.0872028699157789.\n"
     ]
    },
    {
     "name": "stdout",
     "output_type": "stream",
     "text": [
      "EvaluatorHoldout: Processed 5965 (100.0%) in 2.42 sec. Users per second: 2463\n"
     ]
    },
    {
     "name": "stderr",
     "output_type": "stream",
     "text": [
      "[I 2023-07-24 20:13:32,650] Trial 30 finished with value: 0.08489734429675777 and parameters: {'cutoff': 61}. Best is trial 27 with value: 0.0872028699157789.\n"
     ]
    },
    {
     "name": "stdout",
     "output_type": "stream",
     "text": [
      "EvaluatorHoldout: Processed 5965 (100.0%) in 2.42 sec. Users per second: 2460\n"
     ]
    },
    {
     "name": "stderr",
     "output_type": "stream",
     "text": [
      "[I 2023-07-24 20:13:57,254] Trial 31 finished with value: 0.08473528785641149 and parameters: {'cutoff': 58}. Best is trial 27 with value: 0.0872028699157789.\n"
     ]
    },
    {
     "name": "stdout",
     "output_type": "stream",
     "text": [
      "EvaluatorHoldout: Processed 5965 (100.0%) in 2.41 sec. Users per second: 2476\n"
     ]
    },
    {
     "name": "stderr",
     "output_type": "stream",
     "text": [
      "[I 2023-07-24 20:14:21,786] Trial 32 finished with value: 0.0856462499501062 and parameters: {'cutoff': 74}. Best is trial 27 with value: 0.0872028699157789.\n"
     ]
    },
    {
     "name": "stdout",
     "output_type": "stream",
     "text": [
      "EvaluatorHoldout: Processed 5965 (100.0%) in 2.41 sec. Users per second: 2474\n"
     ]
    },
    {
     "name": "stderr",
     "output_type": "stream",
     "text": [
      "[I 2023-07-24 20:14:46,403] Trial 33 finished with value: 0.08559857102941804 and parameters: {'cutoff': 79}. Best is trial 27 with value: 0.0872028699157789.\n"
     ]
    },
    {
     "name": "stdout",
     "output_type": "stream",
     "text": [
      "EvaluatorHoldout: Processed 5965 (100.0%) in 2.57 sec. Users per second: 2318\n"
     ]
    },
    {
     "name": "stderr",
     "output_type": "stream",
     "text": [
      "[I 2023-07-24 20:15:11,237] Trial 34 finished with value: 0.08701303237137294 and parameters: {'cutoff': 189}. Best is trial 27 with value: 0.0872028699157789.\n"
     ]
    },
    {
     "name": "stdout",
     "output_type": "stream",
     "text": [
      "EvaluatorHoldout: Processed 5965 (100.0%) in 2.47 sec. Users per second: 2411\n"
     ]
    },
    {
     "name": "stderr",
     "output_type": "stream",
     "text": [
      "[I 2023-07-24 20:15:36,128] Trial 35 finished with value: 0.08595721736585145 and parameters: {'cutoff': 98}. Best is trial 27 with value: 0.0872028699157789.\n"
     ]
    },
    {
     "name": "stdout",
     "output_type": "stream",
     "text": [
      "EvaluatorHoldout: Processed 5965 (100.0%) in 2.36 sec. Users per second: 2529\n"
     ]
    },
    {
     "name": "stderr",
     "output_type": "stream",
     "text": [
      "[I 2023-07-24 20:16:00,650] Trial 36 finished with value: 0.08583006692478658 and parameters: {'cutoff': 80}. Best is trial 27 with value: 0.0872028699157789.\n"
     ]
    },
    {
     "name": "stdout",
     "output_type": "stream",
     "text": [
      "EvaluatorHoldout: Processed 5965 (100.0%) in 2.54 sec. Users per second: 2350\n"
     ]
    },
    {
     "name": "stderr",
     "output_type": "stream",
     "text": [
      "[I 2023-07-24 20:16:25,446] Trial 37 finished with value: 0.08695589350576806 and parameters: {'cutoff': 193}. Best is trial 27 with value: 0.0872028699157789.\n"
     ]
    },
    {
     "name": "stdout",
     "output_type": "stream",
     "text": [
      "EvaluatorHoldout: Processed 5965 (100.0%) in 2.31 sec. Users per second: 2581\n"
     ]
    },
    {
     "name": "stderr",
     "output_type": "stream",
     "text": [
      "[I 2023-07-24 20:16:49,903] Trial 38 finished with value: 0.08330550566133162 and parameters: {'cutoff': 45}. Best is trial 27 with value: 0.0872028699157789.\n"
     ]
    },
    {
     "name": "stdout",
     "output_type": "stream",
     "text": [
      "EvaluatorHoldout: Processed 5965 (100.0%) in 2.46 sec. Users per second: 2429\n"
     ]
    },
    {
     "name": "stderr",
     "output_type": "stream",
     "text": [
      "[I 2023-07-24 20:17:14,556] Trial 39 finished with value: 0.08611840897297779 and parameters: {'cutoff': 100}. Best is trial 27 with value: 0.0872028699157789.\n"
     ]
    },
    {
     "name": "stdout",
     "output_type": "stream",
     "text": [
      "EvaluatorHoldout: Processed 5965 (100.0%) in 2.41 sec. Users per second: 2480\n"
     ]
    },
    {
     "name": "stderr",
     "output_type": "stream",
     "text": [
      "[I 2023-07-24 20:17:39,129] Trial 40 finished with value: 0.08444074561928755 and parameters: {'cutoff': 55}. Best is trial 27 with value: 0.0872028699157789.\n"
     ]
    },
    {
     "name": "stdout",
     "output_type": "stream",
     "text": [
      "EvaluatorHoldout: Processed 5965 (100.0%) in 2.77 sec. Users per second: 2152\n"
     ]
    },
    {
     "name": "stderr",
     "output_type": "stream",
     "text": [
      "[I 2023-07-24 20:18:04,327] Trial 41 finished with value: 0.086908986282415 and parameters: {'cutoff': 162}. Best is trial 27 with value: 0.0872028699157789.\n"
     ]
    },
    {
     "name": "stdout",
     "output_type": "stream",
     "text": [
      "EvaluatorHoldout: Processed 5965 (100.0%) in 2.51 sec. Users per second: 2372\n"
     ]
    },
    {
     "name": "stderr",
     "output_type": "stream",
     "text": [
      "[I 2023-07-24 20:18:29,734] Trial 42 finished with value: 0.08524421559626962 and parameters: {'cutoff': 62}. Best is trial 27 with value: 0.0872028699157789.\n"
     ]
    },
    {
     "name": "stdout",
     "output_type": "stream",
     "text": [
      "EvaluatorHoldout: Processed 5965 (100.0%) in 2.52 sec. Users per second: 2364\n"
     ]
    },
    {
     "name": "stderr",
     "output_type": "stream",
     "text": [
      "[I 2023-07-24 20:18:54,800] Trial 43 finished with value: 0.08708226559693487 and parameters: {'cutoff': 162}. Best is trial 27 with value: 0.0872028699157789.\n"
     ]
    },
    {
     "name": "stdout",
     "output_type": "stream",
     "text": [
      "EvaluatorHoldout: Processed 5965 (100.0%) in 2.44 sec. Users per second: 2440\n"
     ]
    },
    {
     "name": "stderr",
     "output_type": "stream",
     "text": [
      "[I 2023-07-24 20:19:19,586] Trial 44 finished with value: 0.08361552841309801 and parameters: {'cutoff': 47}. Best is trial 27 with value: 0.0872028699157789.\n"
     ]
    },
    {
     "name": "stdout",
     "output_type": "stream",
     "text": [
      "EvaluatorHoldout: Processed 5965 (100.0%) in 2.45 sec. Users per second: 2436\n"
     ]
    },
    {
     "name": "stderr",
     "output_type": "stream",
     "text": [
      "[I 2023-07-24 20:19:44,271] Trial 45 finished with value: 0.08577639404462585 and parameters: {'cutoff': 90}. Best is trial 27 with value: 0.0872028699157789.\n"
     ]
    },
    {
     "name": "stdout",
     "output_type": "stream",
     "text": [
      "EvaluatorHoldout: Processed 5965 (100.0%) in 2.77 sec. Users per second: 2153\n"
     ]
    },
    {
     "name": "stderr",
     "output_type": "stream",
     "text": [
      "[I 2023-07-24 20:20:09,316] Trial 46 finished with value: 0.07994646682366734 and parameters: {'cutoff': 24}. Best is trial 27 with value: 0.0872028699157789.\n"
     ]
    },
    {
     "name": "stdout",
     "output_type": "stream",
     "text": [
      "EvaluatorHoldout: Processed 5965 (100.0%) in 2.47 sec. Users per second: 2410\n"
     ]
    },
    {
     "name": "stderr",
     "output_type": "stream",
     "text": [
      "[I 2023-07-24 20:20:34,104] Trial 47 finished with value: 0.0858882369376926 and parameters: {'cutoff': 87}. Best is trial 27 with value: 0.0872028699157789.\n"
     ]
    },
    {
     "name": "stdout",
     "output_type": "stream",
     "text": [
      "EvaluatorHoldout: Processed 5965 (100.0%) in 2.48 sec. Users per second: 2408\n"
     ]
    },
    {
     "name": "stderr",
     "output_type": "stream",
     "text": [
      "[I 2023-07-24 20:20:58,797] Trial 48 finished with value: 0.08682813102888584 and parameters: {'cutoff': 148}. Best is trial 27 with value: 0.0872028699157789.\n"
     ]
    },
    {
     "name": "stdout",
     "output_type": "stream",
     "text": [
      "EvaluatorHoldout: Processed 5965 (100.0%) in 2.53 sec. Users per second: 2355\n"
     ]
    },
    {
     "name": "stderr",
     "output_type": "stream",
     "text": [
      "[I 2023-07-24 20:21:23,408] Trial 49 finished with value: 0.07787502494711245 and parameters: {'cutoff': 16}. Best is trial 27 with value: 0.0872028699157789.\n"
     ]
    },
    {
     "name": "stdout",
     "output_type": "stream",
     "text": [
      "EvaluatorHoldout: Processed 5965 (100.0%) in 2.46 sec. Users per second: 2428\n"
     ]
    },
    {
     "name": "stderr",
     "output_type": "stream",
     "text": [
      "[I 2023-07-24 20:21:48,283] Trial 50 finished with value: 0.08671929509440021 and parameters: {'cutoff': 139}. Best is trial 27 with value: 0.0872028699157789.\n"
     ]
    },
    {
     "name": "stdout",
     "output_type": "stream",
     "text": [
      "EvaluatorHoldout: Processed 5965 (100.0%) in 2.47 sec. Users per second: 2410\n"
     ]
    },
    {
     "name": "stderr",
     "output_type": "stream",
     "text": [
      "[I 2023-07-24 20:22:12,961] Trial 51 finished with value: 0.08684591998296973 and parameters: {'cutoff': 162}. Best is trial 27 with value: 0.0872028699157789.\n"
     ]
    },
    {
     "name": "stdout",
     "output_type": "stream",
     "text": [
      "EvaluatorHoldout: Processed 5965 (100.0%) in 2.50 sec. Users per second: 2387\n"
     ]
    },
    {
     "name": "stderr",
     "output_type": "stream",
     "text": [
      "[I 2023-07-24 20:22:37,725] Trial 52 finished with value: 0.08694069905134481 and parameters: {'cutoff': 195}. Best is trial 27 with value: 0.0872028699157789.\n"
     ]
    },
    {
     "name": "stdout",
     "output_type": "stream",
     "text": [
      "EvaluatorHoldout: Processed 5965 (100.0%) in 2.93 sec. Users per second: 2037\n"
     ]
    },
    {
     "name": "stderr",
     "output_type": "stream",
     "text": [
      "[I 2023-07-24 20:23:03,115] Trial 53 finished with value: 0.08159487220426068 and parameters: {'cutoff': 32}. Best is trial 27 with value: 0.0872028699157789.\n"
     ]
    },
    {
     "name": "stdout",
     "output_type": "stream",
     "text": [
      "EvaluatorHoldout: Processed 5965 (100.0%) in 2.51 sec. Users per second: 2374\n"
     ]
    },
    {
     "name": "stderr",
     "output_type": "stream",
     "text": [
      "[I 2023-07-24 20:23:28,125] Trial 54 finished with value: 0.08660472465040822 and parameters: {'cutoff': 130}. Best is trial 27 with value: 0.0872028699157789.\n"
     ]
    },
    {
     "name": "stdout",
     "output_type": "stream",
     "text": [
      "EvaluatorHoldout: Processed 5965 (100.0%) in 2.38 sec. Users per second: 2503\n"
     ]
    },
    {
     "name": "stderr",
     "output_type": "stream",
     "text": [
      "[I 2023-07-24 20:23:52,706] Trial 55 finished with value: 0.08306351202118213 and parameters: {'cutoff': 38}. Best is trial 27 with value: 0.0872028699157789.\n"
     ]
    },
    {
     "name": "stdout",
     "output_type": "stream",
     "text": [
      "EvaluatorHoldout: Processed 5965 (100.0%) in 2.50 sec. Users per second: 2382\n"
     ]
    },
    {
     "name": "stderr",
     "output_type": "stream",
     "text": [
      "[I 2023-07-24 20:24:17,528] Trial 56 finished with value: 0.0872106401096344 and parameters: {'cutoff': 176}. Best is trial 56 with value: 0.0872106401096344.\n"
     ]
    },
    {
     "name": "stdout",
     "output_type": "stream",
     "text": [
      "EvaluatorHoldout: Processed 5965 (100.0%) in 2.50 sec. Users per second: 2383\n"
     ]
    },
    {
     "name": "stderr",
     "output_type": "stream",
     "text": [
      "[I 2023-07-24 20:24:42,331] Trial 57 finished with value: 0.08668895940605943 and parameters: {'cutoff': 150}. Best is trial 56 with value: 0.0872106401096344.\n"
     ]
    },
    {
     "name": "stdout",
     "output_type": "stream",
     "text": [
      "EvaluatorHoldout: Processed 5965 (100.0%) in 2.60 sec. Users per second: 2294\n"
     ]
    },
    {
     "name": "stderr",
     "output_type": "stream",
     "text": [
      "[I 2023-07-24 20:25:07,070] Trial 58 finished with value: 0.07799359358160729 and parameters: {'cutoff': 17}. Best is trial 56 with value: 0.0872106401096344.\n"
     ]
    },
    {
     "name": "stdout",
     "output_type": "stream",
     "text": [
      "EvaluatorHoldout: Processed 5965 (100.0%) in 2.44 sec. Users per second: 2441\n"
     ]
    },
    {
     "name": "stderr",
     "output_type": "stream",
     "text": [
      "[I 2023-07-24 20:25:31,669] Trial 59 finished with value: 0.08668243324152831 and parameters: {'cutoff': 124}. Best is trial 56 with value: 0.0872106401096344.\n"
     ]
    },
    {
     "name": "stdout",
     "output_type": "stream",
     "text": [
      "EvaluatorHoldout: Processed 5965 (100.0%) in 2.54 sec. Users per second: 2344\n"
     ]
    },
    {
     "name": "stderr",
     "output_type": "stream",
     "text": [
      "[I 2023-07-24 20:25:56,444] Trial 60 finished with value: 0.08712332521720649 and parameters: {'cutoff': 176}. Best is trial 56 with value: 0.0872106401096344.\n"
     ]
    },
    {
     "name": "stdout",
     "output_type": "stream",
     "text": [
      "EvaluatorHoldout: Processed 5965 (100.0%) in 2.51 sec. Users per second: 2375\n"
     ]
    },
    {
     "name": "stderr",
     "output_type": "stream",
     "text": [
      "[I 2023-07-24 20:26:21,543] Trial 61 finished with value: 0.08606190875344319 and parameters: {'cutoff': 99}. Best is trial 56 with value: 0.0872106401096344.\n"
     ]
    },
    {
     "name": "stdout",
     "output_type": "stream",
     "text": [
      "EvaluatorHoldout: Processed 5965 (100.0%) in 2.49 sec. Users per second: 2399\n"
     ]
    },
    {
     "name": "stderr",
     "output_type": "stream",
     "text": [
      "[I 2023-07-24 20:26:46,352] Trial 62 finished with value: 0.08689534852778799 and parameters: {'cutoff': 176}. Best is trial 56 with value: 0.0872106401096344.\n"
     ]
    },
    {
     "name": "stdout",
     "output_type": "stream",
     "text": [
      "EvaluatorHoldout: Processed 5965 (100.0%) in 2.45 sec. Users per second: 2437\n"
     ]
    },
    {
     "name": "stderr",
     "output_type": "stream",
     "text": [
      "[I 2023-07-24 20:27:11,026] Trial 63 finished with value: 0.08630843278915412 and parameters: {'cutoff': 119}. Best is trial 56 with value: 0.0872106401096344.\n"
     ]
    },
    {
     "name": "stdout",
     "output_type": "stream",
     "text": [
      "EvaluatorHoldout: Processed 5965 (100.0%) in 2.42 sec. Users per second: 2468\n"
     ]
    },
    {
     "name": "stderr",
     "output_type": "stream",
     "text": [
      "[I 2023-07-24 20:27:35,637] Trial 64 finished with value: 0.08545750342607042 and parameters: {'cutoff': 66}. Best is trial 56 with value: 0.0872106401096344.\n"
     ]
    },
    {
     "name": "stdout",
     "output_type": "stream",
     "text": [
      "EvaluatorHoldout: Processed 5965 (100.0%) in 2.38 sec. Users per second: 2501\n"
     ]
    },
    {
     "name": "stderr",
     "output_type": "stream",
     "text": [
      "[I 2023-07-24 20:28:00,128] Trial 65 finished with value: 0.08406772309370845 and parameters: {'cutoff': 53}. Best is trial 56 with value: 0.0872106401096344.\n"
     ]
    },
    {
     "name": "stdout",
     "output_type": "stream",
     "text": [
      "EvaluatorHoldout: Processed 5965 (100.0%) in 2.41 sec. Users per second: 2472\n"
     ]
    },
    {
     "name": "stderr",
     "output_type": "stream",
     "text": [
      "[I 2023-07-24 20:28:24,740] Trial 66 finished with value: 0.0855375470668853 and parameters: {'cutoff': 70}. Best is trial 56 with value: 0.0872106401096344.\n"
     ]
    },
    {
     "name": "stdout",
     "output_type": "stream",
     "text": [
      "EvaluatorHoldout: Processed 5965 (100.0%) in 2.39 sec. Users per second: 2492\n"
     ]
    },
    {
     "name": "stderr",
     "output_type": "stream",
     "text": [
      "[I 2023-07-24 20:28:49,281] Trial 67 finished with value: 0.0853887425324983 and parameters: {'cutoff': 71}. Best is trial 56 with value: 0.0872106401096344.\n"
     ]
    },
    {
     "name": "stdout",
     "output_type": "stream",
     "text": [
      "EvaluatorHoldout: Processed 5965 (100.0%) in 2.44 sec. Users per second: 2441\n"
     ]
    },
    {
     "name": "stderr",
     "output_type": "stream",
     "text": [
      "[I 2023-07-24 20:29:13,900] Trial 68 finished with value: 0.08639878790297954 and parameters: {'cutoff': 111}. Best is trial 56 with value: 0.0872106401096344.\n"
     ]
    },
    {
     "name": "stdout",
     "output_type": "stream",
     "text": [
      "EvaluatorHoldout: Processed 5965 (100.0%) in 2.50 sec. Users per second: 2388\n"
     ]
    },
    {
     "name": "stderr",
     "output_type": "stream",
     "text": [
      "[I 2023-07-24 20:29:38,638] Trial 69 finished with value: 0.08684732367381189 and parameters: {'cutoff': 156}. Best is trial 56 with value: 0.0872106401096344.\n"
     ]
    },
    {
     "name": "stdout",
     "output_type": "stream",
     "text": [
      "EvaluatorHoldout: Processed 5965 (100.0%) in 2.45 sec. Users per second: 2433\n"
     ]
    },
    {
     "name": "stderr",
     "output_type": "stream",
     "text": [
      "[I 2023-07-24 20:30:03,386] Trial 70 finished with value: 0.08612520124003831 and parameters: {'cutoff': 109}. Best is trial 56 with value: 0.0872106401096344.\n"
     ]
    },
    {
     "name": "stdout",
     "output_type": "stream",
     "text": [
      "EvaluatorHoldout: Processed 5965 (100.0%) in 2.48 sec. Users per second: 2402\n"
     ]
    },
    {
     "name": "stderr",
     "output_type": "stream",
     "text": [
      "[I 2023-07-24 20:30:28,290] Trial 71 finished with value: 0.08709406059154617 and parameters: {'cutoff': 162}. Best is trial 56 with value: 0.0872106401096344.\n"
     ]
    },
    {
     "name": "stdout",
     "output_type": "stream",
     "text": [
      "EvaluatorHoldout: Processed 5965 (100.0%) in 2.52 sec. Users per second: 2366\n"
     ]
    },
    {
     "name": "stderr",
     "output_type": "stream",
     "text": [
      "[I 2023-07-24 20:30:53,177] Trial 72 finished with value: 0.08688795753003663 and parameters: {'cutoff': 168}. Best is trial 56 with value: 0.0872106401096344.\n"
     ]
    },
    {
     "name": "stdout",
     "output_type": "stream",
     "text": [
      "EvaluatorHoldout: Processed 5965 (100.0%) in 2.49 sec. Users per second: 2398\n"
     ]
    },
    {
     "name": "stderr",
     "output_type": "stream",
     "text": [
      "[I 2023-07-24 20:31:17,881] Trial 73 finished with value: 0.08684520815870381 and parameters: {'cutoff': 176}. Best is trial 56 with value: 0.0872106401096344.\n"
     ]
    },
    {
     "name": "stdout",
     "output_type": "stream",
     "text": [
      "EvaluatorHoldout: Processed 5965 (100.0%) in 2.38 sec. Users per second: 2507\n"
     ]
    },
    {
     "name": "stderr",
     "output_type": "stream",
     "text": [
      "[I 2023-07-24 20:31:42,407] Trial 74 finished with value: 0.0838728562114987 and parameters: {'cutoff': 51}. Best is trial 56 with value: 0.0872106401096344.\n"
     ]
    },
    {
     "name": "stdout",
     "output_type": "stream",
     "text": [
      "EvaluatorHoldout: Processed 5965 (100.0%) in 2.44 sec. Users per second: 2444\n"
     ]
    },
    {
     "name": "stderr",
     "output_type": "stream",
     "text": [
      "[I 2023-07-24 20:32:06,988] Trial 75 finished with value: 0.08661176306230826 and parameters: {'cutoff': 133}. Best is trial 56 with value: 0.0872106401096344.\n"
     ]
    },
    {
     "name": "stdout",
     "output_type": "stream",
     "text": [
      "EvaluatorHoldout: Processed 5965 (100.0%) in 2.39 sec. Users per second: 2501\n"
     ]
    },
    {
     "name": "stderr",
     "output_type": "stream",
     "text": [
      "[I 2023-07-24 20:32:31,502] Trial 76 finished with value: 0.08510344070570429 and parameters: {'cutoff': 67}. Best is trial 56 with value: 0.0872106401096344.\n"
     ]
    },
    {
     "name": "stdout",
     "output_type": "stream",
     "text": [
      "EvaluatorHoldout: Processed 5965 (100.0%) in 2.45 sec. Users per second: 2438\n"
     ]
    },
    {
     "name": "stderr",
     "output_type": "stream",
     "text": [
      "[I 2023-07-24 20:32:56,127] Trial 77 finished with value: 0.08473103686850586 and parameters: {'cutoff': 57}. Best is trial 56 with value: 0.0872106401096344.\n"
     ]
    },
    {
     "name": "stdout",
     "output_type": "stream",
     "text": [
      "EvaluatorHoldout: Processed 5965 (100.0%) in 2.42 sec. Users per second: 2462\n"
     ]
    },
    {
     "name": "stderr",
     "output_type": "stream",
     "text": [
      "[I 2023-07-24 20:33:20,746] Trial 78 finished with value: 0.08600314000984623 and parameters: {'cutoff': 103}. Best is trial 56 with value: 0.0872106401096344.\n"
     ]
    },
    {
     "name": "stdout",
     "output_type": "stream",
     "text": [
      "EvaluatorHoldout: Processed 5965 (100.0%) in 2.48 sec. Users per second: 2406\n"
     ]
    },
    {
     "name": "stderr",
     "output_type": "stream",
     "text": [
      "[I 2023-07-24 20:33:45,377] Trial 79 finished with value: 0.08676154552349054 and parameters: {'cutoff': 170}. Best is trial 56 with value: 0.0872106401096344.\n"
     ]
    },
    {
     "name": "stdout",
     "output_type": "stream",
     "text": [
      "EvaluatorHoldout: Processed 5965 (100.0%) in 2.49 sec. Users per second: 2395\n"
     ]
    },
    {
     "name": "stderr",
     "output_type": "stream",
     "text": [
      "[I 2023-07-24 20:34:10,061] Trial 80 finished with value: 0.08698240397024998 and parameters: {'cutoff': 178}. Best is trial 56 with value: 0.0872106401096344.\n"
     ]
    },
    {
     "name": "stdout",
     "output_type": "stream",
     "text": [
      "EvaluatorHoldout: Processed 5965 (100.0%) in 2.39 sec. Users per second: 2495\n"
     ]
    },
    {
     "name": "stderr",
     "output_type": "stream",
     "text": [
      "[I 2023-07-24 20:34:34,585] Trial 81 finished with value: 0.08506287337511183 and parameters: {'cutoff': 59}. Best is trial 56 with value: 0.0872106401096344.\n"
     ]
    },
    {
     "name": "stdout",
     "output_type": "stream",
     "text": [
      "EvaluatorHoldout: Processed 5965 (100.0%) in 2.45 sec. Users per second: 2437\n"
     ]
    },
    {
     "name": "stderr",
     "output_type": "stream",
     "text": [
      "[I 2023-07-24 20:34:59,284] Trial 82 finished with value: 0.08692876435290552 and parameters: {'cutoff': 162}. Best is trial 56 with value: 0.0872106401096344.\n"
     ]
    },
    {
     "name": "stdout",
     "output_type": "stream",
     "text": [
      "EvaluatorHoldout: Processed 5965 (100.0%) in 2.48 sec. Users per second: 2401\n"
     ]
    },
    {
     "name": "stderr",
     "output_type": "stream",
     "text": [
      "[I 2023-07-24 20:35:23,912] Trial 83 finished with value: 0.08692090102316455 and parameters: {'cutoff': 197}. Best is trial 56 with value: 0.0872106401096344.\n"
     ]
    },
    {
     "name": "stdout",
     "output_type": "stream",
     "text": [
      "EvaluatorHoldout: Processed 5965 (100.0%) in 2.41 sec. Users per second: 2472\n"
     ]
    },
    {
     "name": "stderr",
     "output_type": "stream",
     "text": [
      "[I 2023-07-24 20:35:48,370] Trial 84 finished with value: 0.0868012879362422 and parameters: {'cutoff': 162}. Best is trial 56 with value: 0.0872106401096344.\n"
     ]
    },
    {
     "name": "stdout",
     "output_type": "stream",
     "text": [
      "EvaluatorHoldout: Processed 5965 (100.0%) in 2.38 sec. Users per second: 2504\n"
     ]
    },
    {
     "name": "stderr",
     "output_type": "stream",
     "text": [
      "[I 2023-07-24 20:36:12,751] Trial 85 finished with value: 0.08701623890685113 and parameters: {'cutoff': 132}. Best is trial 56 with value: 0.0872106401096344.\n"
     ]
    },
    {
     "name": "stdout",
     "output_type": "stream",
     "text": [
      "EvaluatorHoldout: Processed 5965 (100.0%) in 2.37 sec. Users per second: 2521\n"
     ]
    },
    {
     "name": "stderr",
     "output_type": "stream",
     "text": [
      "[I 2023-07-24 20:36:37,081] Trial 86 finished with value: 0.08610740563339096 and parameters: {'cutoff': 108}. Best is trial 56 with value: 0.0872106401096344.\n"
     ]
    },
    {
     "name": "stdout",
     "output_type": "stream",
     "text": [
      "EvaluatorHoldout: Processed 5965 (100.0%) in 2.78 sec. Users per second: 2143\n"
     ]
    },
    {
     "name": "stderr",
     "output_type": "stream",
     "text": [
      "[I 2023-07-24 20:37:01,785] Trial 87 finished with value: 0.08144737822483046 and parameters: {'cutoff': 29}. Best is trial 56 with value: 0.0872106401096344.\n"
     ]
    },
    {
     "name": "stdout",
     "output_type": "stream",
     "text": [
      "EvaluatorHoldout: Processed 5965 (100.0%) in 2.43 sec. Users per second: 2457\n"
     ]
    },
    {
     "name": "stderr",
     "output_type": "stream",
     "text": [
      "[I 2023-07-24 20:37:26,210] Trial 88 finished with value: 0.08692269721523738 and parameters: {'cutoff': 191}. Best is trial 56 with value: 0.0872106401096344.\n"
     ]
    },
    {
     "name": "stdout",
     "output_type": "stream",
     "text": [
      "EvaluatorHoldout: Processed 5965 (100.0%) in 2.40 sec. Users per second: 2484\n"
     ]
    },
    {
     "name": "stderr",
     "output_type": "stream",
     "text": [
      "[I 2023-07-24 20:37:50,818] Trial 89 finished with value: 0.08664042230471436 and parameters: {'cutoff': 146}. Best is trial 56 with value: 0.0872106401096344.\n"
     ]
    },
    {
     "name": "stdout",
     "output_type": "stream",
     "text": [
      "EvaluatorHoldout: Processed 5965 (100.0%) in 2.43 sec. Users per second: 2453\n"
     ]
    },
    {
     "name": "stderr",
     "output_type": "stream",
     "text": [
      "[I 2023-07-24 20:38:15,256] Trial 90 finished with value: 0.08668229353770039 and parameters: {'cutoff': 194}. Best is trial 56 with value: 0.0872106401096344.\n"
     ]
    },
    {
     "name": "stdout",
     "output_type": "stream",
     "text": [
      "EvaluatorHoldout: Processed 5965 (100.0%) in 2.39 sec. Users per second: 2501\n"
     ]
    },
    {
     "name": "stderr",
     "output_type": "stream",
     "text": [
      "[I 2023-07-24 20:38:39,608] Trial 91 finished with value: 0.08629958488005478 and parameters: {'cutoff': 115}. Best is trial 56 with value: 0.0872106401096344.\n"
     ]
    },
    {
     "name": "stdout",
     "output_type": "stream",
     "text": [
      "EvaluatorHoldout: Processed 5965 (100.0%) in 2.33 sec. Users per second: 2561\n"
     ]
    },
    {
     "name": "stderr",
     "output_type": "stream",
     "text": [
      "[I 2023-07-24 20:39:03,903] Trial 92 finished with value: 0.08568692372171047 and parameters: {'cutoff': 78}. Best is trial 56 with value: 0.0872106401096344.\n"
     ]
    },
    {
     "name": "stdout",
     "output_type": "stream",
     "text": [
      "EvaluatorHoldout: Processed 5965 (100.0%) in 2.43 sec. Users per second: 2453\n"
     ]
    },
    {
     "name": "stderr",
     "output_type": "stream",
     "text": [
      "[I 2023-07-24 20:39:28,320] Trial 93 finished with value: 0.08704203089450399 and parameters: {'cutoff': 177}. Best is trial 56 with value: 0.0872106401096344.\n"
     ]
    },
    {
     "name": "stdout",
     "output_type": "stream",
     "text": [
      "EvaluatorHoldout: Processed 5965 (100.0%) in 2.39 sec. Users per second: 2492\n"
     ]
    },
    {
     "name": "stderr",
     "output_type": "stream",
     "text": [
      "[I 2023-07-24 20:39:52,707] Trial 94 finished with value: 0.08673739671895617 and parameters: {'cutoff': 162}. Best is trial 56 with value: 0.0872106401096344.\n"
     ]
    },
    {
     "name": "stdout",
     "output_type": "stream",
     "text": [
      "EvaluatorHoldout: Processed 5965 (100.0%) in 2.30 sec. Users per second: 2599\n"
     ]
    },
    {
     "name": "stderr",
     "output_type": "stream",
     "text": [
      "[I 2023-07-24 20:40:16,981] Trial 95 finished with value: 0.08543730624409639 and parameters: {'cutoff': 76}. Best is trial 56 with value: 0.0872106401096344.\n"
     ]
    },
    {
     "name": "stdout",
     "output_type": "stream",
     "text": [
      "EvaluatorHoldout: Processed 5965 (100.0%) in 2.40 sec. Users per second: 2485\n"
     ]
    },
    {
     "name": "stderr",
     "output_type": "stream",
     "text": [
      "[I 2023-07-24 20:40:41,363] Trial 96 finished with value: 0.08694059261033306 and parameters: {'cutoff': 157}. Best is trial 56 with value: 0.0872106401096344.\n"
     ]
    },
    {
     "name": "stdout",
     "output_type": "stream",
     "text": [
      "EvaluatorHoldout: Processed 5965 (100.0%) in 2.30 sec. Users per second: 2595\n"
     ]
    },
    {
     "name": "stderr",
     "output_type": "stream",
     "text": [
      "[I 2023-07-24 20:41:05,592] Trial 97 finished with value: 0.08382117244774467 and parameters: {'cutoff': 49}. Best is trial 56 with value: 0.0872106401096344.\n"
     ]
    },
    {
     "name": "stdout",
     "output_type": "stream",
     "text": [
      "EvaluatorHoldout: Processed 5965 (100.0%) in 2.30 sec. Users per second: 2590\n"
     ]
    },
    {
     "name": "stderr",
     "output_type": "stream",
     "text": [
      "[I 2023-07-24 20:41:29,841] Trial 98 finished with value: 0.08447769395548135 and parameters: {'cutoff': 54}. Best is trial 56 with value: 0.0872106401096344.\n"
     ]
    },
    {
     "name": "stdout",
     "output_type": "stream",
     "text": [
      "EvaluatorHoldout: Processed 5965 (100.0%) in 2.38 sec. Users per second: 2506\n"
     ]
    },
    {
     "name": "stderr",
     "output_type": "stream",
     "text": [
      "[I 2023-07-24 20:41:54,207] Trial 99 finished with value: 0.08692189890764934 and parameters: {'cutoff': 184}. Best is trial 56 with value: 0.0872106401096344.\n"
     ]
    },
    {
     "name": "stdout",
     "output_type": "stream",
     "text": [
      "EvaluatorHoldout: Processed 5965 (100.0%) in 2.28 sec. Users per second: 2617\n"
     ]
    },
    {
     "name": "stderr",
     "output_type": "stream",
     "text": [
      "[I 2023-07-24 20:42:18,434] Trial 100 finished with value: 0.08488852299791139 and parameters: {'cutoff': 60}. Best is trial 56 with value: 0.0872106401096344.\n"
     ]
    },
    {
     "name": "stdout",
     "output_type": "stream",
     "text": [
      "EvaluatorHoldout: Processed 5965 (100.0%) in 2.38 sec. Users per second: 2506\n"
     ]
    },
    {
     "name": "stderr",
     "output_type": "stream",
     "text": [
      "[I 2023-07-24 20:42:42,819] Trial 101 finished with value: 0.08679171489775045 and parameters: {'cutoff': 162}. Best is trial 56 with value: 0.0872106401096344.\n"
     ]
    },
    {
     "name": "stdout",
     "output_type": "stream",
     "text": [
      "EvaluatorHoldout: Processed 5965 (100.0%) in 2.27 sec. Users per second: 2633\n"
     ]
    },
    {
     "name": "stderr",
     "output_type": "stream",
     "text": [
      "[I 2023-07-24 20:43:07,036] Trial 102 finished with value: 0.08435078300669295 and parameters: {'cutoff': 52}. Best is trial 56 with value: 0.0872106401096344.\n"
     ]
    },
    {
     "name": "stdout",
     "output_type": "stream",
     "text": [
      "EvaluatorHoldout: Processed 5965 (100.0%) in 2.33 sec. Users per second: 2558\n"
     ]
    },
    {
     "name": "stderr",
     "output_type": "stream",
     "text": [
      "[I 2023-07-24 20:43:31,356] Trial 103 finished with value: 0.0856907356404428 and parameters: {'cutoff': 86}. Best is trial 56 with value: 0.0872106401096344.\n"
     ]
    },
    {
     "name": "stdout",
     "output_type": "stream",
     "text": [
      "EvaluatorHoldout: Processed 5965 (100.0%) in 2.32 sec. Users per second: 2566\n"
     ]
    },
    {
     "name": "stderr",
     "output_type": "stream",
     "text": [
      "[I 2023-07-24 20:43:55,629] Trial 104 finished with value: 0.08543885629132948 and parameters: {'cutoff': 68}. Best is trial 56 with value: 0.0872106401096344.\n"
     ]
    },
    {
     "name": "stdout",
     "output_type": "stream",
     "text": [
      "EvaluatorHoldout: Processed 5965 (100.0%) in 2.30 sec. Users per second: 2597\n"
     ]
    },
    {
     "name": "stderr",
     "output_type": "stream",
     "text": [
      "[I 2023-07-24 20:44:19,843] Trial 105 finished with value: 0.08274335076304934 and parameters: {'cutoff': 37}. Best is trial 56 with value: 0.0872106401096344.\n"
     ]
    },
    {
     "name": "stdout",
     "output_type": "stream",
     "text": [
      "EvaluatorHoldout: Processed 5965 (100.0%) in 2.32 sec. Users per second: 2573\n"
     ]
    },
    {
     "name": "stderr",
     "output_type": "stream",
     "text": [
      "[I 2023-07-24 20:44:44,117] Trial 106 finished with value: 0.08638523663167454 and parameters: {'cutoff': 116}. Best is trial 56 with value: 0.0872106401096344.\n"
     ]
    },
    {
     "name": "stdout",
     "output_type": "stream",
     "text": [
      "EvaluatorHoldout: Processed 5965 (100.0%) in 2.40 sec. Users per second: 2487\n"
     ]
    },
    {
     "name": "stderr",
     "output_type": "stream",
     "text": [
      "[I 2023-07-24 20:45:08,615] Trial 107 finished with value: 0.0866032810441867 and parameters: {'cutoff': 152}. Best is trial 56 with value: 0.0872106401096344.\n"
     ]
    },
    {
     "name": "stdout",
     "output_type": "stream",
     "text": [
      "EvaluatorHoldout: Processed 5965 (100.0%) in 2.49 sec. Users per second: 2400\n"
     ]
    },
    {
     "name": "stderr",
     "output_type": "stream",
     "text": [
      "[I 2023-07-24 20:45:32,996] Trial 108 finished with value: 0.07748043481153315 and parameters: {'cutoff': 15}. Best is trial 56 with value: 0.0872106401096344.\n"
     ]
    },
    {
     "name": "stdout",
     "output_type": "stream",
     "text": [
      "EvaluatorHoldout: Processed 5965 (100.0%) in 2.40 sec. Users per second: 2490\n"
     ]
    },
    {
     "name": "stderr",
     "output_type": "stream",
     "text": [
      "[I 2023-07-24 20:45:57,393] Trial 109 finished with value: 0.0868994332016129 and parameters: {'cutoff': 175}. Best is trial 56 with value: 0.0872106401096344.\n"
     ]
    },
    {
     "name": "stdout",
     "output_type": "stream",
     "text": [
      "EvaluatorHoldout: Processed 5965 (100.0%) in 2.31 sec. Users per second: 2583\n"
     ]
    },
    {
     "name": "stderr",
     "output_type": "stream",
     "text": [
      "[I 2023-07-24 20:46:21,657] Trial 110 finished with value: 0.0861806703122718 and parameters: {'cutoff': 96}. Best is trial 56 with value: 0.0872106401096344.\n"
     ]
    },
    {
     "name": "stdout",
     "output_type": "stream",
     "text": [
      "EvaluatorHoldout: Processed 5965 (100.0%) in 2.42 sec. Users per second: 2460\n"
     ]
    },
    {
     "name": "stderr",
     "output_type": "stream",
     "text": [
      "[I 2023-07-24 20:46:46,091] Trial 111 finished with value: 0.08692154632179808 and parameters: {'cutoff': 187}. Best is trial 56 with value: 0.0872106401096344.\n"
     ]
    },
    {
     "name": "stdout",
     "output_type": "stream",
     "text": [
      "EvaluatorHoldout: Processed 5965 (100.0%) in 2.60 sec. Users per second: 2291\n"
     ]
    },
    {
     "name": "stderr",
     "output_type": "stream",
     "text": [
      "[I 2023-07-24 20:47:10,615] Trial 112 finished with value: 0.07955706568740961 and parameters: {'cutoff': 22}. Best is trial 56 with value: 0.0872106401096344.\n"
     ]
    },
    {
     "name": "stdout",
     "output_type": "stream",
     "text": [
      "EvaluatorHoldout: Processed 5965 (100.0%) in 2.40 sec. Users per second: 2483\n"
     ]
    },
    {
     "name": "stderr",
     "output_type": "stream",
     "text": [
      "[I 2023-07-24 20:47:35,035] Trial 113 finished with value: 0.08707473489535546 and parameters: {'cutoff': 177}. Best is trial 56 with value: 0.0872106401096344.\n"
     ]
    },
    {
     "name": "stdout",
     "output_type": "stream",
     "text": [
      "EvaluatorHoldout: Processed 5965 (100.0%) in 2.30 sec. Users per second: 2598\n"
     ]
    },
    {
     "name": "stderr",
     "output_type": "stream",
     "text": [
      "[I 2023-07-24 20:47:59,248] Trial 114 finished with value: 0.0835246477467772 and parameters: {'cutoff': 44}. Best is trial 56 with value: 0.0872106401096344.\n"
     ]
    },
    {
     "name": "stdout",
     "output_type": "stream",
     "text": [
      "EvaluatorHoldout: Processed 5965 (100.0%) in 2.31 sec. Users per second: 2580\n"
     ]
    },
    {
     "name": "stderr",
     "output_type": "stream",
     "text": [
      "[I 2023-07-24 20:48:23,517] Trial 115 finished with value: 0.08639509573038534 and parameters: {'cutoff': 112}. Best is trial 56 with value: 0.0872106401096344.\n"
     ]
    },
    {
     "name": "stdout",
     "output_type": "stream",
     "text": [
      "EvaluatorHoldout: Processed 5965 (100.0%) in 2.36 sec. Users per second: 2526\n"
     ]
    },
    {
     "name": "stderr",
     "output_type": "stream",
     "text": [
      "[I 2023-07-24 20:48:47,874] Trial 116 finished with value: 0.08638543620857153 and parameters: {'cutoff': 120}. Best is trial 56 with value: 0.0872106401096344.\n"
     ]
    },
    {
     "name": "stdout",
     "output_type": "stream",
     "text": [
      "EvaluatorHoldout: Processed 5965 (100.0%) in 2.38 sec. Users per second: 2506\n"
     ]
    },
    {
     "name": "stderr",
     "output_type": "stream",
     "text": [
      "[I 2023-07-24 20:49:12,235] Trial 117 finished with value: 0.0867632685373679 and parameters: {'cutoff': 145}. Best is trial 56 with value: 0.0872106401096344.\n"
     ]
    },
    {
     "name": "stdout",
     "output_type": "stream",
     "text": [
      "EvaluatorHoldout: Processed 5965 (100.0%) in 2.29 sec. Users per second: 2604\n"
     ]
    },
    {
     "name": "stderr",
     "output_type": "stream",
     "text": [
      "[I 2023-07-24 20:49:36,462] Trial 118 finished with value: 0.0828906717758356 and parameters: {'cutoff': 40}. Best is trial 56 with value: 0.0872106401096344.\n"
     ]
    },
    {
     "name": "stdout",
     "output_type": "stream",
     "text": [
      "EvaluatorHoldout: Processed 5965 (100.0%) in 2.39 sec. Users per second: 2500\n"
     ]
    },
    {
     "name": "stderr",
     "output_type": "stream",
     "text": [
      "[I 2023-07-24 20:50:00,852] Trial 119 finished with value: 0.08685631128673914 and parameters: {'cutoff': 158}. Best is trial 56 with value: 0.0872106401096344.\n"
     ]
    },
    {
     "name": "stdout",
     "output_type": "stream",
     "text": [
      "EvaluatorHoldout: Processed 5965 (100.0%) in 2.59 sec. Users per second: 2305\n"
     ]
    },
    {
     "name": "stderr",
     "output_type": "stream",
     "text": [
      "[I 2023-07-24 20:50:25,362] Trial 120 finished with value: 0.08007126890991112 and parameters: {'cutoff': 23}. Best is trial 56 with value: 0.0872106401096344.\n"
     ]
    },
    {
     "name": "stdout",
     "output_type": "stream",
     "text": [
      "EvaluatorHoldout: Processed 5965 (100.0%) in 2.25 sec. Users per second: 2646\n"
     ]
    },
    {
     "name": "stderr",
     "output_type": "stream",
     "text": [
      "[I 2023-07-24 20:50:49,508] Trial 121 finished with value: 0.08278036562487567 and parameters: {'cutoff': 41}. Best is trial 56 with value: 0.0872106401096344.\n"
     ]
    },
    {
     "name": "stdout",
     "output_type": "stream",
     "text": [
      "EvaluatorHoldout: Processed 5965 (100.0%) in 2.40 sec. Users per second: 2484\n"
     ]
    },
    {
     "name": "stderr",
     "output_type": "stream",
     "text": [
      "[I 2023-07-24 20:51:13,875] Trial 122 finished with value: 0.08687546401628589 and parameters: {'cutoff': 161}. Best is trial 56 with value: 0.0872106401096344.\n"
     ]
    },
    {
     "name": "stdout",
     "output_type": "stream",
     "text": [
      "EvaluatorHoldout: Processed 5965 (100.0%) in 2.35 sec. Users per second: 2536\n"
     ]
    },
    {
     "name": "stderr",
     "output_type": "stream",
     "text": [
      "[I 2023-07-24 20:51:38,164] Trial 123 finished with value: 0.0864249191713572 and parameters: {'cutoff': 113}. Best is trial 56 with value: 0.0872106401096344.\n"
     ]
    },
    {
     "name": "stdout",
     "output_type": "stream",
     "text": [
      "EvaluatorHoldout: Processed 5965 (100.0%) in 2.39 sec. Users per second: 2500\n"
     ]
    },
    {
     "name": "stderr",
     "output_type": "stream",
     "text": [
      "[I 2023-07-24 20:52:02,538] Trial 124 finished with value: 0.0858731156614649 and parameters: {'cutoff': 102}. Best is trial 56 with value: 0.0872106401096344.\n"
     ]
    },
    {
     "name": "stdout",
     "output_type": "stream",
     "text": [
      "EvaluatorHoldout: Processed 5965 (100.0%) in 2.30 sec. Users per second: 2598\n"
     ]
    },
    {
     "name": "stderr",
     "output_type": "stream",
     "text": [
      "[I 2023-07-24 20:52:26,896] Trial 125 finished with value: 0.0861926116632743 and parameters: {'cutoff': 105}. Best is trial 56 with value: 0.0872106401096344.\n"
     ]
    },
    {
     "name": "stdout",
     "output_type": "stream",
     "text": [
      "EvaluatorHoldout: Processed 5965 (100.0%) in 2.32 sec. Users per second: 2573\n"
     ]
    },
    {
     "name": "stderr",
     "output_type": "stream",
     "text": [
      "[I 2023-07-24 20:52:51,171] Trial 126 finished with value: 0.08676508468713029 and parameters: {'cutoff': 128}. Best is trial 56 with value: 0.0872106401096344.\n"
     ]
    },
    {
     "name": "stdout",
     "output_type": "stream",
     "text": [
      "EvaluatorHoldout: Processed 5965 (100.0%) in 2.39 sec. Users per second: 2499\n"
     ]
    },
    {
     "name": "stderr",
     "output_type": "stream",
     "text": [
      "[I 2023-07-24 20:53:15,548] Trial 127 finished with value: 0.08691050971939514 and parameters: {'cutoff': 174}. Best is trial 56 with value: 0.0872106401096344.\n"
     ]
    },
    {
     "name": "stdout",
     "output_type": "stream",
     "text": [
      "EvaluatorHoldout: Processed 5965 (100.0%) in 2.41 sec. Users per second: 2476\n"
     ]
    },
    {
     "name": "stderr",
     "output_type": "stream",
     "text": [
      "[I 2023-07-24 20:53:39,984] Trial 128 finished with value: 0.08698920954243705 and parameters: {'cutoff': 185}. Best is trial 56 with value: 0.0872106401096344.\n"
     ]
    },
    {
     "name": "stdout",
     "output_type": "stream",
     "text": [
      "EvaluatorHoldout: Processed 5965 (100.0%) in 2.40 sec. Users per second: 2480\n"
     ]
    },
    {
     "name": "stderr",
     "output_type": "stream",
     "text": [
      "[I 2023-07-24 20:54:04,401] Trial 129 finished with value: 0.08704491810694695 and parameters: {'cutoff': 179}. Best is trial 56 with value: 0.0872106401096344.\n"
     ]
    },
    {
     "name": "stdout",
     "output_type": "stream",
     "text": [
      "EvaluatorHoldout: Processed 5965 (100.0%) in 2.40 sec. Users per second: 2480\n"
     ]
    },
    {
     "name": "stderr",
     "output_type": "stream",
     "text": [
      "[I 2023-07-24 20:54:28,802] Trial 130 finished with value: 0.08695090408334354 and parameters: {'cutoff': 188}. Best is trial 56 with value: 0.0872106401096344.\n"
     ]
    },
    {
     "name": "stdout",
     "output_type": "stream",
     "text": [
      "EvaluatorHoldout: Processed 5965 (100.0%) in 2.38 sec. Users per second: 2508\n"
     ]
    },
    {
     "name": "stderr",
     "output_type": "stream",
     "text": [
      "[I 2023-07-24 20:54:53,144] Trial 131 finished with value: 0.08707116912146282 and parameters: {'cutoff': 144}. Best is trial 56 with value: 0.0872106401096344.\n"
     ]
    },
    {
     "name": "stdout",
     "output_type": "stream",
     "text": [
      "EvaluatorHoldout: Processed 5965 (100.0%) in 2.41 sec. Users per second: 2475\n"
     ]
    },
    {
     "name": "stderr",
     "output_type": "stream",
     "text": [
      "[I 2023-07-24 20:55:17,540] Trial 132 finished with value: 0.08674807408294445 and parameters: {'cutoff': 179}. Best is trial 56 with value: 0.0872106401096344.\n"
     ]
    },
    {
     "name": "stdout",
     "output_type": "stream",
     "text": [
      "EvaluatorHoldout: Processed 5965 (100.0%) in 2.30 sec. Users per second: 2598\n"
     ]
    },
    {
     "name": "stderr",
     "output_type": "stream",
     "text": [
      "[I 2023-07-24 20:55:41,781] Trial 133 finished with value: 0.0851109514495939 and parameters: {'cutoff': 63}. Best is trial 56 with value: 0.0872106401096344.\n"
     ]
    },
    {
     "name": "stdout",
     "output_type": "stream",
     "text": [
      "EvaluatorHoldout: Processed 5965 (100.0%) in 2.40 sec. Users per second: 2483\n"
     ]
    },
    {
     "name": "stderr",
     "output_type": "stream",
     "text": [
      "[I 2023-07-24 20:56:06,179] Trial 134 finished with value: 0.0870244814326963 and parameters: {'cutoff': 176}. Best is trial 56 with value: 0.0872106401096344.\n"
     ]
    },
    {
     "name": "stdout",
     "output_type": "stream",
     "text": [
      "EvaluatorHoldout: Processed 5965 (100.0%) in 2.38 sec. Users per second: 2504\n"
     ]
    },
    {
     "name": "stderr",
     "output_type": "stream",
     "text": [
      "[I 2023-07-24 20:56:30,551] Trial 135 finished with value: 0.08672471693343473 and parameters: {'cutoff': 172}. Best is trial 56 with value: 0.0872106401096344.\n"
     ]
    },
    {
     "name": "stdout",
     "output_type": "stream",
     "text": [
      "EvaluatorHoldout: Processed 5965 (100.0%) in 2.33 sec. Users per second: 2563\n"
     ]
    },
    {
     "name": "stderr",
     "output_type": "stream",
     "text": [
      "[I 2023-07-24 20:56:54,829] Trial 136 finished with value: 0.08626994105829032 and parameters: {'cutoff': 97}. Best is trial 56 with value: 0.0872106401096344.\n"
     ]
    },
    {
     "name": "stdout",
     "output_type": "stream",
     "text": [
      "EvaluatorHoldout: Processed 5965 (100.0%) in 2.31 sec. Users per second: 2582\n"
     ]
    },
    {
     "name": "stderr",
     "output_type": "stream",
     "text": [
      "[I 2023-07-24 20:57:19,076] Trial 137 finished with value: 0.0827150108436784 and parameters: {'cutoff': 39}. Best is trial 56 with value: 0.0872106401096344.\n"
     ]
    },
    {
     "name": "stdout",
     "output_type": "stream",
     "text": [
      "EvaluatorHoldout: Processed 5965 (100.0%) in 2.38 sec. Users per second: 2510\n"
     ]
    },
    {
     "name": "stderr",
     "output_type": "stream",
     "text": [
      "[I 2023-07-24 20:57:43,496] Trial 138 finished with value: 0.08703806596681725 and parameters: {'cutoff': 164}. Best is trial 56 with value: 0.0872106401096344.\n"
     ]
    },
    {
     "name": "stdout",
     "output_type": "stream",
     "text": [
      "EvaluatorHoldout: Processed 5965 (100.0%) in 2.38 sec. Users per second: 2503\n"
     ]
    },
    {
     "name": "stderr",
     "output_type": "stream",
     "text": [
      "[I 2023-07-24 20:58:07,879] Trial 139 finished with value: 0.08674374991684332 and parameters: {'cutoff': 144}. Best is trial 56 with value: 0.0872106401096344.\n"
     ]
    },
    {
     "name": "stdout",
     "output_type": "stream",
     "text": [
      "EvaluatorHoldout: Processed 5965 (100.0%) in 2.42 sec. Users per second: 2469\n"
     ]
    },
    {
     "name": "stderr",
     "output_type": "stream",
     "text": [
      "[I 2023-07-24 20:58:32,290] Trial 140 finished with value: 0.08696128873454975 and parameters: {'cutoff': 162}. Best is trial 56 with value: 0.0872106401096344.\n"
     ]
    },
    {
     "name": "stdout",
     "output_type": "stream",
     "text": [
      "EvaluatorHoldout: Processed 5965 (100.0%) in 2.40 sec. Users per second: 2485\n"
     ]
    },
    {
     "name": "stderr",
     "output_type": "stream",
     "text": [
      "[I 2023-07-24 20:58:56,689] Trial 141 finished with value: 0.08667352545935988 and parameters: {'cutoff': 165}. Best is trial 56 with value: 0.0872106401096344.\n"
     ]
    },
    {
     "name": "stdout",
     "output_type": "stream",
     "text": [
      "EvaluatorHoldout: Processed 5965 (100.0%) in 2.82 sec. Users per second: 2118\n"
     ]
    },
    {
     "name": "stderr",
     "output_type": "stream",
     "text": [
      "[I 2023-07-24 20:59:21,446] Trial 142 finished with value: 0.08188073284636606 and parameters: {'cutoff': 33}. Best is trial 56 with value: 0.0872106401096344.\n"
     ]
    },
    {
     "name": "stdout",
     "output_type": "stream",
     "text": [
      "EvaluatorHoldout: Processed 5965 (100.0%) in 2.32 sec. Users per second: 2569\n"
     ]
    },
    {
     "name": "stderr",
     "output_type": "stream",
     "text": [
      "[I 2023-07-24 20:59:45,824] Trial 143 finished with value: 0.08632378025253179 and parameters: {'cutoff': 107}. Best is trial 56 with value: 0.0872106401096344.\n"
     ]
    },
    {
     "name": "stdout",
     "output_type": "stream",
     "text": [
      "EvaluatorHoldout: Processed 5965 (100.0%) in 2.36 sec. Users per second: 2523\n"
     ]
    },
    {
     "name": "stderr",
     "output_type": "stream",
     "text": [
      "[I 2023-07-24 21:00:10,192] Trial 144 finished with value: 0.08698507164810623 and parameters: {'cutoff': 180}. Best is trial 56 with value: 0.0872106401096344.\n"
     ]
    },
    {
     "name": "stdout",
     "output_type": "stream",
     "text": [
      "EvaluatorHoldout: Processed 5965 (100.0%) in 2.35 sec. Users per second: 2535\n"
     ]
    },
    {
     "name": "stderr",
     "output_type": "stream",
     "text": [
      "[I 2023-07-24 21:00:34,513] Trial 145 finished with value: 0.08630484705757177 and parameters: {'cutoff': 106}. Best is trial 56 with value: 0.0872106401096344.\n"
     ]
    },
    {
     "name": "stdout",
     "output_type": "stream",
     "text": [
      "EvaluatorHoldout: Processed 5965 (100.0%) in 2.38 sec. Users per second: 2508\n"
     ]
    },
    {
     "name": "stderr",
     "output_type": "stream",
     "text": [
      "[I 2023-07-24 21:00:58,871] Trial 146 finished with value: 0.0869100706502219 and parameters: {'cutoff': 159}. Best is trial 56 with value: 0.0872106401096344.\n"
     ]
    },
    {
     "name": "stdout",
     "output_type": "stream",
     "text": [
      "EvaluatorHoldout: Processed 5965 (100.0%) in 2.36 sec. Users per second: 2532\n"
     ]
    },
    {
     "name": "stderr",
     "output_type": "stream",
     "text": [
      "[I 2023-07-24 21:01:23,220] Trial 147 finished with value: 0.08692632286219909 and parameters: {'cutoff': 150}. Best is trial 56 with value: 0.0872106401096344.\n"
     ]
    },
    {
     "name": "stdout",
     "output_type": "stream",
     "text": [
      "EvaluatorHoldout: Processed 5965 (100.0%) in 2.28 sec. Users per second: 2611\n"
     ]
    },
    {
     "name": "stderr",
     "output_type": "stream",
     "text": [
      "[I 2023-07-24 21:01:47,464] Trial 148 finished with value: 0.08531636929709051 and parameters: {'cutoff': 69}. Best is trial 56 with value: 0.0872106401096344.\n"
     ]
    },
    {
     "name": "stdout",
     "output_type": "stream",
     "text": [
      "EvaluatorHoldout: Processed 5965 (100.0%) in 2.33 sec. Users per second: 2561\n"
     ]
    },
    {
     "name": "stderr",
     "output_type": "stream",
     "text": [
      "[I 2023-07-24 21:02:11,753] Trial 149 finished with value: 0.08596806104392074 and parameters: {'cutoff': 101}. Best is trial 56 with value: 0.0872106401096344.\n"
     ]
    }
   ],
   "source": [
    "inference_timesteps = {1,5,25,50}\n",
    "for inference_timestep in inference_timesteps:\n",
    "    modelP.inference_timesteps = inference_timestep\n",
    "    two_level_rec1 = TwoLevelRec(URM_train=URM_train, recommender1= modelP, recommender2=itemKNNinstance)\n",
    "\n",
    "    # Define the hyperparameter space\n",
    "    itemknn_hyperparam_space = {\n",
    "        \"cutoff\": list(range(10, 200)),\n",
    "    }\n",
    "\n",
    "    # Create an objective function\n",
    "    objective = create_objective_d(recommender_instance=two_level_rec1, URM_train= URM_train, URM_validation=URM_validation, hyperparam_space=itemknn_hyperparam_space, evaluator_validation=evaluator_validation)\n",
    "\n",
    "    # Create the study and run optimization\n",
    "    study = optuna.create_study(direction=\"maximize\")\n",
    "    study.optimize(objective, n_trials=25)\n",
    "    \n",
    "    "
   ]
  },
  {
   "cell_type": "code",
   "execution_count": null,
   "metadata": {},
   "outputs": [
    {
     "name": "stderr",
     "output_type": "stream",
     "text": [
      "[I 2023-07-24 21:57:32,427] A new study created in memory with name: no-name-b40b0caa-ca6d-4016-ad46-08d5bcf8890d\n"
     ]
    },
    {
     "name": "stdout",
     "output_type": "stream",
     "text": [
      "TwoLevelRec: URM Detected 204 ( 5.3%) items with no interactions.\n",
      "EvaluatorHoldout: Processed 5965 (100.0%) in 3.30 sec. Users per second: 1807\n"
     ]
    },
    {
     "name": "stderr",
     "output_type": "stream",
     "text": [
      "[I 2023-07-24 21:57:36,526] Trial 0 finished with value: 0.09582460517037229 and parameters: {'cutoff': 52}. Best is trial 0 with value: 0.09582460517037229.\n"
     ]
    },
    {
     "name": "stdout",
     "output_type": "stream",
     "text": [
      "EvaluatorHoldout: Processed 5965 (100.0%) in 3.29 sec. Users per second: 1814\n"
     ]
    },
    {
     "name": "stderr",
     "output_type": "stream",
     "text": [
      "[I 2023-07-24 21:57:40,527] Trial 1 finished with value: 0.09518526058090167 and parameters: {'cutoff': 139}. Best is trial 0 with value: 0.09582460517037229.\n"
     ]
    },
    {
     "name": "stdout",
     "output_type": "stream",
     "text": [
      "EvaluatorHoldout: Processed 5965 (100.0%) in 3.53 sec. Users per second: 1689\n"
     ]
    },
    {
     "name": "stderr",
     "output_type": "stream",
     "text": [
      "[I 2023-07-24 21:57:44,709] Trial 2 finished with value: 0.09584372463710299 and parameters: {'cutoff': 23}. Best is trial 2 with value: 0.09584372463710299.\n"
     ]
    },
    {
     "name": "stdout",
     "output_type": "stream",
     "text": [
      "EvaluatorHoldout: Processed 5965 (100.0%) in 3.28 sec. Users per second: 1818\n"
     ]
    },
    {
     "name": "stderr",
     "output_type": "stream",
     "text": [
      "[I 2023-07-24 21:57:48,704] Trial 3 finished with value: 0.09515249670698135 and parameters: {'cutoff': 174}. Best is trial 2 with value: 0.09584372463710299.\n"
     ]
    },
    {
     "name": "stdout",
     "output_type": "stream",
     "text": [
      "EvaluatorHoldout: Processed 5965 (100.0%) in 3.25 sec. Users per second: 1838\n"
     ]
    },
    {
     "name": "stderr",
     "output_type": "stream",
     "text": [
      "[I 2023-07-24 21:57:52,652] Trial 4 finished with value: 0.09496660413257238 and parameters: {'cutoff': 133}. Best is trial 2 with value: 0.09584372463710299.\n"
     ]
    },
    {
     "name": "stdout",
     "output_type": "stream",
     "text": [
      "EvaluatorHoldout: Processed 5965 (100.0%) in 3.20 sec. Users per second: 1862\n"
     ]
    },
    {
     "name": "stderr",
     "output_type": "stream",
     "text": [
      "[I 2023-07-24 21:57:56,536] Trial 5 finished with value: 0.09550971939488305 and parameters: {'cutoff': 88}. Best is trial 2 with value: 0.09584372463710299.\n"
     ]
    },
    {
     "name": "stdout",
     "output_type": "stream",
     "text": [
      "EvaluatorHoldout: Processed 5965 (100.0%) in 3.23 sec. Users per second: 1845\n"
     ]
    },
    {
     "name": "stderr",
     "output_type": "stream",
     "text": [
      "[I 2023-07-24 21:58:00,467] Trial 6 finished with value: 0.09516600806290672 and parameters: {'cutoff': 119}. Best is trial 2 with value: 0.09584372463710299.\n"
     ]
    },
    {
     "name": "stdout",
     "output_type": "stream",
     "text": [
      "EvaluatorHoldout: Processed 5965 (100.0%) in 3.15 sec. Users per second: 1894\n"
     ]
    },
    {
     "name": "stderr",
     "output_type": "stream",
     "text": [
      "[I 2023-07-24 21:58:04,311] Trial 7 finished with value: 0.09535545310608214 and parameters: {'cutoff': 107}. Best is trial 2 with value: 0.09584372463710299.\n"
     ]
    },
    {
     "name": "stdout",
     "output_type": "stream",
     "text": [
      "EvaluatorHoldout: Processed 5965 (100.0%) in 3.13 sec. Users per second: 1903\n"
     ]
    },
    {
     "name": "stderr",
     "output_type": "stream",
     "text": [
      "[I 2023-07-24 21:58:08,118] Trial 8 finished with value: 0.09512671137189185 and parameters: {'cutoff': 94}. Best is trial 2 with value: 0.09584372463710299.\n"
     ]
    },
    {
     "name": "stdout",
     "output_type": "stream",
     "text": [
      "EvaluatorHoldout: Processed 5965 (100.0%) in 3.12 sec. Users per second: 1913\n"
     ]
    },
    {
     "name": "stderr",
     "output_type": "stream",
     "text": [
      "[I 2023-07-24 21:58:11,891] Trial 9 finished with value: 0.09594465732646802 and parameters: {'cutoff': 58}. Best is trial 9 with value: 0.09594465732646802.\n"
     ]
    },
    {
     "name": "stdout",
     "output_type": "stream",
     "text": [
      "EvaluatorHoldout: Processed 5965 (100.0%) in 3.21 sec. Users per second: 1859\n"
     ]
    },
    {
     "name": "stderr",
     "output_type": "stream",
     "text": [
      "[I 2023-07-24 21:58:15,780] Trial 10 finished with value: 0.09530758126105986 and parameters: {'cutoff': 110}. Best is trial 9 with value: 0.09594465732646802.\n"
     ]
    },
    {
     "name": "stdout",
     "output_type": "stream",
     "text": [
      "EvaluatorHoldout: Processed 5965 (100.0%) in 3.46 sec. Users per second: 1725\n"
     ]
    },
    {
     "name": "stderr",
     "output_type": "stream",
     "text": [
      "[I 2023-07-24 21:58:19,894] Trial 11 finished with value: 0.09587962852086922 and parameters: {'cutoff': 23}. Best is trial 9 with value: 0.09594465732646802.\n"
     ]
    },
    {
     "name": "stdout",
     "output_type": "stream",
     "text": [
      "EvaluatorHoldout: Processed 5965 (100.0%) in 3.15 sec. Users per second: 1892\n"
     ]
    },
    {
     "name": "stderr",
     "output_type": "stream",
     "text": [
      "[I 2023-07-24 21:58:23,918] Trial 12 finished with value: 0.09485353716787083 and parameters: {'cutoff': 120}. Best is trial 9 with value: 0.09594465732646802.\n"
     ]
    },
    {
     "name": "stdout",
     "output_type": "stream",
     "text": [
      "EvaluatorHoldout: Processed 5965 (100.0%) in 3.21 sec. Users per second: 1860\n"
     ]
    },
    {
     "name": "stderr",
     "output_type": "stream",
     "text": [
      "[I 2023-07-24 21:58:27,832] Trial 13 finished with value: 0.09515847070876401 and parameters: {'cutoff': 166}. Best is trial 9 with value: 0.09594465732646802.\n"
     ]
    },
    {
     "name": "stdout",
     "output_type": "stream",
     "text": [
      "EvaluatorHoldout: Processed 5965 (100.0%) in 3.54 sec. Users per second: 1686\n"
     ]
    },
    {
     "name": "stderr",
     "output_type": "stream",
     "text": [
      "[I 2023-07-24 21:58:32,014] Trial 14 finished with value: 0.09608878510890262 and parameters: {'cutoff': 27}. Best is trial 14 with value: 0.09608878510890262.\n"
     ]
    },
    {
     "name": "stdout",
     "output_type": "stream",
     "text": [
      "EvaluatorHoldout: Processed 5965 (100.0%) in 3.66 sec. Users per second: 1630\n"
     ]
    },
    {
     "name": "stderr",
     "output_type": "stream",
     "text": [
      "[I 2023-07-24 21:58:36,328] Trial 15 finished with value: 0.0965487034154264 and parameters: {'cutoff': 33}. Best is trial 15 with value: 0.0965487034154264.\n"
     ]
    },
    {
     "name": "stdout",
     "output_type": "stream",
     "text": [
      "EvaluatorHoldout: Processed 5965 (100.0%) in 3.09 sec. Users per second: 1929\n"
     ]
    },
    {
     "name": "stderr",
     "output_type": "stream",
     "text": [
      "[I 2023-07-24 21:58:40,070] Trial 16 finished with value: 0.09589539509573054 and parameters: {'cutoff': 44}. Best is trial 15 with value: 0.0965487034154264.\n"
     ]
    },
    {
     "name": "stdout",
     "output_type": "stream",
     "text": [
      "EvaluatorHoldout: Processed 5965 (100.0%) in 3.65 sec. Users per second: 1633\n"
     ]
    },
    {
     "name": "stderr",
     "output_type": "stream",
     "text": [
      "[I 2023-07-24 21:58:44,369] Trial 17 finished with value: 0.09643699357362424 and parameters: {'cutoff': 33}. Best is trial 15 with value: 0.0965487034154264.\n"
     ]
    },
    {
     "name": "stdout",
     "output_type": "stream",
     "text": [
      "EvaluatorHoldout: Processed 5965 (100.0%) in 3.44 sec. Users per second: 1736\n"
     ]
    },
    {
     "name": "stderr",
     "output_type": "stream",
     "text": [
      "[I 2023-07-24 21:58:48,450] Trial 18 finished with value: 0.09568763554597583 and parameters: {'cutoff': 22}. Best is trial 15 with value: 0.0965487034154264.\n"
     ]
    },
    {
     "name": "stdout",
     "output_type": "stream",
     "text": [
      "EvaluatorHoldout: Processed 5965 (100.0%) in 3.24 sec. Users per second: 1842\n"
     ]
    },
    {
     "name": "stderr",
     "output_type": "stream",
     "text": [
      "[I 2023-07-24 21:58:52,413] Trial 19 finished with value: 0.09504571641453458 and parameters: {'cutoff': 184}. Best is trial 15 with value: 0.0965487034154264.\n"
     ]
    },
    {
     "name": "stdout",
     "output_type": "stream",
     "text": [
      "EvaluatorHoldout: Processed 5965 (100.0%) in 3.56 sec. Users per second: 1675\n"
     ]
    },
    {
     "name": "stderr",
     "output_type": "stream",
     "text": [
      "[I 2023-07-24 21:58:56,625] Trial 20 finished with value: 0.09648002900517595 and parameters: {'cutoff': 28}. Best is trial 15 with value: 0.0965487034154264.\n"
     ]
    },
    {
     "name": "stdout",
     "output_type": "stream",
     "text": [
      "EvaluatorHoldout: Processed 5965 (100.0%) in 3.27 sec. Users per second: 1825\n"
     ]
    },
    {
     "name": "stderr",
     "output_type": "stream",
     "text": [
      "[I 2023-07-24 21:59:00,618] Trial 21 finished with value: 0.0953450950651289 and parameters: {'cutoff': 173}. Best is trial 15 with value: 0.0965487034154264.\n"
     ]
    },
    {
     "name": "stdout",
     "output_type": "stream",
     "text": [
      "EvaluatorHoldout: Processed 5965 (100.0%) in 3.59 sec. Users per second: 1663\n"
     ]
    },
    {
     "name": "stderr",
     "output_type": "stream",
     "text": [
      "[I 2023-07-24 21:59:04,898] Trial 22 finished with value: 0.09638656714432083 and parameters: {'cutoff': 30}. Best is trial 15 with value: 0.0965487034154264.\n"
     ]
    },
    {
     "name": "stdout",
     "output_type": "stream",
     "text": [
      "EvaluatorHoldout: Processed 5965 (100.0%) in 3.19 sec. Users per second: 1871\n"
     ]
    },
    {
     "name": "stderr",
     "output_type": "stream",
     "text": [
      "[I 2023-07-24 21:59:08,789] Trial 23 finished with value: 0.09502620444657343 and parameters: {'cutoff': 157}. Best is trial 15 with value: 0.0965487034154264.\n"
     ]
    },
    {
     "name": "stdout",
     "output_type": "stream",
     "text": [
      "EvaluatorHoldout: Processed 5965 (100.0%) in 3.63 sec. Users per second: 1645\n"
     ]
    },
    {
     "name": "stderr",
     "output_type": "stream",
     "text": [
      "[I 2023-07-24 21:59:13,065] Trial 24 finished with value: 0.09646089623331894 and parameters: {'cutoff': 33}. Best is trial 15 with value: 0.0965487034154264.\n",
      "[I 2023-07-24 21:59:13,075] A new study created in memory with name: no-name-ba4d06eb-110b-49a4-8e46-d256288d7beb\n"
     ]
    },
    {
     "name": "stdout",
     "output_type": "stream",
     "text": [
      "TwoLevelRec: URM Detected 204 ( 5.3%) items with no interactions.\n",
      "EvaluatorHoldout: Processed 5965 (100.0%) in 44.70 sec. Users per second: 133\n"
     ]
    },
    {
     "name": "stderr",
     "output_type": "stream",
     "text": [
      "[I 2023-07-24 21:59:58,487] Trial 0 finished with value: 0.04471495762317228 and parameters: {'cutoff': 190}. Best is trial 0 with value: 0.04471495762317228.\n"
     ]
    },
    {
     "name": "stdout",
     "output_type": "stream",
     "text": [
      "EvaluatorHoldout: Processed 5965 (100.0%) in 44.85 sec. Users per second: 133\n"
     ]
    },
    {
     "name": "stderr",
     "output_type": "stream",
     "text": [
      "[I 2023-07-24 22:00:44,005] Trial 1 finished with value: 0.06049282188427221 and parameters: {'cutoff': 49}. Best is trial 1 with value: 0.06049282188427221.\n"
     ]
    },
    {
     "name": "stdout",
     "output_type": "stream",
     "text": [
      "EvaluatorHoldout: Processed 5965 (100.0%) in 44.93 sec. Users per second: 133\n"
     ]
    },
    {
     "name": "stderr",
     "output_type": "stream",
     "text": [
      "[I 2023-07-24 22:01:29,662] Trial 2 finished with value: 0.04516941417528181 and parameters: {'cutoff': 169}. Best is trial 1 with value: 0.06049282188427221.\n"
     ]
    },
    {
     "name": "stdout",
     "output_type": "stream",
     "text": [
      "EvaluatorHoldout: Processed 5965 (100.0%) in 44.99 sec. Users per second: 133\n"
     ]
    },
    {
     "name": "stderr",
     "output_type": "stream",
     "text": [
      "[I 2023-07-24 22:02:15,387] Trial 3 finished with value: 0.045855832302186095 and parameters: {'cutoff': 169}. Best is trial 1 with value: 0.06049282188427221.\n"
     ]
    },
    {
     "name": "stdout",
     "output_type": "stream",
     "text": [
      "EvaluatorHoldout: Processed 5965 (100.0%) in 44.99 sec. Users per second: 133\n"
     ]
    },
    {
     "name": "stderr",
     "output_type": "stream",
     "text": [
      "[I 2023-07-24 22:03:01,133] Trial 4 finished with value: 0.04505030668316512 and parameters: {'cutoff': 187}. Best is trial 1 with value: 0.06049282188427221.\n"
     ]
    },
    {
     "name": "stdout",
     "output_type": "stream",
     "text": [
      "EvaluatorHoldout: Processed 5965 (100.0%) in 45.14 sec. Users per second: 132\n"
     ]
    },
    {
     "name": "stderr",
     "output_type": "stream",
     "text": [
      "[I 2023-07-24 22:03:47,211] Trial 5 finished with value: 0.06016087893665452 and parameters: {'cutoff': 48}. Best is trial 1 with value: 0.06049282188427221.\n"
     ]
    },
    {
     "name": "stdout",
     "output_type": "stream",
     "text": [
      "EvaluatorHoldout: Processed 5965 (100.0%) in 45.59 sec. Users per second: 131\n"
     ]
    },
    {
     "name": "stderr",
     "output_type": "stream",
     "text": [
      "[I 2023-07-24 22:04:33,578] Trial 6 finished with value: 0.045690968480155365 and parameters: {'cutoff': 157}. Best is trial 1 with value: 0.06049282188427221.\n"
     ]
    },
    {
     "name": "stdout",
     "output_type": "stream",
     "text": [
      "EvaluatorHoldout: Processed 5965 (100.0%) in 45.46 sec. Users per second: 131\n"
     ]
    },
    {
     "name": "stderr",
     "output_type": "stream",
     "text": [
      "[I 2023-07-24 22:05:19,895] Trial 7 finished with value: 0.061246790138240345 and parameters: {'cutoff': 46}. Best is trial 7 with value: 0.061246790138240345.\n"
     ]
    },
    {
     "name": "stdout",
     "output_type": "stream",
     "text": [
      "EvaluatorHoldout: Processed 5965 (100.0%) in 45.54 sec. Users per second: 131\n"
     ]
    },
    {
     "name": "stderr",
     "output_type": "stream",
     "text": [
      "[I 2023-07-24 22:06:06,141] Trial 8 finished with value: 0.0775729786186621 and parameters: {'cutoff': 14}. Best is trial 8 with value: 0.0775729786186621.\n"
     ]
    },
    {
     "name": "stdout",
     "output_type": "stream",
     "text": [
      "EvaluatorHoldout: Processed 5965 (100.0%) in 44.96 sec. Users per second: 133\n"
     ]
    },
    {
     "name": "stderr",
     "output_type": "stream",
     "text": [
      "[I 2023-07-24 22:06:51,807] Trial 9 finished with value: 0.05812763607818112 and parameters: {'cutoff': 58}. Best is trial 8 with value: 0.0775729786186621.\n"
     ]
    },
    {
     "name": "stdout",
     "output_type": "stream",
     "text": [
      "EvaluatorHoldout: Processed 5965 (100.0%) in 44.93 sec. Users per second: 133\n"
     ]
    },
    {
     "name": "stderr",
     "output_type": "stream",
     "text": [
      "[I 2023-07-24 22:07:37,456] Trial 10 finished with value: 0.04686555834963214 and parameters: {'cutoff': 148}. Best is trial 8 with value: 0.0775729786186621.\n"
     ]
    },
    {
     "name": "stdout",
     "output_type": "stream",
     "text": [
      "EvaluatorHoldout: Processed 5965 (100.0%) in 44.92 sec. Users per second: 133\n"
     ]
    },
    {
     "name": "stderr",
     "output_type": "stream",
     "text": [
      "[I 2023-07-24 22:08:23,112] Trial 11 finished with value: 0.04435174762836122 and parameters: {'cutoff': 191}. Best is trial 8 with value: 0.0775729786186621.\n"
     ]
    },
    {
     "name": "stdout",
     "output_type": "stream",
     "text": [
      "EvaluatorHoldout: Processed 5965 (100.0%) in 45.32 sec. Users per second: 132\n"
     ]
    },
    {
     "name": "stderr",
     "output_type": "stream",
     "text": [
      "[I 2023-07-24 22:09:09,094] Trial 12 finished with value: 0.06806943945502249 and parameters: {'cutoff': 29}. Best is trial 8 with value: 0.0775729786186621.\n"
     ]
    },
    {
     "name": "stdout",
     "output_type": "stream",
     "text": [
      "EvaluatorHoldout: Processed 5965 (100.0%) in 44.90 sec. Users per second: 133\n"
     ]
    },
    {
     "name": "stderr",
     "output_type": "stream",
     "text": [
      "[I 2023-07-24 22:09:54,729] Trial 13 finished with value: 0.04545572719168689 and parameters: {'cutoff': 182}. Best is trial 8 with value: 0.0775729786186621.\n"
     ]
    },
    {
     "name": "stdout",
     "output_type": "stream",
     "text": [
      "EvaluatorHoldout: Processed 5965 (100.0%) in 45.21 sec. Users per second: 132\n"
     ]
    },
    {
     "name": "stderr",
     "output_type": "stream",
     "text": [
      "[I 2023-07-24 22:10:40,593] Trial 14 finished with value: 0.06959257041738194 and parameters: {'cutoff': 25}. Best is trial 8 with value: 0.0775729786186621.\n"
     ]
    },
    {
     "name": "stdout",
     "output_type": "stream",
     "text": [
      "EvaluatorHoldout: Processed 5965 (100.0%) in 45.29 sec. Users per second: 132\n"
     ]
    },
    {
     "name": "stderr",
     "output_type": "stream",
     "text": [
      "[I 2023-07-24 22:11:26,523] Trial 15 finished with value: 0.06909473915299609 and parameters: {'cutoff': 25}. Best is trial 8 with value: 0.0775729786186621.\n"
     ]
    },
    {
     "name": "stdout",
     "output_type": "stream",
     "text": [
      "EvaluatorHoldout: Processed 5965 (100.0%) in 45.23 sec. Users per second: 132\n"
     ]
    },
    {
     "name": "stderr",
     "output_type": "stream",
     "text": [
      "[I 2023-07-24 22:12:12,406] Trial 16 finished with value: 0.0697747042935647 and parameters: {'cutoff': 25}. Best is trial 8 with value: 0.0775729786186621.\n"
     ]
    },
    {
     "name": "stdout",
     "output_type": "stream",
     "text": [
      "EvaluatorHoldout: Processed 5965 (100.0%) in 44.91 sec. Users per second: 133\n"
     ]
    },
    {
     "name": "stderr",
     "output_type": "stream",
     "text": [
      "[I 2023-07-24 22:12:57,995] Trial 17 finished with value: 0.05634785587887032 and parameters: {'cutoff': 65}. Best is trial 8 with value: 0.0775729786186621.\n"
     ]
    },
    {
     "name": "stdout",
     "output_type": "stream",
     "text": [
      "EvaluatorHoldout: Processed 5965 (100.0%) in 44.83 sec. Users per second: 133\n"
     ]
    },
    {
     "name": "stderr",
     "output_type": "stream",
     "text": [
      "[I 2023-07-24 22:13:43,643] Trial 18 finished with value: 0.048245526151226216 and parameters: {'cutoff': 128}. Best is trial 8 with value: 0.0775729786186621.\n"
     ]
    },
    {
     "name": "stdout",
     "output_type": "stream",
     "text": [
      "EvaluatorHoldout: Processed 5965 (100.0%) in 44.83 sec. Users per second: 133\n"
     ]
    },
    {
     "name": "stderr",
     "output_type": "stream",
     "text": [
      "[I 2023-07-24 22:14:29,114] Trial 19 finished with value: 0.07761438417222172 and parameters: {'cutoff': 14}. Best is trial 19 with value: 0.07761438417222172.\n"
     ]
    },
    {
     "name": "stdout",
     "output_type": "stream",
     "text": [
      "EvaluatorHoldout: Processed 5965 (100.0%) in 44.78 sec. Users per second: 133\n"
     ]
    },
    {
     "name": "stderr",
     "output_type": "stream",
     "text": [
      "[I 2023-07-24 22:15:14,525] Trial 20 finished with value: 0.07755500339280752 and parameters: {'cutoff': 14}. Best is trial 19 with value: 0.07761438417222172.\n"
     ]
    },
    {
     "name": "stdout",
     "output_type": "stream",
     "text": [
      "EvaluatorHoldout: Processed 5965 (100.0%) in 44.71 sec. Users per second: 133\n"
     ]
    },
    {
     "name": "stderr",
     "output_type": "stream",
     "text": [
      "[I 2023-07-24 22:15:59,875] Trial 21 finished with value: 0.07692516531619656 and parameters: {'cutoff': 14}. Best is trial 19 with value: 0.07761438417222172.\n"
     ]
    },
    {
     "name": "stdout",
     "output_type": "stream",
     "text": [
      "EvaluatorHoldout: Processed 5965 (100.0%) in 44.65 sec. Users per second: 134\n"
     ]
    },
    {
     "name": "stderr",
     "output_type": "stream",
     "text": [
      "[I 2023-07-24 22:16:45,206] Trial 22 finished with value: 0.05260134514828572 and parameters: {'cutoff': 86}. Best is trial 19 with value: 0.07761438417222172.\n"
     ]
    },
    {
     "name": "stdout",
     "output_type": "stream",
     "text": [
      "EvaluatorHoldout: Processed 5965 (100.0%) in 44.84 sec. Users per second: 133\n"
     ]
    },
    {
     "name": "stderr",
     "output_type": "stream",
     "text": [
      "[I 2023-07-24 22:17:31,165] Trial 23 finished with value: 0.05560852991657686 and parameters: {'cutoff': 67}. Best is trial 19 with value: 0.07761438417222172.\n"
     ]
    },
    {
     "name": "stdout",
     "output_type": "stream",
     "text": [
      "EvaluatorHoldout: Processed 5965 (100.0%) in 45.02 sec. Users per second: 132\n"
     ]
    },
    {
     "name": "stderr",
     "output_type": "stream",
     "text": [
      "[I 2023-07-24 22:18:16,888] Trial 24 finished with value: 0.04683310714618353 and parameters: {'cutoff': 138}. Best is trial 19 with value: 0.07761438417222172.\n",
      "[I 2023-07-24 22:18:16,902] A new study created in memory with name: no-name-59e65425-fb27-4037-abaa-55b954ce5998\n"
     ]
    },
    {
     "name": "stdout",
     "output_type": "stream",
     "text": [
      "TwoLevelRec: URM Detected 204 ( 5.3%) items with no interactions.\n",
      "EvaluatorHoldout: Processed 5965 (100.0%) in 6.63 sec. Users per second: 900\n"
     ]
    },
    {
     "name": "stderr",
     "output_type": "stream",
     "text": [
      "[I 2023-07-24 22:18:24,237] Trial 0 finished with value: 0.09057979084341188 and parameters: {'cutoff': 163}. Best is trial 0 with value: 0.09057979084341188.\n"
     ]
    },
    {
     "name": "stdout",
     "output_type": "stream",
     "text": [
      "EvaluatorHoldout: Processed 5965 (100.0%) in 6.64 sec. Users per second: 898\n"
     ]
    },
    {
     "name": "stderr",
     "output_type": "stream",
     "text": [
      "[I 2023-07-24 22:18:31,594] Trial 1 finished with value: 0.09061224869942387 and parameters: {'cutoff': 171}. Best is trial 1 with value: 0.09061224869942387.\n"
     ]
    },
    {
     "name": "stdout",
     "output_type": "stream",
     "text": [
      "EvaluatorHoldout: Processed 5965 (100.0%) in 6.54 sec. Users per second: 912\n"
     ]
    },
    {
     "name": "stderr",
     "output_type": "stream",
     "text": [
      "[I 2023-07-24 22:18:38,822] Trial 2 finished with value: 0.09143889620670828 and parameters: {'cutoff': 79}. Best is trial 2 with value: 0.09143889620670828.\n"
     ]
    },
    {
     "name": "stdout",
     "output_type": "stream",
     "text": [
      "EvaluatorHoldout: Processed 5965 (100.0%) in 6.63 sec. Users per second: 900\n"
     ]
    },
    {
     "name": "stderr",
     "output_type": "stream",
     "text": [
      "[I 2023-07-24 22:18:46,168] Trial 3 finished with value: 0.09098313575220544 and parameters: {'cutoff': 175}. Best is trial 2 with value: 0.09143889620670828.\n"
     ]
    },
    {
     "name": "stdout",
     "output_type": "stream",
     "text": [
      "EvaluatorHoldout: Processed 5965 (100.0%) in 6.52 sec. Users per second: 915\n"
     ]
    },
    {
     "name": "stderr",
     "output_type": "stream",
     "text": [
      "[I 2023-07-24 22:18:53,347] Trial 4 finished with value: 0.09240355113825353 and parameters: {'cutoff': 55}. Best is trial 4 with value: 0.09240355113825353.\n"
     ]
    },
    {
     "name": "stdout",
     "output_type": "stream",
     "text": [
      "EvaluatorHoldout: Processed 5965 (100.0%) in 6.64 sec. Users per second: 899\n"
     ]
    },
    {
     "name": "stderr",
     "output_type": "stream",
     "text": [
      "[I 2023-07-24 22:19:00,697] Trial 5 finished with value: 0.09054740616559574 and parameters: {'cutoff': 180}. Best is trial 4 with value: 0.09240355113825353.\n"
     ]
    },
    {
     "name": "stdout",
     "output_type": "stream",
     "text": [
      "EvaluatorHoldout: Processed 5965 (100.0%) in 6.54 sec. Users per second: 912\n"
     ]
    },
    {
     "name": "stderr",
     "output_type": "stream",
     "text": [
      "[I 2023-07-24 22:19:07,904] Trial 6 finished with value: 0.09215525086815951 and parameters: {'cutoff': 54}. Best is trial 4 with value: 0.09240355113825353.\n"
     ]
    },
    {
     "name": "stdout",
     "output_type": "stream",
     "text": [
      "EvaluatorHoldout: Processed 5965 (100.0%) in 6.93 sec. Users per second: 861\n"
     ]
    },
    {
     "name": "stderr",
     "output_type": "stream",
     "text": [
      "[I 2023-07-24 22:19:15,477] Trial 7 finished with value: 0.09327079923894674 and parameters: {'cutoff': 27}. Best is trial 7 with value: 0.09327079923894674.\n"
     ]
    },
    {
     "name": "stdout",
     "output_type": "stream",
     "text": [
      "EvaluatorHoldout: Processed 5965 (100.0%) in 6.56 sec. Users per second: 909\n"
     ]
    },
    {
     "name": "stderr",
     "output_type": "stream",
     "text": [
      "[I 2023-07-24 22:19:22,702] Trial 8 finished with value: 0.09169237217099731 and parameters: {'cutoff': 79}. Best is trial 7 with value: 0.09327079923894674.\n"
     ]
    },
    {
     "name": "stdout",
     "output_type": "stream",
     "text": [
      "EvaluatorHoldout: Processed 5965 (100.0%) in 6.93 sec. Users per second: 861\n"
     ]
    },
    {
     "name": "stderr",
     "output_type": "stream",
     "text": [
      "[I 2023-07-24 22:19:30,269] Trial 9 finished with value: 0.09301878018600573 and parameters: {'cutoff': 26}. Best is trial 7 with value: 0.09327079923894674.\n"
     ]
    },
    {
     "name": "stdout",
     "output_type": "stream",
     "text": [
      "EvaluatorHoldout: Processed 5965 (100.0%) in 6.93 sec. Users per second: 861\n"
     ]
    },
    {
     "name": "stderr",
     "output_type": "stream",
     "text": [
      "[I 2023-07-24 22:19:37,836] Trial 10 finished with value: 0.09306674516691307 and parameters: {'cutoff': 27}. Best is trial 7 with value: 0.09327079923894674.\n"
     ]
    },
    {
     "name": "stdout",
     "output_type": "stream",
     "text": [
      "EvaluatorHoldout: Processed 5965 (100.0%) in 6.55 sec. Users per second: 911\n"
     ]
    },
    {
     "name": "stderr",
     "output_type": "stream",
     "text": [
      "[I 2023-07-24 22:19:45,045] Trial 11 finished with value: 0.0917255551564018 and parameters: {'cutoff': 66}. Best is trial 7 with value: 0.09327079923894674.\n"
     ]
    },
    {
     "name": "stdout",
     "output_type": "stream",
     "text": [
      "EvaluatorHoldout: Processed 5965 (100.0%) in 6.69 sec. Users per second: 891\n"
     ]
    },
    {
     "name": "stderr",
     "output_type": "stream",
     "text": [
      "[I 2023-07-24 22:19:52,373] Trial 12 finished with value: 0.09217745712423021 and parameters: {'cutoff': 13}. Best is trial 7 with value: 0.09327079923894674.\n"
     ]
    },
    {
     "name": "stdout",
     "output_type": "stream",
     "text": [
      "EvaluatorHoldout: Processed 5965 (100.0%) in 6.61 sec. Users per second: 902\n"
     ]
    },
    {
     "name": "stderr",
     "output_type": "stream",
     "text": [
      "[I 2023-07-24 22:19:59,722] Trial 13 finished with value: 0.09079448236405473 and parameters: {'cutoff': 184}. Best is trial 7 with value: 0.09327079923894674.\n"
     ]
    },
    {
     "name": "stdout",
     "output_type": "stream",
     "text": [
      "EvaluatorHoldout: Processed 5965 (100.0%) in 6.54 sec. Users per second: 911\n"
     ]
    },
    {
     "name": "stderr",
     "output_type": "stream",
     "text": [
      "[I 2023-07-24 22:20:06,963] Trial 14 finished with value: 0.09136396838701957 and parameters: {'cutoff': 88}. Best is trial 7 with value: 0.09327079923894674.\n"
     ]
    },
    {
     "name": "stdout",
     "output_type": "stream",
     "text": [
      "EvaluatorHoldout: Processed 5965 (100.0%) in 6.91 sec. Users per second: 863\n"
     ]
    },
    {
     "name": "stderr",
     "output_type": "stream",
     "text": [
      "[I 2023-07-24 22:20:14,523] Trial 15 finished with value: 0.09291564549821055 and parameters: {'cutoff': 27}. Best is trial 7 with value: 0.09327079923894674.\n"
     ]
    },
    {
     "name": "stdout",
     "output_type": "stream",
     "text": [
      "EvaluatorHoldout: Processed 5965 (100.0%) in 6.90 sec. Users per second: 865\n"
     ]
    },
    {
     "name": "stderr",
     "output_type": "stream",
     "text": [
      "[I 2023-07-24 22:20:22,250] Trial 16 finished with value: 0.09296170784603307 and parameters: {'cutoff': 27}. Best is trial 7 with value: 0.09327079923894674.\n"
     ]
    },
    {
     "name": "stdout",
     "output_type": "stream",
     "text": [
      "EvaluatorHoldout: Processed 5965 (100.0%) in 6.60 sec. Users per second: 904\n"
     ]
    },
    {
     "name": "stderr",
     "output_type": "stream",
     "text": [
      "[I 2023-07-24 22:20:29,569] Trial 17 finished with value: 0.09070285661065208 and parameters: {'cutoff': 197}. Best is trial 7 with value: 0.09327079923894674.\n"
     ]
    },
    {
     "name": "stdout",
     "output_type": "stream",
     "text": [
      "EvaluatorHoldout: Processed 5965 (100.0%) in 6.53 sec. Users per second: 914\n"
     ]
    },
    {
     "name": "stderr",
     "output_type": "stream",
     "text": [
      "[I 2023-07-24 22:20:36,798] Trial 18 finished with value: 0.09105040647161354 and parameters: {'cutoff': 118}. Best is trial 7 with value: 0.09327079923894674.\n"
     ]
    },
    {
     "name": "stdout",
     "output_type": "stream",
     "text": [
      "EvaluatorHoldout: Processed 5965 (100.0%) in 6.48 sec. Users per second: 921\n"
     ]
    },
    {
     "name": "stderr",
     "output_type": "stream",
     "text": [
      "[I 2023-07-24 22:20:43,933] Trial 19 finished with value: 0.09216513657712304 and parameters: {'cutoff': 62}. Best is trial 7 with value: 0.09327079923894674.\n"
     ]
    },
    {
     "name": "stdout",
     "output_type": "stream",
     "text": [
      "EvaluatorHoldout: Processed 5965 (100.0%) in 6.48 sec. Users per second: 921\n"
     ]
    },
    {
     "name": "stderr",
     "output_type": "stream",
     "text": [
      "[I 2023-07-24 22:20:51,092] Trial 20 finished with value: 0.09167396452853283 and parameters: {'cutoff': 74}. Best is trial 7 with value: 0.09327079923894674.\n"
     ]
    },
    {
     "name": "stdout",
     "output_type": "stream",
     "text": [
      "EvaluatorHoldout: Processed 5965 (100.0%) in 6.54 sec. Users per second: 912\n"
     ]
    },
    {
     "name": "stderr",
     "output_type": "stream",
     "text": [
      "[I 2023-07-24 22:20:58,341] Trial 21 finished with value: 0.09076963504038131 and parameters: {'cutoff': 144}. Best is trial 7 with value: 0.09327079923894674.\n"
     ]
    },
    {
     "name": "stdout",
     "output_type": "stream",
     "text": [
      "EvaluatorHoldout: Processed 5965 (100.0%) in 6.52 sec. Users per second: 914\n"
     ]
    },
    {
     "name": "stderr",
     "output_type": "stream",
     "text": [
      "[I 2023-07-24 22:21:05,502] Trial 22 finished with value: 0.09067199536981645 and parameters: {'cutoff': 10}. Best is trial 7 with value: 0.09327079923894674.\n"
     ]
    },
    {
     "name": "stdout",
     "output_type": "stream",
     "text": [
      "EvaluatorHoldout: Processed 5965 (100.0%) in 6.51 sec. Users per second: 916\n"
     ]
    },
    {
     "name": "stderr",
     "output_type": "stream",
     "text": [
      "[I 2023-07-24 22:21:12,677] Trial 23 finished with value: 0.09114771351401689 and parameters: {'cutoff': 97}. Best is trial 7 with value: 0.09327079923894674.\n"
     ]
    },
    {
     "name": "stdout",
     "output_type": "stream",
     "text": [
      "EvaluatorHoldout: Processed 5965 (100.0%) in 6.85 sec. Users per second: 871\n"
     ]
    },
    {
     "name": "stderr",
     "output_type": "stream",
     "text": [
      "[I 2023-07-24 22:21:20,183] Trial 24 finished with value: 0.09314031586370226 and parameters: {'cutoff': 26}. Best is trial 7 with value: 0.09327079923894674.\n",
      "[I 2023-07-24 22:21:20,191] A new study created in memory with name: no-name-9ac83f4a-af5d-41e2-ae7c-5df469ee5420\n"
     ]
    },
    {
     "name": "stdout",
     "output_type": "stream",
     "text": [
      "TwoLevelRec: URM Detected 204 ( 5.3%) items with no interactions.\n",
      "EvaluatorHoldout: Processed 5965 (100.0%) in 23.50 sec. Users per second: 254\n"
     ]
    },
    {
     "name": "stderr",
     "output_type": "stream",
     "text": [
      "[I 2023-07-24 22:21:44,401] Trial 0 finished with value: 0.0720937612262007 and parameters: {'cutoff': 171}. Best is trial 0 with value: 0.0720937612262007.\n"
     ]
    },
    {
     "name": "stdout",
     "output_type": "stream",
     "text": [
      "EvaluatorHoldout: Processed 5965 (100.0%) in 23.49 sec. Users per second: 254\n"
     ]
    },
    {
     "name": "stderr",
     "output_type": "stream",
     "text": [
      "[I 2023-07-24 22:22:08,561] Trial 1 finished with value: 0.07639705158397563 and parameters: {'cutoff': 80}. Best is trial 1 with value: 0.07639705158397563.\n"
     ]
    },
    {
     "name": "stdout",
     "output_type": "stream",
     "text": [
      "EvaluatorHoldout: Processed 5965 (100.0%) in 23.55 sec. Users per second: 253\n"
     ]
    },
    {
     "name": "stderr",
     "output_type": "stream",
     "text": [
      "[I 2023-07-24 22:22:32,826] Trial 2 finished with value: 0.07179532723958572 and parameters: {'cutoff': 191}. Best is trial 1 with value: 0.07639705158397563.\n"
     ]
    },
    {
     "name": "stdout",
     "output_type": "stream",
     "text": [
      "EvaluatorHoldout: Processed 5965 (100.0%) in 23.43 sec. Users per second: 255\n"
     ]
    },
    {
     "name": "stderr",
     "output_type": "stream",
     "text": [
      "[I 2023-07-24 22:22:56,969] Trial 3 finished with value: 0.07372019319043668 and parameters: {'cutoff': 128}. Best is trial 1 with value: 0.07639705158397563.\n"
     ]
    },
    {
     "name": "stdout",
     "output_type": "stream",
     "text": [
      "EvaluatorHoldout: Processed 5965 (100.0%) in 23.50 sec. Users per second: 254\n"
     ]
    },
    {
     "name": "stderr",
     "output_type": "stream",
     "text": [
      "[I 2023-07-24 22:23:21,107] Trial 4 finished with value: 0.08779249324764866 and parameters: {'cutoff': 12}. Best is trial 4 with value: 0.08779249324764866.\n"
     ]
    },
    {
     "name": "stdout",
     "output_type": "stream",
     "text": [
      "EvaluatorHoldout: Processed 5965 (100.0%) in 23.42 sec. Users per second: 255\n"
     ]
    },
    {
     "name": "stderr",
     "output_type": "stream",
     "text": [
      "[I 2023-07-24 22:23:45,225] Trial 5 finished with value: 0.074732892933648 and parameters: {'cutoff': 104}. Best is trial 4 with value: 0.08779249324764866.\n"
     ]
    },
    {
     "name": "stdout",
     "output_type": "stream",
     "text": [
      "EvaluatorHoldout: Processed 5965 (100.0%) in 23.72 sec. Users per second: 251\n"
     ]
    },
    {
     "name": "stderr",
     "output_type": "stream",
     "text": [
      "[I 2023-07-24 22:24:09,698] Trial 6 finished with value: 0.08476000878138393 and parameters: {'cutoff': 22}. Best is trial 4 with value: 0.08779249324764866.\n"
     ]
    },
    {
     "name": "stdout",
     "output_type": "stream",
     "text": [
      "EvaluatorHoldout: Processed 5965 (100.0%) in 23.39 sec. Users per second: 255\n"
     ]
    },
    {
     "name": "stderr",
     "output_type": "stream",
     "text": [
      "[I 2023-07-24 22:24:33,781] Trial 7 finished with value: 0.0775308878510894 and parameters: {'cutoff': 67}. Best is trial 4 with value: 0.08779249324764866.\n"
     ]
    },
    {
     "name": "stdout",
     "output_type": "stream",
     "text": [
      "EvaluatorHoldout: Processed 5965 (100.0%) in 23.46 sec. Users per second: 254\n"
     ]
    },
    {
     "name": "stderr",
     "output_type": "stream",
     "text": [
      "[I 2023-07-24 22:24:58,002] Trial 8 finished with value: 0.07140650487632924 and parameters: {'cutoff': 194}. Best is trial 4 with value: 0.08779249324764866.\n"
     ]
    },
    {
     "name": "stdout",
     "output_type": "stream",
     "text": [
      "EvaluatorHoldout: Processed 5965 (100.0%) in 23.35 sec. Users per second: 255\n"
     ]
    },
    {
     "name": "stderr",
     "output_type": "stream",
     "text": [
      "[I 2023-07-24 22:25:22,274] Trial 9 finished with value: 0.07762844769089577 and parameters: {'cutoff': 67}. Best is trial 4 with value: 0.08779249324764866.\n"
     ]
    },
    {
     "name": "stdout",
     "output_type": "stream",
     "text": [
      "EvaluatorHoldout: Processed 5965 (100.0%) in 23.36 sec. Users per second: 255\n"
     ]
    },
    {
     "name": "stderr",
     "output_type": "stream",
     "text": [
      "[I 2023-07-24 22:25:46,300] Trial 10 finished with value: 0.0787868984419703 and parameters: {'cutoff': 58}. Best is trial 4 with value: 0.08779249324764866.\n"
     ]
    },
    {
     "name": "stdout",
     "output_type": "stream",
     "text": [
      "EvaluatorHoldout: Processed 5965 (100.0%) in 23.65 sec. Users per second: 252\n"
     ]
    },
    {
     "name": "stderr",
     "output_type": "stream",
     "text": [
      "[I 2023-07-24 22:26:10,589] Trial 11 finished with value: 0.08486957649782491 and parameters: {'cutoff': 22}. Best is trial 4 with value: 0.08779249324764866.\n"
     ]
    },
    {
     "name": "stdout",
     "output_type": "stream",
     "text": [
      "EvaluatorHoldout: Processed 5965 (100.0%) in 23.40 sec. Users per second: 255\n"
     ]
    },
    {
     "name": "stderr",
     "output_type": "stream",
     "text": [
      "[I 2023-07-24 22:26:34,654] Trial 12 finished with value: 0.07742475285727636 and parameters: {'cutoff': 73}. Best is trial 4 with value: 0.08779249324764866.\n"
     ]
    },
    {
     "name": "stdout",
     "output_type": "stream",
     "text": [
      "EvaluatorHoldout: Processed 5965 (100.0%) in 23.40 sec. Users per second: 255\n"
     ]
    },
    {
     "name": "stderr",
     "output_type": "stream",
     "text": [
      "[I 2023-07-24 22:26:58,764] Trial 13 finished with value: 0.07416160406604722 and parameters: {'cutoff': 120}. Best is trial 4 with value: 0.08779249324764866.\n"
     ]
    },
    {
     "name": "stdout",
     "output_type": "stream",
     "text": [
      "EvaluatorHoldout: Processed 5965 (100.0%) in 23.42 sec. Users per second: 255\n"
     ]
    },
    {
     "name": "stderr",
     "output_type": "stream",
     "text": [
      "[I 2023-07-24 22:27:22,880] Trial 14 finished with value: 0.07496595218137582 and parameters: {'cutoff': 99}. Best is trial 4 with value: 0.08779249324764866.\n"
     ]
    },
    {
     "name": "stdout",
     "output_type": "stream",
     "text": [
      "EvaluatorHoldout: Processed 5965 (100.0%) in 23.63 sec. Users per second: 252\n"
     ]
    },
    {
     "name": "stderr",
     "output_type": "stream",
     "text": [
      "[I 2023-07-24 22:27:47,170] Trial 15 finished with value: 0.08473537433973362 and parameters: {'cutoff': 22}. Best is trial 4 with value: 0.08779249324764866.\n"
     ]
    },
    {
     "name": "stdout",
     "output_type": "stream",
     "text": [
      "EvaluatorHoldout: Processed 5965 (100.0%) in 23.35 sec. Users per second: 255\n"
     ]
    },
    {
     "name": "stderr",
     "output_type": "stream",
     "text": [
      "[I 2023-07-24 22:28:11,219] Trial 16 finished with value: 0.07279609893692084 and parameters: {'cutoff': 158}. Best is trial 4 with value: 0.08779249324764866.\n"
     ]
    },
    {
     "name": "stdout",
     "output_type": "stream",
     "text": [
      "EvaluatorHoldout: Processed 5965 (100.0%) in 23.34 sec. Users per second: 256\n"
     ]
    },
    {
     "name": "stderr",
     "output_type": "stream",
     "text": [
      "[I 2023-07-24 22:28:35,225] Trial 17 finished with value: 0.0768802339041236 and parameters: {'cutoff': 74}. Best is trial 4 with value: 0.08779249324764866.\n"
     ]
    },
    {
     "name": "stdout",
     "output_type": "stream",
     "text": [
      "EvaluatorHoldout: Processed 5965 (100.0%) in 23.50 sec. Users per second: 254\n"
     ]
    },
    {
     "name": "stderr",
     "output_type": "stream",
     "text": [
      "[I 2023-07-24 22:28:59,373] Trial 18 finished with value: 0.08601416330712275 and parameters: {'cutoff': 16}. Best is trial 4 with value: 0.08779249324764866.\n"
     ]
    },
    {
     "name": "stdout",
     "output_type": "stream",
     "text": [
      "EvaluatorHoldout: Processed 5965 (100.0%) in 23.43 sec. Users per second: 255\n"
     ]
    },
    {
     "name": "stderr",
     "output_type": "stream",
     "text": [
      "[I 2023-07-24 22:29:23,427] Trial 19 finished with value: 0.08756238108543264 and parameters: {'cutoff': 12}. Best is trial 4 with value: 0.08779249324764866.\n"
     ]
    },
    {
     "name": "stdout",
     "output_type": "stream",
     "text": [
      "EvaluatorHoldout: Processed 5965 (100.0%) in 23.70 sec. Users per second: 252\n"
     ]
    },
    {
     "name": "stderr",
     "output_type": "stream",
     "text": [
      "[I 2023-07-24 22:29:47,768] Trial 20 finished with value: 0.08427417208850613 and parameters: {'cutoff': 24}. Best is trial 4 with value: 0.08779249324764866.\n"
     ]
    },
    {
     "name": "stdout",
     "output_type": "stream",
     "text": [
      "EvaluatorHoldout: Processed 5965 (100.0%) in 23.39 sec. Users per second: 255\n"
     ]
    },
    {
     "name": "stderr",
     "output_type": "stream",
     "text": [
      "[I 2023-07-24 22:30:11,850] Trial 21 finished with value: 0.07287210447185341 and parameters: {'cutoff': 143}. Best is trial 4 with value: 0.08779249324764866.\n"
     ]
    },
    {
     "name": "stdout",
     "output_type": "stream",
     "text": [
      "EvaluatorHoldout: Processed 5965 (100.0%) in 23.35 sec. Users per second: 255\n"
     ]
    },
    {
     "name": "stderr",
     "output_type": "stream",
     "text": [
      "[I 2023-07-24 22:30:35,875] Trial 22 finished with value: 0.0749872137734673 and parameters: {'cutoff': 94}. Best is trial 4 with value: 0.08779249324764866.\n"
     ]
    },
    {
     "name": "stdout",
     "output_type": "stream",
     "text": [
      "EvaluatorHoldout: Processed 5965 (100.0%) in 23.48 sec. Users per second: 254\n"
     ]
    },
    {
     "name": "stderr",
     "output_type": "stream",
     "text": [
      "[I 2023-07-24 22:30:59,984] Trial 23 finished with value: 0.08623322556180926 and parameters: {'cutoff': 16}. Best is trial 4 with value: 0.08779249324764866.\n"
     ]
    },
    {
     "name": "stdout",
     "output_type": "stream",
     "text": [
      "EvaluatorHoldout: Processed 5965 (100.0%) in 23.56 sec. Users per second: 253\n"
     ]
    },
    {
     "name": "stderr",
     "output_type": "stream",
     "text": [
      "[I 2023-07-24 22:31:24,197] Trial 24 finished with value: 0.08568667092430732 and parameters: {'cutoff': 19}. Best is trial 4 with value: 0.08779249324764866.\n"
     ]
    }
   ],
   "source": [
    "inference_timesteps = {1,5,25,50}\n",
    "for inference_timestep in inference_timesteps:\n",
    "    modelP.inference_timesteps = inference_timestep\n",
    "    two_level_rec1 = TwoLevelRec(URM_train=URM_train, recommender1= itemKNNinstance, recommender2=modelP)\n",
    "\n",
    "    # Define the hyperparameter space\n",
    "    two_levels_hyperparam_space = {\n",
    "        \"cutoff\": list(range(10, 200)),\n",
    "    }\n",
    "\n",
    "    # Create an objective function\n",
    "    objective = create_objective_d(recommender_instance=two_level_rec1, URM_train= URM_train, URM_validation=URM_validation, hyperparam_space=two_levels_hyperparam_space, evaluator_validation=evaluator_validation)\n",
    "\n",
    "    # Create the study and run optimization\n",
    "    study = optuna.create_study(direction=\"maximize\")\n",
    "    study.optimize(objective, n_trials=25)\n",
    "    \n",
    "\n",
    "    "
   ]
  },
  {
   "cell_type": "code",
   "execution_count": null,
   "metadata": {},
   "outputs": [
    {
     "data": {
      "text/plain": [
       "{'topK': 93,\n",
       " 'shrink': 74,\n",
       " 'similarity': 'cosine',\n",
       " 'normalize': True,\n",
       " 'feature_weighting': 'TF-IDF'}"
      ]
     },
     "execution_count": 88,
     "metadata": {},
     "output_type": "execute_result"
    }
   ],
   "source": [
    "study.best_params"
   ]
  },
  {
   "cell_type": "code",
   "execution_count": null,
   "metadata": {},
   "outputs": [
    {
     "name": "stderr",
     "output_type": "stream",
     "text": [
      "[I 2023-07-25 00:39:41,005] A new study created in memory with name: no-name-90c8932c-3c15-4873-bb75-3b61ce2802dc\n"
     ]
    },
    {
     "name": "stdout",
     "output_type": "stream",
     "text": [
      "PureSVDRecommender: URM Detected 204 ( 5.3%) items with no interactions.\n",
      "PureSVDRecommender: Computing SVD decomposition...\n",
      "PureSVDRecommender: Computing SVD decomposition... done in 0.12 sec\n",
      "EvaluatorHoldout: Processed 5965 (100.0%) in 1.89 sec. Users per second: 3156\n"
     ]
    },
    {
     "name": "stderr",
     "output_type": "stream",
     "text": [
      "[I 2023-07-25 00:39:43,032] Trial 0 finished with value: 0.08694459080083597 and parameters: {'num_factors': 11}. Best is trial 0 with value: 0.08694459080083597.\n"
     ]
    },
    {
     "name": "stdout",
     "output_type": "stream",
     "text": [
      "PureSVDRecommender: Computing SVD decomposition...\n",
      "PureSVDRecommender: Computing SVD decomposition... done in 0.51 sec\n",
      "EvaluatorHoldout: Processed 5965 (100.0%) in 1.87 sec. Users per second: 3193\n"
     ]
    },
    {
     "name": "stderr",
     "output_type": "stream",
     "text": [
      "[I 2023-07-25 00:39:45,421] Trial 1 finished with value: 0.07611890791522005 and parameters: {'num_factors': 110}. Best is trial 0 with value: 0.08694459080083597.\n"
     ]
    },
    {
     "name": "stdout",
     "output_type": "stream",
     "text": [
      "PureSVDRecommender: Computing SVD decomposition...\n",
      "PureSVDRecommender: Computing SVD decomposition... done in 0.12 sec\n",
      "EvaluatorHoldout: Processed 5965 (100.0%) in 1.80 sec. Users per second: 3313\n"
     ]
    },
    {
     "name": "stderr",
     "output_type": "stream",
     "text": [
      "[I 2023-07-25 00:39:47,350] Trial 2 finished with value: 0.0928297476017511 and parameters: {'num_factors': 18}. Best is trial 2 with value: 0.0928297476017511.\n"
     ]
    },
    {
     "name": "stdout",
     "output_type": "stream",
     "text": [
      "PureSVDRecommender: Computing SVD decomposition...\n",
      "PureSVDRecommender: Computing SVD decomposition... done in 0.77 sec\n",
      "EvaluatorHoldout: Processed 5965 (100.0%) in 1.91 sec. Users per second: 3116\n"
     ]
    },
    {
     "name": "stderr",
     "output_type": "stream",
     "text": [
      "[I 2023-07-25 00:39:50,039] Trial 3 finished with value: 0.07100435742891759 and parameters: {'num_factors': 141}. Best is trial 2 with value: 0.0928297476017511.\n"
     ]
    },
    {
     "name": "stdout",
     "output_type": "stream",
     "text": [
      "PureSVDRecommender: Computing SVD decomposition...\n",
      "PureSVDRecommender: Computing SVD decomposition... done in 0.83 sec\n",
      "EvaluatorHoldout: Processed 5965 (100.0%) in 1.88 sec. Users per second: 3172\n"
     ]
    },
    {
     "name": "stderr",
     "output_type": "stream",
     "text": [
      "[I 2023-07-25 00:39:52,760] Trial 4 finished with value: 0.06994707220692162 and parameters: {'num_factors': 156}. Best is trial 2 with value: 0.0928297476017511.\n"
     ]
    },
    {
     "name": "stdout",
     "output_type": "stream",
     "text": [
      "PureSVDRecommender: Computing SVD decomposition...\n",
      "PureSVDRecommender: Computing SVD decomposition... done in 0.20 sec\n",
      "EvaluatorHoldout: Processed 5965 (100.0%) in 1.82 sec. Users per second: 3277\n"
     ]
    },
    {
     "name": "stderr",
     "output_type": "stream",
     "text": [
      "[I 2023-07-25 00:39:54,788] Trial 5 finished with value: 0.09331354195771643 and parameters: {'num_factors': 36}. Best is trial 5 with value: 0.09331354195771643.\n"
     ]
    },
    {
     "name": "stdout",
     "output_type": "stream",
     "text": [
      "PureSVDRecommender: Computing SVD decomposition...\n",
      "PureSVDRecommender: Computing SVD decomposition... done in 0.15 sec\n",
      "EvaluatorHoldout: Processed 5965 (100.0%) in 1.80 sec. Users per second: 3308\n"
     ]
    },
    {
     "name": "stderr",
     "output_type": "stream",
     "text": [
      "[I 2023-07-25 00:39:56,747] Trial 6 finished with value: 0.09335276547053575 and parameters: {'num_factors': 20}. Best is trial 6 with value: 0.09335276547053575.\n"
     ]
    },
    {
     "name": "stdout",
     "output_type": "stream",
     "text": [
      "PureSVDRecommender: Computing SVD decomposition...\n",
      "PureSVDRecommender: Computing SVD decomposition... done in 0.08 sec\n",
      "EvaluatorHoldout: Processed 5965 (100.0%) in 1.79 sec. Users per second: 3331\n"
     ]
    },
    {
     "name": "stderr",
     "output_type": "stream",
     "text": [
      "[I 2023-07-25 00:39:58,625] Trial 7 finished with value: 0.09039826900304701 and parameters: {'num_factors': 14}. Best is trial 6 with value: 0.09335276547053575.\n"
     ]
    },
    {
     "name": "stdout",
     "output_type": "stream",
     "text": [
      "PureSVDRecommender: Computing SVD decomposition...\n",
      "PureSVDRecommender: Computing SVD decomposition... done in 0.63 sec\n",
      "EvaluatorHoldout: Processed 5965 (100.0%) in 1.86 sec. Users per second: 3206\n"
     ]
    },
    {
     "name": "stderr",
     "output_type": "stream",
     "text": [
      "[I 2023-07-25 00:40:01,127] Trial 8 finished with value: 0.07045241421519738 and parameters: {'num_factors': 146}. Best is trial 6 with value: 0.09335276547053575.\n"
     ]
    },
    {
     "name": "stdout",
     "output_type": "stream",
     "text": [
      "PureSVDRecommender: Computing SVD decomposition...\n",
      "PureSVDRecommender: Computing SVD decomposition... done in 0.38 sec\n",
      "EvaluatorHoldout: Processed 5965 (100.0%) in 1.83 sec. Users per second: 3260\n"
     ]
    },
    {
     "name": "stderr",
     "output_type": "stream",
     "text": [
      "[I 2023-07-25 00:40:03,349] Trial 9 finished with value: 0.08296820740031151 and parameters: {'num_factors': 75}. Best is trial 6 with value: 0.09335276547053575.\n"
     ]
    },
    {
     "name": "stdout",
     "output_type": "stream",
     "text": [
      "PureSVDRecommender: Computing SVD decomposition...\n",
      "PureSVDRecommender: Computing SVD decomposition... done in 0.14 sec\n",
      "EvaluatorHoldout: Processed 5965 (100.0%) in 1.79 sec. Users per second: 3328\n"
     ]
    },
    {
     "name": "stderr",
     "output_type": "stream",
     "text": [
      "[I 2023-07-25 00:40:05,294] Trial 10 finished with value: 0.09338456472278797 and parameters: {'num_factors': 20}. Best is trial 10 with value: 0.09338456472278797.\n"
     ]
    },
    {
     "name": "stdout",
     "output_type": "stream",
     "text": [
      "PureSVDRecommender: Computing SVD decomposition...\n",
      "PureSVDRecommender: Computing SVD decomposition... done in 0.10 sec\n",
      "EvaluatorHoldout: Processed 5965 (100.0%) in 1.80 sec. Users per second: 3323\n"
     ]
    },
    {
     "name": "stderr",
     "output_type": "stream",
     "text": [
      "[I 2023-07-25 00:40:07,202] Trial 11 finished with value: 0.09238962067084436 and parameters: {'num_factors': 16}. Best is trial 10 with value: 0.09338456472278797.\n"
     ]
    },
    {
     "name": "stdout",
     "output_type": "stream",
     "text": [
      "PureSVDRecommender: Computing SVD decomposition...\n",
      "PureSVDRecommender: Computing SVD decomposition... done in 0.23 sec\n",
      "EvaluatorHoldout: Processed 5965 (100.0%) in 1.86 sec. Users per second: 3210\n"
     ]
    },
    {
     "name": "stderr",
     "output_type": "stream",
     "text": [
      "[I 2023-07-25 00:40:09,301] Trial 12 finished with value: 0.0954304607565295 and parameters: {'num_factors': 33}. Best is trial 12 with value: 0.0954304607565295.\n"
     ]
    },
    {
     "name": "stdout",
     "output_type": "stream",
     "text": [
      "PureSVDRecommender: Computing SVD decomposition...\n",
      "PureSVDRecommender: Computing SVD decomposition... done in 0.41 sec\n",
      "EvaluatorHoldout: Processed 5965 (100.0%) in 1.85 sec. Users per second: 3218\n"
     ]
    },
    {
     "name": "stderr",
     "output_type": "stream",
     "text": [
      "[I 2023-07-25 00:40:11,575] Trial 13 finished with value: 0.08283291422184993 and parameters: {'num_factors': 76}. Best is trial 12 with value: 0.0954304607565295.\n"
     ]
    },
    {
     "name": "stdout",
     "output_type": "stream",
     "text": [
      "PureSVDRecommender: Computing SVD decomposition...\n",
      "PureSVDRecommender: Computing SVD decomposition... done in 0.52 sec\n",
      "EvaluatorHoldout: Processed 5965 (100.0%) in 1.92 sec. Users per second: 3114\n"
     ]
    },
    {
     "name": "stderr",
     "output_type": "stream",
     "text": [
      "[I 2023-07-25 00:40:14,021] Trial 14 finished with value: 0.07769176013518045 and parameters: {'num_factors': 103}. Best is trial 12 with value: 0.0954304607565295.\n"
     ]
    },
    {
     "name": "stdout",
     "output_type": "stream",
     "text": [
      "PureSVDRecommender: Computing SVD decomposition...\n",
      "PureSVDRecommender: Computing SVD decomposition... done in 0.51 sec\n",
      "EvaluatorHoldout: Processed 5965 (100.0%) in 1.91 sec. Users per second: 3129\n"
     ]
    },
    {
     "name": "stderr",
     "output_type": "stream",
     "text": [
      "[I 2023-07-25 00:40:16,450] Trial 15 finished with value: 0.08190434279327864 and parameters: {'num_factors': 85}. Best is trial 12 with value: 0.0954304607565295.\n"
     ]
    },
    {
     "name": "stdout",
     "output_type": "stream",
     "text": [
      "PureSVDRecommender: Computing SVD decomposition...\n",
      "PureSVDRecommender: Computing SVD decomposition... done in 0.43 sec\n",
      "EvaluatorHoldout: Processed 5965 (100.0%) in 1.84 sec. Users per second: 3251\n"
     ]
    },
    {
     "name": "stderr",
     "output_type": "stream",
     "text": [
      "[I 2023-07-25 00:40:18,721] Trial 16 finished with value: 0.08052929123591344 and parameters: {'num_factors': 89}. Best is trial 12 with value: 0.0954304607565295.\n"
     ]
    },
    {
     "name": "stdout",
     "output_type": "stream",
     "text": [
      "PureSVDRecommender: Computing SVD decomposition...\n",
      "PureSVDRecommender: Computing SVD decomposition... done in 0.35 sec\n",
      "EvaluatorHoldout: Processed 5965 (100.0%) in 1.80 sec. Users per second: 3308\n"
     ]
    },
    {
     "name": "stderr",
     "output_type": "stream",
     "text": [
      "[I 2023-07-25 00:40:20,881] Trial 17 finished with value: 0.09376442608336995 and parameters: {'num_factors': 33}. Best is trial 12 with value: 0.0954304607565295.\n"
     ]
    },
    {
     "name": "stdout",
     "output_type": "stream",
     "text": [
      "PureSVDRecommender: Computing SVD decomposition...\n",
      "PureSVDRecommender: Computing SVD decomposition... done in 0.62 sec\n",
      "EvaluatorHoldout: Processed 5965 (100.0%) in 1.84 sec. Users per second: 3233\n"
     ]
    },
    {
     "name": "stderr",
     "output_type": "stream",
     "text": [
      "[I 2023-07-25 00:40:23,352] Trial 18 finished with value: 0.07217360529011896 and parameters: {'num_factors': 135}. Best is trial 12 with value: 0.0954304607565295.\n"
     ]
    },
    {
     "name": "stdout",
     "output_type": "stream",
     "text": [
      "PureSVDRecommender: Computing SVD decomposition...\n",
      "PureSVDRecommender: Computing SVD decomposition... done in 0.17 sec\n",
      "EvaluatorHoldout: Processed 5965 (100.0%) in 1.81 sec. Users per second: 3292\n"
     ]
    },
    {
     "name": "stderr",
     "output_type": "stream",
     "text": [
      "[I 2023-07-25 00:40:25,348] Trial 19 finished with value: 0.09352440825450077 and parameters: {'num_factors': 33}. Best is trial 12 with value: 0.0954304607565295.\n"
     ]
    },
    {
     "name": "stdout",
     "output_type": "stream",
     "text": [
      "PureSVDRecommender: Computing SVD decomposition...\n",
      "PureSVDRecommender: Computing SVD decomposition... done in 0.39 sec\n",
      "EvaluatorHoldout: Processed 5965 (100.0%) in 1.82 sec. Users per second: 3284\n"
     ]
    },
    {
     "name": "stderr",
     "output_type": "stream",
     "text": [
      "[I 2023-07-25 00:40:27,561] Trial 20 finished with value: 0.08304356098404765 and parameters: {'num_factors': 77}. Best is trial 12 with value: 0.0954304607565295.\n"
     ]
    },
    {
     "name": "stdout",
     "output_type": "stream",
     "text": [
      "PureSVDRecommender: Computing SVD decomposition...\n",
      "PureSVDRecommender: Computing SVD decomposition... done in 0.56 sec\n",
      "EvaluatorHoldout: Processed 5965 (100.0%) in 1.83 sec. Users per second: 3265\n"
     ]
    },
    {
     "name": "stderr",
     "output_type": "stream",
     "text": [
      "[I 2023-07-25 00:40:29,958] Trial 21 finished with value: 0.07410971407283254 and parameters: {'num_factors': 124}. Best is trial 12 with value: 0.0954304607565295.\n"
     ]
    },
    {
     "name": "stdout",
     "output_type": "stream",
     "text": [
      "PureSVDRecommender: Computing SVD decomposition...\n",
      "PureSVDRecommender: Computing SVD decomposition... done in 0.58 sec\n",
      "EvaluatorHoldout: Processed 5965 (100.0%) in 1.83 sec. Users per second: 3257\n"
     ]
    },
    {
     "name": "stderr",
     "output_type": "stream",
     "text": [
      "[I 2023-07-25 00:40:32,380] Trial 22 finished with value: 0.07262447611064571 and parameters: {'num_factors': 132}. Best is trial 12 with value: 0.0954304607565295.\n"
     ]
    },
    {
     "name": "stdout",
     "output_type": "stream",
     "text": [
      "PureSVDRecommender: Computing SVD decomposition...\n",
      "PureSVDRecommender: Computing SVD decomposition... done in 0.17 sec\n",
      "EvaluatorHoldout: Processed 5965 (100.0%) in 1.79 sec. Users per second: 3335\n"
     ]
    },
    {
     "name": "stderr",
     "output_type": "stream",
     "text": [
      "[I 2023-07-25 00:40:34,349] Trial 23 finished with value: 0.09445739698505849 and parameters: {'num_factors': 33}. Best is trial 12 with value: 0.0954304607565295.\n"
     ]
    },
    {
     "name": "stdout",
     "output_type": "stream",
     "text": [
      "PureSVDRecommender: Computing SVD decomposition...\n",
      "PureSVDRecommender: Computing SVD decomposition... done in 0.36 sec\n",
      "EvaluatorHoldout: Processed 5965 (100.0%) in 1.82 sec. Users per second: 3283\n"
     ]
    },
    {
     "name": "stderr",
     "output_type": "stream",
     "text": [
      "[I 2023-07-25 00:40:36,535] Trial 24 finished with value: 0.08266619433467755 and parameters: {'num_factors': 79}. Best is trial 12 with value: 0.0954304607565295.\n"
     ]
    },
    {
     "name": "stdout",
     "output_type": "stream",
     "text": [
      "PureSVDRecommender: Computing SVD decomposition...\n",
      "PureSVDRecommender: Computing SVD decomposition... done in 0.18 sec\n",
      "EvaluatorHoldout: Processed 5965 (100.0%) in 1.79 sec. Users per second: 3328\n"
     ]
    },
    {
     "name": "stderr",
     "output_type": "stream",
     "text": [
      "[I 2023-07-25 00:40:38,518] Trial 25 finished with value: 0.0933600234170228 and parameters: {'num_factors': 33}. Best is trial 12 with value: 0.0954304607565295.\n"
     ]
    },
    {
     "name": "stdout",
     "output_type": "stream",
     "text": [
      "PureSVDRecommender: Computing SVD decomposition...\n",
      "PureSVDRecommender: Computing SVD decomposition... done in 0.33 sec\n",
      "EvaluatorHoldout: Processed 5965 (100.0%) in 1.83 sec. Users per second: 3264\n"
     ]
    },
    {
     "name": "stderr",
     "output_type": "stream",
     "text": [
      "[I 2023-07-25 00:40:40,686] Trial 26 finished with value: 0.08620545776287628 and parameters: {'num_factors': 65}. Best is trial 12 with value: 0.0954304607565295.\n"
     ]
    },
    {
     "name": "stdout",
     "output_type": "stream",
     "text": [
      "PureSVDRecommender: Computing SVD decomposition...\n",
      "PureSVDRecommender: Computing SVD decomposition... done in 0.20 sec\n",
      "EvaluatorHoldout: Processed 5965 (100.0%) in 1.83 sec. Users per second: 3256\n"
     ]
    },
    {
     "name": "stderr",
     "output_type": "stream",
     "text": [
      "[I 2023-07-25 00:40:42,733] Trial 27 finished with value: 0.09233308718849385 and parameters: {'num_factors': 39}. Best is trial 12 with value: 0.0954304607565295.\n"
     ]
    },
    {
     "name": "stdout",
     "output_type": "stream",
     "text": [
      "PureSVDRecommender: Computing SVD decomposition...\n",
      "PureSVDRecommender: Computing SVD decomposition... done in 0.34 sec\n",
      "EvaluatorHoldout: Processed 5965 (100.0%) in 1.86 sec. Users per second: 3215\n"
     ]
    },
    {
     "name": "stderr",
     "output_type": "stream",
     "text": [
      "[I 2023-07-25 00:40:44,941] Trial 28 finished with value: 0.08662999108556566 and parameters: {'num_factors': 64}. Best is trial 12 with value: 0.0954304607565295.\n"
     ]
    },
    {
     "name": "stdout",
     "output_type": "stream",
     "text": [
      "PureSVDRecommender: Computing SVD decomposition...\n",
      "PureSVDRecommender: Computing SVD decomposition... done in 0.17 sec\n",
      "EvaluatorHoldout: Processed 5965 (100.0%) in 1.82 sec. Users per second: 3283\n"
     ]
    },
    {
     "name": "stderr",
     "output_type": "stream",
     "text": [
      "[I 2023-07-25 00:40:46,941] Trial 29 finished with value: 0.09397392860469152 and parameters: {'num_factors': 33}. Best is trial 12 with value: 0.0954304607565295.\n"
     ]
    },
    {
     "name": "stdout",
     "output_type": "stream",
     "text": [
      "PureSVDRecommender: Computing SVD decomposition...\n",
      "PureSVDRecommender: Computing SVD decomposition... done in 0.64 sec\n",
      "EvaluatorHoldout: Processed 5965 (100.0%) in 1.83 sec. Users per second: 3265\n"
     ]
    },
    {
     "name": "stderr",
     "output_type": "stream",
     "text": [
      "[I 2023-07-25 00:40:49,417] Trial 30 finished with value: 0.07132332122566828 and parameters: {'num_factors': 137}. Best is trial 12 with value: 0.0954304607565295.\n"
     ]
    },
    {
     "name": "stdout",
     "output_type": "stream",
     "text": [
      "PureSVDRecommender: Computing SVD decomposition...\n",
      "PureSVDRecommender: Computing SVD decomposition... done in 0.18 sec\n",
      "EvaluatorHoldout: Processed 5965 (100.0%) in 1.79 sec. Users per second: 3329\n"
     ]
    },
    {
     "name": "stderr",
     "output_type": "stream",
     "text": [
      "[I 2023-07-25 00:40:51,396] Trial 31 finished with value: 0.09423719714205876 and parameters: {'num_factors': 33}. Best is trial 12 with value: 0.0954304607565295.\n"
     ]
    },
    {
     "name": "stdout",
     "output_type": "stream",
     "text": [
      "PureSVDRecommender: Computing SVD decomposition...\n",
      "PureSVDRecommender: Computing SVD decomposition... done in 0.22 sec\n",
      "EvaluatorHoldout: Processed 5965 (100.0%) in 1.82 sec. Users per second: 3280\n"
     ]
    },
    {
     "name": "stderr",
     "output_type": "stream",
     "text": [
      "[I 2023-07-25 00:40:53,447] Trial 32 finished with value: 0.09242388137149235 and parameters: {'num_factors': 41}. Best is trial 12 with value: 0.0954304607565295.\n"
     ]
    },
    {
     "name": "stdout",
     "output_type": "stream",
     "text": [
      "PureSVDRecommender: Computing SVD decomposition...\n",
      "PureSVDRecommender: Computing SVD decomposition... done in 0.68 sec\n",
      "EvaluatorHoldout: Processed 5965 (100.0%) in 1.84 sec. Users per second: 3246\n"
     ]
    },
    {
     "name": "stderr",
     "output_type": "stream",
     "text": [
      "[I 2023-07-25 00:40:55,982] Trial 33 finished with value: 0.06933437778576118 and parameters: {'num_factors': 153}. Best is trial 12 with value: 0.0954304607565295.\n"
     ]
    },
    {
     "name": "stdout",
     "output_type": "stream",
     "text": [
      "PureSVDRecommender: Computing SVD decomposition...\n",
      "PureSVDRecommender: Computing SVD decomposition... done in 0.17 sec\n",
      "EvaluatorHoldout: Processed 5965 (100.0%) in 1.79 sec. Users per second: 3334\n"
     ]
    },
    {
     "name": "stderr",
     "output_type": "stream",
     "text": [
      "[I 2023-07-25 00:40:57,956] Trial 34 finished with value: 0.09416666001410329 and parameters: {'num_factors': 33}. Best is trial 12 with value: 0.0954304607565295.\n"
     ]
    },
    {
     "name": "stdout",
     "output_type": "stream",
     "text": [
      "PureSVDRecommender: Computing SVD decomposition...\n",
      "PureSVDRecommender: Computing SVD decomposition... done in 0.35 sec\n",
      "EvaluatorHoldout: Processed 5965 (100.0%) in 1.82 sec. Users per second: 3269\n"
     ]
    },
    {
     "name": "stderr",
     "output_type": "stream",
     "text": [
      "[I 2023-07-25 00:41:00,150] Trial 35 finished with value: 0.0823888689311996 and parameters: {'num_factors': 80}. Best is trial 12 with value: 0.0954304607565295.\n"
     ]
    },
    {
     "name": "stdout",
     "output_type": "stream",
     "text": [
      "PureSVDRecommender: Computing SVD decomposition...\n",
      "PureSVDRecommender: Computing SVD decomposition... done in 0.29 sec\n",
      "EvaluatorHoldout: Processed 5965 (100.0%) in 1.81 sec. Users per second: 3292\n"
     ]
    },
    {
     "name": "stderr",
     "output_type": "stream",
     "text": [
      "[I 2023-07-25 00:41:02,270] Trial 36 finished with value: 0.0872929456219486 and parameters: {'num_factors': 60}. Best is trial 12 with value: 0.0954304607565295.\n"
     ]
    },
    {
     "name": "stdout",
     "output_type": "stream",
     "text": [
      "PureSVDRecommender: Computing SVD decomposition...\n",
      "PureSVDRecommender: Computing SVD decomposition... done in 0.64 sec\n",
      "EvaluatorHoldout: Processed 5965 (100.0%) in 1.83 sec. Users per second: 3259\n"
     ]
    },
    {
     "name": "stderr",
     "output_type": "stream",
     "text": [
      "[I 2023-07-25 00:41:04,757] Trial 37 finished with value: 0.07101206774970424 and parameters: {'num_factors': 144}. Best is trial 12 with value: 0.0954304607565295.\n"
     ]
    },
    {
     "name": "stdout",
     "output_type": "stream",
     "text": [
      "PureSVDRecommender: Computing SVD decomposition...\n",
      "PureSVDRecommender: Computing SVD decomposition... done in 0.38 sec\n",
      "EvaluatorHoldout: Processed 5965 (100.0%) in 1.81 sec. Users per second: 3289\n"
     ]
    },
    {
     "name": "stderr",
     "output_type": "stream",
     "text": [
      "[I 2023-07-25 00:41:06,968] Trial 38 finished with value: 0.0810788727896863 and parameters: {'num_factors': 87}. Best is trial 12 with value: 0.0954304607565295.\n"
     ]
    },
    {
     "name": "stdout",
     "output_type": "stream",
     "text": [
      "PureSVDRecommender: Computing SVD decomposition...\n",
      "PureSVDRecommender: Computing SVD decomposition... done in 0.58 sec\n",
      "EvaluatorHoldout: Processed 5965 (100.0%) in 1.83 sec. Users per second: 3268\n"
     ]
    },
    {
     "name": "stderr",
     "output_type": "stream",
     "text": [
      "[I 2023-07-25 00:41:09,391] Trial 39 finished with value: 0.07657313828017952 and parameters: {'num_factors': 107}. Best is trial 12 with value: 0.0954304607565295.\n"
     ]
    },
    {
     "name": "stdout",
     "output_type": "stream",
     "text": [
      "PureSVDRecommender: Computing SVD decomposition...\n",
      "PureSVDRecommender: Computing SVD decomposition... done in 0.14 sec\n",
      "EvaluatorHoldout: Processed 5965 (100.0%) in 1.79 sec. Users per second: 3339\n"
     ]
    },
    {
     "name": "stderr",
     "output_type": "stream",
     "text": [
      "[I 2023-07-25 00:41:11,329] Trial 40 finished with value: 0.09497899785787495 and parameters: {'num_factors': 25}. Best is trial 12 with value: 0.0954304607565295.\n"
     ]
    },
    {
     "name": "stdout",
     "output_type": "stream",
     "text": [
      "PureSVDRecommender: Computing SVD decomposition...\n",
      "PureSVDRecommender: Computing SVD decomposition... done in 0.10 sec\n",
      "EvaluatorHoldout: Processed 5965 (100.0%) in 1.79 sec. Users per second: 3337\n"
     ]
    },
    {
     "name": "stderr",
     "output_type": "stream",
     "text": [
      "[I 2023-07-25 00:41:13,232] Trial 41 finished with value: 0.0884689125720143 and parameters: {'num_factors': 12}. Best is trial 12 with value: 0.0954304607565295.\n"
     ]
    },
    {
     "name": "stdout",
     "output_type": "stream",
     "text": [
      "PureSVDRecommender: Computing SVD decomposition...\n",
      "PureSVDRecommender: Computing SVD decomposition... done in 0.53 sec\n",
      "EvaluatorHoldout: Processed 5965 (100.0%) in 1.82 sec. Users per second: 3273\n"
     ]
    },
    {
     "name": "stderr",
     "output_type": "stream",
     "text": [
      "[I 2023-07-25 00:41:15,597] Trial 42 finished with value: 0.07326493167817585 and parameters: {'num_factors': 126}. Best is trial 12 with value: 0.0954304607565295.\n"
     ]
    },
    {
     "name": "stdout",
     "output_type": "stream",
     "text": [
      "PureSVDRecommender: Computing SVD decomposition...\n",
      "PureSVDRecommender: Computing SVD decomposition... done in 0.49 sec\n",
      "EvaluatorHoldout: Processed 5965 (100.0%) in 1.82 sec. Users per second: 3273\n"
     ]
    },
    {
     "name": "stderr",
     "output_type": "stream",
     "text": [
      "[I 2023-07-25 00:41:17,926] Trial 43 finished with value: 0.07679561995236772 and parameters: {'num_factors': 104}. Best is trial 12 with value: 0.0954304607565295.\n"
     ]
    },
    {
     "name": "stdout",
     "output_type": "stream",
     "text": [
      "PureSVDRecommender: Computing SVD decomposition...\n",
      "PureSVDRecommender: Computing SVD decomposition... done in 0.15 sec\n",
      "EvaluatorHoldout: Processed 5965 (100.0%) in 1.79 sec. Users per second: 3333\n"
     ]
    },
    {
     "name": "stderr",
     "output_type": "stream",
     "text": [
      "[I 2023-07-25 00:41:19,878] Trial 44 finished with value: 0.09501100999215017 and parameters: {'num_factors': 25}. Best is trial 12 with value: 0.0954304607565295.\n"
     ]
    },
    {
     "name": "stdout",
     "output_type": "stream",
     "text": [
      "PureSVDRecommender: Computing SVD decomposition...\n",
      "PureSVDRecommender: Computing SVD decomposition... done in 0.47 sec\n",
      "EvaluatorHoldout: Processed 5965 (100.0%) in 1.83 sec. Users per second: 3251\n"
     ]
    },
    {
     "name": "stderr",
     "output_type": "stream",
     "text": [
      "[I 2023-07-25 00:41:22,198] Trial 45 finished with value: 0.07995890046434935 and parameters: {'num_factors': 95}. Best is trial 12 with value: 0.0954304607565295.\n"
     ]
    },
    {
     "name": "stdout",
     "output_type": "stream",
     "text": [
      "PureSVDRecommender: Computing SVD decomposition...\n",
      "PureSVDRecommender: Computing SVD decomposition... done in 0.13 sec\n",
      "EvaluatorHoldout: Processed 5965 (100.0%) in 1.79 sec. Users per second: 3333\n"
     ]
    },
    {
     "name": "stderr",
     "output_type": "stream",
     "text": [
      "[I 2023-07-25 00:41:24,136] Trial 46 finished with value: 0.09460441197993615 and parameters: {'num_factors': 25}. Best is trial 12 with value: 0.0954304607565295.\n"
     ]
    },
    {
     "name": "stdout",
     "output_type": "stream",
     "text": [
      "PureSVDRecommender: Computing SVD decomposition...\n",
      "PureSVDRecommender: Computing SVD decomposition... done in 0.17 sec\n",
      "EvaluatorHoldout: Processed 5965 (100.0%) in 1.83 sec. Users per second: 3251\n"
     ]
    },
    {
     "name": "stderr",
     "output_type": "stream",
     "text": [
      "[I 2023-07-25 00:41:26,153] Trial 47 finished with value: 0.0946784350510255 and parameters: {'num_factors': 25}. Best is trial 12 with value: 0.0954304607565295.\n"
     ]
    },
    {
     "name": "stdout",
     "output_type": "stream",
     "text": [
      "PureSVDRecommender: Computing SVD decomposition...\n",
      "PureSVDRecommender: Computing SVD decomposition... done in 0.31 sec\n",
      "EvaluatorHoldout: Processed 5965 (100.0%) in 1.88 sec. Users per second: 3168\n"
     ]
    },
    {
     "name": "stderr",
     "output_type": "stream",
     "text": [
      "[I 2023-07-25 00:41:28,360] Trial 48 finished with value: 0.09477638073949933 and parameters: {'num_factors': 27}. Best is trial 12 with value: 0.0954304607565295.\n"
     ]
    },
    {
     "name": "stdout",
     "output_type": "stream",
     "text": [
      "PureSVDRecommender: Computing SVD decomposition...\n",
      "PureSVDRecommender: Computing SVD decomposition... done in 0.16 sec\n",
      "EvaluatorHoldout: Processed 5965 (100.0%) in 1.92 sec. Users per second: 3107\n"
     ]
    },
    {
     "name": "stderr",
     "output_type": "stream",
     "text": [
      "[I 2023-07-25 00:41:30,459] Trial 49 finished with value: 0.09510670711425145 and parameters: {'num_factors': 27}. Best is trial 12 with value: 0.0954304607565295.\n"
     ]
    },
    {
     "name": "stdout",
     "output_type": "stream",
     "text": [
      "PureSVDRecommender: Computing SVD decomposition...\n",
      "PureSVDRecommender: Computing SVD decomposition... done in 0.38 sec\n",
      "EvaluatorHoldout: Processed 5965 (100.0%) in 1.88 sec. Users per second: 3177\n"
     ]
    },
    {
     "name": "stderr",
     "output_type": "stream",
     "text": [
      "[I 2023-07-25 00:41:32,731] Trial 50 finished with value: 0.08611653295014583 and parameters: {'num_factors': 67}. Best is trial 12 with value: 0.0954304607565295.\n"
     ]
    },
    {
     "name": "stdout",
     "output_type": "stream",
     "text": [
      "PureSVDRecommender: Computing SVD decomposition...\n",
      "PureSVDRecommender: Computing SVD decomposition... done in 0.36 sec\n",
      "EvaluatorHoldout: Processed 5965 (100.0%) in 1.88 sec. Users per second: 3173\n"
     ]
    },
    {
     "name": "stderr",
     "output_type": "stream",
     "text": [
      "[I 2023-07-25 00:41:34,987] Trial 51 finished with value: 0.0849036642318289 and parameters: {'num_factors': 68}. Best is trial 12 with value: 0.0954304607565295.\n"
     ]
    },
    {
     "name": "stdout",
     "output_type": "stream",
     "text": [
      "PureSVDRecommender: Computing SVD decomposition...\n",
      "PureSVDRecommender: Computing SVD decomposition... done in 0.14 sec\n",
      "EvaluatorHoldout: Processed 5965 (100.0%) in 1.94 sec. Users per second: 3075\n"
     ]
    },
    {
     "name": "stderr",
     "output_type": "stream",
     "text": [
      "[I 2023-07-25 00:41:37,083] Trial 52 finished with value: 0.09464940991764137 and parameters: {'num_factors': 25}. Best is trial 12 with value: 0.0954304607565295.\n"
     ]
    },
    {
     "name": "stdout",
     "output_type": "stream",
     "text": [
      "PureSVDRecommender: Computing SVD decomposition...\n",
      "PureSVDRecommender: Computing SVD decomposition... done in 0.16 sec\n",
      "EvaluatorHoldout: Processed 5965 (100.0%) in 1.91 sec. Users per second: 3126\n"
     ]
    },
    {
     "name": "stderr",
     "output_type": "stream",
     "text": [
      "[I 2023-07-25 00:41:39,170] Trial 53 finished with value: 0.09306263388283538 and parameters: {'num_factors': 38}. Best is trial 12 with value: 0.0954304607565295.\n"
     ]
    },
    {
     "name": "stdout",
     "output_type": "stream",
     "text": [
      "PureSVDRecommender: Computing SVD decomposition...\n",
      "PureSVDRecommender: Computing SVD decomposition... done in 0.20 sec\n",
      "EvaluatorHoldout: Processed 5965 (100.0%) in 1.84 sec. Users per second: 3233\n"
     ]
    },
    {
     "name": "stderr",
     "output_type": "stream",
     "text": [
      "[I 2023-07-25 00:41:41,227] Trial 54 finished with value: 0.09487569685599909 and parameters: {'num_factors': 25}. Best is trial 12 with value: 0.0954304607565295.\n"
     ]
    },
    {
     "name": "stdout",
     "output_type": "stream",
     "text": [
      "PureSVDRecommender: Computing SVD decomposition...\n",
      "PureSVDRecommender: Computing SVD decomposition... done in 0.34 sec\n",
      "EvaluatorHoldout: Processed 5965 (100.0%) in 1.88 sec. Users per second: 3173\n"
     ]
    },
    {
     "name": "stderr",
     "output_type": "stream",
     "text": [
      "[I 2023-07-25 00:41:43,460] Trial 55 finished with value: 0.08511856198193192 and parameters: {'num_factors': 70}. Best is trial 12 with value: 0.0954304607565295.\n"
     ]
    },
    {
     "name": "stdout",
     "output_type": "stream",
     "text": [
      "PureSVDRecommender: Computing SVD decomposition...\n",
      "PureSVDRecommender: Computing SVD decomposition... done in 0.18 sec\n",
      "EvaluatorHoldout: Processed 5965 (100.0%) in 1.83 sec. Users per second: 3262\n"
     ]
    },
    {
     "name": "stderr",
     "output_type": "stream",
     "text": [
      "[I 2023-07-25 00:41:45,483] Trial 56 finished with value: 0.09508601764259825 and parameters: {'num_factors': 27}. Best is trial 12 with value: 0.0954304607565295.\n"
     ]
    },
    {
     "name": "stdout",
     "output_type": "stream",
     "text": [
      "PureSVDRecommender: Computing SVD decomposition...\n",
      "PureSVDRecommender: Computing SVD decomposition... done in 0.18 sec\n",
      "EvaluatorHoldout: Processed 5965 (100.0%) in 1.91 sec. Users per second: 3119\n"
     ]
    },
    {
     "name": "stderr",
     "output_type": "stream",
     "text": [
      "[I 2023-07-25 00:41:47,588] Trial 57 finished with value: 0.09504466530954384 and parameters: {'num_factors': 27}. Best is trial 12 with value: 0.0954304607565295.\n"
     ]
    },
    {
     "name": "stdout",
     "output_type": "stream",
     "text": [
      "PureSVDRecommender: Computing SVD decomposition...\n",
      "PureSVDRecommender: Computing SVD decomposition... done in 0.74 sec\n",
      "EvaluatorHoldout: Processed 5965 (100.0%) in 1.92 sec. Users per second: 3114\n"
     ]
    },
    {
     "name": "stderr",
     "output_type": "stream",
     "text": [
      "[I 2023-07-25 00:41:50,258] Trial 58 finished with value: 0.07349833685919213 and parameters: {'num_factors': 128}. Best is trial 12 with value: 0.0954304607565295.\n"
     ]
    },
    {
     "name": "stdout",
     "output_type": "stream",
     "text": [
      "PureSVDRecommender: Computing SVD decomposition...\n",
      "PureSVDRecommender: Computing SVD decomposition... done in 0.18 sec\n",
      "EvaluatorHoldout: Processed 5965 (100.0%) in 1.91 sec. Users per second: 3117\n"
     ]
    },
    {
     "name": "stderr",
     "output_type": "stream",
     "text": [
      "[I 2023-07-25 00:41:52,368] Trial 59 finished with value: 0.09509974853311001 and parameters: {'num_factors': 31}. Best is trial 12 with value: 0.0954304607565295.\n"
     ]
    },
    {
     "name": "stdout",
     "output_type": "stream",
     "text": [
      "PureSVDRecommender: Computing SVD decomposition...\n",
      "PureSVDRecommender: Computing SVD decomposition... done in 0.42 sec\n",
      "EvaluatorHoldout: Processed 5965 (100.0%) in 1.90 sec. Users per second: 3131\n"
     ]
    },
    {
     "name": "stderr",
     "output_type": "stream",
     "text": [
      "[I 2023-07-25 00:41:54,711] Trial 60 finished with value: 0.09008135419577175 and parameters: {'num_factors': 51}. Best is trial 12 with value: 0.0954304607565295.\n"
     ]
    },
    {
     "name": "stdout",
     "output_type": "stream",
     "text": [
      "PureSVDRecommender: Computing SVD decomposition...\n",
      "PureSVDRecommender: Computing SVD decomposition... done in 0.17 sec\n",
      "EvaluatorHoldout: Processed 5965 (100.0%) in 1.89 sec. Users per second: 3160\n"
     ]
    },
    {
     "name": "stderr",
     "output_type": "stream",
     "text": [
      "[I 2023-07-25 00:41:56,782] Trial 61 finished with value: 0.09509472584786935 and parameters: {'num_factors': 31}. Best is trial 12 with value: 0.0954304607565295.\n"
     ]
    },
    {
     "name": "stdout",
     "output_type": "stream",
     "text": [
      "PureSVDRecommender: Computing SVD decomposition...\n",
      "PureSVDRecommender: Computing SVD decomposition... done in 0.19 sec\n",
      "EvaluatorHoldout: Processed 5965 (100.0%) in 1.86 sec. Users per second: 3210\n"
     ]
    },
    {
     "name": "stderr",
     "output_type": "stream",
     "text": [
      "[I 2023-07-25 00:41:58,850] Trial 62 finished with value: 0.09520953578413793 and parameters: {'num_factors': 27}. Best is trial 12 with value: 0.0954304607565295.\n"
     ]
    },
    {
     "name": "stdout",
     "output_type": "stream",
     "text": [
      "PureSVDRecommender: Computing SVD decomposition...\n",
      "PureSVDRecommender: Computing SVD decomposition... done in 0.20 sec\n",
      "EvaluatorHoldout: Processed 5965 (100.0%) in 1.88 sec. Users per second: 3171\n"
     ]
    },
    {
     "name": "stderr",
     "output_type": "stream",
     "text": [
      "[I 2023-07-25 00:42:00,949] Trial 63 finished with value: 0.095077435836028 and parameters: {'num_factors': 27}. Best is trial 12 with value: 0.0954304607565295.\n"
     ]
    },
    {
     "name": "stdout",
     "output_type": "stream",
     "text": [
      "PureSVDRecommender: Computing SVD decomposition...\n",
      "PureSVDRecommender: Computing SVD decomposition... done in 0.76 sec\n",
      "EvaluatorHoldout: Processed 5965 (100.0%) in 1.89 sec. Users per second: 3155\n"
     ]
    },
    {
     "name": "stderr",
     "output_type": "stream",
     "text": [
      "[I 2023-07-25 00:42:03,620] Trial 64 finished with value: 0.07452134142285058 and parameters: {'num_factors': 119}. Best is trial 12 with value: 0.0954304607565295.\n"
     ]
    },
    {
     "name": "stdout",
     "output_type": "stream",
     "text": [
      "PureSVDRecommender: Computing SVD decomposition...\n",
      "PureSVDRecommender: Computing SVD decomposition... done in 0.16 sec\n",
      "EvaluatorHoldout: Processed 5965 (100.0%) in 1.83 sec. Users per second: 3265\n"
     ]
    },
    {
     "name": "stderr",
     "output_type": "stream",
     "text": [
      "[I 2023-07-25 00:42:05,628] Trial 65 finished with value: 0.09517127024042402 and parameters: {'num_factors': 27}. Best is trial 12 with value: 0.0954304607565295.\n"
     ]
    },
    {
     "name": "stdout",
     "output_type": "stream",
     "text": [
      "PureSVDRecommender: Computing SVD decomposition...\n",
      "PureSVDRecommender: Computing SVD decomposition... done in 0.74 sec\n",
      "EvaluatorHoldout: Processed 5965 (100.0%) in 1.88 sec. Users per second: 3176\n"
     ]
    },
    {
     "name": "stderr",
     "output_type": "stream",
     "text": [
      "[I 2023-07-25 00:42:08,261] Trial 66 finished with value: 0.07148828483614766 and parameters: {'num_factors': 140}. Best is trial 12 with value: 0.0954304607565295.\n"
     ]
    },
    {
     "name": "stdout",
     "output_type": "stream",
     "text": [
      "PureSVDRecommender: Computing SVD decomposition...\n",
      "PureSVDRecommender: Computing SVD decomposition... done in 0.17 sec\n",
      "EvaluatorHoldout: Processed 5965 (100.0%) in 1.89 sec. Users per second: 3160\n"
     ]
    },
    {
     "name": "stderr",
     "output_type": "stream",
     "text": [
      "[I 2023-07-25 00:42:10,335] Trial 67 finished with value: 0.09492206522173012 and parameters: {'num_factors': 31}. Best is trial 12 with value: 0.0954304607565295.\n"
     ]
    },
    {
     "name": "stdout",
     "output_type": "stream",
     "text": [
      "PureSVDRecommender: Computing SVD decomposition...\n",
      "PureSVDRecommender: Computing SVD decomposition... done in 0.83 sec\n",
      "EvaluatorHoldout: Processed 5965 (100.0%) in 1.90 sec. Users per second: 3147\n"
     ]
    },
    {
     "name": "stderr",
     "output_type": "stream",
     "text": [
      "[I 2023-07-25 00:42:13,077] Trial 68 finished with value: 0.07229013158770095 and parameters: {'num_factors': 133}. Best is trial 12 with value: 0.0954304607565295.\n"
     ]
    },
    {
     "name": "stdout",
     "output_type": "stream",
     "text": [
      "PureSVDRecommender: Computing SVD decomposition...\n",
      "PureSVDRecommender: Computing SVD decomposition... done in 0.17 sec\n",
      "EvaluatorHoldout: Processed 5965 (100.0%) in 1.83 sec. Users per second: 3267\n"
     ]
    },
    {
     "name": "stderr",
     "output_type": "stream",
     "text": [
      "[I 2023-07-25 00:42:15,094] Trial 69 finished with value: 0.09545395760986725 and parameters: {'num_factors': 31}. Best is trial 69 with value: 0.09545395760986725.\n"
     ]
    },
    {
     "name": "stdout",
     "output_type": "stream",
     "text": [
      "PureSVDRecommender: Computing SVD decomposition...\n",
      "PureSVDRecommender: Computing SVD decomposition... done in 0.17 sec\n",
      "EvaluatorHoldout: Processed 5965 (100.0%) in 1.83 sec. Users per second: 3260\n"
     ]
    },
    {
     "name": "stderr",
     "output_type": "stream",
     "text": [
      "[I 2023-07-25 00:42:17,112] Trial 70 finished with value: 0.09452763474766819 and parameters: {'num_factors': 31}. Best is trial 69 with value: 0.09545395760986725.\n"
     ]
    },
    {
     "name": "stdout",
     "output_type": "stream",
     "text": [
      "PureSVDRecommender: Computing SVD decomposition...\n",
      "PureSVDRecommender: Computing SVD decomposition... done in 0.16 sec\n",
      "EvaluatorHoldout: Processed 5965 (100.0%) in 1.86 sec. Users per second: 3211\n"
     ]
    },
    {
     "name": "stderr",
     "output_type": "stream",
     "text": [
      "[I 2023-07-25 00:42:19,150] Trial 71 finished with value: 0.09550142364853154 and parameters: {'num_factors': 31}. Best is trial 71 with value: 0.09550142364853154.\n"
     ]
    },
    {
     "name": "stdout",
     "output_type": "stream",
     "text": [
      "PureSVDRecommender: Computing SVD decomposition...\n",
      "PureSVDRecommender: Computing SVD decomposition... done in 1.20 sec\n",
      "EvaluatorHoldout: Processed 5965 (100.0%) in 1.89 sec. Users per second: 3163\n"
     ]
    },
    {
     "name": "stderr",
     "output_type": "stream",
     "text": [
      "[I 2023-07-25 00:42:22,255] Trial 72 finished with value: 0.06926203781316981 and parameters: {'num_factors': 159}. Best is trial 71 with value: 0.09550142364853154.\n"
     ]
    },
    {
     "name": "stdout",
     "output_type": "stream",
     "text": [
      "PureSVDRecommender: Computing SVD decomposition...\n",
      "PureSVDRecommender: Computing SVD decomposition... done in 0.51 sec\n",
      "EvaluatorHoldout: Processed 5965 (100.0%) in 1.83 sec. Users per second: 3251\n"
     ]
    },
    {
     "name": "stderr",
     "output_type": "stream",
     "text": [
      "[I 2023-07-25 00:42:24,622] Trial 73 finished with value: 0.07631014915046812 and parameters: {'num_factors': 112}. Best is trial 71 with value: 0.09550142364853154.\n"
     ]
    },
    {
     "name": "stdout",
     "output_type": "stream",
     "text": [
      "PureSVDRecommender: Computing SVD decomposition...\n",
      "PureSVDRecommender: Computing SVD decomposition... done in 0.73 sec\n",
      "EvaluatorHoldout: Processed 5965 (100.0%) in 1.96 sec. Users per second: 3047\n"
     ]
    },
    {
     "name": "stderr",
     "output_type": "stream",
     "text": [
      "[I 2023-07-25 00:42:27,333] Trial 74 finished with value: 0.07121521042057541 and parameters: {'num_factors': 142}. Best is trial 71 with value: 0.09550142364853154.\n"
     ]
    },
    {
     "name": "stdout",
     "output_type": "stream",
     "text": [
      "PureSVDRecommender: Computing SVD decomposition...\n",
      "PureSVDRecommender: Computing SVD decomposition... done in 0.59 sec\n",
      "EvaluatorHoldout: Processed 5965 (100.0%) in 1.87 sec. Users per second: 3184\n"
     ]
    },
    {
     "name": "stderr",
     "output_type": "stream",
     "text": [
      "[I 2023-07-25 00:42:29,820] Trial 75 finished with value: 0.0788905653348238 and parameters: {'num_factors': 97}. Best is trial 71 with value: 0.09550142364853154.\n"
     ]
    },
    {
     "name": "stdout",
     "output_type": "stream",
     "text": [
      "PureSVDRecommender: Computing SVD decomposition...\n",
      "PureSVDRecommender: Computing SVD decomposition... done in 0.16 sec\n",
      "EvaluatorHoldout: Processed 5965 (100.0%) in 1.82 sec. Users per second: 3274\n"
     ]
    },
    {
     "name": "stderr",
     "output_type": "stream",
     "text": [
      "[I 2023-07-25 00:42:31,823] Trial 76 finished with value: 0.09488435849332748 and parameters: {'num_factors': 31}. Best is trial 71 with value: 0.09550142364853154.\n"
     ]
    },
    {
     "name": "stdout",
     "output_type": "stream",
     "text": [
      "PureSVDRecommender: Computing SVD decomposition...\n",
      "PureSVDRecommender: Computing SVD decomposition... done in 0.69 sec\n",
      "EvaluatorHoldout: Processed 5965 (100.0%) in 1.97 sec. Users per second: 3033\n"
     ]
    },
    {
     "name": "stderr",
     "output_type": "stream",
     "text": [
      "[I 2023-07-25 00:42:34,497] Trial 77 finished with value: 0.07479260634122349 and parameters: {'num_factors': 117}. Best is trial 71 with value: 0.09550142364853154.\n"
     ]
    },
    {
     "name": "stdout",
     "output_type": "stream",
     "text": [
      "PureSVDRecommender: Computing SVD decomposition...\n",
      "PureSVDRecommender: Computing SVD decomposition... done in 0.33 sec\n",
      "EvaluatorHoldout: Processed 5965 (100.0%) in 1.88 sec. Users per second: 3167\n"
     ]
    },
    {
     "name": "stderr",
     "output_type": "stream",
     "text": [
      "[I 2023-07-25 00:42:36,725] Trial 78 finished with value: 0.08608676272967983 and parameters: {'num_factors': 63}. Best is trial 71 with value: 0.09550142364853154.\n"
     ]
    },
    {
     "name": "stdout",
     "output_type": "stream",
     "text": [
      "PureSVDRecommender: Computing SVD decomposition...\n",
      "PureSVDRecommender: Computing SVD decomposition... done in 0.66 sec\n",
      "EvaluatorHoldout: Processed 5965 (100.0%) in 1.95 sec. Users per second: 3064\n"
     ]
    },
    {
     "name": "stderr",
     "output_type": "stream",
     "text": [
      "[I 2023-07-25 00:42:39,348] Trial 79 finished with value: 0.07214447371572287 and parameters: {'num_factors': 136}. Best is trial 71 with value: 0.09550142364853154.\n"
     ]
    },
    {
     "name": "stdout",
     "output_type": "stream",
     "text": [
      "PureSVDRecommender: Computing SVD decomposition...\n",
      "PureSVDRecommender: Computing SVD decomposition... done in 0.61 sec\n",
      "EvaluatorHoldout: Processed 5965 (100.0%) in 1.88 sec. Users per second: 3173\n"
     ]
    },
    {
     "name": "stderr",
     "output_type": "stream",
     "text": [
      "[I 2023-07-25 00:42:41,858] Trial 80 finished with value: 0.07359479237350179 and parameters: {'num_factors': 130}. Best is trial 71 with value: 0.09550142364853154.\n"
     ]
    },
    {
     "name": "stdout",
     "output_type": "stream",
     "text": [
      "PureSVDRecommender: Computing SVD decomposition...\n",
      "PureSVDRecommender: Computing SVD decomposition... done in 0.92 sec\n",
      "EvaluatorHoldout: Processed 5965 (100.0%) in 1.91 sec. Users per second: 3124\n"
     ]
    },
    {
     "name": "stderr",
     "output_type": "stream",
     "text": [
      "[I 2023-07-25 00:42:44,707] Trial 81 finished with value: 0.0702334384438326 and parameters: {'num_factors': 151}. Best is trial 71 with value: 0.09550142364853154.\n"
     ]
    },
    {
     "name": "stdout",
     "output_type": "stream",
     "text": [
      "PureSVDRecommender: Computing SVD decomposition...\n",
      "PureSVDRecommender: Computing SVD decomposition... done in 0.58 sec\n",
      "EvaluatorHoldout: Processed 5965 (100.0%) in 1.89 sec. Users per second: 3155\n"
     ]
    },
    {
     "name": "stderr",
     "output_type": "stream",
     "text": [
      "[I 2023-07-25 00:42:47,204] Trial 82 finished with value: 0.07712459585678401 and parameters: {'num_factors': 111}. Best is trial 71 with value: 0.09550142364853154.\n"
     ]
    },
    {
     "name": "stdout",
     "output_type": "stream",
     "text": [
      "PureSVDRecommender: Computing SVD decomposition...\n",
      "PureSVDRecommender: Computing SVD decomposition... done in 0.30 sec\n",
      "EvaluatorHoldout: Processed 5965 (100.0%) in 1.85 sec. Users per second: 3233\n"
     ]
    },
    {
     "name": "stderr",
     "output_type": "stream",
     "text": [
      "[I 2023-07-25 00:42:49,371] Trial 83 finished with value: 0.08679577296132267 and parameters: {'num_factors': 62}. Best is trial 71 with value: 0.09550142364853154.\n"
     ]
    },
    {
     "name": "stdout",
     "output_type": "stream",
     "text": [
      "PureSVDRecommender: Computing SVD decomposition...\n",
      "PureSVDRecommender: Computing SVD decomposition... done in 0.48 sec\n",
      "EvaluatorHoldout: Processed 5965 (100.0%) in 1.86 sec. Users per second: 3206\n"
     ]
    },
    {
     "name": "stderr",
     "output_type": "stream",
     "text": [
      "[I 2023-07-25 00:42:51,736] Trial 84 finished with value: 0.07824762170864469 and parameters: {'num_factors': 99}. Best is trial 71 with value: 0.09550142364853154.\n"
     ]
    },
    {
     "name": "stdout",
     "output_type": "stream",
     "text": [
      "PureSVDRecommender: Computing SVD decomposition...\n",
      "PureSVDRecommender: Computing SVD decomposition... done in 0.39 sec\n",
      "EvaluatorHoldout: Processed 5965 (100.0%) in 1.85 sec. Users per second: 3232\n"
     ]
    },
    {
     "name": "stderr",
     "output_type": "stream",
     "text": [
      "[I 2023-07-25 00:42:53,996] Trial 85 finished with value: 0.08027485064995592 and parameters: {'num_factors': 90}. Best is trial 71 with value: 0.09550142364853154.\n"
     ]
    },
    {
     "name": "stdout",
     "output_type": "stream",
     "text": [
      "PureSVDRecommender: Computing SVD decomposition...\n",
      "PureSVDRecommender: Computing SVD decomposition... done in 0.28 sec\n",
      "EvaluatorHoldout: Processed 5965 (100.0%) in 1.82 sec. Users per second: 3284\n"
     ]
    },
    {
     "name": "stderr",
     "output_type": "stream",
     "text": [
      "[I 2023-07-25 00:42:56,111] Trial 86 finished with value: 0.09060089942654953 and parameters: {'num_factors': 46}. Best is trial 71 with value: 0.09550142364853154.\n"
     ]
    },
    {
     "name": "stdout",
     "output_type": "stream",
     "text": [
      "PureSVDRecommender: Computing SVD decomposition...\n",
      "PureSVDRecommender: Computing SVD decomposition... done in 0.39 sec\n",
      "EvaluatorHoldout: Processed 5965 (100.0%) in 1.82 sec. Users per second: 3275\n"
     ]
    },
    {
     "name": "stderr",
     "output_type": "stream",
     "text": [
      "[I 2023-07-25 00:42:58,339] Trial 87 finished with value: 0.08105992628959967 and parameters: {'num_factors': 88}. Best is trial 71 with value: 0.09550142364853154.\n"
     ]
    },
    {
     "name": "stdout",
     "output_type": "stream",
     "text": [
      "PureSVDRecommender: Computing SVD decomposition...\n",
      "PureSVDRecommender: Computing SVD decomposition... done in 0.21 sec\n",
      "EvaluatorHoldout: Processed 5965 (100.0%) in 1.83 sec. Users per second: 3253\n"
     ]
    },
    {
     "name": "stderr",
     "output_type": "stream",
     "text": [
      "[I 2023-07-25 00:43:00,400] Trial 88 finished with value: 0.09210005455101854 and parameters: {'num_factors': 42}. Best is trial 71 with value: 0.09550142364853154.\n"
     ]
    },
    {
     "name": "stdout",
     "output_type": "stream",
     "text": [
      "PureSVDRecommender: Computing SVD decomposition...\n",
      "PureSVDRecommender: Computing SVD decomposition... done in 0.54 sec\n",
      "EvaluatorHoldout: Processed 5965 (100.0%) in 1.83 sec. Users per second: 3256\n"
     ]
    },
    {
     "name": "stderr",
     "output_type": "stream",
     "text": [
      "[I 2023-07-25 00:43:02,797] Trial 89 finished with value: 0.07530203967588742 and parameters: {'num_factors': 116}. Best is trial 71 with value: 0.09550142364853154.\n"
     ]
    },
    {
     "name": "stdout",
     "output_type": "stream",
     "text": [
      "PureSVDRecommender: Computing SVD decomposition...\n",
      "PureSVDRecommender: Computing SVD decomposition... done in 0.28 sec\n",
      "EvaluatorHoldout: Processed 5965 (100.0%) in 2.13 sec. Users per second: 2797\n"
     ]
    },
    {
     "name": "stderr",
     "output_type": "stream",
     "text": [
      "[I 2023-07-25 00:43:05,232] Trial 90 finished with value: 0.08889803616333392 and parameters: {'num_factors': 57}. Best is trial 71 with value: 0.09550142364853154.\n"
     ]
    },
    {
     "name": "stdout",
     "output_type": "stream",
     "text": [
      "PureSVDRecommender: Computing SVD decomposition...\n",
      "PureSVDRecommender: Computing SVD decomposition... done in 0.24 sec\n",
      "EvaluatorHoldout: Processed 5965 (100.0%) in 1.91 sec. Users per second: 3128\n"
     ]
    },
    {
     "name": "stderr",
     "output_type": "stream",
     "text": [
      "[I 2023-07-25 00:43:07,405] Trial 91 finished with value: 0.08907096289200236 and parameters: {'num_factors': 54}. Best is trial 71 with value: 0.09550142364853154.\n"
     ]
    },
    {
     "name": "stdout",
     "output_type": "stream",
     "text": [
      "PureSVDRecommender: Computing SVD decomposition...\n",
      "PureSVDRecommender: Computing SVD decomposition... done in 0.72 sec\n",
      "EvaluatorHoldout: Processed 5965 (100.0%) in 1.85 sec. Users per second: 3222\n"
     ]
    },
    {
     "name": "stderr",
     "output_type": "stream",
     "text": [
      "[I 2023-07-25 00:43:10,000] Trial 92 finished with value: 0.07252203994198987 and parameters: {'num_factors': 131}. Best is trial 71 with value: 0.09550142364853154.\n"
     ]
    },
    {
     "name": "stdout",
     "output_type": "stream",
     "text": [
      "PureSVDRecommender: Computing SVD decomposition...\n",
      "PureSVDRecommender: Computing SVD decomposition... done in 0.17 sec\n",
      "EvaluatorHoldout: Processed 5965 (100.0%) in 1.85 sec. Users per second: 3217\n"
     ]
    },
    {
     "name": "stderr",
     "output_type": "stream",
     "text": [
      "[I 2023-07-25 00:43:12,044] Trial 93 finished with value: 0.09509507843372077 and parameters: {'num_factors': 27}. Best is trial 71 with value: 0.09550142364853154.\n"
     ]
    },
    {
     "name": "stdout",
     "output_type": "stream",
     "text": [
      "PureSVDRecommender: Computing SVD decomposition...\n",
      "PureSVDRecommender: Computing SVD decomposition... done in 0.18 sec\n",
      "EvaluatorHoldout: Processed 5965 (100.0%) in 1.83 sec. Users per second: 3254\n"
     ]
    },
    {
     "name": "stderr",
     "output_type": "stream",
     "text": [
      "[I 2023-07-25 00:43:14,075] Trial 94 finished with value: 0.09317826873694449 and parameters: {'num_factors': 34}. Best is trial 71 with value: 0.09550142364853154.\n"
     ]
    },
    {
     "name": "stdout",
     "output_type": "stream",
     "text": [
      "PureSVDRecommender: Computing SVD decomposition...\n",
      "PureSVDRecommender: Computing SVD decomposition... done in 0.95 sec\n",
      "EvaluatorHoldout: Processed 5965 (100.0%) in 1.87 sec. Users per second: 3198\n"
     ]
    },
    {
     "name": "stderr",
     "output_type": "stream",
     "text": [
      "[I 2023-07-25 00:43:16,913] Trial 95 finished with value: 0.07379716999960112 and parameters: {'num_factors': 125}. Best is trial 71 with value: 0.09550142364853154.\n"
     ]
    },
    {
     "name": "stdout",
     "output_type": "stream",
     "text": [
      "PureSVDRecommender: Computing SVD decomposition...\n",
      "PureSVDRecommender: Computing SVD decomposition... done in 0.20 sec\n",
      "EvaluatorHoldout: Processed 5965 (100.0%) in 1.83 sec. Users per second: 3264\n"
     ]
    },
    {
     "name": "stderr",
     "output_type": "stream",
     "text": [
      "[I 2023-07-25 00:43:18,963] Trial 96 finished with value: 0.09521620165249688 and parameters: {'num_factors': 26}. Best is trial 71 with value: 0.09550142364853154.\n"
     ]
    },
    {
     "name": "stdout",
     "output_type": "stream",
     "text": [
      "PureSVDRecommender: Computing SVD decomposition...\n",
      "PureSVDRecommender: Computing SVD decomposition... done in 0.45 sec\n",
      "EvaluatorHoldout: Processed 5965 (100.0%) in 1.84 sec. Users per second: 3233\n"
     ]
    },
    {
     "name": "stderr",
     "output_type": "stream",
     "text": [
      "[I 2023-07-25 00:43:21,284] Trial 97 finished with value: 0.08031538471773189 and parameters: {'num_factors': 93}. Best is trial 71 with value: 0.09550142364853154.\n"
     ]
    },
    {
     "name": "stdout",
     "output_type": "stream",
     "text": [
      "PureSVDRecommender: Computing SVD decomposition...\n",
      "PureSVDRecommender: Computing SVD decomposition... done in 0.14 sec\n",
      "EvaluatorHoldout: Processed 5965 (100.0%) in 1.87 sec. Users per second: 3198\n"
     ]
    },
    {
     "name": "stderr",
     "output_type": "stream",
     "text": [
      "[I 2023-07-25 00:43:23,310] Trial 98 finished with value: 0.09473325217206215 and parameters: {'num_factors': 26}. Best is trial 71 with value: 0.09550142364853154.\n"
     ]
    },
    {
     "name": "stdout",
     "output_type": "stream",
     "text": [
      "PureSVDRecommender: Computing SVD decomposition...\n",
      "PureSVDRecommender: Computing SVD decomposition... done in 0.53 sec\n",
      "EvaluatorHoldout: Processed 5965 (100.0%) in 1.93 sec. Users per second: 3084\n"
     ]
    },
    {
     "name": "stderr",
     "output_type": "stream",
     "text": [
      "[I 2023-07-25 00:43:25,802] Trial 99 finished with value: 0.07507173458933758 and parameters: {'num_factors': 121}. Best is trial 71 with value: 0.09550142364853154.\n"
     ]
    },
    {
     "name": "stdout",
     "output_type": "stream",
     "text": [
      "PureSVDRecommender: Computing SVD decomposition...\n",
      "PureSVDRecommender: Computing SVD decomposition... done in 0.72 sec\n",
      "EvaluatorHoldout: Processed 5965 (100.0%) in 1.87 sec. Users per second: 3187\n"
     ]
    },
    {
     "name": "stderr",
     "output_type": "stream",
     "text": [
      "[I 2023-07-25 00:43:28,419] Trial 100 finished with value: 0.07768272595431058 and parameters: {'num_factors': 105}. Best is trial 71 with value: 0.09550142364853154.\n"
     ]
    },
    {
     "name": "stdout",
     "output_type": "stream",
     "text": [
      "PureSVDRecommender: Computing SVD decomposition...\n",
      "PureSVDRecommender: Computing SVD decomposition... done in 0.16 sec\n",
      "EvaluatorHoldout: Processed 5965 (100.0%) in 1.86 sec. Users per second: 3209\n"
     ]
    },
    {
     "name": "stderr",
     "output_type": "stream",
     "text": [
      "[I 2023-07-25 00:43:30,458] Trial 101 finished with value: 0.09526809829827472 and parameters: {'num_factors': 27}. Best is trial 71 with value: 0.09550142364853154.\n"
     ]
    },
    {
     "name": "stdout",
     "output_type": "stream",
     "text": [
      "PureSVDRecommender: Computing SVD decomposition...\n",
      "PureSVDRecommender: Computing SVD decomposition... done in 0.30 sec\n",
      "EvaluatorHoldout: Processed 5965 (100.0%) in 1.87 sec. Users per second: 3182\n"
     ]
    },
    {
     "name": "stderr",
     "output_type": "stream",
     "text": [
      "[I 2023-07-25 00:43:32,651] Trial 102 finished with value: 0.085344815657473 and parameters: {'num_factors': 66}. Best is trial 71 with value: 0.09550142364853154.\n"
     ]
    },
    {
     "name": "stdout",
     "output_type": "stream",
     "text": [
      "PureSVDRecommender: Computing SVD decomposition...\n",
      "PureSVDRecommender: Computing SVD decomposition... done in 0.27 sec\n",
      "EvaluatorHoldout: Processed 5965 (100.0%) in 1.82 sec. Users per second: 3285\n"
     ]
    },
    {
     "name": "stderr",
     "output_type": "stream",
     "text": [
      "[I 2023-07-25 00:43:34,756] Trial 103 finished with value: 0.08954269615082731 and parameters: {'num_factors': 53}. Best is trial 71 with value: 0.09550142364853154.\n"
     ]
    },
    {
     "name": "stdout",
     "output_type": "stream",
     "text": [
      "PureSVDRecommender: Computing SVD decomposition...\n",
      "PureSVDRecommender: Computing SVD decomposition... done in 0.16 sec\n",
      "EvaluatorHoldout: Processed 5965 (100.0%) in 1.85 sec. Users per second: 3224\n"
     ]
    },
    {
     "name": "stderr",
     "output_type": "stream",
     "text": [
      "[I 2023-07-25 00:43:36,795] Trial 104 finished with value: 0.09487146582578315 and parameters: {'num_factors': 27}. Best is trial 71 with value: 0.09550142364853154.\n"
     ]
    },
    {
     "name": "stdout",
     "output_type": "stream",
     "text": [
      "PureSVDRecommender: Computing SVD decomposition...\n",
      "PureSVDRecommender: Computing SVD decomposition... done in 0.15 sec\n",
      "EvaluatorHoldout: Processed 5965 (100.0%) in 1.85 sec. Users per second: 3220\n"
     ]
    },
    {
     "name": "stderr",
     "output_type": "stream",
     "text": [
      "[I 2023-07-25 00:43:38,819] Trial 105 finished with value: 0.0933167218829416 and parameters: {'num_factors': 21}. Best is trial 71 with value: 0.09550142364853154.\n"
     ]
    },
    {
     "name": "stdout",
     "output_type": "stream",
     "text": [
      "PureSVDRecommender: Computing SVD decomposition...\n",
      "PureSVDRecommender: Computing SVD decomposition... done in 1.04 sec\n",
      "EvaluatorHoldout: Processed 5965 (100.0%) in 1.90 sec. Users per second: 3138\n"
     ]
    },
    {
     "name": "stderr",
     "output_type": "stream",
     "text": [
      "[I 2023-07-25 00:43:41,784] Trial 106 finished with value: 0.07399403265078072 and parameters: {'num_factors': 123}. Best is trial 71 with value: 0.09550142364853154.\n"
     ]
    },
    {
     "name": "stdout",
     "output_type": "stream",
     "text": [
      "PureSVDRecommender: Computing SVD decomposition...\n",
      "PureSVDRecommender: Computing SVD decomposition... done in 0.24 sec\n",
      "EvaluatorHoldout: Processed 5965 (100.0%) in 1.81 sec. Users per second: 3294\n"
     ]
    },
    {
     "name": "stderr",
     "output_type": "stream",
     "text": [
      "[I 2023-07-25 00:43:43,854] Trial 107 finished with value: 0.0900179220053488 and parameters: {'num_factors': 48}. Best is trial 71 with value: 0.09550142364853154.\n"
     ]
    },
    {
     "name": "stdout",
     "output_type": "stream",
     "text": [
      "PureSVDRecommender: Computing SVD decomposition...\n",
      "PureSVDRecommender: Computing SVD decomposition... done in 0.14 sec\n",
      "EvaluatorHoldout: Processed 5965 (100.0%) in 1.79 sec. Users per second: 3324\n"
     ]
    },
    {
     "name": "stderr",
     "output_type": "stream",
     "text": [
      "[I 2023-07-25 00:43:45,814] Trial 108 finished with value: 0.09457489455687282 and parameters: {'num_factors': 23}. Best is trial 71 with value: 0.09550142364853154.\n"
     ]
    },
    {
     "name": "stdout",
     "output_type": "stream",
     "text": [
      "PureSVDRecommender: Computing SVD decomposition...\n",
      "PureSVDRecommender: Computing SVD decomposition... done in 0.12 sec\n",
      "EvaluatorHoldout: Processed 5965 (100.0%) in 1.83 sec. Users per second: 3264\n"
     ]
    },
    {
     "name": "stderr",
     "output_type": "stream",
     "text": [
      "[I 2023-07-25 00:43:47,788] Trial 109 finished with value: 0.09391236578453685 and parameters: {'num_factors': 22}. Best is trial 71 with value: 0.09550142364853154.\n"
     ]
    },
    {
     "name": "stdout",
     "output_type": "stream",
     "text": [
      "PureSVDRecommender: Computing SVD decomposition...\n",
      "PureSVDRecommender: Computing SVD decomposition... done in 0.43 sec\n",
      "EvaluatorHoldout: Processed 5965 (100.0%) in 1.89 sec. Users per second: 3160\n"
     ]
    },
    {
     "name": "stderr",
     "output_type": "stream",
     "text": [
      "[I 2023-07-25 00:43:50,131] Trial 110 finished with value: 0.08108358280445496 and parameters: {'num_factors': 86}. Best is trial 71 with value: 0.09550142364853154.\n"
     ]
    },
    {
     "name": "stdout",
     "output_type": "stream",
     "text": [
      "PureSVDRecommender: Computing SVD decomposition...\n",
      "PureSVDRecommender: Computing SVD decomposition... done in 0.17 sec\n",
      "EvaluatorHoldout: Processed 5965 (100.0%) in 1.84 sec. Users per second: 3244\n"
     ]
    },
    {
     "name": "stderr",
     "output_type": "stream",
     "text": [
      "[I 2023-07-25 00:43:52,165] Trial 111 finished with value: 0.09517508215915622 and parameters: {'num_factors': 27}. Best is trial 71 with value: 0.09550142364853154.\n"
     ]
    },
    {
     "name": "stdout",
     "output_type": "stream",
     "text": [
      "PureSVDRecommender: Computing SVD decomposition...\n",
      "PureSVDRecommender: Computing SVD decomposition... done in 0.34 sec\n",
      "EvaluatorHoldout: Processed 5965 (100.0%) in 1.88 sec. Users per second: 3171\n"
     ]
    },
    {
     "name": "stderr",
     "output_type": "stream",
     "text": [
      "[I 2023-07-25 00:43:54,415] Trial 112 finished with value: 0.08730792054178506 and parameters: {'num_factors': 61}. Best is trial 71 with value: 0.09550142364853154.\n"
     ]
    },
    {
     "name": "stdout",
     "output_type": "stream",
     "text": [
      "PureSVDRecommender: Computing SVD decomposition...\n",
      "PureSVDRecommender: Computing SVD decomposition... done in 0.45 sec\n",
      "EvaluatorHoldout: Processed 5965 (100.0%) in 1.83 sec. Users per second: 3259\n"
     ]
    },
    {
     "name": "stderr",
     "output_type": "stream",
     "text": [
      "[I 2023-07-25 00:43:56,717] Trial 113 finished with value: 0.08272173658510648 and parameters: {'num_factors': 82}. Best is trial 71 with value: 0.09550142364853154.\n"
     ]
    },
    {
     "name": "stdout",
     "output_type": "stream",
     "text": [
      "PureSVDRecommender: Computing SVD decomposition...\n",
      "PureSVDRecommender: Computing SVD decomposition... done in 0.49 sec\n",
      "EvaluatorHoldout: Processed 5965 (100.0%) in 1.84 sec. Users per second: 3242\n"
     ]
    },
    {
     "name": "stderr",
     "output_type": "stream",
     "text": [
      "[I 2023-07-25 00:43:59,070] Trial 114 finished with value: 0.07470214478638658 and parameters: {'num_factors': 114}. Best is trial 71 with value: 0.09550142364853154.\n"
     ]
    },
    {
     "name": "stdout",
     "output_type": "stream",
     "text": [
      "PureSVDRecommender: Computing SVD decomposition...\n",
      "PureSVDRecommender: Computing SVD decomposition... done in 0.19 sec\n",
      "EvaluatorHoldout: Processed 5965 (100.0%) in 1.81 sec. Users per second: 3296\n"
     ]
    },
    {
     "name": "stderr",
     "output_type": "stream",
     "text": [
      "[I 2023-07-25 00:44:01,097] Trial 115 finished with value: 0.09580762782900284 and parameters: {'num_factors': 31}. Best is trial 115 with value: 0.09580762782900284.\n"
     ]
    },
    {
     "name": "stdout",
     "output_type": "stream",
     "text": [
      "PureSVDRecommender: Computing SVD decomposition...\n",
      "PureSVDRecommender: Computing SVD decomposition... done in 0.16 sec\n",
      "EvaluatorHoldout: Processed 5965 (100.0%) in 1.80 sec. Users per second: 3307\n"
     ]
    },
    {
     "name": "stderr",
     "output_type": "stream",
     "text": [
      "[I 2023-07-25 00:44:03,086] Trial 116 finished with value: 0.09490537394057949 and parameters: {'num_factors': 27}. Best is trial 115 with value: 0.09580762782900284.\n"
     ]
    },
    {
     "name": "stdout",
     "output_type": "stream",
     "text": [
      "PureSVDRecommender: Computing SVD decomposition...\n",
      "PureSVDRecommender: Computing SVD decomposition... done in 0.43 sec\n",
      "EvaluatorHoldout: Processed 5965 (100.0%) in 1.83 sec. Users per second: 3264\n"
     ]
    },
    {
     "name": "stderr",
     "output_type": "stream",
     "text": [
      "[I 2023-07-25 00:44:05,369] Trial 117 finished with value: 0.08047483335329127 and parameters: {'num_factors': 91}. Best is trial 115 with value: 0.09580762782900284.\n"
     ]
    },
    {
     "name": "stdout",
     "output_type": "stream",
     "text": [
      "PureSVDRecommender: Computing SVD decomposition...\n",
      "PureSVDRecommender: Computing SVD decomposition... done in 0.51 sec\n",
      "EvaluatorHoldout: Processed 5965 (100.0%) in 1.83 sec. Users per second: 3258\n"
     ]
    },
    {
     "name": "stderr",
     "output_type": "stream",
     "text": [
      "[I 2023-07-25 00:44:07,731] Trial 118 finished with value: 0.07688450484971887 and parameters: {'num_factors': 109}. Best is trial 115 with value: 0.09580762782900284.\n"
     ]
    },
    {
     "name": "stdout",
     "output_type": "stream",
     "text": [
      "PureSVDRecommender: Computing SVD decomposition...\n",
      "PureSVDRecommender: Computing SVD decomposition... done in 0.52 sec\n",
      "EvaluatorHoldout: Processed 5965 (100.0%) in 1.84 sec. Users per second: 3250\n"
     ]
    },
    {
     "name": "stderr",
     "output_type": "stream",
     "text": [
      "[I 2023-07-25 00:44:10,112] Trial 119 finished with value: 0.07394940725661645 and parameters: {'num_factors': 122}. Best is trial 115 with value: 0.09580762782900284.\n"
     ]
    },
    {
     "name": "stdout",
     "output_type": "stream",
     "text": [
      "PureSVDRecommender: Computing SVD decomposition...\n",
      "PureSVDRecommender: Computing SVD decomposition... done in 0.41 sec\n",
      "EvaluatorHoldout: Processed 5965 (100.0%) in 1.83 sec. Users per second: 3254\n"
     ]
    },
    {
     "name": "stderr",
     "output_type": "stream",
     "text": [
      "[I 2023-07-25 00:44:12,380] Trial 120 finished with value: 0.07804863023723084 and parameters: {'num_factors': 102}. Best is trial 115 with value: 0.09580762782900284.\n"
     ]
    },
    {
     "name": "stdout",
     "output_type": "stream",
     "text": [
      "PureSVDRecommender: Computing SVD decomposition...\n",
      "PureSVDRecommender: Computing SVD decomposition... done in 0.20 sec\n",
      "EvaluatorHoldout: Processed 5965 (100.0%) in 1.80 sec. Users per second: 3310\n"
     ]
    },
    {
     "name": "stderr",
     "output_type": "stream",
     "text": [
      "[I 2023-07-25 00:44:14,409] Trial 121 finished with value: 0.0945663327079922 and parameters: {'num_factors': 31}. Best is trial 115 with value: 0.09580762782900284.\n"
     ]
    },
    {
     "name": "stdout",
     "output_type": "stream",
     "text": [
      "PureSVDRecommender: Computing SVD decomposition...\n",
      "PureSVDRecommender: Computing SVD decomposition... done in 0.32 sec\n",
      "EvaluatorHoldout: Processed 5965 (100.0%) in 1.82 sec. Users per second: 3274\n"
     ]
    },
    {
     "name": "stderr",
     "output_type": "stream",
     "text": [
      "[I 2023-07-25 00:44:16,577] Trial 122 finished with value: 0.08440562673798253 and parameters: {'num_factors': 72}. Best is trial 115 with value: 0.09580762782900284.\n"
     ]
    },
    {
     "name": "stdout",
     "output_type": "stream",
     "text": [
      "PureSVDRecommender: Computing SVD decomposition...\n",
      "PureSVDRecommender: Computing SVD decomposition... done in 0.45 sec\n",
      "EvaluatorHoldout: Processed 5965 (100.0%) in 1.83 sec. Users per second: 3256\n"
     ]
    },
    {
     "name": "stderr",
     "output_type": "stream",
     "text": [
      "[I 2023-07-25 00:44:18,880] Trial 123 finished with value: 0.07756641253875159 and parameters: {'num_factors': 106}. Best is trial 115 with value: 0.09580762782900284.\n"
     ]
    },
    {
     "name": "stdout",
     "output_type": "stream",
     "text": [
      "PureSVDRecommender: Computing SVD decomposition...\n",
      "PureSVDRecommender: Computing SVD decomposition... done in 0.73 sec\n",
      "EvaluatorHoldout: Processed 5965 (100.0%) in 1.85 sec. Users per second: 3217\n"
     ]
    },
    {
     "name": "stderr",
     "output_type": "stream",
     "text": [
      "[I 2023-07-25 00:44:21,490] Trial 124 finished with value: 0.06944090528080497 and parameters: {'num_factors': 155}. Best is trial 115 with value: 0.09580762782900284.\n"
     ]
    },
    {
     "name": "stdout",
     "output_type": "stream",
     "text": [
      "PureSVDRecommender: Computing SVD decomposition...\n",
      "PureSVDRecommender: Computing SVD decomposition... done in 0.40 sec\n",
      "EvaluatorHoldout: Processed 5965 (100.0%) in 1.84 sec. Users per second: 3247\n"
     ]
    },
    {
     "name": "stderr",
     "output_type": "stream",
     "text": [
      "[I 2023-07-25 00:44:23,748] Trial 125 finished with value: 0.07951973815511144 and parameters: {'num_factors': 94}. Best is trial 115 with value: 0.09580762782900284.\n"
     ]
    },
    {
     "name": "stdout",
     "output_type": "stream",
     "text": [
      "PureSVDRecommender: Computing SVD decomposition...\n",
      "PureSVDRecommender: Computing SVD decomposition... done in 0.34 sec\n",
      "EvaluatorHoldout: Processed 5965 (100.0%) in 1.82 sec. Users per second: 3276\n"
     ]
    },
    {
     "name": "stderr",
     "output_type": "stream",
     "text": [
      "[I 2023-07-25 00:44:25,934] Trial 126 finished with value: 0.0832240782873646 and parameters: {'num_factors': 78}. Best is trial 115 with value: 0.09580762782900284.\n"
     ]
    },
    {
     "name": "stdout",
     "output_type": "stream",
     "text": [
      "PureSVDRecommender: Computing SVD decomposition...\n",
      "PureSVDRecommender: Computing SVD decomposition... done in 0.44 sec\n",
      "EvaluatorHoldout: Processed 5965 (100.0%) in 1.84 sec. Users per second: 3234\n"
     ]
    },
    {
     "name": "stderr",
     "output_type": "stream",
     "text": [
      "[I 2023-07-25 00:44:28,247] Trial 127 finished with value: 0.07848179858699583 and parameters: {'num_factors': 98}. Best is trial 115 with value: 0.09580762782900284.\n"
     ]
    },
    {
     "name": "stdout",
     "output_type": "stream",
     "text": [
      "PureSVDRecommender: Computing SVD decomposition...\n",
      "PureSVDRecommender: Computing SVD decomposition... done in 0.58 sec\n",
      "EvaluatorHoldout: Processed 5965 (100.0%) in 1.86 sec. Users per second: 3212\n"
     ]
    },
    {
     "name": "stderr",
     "output_type": "stream",
     "text": [
      "[I 2023-07-25 00:44:30,715] Trial 128 finished with value: 0.07376517117045245 and parameters: {'num_factors': 127}. Best is trial 115 with value: 0.09580762782900284.\n"
     ]
    },
    {
     "name": "stdout",
     "output_type": "stream",
     "text": [
      "PureSVDRecommender: Computing SVD decomposition...\n",
      "PureSVDRecommender: Computing SVD decomposition... done in 0.72 sec\n",
      "EvaluatorHoldout: Processed 5965 (100.0%) in 1.86 sec. Users per second: 3213\n"
     ]
    },
    {
     "name": "stderr",
     "output_type": "stream",
     "text": [
      "[I 2023-07-25 00:44:33,318] Trial 129 finished with value: 0.07049136497292442 and parameters: {'num_factors': 145}. Best is trial 115 with value: 0.09580762782900284.\n"
     ]
    },
    {
     "name": "stdout",
     "output_type": "stream",
     "text": [
      "PureSVDRecommender: Computing SVD decomposition...\n",
      "PureSVDRecommender: Computing SVD decomposition... done in 0.70 sec\n",
      "EvaluatorHoldout: Processed 5965 (100.0%) in 1.89 sec. Users per second: 3158\n"
     ]
    },
    {
     "name": "stderr",
     "output_type": "stream",
     "text": [
      "[I 2023-07-25 00:44:35,933] Trial 130 finished with value: 0.08411460370680852 and parameters: {'num_factors': 71}. Best is trial 115 with value: 0.09580762782900284.\n"
     ]
    },
    {
     "name": "stdout",
     "output_type": "stream",
     "text": [
      "PureSVDRecommender: Computing SVD decomposition...\n",
      "PureSVDRecommender: Computing SVD decomposition... done in 0.18 sec\n",
      "EvaluatorHoldout: Processed 5965 (100.0%) in 1.84 sec. Users per second: 3250\n"
     ]
    },
    {
     "name": "stderr",
     "output_type": "stream",
     "text": [
      "[I 2023-07-25 00:44:37,975] Trial 131 finished with value: 0.09509304940193475 and parameters: {'num_factors': 27}. Best is trial 115 with value: 0.09580762782900284.\n"
     ]
    },
    {
     "name": "stdout",
     "output_type": "stream",
     "text": [
      "PureSVDRecommender: Computing SVD decomposition...\n",
      "PureSVDRecommender: Computing SVD decomposition... done in 0.76 sec\n",
      "EvaluatorHoldout: Processed 5965 (100.0%) in 1.88 sec. Users per second: 3175\n"
     ]
    },
    {
     "name": "stderr",
     "output_type": "stream",
     "text": [
      "[I 2023-07-25 00:44:40,645] Trial 132 finished with value: 0.06869394217592076 and parameters: {'num_factors': 152}. Best is trial 115 with value: 0.09580762782900284.\n"
     ]
    },
    {
     "name": "stdout",
     "output_type": "stream",
     "text": [
      "PureSVDRecommender: Computing SVD decomposition...\n",
      "PureSVDRecommender: Computing SVD decomposition... done in 0.29 sec\n",
      "EvaluatorHoldout: Processed 5965 (100.0%) in 1.88 sec. Users per second: 3173\n"
     ]
    },
    {
     "name": "stderr",
     "output_type": "stream",
     "text": [
      "[I 2023-07-25 00:44:42,838] Trial 133 finished with value: 0.09092647587115345 and parameters: {'num_factors': 49}. Best is trial 115 with value: 0.09580762782900284.\n"
     ]
    },
    {
     "name": "stdout",
     "output_type": "stream",
     "text": [
      "PureSVDRecommender: Computing SVD decomposition...\n",
      "PureSVDRecommender: Computing SVD decomposition... done in 0.17 sec\n",
      "EvaluatorHoldout: Processed 5965 (100.0%) in 1.82 sec. Users per second: 3269\n"
     ]
    },
    {
     "name": "stderr",
     "output_type": "stream",
     "text": [
      "[I 2023-07-25 00:44:44,860] Trial 134 finished with value: 0.09471956784949259 and parameters: {'num_factors': 31}. Best is trial 115 with value: 0.09580762782900284.\n"
     ]
    },
    {
     "name": "stdout",
     "output_type": "stream",
     "text": [
      "PureSVDRecommender: Computing SVD decomposition...\n",
      "PureSVDRecommender: Computing SVD decomposition... done in 0.56 sec\n",
      "EvaluatorHoldout: Processed 5965 (100.0%) in 1.85 sec. Users per second: 3232\n"
     ]
    },
    {
     "name": "stderr",
     "output_type": "stream",
     "text": [
      "[I 2023-07-25 00:44:47,294] Trial 135 finished with value: 0.07874018414295066 and parameters: {'num_factors': 101}. Best is trial 115 with value: 0.09580762782900284.\n"
     ]
    },
    {
     "name": "stdout",
     "output_type": "stream",
     "text": [
      "PureSVDRecommender: Computing SVD decomposition...\n",
      "PureSVDRecommender: Computing SVD decomposition... done in 0.18 sec\n",
      "EvaluatorHoldout: Processed 5965 (100.0%) in 1.81 sec. Users per second: 3293\n"
     ]
    },
    {
     "name": "stderr",
     "output_type": "stream",
     "text": [
      "[I 2023-07-25 00:44:49,317] Trial 136 finished with value: 0.09527697947018993 and parameters: {'num_factors': 27}. Best is trial 115 with value: 0.09580762782900284.\n"
     ]
    },
    {
     "name": "stdout",
     "output_type": "stream",
     "text": [
      "PureSVDRecommender: Computing SVD decomposition...\n",
      "PureSVDRecommender: Computing SVD decomposition... done in 0.16 sec\n",
      "EvaluatorHoldout: Processed 5965 (100.0%) in 1.84 sec. Users per second: 3239\n"
     ]
    },
    {
     "name": "stderr",
     "output_type": "stream",
     "text": [
      "[I 2023-07-25 00:44:51,343] Trial 137 finished with value: 0.09484682473156933 and parameters: {'num_factors': 24}. Best is trial 115 with value: 0.09580762782900284.\n"
     ]
    },
    {
     "name": "stdout",
     "output_type": "stream",
     "text": [
      "PureSVDRecommender: Computing SVD decomposition...\n",
      "PureSVDRecommender: Computing SVD decomposition... done in 0.30 sec\n",
      "EvaluatorHoldout: Processed 5965 (100.0%) in 1.82 sec. Users per second: 3277\n"
     ]
    },
    {
     "name": "stderr",
     "output_type": "stream",
     "text": [
      "[I 2023-07-25 00:44:53,496] Trial 138 finished with value: 0.09141325057544672 and parameters: {'num_factors': 45}. Best is trial 115 with value: 0.09580762782900284.\n"
     ]
    },
    {
     "name": "stdout",
     "output_type": "stream",
     "text": [
      "PureSVDRecommender: Computing SVD decomposition...\n",
      "PureSVDRecommender: Computing SVD decomposition... done in 0.35 sec\n",
      "EvaluatorHoldout: Processed 5965 (100.0%) in 1.83 sec. Users per second: 3265\n"
     ]
    },
    {
     "name": "stderr",
     "output_type": "stream",
     "text": [
      "[I 2023-07-25 00:44:55,704] Trial 139 finished with value: 0.08311037267659244 and parameters: {'num_factors': 74}. Best is trial 115 with value: 0.09580762782900284.\n"
     ]
    },
    {
     "name": "stdout",
     "output_type": "stream",
     "text": [
      "PureSVDRecommender: Computing SVD decomposition...\n",
      "PureSVDRecommender: Computing SVD decomposition... done in 0.11 sec\n",
      "EvaluatorHoldout: Processed 5965 (100.0%) in 1.79 sec. Users per second: 3325\n"
     ]
    },
    {
     "name": "stderr",
     "output_type": "stream",
     "text": [
      "[I 2023-07-25 00:44:57,636] Trial 140 finished with value: 0.09230062267991883 and parameters: {'num_factors': 17}. Best is trial 115 with value: 0.09580762782900284.\n"
     ]
    },
    {
     "name": "stdout",
     "output_type": "stream",
     "text": [
      "PureSVDRecommender: Computing SVD decomposition...\n",
      "PureSVDRecommender: Computing SVD decomposition... done in 0.16 sec\n",
      "EvaluatorHoldout: Processed 5965 (100.0%) in 1.80 sec. Users per second: 3314\n"
     ]
    },
    {
     "name": "stderr",
     "output_type": "stream",
     "text": [
      "[I 2023-07-25 00:44:59,622] Trial 141 finished with value: 0.09506466956718446 and parameters: {'num_factors': 27}. Best is trial 115 with value: 0.09580762782900284.\n"
     ]
    },
    {
     "name": "stdout",
     "output_type": "stream",
     "text": [
      "PureSVDRecommender: Computing SVD decomposition...\n",
      "PureSVDRecommender: Computing SVD decomposition... done in 0.42 sec\n",
      "EvaluatorHoldout: Processed 5965 (100.0%) in 1.84 sec. Users per second: 3234\n"
     ]
    },
    {
     "name": "stderr",
     "output_type": "stream",
     "text": [
      "[I 2023-07-25 00:45:01,914] Trial 142 finished with value: 0.08121627483069256 and parameters: {'num_factors': 81}. Best is trial 115 with value: 0.09580762782900284.\n"
     ]
    },
    {
     "name": "stdout",
     "output_type": "stream",
     "text": [
      "PureSVDRecommender: Computing SVD decomposition...\n",
      "PureSVDRecommender: Computing SVD decomposition... done in 0.51 sec\n",
      "EvaluatorHoldout: Processed 5965 (100.0%) in 1.83 sec. Users per second: 3257\n"
     ]
    },
    {
     "name": "stderr",
     "output_type": "stream",
     "text": [
      "[I 2023-07-25 00:45:04,279] Trial 143 finished with value: 0.0749126851075723 and parameters: {'num_factors': 118}. Best is trial 115 with value: 0.09580762782900284.\n"
     ]
    },
    {
     "name": "stdout",
     "output_type": "stream",
     "text": [
      "PureSVDRecommender: Computing SVD decomposition...\n",
      "PureSVDRecommender: Computing SVD decomposition... done in 0.61 sec\n",
      "EvaluatorHoldout: Processed 5965 (100.0%) in 1.85 sec. Users per second: 3227\n"
     ]
    },
    {
     "name": "stderr",
     "output_type": "stream",
     "text": [
      "[I 2023-07-25 00:45:06,766] Trial 144 finished with value: 0.06914793970116714 and parameters: {'num_factors': 150}. Best is trial 115 with value: 0.09580762782900284.\n"
     ]
    },
    {
     "name": "stdout",
     "output_type": "stream",
     "text": [
      "PureSVDRecommender: Computing SVD decomposition...\n",
      "PureSVDRecommender: Computing SVD decomposition... done in 0.09 sec\n",
      "EvaluatorHoldout: Processed 5965 (100.0%) in 1.79 sec. Users per second: 3326\n"
     ]
    },
    {
     "name": "stderr",
     "output_type": "stream",
     "text": [
      "[I 2023-07-25 00:45:08,679] Trial 145 finished with value: 0.09197163347037612 and parameters: {'num_factors': 15}. Best is trial 115 with value: 0.09580762782900284.\n"
     ]
    },
    {
     "name": "stdout",
     "output_type": "stream",
     "text": [
      "PureSVDRecommender: Computing SVD decomposition...\n",
      "PureSVDRecommender: Computing SVD decomposition... done in 0.21 sec\n",
      "EvaluatorHoldout: Processed 5965 (100.0%) in 1.81 sec. Users per second: 3292\n"
     ]
    },
    {
     "name": "stderr",
     "output_type": "stream",
     "text": [
      "[I 2023-07-25 00:45:10,733] Trial 146 finished with value: 0.0926230058941713 and parameters: {'num_factors': 40}. Best is trial 115 with value: 0.09580762782900284.\n"
     ]
    },
    {
     "name": "stdout",
     "output_type": "stream",
     "text": [
      "PureSVDRecommender: Computing SVD decomposition...\n",
      "PureSVDRecommender: Computing SVD decomposition... done in 0.15 sec\n",
      "EvaluatorHoldout: Processed 5965 (100.0%) in 1.80 sec. Users per second: 3322\n"
     ]
    },
    {
     "name": "stderr",
     "output_type": "stream",
     "text": [
      "[I 2023-07-25 00:45:12,706] Trial 147 finished with value: 0.09565074043028814 and parameters: {'num_factors': 30}. Best is trial 115 with value: 0.09580762782900284.\n"
     ]
    },
    {
     "name": "stdout",
     "output_type": "stream",
     "text": [
      "PureSVDRecommender: Computing SVD decomposition...\n",
      "PureSVDRecommender: Computing SVD decomposition... done in 0.27 sec\n",
      "EvaluatorHoldout: Processed 5965 (100.0%) in 1.82 sec. Users per second: 3283\n"
     ]
    },
    {
     "name": "stderr",
     "output_type": "stream",
     "text": [
      "[I 2023-07-25 00:45:14,819] Trial 148 finished with value: 0.08901548716720588 and parameters: {'num_factors': 52}. Best is trial 115 with value: 0.09580762782900284.\n"
     ]
    },
    {
     "name": "stdout",
     "output_type": "stream",
     "text": [
      "PureSVDRecommender: Computing SVD decomposition...\n",
      "PureSVDRecommender: Computing SVD decomposition... done in 0.34 sec\n",
      "EvaluatorHoldout: Processed 5965 (100.0%) in 1.82 sec. Users per second: 3277\n"
     ]
    },
    {
     "name": "stderr",
     "output_type": "stream",
     "text": [
      "[I 2023-07-25 00:45:17,013] Trial 149 finished with value: 0.08464086137388784 and parameters: {'num_factors': 73}. Best is trial 115 with value: 0.09580762782900284.\n"
     ]
    },
    {
     "name": "stdout",
     "output_type": "stream",
     "text": [
      "PureSVDRecommender: Computing SVD decomposition...\n",
      "PureSVDRecommender: Computing SVD decomposition... done in 0.17 sec\n",
      "EvaluatorHoldout: Processed 5965 (100.0%) in 1.82 sec. Users per second: 3283\n"
     ]
    },
    {
     "data": {
      "text/plain": [
       "PRECISION                     0.178927\n",
       "PRECISION_RECALL_MIN_DEN      0.232087\n",
       "RECALL                        0.156279\n",
       "MAP                           0.095544\n",
       "MAP_MIN_DEN                   0.118085\n",
       "MRR                            0.40377\n",
       "NDCG                          0.208653\n",
       "F1                            0.166838\n",
       "HIT_RATE                      0.751215\n",
       "ARHR_ALL_HITS                 0.610106\n",
       "NOVELTY                       0.024088\n",
       "AVERAGE_POPULARITY            0.481357\n",
       "DIVERSITY_MEAN_INTER_LIST     0.941094\n",
       "DIVERSITY_HERFINDAHL          0.994094\n",
       "COVERAGE_ITEM                 0.163533\n",
       "COVERAGE_ITEM_HIT              0.13881\n",
       "ITEMS_IN_GT                   0.853206\n",
       "COVERAGE_USER                 0.987583\n",
       "COVERAGE_USER_HIT             0.741887\n",
       "USERS_IN_GT                   0.987583\n",
       "DIVERSITY_GINI                0.047717\n",
       "SHANNON_ENTROPY                7.95239\n",
       "RATIO_DIVERSITY_HERFINDAHL    0.994906\n",
       "RATIO_DIVERSITY_GINI          0.136453\n",
       "RATIO_SHANNON_ENTROPY          0.73545\n",
       "RATIO_AVERAGE_POPULARITY      1.742559\n",
       "RATIO_NOVELTY                 0.065294\n",
       "Name: 10, dtype: object"
      ]
     },
     "execution_count": 90,
     "metadata": {},
     "output_type": "execute_result"
    }
   ],
   "source": [
    "from Recommenders.MatrixFactorization.PureSVDRecommender import PureSVDRecommender\n",
    "\n",
    "\n",
    "# Define the hyperparameter space\n",
    "itemknn_hyperparam_space = {\n",
    "    \"num_factors\": list(range(10, 160)),\n",
    "\n",
    "}\n",
    "\n",
    "svd_rec = PureSVDRecommender(URM_train=URM_train)\n",
    "# Create an objective function\n",
    "objective = create_objective_d(recommender_instance=svd_rec, URM_train= URM_train, URM_validation=URM_validation, hyperparam_space=itemknn_hyperparam_space, evaluator_validation=evaluator_validation)\n",
    "\n",
    "# Create the study and run optimization\n",
    "study = optuna.create_study(direction=\"maximize\")\n",
    "study.optimize(objective, n_trials=150)\n",
    "\n",
    "\n",
    "svd_rec.fit(**study.best_params)\n",
    "result_df, _ = evaluator_validation.evaluateRecommender(svd_rec)\n",
    "result_df.loc[10]"
   ]
  },
  {
   "cell_type": "code",
   "execution_count": null,
   "metadata": {},
   "outputs": [
    {
     "name": "stdout",
     "output_type": "stream",
     "text": [
      "SLIMElasticNetRecommender: URM Detected 204 ( 5.3%) items with no interactions.\n",
      "SLIMElasticNetRecommender: Processed 3883 (100.0%) in 1.32 min. Items per second: 48.96\n",
      "EvaluatorHoldout: Processed 5965 (100.0%) in 2.05 sec. Users per second: 2912\n"
     ]
    },
    {
     "data": {
      "text/plain": [
       "PRECISION                     0.180436\n",
       "PRECISION_RECALL_MIN_DEN      0.236134\n",
       "RECALL                        0.160031\n",
       "MAP                           0.097529\n",
       "MAP_MIN_DEN                   0.121712\n",
       "MRR                           0.413098\n",
       "NDCG                          0.217846\n",
       "F1                            0.169622\n",
       "HIT_RATE                      0.761274\n",
       "ARHR_ALL_HITS                  0.62356\n",
       "NOVELTY                        0.02383\n",
       "AVERAGE_POPULARITY            0.519913\n",
       "DIVERSITY_MEAN_INTER_LIST     0.920168\n",
       "DIVERSITY_HERFINDAHL          0.992001\n",
       "COVERAGE_ITEM                 0.180273\n",
       "COVERAGE_ITEM_HIT             0.125934\n",
       "ITEMS_IN_GT                   0.853206\n",
       "COVERAGE_USER                 0.987583\n",
       "COVERAGE_USER_HIT             0.751821\n",
       "USERS_IN_GT                   0.987583\n",
       "DIVERSITY_GINI                0.041659\n",
       "SHANNON_ENTROPY               7.702668\n",
       "RATIO_DIVERSITY_HERFINDAHL    0.992813\n",
       "RATIO_DIVERSITY_GINI          0.119129\n",
       "RATIO_SHANNON_ENTROPY         0.712355\n",
       "RATIO_AVERAGE_POPULARITY      1.882134\n",
       "RATIO_NOVELTY                 0.064596\n",
       "Name: 10, dtype: object"
      ]
     },
     "execution_count": 86,
     "metadata": {},
     "output_type": "execute_result"
    }
   ],
   "source": [
    "from Recommenders.SLIM.SLIMElasticNetRecommender import SLIMElasticNetRecommender\n",
    "\n",
    "slim_rec = SLIMElasticNetRecommender(URM_train)\n",
    "slim_rec.fit()\n",
    "result_df, _ = evaluator_validation.evaluateRecommender(slim_rec)\n",
    "result_df.loc[10]"
   ]
  },
  {
   "cell_type": "code",
   "execution_count": null,
   "metadata": {},
   "outputs": [
    {
     "name": "stdout",
     "output_type": "stream",
     "text": [
      "PureSVDRecommender\n",
      "ItemKNNCFRecommender\n",
      "SLIMElasticNetRecommender\n"
     ]
    }
   ],
   "source": [
    "recommenders_instances = {itemKNNinstance, slim_rec, svd_rec}\n",
    "recommenders_instances\n",
    "for traditional_rec in recommenders_instances:\n",
    "    print(traditional_rec.RECOMMENDER_NAME)\n"
   ]
  },
  {
   "cell_type": "code",
   "execution_count": null,
   "metadata": {},
   "outputs": [
    {
     "name": "stderr",
     "output_type": "stream",
     "text": [
      "[I 2023-07-25 01:38:10,423] A new study created in memory with name: no-name-89f93437-a031-4219-8dac-84c0b97c5633\n"
     ]
    },
    {
     "name": "stdout",
     "output_type": "stream",
     "text": [
      "<generator object <genexpr> at 0x7fe058b57b30>\n",
      "PureSVDRecommender\n",
      "Recommender_Base_Class: URM Detected 204 ( 5.3%) items with no interactions.\n",
      "DiffusionAutoencoderRecommender_PureSVDRecommender_TwoLevelRec\n",
      "EvaluatorHoldout: Processed 5965 (100.0%) in 2.23 sec. Users per second: 2674\n"
     ]
    },
    {
     "name": "stderr",
     "output_type": "stream",
     "text": [
      "[I 2023-07-25 01:38:14,476] Trial 0 finished with value: 0.09566391250548849 and parameters: {'cutoff': 70}. Best is trial 0 with value: 0.09566391250548849.\n"
     ]
    },
    {
     "name": "stdout",
     "output_type": "stream",
     "text": [
      "EvaluatorHoldout: Processed 5965 (100.0%) in 2.21 sec. Users per second: 2699\n"
     ]
    },
    {
     "name": "stderr",
     "output_type": "stream",
     "text": [
      "[I 2023-07-25 01:38:18,183] Trial 1 finished with value: 0.0955612368445563 and parameters: {'cutoff': 118}. Best is trial 0 with value: 0.09566391250548849.\n"
     ]
    },
    {
     "name": "stdout",
     "output_type": "stream",
     "text": [
      "EvaluatorHoldout: Processed 5965 (100.0%) in 2.25 sec. Users per second: 2655\n"
     ]
    },
    {
     "name": "stderr",
     "output_type": "stream",
     "text": [
      "[I 2023-07-25 01:38:21,947] Trial 2 finished with value: 0.0954872603414097 and parameters: {'cutoff': 180}. Best is trial 0 with value: 0.09566391250548849.\n"
     ]
    },
    {
     "name": "stdout",
     "output_type": "stream",
     "text": [
      "EvaluatorHoldout: Processed 5965 (100.0%) in 2.16 sec. Users per second: 2759\n"
     ]
    },
    {
     "name": "stderr",
     "output_type": "stream",
     "text": [
      "[I 2023-07-25 01:38:25,590] Trial 3 finished with value: 0.09559012892667552 and parameters: {'cutoff': 112}. Best is trial 0 with value: 0.09566391250548849.\n"
     ]
    },
    {
     "name": "stdout",
     "output_type": "stream",
     "text": [
      "EvaluatorHoldout: Processed 5965 (100.0%) in 2.16 sec. Users per second: 2757\n"
     ]
    },
    {
     "name": "stderr",
     "output_type": "stream",
     "text": [
      "[I 2023-07-25 01:38:29,218] Trial 4 finished with value: 0.09565826447930398 and parameters: {'cutoff': 85}. Best is trial 0 with value: 0.09566391250548849.\n"
     ]
    },
    {
     "name": "stdout",
     "output_type": "stream",
     "text": [
      "EvaluatorHoldout: Processed 5965 (100.0%) in 2.62 sec. Users per second: 2278\n"
     ]
    },
    {
     "name": "stderr",
     "output_type": "stream",
     "text": [
      "[I 2023-07-25 01:38:33,269] Trial 5 finished with value: 0.0956246158144735 and parameters: {'cutoff': 31}. Best is trial 0 with value: 0.09566391250548849.\n"
     ]
    },
    {
     "name": "stdout",
     "output_type": "stream",
     "text": [
      "EvaluatorHoldout: Processed 5965 (100.0%) in 2.21 sec. Users per second: 2702\n"
     ]
    },
    {
     "name": "stderr",
     "output_type": "stream",
     "text": [
      "[I 2023-07-25 01:38:36,974] Trial 6 finished with value: 0.0955798507164812 and parameters: {'cutoff': 170}. Best is trial 0 with value: 0.09566391250548849.\n"
     ]
    },
    {
     "name": "stdout",
     "output_type": "stream",
     "text": [
      "EvaluatorHoldout: Processed 5965 (100.0%) in 2.22 sec. Users per second: 2686\n"
     ]
    },
    {
     "name": "stderr",
     "output_type": "stream",
     "text": [
      "[I 2023-07-25 01:38:40,701] Trial 7 finished with value: 0.09563750182945494 and parameters: {'cutoff': 129}. Best is trial 0 with value: 0.09566391250548849.\n"
     ]
    },
    {
     "name": "stdout",
     "output_type": "stream",
     "text": [
      "EvaluatorHoldout: Processed 5965 (100.0%) in 2.19 sec. Users per second: 2722\n"
     ]
    },
    {
     "name": "stderr",
     "output_type": "stream",
     "text": [
      "[I 2023-07-25 01:38:44,771] Trial 8 finished with value: 0.09555130456765004 and parameters: {'cutoff': 159}. Best is trial 0 with value: 0.09566391250548849.\n"
     ]
    },
    {
     "name": "stdout",
     "output_type": "stream",
     "text": [
      "EvaluatorHoldout: Processed 5965 (100.0%) in 2.20 sec. Users per second: 2713\n"
     ]
    },
    {
     "name": "stderr",
     "output_type": "stream",
     "text": [
      "[I 2023-07-25 01:38:48,576] Trial 9 finished with value: 0.09558444098511167 and parameters: {'cutoff': 170}. Best is trial 0 with value: 0.09566391250548849.\n"
     ]
    },
    {
     "name": "stdout",
     "output_type": "stream",
     "text": [
      "EvaluatorHoldout: Processed 5965 (100.0%) in 2.21 sec. Users per second: 2704\n"
     ]
    },
    {
     "name": "stderr",
     "output_type": "stream",
     "text": [
      "[I 2023-07-25 01:38:52,285] Trial 10 finished with value: 0.09555150414454701 and parameters: {'cutoff': 172}. Best is trial 0 with value: 0.09566391250548849.\n"
     ]
    },
    {
     "name": "stdout",
     "output_type": "stream",
     "text": [
      "EvaluatorHoldout: Processed 5965 (100.0%) in 2.13 sec. Users per second: 2800\n"
     ]
    },
    {
     "name": "stderr",
     "output_type": "stream",
     "text": [
      "[I 2023-07-25 01:38:55,884] Trial 11 finished with value: 0.09559984166899517 and parameters: {'cutoff': 85}. Best is trial 0 with value: 0.09566391250548849.\n"
     ]
    },
    {
     "name": "stdout",
     "output_type": "stream",
     "text": [
      "EvaluatorHoldout: Processed 5965 (100.0%) in 2.18 sec. Users per second: 2741\n"
     ]
    },
    {
     "name": "stderr",
     "output_type": "stream",
     "text": [
      "[I 2023-07-25 01:38:59,541] Trial 12 finished with value: 0.09561567476948879 and parameters: {'cutoff': 147}. Best is trial 0 with value: 0.09566391250548849.\n"
     ]
    },
    {
     "name": "stdout",
     "output_type": "stream",
     "text": [
      "EvaluatorHoldout: Processed 5965 (100.0%) in 2.24 sec. Users per second: 2665\n"
     ]
    },
    {
     "name": "stderr",
     "output_type": "stream",
     "text": [
      "[I 2023-07-25 01:39:03,211] Trial 13 finished with value: 0.09660373341848594 and parameters: {'cutoff': 13}. Best is trial 13 with value: 0.09660373341848594.\n"
     ]
    },
    {
     "name": "stdout",
     "output_type": "stream",
     "text": [
      "EvaluatorHoldout: Processed 5965 (100.0%) in 2.09 sec. Users per second: 2850\n"
     ]
    },
    {
     "name": "stderr",
     "output_type": "stream",
     "text": [
      "[I 2023-07-25 01:39:06,776] Trial 14 finished with value: 0.09561686557830738 and parameters: {'cutoff': 133}. Best is trial 13 with value: 0.09660373341848594.\n"
     ]
    },
    {
     "name": "stdout",
     "output_type": "stream",
     "text": [
      "EvaluatorHoldout: Processed 5965 (100.0%) in 2.07 sec. Users per second: 2889\n"
     ]
    },
    {
     "name": "stderr",
     "output_type": "stream",
     "text": [
      "[I 2023-07-25 01:39:10,304] Trial 15 finished with value: 0.09558874519352312 and parameters: {'cutoff': 110}. Best is trial 13 with value: 0.09660373341848594.\n"
     ]
    },
    {
     "name": "stdout",
     "output_type": "stream",
     "text": [
      "EvaluatorHoldout: Processed 5965 (100.0%) in 2.53 sec. Users per second: 2359\n"
     ]
    },
    {
     "name": "stderr",
     "output_type": "stream",
     "text": [
      "[I 2023-07-25 01:39:14,269] Trial 16 finished with value: 0.09619700235500737 and parameters: {'cutoff': 27}. Best is trial 13 with value: 0.09660373341848594.\n"
     ]
    },
    {
     "name": "stdout",
     "output_type": "stream",
     "text": [
      "EvaluatorHoldout: Processed 5965 (100.0%) in 2.14 sec. Users per second: 2786\n"
     ]
    },
    {
     "name": "stderr",
     "output_type": "stream",
     "text": [
      "[I 2023-07-25 01:39:17,867] Trial 17 finished with value: 0.09564821245625944 and parameters: {'cutoff': 96}. Best is trial 13 with value: 0.09660373341848594.\n"
     ]
    },
    {
     "name": "stdout",
     "output_type": "stream",
     "text": [
      "EvaluatorHoldout: Processed 5965 (100.0%) in 2.17 sec. Users per second: 2747\n"
     ]
    },
    {
     "name": "stderr",
     "output_type": "stream",
     "text": [
      "[I 2023-07-25 01:39:21,512] Trial 18 finished with value: 0.0956119692917682 and parameters: {'cutoff': 128}. Best is trial 13 with value: 0.09660373341848594.\n"
     ]
    },
    {
     "name": "stdout",
     "output_type": "stream",
     "text": [
      "EvaluatorHoldout: Processed 5965 (100.0%) in 2.17 sec. Users per second: 2747\n"
     ]
    },
    {
     "name": "stderr",
     "output_type": "stream",
     "text": [
      "[I 2023-07-25 01:39:25,168] Trial 19 finished with value: 0.09561540201439626 and parameters: {'cutoff': 140}. Best is trial 13 with value: 0.09660373341848594.\n"
     ]
    },
    {
     "name": "stdout",
     "output_type": "stream",
     "text": [
      "EvaluatorHoldout: Processed 5965 (100.0%) in 2.11 sec. Users per second: 2823\n"
     ]
    },
    {
     "name": "stderr",
     "output_type": "stream",
     "text": [
      "[I 2023-07-25 01:39:28,727] Trial 20 finished with value: 0.09560143163160785 and parameters: {'cutoff': 60}. Best is trial 13 with value: 0.09660373341848594.\n"
     ]
    },
    {
     "name": "stdout",
     "output_type": "stream",
     "text": [
      "EvaluatorHoldout: Processed 5965 (100.0%) in 2.11 sec. Users per second: 2825\n"
     ]
    },
    {
     "name": "stderr",
     "output_type": "stream",
     "text": [
      "[I 2023-07-25 01:39:32,295] Trial 21 finished with value: 0.09560071315477871 and parameters: {'cutoff': 70}. Best is trial 13 with value: 0.09660373341848594.\n"
     ]
    },
    {
     "name": "stdout",
     "output_type": "stream",
     "text": [
      "EvaluatorHoldout: Processed 5965 (100.0%) in 2.11 sec. Users per second: 2827\n"
     ]
    },
    {
     "name": "stderr",
     "output_type": "stream",
     "text": [
      "[I 2023-07-25 01:39:35,849] Trial 22 finished with value: 0.09566554903604364 and parameters: {'cutoff': 57}. Best is trial 13 with value: 0.09660373341848594.\n"
     ]
    },
    {
     "name": "stdout",
     "output_type": "stream",
     "text": [
      "EvaluatorHoldout: Processed 5965 (100.0%) in 2.11 sec. Users per second: 2827\n"
     ]
    },
    {
     "name": "stderr",
     "output_type": "stream",
     "text": [
      "[I 2023-07-25 01:39:39,400] Trial 23 finished with value: 0.09567393791828005 and parameters: {'cutoff': 57}. Best is trial 13 with value: 0.09660373341848594.\n"
     ]
    },
    {
     "name": "stdout",
     "output_type": "stream",
     "text": [
      "EvaluatorHoldout: Processed 5965 (100.0%) in 2.19 sec. Users per second: 2726\n"
     ]
    },
    {
     "name": "stderr",
     "output_type": "stream",
     "text": [
      "[I 2023-07-25 01:39:43,071] Trial 24 finished with value: 0.09565636849878267 and parameters: {'cutoff': 146}. Best is trial 13 with value: 0.09660373341848594.\n"
     ]
    },
    {
     "name": "stdout",
     "output_type": "stream",
     "text": [
      "EvaluatorHoldout: Processed 5965 (100.0%) in 2.22 sec. Users per second: 2690\n"
     ]
    },
    {
     "name": "stderr",
     "output_type": "stream",
     "text": [
      "[I 2023-07-25 01:39:46,804] Trial 25 finished with value: 0.09552659029524085 and parameters: {'cutoff': 199}. Best is trial 13 with value: 0.09660373341848594.\n"
     ]
    },
    {
     "name": "stdout",
     "output_type": "stream",
     "text": [
      "EvaluatorHoldout: Processed 5965 (100.0%) in 2.13 sec. Users per second: 2805\n"
     ]
    },
    {
     "name": "stderr",
     "output_type": "stream",
     "text": [
      "[I 2023-07-25 01:39:50,387] Trial 26 finished with value: 0.09560093268936536 and parameters: {'cutoff': 57}. Best is trial 13 with value: 0.09660373341848594.\n"
     ]
    },
    {
     "name": "stdout",
     "output_type": "stream",
     "text": [
      "EvaluatorHoldout: Processed 5965 (100.0%) in 2.37 sec. Users per second: 2516\n"
     ]
    },
    {
     "name": "stderr",
     "output_type": "stream",
     "text": [
      "[I 2023-07-25 01:39:54,498] Trial 27 finished with value: 0.09552556580050306 and parameters: {'cutoff': 163}. Best is trial 13 with value: 0.09660373341848594.\n"
     ]
    },
    {
     "name": "stdout",
     "output_type": "stream",
     "text": [
      "EvaluatorHoldout: Processed 5965 (100.0%) in 2.17 sec. Users per second: 2750\n"
     ]
    },
    {
     "name": "stderr",
     "output_type": "stream",
     "text": [
      "[I 2023-07-25 01:39:58,269] Trial 28 finished with value: 0.09552497372237535 and parameters: {'cutoff': 189}. Best is trial 13 with value: 0.09660373341848594.\n"
     ]
    },
    {
     "name": "stdout",
     "output_type": "stream",
     "text": [
      "EvaluatorHoldout: Processed 5965 (100.0%) in 2.20 sec. Users per second: 2707\n"
     ]
    },
    {
     "name": "stderr",
     "output_type": "stream",
     "text": [
      "[I 2023-07-25 01:40:02,006] Trial 29 finished with value: 0.09558100160992039 and parameters: {'cutoff': 161}. Best is trial 13 with value: 0.09660373341848594.\n"
     ]
    },
    {
     "name": "stdout",
     "output_type": "stream",
     "text": [
      "EvaluatorHoldout: Processed 5965 (100.0%) in 2.53 sec. Users per second: 2356\n"
     ]
    },
    {
     "name": "stderr",
     "output_type": "stream",
     "text": [
      "[I 2023-07-25 01:40:05,991] Trial 30 finished with value: 0.09578358546547999 and parameters: {'cutoff': 27}. Best is trial 13 with value: 0.09660373341848594.\n"
     ]
    },
    {
     "name": "stdout",
     "output_type": "stream",
     "text": [
      "EvaluatorHoldout: Processed 5965 (100.0%) in 2.53 sec. Users per second: 2358\n"
     ]
    },
    {
     "name": "stderr",
     "output_type": "stream",
     "text": [
      "[I 2023-07-25 01:40:09,975] Trial 31 finished with value: 0.09589540174829364 and parameters: {'cutoff': 27}. Best is trial 13 with value: 0.09660373341848594.\n"
     ]
    },
    {
     "name": "stdout",
     "output_type": "stream",
     "text": [
      "EvaluatorHoldout: Processed 5965 (100.0%) in 2.33 sec. Users per second: 2559\n"
     ]
    },
    {
     "name": "stderr",
     "output_type": "stream",
     "text": [
      "[I 2023-07-25 01:40:13,750] Trial 32 finished with value: 0.09652603147992901 and parameters: {'cutoff': 17}. Best is trial 13 with value: 0.09660373341848594.\n"
     ]
    },
    {
     "name": "stdout",
     "output_type": "stream",
     "text": [
      "EvaluatorHoldout: Processed 5965 (100.0%) in 2.32 sec. Users per second: 2566\n"
     ]
    },
    {
     "name": "stderr",
     "output_type": "stream",
     "text": [
      "[I 2023-07-25 01:40:17,503] Trial 33 finished with value: 0.09632971433893459 and parameters: {'cutoff': 17}. Best is trial 13 with value: 0.09660373341848594.\n"
     ]
    },
    {
     "name": "stdout",
     "output_type": "stream",
     "text": [
      "EvaluatorHoldout: Processed 5965 (100.0%) in 2.30 sec. Users per second: 2594\n"
     ]
    },
    {
     "name": "stderr",
     "output_type": "stream",
     "text": [
      "[I 2023-07-25 01:40:21,228] Trial 34 finished with value: 0.09631984193509732 and parameters: {'cutoff': 16}. Best is trial 13 with value: 0.09660373341848594.\n"
     ]
    },
    {
     "name": "stdout",
     "output_type": "stream",
     "text": [
      "EvaluatorHoldout: Processed 5965 (100.0%) in 2.32 sec. Users per second: 2572\n"
     ]
    },
    {
     "name": "stderr",
     "output_type": "stream",
     "text": [
      "[I 2023-07-25 01:40:24,978] Trial 35 finished with value: 0.09653454676086676 and parameters: {'cutoff': 17}. Best is trial 13 with value: 0.09660373341848594.\n"
     ]
    },
    {
     "name": "stdout",
     "output_type": "stream",
     "text": [
      "EvaluatorHoldout: Processed 5965 (100.0%) in 2.11 sec. Users per second: 2830\n"
     ]
    },
    {
     "name": "stderr",
     "output_type": "stream",
     "text": [
      "[I 2023-07-25 01:40:28,531] Trial 36 finished with value: 0.09563573224763518 and parameters: {'cutoff': 46}. Best is trial 13 with value: 0.09660373341848594.\n"
     ]
    },
    {
     "name": "stdout",
     "output_type": "stream",
     "text": [
      "EvaluatorHoldout: Processed 5965 (100.0%) in 2.19 sec. Users per second: 2723\n"
     ]
    },
    {
     "name": "stderr",
     "output_type": "stream",
     "text": [
      "[I 2023-07-25 01:40:32,156] Trial 37 finished with value: 0.0963293151851406 and parameters: {'cutoff': 11}. Best is trial 13 with value: 0.09660373341848594.\n"
     ]
    },
    {
     "name": "stdout",
     "output_type": "stream",
     "text": [
      "EvaluatorHoldout: Processed 5965 (100.0%) in 2.20 sec. Users per second: 2716\n"
     ]
    },
    {
     "name": "stderr",
     "output_type": "stream",
     "text": [
      "[I 2023-07-25 01:40:35,854] Trial 38 finished with value: 0.09559922963317774 and parameters: {'cutoff': 158}. Best is trial 13 with value: 0.09660373341848594.\n"
     ]
    },
    {
     "name": "stdout",
     "output_type": "stream",
     "text": [
      "EvaluatorHoldout: Processed 5965 (100.0%) in 2.18 sec. Users per second: 2739\n"
     ]
    },
    {
     "name": "stderr",
     "output_type": "stream",
     "text": [
      "[I 2023-07-25 01:40:39,527] Trial 39 finished with value: 0.09558727497704875 and parameters: {'cutoff': 135}. Best is trial 13 with value: 0.09660373341848594.\n"
     ]
    },
    {
     "name": "stdout",
     "output_type": "stream",
     "text": [
      "EvaluatorHoldout: Processed 5965 (100.0%) in 2.13 sec. Users per second: 2796\n"
     ]
    },
    {
     "name": "stderr",
     "output_type": "stream",
     "text": [
      "[I 2023-07-25 01:40:43,130] Trial 40 finished with value: 0.09566407881956926 and parameters: {'cutoff': 86}. Best is trial 13 with value: 0.09660373341848594.\n"
     ]
    },
    {
     "name": "stdout",
     "output_type": "stream",
     "text": [
      "EvaluatorHoldout: Processed 5965 (100.0%) in 2.26 sec. Users per second: 2641\n"
     ]
    },
    {
     "name": "stderr",
     "output_type": "stream",
     "text": [
      "[I 2023-07-25 01:40:47,191] Trial 41 finished with value: 0.0967891603134685 and parameters: {'cutoff': 14}. Best is trial 41 with value: 0.0967891603134685.\n"
     ]
    },
    {
     "name": "stdout",
     "output_type": "stream",
     "text": [
      "EvaluatorHoldout: Processed 5965 (100.0%) in 2.14 sec. Users per second: 2782\n"
     ]
    },
    {
     "name": "stderr",
     "output_type": "stream",
     "text": [
      "[I 2023-07-25 01:40:50,832] Trial 42 finished with value: 0.09555658670285674 and parameters: {'cutoff': 169}. Best is trial 41 with value: 0.0967891603134685.\n"
     ]
    },
    {
     "name": "stdout",
     "output_type": "stream",
     "text": [
      "EvaluatorHoldout: Processed 5965 (100.0%) in 2.33 sec. Users per second: 2560\n"
     ]
    },
    {
     "name": "stderr",
     "output_type": "stream",
     "text": [
      "[I 2023-07-25 01:40:54,601] Trial 43 finished with value: 0.09690689737755945 and parameters: {'cutoff': 17}. Best is trial 43 with value: 0.09690689737755945.\n"
     ]
    },
    {
     "name": "stdout",
     "output_type": "stream",
     "text": [
      "EvaluatorHoldout: Processed 5965 (100.0%) in 2.41 sec. Users per second: 2474\n"
     ]
    },
    {
     "name": "stderr",
     "output_type": "stream",
     "text": [
      "[I 2023-07-25 01:40:58,450] Trial 44 finished with value: 0.09592616320068116 and parameters: {'cutoff': 21}. Best is trial 43 with value: 0.09690689737755945.\n"
     ]
    },
    {
     "name": "stdout",
     "output_type": "stream",
     "text": [
      "EvaluatorHoldout: Processed 5965 (100.0%) in 2.26 sec. Users per second: 2639\n"
     ]
    },
    {
     "name": "stderr",
     "output_type": "stream",
     "text": [
      "[I 2023-07-25 01:41:02,133] Trial 45 finished with value: 0.09668919889833534 and parameters: {'cutoff': 13}. Best is trial 43 with value: 0.09690689737755945.\n"
     ]
    },
    {
     "name": "stdout",
     "output_type": "stream",
     "text": [
      "EvaluatorHoldout: Processed 5965 (100.0%) in 2.16 sec. Users per second: 2755\n"
     ]
    },
    {
     "name": "stderr",
     "output_type": "stream",
     "text": [
      "[I 2023-07-25 01:41:05,724] Trial 46 finished with value: 0.096876601604598 and parameters: {'cutoff': 13}. Best is trial 43 with value: 0.09690689737755945.\n"
     ]
    },
    {
     "name": "stdout",
     "output_type": "stream",
     "text": [
      "EvaluatorHoldout: Processed 5965 (100.0%) in 2.24 sec. Users per second: 2666\n"
     ]
    },
    {
     "name": "stderr",
     "output_type": "stream",
     "text": [
      "[I 2023-07-25 01:41:09,389] Trial 47 finished with value: 0.09697425458028934 and parameters: {'cutoff': 13}. Best is trial 47 with value: 0.09697425458028934.\n"
     ]
    },
    {
     "name": "stdout",
     "output_type": "stream",
     "text": [
      "EvaluatorHoldout: Processed 5965 (100.0%) in 2.18 sec. Users per second: 2732\n"
     ]
    },
    {
     "name": "stderr",
     "output_type": "stream",
     "text": [
      "[I 2023-07-25 01:41:13,010] Trial 48 finished with value: 0.09652692957596538 and parameters: {'cutoff': 14}. Best is trial 47 with value: 0.09697425458028934.\n"
     ]
    },
    {
     "name": "stdout",
     "output_type": "stream",
     "text": [
      "EvaluatorHoldout: Processed 5965 (100.0%) in 2.25 sec. Users per second: 2653\n"
     ]
    },
    {
     "name": "stderr",
     "output_type": "stream",
     "text": [
      "[I 2023-07-25 01:41:16,686] Trial 49 finished with value: 0.09682397982942806 and parameters: {'cutoff': 13}. Best is trial 47 with value: 0.09697425458028934.\n"
     ]
    },
    {
     "name": "stdout",
     "output_type": "stream",
     "text": [
      "EvaluatorHoldout: Processed 5965 (100.0%) in 2.26 sec. Users per second: 2645\n"
     ]
    },
    {
     "name": "stderr",
     "output_type": "stream",
     "text": [
      "[I 2023-07-25 01:41:20,364] A new study created in memory with name: no-name-70de22fa-611e-4971-8e6c-0b4144f420b8\n"
     ]
    },
    {
     "name": "stdout",
     "output_type": "stream",
     "text": [
      "PureSVDRecommender\n",
      "Recommender_Base_Class: URM Detected 204 ( 5.3%) items with no interactions.\n",
      "DiffusionAutoencoderRecommender_PureSVDRecommender_TwoLevelRec\n",
      "EvaluatorHoldout: Processed 5965 (100.0%) in 2.06 sec. Users per second: 2902\n"
     ]
    },
    {
     "name": "stderr",
     "output_type": "stream",
     "text": [
      "[I 2023-07-25 01:42:06,025] Trial 0 finished with value: 0.06274327093229029 and parameters: {'cutoff': 35}. Best is trial 0 with value: 0.06274327093229029.\n"
     ]
    },
    {
     "name": "stdout",
     "output_type": "stream",
     "text": [
      "EvaluatorHoldout: Processed 5965 (100.0%) in 2.19 sec. Users per second: 2725\n"
     ]
    },
    {
     "name": "stderr",
     "output_type": "stream",
     "text": [
      "[I 2023-07-25 01:42:51,937] Trial 1 finished with value: 0.0802643595577378 and parameters: {'cutoff': 164}. Best is trial 1 with value: 0.0802643595577378.\n"
     ]
    },
    {
     "name": "stdout",
     "output_type": "stream",
     "text": [
      "EvaluatorHoldout: Processed 5965 (100.0%) in 2.36 sec. Users per second: 2527\n"
     ]
    },
    {
     "name": "stderr",
     "output_type": "stream",
     "text": [
      "[I 2023-07-25 01:43:37,902] Trial 2 finished with value: 0.054275063531979084 and parameters: {'cutoff': 20}. Best is trial 1 with value: 0.0802643595577378.\n"
     ]
    },
    {
     "name": "stdout",
     "output_type": "stream",
     "text": [
      "EvaluatorHoldout: Processed 5965 (100.0%) in 2.17 sec. Users per second: 2746\n"
     ]
    },
    {
     "name": "stderr",
     "output_type": "stream",
     "text": [
      "[I 2023-07-25 01:44:23,673] Trial 3 finished with value: 0.07862885349725279 and parameters: {'cutoff': 140}. Best is trial 1 with value: 0.0802643595577378.\n"
     ]
    },
    {
     "name": "stdout",
     "output_type": "stream",
     "text": [
      "EvaluatorHoldout: Processed 5965 (100.0%) in 2.09 sec. Users per second: 2859\n"
     ]
    },
    {
     "name": "stderr",
     "output_type": "stream",
     "text": [
      "[I 2023-07-25 01:45:09,398] Trial 4 finished with value: 0.0694481299644757 and parameters: {'cutoff': 59}. Best is trial 1 with value: 0.0802643595577378.\n"
     ]
    },
    {
     "name": "stdout",
     "output_type": "stream",
     "text": [
      "EvaluatorHoldout: Processed 5965 (100.0%) in 2.17 sec. Users per second: 2754\n"
     ]
    },
    {
     "name": "stderr",
     "output_type": "stream",
     "text": [
      "[I 2023-07-25 01:45:55,196] Trial 5 finished with value: 0.0788345507524053 and parameters: {'cutoff': 149}. Best is trial 1 with value: 0.0802643595577378.\n"
     ]
    },
    {
     "name": "stdout",
     "output_type": "stream",
     "text": [
      "EvaluatorHoldout: Processed 5965 (100.0%) in 2.15 sec. Users per second: 2780\n"
     ]
    },
    {
     "name": "stderr",
     "output_type": "stream",
     "text": [
      "[I 2023-07-25 01:46:41,031] Trial 6 finished with value: 0.07660573584001969 and parameters: {'cutoff': 114}. Best is trial 1 with value: 0.0802643595577378.\n"
     ]
    },
    {
     "name": "stdout",
     "output_type": "stream",
     "text": [
      "EvaluatorHoldout: Processed 5965 (100.0%) in 2.18 sec. Users per second: 2740\n"
     ]
    },
    {
     "name": "stderr",
     "output_type": "stream",
     "text": [
      "[I 2023-07-25 01:47:26,843] Trial 7 finished with value: 0.07838115861041295 and parameters: {'cutoff': 140}. Best is trial 1 with value: 0.0802643595577378.\n"
     ]
    },
    {
     "name": "stdout",
     "output_type": "stream",
     "text": [
      "EvaluatorHoldout: Processed 5965 (100.0%) in 2.14 sec. Users per second: 2788\n"
     ]
    },
    {
     "name": "stderr",
     "output_type": "stream",
     "text": [
      "[I 2023-07-25 01:48:12,623] Trial 8 finished with value: 0.07478295347197317 and parameters: {'cutoff': 98}. Best is trial 1 with value: 0.0802643595577378.\n"
     ]
    },
    {
     "name": "stdout",
     "output_type": "stream",
     "text": [
      "EvaluatorHoldout: Processed 5965 (100.0%) in 2.47 sec. Users per second: 2416\n"
     ]
    },
    {
     "name": "stderr",
     "output_type": "stream",
     "text": [
      "[I 2023-07-25 01:48:58,791] Trial 9 finished with value: 0.057743876315544555 and parameters: {'cutoff': 25}. Best is trial 1 with value: 0.0802643595577378.\n"
     ]
    },
    {
     "name": "stdout",
     "output_type": "stream",
     "text": [
      "EvaluatorHoldout: Processed 5965 (100.0%) in 2.14 sec. Users per second: 2791\n"
     ]
    },
    {
     "name": "stderr",
     "output_type": "stream",
     "text": [
      "[I 2023-07-25 01:49:44,499] Trial 10 finished with value: 0.07946388988677348 and parameters: {'cutoff': 164}. Best is trial 1 with value: 0.0802643595577378.\n"
     ]
    },
    {
     "name": "stdout",
     "output_type": "stream",
     "text": [
      "EvaluatorHoldout: Processed 5965 (100.0%) in 2.18 sec. Users per second: 2730\n"
     ]
    },
    {
     "name": "stderr",
     "output_type": "stream",
     "text": [
      "[I 2023-07-25 01:50:30,289] Trial 11 finished with value: 0.07920886387525138 and parameters: {'cutoff': 164}. Best is trial 1 with value: 0.0802643595577378.\n"
     ]
    },
    {
     "name": "stdout",
     "output_type": "stream",
     "text": [
      "EvaluatorHoldout: Processed 5965 (100.0%) in 2.19 sec. Users per second: 2720\n"
     ]
    },
    {
     "name": "stderr",
     "output_type": "stream",
     "text": [
      "[I 2023-07-25 01:51:16,121] Trial 12 finished with value: 0.07921637461914094 and parameters: {'cutoff': 164}. Best is trial 1 with value: 0.0802643595577378.\n"
     ]
    },
    {
     "name": "stdout",
     "output_type": "stream",
     "text": [
      "EvaluatorHoldout: Processed 5965 (100.0%) in 2.09 sec. Users per second: 2852\n"
     ]
    },
    {
     "name": "stderr",
     "output_type": "stream",
     "text": [
      "[I 2023-07-25 01:52:01,840] Trial 13 finished with value: 0.06485844010697352 and parameters: {'cutoff': 42}. Best is trial 1 with value: 0.0802643595577378.\n"
     ]
    },
    {
     "name": "stdout",
     "output_type": "stream",
     "text": [
      "EvaluatorHoldout: Processed 5965 (100.0%) in 2.14 sec. Users per second: 2789\n"
     ]
    },
    {
     "name": "stderr",
     "output_type": "stream",
     "text": [
      "[I 2023-07-25 01:52:47,587] Trial 14 finished with value: 0.07798110672041968 and parameters: {'cutoff': 143}. Best is trial 1 with value: 0.0802643595577378.\n"
     ]
    },
    {
     "name": "stdout",
     "output_type": "stream",
     "text": [
      "EvaluatorHoldout: Processed 5965 (100.0%) in 2.21 sec. Users per second: 2695\n"
     ]
    },
    {
     "name": "stderr",
     "output_type": "stream",
     "text": [
      "[I 2023-07-25 01:53:33,540] Trial 15 finished with value: 0.0789985963091583 and parameters: {'cutoff': 164}. Best is trial 1 with value: 0.0802643595577378.\n"
     ]
    },
    {
     "name": "stdout",
     "output_type": "stream",
     "text": [
      "EvaluatorHoldout: Processed 5965 (100.0%) in 2.54 sec. Users per second: 2347\n"
     ]
    },
    {
     "name": "stderr",
     "output_type": "stream",
     "text": [
      "[I 2023-07-25 01:54:19,939] Trial 16 finished with value: 0.05818546681036216 and parameters: {'cutoff': 27}. Best is trial 1 with value: 0.0802643595577378.\n"
     ]
    },
    {
     "name": "stdout",
     "output_type": "stream",
     "text": [
      "EvaluatorHoldout: Processed 5965 (100.0%) in 2.12 sec. Users per second: 2808\n"
     ]
    },
    {
     "name": "stderr",
     "output_type": "stream",
     "text": [
      "[I 2023-07-25 01:55:05,664] Trial 17 finished with value: 0.07035764179938558 and parameters: {'cutoff': 66}. Best is trial 1 with value: 0.0802643595577378.\n"
     ]
    },
    {
     "name": "stdout",
     "output_type": "stream",
     "text": [
      "EvaluatorHoldout: Processed 5965 (100.0%) in 2.07 sec. Users per second: 2878\n"
     ]
    },
    {
     "name": "stderr",
     "output_type": "stream",
     "text": [
      "[I 2023-07-25 01:55:51,341] Trial 18 finished with value: 0.06374400271424605 and parameters: {'cutoff': 38}. Best is trial 1 with value: 0.0802643595577378.\n"
     ]
    },
    {
     "name": "stdout",
     "output_type": "stream",
     "text": [
      "EvaluatorHoldout: Processed 5965 (100.0%) in 2.08 sec. Users per second: 2870\n"
     ]
    },
    {
     "name": "stderr",
     "output_type": "stream",
     "text": [
      "[I 2023-07-25 01:56:37,055] Trial 19 finished with value: 0.06251289932010826 and parameters: {'cutoff': 34}. Best is trial 1 with value: 0.0802643595577378.\n"
     ]
    },
    {
     "name": "stdout",
     "output_type": "stream",
     "text": [
      "EvaluatorHoldout: Processed 5965 (100.0%) in 2.14 sec. Users per second: 2790\n"
     ]
    },
    {
     "name": "stderr",
     "output_type": "stream",
     "text": [
      "[I 2023-07-25 01:57:22,840] Trial 20 finished with value: 0.07863244588139838 and parameters: {'cutoff': 131}. Best is trial 1 with value: 0.0802643595577378.\n"
     ]
    },
    {
     "name": "stdout",
     "output_type": "stream",
     "text": [
      "EvaluatorHoldout: Processed 5965 (100.0%) in 2.48 sec. Users per second: 2404\n"
     ]
    },
    {
     "name": "stderr",
     "output_type": "stream",
     "text": [
      "[I 2023-07-25 01:58:09,130] Trial 21 finished with value: 0.08006485583895494 and parameters: {'cutoff': 164}. Best is trial 1 with value: 0.0802643595577378.\n"
     ]
    },
    {
     "name": "stdout",
     "output_type": "stream",
     "text": [
      "EvaluatorHoldout: Processed 5965 (100.0%) in 2.26 sec. Users per second: 2636\n"
     ]
    },
    {
     "name": "stderr",
     "output_type": "stream",
     "text": [
      "[I 2023-07-25 01:58:55,238] Trial 22 finished with value: 0.08050257454197118 and parameters: {'cutoff': 175}. Best is trial 22 with value: 0.08050257454197118.\n"
     ]
    },
    {
     "name": "stdout",
     "output_type": "stream",
     "text": [
      "EvaluatorHoldout: Processed 5965 (100.0%) in 2.19 sec. Users per second: 2725\n"
     ]
    },
    {
     "name": "stderr",
     "output_type": "stream",
     "text": [
      "[I 2023-07-25 01:59:41,181] Trial 23 finished with value: 0.08057349086603088 and parameters: {'cutoff': 174}. Best is trial 23 with value: 0.08057349086603088.\n"
     ]
    },
    {
     "name": "stdout",
     "output_type": "stream",
     "text": [
      "EvaluatorHoldout: Processed 5965 (100.0%) in 2.21 sec. Users per second: 2701\n"
     ]
    },
    {
     "name": "stderr",
     "output_type": "stream",
     "text": [
      "[I 2023-07-25 02:00:27,154] Trial 24 finished with value: 0.0806389188254236 and parameters: {'cutoff': 171}. Best is trial 24 with value: 0.0806389188254236.\n"
     ]
    },
    {
     "name": "stdout",
     "output_type": "stream",
     "text": [
      "EvaluatorHoldout: Processed 5965 (100.0%) in 2.15 sec. Users per second: 2780\n"
     ]
    },
    {
     "name": "stderr",
     "output_type": "stream",
     "text": [
      "[I 2023-07-25 02:01:12,826] Trial 25 finished with value: 0.08023915299564939 and parameters: {'cutoff': 174}. Best is trial 24 with value: 0.0806389188254236.\n"
     ]
    },
    {
     "name": "stdout",
     "output_type": "stream",
     "text": [
      "EvaluatorHoldout: Processed 5965 (100.0%) in 2.14 sec. Users per second: 2781\n"
     ]
    },
    {
     "name": "stderr",
     "output_type": "stream",
     "text": [
      "[I 2023-07-25 02:01:58,407] Trial 26 finished with value: 0.07786995569392917 and parameters: {'cutoff': 142}. Best is trial 24 with value: 0.0806389188254236.\n"
     ]
    },
    {
     "name": "stdout",
     "output_type": "stream",
     "text": [
      "EvaluatorHoldout: Processed 5965 (100.0%) in 2.06 sec. Users per second: 2898\n"
     ]
    },
    {
     "name": "stderr",
     "output_type": "stream",
     "text": [
      "[I 2023-07-25 02:02:43,801] Trial 27 finished with value: 0.07014823241394959 and parameters: {'cutoff': 65}. Best is trial 24 with value: 0.0806389188254236.\n"
     ]
    },
    {
     "name": "stdout",
     "output_type": "stream",
     "text": [
      "EvaluatorHoldout: Processed 5965 (100.0%) in 2.15 sec. Users per second: 2770\n"
     ]
    },
    {
     "name": "stderr",
     "output_type": "stream",
     "text": [
      "[I 2023-07-25 02:03:29,337] Trial 28 finished with value: 0.08037424659721408 and parameters: {'cutoff': 175}. Best is trial 24 with value: 0.0806389188254236.\n"
     ]
    },
    {
     "name": "stdout",
     "output_type": "stream",
     "text": [
      "EvaluatorHoldout: Processed 5965 (100.0%) in 2.09 sec. Users per second: 2850\n"
     ]
    },
    {
     "name": "stderr",
     "output_type": "stream",
     "text": [
      "[I 2023-07-25 02:04:14,736] Trial 29 finished with value: 0.07582463843318861 and parameters: {'cutoff': 108}. Best is trial 24 with value: 0.0806389188254236.\n"
     ]
    },
    {
     "name": "stdout",
     "output_type": "stream",
     "text": [
      "EvaluatorHoldout: Processed 5965 (100.0%) in 2.15 sec. Users per second: 2769\n"
     ]
    },
    {
     "name": "stderr",
     "output_type": "stream",
     "text": [
      "[I 2023-07-25 02:05:00,322] Trial 30 finished with value: 0.08008384225442097 and parameters: {'cutoff': 171}. Best is trial 24 with value: 0.0806389188254236.\n"
     ]
    },
    {
     "name": "stdout",
     "output_type": "stream",
     "text": [
      "EvaluatorHoldout: Processed 5965 (100.0%) in 2.13 sec. Users per second: 2800\n"
     ]
    },
    {
     "name": "stderr",
     "output_type": "stream",
     "text": [
      "[I 2023-07-25 02:05:45,737] Trial 31 finished with value: 0.07909103367527551 and parameters: {'cutoff': 144}. Best is trial 24 with value: 0.0806389188254236.\n"
     ]
    },
    {
     "name": "stdout",
     "output_type": "stream",
     "text": [
      "EvaluatorHoldout: Processed 5965 (100.0%) in 2.14 sec. Users per second: 2789\n"
     ]
    },
    {
     "name": "stderr",
     "output_type": "stream",
     "text": [
      "[I 2023-07-25 02:06:31,217] Trial 32 finished with value: 0.0807307574608499 and parameters: {'cutoff': 175}. Best is trial 32 with value: 0.0807307574608499.\n"
     ]
    },
    {
     "name": "stdout",
     "output_type": "stream",
     "text": [
      "EvaluatorHoldout: Processed 5965 (100.0%) in 2.17 sec. Users per second: 2751\n"
     ]
    },
    {
     "name": "stderr",
     "output_type": "stream",
     "text": [
      "[I 2023-07-25 02:07:16,703] Trial 33 finished with value: 0.08190025811945356 and parameters: {'cutoff': 190}. Best is trial 33 with value: 0.08190025811945356.\n"
     ]
    },
    {
     "name": "stdout",
     "output_type": "stream",
     "text": [
      "EvaluatorHoldout: Processed 5965 (100.0%) in 2.17 sec. Users per second: 2746\n"
     ]
    },
    {
     "name": "stderr",
     "output_type": "stream",
     "text": [
      "[I 2023-07-25 02:08:02,196] Trial 34 finished with value: 0.08107188094572854 and parameters: {'cutoff': 190}. Best is trial 33 with value: 0.08190025811945356.\n"
     ]
    },
    {
     "name": "stdout",
     "output_type": "stream",
     "text": [
      "EvaluatorHoldout: Processed 5965 (100.0%) in 2.15 sec. Users per second: 2779\n"
     ]
    },
    {
     "name": "stderr",
     "output_type": "stream",
     "text": [
      "[I 2023-07-25 02:08:47,701] Trial 35 finished with value: 0.08070186537873075 and parameters: {'cutoff': 173}. Best is trial 33 with value: 0.08190025811945356.\n"
     ]
    },
    {
     "name": "stdout",
     "output_type": "stream",
     "text": [
      "EvaluatorHoldout: Processed 5965 (100.0%) in 2.12 sec. Users per second: 2814\n"
     ]
    },
    {
     "name": "stderr",
     "output_type": "stream",
     "text": [
      "[I 2023-07-25 02:09:33,191] Trial 36 finished with value: 0.07863765483840955 and parameters: {'cutoff': 134}. Best is trial 33 with value: 0.08190025811945356.\n"
     ]
    },
    {
     "name": "stdout",
     "output_type": "stream",
     "text": [
      "EvaluatorHoldout: Processed 5965 (100.0%) in 2.09 sec. Users per second: 2857\n"
     ]
    },
    {
     "name": "stderr",
     "output_type": "stream",
     "text": [
      "[I 2023-07-25 02:10:18,649] Trial 37 finished with value: 0.07612971167790995 and parameters: {'cutoff': 99}. Best is trial 33 with value: 0.08190025811945356.\n"
     ]
    },
    {
     "name": "stdout",
     "output_type": "stream",
     "text": [
      "EvaluatorHoldout: Processed 5965 (100.0%) in 2.18 sec. Users per second: 2735\n"
     ]
    },
    {
     "name": "stderr",
     "output_type": "stream",
     "text": [
      "[I 2023-07-25 02:11:04,218] Trial 38 finished with value: 0.0819627190356445 and parameters: {'cutoff': 190}. Best is trial 38 with value: 0.0819627190356445.\n"
     ]
    },
    {
     "name": "stdout",
     "output_type": "stream",
     "text": [
      "EvaluatorHoldout: Processed 5965 (100.0%) in 2.16 sec. Users per second: 2762\n"
     ]
    },
    {
     "name": "stderr",
     "output_type": "stream",
     "text": [
      "[I 2023-07-25 02:11:49,682] Trial 39 finished with value: 0.08118237336845895 and parameters: {'cutoff': 197}. Best is trial 38 with value: 0.0819627190356445.\n"
     ]
    },
    {
     "name": "stdout",
     "output_type": "stream",
     "text": [
      "EvaluatorHoldout: Processed 5965 (100.0%) in 2.13 sec. Users per second: 2807\n"
     ]
    },
    {
     "name": "stderr",
     "output_type": "stream",
     "text": [
      "[I 2023-07-25 02:12:35,148] Trial 40 finished with value: 0.081386374219987 and parameters: {'cutoff': 197}. Best is trial 38 with value: 0.0819627190356445.\n"
     ]
    },
    {
     "name": "stdout",
     "output_type": "stream",
     "text": [
      "EvaluatorHoldout: Processed 5965 (100.0%) in 2.10 sec. Users per second: 2844\n"
     ]
    },
    {
     "name": "stderr",
     "output_type": "stream",
     "text": [
      "[I 2023-07-25 02:13:20,574] Trial 41 finished with value: 0.08218392341569228 and parameters: {'cutoff': 190}. Best is trial 41 with value: 0.08218392341569228.\n"
     ]
    },
    {
     "name": "stdout",
     "output_type": "stream",
     "text": [
      "EvaluatorHoldout: Processed 5965 (100.0%) in 2.16 sec. Users per second: 2765\n"
     ]
    },
    {
     "name": "stderr",
     "output_type": "stream",
     "text": [
      "[I 2023-07-25 02:14:06,119] Trial 42 finished with value: 0.08135996354395364 and parameters: {'cutoff': 197}. Best is trial 41 with value: 0.08218392341569228.\n"
     ]
    },
    {
     "name": "stdout",
     "output_type": "stream",
     "text": [
      "EvaluatorHoldout: Processed 5965 (100.0%) in 2.15 sec. Users per second: 2773\n"
     ]
    },
    {
     "name": "stderr",
     "output_type": "stream",
     "text": [
      "[I 2023-07-25 02:14:51,564] Trial 43 finished with value: 0.08287662821485124 and parameters: {'cutoff': 197}. Best is trial 43 with value: 0.08287662821485124.\n"
     ]
    },
    {
     "name": "stdout",
     "output_type": "stream",
     "text": [
      "EvaluatorHoldout: Processed 5965 (100.0%) in 2.13 sec. Users per second: 2795\n"
     ]
    },
    {
     "name": "stderr",
     "output_type": "stream",
     "text": [
      "[I 2023-07-25 02:15:37,021] Trial 44 finished with value: 0.08007090301893341 and parameters: {'cutoff': 161}. Best is trial 43 with value: 0.08287662821485124.\n"
     ]
    },
    {
     "name": "stdout",
     "output_type": "stream",
     "text": [
      "EvaluatorHoldout: Processed 5965 (100.0%) in 2.13 sec. Users per second: 2802\n"
     ]
    },
    {
     "name": "stderr",
     "output_type": "stream",
     "text": [
      "[I 2023-07-25 02:16:22,450] Trial 45 finished with value: 0.07871595550765748 and parameters: {'cutoff': 155}. Best is trial 43 with value: 0.08287662821485124.\n"
     ]
    },
    {
     "name": "stdout",
     "output_type": "stream",
     "text": [
      "EvaluatorHoldout: Processed 5965 (100.0%) in 2.52 sec. Users per second: 2367\n"
     ]
    },
    {
     "name": "stderr",
     "output_type": "stream",
     "text": [
      "[I 2023-07-25 02:17:08,217] Trial 46 finished with value: 0.06183757766867586 and parameters: {'cutoff': 32}. Best is trial 43 with value: 0.08287662821485124.\n"
     ]
    },
    {
     "name": "stdout",
     "output_type": "stream",
     "text": [
      "EvaluatorHoldout: Processed 5965 (100.0%) in 2.08 sec. Users per second: 2874\n"
     ]
    },
    {
     "name": "stderr",
     "output_type": "stream",
     "text": [
      "[I 2023-07-25 02:17:53,605] Trial 47 finished with value: 0.07674166766455154 and parameters: {'cutoff': 126}. Best is trial 43 with value: 0.08287662821485124.\n"
     ]
    },
    {
     "name": "stdout",
     "output_type": "stream",
     "text": [
      "EvaluatorHoldout: Processed 5965 (100.0%) in 2.06 sec. Users per second: 2892\n"
     ]
    },
    {
     "name": "stderr",
     "output_type": "stream",
     "text": [
      "[I 2023-07-25 02:18:38,980] Trial 48 finished with value: 0.07374194041964408 and parameters: {'cutoff': 93}. Best is trial 43 with value: 0.08287662821485124.\n"
     ]
    },
    {
     "name": "stdout",
     "output_type": "stream",
     "text": [
      "EvaluatorHoldout: Processed 5965 (100.0%) in 2.15 sec. Users per second: 2773\n"
     ]
    },
    {
     "name": "stderr",
     "output_type": "stream",
     "text": [
      "[I 2023-07-25 02:19:24,478] Trial 49 finished with value: 0.08174520682819116 and parameters: {'cutoff': 190}. Best is trial 43 with value: 0.08287662821485124.\n"
     ]
    },
    {
     "name": "stdout",
     "output_type": "stream",
     "text": [
      "EvaluatorHoldout: Processed 5965 (100.0%) in 2.17 sec. Users per second: 2744\n"
     ]
    },
    {
     "name": "stderr",
     "output_type": "stream",
     "text": [
      "[I 2023-07-25 02:20:09,895] A new study created in memory with name: no-name-8ac6d40d-60e0-40c1-97eb-f96b6e5ddc89\n"
     ]
    },
    {
     "name": "stdout",
     "output_type": "stream",
     "text": [
      "PureSVDRecommender\n",
      "Recommender_Base_Class: URM Detected 204 ( 5.3%) items with no interactions.\n",
      "DiffusionAutoencoderRecommender_PureSVDRecommender_TwoLevelRec\n",
      "EvaluatorHoldout: Processed 5965 (100.0%) in 2.18 sec. Users per second: 2733\n"
     ]
    },
    {
     "name": "stderr",
     "output_type": "stream",
     "text": [
      "[I 2023-07-25 02:20:16,982] Trial 0 finished with value: 0.09586939687861736 and parameters: {'cutoff': 198}. Best is trial 0 with value: 0.09586939687861736.\n"
     ]
    },
    {
     "name": "stdout",
     "output_type": "stream",
     "text": [
      "EvaluatorHoldout: Processed 5965 (100.0%) in 2.13 sec. Users per second: 2796\n"
     ]
    },
    {
     "name": "stderr",
     "output_type": "stream",
     "text": [
      "[I 2023-07-25 02:20:24,026] Trial 1 finished with value: 0.09590540720339547 and parameters: {'cutoff': 159}. Best is trial 1 with value: 0.09590540720339547.\n"
     ]
    },
    {
     "name": "stdout",
     "output_type": "stream",
     "text": [
      "EvaluatorHoldout: Processed 5965 (100.0%) in 2.12 sec. Users per second: 2814\n"
     ]
    },
    {
     "name": "stderr",
     "output_type": "stream",
     "text": [
      "[I 2023-07-25 02:20:31,030] Trial 2 finished with value: 0.09586562487526452 and parameters: {'cutoff': 129}. Best is trial 1 with value: 0.09590540720339547.\n"
     ]
    },
    {
     "name": "stdout",
     "output_type": "stream",
     "text": [
      "EvaluatorHoldout: Processed 5965 (100.0%) in 2.13 sec. Users per second: 2804\n"
     ]
    },
    {
     "name": "stderr",
     "output_type": "stream",
     "text": [
      "[I 2023-07-25 02:20:38,376] Trial 3 finished with value: 0.0957871978073152 and parameters: {'cutoff': 131}. Best is trial 1 with value: 0.09590540720339547.\n"
     ]
    },
    {
     "name": "stdout",
     "output_type": "stream",
     "text": [
      "EvaluatorHoldout: Processed 5965 (100.0%) in 2.14 sec. Users per second: 2781\n"
     ]
    },
    {
     "name": "stderr",
     "output_type": "stream",
     "text": [
      "[I 2023-07-25 02:20:45,428] Trial 4 finished with value: 0.09589729772881495 and parameters: {'cutoff': 178}. Best is trial 1 with value: 0.09590540720339547.\n"
     ]
    },
    {
     "name": "stdout",
     "output_type": "stream",
     "text": [
      "EvaluatorHoldout: Processed 5965 (100.0%) in 2.14 sec. Users per second: 2789\n"
     ]
    },
    {
     "name": "stderr",
     "output_type": "stream",
     "text": [
      "[I 2023-07-25 02:20:52,401] Trial 5 finished with value: 0.09339032584254721 and parameters: {'cutoff': 11}. Best is trial 1 with value: 0.09590540720339547.\n"
     ]
    },
    {
     "name": "stdout",
     "output_type": "stream",
     "text": [
      "EvaluatorHoldout: Processed 5965 (100.0%) in 2.31 sec. Users per second: 2582\n"
     ]
    },
    {
     "name": "stderr",
     "output_type": "stream",
     "text": [
      "[I 2023-07-25 02:20:59,530] Trial 6 finished with value: 0.09567345893372706 and parameters: {'cutoff': 20}. Best is trial 1 with value: 0.09590540720339547.\n"
     ]
    },
    {
     "name": "stdout",
     "output_type": "stream",
     "text": [
      "EvaluatorHoldout: Processed 5965 (100.0%) in 2.15 sec. Users per second: 2775\n"
     ]
    },
    {
     "name": "stderr",
     "output_type": "stream",
     "text": [
      "[I 2023-07-25 02:21:06,603] Trial 7 finished with value: 0.09589057198738672 and parameters: {'cutoff': 169}. Best is trial 1 with value: 0.09590540720339547.\n"
     ]
    },
    {
     "name": "stdout",
     "output_type": "stream",
     "text": [
      "EvaluatorHoldout: Processed 5965 (100.0%) in 2.13 sec. Users per second: 2803\n"
     ]
    },
    {
     "name": "stderr",
     "output_type": "stream",
     "text": [
      "[I 2023-07-25 02:21:13,626] Trial 8 finished with value: 0.09583190968480156 and parameters: {'cutoff': 144}. Best is trial 1 with value: 0.09590540720339547.\n"
     ]
    },
    {
     "name": "stdout",
     "output_type": "stream",
     "text": [
      "EvaluatorHoldout: Processed 5965 (100.0%) in 2.37 sec. Users per second: 2516\n"
     ]
    },
    {
     "name": "stderr",
     "output_type": "stream",
     "text": [
      "[I 2023-07-25 02:21:20,840] Trial 9 finished with value: 0.09557852020383456 and parameters: {'cutoff': 22}. Best is trial 1 with value: 0.09590540720339547.\n"
     ]
    },
    {
     "name": "stdout",
     "output_type": "stream",
     "text": [
      "EvaluatorHoldout: Processed 5965 (100.0%) in 2.16 sec. Users per second: 2762\n"
     ]
    },
    {
     "name": "stderr",
     "output_type": "stream",
     "text": [
      "[I 2023-07-25 02:21:27,886] Trial 10 finished with value: 0.09592006280019694 and parameters: {'cutoff': 172}. Best is trial 10 with value: 0.09592006280019694.\n"
     ]
    },
    {
     "name": "stdout",
     "output_type": "stream",
     "text": [
      "EvaluatorHoldout: Processed 5965 (100.0%) in 2.05 sec. Users per second: 2908\n"
     ]
    },
    {
     "name": "stderr",
     "output_type": "stream",
     "text": [
      "[I 2023-07-25 02:21:34,774] Trial 11 finished with value: 0.09568460862970508 and parameters: {'cutoff': 42}. Best is trial 10 with value: 0.09592006280019694.\n"
     ]
    },
    {
     "name": "stdout",
     "output_type": "stream",
     "text": [
      "EvaluatorHoldout: Processed 5965 (100.0%) in 2.13 sec. Users per second: 2798\n"
     ]
    },
    {
     "name": "stderr",
     "output_type": "stream",
     "text": [
      "[I 2023-07-25 02:21:41,797] Trial 12 finished with value: 0.09587675461355259 and parameters: {'cutoff': 159}. Best is trial 10 with value: 0.09592006280019694.\n"
     ]
    },
    {
     "name": "stdout",
     "output_type": "stream",
     "text": [
      "EvaluatorHoldout: Processed 5965 (100.0%) in 2.14 sec. Users per second: 2787\n"
     ]
    },
    {
     "name": "stderr",
     "output_type": "stream",
     "text": [
      "[I 2023-07-25 02:21:48,837] Trial 13 finished with value: 0.09586104125919716 and parameters: {'cutoff': 172}. Best is trial 10 with value: 0.09592006280019694.\n"
     ]
    },
    {
     "name": "stdout",
     "output_type": "stream",
     "text": [
      "EvaluatorHoldout: Processed 5965 (100.0%) in 2.13 sec. Users per second: 2807\n"
     ]
    },
    {
     "name": "stderr",
     "output_type": "stream",
     "text": [
      "[I 2023-07-25 02:21:55,871] Trial 14 finished with value: 0.09576877685972414 and parameters: {'cutoff': 137}. Best is trial 10 with value: 0.09592006280019694.\n"
     ]
    },
    {
     "name": "stdout",
     "output_type": "stream",
     "text": [
      "EvaluatorHoldout: Processed 5965 (100.0%) in 2.10 sec. Users per second: 2839\n"
     ]
    },
    {
     "name": "stderr",
     "output_type": "stream",
     "text": [
      "[I 2023-07-25 02:22:02,861] Trial 15 finished with value: 0.09573647866522977 and parameters: {'cutoff': 102}. Best is trial 10 with value: 0.09592006280019694.\n"
     ]
    },
    {
     "name": "stdout",
     "output_type": "stream",
     "text": [
      "EvaluatorHoldout: Processed 5965 (100.0%) in 2.06 sec. Users per second: 2896\n"
     ]
    },
    {
     "name": "stderr",
     "output_type": "stream",
     "text": [
      "[I 2023-07-25 02:22:09,751] Trial 16 finished with value: 0.09587184502188688 and parameters: {'cutoff': 66}. Best is trial 10 with value: 0.09592006280019694.\n"
     ]
    },
    {
     "name": "stdout",
     "output_type": "stream",
     "text": [
      "EvaluatorHoldout: Processed 5965 (100.0%) in 2.16 sec. Users per second: 2757\n"
     ]
    },
    {
     "name": "stderr",
     "output_type": "stream",
     "text": [
      "[I 2023-07-25 02:22:16,821] Trial 17 finished with value: 0.09585369682938837 and parameters: {'cutoff': 181}. Best is trial 10 with value: 0.09592006280019694.\n"
     ]
    },
    {
     "name": "stdout",
     "output_type": "stream",
     "text": [
      "EvaluatorHoldout: Processed 5965 (100.0%) in 2.13 sec. Users per second: 2801\n"
     ]
    },
    {
     "name": "stderr",
     "output_type": "stream",
     "text": [
      "[I 2023-07-25 02:22:23,826] Trial 18 finished with value: 0.09584157585917859 and parameters: {'cutoff': 142}. Best is trial 10 with value: 0.09592006280019694.\n"
     ]
    },
    {
     "name": "stdout",
     "output_type": "stream",
     "text": [
      "EvaluatorHoldout: Processed 5965 (100.0%) in 2.23 sec. Users per second: 2674\n"
     ]
    },
    {
     "name": "stderr",
     "output_type": "stream",
     "text": [
      "[I 2023-07-25 02:22:30,868] Trial 19 finished with value: 0.09562849425883793 and parameters: {'cutoff': 17}. Best is trial 10 with value: 0.09592006280019694.\n"
     ]
    },
    {
     "name": "stdout",
     "output_type": "stream",
     "text": [
      "EvaluatorHoldout: Processed 5965 (100.0%) in 2.36 sec. Users per second: 2525\n"
     ]
    },
    {
     "name": "stderr",
     "output_type": "stream",
     "text": [
      "[I 2023-07-25 02:22:38,049] Trial 20 finished with value: 0.09563974374326419 and parameters: {'cutoff': 21}. Best is trial 10 with value: 0.09592006280019694.\n"
     ]
    },
    {
     "name": "stdout",
     "output_type": "stream",
     "text": [
      "EvaluatorHoldout: Processed 5965 (100.0%) in 2.09 sec. Users per second: 2860\n"
     ]
    },
    {
     "name": "stderr",
     "output_type": "stream",
     "text": [
      "[I 2023-07-25 02:22:45,030] Trial 21 finished with value: 0.09589463005095863 and parameters: {'cutoff': 178}. Best is trial 10 with value: 0.09592006280019694.\n"
     ]
    },
    {
     "name": "stdout",
     "output_type": "stream",
     "text": [
      "EvaluatorHoldout: Processed 5965 (100.0%) in 2.03 sec. Users per second: 2939\n"
     ]
    },
    {
     "name": "stderr",
     "output_type": "stream",
     "text": [
      "[I 2023-07-25 02:22:51,904] Trial 22 finished with value: 0.09580813342380813 and parameters: {'cutoff': 50}. Best is trial 10 with value: 0.09592006280019694.\n"
     ]
    },
    {
     "name": "stdout",
     "output_type": "stream",
     "text": [
      "EvaluatorHoldout: Processed 5965 (100.0%) in 2.04 sec. Users per second: 2918\n"
     ]
    },
    {
     "name": "stderr",
     "output_type": "stream",
     "text": [
      "[I 2023-07-25 02:22:58,785] Trial 23 finished with value: 0.09567601351800852 and parameters: {'cutoff': 46}. Best is trial 10 with value: 0.09592006280019694.\n"
     ]
    },
    {
     "name": "stdout",
     "output_type": "stream",
     "text": [
      "EvaluatorHoldout: Processed 5965 (100.0%) in 2.01 sec. Users per second: 2961\n"
     ]
    },
    {
     "name": "stderr",
     "output_type": "stream",
     "text": [
      "[I 2023-07-25 02:23:05,644] Trial 24 finished with value: 0.09578953285700975 and parameters: {'cutoff': 63}. Best is trial 10 with value: 0.09592006280019694.\n"
     ]
    },
    {
     "name": "stdout",
     "output_type": "stream",
     "text": [
      "EvaluatorHoldout: Processed 5965 (100.0%) in 1.99 sec. Users per second: 3005\n"
     ]
    },
    {
     "name": "stderr",
     "output_type": "stream",
     "text": [
      "[I 2023-07-25 02:23:12,472] Trial 25 finished with value: 0.09527846299179082 and parameters: {'cutoff': 35}. Best is trial 10 with value: 0.09592006280019694.\n"
     ]
    },
    {
     "name": "stdout",
     "output_type": "stream",
     "text": [
      "EvaluatorHoldout: Processed 5965 (100.0%) in 2.06 sec. Users per second: 2893\n"
     ]
    },
    {
     "name": "stderr",
     "output_type": "stream",
     "text": [
      "[I 2023-07-25 02:23:19,375] Trial 26 finished with value: 0.095758538564909 and parameters: {'cutoff': 55}. Best is trial 10 with value: 0.09592006280019694.\n"
     ]
    },
    {
     "name": "stdout",
     "output_type": "stream",
     "text": [
      "EvaluatorHoldout: Processed 5965 (100.0%) in 2.17 sec. Users per second: 2754\n"
     ]
    },
    {
     "name": "stderr",
     "output_type": "stream",
     "text": [
      "[I 2023-07-25 02:23:26,442] Trial 27 finished with value: 0.09588804401335833 and parameters: {'cutoff': 178}. Best is trial 10 with value: 0.09592006280019694.\n"
     ]
    },
    {
     "name": "stdout",
     "output_type": "stream",
     "text": [
      "EvaluatorHoldout: Processed 5965 (100.0%) in 2.11 sec. Users per second: 2829\n"
     ]
    },
    {
     "name": "stderr",
     "output_type": "stream",
     "text": [
      "[I 2023-07-25 02:23:33,423] Trial 28 finished with value: 0.09582060697986941 and parameters: {'cutoff': 116}. Best is trial 10 with value: 0.09592006280019694.\n"
     ]
    },
    {
     "name": "stdout",
     "output_type": "stream",
     "text": [
      "EvaluatorHoldout: Processed 5965 (100.0%) in 2.07 sec. Users per second: 2881\n"
     ]
    },
    {
     "name": "stderr",
     "output_type": "stream",
     "text": [
      "[I 2023-07-25 02:23:40,363] Trial 29 finished with value: 0.09566879548690126 and parameters: {'cutoff': 87}. Best is trial 10 with value: 0.09592006280019694.\n"
     ]
    },
    {
     "name": "stdout",
     "output_type": "stream",
     "text": [
      "EvaluatorHoldout: Processed 5965 (100.0%) in 2.13 sec. Users per second: 2799\n"
     ]
    },
    {
     "name": "stderr",
     "output_type": "stream",
     "text": [
      "[I 2023-07-25 02:23:47,420] Trial 30 finished with value: 0.09582656102396266 and parameters: {'cutoff': 117}. Best is trial 10 with value: 0.09592006280019694.\n"
     ]
    },
    {
     "name": "stdout",
     "output_type": "stream",
     "text": [
      "EvaluatorHoldout: Processed 5965 (100.0%) in 2.37 sec. Users per second: 2515\n"
     ]
    },
    {
     "name": "stderr",
     "output_type": "stream",
     "text": [
      "[I 2023-07-25 02:23:54,642] Trial 31 finished with value: 0.09565540387711387 and parameters: {'cutoff': 24}. Best is trial 10 with value: 0.09592006280019694.\n"
     ]
    },
    {
     "name": "stdout",
     "output_type": "stream",
     "text": [
      "EvaluatorHoldout: Processed 5965 (100.0%) in 2.18 sec. Users per second: 2736\n"
     ]
    },
    {
     "name": "stderr",
     "output_type": "stream",
     "text": [
      "[I 2023-07-25 02:24:01,748] Trial 32 finished with value: 0.0958768344443114 and parameters: {'cutoff': 197}. Best is trial 10 with value: 0.09592006280019694.\n"
     ]
    },
    {
     "name": "stdout",
     "output_type": "stream",
     "text": [
      "EvaluatorHoldout: Processed 5965 (100.0%) in 2.06 sec. Users per second: 2903\n"
     ]
    },
    {
     "name": "stderr",
     "output_type": "stream",
     "text": [
      "[I 2023-07-25 02:24:08,679] Trial 33 finished with value: 0.09582533029976444 and parameters: {'cutoff': 61}. Best is trial 10 with value: 0.09592006280019694.\n"
     ]
    },
    {
     "name": "stdout",
     "output_type": "stream",
     "text": [
      "EvaluatorHoldout: Processed 5965 (100.0%) in 2.09 sec. Users per second: 2858\n"
     ]
    },
    {
     "name": "stderr",
     "output_type": "stream",
     "text": [
      "[I 2023-07-25 02:24:15,640] Trial 34 finished with value: 0.0957042403438046 and parameters: {'cutoff': 94}. Best is trial 10 with value: 0.09592006280019694.\n"
     ]
    },
    {
     "name": "stdout",
     "output_type": "stream",
     "text": [
      "EvaluatorHoldout: Processed 5965 (100.0%) in 2.42 sec. Users per second: 2469\n"
     ]
    },
    {
     "name": "stderr",
     "output_type": "stream",
     "text": [
      "[I 2023-07-25 02:24:23,004] Trial 35 finished with value: 0.09592972897457394 and parameters: {'cutoff': 178}. Best is trial 35 with value: 0.09592972897457394.\n"
     ]
    },
    {
     "name": "stdout",
     "output_type": "stream",
     "text": [
      "EvaluatorHoldout: Processed 5965 (100.0%) in 2.18 sec. Users per second: 2734\n"
     ]
    },
    {
     "name": "stderr",
     "output_type": "stream",
     "text": [
      "[I 2023-07-25 02:24:30,117] Trial 36 finished with value: 0.09592475950983917 and parameters: {'cutoff': 189}. Best is trial 35 with value: 0.09592972897457394.\n"
     ]
    },
    {
     "name": "stdout",
     "output_type": "stream",
     "text": [
      "EvaluatorHoldout: Processed 5965 (100.0%) in 2.24 sec. Users per second: 2661\n"
     ]
    },
    {
     "name": "stderr",
     "output_type": "stream",
     "text": [
      "[I 2023-07-25 02:24:37,200] Trial 37 finished with value: 0.09532527707925847 and parameters: {'cutoff': 16}. Best is trial 35 with value: 0.09592972897457394.\n"
     ]
    },
    {
     "name": "stdout",
     "output_type": "stream",
     "text": [
      "EvaluatorHoldout: Processed 5965 (100.0%) in 2.13 sec. Users per second: 2802\n"
     ]
    },
    {
     "name": "stderr",
     "output_type": "stream",
     "text": [
      "[I 2023-07-25 02:24:44,247] Trial 38 finished with value: 0.09589282720632258 and parameters: {'cutoff': 196}. Best is trial 35 with value: 0.09592972897457394.\n"
     ]
    },
    {
     "name": "stdout",
     "output_type": "stream",
     "text": [
      "EvaluatorHoldout: Processed 5965 (100.0%) in 2.06 sec. Users per second: 2894\n"
     ]
    },
    {
     "name": "stderr",
     "output_type": "stream",
     "text": [
      "[I 2023-07-25 02:24:51,193] Trial 39 finished with value: 0.09576724011761734 and parameters: {'cutoff': 101}. Best is trial 35 with value: 0.09592972897457394.\n"
     ]
    },
    {
     "name": "stdout",
     "output_type": "stream",
     "text": [
      "EvaluatorHoldout: Processed 5965 (100.0%) in 2.02 sec. Users per second: 2947\n"
     ]
    },
    {
     "name": "stderr",
     "output_type": "stream",
     "text": [
      "[I 2023-07-25 02:24:58,068] Trial 40 finished with value: 0.09531090754267628 and parameters: {'cutoff': 36}. Best is trial 35 with value: 0.09592972897457394.\n"
     ]
    },
    {
     "name": "stdout",
     "output_type": "stream",
     "text": [
      "EvaluatorHoldout: Processed 5965 (100.0%) in 2.13 sec. Users per second: 2805\n"
     ]
    },
    {
     "name": "stderr",
     "output_type": "stream",
     "text": [
      "[I 2023-07-25 02:25:05,090] Trial 41 finished with value: 0.09578010617490922 and parameters: {'cutoff': 146}. Best is trial 35 with value: 0.09592972897457394.\n"
     ]
    },
    {
     "name": "stdout",
     "output_type": "stream",
     "text": [
      "EvaluatorHoldout: Processed 5965 (100.0%) in 2.05 sec. Users per second: 2910\n"
     ]
    },
    {
     "name": "stderr",
     "output_type": "stream",
     "text": [
      "[I 2023-07-25 02:25:11,983] Trial 42 finished with value: 0.09558780052954398 and parameters: {'cutoff': 44}. Best is trial 35 with value: 0.09592972897457394.\n"
     ]
    },
    {
     "name": "stdout",
     "output_type": "stream",
     "text": [
      "EvaluatorHoldout: Processed 5965 (100.0%) in 2.10 sec. Users per second: 2837\n"
     ]
    },
    {
     "name": "stderr",
     "output_type": "stream",
     "text": [
      "[I 2023-07-25 02:25:18,988] Trial 43 finished with value: 0.09582524381644246 and parameters: {'cutoff': 172}. Best is trial 35 with value: 0.09592972897457394.\n"
     ]
    },
    {
     "name": "stdout",
     "output_type": "stream",
     "text": [
      "EvaluatorHoldout: Processed 5965 (100.0%) in 2.11 sec. Users per second: 2824\n"
     ]
    },
    {
     "name": "stderr",
     "output_type": "stream",
     "text": [
      "[I 2023-07-25 02:25:26,003] Trial 44 finished with value: 0.09585811413137486 and parameters: {'cutoff': 133}. Best is trial 35 with value: 0.09592972897457394.\n"
     ]
    },
    {
     "name": "stdout",
     "output_type": "stream",
     "text": [
      "EvaluatorHoldout: Processed 5965 (100.0%) in 2.06 sec. Users per second: 2900\n"
     ]
    },
    {
     "name": "stderr",
     "output_type": "stream",
     "text": [
      "[I 2023-07-25 02:25:32,923] Trial 45 finished with value: 0.09580510650753737 and parameters: {'cutoff': 75}. Best is trial 35 with value: 0.09592972897457394.\n"
     ]
    },
    {
     "name": "stdout",
     "output_type": "stream",
     "text": [
      "EvaluatorHoldout: Processed 5965 (100.0%) in 2.09 sec. Users per second: 2856\n"
     ]
    },
    {
     "name": "stderr",
     "output_type": "stream",
     "text": [
      "[I 2023-07-25 02:25:39,890] Trial 46 finished with value: 0.09574758844582826 and parameters: {'cutoff': 107}. Best is trial 35 with value: 0.09592972897457394.\n"
     ]
    },
    {
     "name": "stdout",
     "output_type": "stream",
     "text": [
      "EvaluatorHoldout: Processed 5965 (100.0%) in 2.14 sec. Users per second: 2788\n"
     ]
    },
    {
     "name": "stderr",
     "output_type": "stream",
     "text": [
      "[I 2023-07-25 02:25:46,922] Trial 47 finished with value: 0.09589254779866681 and parameters: {'cutoff': 159}. Best is trial 35 with value: 0.09592972897457394.\n"
     ]
    },
    {
     "name": "stdout",
     "output_type": "stream",
     "text": [
      "EvaluatorHoldout: Processed 5965 (100.0%) in 2.09 sec. Users per second: 2858\n"
     ]
    },
    {
     "name": "stderr",
     "output_type": "stream",
     "text": [
      "[I 2023-07-25 02:25:53,886] Trial 48 finished with value: 0.09576205777085928 and parameters: {'cutoff': 104}. Best is trial 35 with value: 0.09592972897457394.\n"
     ]
    },
    {
     "name": "stdout",
     "output_type": "stream",
     "text": [
      "EvaluatorHoldout: Processed 5965 (100.0%) in 2.11 sec. Users per second: 2832\n"
     ]
    },
    {
     "name": "stderr",
     "output_type": "stream",
     "text": [
      "[I 2023-07-25 02:26:00,845] Trial 49 finished with value: 0.09563535305153086 and parameters: {'cutoff': 100}. Best is trial 35 with value: 0.09592972897457394.\n"
     ]
    },
    {
     "name": "stdout",
     "output_type": "stream",
     "text": [
      "EvaluatorHoldout: Processed 5965 (100.0%) in 2.15 sec. Users per second: 2776\n"
     ]
    },
    {
     "name": "stderr",
     "output_type": "stream",
     "text": [
      "[I 2023-07-25 02:26:07,889] A new study created in memory with name: no-name-6d868874-c923-4307-9bfc-9da7c07a4b0f\n"
     ]
    },
    {
     "name": "stdout",
     "output_type": "stream",
     "text": [
      "PureSVDRecommender\n",
      "Recommender_Base_Class: URM Detected 204 ( 5.3%) items with no interactions.\n",
      "DiffusionAutoencoderRecommender_PureSVDRecommender_TwoLevelRec\n",
      "EvaluatorHoldout: Processed 5965 (100.0%) in 2.51 sec. Users per second: 2377\n"
     ]
    },
    {
     "name": "stderr",
     "output_type": "stream",
     "text": [
      "[I 2023-07-25 02:26:32,299] Trial 0 finished with value: 0.08687608935722944 and parameters: {'cutoff': 29}. Best is trial 0 with value: 0.08687608935722944.\n"
     ]
    },
    {
     "name": "stdout",
     "output_type": "stream",
     "text": [
      "EvaluatorHoldout: Processed 5965 (100.0%) in 2.35 sec. Users per second: 2543\n"
     ]
    },
    {
     "name": "stderr",
     "output_type": "stream",
     "text": [
      "[I 2023-07-25 02:26:56,509] Trial 1 finished with value: 0.08478187575672941 and parameters: {'cutoff': 21}. Best is trial 0 with value: 0.08687608935722944.\n"
     ]
    },
    {
     "name": "stdout",
     "output_type": "stream",
     "text": [
      "EvaluatorHoldout: Processed 5965 (100.0%) in 2.10 sec. Users per second: 2846\n"
     ]
    },
    {
     "name": "stderr",
     "output_type": "stream",
     "text": [
      "[I 2023-07-25 02:27:20,572] Trial 2 finished with value: 0.09369350975931026 and parameters: {'cutoff': 183}. Best is trial 2 with value: 0.09369350975931026.\n"
     ]
    },
    {
     "name": "stdout",
     "output_type": "stream",
     "text": [
      "EvaluatorHoldout: Processed 5965 (100.0%) in 1.99 sec. Users per second: 2996\n"
     ]
    },
    {
     "name": "stderr",
     "output_type": "stream",
     "text": [
      "[I 2023-07-25 02:27:44,458] Trial 3 finished with value: 0.09014263760827054 and parameters: {'cutoff': 55}. Best is trial 2 with value: 0.09369350975931026.\n"
     ]
    },
    {
     "name": "stdout",
     "output_type": "stream",
     "text": [
      "EvaluatorHoldout: Processed 5965 (100.0%) in 2.14 sec. Users per second: 2782\n"
     ]
    },
    {
     "name": "stderr",
     "output_type": "stream",
     "text": [
      "[I 2023-07-25 02:28:08,564] Trial 4 finished with value: 0.09395276014848535 and parameters: {'cutoff': 173}. Best is trial 4 with value: 0.09395276014848535.\n"
     ]
    },
    {
     "name": "stdout",
     "output_type": "stream",
     "text": [
      "EvaluatorHoldout: Processed 5965 (100.0%) in 2.05 sec. Users per second: 2911\n"
     ]
    },
    {
     "name": "stderr",
     "output_type": "stream",
     "text": [
      "[I 2023-07-25 02:28:32,551] Trial 5 finished with value: 0.08987044133104502 and parameters: {'cutoff': 51}. Best is trial 4 with value: 0.09395276014848535.\n"
     ]
    },
    {
     "name": "stdout",
     "output_type": "stream",
     "text": [
      "EvaluatorHoldout: Processed 5965 (100.0%) in 2.17 sec. Users per second: 2754\n"
     ]
    },
    {
     "name": "stderr",
     "output_type": "stream",
     "text": [
      "[I 2023-07-25 02:28:56,706] Trial 6 finished with value: 0.09367890073045156 and parameters: {'cutoff': 197}. Best is trial 4 with value: 0.09395276014848535.\n"
     ]
    },
    {
     "name": "stdout",
     "output_type": "stream",
     "text": [
      "EvaluatorHoldout: Processed 5965 (100.0%) in 2.13 sec. Users per second: 2807\n"
     ]
    },
    {
     "name": "stderr",
     "output_type": "stream",
     "text": [
      "[I 2023-07-25 02:29:20,779] Trial 7 finished with value: 0.09367253422743793 and parameters: {'cutoff': 165}. Best is trial 4 with value: 0.09395276014848535.\n"
     ]
    },
    {
     "name": "stdout",
     "output_type": "stream",
     "text": [
      "EvaluatorHoldout: Processed 5965 (100.0%) in 2.09 sec. Users per second: 2860\n"
     ]
    },
    {
     "name": "stderr",
     "output_type": "stream",
     "text": [
      "[I 2023-07-25 02:29:44,855] Trial 8 finished with value: 0.09081836506606018 and parameters: {'cutoff': 62}. Best is trial 4 with value: 0.09395276014848535.\n"
     ]
    },
    {
     "name": "stdout",
     "output_type": "stream",
     "text": [
      "EvaluatorHoldout: Processed 5965 (100.0%) in 2.09 sec. Users per second: 2854\n"
     ]
    },
    {
     "name": "stderr",
     "output_type": "stream",
     "text": [
      "[I 2023-07-25 02:30:08,871] Trial 9 finished with value: 0.09213180058276471 and parameters: {'cutoff': 81}. Best is trial 4 with value: 0.09395276014848535.\n"
     ]
    },
    {
     "name": "stdout",
     "output_type": "stream",
     "text": [
      "EvaluatorHoldout: Processed 5965 (100.0%) in 2.53 sec. Users per second: 2357\n"
     ]
    },
    {
     "name": "stderr",
     "output_type": "stream",
     "text": [
      "[I 2023-07-25 02:30:33,315] Trial 10 finished with value: 0.08658867201532781 and parameters: {'cutoff': 30}. Best is trial 4 with value: 0.09395276014848535.\n"
     ]
    },
    {
     "name": "stdout",
     "output_type": "stream",
     "text": [
      "EvaluatorHoldout: Processed 5965 (100.0%) in 2.09 sec. Users per second: 2852\n"
     ]
    },
    {
     "name": "stderr",
     "output_type": "stream",
     "text": [
      "[I 2023-07-25 02:30:57,349] Trial 11 finished with value: 0.09260451176838454 and parameters: {'cutoff': 110}. Best is trial 4 with value: 0.09395276014848535.\n"
     ]
    },
    {
     "name": "stdout",
     "output_type": "stream",
     "text": [
      "EvaluatorHoldout: Processed 5965 (100.0%) in 2.06 sec. Users per second: 2892\n"
     ]
    },
    {
     "name": "stderr",
     "output_type": "stream",
     "text": [
      "[I 2023-07-25 02:31:21,361] Trial 12 finished with value: 0.09141932436567829 and parameters: {'cutoff': 76}. Best is trial 4 with value: 0.09395276014848535.\n"
     ]
    },
    {
     "name": "stdout",
     "output_type": "stream",
     "text": [
      "EvaluatorHoldout: Processed 5965 (100.0%) in 2.13 sec. Users per second: 2799\n"
     ]
    },
    {
     "name": "stderr",
     "output_type": "stream",
     "text": [
      "[I 2023-07-25 02:31:45,489] Trial 13 finished with value: 0.09349079950504945 and parameters: {'cutoff': 160}. Best is trial 4 with value: 0.09395276014848535.\n"
     ]
    },
    {
     "name": "stdout",
     "output_type": "stream",
     "text": [
      "EvaluatorHoldout: Processed 5965 (100.0%) in 2.14 sec. Users per second: 2792\n"
     ]
    },
    {
     "name": "stderr",
     "output_type": "stream",
     "text": [
      "[I 2023-07-25 02:32:09,601] Trial 14 finished with value: 0.09359393419284469 and parameters: {'cutoff': 155}. Best is trial 4 with value: 0.09395276014848535.\n"
     ]
    },
    {
     "name": "stdout",
     "output_type": "stream",
     "text": [
      "EvaluatorHoldout: Processed 5965 (100.0%) in 2.10 sec. Users per second: 2841\n"
     ]
    },
    {
     "name": "stderr",
     "output_type": "stream",
     "text": [
      "[I 2023-07-25 02:32:33,645] Trial 15 finished with value: 0.09290286592424085 and parameters: {'cutoff': 115}. Best is trial 4 with value: 0.09395276014848535.\n"
     ]
    },
    {
     "name": "stdout",
     "output_type": "stream",
     "text": [
      "EvaluatorHoldout: Processed 5965 (100.0%) in 2.43 sec. Users per second: 2455\n"
     ]
    },
    {
     "name": "stderr",
     "output_type": "stream",
     "text": [
      "[I 2023-07-25 02:32:58,023] Trial 16 finished with value: 0.09410996021767201 and parameters: {'cutoff': 183}. Best is trial 16 with value: 0.09410996021767201.\n"
     ]
    },
    {
     "name": "stdout",
     "output_type": "stream",
     "text": [
      "EvaluatorHoldout: Processed 5965 (100.0%) in 2.11 sec. Users per second: 2829\n"
     ]
    },
    {
     "name": "stderr",
     "output_type": "stream",
     "text": [
      "[I 2023-07-25 02:33:22,075] Trial 17 finished with value: 0.09188797083516302 and parameters: {'cutoff': 87}. Best is trial 16 with value: 0.09410996021767201.\n"
     ]
    },
    {
     "name": "stdout",
     "output_type": "stream",
     "text": [
      "EvaluatorHoldout: Processed 5965 (100.0%) in 2.16 sec. Users per second: 2757\n"
     ]
    },
    {
     "name": "stderr",
     "output_type": "stream",
     "text": [
      "[I 2023-07-25 02:33:46,233] Trial 18 finished with value: 0.09394188986016319 and parameters: {'cutoff': 190}. Best is trial 16 with value: 0.09410996021767201.\n"
     ]
    },
    {
     "name": "stdout",
     "output_type": "stream",
     "text": [
      "EvaluatorHoldout: Processed 5965 (100.0%) in 2.09 sec. Users per second: 2854\n"
     ]
    },
    {
     "name": "stderr",
     "output_type": "stream",
     "text": [
      "[I 2023-07-25 02:34:10,278] Trial 19 finished with value: 0.09314913716254893 and parameters: {'cutoff': 134}. Best is trial 16 with value: 0.09410996021767201.\n"
     ]
    },
    {
     "name": "stdout",
     "output_type": "stream",
     "text": [
      "EvaluatorHoldout: Processed 5965 (100.0%) in 2.01 sec. Users per second: 2962\n"
     ]
    },
    {
     "name": "stderr",
     "output_type": "stream",
     "text": [
      "[I 2023-07-25 02:34:34,194] Trial 20 finished with value: 0.08756613313109574 and parameters: {'cutoff': 34}. Best is trial 16 with value: 0.09410996021767201.\n"
     ]
    },
    {
     "name": "stdout",
     "output_type": "stream",
     "text": [
      "EvaluatorHoldout: Processed 5965 (100.0%) in 2.16 sec. Users per second: 2757\n"
     ]
    },
    {
     "name": "stderr",
     "output_type": "stream",
     "text": [
      "[I 2023-07-25 02:34:58,335] Trial 21 finished with value: 0.09385985045037869 and parameters: {'cutoff': 190}. Best is trial 16 with value: 0.09410996021767201.\n"
     ]
    },
    {
     "name": "stdout",
     "output_type": "stream",
     "text": [
      "EvaluatorHoldout: Processed 5965 (100.0%) in 2.15 sec. Users per second: 2780\n"
     ]
    },
    {
     "name": "stderr",
     "output_type": "stream",
     "text": [
      "[I 2023-07-25 02:35:22,474] Trial 22 finished with value: 0.09392906371825074 and parameters: {'cutoff': 173}. Best is trial 16 with value: 0.09410996021767201.\n"
     ]
    },
    {
     "name": "stdout",
     "output_type": "stream",
     "text": [
      "EvaluatorHoldout: Processed 5965 (100.0%) in 2.06 sec. Users per second: 2898\n"
     ]
    },
    {
     "name": "stderr",
     "output_type": "stream",
     "text": [
      "[I 2023-07-25 02:35:46,435] Trial 23 finished with value: 0.09075919051610598 and parameters: {'cutoff': 61}. Best is trial 16 with value: 0.09410996021767201.\n"
     ]
    },
    {
     "name": "stdout",
     "output_type": "stream",
     "text": [
      "EvaluatorHoldout: Processed 5965 (100.0%) in 2.14 sec. Users per second: 2784\n"
     ]
    },
    {
     "name": "stderr",
     "output_type": "stream",
     "text": [
      "[I 2023-07-25 02:36:10,574] Trial 24 finished with value: 0.09352944424486771 and parameters: {'cutoff': 177}. Best is trial 16 with value: 0.09410996021767201.\n"
     ]
    },
    {
     "name": "stdout",
     "output_type": "stream",
     "text": [
      "EvaluatorHoldout: Processed 5965 (100.0%) in 2.13 sec. Users per second: 2795\n"
     ]
    },
    {
     "name": "stderr",
     "output_type": "stream",
     "text": [
      "[I 2023-07-25 02:36:34,680] Trial 25 finished with value: 0.09368158171343424 and parameters: {'cutoff': 182}. Best is trial 16 with value: 0.09410996021767201.\n"
     ]
    },
    {
     "name": "stdout",
     "output_type": "stream",
     "text": [
      "EvaluatorHoldout: Processed 5965 (100.0%) in 2.17 sec. Users per second: 2755\n"
     ]
    },
    {
     "name": "stderr",
     "output_type": "stream",
     "text": [
      "[I 2023-07-25 02:36:58,937] Trial 26 finished with value: 0.09388895541452127 and parameters: {'cutoff': 179}. Best is trial 16 with value: 0.09410996021767201.\n"
     ]
    },
    {
     "name": "stdout",
     "output_type": "stream",
     "text": [
      "EvaluatorHoldout: Processed 5965 (100.0%) in 2.15 sec. Users per second: 2770\n"
     ]
    },
    {
     "name": "stderr",
     "output_type": "stream",
     "text": [
      "[I 2023-07-25 02:37:23,094] Trial 27 finished with value: 0.09369017682513082 and parameters: {'cutoff': 183}. Best is trial 16 with value: 0.09410996021767201.\n"
     ]
    },
    {
     "name": "stdout",
     "output_type": "stream",
     "text": [
      "EvaluatorHoldout: Processed 5965 (100.0%) in 2.07 sec. Users per second: 2881\n"
     ]
    },
    {
     "name": "stderr",
     "output_type": "stream",
     "text": [
      "[I 2023-07-25 02:37:47,090] Trial 28 finished with value: 0.09162688433853583 and parameters: {'cutoff': 73}. Best is trial 16 with value: 0.09410996021767201.\n"
     ]
    },
    {
     "name": "stdout",
     "output_type": "stream",
     "text": [
      "EvaluatorHoldout: Processed 5965 (100.0%) in 2.11 sec. Users per second: 2822\n"
     ]
    },
    {
     "name": "stderr",
     "output_type": "stream",
     "text": [
      "[I 2023-07-25 02:38:11,167] Trial 29 finished with value: 0.09311054564323656 and parameters: {'cutoff': 128}. Best is trial 16 with value: 0.09410996021767201.\n"
     ]
    },
    {
     "name": "stdout",
     "output_type": "stream",
     "text": [
      "EvaluatorHoldout: Processed 5965 (100.0%) in 2.04 sec. Users per second: 2923\n"
     ]
    },
    {
     "name": "stderr",
     "output_type": "stream",
     "text": [
      "[I 2023-07-25 02:38:35,124] Trial 30 finished with value: 0.08800646629146223 and parameters: {'cutoff': 36}. Best is trial 16 with value: 0.09410996021767201.\n"
     ]
    },
    {
     "name": "stdout",
     "output_type": "stream",
     "text": [
      "EvaluatorHoldout: Processed 5965 (100.0%) in 2.16 sec. Users per second: 2758\n"
     ]
    },
    {
     "name": "stderr",
     "output_type": "stream",
     "text": [
      "[I 2023-07-25 02:38:59,265] Trial 31 finished with value: 0.09374740882662093 and parameters: {'cutoff': 199}. Best is trial 16 with value: 0.09410996021767201.\n"
     ]
    },
    {
     "name": "stdout",
     "output_type": "stream",
     "text": [
      "EvaluatorHoldout: Processed 5965 (100.0%) in 2.14 sec. Users per second: 2787\n"
     ]
    },
    {
     "name": "stderr",
     "output_type": "stream",
     "text": [
      "[I 2023-07-25 02:39:23,388] Trial 32 finished with value: 0.09351792200534882 and parameters: {'cutoff': 159}. Best is trial 16 with value: 0.09410996021767201.\n"
     ]
    },
    {
     "name": "stdout",
     "output_type": "stream",
     "text": [
      "EvaluatorHoldout: Processed 5965 (100.0%) in 2.07 sec. Users per second: 2878\n"
     ]
    },
    {
     "name": "stderr",
     "output_type": "stream",
     "text": [
      "[I 2023-07-25 02:39:47,410] Trial 33 finished with value: 0.0917769329022474 and parameters: {'cutoff': 80}. Best is trial 16 with value: 0.09410996021767201.\n"
     ]
    },
    {
     "name": "stdout",
     "output_type": "stream",
     "text": [
      "EvaluatorHoldout: Processed 5965 (100.0%) in 2.15 sec. Users per second: 2778\n"
     ]
    },
    {
     "name": "stderr",
     "output_type": "stream",
     "text": [
      "[I 2023-07-25 02:40:11,532] Trial 34 finished with value: 0.09382745911999898 and parameters: {'cutoff': 173}. Best is trial 16 with value: 0.09410996021767201.\n"
     ]
    },
    {
     "name": "stdout",
     "output_type": "stream",
     "text": [
      "EvaluatorHoldout: Processed 5965 (100.0%) in 2.22 sec. Users per second: 2682\n"
     ]
    },
    {
     "name": "stderr",
     "output_type": "stream",
     "text": [
      "[I 2023-07-25 02:40:35,682] Trial 35 finished with value: 0.08212059101371813 and parameters: {'cutoff': 16}. Best is trial 16 with value: 0.09410996021767201.\n"
     ]
    },
    {
     "name": "stdout",
     "output_type": "stream",
     "text": [
      "EvaluatorHoldout: Processed 5965 (100.0%) in 2.09 sec. Users per second: 2854\n"
     ]
    },
    {
     "name": "stderr",
     "output_type": "stream",
     "text": [
      "[I 2023-07-25 02:40:59,712] Trial 36 finished with value: 0.09266322729147551 and parameters: {'cutoff': 104}. Best is trial 16 with value: 0.09410996021767201.\n"
     ]
    },
    {
     "name": "stdout",
     "output_type": "stream",
     "text": [
      "EvaluatorHoldout: Processed 5965 (100.0%) in 2.49 sec. Users per second: 2398\n"
     ]
    },
    {
     "name": "stderr",
     "output_type": "stream",
     "text": [
      "[I 2023-07-25 02:41:24,108] Trial 37 finished with value: 0.08634831490573348 and parameters: {'cutoff': 28}. Best is trial 16 with value: 0.09410996021767201.\n"
     ]
    },
    {
     "name": "stdout",
     "output_type": "stream",
     "text": [
      "EvaluatorHoldout: Processed 5965 (100.0%) in 2.11 sec. Users per second: 2828\n"
     ]
    },
    {
     "name": "stderr",
     "output_type": "stream",
     "text": [
      "[I 2023-07-25 02:41:48,166] Trial 38 finished with value: 0.0927792612993788 and parameters: {'cutoff': 117}. Best is trial 16 with value: 0.09410996021767201.\n"
     ]
    },
    {
     "name": "stdout",
     "output_type": "stream",
     "text": [
      "EvaluatorHoldout: Processed 5965 (100.0%) in 2.07 sec. Users per second: 2878\n"
     ]
    },
    {
     "name": "stderr",
     "output_type": "stream",
     "text": [
      "[I 2023-07-25 02:42:12,203] Trial 39 finished with value: 0.09267631953591739 and parameters: {'cutoff': 105}. Best is trial 16 with value: 0.09410996021767201.\n"
     ]
    },
    {
     "name": "stdout",
     "output_type": "stream",
     "text": [
      "EvaluatorHoldout: Processed 5965 (100.0%) in 2.14 sec. Users per second: 2790\n"
     ]
    },
    {
     "name": "stderr",
     "output_type": "stream",
     "text": [
      "[I 2023-07-25 02:42:36,289] Trial 40 finished with value: 0.09384105695924654 and parameters: {'cutoff': 170}. Best is trial 16 with value: 0.09410996021767201.\n"
     ]
    },
    {
     "name": "stdout",
     "output_type": "stream",
     "text": [
      "EvaluatorHoldout: Processed 5965 (100.0%) in 2.15 sec. Users per second: 2771\n"
     ]
    },
    {
     "name": "stderr",
     "output_type": "stream",
     "text": [
      "[I 2023-07-25 02:43:00,419] Trial 41 finished with value: 0.09370785268563994 and parameters: {'cutoff': 173}. Best is trial 16 with value: 0.09410996021767201.\n"
     ]
    },
    {
     "name": "stdout",
     "output_type": "stream",
     "text": [
      "EvaluatorHoldout: Processed 5965 (100.0%) in 2.15 sec. Users per second: 2779\n"
     ]
    },
    {
     "name": "stderr",
     "output_type": "stream",
     "text": [
      "[I 2023-07-25 02:43:24,586] Trial 42 finished with value: 0.09361437086709512 and parameters: {'cutoff': 179}. Best is trial 16 with value: 0.09410996021767201.\n"
     ]
    },
    {
     "name": "stdout",
     "output_type": "stream",
     "text": [
      "EvaluatorHoldout: Processed 5965 (100.0%) in 2.40 sec. Users per second: 2485\n"
     ]
    },
    {
     "name": "stderr",
     "output_type": "stream",
     "text": [
      "[I 2023-07-25 02:43:48,883] Trial 43 finished with value: 0.08519568514748754 and parameters: {'cutoff': 24}. Best is trial 16 with value: 0.09410996021767201.\n"
     ]
    },
    {
     "name": "stdout",
     "output_type": "stream",
     "text": [
      "EvaluatorHoldout: Processed 5965 (100.0%) in 2.07 sec. Users per second: 2877\n"
     ]
    },
    {
     "name": "stderr",
     "output_type": "stream",
     "text": [
      "[I 2023-07-25 02:44:12,885] Trial 44 finished with value: 0.09178110405939428 and parameters: {'cutoff': 77}. Best is trial 16 with value: 0.09410996021767201.\n"
     ]
    },
    {
     "name": "stdout",
     "output_type": "stream",
     "text": [
      "EvaluatorHoldout: Processed 5965 (100.0%) in 2.06 sec. Users per second: 2902\n"
     ]
    },
    {
     "name": "stderr",
     "output_type": "stream",
     "text": [
      "[I 2023-07-25 02:44:36,846] Trial 45 finished with value: 0.08996415598930273 and parameters: {'cutoff': 52}. Best is trial 16 with value: 0.09410996021767201.\n"
     ]
    },
    {
     "name": "stdout",
     "output_type": "stream",
     "text": [
      "EvaluatorHoldout: Processed 5965 (100.0%) in 2.13 sec. Users per second: 2798\n"
     ]
    },
    {
     "name": "stderr",
     "output_type": "stream",
     "text": [
      "[I 2023-07-25 02:45:00,920] Trial 46 finished with value: 0.09345307947152068 and parameters: {'cutoff': 145}. Best is trial 16 with value: 0.09410996021767201.\n"
     ]
    },
    {
     "name": "stdout",
     "output_type": "stream",
     "text": [
      "EvaluatorHoldout: Processed 5965 (100.0%) in 2.13 sec. Users per second: 2806\n"
     ]
    },
    {
     "name": "stderr",
     "output_type": "stream",
     "text": [
      "[I 2023-07-25 02:45:25,011] Trial 47 finished with value: 0.09365547040274652 and parameters: {'cutoff': 154}. Best is trial 16 with value: 0.09410996021767201.\n"
     ]
    },
    {
     "name": "stdout",
     "output_type": "stream",
     "text": [
      "EvaluatorHoldout: Processed 5965 (100.0%) in 2.30 sec. Users per second: 2593\n"
     ]
    },
    {
     "name": "stderr",
     "output_type": "stream",
     "text": [
      "[I 2023-07-25 02:45:49,198] Trial 48 finished with value: 0.08329409651538779 and parameters: {'cutoff': 18}. Best is trial 16 with value: 0.09410996021767201.\n"
     ]
    },
    {
     "name": "stdout",
     "output_type": "stream",
     "text": [
      "EvaluatorHoldout: Processed 5965 (100.0%) in 2.12 sec. Users per second: 2814\n"
     ]
    },
    {
     "name": "stderr",
     "output_type": "stream",
     "text": [
      "[I 2023-07-25 02:46:13,631] Trial 49 finished with value: 0.09346931172580815 and parameters: {'cutoff': 143}. Best is trial 16 with value: 0.09410996021767201.\n"
     ]
    },
    {
     "name": "stdout",
     "output_type": "stream",
     "text": [
      "EvaluatorHoldout: Processed 5965 (100.0%) in 2.09 sec. Users per second: 2858\n"
     ]
    },
    {
     "name": "stderr",
     "output_type": "stream",
     "text": [
      "[I 2023-07-25 02:46:37,653] A new study created in memory with name: no-name-0344c198-2600-4b6a-84b4-20eae1b6fbee\n"
     ]
    },
    {
     "name": "stdout",
     "output_type": "stream",
     "text": [
      "ItemKNNCFRecommender\n",
      "Recommender_Base_Class: URM Detected 204 ( 5.3%) items with no interactions.\n",
      "DiffusionAutoencoderRecommender_ItemKNNCFRecommender_TwoLevelRec\n",
      "EvaluatorHoldout: Processed 5965 (100.0%) in 2.15 sec. Users per second: 2775\n"
     ]
    },
    {
     "name": "stderr",
     "output_type": "stream",
     "text": [
      "[I 2023-07-25 02:46:41,250] Trial 0 finished with value: 0.08650138373315258 and parameters: {'cutoff': 76}. Best is trial 0 with value: 0.08650138373315258.\n"
     ]
    },
    {
     "name": "stdout",
     "output_type": "stream",
     "text": [
      "EvaluatorHoldout: Processed 5965 (100.0%) in 2.25 sec. Users per second: 2646\n"
     ]
    },
    {
     "name": "stderr",
     "output_type": "stream",
     "text": [
      "[I 2023-07-25 02:46:45,010] Trial 1 finished with value: 0.08455165715350159 and parameters: {'cutoff': 174}. Best is trial 0 with value: 0.08650138373315258.\n"
     ]
    },
    {
     "name": "stdout",
     "output_type": "stream",
     "text": [
      "EvaluatorHoldout: Processed 5965 (100.0%) in 2.15 sec. Users per second: 2769\n"
     ]
    },
    {
     "name": "stderr",
     "output_type": "stream",
     "text": [
      "[I 2023-07-25 02:46:48,632] Trial 2 finished with value: 0.08594152396918563 and parameters: {'cutoff': 96}. Best is trial 0 with value: 0.08650138373315258.\n"
     ]
    },
    {
     "name": "stdout",
     "output_type": "stream",
     "text": [
      "EvaluatorHoldout: Processed 5965 (100.0%) in 2.16 sec. Users per second: 2767\n"
     ]
    },
    {
     "name": "stderr",
     "output_type": "stream",
     "text": [
      "[I 2023-07-25 02:46:52,240] Trial 3 finished with value: 0.08584279327825038 and parameters: {'cutoff': 101}. Best is trial 0 with value: 0.08650138373315258.\n"
     ]
    },
    {
     "name": "stdout",
     "output_type": "stream",
     "text": [
      "EvaluatorHoldout: Processed 5965 (100.0%) in 2.16 sec. Users per second: 2757\n"
     ]
    },
    {
     "name": "stderr",
     "output_type": "stream",
     "text": [
      "[I 2023-07-25 02:46:55,866] Trial 4 finished with value: 0.08540113625780035 and parameters: {'cutoff': 113}. Best is trial 0 with value: 0.08650138373315258.\n"
     ]
    },
    {
     "name": "stdout",
     "output_type": "stream",
     "text": [
      "EvaluatorHoldout: Processed 5965 (100.0%) in 2.23 sec. Users per second: 2672\n"
     ]
    },
    {
     "name": "stderr",
     "output_type": "stream",
     "text": [
      "[I 2023-07-25 02:46:59,609] Trial 5 finished with value: 0.0843131028885433 and parameters: {'cutoff': 195}. Best is trial 0 with value: 0.08650138373315258.\n"
     ]
    },
    {
     "name": "stdout",
     "output_type": "stream",
     "text": [
      "EvaluatorHoldout: Processed 5965 (100.0%) in 2.13 sec. Users per second: 2796\n"
     ]
    },
    {
     "name": "stderr",
     "output_type": "stream",
     "text": [
      "[I 2023-07-25 02:47:03,207] Trial 6 finished with value: 0.08709873069093538 and parameters: {'cutoff': 64}. Best is trial 6 with value: 0.08709873069093538.\n"
     ]
    },
    {
     "name": "stdout",
     "output_type": "stream",
     "text": [
      "EvaluatorHoldout: Processed 5965 (100.0%) in 2.21 sec. Users per second: 2693\n"
     ]
    },
    {
     "name": "stderr",
     "output_type": "stream",
     "text": [
      "[I 2023-07-25 02:47:06,906] Trial 7 finished with value: 0.08461626019505356 and parameters: {'cutoff': 177}. Best is trial 6 with value: 0.08709873069093538.\n"
     ]
    },
    {
     "name": "stdout",
     "output_type": "stream",
     "text": [
      "EvaluatorHoldout: Processed 5965 (100.0%) in 2.22 sec. Users per second: 2693\n"
     ]
    },
    {
     "name": "stderr",
     "output_type": "stream",
     "text": [
      "[I 2023-07-25 02:47:10,606] Trial 8 finished with value: 0.08454389361220915 and parameters: {'cutoff': 168}. Best is trial 6 with value: 0.08709873069093538.\n"
     ]
    },
    {
     "name": "stdout",
     "output_type": "stream",
     "text": [
      "EvaluatorHoldout: Processed 5965 (100.0%) in 2.17 sec. Users per second: 2749\n"
     ]
    },
    {
     "name": "stderr",
     "output_type": "stream",
     "text": [
      "[I 2023-07-25 02:47:14,234] Trial 9 finished with value: 0.08577557577934805 and parameters: {'cutoff': 102}. Best is trial 6 with value: 0.08709873069093538.\n"
     ]
    },
    {
     "name": "stdout",
     "output_type": "stream",
     "text": [
      "EvaluatorHoldout: Processed 5965 (100.0%) in 2.20 sec. Users per second: 2712\n"
     ]
    },
    {
     "name": "stderr",
     "output_type": "stream",
     "text": [
      "[I 2023-07-25 02:47:17,907] Trial 10 finished with value: 0.08485288521667438 and parameters: {'cutoff': 148}. Best is trial 6 with value: 0.08709873069093538.\n"
     ]
    },
    {
     "name": "stdout",
     "output_type": "stream",
     "text": [
      "EvaluatorHoldout: Processed 5965 (100.0%) in 2.14 sec. Users per second: 2790\n"
     ]
    },
    {
     "name": "stderr",
     "output_type": "stream",
     "text": [
      "[I 2023-07-25 02:47:21,488] Trial 11 finished with value: 0.08631986854535072 and parameters: {'cutoff': 76}. Best is trial 6 with value: 0.08709873069093538.\n"
     ]
    },
    {
     "name": "stdout",
     "output_type": "stream",
     "text": [
      "EvaluatorHoldout: Processed 5965 (100.0%) in 2.62 sec. Users per second: 2277\n"
     ]
    },
    {
     "name": "stderr",
     "output_type": "stream",
     "text": [
      "[I 2023-07-25 02:47:25,518] Trial 12 finished with value: 0.08963017070477285 and parameters: {'cutoff': 31}. Best is trial 12 with value: 0.08963017070477285.\n"
     ]
    },
    {
     "name": "stdout",
     "output_type": "stream",
     "text": [
      "EvaluatorHoldout: Processed 5965 (100.0%) in 2.14 sec. Users per second: 2791\n"
     ]
    },
    {
     "name": "stderr",
     "output_type": "stream",
     "text": [
      "[I 2023-07-25 02:47:29,095] Trial 13 finished with value: 0.08692106068468199 and parameters: {'cutoff': 64}. Best is trial 12 with value: 0.08963017070477285.\n"
     ]
    },
    {
     "name": "stdout",
     "output_type": "stream",
     "text": [
      "EvaluatorHoldout: Processed 5965 (100.0%) in 2.12 sec. Users per second: 2808\n"
     ]
    },
    {
     "name": "stderr",
     "output_type": "stream",
     "text": [
      "[I 2023-07-25 02:47:32,656] Trial 14 finished with value: 0.08692909698106693 and parameters: {'cutoff': 64}. Best is trial 12 with value: 0.08963017070477285.\n"
     ]
    },
    {
     "name": "stdout",
     "output_type": "stream",
     "text": [
      "EvaluatorHoldout: Processed 5965 (100.0%) in 2.11 sec. Users per second: 2833\n"
     ]
    },
    {
     "name": "stderr",
     "output_type": "stream",
     "text": [
      "[I 2023-07-25 02:47:36,182] Trial 15 finished with value: 0.08861419124788794 and parameters: {'cutoff': 44}. Best is trial 12 with value: 0.08963017070477285.\n"
     ]
    },
    {
     "name": "stdout",
     "output_type": "stream",
     "text": [
      "EvaluatorHoldout: Processed 5965 (100.0%) in 2.11 sec. Users per second: 2826\n"
     ]
    },
    {
     "name": "stderr",
     "output_type": "stream",
     "text": [
      "[I 2023-07-25 02:47:39,710] Trial 16 finished with value: 0.08877655370614308 and parameters: {'cutoff': 44}. Best is trial 12 with value: 0.08963017070477285.\n"
     ]
    },
    {
     "name": "stdout",
     "output_type": "stream",
     "text": [
      "EvaluatorHoldout: Processed 5965 (100.0%) in 2.61 sec. Users per second: 2283\n"
     ]
    },
    {
     "name": "stderr",
     "output_type": "stream",
     "text": [
      "[I 2023-07-25 02:47:43,751] Trial 17 finished with value: 0.0897908168017141 and parameters: {'cutoff': 31}. Best is trial 17 with value: 0.0897908168017141.\n"
     ]
    },
    {
     "name": "stdout",
     "output_type": "stream",
     "text": [
      "EvaluatorHoldout: Processed 5965 (100.0%) in 2.17 sec. Users per second: 2751\n"
     ]
    },
    {
     "name": "stderr",
     "output_type": "stream",
     "text": [
      "[I 2023-07-25 02:47:47,382] Trial 18 finished with value: 0.0856121555635389 and parameters: {'cutoff': 111}. Best is trial 17 with value: 0.0897908168017141.\n"
     ]
    },
    {
     "name": "stdout",
     "output_type": "stream",
     "text": [
      "EvaluatorHoldout: Processed 5965 (100.0%) in 2.63 sec. Users per second: 2271\n"
     ]
    },
    {
     "name": "stderr",
     "output_type": "stream",
     "text": [
      "[I 2023-07-25 02:47:51,424] Trial 19 finished with value: 0.08976101997099503 and parameters: {'cutoff': 31}. Best is trial 17 with value: 0.0897908168017141.\n"
     ]
    },
    {
     "name": "stdout",
     "output_type": "stream",
     "text": [
      "EvaluatorHoldout: Processed 5965 (100.0%) in 2.13 sec. Users per second: 2795\n"
     ]
    },
    {
     "name": "stderr",
     "output_type": "stream",
     "text": [
      "[I 2023-07-25 02:47:54,998] Trial 20 finished with value: 0.08673727032025454 and parameters: {'cutoff': 73}. Best is trial 17 with value: 0.0897908168017141.\n"
     ]
    },
    {
     "name": "stdout",
     "output_type": "stream",
     "text": [
      "EvaluatorHoldout: Processed 5965 (100.0%) in 2.23 sec. Users per second: 2679\n"
     ]
    },
    {
     "name": "stderr",
     "output_type": "stream",
     "text": [
      "[I 2023-07-25 02:47:58,728] Trial 21 finished with value: 0.08429297223220147 and parameters: {'cutoff': 197}. Best is trial 17 with value: 0.0897908168017141.\n"
     ]
    },
    {
     "name": "stdout",
     "output_type": "stream",
     "text": [
      "EvaluatorHoldout: Processed 5965 (100.0%) in 2.21 sec. Users per second: 2695\n"
     ]
    },
    {
     "name": "stderr",
     "output_type": "stream",
     "text": [
      "[I 2023-07-25 02:48:02,466] Trial 22 finished with value: 0.08449879588605527 and parameters: {'cutoff': 183}. Best is trial 17 with value: 0.0897908168017141.\n"
     ]
    },
    {
     "name": "stdout",
     "output_type": "stream",
     "text": [
      "EvaluatorHoldout: Processed 5965 (100.0%) in 2.19 sec. Users per second: 2723\n"
     ]
    },
    {
     "name": "stderr",
     "output_type": "stream",
     "text": [
      "[I 2023-07-25 02:48:06,135] Trial 23 finished with value: 0.08515364760042073 and parameters: {'cutoff': 131}. Best is trial 17 with value: 0.0897908168017141.\n"
     ]
    },
    {
     "name": "stdout",
     "output_type": "stream",
     "text": [
      "EvaluatorHoldout: Processed 5965 (100.0%) in 2.60 sec. Users per second: 2290\n"
     ]
    },
    {
     "name": "stderr",
     "output_type": "stream",
     "text": [
      "[I 2023-07-25 02:48:10,162] Trial 24 finished with value: 0.0898740470203172 and parameters: {'cutoff': 31}. Best is trial 24 with value: 0.0898740470203172.\n"
     ]
    },
    {
     "name": "stdout",
     "output_type": "stream",
     "text": [
      "EvaluatorHoldout: Processed 5965 (100.0%) in 2.50 sec. Users per second: 2387\n"
     ]
    },
    {
     "name": "stderr",
     "output_type": "stream",
     "text": [
      "[I 2023-07-25 02:48:14,071] Trial 25 finished with value: 0.09085535997019668 and parameters: {'cutoff': 25}. Best is trial 25 with value: 0.09085535997019668.\n"
     ]
    },
    {
     "name": "stdout",
     "output_type": "stream",
     "text": [
      "EvaluatorHoldout: Processed 5965 (100.0%) in 2.16 sec. Users per second: 2764\n"
     ]
    },
    {
     "name": "stderr",
     "output_type": "stream",
     "text": [
      "[I 2023-07-25 02:48:17,688] Trial 26 finished with value: 0.08544585478785006 and parameters: {'cutoff': 115}. Best is trial 25 with value: 0.09085535997019668.\n"
     ]
    },
    {
     "name": "stdout",
     "output_type": "stream",
     "text": [
      "EvaluatorHoldout: Processed 5965 (100.0%) in 2.20 sec. Users per second: 2705\n"
     ]
    },
    {
     "name": "stderr",
     "output_type": "stream",
     "text": [
      "[I 2023-07-25 02:48:21,384] Trial 27 finished with value: 0.08470348195159634 and parameters: {'cutoff': 163}. Best is trial 25 with value: 0.09085535997019668.\n"
     ]
    },
    {
     "name": "stdout",
     "output_type": "stream",
     "text": [
      "EvaluatorHoldout: Processed 5965 (100.0%) in 2.49 sec. Users per second: 2392\n"
     ]
    },
    {
     "name": "stderr",
     "output_type": "stream",
     "text": [
      "[I 2023-07-25 02:48:25,291] Trial 28 finished with value: 0.09065408001703065 and parameters: {'cutoff': 25}. Best is trial 25 with value: 0.09085535997019668.\n"
     ]
    },
    {
     "name": "stdout",
     "output_type": "stream",
     "text": [
      "EvaluatorHoldout: Processed 5965 (100.0%) in 2.34 sec. Users per second: 2551\n"
     ]
    },
    {
     "name": "stderr",
     "output_type": "stream",
     "text": [
      "[I 2023-07-25 02:48:29,065] Trial 29 finished with value: 0.0921018906584708 and parameters: {'cutoff': 18}. Best is trial 29 with value: 0.0921018906584708.\n"
     ]
    },
    {
     "name": "stdout",
     "output_type": "stream",
     "text": [
      "EvaluatorHoldout: Processed 5965 (100.0%) in 2.69 sec. Users per second: 2215\n"
     ]
    },
    {
     "name": "stderr",
     "output_type": "stream",
     "text": [
      "[I 2023-07-25 02:48:33,181] Trial 30 finished with value: 0.09067568754241036 and parameters: {'cutoff': 25}. Best is trial 29 with value: 0.0921018906584708.\n"
     ]
    },
    {
     "name": "stdout",
     "output_type": "stream",
     "text": [
      "EvaluatorHoldout: Processed 5965 (100.0%) in 2.36 sec. Users per second: 2532\n"
     ]
    },
    {
     "name": "stderr",
     "output_type": "stream",
     "text": [
      "[I 2023-07-25 02:48:36,962] Trial 31 finished with value: 0.09236569805346002 and parameters: {'cutoff': 18}. Best is trial 31 with value: 0.09236569805346002.\n"
     ]
    },
    {
     "name": "stdout",
     "output_type": "stream",
     "text": [
      "EvaluatorHoldout: Processed 5965 (100.0%) in 2.49 sec. Users per second: 2394\n"
     ]
    },
    {
     "name": "stderr",
     "output_type": "stream",
     "text": [
      "[I 2023-07-25 02:48:40,882] Trial 32 finished with value: 0.09064519884511542 and parameters: {'cutoff': 25}. Best is trial 31 with value: 0.09236569805346002.\n"
     ]
    },
    {
     "name": "stdout",
     "output_type": "stream",
     "text": [
      "EvaluatorHoldout: Processed 5965 (100.0%) in 2.36 sec. Users per second: 2524\n"
     ]
    },
    {
     "name": "stderr",
     "output_type": "stream",
     "text": [
      "[I 2023-07-25 02:48:44,656] Trial 33 finished with value: 0.09209549754520423 and parameters: {'cutoff': 18}. Best is trial 31 with value: 0.09236569805346002.\n"
     ]
    },
    {
     "name": "stdout",
     "output_type": "stream",
     "text": [
      "EvaluatorHoldout: Processed 5965 (100.0%) in 2.17 sec. Users per second: 2744\n"
     ]
    },
    {
     "name": "stderr",
     "output_type": "stream",
     "text": [
      "[I 2023-07-25 02:48:48,292] Trial 34 finished with value: 0.08558973642544498 and parameters: {'cutoff': 112}. Best is trial 31 with value: 0.09236569805346002.\n"
     ]
    },
    {
     "name": "stdout",
     "output_type": "stream",
     "text": [
      "EvaluatorHoldout: Processed 5965 (100.0%) in 2.38 sec. Users per second: 2504\n"
     ]
    },
    {
     "name": "stderr",
     "output_type": "stream",
     "text": [
      "[I 2023-07-25 02:48:52,104] Trial 35 finished with value: 0.09205250202903205 and parameters: {'cutoff': 18}. Best is trial 31 with value: 0.09236569805346002.\n"
     ]
    },
    {
     "name": "stdout",
     "output_type": "stream",
     "text": [
      "EvaluatorHoldout: Processed 5965 (100.0%) in 2.15 sec. Users per second: 2773\n"
     ]
    },
    {
     "name": "stderr",
     "output_type": "stream",
     "text": [
      "[I 2023-07-25 02:48:55,703] Trial 36 finished with value: 0.08615926901635229 and parameters: {'cutoff': 87}. Best is trial 31 with value: 0.09236569805346002.\n"
     ]
    },
    {
     "name": "stdout",
     "output_type": "stream",
     "text": [
      "EvaluatorHoldout: Processed 5965 (100.0%) in 2.34 sec. Users per second: 2547\n"
     ]
    },
    {
     "name": "stderr",
     "output_type": "stream",
     "text": [
      "[I 2023-07-25 02:48:59,454] Trial 37 finished with value: 0.09244914780664992 and parameters: {'cutoff': 18}. Best is trial 37 with value: 0.09244914780664992.\n"
     ]
    },
    {
     "name": "stdout",
     "output_type": "stream",
     "text": [
      "EvaluatorHoldout: Processed 5965 (100.0%) in 2.36 sec. Users per second: 2523\n"
     ]
    },
    {
     "name": "stderr",
     "output_type": "stream",
     "text": [
      "[I 2023-07-25 02:49:03,251] Trial 38 finished with value: 0.09270342873109014 and parameters: {'cutoff': 18}. Best is trial 38 with value: 0.09270342873109014.\n"
     ]
    },
    {
     "name": "stdout",
     "output_type": "stream",
     "text": [
      "EvaluatorHoldout: Processed 5965 (100.0%) in 2.22 sec. Users per second: 2690\n"
     ]
    },
    {
     "name": "stderr",
     "output_type": "stream",
     "text": [
      "[I 2023-07-25 02:49:06,958] Trial 39 finished with value: 0.08444679279926597 and parameters: {'cutoff': 173}. Best is trial 38 with value: 0.09270342873109014.\n"
     ]
    },
    {
     "name": "stdout",
     "output_type": "stream",
     "text": [
      "EvaluatorHoldout: Processed 5965 (100.0%) in 2.18 sec. Users per second: 2742\n"
     ]
    },
    {
     "name": "stderr",
     "output_type": "stream",
     "text": [
      "[I 2023-07-25 02:49:10,612] Trial 40 finished with value: 0.08502757487459953 and parameters: {'cutoff': 139}. Best is trial 38 with value: 0.09270342873109014.\n"
     ]
    },
    {
     "name": "stdout",
     "output_type": "stream",
     "text": [
      "EvaluatorHoldout: Processed 5965 (100.0%) in 2.34 sec. Users per second: 2550\n"
     ]
    },
    {
     "name": "stderr",
     "output_type": "stream",
     "text": [
      "[I 2023-07-25 02:49:14,372] Trial 41 finished with value: 0.0931934498862414 and parameters: {'cutoff': 17}. Best is trial 41 with value: 0.0931934498862414.\n"
     ]
    },
    {
     "name": "stdout",
     "output_type": "stream",
     "text": [
      "EvaluatorHoldout: Processed 5965 (100.0%) in 2.16 sec. Users per second: 2767\n"
     ]
    },
    {
     "name": "stderr",
     "output_type": "stream",
     "text": [
      "[I 2023-07-25 02:49:17,977] Trial 42 finished with value: 0.08587916949400635 and parameters: {'cutoff': 100}. Best is trial 41 with value: 0.0931934498862414.\n"
     ]
    },
    {
     "name": "stdout",
     "output_type": "stream",
     "text": [
      "EvaluatorHoldout: Processed 5965 (100.0%) in 2.33 sec. Users per second: 2556\n"
     ]
    },
    {
     "name": "stderr",
     "output_type": "stream",
     "text": [
      "[I 2023-07-25 02:49:21,725] Trial 43 finished with value: 0.09301424313788113 and parameters: {'cutoff': 17}. Best is trial 41 with value: 0.0931934498862414.\n"
     ]
    },
    {
     "name": "stdout",
     "output_type": "stream",
     "text": [
      "EvaluatorHoldout: Processed 5965 (100.0%) in 2.14 sec. Users per second: 2787\n"
     ]
    },
    {
     "name": "stderr",
     "output_type": "stream",
     "text": [
      "[I 2023-07-25 02:49:25,307] Trial 44 finished with value: 0.0860941869902477 and parameters: {'cutoff': 90}. Best is trial 41 with value: 0.0931934498862414.\n"
     ]
    },
    {
     "name": "stdout",
     "output_type": "stream",
     "text": [
      "EvaluatorHoldout: Processed 5965 (100.0%) in 2.23 sec. Users per second: 2670\n"
     ]
    },
    {
     "name": "stderr",
     "output_type": "stream",
     "text": [
      "[I 2023-07-25 02:49:28,947] Trial 45 finished with value: 0.09388671350071182 and parameters: {'cutoff': 13}. Best is trial 45 with value: 0.09388671350071182.\n"
     ]
    },
    {
     "name": "stdout",
     "output_type": "stream",
     "text": [
      "EvaluatorHoldout: Processed 5965 (100.0%) in 2.25 sec. Users per second: 2649\n"
     ]
    },
    {
     "name": "stderr",
     "output_type": "stream",
     "text": [
      "[I 2023-07-25 02:49:32,620] Trial 46 finished with value: 0.09334363815378062 and parameters: {'cutoff': 13}. Best is trial 45 with value: 0.09388671350071182.\n"
     ]
    },
    {
     "name": "stdout",
     "output_type": "stream",
     "text": [
      "EvaluatorHoldout: Processed 5965 (100.0%) in 2.12 sec. Users per second: 2813\n"
     ]
    },
    {
     "name": "stderr",
     "output_type": "stream",
     "text": [
      "[I 2023-07-25 02:49:36,173] Trial 47 finished with value: 0.08675203901063094 and parameters: {'cutoff': 69}. Best is trial 45 with value: 0.09388671350071182.\n"
     ]
    },
    {
     "name": "stdout",
     "output_type": "stream",
     "text": [
      "EvaluatorHoldout: Processed 5965 (100.0%) in 2.24 sec. Users per second: 2665\n"
     ]
    },
    {
     "name": "stderr",
     "output_type": "stream",
     "text": [
      "[I 2023-07-25 02:49:39,826] Trial 48 finished with value: 0.09400966617437706 and parameters: {'cutoff': 13}. Best is trial 48 with value: 0.09400966617437706.\n"
     ]
    },
    {
     "name": "stdout",
     "output_type": "stream",
     "text": [
      "EvaluatorHoldout: Processed 5965 (100.0%) in 2.20 sec. Users per second: 2711\n"
     ]
    },
    {
     "name": "stderr",
     "output_type": "stream",
     "text": [
      "[I 2023-07-25 02:49:43,483] Trial 49 finished with value: 0.0853128101757611 and parameters: {'cutoff': 126}. Best is trial 48 with value: 0.09400966617437706.\n"
     ]
    },
    {
     "name": "stdout",
     "output_type": "stream",
     "text": [
      "EvaluatorHoldout: Processed 5965 (100.0%) in 2.25 sec. Users per second: 2651\n"
     ]
    },
    {
     "name": "stderr",
     "output_type": "stream",
     "text": [
      "[I 2023-07-25 02:49:47,136] A new study created in memory with name: no-name-0e1ab0fa-1b2d-4b17-9901-aa6fe2c98b5f\n"
     ]
    },
    {
     "name": "stdout",
     "output_type": "stream",
     "text": [
      "ItemKNNCFRecommender\n",
      "Recommender_Base_Class: URM Detected 204 ( 5.3%) items with no interactions.\n",
      "DiffusionAutoencoderRecommender_ItemKNNCFRecommender_TwoLevelRec\n",
      "EvaluatorHoldout: Processed 5965 (100.0%) in 2.18 sec. Users per second: 2739\n"
     ]
    },
    {
     "name": "stderr",
     "output_type": "stream",
     "text": [
      "[I 2023-07-25 02:50:32,572] Trial 0 finished with value: 0.07002563232613579 and parameters: {'cutoff': 147}. Best is trial 0 with value: 0.07002563232613579.\n"
     ]
    },
    {
     "name": "stdout",
     "output_type": "stream",
     "text": [
      "EvaluatorHoldout: Processed 5965 (100.0%) in 2.11 sec. Users per second: 2823\n"
     ]
    },
    {
     "name": "stderr",
     "output_type": "stream",
     "text": [
      "[I 2023-07-25 02:51:17,958] Trial 1 finished with value: 0.0630702643728633 and parameters: {'cutoff': 58}. Best is trial 0 with value: 0.07002563232613579.\n"
     ]
    },
    {
     "name": "stdout",
     "output_type": "stream",
     "text": [
      "EvaluatorHoldout: Processed 5965 (100.0%) in 2.16 sec. Users per second: 2757\n"
     ]
    },
    {
     "name": "stderr",
     "output_type": "stream",
     "text": [
      "[I 2023-07-25 02:52:03,367] Trial 2 finished with value: 0.06897309038172439 and parameters: {'cutoff': 119}. Best is trial 0 with value: 0.07002563232613579.\n"
     ]
    },
    {
     "name": "stdout",
     "output_type": "stream",
     "text": [
      "EvaluatorHoldout: Processed 5965 (100.0%) in 2.52 sec. Users per second: 2367\n"
     ]
    },
    {
     "name": "stderr",
     "output_type": "stream",
     "text": [
      "[I 2023-07-25 02:52:49,150] Trial 3 finished with value: 0.05426858393539063 and parameters: {'cutoff': 27}. Best is trial 0 with value: 0.07002563232613579.\n"
     ]
    },
    {
     "name": "stdout",
     "output_type": "stream",
     "text": [
      "EvaluatorHoldout: Processed 5965 (100.0%) in 2.11 sec. Users per second: 2821\n"
     ]
    },
    {
     "name": "stderr",
     "output_type": "stream",
     "text": [
      "[I 2023-07-25 02:53:34,496] Trial 4 finished with value: 0.06430959698771972 and parameters: {'cutoff': 76}. Best is trial 0 with value: 0.07002563232613579.\n"
     ]
    },
    {
     "name": "stdout",
     "output_type": "stream",
     "text": [
      "EvaluatorHoldout: Processed 5965 (100.0%) in 2.22 sec. Users per second: 2692\n"
     ]
    },
    {
     "name": "stderr",
     "output_type": "stream",
     "text": [
      "[I 2023-07-25 02:54:20,076] Trial 5 finished with value: 0.07042356870102091 and parameters: {'cutoff': 154}. Best is trial 5 with value: 0.07042356870102091.\n"
     ]
    },
    {
     "name": "stdout",
     "output_type": "stream",
     "text": [
      "EvaluatorHoldout: Processed 5965 (100.0%) in 2.22 sec. Users per second: 2688\n"
     ]
    },
    {
     "name": "stderr",
     "output_type": "stream",
     "text": [
      "[I 2023-07-25 02:55:05,600] Trial 6 finished with value: 0.07227620777285533 and parameters: {'cutoff': 190}. Best is trial 6 with value: 0.07227620777285533.\n"
     ]
    },
    {
     "name": "stdout",
     "output_type": "stream",
     "text": [
      "EvaluatorHoldout: Processed 5965 (100.0%) in 2.46 sec. Users per second: 2428\n"
     ]
    },
    {
     "name": "stderr",
     "output_type": "stream",
     "text": [
      "[I 2023-07-25 02:55:51,414] Trial 7 finished with value: 0.05310252930454135 and parameters: {'cutoff': 24}. Best is trial 6 with value: 0.07227620777285533.\n"
     ]
    },
    {
     "name": "stdout",
     "output_type": "stream",
     "text": [
      "EvaluatorHoldout: Processed 5965 (100.0%) in 2.48 sec. Users per second: 2402\n"
     ]
    },
    {
     "name": "stderr",
     "output_type": "stream",
     "text": [
      "[I 2023-07-25 02:56:37,155] Trial 8 finished with value: 0.05310583562846794 and parameters: {'cutoff': 26}. Best is trial 6 with value: 0.07227620777285533.\n"
     ]
    },
    {
     "name": "stdout",
     "output_type": "stream",
     "text": [
      "EvaluatorHoldout: Processed 5965 (100.0%) in 2.24 sec. Users per second: 2667\n"
     ]
    },
    {
     "name": "stderr",
     "output_type": "stream",
     "text": [
      "[I 2023-07-25 02:57:22,712] Trial 9 finished with value: 0.07246424912518827 and parameters: {'cutoff': 193}. Best is trial 9 with value: 0.07246424912518827.\n"
     ]
    },
    {
     "name": "stdout",
     "output_type": "stream",
     "text": [
      "EvaluatorHoldout: Processed 5965 (100.0%) in 2.19 sec. Users per second: 2724\n"
     ]
    },
    {
     "name": "stderr",
     "output_type": "stream",
     "text": [
      "[I 2023-07-25 02:58:08,146] Trial 10 finished with value: 0.07027219627722604 and parameters: {'cutoff': 148}. Best is trial 9 with value: 0.07246424912518827.\n"
     ]
    },
    {
     "name": "stdout",
     "output_type": "stream",
     "text": [
      "EvaluatorHoldout: Processed 5965 (100.0%) in 2.36 sec. Users per second: 2530\n"
     ]
    },
    {
     "name": "stderr",
     "output_type": "stream",
     "text": [
      "[I 2023-07-25 02:58:53,732] Trial 11 finished with value: 0.06362056440346518 and parameters: {'cutoff': 61}. Best is trial 9 with value: 0.07246424912518827.\n"
     ]
    },
    {
     "name": "stdout",
     "output_type": "stream",
     "text": [
      "EvaluatorHoldout: Processed 5965 (100.0%) in 2.32 sec. Users per second: 2569\n"
     ]
    },
    {
     "name": "stderr",
     "output_type": "stream",
     "text": [
      "[I 2023-07-25 02:59:39,267] Trial 12 finished with value: 0.049509799225641825 and parameters: {'cutoff': 18}. Best is trial 9 with value: 0.07246424912518827.\n"
     ]
    },
    {
     "name": "stdout",
     "output_type": "stream",
     "text": [
      "EvaluatorHoldout: Processed 5965 (100.0%) in 2.19 sec. Users per second: 2724\n"
     ]
    },
    {
     "name": "stderr",
     "output_type": "stream",
     "text": [
      "[I 2023-07-25 03:00:24,762] Trial 13 finished with value: 0.06967060498410084 and parameters: {'cutoff': 140}. Best is trial 9 with value: 0.07246424912518827.\n"
     ]
    },
    {
     "name": "stdout",
     "output_type": "stream",
     "text": [
      "EvaluatorHoldout: Processed 5965 (100.0%) in 2.18 sec. Users per second: 2737\n"
     ]
    },
    {
     "name": "stderr",
     "output_type": "stream",
     "text": [
      "[I 2023-07-25 03:01:10,259] Trial 14 finished with value: 0.07015183810322166 and parameters: {'cutoff': 142}. Best is trial 9 with value: 0.07246424912518827.\n"
     ]
    },
    {
     "name": "stdout",
     "output_type": "stream",
     "text": [
      "EvaluatorHoldout: Processed 5965 (100.0%) in 2.23 sec. Users per second: 2671\n"
     ]
    },
    {
     "name": "stderr",
     "output_type": "stream",
     "text": [
      "[I 2023-07-25 03:01:55,811] Trial 15 finished with value: 0.0733815045437009 and parameters: {'cutoff': 197}. Best is trial 15 with value: 0.0733815045437009.\n"
     ]
    },
    {
     "name": "stdout",
     "output_type": "stream",
     "text": [
      "EvaluatorHoldout: Processed 5965 (100.0%) in 2.18 sec. Users per second: 2733\n"
     ]
    },
    {
     "name": "stderr",
     "output_type": "stream",
     "text": [
      "[I 2023-07-25 03:02:41,304] Trial 16 finished with value: 0.07119012360462529 and parameters: {'cutoff': 143}. Best is trial 15 with value: 0.0733815045437009.\n"
     ]
    },
    {
     "name": "stdout",
     "output_type": "stream",
     "text": [
      "EvaluatorHoldout: Processed 5965 (100.0%) in 2.19 sec. Users per second: 2722\n"
     ]
    },
    {
     "name": "stderr",
     "output_type": "stream",
     "text": [
      "[I 2023-07-25 03:03:26,788] Trial 17 finished with value: 0.06952590508122819 and parameters: {'cutoff': 135}. Best is trial 15 with value: 0.0733815045437009.\n"
     ]
    },
    {
     "name": "stdout",
     "output_type": "stream",
     "text": [
      "EvaluatorHoldout: Processed 5965 (100.0%) in 2.20 sec. Users per second: 2707\n"
     ]
    },
    {
     "name": "stderr",
     "output_type": "stream",
     "text": [
      "[I 2023-07-25 03:04:12,262] Trial 18 finished with value: 0.07325324312457615 and parameters: {'cutoff': 193}. Best is trial 15 with value: 0.0733815045437009.\n"
     ]
    },
    {
     "name": "stdout",
     "output_type": "stream",
     "text": [
      "EvaluatorHoldout: Processed 5965 (100.0%) in 2.23 sec. Users per second: 2679\n"
     ]
    },
    {
     "name": "stderr",
     "output_type": "stream",
     "text": [
      "[I 2023-07-25 03:04:57,693] Trial 19 finished with value: 0.04702559906331917 and parameters: {'cutoff': 14}. Best is trial 15 with value: 0.0733815045437009.\n"
     ]
    },
    {
     "name": "stdout",
     "output_type": "stream",
     "text": [
      "EvaluatorHoldout: Processed 5965 (100.0%) in 2.21 sec. Users per second: 2704\n"
     ]
    },
    {
     "name": "stderr",
     "output_type": "stream",
     "text": [
      "[I 2023-07-25 03:05:43,187] Trial 20 finished with value: 0.07238571561622735 and parameters: {'cutoff': 197}. Best is trial 15 with value: 0.0733815045437009.\n"
     ]
    },
    {
     "name": "stdout",
     "output_type": "stream",
     "text": [
      "EvaluatorHoldout: Processed 5965 (100.0%) in 2.59 sec. Users per second: 2307\n"
     ]
    },
    {
     "name": "stderr",
     "output_type": "stream",
     "text": [
      "[I 2023-07-25 03:06:29,035] Trial 21 finished with value: 0.053899286845221654 and parameters: {'cutoff': 29}. Best is trial 15 with value: 0.0733815045437009.\n"
     ]
    },
    {
     "name": "stdout",
     "output_type": "stream",
     "text": [
      "EvaluatorHoldout: Processed 5965 (100.0%) in 2.21 sec. Users per second: 2693\n"
     ]
    },
    {
     "name": "stderr",
     "output_type": "stream",
     "text": [
      "[I 2023-07-25 03:07:14,550] Trial 22 finished with value: 0.07329758245852175 and parameters: {'cutoff': 193}. Best is trial 15 with value: 0.0733815045437009.\n"
     ]
    },
    {
     "name": "stdout",
     "output_type": "stream",
     "text": [
      "EvaluatorHoldout: Processed 5965 (100.0%) in 2.22 sec. Users per second: 2692\n"
     ]
    },
    {
     "name": "stderr",
     "output_type": "stream",
     "text": [
      "[I 2023-07-25 03:08:00,042] Trial 23 finished with value: 0.0718447025638982 and parameters: {'cutoff': 193}. Best is trial 15 with value: 0.0733815045437009.\n"
     ]
    },
    {
     "name": "stdout",
     "output_type": "stream",
     "text": [
      "EvaluatorHoldout: Processed 5965 (100.0%) in 2.12 sec. Users per second: 2815\n"
     ]
    },
    {
     "name": "stderr",
     "output_type": "stream",
     "text": [
      "[I 2023-07-25 03:08:45,413] Trial 24 finished with value: 0.06398558389547518 and parameters: {'cutoff': 73}. Best is trial 15 with value: 0.0733815045437009.\n"
     ]
    },
    {
     "name": "stdout",
     "output_type": "stream",
     "text": [
      "EvaluatorHoldout: Processed 5965 (100.0%) in 2.13 sec. Users per second: 2807\n"
     ]
    },
    {
     "name": "stderr",
     "output_type": "stream",
     "text": [
      "[I 2023-07-25 03:09:30,784] Trial 25 finished with value: 0.0674115608243861 and parameters: {'cutoff': 91}. Best is trial 15 with value: 0.0733815045437009.\n"
     ]
    },
    {
     "name": "stdout",
     "output_type": "stream",
     "text": [
      "EvaluatorHoldout: Processed 5965 (100.0%) in 2.22 sec. Users per second: 2686\n"
     ]
    },
    {
     "name": "stderr",
     "output_type": "stream",
     "text": [
      "[I 2023-07-25 03:10:16,315] Trial 26 finished with value: 0.07249137827805079 and parameters: {'cutoff': 193}. Best is trial 15 with value: 0.0733815045437009.\n"
     ]
    },
    {
     "name": "stdout",
     "output_type": "stream",
     "text": [
      "EvaluatorHoldout: Processed 5965 (100.0%) in 2.23 sec. Users per second: 2679\n"
     ]
    },
    {
     "name": "stderr",
     "output_type": "stream",
     "text": [
      "[I 2023-07-25 03:11:01,863] Trial 27 finished with value: 0.07243761891456826 and parameters: {'cutoff': 197}. Best is trial 15 with value: 0.0733815045437009.\n"
     ]
    },
    {
     "name": "stdout",
     "output_type": "stream",
     "text": [
      "EvaluatorHoldout: Processed 5965 (100.0%) in 2.13 sec. Users per second: 2798\n"
     ]
    },
    {
     "name": "stderr",
     "output_type": "stream",
     "text": [
      "[I 2023-07-25 03:11:47,233] Trial 28 finished with value: 0.06495566731861807 and parameters: {'cutoff': 79}. Best is trial 15 with value: 0.0733815045437009.\n"
     ]
    },
    {
     "name": "stdout",
     "output_type": "stream",
     "text": [
      "EvaluatorHoldout: Processed 5965 (100.0%) in 2.18 sec. Users per second: 2734\n"
     ]
    },
    {
     "name": "stderr",
     "output_type": "stream",
     "text": [
      "[I 2023-07-25 03:12:32,666] Trial 29 finished with value: 0.0696491704253653 and parameters: {'cutoff': 133}. Best is trial 15 with value: 0.0733815045437009.\n"
     ]
    },
    {
     "name": "stdout",
     "output_type": "stream",
     "text": [
      "EvaluatorHoldout: Processed 5965 (100.0%) in 2.11 sec. Users per second: 2832\n"
     ]
    },
    {
     "name": "stderr",
     "output_type": "stream",
     "text": [
      "[I 2023-07-25 03:13:18,027] Trial 30 finished with value: 0.06341953724770186 and parameters: {'cutoff': 60}. Best is trial 15 with value: 0.0733815045437009.\n"
     ]
    },
    {
     "name": "stdout",
     "output_type": "stream",
     "text": [
      "EvaluatorHoldout: Processed 5965 (100.0%) in 2.12 sec. Users per second: 2810\n"
     ]
    },
    {
     "name": "stderr",
     "output_type": "stream",
     "text": [
      "[I 2023-07-25 03:14:03,428] Trial 31 finished with value: 0.06635217339240847 and parameters: {'cutoff': 84}. Best is trial 15 with value: 0.0733815045437009.\n"
     ]
    },
    {
     "name": "stdout",
     "output_type": "stream",
     "text": [
      "EvaluatorHoldout: Processed 5965 (100.0%) in 2.18 sec. Users per second: 2731\n"
     ]
    },
    {
     "name": "stderr",
     "output_type": "stream",
     "text": [
      "[I 2023-07-25 03:14:48,957] Trial 32 finished with value: 0.07148809191181396 and parameters: {'cutoff': 172}. Best is trial 15 with value: 0.0733815045437009.\n"
     ]
    },
    {
     "name": "stdout",
     "output_type": "stream",
     "text": [
      "EvaluatorHoldout: Processed 5965 (100.0%) in 2.23 sec. Users per second: 2679\n"
     ]
    },
    {
     "name": "stderr",
     "output_type": "stream",
     "text": [
      "[I 2023-07-25 03:15:34,487] Trial 33 finished with value: 0.07249133836267137 and parameters: {'cutoff': 193}. Best is trial 15 with value: 0.0733815045437009.\n"
     ]
    },
    {
     "name": "stdout",
     "output_type": "stream",
     "text": [
      "EvaluatorHoldout: Processed 5965 (100.0%) in 2.60 sec. Users per second: 2297\n"
     ]
    },
    {
     "name": "stderr",
     "output_type": "stream",
     "text": [
      "[I 2023-07-25 03:16:20,356] Trial 34 finished with value: 0.05571122553519901 and parameters: {'cutoff': 31}. Best is trial 15 with value: 0.0733815045437009.\n"
     ]
    },
    {
     "name": "stdout",
     "output_type": "stream",
     "text": [
      "EvaluatorHoldout: Processed 5965 (100.0%) in 2.19 sec. Users per second: 2728\n"
     ]
    },
    {
     "name": "stderr",
     "output_type": "stream",
     "text": [
      "[I 2023-07-25 03:17:05,796] Trial 35 finished with value: 0.06987535092271098 and parameters: {'cutoff': 132}. Best is trial 15 with value: 0.0733815045437009.\n"
     ]
    },
    {
     "name": "stdout",
     "output_type": "stream",
     "text": [
      "EvaluatorHoldout: Processed 5965 (100.0%) in 2.12 sec. Users per second: 2809\n"
     ]
    },
    {
     "name": "stderr",
     "output_type": "stream",
     "text": [
      "[I 2023-07-25 03:17:51,207] Trial 36 finished with value: 0.06660870288322132 and parameters: {'cutoff': 87}. Best is trial 15 with value: 0.0733815045437009.\n"
     ]
    },
    {
     "name": "stdout",
     "output_type": "stream",
     "text": [
      "EvaluatorHoldout: Processed 5965 (100.0%) in 2.18 sec. Users per second: 2731\n"
     ]
    },
    {
     "name": "stderr",
     "output_type": "stream",
     "text": [
      "[I 2023-07-25 03:18:36,716] Trial 37 finished with value: 0.07211548184515525 and parameters: {'cutoff': 167}. Best is trial 15 with value: 0.0733815045437009.\n"
     ]
    },
    {
     "name": "stdout",
     "output_type": "stream",
     "text": [
      "EvaluatorHoldout: Processed 5965 (100.0%) in 2.20 sec. Users per second: 2707\n"
     ]
    },
    {
     "name": "stderr",
     "output_type": "stream",
     "text": [
      "[I 2023-07-25 03:19:22,218] Trial 38 finished with value: 0.0721420787929593 and parameters: {'cutoff': 183}. Best is trial 15 with value: 0.0733815045437009.\n"
     ]
    },
    {
     "name": "stdout",
     "output_type": "stream",
     "text": [
      "EvaluatorHoldout: Processed 5965 (100.0%) in 2.06 sec. Users per second: 2890\n"
     ]
    },
    {
     "name": "stderr",
     "output_type": "stream",
     "text": [
      "[I 2023-07-25 03:20:07,546] Trial 39 finished with value: 0.0571450724464139 and parameters: {'cutoff': 34}. Best is trial 15 with value: 0.0733815045437009.\n"
     ]
    },
    {
     "name": "stdout",
     "output_type": "stream",
     "text": [
      "EvaluatorHoldout: Processed 5965 (100.0%) in 2.47 sec. Users per second: 2418\n"
     ]
    },
    {
     "name": "stderr",
     "output_type": "stream",
     "text": [
      "[I 2023-07-25 03:20:53,210] Trial 40 finished with value: 0.053826740643169946 and parameters: {'cutoff': 25}. Best is trial 15 with value: 0.0733815045437009.\n"
     ]
    },
    {
     "name": "stdout",
     "output_type": "stream",
     "text": [
      "EvaluatorHoldout: Processed 5965 (100.0%) in 2.22 sec. Users per second: 2690\n"
     ]
    },
    {
     "name": "stderr",
     "output_type": "stream",
     "text": [
      "[I 2023-07-25 03:21:38,698] Trial 41 finished with value: 0.07120732713314491 and parameters: {'cutoff': 193}. Best is trial 15 with value: 0.0733815045437009.\n"
     ]
    },
    {
     "name": "stdout",
     "output_type": "stream",
     "text": [
      "EvaluatorHoldout: Processed 5965 (100.0%) in 2.17 sec. Users per second: 2744\n"
     ]
    },
    {
     "name": "stderr",
     "output_type": "stream",
     "text": [
      "[I 2023-07-25 03:22:24,163] Trial 42 finished with value: 0.07034210141167428 and parameters: {'cutoff': 146}. Best is trial 15 with value: 0.0733815045437009.\n"
     ]
    },
    {
     "name": "stdout",
     "output_type": "stream",
     "text": [
      "EvaluatorHoldout: Processed 5965 (100.0%) in 2.11 sec. Users per second: 2834\n"
     ]
    },
    {
     "name": "stderr",
     "output_type": "stream",
     "text": [
      "[I 2023-07-25 03:23:09,531] Trial 43 finished with value: 0.062308652323740735 and parameters: {'cutoff': 55}. Best is trial 15 with value: 0.0733815045437009.\n"
     ]
    },
    {
     "name": "stdout",
     "output_type": "stream",
     "text": [
      "EvaluatorHoldout: Processed 5965 (100.0%) in 2.23 sec. Users per second: 2677\n"
     ]
    },
    {
     "name": "stderr",
     "output_type": "stream",
     "text": [
      "[I 2023-07-25 03:23:55,484] Trial 44 finished with value: 0.07209016884205524 and parameters: {'cutoff': 193}. Best is trial 15 with value: 0.0733815045437009.\n"
     ]
    },
    {
     "name": "stdout",
     "output_type": "stream",
     "text": [
      "EvaluatorHoldout: Processed 5965 (100.0%) in 2.16 sec. Users per second: 2756\n"
     ]
    },
    {
     "name": "stderr",
     "output_type": "stream",
     "text": [
      "[I 2023-07-25 03:24:41,031] Trial 45 finished with value: 0.06872256150294759 and parameters: {'cutoff': 117}. Best is trial 15 with value: 0.0733815045437009.\n"
     ]
    },
    {
     "name": "stdout",
     "output_type": "stream",
     "text": [
      "EvaluatorHoldout: Processed 5965 (100.0%) in 2.19 sec. Users per second: 2719\n"
     ]
    },
    {
     "name": "stderr",
     "output_type": "stream",
     "text": [
      "[I 2023-07-25 03:25:26,551] Trial 46 finished with value: 0.07094234888702644 and parameters: {'cutoff': 156}. Best is trial 15 with value: 0.0733815045437009.\n"
     ]
    },
    {
     "name": "stdout",
     "output_type": "stream",
     "text": [
      "EvaluatorHoldout: Processed 5965 (100.0%) in 2.07 sec. Users per second: 2876\n"
     ]
    },
    {
     "name": "stderr",
     "output_type": "stream",
     "text": [
      "[I 2023-07-25 03:26:11,853] Trial 47 finished with value: 0.05824239279394393 and parameters: {'cutoff': 38}. Best is trial 15 with value: 0.0733815045437009.\n"
     ]
    },
    {
     "name": "stdout",
     "output_type": "stream",
     "text": [
      "EvaluatorHoldout: Processed 5965 (100.0%) in 2.15 sec. Users per second: 2774\n"
     ]
    },
    {
     "name": "stderr",
     "output_type": "stream",
     "text": [
      "[I 2023-07-25 03:26:57,311] Trial 48 finished with value: 0.06805462419670308 and parameters: {'cutoff': 111}. Best is trial 15 with value: 0.0733815045437009.\n"
     ]
    },
    {
     "name": "stdout",
     "output_type": "stream",
     "text": [
      "EvaluatorHoldout: Processed 5965 (100.0%) in 2.18 sec. Users per second: 2733\n"
     ]
    },
    {
     "name": "stderr",
     "output_type": "stream",
     "text": [
      "[I 2023-07-25 03:27:42,786] Trial 49 finished with value: 0.07051007863329782 and parameters: {'cutoff': 161}. Best is trial 15 with value: 0.0733815045437009.\n"
     ]
    },
    {
     "name": "stdout",
     "output_type": "stream",
     "text": [
      "EvaluatorHoldout: Processed 5965 (100.0%) in 2.24 sec. Users per second: 2664\n"
     ]
    },
    {
     "name": "stderr",
     "output_type": "stream",
     "text": [
      "[I 2023-07-25 03:28:28,235] A new study created in memory with name: no-name-2ab57feb-bd6a-4940-b70a-aeb5478c8083\n"
     ]
    },
    {
     "name": "stdout",
     "output_type": "stream",
     "text": [
      "ItemKNNCFRecommender\n",
      "Recommender_Base_Class: URM Detected 204 ( 5.3%) items with no interactions.\n",
      "DiffusionAutoencoderRecommender_ItemKNNCFRecommender_TwoLevelRec\n",
      "EvaluatorHoldout: Processed 5965 (100.0%) in 2.17 sec. Users per second: 2747\n"
     ]
    },
    {
     "name": "stderr",
     "output_type": "stream",
     "text": [
      "[I 2023-07-25 03:28:35,283] Trial 0 finished with value: 0.08547038278848867 and parameters: {'cutoff': 111}. Best is trial 0 with value: 0.08547038278848867.\n"
     ]
    },
    {
     "name": "stdout",
     "output_type": "stream",
     "text": [
      "EvaluatorHoldout: Processed 5965 (100.0%) in 2.19 sec. Users per second: 2721\n"
     ]
    },
    {
     "name": "stderr",
     "output_type": "stream",
     "text": [
      "[I 2023-07-25 03:28:42,363] Trial 1 finished with value: 0.0853007490786203 and parameters: {'cutoff': 136}. Best is trial 0 with value: 0.08547038278848867.\n"
     ]
    },
    {
     "name": "stdout",
     "output_type": "stream",
     "text": [
      "EvaluatorHoldout: Processed 5965 (100.0%) in 2.23 sec. Users per second: 2675\n"
     ]
    },
    {
     "name": "stderr",
     "output_type": "stream",
     "text": [
      "[I 2023-07-25 03:28:49,490] Trial 2 finished with value: 0.08472281430035021 and parameters: {'cutoff': 198}. Best is trial 0 with value: 0.08547038278848867.\n"
     ]
    },
    {
     "name": "stdout",
     "output_type": "stream",
     "text": [
      "EvaluatorHoldout: Processed 5965 (100.0%) in 2.12 sec. Users per second: 2813\n"
     ]
    },
    {
     "name": "stderr",
     "output_type": "stream",
     "text": [
      "[I 2023-07-25 03:28:56,457] Trial 3 finished with value: 0.08699578227491074 and parameters: {'cutoff': 54}. Best is trial 3 with value: 0.08699578227491074.\n"
     ]
    },
    {
     "name": "stdout",
     "output_type": "stream",
     "text": [
      "EvaluatorHoldout: Processed 5965 (100.0%) in 2.19 sec. Users per second: 2723\n"
     ]
    },
    {
     "name": "stderr",
     "output_type": "stream",
     "text": [
      "[I 2023-07-25 03:29:03,555] Trial 4 finished with value: 0.08514644287443973 and parameters: {'cutoff': 162}. Best is trial 3 with value: 0.08699578227491074.\n"
     ]
    },
    {
     "name": "stdout",
     "output_type": "stream",
     "text": [
      "EvaluatorHoldout: Processed 5965 (100.0%) in 2.17 sec. Users per second: 2751\n"
     ]
    },
    {
     "name": "stderr",
     "output_type": "stream",
     "text": [
      "[I 2023-07-25 03:29:10,593] Trial 5 finished with value: 0.08532867653907082 and parameters: {'cutoff': 121}. Best is trial 3 with value: 0.08699578227491074.\n"
     ]
    },
    {
     "name": "stdout",
     "output_type": "stream",
     "text": [
      "EvaluatorHoldout: Processed 5965 (100.0%) in 2.12 sec. Users per second: 2810\n"
     ]
    },
    {
     "name": "stderr",
     "output_type": "stream",
     "text": [
      "[I 2023-07-25 03:29:17,559] Trial 6 finished with value: 0.08670155936082187 and parameters: {'cutoff': 65}. Best is trial 3 with value: 0.08699578227491074.\n"
     ]
    },
    {
     "name": "stdout",
     "output_type": "stream",
     "text": [
      "EvaluatorHoldout: Processed 5965 (100.0%) in 2.22 sec. Users per second: 2686\n"
     ]
    },
    {
     "name": "stderr",
     "output_type": "stream",
     "text": [
      "[I 2023-07-25 03:29:24,669] Trial 7 finished with value: 0.08516813023057816 and parameters: {'cutoff': 175}. Best is trial 3 with value: 0.08699578227491074.\n"
     ]
    },
    {
     "name": "stdout",
     "output_type": "stream",
     "text": [
      "EvaluatorHoldout: Processed 5965 (100.0%) in 2.18 sec. Users per second: 2733\n"
     ]
    },
    {
     "name": "stderr",
     "output_type": "stream",
     "text": [
      "[I 2023-07-25 03:29:31,719] Trial 8 finished with value: 0.08535763514682237 and parameters: {'cutoff': 128}. Best is trial 3 with value: 0.08699578227491074.\n"
     ]
    },
    {
     "name": "stdout",
     "output_type": "stream",
     "text": [
      "EvaluatorHoldout: Processed 5965 (100.0%) in 2.11 sec. Users per second: 2828\n"
     ]
    },
    {
     "name": "stderr",
     "output_type": "stream",
     "text": [
      "[I 2023-07-25 03:29:38,676] Trial 9 finished with value: 0.08757539349911536 and parameters: {'cutoff': 51}. Best is trial 9 with value: 0.08757539349911536.\n"
     ]
    },
    {
     "name": "stdout",
     "output_type": "stream",
     "text": [
      "EvaluatorHoldout: Processed 5965 (100.0%) in 2.14 sec. Users per second: 2787\n"
     ]
    },
    {
     "name": "stderr",
     "output_type": "stream",
     "text": [
      "[I 2023-07-25 03:29:45,666] Trial 10 finished with value: 0.0863449952766803 and parameters: {'cutoff': 86}. Best is trial 9 with value: 0.08757539349911536.\n"
     ]
    },
    {
     "name": "stdout",
     "output_type": "stream",
     "text": [
      "EvaluatorHoldout: Processed 5965 (100.0%) in 2.24 sec. Users per second: 2669\n"
     ]
    },
    {
     "name": "stderr",
     "output_type": "stream",
     "text": [
      "[I 2023-07-25 03:29:52,796] Trial 11 finished with value: 0.08486736119426846 and parameters: {'cutoff': 191}. Best is trial 9 with value: 0.08757539349911536.\n"
     ]
    },
    {
     "name": "stdout",
     "output_type": "stream",
     "text": [
      "EvaluatorHoldout: Processed 5965 (100.0%) in 2.21 sec. Users per second: 2696\n"
     ]
    },
    {
     "name": "stderr",
     "output_type": "stream",
     "text": [
      "[I 2023-07-25 03:29:59,903] Trial 12 finished with value: 0.08504160513045707 and parameters: {'cutoff': 166}. Best is trial 9 with value: 0.08757539349911536.\n"
     ]
    },
    {
     "name": "stdout",
     "output_type": "stream",
     "text": [
      "EvaluatorHoldout: Processed 5965 (100.0%) in 2.19 sec. Users per second: 2721\n"
     ]
    },
    {
     "name": "stderr",
     "output_type": "stream",
     "text": [
      "[I 2023-07-25 03:30:06,994] Trial 13 finished with value: 0.08519645019225933 and parameters: {'cutoff': 151}. Best is trial 9 with value: 0.08757539349911536.\n"
     ]
    },
    {
     "name": "stdout",
     "output_type": "stream",
     "text": [
      "EvaluatorHoldout: Processed 5965 (100.0%) in 2.12 sec. Users per second: 2810\n"
     ]
    },
    {
     "name": "stderr",
     "output_type": "stream",
     "text": [
      "[I 2023-07-25 03:30:13,965] Trial 14 finished with value: 0.0867759217126361 and parameters: {'cutoff': 73}. Best is trial 9 with value: 0.08757539349911536.\n"
     ]
    },
    {
     "name": "stdout",
     "output_type": "stream",
     "text": [
      "EvaluatorHoldout: Processed 5965 (100.0%) in 2.12 sec. Users per second: 2807\n"
     ]
    },
    {
     "name": "stderr",
     "output_type": "stream",
     "text": [
      "[I 2023-07-25 03:30:20,933] Trial 15 finished with value: 0.08754600247475379 and parameters: {'cutoff': 51}. Best is trial 9 with value: 0.08757539349911536.\n"
     ]
    },
    {
     "name": "stdout",
     "output_type": "stream",
     "text": [
      "EvaluatorHoldout: Processed 5965 (100.0%) in 2.13 sec. Users per second: 2796\n"
     ]
    },
    {
     "name": "stderr",
     "output_type": "stream",
     "text": [
      "[I 2023-07-25 03:30:27,916] Trial 16 finished with value: 0.08610278210194419 and parameters: {'cutoff': 93}. Best is trial 9 with value: 0.08757539349911536.\n"
     ]
    },
    {
     "name": "stdout",
     "output_type": "stream",
     "text": [
      "EvaluatorHoldout: Processed 5965 (100.0%) in 2.11 sec. Users per second: 2826\n"
     ]
    },
    {
     "name": "stderr",
     "output_type": "stream",
     "text": [
      "[I 2023-07-25 03:30:34,856] Trial 17 finished with value: 0.0873413097566495 and parameters: {'cutoff': 51}. Best is trial 9 with value: 0.08757539349911536.\n"
     ]
    },
    {
     "name": "stdout",
     "output_type": "stream",
     "text": [
      "EvaluatorHoldout: Processed 5965 (100.0%) in 2.15 sec. Users per second: 2774\n"
     ]
    },
    {
     "name": "stderr",
     "output_type": "stream",
     "text": [
      "[I 2023-07-25 03:30:41,859] Trial 18 finished with value: 0.08575466677310793 and parameters: {'cutoff': 95}. Best is trial 9 with value: 0.08757539349911536.\n"
     ]
    },
    {
     "name": "stdout",
     "output_type": "stream",
     "text": [
      "EvaluatorHoldout: Processed 5965 (100.0%) in 2.12 sec. Users per second: 2820\n"
     ]
    },
    {
     "name": "stderr",
     "output_type": "stream",
     "text": [
      "[I 2023-07-25 03:30:48,804] Trial 19 finished with value: 0.08729641160739247 and parameters: {'cutoff': 51}. Best is trial 9 with value: 0.08757539349911536.\n"
     ]
    },
    {
     "name": "stdout",
     "output_type": "stream",
     "text": [
      "EvaluatorHoldout: Processed 5965 (100.0%) in 2.15 sec. Users per second: 2771\n"
     ]
    },
    {
     "name": "stderr",
     "output_type": "stream",
     "text": [
      "[I 2023-07-25 03:30:55,806] Trial 20 finished with value: 0.08563951755611465 and parameters: {'cutoff': 102}. Best is trial 9 with value: 0.08757539349911536.\n"
     ]
    },
    {
     "name": "stdout",
     "output_type": "stream",
     "text": [
      "EvaluatorHoldout: Processed 5965 (100.0%) in 2.35 sec. Users per second: 2539\n"
     ]
    },
    {
     "name": "stderr",
     "output_type": "stream",
     "text": [
      "[I 2023-07-25 03:31:02,989] Trial 21 finished with value: 0.09014139357894632 and parameters: {'cutoff': 18}. Best is trial 21 with value: 0.09014139357894632.\n"
     ]
    },
    {
     "name": "stdout",
     "output_type": "stream",
     "text": [
      "EvaluatorHoldout: Processed 5965 (100.0%) in 2.13 sec. Users per second: 2798\n"
     ]
    },
    {
     "name": "stderr",
     "output_type": "stream",
     "text": [
      "[I 2023-07-25 03:31:09,963] Trial 22 finished with value: 0.08659256376481876 and parameters: {'cutoff': 71}. Best is trial 21 with value: 0.09014139357894632.\n"
     ]
    },
    {
     "name": "stdout",
     "output_type": "stream",
     "text": [
      "EvaluatorHoldout: Processed 5965 (100.0%) in 2.18 sec. Users per second: 2730\n"
     ]
    },
    {
     "name": "stderr",
     "output_type": "stream",
     "text": [
      "[I 2023-07-25 03:31:17,024] Trial 23 finished with value: 0.08543191101531451 and parameters: {'cutoff': 135}. Best is trial 21 with value: 0.09014139357894632.\n"
     ]
    },
    {
     "name": "stdout",
     "output_type": "stream",
     "text": [
      "EvaluatorHoldout: Processed 5965 (100.0%) in 2.15 sec. Users per second: 2775\n"
     ]
    },
    {
     "name": "stderr",
     "output_type": "stream",
     "text": [
      "[I 2023-07-25 03:31:24,040] Trial 24 finished with value: 0.08601840764246492 and parameters: {'cutoff': 91}. Best is trial 21 with value: 0.09014139357894632.\n"
     ]
    },
    {
     "name": "stdout",
     "output_type": "stream",
     "text": [
      "EvaluatorHoldout: Processed 5965 (100.0%) in 2.43 sec. Users per second: 2452\n"
     ]
    },
    {
     "name": "stderr",
     "output_type": "stream",
     "text": [
      "[I 2023-07-25 03:31:31,284] Trial 25 finished with value: 0.08988187708724166 and parameters: {'cutoff': 10}. Best is trial 21 with value: 0.09014139357894632.\n"
     ]
    },
    {
     "name": "stdout",
     "output_type": "stream",
     "text": [
      "EvaluatorHoldout: Processed 5965 (100.0%) in 2.35 sec. Users per second: 2535\n"
     ]
    },
    {
     "name": "stderr",
     "output_type": "stream",
     "text": [
      "[I 2023-07-25 03:31:38,447] Trial 26 finished with value: 0.09033975305685299 and parameters: {'cutoff': 18}. Best is trial 26 with value: 0.09033975305685299.\n"
     ]
    },
    {
     "name": "stdout",
     "output_type": "stream",
     "text": [
      "EvaluatorHoldout: Processed 5965 (100.0%) in 2.13 sec. Users per second: 2797\n"
     ]
    },
    {
     "name": "stderr",
     "output_type": "stream",
     "text": [
      "[I 2023-07-25 03:31:45,416] Trial 27 finished with value: 0.08701001876022847 and parameters: {'cutoff': 61}. Best is trial 26 with value: 0.09033975305685299.\n"
     ]
    },
    {
     "name": "stdout",
     "output_type": "stream",
     "text": [
      "EvaluatorHoldout: Processed 5965 (100.0%) in 2.21 sec. Users per second: 2705\n"
     ]
    },
    {
     "name": "stderr",
     "output_type": "stream",
     "text": [
      "[I 2023-07-25 03:31:52,523] Trial 28 finished with value: 0.08499575566465782 and parameters: {'cutoff': 173}. Best is trial 26 with value: 0.09033975305685299.\n"
     ]
    },
    {
     "name": "stdout",
     "output_type": "stream",
     "text": [
      "EvaluatorHoldout: Processed 5965 (100.0%) in 2.13 sec. Users per second: 2797\n"
     ]
    },
    {
     "name": "stderr",
     "output_type": "stream",
     "text": [
      "[I 2023-07-25 03:31:59,517] Trial 29 finished with value: 0.0861770912332525 and parameters: {'cutoff': 83}. Best is trial 26 with value: 0.09033975305685299.\n"
     ]
    },
    {
     "name": "stdout",
     "output_type": "stream",
     "text": [
      "EvaluatorHoldout: Processed 5965 (100.0%) in 2.34 sec. Users per second: 2547\n"
     ]
    },
    {
     "name": "stderr",
     "output_type": "stream",
     "text": [
      "[I 2023-07-25 03:32:06,686] Trial 30 finished with value: 0.09023417022578827 and parameters: {'cutoff': 18}. Best is trial 26 with value: 0.09033975305685299.\n"
     ]
    },
    {
     "name": "stdout",
     "output_type": "stream",
     "text": [
      "EvaluatorHoldout: Processed 5965 (100.0%) in 2.36 sec. Users per second: 2529\n"
     ]
    },
    {
     "name": "stderr",
     "output_type": "stream",
     "text": [
      "[I 2023-07-25 03:32:13,852] Trial 31 finished with value: 0.09007993054724012 and parameters: {'cutoff': 18}. Best is trial 26 with value: 0.09033975305685299.\n"
     ]
    },
    {
     "name": "stdout",
     "output_type": "stream",
     "text": [
      "EvaluatorHoldout: Processed 5965 (100.0%) in 2.22 sec. Users per second: 2681\n"
     ]
    },
    {
     "name": "stderr",
     "output_type": "stream",
     "text": [
      "[I 2023-07-25 03:32:20,963] Trial 32 finished with value: 0.08501888662701768 and parameters: {'cutoff': 172}. Best is trial 26 with value: 0.09033975305685299.\n"
     ]
    },
    {
     "name": "stdout",
     "output_type": "stream",
     "text": [
      "EvaluatorHoldout: Processed 5965 (100.0%) in 2.12 sec. Users per second: 2817\n"
     ]
    },
    {
     "name": "stderr",
     "output_type": "stream",
     "text": [
      "[I 2023-07-25 03:32:27,943] Trial 33 finished with value: 0.08648044146409632 and parameters: {'cutoff': 75}. Best is trial 26 with value: 0.09033975305685299.\n"
     ]
    },
    {
     "name": "stdout",
     "output_type": "stream",
     "text": [
      "EvaluatorHoldout: Processed 5965 (100.0%) in 2.28 sec. Users per second: 2617\n"
     ]
    },
    {
     "name": "stderr",
     "output_type": "stream",
     "text": [
      "[I 2023-07-25 03:32:35,045] Trial 34 finished with value: 0.09047543208398202 and parameters: {'cutoff': 15}. Best is trial 34 with value: 0.09047543208398202.\n"
     ]
    },
    {
     "name": "stdout",
     "output_type": "stream",
     "text": [
      "EvaluatorHoldout: Processed 5965 (100.0%) in 2.14 sec. Users per second: 2793\n"
     ]
    },
    {
     "name": "stderr",
     "output_type": "stream",
     "text": [
      "[I 2023-07-25 03:32:42,034] Trial 35 finished with value: 0.08602468766215653 and parameters: {'cutoff': 87}. Best is trial 34 with value: 0.09047543208398202.\n"
     ]
    },
    {
     "name": "stdout",
     "output_type": "stream",
     "text": [
      "EvaluatorHoldout: Processed 5965 (100.0%) in 2.24 sec. Users per second: 2664\n"
     ]
    },
    {
     "name": "stderr",
     "output_type": "stream",
     "text": [
      "[I 2023-07-25 03:32:49,161] Trial 36 finished with value: 0.08516439149004137 and parameters: {'cutoff': 156}. Best is trial 34 with value: 0.09047543208398202.\n"
     ]
    },
    {
     "name": "stdout",
     "output_type": "stream",
     "text": [
      "EvaluatorHoldout: Processed 5965 (100.0%) in 2.35 sec. Users per second: 2538\n"
     ]
    },
    {
     "name": "stderr",
     "output_type": "stream",
     "text": [
      "[I 2023-07-25 03:32:56,349] Trial 37 finished with value: 0.09015559014888477 and parameters: {'cutoff': 18}. Best is trial 34 with value: 0.09047543208398202.\n"
     ]
    },
    {
     "name": "stdout",
     "output_type": "stream",
     "text": [
      "EvaluatorHoldout: Processed 5965 (100.0%) in 2.30 sec. Users per second: 2597\n"
     ]
    },
    {
     "name": "stderr",
     "output_type": "stream",
     "text": [
      "[I 2023-07-25 03:33:03,489] Trial 38 finished with value: 0.0900141566545591 and parameters: {'cutoff': 15}. Best is trial 34 with value: 0.09047543208398202.\n"
     ]
    },
    {
     "name": "stdout",
     "output_type": "stream",
     "text": [
      "EvaluatorHoldout: Processed 5965 (100.0%) in 2.34 sec. Users per second: 2547\n"
     ]
    },
    {
     "name": "stderr",
     "output_type": "stream",
     "text": [
      "[I 2023-07-25 03:33:10,653] Trial 39 finished with value: 0.08995596668396351 and parameters: {'cutoff': 18}. Best is trial 34 with value: 0.09047543208398202.\n"
     ]
    },
    {
     "name": "stdout",
     "output_type": "stream",
     "text": [
      "EvaluatorHoldout: Processed 5965 (100.0%) in 2.20 sec. Users per second: 2713\n"
     ]
    },
    {
     "name": "stderr",
     "output_type": "stream",
     "text": [
      "[I 2023-07-25 03:33:17,657] Trial 40 finished with value: 0.09010816402559915 and parameters: {'cutoff': 11}. Best is trial 34 with value: 0.09047543208398202.\n"
     ]
    },
    {
     "name": "stdout",
     "output_type": "stream",
     "text": [
      "EvaluatorHoldout: Processed 5965 (100.0%) in 2.11 sec. Users per second: 2826\n"
     ]
    },
    {
     "name": "stderr",
     "output_type": "stream",
     "text": [
      "[I 2023-07-25 03:33:24,606] Trial 41 finished with value: 0.087816874891896 and parameters: {'cutoff': 47}. Best is trial 34 with value: 0.09047543208398202.\n"
     ]
    },
    {
     "name": "stdout",
     "output_type": "stream",
     "text": [
      "EvaluatorHoldout: Processed 5965 (100.0%) in 2.35 sec. Users per second: 2542\n"
     ]
    },
    {
     "name": "stderr",
     "output_type": "stream",
     "text": [
      "[I 2023-07-25 03:33:31,798] Trial 42 finished with value: 0.09045630596468832 and parameters: {'cutoff': 18}. Best is trial 34 with value: 0.09047543208398202.\n"
     ]
    },
    {
     "name": "stdout",
     "output_type": "stream",
     "text": [
      "EvaluatorHoldout: Processed 5965 (100.0%) in 2.39 sec. Users per second: 2500\n"
     ]
    },
    {
     "name": "stderr",
     "output_type": "stream",
     "text": [
      "[I 2023-07-25 03:33:39,001] Trial 43 finished with value: 0.090124462805519 and parameters: {'cutoff': 18}. Best is trial 34 with value: 0.09047543208398202.\n"
     ]
    },
    {
     "name": "stdout",
     "output_type": "stream",
     "text": [
      "EvaluatorHoldout: Processed 5965 (100.0%) in 2.14 sec. Users per second: 2781\n"
     ]
    },
    {
     "name": "stderr",
     "output_type": "stream",
     "text": [
      "[I 2023-07-25 03:33:46,049] Trial 44 finished with value: 0.08609394749797127 and parameters: {'cutoff': 88}. Best is trial 34 with value: 0.09047543208398202.\n"
     ]
    },
    {
     "name": "stdout",
     "output_type": "stream",
     "text": [
      "EvaluatorHoldout: Processed 5965 (100.0%) in 2.27 sec. Users per second: 2629\n"
     ]
    },
    {
     "name": "stderr",
     "output_type": "stream",
     "text": [
      "[I 2023-07-25 03:33:53,157] Trial 45 finished with value: 0.09012527441823356 and parameters: {'cutoff': 14}. Best is trial 34 with value: 0.09047543208398202.\n"
     ]
    },
    {
     "name": "stdout",
     "output_type": "stream",
     "text": [
      "EvaluatorHoldout: Processed 5965 (100.0%) in 2.16 sec. Users per second: 2767\n"
     ]
    },
    {
     "name": "stderr",
     "output_type": "stream",
     "text": [
      "[I 2023-07-25 03:34:00,189] Trial 46 finished with value: 0.08576423315903647 and parameters: {'cutoff': 96}. Best is trial 34 with value: 0.09047543208398202.\n"
     ]
    },
    {
     "name": "stdout",
     "output_type": "stream",
     "text": [
      "EvaluatorHoldout: Processed 5965 (100.0%) in 2.20 sec. Users per second: 2712\n"
     ]
    },
    {
     "name": "stderr",
     "output_type": "stream",
     "text": [
      "[I 2023-07-25 03:34:07,300] Trial 47 finished with value: 0.08526924253915062 and parameters: {'cutoff': 140}. Best is trial 34 with value: 0.09047543208398202.\n"
     ]
    },
    {
     "name": "stdout",
     "output_type": "stream",
     "text": [
      "EvaluatorHoldout: Processed 5965 (100.0%) in 2.19 sec. Users per second: 2721\n"
     ]
    },
    {
     "name": "stderr",
     "output_type": "stream",
     "text": [
      "[I 2023-07-25 03:34:14,383] Trial 48 finished with value: 0.08526858393539057 and parameters: {'cutoff': 145}. Best is trial 34 with value: 0.09047543208398202.\n"
     ]
    },
    {
     "name": "stdout",
     "output_type": "stream",
     "text": [
      "EvaluatorHoldout: Processed 5965 (100.0%) in 2.15 sec. Users per second: 2778\n"
     ]
    },
    {
     "name": "stderr",
     "output_type": "stream",
     "text": [
      "[I 2023-07-25 03:34:21,386] Trial 49 finished with value: 0.0857530036322998 and parameters: {'cutoff': 100}. Best is trial 34 with value: 0.09047543208398202.\n"
     ]
    },
    {
     "name": "stdout",
     "output_type": "stream",
     "text": [
      "EvaluatorHoldout: Processed 5965 (100.0%) in 2.29 sec. Users per second: 2601\n"
     ]
    },
    {
     "name": "stderr",
     "output_type": "stream",
     "text": [
      "[I 2023-07-25 03:34:28,487] A new study created in memory with name: no-name-e23a926a-6f60-4d56-95d0-210b4664d467\n"
     ]
    },
    {
     "name": "stdout",
     "output_type": "stream",
     "text": [
      "ItemKNNCFRecommender\n",
      "Recommender_Base_Class: URM Detected 204 ( 5.3%) items with no interactions.\n",
      "DiffusionAutoencoderRecommender_ItemKNNCFRecommender_TwoLevelRec\n",
      "EvaluatorHoldout: Processed 5965 (100.0%) in 2.15 sec. Users per second: 2770\n"
     ]
    },
    {
     "name": "stderr",
     "output_type": "stream",
     "text": [
      "[I 2023-07-25 03:34:52,536] Trial 0 finished with value: 0.08316569539243497 and parameters: {'cutoff': 101}. Best is trial 0 with value: 0.08316569539243497.\n"
     ]
    },
    {
     "name": "stdout",
     "output_type": "stream",
     "text": [
      "EvaluatorHoldout: Processed 5965 (100.0%) in 2.11 sec. Users per second: 2823\n"
     ]
    },
    {
     "name": "stderr",
     "output_type": "stream",
     "text": [
      "[I 2023-07-25 03:35:16,545] Trial 1 finished with value: 0.0825903750715154 and parameters: {'cutoff': 55}. Best is trial 0 with value: 0.08316569539243497.\n"
     ]
    },
    {
     "name": "stdout",
     "output_type": "stream",
     "text": [
      "EvaluatorHoldout: Processed 5965 (100.0%) in 2.17 sec. Users per second: 2744\n"
     ]
    },
    {
     "name": "stderr",
     "output_type": "stream",
     "text": [
      "[I 2023-07-25 03:35:40,647] Trial 2 finished with value: 0.08353707473489558 and parameters: {'cutoff': 138}. Best is trial 2 with value: 0.08353707473489558.\n"
     ]
    },
    {
     "name": "stdout",
     "output_type": "stream",
     "text": [
      "EvaluatorHoldout: Processed 5965 (100.0%) in 2.21 sec. Users per second: 2694\n"
     ]
    },
    {
     "name": "stderr",
     "output_type": "stream",
     "text": [
      "[I 2023-07-25 03:36:04,824] Trial 3 finished with value: 0.08354721324126213 and parameters: {'cutoff': 169}. Best is trial 3 with value: 0.08354721324126213.\n"
     ]
    },
    {
     "name": "stdout",
     "output_type": "stream",
     "text": [
      "EvaluatorHoldout: Processed 5965 (100.0%) in 2.24 sec. Users per second: 2669\n"
     ]
    },
    {
     "name": "stderr",
     "output_type": "stream",
     "text": [
      "[I 2023-07-25 03:36:29,023] Trial 4 finished with value: 0.08335995023882724 and parameters: {'cutoff': 192}. Best is trial 3 with value: 0.08354721324126213.\n"
     ]
    },
    {
     "name": "stdout",
     "output_type": "stream",
     "text": [
      "EvaluatorHoldout: Processed 5965 (100.0%) in 2.16 sec. Users per second: 2767\n"
     ]
    },
    {
     "name": "stderr",
     "output_type": "stream",
     "text": [
      "[I 2023-07-25 03:36:53,098] Trial 5 finished with value: 0.08272621376016195 and parameters: {'cutoff': 94}. Best is trial 3 with value: 0.08354721324126213.\n"
     ]
    },
    {
     "name": "stdout",
     "output_type": "stream",
     "text": [
      "EvaluatorHoldout: Processed 5965 (100.0%) in 2.12 sec. Users per second: 2809\n"
     ]
    },
    {
     "name": "stderr",
     "output_type": "stream",
     "text": [
      "[I 2023-07-25 03:37:17,293] Trial 6 finished with value: 0.08247722827605498 and parameters: {'cutoff': 61}. Best is trial 3 with value: 0.08354721324126213.\n"
     ]
    },
    {
     "name": "stdout",
     "output_type": "stream",
     "text": [
      "EvaluatorHoldout: Processed 5965 (100.0%) in 2.13 sec. Users per second: 2806\n"
     ]
    },
    {
     "name": "stderr",
     "output_type": "stream",
     "text": [
      "[I 2023-07-25 03:37:41,288] Trial 7 finished with value: 0.08285653082132552 and parameters: {'cutoff': 66}. Best is trial 3 with value: 0.08354721324126213.\n"
     ]
    },
    {
     "name": "stdout",
     "output_type": "stream",
     "text": [
      "EvaluatorHoldout: Processed 5965 (100.0%) in 2.42 sec. Users per second: 2462\n"
     ]
    },
    {
     "name": "stderr",
     "output_type": "stream",
     "text": [
      "[I 2023-07-25 03:38:05,564] Trial 8 finished with value: 0.07910519698239775 and parameters: {'cutoff': 22}. Best is trial 3 with value: 0.08354721324126213.\n"
     ]
    },
    {
     "name": "stdout",
     "output_type": "stream",
     "text": [
      "EvaluatorHoldout: Processed 5965 (100.0%) in 2.18 sec. Users per second: 2738\n"
     ]
    },
    {
     "name": "stderr",
     "output_type": "stream",
     "text": [
      "[I 2023-07-25 03:38:29,747] Trial 9 finished with value: 0.08321322795673197 and parameters: {'cutoff': 126}. Best is trial 3 with value: 0.08354721324126213.\n"
     ]
    },
    {
     "name": "stdout",
     "output_type": "stream",
     "text": [
      "EvaluatorHoldout: Processed 5965 (100.0%) in 2.22 sec. Users per second: 2690\n"
     ]
    },
    {
     "name": "stderr",
     "output_type": "stream",
     "text": [
      "[I 2023-07-25 03:38:53,942] Trial 10 finished with value: 0.08344836945675194 and parameters: {'cutoff': 169}. Best is trial 3 with value: 0.08354721324126213.\n"
     ]
    },
    {
     "name": "stdout",
     "output_type": "stream",
     "text": [
      "EvaluatorHoldout: Processed 5965 (100.0%) in 2.20 sec. Users per second: 2708\n"
     ]
    },
    {
     "name": "stderr",
     "output_type": "stream",
     "text": [
      "[I 2023-07-25 03:39:18,113] Trial 11 finished with value: 0.08335664391490054 and parameters: {'cutoff': 138}. Best is trial 3 with value: 0.08354721324126213.\n"
     ]
    },
    {
     "name": "stdout",
     "output_type": "stream",
     "text": [
      "EvaluatorHoldout: Processed 5965 (100.0%) in 2.18 sec. Users per second: 2736\n"
     ]
    },
    {
     "name": "stderr",
     "output_type": "stream",
     "text": [
      "[I 2023-07-25 03:39:42,248] Trial 12 finished with value: 0.0831572932050721 and parameters: {'cutoff': 118}. Best is trial 3 with value: 0.08354721324126213.\n"
     ]
    },
    {
     "name": "stdout",
     "output_type": "stream",
     "text": [
      "EvaluatorHoldout: Processed 5965 (100.0%) in 2.20 sec. Users per second: 2717\n"
     ]
    },
    {
     "name": "stderr",
     "output_type": "stream",
     "text": [
      "[I 2023-07-25 03:40:06,417] Trial 13 finished with value: 0.08310397956332602 and parameters: {'cutoff': 169}. Best is trial 3 with value: 0.08354721324126213.\n"
     ]
    },
    {
     "name": "stdout",
     "output_type": "stream",
     "text": [
      "EvaluatorHoldout: Processed 5965 (100.0%) in 2.49 sec. Users per second: 2400\n"
     ]
    },
    {
     "name": "stderr",
     "output_type": "stream",
     "text": [
      "[I 2023-07-25 03:40:30,799] Trial 14 finished with value: 0.07945111031280394 and parameters: {'cutoff': 25}. Best is trial 3 with value: 0.08354721324126213.\n"
     ]
    },
    {
     "name": "stdout",
     "output_type": "stream",
     "text": [
      "EvaluatorHoldout: Processed 5965 (100.0%) in 2.18 sec. Users per second: 2737\n"
     ]
    },
    {
     "name": "stderr",
     "output_type": "stream",
     "text": [
      "[I 2023-07-25 03:40:54,930] Trial 15 finished with value: 0.082930181348874 and parameters: {'cutoff': 138}. Best is trial 3 with value: 0.08354721324126213.\n"
     ]
    },
    {
     "name": "stdout",
     "output_type": "stream",
     "text": [
      "EvaluatorHoldout: Processed 5965 (100.0%) in 2.13 sec. Users per second: 2802\n"
     ]
    },
    {
     "name": "stderr",
     "output_type": "stream",
     "text": [
      "[I 2023-07-25 03:41:18,972] Trial 16 finished with value: 0.08300294708551217 and parameters: {'cutoff': 69}. Best is trial 3 with value: 0.08354721324126213.\n"
     ]
    },
    {
     "name": "stdout",
     "output_type": "stream",
     "text": [
      "EvaluatorHoldout: Processed 5965 (100.0%) in 2.18 sec. Users per second: 2738\n"
     ]
    },
    {
     "name": "stderr",
     "output_type": "stream",
     "text": [
      "[I 2023-07-25 03:41:43,106] Trial 17 finished with value: 0.0829834750329305 and parameters: {'cutoff': 119}. Best is trial 3 with value: 0.08354721324126213.\n"
     ]
    },
    {
     "name": "stdout",
     "output_type": "stream",
     "text": [
      "EvaluatorHoldout: Processed 5965 (100.0%) in 2.13 sec. Users per second: 2796\n"
     ]
    },
    {
     "name": "stderr",
     "output_type": "stream",
     "text": [
      "[I 2023-07-25 03:42:07,154] Trial 18 finished with value: 0.08317369177344056 and parameters: {'cutoff': 74}. Best is trial 3 with value: 0.08354721324126213.\n"
     ]
    },
    {
     "name": "stdout",
     "output_type": "stream",
     "text": [
      "EvaluatorHoldout: Processed 5965 (100.0%) in 2.14 sec. Users per second: 2791\n"
     ]
    },
    {
     "name": "stderr",
     "output_type": "stream",
     "text": [
      "[I 2023-07-25 03:42:31,206] Trial 19 finished with value: 0.08260005455101864 and parameters: {'cutoff': 105}. Best is trial 3 with value: 0.08354721324126213.\n"
     ]
    },
    {
     "name": "stdout",
     "output_type": "stream",
     "text": [
      "EvaluatorHoldout: Processed 5965 (100.0%) in 2.18 sec. Users per second: 2731\n"
     ]
    },
    {
     "name": "stderr",
     "output_type": "stream",
     "text": [
      "[I 2023-07-25 03:42:55,341] Trial 20 finished with value: 0.08326926914940361 and parameters: {'cutoff': 144}. Best is trial 3 with value: 0.08354721324126213.\n"
     ]
    },
    {
     "name": "stdout",
     "output_type": "stream",
     "text": [
      "EvaluatorHoldout: Processed 5965 (100.0%) in 2.21 sec. Users per second: 2701\n"
     ]
    },
    {
     "name": "stderr",
     "output_type": "stream",
     "text": [
      "[I 2023-07-25 03:43:19,529] Trial 21 finished with value: 0.08324438191035025 and parameters: {'cutoff': 137}. Best is trial 3 with value: 0.08354721324126213.\n"
     ]
    },
    {
     "name": "stdout",
     "output_type": "stream",
     "text": [
      "EvaluatorHoldout: Processed 5965 (100.0%) in 2.21 sec. Users per second: 2697\n"
     ]
    },
    {
     "name": "stderr",
     "output_type": "stream",
     "text": [
      "[I 2023-07-25 03:43:43,705] Trial 22 finished with value: 0.08341426176505841 and parameters: {'cutoff': 169}. Best is trial 3 with value: 0.08354721324126213.\n"
     ]
    },
    {
     "name": "stdout",
     "output_type": "stream",
     "text": [
      "EvaluatorHoldout: Processed 5965 (100.0%) in 2.23 sec. Users per second: 2678\n"
     ]
    },
    {
     "name": "stderr",
     "output_type": "stream",
     "text": [
      "[I 2023-07-25 03:44:07,909] Trial 23 finished with value: 0.08339108423475595 and parameters: {'cutoff': 183}. Best is trial 3 with value: 0.08354721324126213.\n"
     ]
    },
    {
     "name": "stdout",
     "output_type": "stream",
     "text": [
      "EvaluatorHoldout: Processed 5965 (100.0%) in 2.17 sec. Users per second: 2755\n"
     ]
    },
    {
     "name": "stderr",
     "output_type": "stream",
     "text": [
      "[I 2023-07-25 03:44:32,023] Trial 24 finished with value: 0.08331236445402433 and parameters: {'cutoff': 122}. Best is trial 3 with value: 0.08354721324126213.\n"
     ]
    },
    {
     "name": "stdout",
     "output_type": "stream",
     "text": [
      "EvaluatorHoldout: Processed 5965 (100.0%) in 2.17 sec. Users per second: 2755\n"
     ]
    },
    {
     "name": "stderr",
     "output_type": "stream",
     "text": [
      "[I 2023-07-25 03:44:56,123] Trial 25 finished with value: 0.08311375217871471 and parameters: {'cutoff': 129}. Best is trial 3 with value: 0.08354721324126213.\n"
     ]
    },
    {
     "name": "stdout",
     "output_type": "stream",
     "text": [
      "EvaluatorHoldout: Processed 5965 (100.0%) in 2.46 sec. Users per second: 2423\n"
     ]
    },
    {
     "name": "stderr",
     "output_type": "stream",
     "text": [
      "[I 2023-07-25 03:45:20,476] Trial 26 finished with value: 0.07910853656914049 and parameters: {'cutoff': 24}. Best is trial 3 with value: 0.08354721324126213.\n"
     ]
    },
    {
     "name": "stdout",
     "output_type": "stream",
     "text": [
      "EvaluatorHoldout: Processed 5965 (100.0%) in 2.19 sec. Users per second: 2720\n"
     ]
    },
    {
     "name": "stderr",
     "output_type": "stream",
     "text": [
      "[I 2023-07-25 03:45:44,637] Trial 27 finished with value: 0.08344411181628313 and parameters: {'cutoff': 155}. Best is trial 3 with value: 0.08354721324126213.\n"
     ]
    },
    {
     "name": "stdout",
     "output_type": "stream",
     "text": [
      "EvaluatorHoldout: Processed 5965 (100.0%) in 2.14 sec. Users per second: 2791\n"
     ]
    },
    {
     "name": "stderr",
     "output_type": "stream",
     "text": [
      "[I 2023-07-25 03:46:08,693] Trial 28 finished with value: 0.08317329261964646 and parameters: {'cutoff': 75}. Best is trial 3 with value: 0.08354721324126213.\n"
     ]
    },
    {
     "name": "stdout",
     "output_type": "stream",
     "text": [
      "EvaluatorHoldout: Processed 5965 (100.0%) in 2.19 sec. Users per second: 2729\n"
     ]
    },
    {
     "name": "stderr",
     "output_type": "stream",
     "text": [
      "[I 2023-07-25 03:46:32,818] Trial 29 finished with value: 0.08308999587541104 and parameters: {'cutoff': 134}. Best is trial 3 with value: 0.08354721324126213.\n"
     ]
    },
    {
     "name": "stdout",
     "output_type": "stream",
     "text": [
      "EvaluatorHoldout: Processed 5965 (100.0%) in 2.17 sec. Users per second: 2746\n"
     ]
    },
    {
     "name": "stderr",
     "output_type": "stream",
     "text": [
      "[I 2023-07-25 03:46:56,919] Trial 30 finished with value: 0.08318294548889718 and parameters: {'cutoff': 127}. Best is trial 3 with value: 0.08354721324126213.\n"
     ]
    },
    {
     "name": "stdout",
     "output_type": "stream",
     "text": [
      "EvaluatorHoldout: Processed 5965 (100.0%) in 2.20 sec. Users per second: 2707\n"
     ]
    },
    {
     "name": "stderr",
     "output_type": "stream",
     "text": [
      "[I 2023-07-25 03:47:21,075] Trial 31 finished with value: 0.08346501416995995 and parameters: {'cutoff': 155}. Best is trial 3 with value: 0.08354721324126213.\n"
     ]
    },
    {
     "name": "stdout",
     "output_type": "stream",
     "text": [
      "EvaluatorHoldout: Processed 5965 (100.0%) in 2.15 sec. Users per second: 2770\n"
     ]
    },
    {
     "name": "stderr",
     "output_type": "stream",
     "text": [
      "[I 2023-07-25 03:47:45,165] Trial 32 finished with value: 0.0831466956718427 and parameters: {'cutoff': 111}. Best is trial 3 with value: 0.08354721324126213.\n"
     ]
    },
    {
     "name": "stdout",
     "output_type": "stream",
     "text": [
      "EvaluatorHoldout: Processed 5965 (100.0%) in 2.23 sec. Users per second: 2674\n"
     ]
    },
    {
     "name": "stderr",
     "output_type": "stream",
     "text": [
      "[I 2023-07-25 03:48:09,390] Trial 33 finished with value: 0.08346136856530839 and parameters: {'cutoff': 188}. Best is trial 3 with value: 0.08354721324126213.\n"
     ]
    },
    {
     "name": "stdout",
     "output_type": "stream",
     "text": [
      "EvaluatorHoldout: Processed 5965 (100.0%) in 2.14 sec. Users per second: 2793\n"
     ]
    },
    {
     "name": "stderr",
     "output_type": "stream",
     "text": [
      "[I 2023-07-25 03:48:33,464] Trial 34 finished with value: 0.08281383467049873 and parameters: {'cutoff': 72}. Best is trial 3 with value: 0.08354721324126213.\n"
     ]
    },
    {
     "name": "stdout",
     "output_type": "stream",
     "text": [
      "EvaluatorHoldout: Processed 5965 (100.0%) in 2.29 sec. Users per second: 2607\n"
     ]
    },
    {
     "name": "stderr",
     "output_type": "stream",
     "text": [
      "[I 2023-07-25 03:48:57,755] Trial 35 finished with value: 0.08331967562101694 and parameters: {'cutoff': 141}. Best is trial 3 with value: 0.08354721324126213.\n"
     ]
    },
    {
     "name": "stdout",
     "output_type": "stream",
     "text": [
      "EvaluatorHoldout: Processed 5965 (100.0%) in 2.21 sec. Users per second: 2694\n"
     ]
    },
    {
     "name": "stderr",
     "output_type": "stream",
     "text": [
      "[I 2023-07-25 03:49:21,939] Trial 36 finished with value: 0.08350941337697444 and parameters: {'cutoff': 188}. Best is trial 3 with value: 0.08354721324126213.\n"
     ]
    },
    {
     "name": "stdout",
     "output_type": "stream",
     "text": [
      "EvaluatorHoldout: Processed 5965 (100.0%) in 2.12 sec. Users per second: 2818\n"
     ]
    },
    {
     "name": "stderr",
     "output_type": "stream",
     "text": [
      "[I 2023-07-25 03:49:45,987] Trial 37 finished with value: 0.08326211099136517 and parameters: {'cutoff': 73}. Best is trial 3 with value: 0.08354721324126213.\n"
     ]
    },
    {
     "name": "stdout",
     "output_type": "stream",
     "text": [
      "EvaluatorHoldout: Processed 5965 (100.0%) in 2.14 sec. Users per second: 2792\n"
     ]
    },
    {
     "name": "stderr",
     "output_type": "stream",
     "text": [
      "[I 2023-07-25 03:50:10,043] Trial 38 finished with value: 0.0830651751619901 and parameters: {'cutoff': 83}. Best is trial 3 with value: 0.08354721324126213.\n"
     ]
    },
    {
     "name": "stdout",
     "output_type": "stream",
     "text": [
      "EvaluatorHoldout: Processed 5965 (100.0%) in 2.33 sec. Users per second: 2559\n"
     ]
    },
    {
     "name": "stderr",
     "output_type": "stream",
     "text": [
      "[I 2023-07-25 03:50:34,620] Trial 39 finished with value: 0.07771610851661187 and parameters: {'cutoff': 17}. Best is trial 3 with value: 0.08354721324126213.\n"
     ]
    },
    {
     "name": "stdout",
     "output_type": "stream",
     "text": [
      "EvaluatorHoldout: Processed 5965 (100.0%) in 2.11 sec. Users per second: 2831\n"
     ]
    },
    {
     "name": "stderr",
     "output_type": "stream",
     "text": [
      "[I 2023-07-25 03:50:58,650] Trial 40 finished with value: 0.08073662502162118 and parameters: {'cutoff': 35}. Best is trial 3 with value: 0.08354721324126213.\n"
     ]
    },
    {
     "name": "stdout",
     "output_type": "stream",
     "text": [
      "EvaluatorHoldout: Processed 5965 (100.0%) in 2.24 sec. Users per second: 2663\n"
     ]
    },
    {
     "name": "stderr",
     "output_type": "stream",
     "text": [
      "[I 2023-07-25 03:51:22,854] Trial 41 finished with value: 0.0834107492116716 and parameters: {'cutoff': 188}. Best is trial 3 with value: 0.08354721324126213.\n"
     ]
    },
    {
     "name": "stdout",
     "output_type": "stream",
     "text": [
      "EvaluatorHoldout: Processed 5965 (100.0%) in 2.15 sec. Users per second: 2771\n"
     ]
    },
    {
     "name": "stderr",
     "output_type": "stream",
     "text": [
      "[I 2023-07-25 03:51:46,925] Trial 42 finished with value: 0.08277918146862018 and parameters: {'cutoff': 97}. Best is trial 3 with value: 0.08354721324126213.\n"
     ]
    },
    {
     "name": "stdout",
     "output_type": "stream",
     "text": [
      "EvaluatorHoldout: Processed 5965 (100.0%) in 2.19 sec. Users per second: 2718\n"
     ]
    },
    {
     "name": "stderr",
     "output_type": "stream",
     "text": [
      "[I 2023-07-25 03:52:11,027] Trial 43 finished with value: 0.0744509506512862 and parameters: {'cutoff': 11}. Best is trial 3 with value: 0.08354721324126213.\n"
     ]
    },
    {
     "name": "stdout",
     "output_type": "stream",
     "text": [
      "EvaluatorHoldout: Processed 5965 (100.0%) in 2.36 sec. Users per second: 2525\n"
     ]
    },
    {
     "name": "stderr",
     "output_type": "stream",
     "text": [
      "[I 2023-07-25 03:52:35,307] Trial 44 finished with value: 0.07814368871326174 and parameters: {'cutoff': 19}. Best is trial 3 with value: 0.08354721324126213.\n"
     ]
    },
    {
     "name": "stdout",
     "output_type": "stream",
     "text": [
      "EvaluatorHoldout: Processed 5965 (100.0%) in 2.16 sec. Users per second: 2764\n"
     ]
    },
    {
     "name": "stderr",
     "output_type": "stream",
     "text": [
      "[I 2023-07-25 03:52:59,382] Trial 45 finished with value: 0.08297108130762802 and parameters: {'cutoff': 88}. Best is trial 3 with value: 0.08354721324126213.\n"
     ]
    },
    {
     "name": "stdout",
     "output_type": "stream",
     "text": [
      "EvaluatorHoldout: Processed 5965 (100.0%) in 2.23 sec. Users per second: 2680\n"
     ]
    },
    {
     "name": "stderr",
     "output_type": "stream",
     "text": [
      "[I 2023-07-25 03:53:23,564] Trial 46 finished with value: 0.08342689498263713 and parameters: {'cutoff': 170}. Best is trial 3 with value: 0.08354721324126213.\n"
     ]
    },
    {
     "name": "stdout",
     "output_type": "stream",
     "text": [
      "EvaluatorHoldout: Processed 5965 (100.0%) in 2.25 sec. Users per second: 2647\n"
     ]
    },
    {
     "name": "stderr",
     "output_type": "stream",
     "text": [
      "[I 2023-07-25 03:53:47,826] Trial 47 finished with value: 0.08350623345174919 and parameters: {'cutoff': 188}. Best is trial 3 with value: 0.08354721324126213.\n"
     ]
    },
    {
     "name": "stdout",
     "output_type": "stream",
     "text": [
      "EvaluatorHoldout: Processed 5965 (100.0%) in 2.25 sec. Users per second: 2656\n"
     ]
    },
    {
     "name": "stderr",
     "output_type": "stream",
     "text": [
      "[I 2023-07-25 03:54:12,060] Trial 48 finished with value: 0.0833619859231765 and parameters: {'cutoff': 189}. Best is trial 3 with value: 0.08354721324126213.\n"
     ]
    },
    {
     "name": "stdout",
     "output_type": "stream",
     "text": [
      "EvaluatorHoldout: Processed 5965 (100.0%) in 2.27 sec. Users per second: 2628\n"
     ]
    },
    {
     "name": "stderr",
     "output_type": "stream",
     "text": [
      "[I 2023-07-25 03:54:36,226] Trial 49 finished with value: 0.0768215516438488 and parameters: {'cutoff': 15}. Best is trial 3 with value: 0.08354721324126213.\n"
     ]
    },
    {
     "name": "stdout",
     "output_type": "stream",
     "text": [
      "EvaluatorHoldout: Processed 5965 (100.0%) in 2.22 sec. Users per second: 2681\n"
     ]
    },
    {
     "name": "stderr",
     "output_type": "stream",
     "text": [
      "[I 2023-07-25 03:55:00,379] A new study created in memory with name: no-name-a5856eb5-3482-4b8a-a815-d9e12375a357\n"
     ]
    },
    {
     "name": "stdout",
     "output_type": "stream",
     "text": [
      "SLIMElasticNetRecommender\n",
      "Recommender_Base_Class: URM Detected 204 ( 5.3%) items with no interactions.\n",
      "DiffusionAutoencoderRecommender_SLIMElasticNetRecommender_TwoLevelRec\n",
      "EvaluatorHoldout: Processed 5965 (100.0%) in 2.30 sec. Users per second: 2592\n"
     ]
    },
    {
     "name": "stderr",
     "output_type": "stream",
     "text": [
      "[I 2023-07-25 03:55:04,171] Trial 0 finished with value: 0.09782527707925875 and parameters: {'cutoff': 158}. Best is trial 0 with value: 0.09782527707925875.\n"
     ]
    },
    {
     "name": "stdout",
     "output_type": "stream",
     "text": [
      "EvaluatorHoldout: Processed 5965 (100.0%) in 2.26 sec. Users per second: 2634\n"
     ]
    },
    {
     "name": "stderr",
     "output_type": "stream",
     "text": [
      "[I 2023-07-25 03:55:07,899] Trial 1 finished with value: 0.09814561795659882 and parameters: {'cutoff': 119}. Best is trial 1 with value: 0.09814561795659882.\n"
     ]
    },
    {
     "name": "stdout",
     "output_type": "stream",
     "text": [
      "EvaluatorHoldout: Processed 5965 (100.0%) in 2.26 sec. Users per second: 2637\n"
     ]
    },
    {
     "name": "stderr",
     "output_type": "stream",
     "text": [
      "[I 2023-07-25 03:55:11,620] Trial 2 finished with value: 0.098294508974308 and parameters: {'cutoff': 101}. Best is trial 2 with value: 0.098294508974308.\n"
     ]
    },
    {
     "name": "stdout",
     "output_type": "stream",
     "text": [
      "EvaluatorHoldout: Processed 5965 (100.0%) in 2.31 sec. Users per second: 2580\n"
     ]
    },
    {
     "name": "stderr",
     "output_type": "stream",
     "text": [
      "[I 2023-07-25 03:55:15,335] Trial 3 finished with value: 0.09919365611570172 and parameters: {'cutoff': 12}. Best is trial 3 with value: 0.09919365611570172.\n"
     ]
    },
    {
     "name": "stdout",
     "output_type": "stream",
     "text": [
      "EvaluatorHoldout: Processed 5965 (100.0%) in 2.21 sec. Users per second: 2703\n"
     ]
    },
    {
     "name": "stderr",
     "output_type": "stream",
     "text": [
      "[I 2023-07-25 03:55:18,956] Trial 4 finished with value: 0.09926606926648839 and parameters: {'cutoff': 37}. Best is trial 4 with value: 0.09926606926648839.\n"
     ]
    },
    {
     "name": "stdout",
     "output_type": "stream",
     "text": [
      "EvaluatorHoldout: Processed 5965 (100.0%) in 2.28 sec. Users per second: 2621\n"
     ]
    },
    {
     "name": "stderr",
     "output_type": "stream",
     "text": [
      "[I 2023-07-25 03:55:22,691] Trial 5 finished with value: 0.09811539536183307 and parameters: {'cutoff': 129}. Best is trial 4 with value: 0.09926606926648839.\n"
     ]
    },
    {
     "name": "stdout",
     "output_type": "stream",
     "text": [
      "EvaluatorHoldout: Processed 5965 (100.0%) in 2.23 sec. Users per second: 2673\n"
     ]
    },
    {
     "name": "stderr",
     "output_type": "stream",
     "text": [
      "[I 2023-07-25 03:55:26,368] Trial 6 finished with value: 0.09841238574222669 and parameters: {'cutoff': 91}. Best is trial 4 with value: 0.09926606926648839.\n"
     ]
    },
    {
     "name": "stdout",
     "output_type": "stream",
     "text": [
      "EvaluatorHoldout: Processed 5965 (100.0%) in 2.27 sec. Users per second: 2627\n"
     ]
    },
    {
     "name": "stderr",
     "output_type": "stream",
     "text": [
      "[I 2023-07-25 03:55:30,091] Trial 7 finished with value: 0.0981213294482366 and parameters: {'cutoff': 119}. Best is trial 4 with value: 0.09926606926648839.\n"
     ]
    },
    {
     "name": "stdout",
     "output_type": "stream",
     "text": [
      "EvaluatorHoldout: Processed 5965 (100.0%) in 2.23 sec. Users per second: 2676\n"
     ]
    },
    {
     "name": "stderr",
     "output_type": "stream",
     "text": [
      "[I 2023-07-25 03:55:33,755] Trial 8 finished with value: 0.09870367487592999 and parameters: {'cutoff': 71}. Best is trial 4 with value: 0.09926606926648839.\n"
     ]
    },
    {
     "name": "stdout",
     "output_type": "stream",
     "text": [
      "EvaluatorHoldout: Processed 5965 (100.0%) in 2.24 sec. Users per second: 2666\n"
     ]
    },
    {
     "name": "stderr",
     "output_type": "stream",
     "text": [
      "[I 2023-07-25 03:55:37,441] Trial 9 finished with value: 0.09838566904828455 and parameters: {'cutoff': 92}. Best is trial 4 with value: 0.09926606926648839.\n"
     ]
    },
    {
     "name": "stdout",
     "output_type": "stream",
     "text": [
      "EvaluatorHoldout: Processed 5965 (100.0%) in 2.21 sec. Users per second: 2696\n"
     ]
    },
    {
     "name": "stderr",
     "output_type": "stream",
     "text": [
      "[I 2023-07-25 03:55:41,071] Trial 10 finished with value: 0.09930243882968096 and parameters: {'cutoff': 38}. Best is trial 10 with value: 0.09930243882968096.\n"
     ]
    },
    {
     "name": "stdout",
     "output_type": "stream",
     "text": [
      "EvaluatorHoldout: Processed 5965 (100.0%) in 2.65 sec. Users per second: 2251\n"
     ]
    },
    {
     "name": "stderr",
     "output_type": "stream",
     "text": [
      "[I 2023-07-25 03:55:45,137] Trial 11 finished with value: 0.09961107784829487 and parameters: {'cutoff': 28}. Best is trial 11 with value: 0.09961107784829487.\n"
     ]
    },
    {
     "name": "stdout",
     "output_type": "stream",
     "text": [
      "EvaluatorHoldout: Processed 5965 (100.0%) in 2.65 sec. Users per second: 2248\n"
     ]
    },
    {
     "name": "stderr",
     "output_type": "stream",
     "text": [
      "[I 2023-07-25 03:55:49,198] Trial 12 finished with value: 0.09971622826274965 and parameters: {'cutoff': 28}. Best is trial 12 with value: 0.09971622826274965.\n"
     ]
    },
    {
     "name": "stdout",
     "output_type": "stream",
     "text": [
      "EvaluatorHoldout: Processed 5965 (100.0%) in 2.23 sec. Users per second: 2672\n"
     ]
    },
    {
     "name": "stderr",
     "output_type": "stream",
     "text": [
      "[I 2023-07-25 03:55:52,856] Trial 13 finished with value: 0.09853281709442681 and parameters: {'cutoff': 60}. Best is trial 12 with value: 0.09971622826274965.\n"
     ]
    },
    {
     "name": "stdout",
     "output_type": "stream",
     "text": [
      "EvaluatorHoldout: Processed 5965 (100.0%) in 2.86 sec. Users per second: 2082\n"
     ]
    },
    {
     "name": "stderr",
     "output_type": "stream",
     "text": [
      "[I 2023-07-25 03:55:57,130] Trial 14 finished with value: 0.09960263574555266 and parameters: {'cutoff': 28}. Best is trial 12 with value: 0.09971622826274965.\n"
     ]
    },
    {
     "name": "stdout",
     "output_type": "stream",
     "text": [
      "EvaluatorHoldout: Processed 5965 (100.0%) in 2.30 sec. Users per second: 2590\n"
     ]
    },
    {
     "name": "stderr",
     "output_type": "stream",
     "text": [
      "[I 2023-07-25 03:56:00,958] Trial 15 finished with value: 0.0983335528679202 and parameters: {'cutoff': 104}. Best is trial 12 with value: 0.09971622826274965.\n"
     ]
    },
    {
     "name": "stdout",
     "output_type": "stream",
     "text": [
      "EvaluatorHoldout: Processed 5965 (100.0%) in 2.24 sec. Users per second: 2665\n"
     ]
    },
    {
     "name": "stderr",
     "output_type": "stream",
     "text": [
      "[I 2023-07-25 03:56:04,650] Trial 16 finished with value: 0.09846180098191862 and parameters: {'cutoff': 93}. Best is trial 12 with value: 0.09971622826274965.\n"
     ]
    },
    {
     "name": "stdout",
     "output_type": "stream",
     "text": [
      "EvaluatorHoldout: Processed 5965 (100.0%) in 2.65 sec. Users per second: 2255\n"
     ]
    },
    {
     "name": "stderr",
     "output_type": "stream",
     "text": [
      "[I 2023-07-25 03:56:08,713] Trial 17 finished with value: 0.09950573450950644 and parameters: {'cutoff': 28}. Best is trial 12 with value: 0.09971622826274965.\n"
     ]
    },
    {
     "name": "stdout",
     "output_type": "stream",
     "text": [
      "EvaluatorHoldout: Processed 5965 (100.0%) in 2.67 sec. Users per second: 2238\n"
     ]
    },
    {
     "name": "stderr",
     "output_type": "stream",
     "text": [
      "[I 2023-07-25 03:56:12,794] Trial 18 finished with value: 0.09976677443819078 and parameters: {'cutoff': 28}. Best is trial 18 with value: 0.09976677443819078.\n"
     ]
    },
    {
     "name": "stdout",
     "output_type": "stream",
     "text": [
      "EvaluatorHoldout: Processed 5965 (100.0%) in 2.32 sec. Users per second: 2569\n"
     ]
    },
    {
     "name": "stderr",
     "output_type": "stream",
     "text": [
      "[I 2023-07-25 03:56:16,609] Trial 19 finished with value: 0.0981967362524783 and parameters: {'cutoff': 121}. Best is trial 18 with value: 0.09976677443819078.\n"
     ]
    },
    {
     "name": "stdout",
     "output_type": "stream",
     "text": [
      "EvaluatorHoldout: Processed 5965 (100.0%) in 2.50 sec. Users per second: 2384\n"
     ]
    },
    {
     "name": "stderr",
     "output_type": "stream",
     "text": [
      "[I 2023-07-25 03:56:20,551] Trial 20 finished with value: 0.09871527694620762 and parameters: {'cutoff': 73}. Best is trial 18 with value: 0.09976677443819078.\n"
     ]
    },
    {
     "name": "stdout",
     "output_type": "stream",
     "text": [
      "EvaluatorHoldout: Processed 5965 (100.0%) in 2.66 sec. Users per second: 2246\n"
     ]
    },
    {
     "name": "stderr",
     "output_type": "stream",
     "text": [
      "[I 2023-07-25 03:56:24,629] Trial 21 finished with value: 0.09974500725129382 and parameters: {'cutoff': 28}. Best is trial 18 with value: 0.09976677443819078.\n"
     ]
    },
    {
     "name": "stdout",
     "output_type": "stream",
     "text": [
      "EvaluatorHoldout: Processed 5965 (100.0%) in 2.63 sec. Users per second: 2266\n"
     ]
    },
    {
     "name": "stderr",
     "output_type": "stream",
     "text": [
      "[I 2023-07-25 03:56:28,677] Trial 22 finished with value: 0.09972140395694448 and parameters: {'cutoff': 27}. Best is trial 18 with value: 0.09976677443819078.\n"
     ]
    },
    {
     "name": "stdout",
     "output_type": "stream",
     "text": [
      "EvaluatorHoldout: Processed 5965 (100.0%) in 2.23 sec. Users per second: 2675\n"
     ]
    },
    {
     "name": "stderr",
     "output_type": "stream",
     "text": [
      "[I 2023-07-25 03:56:32,344] Trial 23 finished with value: 0.09870470602323099 and parameters: {'cutoff': 76}. Best is trial 18 with value: 0.09976677443819078.\n"
     ]
    },
    {
     "name": "stdout",
     "output_type": "stream",
     "text": [
      "EvaluatorHoldout: Processed 5965 (100.0%) in 2.20 sec. Users per second: 2706\n"
     ]
    },
    {
     "name": "stderr",
     "output_type": "stream",
     "text": [
      "[I 2023-07-25 03:56:35,966] Trial 24 finished with value: 0.0989585279208078 and parameters: {'cutoff': 42}. Best is trial 18 with value: 0.09976677443819078.\n"
     ]
    },
    {
     "name": "stdout",
     "output_type": "stream",
     "text": [
      "EvaluatorHoldout: Processed 5965 (100.0%) in 2.20 sec. Users per second: 2710\n"
     ]
    },
    {
     "name": "stderr",
     "output_type": "stream",
     "text": [
      "[I 2023-07-25 03:56:39,589] Trial 25 finished with value: 0.09922988597506627 and parameters: {'cutoff': 48}. Best is trial 18 with value: 0.09976677443819078.\n"
     ]
    },
    {
     "name": "stdout",
     "output_type": "stream",
     "text": [
      "EvaluatorHoldout: Processed 5965 (100.0%) in 2.71 sec. Users per second: 2204\n"
     ]
    },
    {
     "name": "stderr",
     "output_type": "stream",
     "text": [
      "[I 2023-07-25 03:56:43,719] Trial 26 finished with value: 0.09944538245586006 and parameters: {'cutoff': 31}. Best is trial 18 with value: 0.09976677443819078.\n"
     ]
    },
    {
     "name": "stdout",
     "output_type": "stream",
     "text": [
      "EvaluatorHoldout: Processed 5965 (100.0%) in 2.63 sec. Users per second: 2271\n"
     ]
    },
    {
     "name": "stderr",
     "output_type": "stream",
     "text": [
      "[I 2023-07-25 03:56:47,766] Trial 27 finished with value: 0.09966981998163894 and parameters: {'cutoff': 27}. Best is trial 18 with value: 0.09976677443819078.\n"
     ]
    },
    {
     "name": "stdout",
     "output_type": "stream",
     "text": [
      "EvaluatorHoldout: Processed 5965 (100.0%) in 2.63 sec. Users per second: 2271\n"
     ]
    },
    {
     "name": "stderr",
     "output_type": "stream",
     "text": [
      "[I 2023-07-25 03:56:51,800] Trial 28 finished with value: 0.09985049029391012 and parameters: {'cutoff': 27}. Best is trial 28 with value: 0.09985049029391012.\n"
     ]
    },
    {
     "name": "stdout",
     "output_type": "stream",
     "text": [
      "EvaluatorHoldout: Processed 5965 (100.0%) in 2.29 sec. Users per second: 2607\n"
     ]
    },
    {
     "name": "stderr",
     "output_type": "stream",
     "text": [
      "[I 2023-07-25 03:56:55,572] Trial 29 finished with value: 0.0977241980335024 and parameters: {'cutoff': 167}. Best is trial 28 with value: 0.09985049029391012.\n"
     ]
    },
    {
     "name": "stdout",
     "output_type": "stream",
     "text": [
      "EvaluatorHoldout: Processed 5965 (100.0%) in 2.49 sec. Users per second: 2399\n"
     ]
    },
    {
     "name": "stderr",
     "output_type": "stream",
     "text": [
      "[I 2023-07-25 03:56:59,479] Trial 30 finished with value: 0.10046800782341432 and parameters: {'cutoff': 20}. Best is trial 30 with value: 0.10046800782341432.\n"
     ]
    },
    {
     "name": "stdout",
     "output_type": "stream",
     "text": [
      "EvaluatorHoldout: Processed 5965 (100.0%) in 2.26 sec. Users per second: 2643\n"
     ]
    },
    {
     "name": "stderr",
     "output_type": "stream",
     "text": [
      "[I 2023-07-25 03:57:03,205] Trial 31 finished with value: 0.09820328237469919 and parameters: {'cutoff': 115}. Best is trial 30 with value: 0.10046800782341432.\n"
     ]
    },
    {
     "name": "stdout",
     "output_type": "stream",
     "text": [
      "EvaluatorHoldout: Processed 5965 (100.0%) in 2.21 sec. Users per second: 2704\n"
     ]
    },
    {
     "name": "stderr",
     "output_type": "stream",
     "text": [
      "[I 2023-07-25 03:57:06,840] Trial 32 finished with value: 0.09865178488271548 and parameters: {'cutoff': 54}. Best is trial 30 with value: 0.10046800782341432.\n"
     ]
    },
    {
     "name": "stdout",
     "output_type": "stream",
     "text": [
      "EvaluatorHoldout: Processed 5965 (100.0%) in 2.49 sec. Users per second: 2397\n"
     ]
    },
    {
     "name": "stderr",
     "output_type": "stream",
     "text": [
      "[I 2023-07-25 03:57:10,740] Trial 33 finished with value: 0.10045270027541602 and parameters: {'cutoff': 20}. Best is trial 30 with value: 0.10046800782341432.\n"
     ]
    },
    {
     "name": "stdout",
     "output_type": "stream",
     "text": [
      "EvaluatorHoldout: Processed 5965 (100.0%) in 2.30 sec. Users per second: 2588\n"
     ]
    },
    {
     "name": "stderr",
     "output_type": "stream",
     "text": [
      "[I 2023-07-25 03:57:14,527] Trial 34 finished with value: 0.09761091153421421 and parameters: {'cutoff': 169}. Best is trial 30 with value: 0.10046800782341432.\n"
     ]
    },
    {
     "name": "stdout",
     "output_type": "stream",
     "text": [
      "EvaluatorHoldout: Processed 5965 (100.0%) in 2.30 sec. Users per second: 2588\n"
     ]
    },
    {
     "name": "stderr",
     "output_type": "stream",
     "text": [
      "[I 2023-07-25 03:57:18,322] Trial 35 finished with value: 0.09772833592783312 and parameters: {'cutoff': 172}. Best is trial 30 with value: 0.10046800782341432.\n"
     ]
    },
    {
     "name": "stdout",
     "output_type": "stream",
     "text": [
      "EvaluatorHoldout: Processed 5965 (100.0%) in 2.47 sec. Users per second: 2419\n"
     ]
    },
    {
     "name": "stderr",
     "output_type": "stream",
     "text": [
      "[I 2023-07-25 03:57:22,196] Trial 36 finished with value: 0.10050610040048431 and parameters: {'cutoff': 20}. Best is trial 36 with value: 0.10050610040048431.\n"
     ]
    },
    {
     "name": "stdout",
     "output_type": "stream",
     "text": [
      "EvaluatorHoldout: Processed 5965 (100.0%) in 2.47 sec. Users per second: 2414\n"
     ]
    },
    {
     "name": "stderr",
     "output_type": "stream",
     "text": [
      "[I 2023-07-25 03:57:26,073] Trial 37 finished with value: 0.1005896698998123 and parameters: {'cutoff': 20}. Best is trial 37 with value: 0.1005896698998123.\n"
     ]
    },
    {
     "name": "stdout",
     "output_type": "stream",
     "text": [
      "EvaluatorHoldout: Processed 5965 (100.0%) in 2.31 sec. Users per second: 2586\n"
     ]
    },
    {
     "name": "stderr",
     "output_type": "stream",
     "text": [
      "[I 2023-07-25 03:57:29,850] Trial 38 finished with value: 0.09779083675940346 and parameters: {'cutoff': 165}. Best is trial 37 with value: 0.1005896698998123.\n"
     ]
    },
    {
     "name": "stdout",
     "output_type": "stream",
     "text": [
      "EvaluatorHoldout: Processed 5965 (100.0%) in 2.47 sec. Users per second: 2412\n"
     ]
    },
    {
     "name": "stderr",
     "output_type": "stream",
     "text": [
      "[I 2023-07-25 03:57:33,740] Trial 39 finished with value: 0.10039698505834281 and parameters: {'cutoff': 20}. Best is trial 37 with value: 0.1005896698998123.\n"
     ]
    },
    {
     "name": "stdout",
     "output_type": "stream",
     "text": [
      "EvaluatorHoldout: Processed 5965 (100.0%) in 2.20 sec. Users per second: 2708\n"
     ]
    },
    {
     "name": "stderr",
     "output_type": "stream",
     "text": [
      "[I 2023-07-25 03:57:37,368] Trial 40 finished with value: 0.09855503000306036 and parameters: {'cutoff': 58}. Best is trial 37 with value: 0.1005896698998123.\n"
     ]
    },
    {
     "name": "stdout",
     "output_type": "stream",
     "text": [
      "EvaluatorHoldout: Processed 5965 (100.0%) in 2.51 sec. Users per second: 2373\n"
     ]
    },
    {
     "name": "stderr",
     "output_type": "stream",
     "text": [
      "[I 2023-07-25 03:57:41,292] Trial 41 finished with value: 0.10027622107798145 and parameters: {'cutoff': 20}. Best is trial 37 with value: 0.1005896698998123.\n"
     ]
    },
    {
     "name": "stdout",
     "output_type": "stream",
     "text": [
      "EvaluatorHoldout: Processed 5965 (100.0%) in 2.48 sec. Users per second: 2409\n"
     ]
    },
    {
     "name": "stderr",
     "output_type": "stream",
     "text": [
      "[I 2023-07-25 03:57:45,176] Trial 42 finished with value: 0.10035938477095223 and parameters: {'cutoff': 20}. Best is trial 37 with value: 0.1005896698998123.\n"
     ]
    },
    {
     "name": "stdout",
     "output_type": "stream",
     "text": [
      "EvaluatorHoldout: Processed 5965 (100.0%) in 2.50 sec. Users per second: 2388\n"
     ]
    },
    {
     "name": "stderr",
     "output_type": "stream",
     "text": [
      "[I 2023-07-25 03:57:49,079] Trial 43 finished with value: 0.10049432536356237 and parameters: {'cutoff': 20}. Best is trial 37 with value: 0.1005896698998123.\n"
     ]
    },
    {
     "name": "stdout",
     "output_type": "stream",
     "text": [
      "EvaluatorHoldout: Processed 5965 (100.0%) in 2.49 sec. Users per second: 2395\n"
     ]
    },
    {
     "name": "stderr",
     "output_type": "stream",
     "text": [
      "[I 2023-07-25 03:57:52,990] Trial 44 finished with value: 0.10009937598956871 and parameters: {'cutoff': 20}. Best is trial 37 with value: 0.1005896698998123.\n"
     ]
    },
    {
     "name": "stdout",
     "output_type": "stream",
     "text": [
      "EvaluatorHoldout: Processed 5965 (100.0%) in 2.31 sec. Users per second: 2582\n"
     ]
    },
    {
     "name": "stderr",
     "output_type": "stream",
     "text": [
      "[I 2023-07-25 03:57:56,786] Trial 45 finished with value: 0.09769758112800866 and parameters: {'cutoff': 191}. Best is trial 37 with value: 0.1005896698998123.\n"
     ]
    },
    {
     "name": "stdout",
     "output_type": "stream",
     "text": [
      "EvaluatorHoldout: Processed 5965 (100.0%) in 2.26 sec. Users per second: 2636\n"
     ]
    },
    {
     "name": "stderr",
     "output_type": "stream",
     "text": [
      "[I 2023-07-25 03:58:00,518] Trial 46 finished with value: 0.09807357069678958 and parameters: {'cutoff': 131}. Best is trial 37 with value: 0.1005896698998123.\n"
     ]
    },
    {
     "name": "stdout",
     "output_type": "stream",
     "text": [
      "EvaluatorHoldout: Processed 5965 (100.0%) in 2.50 sec. Users per second: 2384\n"
     ]
    },
    {
     "name": "stderr",
     "output_type": "stream",
     "text": [
      "[I 2023-07-25 03:58:04,466] Trial 47 finished with value: 0.10026990114291036 and parameters: {'cutoff': 20}. Best is trial 37 with value: 0.1005896698998123.\n"
     ]
    },
    {
     "name": "stdout",
     "output_type": "stream",
     "text": [
      "EvaluatorHoldout: Processed 5965 (100.0%) in 2.28 sec. Users per second: 2621\n"
     ]
    },
    {
     "name": "stderr",
     "output_type": "stream",
     "text": [
      "[I 2023-07-25 03:58:08,213] Trial 48 finished with value: 0.09803840524754201 and parameters: {'cutoff': 133}. Best is trial 37 with value: 0.1005896698998123.\n"
     ]
    },
    {
     "name": "stdout",
     "output_type": "stream",
     "text": [
      "EvaluatorHoldout: Processed 5965 (100.0%) in 2.32 sec. Users per second: 2572\n"
     ]
    },
    {
     "name": "stderr",
     "output_type": "stream",
     "text": [
      "[I 2023-07-25 03:58:12,029] Trial 49 finished with value: 0.09775150680557226 and parameters: {'cutoff': 196}. Best is trial 37 with value: 0.1005896698998123.\n"
     ]
    },
    {
     "name": "stdout",
     "output_type": "stream",
     "text": [
      "EvaluatorHoldout: Processed 5965 (100.0%) in 2.47 sec. Users per second: 2416\n"
     ]
    },
    {
     "name": "stderr",
     "output_type": "stream",
     "text": [
      "[I 2023-07-25 03:58:15,908] A new study created in memory with name: no-name-fadf4120-32a3-4d40-a255-bd5fc5cd98f2\n"
     ]
    },
    {
     "name": "stdout",
     "output_type": "stream",
     "text": [
      "SLIMElasticNetRecommender\n",
      "Recommender_Base_Class: URM Detected 204 ( 5.3%) items with no interactions.\n",
      "DiffusionAutoencoderRecommender_SLIMElasticNetRecommender_TwoLevelRec\n",
      "EvaluatorHoldout: Processed 5965 (100.0%) in 2.39 sec. Users per second: 2494\n"
     ]
    },
    {
     "name": "stderr",
     "output_type": "stream",
     "text": [
      "[I 2023-07-25 03:59:01,492] Trial 0 finished with value: 0.05254040766907519 and parameters: {'cutoff': 17}. Best is trial 0 with value: 0.05254040766907519.\n"
     ]
    },
    {
     "name": "stdout",
     "output_type": "stream",
     "text": [
      "EvaluatorHoldout: Processed 5965 (100.0%) in 2.45 sec. Users per second: 2430\n"
     ]
    },
    {
     "name": "stderr",
     "output_type": "stream",
     "text": [
      "[I 2023-07-25 03:59:47,134] Trial 1 finished with value: 0.055181209169893504 and parameters: {'cutoff': 21}. Best is trial 1 with value: 0.055181209169893504.\n"
     ]
    },
    {
     "name": "stdout",
     "output_type": "stream",
     "text": [
      "EvaluatorHoldout: Processed 5965 (100.0%) in 2.30 sec. Users per second: 2597\n"
     ]
    },
    {
     "name": "stderr",
     "output_type": "stream",
     "text": [
      "[I 2023-07-25 04:00:32,893] Trial 2 finished with value: 0.08132232999374724 and parameters: {'cutoff': 161}. Best is trial 2 with value: 0.08132232999374724.\n"
     ]
    },
    {
     "name": "stdout",
     "output_type": "stream",
     "text": [
      "EvaluatorHoldout: Processed 5965 (100.0%) in 2.26 sec. Users per second: 2634\n"
     ]
    },
    {
     "name": "stderr",
     "output_type": "stream",
     "text": [
      "[I 2023-07-25 04:01:18,401] Trial 3 finished with value: 0.07893847709522546 and parameters: {'cutoff': 129}. Best is trial 2 with value: 0.08132232999374724.\n"
     ]
    },
    {
     "name": "stdout",
     "output_type": "stream",
     "text": [
      "EvaluatorHoldout: Processed 5965 (100.0%) in 2.22 sec. Users per second: 2684\n"
     ]
    },
    {
     "name": "stderr",
     "output_type": "stream",
     "text": [
      "[I 2023-07-25 04:02:03,898] Trial 4 finished with value: 0.07529387032823805 and parameters: {'cutoff': 89}. Best is trial 2 with value: 0.08132232999374724.\n"
     ]
    },
    {
     "name": "stdout",
     "output_type": "stream",
     "text": [
      "EvaluatorHoldout: Processed 5965 (100.0%) in 2.26 sec. Users per second: 2635\n"
     ]
    },
    {
     "name": "stderr",
     "output_type": "stream",
     "text": [
      "[I 2023-07-25 04:02:49,340] Trial 5 finished with value: 0.04831579052408907 and parameters: {'cutoff': 12}. Best is trial 2 with value: 0.08132232999374724.\n"
     ]
    },
    {
     "name": "stdout",
     "output_type": "stream",
     "text": [
      "EvaluatorHoldout: Processed 5965 (100.0%) in 2.25 sec. Users per second: 2650\n"
     ]
    },
    {
     "name": "stderr",
     "output_type": "stream",
     "text": [
      "[I 2023-07-25 04:03:34,899] Trial 6 finished with value: 0.07757659761306071 and parameters: {'cutoff': 117}. Best is trial 2 with value: 0.08132232999374724.\n"
     ]
    },
    {
     "name": "stdout",
     "output_type": "stream",
     "text": [
      "EvaluatorHoldout: Processed 5965 (100.0%) in 2.23 sec. Users per second: 2670\n"
     ]
    },
    {
     "name": "stderr",
     "output_type": "stream",
     "text": [
      "[I 2023-07-25 04:04:20,431] Trial 7 finished with value: 0.07471607525379574 and parameters: {'cutoff': 91}. Best is trial 2 with value: 0.08132232999374724.\n"
     ]
    },
    {
     "name": "stdout",
     "output_type": "stream",
     "text": [
      "EvaluatorHoldout: Processed 5965 (100.0%) in 2.17 sec. Users per second: 2754\n"
     ]
    },
    {
     "name": "stderr",
     "output_type": "stream",
     "text": [
      "[I 2023-07-25 04:05:05,803] Trial 8 finished with value: 0.06340744954030843 and parameters: {'cutoff': 35}. Best is trial 2 with value: 0.08132232999374724.\n"
     ]
    },
    {
     "name": "stdout",
     "output_type": "stream",
     "text": [
      "EvaluatorHoldout: Processed 5965 (100.0%) in 2.25 sec. Users per second: 2654\n"
     ]
    },
    {
     "name": "stderr",
     "output_type": "stream",
     "text": [
      "[I 2023-07-25 04:05:51,233] Trial 9 finished with value: 0.04703993533708556 and parameters: {'cutoff': 11}. Best is trial 2 with value: 0.08132232999374724.\n"
     ]
    },
    {
     "name": "stdout",
     "output_type": "stream",
     "text": [
      "EvaluatorHoldout: Processed 5965 (100.0%) in 2.21 sec. Users per second: 2700\n"
     ]
    },
    {
     "name": "stderr",
     "output_type": "stream",
     "text": [
      "[I 2023-07-25 04:06:36,657] Trial 10 finished with value: 0.07601238707273962 and parameters: {'cutoff': 92}. Best is trial 2 with value: 0.08132232999374724.\n"
     ]
    },
    {
     "name": "stdout",
     "output_type": "stream",
     "text": [
      "EvaluatorHoldout: Processed 5965 (100.0%) in 2.28 sec. Users per second: 2615\n"
     ]
    },
    {
     "name": "stderr",
     "output_type": "stream",
     "text": [
      "[I 2023-07-25 04:07:22,203] Trial 11 finished with value: 0.07872932050719185 and parameters: {'cutoff': 129}. Best is trial 2 with value: 0.08132232999374724.\n"
     ]
    },
    {
     "name": "stdout",
     "output_type": "stream",
     "text": [
      "EvaluatorHoldout: Processed 5965 (100.0%) in 2.28 sec. Users per second: 2615\n"
     ]
    },
    {
     "name": "stderr",
     "output_type": "stream",
     "text": [
      "[I 2023-07-25 04:08:07,791] Trial 12 finished with value: 0.08060090607911276 and parameters: {'cutoff': 161}. Best is trial 2 with value: 0.08132232999374724.\n"
     ]
    },
    {
     "name": "stdout",
     "output_type": "stream",
     "text": [
      "EvaluatorHoldout: Processed 5965 (100.0%) in 2.30 sec. Users per second: 2595\n"
     ]
    },
    {
     "name": "stderr",
     "output_type": "stream",
     "text": [
      "[I 2023-07-25 04:08:53,448] Trial 13 finished with value: 0.08156800250136428 and parameters: {'cutoff': 171}. Best is trial 13 with value: 0.08156800250136428.\n"
     ]
    },
    {
     "name": "stdout",
     "output_type": "stream",
     "text": [
      "EvaluatorHoldout: Processed 5965 (100.0%) in 2.23 sec. Users per second: 2677\n"
     ]
    },
    {
     "name": "stderr",
     "output_type": "stream",
     "text": [
      "[I 2023-07-25 04:09:38,965] Trial 14 finished with value: 0.07056979869343698 and parameters: {'cutoff': 67}. Best is trial 13 with value: 0.08156800250136428.\n"
     ]
    },
    {
     "name": "stdout",
     "output_type": "stream",
     "text": [
      "EvaluatorHoldout: Processed 5965 (100.0%) in 2.28 sec. Users per second: 2612\n"
     ]
    },
    {
     "name": "stderr",
     "output_type": "stream",
     "text": [
      "[I 2023-07-25 04:10:24,885] Trial 15 finished with value: 0.08146434891363691 and parameters: {'cutoff': 171}. Best is trial 13 with value: 0.08156800250136428.\n"
     ]
    },
    {
     "name": "stdout",
     "output_type": "stream",
     "text": [
      "EvaluatorHoldout: Processed 5965 (100.0%) in 2.32 sec. Users per second: 2574\n"
     ]
    },
    {
     "name": "stderr",
     "output_type": "stream",
     "text": [
      "[I 2023-07-25 04:11:10,576] Trial 16 finished with value: 0.0824024933807 and parameters: {'cutoff': 197}. Best is trial 16 with value: 0.0824024933807.\n"
     ]
    },
    {
     "name": "stdout",
     "output_type": "stream",
     "text": [
      "EvaluatorHoldout: Processed 5965 (100.0%) in 2.25 sec. Users per second: 2654\n"
     ]
    },
    {
     "name": "stderr",
     "output_type": "stream",
     "text": [
      "[I 2023-07-25 04:11:56,076] Trial 17 finished with value: 0.07821876954190515 and parameters: {'cutoff': 126}. Best is trial 16 with value: 0.0824024933807.\n"
     ]
    },
    {
     "name": "stdout",
     "output_type": "stream",
     "text": [
      "EvaluatorHoldout: Processed 5965 (100.0%) in 2.32 sec. Users per second: 2568\n"
     ]
    },
    {
     "name": "stderr",
     "output_type": "stream",
     "text": [
      "[I 2023-07-25 04:12:41,723] Trial 18 finished with value: 0.08278277385276607 and parameters: {'cutoff': 197}. Best is trial 18 with value: 0.08278277385276607.\n"
     ]
    },
    {
     "name": "stdout",
     "output_type": "stream",
     "text": [
      "EvaluatorHoldout: Processed 5965 (100.0%) in 2.31 sec. Users per second: 2584\n"
     ]
    },
    {
     "name": "stderr",
     "output_type": "stream",
     "text": [
      "[I 2023-07-25 04:13:27,332] Trial 19 finished with value: 0.08033413829348506 and parameters: {'cutoff': 150}. Best is trial 18 with value: 0.08278277385276607.\n"
     ]
    },
    {
     "name": "stdout",
     "output_type": "stream",
     "text": [
      "EvaluatorHoldout: Processed 5965 (100.0%) in 2.31 sec. Users per second: 2583\n"
     ]
    },
    {
     "name": "stderr",
     "output_type": "stream",
     "text": [
      "[I 2023-07-25 04:14:12,930] Trial 20 finished with value: 0.08253852499368057 and parameters: {'cutoff': 197}. Best is trial 18 with value: 0.08278277385276607.\n"
     ]
    },
    {
     "name": "stdout",
     "output_type": "stream",
     "text": [
      "EvaluatorHoldout: Processed 5965 (100.0%) in 2.30 sec. Users per second: 2595\n"
     ]
    },
    {
     "name": "stderr",
     "output_type": "stream",
     "text": [
      "[I 2023-07-25 04:14:58,539] Trial 21 finished with value: 0.08414453358879223 and parameters: {'cutoff': 197}. Best is trial 21 with value: 0.08414453358879223.\n"
     ]
    },
    {
     "name": "stdout",
     "output_type": "stream",
     "text": [
      "EvaluatorHoldout: Processed 5965 (100.0%) in 2.31 sec. Users per second: 2588\n"
     ]
    },
    {
     "name": "stderr",
     "output_type": "stream",
     "text": [
      "[I 2023-07-25 04:15:44,144] Trial 22 finished with value: 0.08259634242073516 and parameters: {'cutoff': 186}. Best is trial 21 with value: 0.08414453358879223.\n"
     ]
    },
    {
     "name": "stdout",
     "output_type": "stream",
     "text": [
      "EvaluatorHoldout: Processed 5965 (100.0%) in 2.49 sec. Users per second: 2397\n"
     ]
    },
    {
     "name": "stderr",
     "output_type": "stream",
     "text": [
      "[I 2023-07-25 04:16:29,864] Trial 23 finished with value: 0.05602684974520728 and parameters: {'cutoff': 22}. Best is trial 21 with value: 0.08414453358879223.\n"
     ]
    },
    {
     "name": "stdout",
     "output_type": "stream",
     "text": [
      "EvaluatorHoldout: Processed 5965 (100.0%) in 2.28 sec. Users per second: 2615\n"
     ]
    },
    {
     "name": "stderr",
     "output_type": "stream",
     "text": [
      "[I 2023-07-25 04:17:15,446] Trial 24 finished with value: 0.07966748493194484 and parameters: {'cutoff': 141}. Best is trial 21 with value: 0.08414453358879223.\n"
     ]
    },
    {
     "name": "stdout",
     "output_type": "stream",
     "text": [
      "EvaluatorHoldout: Processed 5965 (100.0%) in 2.31 sec. Users per second: 2581\n"
     ]
    },
    {
     "name": "stderr",
     "output_type": "stream",
     "text": [
      "[I 2023-07-25 04:18:01,092] Trial 25 finished with value: 0.08142243111270818 and parameters: {'cutoff': 186}. Best is trial 21 with value: 0.08414453358879223.\n"
     ]
    },
    {
     "name": "stdout",
     "output_type": "stream",
     "text": [
      "EvaluatorHoldout: Processed 5965 (100.0%) in 2.25 sec. Users per second: 2656\n"
     ]
    },
    {
     "name": "stderr",
     "output_type": "stream",
     "text": [
      "[I 2023-07-25 04:18:46,622] Trial 26 finished with value: 0.07907575273753017 and parameters: {'cutoff': 131}. Best is trial 21 with value: 0.08414453358879223.\n"
     ]
    },
    {
     "name": "stdout",
     "output_type": "stream",
     "text": [
      "EvaluatorHoldout: Processed 5965 (100.0%) in 2.30 sec. Users per second: 2588\n"
     ]
    },
    {
     "name": "stderr",
     "output_type": "stream",
     "text": [
      "[I 2023-07-25 04:19:32,234] Trial 27 finished with value: 0.08228189571441928 and parameters: {'cutoff': 197}. Best is trial 21 with value: 0.08414453358879223.\n"
     ]
    },
    {
     "name": "stdout",
     "output_type": "stream",
     "text": [
      "EvaluatorHoldout: Processed 5965 (100.0%) in 2.31 sec. Users per second: 2580\n"
     ]
    },
    {
     "name": "stderr",
     "output_type": "stream",
     "text": [
      "[I 2023-07-25 04:20:17,850] Trial 28 finished with value: 0.08299077289479684 and parameters: {'cutoff': 195}. Best is trial 21 with value: 0.08414453358879223.\n"
     ]
    },
    {
     "name": "stdout",
     "output_type": "stream",
     "text": [
      "EvaluatorHoldout: Processed 5965 (100.0%) in 2.65 sec. Users per second: 2250\n"
     ]
    },
    {
     "name": "stderr",
     "output_type": "stream",
     "text": [
      "[I 2023-07-25 04:21:03,733] Trial 29 finished with value: 0.059534034513498445 and parameters: {'cutoff': 29}. Best is trial 21 with value: 0.08414453358879223.\n"
     ]
    },
    {
     "name": "stdout",
     "output_type": "stream",
     "text": [
      "EvaluatorHoldout: Processed 5965 (100.0%) in 2.18 sec. Users per second: 2735\n"
     ]
    },
    {
     "name": "stderr",
     "output_type": "stream",
     "text": [
      "[I 2023-07-25 04:21:49,161] Trial 30 finished with value: 0.07006527495043882 and parameters: {'cutoff': 55}. Best is trial 21 with value: 0.08414453358879223.\n"
     ]
    },
    {
     "name": "stdout",
     "output_type": "stream",
     "text": [
      "EvaluatorHoldout: Processed 5965 (100.0%) in 2.21 sec. Users per second: 2704\n"
     ]
    },
    {
     "name": "stderr",
     "output_type": "stream",
     "text": [
      "[I 2023-07-25 04:22:34,602] Trial 31 finished with value: 0.07313888556260785 and parameters: {'cutoff': 74}. Best is trial 21 with value: 0.08414453358879223.\n"
     ]
    },
    {
     "name": "stdout",
     "output_type": "stream",
     "text": [
      "EvaluatorHoldout: Processed 5965 (100.0%) in 2.25 sec. Users per second: 2654\n"
     ]
    },
    {
     "name": "stderr",
     "output_type": "stream",
     "text": [
      "[I 2023-07-25 04:23:20,159] Trial 32 finished with value: 0.07730346332441919 and parameters: {'cutoff': 115}. Best is trial 21 with value: 0.08414453358879223.\n"
     ]
    },
    {
     "name": "stdout",
     "output_type": "stream",
     "text": [
      "EvaluatorHoldout: Processed 5965 (100.0%) in 2.26 sec. Users per second: 2640\n"
     ]
    },
    {
     "name": "stderr",
     "output_type": "stream",
     "text": [
      "[I 2023-07-25 04:24:05,793] Trial 33 finished with value: 0.07722492316289517 and parameters: {'cutoff': 112}. Best is trial 21 with value: 0.08414453358879223.\n"
     ]
    },
    {
     "name": "stdout",
     "output_type": "stream",
     "text": [
      "EvaluatorHoldout: Processed 5965 (100.0%) in 2.53 sec. Users per second: 2353\n"
     ]
    },
    {
     "name": "stderr",
     "output_type": "stream",
     "text": [
      "[I 2023-07-25 04:24:51,631] Trial 34 finished with value: 0.07932996048377489 and parameters: {'cutoff': 134}. Best is trial 21 with value: 0.08414453358879223.\n"
     ]
    },
    {
     "name": "stdout",
     "output_type": "stream",
     "text": [
      "EvaluatorHoldout: Processed 5965 (100.0%) in 2.30 sec. Users per second: 2595\n"
     ]
    },
    {
     "name": "stderr",
     "output_type": "stream",
     "text": [
      "[I 2023-07-25 04:25:37,216] Trial 35 finished with value: 0.08169070903019003 and parameters: {'cutoff': 162}. Best is trial 21 with value: 0.08414453358879223.\n"
     ]
    },
    {
     "name": "stdout",
     "output_type": "stream",
     "text": [
      "EvaluatorHoldout: Processed 5965 (100.0%) in 2.31 sec. Users per second: 2583\n"
     ]
    },
    {
     "name": "stderr",
     "output_type": "stream",
     "text": [
      "[I 2023-07-25 04:26:22,850] Trial 36 finished with value: 0.0819403065501143 and parameters: {'cutoff': 187}. Best is trial 21 with value: 0.08414453358879223.\n"
     ]
    },
    {
     "name": "stdout",
     "output_type": "stream",
     "text": [
      "EvaluatorHoldout: Processed 5965 (100.0%) in 2.28 sec. Users per second: 2611\n"
     ]
    },
    {
     "name": "stderr",
     "output_type": "stream",
     "text": [
      "[I 2023-07-25 04:27:08,348] Trial 37 finished with value: 0.04839552814699515 and parameters: {'cutoff': 13}. Best is trial 21 with value: 0.08414453358879223.\n"
     ]
    },
    {
     "name": "stdout",
     "output_type": "stream",
     "text": [
      "EvaluatorHoldout: Processed 5965 (100.0%) in 2.18 sec. Users per second: 2741\n"
     ]
    },
    {
     "name": "stderr",
     "output_type": "stream",
     "text": [
      "[I 2023-07-25 04:27:53,754] Trial 38 finished with value: 0.06857112255352033 and parameters: {'cutoff': 54}. Best is trial 21 with value: 0.08414453358879223.\n"
     ]
    },
    {
     "name": "stdout",
     "output_type": "stream",
     "text": [
      "EvaluatorHoldout: Processed 5965 (100.0%) in 2.31 sec. Users per second: 2585\n"
     ]
    },
    {
     "name": "stderr",
     "output_type": "stream",
     "text": [
      "[I 2023-07-25 04:28:39,314] Trial 39 finished with value: 0.04979329155523641 and parameters: {'cutoff': 14}. Best is trial 21 with value: 0.08414453358879223.\n"
     ]
    },
    {
     "name": "stdout",
     "output_type": "stream",
     "text": [
      "EvaluatorHoldout: Processed 5965 (100.0%) in 2.23 sec. Users per second: 2679\n"
     ]
    },
    {
     "name": "stderr",
     "output_type": "stream",
     "text": [
      "[I 2023-07-25 04:29:24,790] Trial 40 finished with value: 0.07646667731076826 and parameters: {'cutoff': 103}. Best is trial 21 with value: 0.08414453358879223.\n"
     ]
    },
    {
     "name": "stdout",
     "output_type": "stream",
     "text": [
      "EvaluatorHoldout: Processed 5965 (100.0%) in 2.34 sec. Users per second: 2548\n"
     ]
    },
    {
     "name": "stderr",
     "output_type": "stream",
     "text": [
      "[I 2023-07-25 04:30:10,424] Trial 41 finished with value: 0.08292521188413952 and parameters: {'cutoff': 197}. Best is trial 21 with value: 0.08414453358879223.\n"
     ]
    },
    {
     "name": "stdout",
     "output_type": "stream",
     "text": [
      "EvaluatorHoldout: Processed 5965 (100.0%) in 2.30 sec. Users per second: 2597\n"
     ]
    },
    {
     "name": "stderr",
     "output_type": "stream",
     "text": [
      "[I 2023-07-25 04:30:56,067] Trial 42 finished with value: 0.08086111443739345 and parameters: {'cutoff': 153}. Best is trial 21 with value: 0.08414453358879223.\n"
     ]
    },
    {
     "name": "stdout",
     "output_type": "stream",
     "text": [
      "EvaluatorHoldout: Processed 5965 (100.0%) in 2.26 sec. Users per second: 2638\n"
     ]
    },
    {
     "name": "stderr",
     "output_type": "stream",
     "text": [
      "[I 2023-07-25 04:31:41,653] Trial 43 finished with value: 0.07783649995343235 and parameters: {'cutoff': 124}. Best is trial 21 with value: 0.08414453358879223.\n"
     ]
    },
    {
     "name": "stdout",
     "output_type": "stream",
     "text": [
      "EvaluatorHoldout: Processed 5965 (100.0%) in 2.31 sec. Users per second: 2578\n"
     ]
    },
    {
     "name": "stderr",
     "output_type": "stream",
     "text": [
      "[I 2023-07-25 04:32:27,290] Trial 44 finished with value: 0.08255530941071645 and parameters: {'cutoff': 195}. Best is trial 21 with value: 0.08414453358879223.\n"
     ]
    },
    {
     "name": "stdout",
     "output_type": "stream",
     "text": [
      "EvaluatorHoldout: Processed 5965 (100.0%) in 2.24 sec. Users per second: 2659\n"
     ]
    },
    {
     "name": "stderr",
     "output_type": "stream",
     "text": [
      "[I 2023-07-25 04:33:12,814] Trial 45 finished with value: 0.07694989954629579 and parameters: {'cutoff': 114}. Best is trial 21 with value: 0.08414453358879223.\n"
     ]
    },
    {
     "name": "stdout",
     "output_type": "stream",
     "text": [
      "EvaluatorHoldout: Processed 5965 (100.0%) in 2.26 sec. Users per second: 2636\n"
     ]
    },
    {
     "name": "stderr",
     "output_type": "stream",
     "text": [
      "[I 2023-07-25 04:33:58,355] Trial 46 finished with value: 0.07765588951423037 and parameters: {'cutoff': 116}. Best is trial 21 with value: 0.08414453358879223.\n"
     ]
    },
    {
     "name": "stdout",
     "output_type": "stream",
     "text": [
      "EvaluatorHoldout: Processed 5965 (100.0%) in 2.29 sec. Users per second: 2604\n"
     ]
    },
    {
     "name": "stderr",
     "output_type": "stream",
     "text": [
      "[I 2023-07-25 04:34:43,930] Trial 47 finished with value: 0.08044738487739385 and parameters: {'cutoff': 158}. Best is trial 21 with value: 0.08414453358879223.\n"
     ]
    },
    {
     "name": "stdout",
     "output_type": "stream",
     "text": [
      "EvaluatorHoldout: Processed 5965 (100.0%) in 2.21 sec. Users per second: 2700\n"
     ]
    },
    {
     "name": "stderr",
     "output_type": "stream",
     "text": [
      "[I 2023-07-25 04:35:29,386] Trial 48 finished with value: 0.07351009859098757 and parameters: {'cutoff': 76}. Best is trial 21 with value: 0.08414453358879223.\n"
     ]
    },
    {
     "name": "stdout",
     "output_type": "stream",
     "text": [
      "EvaluatorHoldout: Processed 5965 (100.0%) in 2.28 sec. Users per second: 2617\n"
     ]
    },
    {
     "name": "stderr",
     "output_type": "stream",
     "text": [
      "[I 2023-07-25 04:36:14,954] Trial 49 finished with value: 0.08112645857448926 and parameters: {'cutoff': 165}. Best is trial 21 with value: 0.08414453358879223.\n"
     ]
    },
    {
     "name": "stdout",
     "output_type": "stream",
     "text": [
      "EvaluatorHoldout: Processed 5965 (100.0%) in 2.31 sec. Users per second: 2586\n"
     ]
    },
    {
     "name": "stderr",
     "output_type": "stream",
     "text": [
      "[I 2023-07-25 04:37:00,492] A new study created in memory with name: no-name-f2c44e15-ed37-4385-8b75-f7330f295244\n"
     ]
    },
    {
     "name": "stdout",
     "output_type": "stream",
     "text": [
      "SLIMElasticNetRecommender\n",
      "Recommender_Base_Class: URM Detected 204 ( 5.3%) items with no interactions.\n",
      "DiffusionAutoencoderRecommender_SLIMElasticNetRecommender_TwoLevelRec\n",
      "EvaluatorHoldout: Processed 5965 (100.0%) in 2.25 sec. Users per second: 2646\n"
     ]
    },
    {
     "name": "stderr",
     "output_type": "stream",
     "text": [
      "[I 2023-07-25 04:37:07,613] Trial 0 finished with value: 0.09835277877566247 and parameters: {'cutoff': 116}. Best is trial 0 with value: 0.09835277877566247.\n"
     ]
    },
    {
     "name": "stdout",
     "output_type": "stream",
     "text": [
      "EvaluatorHoldout: Processed 5965 (100.0%) in 2.29 sec. Users per second: 2600\n"
     ]
    },
    {
     "name": "stderr",
     "output_type": "stream",
     "text": [
      "[I 2023-07-25 04:37:14,805] Trial 1 finished with value: 0.09835044372596784 and parameters: {'cutoff': 154}. Best is trial 0 with value: 0.09835277877566247.\n"
     ]
    },
    {
     "name": "stdout",
     "output_type": "stream",
     "text": [
      "EvaluatorHoldout: Processed 5965 (100.0%) in 2.30 sec. Users per second: 2593\n"
     ]
    },
    {
     "name": "stderr",
     "output_type": "stream",
     "text": [
      "[I 2023-07-25 04:37:21,993] Trial 2 finished with value: 0.09826678774331772 and parameters: {'cutoff': 160}. Best is trial 0 with value: 0.09835277877566247.\n"
     ]
    },
    {
     "name": "stdout",
     "output_type": "stream",
     "text": [
      "EvaluatorHoldout: Processed 5965 (100.0%) in 2.63 sec. Users per second: 2271\n"
     ]
    },
    {
     "name": "stderr",
     "output_type": "stream",
     "text": [
      "[I 2023-07-25 04:37:29,432] Trial 3 finished with value: 0.0988271863649063 and parameters: {'cutoff': 27}. Best is trial 3 with value: 0.0988271863649063.\n"
     ]
    },
    {
     "name": "stdout",
     "output_type": "stream",
     "text": [
      "EvaluatorHoldout: Processed 5965 (100.0%) in 2.20 sec. Users per second: 2714\n"
     ]
    },
    {
     "name": "stderr",
     "output_type": "stream",
     "text": [
      "[I 2023-07-25 04:37:36,455] Trial 4 finished with value: 0.09939418432922208 and parameters: {'cutoff': 49}. Best is trial 4 with value: 0.09939418432922208.\n"
     ]
    },
    {
     "name": "stdout",
     "output_type": "stream",
     "text": [
      "EvaluatorHoldout: Processed 5965 (100.0%) in 2.23 sec. Users per second: 2673\n"
     ]
    },
    {
     "name": "stderr",
     "output_type": "stream",
     "text": [
      "[I 2023-07-25 04:37:43,533] Trial 5 finished with value: 0.09878606021900255 and parameters: {'cutoff': 84}. Best is trial 4 with value: 0.09939418432922208.\n"
     ]
    },
    {
     "name": "stdout",
     "output_type": "stream",
     "text": [
      "EvaluatorHoldout: Processed 5965 (100.0%) in 2.42 sec. Users per second: 2467\n"
     ]
    },
    {
     "name": "stderr",
     "output_type": "stream",
     "text": [
      "[I 2023-07-25 04:37:50,767] Trial 6 finished with value: 0.09835620484572676 and parameters: {'cutoff': 17}. Best is trial 4 with value: 0.09939418432922208.\n"
     ]
    },
    {
     "name": "stdout",
     "output_type": "stream",
     "text": [
      "EvaluatorHoldout: Processed 5965 (100.0%) in 2.21 sec. Users per second: 2696\n"
     ]
    },
    {
     "name": "stderr",
     "output_type": "stream",
     "text": [
      "[I 2023-07-25 04:37:57,824] Trial 7 finished with value: 0.09893617530834642 and parameters: {'cutoff': 65}. Best is trial 4 with value: 0.09939418432922208.\n"
     ]
    },
    {
     "name": "stdout",
     "output_type": "stream",
     "text": [
      "EvaluatorHoldout: Processed 5965 (100.0%) in 2.30 sec. Users per second: 2590\n"
     ]
    },
    {
     "name": "stderr",
     "output_type": "stream",
     "text": [
      "[I 2023-07-25 04:38:05,015] Trial 8 finished with value: 0.09813643741933797 and parameters: {'cutoff': 172}. Best is trial 4 with value: 0.09939418432922208.\n"
     ]
    },
    {
     "name": "stdout",
     "output_type": "stream",
     "text": [
      "EvaluatorHoldout: Processed 5965 (100.0%) in 2.28 sec. Users per second: 2618\n"
     ]
    },
    {
     "name": "stderr",
     "output_type": "stream",
     "text": [
      "[I 2023-07-25 04:38:12,173] Trial 9 finished with value: 0.0984841935097596 and parameters: {'cutoff': 132}. Best is trial 4 with value: 0.09939418432922208.\n"
     ]
    },
    {
     "name": "stdout",
     "output_type": "stream",
     "text": [
      "EvaluatorHoldout: Processed 5965 (100.0%) in 2.21 sec. Users per second: 2697\n"
     ]
    },
    {
     "name": "stderr",
     "output_type": "stream",
     "text": [
      "[I 2023-07-25 04:38:19,234] Trial 10 finished with value: 0.09925197913756166 and parameters: {'cutoff': 49}. Best is trial 4 with value: 0.09939418432922208.\n"
     ]
    },
    {
     "name": "stdout",
     "output_type": "stream",
     "text": [
      "EvaluatorHoldout: Processed 5965 (100.0%) in 2.24 sec. Users per second: 2666\n"
     ]
    },
    {
     "name": "stderr",
     "output_type": "stream",
     "text": [
      "[I 2023-07-25 04:38:26,307] Trial 11 finished with value: 0.09973933261485642 and parameters: {'cutoff': 37}. Best is trial 11 with value: 0.09973933261485642.\n"
     ]
    },
    {
     "name": "stdout",
     "output_type": "stream",
     "text": [
      "EvaluatorHoldout: Processed 5965 (100.0%) in 2.38 sec. Users per second: 2505\n"
     ]
    },
    {
     "name": "stderr",
     "output_type": "stream",
     "text": [
      "[I 2023-07-25 04:38:33,528] Trial 12 finished with value: 0.09759931611649966 and parameters: {'cutoff': 15}. Best is trial 11 with value: 0.09973933261485642.\n"
     ]
    },
    {
     "name": "stdout",
     "output_type": "stream",
     "text": [
      "EvaluatorHoldout: Processed 5965 (100.0%) in 2.24 sec. Users per second: 2662\n"
     ]
    },
    {
     "name": "stderr",
     "output_type": "stream",
     "text": [
      "[I 2023-07-25 04:38:40,648] Trial 13 finished with value: 0.09874960417248783 and parameters: {'cutoff': 90}. Best is trial 11 with value: 0.09973933261485642.\n"
     ]
    },
    {
     "name": "stdout",
     "output_type": "stream",
     "text": [
      "EvaluatorHoldout: Processed 5965 (100.0%) in 2.21 sec. Users per second: 2703\n"
     ]
    },
    {
     "name": "stderr",
     "output_type": "stream",
     "text": [
      "[I 2023-07-25 04:38:47,686] Trial 14 finished with value: 0.09926847749437855 and parameters: {'cutoff': 49}. Best is trial 11 with value: 0.09973933261485642.\n"
     ]
    },
    {
     "name": "stdout",
     "output_type": "stream",
     "text": [
      "EvaluatorHoldout: Processed 5965 (100.0%) in 2.46 sec. Users per second: 2430\n"
     ]
    },
    {
     "name": "stderr",
     "output_type": "stream",
     "text": [
      "[I 2023-07-25 04:38:54,963] Trial 15 finished with value: 0.09953509892361537 and parameters: {'cutoff': 37}. Best is trial 11 with value: 0.09973933261485642.\n"
     ]
    },
    {
     "name": "stdout",
     "output_type": "stream",
     "text": [
      "EvaluatorHoldout: Processed 5965 (100.0%) in 2.29 sec. Users per second: 2604\n"
     ]
    },
    {
     "name": "stderr",
     "output_type": "stream",
     "text": [
      "[I 2023-07-25 04:39:02,163] Trial 16 finished with value: 0.09843743264279757 and parameters: {'cutoff': 143}. Best is trial 11 with value: 0.09973933261485642.\n"
     ]
    },
    {
     "name": "stdout",
     "output_type": "stream",
     "text": [
      "EvaluatorHoldout: Processed 5965 (100.0%) in 2.22 sec. Users per second: 2685\n"
     ]
    },
    {
     "name": "stderr",
     "output_type": "stream",
     "text": [
      "[I 2023-07-25 04:39:09,251] Trial 17 finished with value: 0.09873049801088367 and parameters: {'cutoff': 67}. Best is trial 11 with value: 0.09973933261485642.\n"
     ]
    },
    {
     "name": "stdout",
     "output_type": "stream",
     "text": [
      "EvaluatorHoldout: Processed 5965 (100.0%) in 2.31 sec. Users per second: 2581\n"
     ]
    },
    {
     "name": "stderr",
     "output_type": "stream",
     "text": [
      "[I 2023-07-25 04:39:16,460] Trial 18 finished with value: 0.09814695512180864 and parameters: {'cutoff': 179}. Best is trial 11 with value: 0.09973933261485642.\n"
     ]
    },
    {
     "name": "stdout",
     "output_type": "stream",
     "text": [
      "EvaluatorHoldout: Processed 5965 (100.0%) in 2.31 sec. Users per second: 2583\n"
     ]
    },
    {
     "name": "stderr",
     "output_type": "stream",
     "text": [
      "[I 2023-07-25 04:39:23,683] Trial 19 finished with value: 0.09825614364214554 and parameters: {'cutoff': 174}. Best is trial 11 with value: 0.09973933261485642.\n"
     ]
    },
    {
     "name": "stdout",
     "output_type": "stream",
     "text": [
      "EvaluatorHoldout: Processed 5965 (100.0%) in 2.33 sec. Users per second: 2565\n"
     ]
    },
    {
     "name": "stderr",
     "output_type": "stream",
     "text": [
      "[I 2023-07-25 04:39:30,907] Trial 20 finished with value: 0.09809044824971082 and parameters: {'cutoff': 192}. Best is trial 11 with value: 0.09973933261485642.\n"
     ]
    },
    {
     "name": "stdout",
     "output_type": "stream",
     "text": [
      "EvaluatorHoldout: Processed 5965 (100.0%) in 2.20 sec. Users per second: 2712\n"
     ]
    },
    {
     "name": "stderr",
     "output_type": "stream",
     "text": [
      "[I 2023-07-25 04:39:37,941] Trial 21 finished with value: 0.09935569259835812 and parameters: {'cutoff': 37}. Best is trial 11 with value: 0.09973933261485642.\n"
     ]
    },
    {
     "name": "stdout",
     "output_type": "stream",
     "text": [
      "EvaluatorHoldout: Processed 5965 (100.0%) in 2.31 sec. Users per second: 2580\n"
     ]
    },
    {
     "name": "stderr",
     "output_type": "stream",
     "text": [
      "[I 2023-07-25 04:39:45,154] Trial 22 finished with value: 0.09818084993147891 and parameters: {'cutoff': 178}. Best is trial 11 with value: 0.09973933261485642.\n"
     ]
    },
    {
     "name": "stdout",
     "output_type": "stream",
     "text": [
      "EvaluatorHoldout: Processed 5965 (100.0%) in 2.28 sec. Users per second: 2611\n"
     ]
    },
    {
     "name": "stderr",
     "output_type": "stream",
     "text": [
      "[I 2023-07-25 04:39:52,337] Trial 23 finished with value: 0.09840852725555185 and parameters: {'cutoff': 134}. Best is trial 11 with value: 0.09973933261485642.\n"
     ]
    },
    {
     "name": "stdout",
     "output_type": "stream",
     "text": [
      "EvaluatorHoldout: Processed 5965 (100.0%) in 2.27 sec. Users per second: 2627\n"
     ]
    },
    {
     "name": "stderr",
     "output_type": "stream",
     "text": [
      "[I 2023-07-25 04:39:59,489] Trial 24 finished with value: 0.09845991830652383 and parameters: {'cutoff': 138}. Best is trial 11 with value: 0.09973933261485642.\n"
     ]
    },
    {
     "name": "stdout",
     "output_type": "stream",
     "text": [
      "EvaluatorHoldout: Processed 5965 (100.0%) in 2.21 sec. Users per second: 2704\n"
     ]
    },
    {
     "name": "stderr",
     "output_type": "stream",
     "text": [
      "[I 2023-07-25 04:40:06,535] Trial 25 finished with value: 0.09933147726819147 and parameters: {'cutoff': 37}. Best is trial 11 with value: 0.09973933261485642.\n"
     ]
    },
    {
     "name": "stdout",
     "output_type": "stream",
     "text": [
      "EvaluatorHoldout: Processed 5965 (100.0%) in 2.19 sec. Users per second: 2723\n"
     ]
    },
    {
     "name": "stderr",
     "output_type": "stream",
     "text": [
      "[I 2023-07-25 04:40:13,564] Trial 26 finished with value: 0.09951769581819885 and parameters: {'cutoff': 40}. Best is trial 11 with value: 0.09973933261485642.\n"
     ]
    },
    {
     "name": "stdout",
     "output_type": "stream",
     "text": [
      "EvaluatorHoldout: Processed 5965 (100.0%) in 2.19 sec. Users per second: 2724\n"
     ]
    },
    {
     "name": "stderr",
     "output_type": "stream",
     "text": [
      "[I 2023-07-25 04:40:20,585] Trial 27 finished with value: 0.09949042696150827 and parameters: {'cutoff': 40}. Best is trial 11 with value: 0.09973933261485642.\n"
     ]
    },
    {
     "name": "stdout",
     "output_type": "stream",
     "text": [
      "EvaluatorHoldout: Processed 5965 (100.0%) in 2.20 sec. Users per second: 2709\n"
     ]
    },
    {
     "name": "stderr",
     "output_type": "stream",
     "text": [
      "[I 2023-07-25 04:40:27,632] Trial 28 finished with value: 0.0994462339839543 and parameters: {'cutoff': 37}. Best is trial 11 with value: 0.09973933261485642.\n"
     ]
    },
    {
     "name": "stdout",
     "output_type": "stream",
     "text": [
      "EvaluatorHoldout: Processed 5965 (100.0%) in 2.22 sec. Users per second: 2683\n"
     ]
    },
    {
     "name": "stderr",
     "output_type": "stream",
     "text": [
      "[I 2023-07-25 04:40:34,707] Trial 29 finished with value: 0.09869725515241036 and parameters: {'cutoff': 74}. Best is trial 11 with value: 0.09973933261485642.\n"
     ]
    },
    {
     "name": "stdout",
     "output_type": "stream",
     "text": [
      "EvaluatorHoldout: Processed 5965 (100.0%) in 2.20 sec. Users per second: 2706\n"
     ]
    },
    {
     "name": "stderr",
     "output_type": "stream",
     "text": [
      "[I 2023-07-25 04:40:41,749] Trial 30 finished with value: 0.0995816336034274 and parameters: {'cutoff': 46}. Best is trial 11 with value: 0.09973933261485642.\n"
     ]
    },
    {
     "name": "stdout",
     "output_type": "stream",
     "text": [
      "EvaluatorHoldout: Processed 5965 (100.0%) in 2.21 sec. Users per second: 2695\n"
     ]
    },
    {
     "name": "stderr",
     "output_type": "stream",
     "text": [
      "[I 2023-07-25 04:40:48,811] Trial 31 finished with value: 0.09881728069825305 and parameters: {'cutoff': 66}. Best is trial 11 with value: 0.09973933261485642.\n"
     ]
    },
    {
     "name": "stdout",
     "output_type": "stream",
     "text": [
      "EvaluatorHoldout: Processed 5965 (100.0%) in 2.20 sec. Users per second: 2707\n"
     ]
    },
    {
     "name": "stderr",
     "output_type": "stream",
     "text": [
      "[I 2023-07-25 04:40:55,844] Trial 32 finished with value: 0.09943947497970972 and parameters: {'cutoff': 42}. Best is trial 11 with value: 0.09973933261485642.\n"
     ]
    },
    {
     "name": "stdout",
     "output_type": "stream",
     "text": [
      "EvaluatorHoldout: Processed 5965 (100.0%) in 2.22 sec. Users per second: 2686\n"
     ]
    },
    {
     "name": "stderr",
     "output_type": "stream",
     "text": [
      "[I 2023-07-25 04:41:02,908] Trial 33 finished with value: 0.09863845979856052 and parameters: {'cutoff': 69}. Best is trial 11 with value: 0.09973933261485642.\n"
     ]
    },
    {
     "name": "stdout",
     "output_type": "stream",
     "text": [
      "EvaluatorHoldout: Processed 5965 (100.0%) in 2.65 sec. Users per second: 2251\n"
     ]
    },
    {
     "name": "stderr",
     "output_type": "stream",
     "text": [
      "[I 2023-07-25 04:41:10,385] Trial 34 finished with value: 0.098894929416304 and parameters: {'cutoff': 28}. Best is trial 11 with value: 0.09973933261485642.\n"
     ]
    },
    {
     "name": "stdout",
     "output_type": "stream",
     "text": [
      "EvaluatorHoldout: Processed 5965 (100.0%) in 2.28 sec. Users per second: 2619\n"
     ]
    },
    {
     "name": "stderr",
     "output_type": "stream",
     "text": [
      "[I 2023-07-25 04:41:17,547] Trial 35 finished with value: 0.09829373727697309 and parameters: {'cutoff': 152}. Best is trial 11 with value: 0.09973933261485642.\n"
     ]
    },
    {
     "name": "stdout",
     "output_type": "stream",
     "text": [
      "EvaluatorHoldout: Processed 5965 (100.0%) in 2.20 sec. Users per second: 2713\n"
     ]
    },
    {
     "name": "stderr",
     "output_type": "stream",
     "text": [
      "[I 2023-07-25 04:41:24,591] Trial 36 finished with value: 0.09946919197966977 and parameters: {'cutoff': 46}. Best is trial 11 with value: 0.09973933261485642.\n"
     ]
    },
    {
     "name": "stdout",
     "output_type": "stream",
     "text": [
      "EvaluatorHoldout: Processed 5965 (100.0%) in 2.28 sec. Users per second: 2612\n"
     ]
    },
    {
     "name": "stderr",
     "output_type": "stream",
     "text": [
      "[I 2023-07-25 04:41:31,750] Trial 37 finished with value: 0.09839506912013228 and parameters: {'cutoff': 142}. Best is trial 11 with value: 0.09973933261485642.\n"
     ]
    },
    {
     "name": "stdout",
     "output_type": "stream",
     "text": [
      "EvaluatorHoldout: Processed 5965 (100.0%) in 2.29 sec. Users per second: 2600\n"
     ]
    },
    {
     "name": "stderr",
     "output_type": "stream",
     "text": [
      "[I 2023-07-25 04:41:38,928] Trial 38 finished with value: 0.09835938477095256 and parameters: {'cutoff': 151}. Best is trial 11 with value: 0.09973933261485642.\n"
     ]
    },
    {
     "name": "stdout",
     "output_type": "stream",
     "text": [
      "EvaluatorHoldout: Processed 5965 (100.0%) in 2.30 sec. Users per second: 2597\n"
     ]
    },
    {
     "name": "stderr",
     "output_type": "stream",
     "text": [
      "[I 2023-07-25 04:41:46,116] Trial 39 finished with value: 0.09821572266794416 and parameters: {'cutoff': 168}. Best is trial 11 with value: 0.09973933261485642.\n"
     ]
    },
    {
     "name": "stdout",
     "output_type": "stream",
     "text": [
      "EvaluatorHoldout: Processed 5965 (100.0%) in 2.26 sec. Users per second: 2640\n"
     ]
    },
    {
     "name": "stderr",
     "output_type": "stream",
     "text": [
      "[I 2023-07-25 04:41:53,259] Trial 40 finished with value: 0.09839560797775407 and parameters: {'cutoff': 122}. Best is trial 11 with value: 0.09973933261485642.\n"
     ]
    },
    {
     "name": "stdout",
     "output_type": "stream",
     "text": [
      "EvaluatorHoldout: Processed 5965 (100.0%) in 2.20 sec. Users per second: 2706\n"
     ]
    },
    {
     "name": "stderr",
     "output_type": "stream",
     "text": [
      "[I 2023-07-25 04:42:00,299] Trial 41 finished with value: 0.09957042403438045 and parameters: {'cutoff': 41}. Best is trial 11 with value: 0.09973933261485642.\n"
     ]
    },
    {
     "name": "stdout",
     "output_type": "stream",
     "text": [
      "EvaluatorHoldout: Processed 5965 (100.0%) in 2.31 sec. Users per second: 2577\n"
     ]
    },
    {
     "name": "stderr",
     "output_type": "stream",
     "text": [
      "[I 2023-07-25 04:42:07,512] Trial 42 finished with value: 0.0980860509054141 and parameters: {'cutoff': 197}. Best is trial 11 with value: 0.09973933261485642.\n"
     ]
    },
    {
     "name": "stdout",
     "output_type": "stream",
     "text": [
      "EvaluatorHoldout: Processed 5965 (100.0%) in 2.20 sec. Users per second: 2714\n"
     ]
    },
    {
     "name": "stderr",
     "output_type": "stream",
     "text": [
      "[I 2023-07-25 04:42:14,552] Trial 43 finished with value: 0.09939790311206906 and parameters: {'cutoff': 41}. Best is trial 11 with value: 0.09973933261485642.\n"
     ]
    },
    {
     "name": "stdout",
     "output_type": "stream",
     "text": [
      "EvaluatorHoldout: Processed 5965 (100.0%) in 2.28 sec. Users per second: 2611\n"
     ]
    },
    {
     "name": "stderr",
     "output_type": "stream",
     "text": [
      "[I 2023-07-25 04:42:21,720] Trial 44 finished with value: 0.09843568301866747 and parameters: {'cutoff': 140}. Best is trial 11 with value: 0.09973933261485642.\n"
     ]
    },
    {
     "name": "stdout",
     "output_type": "stream",
     "text": [
      "EvaluatorHoldout: Processed 5965 (100.0%) in 2.36 sec. Users per second: 2522\n"
     ]
    },
    {
     "name": "stderr",
     "output_type": "stream",
     "text": [
      "[I 2023-07-25 04:42:28,989] Trial 45 finished with value: 0.09806138320094755 and parameters: {'cutoff': 191}. Best is trial 11 with value: 0.09973933261485642.\n"
     ]
    },
    {
     "name": "stdout",
     "output_type": "stream",
     "text": [
      "EvaluatorHoldout: Processed 5965 (100.0%) in 2.30 sec. Users per second: 2595\n"
     ]
    },
    {
     "name": "stderr",
     "output_type": "stream",
     "text": [
      "[I 2023-07-25 04:42:36,234] Trial 46 finished with value: 0.0982388336726143 and parameters: {'cutoff': 158}. Best is trial 11 with value: 0.09973933261485642.\n"
     ]
    },
    {
     "name": "stdout",
     "output_type": "stream",
     "text": [
      "EvaluatorHoldout: Processed 5965 (100.0%) in 2.61 sec. Users per second: 2289\n"
     ]
    },
    {
     "name": "stderr",
     "output_type": "stream",
     "text": [
      "[I 2023-07-25 04:42:43,684] Trial 47 finished with value: 0.09878162295932605 and parameters: {'cutoff': 26}. Best is trial 11 with value: 0.09973933261485642.\n"
     ]
    },
    {
     "name": "stdout",
     "output_type": "stream",
     "text": [
      "EvaluatorHoldout: Processed 5965 (100.0%) in 2.32 sec. Users per second: 2570\n"
     ]
    },
    {
     "name": "stderr",
     "output_type": "stream",
     "text": [
      "[I 2023-07-25 04:42:51,115] Trial 48 finished with value: 0.0981045117683846 and parameters: {'cutoff': 189}. Best is trial 11 with value: 0.09973933261485642.\n"
     ]
    },
    {
     "name": "stdout",
     "output_type": "stream",
     "text": [
      "EvaluatorHoldout: Processed 5965 (100.0%) in 2.29 sec. Users per second: 2609\n"
     ]
    },
    {
     "name": "stderr",
     "output_type": "stream",
     "text": [
      "[I 2023-07-25 04:42:58,317] Trial 49 finished with value: 0.0982224351042459 and parameters: {'cutoff': 164}. Best is trial 11 with value: 0.09973933261485642.\n"
     ]
    },
    {
     "name": "stdout",
     "output_type": "stream",
     "text": [
      "EvaluatorHoldout: Processed 5965 (100.0%) in 2.21 sec. Users per second: 2704\n"
     ]
    },
    {
     "name": "stderr",
     "output_type": "stream",
     "text": [
      "[I 2023-07-25 04:43:05,363] A new study created in memory with name: no-name-f9663301-abd5-4f07-9db7-f0c766d0c6eb\n"
     ]
    },
    {
     "name": "stdout",
     "output_type": "stream",
     "text": [
      "SLIMElasticNetRecommender\n",
      "Recommender_Base_Class: URM Detected 204 ( 5.3%) items with no interactions.\n",
      "DiffusionAutoencoderRecommender_SLIMElasticNetRecommender_TwoLevelRec\n",
      "EvaluatorHoldout: Processed 5965 (100.0%) in 2.29 sec. Users per second: 2602\n"
     ]
    },
    {
     "name": "stderr",
     "output_type": "stream",
     "text": [
      "[I 2023-07-25 04:43:29,615] Trial 0 finished with value: 0.09562022512273997 and parameters: {'cutoff': 125}. Best is trial 0 with value: 0.09562022512273997.\n"
     ]
    },
    {
     "name": "stdout",
     "output_type": "stream",
     "text": [
      "EvaluatorHoldout: Processed 5965 (100.0%) in 2.25 sec. Users per second: 2654\n"
     ]
    },
    {
     "name": "stderr",
     "output_type": "stream",
     "text": [
      "[I 2023-07-25 04:43:53,866] Trial 1 finished with value: 0.09434488883566845 and parameters: {'cutoff': 96}. Best is trial 0 with value: 0.09562022512273997.\n"
     ]
    },
    {
     "name": "stdout",
     "output_type": "stream",
     "text": [
      "EvaluatorHoldout: Processed 5965 (100.0%) in 2.31 sec. Users per second: 2582\n"
     ]
    },
    {
     "name": "stderr",
     "output_type": "stream",
     "text": [
      "[I 2023-07-25 04:44:18,117] Trial 2 finished with value: 0.09651572665948188 and parameters: {'cutoff': 178}. Best is trial 2 with value: 0.09651572665948188.\n"
     ]
    },
    {
     "name": "stdout",
     "output_type": "stream",
     "text": [
      "EvaluatorHoldout: Processed 5965 (100.0%) in 2.45 sec. Users per second: 2431\n"
     ]
    },
    {
     "name": "stderr",
     "output_type": "stream",
     "text": [
      "[I 2023-07-25 04:44:42,454] Trial 3 finished with value: 0.08573063106214868 and parameters: {'cutoff': 19}. Best is trial 2 with value: 0.09651572665948188.\n"
     ]
    },
    {
     "name": "stdout",
     "output_type": "stream",
     "text": [
      "EvaluatorHoldout: Processed 5965 (100.0%) in 2.21 sec. Users per second: 2698\n"
     ]
    },
    {
     "name": "stderr",
     "output_type": "stream",
     "text": [
      "[I 2023-07-25 04:45:06,577] Trial 4 finished with value: 0.09352316422517619 and parameters: {'cutoff': 67}. Best is trial 2 with value: 0.09651572665948188.\n"
     ]
    },
    {
     "name": "stdout",
     "output_type": "stream",
     "text": [
      "EvaluatorHoldout: Processed 5965 (100.0%) in 2.26 sec. Users per second: 2639\n"
     ]
    },
    {
     "name": "stderr",
     "output_type": "stream",
     "text": [
      "[I 2023-07-25 04:45:30,758] Trial 5 finished with value: 0.09537912292606356 and parameters: {'cutoff': 124}. Best is trial 2 with value: 0.09651572665948188.\n"
     ]
    },
    {
     "name": "stdout",
     "output_type": "stream",
     "text": [
      "EvaluatorHoldout: Processed 5965 (100.0%) in 2.26 sec. Users per second: 2636\n"
     ]
    },
    {
     "name": "stderr",
     "output_type": "stream",
     "text": [
      "[I 2023-07-25 04:45:54,974] Trial 6 finished with value: 0.09538840990433624 and parameters: {'cutoff': 135}. Best is trial 2 with value: 0.09651572665948188.\n"
     ]
    },
    {
     "name": "stdout",
     "output_type": "stream",
     "text": [
      "EvaluatorHoldout: Processed 5965 (100.0%) in 2.29 sec. Users per second: 2604\n"
     ]
    },
    {
     "name": "stderr",
     "output_type": "stream",
     "text": [
      "[I 2023-07-25 04:46:19,213] Trial 7 finished with value: 0.0956867973230086 and parameters: {'cutoff': 150}. Best is trial 2 with value: 0.09651572665948188.\n"
     ]
    },
    {
     "name": "stdout",
     "output_type": "stream",
     "text": [
      "EvaluatorHoldout: Processed 5965 (100.0%) in 2.25 sec. Users per second: 2654\n"
     ]
    },
    {
     "name": "stderr",
     "output_type": "stream",
     "text": [
      "[I 2023-07-25 04:46:43,416] Trial 8 finished with value: 0.09477558243191106 and parameters: {'cutoff': 88}. Best is trial 2 with value: 0.09651572665948188.\n"
     ]
    },
    {
     "name": "stdout",
     "output_type": "stream",
     "text": [
      "EvaluatorHoldout: Processed 5965 (100.0%) in 2.25 sec. Users per second: 2648\n"
     ]
    },
    {
     "name": "stderr",
     "output_type": "stream",
     "text": [
      "[I 2023-07-25 04:47:07,589] Trial 9 finished with value: 0.0947404103301003 and parameters: {'cutoff': 104}. Best is trial 2 with value: 0.09651572665948188.\n"
     ]
    },
    {
     "name": "stdout",
     "output_type": "stream",
     "text": [
      "EvaluatorHoldout: Processed 5965 (100.0%) in 2.65 sec. Users per second: 2251\n"
     ]
    },
    {
     "name": "stderr",
     "output_type": "stream",
     "text": [
      "[I 2023-07-25 04:47:32,137] Trial 10 finished with value: 0.08872997911095185 and parameters: {'cutoff': 28}. Best is trial 2 with value: 0.09651572665948188.\n"
     ]
    },
    {
     "name": "stdout",
     "output_type": "stream",
     "text": [
      "EvaluatorHoldout: Processed 5965 (100.0%) in 2.20 sec. Users per second: 2716\n"
     ]
    },
    {
     "name": "stderr",
     "output_type": "stream",
     "text": [
      "[I 2023-07-25 04:47:56,773] Trial 11 finished with value: 0.09121877619446805 and parameters: {'cutoff': 43}. Best is trial 2 with value: 0.09651572665948188.\n"
     ]
    },
    {
     "name": "stdout",
     "output_type": "stream",
     "text": [
      "EvaluatorHoldout: Processed 5965 (100.0%) in 2.30 sec. Users per second: 2592\n"
     ]
    },
    {
     "name": "stderr",
     "output_type": "stream",
     "text": [
      "[I 2023-07-25 04:48:21,025] Trial 12 finished with value: 0.09602786093481826 and parameters: {'cutoff': 150}. Best is trial 2 with value: 0.09651572665948188.\n"
     ]
    },
    {
     "name": "stdout",
     "output_type": "stream",
     "text": [
      "EvaluatorHoldout: Processed 5965 (100.0%) in 2.21 sec. Users per second: 2701\n"
     ]
    },
    {
     "name": "stderr",
     "output_type": "stream",
     "text": [
      "[I 2023-07-25 04:48:45,206] Trial 13 finished with value: 0.09190321185752894 and parameters: {'cutoff': 47}. Best is trial 2 with value: 0.09651572665948188.\n"
     ]
    },
    {
     "name": "stdout",
     "output_type": "stream",
     "text": [
      "EvaluatorHoldout: Processed 5965 (100.0%) in 2.32 sec. Users per second: 2573\n"
     ]
    },
    {
     "name": "stderr",
     "output_type": "stream",
     "text": [
      "[I 2023-07-25 04:49:09,485] Trial 14 finished with value: 0.09629593262283959 and parameters: {'cutoff': 178}. Best is trial 2 with value: 0.09651572665948188.\n"
     ]
    },
    {
     "name": "stdout",
     "output_type": "stream",
     "text": [
      "EvaluatorHoldout: Processed 5965 (100.0%) in 2.20 sec. Users per second: 2707\n"
     ]
    },
    {
     "name": "stderr",
     "output_type": "stream",
     "text": [
      "[I 2023-07-25 04:49:33,582] Trial 15 finished with value: 0.09151896645777648 and parameters: {'cutoff': 45}. Best is trial 2 with value: 0.09651572665948188.\n"
     ]
    },
    {
     "name": "stdout",
     "output_type": "stream",
     "text": [
      "EvaluatorHoldout: Processed 5965 (100.0%) in 2.71 sec. Users per second: 2199\n"
     ]
    },
    {
     "name": "stderr",
     "output_type": "stream",
     "text": [
      "[I 2023-07-25 04:49:58,183] Trial 16 finished with value: 0.0896589696510069 and parameters: {'cutoff': 32}. Best is trial 2 with value: 0.09651572665948188.\n"
     ]
    },
    {
     "name": "stdout",
     "output_type": "stream",
     "text": [
      "EvaluatorHoldout: Processed 5965 (100.0%) in 2.27 sec. Users per second: 2633\n"
     ]
    },
    {
     "name": "stderr",
     "output_type": "stream",
     "text": [
      "[I 2023-07-25 04:50:22,372] Trial 17 finished with value: 0.09499819715536402 and parameters: {'cutoff': 113}. Best is trial 2 with value: 0.09651572665948188.\n"
     ]
    },
    {
     "name": "stdout",
     "output_type": "stream",
     "text": [
      "EvaluatorHoldout: Processed 5965 (100.0%) in 2.32 sec. Users per second: 2571\n"
     ]
    },
    {
     "name": "stderr",
     "output_type": "stream",
     "text": [
      "[I 2023-07-25 04:50:46,660] Trial 18 finished with value: 0.09639188254234365 and parameters: {'cutoff': 178}. Best is trial 2 with value: 0.09651572665948188.\n"
     ]
    },
    {
     "name": "stdout",
     "output_type": "stream",
     "text": [
      "EvaluatorHoldout: Processed 5965 (100.0%) in 2.22 sec. Users per second: 2685\n"
     ]
    },
    {
     "name": "stderr",
     "output_type": "stream",
     "text": [
      "[I 2023-07-25 04:51:10,815] Trial 19 finished with value: 0.09440033129764919 and parameters: {'cutoff': 82}. Best is trial 2 with value: 0.09651572665948188.\n"
     ]
    },
    {
     "name": "stdout",
     "output_type": "stream",
     "text": [
      "EvaluatorHoldout: Processed 5965 (100.0%) in 2.29 sec. Users per second: 2603\n"
     ]
    },
    {
     "name": "stderr",
     "output_type": "stream",
     "text": [
      "[I 2023-07-25 04:51:35,062] Trial 20 finished with value: 0.09628739073164895 and parameters: {'cutoff': 178}. Best is trial 2 with value: 0.09651572665948188.\n"
     ]
    },
    {
     "name": "stdout",
     "output_type": "stream",
     "text": [
      "EvaluatorHoldout: Processed 5965 (100.0%) in 2.33 sec. Users per second: 2564\n"
     ]
    },
    {
     "name": "stderr",
     "output_type": "stream",
     "text": [
      "[I 2023-07-25 04:51:59,387] Trial 21 finished with value: 0.09594803017602695 and parameters: {'cutoff': 198}. Best is trial 2 with value: 0.09651572665948188.\n"
     ]
    },
    {
     "name": "stdout",
     "output_type": "stream",
     "text": [
      "EvaluatorHoldout: Processed 5965 (100.0%) in 2.30 sec. Users per second: 2593\n"
     ]
    },
    {
     "name": "stderr",
     "output_type": "stream",
     "text": [
      "[I 2023-07-25 04:52:23,694] Trial 22 finished with value: 0.09629520084088401 and parameters: {'cutoff': 178}. Best is trial 2 with value: 0.09651572665948188.\n"
     ]
    },
    {
     "name": "stdout",
     "output_type": "stream",
     "text": [
      "EvaluatorHoldout: Processed 5965 (100.0%) in 2.31 sec. Users per second: 2579\n"
     ]
    },
    {
     "name": "stderr",
     "output_type": "stream",
     "text": [
      "[I 2023-07-25 04:52:47,937] Trial 23 finished with value: 0.09605948722042607 and parameters: {'cutoff': 178}. Best is trial 2 with value: 0.09651572665948188.\n"
     ]
    },
    {
     "name": "stdout",
     "output_type": "stream",
     "text": [
      "EvaluatorHoldout: Processed 5965 (100.0%) in 2.26 sec. Users per second: 2641\n"
     ]
    },
    {
     "name": "stderr",
     "output_type": "stream",
     "text": [
      "[I 2023-07-25 04:53:12,137] Trial 24 finished with value: 0.0946710839686534 and parameters: {'cutoff': 105}. Best is trial 2 with value: 0.09651572665948188.\n"
     ]
    },
    {
     "name": "stdout",
     "output_type": "stream",
     "text": [
      "EvaluatorHoldout: Processed 5965 (100.0%) in 2.31 sec. Users per second: 2585\n"
     ]
    },
    {
     "name": "stderr",
     "output_type": "stream",
     "text": [
      "[I 2023-07-25 04:53:36,323] Trial 25 finished with value: 0.08051124948442669 and parameters: {'cutoff': 12}. Best is trial 2 with value: 0.09651572665948188.\n"
     ]
    },
    {
     "name": "stdout",
     "output_type": "stream",
     "text": [
      "EvaluatorHoldout: Processed 5965 (100.0%) in 2.59 sec. Users per second: 2306\n"
     ]
    },
    {
     "name": "stderr",
     "output_type": "stream",
     "text": [
      "[I 2023-07-25 04:54:00,842] Trial 26 finished with value: 0.08721314147341007 and parameters: {'cutoff': 24}. Best is trial 2 with value: 0.09651572665948188.\n"
     ]
    },
    {
     "name": "stdout",
     "output_type": "stream",
     "text": [
      "EvaluatorHoldout: Processed 5965 (100.0%) in 2.31 sec. Users per second: 2583\n"
     ]
    },
    {
     "name": "stderr",
     "output_type": "stream",
     "text": [
      "[I 2023-07-25 04:54:25,130] Trial 27 finished with value: 0.09632414614350907 and parameters: {'cutoff': 164}. Best is trial 2 with value: 0.09651572665948188.\n"
     ]
    },
    {
     "name": "stdout",
     "output_type": "stream",
     "text": [
      "EvaluatorHoldout: Processed 5965 (100.0%) in 2.23 sec. Users per second: 2678\n"
     ]
    },
    {
     "name": "stderr",
     "output_type": "stream",
     "text": [
      "[I 2023-07-25 04:54:49,289] Trial 28 finished with value: 0.09470177889540847 and parameters: {'cutoff': 83}. Best is trial 2 with value: 0.09651572665948188.\n"
     ]
    },
    {
     "name": "stdout",
     "output_type": "stream",
     "text": [
      "EvaluatorHoldout: Processed 5965 (100.0%) in 2.58 sec. Users per second: 2315\n"
     ]
    },
    {
     "name": "stderr",
     "output_type": "stream",
     "text": [
      "[I 2023-07-25 04:55:13,812] Trial 29 finished with value: 0.09598656182227022 and parameters: {'cutoff': 180}. Best is trial 2 with value: 0.09651572665948188.\n"
     ]
    },
    {
     "name": "stdout",
     "output_type": "stream",
     "text": [
      "EvaluatorHoldout: Processed 5965 (100.0%) in 2.31 sec. Users per second: 2581\n"
     ]
    },
    {
     "name": "stderr",
     "output_type": "stream",
     "text": [
      "[I 2023-07-25 04:55:38,087] Trial 30 finished with value: 0.09626394044625401 and parameters: {'cutoff': 161}. Best is trial 2 with value: 0.09651572665948188.\n"
     ]
    },
    {
     "name": "stdout",
     "output_type": "stream",
     "text": [
      "EvaluatorHoldout: Processed 5965 (100.0%) in 2.31 sec. Users per second: 2578\n"
     ]
    },
    {
     "name": "stderr",
     "output_type": "stream",
     "text": [
      "[I 2023-07-25 04:56:02,373] Trial 31 finished with value: 0.09634595989834888 and parameters: {'cutoff': 164}. Best is trial 2 with value: 0.09651572665948188.\n"
     ]
    },
    {
     "name": "stdout",
     "output_type": "stream",
     "text": [
      "EvaluatorHoldout: Processed 5965 (100.0%) in 2.30 sec. Users per second: 2593\n"
     ]
    },
    {
     "name": "stderr",
     "output_type": "stream",
     "text": [
      "[I 2023-07-25 04:56:26,857] Trial 32 finished with value: 0.09601125613698959 and parameters: {'cutoff': 164}. Best is trial 2 with value: 0.09651572665948188.\n"
     ]
    },
    {
     "name": "stdout",
     "output_type": "stream",
     "text": [
      "EvaluatorHoldout: Processed 5965 (100.0%) in 2.29 sec. Users per second: 2603\n"
     ]
    },
    {
     "name": "stderr",
     "output_type": "stream",
     "text": [
      "[I 2023-07-25 04:56:51,106] Trial 33 finished with value: 0.0963762024508042 and parameters: {'cutoff': 165}. Best is trial 2 with value: 0.09651572665948188.\n"
     ]
    },
    {
     "name": "stdout",
     "output_type": "stream",
     "text": [
      "EvaluatorHoldout: Processed 5965 (100.0%) in 2.31 sec. Users per second: 2588\n"
     ]
    },
    {
     "name": "stderr",
     "output_type": "stream",
     "text": [
      "[I 2023-07-25 04:57:15,379] Trial 34 finished with value: 0.09616643382695354 and parameters: {'cutoff': 165}. Best is trial 2 with value: 0.09651572665948188.\n"
     ]
    },
    {
     "name": "stdout",
     "output_type": "stream",
     "text": [
      "EvaluatorHoldout: Processed 5965 (100.0%) in 2.29 sec. Users per second: 2600\n"
     ]
    },
    {
     "name": "stderr",
     "output_type": "stream",
     "text": [
      "[I 2023-07-25 04:57:39,566] Trial 35 finished with value: 0.07885973735680381 and parameters: {'cutoff': 11}. Best is trial 2 with value: 0.09651572665948188.\n"
     ]
    },
    {
     "name": "stdout",
     "output_type": "stream",
     "text": [
      "EvaluatorHoldout: Processed 5965 (100.0%) in 2.24 sec. Users per second: 2667\n"
     ]
    },
    {
     "name": "stderr",
     "output_type": "stream",
     "text": [
      "[I 2023-07-25 04:58:03,717] Trial 36 finished with value: 0.09401440279939886 and parameters: {'cutoff': 72}. Best is trial 2 with value: 0.09651572665948188.\n"
     ]
    },
    {
     "name": "stdout",
     "output_type": "stream",
     "text": [
      "EvaluatorHoldout: Processed 5965 (100.0%) in 2.31 sec. Users per second: 2578\n"
     ]
    },
    {
     "name": "stderr",
     "output_type": "stream",
     "text": [
      "[I 2023-07-25 04:58:27,974] Trial 37 finished with value: 0.09597066219614424 and parameters: {'cutoff': 146}. Best is trial 2 with value: 0.09651572665948188.\n"
     ]
    },
    {
     "name": "stdout",
     "output_type": "stream",
     "text": [
      "EvaluatorHoldout: Processed 5965 (100.0%) in 2.27 sec. Users per second: 2632\n"
     ]
    },
    {
     "name": "stderr",
     "output_type": "stream",
     "text": [
      "[I 2023-07-25 04:58:52,194] Trial 38 finished with value: 0.09526390718343793 and parameters: {'cutoff': 123}. Best is trial 2 with value: 0.09651572665948188.\n"
     ]
    },
    {
     "name": "stdout",
     "output_type": "stream",
     "text": [
      "EvaluatorHoldout: Processed 5965 (100.0%) in 2.31 sec. Users per second: 2581\n"
     ]
    },
    {
     "name": "stderr",
     "output_type": "stream",
     "text": [
      "[I 2023-07-25 04:59:16,467] Trial 39 finished with value: 0.09617532830399571 and parameters: {'cutoff': 191}. Best is trial 2 with value: 0.09651572665948188.\n"
     ]
    },
    {
     "name": "stdout",
     "output_type": "stream",
     "text": [
      "EvaluatorHoldout: Processed 5965 (100.0%) in 2.25 sec. Users per second: 2646\n"
     ]
    },
    {
     "name": "stderr",
     "output_type": "stream",
     "text": [
      "[I 2023-07-25 04:59:40,654] Trial 40 finished with value: 0.09500331297649003 and parameters: {'cutoff': 106}. Best is trial 2 with value: 0.09651572665948188.\n"
     ]
    },
    {
     "name": "stdout",
     "output_type": "stream",
     "text": [
      "EvaluatorHoldout: Processed 5965 (100.0%) in 2.31 sec. Users per second: 2583\n"
     ]
    },
    {
     "name": "stderr",
     "output_type": "stream",
     "text": [
      "[I 2023-07-25 05:00:04,922] Trial 41 finished with value: 0.09625885788794447 and parameters: {'cutoff': 181}. Best is trial 2 with value: 0.09651572665948188.\n"
     ]
    },
    {
     "name": "stdout",
     "output_type": "stream",
     "text": [
      "EvaluatorHoldout: Processed 5965 (100.0%) in 2.38 sec. Users per second: 2505\n"
     ]
    },
    {
     "name": "stderr",
     "output_type": "stream",
     "text": [
      "[I 2023-07-25 05:00:29,194] Trial 42 finished with value: 0.08387630889181637 and parameters: {'cutoff': 16}. Best is trial 2 with value: 0.09651572665948188.\n"
     ]
    },
    {
     "name": "stdout",
     "output_type": "stream",
     "text": [
      "EvaluatorHoldout: Processed 5965 (100.0%) in 2.31 sec. Users per second: 2587\n"
     ]
    },
    {
     "name": "stderr",
     "output_type": "stream",
     "text": [
      "[I 2023-07-25 05:00:53,443] Trial 43 finished with value: 0.0957590973802206 and parameters: {'cutoff': 164}. Best is trial 2 with value: 0.09651572665948188.\n"
     ]
    },
    {
     "name": "stdout",
     "output_type": "stream",
     "text": [
      "EvaluatorHoldout: Processed 5965 (100.0%) in 2.30 sec. Users per second: 2589\n"
     ]
    },
    {
     "name": "stderr",
     "output_type": "stream",
     "text": [
      "[I 2023-07-25 05:01:17,708] Trial 44 finished with value: 0.0961562886680239 and parameters: {'cutoff': 190}. Best is trial 2 with value: 0.09651572665948188.\n"
     ]
    },
    {
     "name": "stdout",
     "output_type": "stream",
     "text": [
      "EvaluatorHoldout: Processed 5965 (100.0%) in 2.25 sec. Users per second: 2652\n"
     ]
    },
    {
     "name": "stderr",
     "output_type": "stream",
     "text": [
      "[I 2023-07-25 05:01:41,929] Trial 45 finished with value: 0.09472767732407303 and parameters: {'cutoff': 99}. Best is trial 2 with value: 0.09651572665948188.\n"
     ]
    },
    {
     "name": "stdout",
     "output_type": "stream",
     "text": [
      "EvaluatorHoldout: Processed 5965 (100.0%) in 2.30 sec. Users per second: 2591\n"
     ]
    },
    {
     "name": "stderr",
     "output_type": "stream",
     "text": [
      "[I 2023-07-25 05:02:06,205] Trial 46 finished with value: 0.09635096262589986 and parameters: {'cutoff': 179}. Best is trial 2 with value: 0.09651572665948188.\n"
     ]
    },
    {
     "name": "stdout",
     "output_type": "stream",
     "text": [
      "EvaluatorHoldout: Processed 5965 (100.0%) in 2.30 sec. Users per second: 2595\n"
     ]
    },
    {
     "name": "stderr",
     "output_type": "stream",
     "text": [
      "[I 2023-07-25 05:02:30,518] Trial 47 finished with value: 0.09628645272023312 and parameters: {'cutoff': 179}. Best is trial 2 with value: 0.09651572665948188.\n"
     ]
    },
    {
     "name": "stdout",
     "output_type": "stream",
     "text": [
      "EvaluatorHoldout: Processed 5965 (100.0%) in 2.25 sec. Users per second: 2651\n"
     ]
    },
    {
     "name": "stderr",
     "output_type": "stream",
     "text": [
      "[I 2023-07-25 05:02:54,725] Trial 48 finished with value: 0.0942738394603442 and parameters: {'cutoff': 92}. Best is trial 2 with value: 0.09651572665948188.\n"
     ]
    },
    {
     "name": "stdout",
     "output_type": "stream",
     "text": [
      "EvaluatorHoldout: Processed 5965 (100.0%) in 2.28 sec. Users per second: 2616\n"
     ]
    },
    {
     "name": "stderr",
     "output_type": "stream",
     "text": [
      "[I 2023-07-25 05:03:18,921] Trial 49 finished with value: 0.09476720685480133 and parameters: {'cutoff': 97}. Best is trial 2 with value: 0.09651572665948188.\n"
     ]
    },
    {
     "name": "stdout",
     "output_type": "stream",
     "text": [
      "EvaluatorHoldout: Processed 5965 (100.0%) in 2.31 sec. Users per second: 2577\n"
     ]
    }
   ],
   "source": [
    "inference_timesteps = {1,5,25,50}\n",
    "recommenders_instances = {itemKNNinstance, slim_rec, svd_rec}\n",
    "print(recommenders_instance for recommenders_instance in recommenders_instances)\n",
    "for traditional_rec in recommenders_instances:\n",
    "    for inference_timestep in inference_timesteps:\n",
    "        modelP.inference_timesteps = inference_timestep\n",
    "        print(traditional_rec.RECOMMENDER_NAME)\n",
    "        two_level_rec1 = TwoLevelRec(URM_train=URM_train, recommender1= modelP, recommender2=traditional_rec)\n",
    "        print(two_level_rec1.RECOMMENDER_NAME)\n",
    "\n",
    "        # Define the hyperparameter space\n",
    "        itemknn_hyperparam_space = {\n",
    "            \"cutoff\": list(range(10, 200)),\n",
    "        }\n",
    "\n",
    "        # Create an objective function\n",
    "        objective = create_objective_d(recommender_instance=two_level_rec1, URM_train= URM_train, URM_validation=URM_validation, hyperparam_space=itemknn_hyperparam_space, evaluator_validation=evaluator_validation)\n",
    "\n",
    "        # Create the study and run optimization\n",
    "        study = optuna.create_study(direction=\"maximize\")\n",
    "        study.optimize(objective, n_trials=50)\n",
    "        \n",
    "        two_level_rec1.fit(** study.best_params)\n",
    "        filename = \"best_models\" + str(inference_timestep) + \"_timesteps\" + \".csv\"\n",
    "        result_df, _ = evaluator_validation.evaluateRecommender(two_level_rec1)\n",
    "        result_df[\"RECOMMENDER\"] = two_level_rec1.RECOMMENDER_NAME\n",
    "        result_df[\"PARAMS\"] = str(study.best_params)\n",
    "\n",
    "        \n",
    "        # Check if file exists\n",
    "        if os.path.isfile(filename):\n",
    "            # If it exists, append without writing the header\n",
    "            pd.DataFrame(result_df.loc[10]).transpose().to_csv(filename, mode='a', header=False, index=False)\n",
    "        else:\n",
    "            # If it doesn't exist, create it, write the header\n",
    "            pd.DataFrame(result_df.loc[10]).transpose().to_csv(filename, mode='w', header=True, index=False)\n",
    "\n",
    "        "
   ]
  },
  {
   "cell_type": "code",
   "execution_count": null,
   "metadata": {},
   "outputs": [
    {
     "name": "stderr",
     "output_type": "stream",
     "text": [
      "[I 2023-07-25 05:03:43,195] A new study created in memory with name: no-name-3c9af4c2-9978-4866-abab-cd8035ef09be\n"
     ]
    },
    {
     "name": "stdout",
     "output_type": "stream",
     "text": [
      "Recommender_Base_Class: URM Detected 204 ( 5.3%) items with no interactions.\n",
      "PureSVDRecommender_DiffusionAutoencoderRecommender_TwoLevelRec\n",
      "EvaluatorHoldout: Processed 5965 (100.0%) in 3.11 sec. Users per second: 1918\n"
     ]
    },
    {
     "name": "stderr",
     "output_type": "stream",
     "text": [
      "[I 2023-07-25 05:03:46,672] Trial 0 finished with value: 0.09580343671416612 and parameters: {'cutoff': 36}. Best is trial 0 with value: 0.09580343671416612.\n"
     ]
    },
    {
     "name": "stdout",
     "output_type": "stream",
     "text": [
      "EvaluatorHoldout: Processed 5965 (100.0%) in 3.08 sec. Users per second: 1937\n"
     ]
    },
    {
     "name": "stderr",
     "output_type": "stream",
     "text": [
      "[I 2023-07-25 05:03:50,110] Trial 1 finished with value: 0.09515458561183629 and parameters: {'cutoff': 51}. Best is trial 0 with value: 0.09580343671416612.\n"
     ]
    },
    {
     "name": "stdout",
     "output_type": "stream",
     "text": [
      "EvaluatorHoldout: Processed 5965 (100.0%) in 3.14 sec. Users per second: 1898\n"
     ]
    },
    {
     "name": "stderr",
     "output_type": "stream",
     "text": [
      "[I 2023-07-25 05:03:53,646] Trial 2 finished with value: 0.09521694673957863 and parameters: {'cutoff': 124}. Best is trial 0 with value: 0.09580343671416612.\n"
     ]
    },
    {
     "name": "stdout",
     "output_type": "stream",
     "text": [
      "EvaluatorHoldout: Processed 5965 (100.0%) in 3.09 sec. Users per second: 1929\n"
     ]
    },
    {
     "name": "stderr",
     "output_type": "stream",
     "text": [
      "[I 2023-07-25 05:03:57,105] Trial 3 finished with value: 0.09495470269694932 and parameters: {'cutoff': 62}. Best is trial 0 with value: 0.09580343671416612.\n"
     ]
    },
    {
     "name": "stdout",
     "output_type": "stream",
     "text": [
      "EvaluatorHoldout: Processed 5965 (100.0%) in 3.15 sec. Users per second: 1897\n"
     ]
    },
    {
     "name": "stderr",
     "output_type": "stream",
     "text": [
      "[I 2023-07-25 05:04:00,661] Trial 4 finished with value: 0.09533661304700716 and parameters: {'cutoff': 137}. Best is trial 0 with value: 0.09580343671416612.\n"
     ]
    },
    {
     "name": "stdout",
     "output_type": "stream",
     "text": [
      "EvaluatorHoldout: Processed 5965 (100.0%) in 3.29 sec. Users per second: 1811\n"
     ]
    },
    {
     "name": "stderr",
     "output_type": "stream",
     "text": [
      "[I 2023-07-25 05:04:04,313] Trial 5 finished with value: 0.09645379129578631 and parameters: {'cutoff': 17}. Best is trial 5 with value: 0.09645379129578631.\n"
     ]
    },
    {
     "name": "stdout",
     "output_type": "stream",
     "text": [
      "EvaluatorHoldout: Processed 5965 (100.0%) in 3.06 sec. Users per second: 1950\n"
     ]
    },
    {
     "name": "stderr",
     "output_type": "stream",
     "text": [
      "[I 2023-07-25 05:04:07,724] Trial 6 finished with value: 0.09556395109035501 and parameters: {'cutoff': 37}. Best is trial 5 with value: 0.09645379129578631.\n"
     ]
    },
    {
     "name": "stdout",
     "output_type": "stream",
     "text": [
      "EvaluatorHoldout: Processed 5965 (100.0%) in 3.13 sec. Users per second: 1906\n"
     ]
    },
    {
     "name": "stderr",
     "output_type": "stream",
     "text": [
      "[I 2023-07-25 05:04:11,243] Trial 7 finished with value: 0.09524194041964362 and parameters: {'cutoff': 114}. Best is trial 5 with value: 0.09645379129578631.\n"
     ]
    },
    {
     "name": "stdout",
     "output_type": "stream",
     "text": [
      "EvaluatorHoldout: Processed 5965 (100.0%) in 3.16 sec. Users per second: 1889\n"
     ]
    },
    {
     "name": "stderr",
     "output_type": "stream",
     "text": [
      "[I 2023-07-25 05:04:14,807] Trial 8 finished with value: 0.09488176399366652 and parameters: {'cutoff': 135}. Best is trial 5 with value: 0.09645379129578631.\n"
     ]
    },
    {
     "name": "stdout",
     "output_type": "stream",
     "text": [
      "EvaluatorHoldout: Processed 5965 (100.0%) in 3.09 sec. Users per second: 1929\n"
     ]
    },
    {
     "name": "stderr",
     "output_type": "stream",
     "text": [
      "[I 2023-07-25 05:04:18,272] Trial 9 finished with value: 0.09524726247023002 and parameters: {'cutoff': 64}. Best is trial 5 with value: 0.09645379129578631.\n"
     ]
    },
    {
     "name": "stdout",
     "output_type": "stream",
     "text": [
      "EvaluatorHoldout: Processed 5965 (100.0%) in 3.64 sec. Users per second: 1637\n"
     ]
    },
    {
     "name": "stderr",
     "output_type": "stream",
     "text": [
      "[I 2023-07-25 05:04:22,269] Trial 10 finished with value: 0.09640321851009197 and parameters: {'cutoff': 22}. Best is trial 5 with value: 0.09645379129578631.\n"
     ]
    },
    {
     "name": "stdout",
     "output_type": "stream",
     "text": [
      "EvaluatorHoldout: Processed 5965 (100.0%) in 3.38 sec. Users per second: 1763\n"
     ]
    },
    {
     "name": "stderr",
     "output_type": "stream",
     "text": [
      "[I 2023-07-25 05:04:26,009] Trial 11 finished with value: 0.0968319828629973 and parameters: {'cutoff': 22}. Best is trial 11 with value: 0.0968319828629973.\n"
     ]
    },
    {
     "name": "stdout",
     "output_type": "stream",
     "text": [
      "EvaluatorHoldout: Processed 5965 (100.0%) in 3.16 sec. Users per second: 1889\n"
     ]
    },
    {
     "name": "stderr",
     "output_type": "stream",
     "text": [
      "[I 2023-07-25 05:04:29,596] Trial 12 finished with value: 0.09535326441277843 and parameters: {'cutoff': 141}. Best is trial 11 with value: 0.0968319828629973.\n"
     ]
    },
    {
     "name": "stdout",
     "output_type": "stream",
     "text": [
      "EvaluatorHoldout: Processed 5965 (100.0%) in 3.14 sec. Users per second: 1897\n"
     ]
    },
    {
     "name": "stderr",
     "output_type": "stream",
     "text": [
      "[I 2023-07-25 05:04:33,166] Trial 13 finished with value: 0.09513367660559632 and parameters: {'cutoff': 146}. Best is trial 11 with value: 0.0968319828629973.\n"
     ]
    },
    {
     "name": "stdout",
     "output_type": "stream",
     "text": [
      "EvaluatorHoldout: Processed 5965 (100.0%) in 3.08 sec. Users per second: 1938\n"
     ]
    },
    {
     "name": "stderr",
     "output_type": "stream",
     "text": [
      "[I 2023-07-25 05:04:36,611] Trial 14 finished with value: 0.09540221397304387 and parameters: {'cutoff': 49}. Best is trial 11 with value: 0.0968319828629973.\n"
     ]
    },
    {
     "name": "stdout",
     "output_type": "stream",
     "text": [
      "EvaluatorHoldout: Processed 5965 (100.0%) in 3.13 sec. Users per second: 1904\n"
     ]
    },
    {
     "name": "stderr",
     "output_type": "stream",
     "text": [
      "[I 2023-07-25 05:04:40,140] Trial 15 finished with value: 0.09536151359118683 and parameters: {'cutoff': 119}. Best is trial 11 with value: 0.0968319828629973.\n"
     ]
    },
    {
     "name": "stdout",
     "output_type": "stream",
     "text": [
      "EvaluatorHoldout: Processed 5965 (100.0%) in 3.17 sec. Users per second: 1880\n"
     ]
    },
    {
     "name": "stderr",
     "output_type": "stream",
     "text": [
      "[I 2023-07-25 05:04:43,739] Trial 16 finished with value: 0.09524761505608134 and parameters: {'cutoff': 164}. Best is trial 11 with value: 0.0968319828629973.\n"
     ]
    },
    {
     "name": "stdout",
     "output_type": "stream",
     "text": [
      "EvaluatorHoldout: Processed 5965 (100.0%) in 3.18 sec. Users per second: 1873\n"
     ]
    },
    {
     "name": "stderr",
     "output_type": "stream",
     "text": [
      "[I 2023-07-25 05:04:47,362] Trial 17 finished with value: 0.09492452667012626 and parameters: {'cutoff': 193}. Best is trial 11 with value: 0.0968319828629973.\n"
     ]
    },
    {
     "name": "stdout",
     "output_type": "stream",
     "text": [
      "EvaluatorHoldout: Processed 5965 (100.0%) in 3.10 sec. Users per second: 1926\n"
     ]
    },
    {
     "name": "stderr",
     "output_type": "stream",
     "text": [
      "[I 2023-07-25 05:04:50,842] Trial 18 finished with value: 0.09488785108902459 and parameters: {'cutoff': 76}. Best is trial 11 with value: 0.0968319828629973.\n"
     ]
    },
    {
     "name": "stdout",
     "output_type": "stream",
     "text": [
      "EvaluatorHoldout: Processed 5965 (100.0%) in 3.29 sec. Users per second: 1812\n"
     ]
    },
    {
     "name": "stderr",
     "output_type": "stream",
     "text": [
      "[I 2023-07-25 05:04:54,482] Trial 19 finished with value: 0.09642789951968539 and parameters: {'cutoff': 17}. Best is trial 11 with value: 0.0968319828629973.\n"
     ]
    },
    {
     "name": "stdout",
     "output_type": "stream",
     "text": [
      "EvaluatorHoldout: Processed 5965 (100.0%) in 3.20 sec. Users per second: 1863\n"
     ]
    },
    {
     "name": "stderr",
     "output_type": "stream",
     "text": [
      "[I 2023-07-25 05:04:58,135] Trial 20 finished with value: 0.09522198272994596 and parameters: {'cutoff': 199}. Best is trial 11 with value: 0.0968319828629973.\n"
     ]
    },
    {
     "name": "stdout",
     "output_type": "stream",
     "text": [
      "EvaluatorHoldout: Processed 5965 (100.0%) in 3.11 sec. Users per second: 1921\n"
     ]
    },
    {
     "name": "stderr",
     "output_type": "stream",
     "text": [
      "[I 2023-07-25 05:05:01,636] Trial 21 finished with value: 0.09532904243004833 and parameters: {'cutoff': 90}. Best is trial 11 with value: 0.0968319828629973.\n"
     ]
    },
    {
     "name": "stdout",
     "output_type": "stream",
     "text": [
      "EvaluatorHoldout: Processed 5965 (100.0%) in 3.18 sec. Users per second: 1874\n"
     ]
    },
    {
     "name": "stderr",
     "output_type": "stream",
     "text": [
      "[I 2023-07-25 05:05:05,263] Trial 22 finished with value: 0.094881797256483 and parameters: {'cutoff': 173}. Best is trial 11 with value: 0.0968319828629973.\n"
     ]
    },
    {
     "name": "stdout",
     "output_type": "stream",
     "text": [
      "EvaluatorHoldout: Processed 5965 (100.0%) in 3.29 sec. Users per second: 1813\n"
     ]
    },
    {
     "name": "stderr",
     "output_type": "stream",
     "text": [
      "[I 2023-07-25 05:05:08,909] Trial 23 finished with value: 0.0962200268763559 and parameters: {'cutoff': 17}. Best is trial 11 with value: 0.0968319828629973.\n"
     ]
    },
    {
     "name": "stdout",
     "output_type": "stream",
     "text": [
      "EvaluatorHoldout: Processed 5965 (100.0%) in 3.11 sec. Users per second: 1916\n"
     ]
    },
    {
     "name": "stderr",
     "output_type": "stream",
     "text": [
      "[I 2023-07-25 05:05:12,406] Trial 24 finished with value: 0.09524947112122314 and parameters: {'cutoff': 92}. Best is trial 11 with value: 0.0968319828629973.\n"
     ]
    },
    {
     "name": "stdout",
     "output_type": "stream",
     "text": [
      "EvaluatorHoldout: Processed 5965 (100.0%) in 3.29 sec. Users per second: 1812\n"
     ]
    },
    {
     "name": "stderr",
     "output_type": "stream",
     "text": [
      "[I 2023-07-25 05:05:16,054] Trial 25 finished with value: 0.0962879162841447 and parameters: {'cutoff': 17}. Best is trial 11 with value: 0.0968319828629973.\n"
     ]
    },
    {
     "name": "stdout",
     "output_type": "stream",
     "text": [
      "EvaluatorHoldout: Processed 5965 (100.0%) in 3.45 sec. Users per second: 1731\n"
     ]
    },
    {
     "name": "stderr",
     "output_type": "stream",
     "text": [
      "[I 2023-07-25 05:05:19,854] Trial 26 finished with value: 0.09602714911055235 and parameters: {'cutoff': 25}. Best is trial 11 with value: 0.0968319828629973.\n"
     ]
    },
    {
     "name": "stdout",
     "output_type": "stream",
     "text": [
      "EvaluatorHoldout: Processed 5965 (100.0%) in 3.13 sec. Users per second: 1907\n"
     ]
    },
    {
     "name": "stderr",
     "output_type": "stream",
     "text": [
      "[I 2023-07-25 05:05:23,381] Trial 27 finished with value: 0.09524241940419637 and parameters: {'cutoff': 125}. Best is trial 11 with value: 0.0968319828629973.\n"
     ]
    },
    {
     "name": "stdout",
     "output_type": "stream",
     "text": [
      "EvaluatorHoldout: Processed 5965 (100.0%) in 3.28 sec. Users per second: 1816\n"
     ]
    },
    {
     "name": "stderr",
     "output_type": "stream",
     "text": [
      "[I 2023-07-25 05:05:27,020] Trial 28 finished with value: 0.09625975598398094 and parameters: {'cutoff': 17}. Best is trial 11 with value: 0.0968319828629973.\n"
     ]
    },
    {
     "name": "stdout",
     "output_type": "stream",
     "text": [
      "EvaluatorHoldout: Processed 5965 (100.0%) in 3.08 sec. Users per second: 1939\n"
     ]
    },
    {
     "name": "stderr",
     "output_type": "stream",
     "text": [
      "[I 2023-07-25 05:05:30,460] Trial 29 finished with value: 0.09547441424180732 and parameters: {'cutoff': 48}. Best is trial 11 with value: 0.0968319828629973.\n"
     ]
    },
    {
     "name": "stdout",
     "output_type": "stream",
     "text": [
      "EvaluatorHoldout: Processed 5965 (100.0%) in 3.07 sec. Users per second: 1943\n"
     ]
    },
    {
     "name": "stderr",
     "output_type": "stream",
     "text": [
      "[I 2023-07-25 05:05:33,903] Trial 30 finished with value: 0.09533178328610008 and parameters: {'cutoff': 55}. Best is trial 11 with value: 0.0968319828629973.\n"
     ]
    },
    {
     "name": "stdout",
     "output_type": "stream",
     "text": [
      "EvaluatorHoldout: Processed 5965 (100.0%) in 3.39 sec. Users per second: 1762\n"
     ]
    },
    {
     "name": "stderr",
     "output_type": "stream",
     "text": [
      "[I 2023-07-25 05:05:37,644] Trial 31 finished with value: 0.09646785481446021 and parameters: {'cutoff': 22}. Best is trial 11 with value: 0.0968319828629973.\n"
     ]
    },
    {
     "name": "stdout",
     "output_type": "stream",
     "text": [
      "EvaluatorHoldout: Processed 5965 (100.0%) in 3.16 sec. Users per second: 1885\n"
     ]
    },
    {
     "name": "stderr",
     "output_type": "stream",
     "text": [
      "[I 2023-07-25 05:05:41,227] Trial 32 finished with value: 0.09475858513285174 and parameters: {'cutoff': 160}. Best is trial 11 with value: 0.0968319828629973.\n"
     ]
    },
    {
     "name": "stdout",
     "output_type": "stream",
     "text": [
      "EvaluatorHoldout: Processed 5965 (100.0%) in 3.12 sec. Users per second: 1910\n"
     ]
    },
    {
     "name": "stderr",
     "output_type": "stream",
     "text": [
      "[I 2023-07-25 05:05:44,746] Trial 33 finished with value: 0.09497634348514508 and parameters: {'cutoff': 105}. Best is trial 11 with value: 0.0968319828629973.\n"
     ]
    },
    {
     "name": "stdout",
     "output_type": "stream",
     "text": [
      "EvaluatorHoldout: Processed 5965 (100.0%) in 3.10 sec. Users per second: 1922\n"
     ]
    },
    {
     "name": "stderr",
     "output_type": "stream",
     "text": [
      "[I 2023-07-25 05:05:48,237] Trial 34 finished with value: 0.09507589244135754 and parameters: {'cutoff': 87}. Best is trial 11 with value: 0.0968319828629973.\n"
     ]
    },
    {
     "name": "stdout",
     "output_type": "stream",
     "text": [
      "EvaluatorHoldout: Processed 5965 (100.0%) in 3.62 sec. Users per second: 1648\n"
     ]
    },
    {
     "name": "stderr",
     "output_type": "stream",
     "text": [
      "[I 2023-07-25 05:05:52,219] Trial 35 finished with value: 0.09549264891762801 and parameters: {'cutoff': 33}. Best is trial 11 with value: 0.0968319828629973.\n"
     ]
    },
    {
     "name": "stdout",
     "output_type": "stream",
     "text": [
      "EvaluatorHoldout: Processed 5965 (100.0%) in 3.09 sec. Users per second: 1928\n"
     ]
    },
    {
     "name": "stderr",
     "output_type": "stream",
     "text": [
      "[I 2023-07-25 05:05:55,699] Trial 36 finished with value: 0.09515018161497635 and parameters: {'cutoff': 65}. Best is trial 11 with value: 0.0968319828629973.\n"
     ]
    },
    {
     "name": "stdout",
     "output_type": "stream",
     "text": [
      "EvaluatorHoldout: Processed 5965 (100.0%) in 3.10 sec. Users per second: 1923\n"
     ]
    },
    {
     "name": "stderr",
     "output_type": "stream",
     "text": [
      "[I 2023-07-25 05:05:59,189] Trial 37 finished with value: 0.09498772602083613 and parameters: {'cutoff': 88}. Best is trial 11 with value: 0.0968319828629973.\n"
     ]
    },
    {
     "name": "stdout",
     "output_type": "stream",
     "text": [
      "EvaluatorHoldout: Processed 5965 (100.0%) in 3.16 sec. Users per second: 1887\n"
     ]
    },
    {
     "name": "stderr",
     "output_type": "stream",
     "text": [
      "[I 2023-07-25 05:06:02,782] Trial 38 finished with value: 0.09507425591080232 and parameters: {'cutoff': 145}. Best is trial 11 with value: 0.0968319828629973.\n"
     ]
    },
    {
     "name": "stdout",
     "output_type": "stream",
     "text": [
      "EvaluatorHoldout: Processed 5965 (100.0%) in 3.09 sec. Users per second: 1929\n"
     ]
    },
    {
     "name": "stderr",
     "output_type": "stream",
     "text": [
      "[I 2023-07-25 05:06:06,254] Trial 39 finished with value: 0.09525527215636174 and parameters: {'cutoff': 71}. Best is trial 11 with value: 0.0968319828629973.\n"
     ]
    },
    {
     "name": "stdout",
     "output_type": "stream",
     "text": [
      "EvaluatorHoldout: Processed 5965 (100.0%) in 3.17 sec. Users per second: 1882\n"
     ]
    },
    {
     "name": "stderr",
     "output_type": "stream",
     "text": [
      "[I 2023-07-25 05:06:09,843] Trial 40 finished with value: 0.09502345028539479 and parameters: {'cutoff': 167}. Best is trial 11 with value: 0.0968319828629973.\n"
     ]
    },
    {
     "name": "stdout",
     "output_type": "stream",
     "text": [
      "EvaluatorHoldout: Processed 5965 (100.0%) in 3.17 sec. Users per second: 1880\n"
     ]
    },
    {
     "name": "stderr",
     "output_type": "stream",
     "text": [
      "[I 2023-07-25 05:06:13,457] Trial 41 finished with value: 0.09526825795979199 and parameters: {'cutoff': 186}. Best is trial 11 with value: 0.0968319828629973.\n"
     ]
    },
    {
     "name": "stdout",
     "output_type": "stream",
     "text": [
      "EvaluatorHoldout: Processed 5965 (100.0%) in 3.40 sec. Users per second: 1757\n"
     ]
    },
    {
     "name": "stderr",
     "output_type": "stream",
     "text": [
      "[I 2023-07-25 05:06:17,220] Trial 42 finished with value: 0.09672759084075089 and parameters: {'cutoff': 22}. Best is trial 11 with value: 0.0968319828629973.\n"
     ]
    },
    {
     "name": "stdout",
     "output_type": "stream",
     "text": [
      "EvaluatorHoldout: Processed 5965 (100.0%) in 3.39 sec. Users per second: 1762\n"
     ]
    },
    {
     "name": "stderr",
     "output_type": "stream",
     "text": [
      "[I 2023-07-25 05:06:21,112] Trial 43 finished with value: 0.09675205896832062 and parameters: {'cutoff': 22}. Best is trial 11 with value: 0.0968319828629973.\n"
     ]
    },
    {
     "name": "stdout",
     "output_type": "stream",
     "text": [
      "EvaluatorHoldout: Processed 5965 (100.0%) in 3.39 sec. Users per second: 1761\n"
     ]
    },
    {
     "name": "stderr",
     "output_type": "stream",
     "text": [
      "[I 2023-07-25 05:06:24,874] Trial 44 finished with value: 0.09658734815524432 and parameters: {'cutoff': 22}. Best is trial 11 with value: 0.0968319828629973.\n"
     ]
    },
    {
     "name": "stdout",
     "output_type": "stream",
     "text": [
      "EvaluatorHoldout: Processed 5965 (100.0%) in 3.07 sec. Users per second: 1942\n"
     ]
    },
    {
     "name": "stderr",
     "output_type": "stream",
     "text": [
      "[I 2023-07-25 05:06:28,321] Trial 45 finished with value: 0.0953013345041846 and parameters: {'cutoff': 43}. Best is trial 11 with value: 0.0968319828629973.\n"
     ]
    },
    {
     "name": "stdout",
     "output_type": "stream",
     "text": [
      "EvaluatorHoldout: Processed 5965 (100.0%) in 3.38 sec. Users per second: 1763\n"
     ]
    },
    {
     "name": "stderr",
     "output_type": "stream",
     "text": [
      "[I 2023-07-25 05:06:32,061] Trial 46 finished with value: 0.09656103061509623 and parameters: {'cutoff': 22}. Best is trial 11 with value: 0.0968319828629973.\n"
     ]
    },
    {
     "name": "stdout",
     "output_type": "stream",
     "text": [
      "EvaluatorHoldout: Processed 5965 (100.0%) in 3.38 sec. Users per second: 1764\n"
     ]
    },
    {
     "name": "stderr",
     "output_type": "stream",
     "text": [
      "[I 2023-07-25 05:06:35,789] Trial 47 finished with value: 0.09637805851594632 and parameters: {'cutoff': 22}. Best is trial 11 with value: 0.0968319828629973.\n"
     ]
    },
    {
     "name": "stdout",
     "output_type": "stream",
     "text": [
      "EvaluatorHoldout: Processed 5965 (100.0%) in 3.06 sec. Users per second: 1949\n"
     ]
    },
    {
     "name": "stderr",
     "output_type": "stream",
     "text": [
      "[I 2023-07-25 05:06:39,214] Trial 48 finished with value: 0.09531890392368178 and parameters: {'cutoff': 44}. Best is trial 11 with value: 0.0968319828629973.\n"
     ]
    },
    {
     "name": "stdout",
     "output_type": "stream",
     "text": [
      "EvaluatorHoldout: Processed 5965 (100.0%) in 3.16 sec. Users per second: 1890\n"
     ]
    },
    {
     "name": "stderr",
     "output_type": "stream",
     "text": [
      "[I 2023-07-25 05:06:42,809] Trial 49 finished with value: 0.094963331071462 and parameters: {'cutoff': 155}. Best is trial 11 with value: 0.0968319828629973.\n"
     ]
    },
    {
     "name": "stdout",
     "output_type": "stream",
     "text": [
      "EvaluatorHoldout: Processed 5965 (100.0%) in 3.17 sec. Users per second: 1883\n"
     ]
    },
    {
     "name": "stderr",
     "output_type": "stream",
     "text": [
      "[I 2023-07-25 05:06:45,997] A new study created in memory with name: no-name-cb47625e-aa6c-4c97-a807-6083a5930553\n"
     ]
    },
    {
     "name": "stdout",
     "output_type": "stream",
     "text": [
      "Recommender_Base_Class: URM Detected 204 ( 5.3%) items with no interactions.\n",
      "PureSVDRecommender_DiffusionAutoencoderRecommender_TwoLevelRec\n",
      "EvaluatorHoldout: Processed 5965 (100.0%) in 44.53 sec. Users per second: 134\n"
     ]
    },
    {
     "name": "stderr",
     "output_type": "stream",
     "text": [
      "[I 2023-07-25 05:07:30,889] Trial 0 finished with value: 0.05878904056733084 and parameters: {'cutoff': 49}. Best is trial 0 with value: 0.05878904056733084.\n"
     ]
    },
    {
     "name": "stdout",
     "output_type": "stream",
     "text": [
      "EvaluatorHoldout: Processed 5965 (100.0%) in 44.53 sec. Users per second: 134\n"
     ]
    },
    {
     "name": "stderr",
     "output_type": "stream",
     "text": [
      "[I 2023-07-25 05:08:15,795] Trial 1 finished with value: 0.05546838701951865 and parameters: {'cutoff': 65}. Best is trial 0 with value: 0.05878904056733084.\n"
     ]
    },
    {
     "name": "stdout",
     "output_type": "stream",
     "text": [
      "EvaluatorHoldout: Processed 5965 (100.0%) in 44.54 sec. Users per second: 134\n"
     ]
    },
    {
     "name": "stderr",
     "output_type": "stream",
     "text": [
      "[I 2023-07-25 05:09:00,709] Trial 2 finished with value: 0.05512938570231121 and parameters: {'cutoff': 64}. Best is trial 0 with value: 0.05878904056733084.\n"
     ]
    },
    {
     "name": "stdout",
     "output_type": "stream",
     "text": [
      "EvaluatorHoldout: Processed 5965 (100.0%) in 44.82 sec. Users per second: 133\n"
     ]
    },
    {
     "name": "stderr",
     "output_type": "stream",
     "text": [
      "[I 2023-07-25 05:09:45,889] Trial 3 finished with value: 0.0796396639125057 and parameters: {'cutoff': 16}. Best is trial 3 with value: 0.0796396639125057.\n"
     ]
    },
    {
     "name": "stdout",
     "output_type": "stream",
     "text": [
      "EvaluatorHoldout: Processed 5965 (100.0%) in 44.64 sec. Users per second: 134\n"
     ]
    },
    {
     "name": "stderr",
     "output_type": "stream",
     "text": [
      "[I 2023-07-25 05:10:30,894] Trial 4 finished with value: 0.05991549914181962 and parameters: {'cutoff': 46}. Best is trial 3 with value: 0.0796396639125057.\n"
     ]
    },
    {
     "name": "stdout",
     "output_type": "stream",
     "text": [
      "EvaluatorHoldout: Processed 5965 (100.0%) in 44.71 sec. Users per second: 133\n"
     ]
    },
    {
     "name": "stderr",
     "output_type": "stream",
     "text": [
      "[I 2023-07-25 05:11:16,043] Trial 5 finished with value: 0.04440132918213384 and parameters: {'cutoff': 181}. Best is trial 3 with value: 0.0796396639125057.\n"
     ]
    },
    {
     "name": "stdout",
     "output_type": "stream",
     "text": [
      "EvaluatorHoldout: Processed 5965 (100.0%) in 44.62 sec. Users per second: 134\n"
     ]
    },
    {
     "name": "stderr",
     "output_type": "stream",
     "text": [
      "[I 2023-07-25 05:12:01,046] Trial 6 finished with value: 0.055530329035777606 and parameters: {'cutoff': 63}. Best is trial 3 with value: 0.0796396639125057.\n"
     ]
    },
    {
     "name": "stdout",
     "output_type": "stream",
     "text": [
      "EvaluatorHoldout: Processed 5965 (100.0%) in 44.72 sec. Users per second: 133\n"
     ]
    },
    {
     "name": "stderr",
     "output_type": "stream",
     "text": [
      "[I 2023-07-25 05:12:46,178] Trial 7 finished with value: 0.04800072512939236 and parameters: {'cutoff': 128}. Best is trial 3 with value: 0.0796396639125057.\n"
     ]
    },
    {
     "name": "stdout",
     "output_type": "stream",
     "text": [
      "EvaluatorHoldout: Processed 5965 (100.0%) in 44.89 sec. Users per second: 133\n"
     ]
    },
    {
     "name": "stderr",
     "output_type": "stream",
     "text": [
      "[I 2023-07-25 05:13:31,409] Trial 8 finished with value: 0.07805278143668783 and parameters: {'cutoff': 18}. Best is trial 3 with value: 0.0796396639125057.\n"
     ]
    },
    {
     "name": "stdout",
     "output_type": "stream",
     "text": [
      "EvaluatorHoldout: Processed 5965 (100.0%) in 44.85 sec. Users per second: 133\n"
     ]
    },
    {
     "name": "stderr",
     "output_type": "stream",
     "text": [
      "[I 2023-07-25 05:14:16,620] Trial 9 finished with value: 0.07798347503293031 and parameters: {'cutoff': 18}. Best is trial 3 with value: 0.0796396639125057.\n"
     ]
    },
    {
     "name": "stdout",
     "output_type": "stream",
     "text": [
      "EvaluatorHoldout: Processed 5965 (100.0%) in 44.65 sec. Users per second: 134\n"
     ]
    },
    {
     "name": "stderr",
     "output_type": "stream",
     "text": [
      "[I 2023-07-25 05:15:01,683] Trial 10 finished with value: 0.047424080948389395 and parameters: {'cutoff': 127}. Best is trial 3 with value: 0.0796396639125057.\n"
     ]
    },
    {
     "name": "stdout",
     "output_type": "stream",
     "text": [
      "EvaluatorHoldout: Processed 5965 (100.0%) in 45.04 sec. Users per second: 132\n"
     ]
    },
    {
     "name": "stderr",
     "output_type": "stream",
     "text": [
      "[I 2023-07-25 05:15:47,090] Trial 11 finished with value: 0.07007454862358481 and parameters: {'cutoff': 26}. Best is trial 3 with value: 0.0796396639125057.\n"
     ]
    },
    {
     "name": "stdout",
     "output_type": "stream",
     "text": [
      "EvaluatorHoldout: Processed 5965 (100.0%) in 44.63 sec. Users per second: 134\n"
     ]
    },
    {
     "name": "stderr",
     "output_type": "stream",
     "text": [
      "[I 2023-07-25 05:16:32,110] Trial 12 finished with value: 0.04950637315557693 and parameters: {'cutoff': 108}. Best is trial 3 with value: 0.0796396639125057.\n"
     ]
    },
    {
     "name": "stdout",
     "output_type": "stream",
     "text": [
      "EvaluatorHoldout: Processed 5965 (100.0%) in 44.81 sec. Users per second: 133\n"
     ]
    },
    {
     "name": "stderr",
     "output_type": "stream",
     "text": [
      "[I 2023-07-25 05:17:17,270] Trial 13 finished with value: 0.07990784869410214 and parameters: {'cutoff': 16}. Best is trial 13 with value: 0.07990784869410214.\n"
     ]
    },
    {
     "name": "stdout",
     "output_type": "stream",
     "text": [
      "EvaluatorHoldout: Processed 5965 (100.0%) in 44.83 sec. Users per second: 133\n"
     ]
    },
    {
     "name": "stderr",
     "output_type": "stream",
     "text": [
      "[I 2023-07-25 05:18:02,458] Trial 14 finished with value: 0.0800211484985165 and parameters: {'cutoff': 16}. Best is trial 14 with value: 0.0800211484985165.\n"
     ]
    },
    {
     "name": "stdout",
     "output_type": "stream",
     "text": [
      "EvaluatorHoldout: Processed 5965 (100.0%) in 44.59 sec. Users per second: 134\n"
     ]
    },
    {
     "name": "stderr",
     "output_type": "stream",
     "text": [
      "[I 2023-07-25 05:18:47,414] Trial 15 finished with value: 0.05865082691360982 and parameters: {'cutoff': 51}. Best is trial 14 with value: 0.0800211484985165.\n"
     ]
    },
    {
     "name": "stdout",
     "output_type": "stream",
     "text": [
      "EvaluatorHoldout: Processed 5965 (100.0%) in 44.82 sec. Users per second: 133\n"
     ]
    },
    {
     "name": "stderr",
     "output_type": "stream",
     "text": [
      "[I 2023-07-25 05:19:32,594] Trial 16 finished with value: 0.07947893798480567 and parameters: {'cutoff': 16}. Best is trial 14 with value: 0.0800211484985165.\n"
     ]
    },
    {
     "name": "stdout",
     "output_type": "stream",
     "text": [
      "EvaluatorHoldout: Processed 5965 (100.0%) in 44.64 sec. Users per second: 134\n"
     ]
    },
    {
     "name": "stderr",
     "output_type": "stream",
     "text": [
      "[I 2023-07-25 05:20:17,596] Trial 17 finished with value: 0.06161323993134574 and parameters: {'cutoff': 42}. Best is trial 14 with value: 0.0800211484985165.\n"
     ]
    },
    {
     "name": "stdout",
     "output_type": "stream",
     "text": [
      "EvaluatorHoldout: Processed 5965 (100.0%) in 44.86 sec. Users per second: 133\n"
     ]
    },
    {
     "name": "stderr",
     "output_type": "stream",
     "text": [
      "[I 2023-07-25 05:21:02,811] Trial 18 finished with value: 0.07943693370055505 and parameters: {'cutoff': 16}. Best is trial 14 with value: 0.0800211484985165.\n"
     ]
    },
    {
     "name": "stdout",
     "output_type": "stream",
     "text": [
      "EvaluatorHoldout: Processed 5965 (100.0%) in 44.63 sec. Users per second: 134\n"
     ]
    },
    {
     "name": "stderr",
     "output_type": "stream",
     "text": [
      "[I 2023-07-25 05:21:47,855] Trial 19 finished with value: 0.046378311313349074 and parameters: {'cutoff': 155}. Best is trial 14 with value: 0.0800211484985165.\n"
     ]
    },
    {
     "name": "stdout",
     "output_type": "stream",
     "text": [
      "EvaluatorHoldout: Processed 5965 (100.0%) in 44.68 sec. Users per second: 133\n"
     ]
    },
    {
     "name": "stderr",
     "output_type": "stream",
     "text": [
      "[I 2023-07-25 05:22:32,972] Trial 20 finished with value: 0.04655650687209787 and parameters: {'cutoff': 144}. Best is trial 14 with value: 0.0800211484985165.\n"
     ]
    },
    {
     "name": "stdout",
     "output_type": "stream",
     "text": [
      "EvaluatorHoldout: Processed 5965 (100.0%) in 44.68 sec. Users per second: 134\n"
     ]
    },
    {
     "name": "stderr",
     "output_type": "stream",
     "text": [
      "[I 2023-07-25 05:23:18,041] Trial 21 finished with value: 0.05349131175241843 and parameters: {'cutoff': 72}. Best is trial 14 with value: 0.0800211484985165.\n"
     ]
    },
    {
     "name": "stdout",
     "output_type": "stream",
     "text": [
      "EvaluatorHoldout: Processed 5965 (100.0%) in 44.88 sec. Users per second: 133\n"
     ]
    },
    {
     "name": "stderr",
     "output_type": "stream",
     "text": [
      "[I 2023-07-25 05:24:03,270] Trial 22 finished with value: 0.07988866935430236 and parameters: {'cutoff': 16}. Best is trial 14 with value: 0.0800211484985165.\n"
     ]
    },
    {
     "name": "stdout",
     "output_type": "stream",
     "text": [
      "EvaluatorHoldout: Processed 5965 (100.0%) in 44.66 sec. Users per second: 134\n"
     ]
    },
    {
     "name": "stderr",
     "output_type": "stream",
     "text": [
      "[I 2023-07-25 05:24:48,410] Trial 23 finished with value: 0.04565140568661107 and parameters: {'cutoff': 167}. Best is trial 14 with value: 0.0800211484985165.\n"
     ]
    },
    {
     "name": "stdout",
     "output_type": "stream",
     "text": [
      "EvaluatorHoldout: Processed 5965 (100.0%) in 44.85 sec. Users per second: 133\n"
     ]
    },
    {
     "name": "stderr",
     "output_type": "stream",
     "text": [
      "[I 2023-07-25 05:25:33,687] Trial 24 finished with value: 0.04794331350869497 and parameters: {'cutoff': 119}. Best is trial 14 with value: 0.0800211484985165.\n"
     ]
    },
    {
     "name": "stdout",
     "output_type": "stream",
     "text": [
      "EvaluatorHoldout: Processed 5965 (100.0%) in 44.72 sec. Users per second: 133\n"
     ]
    },
    {
     "name": "stderr",
     "output_type": "stream",
     "text": [
      "[I 2023-07-25 05:26:19,155] Trial 25 finished with value: 0.0491502215303557 and parameters: {'cutoff': 102}. Best is trial 14 with value: 0.0800211484985165.\n"
     ]
    },
    {
     "name": "stdout",
     "output_type": "stream",
     "text": [
      "EvaluatorHoldout: Processed 5965 (100.0%) in 44.71 sec. Users per second: 133\n"
     ]
    },
    {
     "name": "stderr",
     "output_type": "stream",
     "text": [
      "[I 2023-07-25 05:27:04,293] Trial 26 finished with value: 0.046695844809005 and parameters: {'cutoff': 146}. Best is trial 14 with value: 0.0800211484985165.\n"
     ]
    },
    {
     "name": "stdout",
     "output_type": "stream",
     "text": [
      "EvaluatorHoldout: Processed 5965 (100.0%) in 44.87 sec. Users per second: 133\n"
     ]
    },
    {
     "name": "stderr",
     "output_type": "stream",
     "text": [
      "[I 2023-07-25 05:27:49,509] Trial 27 finished with value: 0.07960109900344632 and parameters: {'cutoff': 16}. Best is trial 14 with value: 0.0800211484985165.\n"
     ]
    },
    {
     "name": "stdout",
     "output_type": "stream",
     "text": [
      "EvaluatorHoldout: Processed 5965 (100.0%) in 44.69 sec. Users per second: 133\n"
     ]
    },
    {
     "name": "stderr",
     "output_type": "stream",
     "text": [
      "[I 2023-07-25 05:28:34,637] Trial 28 finished with value: 0.04485758857887955 and parameters: {'cutoff': 184}. Best is trial 14 with value: 0.0800211484985165.\n"
     ]
    },
    {
     "name": "stdout",
     "output_type": "stream",
     "text": [
      "EvaluatorHoldout: Processed 5965 (100.0%) in 44.63 sec. Users per second: 134\n"
     ]
    },
    {
     "name": "stderr",
     "output_type": "stream",
     "text": [
      "[I 2023-07-25 05:29:19,647] Trial 29 finished with value: 0.06238469112148928 and parameters: {'cutoff': 40}. Best is trial 14 with value: 0.0800211484985165.\n"
     ]
    },
    {
     "name": "stdout",
     "output_type": "stream",
     "text": [
      "EvaluatorHoldout: Processed 5965 (100.0%) in 44.77 sec. Users per second: 133\n"
     ]
    },
    {
     "name": "stderr",
     "output_type": "stream",
     "text": [
      "[I 2023-07-25 05:30:04,775] Trial 30 finished with value: 0.08444294096515409 and parameters: {'cutoff': 12}. Best is trial 30 with value: 0.08444294096515409.\n"
     ]
    },
    {
     "name": "stdout",
     "output_type": "stream",
     "text": [
      "EvaluatorHoldout: Processed 5965 (100.0%) in 44.74 sec. Users per second: 133\n"
     ]
    },
    {
     "name": "stderr",
     "output_type": "stream",
     "text": [
      "[I 2023-07-25 05:30:49,941] Trial 31 finished with value: 0.04782140528745725 and parameters: {'cutoff': 129}. Best is trial 30 with value: 0.08444294096515409.\n"
     ]
    },
    {
     "name": "stdout",
     "output_type": "stream",
     "text": [
      "EvaluatorHoldout: Processed 5965 (100.0%) in 44.69 sec. Users per second: 133\n"
     ]
    },
    {
     "name": "stderr",
     "output_type": "stream",
     "text": [
      "[I 2023-07-25 05:31:35,036] Trial 32 finished with value: 0.04764648944238209 and parameters: {'cutoff': 124}. Best is trial 30 with value: 0.08444294096515409.\n"
     ]
    },
    {
     "name": "stdout",
     "output_type": "stream",
     "text": [
      "EvaluatorHoldout: Processed 5965 (100.0%) in 44.65 sec. Users per second: 134\n"
     ]
    },
    {
     "name": "stderr",
     "output_type": "stream",
     "text": [
      "[I 2023-07-25 05:32:20,086] Trial 33 finished with value: 0.05390269961016002 and parameters: {'cutoff': 73}. Best is trial 30 with value: 0.08444294096515409.\n"
     ]
    },
    {
     "name": "stdout",
     "output_type": "stream",
     "text": [
      "EvaluatorHoldout: Processed 5965 (100.0%) in 44.97 sec. Users per second: 133\n"
     ]
    },
    {
     "name": "stderr",
     "output_type": "stream",
     "text": [
      "[I 2023-07-25 05:33:05,413] Trial 34 finished with value: 0.0732895528146996 and parameters: {'cutoff': 23}. Best is trial 30 with value: 0.08444294096515409.\n"
     ]
    },
    {
     "name": "stdout",
     "output_type": "stream",
     "text": [
      "EvaluatorHoldout: Processed 5965 (100.0%) in 44.62 sec. Users per second: 134\n"
     ]
    },
    {
     "name": "stderr",
     "output_type": "stream",
     "text": [
      "[I 2023-07-25 05:33:50,395] Trial 35 finished with value: 0.05825341609122004 and parameters: {'cutoff': 50}. Best is trial 30 with value: 0.08444294096515409.\n"
     ]
    },
    {
     "name": "stdout",
     "output_type": "stream",
     "text": [
      "EvaluatorHoldout: Processed 5965 (100.0%) in 44.71 sec. Users per second: 133\n"
     ]
    },
    {
     "name": "stderr",
     "output_type": "stream",
     "text": [
      "[I 2023-07-25 05:34:35,553] Trial 36 finished with value: 0.0457616785747549 and parameters: {'cutoff': 159}. Best is trial 30 with value: 0.08444294096515409.\n"
     ]
    },
    {
     "name": "stdout",
     "output_type": "stream",
     "text": [
      "EvaluatorHoldout: Processed 5965 (100.0%) in 44.69 sec. Users per second: 133\n"
     ]
    },
    {
     "name": "stderr",
     "output_type": "stream",
     "text": [
      "[I 2023-07-25 05:35:20,657] Trial 37 finished with value: 0.04731783951356457 and parameters: {'cutoff': 130}. Best is trial 30 with value: 0.08444294096515409.\n"
     ]
    },
    {
     "name": "stdout",
     "output_type": "stream",
     "text": [
      "EvaluatorHoldout: Processed 5965 (100.0%) in 44.74 sec. Users per second: 133\n"
     ]
    },
    {
     "name": "stderr",
     "output_type": "stream",
     "text": [
      "[I 2023-07-25 05:36:05,793] Trial 38 finished with value: 0.05062246038398597 and parameters: {'cutoff': 90}. Best is trial 30 with value: 0.08444294096515409.\n"
     ]
    },
    {
     "name": "stdout",
     "output_type": "stream",
     "text": [
      "EvaluatorHoldout: Processed 5965 (100.0%) in 44.77 sec. Users per second: 133\n"
     ]
    },
    {
     "name": "stderr",
     "output_type": "stream",
     "text": [
      "[I 2023-07-25 05:36:50,906] Trial 39 finished with value: 0.08470585026410676 and parameters: {'cutoff': 12}. Best is trial 39 with value: 0.08470585026410676.\n"
     ]
    },
    {
     "name": "stdout",
     "output_type": "stream",
     "text": [
      "EvaluatorHoldout: Processed 5965 (100.0%) in 45.12 sec. Users per second: 132\n"
     ]
    },
    {
     "name": "stderr",
     "output_type": "stream",
     "text": [
      "[I 2023-07-25 05:37:36,383] Trial 40 finished with value: 0.06851593954150549 and parameters: {'cutoff': 29}. Best is trial 39 with value: 0.08470585026410676.\n"
     ]
    },
    {
     "name": "stdout",
     "output_type": "stream",
     "text": [
      "EvaluatorHoldout: Processed 5965 (100.0%) in 44.68 sec. Users per second: 133\n"
     ]
    },
    {
     "name": "stderr",
     "output_type": "stream",
     "text": [
      "[I 2023-07-25 05:38:21,485] Trial 41 finished with value: 0.046862025838555546 and parameters: {'cutoff': 141}. Best is trial 39 with value: 0.08470585026410676.\n"
     ]
    },
    {
     "name": "stdout",
     "output_type": "stream",
     "text": [
      "EvaluatorHoldout: Processed 5965 (100.0%) in 44.77 sec. Users per second: 133\n"
     ]
    },
    {
     "name": "stderr",
     "output_type": "stream",
     "text": [
      "[I 2023-07-25 05:39:06,614] Trial 42 finished with value: 0.08451522106467647 and parameters: {'cutoff': 12}. Best is trial 39 with value: 0.08470585026410676.\n"
     ]
    },
    {
     "name": "stdout",
     "output_type": "stream",
     "text": [
      "EvaluatorHoldout: Processed 5965 (100.0%) in 44.73 sec. Users per second: 133\n"
     ]
    },
    {
     "name": "stderr",
     "output_type": "stream",
     "text": [
      "[I 2023-07-25 05:39:51,780] Trial 43 finished with value: 0.04491645711092501 and parameters: {'cutoff': 185}. Best is trial 39 with value: 0.08470585026410676.\n"
     ]
    },
    {
     "name": "stdout",
     "output_type": "stream",
     "text": [
      "EvaluatorHoldout: Processed 5965 (100.0%) in 44.77 sec. Users per second: 133\n"
     ]
    },
    {
     "name": "stderr",
     "output_type": "stream",
     "text": [
      "[I 2023-07-25 05:40:36,926] Trial 44 finished with value: 0.08488396599209691 and parameters: {'cutoff': 12}. Best is trial 44 with value: 0.08488396599209691.\n"
     ]
    },
    {
     "name": "stdout",
     "output_type": "stream",
     "text": [
      "EvaluatorHoldout: Processed 5965 (100.0%) in 44.79 sec. Users per second: 133\n"
     ]
    },
    {
     "name": "stderr",
     "output_type": "stream",
     "text": [
      "[I 2023-07-25 05:41:22,087] Trial 45 finished with value: 0.0841589563458803 and parameters: {'cutoff': 12}. Best is trial 44 with value: 0.08488396599209691.\n"
     ]
    },
    {
     "name": "stdout",
     "output_type": "stream",
     "text": [
      "EvaluatorHoldout: Processed 5965 (100.0%) in 44.82 sec. Users per second: 133\n"
     ]
    },
    {
     "name": "stderr",
     "output_type": "stream",
     "text": [
      "[I 2023-07-25 05:42:07,267] Trial 46 finished with value: 0.08404484492875135 and parameters: {'cutoff': 12}. Best is trial 44 with value: 0.08488396599209691.\n"
     ]
    },
    {
     "name": "stdout",
     "output_type": "stream",
     "text": [
      "EvaluatorHoldout: Processed 5965 (100.0%) in 44.68 sec. Users per second: 134\n"
     ]
    },
    {
     "name": "stderr",
     "output_type": "stream",
     "text": [
      "[I 2023-07-25 05:42:52,336] Trial 47 finished with value: 0.0526419723519474 and parameters: {'cutoff': 77}. Best is trial 44 with value: 0.08488396599209691.\n"
     ]
    },
    {
     "name": "stdout",
     "output_type": "stream",
     "text": [
      "EvaluatorHoldout: Processed 5965 (100.0%) in 44.75 sec. Users per second: 133\n"
     ]
    },
    {
     "name": "stderr",
     "output_type": "stream",
     "text": [
      "[I 2023-07-25 05:43:37,535] Trial 48 finished with value: 0.04485218669753463 and parameters: {'cutoff': 166}. Best is trial 44 with value: 0.08488396599209691.\n"
     ]
    },
    {
     "name": "stdout",
     "output_type": "stream",
     "text": [
      "EvaluatorHoldout: Processed 5965 (100.0%) in 44.75 sec. Users per second: 133\n"
     ]
    },
    {
     "name": "stderr",
     "output_type": "stream",
     "text": [
      "[I 2023-07-25 05:44:22,754] Trial 49 finished with value: 0.044723020529810226 and parameters: {'cutoff': 173}. Best is trial 44 with value: 0.08488396599209691.\n"
     ]
    },
    {
     "name": "stdout",
     "output_type": "stream",
     "text": [
      "EvaluatorHoldout: Processed 5965 (100.0%) in 45.21 sec. Users per second: 132\n"
     ]
    },
    {
     "name": "stderr",
     "output_type": "stream",
     "text": [
      "[I 2023-07-25 05:45:07,985] A new study created in memory with name: no-name-0d839854-5ede-4db6-9d1a-010e5e2976db\n"
     ]
    },
    {
     "name": "stdout",
     "output_type": "stream",
     "text": [
      "Recommender_Base_Class: URM Detected 204 ( 5.3%) items with no interactions.\n",
      "PureSVDRecommender_DiffusionAutoencoderRecommender_TwoLevelRec\n",
      "EvaluatorHoldout: Processed 5965 (100.0%) in 6.85 sec. Users per second: 870\n"
     ]
    },
    {
     "name": "stderr",
     "output_type": "stream",
     "text": [
      "[I 2023-07-25 05:45:15,198] Trial 0 finished with value: 0.093072785694328 and parameters: {'cutoff': 25}. Best is trial 0 with value: 0.093072785694328.\n"
     ]
    },
    {
     "name": "stdout",
     "output_type": "stream",
     "text": [
      "EvaluatorHoldout: Processed 5965 (100.0%) in 6.47 sec. Users per second: 922\n"
     ]
    },
    {
     "name": "stderr",
     "output_type": "stream",
     "text": [
      "[I 2023-07-25 05:45:22,045] Trial 1 finished with value: 0.09088775130057622 and parameters: {'cutoff': 58}. Best is trial 0 with value: 0.093072785694328.\n"
     ]
    },
    {
     "name": "stdout",
     "output_type": "stream",
     "text": [
      "EvaluatorHoldout: Processed 5965 (100.0%) in 6.57 sec. Users per second: 909\n"
     ]
    },
    {
     "name": "stderr",
     "output_type": "stream",
     "text": [
      "[I 2023-07-25 05:45:29,034] Trial 2 finished with value: 0.09046841362977165 and parameters: {'cutoff': 155}. Best is trial 0 with value: 0.093072785694328.\n"
     ]
    },
    {
     "name": "stdout",
     "output_type": "stream",
     "text": [
      "EvaluatorHoldout: Processed 5965 (100.0%) in 6.47 sec. Users per second: 922\n"
     ]
    },
    {
     "name": "stderr",
     "output_type": "stream",
     "text": [
      "[I 2023-07-25 05:45:35,888] Trial 3 finished with value: 0.09085051690416349 and parameters: {'cutoff': 61}. Best is trial 0 with value: 0.093072785694328.\n"
     ]
    },
    {
     "name": "stdout",
     "output_type": "stream",
     "text": [
      "EvaluatorHoldout: Processed 5965 (100.0%) in 6.50 sec. Users per second: 917\n"
     ]
    },
    {
     "name": "stderr",
     "output_type": "stream",
     "text": [
      "[I 2023-07-25 05:45:42,786] Trial 4 finished with value: 0.0906192205856919 and parameters: {'cutoff': 79}. Best is trial 0 with value: 0.093072785694328.\n"
     ]
    },
    {
     "name": "stdout",
     "output_type": "stream",
     "text": [
      "EvaluatorHoldout: Processed 5965 (100.0%) in 6.49 sec. Users per second: 920\n"
     ]
    },
    {
     "name": "stderr",
     "output_type": "stream",
     "text": [
      "[I 2023-07-25 05:45:49,652] Trial 5 finished with value: 0.09073056453651596 and parameters: {'cutoff': 70}. Best is trial 0 with value: 0.093072785694328.\n"
     ]
    },
    {
     "name": "stdout",
     "output_type": "stream",
     "text": [
      "EvaluatorHoldout: Processed 5965 (100.0%) in 6.74 sec. Users per second: 885\n"
     ]
    },
    {
     "name": "stderr",
     "output_type": "stream",
     "text": [
      "[I 2023-07-25 05:45:56,752] Trial 6 finished with value: 0.09345651884671168 and parameters: {'cutoff': 20}. Best is trial 6 with value: 0.09345651884671168.\n"
     ]
    },
    {
     "name": "stdout",
     "output_type": "stream",
     "text": [
      "EvaluatorHoldout: Processed 5965 (100.0%) in 6.49 sec. Users per second: 919\n"
     ]
    },
    {
     "name": "stderr",
     "output_type": "stream",
     "text": [
      "[I 2023-07-25 05:46:03,954] Trial 7 finished with value: 0.09059492542476635 and parameters: {'cutoff': 67}. Best is trial 6 with value: 0.09345651884671168.\n"
     ]
    },
    {
     "name": "stdout",
     "output_type": "stream",
     "text": [
      "EvaluatorHoldout: Processed 5965 (100.0%) in 6.51 sec. Users per second: 917\n"
     ]
    },
    {
     "name": "stderr",
     "output_type": "stream",
     "text": [
      "[I 2023-07-25 05:46:10,853] Trial 8 finished with value: 0.09080450112428311 and parameters: {'cutoff': 110}. Best is trial 6 with value: 0.09345651884671168.\n"
     ]
    },
    {
     "name": "stdout",
     "output_type": "stream",
     "text": [
      "EvaluatorHoldout: Processed 5965 (100.0%) in 6.56 sec. Users per second: 910\n"
     ]
    },
    {
     "name": "stderr",
     "output_type": "stream",
     "text": [
      "[I 2023-07-25 05:46:17,845] Trial 9 finished with value: 0.09021923522133064 and parameters: {'cutoff': 174}. Best is trial 6 with value: 0.09345651884671168.\n"
     ]
    },
    {
     "name": "stdout",
     "output_type": "stream",
     "text": [
      "EvaluatorHoldout: Processed 5965 (100.0%) in 6.53 sec. Users per second: 914\n"
     ]
    },
    {
     "name": "stderr",
     "output_type": "stream",
     "text": [
      "[I 2023-07-25 05:46:24,783] Trial 10 finished with value: 0.09055959366143788 and parameters: {'cutoff': 117}. Best is trial 6 with value: 0.09345651884671168.\n"
     ]
    },
    {
     "name": "stdout",
     "output_type": "stream",
     "text": [
      "EvaluatorHoldout: Processed 5965 (100.0%) in 6.74 sec. Users per second: 885\n"
     ]
    },
    {
     "name": "stderr",
     "output_type": "stream",
     "text": [
      "[I 2023-07-25 05:46:31,883] Trial 11 finished with value: 0.09331045516837666 and parameters: {'cutoff': 20}. Best is trial 6 with value: 0.09345651884671168.\n"
     ]
    },
    {
     "name": "stdout",
     "output_type": "stream",
     "text": [
      "EvaluatorHoldout: Processed 5965 (100.0%) in 6.53 sec. Users per second: 913\n"
     ]
    },
    {
     "name": "stderr",
     "output_type": "stream",
     "text": [
      "[I 2023-07-25 05:46:38,823] Trial 12 finished with value: 0.09049660054018822 and parameters: {'cutoff': 136}. Best is trial 6 with value: 0.09345651884671168.\n"
     ]
    },
    {
     "name": "stdout",
     "output_type": "stream",
     "text": [
      "EvaluatorHoldout: Processed 5965 (100.0%) in 6.53 sec. Users per second: 914\n"
     ]
    },
    {
     "name": "stderr",
     "output_type": "stream",
     "text": [
      "[I 2023-07-25 05:46:45,773] Trial 13 finished with value: 0.09044377918812119 and parameters: {'cutoff': 147}. Best is trial 6 with value: 0.09345651884671168.\n"
     ]
    },
    {
     "name": "stdout",
     "output_type": "stream",
     "text": [
      "EvaluatorHoldout: Processed 5965 (100.0%) in 6.61 sec. Users per second: 902\n"
     ]
    },
    {
     "name": "stderr",
     "output_type": "stream",
     "text": [
      "[I 2023-07-25 05:46:52,795] Trial 14 finished with value: 0.09033801008528586 and parameters: {'cutoff': 130}. Best is trial 6 with value: 0.09345651884671168.\n"
     ]
    },
    {
     "name": "stdout",
     "output_type": "stream",
     "text": [
      "EvaluatorHoldout: Processed 5965 (100.0%) in 6.73 sec. Users per second: 886\n"
     ]
    },
    {
     "name": "stderr",
     "output_type": "stream",
     "text": [
      "[I 2023-07-25 05:46:59,882] Trial 15 finished with value: 0.09339438390611912 and parameters: {'cutoff': 20}. Best is trial 6 with value: 0.09345651884671168.\n"
     ]
    },
    {
     "name": "stdout",
     "output_type": "stream",
     "text": [
      "EvaluatorHoldout: Processed 5965 (100.0%) in 6.48 sec. Users per second: 920\n"
     ]
    },
    {
     "name": "stderr",
     "output_type": "stream",
     "text": [
      "[I 2023-07-25 05:47:06,746] Trial 16 finished with value: 0.0904770686145371 and parameters: {'cutoff': 68}. Best is trial 6 with value: 0.09345651884671168.\n"
     ]
    },
    {
     "name": "stdout",
     "output_type": "stream",
     "text": [
      "EvaluatorHoldout: Processed 5965 (100.0%) in 6.72 sec. Users per second: 888\n"
     ]
    },
    {
     "name": "stderr",
     "output_type": "stream",
     "text": [
      "[I 2023-07-25 05:47:13,815] Trial 17 finished with value: 0.09338634095717079 and parameters: {'cutoff': 20}. Best is trial 6 with value: 0.09345651884671168.\n"
     ]
    },
    {
     "name": "stdout",
     "output_type": "stream",
     "text": [
      "EvaluatorHoldout: Processed 5965 (100.0%) in 6.46 sec. Users per second: 924\n"
     ]
    },
    {
     "name": "stderr",
     "output_type": "stream",
     "text": [
      "[I 2023-07-25 05:47:20,641] Trial 18 finished with value: 0.09056742372836259 and parameters: {'cutoff': 64}. Best is trial 6 with value: 0.09345651884671168.\n"
     ]
    },
    {
     "name": "stdout",
     "output_type": "stream",
     "text": [
      "EvaluatorHoldout: Processed 5965 (100.0%) in 6.53 sec. Users per second: 914\n"
     ]
    },
    {
     "name": "stderr",
     "output_type": "stream",
     "text": [
      "[I 2023-07-25 05:47:27,583] Trial 19 finished with value: 0.0903116526297585 and parameters: {'cutoff': 148}. Best is trial 6 with value: 0.09345651884671168.\n"
     ]
    },
    {
     "name": "stdout",
     "output_type": "stream",
     "text": [
      "EvaluatorHoldout: Processed 5965 (100.0%) in 6.57 sec. Users per second: 909\n"
     ]
    },
    {
     "name": "stderr",
     "output_type": "stream",
     "text": [
      "[I 2023-07-25 05:47:34,601] Trial 20 finished with value: 0.09035720273021212 and parameters: {'cutoff': 187}. Best is trial 6 with value: 0.09345651884671168.\n"
     ]
    },
    {
     "name": "stdout",
     "output_type": "stream",
     "text": [
      "EvaluatorHoldout: Processed 5965 (100.0%) in 6.52 sec. Users per second: 915\n"
     ]
    },
    {
     "name": "stderr",
     "output_type": "stream",
     "text": [
      "[I 2023-07-25 05:47:41,531] Trial 21 finished with value: 0.0903286233185649 and parameters: {'cutoff': 127}. Best is trial 6 with value: 0.09345651884671168.\n"
     ]
    },
    {
     "name": "stdout",
     "output_type": "stream",
     "text": [
      "EvaluatorHoldout: Processed 5965 (100.0%) in 6.53 sec. Users per second: 913\n"
     ]
    },
    {
     "name": "stderr",
     "output_type": "stream",
     "text": [
      "[I 2023-07-25 05:47:48,478] Trial 22 finished with value: 0.09022632685373683 and parameters: {'cutoff': 149}. Best is trial 6 with value: 0.09345651884671168.\n"
     ]
    },
    {
     "name": "stdout",
     "output_type": "stream",
     "text": [
      "EvaluatorHoldout: Processed 5965 (100.0%) in 6.74 sec. Users per second: 885\n"
     ]
    },
    {
     "name": "stderr",
     "output_type": "stream",
     "text": [
      "[I 2023-07-25 05:47:55,568] Trial 23 finished with value: 0.0930247807980417 and parameters: {'cutoff': 20}. Best is trial 6 with value: 0.09345651884671168.\n"
     ]
    },
    {
     "name": "stdout",
     "output_type": "stream",
     "text": [
      "EvaluatorHoldout: Processed 5965 (100.0%) in 6.72 sec. Users per second: 887\n"
     ]
    },
    {
     "name": "stderr",
     "output_type": "stream",
     "text": [
      "[I 2023-07-25 05:48:02,643] Trial 24 finished with value: 0.09331689484958577 and parameters: {'cutoff': 20}. Best is trial 6 with value: 0.09345651884671168.\n"
     ]
    },
    {
     "name": "stdout",
     "output_type": "stream",
     "text": [
      "EvaluatorHoldout: Processed 5965 (100.0%) in 6.82 sec. Users per second: 875\n"
     ]
    },
    {
     "name": "stderr",
     "output_type": "stream",
     "text": [
      "[I 2023-07-25 05:48:09,823] Trial 25 finished with value: 0.09326837770593006 and parameters: {'cutoff': 24}. Best is trial 6 with value: 0.09345651884671168.\n"
     ]
    },
    {
     "name": "stdout",
     "output_type": "stream",
     "text": [
      "EvaluatorHoldout: Processed 5965 (100.0%) in 6.49 sec. Users per second: 919\n"
     ]
    },
    {
     "name": "stderr",
     "output_type": "stream",
     "text": [
      "[I 2023-07-25 05:48:16,707] Trial 26 finished with value: 0.09050783006692475 and parameters: {'cutoff': 106}. Best is trial 6 with value: 0.09345651884671168.\n"
     ]
    },
    {
     "name": "stdout",
     "output_type": "stream",
     "text": [
      "EvaluatorHoldout: Processed 5965 (100.0%) in 6.48 sec. Users per second: 921\n"
     ]
    },
    {
     "name": "stderr",
     "output_type": "stream",
     "text": [
      "[I 2023-07-25 05:48:23,567] Trial 27 finished with value: 0.09044029989755058 and parameters: {'cutoff': 65}. Best is trial 6 with value: 0.09345651884671168.\n"
     ]
    },
    {
     "name": "stdout",
     "output_type": "stream",
     "text": [
      "EvaluatorHoldout: Processed 5965 (100.0%) in 6.75 sec. Users per second: 883\n"
     ]
    },
    {
     "name": "stderr",
     "output_type": "stream",
     "text": [
      "[I 2023-07-25 05:48:30,675] Trial 28 finished with value: 0.09324863289825577 and parameters: {'cutoff': 20}. Best is trial 6 with value: 0.09345651884671168.\n"
     ]
    },
    {
     "name": "stdout",
     "output_type": "stream",
     "text": [
      "EvaluatorHoldout: Processed 5965 (100.0%) in 6.50 sec. Users per second: 917\n"
     ]
    },
    {
     "name": "stderr",
     "output_type": "stream",
     "text": [
      "[I 2023-07-25 05:48:37,575] Trial 29 finished with value: 0.09069364281057497 and parameters: {'cutoff': 96}. Best is trial 6 with value: 0.09345651884671168.\n"
     ]
    },
    {
     "name": "stdout",
     "output_type": "stream",
     "text": [
      "EvaluatorHoldout: Processed 5965 (100.0%) in 6.77 sec. Users per second: 882\n"
     ]
    },
    {
     "name": "stderr",
     "output_type": "stream",
     "text": [
      "[I 2023-07-25 05:48:44,703] Trial 30 finished with value: 0.09352707593235687 and parameters: {'cutoff': 22}. Best is trial 30 with value: 0.09352707593235687.\n"
     ]
    },
    {
     "name": "stdout",
     "output_type": "stream",
     "text": [
      "EvaluatorHoldout: Processed 5965 (100.0%) in 6.77 sec. Users per second: 881\n"
     ]
    },
    {
     "name": "stderr",
     "output_type": "stream",
     "text": [
      "[I 2023-07-25 05:48:51,821] Trial 31 finished with value: 0.09314013624449521 and parameters: {'cutoff': 22}. Best is trial 30 with value: 0.09352707593235687.\n"
     ]
    },
    {
     "name": "stdout",
     "output_type": "stream",
     "text": [
      "EvaluatorHoldout: Processed 5965 (100.0%) in 6.54 sec. Users per second: 912\n"
     ]
    },
    {
     "name": "stderr",
     "output_type": "stream",
     "text": [
      "[I 2023-07-25 05:48:58,774] Trial 32 finished with value: 0.09045360502401596 and parameters: {'cutoff': 152}. Best is trial 30 with value: 0.09352707593235687.\n"
     ]
    },
    {
     "name": "stdout",
     "output_type": "stream",
     "text": [
      "EvaluatorHoldout: Processed 5965 (100.0%) in 6.45 sec. Users per second: 925\n"
     ]
    },
    {
     "name": "stderr",
     "output_type": "stream",
     "text": [
      "[I 2023-07-25 05:49:05,606] Trial 33 finished with value: 0.09153326281616303 and parameters: {'cutoff': 45}. Best is trial 30 with value: 0.09352707593235687.\n"
     ]
    },
    {
     "name": "stdout",
     "output_type": "stream",
     "text": [
      "EvaluatorHoldout: Processed 5965 (100.0%) in 6.55 sec. Users per second: 911\n"
     ]
    },
    {
     "name": "stderr",
     "output_type": "stream",
     "text": [
      "[I 2023-07-25 05:49:12,572] Trial 34 finished with value: 0.09037687435969079 and parameters: {'cutoff': 163}. Best is trial 30 with value: 0.09352707593235687.\n"
     ]
    },
    {
     "name": "stdout",
     "output_type": "stream",
     "text": [
      "EvaluatorHoldout: Processed 5965 (100.0%) in 6.57 sec. Users per second: 908\n"
     ]
    },
    {
     "name": "stderr",
     "output_type": "stream",
     "text": [
      "[I 2023-07-25 05:49:19,589] Trial 35 finished with value: 0.09028880772761727 and parameters: {'cutoff': 185}. Best is trial 30 with value: 0.09352707593235687.\n"
     ]
    },
    {
     "name": "stdout",
     "output_type": "stream",
     "text": [
      "EvaluatorHoldout: Processed 5965 (100.0%) in 6.52 sec. Users per second: 915\n"
     ]
    },
    {
     "name": "stderr",
     "output_type": "stream",
     "text": [
      "[I 2023-07-25 05:49:26,521] Trial 36 finished with value: 0.09066569539243473 and parameters: {'cutoff': 129}. Best is trial 30 with value: 0.09352707593235687.\n"
     ]
    },
    {
     "name": "stdout",
     "output_type": "stream",
     "text": [
      "EvaluatorHoldout: Processed 5965 (100.0%) in 6.45 sec. Users per second: 925\n"
     ]
    },
    {
     "name": "stderr",
     "output_type": "stream",
     "text": [
      "[I 2023-07-25 05:49:33,347] Trial 37 finished with value: 0.09134284649875594 and parameters: {'cutoff': 49}. Best is trial 30 with value: 0.09352707593235687.\n"
     ]
    },
    {
     "name": "stdout",
     "output_type": "stream",
     "text": [
      "EvaluatorHoldout: Processed 5965 (100.0%) in 6.54 sec. Users per second: 912\n"
     ]
    },
    {
     "name": "stderr",
     "output_type": "stream",
     "text": [
      "[I 2023-07-25 05:49:40,306] Trial 38 finished with value: 0.09064083476363445 and parameters: {'cutoff': 161}. Best is trial 30 with value: 0.09352707593235687.\n"
     ]
    },
    {
     "name": "stdout",
     "output_type": "stream",
     "text": [
      "EvaluatorHoldout: Processed 5965 (100.0%) in 6.49 sec. Users per second: 920\n"
     ]
    },
    {
     "name": "stderr",
     "output_type": "stream",
     "text": [
      "[I 2023-07-25 05:49:47,187] Trial 39 finished with value: 0.09094501656488249 and parameters: {'cutoff': 84}. Best is trial 30 with value: 0.09352707593235687.\n"
     ]
    },
    {
     "name": "stdout",
     "output_type": "stream",
     "text": [
      "EvaluatorHoldout: Processed 5965 (100.0%) in 6.57 sec. Users per second: 907\n"
     ]
    },
    {
     "name": "stderr",
     "output_type": "stream",
     "text": [
      "[I 2023-07-25 05:49:54,286] Trial 40 finished with value: 0.09496021767186909 and parameters: {'cutoff': 12}. Best is trial 40 with value: 0.09496021767186909.\n"
     ]
    },
    {
     "name": "stdout",
     "output_type": "stream",
     "text": [
      "EvaluatorHoldout: Processed 5965 (100.0%) in 6.57 sec. Users per second: 908\n"
     ]
    },
    {
     "name": "stderr",
     "output_type": "stream",
     "text": [
      "[I 2023-07-25 05:50:01,209] Trial 41 finished with value: 0.09475268430926435 and parameters: {'cutoff': 12}. Best is trial 40 with value: 0.09496021767186909.\n"
     ]
    },
    {
     "name": "stdout",
     "output_type": "stream",
     "text": [
      "EvaluatorHoldout: Processed 5965 (100.0%) in 6.54 sec. Users per second: 912\n"
     ]
    },
    {
     "name": "stderr",
     "output_type": "stream",
     "text": [
      "[I 2023-07-25 05:50:08,175] Trial 42 finished with value: 0.09072661956651909 and parameters: {'cutoff': 153}. Best is trial 40 with value: 0.09496021767186909.\n"
     ]
    },
    {
     "name": "stdout",
     "output_type": "stream",
     "text": [
      "EvaluatorHoldout: Processed 5965 (100.0%) in 6.56 sec. Users per second: 910\n"
     ]
    },
    {
     "name": "stderr",
     "output_type": "stream",
     "text": [
      "[I 2023-07-25 05:50:15,088] Trial 43 finished with value: 0.09491450790989797 and parameters: {'cutoff': 12}. Best is trial 40 with value: 0.09496021767186909.\n"
     ]
    },
    {
     "name": "stdout",
     "output_type": "stream",
     "text": [
      "EvaluatorHoldout: Processed 5965 (100.0%) in 6.57 sec. Users per second: 908\n"
     ]
    },
    {
     "name": "stderr",
     "output_type": "stream",
     "text": [
      "[I 2023-07-25 05:50:22,003] Trial 44 finished with value: 0.09491796724277869 and parameters: {'cutoff': 12}. Best is trial 40 with value: 0.09496021767186909.\n"
     ]
    },
    {
     "name": "stdout",
     "output_type": "stream",
     "text": [
      "EvaluatorHoldout: Processed 5965 (100.0%) in 6.44 sec. Users per second: 926\n"
     ]
    },
    {
     "name": "stderr",
     "output_type": "stream",
     "text": [
      "[I 2023-07-25 05:50:28,807] Trial 45 finished with value: 0.09171081972884158 and parameters: {'cutoff': 39}. Best is trial 40 with value: 0.09496021767186909.\n"
     ]
    },
    {
     "name": "stdout",
     "output_type": "stream",
     "text": [
      "EvaluatorHoldout: Processed 5965 (100.0%) in 6.55 sec. Users per second: 910\n"
     ]
    },
    {
     "name": "stderr",
     "output_type": "stream",
     "text": [
      "[I 2023-07-25 05:50:35,709] Trial 46 finished with value: 0.09509806543461209 and parameters: {'cutoff': 12}. Best is trial 46 with value: 0.09509806543461209.\n"
     ]
    },
    {
     "name": "stdout",
     "output_type": "stream",
     "text": [
      "EvaluatorHoldout: Processed 5965 (100.0%) in 6.57 sec. Users per second: 908\n"
     ]
    },
    {
     "name": "stderr",
     "output_type": "stream",
     "text": [
      "[I 2023-07-25 05:50:42,633] Trial 47 finished with value: 0.09490544711877513 and parameters: {'cutoff': 12}. Best is trial 46 with value: 0.09509806543461209.\n"
     ]
    },
    {
     "name": "stdout",
     "output_type": "stream",
     "text": [
      "EvaluatorHoldout: Processed 5965 (100.0%) in 6.56 sec. Users per second: 910\n"
     ]
    },
    {
     "name": "stderr",
     "output_type": "stream",
     "text": [
      "[I 2023-07-25 05:50:49,540] Trial 48 finished with value: 0.09471004803150658 and parameters: {'cutoff': 12}. Best is trial 46 with value: 0.09509806543461209.\n"
     ]
    },
    {
     "name": "stdout",
     "output_type": "stream",
     "text": [
      "EvaluatorHoldout: Processed 5965 (100.0%) in 6.56 sec. Users per second: 909\n"
     ]
    },
    {
     "name": "stderr",
     "output_type": "stream",
     "text": [
      "[I 2023-07-25 05:50:56,453] Trial 49 finished with value: 0.09485545310608172 and parameters: {'cutoff': 12}. Best is trial 46 with value: 0.09509806543461209.\n"
     ]
    },
    {
     "name": "stdout",
     "output_type": "stream",
     "text": [
      "EvaluatorHoldout: Processed 5965 (100.0%) in 6.60 sec. Users per second: 904\n"
     ]
    },
    {
     "name": "stderr",
     "output_type": "stream",
     "text": [
      "[I 2023-07-25 05:51:03,067] A new study created in memory with name: no-name-b3185d6f-5702-4873-a27b-a29d9abb8363\n"
     ]
    },
    {
     "name": "stdout",
     "output_type": "stream",
     "text": [
      "Recommender_Base_Class: URM Detected 204 ( 5.3%) items with no interactions.\n",
      "PureSVDRecommender_DiffusionAutoencoderRecommender_TwoLevelRec\n",
      "EvaluatorHoldout: Processed 5965 (100.0%) in 23.51 sec. Users per second: 254\n"
     ]
    },
    {
     "name": "stderr",
     "output_type": "stream",
     "text": [
      "[I 2023-07-25 05:51:26,987] Trial 0 finished with value: 0.0712714445375808 and parameters: {'cutoff': 186}. Best is trial 0 with value: 0.0712714445375808.\n"
     ]
    },
    {
     "name": "stdout",
     "output_type": "stream",
     "text": [
      "EvaluatorHoldout: Processed 5965 (100.0%) in 23.44 sec. Users per second: 255\n"
     ]
    },
    {
     "name": "stderr",
     "output_type": "stream",
     "text": [
      "[I 2023-07-25 05:51:50,820] Trial 1 finished with value: 0.07324550619353659 and parameters: {'cutoff': 113}. Best is trial 1 with value: 0.07324550619353659.\n"
     ]
    },
    {
     "name": "stdout",
     "output_type": "stream",
     "text": [
      "EvaluatorHoldout: Processed 5965 (100.0%) in 23.48 sec. Users per second: 254\n"
     ]
    },
    {
     "name": "stderr",
     "output_type": "stream",
     "text": [
      "[I 2023-07-25 05:52:14,661] Trial 2 finished with value: 0.07813983022658662 and parameters: {'cutoff': 45}. Best is trial 2 with value: 0.07813983022658662.\n"
     ]
    },
    {
     "name": "stdout",
     "output_type": "stream",
     "text": [
      "EvaluatorHoldout: Processed 5965 (100.0%) in 23.43 sec. Users per second: 255\n"
     ]
    },
    {
     "name": "stderr",
     "output_type": "stream",
     "text": [
      "[I 2023-07-25 05:52:38,469] Trial 3 finished with value: 0.07588818371718661 and parameters: {'cutoff': 63}. Best is trial 2 with value: 0.07813983022658662.\n"
     ]
    },
    {
     "name": "stdout",
     "output_type": "stream",
     "text": [
      "EvaluatorHoldout: Processed 5965 (100.0%) in 23.43 sec. Users per second: 255\n"
     ]
    },
    {
     "name": "stderr",
     "output_type": "stream",
     "text": [
      "[I 2023-07-25 05:53:02,282] Trial 4 finished with value: 0.0741790537394062 and parameters: {'cutoff': 90}. Best is trial 2 with value: 0.07813983022658662.\n"
     ]
    },
    {
     "name": "stdout",
     "output_type": "stream",
     "text": [
      "EvaluatorHoldout: Processed 5965 (100.0%) in 24.01 sec. Users per second: 248\n"
     ]
    },
    {
     "name": "stderr",
     "output_type": "stream",
     "text": [
      "[I 2023-07-25 05:53:26,652] Trial 5 finished with value: 0.08076161870168631 and parameters: {'cutoff': 33}. Best is trial 5 with value: 0.08076161870168631.\n"
     ]
    },
    {
     "name": "stdout",
     "output_type": "stream",
     "text": [
      "EvaluatorHoldout: Processed 5965 (100.0%) in 23.48 sec. Users per second: 254\n"
     ]
    },
    {
     "name": "stderr",
     "output_type": "stream",
     "text": [
      "[I 2023-07-25 05:53:50,506] Trial 6 finished with value: 0.07416605463084937 and parameters: {'cutoff': 85}. Best is trial 5 with value: 0.08076161870168631.\n"
     ]
    },
    {
     "name": "stdout",
     "output_type": "stream",
     "text": [
      "EvaluatorHoldout: Processed 5965 (100.0%) in 23.46 sec. Users per second: 254\n"
     ]
    },
    {
     "name": "stderr",
     "output_type": "stream",
     "text": [
      "[I 2023-07-25 05:54:14,402] Trial 7 finished with value: 0.07531891057624546 and parameters: {'cutoff': 67}. Best is trial 5 with value: 0.08076161870168631.\n"
     ]
    },
    {
     "name": "stdout",
     "output_type": "stream",
     "text": [
      "EvaluatorHoldout: Processed 5965 (100.0%) in 23.53 sec. Users per second: 253\n"
     ]
    },
    {
     "name": "stderr",
     "output_type": "stream",
     "text": [
      "[I 2023-07-25 05:54:38,355] Trial 8 finished with value: 0.07233295413722955 and parameters: {'cutoff': 140}. Best is trial 5 with value: 0.08076161870168631.\n"
     ]
    },
    {
     "name": "stdout",
     "output_type": "stream",
     "text": [
      "EvaluatorHoldout: Processed 5965 (100.0%) in 23.42 sec. Users per second: 255\n"
     ]
    },
    {
     "name": "stderr",
     "output_type": "stream",
     "text": [
      "[I 2023-07-25 05:55:02,170] Trial 9 finished with value: 0.07687446613180098 and parameters: {'cutoff': 52}. Best is trial 5 with value: 0.08076161870168631.\n"
     ]
    },
    {
     "name": "stdout",
     "output_type": "stream",
     "text": [
      "EvaluatorHoldout: Processed 5965 (100.0%) in 23.56 sec. Users per second: 253\n"
     ]
    },
    {
     "name": "stderr",
     "output_type": "stream",
     "text": [
      "[I 2023-07-25 05:55:26,152] Trial 10 finished with value: 0.07196532684043197 and parameters: {'cutoff': 171}. Best is trial 5 with value: 0.08076161870168631.\n"
     ]
    },
    {
     "name": "stdout",
     "output_type": "stream",
     "text": [
      "EvaluatorHoldout: Processed 5965 (100.0%) in 23.45 sec. Users per second: 254\n"
     ]
    },
    {
     "name": "stderr",
     "output_type": "stream",
     "text": [
      "[I 2023-07-25 05:55:49,996] Trial 11 finished with value: 0.07507911228196257 and parameters: {'cutoff': 70}. Best is trial 5 with value: 0.08076161870168631.\n"
     ]
    },
    {
     "name": "stdout",
     "output_type": "stream",
     "text": [
      "EvaluatorHoldout: Processed 5965 (100.0%) in 23.48 sec. Users per second: 254\n"
     ]
    },
    {
     "name": "stderr",
     "output_type": "stream",
     "text": [
      "[I 2023-07-25 05:56:13,851] Trial 12 finished with value: 0.07890961827592187 and parameters: {'cutoff': 41}. Best is trial 5 with value: 0.08076161870168631.\n"
     ]
    },
    {
     "name": "stdout",
     "output_type": "stream",
     "text": [
      "EvaluatorHoldout: Processed 5965 (100.0%) in 23.99 sec. Users per second: 249\n"
     ]
    },
    {
     "name": "stderr",
     "output_type": "stream",
     "text": [
      "[I 2023-07-25 05:56:38,206] Trial 13 finished with value: 0.0801676845088418 and parameters: {'cutoff': 33}. Best is trial 5 with value: 0.08076161870168631.\n"
     ]
    },
    {
     "name": "stdout",
     "output_type": "stream",
     "text": [
      "EvaluatorHoldout: Processed 5965 (100.0%) in 23.55 sec. Users per second: 253\n"
     ]
    },
    {
     "name": "stderr",
     "output_type": "stream",
     "text": [
      "[I 2023-07-25 05:57:02,214] Trial 14 finished with value: 0.07126439282055434 and parameters: {'cutoff': 195}. Best is trial 5 with value: 0.08076161870168631.\n"
     ]
    },
    {
     "name": "stdout",
     "output_type": "stream",
     "text": [
      "EvaluatorHoldout: Processed 5965 (100.0%) in 23.50 sec. Users per second: 254\n"
     ]
    },
    {
     "name": "stderr",
     "output_type": "stream",
     "text": [
      "[I 2023-07-25 05:57:26,097] Trial 15 finished with value: 0.07507400976596319 and parameters: {'cutoff': 68}. Best is trial 5 with value: 0.08076161870168631.\n"
     ]
    },
    {
     "name": "stdout",
     "output_type": "stream",
     "text": [
      "EvaluatorHoldout: Processed 5965 (100.0%) in 23.49 sec. Users per second: 254\n"
     ]
    },
    {
     "name": "stderr",
     "output_type": "stream",
     "text": [
      "[I 2023-07-25 05:57:50,005] Trial 16 finished with value: 0.07266111177636765 and parameters: {'cutoff': 129}. Best is trial 5 with value: 0.08076161870168631.\n"
     ]
    },
    {
     "name": "stdout",
     "output_type": "stream",
     "text": [
      "EvaluatorHoldout: Processed 5965 (100.0%) in 23.53 sec. Users per second: 254\n"
     ]
    },
    {
     "name": "stderr",
     "output_type": "stream",
     "text": [
      "[I 2023-07-25 05:58:13,979] Trial 17 finished with value: 0.07118336460038091 and parameters: {'cutoff': 187}. Best is trial 5 with value: 0.08076161870168631.\n"
     ]
    },
    {
     "name": "stdout",
     "output_type": "stream",
     "text": [
      "EvaluatorHoldout: Processed 5965 (100.0%) in 24.03 sec. Users per second: 248\n"
     ]
    },
    {
     "name": "stderr",
     "output_type": "stream",
     "text": [
      "[I 2023-07-25 05:58:38,379] Trial 18 finished with value: 0.08047088838329447 and parameters: {'cutoff': 33}. Best is trial 5 with value: 0.08076161870168631.\n"
     ]
    },
    {
     "name": "stdout",
     "output_type": "stream",
     "text": [
      "EvaluatorHoldout: Processed 5965 (100.0%) in 23.55 sec. Users per second: 253\n"
     ]
    },
    {
     "name": "stderr",
     "output_type": "stream",
     "text": [
      "[I 2023-07-25 05:59:02,357] Trial 19 finished with value: 0.07110605516305463 and parameters: {'cutoff': 193}. Best is trial 5 with value: 0.08076161870168631.\n"
     ]
    },
    {
     "name": "stdout",
     "output_type": "stream",
     "text": [
      "EvaluatorHoldout: Processed 5965 (100.0%) in 23.47 sec. Users per second: 254\n"
     ]
    },
    {
     "name": "stderr",
     "output_type": "stream",
     "text": [
      "[I 2023-07-25 05:59:26,258] Trial 20 finished with value: 0.07154808472704569 and parameters: {'cutoff': 150}. Best is trial 5 with value: 0.08076161870168631.\n"
     ]
    },
    {
     "name": "stdout",
     "output_type": "stream",
     "text": [
      "EvaluatorHoldout: Processed 5965 (100.0%) in 23.52 sec. Users per second: 254\n"
     ]
    },
    {
     "name": "stderr",
     "output_type": "stream",
     "text": [
      "[I 2023-07-25 05:59:50,196] Trial 21 finished with value: 0.0717668875317665 and parameters: {'cutoff': 164}. Best is trial 5 with value: 0.08076161870168631.\n"
     ]
    },
    {
     "name": "stdout",
     "output_type": "stream",
     "text": [
      "EvaluatorHoldout: Processed 5965 (100.0%) in 23.98 sec. Users per second: 249\n"
     ]
    },
    {
     "name": "stderr",
     "output_type": "stream",
     "text": [
      "[I 2023-07-25 06:00:14,915] Trial 22 finished with value: 0.08111641985657099 and parameters: {'cutoff': 33}. Best is trial 22 with value: 0.08111641985657099.\n"
     ]
    },
    {
     "name": "stdout",
     "output_type": "stream",
     "text": [
      "EvaluatorHoldout: Processed 5965 (100.0%) in 23.42 sec. Users per second: 255\n"
     ]
    },
    {
     "name": "stderr",
     "output_type": "stream",
     "text": [
      "[I 2023-07-25 06:00:38,719] Trial 23 finished with value: 0.07882586915738689 and parameters: {'cutoff': 42}. Best is trial 22 with value: 0.08111641985657099.\n"
     ]
    },
    {
     "name": "stdout",
     "output_type": "stream",
     "text": [
      "EvaluatorHoldout: Processed 5965 (100.0%) in 24.36 sec. Users per second: 245\n"
     ]
    },
    {
     "name": "stderr",
     "output_type": "stream",
     "text": [
      "[I 2023-07-25 06:01:03,449] Trial 24 finished with value: 0.0808768344443118 and parameters: {'cutoff': 33}. Best is trial 22 with value: 0.08111641985657099.\n"
     ]
    },
    {
     "name": "stdout",
     "output_type": "stream",
     "text": [
      "EvaluatorHoldout: Processed 5965 (100.0%) in 24.03 sec. Users per second: 248\n"
     ]
    },
    {
     "name": "stderr",
     "output_type": "stream",
     "text": [
      "[I 2023-07-25 06:01:27,849] Trial 25 finished with value: 0.08086489974587262 and parameters: {'cutoff': 33}. Best is trial 22 with value: 0.08111641985657099.\n"
     ]
    },
    {
     "name": "stdout",
     "output_type": "stream",
     "text": [
      "EvaluatorHoldout: Processed 5965 (100.0%) in 23.73 sec. Users per second: 251\n"
     ]
    },
    {
     "name": "stderr",
     "output_type": "stream",
     "text": [
      "[I 2023-07-25 06:01:51,941] Trial 26 finished with value: 0.0868483747788028 and parameters: {'cutoff': 18}. Best is trial 26 with value: 0.0868483747788028.\n"
     ]
    },
    {
     "name": "stdout",
     "output_type": "stream",
     "text": [
      "EvaluatorHoldout: Processed 5965 (100.0%) in 23.56 sec. Users per second: 253\n"
     ]
    },
    {
     "name": "stderr",
     "output_type": "stream",
     "text": [
      "[I 2023-07-25 06:02:15,954] Trial 27 finished with value: 0.07156757673731723 and parameters: {'cutoff': 174}. Best is trial 26 with value: 0.0868483747788028.\n"
     ]
    },
    {
     "name": "stdout",
     "output_type": "stream",
     "text": [
      "EvaluatorHoldout: Processed 5965 (100.0%) in 23.68 sec. Users per second: 252\n"
     ]
    },
    {
     "name": "stderr",
     "output_type": "stream",
     "text": [
      "[I 2023-07-25 06:02:39,996] Trial 28 finished with value: 0.0866811359916981 and parameters: {'cutoff': 18}. Best is trial 26 with value: 0.0868483747788028.\n"
     ]
    },
    {
     "name": "stdout",
     "output_type": "stream",
     "text": [
      "EvaluatorHoldout: Processed 5965 (100.0%) in 23.57 sec. Users per second: 253\n"
     ]
    },
    {
     "name": "stderr",
     "output_type": "stream",
     "text": [
      "[I 2023-07-25 06:03:03,974] Trial 29 finished with value: 0.0725540121608859 and parameters: {'cutoff': 127}. Best is trial 26 with value: 0.0868483747788028.\n"
     ]
    },
    {
     "name": "stdout",
     "output_type": "stream",
     "text": [
      "EvaluatorHoldout: Processed 5965 (100.0%) in 23.47 sec. Users per second: 254\n"
     ]
    },
    {
     "name": "stderr",
     "output_type": "stream",
     "text": [
      "[I 2023-07-25 06:03:27,823] Trial 30 finished with value: 0.07970551098338229 and parameters: {'cutoff': 37}. Best is trial 26 with value: 0.0868483747788028.\n"
     ]
    },
    {
     "name": "stdout",
     "output_type": "stream",
     "text": [
      "EvaluatorHoldout: Processed 5965 (100.0%) in 23.69 sec. Users per second: 252\n"
     ]
    },
    {
     "name": "stderr",
     "output_type": "stream",
     "text": [
      "[I 2023-07-25 06:03:51,877] Trial 31 finished with value: 0.08675661597413535 and parameters: {'cutoff': 18}. Best is trial 26 with value: 0.0868483747788028.\n"
     ]
    },
    {
     "name": "stdout",
     "output_type": "stream",
     "text": [
      "EvaluatorHoldout: Processed 5965 (100.0%) in 23.96 sec. Users per second: 249\n"
     ]
    },
    {
     "name": "stderr",
     "output_type": "stream",
     "text": [
      "[I 2023-07-25 06:04:16,212] Trial 32 finished with value: 0.08137806516850978 and parameters: {'cutoff': 31}. Best is trial 26 with value: 0.0868483747788028.\n"
     ]
    },
    {
     "name": "stdout",
     "output_type": "stream",
     "text": [
      "EvaluatorHoldout: Processed 5965 (100.0%) in 23.69 sec. Users per second: 252\n"
     ]
    },
    {
     "name": "stderr",
     "output_type": "stream",
     "text": [
      "[I 2023-07-25 06:04:40,253] Trial 33 finished with value: 0.08695256722415211 and parameters: {'cutoff': 18}. Best is trial 33 with value: 0.08695256722415211.\n"
     ]
    },
    {
     "name": "stdout",
     "output_type": "stream",
     "text": [
      "EvaluatorHoldout: Processed 5965 (100.0%) in 23.72 sec. Users per second: 251\n"
     ]
    },
    {
     "name": "stderr",
     "output_type": "stream",
     "text": [
      "[I 2023-07-25 06:05:04,343] Trial 34 finished with value: 0.08640515440599293 and parameters: {'cutoff': 18}. Best is trial 33 with value: 0.08695256722415211.\n"
     ]
    },
    {
     "name": "stdout",
     "output_type": "stream",
     "text": [
      "EvaluatorHoldout: Processed 5965 (100.0%) in 23.70 sec. Users per second: 252\n"
     ]
    },
    {
     "name": "stderr",
     "output_type": "stream",
     "text": [
      "[I 2023-07-25 06:05:28,401] Trial 35 finished with value: 0.08660651418991785 and parameters: {'cutoff': 18}. Best is trial 33 with value: 0.08695256722415211.\n"
     ]
    },
    {
     "name": "stdout",
     "output_type": "stream",
     "text": [
      "EvaluatorHoldout: Processed 5965 (100.0%) in 23.51 sec. Users per second: 254\n"
     ]
    },
    {
     "name": "stderr",
     "output_type": "stream",
     "text": [
      "[I 2023-07-25 06:05:52,340] Trial 36 finished with value: 0.07254882316156443 and parameters: {'cutoff': 122}. Best is trial 33 with value: 0.08695256722415211.\n"
     ]
    },
    {
     "name": "stdout",
     "output_type": "stream",
     "text": [
      "EvaluatorHoldout: Processed 5965 (100.0%) in 23.72 sec. Users per second: 252\n"
     ]
    },
    {
     "name": "stderr",
     "output_type": "stream",
     "text": [
      "[I 2023-07-25 06:06:16,435] Trial 37 finished with value: 0.08659585678361907 and parameters: {'cutoff': 18}. Best is trial 33 with value: 0.08695256722415211.\n"
     ]
    },
    {
     "name": "stdout",
     "output_type": "stream",
     "text": [
      "EvaluatorHoldout: Processed 5965 (100.0%) in 23.51 sec. Users per second: 254\n"
     ]
    },
    {
     "name": "stderr",
     "output_type": "stream",
     "text": [
      "[I 2023-07-25 06:06:40,345] Trial 38 finished with value: 0.07323621256270087 and parameters: {'cutoff': 111}. Best is trial 33 with value: 0.08695256722415211.\n"
     ]
    },
    {
     "name": "stdout",
     "output_type": "stream",
     "text": [
      "EvaluatorHoldout: Processed 5965 (100.0%) in 23.70 sec. Users per second: 252\n"
     ]
    },
    {
     "name": "stderr",
     "output_type": "stream",
     "text": [
      "[I 2023-07-25 06:07:04,410] Trial 39 finished with value: 0.08675717478944668 and parameters: {'cutoff': 18}. Best is trial 33 with value: 0.08695256722415211.\n"
     ]
    },
    {
     "name": "stdout",
     "output_type": "stream",
     "text": [
      "EvaluatorHoldout: Processed 5965 (100.0%) in 23.54 sec. Users per second: 253\n"
     ]
    },
    {
     "name": "stderr",
     "output_type": "stream",
     "text": [
      "[I 2023-07-25 06:07:28,364] Trial 40 finished with value: 0.07208887159222468 and parameters: {'cutoff': 137}. Best is trial 33 with value: 0.08695256722415211.\n"
     ]
    },
    {
     "name": "stdout",
     "output_type": "stream",
     "text": [
      "EvaluatorHoldout: Processed 5965 (100.0%) in 23.47 sec. Users per second: 254\n"
     ]
    },
    {
     "name": "stderr",
     "output_type": "stream",
     "text": [
      "[I 2023-07-25 06:07:52,221] Trial 41 finished with value: 0.07606019904469236 and parameters: {'cutoff': 62}. Best is trial 33 with value: 0.08695256722415211.\n"
     ]
    },
    {
     "name": "stdout",
     "output_type": "stream",
     "text": [
      "EvaluatorHoldout: Processed 5965 (100.0%) in 23.60 sec. Users per second: 253\n"
     ]
    },
    {
     "name": "stderr",
     "output_type": "stream",
     "text": [
      "[I 2023-07-25 06:08:16,235] Trial 42 finished with value: 0.07206684495536157 and parameters: {'cutoff': 145}. Best is trial 33 with value: 0.08695256722415211.\n"
     ]
    },
    {
     "name": "stdout",
     "output_type": "stream",
     "text": [
      "EvaluatorHoldout: Processed 5965 (100.0%) in 23.56 sec. Users per second: 253\n"
     ]
    },
    {
     "name": "stderr",
     "output_type": "stream",
     "text": [
      "[I 2023-07-25 06:08:40,208] Trial 43 finished with value: 0.07215190462885394 and parameters: {'cutoff': 147}. Best is trial 33 with value: 0.08695256722415211.\n"
     ]
    },
    {
     "name": "stdout",
     "output_type": "stream",
     "text": [
      "EvaluatorHoldout: Processed 5965 (100.0%) in 23.56 sec. Users per second: 253\n"
     ]
    },
    {
     "name": "stderr",
     "output_type": "stream",
     "text": [
      "[I 2023-07-25 06:09:04,201] Trial 44 finished with value: 0.072084474247928 and parameters: {'cutoff': 154}. Best is trial 33 with value: 0.08695256722415211.\n"
     ]
    },
    {
     "name": "stdout",
     "output_type": "stream",
     "text": [
      "EvaluatorHoldout: Processed 5965 (100.0%) in 23.56 sec. Users per second: 253\n"
     ]
    },
    {
     "name": "stderr",
     "output_type": "stream",
     "text": [
      "[I 2023-07-25 06:09:28,198] Trial 45 finished with value: 0.07179778868798183 and parameters: {'cutoff': 166}. Best is trial 33 with value: 0.08695256722415211.\n"
     ]
    },
    {
     "name": "stdout",
     "output_type": "stream",
     "text": [
      "EvaluatorHoldout: Processed 5965 (100.0%) in 23.71 sec. Users per second: 252\n"
     ]
    },
    {
     "name": "stderr",
     "output_type": "stream",
     "text": [
      "[I 2023-07-25 06:09:52,271] Trial 46 finished with value: 0.08663531978871496 and parameters: {'cutoff': 18}. Best is trial 33 with value: 0.08695256722415211.\n"
     ]
    },
    {
     "name": "stdout",
     "output_type": "stream",
     "text": [
      "EvaluatorHoldout: Processed 5965 (100.0%) in 23.73 sec. Users per second: 251\n"
     ]
    },
    {
     "name": "stderr",
     "output_type": "stream",
     "text": [
      "[I 2023-07-25 06:10:16,361] Trial 47 finished with value: 0.08676883008023044 and parameters: {'cutoff': 18}. Best is trial 33 with value: 0.08695256722415211.\n"
     ]
    },
    {
     "name": "stdout",
     "output_type": "stream",
     "text": [
      "EvaluatorHoldout: Processed 5965 (100.0%) in 23.56 sec. Users per second: 253\n"
     ]
    },
    {
     "name": "stderr",
     "output_type": "stream",
     "text": [
      "[I 2023-07-25 06:10:40,347] Trial 48 finished with value: 0.07167257414281754 and parameters: {'cutoff': 157}. Best is trial 33 with value: 0.08695256722415211.\n"
     ]
    },
    {
     "name": "stdout",
     "output_type": "stream",
     "text": [
      "EvaluatorHoldout: Processed 5965 (100.0%) in 23.54 sec. Users per second: 253\n"
     ]
    },
    {
     "name": "stderr",
     "output_type": "stream",
     "text": [
      "[I 2023-07-25 06:11:04,311] Trial 49 finished with value: 0.0724196037733343 and parameters: {'cutoff': 141}. Best is trial 33 with value: 0.08695256722415211.\n"
     ]
    },
    {
     "name": "stdout",
     "output_type": "stream",
     "text": [
      "EvaluatorHoldout: Processed 5965 (100.0%) in 23.77 sec. Users per second: 251\n"
     ]
    },
    {
     "name": "stderr",
     "output_type": "stream",
     "text": [
      "[I 2023-07-25 06:11:28,102] A new study created in memory with name: no-name-02ac957b-7ed2-433f-8d89-a72278b6159a\n"
     ]
    },
    {
     "name": "stdout",
     "output_type": "stream",
     "text": [
      "Recommender_Base_Class: URM Detected 204 ( 5.3%) items with no interactions.\n",
      "ItemKNNCFRecommender_DiffusionAutoencoderRecommender_TwoLevelRec\n",
      "EvaluatorHoldout: Processed 5965 (100.0%) in 3.09 sec. Users per second: 1931\n"
     ]
    },
    {
     "name": "stderr",
     "output_type": "stream",
     "text": [
      "[I 2023-07-25 06:11:31,673] Trial 0 finished with value: 0.09662716374619137 and parameters: {'cutoff': 65}. Best is trial 0 with value: 0.09662716374619137.\n"
     ]
    },
    {
     "name": "stdout",
     "output_type": "stream",
     "text": [
      "EvaluatorHoldout: Processed 5965 (100.0%) in 3.17 sec. Users per second: 1883\n"
     ]
    },
    {
     "name": "stderr",
     "output_type": "stream",
     "text": [
      "[I 2023-07-25 06:11:35,352] Trial 1 finished with value: 0.09597128753708824 and parameters: {'cutoff': 152}. Best is trial 0 with value: 0.09662716374619137.\n"
     ]
    },
    {
     "name": "stdout",
     "output_type": "stream",
     "text": [
      "EvaluatorHoldout: Processed 5965 (100.0%) in 3.17 sec. Users per second: 1883\n"
     ]
    },
    {
     "name": "stderr",
     "output_type": "stream",
     "text": [
      "[I 2023-07-25 06:11:39,028] Trial 2 finished with value: 0.09560202370973536 and parameters: {'cutoff': 135}. Best is trial 0 with value: 0.09662716374619137.\n"
     ]
    },
    {
     "name": "stdout",
     "output_type": "stream",
     "text": [
      "EvaluatorHoldout: Processed 5965 (100.0%) in 3.60 sec. Users per second: 1655\n"
     ]
    },
    {
     "name": "stderr",
     "output_type": "stream",
     "text": [
      "[I 2023-07-25 06:11:43,084] Trial 3 finished with value: 0.09633459066778463 and parameters: {'cutoff': 32}. Best is trial 0 with value: 0.09662716374619137.\n"
     ]
    },
    {
     "name": "stdout",
     "output_type": "stream",
     "text": [
      "EvaluatorHoldout: Processed 5965 (100.0%) in 3.19 sec. Users per second: 1868\n"
     ]
    },
    {
     "name": "stderr",
     "output_type": "stream",
     "text": [
      "[I 2023-07-25 06:11:47,146] Trial 4 finished with value: 0.09582413949094573 and parameters: {'cutoff': 185}. Best is trial 0 with value: 0.09662716374619137.\n"
     ]
    },
    {
     "name": "stdout",
     "output_type": "stream",
     "text": [
      "EvaluatorHoldout: Processed 5965 (100.0%) in 3.18 sec. Users per second: 1877\n"
     ]
    },
    {
     "name": "stderr",
     "output_type": "stream",
     "text": [
      "[I 2023-07-25 06:11:50,842] Trial 5 finished with value: 0.09554664112082421 and parameters: {'cutoff': 177}. Best is trial 0 with value: 0.09662716374619137.\n"
     ]
    },
    {
     "name": "stdout",
     "output_type": "stream",
     "text": [
      "EvaluatorHoldout: Processed 5965 (100.0%) in 3.19 sec. Users per second: 1871\n"
     ]
    },
    {
     "name": "stderr",
     "output_type": "stream",
     "text": [
      "[I 2023-07-25 06:11:54,565] Trial 6 finished with value: 0.0957549195705107 and parameters: {'cutoff': 190}. Best is trial 0 with value: 0.09662716374619137.\n"
     ]
    },
    {
     "name": "stdout",
     "output_type": "stream",
     "text": [
      "EvaluatorHoldout: Processed 5965 (100.0%) in 3.18 sec. Users per second: 1875\n"
     ]
    },
    {
     "name": "stderr",
     "output_type": "stream",
     "text": [
      "[I 2023-07-25 06:11:58,269] Trial 7 finished with value: 0.09590053087454609 and parameters: {'cutoff': 179}. Best is trial 0 with value: 0.09662716374619137.\n"
     ]
    },
    {
     "name": "stdout",
     "output_type": "stream",
     "text": [
      "EvaluatorHoldout: Processed 5965 (100.0%) in 3.13 sec. Users per second: 1905\n"
     ]
    },
    {
     "name": "stderr",
     "output_type": "stream",
     "text": [
      "[I 2023-07-25 06:12:01,894] Trial 8 finished with value: 0.0959066844955361 and parameters: {'cutoff': 114}. Best is trial 0 with value: 0.09662716374619137.\n"
     ]
    },
    {
     "name": "stdout",
     "output_type": "stream",
     "text": [
      "EvaluatorHoldout: Processed 5965 (100.0%) in 3.20 sec. Users per second: 1865\n"
     ]
    },
    {
     "name": "stderr",
     "output_type": "stream",
     "text": [
      "[I 2023-07-25 06:12:05,619] Trial 9 finished with value: 0.09557371040061712 and parameters: {'cutoff': 195}. Best is trial 0 with value: 0.09662716374619137.\n"
     ]
    },
    {
     "name": "stdout",
     "output_type": "stream",
     "text": [
      "EvaluatorHoldout: Processed 5965 (100.0%) in 3.17 sec. Users per second: 1880\n"
     ]
    },
    {
     "name": "stderr",
     "output_type": "stream",
     "text": [
      "[I 2023-07-25 06:12:09,319] Trial 10 finished with value: 0.09545300629332464 and parameters: {'cutoff': 178}. Best is trial 0 with value: 0.09662716374619137.\n"
     ]
    },
    {
     "name": "stdout",
     "output_type": "stream",
     "text": [
      "EvaluatorHoldout: Processed 5965 (100.0%) in 3.12 sec. Users per second: 1911\n"
     ]
    },
    {
     "name": "stderr",
     "output_type": "stream",
     "text": [
      "[I 2023-07-25 06:12:12,941] Trial 11 finished with value: 0.09569627057305195 and parameters: {'cutoff': 121}. Best is trial 0 with value: 0.09662716374619137.\n"
     ]
    },
    {
     "name": "stdout",
     "output_type": "stream",
     "text": [
      "EvaluatorHoldout: Processed 5965 (100.0%) in 3.10 sec. Users per second: 1924\n"
     ]
    },
    {
     "name": "stderr",
     "output_type": "stream",
     "text": [
      "[I 2023-07-25 06:12:16,531] Trial 12 finished with value: 0.09655970675501283 and parameters: {'cutoff': 77}. Best is trial 0 with value: 0.09662716374619137.\n"
     ]
    },
    {
     "name": "stdout",
     "output_type": "stream",
     "text": [
      "EvaluatorHoldout: Processed 5965 (100.0%) in 3.15 sec. Users per second: 1894\n"
     ]
    },
    {
     "name": "stderr",
     "output_type": "stream",
     "text": [
      "[I 2023-07-25 06:12:20,191] Trial 13 finished with value: 0.0956115102649051 and parameters: {'cutoff': 136}. Best is trial 0 with value: 0.09662716374619137.\n"
     ]
    },
    {
     "name": "stdout",
     "output_type": "stream",
     "text": [
      "EvaluatorHoldout: Processed 5965 (100.0%) in 3.09 sec. Users per second: 1931\n"
     ]
    },
    {
     "name": "stderr",
     "output_type": "stream",
     "text": [
      "[I 2023-07-25 06:12:23,756] Trial 14 finished with value: 0.0965736172647322 and parameters: {'cutoff': 65}. Best is trial 0 with value: 0.09662716374619137.\n"
     ]
    },
    {
     "name": "stdout",
     "output_type": "stream",
     "text": [
      "EvaluatorHoldout: Processed 5965 (100.0%) in 3.09 sec. Users per second: 1933\n"
     ]
    },
    {
     "name": "stderr",
     "output_type": "stream",
     "text": [
      "[I 2023-07-25 06:12:27,312] Trial 15 finished with value: 0.09677038678002625 and parameters: {'cutoff': 65}. Best is trial 15 with value: 0.09677038678002625.\n"
     ]
    },
    {
     "name": "stdout",
     "output_type": "stream",
     "text": [
      "EvaluatorHoldout: Processed 5965 (100.0%) in 3.09 sec. Users per second: 1931\n"
     ]
    },
    {
     "name": "stderr",
     "output_type": "stream",
     "text": [
      "[I 2023-07-25 06:12:30,865] Trial 16 finished with value: 0.09670801234715731 and parameters: {'cutoff': 65}. Best is trial 15 with value: 0.09677038678002625.\n"
     ]
    },
    {
     "name": "stdout",
     "output_type": "stream",
     "text": [
      "EvaluatorHoldout: Processed 5965 (100.0%) in 3.50 sec. Users per second: 1705\n"
     ]
    },
    {
     "name": "stderr",
     "output_type": "stream",
     "text": [
      "[I 2023-07-25 06:12:34,811] Trial 17 finished with value: 0.09631789273407045 and parameters: {'cutoff': 27}. Best is trial 15 with value: 0.09677038678002625.\n"
     ]
    },
    {
     "name": "stdout",
     "output_type": "stream",
     "text": [
      "EvaluatorHoldout: Processed 5965 (100.0%) in 3.09 sec. Users per second: 1928\n"
     ]
    },
    {
     "name": "stderr",
     "output_type": "stream",
     "text": [
      "[I 2023-07-25 06:12:38,364] Trial 18 finished with value: 0.09668515413988997 and parameters: {'cutoff': 65}. Best is trial 15 with value: 0.09677038678002625.\n"
     ]
    },
    {
     "name": "stdout",
     "output_type": "stream",
     "text": [
      "EvaluatorHoldout: Processed 5965 (100.0%) in 3.16 sec. Users per second: 1889\n"
     ]
    },
    {
     "name": "stderr",
     "output_type": "stream",
     "text": [
      "[I 2023-07-25 06:12:42,024] Trial 19 finished with value: 0.09622298061443088 and parameters: {'cutoff': 144}. Best is trial 15 with value: 0.09677038678002625.\n"
     ]
    },
    {
     "name": "stdout",
     "output_type": "stream",
     "text": [
      "EvaluatorHoldout: Processed 5965 (100.0%) in 3.18 sec. Users per second: 1877\n"
     ]
    },
    {
     "name": "stderr",
     "output_type": "stream",
     "text": [
      "[I 2023-07-25 06:12:45,717] Trial 20 finished with value: 0.09573026517117059 and parameters: {'cutoff': 172}. Best is trial 15 with value: 0.09677038678002625.\n"
     ]
    },
    {
     "name": "stdout",
     "output_type": "stream",
     "text": [
      "EvaluatorHoldout: Processed 5965 (100.0%) in 3.09 sec. Users per second: 1931\n"
     ]
    },
    {
     "name": "stderr",
     "output_type": "stream",
     "text": [
      "[I 2023-07-25 06:12:49,277] Trial 21 finished with value: 0.09699956758338972 and parameters: {'cutoff': 65}. Best is trial 21 with value: 0.09699956758338972.\n"
     ]
    },
    {
     "name": "stdout",
     "output_type": "stream",
     "text": [
      "EvaluatorHoldout: Processed 5965 (100.0%) in 3.12 sec. Users per second: 1912\n"
     ]
    },
    {
     "name": "stderr",
     "output_type": "stream",
     "text": [
      "[I 2023-07-25 06:12:52,883] Trial 22 finished with value: 0.09627650048563696 and parameters: {'cutoff': 99}. Best is trial 21 with value: 0.09699956758338972.\n"
     ]
    },
    {
     "name": "stdout",
     "output_type": "stream",
     "text": [
      "EvaluatorHoldout: Processed 5965 (100.0%) in 3.13 sec. Users per second: 1909\n"
     ]
    },
    {
     "name": "stderr",
     "output_type": "stream",
     "text": [
      "[I 2023-07-25 06:12:56,502] Trial 23 finished with value: 0.09588521002142146 and parameters: {'cutoff': 107}. Best is trial 21 with value: 0.09699956758338972.\n"
     ]
    },
    {
     "name": "stdout",
     "output_type": "stream",
     "text": [
      "EvaluatorHoldout: Processed 5965 (100.0%) in 3.11 sec. Users per second: 1921\n"
     ]
    },
    {
     "name": "stderr",
     "output_type": "stream",
     "text": [
      "[I 2023-07-25 06:13:00,094] Trial 24 finished with value: 0.09642488590854037 and parameters: {'cutoff': 94}. Best is trial 21 with value: 0.09699956758338972.\n"
     ]
    },
    {
     "name": "stdout",
     "output_type": "stream",
     "text": [
      "EvaluatorHoldout: Processed 5965 (100.0%) in 3.19 sec. Users per second: 1867\n"
     ]
    },
    {
     "name": "stderr",
     "output_type": "stream",
     "text": [
      "[I 2023-07-25 06:13:03,829] Trial 25 finished with value: 0.09583791694940053 and parameters: {'cutoff': 174}. Best is trial 21 with value: 0.09699956758338972.\n"
     ]
    },
    {
     "name": "stdout",
     "output_type": "stream",
     "text": [
      "EvaluatorHoldout: Processed 5965 (100.0%) in 3.13 sec. Users per second: 1908\n"
     ]
    },
    {
     "name": "stderr",
     "output_type": "stream",
     "text": [
      "[I 2023-07-25 06:13:07,453] Trial 26 finished with value: 0.09580991631075436 and parameters: {'cutoff': 117}. Best is trial 21 with value: 0.09699956758338972.\n"
     ]
    },
    {
     "name": "stdout",
     "output_type": "stream",
     "text": [
      "EvaluatorHoldout: Processed 5965 (100.0%) in 3.09 sec. Users per second: 1928\n"
     ]
    },
    {
     "name": "stderr",
     "output_type": "stream",
     "text": [
      "[I 2023-07-25 06:13:11,014] Trial 27 finished with value: 0.09673339187588952 and parameters: {'cutoff': 65}. Best is trial 21 with value: 0.09699956758338972.\n"
     ]
    },
    {
     "name": "stdout",
     "output_type": "stream",
     "text": [
      "EvaluatorHoldout: Processed 5965 (100.0%) in 3.18 sec. Users per second: 1877\n"
     ]
    },
    {
     "name": "stderr",
     "output_type": "stream",
     "text": [
      "[I 2023-07-25 06:13:14,716] Trial 28 finished with value: 0.09537788554930217 and parameters: {'cutoff': 191}. Best is trial 21 with value: 0.09699956758338972.\n"
     ]
    },
    {
     "name": "stdout",
     "output_type": "stream",
     "text": [
      "EvaluatorHoldout: Processed 5965 (100.0%) in 3.12 sec. Users per second: 1912\n"
     ]
    },
    {
     "name": "stderr",
     "output_type": "stream",
     "text": [
      "[I 2023-07-25 06:13:18,331] Trial 29 finished with value: 0.09598274990353797 and parameters: {'cutoff': 116}. Best is trial 21 with value: 0.09699956758338972.\n"
     ]
    },
    {
     "name": "stdout",
     "output_type": "stream",
     "text": [
      "EvaluatorHoldout: Processed 5965 (100.0%) in 3.14 sec. Users per second: 1902\n"
     ]
    },
    {
     "name": "stderr",
     "output_type": "stream",
     "text": [
      "[I 2023-07-25 06:13:21,972] Trial 30 finished with value: 0.09579501456911359 and parameters: {'cutoff': 132}. Best is trial 21 with value: 0.09699956758338972.\n"
     ]
    },
    {
     "name": "stdout",
     "output_type": "stream",
     "text": [
      "EvaluatorHoldout: Processed 5965 (100.0%) in 3.09 sec. Users per second: 1930\n"
     ]
    },
    {
     "name": "stderr",
     "output_type": "stream",
     "text": [
      "[I 2023-07-25 06:13:25,534] Trial 31 finished with value: 0.0969737090701048 and parameters: {'cutoff': 65}. Best is trial 21 with value: 0.09699956758338972.\n"
     ]
    },
    {
     "name": "stdout",
     "output_type": "stream",
     "text": [
      "EvaluatorHoldout: Processed 5965 (100.0%) in 3.10 sec. Users per second: 1922\n"
     ]
    },
    {
     "name": "stderr",
     "output_type": "stream",
     "text": [
      "[I 2023-07-25 06:13:29,101] Trial 32 finished with value: 0.09681703455341331 and parameters: {'cutoff': 65}. Best is trial 21 with value: 0.09699956758338972.\n"
     ]
    },
    {
     "name": "stdout",
     "output_type": "stream",
     "text": [
      "EvaluatorHoldout: Processed 5965 (100.0%) in 3.24 sec. Users per second: 1842\n"
     ]
    },
    {
     "name": "stderr",
     "output_type": "stream",
     "text": [
      "[I 2023-07-25 06:13:32,885] Trial 33 finished with value: 0.09593167152303798 and parameters: {'cutoff': 193}. Best is trial 21 with value: 0.09699956758338972.\n"
     ]
    },
    {
     "name": "stdout",
     "output_type": "stream",
     "text": [
      "EvaluatorHoldout: Processed 5965 (100.0%) in 3.09 sec. Users per second: 1933\n"
     ]
    },
    {
     "name": "stderr",
     "output_type": "stream",
     "text": [
      "[I 2023-07-25 06:13:36,462] Trial 34 finished with value: 0.09661779028459652 and parameters: {'cutoff': 70}. Best is trial 21 with value: 0.09699956758338972.\n"
     ]
    },
    {
     "name": "stdout",
     "output_type": "stream",
     "text": [
      "EvaluatorHoldout: Processed 5965 (100.0%) in 3.12 sec. Users per second: 1912\n"
     ]
    },
    {
     "name": "stderr",
     "output_type": "stream",
     "text": [
      "[I 2023-07-25 06:13:40,070] Trial 35 finished with value: 0.09611615375404148 and parameters: {'cutoff': 111}. Best is trial 21 with value: 0.09699956758338972.\n"
     ]
    },
    {
     "name": "stdout",
     "output_type": "stream",
     "text": [
      "EvaluatorHoldout: Processed 5965 (100.0%) in 3.06 sec. Users per second: 1948\n"
     ]
    },
    {
     "name": "stderr",
     "output_type": "stream",
     "text": [
      "[I 2023-07-25 06:13:43,604] Trial 36 finished with value: 0.09724616479729667 and parameters: {'cutoff': 42}. Best is trial 36 with value: 0.09724616479729667.\n"
     ]
    },
    {
     "name": "stdout",
     "output_type": "stream",
     "text": [
      "EvaluatorHoldout: Processed 5965 (100.0%) in 3.33 sec. Users per second: 1790\n"
     ]
    },
    {
     "name": "stderr",
     "output_type": "stream",
     "text": [
      "[I 2023-07-25 06:13:47,450] Trial 37 finished with value: 0.09563359677483733 and parameters: {'cutoff': 173}. Best is trial 36 with value: 0.09724616479729667.\n"
     ]
    },
    {
     "name": "stdout",
     "output_type": "stream",
     "text": [
      "EvaluatorHoldout: Processed 5965 (100.0%) in 3.08 sec. Users per second: 1936\n"
     ]
    },
    {
     "name": "stderr",
     "output_type": "stream",
     "text": [
      "[I 2023-07-25 06:13:50,996] Trial 38 finished with value: 0.09700779015154554 and parameters: {'cutoff': 44}. Best is trial 36 with value: 0.09724616479729667.\n"
     ]
    },
    {
     "name": "stdout",
     "output_type": "stream",
     "text": [
      "EvaluatorHoldout: Processed 5965 (100.0%) in 3.10 sec. Users per second: 1922\n"
     ]
    },
    {
     "name": "stderr",
     "output_type": "stream",
     "text": [
      "[I 2023-07-25 06:13:54,575] Trial 39 finished with value: 0.09609753322955339 and parameters: {'cutoff': 84}. Best is trial 36 with value: 0.09724616479729667.\n"
     ]
    },
    {
     "name": "stdout",
     "output_type": "stream",
     "text": [
      "EvaluatorHoldout: Processed 5965 (100.0%) in 3.07 sec. Users per second: 1943\n"
     ]
    },
    {
     "name": "stderr",
     "output_type": "stream",
     "text": [
      "[I 2023-07-25 06:13:58,102] Trial 40 finished with value: 0.09698646203382193 and parameters: {'cutoff': 44}. Best is trial 36 with value: 0.09724616479729667.\n"
     ]
    },
    {
     "name": "stdout",
     "output_type": "stream",
     "text": [
      "EvaluatorHoldout: Processed 5965 (100.0%) in 3.07 sec. Users per second: 1946\n"
     ]
    },
    {
     "name": "stderr",
     "output_type": "stream",
     "text": [
      "[I 2023-07-25 06:14:01,636] Trial 41 finished with value: 0.09656552109527802 and parameters: {'cutoff': 42}. Best is trial 36 with value: 0.09724616479729667.\n"
     ]
    },
    {
     "name": "stdout",
     "output_type": "stream",
     "text": [
      "EvaluatorHoldout: Processed 5965 (100.0%) in 3.06 sec. Users per second: 1949\n"
     ]
    },
    {
     "name": "stderr",
     "output_type": "stream",
     "text": [
      "[I 2023-07-25 06:14:05,175] Trial 42 finished with value: 0.09705374605835637 and parameters: {'cutoff': 44}. Best is trial 36 with value: 0.09724616479729667.\n"
     ]
    },
    {
     "name": "stdout",
     "output_type": "stream",
     "text": [
      "EvaluatorHoldout: Processed 5965 (100.0%) in 3.15 sec. Users per second: 1892\n"
     ]
    },
    {
     "name": "stderr",
     "output_type": "stream",
     "text": [
      "[I 2023-07-25 06:14:08,820] Trial 43 finished with value: 0.09571519711544864 and parameters: {'cutoff': 120}. Best is trial 36 with value: 0.09724616479729667.\n"
     ]
    },
    {
     "name": "stdout",
     "output_type": "stream",
     "text": [
      "EvaluatorHoldout: Processed 5965 (100.0%) in 3.15 sec. Users per second: 1897\n"
     ]
    },
    {
     "name": "stderr",
     "output_type": "stream",
     "text": [
      "[I 2023-07-25 06:14:12,463] Trial 44 finished with value: 0.09609135299831026 and parameters: {'cutoff': 129}. Best is trial 36 with value: 0.09724616479729667.\n"
     ]
    },
    {
     "name": "stdout",
     "output_type": "stream",
     "text": [
      "EvaluatorHoldout: Processed 5965 (100.0%) in 3.19 sec. Users per second: 1872\n"
     ]
    },
    {
     "name": "stderr",
     "output_type": "stream",
     "text": [
      "[I 2023-07-25 06:14:16,176] Trial 45 finished with value: 0.0954282454529733 and parameters: {'cutoff': 188}. Best is trial 36 with value: 0.09724616479729667.\n"
     ]
    },
    {
     "name": "stdout",
     "output_type": "stream",
     "text": [
      "EvaluatorHoldout: Processed 5965 (100.0%) in 3.12 sec. Users per second: 1913\n"
     ]
    },
    {
     "name": "stderr",
     "output_type": "stream",
     "text": [
      "[I 2023-07-25 06:14:19,795] Trial 46 finished with value: 0.09593922218230697 and parameters: {'cutoff': 113}. Best is trial 36 with value: 0.09724616479729667.\n"
     ]
    },
    {
     "name": "stdout",
     "output_type": "stream",
     "text": [
      "EvaluatorHoldout: Processed 5965 (100.0%) in 3.07 sec. Users per second: 1942\n"
     ]
    },
    {
     "name": "stderr",
     "output_type": "stream",
     "text": [
      "[I 2023-07-25 06:14:23,321] Trial 47 finished with value: 0.09669953698159924 and parameters: {'cutoff': 34}. Best is trial 36 with value: 0.09724616479729667.\n"
     ]
    },
    {
     "name": "stdout",
     "output_type": "stream",
     "text": [
      "EvaluatorHoldout: Processed 5965 (100.0%) in 3.10 sec. Users per second: 1924\n"
     ]
    },
    {
     "name": "stderr",
     "output_type": "stream",
     "text": [
      "[I 2023-07-25 06:14:26,897] Trial 48 finished with value: 0.09609821179100297 and parameters: {'cutoff': 85}. Best is trial 36 with value: 0.09724616479729667.\n"
     ]
    },
    {
     "name": "stdout",
     "output_type": "stream",
     "text": [
      "EvaluatorHoldout: Processed 5965 (100.0%) in 3.12 sec. Users per second: 1909\n"
     ]
    },
    {
     "name": "stderr",
     "output_type": "stream",
     "text": [
      "[I 2023-07-25 06:14:30,510] Trial 49 finished with value: 0.09571132532364733 and parameters: {'cutoff': 108}. Best is trial 36 with value: 0.09724616479729667.\n"
     ]
    },
    {
     "name": "stdout",
     "output_type": "stream",
     "text": [
      "EvaluatorHoldout: Processed 5965 (100.0%) in 3.14 sec. Users per second: 1900\n"
     ]
    },
    {
     "name": "stderr",
     "output_type": "stream",
     "text": [
      "[I 2023-07-25 06:14:33,669] A new study created in memory with name: no-name-26c14162-bd7a-46ce-a887-1b2c9a37b0aa\n"
     ]
    },
    {
     "name": "stdout",
     "output_type": "stream",
     "text": [
      "Recommender_Base_Class: URM Detected 204 ( 5.3%) items with no interactions.\n",
      "ItemKNNCFRecommender_DiffusionAutoencoderRecommender_TwoLevelRec\n",
      "EvaluatorHoldout: Processed 5965 (100.0%) in 44.74 sec. Users per second: 133\n"
     ]
    },
    {
     "name": "stderr",
     "output_type": "stream",
     "text": [
      "[I 2023-07-25 06:15:18,896] Trial 0 finished with value: 0.05070122008009695 and parameters: {'cutoff': 118}. Best is trial 0 with value: 0.05070122008009695.\n"
     ]
    },
    {
     "name": "stdout",
     "output_type": "stream",
     "text": [
      "EvaluatorHoldout: Processed 5965 (100.0%) in 44.72 sec. Users per second: 133\n"
     ]
    },
    {
     "name": "stderr",
     "output_type": "stream",
     "text": [
      "[I 2023-07-25 06:16:04,104] Trial 1 finished with value: 0.05059571042722769 and parameters: {'cutoff': 114}. Best is trial 0 with value: 0.05070122008009695.\n"
     ]
    },
    {
     "name": "stdout",
     "output_type": "stream",
     "text": [
      "EvaluatorHoldout: Processed 5965 (100.0%) in 44.69 sec. Users per second: 133\n"
     ]
    },
    {
     "name": "stderr",
     "output_type": "stream",
     "text": [
      "[I 2023-07-25 06:16:49,257] Trial 2 finished with value: 0.057535438204340435 and parameters: {'cutoff': 64}. Best is trial 2 with value: 0.057535438204340435.\n"
     ]
    },
    {
     "name": "stdout",
     "output_type": "stream",
     "text": [
      "EvaluatorHoldout: Processed 5965 (100.0%) in 44.77 sec. Users per second: 133\n"
     ]
    },
    {
     "name": "stderr",
     "output_type": "stream",
     "text": [
      "[I 2023-07-25 06:17:34,527] Trial 3 finished with value: 0.048293098630902545 and parameters: {'cutoff': 151}. Best is trial 2 with value: 0.057535438204340435.\n"
     ]
    },
    {
     "name": "stdout",
     "output_type": "stream",
     "text": [
      "EvaluatorHoldout: Processed 5965 (100.0%) in 45.00 sec. Users per second: 133\n"
     ]
    },
    {
     "name": "stderr",
     "output_type": "stream",
     "text": [
      "[I 2023-07-25 06:18:19,972] Trial 4 finished with value: 0.07101985790124961 and parameters: {'cutoff': 21}. Best is trial 4 with value: 0.07101985790124961.\n"
     ]
    },
    {
     "name": "stdout",
     "output_type": "stream",
     "text": [
      "EvaluatorHoldout: Processed 5965 (100.0%) in 44.82 sec. Users per second: 133\n"
     ]
    },
    {
     "name": "stderr",
     "output_type": "stream",
     "text": [
      "[I 2023-07-25 06:19:05,281] Trial 5 finished with value: 0.0500564869144083 and parameters: {'cutoff': 130}. Best is trial 4 with value: 0.07101985790124961.\n"
     ]
    },
    {
     "name": "stdout",
     "output_type": "stream",
     "text": [
      "EvaluatorHoldout: Processed 5965 (100.0%) in 44.78 sec. Users per second: 133\n"
     ]
    },
    {
     "name": "stderr",
     "output_type": "stream",
     "text": [
      "[I 2023-07-25 06:19:50,594] Trial 6 finished with value: 0.0466150161657287 and parameters: {'cutoff': 188}. Best is trial 4 with value: 0.07101985790124961.\n"
     ]
    },
    {
     "name": "stdout",
     "output_type": "stream",
     "text": [
      "EvaluatorHoldout: Processed 5965 (100.0%) in 44.78 sec. Users per second: 133\n"
     ]
    },
    {
     "name": "stderr",
     "output_type": "stream",
     "text": [
      "[I 2023-07-25 06:20:35,899] Trial 7 finished with value: 0.049198618927872986 and parameters: {'cutoff': 139}. Best is trial 4 with value: 0.07101985790124961.\n"
     ]
    },
    {
     "name": "stdout",
     "output_type": "stream",
     "text": [
      "EvaluatorHoldout: Processed 5965 (100.0%) in 44.74 sec. Users per second: 133\n"
     ]
    },
    {
     "name": "stderr",
     "output_type": "stream",
     "text": [
      "[I 2023-07-25 06:21:21,129] Trial 8 finished with value: 0.05404758578480301 and parameters: {'cutoff': 84}. Best is trial 4 with value: 0.07101985790124961.\n"
     ]
    },
    {
     "name": "stdout",
     "output_type": "stream",
     "text": [
      "EvaluatorHoldout: Processed 5965 (100.0%) in 44.80 sec. Users per second: 133\n"
     ]
    },
    {
     "name": "stderr",
     "output_type": "stream",
     "text": [
      "[I 2023-07-25 06:22:06,436] Trial 9 finished with value: 0.048376076052102895 and parameters: {'cutoff': 165}. Best is trial 4 with value: 0.07101985790124961.\n"
     ]
    },
    {
     "name": "stdout",
     "output_type": "stream",
     "text": [
      "EvaluatorHoldout: Processed 5965 (100.0%) in 44.79 sec. Users per second: 133\n"
     ]
    },
    {
     "name": "stderr",
     "output_type": "stream",
     "text": [
      "[I 2023-07-25 06:22:51,757] Trial 10 finished with value: 0.04785513378304655 and parameters: {'cutoff': 162}. Best is trial 4 with value: 0.07101985790124961.\n"
     ]
    },
    {
     "name": "stdout",
     "output_type": "stream",
     "text": [
      "EvaluatorHoldout: Processed 5965 (100.0%) in 45.02 sec. Users per second: 132\n"
     ]
    },
    {
     "name": "stderr",
     "output_type": "stream",
     "text": [
      "[I 2023-07-25 06:23:37,232] Trial 11 finished with value: 0.07152029697042295 and parameters: {'cutoff': 21}. Best is trial 11 with value: 0.07152029697042295.\n"
     ]
    },
    {
     "name": "stdout",
     "output_type": "stream",
     "text": [
      "EvaluatorHoldout: Processed 5965 (100.0%) in 44.78 sec. Users per second: 133\n"
     ]
    },
    {
     "name": "stderr",
     "output_type": "stream",
     "text": [
      "[I 2023-07-25 06:24:22,502] Trial 12 finished with value: 0.052653820567064635 and parameters: {'cutoff': 103}. Best is trial 11 with value: 0.07152029697042295.\n"
     ]
    },
    {
     "name": "stdout",
     "output_type": "stream",
     "text": [
      "EvaluatorHoldout: Processed 5965 (100.0%) in 44.70 sec. Users per second: 133\n"
     ]
    },
    {
     "name": "stderr",
     "output_type": "stream",
     "text": [
      "[I 2023-07-25 06:25:07,749] Trial 13 finished with value: 0.06298495190196822 and parameters: {'cutoff': 37}. Best is trial 11 with value: 0.07152029697042295.\n"
     ]
    },
    {
     "name": "stdout",
     "output_type": "stream",
     "text": [
      "EvaluatorHoldout: Processed 5965 (100.0%) in 45.01 sec. Users per second: 133\n"
     ]
    },
    {
     "name": "stderr",
     "output_type": "stream",
     "text": [
      "[I 2023-07-25 06:25:53,210] Trial 14 finished with value: 0.07116377945422392 and parameters: {'cutoff': 21}. Best is trial 11 with value: 0.07152029697042295.\n"
     ]
    },
    {
     "name": "stdout",
     "output_type": "stream",
     "text": [
      "EvaluatorHoldout: Processed 5965 (100.0%) in 45.03 sec. Users per second: 132\n"
     ]
    },
    {
     "name": "stderr",
     "output_type": "stream",
     "text": [
      "[I 2023-07-25 06:26:38,738] Trial 15 finished with value: 0.05070964222514944 and parameters: {'cutoff': 122}. Best is trial 11 with value: 0.07152029697042295.\n"
     ]
    },
    {
     "name": "stdout",
     "output_type": "stream",
     "text": [
      "EvaluatorHoldout: Processed 5965 (100.0%) in 44.70 sec. Users per second: 133\n"
     ]
    },
    {
     "name": "stderr",
     "output_type": "stream",
     "text": [
      "[I 2023-07-25 06:27:23,936] Trial 16 finished with value: 0.06201233385223349 and parameters: {'cutoff': 39}. Best is trial 11 with value: 0.07152029697042295.\n"
     ]
    },
    {
     "name": "stdout",
     "output_type": "stream",
     "text": [
      "EvaluatorHoldout: Processed 5965 (100.0%) in 44.81 sec. Users per second: 133\n"
     ]
    },
    {
     "name": "stderr",
     "output_type": "stream",
     "text": [
      "[I 2023-07-25 06:28:09,296] Trial 17 finished with value: 0.046322689232161075 and parameters: {'cutoff': 199}. Best is trial 11 with value: 0.07152029697042295.\n"
     ]
    },
    {
     "name": "stdout",
     "output_type": "stream",
     "text": [
      "EvaluatorHoldout: Processed 5965 (100.0%) in 44.77 sec. Users per second: 133\n"
     ]
    },
    {
     "name": "stderr",
     "output_type": "stream",
     "text": [
      "[I 2023-07-25 06:28:54,584] Trial 18 finished with value: 0.0476754946180764 and parameters: {'cutoff': 155}. Best is trial 11 with value: 0.07152029697042295.\n"
     ]
    },
    {
     "name": "stdout",
     "output_type": "stream",
     "text": [
      "EvaluatorHoldout: Processed 5965 (100.0%) in 44.99 sec. Users per second: 133\n"
     ]
    },
    {
     "name": "stderr",
     "output_type": "stream",
     "text": [
      "[I 2023-07-25 06:29:40,039] Trial 19 finished with value: 0.07090081693476516 and parameters: {'cutoff': 21}. Best is trial 11 with value: 0.07152029697042295.\n"
     ]
    },
    {
     "name": "stdout",
     "output_type": "stream",
     "text": [
      "EvaluatorHoldout: Processed 5965 (100.0%) in 44.89 sec. Users per second: 133\n"
     ]
    },
    {
     "name": "stderr",
     "output_type": "stream",
     "text": [
      "[I 2023-07-25 06:30:25,693] Trial 20 finished with value: 0.07470562407695733 and parameters: {'cutoff': 15}. Best is trial 20 with value: 0.07470562407695733.\n"
     ]
    },
    {
     "name": "stdout",
     "output_type": "stream",
     "text": [
      "EvaluatorHoldout: Processed 5965 (100.0%) in 44.87 sec. Users per second: 133\n"
     ]
    },
    {
     "name": "stderr",
     "output_type": "stream",
     "text": [
      "[I 2023-07-25 06:31:11,009] Trial 21 finished with value: 0.07390403012280666 and parameters: {'cutoff': 15}. Best is trial 20 with value: 0.07470562407695733.\n"
     ]
    },
    {
     "name": "stdout",
     "output_type": "stream",
     "text": [
      "EvaluatorHoldout: Processed 5965 (100.0%) in 44.70 sec. Users per second: 133\n"
     ]
    },
    {
     "name": "stderr",
     "output_type": "stream",
     "text": [
      "[I 2023-07-25 06:31:56,177] Trial 22 finished with value: 0.059633663300469784 and parameters: {'cutoff': 55}. Best is trial 20 with value: 0.07470562407695733.\n"
     ]
    },
    {
     "name": "stdout",
     "output_type": "stream",
     "text": [
      "EvaluatorHoldout: Processed 5965 (100.0%) in 44.79 sec. Users per second: 133\n"
     ]
    },
    {
     "name": "stderr",
     "output_type": "stream",
     "text": [
      "[I 2023-07-25 06:32:41,566] Trial 23 finished with value: 0.04602782767200222 and parameters: {'cutoff': 186}. Best is trial 20 with value: 0.07470562407695733.\n"
     ]
    },
    {
     "name": "stdout",
     "output_type": "stream",
     "text": [
      "EvaluatorHoldout: Processed 5965 (100.0%) in 44.71 sec. Users per second: 133\n"
     ]
    },
    {
     "name": "stderr",
     "output_type": "stream",
     "text": [
      "[I 2023-07-25 06:33:26,769] Trial 24 finished with value: 0.052240723000572184 and parameters: {'cutoff': 92}. Best is trial 20 with value: 0.07470562407695733.\n"
     ]
    },
    {
     "name": "stdout",
     "output_type": "stream",
     "text": [
      "EvaluatorHoldout: Processed 5965 (100.0%) in 44.71 sec. Users per second: 133\n"
     ]
    },
    {
     "name": "stderr",
     "output_type": "stream",
     "text": [
      "[I 2023-07-25 06:34:11,974] Trial 25 finished with value: 0.05394381245093754 and parameters: {'cutoff': 83}. Best is trial 20 with value: 0.07470562407695733.\n"
     ]
    },
    {
     "name": "stdout",
     "output_type": "stream",
     "text": [
      "EvaluatorHoldout: Processed 5965 (100.0%) in 44.88 sec. Users per second: 133\n"
     ]
    },
    {
     "name": "stderr",
     "output_type": "stream",
     "text": [
      "[I 2023-07-25 06:34:57,315] Trial 26 finished with value: 0.074349525672242 and parameters: {'cutoff': 15}. Best is trial 20 with value: 0.07470562407695733.\n"
     ]
    },
    {
     "name": "stdout",
     "output_type": "stream",
     "text": [
      "EvaluatorHoldout: Processed 5965 (100.0%) in 44.87 sec. Users per second: 133\n"
     ]
    },
    {
     "name": "stderr",
     "output_type": "stream",
     "text": [
      "[I 2023-07-25 06:35:42,630] Trial 27 finished with value: 0.07479707021115291 and parameters: {'cutoff': 15}. Best is trial 27 with value: 0.07479707021115291.\n"
     ]
    },
    {
     "name": "stdout",
     "output_type": "stream",
     "text": [
      "EvaluatorHoldout: Processed 5965 (100.0%) in 44.72 sec. Users per second: 133\n"
     ]
    },
    {
     "name": "stderr",
     "output_type": "stream",
     "text": [
      "[I 2023-07-25 06:36:27,847] Trial 28 finished with value: 0.05257941829987101 and parameters: {'cutoff': 98}. Best is trial 27 with value: 0.07479707021115291.\n"
     ]
    },
    {
     "name": "stdout",
     "output_type": "stream",
     "text": [
      "EvaluatorHoldout: Processed 5965 (100.0%) in 44.68 sec. Users per second: 134\n"
     ]
    },
    {
     "name": "stderr",
     "output_type": "stream",
     "text": [
      "[I 2023-07-25 06:37:12,992] Trial 29 finished with value: 0.05922939368538704 and parameters: {'cutoff': 54}. Best is trial 27 with value: 0.07479707021115291.\n"
     ]
    },
    {
     "name": "stdout",
     "output_type": "stream",
     "text": [
      "EvaluatorHoldout: Processed 5965 (100.0%) in 44.86 sec. Users per second: 133\n"
     ]
    },
    {
     "name": "stderr",
     "output_type": "stream",
     "text": [
      "[I 2023-07-25 06:37:58,379] Trial 30 finished with value: 0.04617492249763836 and parameters: {'cutoff': 189}. Best is trial 27 with value: 0.07479707021115291.\n"
     ]
    },
    {
     "name": "stdout",
     "output_type": "stream",
     "text": [
      "EvaluatorHoldout: Processed 5965 (100.0%) in 44.86 sec. Users per second: 133\n"
     ]
    },
    {
     "name": "stderr",
     "output_type": "stream",
     "text": [
      "[I 2023-07-25 06:38:43,699] Trial 31 finished with value: 0.07440703708138798 and parameters: {'cutoff': 15}. Best is trial 27 with value: 0.07479707021115291.\n"
     ]
    },
    {
     "name": "stdout",
     "output_type": "stream",
     "text": [
      "EvaluatorHoldout: Processed 5965 (100.0%) in 44.87 sec. Users per second: 133\n"
     ]
    },
    {
     "name": "stderr",
     "output_type": "stream",
     "text": [
      "[I 2023-07-25 06:39:29,029] Trial 32 finished with value: 0.07506061150361291 and parameters: {'cutoff': 15}. Best is trial 32 with value: 0.07506061150361291.\n"
     ]
    },
    {
     "name": "stdout",
     "output_type": "stream",
     "text": [
      "EvaluatorHoldout: Processed 5965 (100.0%) in 44.89 sec. Users per second: 133\n"
     ]
    },
    {
     "name": "stderr",
     "output_type": "stream",
     "text": [
      "[I 2023-07-25 06:40:14,359] Trial 33 finished with value: 0.0748228089782998 and parameters: {'cutoff': 15}. Best is trial 32 with value: 0.07506061150361291.\n"
     ]
    },
    {
     "name": "stdout",
     "output_type": "stream",
     "text": [
      "EvaluatorHoldout: Processed 5965 (100.0%) in 44.87 sec. Users per second: 133\n"
     ]
    },
    {
     "name": "stderr",
     "output_type": "stream",
     "text": [
      "[I 2023-07-25 06:40:59,672] Trial 34 finished with value: 0.07437187163214035 and parameters: {'cutoff': 15}. Best is trial 32 with value: 0.07506061150361291.\n"
     ]
    },
    {
     "name": "stdout",
     "output_type": "stream",
     "text": [
      "EvaluatorHoldout: Processed 5965 (100.0%) in 44.72 sec. Users per second: 133\n"
     ]
    },
    {
     "name": "stderr",
     "output_type": "stream",
     "text": [
      "[I 2023-07-25 06:41:44,897] Trial 35 finished with value: 0.05243448555728538 and parameters: {'cutoff': 97}. Best is trial 32 with value: 0.07506061150361291.\n"
     ]
    },
    {
     "name": "stdout",
     "output_type": "stream",
     "text": [
      "EvaluatorHoldout: Processed 5965 (100.0%) in 44.69 sec. Users per second: 133\n"
     ]
    },
    {
     "name": "stderr",
     "output_type": "stream",
     "text": [
      "[I 2023-07-25 06:42:30,078] Trial 36 finished with value: 0.06304145877406585 and parameters: {'cutoff': 36}. Best is trial 32 with value: 0.07506061150361291.\n"
     ]
    },
    {
     "name": "stdout",
     "output_type": "stream",
     "text": [
      "EvaluatorHoldout: Processed 5965 (100.0%) in 44.81 sec. Users per second: 133\n"
     ]
    },
    {
     "name": "stderr",
     "output_type": "stream",
     "text": [
      "[I 2023-07-25 06:43:15,407] Trial 37 finished with value: 0.04882630157399656 and parameters: {'cutoff': 144}. Best is trial 32 with value: 0.07506061150361291.\n"
     ]
    },
    {
     "name": "stdout",
     "output_type": "stream",
     "text": [
      "EvaluatorHoldout: Processed 5965 (100.0%) in 44.80 sec. Users per second: 133\n"
     ]
    },
    {
     "name": "stderr",
     "output_type": "stream",
     "text": [
      "[I 2023-07-25 06:44:00,775] Trial 38 finished with value: 0.04720088745193525 and parameters: {'cutoff': 184}. Best is trial 32 with value: 0.07506061150361291.\n"
     ]
    },
    {
     "name": "stdout",
     "output_type": "stream",
     "text": [
      "EvaluatorHoldout: Processed 5965 (100.0%) in 44.78 sec. Users per second: 133\n"
     ]
    },
    {
     "name": "stderr",
     "output_type": "stream",
     "text": [
      "[I 2023-07-25 06:44:46,114] Trial 39 finished with value: 0.04590548703415432 and parameters: {'cutoff': 195}. Best is trial 32 with value: 0.07506061150361291.\n"
     ]
    },
    {
     "name": "stdout",
     "output_type": "stream",
     "text": [
      "EvaluatorHoldout: Processed 5965 (100.0%) in 44.72 sec. Users per second: 133\n"
     ]
    },
    {
     "name": "stderr",
     "output_type": "stream",
     "text": [
      "[I 2023-07-25 06:45:31,331] Trial 40 finished with value: 0.052931758006360026 and parameters: {'cutoff': 95}. Best is trial 32 with value: 0.07506061150361291.\n"
     ]
    },
    {
     "name": "stdout",
     "output_type": "stream",
     "text": [
      "EvaluatorHoldout: Processed 5965 (100.0%) in 44.77 sec. Users per second: 133\n"
     ]
    },
    {
     "name": "stderr",
     "output_type": "stream",
     "text": [
      "[I 2023-07-25 06:46:16,643] Trial 41 finished with value: 0.04649235620484567 and parameters: {'cutoff': 190}. Best is trial 32 with value: 0.07506061150361291.\n"
     ]
    },
    {
     "name": "stdout",
     "output_type": "stream",
     "text": [
      "EvaluatorHoldout: Processed 5965 (100.0%) in 44.66 sec. Users per second: 134\n"
     ]
    },
    {
     "name": "stderr",
     "output_type": "stream",
     "text": [
      "[I 2023-07-25 06:47:01,769] Trial 42 finished with value: 0.0624767559440656 and parameters: {'cutoff': 43}. Best is trial 32 with value: 0.07506061150361291.\n"
     ]
    },
    {
     "name": "stdout",
     "output_type": "stream",
     "text": [
      "EvaluatorHoldout: Processed 5965 (100.0%) in 44.86 sec. Users per second: 133\n"
     ]
    },
    {
     "name": "stderr",
     "output_type": "stream",
     "text": [
      "[I 2023-07-25 06:47:47,075] Trial 43 finished with value: 0.0743701951862057 and parameters: {'cutoff': 15}. Best is trial 32 with value: 0.07506061150361291.\n"
     ]
    },
    {
     "name": "stdout",
     "output_type": "stream",
     "text": [
      "EvaluatorHoldout: Processed 5965 (100.0%) in 44.98 sec. Users per second: 133\n"
     ]
    },
    {
     "name": "stderr",
     "output_type": "stream",
     "text": [
      "[I 2023-07-25 06:48:32,503] Trial 44 finished with value: 0.07451494165702086 and parameters: {'cutoff': 15}. Best is trial 32 with value: 0.07506061150361291.\n"
     ]
    },
    {
     "name": "stdout",
     "output_type": "stream",
     "text": [
      "EvaluatorHoldout: Processed 5965 (100.0%) in 44.76 sec. Users per second: 133\n"
     ]
    },
    {
     "name": "stderr",
     "output_type": "stream",
     "text": [
      "[I 2023-07-25 06:49:17,766] Trial 45 finished with value: 0.051394437126625045 and parameters: {'cutoff': 111}. Best is trial 32 with value: 0.07506061150361291.\n"
     ]
    },
    {
     "name": "stdout",
     "output_type": "stream",
     "text": [
      "EvaluatorHoldout: Processed 5965 (100.0%) in 44.91 sec. Users per second: 133\n"
     ]
    },
    {
     "name": "stderr",
     "output_type": "stream",
     "text": [
      "[I 2023-07-25 06:50:03,124] Trial 46 finished with value: 0.07344572838914872 and parameters: {'cutoff': 17}. Best is trial 32 with value: 0.07506061150361291.\n"
     ]
    },
    {
     "name": "stdout",
     "output_type": "stream",
     "text": [
      "EvaluatorHoldout: Processed 5965 (100.0%) in 44.71 sec. Users per second: 133\n"
     ]
    },
    {
     "name": "stderr",
     "output_type": "stream",
     "text": [
      "[I 2023-07-25 06:50:48,310] Trial 47 finished with value: 0.05210751207440241 and parameters: {'cutoff': 96}. Best is trial 32 with value: 0.07506061150361291.\n"
     ]
    },
    {
     "name": "stdout",
     "output_type": "stream",
     "text": [
      "EvaluatorHoldout: Processed 5965 (100.0%) in 44.68 sec. Users per second: 133\n"
     ]
    },
    {
     "name": "stderr",
     "output_type": "stream",
     "text": [
      "[I 2023-07-25 06:51:33,465] Trial 48 finished with value: 0.06054388030708245 and parameters: {'cutoff': 46}. Best is trial 32 with value: 0.07506061150361291.\n"
     ]
    },
    {
     "name": "stdout",
     "output_type": "stream",
     "text": [
      "EvaluatorHoldout: Processed 5965 (100.0%) in 44.71 sec. Users per second: 133\n"
     ]
    },
    {
     "name": "stderr",
     "output_type": "stream",
     "text": [
      "[I 2023-07-25 06:52:18,652] Trial 49 finished with value: 0.057226839101105646 and parameters: {'cutoff': 63}. Best is trial 32 with value: 0.07506061150361291.\n"
     ]
    },
    {
     "name": "stdout",
     "output_type": "stream",
     "text": [
      "EvaluatorHoldout: Processed 5965 (100.0%) in 45.24 sec. Users per second: 132\n"
     ]
    },
    {
     "name": "stderr",
     "output_type": "stream",
     "text": [
      "[I 2023-07-25 06:53:03,907] A new study created in memory with name: no-name-ceb0b6a2-4a04-4b28-8299-8571c2b9e3b5\n"
     ]
    },
    {
     "name": "stdout",
     "output_type": "stream",
     "text": [
      "Recommender_Base_Class: URM Detected 204 ( 5.3%) items with no interactions.\n",
      "ItemKNNCFRecommender_DiffusionAutoencoderRecommender_TwoLevelRec\n",
      "EvaluatorHoldout: Processed 5965 (100.0%) in 6.59 sec. Users per second: 905\n"
     ]
    },
    {
     "name": "stderr",
     "output_type": "stream",
     "text": [
      "[I 2023-07-25 06:53:11,014] Trial 0 finished with value: 0.09119163373647872 and parameters: {'cutoff': 184}. Best is trial 0 with value: 0.09119163373647872.\n"
     ]
    },
    {
     "name": "stdout",
     "output_type": "stream",
     "text": [
      "EvaluatorHoldout: Processed 5965 (100.0%) in 7.02 sec. Users per second: 850\n"
     ]
    },
    {
     "name": "stderr",
     "output_type": "stream",
     "text": [
      "[I 2023-07-25 06:53:18,486] Trial 1 finished with value: 0.09352023709735377 and parameters: {'cutoff': 33}. Best is trial 1 with value: 0.09352023709735377.\n"
     ]
    },
    {
     "name": "stdout",
     "output_type": "stream",
     "text": [
      "EvaluatorHoldout: Processed 5965 (100.0%) in 6.95 sec. Users per second: 858\n"
     ]
    },
    {
     "name": "stderr",
     "output_type": "stream",
     "text": [
      "[I 2023-07-25 06:53:26,163] Trial 2 finished with value: 0.0933773001237381 and parameters: {'cutoff': 29}. Best is trial 1 with value: 0.09352023709735377.\n"
     ]
    },
    {
     "name": "stdout",
     "output_type": "stream",
     "text": [
      "EvaluatorHoldout: Processed 5965 (100.0%) in 6.88 sec. Users per second: 867\n"
     ]
    },
    {
     "name": "stderr",
     "output_type": "stream",
     "text": [
      "[I 2023-07-25 06:53:33,495] Trial 3 finished with value: 0.09320034194175031 and parameters: {'cutoff': 26}. Best is trial 1 with value: 0.09352023709735377.\n"
     ]
    },
    {
     "name": "stdout",
     "output_type": "stream",
     "text": [
      "EvaluatorHoldout: Processed 5965 (100.0%) in 6.50 sec. Users per second: 918\n"
     ]
    },
    {
     "name": "stderr",
     "output_type": "stream",
     "text": [
      "[I 2023-07-25 06:53:40,440] Trial 4 finished with value: 0.09305326707380374 and parameters: {'cutoff': 51}. Best is trial 1 with value: 0.09352023709735377.\n"
     ]
    },
    {
     "name": "stdout",
     "output_type": "stream",
     "text": [
      "EvaluatorHoldout: Processed 5965 (100.0%) in 6.53 sec. Users per second: 913\n"
     ]
    },
    {
     "name": "stderr",
     "output_type": "stream",
     "text": [
      "[I 2023-07-25 06:53:47,456] Trial 5 finished with value: 0.09251886001676426 and parameters: {'cutoff': 63}. Best is trial 1 with value: 0.09352023709735377.\n"
     ]
    },
    {
     "name": "stdout",
     "output_type": "stream",
     "text": [
      "EvaluatorHoldout: Processed 5965 (100.0%) in 6.50 sec. Users per second: 917\n"
     ]
    },
    {
     "name": "stderr",
     "output_type": "stream",
     "text": [
      "[I 2023-07-25 06:53:54,515] Trial 6 finished with value: 0.09218981093415289 and parameters: {'cutoff': 78}. Best is trial 1 with value: 0.09352023709735377.\n"
     ]
    },
    {
     "name": "stdout",
     "output_type": "stream",
     "text": [
      "EvaluatorHoldout: Processed 5965 (100.0%) in 6.55 sec. Users per second: 911\n"
     ]
    },
    {
     "name": "stderr",
     "output_type": "stream",
     "text": [
      "[I 2023-07-25 06:54:01,516] Trial 7 finished with value: 0.08827205657339834 and parameters: {'cutoff': 10}. Best is trial 1 with value: 0.09352023709735377.\n"
     ]
    },
    {
     "name": "stdout",
     "output_type": "stream",
     "text": [
      "EvaluatorHoldout: Processed 5965 (100.0%) in 6.57 sec. Users per second: 908\n"
     ]
    },
    {
     "name": "stderr",
     "output_type": "stream",
     "text": [
      "[I 2023-07-25 06:54:08,608] Trial 8 finished with value: 0.09105493021461174 and parameters: {'cutoff': 154}. Best is trial 1 with value: 0.09352023709735377.\n"
     ]
    },
    {
     "name": "stdout",
     "output_type": "stream",
     "text": [
      "EvaluatorHoldout: Processed 5965 (100.0%) in 6.60 sec. Users per second: 904\n"
     ]
    },
    {
     "name": "stderr",
     "output_type": "stream",
     "text": [
      "[I 2023-07-25 06:54:15,741] Trial 9 finished with value: 0.09112691760135162 and parameters: {'cutoff': 195}. Best is trial 1 with value: 0.09352023709735377.\n"
     ]
    },
    {
     "name": "stdout",
     "output_type": "stream",
     "text": [
      "EvaluatorHoldout: Processed 5965 (100.0%) in 6.55 sec. Users per second: 911\n"
     ]
    },
    {
     "name": "stderr",
     "output_type": "stream",
     "text": [
      "[I 2023-07-25 06:54:22,804] Trial 10 finished with value: 0.0918287031493233 and parameters: {'cutoff': 132}. Best is trial 1 with value: 0.09352023709735377.\n"
     ]
    },
    {
     "name": "stdout",
     "output_type": "stream",
     "text": [
      "EvaluatorHoldout: Processed 5965 (100.0%) in 6.47 sec. Users per second: 922\n"
     ]
    },
    {
     "name": "stderr",
     "output_type": "stream",
     "text": [
      "[I 2023-07-25 06:54:29,745] Trial 11 finished with value: 0.09334270679492815 and parameters: {'cutoff': 41}. Best is trial 1 with value: 0.09352023709735377.\n"
     ]
    },
    {
     "name": "stdout",
     "output_type": "stream",
     "text": [
      "EvaluatorHoldout: Processed 5965 (100.0%) in 6.51 sec. Users per second: 916\n"
     ]
    },
    {
     "name": "stderr",
     "output_type": "stream",
     "text": [
      "[I 2023-07-25 06:54:36,746] Trial 12 finished with value: 0.09164634308599105 and parameters: {'cutoff': 110}. Best is trial 1 with value: 0.09352023709735377.\n"
     ]
    },
    {
     "name": "stdout",
     "output_type": "stream",
     "text": [
      "EvaluatorHoldout: Processed 5965 (100.0%) in 6.93 sec. Users per second: 861\n"
     ]
    },
    {
     "name": "stderr",
     "output_type": "stream",
     "text": [
      "[I 2023-07-25 06:54:44,119] Trial 13 finished with value: 0.09342058170012932 and parameters: {'cutoff': 29}. Best is trial 1 with value: 0.09352023709735377.\n"
     ]
    },
    {
     "name": "stdout",
     "output_type": "stream",
     "text": [
      "EvaluatorHoldout: Processed 5965 (100.0%) in 6.94 sec. Users per second: 860\n"
     ]
    },
    {
     "name": "stderr",
     "output_type": "stream",
     "text": [
      "[I 2023-07-25 06:54:51,495] Trial 14 finished with value: 0.09340405008049615 and parameters: {'cutoff': 29}. Best is trial 1 with value: 0.09352023709735377.\n"
     ]
    },
    {
     "name": "stdout",
     "output_type": "stream",
     "text": [
      "EvaluatorHoldout: Processed 5965 (100.0%) in 6.62 sec. Users per second: 901\n"
     ]
    },
    {
     "name": "stderr",
     "output_type": "stream",
     "text": [
      "[I 2023-07-25 06:54:58,545] Trial 15 finished with value: 0.09125048896339799 and parameters: {'cutoff': 14}. Best is trial 1 with value: 0.09352023709735377.\n"
     ]
    },
    {
     "name": "stdout",
     "output_type": "stream",
     "text": [
      "EvaluatorHoldout: Processed 5965 (100.0%) in 6.50 sec. Users per second: 918\n"
     ]
    },
    {
     "name": "stderr",
     "output_type": "stream",
     "text": [
      "[I 2023-07-25 06:55:05,506] Trial 16 finished with value: 0.09261578786306364 and parameters: {'cutoff': 69}. Best is trial 1 with value: 0.09352023709735377.\n"
     ]
    },
    {
     "name": "stdout",
     "output_type": "stream",
     "text": [
      "EvaluatorHoldout: Processed 5965 (100.0%) in 6.57 sec. Users per second: 908\n"
     ]
    },
    {
     "name": "stderr",
     "output_type": "stream",
     "text": [
      "[I 2023-07-25 06:55:12,579] Trial 17 finished with value: 0.09142117377825686 and parameters: {'cutoff': 170}. Best is trial 1 with value: 0.09352023709735377.\n"
     ]
    },
    {
     "name": "stdout",
     "output_type": "stream",
     "text": [
      "EvaluatorHoldout: Processed 5965 (100.0%) in 6.49 sec. Users per second: 919\n"
     ]
    },
    {
     "name": "stderr",
     "output_type": "stream",
     "text": [
      "[I 2023-07-25 06:55:19,544] Trial 18 finished with value: 0.09225675567796285 and parameters: {'cutoff': 77}. Best is trial 1 with value: 0.09352023709735377.\n"
     ]
    },
    {
     "name": "stdout",
     "output_type": "stream",
     "text": [
      "EvaluatorHoldout: Processed 5965 (100.0%) in 6.47 sec. Users per second: 922\n"
     ]
    },
    {
     "name": "stderr",
     "output_type": "stream",
     "text": [
      "[I 2023-07-25 06:55:26,483] Trial 19 finished with value: 0.09322638672680594 and parameters: {'cutoff': 45}. Best is trial 1 with value: 0.09352023709735377.\n"
     ]
    },
    {
     "name": "stdout",
     "output_type": "stream",
     "text": [
      "EvaluatorHoldout: Processed 5965 (100.0%) in 6.51 sec. Users per second: 916\n"
     ]
    },
    {
     "name": "stderr",
     "output_type": "stream",
     "text": [
      "[I 2023-07-25 06:55:33,489] Trial 20 finished with value: 0.09195572719168672 and parameters: {'cutoff': 114}. Best is trial 1 with value: 0.09352023709735377.\n"
     ]
    },
    {
     "name": "stdout",
     "output_type": "stream",
     "text": [
      "EvaluatorHoldout: Processed 5965 (100.0%) in 7.10 sec. Users per second: 840\n"
     ]
    },
    {
     "name": "stderr",
     "output_type": "stream",
     "text": [
      "[I 2023-07-25 06:55:41,050] Trial 21 finished with value: 0.09345853457337132 and parameters: {'cutoff': 33}. Best is trial 1 with value: 0.09352023709735377.\n"
     ]
    },
    {
     "name": "stdout",
     "output_type": "stream",
     "text": [
      "EvaluatorHoldout: Processed 5965 (100.0%) in 7.06 sec. Users per second: 844\n"
     ]
    },
    {
     "name": "stderr",
     "output_type": "stream",
     "text": [
      "[I 2023-07-25 06:55:48,576] Trial 22 finished with value: 0.09346015114623671 and parameters: {'cutoff': 33}. Best is trial 1 with value: 0.09352023709735377.\n"
     ]
    },
    {
     "name": "stdout",
     "output_type": "stream",
     "text": [
      "EvaluatorHoldout: Processed 5965 (100.0%) in 6.55 sec. Users per second: 911\n"
     ]
    },
    {
     "name": "stderr",
     "output_type": "stream",
     "text": [
      "[I 2023-07-25 06:55:55,629] Trial 23 finished with value: 0.09164901076384728 and parameters: {'cutoff': 140}. Best is trial 1 with value: 0.09352023709735377.\n"
     ]
    },
    {
     "name": "stdout",
     "output_type": "stream",
     "text": [
      "EvaluatorHoldout: Processed 5965 (100.0%) in 7.01 sec. Users per second: 851\n"
     ]
    },
    {
     "name": "stderr",
     "output_type": "stream",
     "text": [
      "[I 2023-07-25 06:56:03,099] Trial 24 finished with value: 0.09311194268151532 and parameters: {'cutoff': 33}. Best is trial 1 with value: 0.09352023709735377.\n"
     ]
    },
    {
     "name": "stdout",
     "output_type": "stream",
     "text": [
      "EvaluatorHoldout: Processed 5965 (100.0%) in 7.01 sec. Users per second: 851\n"
     ]
    },
    {
     "name": "stderr",
     "output_type": "stream",
     "text": [
      "[I 2023-07-25 06:56:10,558] Trial 25 finished with value: 0.09331891722880829 and parameters: {'cutoff': 33}. Best is trial 1 with value: 0.09352023709735377.\n"
     ]
    },
    {
     "name": "stdout",
     "output_type": "stream",
     "text": [
      "EvaluatorHoldout: Processed 5965 (100.0%) in 7.06 sec. Users per second: 845\n"
     ]
    },
    {
     "name": "stderr",
     "output_type": "stream",
     "text": [
      "[I 2023-07-25 06:56:18,075] Trial 26 finished with value: 0.09311097805984622 and parameters: {'cutoff': 33}. Best is trial 1 with value: 0.09352023709735377.\n"
     ]
    },
    {
     "name": "stdout",
     "output_type": "stream",
     "text": [
      "EvaluatorHoldout: Processed 5965 (100.0%) in 6.50 sec. Users per second: 917\n"
     ]
    },
    {
     "name": "stderr",
     "output_type": "stream",
     "text": [
      "[I 2023-07-25 06:56:25,076] Trial 27 finished with value: 0.09185655743157846 and parameters: {'cutoff': 100}. Best is trial 1 with value: 0.09352023709735377.\n"
     ]
    },
    {
     "name": "stdout",
     "output_type": "stream",
     "text": [
      "EvaluatorHoldout: Processed 5965 (100.0%) in 6.48 sec. Users per second: 920\n"
     ]
    },
    {
     "name": "stderr",
     "output_type": "stream",
     "text": [
      "[I 2023-07-25 06:56:32,022] Trial 28 finished with value: 0.09305373275322983 and parameters: {'cutoff': 55}. Best is trial 1 with value: 0.09352023709735377.\n"
     ]
    },
    {
     "name": "stdout",
     "output_type": "stream",
     "text": [
      "EvaluatorHoldout: Processed 5965 (100.0%) in 6.60 sec. Users per second: 904\n"
     ]
    },
    {
     "name": "stderr",
     "output_type": "stream",
     "text": [
      "[I 2023-07-25 06:56:39,143] Trial 29 finished with value: 0.09112745645897383 and parameters: {'cutoff': 196}. Best is trial 1 with value: 0.09352023709735377.\n"
     ]
    },
    {
     "name": "stdout",
     "output_type": "stream",
     "text": [
      "EvaluatorHoldout: Processed 5965 (100.0%) in 6.51 sec. Users per second: 917\n"
     ]
    },
    {
     "name": "stderr",
     "output_type": "stream",
     "text": [
      "[I 2023-07-25 06:56:46,142] Trial 30 finished with value: 0.09190253994864224 and parameters: {'cutoff': 96}. Best is trial 1 with value: 0.09352023709735377.\n"
     ]
    },
    {
     "name": "stdout",
     "output_type": "stream",
     "text": [
      "EvaluatorHoldout: Processed 5965 (100.0%) in 6.56 sec. Users per second: 909\n"
     ]
    },
    {
     "name": "stderr",
     "output_type": "stream",
     "text": [
      "[I 2023-07-25 06:56:53,217] Trial 31 finished with value: 0.09157950478319321 and parameters: {'cutoff': 164}. Best is trial 1 with value: 0.09352023709735377.\n"
     ]
    },
    {
     "name": "stdout",
     "output_type": "stream",
     "text": [
      "EvaluatorHoldout: Processed 5965 (100.0%) in 6.52 sec. Users per second: 915\n"
     ]
    },
    {
     "name": "stderr",
     "output_type": "stream",
     "text": [
      "[I 2023-07-25 06:57:00,250] Trial 32 finished with value: 0.09173876049441829 and parameters: {'cutoff': 115}. Best is trial 1 with value: 0.09352023709735377.\n"
     ]
    },
    {
     "name": "stdout",
     "output_type": "stream",
     "text": [
      "EvaluatorHoldout: Processed 5965 (100.0%) in 6.46 sec. Users per second: 923\n"
     ]
    },
    {
     "name": "stderr",
     "output_type": "stream",
     "text": [
      "[I 2023-07-25 06:57:07,193] Trial 33 finished with value: 0.0930191061616042 and parameters: {'cutoff': 40}. Best is trial 1 with value: 0.09352023709735377.\n"
     ]
    },
    {
     "name": "stdout",
     "output_type": "stream",
     "text": [
      "EvaluatorHoldout: Processed 5965 (100.0%) in 6.76 sec. Users per second: 882\n"
     ]
    },
    {
     "name": "stderr",
     "output_type": "stream",
     "text": [
      "[I 2023-07-25 06:57:14,429] Trial 34 finished with value: 0.09218627177051307 and parameters: {'cutoff': 87}. Best is trial 1 with value: 0.09352023709735377.\n"
     ]
    },
    {
     "name": "stdout",
     "output_type": "stream",
     "text": [
      "EvaluatorHoldout: Processed 5965 (100.0%) in 6.56 sec. Users per second: 910\n"
     ]
    },
    {
     "name": "stderr",
     "output_type": "stream",
     "text": [
      "[I 2023-07-25 06:57:21,508] Trial 35 finished with value: 0.0917082185766179 and parameters: {'cutoff': 150}. Best is trial 1 with value: 0.09352023709735377.\n"
     ]
    },
    {
     "name": "stdout",
     "output_type": "stream",
     "text": [
      "EvaluatorHoldout: Processed 5965 (100.0%) in 6.81 sec. Users per second: 877\n"
     ]
    },
    {
     "name": "stderr",
     "output_type": "stream",
     "text": [
      "[I 2023-07-25 06:57:28,768] Trial 36 finished with value: 0.09285195385782173 and parameters: {'cutoff': 23}. Best is trial 1 with value: 0.09352023709735377.\n"
     ]
    },
    {
     "name": "stdout",
     "output_type": "stream",
     "text": [
      "EvaluatorHoldout: Processed 5965 (100.0%) in 6.56 sec. Users per second: 910\n"
     ]
    },
    {
     "name": "stderr",
     "output_type": "stream",
     "text": [
      "[I 2023-07-25 06:57:35,846] Trial 37 finished with value: 0.09149024068973782 and parameters: {'cutoff': 158}. Best is trial 1 with value: 0.09352023709735377.\n"
     ]
    },
    {
     "name": "stdout",
     "output_type": "stream",
     "text": [
      "EvaluatorHoldout: Processed 5965 (100.0%) in 6.56 sec. Users per second: 909\n"
     ]
    },
    {
     "name": "stderr",
     "output_type": "stream",
     "text": [
      "[I 2023-07-25 06:57:42,923] Trial 38 finished with value: 0.09127192352213323 and parameters: {'cutoff': 145}. Best is trial 1 with value: 0.09352023709735377.\n"
     ]
    },
    {
     "name": "stdout",
     "output_type": "stream",
     "text": [
      "EvaluatorHoldout: Processed 5965 (100.0%) in 6.59 sec. Users per second: 905\n"
     ]
    },
    {
     "name": "stderr",
     "output_type": "stream",
     "text": [
      "[I 2023-07-25 06:57:50,059] Trial 39 finished with value: 0.09145709761971296 and parameters: {'cutoff': 198}. Best is trial 1 with value: 0.09352023709735377.\n"
     ]
    },
    {
     "name": "stdout",
     "output_type": "stream",
     "text": [
      "EvaluatorHoldout: Processed 5965 (100.0%) in 6.45 sec. Users per second: 924\n"
     ]
    },
    {
     "name": "stderr",
     "output_type": "stream",
     "text": [
      "[I 2023-07-25 06:57:56,975] Trial 40 finished with value: 0.09352107532032115 and parameters: {'cutoff': 34}. Best is trial 40 with value: 0.09352107532032115.\n"
     ]
    },
    {
     "name": "stdout",
     "output_type": "stream",
     "text": [
      "EvaluatorHoldout: Processed 5965 (100.0%) in 6.58 sec. Users per second: 907\n"
     ]
    },
    {
     "name": "stderr",
     "output_type": "stream",
     "text": [
      "[I 2023-07-25 06:58:04,076] Trial 41 finished with value: 0.09135583230218607 and parameters: {'cutoff': 186}. Best is trial 40 with value: 0.09352107532032115.\n"
     ]
    },
    {
     "name": "stdout",
     "output_type": "stream",
     "text": [
      "EvaluatorHoldout: Processed 5965 (100.0%) in 6.64 sec. Users per second: 898\n"
     ]
    },
    {
     "name": "stderr",
     "output_type": "stream",
     "text": [
      "[I 2023-07-25 06:58:11,173] Trial 42 finished with value: 0.0919800023949232 and parameters: {'cutoff': 15}. Best is trial 40 with value: 0.09352107532032115.\n"
     ]
    },
    {
     "name": "stdout",
     "output_type": "stream",
     "text": [
      "EvaluatorHoldout: Processed 5965 (100.0%) in 6.54 sec. Users per second: 912\n"
     ]
    },
    {
     "name": "stderr",
     "output_type": "stream",
     "text": [
      "[I 2023-07-25 06:58:18,230] Trial 43 finished with value: 0.09152018387684771 and parameters: {'cutoff': 143}. Best is trial 40 with value: 0.09352107532032115.\n"
     ]
    },
    {
     "name": "stdout",
     "output_type": "stream",
     "text": [
      "EvaluatorHoldout: Processed 5965 (100.0%) in 6.46 sec. Users per second: 924\n"
     ]
    },
    {
     "name": "stderr",
     "output_type": "stream",
     "text": [
      "[I 2023-07-25 06:58:25,153] Trial 44 finished with value: 0.09338238933461067 and parameters: {'cutoff': 34}. Best is trial 40 with value: 0.09352107532032115.\n"
     ]
    },
    {
     "name": "stdout",
     "output_type": "stream",
     "text": [
      "EvaluatorHoldout: Processed 5965 (100.0%) in 6.57 sec. Users per second: 909\n"
     ]
    },
    {
     "name": "stderr",
     "output_type": "stream",
     "text": [
      "[I 2023-07-25 06:58:32,238] Trial 45 finished with value: 0.09146788142471292 and parameters: {'cutoff': 172}. Best is trial 40 with value: 0.09352107532032115.\n"
     ]
    },
    {
     "name": "stdout",
     "output_type": "stream",
     "text": [
      "EvaluatorHoldout: Processed 5965 (100.0%) in 6.47 sec. Users per second: 922\n"
     ]
    },
    {
     "name": "stderr",
     "output_type": "stream",
     "text": [
      "[I 2023-07-25 06:58:39,192] Trial 46 finished with value: 0.09302137468566643 and parameters: {'cutoff': 50}. Best is trial 40 with value: 0.09352107532032115.\n"
     ]
    },
    {
     "name": "stdout",
     "output_type": "stream",
     "text": [
      "EvaluatorHoldout: Processed 5965 (100.0%) in 6.63 sec. Users per second: 899\n"
     ]
    },
    {
     "name": "stderr",
     "output_type": "stream",
     "text": [
      "[I 2023-07-25 06:58:46,355] Trial 47 finished with value: 0.09154449234289969 and parameters: {'cutoff': 188}. Best is trial 40 with value: 0.09352107532032115.\n"
     ]
    },
    {
     "name": "stdout",
     "output_type": "stream",
     "text": [
      "EvaluatorHoldout: Processed 5965 (100.0%) in 6.95 sec. Users per second: 859\n"
     ]
    },
    {
     "name": "stderr",
     "output_type": "stream",
     "text": [
      "[I 2023-07-25 06:58:53,772] Trial 48 finished with value: 0.09347192618315858 and parameters: {'cutoff': 29}. Best is trial 40 with value: 0.09352107532032115.\n"
     ]
    },
    {
     "name": "stdout",
     "output_type": "stream",
     "text": [
      "EvaluatorHoldout: Processed 5965 (100.0%) in 6.56 sec. Users per second: 909\n"
     ]
    },
    {
     "name": "stderr",
     "output_type": "stream",
     "text": [
      "[I 2023-07-25 06:59:00,859] Trial 49 finished with value: 0.09158607751566694 and parameters: {'cutoff': 168}. Best is trial 40 with value: 0.09352107532032115.\n"
     ]
    },
    {
     "name": "stdout",
     "output_type": "stream",
     "text": [
      "EvaluatorHoldout: Processed 5965 (100.0%) in 6.64 sec. Users per second: 899\n"
     ]
    },
    {
     "name": "stderr",
     "output_type": "stream",
     "text": [
      "[I 2023-07-25 06:59:07,520] A new study created in memory with name: no-name-ed5e5fc0-4fe6-4803-9d62-74cfad470d65\n"
     ]
    },
    {
     "name": "stdout",
     "output_type": "stream",
     "text": [
      "Recommender_Base_Class: URM Detected 204 ( 5.3%) items with no interactions.\n",
      "ItemKNNCFRecommender_DiffusionAutoencoderRecommender_TwoLevelRec\n",
      "EvaluatorHoldout: Processed 5965 (100.0%) in 23.57 sec. Users per second: 253\n"
     ]
    },
    {
     "name": "stderr",
     "output_type": "stream",
     "text": [
      "[I 2023-07-25 06:59:31,588] Trial 0 finished with value: 0.07426396040394403 and parameters: {'cutoff': 171}. Best is trial 0 with value: 0.07426396040394403.\n"
     ]
    },
    {
     "name": "stdout",
     "output_type": "stream",
     "text": [
      "EvaluatorHoldout: Processed 5965 (100.0%) in 23.56 sec. Users per second: 253\n"
     ]
    },
    {
     "name": "stderr",
     "output_type": "stream",
     "text": [
      "[I 2023-07-25 06:59:55,592] Trial 1 finished with value: 0.0850714219188658 and parameters: {'cutoff': 11}. Best is trial 1 with value: 0.0850714219188658.\n"
     ]
    },
    {
     "name": "stdout",
     "output_type": "stream",
     "text": [
      "EvaluatorHoldout: Processed 5965 (100.0%) in 23.77 sec. Users per second: 251\n"
     ]
    },
    {
     "name": "stderr",
     "output_type": "stream",
     "text": [
      "[I 2023-07-25 07:00:19,793] Trial 2 finished with value: 0.08477558243191152 and parameters: {'cutoff': 20}. Best is trial 1 with value: 0.0850714219188658.\n"
     ]
    },
    {
     "name": "stdout",
     "output_type": "stream",
     "text": [
      "EvaluatorHoldout: Processed 5965 (100.0%) in 23.65 sec. Users per second: 252\n"
     ]
    },
    {
     "name": "stderr",
     "output_type": "stream",
     "text": [
      "[I 2023-07-25 07:00:43,898] Trial 3 finished with value: 0.08517397118109646 and parameters: {'cutoff': 15}. Best is trial 3 with value: 0.08517397118109646.\n"
     ]
    },
    {
     "name": "stdout",
     "output_type": "stream",
     "text": [
      "EvaluatorHoldout: Processed 5965 (100.0%) in 23.54 sec. Users per second: 253\n"
     ]
    },
    {
     "name": "stderr",
     "output_type": "stream",
     "text": [
      "[I 2023-07-25 07:01:07,919] Trial 4 finished with value: 0.07670130656341918 and parameters: {'cutoff': 94}. Best is trial 3 with value: 0.08517397118109646.\n"
     ]
    },
    {
     "name": "stdout",
     "output_type": "stream",
     "text": [
      "EvaluatorHoldout: Processed 5965 (100.0%) in 23.53 sec. Users per second: 253\n"
     ]
    },
    {
     "name": "stderr",
     "output_type": "stream",
     "text": [
      "[I 2023-07-25 07:01:31,946] Trial 5 finished with value: 0.0759511834909995 and parameters: {'cutoff': 105}. Best is trial 3 with value: 0.08517397118109646.\n"
     ]
    },
    {
     "name": "stdout",
     "output_type": "stream",
     "text": [
      "EvaluatorHoldout: Processed 5965 (100.0%) in 23.54 sec. Users per second: 253\n"
     ]
    },
    {
     "name": "stderr",
     "output_type": "stream",
     "text": [
      "[I 2023-07-25 07:01:55,997] Trial 6 finished with value: 0.07504606234782321 and parameters: {'cutoff': 119}. Best is trial 3 with value: 0.08517397118109646.\n"
     ]
    },
    {
     "name": "stdout",
     "output_type": "stream",
     "text": [
      "EvaluatorHoldout: Processed 5965 (100.0%) in 23.48 sec. Users per second: 254\n"
     ]
    },
    {
     "name": "stderr",
     "output_type": "stream",
     "text": [
      "[I 2023-07-25 07:02:19,944] Trial 7 finished with value: 0.07847837251693125 and parameters: {'cutoff': 67}. Best is trial 3 with value: 0.08517397118109646.\n"
     ]
    },
    {
     "name": "stdout",
     "output_type": "stream",
     "text": [
      "EvaluatorHoldout: Processed 5965 (100.0%) in 23.57 sec. Users per second: 253\n"
     ]
    },
    {
     "name": "stderr",
     "output_type": "stream",
     "text": [
      "[I 2023-07-25 07:02:44,036] Trial 8 finished with value: 0.07382317486927759 and parameters: {'cutoff': 187}. Best is trial 3 with value: 0.08517397118109646.\n"
     ]
    },
    {
     "name": "stdout",
     "output_type": "stream",
     "text": [
      "EvaluatorHoldout: Processed 5965 (100.0%) in 23.52 sec. Users per second: 254\n"
     ]
    },
    {
     "name": "stderr",
     "output_type": "stream",
     "text": [
      "[I 2023-07-25 07:03:08,030] Trial 9 finished with value: 0.07738161098471295 and parameters: {'cutoff': 79}. Best is trial 3 with value: 0.08517397118109646.\n"
     ]
    },
    {
     "name": "stdout",
     "output_type": "stream",
     "text": [
      "EvaluatorHoldout: Processed 5965 (100.0%) in 23.56 sec. Users per second: 253\n"
     ]
    },
    {
     "name": "stderr",
     "output_type": "stream",
     "text": [
      "[I 2023-07-25 07:03:32,113] Trial 10 finished with value: 0.07407785494751166 and parameters: {'cutoff': 157}. Best is trial 3 with value: 0.08517397118109646.\n"
     ]
    },
    {
     "name": "stdout",
     "output_type": "stream",
     "text": [
      "EvaluatorHoldout: Processed 5965 (100.0%) in 23.49 sec. Users per second: 254\n"
     ]
    },
    {
     "name": "stderr",
     "output_type": "stream",
     "text": [
      "[I 2023-07-25 07:03:56,098] Trial 11 finished with value: 0.0773413629771555 and parameters: {'cutoff': 77}. Best is trial 3 with value: 0.08517397118109646.\n"
     ]
    },
    {
     "name": "stdout",
     "output_type": "stream",
     "text": [
      "EvaluatorHoldout: Processed 5965 (100.0%) in 23.54 sec. Users per second: 253\n"
     ]
    },
    {
     "name": "stderr",
     "output_type": "stream",
     "text": [
      "[I 2023-07-25 07:04:20,128] Trial 12 finished with value: 0.075887565028806 and parameters: {'cutoff': 108}. Best is trial 3 with value: 0.08517397118109646.\n"
     ]
    },
    {
     "name": "stdout",
     "output_type": "stream",
     "text": [
      "EvaluatorHoldout: Processed 5965 (100.0%) in 23.56 sec. Users per second: 253\n"
     ]
    },
    {
     "name": "stderr",
     "output_type": "stream",
     "text": [
      "[I 2023-07-25 07:04:44,137] Trial 13 finished with value: 0.08516570869756163 and parameters: {'cutoff': 11}. Best is trial 3 with value: 0.08517397118109646.\n"
     ]
    },
    {
     "name": "stdout",
     "output_type": "stream",
     "text": [
      "EvaluatorHoldout: Processed 5965 (100.0%) in 23.47 sec. Users per second: 254\n"
     ]
    },
    {
     "name": "stderr",
     "output_type": "stream",
     "text": [
      "[I 2023-07-25 07:05:08,072] Trial 14 finished with value: 0.08106197527907547 and parameters: {'cutoff': 43}. Best is trial 3 with value: 0.08517397118109646.\n"
     ]
    },
    {
     "name": "stdout",
     "output_type": "stream",
     "text": [
      "EvaluatorHoldout: Processed 5965 (100.0%) in 23.66 sec. Users per second: 252\n"
     ]
    },
    {
     "name": "stderr",
     "output_type": "stream",
     "text": [
      "[I 2023-07-25 07:05:32,172] Trial 15 finished with value: 0.08498628241461478 and parameters: {'cutoff': 15}. Best is trial 3 with value: 0.08517397118109646.\n"
     ]
    },
    {
     "name": "stdout",
     "output_type": "stream",
     "text": [
      "EvaluatorHoldout: Processed 5965 (100.0%) in 23.64 sec. Users per second: 252\n"
     ]
    },
    {
     "name": "stderr",
     "output_type": "stream",
     "text": [
      "[I 2023-07-25 07:05:56,255] Trial 16 finished with value: 0.08523249377985392 and parameters: {'cutoff': 15}. Best is trial 16 with value: 0.08523249377985392.\n"
     ]
    },
    {
     "name": "stdout",
     "output_type": "stream",
     "text": [
      "EvaluatorHoldout: Processed 5965 (100.0%) in 23.64 sec. Users per second: 252\n"
     ]
    },
    {
     "name": "stderr",
     "output_type": "stream",
     "text": [
      "[I 2023-07-25 07:06:20,496] Trial 17 finished with value: 0.08534591333040686 and parameters: {'cutoff': 15}. Best is trial 17 with value: 0.08534591333040686.\n"
     ]
    },
    {
     "name": "stdout",
     "output_type": "stream",
     "text": [
      "EvaluatorHoldout: Processed 5965 (100.0%) in 23.62 sec. Users per second: 252\n"
     ]
    },
    {
     "name": "stderr",
     "output_type": "stream",
     "text": [
      "[I 2023-07-25 07:06:44,634] Trial 18 finished with value: 0.0735862039143686 and parameters: {'cutoff': 192}. Best is trial 17 with value: 0.08534591333040686.\n"
     ]
    },
    {
     "name": "stdout",
     "output_type": "stream",
     "text": [
      "EvaluatorHoldout: Processed 5965 (100.0%) in 23.55 sec. Users per second: 253\n"
     ]
    },
    {
     "name": "stderr",
     "output_type": "stream",
     "text": [
      "[I 2023-07-25 07:07:08,692] Trial 19 finished with value: 0.0751590428292025 and parameters: {'cutoff': 129}. Best is trial 17 with value: 0.08534591333040686.\n"
     ]
    },
    {
     "name": "stdout",
     "output_type": "stream",
     "text": [
      "EvaluatorHoldout: Processed 5965 (100.0%) in 23.48 sec. Users per second: 254\n"
     ]
    },
    {
     "name": "stderr",
     "output_type": "stream",
     "text": [
      "[I 2023-07-25 07:07:32,637] Trial 20 finished with value: 0.0790039848853768 and parameters: {'cutoff': 61}. Best is trial 17 with value: 0.08534591333040686.\n"
     ]
    },
    {
     "name": "stdout",
     "output_type": "stream",
     "text": [
      "EvaluatorHoldout: Processed 5965 (100.0%) in 23.85 sec. Users per second: 250\n"
     ]
    },
    {
     "name": "stderr",
     "output_type": "stream",
     "text": [
      "[I 2023-07-25 07:07:56,941] Trial 21 finished with value: 0.08405937412685147 and parameters: {'cutoff': 25}. Best is trial 17 with value: 0.08534591333040686.\n"
     ]
    },
    {
     "name": "stdout",
     "output_type": "stream",
     "text": [
      "EvaluatorHoldout: Processed 5965 (100.0%) in 23.51 sec. Users per second: 254\n"
     ]
    },
    {
     "name": "stderr",
     "output_type": "stream",
     "text": [
      "[I 2023-07-25 07:08:20,936] Trial 22 finished with value: 0.0764065780545248 and parameters: {'cutoff': 93}. Best is trial 17 with value: 0.08534591333040686.\n"
     ]
    },
    {
     "name": "stdout",
     "output_type": "stream",
     "text": [
      "EvaluatorHoldout: Processed 5965 (100.0%) in 23.54 sec. Users per second: 253\n"
     ]
    },
    {
     "name": "stderr",
     "output_type": "stream",
     "text": [
      "[I 2023-07-25 07:08:44,962] Trial 23 finished with value: 0.07754790510783838 and parameters: {'cutoff': 81}. Best is trial 17 with value: 0.08534591333040686.\n"
     ]
    },
    {
     "name": "stdout",
     "output_type": "stream",
     "text": [
      "EvaluatorHoldout: Processed 5965 (100.0%) in 23.64 sec. Users per second: 252\n"
     ]
    },
    {
     "name": "stderr",
     "output_type": "stream",
     "text": [
      "[I 2023-07-25 07:09:09,055] Trial 24 finished with value: 0.08527843638153823 and parameters: {'cutoff': 15}. Best is trial 17 with value: 0.08534591333040686.\n"
     ]
    },
    {
     "name": "stdout",
     "output_type": "stream",
     "text": [
      "EvaluatorHoldout: Processed 5965 (100.0%) in 23.70 sec. Users per second: 252\n"
     ]
    },
    {
     "name": "stderr",
     "output_type": "stream",
     "text": [
      "[I 2023-07-25 07:09:33,185] Trial 25 finished with value: 0.08543142537819869 and parameters: {'cutoff': 15}. Best is trial 25 with value: 0.08543142537819869.\n"
     ]
    },
    {
     "name": "stdout",
     "output_type": "stream",
     "text": [
      "EvaluatorHoldout: Processed 5965 (100.0%) in 23.56 sec. Users per second: 253\n"
     ]
    },
    {
     "name": "stderr",
     "output_type": "stream",
     "text": [
      "[I 2023-07-25 07:09:57,278] Trial 26 finished with value: 0.07437471892920382 and parameters: {'cutoff': 153}. Best is trial 25 with value: 0.08543142537819869.\n"
     ]
    },
    {
     "name": "stdout",
     "output_type": "stream",
     "text": [
      "EvaluatorHoldout: Processed 5965 (100.0%) in 23.72 sec. Users per second: 251\n"
     ]
    },
    {
     "name": "stderr",
     "output_type": "stream",
     "text": [
      "[I 2023-07-25 07:10:21,468] Trial 27 finished with value: 0.08534168895275407 and parameters: {'cutoff': 15}. Best is trial 25 with value: 0.08543142537819869.\n"
     ]
    },
    {
     "name": "stdout",
     "output_type": "stream",
     "text": [
      "EvaluatorHoldout: Processed 5965 (100.0%) in 23.58 sec. Users per second: 253\n"
     ]
    },
    {
     "name": "stderr",
     "output_type": "stream",
     "text": [
      "[I 2023-07-25 07:10:45,605] Trial 28 finished with value: 0.07399759177211017 and parameters: {'cutoff': 177}. Best is trial 25 with value: 0.08543142537819869.\n"
     ]
    },
    {
     "name": "stdout",
     "output_type": "stream",
     "text": [
      "EvaluatorHoldout: Processed 5965 (100.0%) in 23.56 sec. Users per second: 253\n"
     ]
    },
    {
     "name": "stderr",
     "output_type": "stream",
     "text": [
      "[I 2023-07-25 07:11:09,683] Trial 29 finished with value: 0.07478167617983238 and parameters: {'cutoff': 140}. Best is trial 25 with value: 0.08543142537819869.\n"
     ]
    },
    {
     "name": "stdout",
     "output_type": "stream",
     "text": [
      "EvaluatorHoldout: Processed 5965 (100.0%) in 23.54 sec. Users per second: 253\n"
     ]
    },
    {
     "name": "stderr",
     "output_type": "stream",
     "text": [
      "[I 2023-07-25 07:11:33,743] Trial 30 finished with value: 0.0748775462685777 and parameters: {'cutoff': 144}. Best is trial 25 with value: 0.08543142537819869.\n"
     ]
    },
    {
     "name": "stdout",
     "output_type": "stream",
     "text": [
      "EvaluatorHoldout: Processed 5965 (100.0%) in 23.70 sec. Users per second: 252\n"
     ]
    },
    {
     "name": "stderr",
     "output_type": "stream",
     "text": [
      "[I 2023-07-25 07:11:57,886] Trial 31 finished with value: 0.0850677563565246 and parameters: {'cutoff': 15}. Best is trial 25 with value: 0.08543142537819869.\n"
     ]
    },
    {
     "name": "stdout",
     "output_type": "stream",
     "text": [
      "EvaluatorHoldout: Processed 5965 (100.0%) in 23.52 sec. Users per second: 254\n"
     ]
    },
    {
     "name": "stderr",
     "output_type": "stream",
     "text": [
      "[I 2023-07-25 07:12:21,903] Trial 32 finished with value: 0.0756211564815927 and parameters: {'cutoff': 112}. Best is trial 25 with value: 0.08543142537819869.\n"
     ]
    },
    {
     "name": "stdout",
     "output_type": "stream",
     "text": [
      "EvaluatorHoldout: Processed 5965 (100.0%) in 23.54 sec. Users per second: 253\n"
     ]
    },
    {
     "name": "stderr",
     "output_type": "stream",
     "text": [
      "[I 2023-07-25 07:12:45,956] Trial 33 finished with value: 0.07518146196729636 and parameters: {'cutoff': 134}. Best is trial 25 with value: 0.08543142537819869.\n"
     ]
    },
    {
     "name": "stdout",
     "output_type": "stream",
     "text": [
      "EvaluatorHoldout: Processed 5965 (100.0%) in 23.51 sec. Users per second: 254\n"
     ]
    },
    {
     "name": "stderr",
     "output_type": "stream",
     "text": [
      "[I 2023-07-25 07:13:09,971] Trial 34 finished with value: 0.07660647427453851 and parameters: {'cutoff': 90}. Best is trial 25 with value: 0.08543142537819869.\n"
     ]
    },
    {
     "name": "stdout",
     "output_type": "stream",
     "text": [
      "EvaluatorHoldout: Processed 5965 (100.0%) in 23.67 sec. Users per second: 252\n"
     ]
    },
    {
     "name": "stderr",
     "output_type": "stream",
     "text": [
      "[I 2023-07-25 07:13:34,089] Trial 35 finished with value: 0.08532405966018758 and parameters: {'cutoff': 15}. Best is trial 25 with value: 0.08543142537819869.\n"
     ]
    },
    {
     "name": "stdout",
     "output_type": "stream",
     "text": [
      "EvaluatorHoldout: Processed 5965 (100.0%) in 23.56 sec. Users per second: 253\n"
     ]
    },
    {
     "name": "stderr",
     "output_type": "stream",
     "text": [
      "[I 2023-07-25 07:13:58,167] Trial 36 finished with value: 0.07523232081320977 and parameters: {'cutoff': 133}. Best is trial 25 with value: 0.08543142537819869.\n"
     ]
    },
    {
     "name": "stdout",
     "output_type": "stream",
     "text": [
      "EvaluatorHoldout: Processed 5965 (100.0%) in 23.52 sec. Users per second: 254\n"
     ]
    },
    {
     "name": "stderr",
     "output_type": "stream",
     "text": [
      "[I 2023-07-25 07:14:22,177] Trial 37 finished with value: 0.07657216700594795 and parameters: {'cutoff': 99}. Best is trial 25 with value: 0.08543142537819869.\n"
     ]
    },
    {
     "name": "stdout",
     "output_type": "stream",
     "text": [
      "EvaluatorHoldout: Processed 5965 (100.0%) in 23.47 sec. Users per second: 254\n"
     ]
    },
    {
     "name": "stderr",
     "output_type": "stream",
     "text": [
      "[I 2023-07-25 07:14:46,123] Trial 38 finished with value: 0.07816699264226554 and parameters: {'cutoff': 69}. Best is trial 25 with value: 0.08543142537819869.\n"
     ]
    },
    {
     "name": "stdout",
     "output_type": "stream",
     "text": [
      "EvaluatorHoldout: Processed 5965 (100.0%) in 23.50 sec. Users per second: 254\n"
     ]
    },
    {
     "name": "stderr",
     "output_type": "stream",
     "text": [
      "[I 2023-07-25 07:15:10,102] Trial 39 finished with value: 0.07744138426535789 and parameters: {'cutoff': 80}. Best is trial 25 with value: 0.08543142537819869.\n"
     ]
    },
    {
     "name": "stdout",
     "output_type": "stream",
     "text": [
      "EvaluatorHoldout: Processed 5965 (100.0%) in 23.55 sec. Users per second: 253\n"
     ]
    },
    {
     "name": "stderr",
     "output_type": "stream",
     "text": [
      "[I 2023-07-25 07:15:34,158] Trial 40 finished with value: 0.07467183570829895 and parameters: {'cutoff': 149}. Best is trial 25 with value: 0.08543142537819869.\n"
     ]
    },
    {
     "name": "stdout",
     "output_type": "stream",
     "text": [
      "EvaluatorHoldout: Processed 5965 (100.0%) in 23.56 sec. Users per second: 253\n"
     ]
    },
    {
     "name": "stderr",
     "output_type": "stream",
     "text": [
      "[I 2023-07-25 07:15:58,243] Trial 41 finished with value: 0.07446140182812498 and parameters: {'cutoff': 163}. Best is trial 25 with value: 0.08543142537819869.\n"
     ]
    },
    {
     "name": "stdout",
     "output_type": "stream",
     "text": [
      "EvaluatorHoldout: Processed 5965 (100.0%) in 23.50 sec. Users per second: 254\n"
     ]
    },
    {
     "name": "stderr",
     "output_type": "stream",
     "text": [
      "[I 2023-07-25 07:16:22,253] Trial 42 finished with value: 0.0757646855333363 and parameters: {'cutoff': 111}. Best is trial 25 with value: 0.08543142537819869.\n"
     ]
    },
    {
     "name": "stdout",
     "output_type": "stream",
     "text": [
      "EvaluatorHoldout: Processed 5965 (100.0%) in 23.61 sec. Users per second: 253\n"
     ]
    },
    {
     "name": "stderr",
     "output_type": "stream",
     "text": [
      "[I 2023-07-25 07:16:46,314] Trial 43 finished with value: 0.0854126318870665 and parameters: {'cutoff': 14}. Best is trial 25 with value: 0.08543142537819869.\n"
     ]
    },
    {
     "name": "stdout",
     "output_type": "stream",
     "text": [
      "EvaluatorHoldout: Processed 5965 (100.0%) in 23.54 sec. Users per second: 253\n"
     ]
    },
    {
     "name": "stderr",
     "output_type": "stream",
     "text": [
      "[I 2023-07-25 07:17:10,364] Trial 44 finished with value: 0.07483169015021524 and parameters: {'cutoff': 143}. Best is trial 25 with value: 0.08543142537819869.\n"
     ]
    },
    {
     "name": "stdout",
     "output_type": "stream",
     "text": [
      "EvaluatorHoldout: Processed 5965 (100.0%) in 23.72 sec. Users per second: 252\n"
     ]
    },
    {
     "name": "stderr",
     "output_type": "stream",
     "text": [
      "[I 2023-07-25 07:17:34,564] Trial 45 finished with value: 0.08511260128527577 and parameters: {'cutoff': 17}. Best is trial 25 with value: 0.08543142537819869.\n"
     ]
    },
    {
     "name": "stdout",
     "output_type": "stream",
     "text": [
      "EvaluatorHoldout: Processed 5965 (100.0%) in 23.55 sec. Users per second: 253\n"
     ]
    },
    {
     "name": "stderr",
     "output_type": "stream",
     "text": [
      "[I 2023-07-25 07:17:58,623] Trial 46 finished with value: 0.07446800782341469 and parameters: {'cutoff': 154}. Best is trial 25 with value: 0.08543142537819869.\n"
     ]
    },
    {
     "name": "stdout",
     "output_type": "stream",
     "text": [
      "EvaluatorHoldout: Processed 5965 (100.0%) in 23.56 sec. Users per second: 253\n"
     ]
    },
    {
     "name": "stderr",
     "output_type": "stream",
     "text": [
      "[I 2023-07-25 07:18:22,709] Trial 47 finished with value: 0.07433696563285873 and parameters: {'cutoff': 176}. Best is trial 25 with value: 0.08543142537819869.\n"
     ]
    },
    {
     "name": "stdout",
     "output_type": "stream",
     "text": [
      "EvaluatorHoldout: Processed 5965 (100.0%) in 23.84 sec. Users per second: 250\n"
     ]
    },
    {
     "name": "stderr",
     "output_type": "stream",
     "text": [
      "[I 2023-07-25 07:18:47,050] Trial 48 finished with value: 0.07536114770020937 and parameters: {'cutoff': 131}. Best is trial 25 with value: 0.08543142537819869.\n"
     ]
    },
    {
     "name": "stdout",
     "output_type": "stream",
     "text": [
      "EvaluatorHoldout: Processed 5965 (100.0%) in 23.51 sec. Users per second: 254\n"
     ]
    },
    {
     "name": "stderr",
     "output_type": "stream",
     "text": [
      "[I 2023-07-25 07:19:11,065] Trial 49 finished with value: 0.07711843558323046 and parameters: {'cutoff': 86}. Best is trial 25 with value: 0.08543142537819869.\n"
     ]
    },
    {
     "name": "stdout",
     "output_type": "stream",
     "text": [
      "EvaluatorHoldout: Processed 5965 (100.0%) in 23.76 sec. Users per second: 251\n"
     ]
    },
    {
     "name": "stderr",
     "output_type": "stream",
     "text": [
      "[I 2023-07-25 07:19:34,844] A new study created in memory with name: no-name-c394d90b-46aa-4cdf-8c1c-733f3f0294a3\n"
     ]
    },
    {
     "name": "stdout",
     "output_type": "stream",
     "text": [
      "Recommender_Base_Class: URM Detected 204 ( 5.3%) items with no interactions.\n",
      "SLIMElasticNetRecommender_DiffusionAutoencoderRecommender_TwoLevelRec\n",
      "EvaluatorHoldout: Processed 5965 (100.0%) in 3.28 sec. Users per second: 1820\n"
     ]
    },
    {
     "name": "stderr",
     "output_type": "stream",
     "text": [
      "[I 2023-07-25 07:19:38,693] Trial 0 finished with value: 0.0985590747615059 and parameters: {'cutoff': 16}. Best is trial 0 with value: 0.0985590747615059.\n"
     ]
    },
    {
     "name": "stdout",
     "output_type": "stream",
     "text": [
      "EvaluatorHoldout: Processed 5965 (100.0%) in 3.25 sec. Users per second: 1837\n"
     ]
    },
    {
     "name": "stderr",
     "output_type": "stream",
     "text": [
      "[I 2023-07-25 07:19:42,474] Trial 1 finished with value: 0.0989000119746139 and parameters: {'cutoff': 14}. Best is trial 1 with value: 0.0989000119746139.\n"
     ]
    },
    {
     "name": "stdout",
     "output_type": "stream",
     "text": [
      "EvaluatorHoldout: Processed 5965 (100.0%) in 3.19 sec. Users per second: 1872\n"
     ]
    },
    {
     "name": "stderr",
     "output_type": "stream",
     "text": [
      "[I 2023-07-25 07:19:46,279] Trial 2 finished with value: 0.09498799877592827 and parameters: {'cutoff': 183}. Best is trial 1 with value: 0.0989000119746139.\n"
     ]
    },
    {
     "name": "stdout",
     "output_type": "stream",
     "text": [
      "EvaluatorHoldout: Processed 5965 (100.0%) in 3.15 sec. Users per second: 1896\n"
     ]
    },
    {
     "name": "stderr",
     "output_type": "stream",
     "text": [
      "[I 2023-07-25 07:19:50,025] Trial 3 finished with value: 0.0950541385595872 and parameters: {'cutoff': 128}. Best is trial 1 with value: 0.0989000119746139.\n"
     ]
    },
    {
     "name": "stdout",
     "output_type": "stream",
     "text": [
      "EvaluatorHoldout: Processed 5965 (100.0%) in 3.11 sec. Users per second: 1921\n"
     ]
    },
    {
     "name": "stderr",
     "output_type": "stream",
     "text": [
      "[I 2023-07-25 07:19:53,711] Trial 4 finished with value: 0.09558285767506236 and parameters: {'cutoff': 82}. Best is trial 1 with value: 0.0989000119746139.\n"
     ]
    },
    {
     "name": "stdout",
     "output_type": "stream",
     "text": [
      "EvaluatorHoldout: Processed 5965 (100.0%) in 3.13 sec. Users per second: 1903\n"
     ]
    },
    {
     "name": "stderr",
     "output_type": "stream",
     "text": [
      "[I 2023-07-25 07:19:57,430] Trial 5 finished with value: 0.09536554504450559 and parameters: {'cutoff': 125}. Best is trial 1 with value: 0.0989000119746139.\n"
     ]
    },
    {
     "name": "stdout",
     "output_type": "stream",
     "text": [
      "EvaluatorHoldout: Processed 5965 (100.0%) in 3.45 sec. Users per second: 1731\n"
     ]
    },
    {
     "name": "stderr",
     "output_type": "stream",
     "text": [
      "[I 2023-07-25 07:20:01,425] Trial 6 finished with value: 0.09849554278263435 and parameters: {'cutoff': 24}. Best is trial 1 with value: 0.0989000119746139.\n"
     ]
    },
    {
     "name": "stdout",
     "output_type": "stream",
     "text": [
      "EvaluatorHoldout: Processed 5965 (100.0%) in 3.11 sec. Users per second: 1920\n"
     ]
    },
    {
     "name": "stderr",
     "output_type": "stream",
     "text": [
      "[I 2023-07-25 07:20:05,117] Trial 7 finished with value: 0.09554384039170258 and parameters: {'cutoff': 85}. Best is trial 1 with value: 0.0989000119746139.\n"
     ]
    },
    {
     "name": "stdout",
     "output_type": "stream",
     "text": [
      "EvaluatorHoldout: Processed 5965 (100.0%) in 3.15 sec. Users per second: 1896\n"
     ]
    },
    {
     "name": "stderr",
     "output_type": "stream",
     "text": [
      "[I 2023-07-25 07:20:08,846] Trial 8 finished with value: 0.09542572413150799 and parameters: {'cutoff': 122}. Best is trial 1 with value: 0.0989000119746139.\n"
     ]
    },
    {
     "name": "stdout",
     "output_type": "stream",
     "text": [
      "EvaluatorHoldout: Processed 5965 (100.0%) in 3.13 sec. Users per second: 1903\n"
     ]
    },
    {
     "name": "stderr",
     "output_type": "stream",
     "text": [
      "[I 2023-07-25 07:20:12,567] Trial 9 finished with value: 0.09561803642943666 and parameters: {'cutoff': 107}. Best is trial 1 with value: 0.0989000119746139.\n"
     ]
    },
    {
     "name": "stdout",
     "output_type": "stream",
     "text": [
      "EvaluatorHoldout: Processed 5965 (100.0%) in 3.14 sec. Users per second: 1901\n"
     ]
    },
    {
     "name": "stderr",
     "output_type": "stream",
     "text": [
      "[I 2023-07-25 07:20:16,294] Trial 10 finished with value: 0.09487139930015023 and parameters: {'cutoff': 123}. Best is trial 1 with value: 0.0989000119746139.\n"
     ]
    },
    {
     "name": "stdout",
     "output_type": "stream",
     "text": [
      "EvaluatorHoldout: Processed 5965 (100.0%) in 3.19 sec. Users per second: 1872\n"
     ]
    },
    {
     "name": "stderr",
     "output_type": "stream",
     "text": [
      "[I 2023-07-25 07:20:20,101] Trial 11 finished with value: 0.09525272422464395 and parameters: {'cutoff': 193}. Best is trial 1 with value: 0.0989000119746139.\n"
     ]
    },
    {
     "name": "stdout",
     "output_type": "stream",
     "text": [
      "EvaluatorHoldout: Processed 5965 (100.0%) in 3.09 sec. Users per second: 1933\n"
     ]
    },
    {
     "name": "stderr",
     "output_type": "stream",
     "text": [
      "[I 2023-07-25 07:20:23,750] Trial 12 finished with value: 0.09626033475698192 and parameters: {'cutoff': 46}. Best is trial 1 with value: 0.0989000119746139.\n"
     ]
    },
    {
     "name": "stdout",
     "output_type": "stream",
     "text": [
      "EvaluatorHoldout: Processed 5965 (100.0%) in 3.12 sec. Users per second: 1912\n"
     ]
    },
    {
     "name": "stderr",
     "output_type": "stream",
     "text": [
      "[I 2023-07-25 07:20:27,442] Trial 13 finished with value: 0.09532446546654452 and parameters: {'cutoff': 102}. Best is trial 1 with value: 0.0989000119746139.\n"
     ]
    },
    {
     "name": "stdout",
     "output_type": "stream",
     "text": [
      "EvaluatorHoldout: Processed 5965 (100.0%) in 3.19 sec. Users per second: 1869\n"
     ]
    },
    {
     "name": "stderr",
     "output_type": "stream",
     "text": [
      "[I 2023-07-25 07:20:31,254] Trial 14 finished with value: 0.09514375523889358 and parameters: {'cutoff': 191}. Best is trial 1 with value: 0.0989000119746139.\n"
     ]
    },
    {
     "name": "stdout",
     "output_type": "stream",
     "text": [
      "EvaluatorHoldout: Processed 5965 (100.0%) in 3.27 sec. Users per second: 1824\n"
     ]
    },
    {
     "name": "stderr",
     "output_type": "stream",
     "text": [
      "[I 2023-07-25 07:20:35,068] Trial 15 finished with value: 0.09859430008382253 and parameters: {'cutoff': 16}. Best is trial 1 with value: 0.0989000119746139.\n"
     ]
    },
    {
     "name": "stdout",
     "output_type": "stream",
     "text": [
      "EvaluatorHoldout: Processed 5965 (100.0%) in 3.06 sec. Users per second: 1949\n"
     ]
    },
    {
     "name": "stderr",
     "output_type": "stream",
     "text": [
      "[I 2023-07-25 07:20:38,681] Trial 16 finished with value: 0.09684387764605679 and parameters: {'cutoff': 45}. Best is trial 1 with value: 0.0989000119746139.\n"
     ]
    },
    {
     "name": "stdout",
     "output_type": "stream",
     "text": [
      "EvaluatorHoldout: Processed 5965 (100.0%) in 3.13 sec. Users per second: 1906\n"
     ]
    },
    {
     "name": "stderr",
     "output_type": "stream",
     "text": [
      "[I 2023-07-25 07:20:42,400] Trial 17 finished with value: 0.09521006798919644 and parameters: {'cutoff': 135}. Best is trial 1 with value: 0.0989000119746139.\n"
     ]
    },
    {
     "name": "stdout",
     "output_type": "stream",
     "text": [
      "EvaluatorHoldout: Processed 5965 (100.0%) in 3.14 sec. Users per second: 1902\n"
     ]
    },
    {
     "name": "stderr",
     "output_type": "stream",
     "text": [
      "[I 2023-07-25 07:20:46,142] Trial 18 finished with value: 0.09538383959339536 and parameters: {'cutoff': 138}. Best is trial 1 with value: 0.0989000119746139.\n"
     ]
    },
    {
     "name": "stdout",
     "output_type": "stream",
     "text": [
      "EvaluatorHoldout: Processed 5965 (100.0%) in 3.15 sec. Users per second: 1892\n"
     ]
    },
    {
     "name": "stderr",
     "output_type": "stream",
     "text": [
      "[I 2023-07-25 07:20:49,896] Trial 19 finished with value: 0.0951710374007105 and parameters: {'cutoff': 147}. Best is trial 1 with value: 0.0989000119746139.\n"
     ]
    },
    {
     "name": "stdout",
     "output_type": "stream",
     "text": [
      "EvaluatorHoldout: Processed 5965 (100.0%) in 3.08 sec. Users per second: 1936\n"
     ]
    },
    {
     "name": "stderr",
     "output_type": "stream",
     "text": [
      "[I 2023-07-25 07:20:53,539] Trial 20 finished with value: 0.09653957609867074 and parameters: {'cutoff': 50}. Best is trial 1 with value: 0.0989000119746139.\n"
     ]
    },
    {
     "name": "stdout",
     "output_type": "stream",
     "text": [
      "EvaluatorHoldout: Processed 5965 (100.0%) in 3.27 sec. Users per second: 1826\n"
     ]
    },
    {
     "name": "stderr",
     "output_type": "stream",
     "text": [
      "[I 2023-07-25 07:20:57,344] Trial 21 finished with value: 0.09873617264732115 and parameters: {'cutoff': 16}. Best is trial 1 with value: 0.0989000119746139.\n"
     ]
    },
    {
     "name": "stdout",
     "output_type": "stream",
     "text": [
      "EvaluatorHoldout: Processed 5965 (100.0%) in 3.23 sec. Users per second: 1844\n"
     ]
    },
    {
     "name": "stderr",
     "output_type": "stream",
     "text": [
      "[I 2023-07-25 07:21:01,116] Trial 22 finished with value: 0.09856243430593829 and parameters: {'cutoff': 14}. Best is trial 1 with value: 0.0989000119746139.\n"
     ]
    },
    {
     "name": "stdout",
     "output_type": "stream",
     "text": [
      "EvaluatorHoldout: Processed 5965 (100.0%) in 3.26 sec. Users per second: 1830\n"
     ]
    },
    {
     "name": "stderr",
     "output_type": "stream",
     "text": [
      "[I 2023-07-25 07:21:04,925] Trial 23 finished with value: 0.09874217325935698 and parameters: {'cutoff': 16}. Best is trial 1 with value: 0.0989000119746139.\n"
     ]
    },
    {
     "name": "stdout",
     "output_type": "stream",
     "text": [
      "EvaluatorHoldout: Processed 5965 (100.0%) in 3.25 sec. Users per second: 1835\n"
     ]
    },
    {
     "name": "stderr",
     "output_type": "stream",
     "text": [
      "[I 2023-07-25 07:21:08,711] Trial 24 finished with value: 0.09859012892667585 and parameters: {'cutoff': 15}. Best is trial 1 with value: 0.0989000119746139.\n"
     ]
    },
    {
     "name": "stdout",
     "output_type": "stream",
     "text": [
      "EvaluatorHoldout: Processed 5965 (100.0%) in 3.13 sec. Users per second: 1908\n"
     ]
    },
    {
     "name": "stderr",
     "output_type": "stream",
     "text": [
      "[I 2023-07-25 07:21:12,421] Trial 25 finished with value: 0.09532314160646092 and parameters: {'cutoff': 115}. Best is trial 1 with value: 0.0989000119746139.\n"
     ]
    },
    {
     "name": "stdout",
     "output_type": "stream",
     "text": [
      "EvaluatorHoldout: Processed 5965 (100.0%) in 3.10 sec. Users per second: 1923\n"
     ]
    },
    {
     "name": "stderr",
     "output_type": "stream",
     "text": [
      "[I 2023-07-25 07:21:16,093] Trial 26 finished with value: 0.09573122314027604 and parameters: {'cutoff': 86}. Best is trial 1 with value: 0.0989000119746139.\n"
     ]
    },
    {
     "name": "stdout",
     "output_type": "stream",
     "text": [
      "EvaluatorHoldout: Processed 5965 (100.0%) in 3.11 sec. Users per second: 1916\n"
     ]
    },
    {
     "name": "stderr",
     "output_type": "stream",
     "text": [
      "[I 2023-07-25 07:21:19,790] Trial 27 finished with value: 0.09555525619020992 and parameters: {'cutoff': 101}. Best is trial 1 with value: 0.0989000119746139.\n"
     ]
    },
    {
     "name": "stdout",
     "output_type": "stream",
     "text": [
      "EvaluatorHoldout: Processed 5965 (100.0%) in 3.26 sec. Users per second: 1831\n"
     ]
    },
    {
     "name": "stderr",
     "output_type": "stream",
     "text": [
      "[I 2023-07-25 07:21:23,587] Trial 28 finished with value: 0.0986697867188231 and parameters: {'cutoff': 16}. Best is trial 1 with value: 0.0989000119746139.\n"
     ]
    },
    {
     "name": "stdout",
     "output_type": "stream",
     "text": [
      "EvaluatorHoldout: Processed 5965 (100.0%) in 3.09 sec. Users per second: 1931\n"
     ]
    },
    {
     "name": "stderr",
     "output_type": "stream",
     "text": [
      "[I 2023-07-25 07:21:27,234] Trial 29 finished with value: 0.09553030907808774 and parameters: {'cutoff': 70}. Best is trial 1 with value: 0.0989000119746139.\n"
     ]
    },
    {
     "name": "stdout",
     "output_type": "stream",
     "text": [
      "EvaluatorHoldout: Processed 5965 (100.0%) in 3.35 sec. Users per second: 1781\n"
     ]
    },
    {
     "name": "stderr",
     "output_type": "stream",
     "text": [
      "[I 2023-07-25 07:21:31,198] Trial 30 finished with value: 0.09516571535012433 and parameters: {'cutoff': 189}. Best is trial 1 with value: 0.0989000119746139.\n"
     ]
    },
    {
     "name": "stdout",
     "output_type": "stream",
     "text": [
      "EvaluatorHoldout: Processed 5965 (100.0%) in 3.12 sec. Users per second: 1914\n"
     ]
    },
    {
     "name": "stderr",
     "output_type": "stream",
     "text": [
      "[I 2023-07-25 07:21:34,904] Trial 31 finished with value: 0.09574861959312896 and parameters: {'cutoff': 104}. Best is trial 1 with value: 0.0989000119746139.\n"
     ]
    },
    {
     "name": "stdout",
     "output_type": "stream",
     "text": [
      "EvaluatorHoldout: Processed 5965 (100.0%) in 3.26 sec. Users per second: 1828\n"
     ]
    },
    {
     "name": "stderr",
     "output_type": "stream",
     "text": [
      "[I 2023-07-25 07:21:38,708] Trial 32 finished with value: 0.09866246224670386 and parameters: {'cutoff': 16}. Best is trial 1 with value: 0.0989000119746139.\n"
     ]
    },
    {
     "name": "stdout",
     "output_type": "stream",
     "text": [
      "EvaluatorHoldout: Processed 5965 (100.0%) in 3.09 sec. Users per second: 1932\n"
     ]
    },
    {
     "name": "stderr",
     "output_type": "stream",
     "text": [
      "[I 2023-07-25 07:21:42,352] Trial 33 finished with value: 0.09630062933248203 and parameters: {'cutoff': 59}. Best is trial 1 with value: 0.0989000119746139.\n"
     ]
    },
    {
     "name": "stdout",
     "output_type": "stream",
     "text": [
      "EvaluatorHoldout: Processed 5965 (100.0%) in 3.18 sec. Users per second: 1873\n"
     ]
    },
    {
     "name": "stderr",
     "output_type": "stream",
     "text": [
      "[I 2023-07-25 07:21:46,161] Trial 34 finished with value: 0.09483787703402123 and parameters: {'cutoff': 197}. Best is trial 1 with value: 0.0989000119746139.\n"
     ]
    },
    {
     "name": "stdout",
     "output_type": "stream",
     "text": [
      "EvaluatorHoldout: Processed 5965 (100.0%) in 3.18 sec. Users per second: 1877\n"
     ]
    },
    {
     "name": "stderr",
     "output_type": "stream",
     "text": [
      "[I 2023-07-25 07:21:49,959] Trial 35 finished with value: 0.09543977434505511 and parameters: {'cutoff': 178}. Best is trial 1 with value: 0.0989000119746139.\n"
     ]
    },
    {
     "name": "stdout",
     "output_type": "stream",
     "text": [
      "EvaluatorHoldout: Processed 5965 (100.0%) in 3.16 sec. Users per second: 1887\n"
     ]
    },
    {
     "name": "stderr",
     "output_type": "stream",
     "text": [
      "[I 2023-07-25 07:21:53,744] Trial 36 finished with value: 0.09520557085645105 and parameters: {'cutoff': 159}. Best is trial 1 with value: 0.0989000119746139.\n"
     ]
    },
    {
     "name": "stdout",
     "output_type": "stream",
     "text": [
      "EvaluatorHoldout: Processed 5965 (100.0%) in 3.09 sec. Users per second: 1931\n"
     ]
    },
    {
     "name": "stderr",
     "output_type": "stream",
     "text": [
      "[I 2023-07-25 07:21:57,404] Trial 37 finished with value: 0.09591500685214029 and parameters: {'cutoff': 62}. Best is trial 1 with value: 0.0989000119746139.\n"
     ]
    },
    {
     "name": "stdout",
     "output_type": "stream",
     "text": [
      "EvaluatorHoldout: Processed 5965 (100.0%) in 3.28 sec. Users per second: 1817\n"
     ]
    },
    {
     "name": "stderr",
     "output_type": "stream",
     "text": [
      "[I 2023-07-25 07:22:01,231] Trial 38 finished with value: 0.0989071634800889 and parameters: {'cutoff': 16}. Best is trial 38 with value: 0.0989071634800889.\n"
     ]
    },
    {
     "name": "stdout",
     "output_type": "stream",
     "text": [
      "EvaluatorHoldout: Processed 5965 (100.0%) in 3.54 sec. Users per second: 1684\n"
     ]
    },
    {
     "name": "stderr",
     "output_type": "stream",
     "text": [
      "[I 2023-07-25 07:22:05,339] Trial 39 finished with value: 0.0979493806463633 and parameters: {'cutoff': 29}. Best is trial 38 with value: 0.0989071634800889.\n"
     ]
    },
    {
     "name": "stdout",
     "output_type": "stream",
     "text": [
      "EvaluatorHoldout: Processed 5965 (100.0%) in 3.08 sec. Users per second: 1939\n"
     ]
    },
    {
     "name": "stderr",
     "output_type": "stream",
     "text": [
      "[I 2023-07-25 07:22:08,973] Trial 40 finished with value: 0.09587673465586286 and parameters: {'cutoff': 60}. Best is trial 38 with value: 0.0989071634800889.\n"
     ]
    },
    {
     "name": "stdout",
     "output_type": "stream",
     "text": [
      "EvaluatorHoldout: Processed 5965 (100.0%) in 3.27 sec. Users per second: 1822\n"
     ]
    },
    {
     "name": "stderr",
     "output_type": "stream",
     "text": [
      "[I 2023-07-25 07:22:12,794] Trial 41 finished with value: 0.09888686650966651 and parameters: {'cutoff': 16}. Best is trial 38 with value: 0.0989071634800889.\n"
     ]
    },
    {
     "name": "stdout",
     "output_type": "stream",
     "text": [
      "EvaluatorHoldout: Processed 5965 (100.0%) in 3.06 sec. Users per second: 1948\n"
     ]
    },
    {
     "name": "stderr",
     "output_type": "stream",
     "text": [
      "[I 2023-07-25 07:22:16,400] Trial 42 finished with value: 0.09748691440812161 and parameters: {'cutoff': 34}. Best is trial 38 with value: 0.0989071634800889.\n"
     ]
    },
    {
     "name": "stdout",
     "output_type": "stream",
     "text": [
      "EvaluatorHoldout: Processed 5965 (100.0%) in 3.37 sec. Users per second: 1770\n"
     ]
    },
    {
     "name": "stderr",
     "output_type": "stream",
     "text": [
      "[I 2023-07-25 07:22:20,309] Trial 43 finished with value: 0.09862054444577527 and parameters: {'cutoff': 21}. Best is trial 38 with value: 0.0989071634800889.\n"
     ]
    },
    {
     "name": "stdout",
     "output_type": "stream",
     "text": [
      "EvaluatorHoldout: Processed 5965 (100.0%) in 3.10 sec. Users per second: 1926\n"
     ]
    },
    {
     "name": "stderr",
     "output_type": "stream",
     "text": [
      "[I 2023-07-25 07:22:23,973] Trial 44 finished with value: 0.09561061882143203 and parameters: {'cutoff': 74}. Best is trial 38 with value: 0.0989071634800889.\n"
     ]
    },
    {
     "name": "stdout",
     "output_type": "stream",
     "text": [
      "EvaluatorHoldout: Processed 5965 (100.0%) in 3.27 sec. Users per second: 1825\n"
     ]
    },
    {
     "name": "stderr",
     "output_type": "stream",
     "text": [
      "[I 2023-07-25 07:22:27,781] Trial 45 finished with value: 0.09862812836786024 and parameters: {'cutoff': 16}. Best is trial 38 with value: 0.0989071634800889.\n"
     ]
    },
    {
     "name": "stdout",
     "output_type": "stream",
     "text": [
      "EvaluatorHoldout: Processed 5965 (100.0%) in 3.09 sec. Users per second: 1928\n"
     ]
    },
    {
     "name": "stderr",
     "output_type": "stream",
     "text": [
      "[I 2023-07-25 07:22:31,440] Trial 46 finished with value: 0.09585055681954235 and parameters: {'cutoff': 71}. Best is trial 38 with value: 0.0989071634800889.\n"
     ]
    },
    {
     "name": "stdout",
     "output_type": "stream",
     "text": [
      "EvaluatorHoldout: Processed 5965 (100.0%) in 3.19 sec. Users per second: 1868\n"
     ]
    },
    {
     "name": "stderr",
     "output_type": "stream",
     "text": [
      "[I 2023-07-25 07:22:35,224] Trial 47 finished with value: 0.09523976503146657 and parameters: {'cutoff': 120}. Best is trial 38 with value: 0.0989071634800889.\n"
     ]
    },
    {
     "name": "stdout",
     "output_type": "stream",
     "text": [
      "EvaluatorHoldout: Processed 5965 (100.0%) in 3.44 sec. Users per second: 1734\n"
     ]
    },
    {
     "name": "stderr",
     "output_type": "stream",
     "text": [
      "[I 2023-07-25 07:22:39,217] Trial 48 finished with value: 0.09838771138519677 and parameters: {'cutoff': 23}. Best is trial 38 with value: 0.0989071634800889.\n"
     ]
    },
    {
     "name": "stdout",
     "output_type": "stream",
     "text": [
      "EvaluatorHoldout: Processed 5965 (100.0%) in 3.20 sec. Users per second: 1863\n"
     ]
    },
    {
     "name": "stderr",
     "output_type": "stream",
     "text": [
      "[I 2023-07-25 07:22:43,018] Trial 49 finished with value: 0.09508293750582089 and parameters: {'cutoff': 152}. Best is trial 38 with value: 0.0989071634800889.\n"
     ]
    },
    {
     "name": "stdout",
     "output_type": "stream",
     "text": [
      "EvaluatorHoldout: Processed 5965 (100.0%) in 3.16 sec. Users per second: 1886\n"
     ]
    },
    {
     "name": "stderr",
     "output_type": "stream",
     "text": [
      "[I 2023-07-25 07:22:46,203] A new study created in memory with name: no-name-f8002d85-6401-4196-9985-2676ca0e1833\n"
     ]
    },
    {
     "name": "stdout",
     "output_type": "stream",
     "text": [
      "Recommender_Base_Class: URM Detected 204 ( 5.3%) items with no interactions.\n",
      "SLIMElasticNetRecommender_DiffusionAutoencoderRecommender_TwoLevelRec\n",
      "EvaluatorHoldout: Processed 5965 (100.0%) in 44.75 sec. Users per second: 133\n"
     ]
    },
    {
     "name": "stderr",
     "output_type": "stream",
     "text": [
      "[I 2023-07-25 07:23:31,528] Trial 0 finished with value: 0.04806676512460254 and parameters: {'cutoff': 121}. Best is trial 0 with value: 0.04806676512460254.\n"
     ]
    },
    {
     "name": "stdout",
     "output_type": "stream",
     "text": [
      "EvaluatorHoldout: Processed 5965 (100.0%) in 45.10 sec. Users per second: 132\n"
     ]
    },
    {
     "name": "stderr",
     "output_type": "stream",
     "text": [
      "[I 2023-07-25 07:24:17,175] Trial 1 finished with value: 0.07308033635359709 and parameters: {'cutoff': 25}. Best is trial 1 with value: 0.07308033635359709.\n"
     ]
    },
    {
     "name": "stdout",
     "output_type": "stream",
     "text": [
      "EvaluatorHoldout: Processed 5965 (100.0%) in 44.97 sec. Users per second: 133\n"
     ]
    },
    {
     "name": "stderr",
     "output_type": "stream",
     "text": [
      "[I 2023-07-25 07:25:02,804] Trial 2 finished with value: 0.07913583868864703 and parameters: {'cutoff': 18}. Best is trial 2 with value: 0.07913583868864703.\n"
     ]
    },
    {
     "name": "stdout",
     "output_type": "stream",
     "text": [
      "EvaluatorHoldout: Processed 5965 (100.0%) in 44.77 sec. Users per second: 133\n"
     ]
    },
    {
     "name": "stderr",
     "output_type": "stream",
     "text": [
      "[I 2023-07-25 07:25:48,191] Trial 3 finished with value: 0.04494842932982084 and parameters: {'cutoff': 171}. Best is trial 2 with value: 0.07913583868864703.\n"
     ]
    },
    {
     "name": "stdout",
     "output_type": "stream",
     "text": [
      "EvaluatorHoldout: Processed 5965 (100.0%) in 44.73 sec. Users per second: 133\n"
     ]
    },
    {
     "name": "stderr",
     "output_type": "stream",
     "text": [
      "[I 2023-07-25 07:26:33,497] Trial 4 finished with value: 0.05881843824425568 and parameters: {'cutoff': 57}. Best is trial 2 with value: 0.07913583868864703.\n"
     ]
    },
    {
     "name": "stdout",
     "output_type": "stream",
     "text": [
      "EvaluatorHoldout: Processed 5965 (100.0%) in 44.82 sec. Users per second: 133\n"
     ]
    },
    {
     "name": "stderr",
     "output_type": "stream",
     "text": [
      "[I 2023-07-25 07:27:18,948] Trial 5 finished with value: 0.04581827193017472 and parameters: {'cutoff': 153}. Best is trial 2 with value: 0.07913583868864703.\n"
     ]
    },
    {
     "name": "stdout",
     "output_type": "stream",
     "text": [
      "EvaluatorHoldout: Processed 5965 (100.0%) in 44.78 sec. Users per second: 133\n"
     ]
    },
    {
     "name": "stderr",
     "output_type": "stream",
     "text": [
      "[I 2023-07-25 07:28:04,331] Trial 6 finished with value: 0.04987183171676051 and parameters: {'cutoff': 105}. Best is trial 2 with value: 0.07913583868864703.\n"
     ]
    },
    {
     "name": "stdout",
     "output_type": "stream",
     "text": [
      "EvaluatorHoldout: Processed 5965 (100.0%) in 44.81 sec. Users per second: 133\n"
     ]
    },
    {
     "name": "stderr",
     "output_type": "stream",
     "text": [
      "[I 2023-07-25 07:28:49,776] Trial 7 finished with value: 0.043669627057305226 and parameters: {'cutoff': 197}. Best is trial 2 with value: 0.07913583868864703.\n"
     ]
    },
    {
     "name": "stdout",
     "output_type": "stream",
     "text": [
      "EvaluatorHoldout: Processed 5965 (100.0%) in 44.70 sec. Users per second: 133\n"
     ]
    },
    {
     "name": "stderr",
     "output_type": "stream",
     "text": [
      "[I 2023-07-25 07:29:35,050] Trial 8 finished with value: 0.06339642624303161 and parameters: {'cutoff': 44}. Best is trial 2 with value: 0.07913583868864703.\n"
     ]
    },
    {
     "name": "stdout",
     "output_type": "stream",
     "text": [
      "EvaluatorHoldout: Processed 5965 (100.0%) in 44.74 sec. Users per second: 133\n"
     ]
    },
    {
     "name": "stderr",
     "output_type": "stream",
     "text": [
      "[I 2023-07-25 07:30:20,383] Trial 9 finished with value: 0.048017083782381384 and parameters: {'cutoff': 116}. Best is trial 2 with value: 0.07913583868864703.\n"
     ]
    },
    {
     "name": "stdout",
     "output_type": "stream",
     "text": [
      "EvaluatorHoldout: Processed 5965 (100.0%) in 44.67 sec. Users per second: 134\n"
     ]
    },
    {
     "name": "stderr",
     "output_type": "stream",
     "text": [
      "[I 2023-07-25 07:31:05,628] Trial 10 finished with value: 0.05773824159448638 and parameters: {'cutoff': 59}. Best is trial 2 with value: 0.07913583868864703.\n"
     ]
    },
    {
     "name": "stdout",
     "output_type": "stream",
     "text": [
      "EvaluatorHoldout: Processed 5965 (100.0%) in 45.16 sec. Users per second: 132\n"
     ]
    },
    {
     "name": "stderr",
     "output_type": "stream",
     "text": [
      "[I 2023-07-25 07:31:51,341] Trial 11 finished with value: 0.07030333027315445 and parameters: {'cutoff': 30}. Best is trial 2 with value: 0.07913583868864703.\n"
     ]
    },
    {
     "name": "stdout",
     "output_type": "stream",
     "text": [
      "EvaluatorHoldout: Processed 5965 (100.0%) in 44.68 sec. Users per second: 134\n"
     ]
    },
    {
     "name": "stderr",
     "output_type": "stream",
     "text": [
      "[I 2023-07-25 07:32:36,621] Trial 12 finished with value: 0.046348946899240365 and parameters: {'cutoff': 137}. Best is trial 2 with value: 0.07913583868864703.\n"
     ]
    },
    {
     "name": "stdout",
     "output_type": "stream",
     "text": [
      "EvaluatorHoldout: Processed 5965 (100.0%) in 44.86 sec. Users per second: 133\n"
     ]
    },
    {
     "name": "stderr",
     "output_type": "stream",
     "text": [
      "[I 2023-07-25 07:33:22,459] Trial 13 finished with value: 0.04392092098085394 and parameters: {'cutoff': 188}. Best is trial 2 with value: 0.07913583868864703.\n"
     ]
    },
    {
     "name": "stdout",
     "output_type": "stream",
     "text": [
      "EvaluatorHoldout: Processed 5965 (100.0%) in 45.06 sec. Users per second: 132\n"
     ]
    },
    {
     "name": "stderr",
     "output_type": "stream",
     "text": [
      "[I 2023-07-25 07:34:08,119] Trial 14 finished with value: 0.07217498902327067 and parameters: {'cutoff': 25}. Best is trial 2 with value: 0.07913583868864703.\n"
     ]
    },
    {
     "name": "stdout",
     "output_type": "stream",
     "text": [
      "EvaluatorHoldout: Processed 5965 (100.0%) in 45.00 sec. Users per second: 133\n"
     ]
    },
    {
     "name": "stderr",
     "output_type": "stream",
     "text": [
      "[I 2023-07-25 07:34:53,674] Trial 15 finished with value: 0.07618047738793778 and parameters: {'cutoff': 21}. Best is trial 2 with value: 0.07913583868864703.\n"
     ]
    },
    {
     "name": "stdout",
     "output_type": "stream",
     "text": [
      "EvaluatorHoldout: Processed 5965 (100.0%) in 44.67 sec. Users per second: 134\n"
     ]
    },
    {
     "name": "stderr",
     "output_type": "stream",
     "text": [
      "[I 2023-07-25 07:35:38,934] Trial 16 finished with value: 0.05484338535637798 and parameters: {'cutoff': 72}. Best is trial 2 with value: 0.07913583868864703.\n"
     ]
    },
    {
     "name": "stdout",
     "output_type": "stream",
     "text": [
      "EvaluatorHoldout: Processed 5965 (100.0%) in 44.74 sec. Users per second: 133\n"
     ]
    },
    {
     "name": "stderr",
     "output_type": "stream",
     "text": [
      "[I 2023-07-25 07:36:24,304] Trial 17 finished with value: 0.0442523982490454 and parameters: {'cutoff': 177}. Best is trial 2 with value: 0.07913583868864703.\n"
     ]
    },
    {
     "name": "stdout",
     "output_type": "stream",
     "text": [
      "EvaluatorHoldout: Processed 5965 (100.0%) in 44.89 sec. Users per second: 133\n"
     ]
    },
    {
     "name": "stderr",
     "output_type": "stream",
     "text": [
      "[I 2023-07-25 07:37:09,750] Trial 18 finished with value: 0.07983010018760257 and parameters: {'cutoff': 18}. Best is trial 18 with value: 0.07983010018760257.\n"
     ]
    },
    {
     "name": "stdout",
     "output_type": "stream",
     "text": [
      "EvaluatorHoldout: Processed 5965 (100.0%) in 45.21 sec. Users per second: 132\n"
     ]
    },
    {
     "name": "stderr",
     "output_type": "stream",
     "text": [
      "[I 2023-07-25 07:37:55,503] Trial 19 finished with value: 0.06956285341742204 and parameters: {'cutoff': 32}. Best is trial 18 with value: 0.07983010018760257.\n"
     ]
    },
    {
     "name": "stdout",
     "output_type": "stream",
     "text": [
      "EvaluatorHoldout: Processed 5965 (100.0%) in 44.79 sec. Users per second: 133\n"
     ]
    },
    {
     "name": "stderr",
     "output_type": "stream",
     "text": [
      "[I 2023-07-25 07:38:40,893] Trial 20 finished with value: 0.047323786905094666 and parameters: {'cutoff': 127}. Best is trial 18 with value: 0.07983010018760257.\n"
     ]
    },
    {
     "name": "stdout",
     "output_type": "stream",
     "text": [
      "EvaluatorHoldout: Processed 5965 (100.0%) in 44.67 sec. Users per second: 134\n"
     ]
    },
    {
     "name": "stderr",
     "output_type": "stream",
     "text": [
      "[I 2023-07-25 07:39:26,137] Trial 21 finished with value: 0.061765131255072755 and parameters: {'cutoff': 47}. Best is trial 18 with value: 0.07983010018760257.\n"
     ]
    },
    {
     "name": "stdout",
     "output_type": "stream",
     "text": [
      "EvaluatorHoldout: Processed 5965 (100.0%) in 44.86 sec. Users per second: 133\n"
     ]
    },
    {
     "name": "stderr",
     "output_type": "stream",
     "text": [
      "[I 2023-07-25 07:40:11,533] Trial 22 finished with value: 0.08503260421240318 and parameters: {'cutoff': 13}. Best is trial 22 with value: 0.08503260421240318.\n"
     ]
    },
    {
     "name": "stdout",
     "output_type": "stream",
     "text": [
      "EvaluatorHoldout: Processed 5965 (100.0%) in 44.70 sec. Users per second: 133\n"
     ]
    },
    {
     "name": "stderr",
     "output_type": "stream",
     "text": [
      "[I 2023-07-25 07:40:56,789] Trial 23 finished with value: 0.06105818997059594 and parameters: {'cutoff': 49}. Best is trial 22 with value: 0.08503260421240318.\n"
     ]
    },
    {
     "name": "stdout",
     "output_type": "stream",
     "text": [
      "EvaluatorHoldout: Processed 5965 (100.0%) in 44.93 sec. Users per second: 133\n"
     ]
    },
    {
     "name": "stderr",
     "output_type": "stream",
     "text": [
      "[I 2023-07-25 07:41:42,269] Trial 24 finished with value: 0.07952194680610472 and parameters: {'cutoff': 18}. Best is trial 22 with value: 0.08503260421240318.\n"
     ]
    },
    {
     "name": "stdout",
     "output_type": "stream",
     "text": [
      "EvaluatorHoldout: Processed 5965 (100.0%) in 44.95 sec. Users per second: 133\n"
     ]
    },
    {
     "name": "stderr",
     "output_type": "stream",
     "text": [
      "[I 2023-07-25 07:42:27,770] Trial 25 finished with value: 0.08019856570736725 and parameters: {'cutoff': 18}. Best is trial 22 with value: 0.08503260421240318.\n"
     ]
    },
    {
     "name": "stdout",
     "output_type": "stream",
     "text": [
      "EvaluatorHoldout: Processed 5965 (100.0%) in 44.95 sec. Users per second: 133\n"
     ]
    },
    {
     "name": "stderr",
     "output_type": "stream",
     "text": [
      "[I 2023-07-25 07:43:13,257] Trial 26 finished with value: 0.07989514229832784 and parameters: {'cutoff': 18}. Best is trial 22 with value: 0.08503260421240318.\n"
     ]
    },
    {
     "name": "stdout",
     "output_type": "stream",
     "text": [
      "EvaluatorHoldout: Processed 5965 (100.0%) in 44.79 sec. Users per second: 133\n"
     ]
    },
    {
     "name": "stderr",
     "output_type": "stream",
     "text": [
      "[I 2023-07-25 07:43:58,619] Trial 27 finished with value: 0.049613066964701635 and parameters: {'cutoff': 102}. Best is trial 22 with value: 0.08503260421240318.\n"
     ]
    },
    {
     "name": "stdout",
     "output_type": "stream",
     "text": [
      "EvaluatorHoldout: Processed 5965 (100.0%) in 44.76 sec. Users per second: 133\n"
     ]
    },
    {
     "name": "stderr",
     "output_type": "stream",
     "text": [
      "[I 2023-07-25 07:44:43,988] Trial 28 finished with value: 0.04654965473196825 and parameters: {'cutoff': 132}. Best is trial 22 with value: 0.08503260421240318.\n"
     ]
    },
    {
     "name": "stdout",
     "output_type": "stream",
     "text": [
      "EvaluatorHoldout: Processed 5965 (100.0%) in 44.74 sec. Users per second: 133\n"
     ]
    },
    {
     "name": "stderr",
     "output_type": "stream",
     "text": [
      "[I 2023-07-25 07:45:29,357] Trial 29 finished with value: 0.05007295866097203 and parameters: {'cutoff': 99}. Best is trial 22 with value: 0.08503260421240318.\n"
     ]
    },
    {
     "name": "stdout",
     "output_type": "stream",
     "text": [
      "EvaluatorHoldout: Processed 5965 (100.0%) in 44.75 sec. Users per second: 133\n"
     ]
    },
    {
     "name": "stderr",
     "output_type": "stream",
     "text": [
      "[I 2023-07-25 07:46:14,748] Trial 30 finished with value: 0.04521610851661152 and parameters: {'cutoff': 159}. Best is trial 22 with value: 0.08503260421240318.\n"
     ]
    },
    {
     "name": "stdout",
     "output_type": "stream",
     "text": [
      "EvaluatorHoldout: Processed 5965 (100.0%) in 44.95 sec. Users per second: 133\n"
     ]
    },
    {
     "name": "stderr",
     "output_type": "stream",
     "text": [
      "[I 2023-07-25 07:47:00,252] Trial 31 finished with value: 0.08014469325030946 and parameters: {'cutoff': 18}. Best is trial 22 with value: 0.08503260421240318.\n"
     ]
    },
    {
     "name": "stdout",
     "output_type": "stream",
     "text": [
      "EvaluatorHoldout: Processed 5965 (100.0%) in 44.77 sec. Users per second: 133\n"
     ]
    },
    {
     "name": "stderr",
     "output_type": "stream",
     "text": [
      "[I 2023-07-25 07:47:45,622] Trial 32 finished with value: 0.04812831463963073 and parameters: {'cutoff': 115}. Best is trial 22 with value: 0.08503260421240318.\n"
     ]
    },
    {
     "name": "stdout",
     "output_type": "stream",
     "text": [
      "EvaluatorHoldout: Processed 5965 (100.0%) in 44.95 sec. Users per second: 133\n"
     ]
    },
    {
     "name": "stderr",
     "output_type": "stream",
     "text": [
      "[I 2023-07-25 07:48:31,135] Trial 33 finished with value: 0.07958340318524745 and parameters: {'cutoff': 18}. Best is trial 22 with value: 0.08503260421240318.\n"
     ]
    },
    {
     "name": "stdout",
     "output_type": "stream",
     "text": [
      "EvaluatorHoldout: Processed 5965 (100.0%) in 44.84 sec. Users per second: 133\n"
     ]
    },
    {
     "name": "stderr",
     "output_type": "stream",
     "text": [
      "[I 2023-07-25 07:49:16,622] Trial 34 finished with value: 0.04460149150467684 and parameters: {'cutoff': 163}. Best is trial 22 with value: 0.08503260421240318.\n"
     ]
    },
    {
     "name": "stdout",
     "output_type": "stream",
     "text": [
      "EvaluatorHoldout: Processed 5965 (100.0%) in 44.70 sec. Users per second: 133\n"
     ]
    },
    {
     "name": "stderr",
     "output_type": "stream",
     "text": [
      "[I 2023-07-25 07:50:01,905] Trial 35 finished with value: 0.06567839513564598 and parameters: {'cutoff': 38}. Best is trial 22 with value: 0.08503260421240318.\n"
     ]
    },
    {
     "name": "stdout",
     "output_type": "stream",
     "text": [
      "EvaluatorHoldout: Processed 5965 (100.0%) in 44.69 sec. Users per second: 133\n"
     ]
    },
    {
     "name": "stderr",
     "output_type": "stream",
     "text": [
      "[I 2023-07-25 07:50:47,171] Trial 36 finished with value: 0.059946533349299655 and parameters: {'cutoff': 52}. Best is trial 22 with value: 0.08503260421240318.\n"
     ]
    },
    {
     "name": "stdout",
     "output_type": "stream",
     "text": [
      "EvaluatorHoldout: Processed 5965 (100.0%) in 44.77 sec. Users per second: 133\n"
     ]
    },
    {
     "name": "stderr",
     "output_type": "stream",
     "text": [
      "[I 2023-07-25 07:51:32,505] Trial 37 finished with value: 0.06577350017961957 and parameters: {'cutoff': 39}. Best is trial 22 with value: 0.08503260421240318.\n"
     ]
    },
    {
     "name": "stdout",
     "output_type": "stream",
     "text": [
      "EvaluatorHoldout: Processed 5965 (100.0%) in 44.86 sec. Users per second: 133\n"
     ]
    },
    {
     "name": "stderr",
     "output_type": "stream",
     "text": [
      "[I 2023-07-25 07:52:17,924] Trial 38 finished with value: 0.0849129844729178 and parameters: {'cutoff': 13}. Best is trial 22 with value: 0.08503260421240318.\n"
     ]
    },
    {
     "name": "stdout",
     "output_type": "stream",
     "text": [
      "EvaluatorHoldout: Processed 5965 (100.0%) in 44.73 sec. Users per second: 133\n"
     ]
    },
    {
     "name": "stderr",
     "output_type": "stream",
     "text": [
      "[I 2023-07-25 07:53:03,237] Trial 39 finished with value: 0.05513347037613604 and parameters: {'cutoff': 73}. Best is trial 22 with value: 0.08503260421240318.\n"
     ]
    },
    {
     "name": "stdout",
     "output_type": "stream",
     "text": [
      "EvaluatorHoldout: Processed 5965 (100.0%) in 44.92 sec. Users per second: 133\n"
     ]
    },
    {
     "name": "stderr",
     "output_type": "stream",
     "text": [
      "[I 2023-07-25 07:53:48,695] Trial 40 finished with value: 0.08428191567210877 and parameters: {'cutoff': 13}. Best is trial 22 with value: 0.08503260421240318.\n"
     ]
    },
    {
     "name": "stdout",
     "output_type": "stream",
     "text": [
      "EvaluatorHoldout: Processed 5965 (100.0%) in 44.81 sec. Users per second: 133\n"
     ]
    },
    {
     "name": "stderr",
     "output_type": "stream",
     "text": [
      "[I 2023-07-25 07:54:34,158] Trial 41 finished with value: 0.0607973030508657 and parameters: {'cutoff': 51}. Best is trial 22 with value: 0.08503260421240318.\n"
     ]
    },
    {
     "name": "stdout",
     "output_type": "stream",
     "text": [
      "EvaluatorHoldout: Processed 5965 (100.0%) in 44.91 sec. Users per second: 133\n"
     ]
    },
    {
     "name": "stderr",
     "output_type": "stream",
     "text": [
      "[I 2023-07-25 07:55:19,653] Trial 42 finished with value: 0.08223343844383242 and parameters: {'cutoff': 15}. Best is trial 22 with value: 0.08503260421240318.\n"
     ]
    },
    {
     "name": "stdout",
     "output_type": "stream",
     "text": [
      "EvaluatorHoldout: Processed 5965 (100.0%) in 44.74 sec. Users per second: 133\n"
     ]
    },
    {
     "name": "stderr",
     "output_type": "stream",
     "text": [
      "[I 2023-07-25 07:56:04,986] Trial 43 finished with value: 0.04816570204499802 and parameters: {'cutoff': 113}. Best is trial 22 with value: 0.08503260421240318.\n"
     ]
    },
    {
     "name": "stdout",
     "output_type": "stream",
     "text": [
      "EvaluatorHoldout: Processed 5965 (100.0%) in 45.26 sec. Users per second: 132\n"
     ]
    },
    {
     "name": "stderr",
     "output_type": "stream",
     "text": [
      "[I 2023-07-25 07:56:50,805] Trial 44 finished with value: 0.08217801593954169 and parameters: {'cutoff': 15}. Best is trial 22 with value: 0.08503260421240318.\n"
     ]
    },
    {
     "name": "stdout",
     "output_type": "stream",
     "text": [
      "EvaluatorHoldout: Processed 5965 (100.0%) in 44.85 sec. Users per second: 133\n"
     ]
    },
    {
     "name": "stderr",
     "output_type": "stream",
     "text": [
      "[I 2023-07-25 07:57:36,223] Trial 45 finished with value: 0.08461966630742862 and parameters: {'cutoff': 13}. Best is trial 22 with value: 0.08503260421240318.\n"
     ]
    },
    {
     "name": "stdout",
     "output_type": "stream",
     "text": [
      "EvaluatorHoldout: Processed 5965 (100.0%) in 44.86 sec. Users per second: 133\n"
     ]
    },
    {
     "name": "stderr",
     "output_type": "stream",
     "text": [
      "[I 2023-07-25 07:58:21,617] Trial 46 finished with value: 0.08455246876621605 and parameters: {'cutoff': 13}. Best is trial 22 with value: 0.08503260421240318.\n"
     ]
    },
    {
     "name": "stdout",
     "output_type": "stream",
     "text": [
      "EvaluatorHoldout: Processed 5965 (100.0%) in 44.84 sec. Users per second: 133\n"
     ]
    },
    {
     "name": "stderr",
     "output_type": "stream",
     "text": [
      "[I 2023-07-25 07:59:06,996] Trial 47 finished with value: 0.08525571122553557 and parameters: {'cutoff': 13}. Best is trial 47 with value: 0.08525571122553557.\n"
     ]
    },
    {
     "name": "stdout",
     "output_type": "stream",
     "text": [
      "EvaluatorHoldout: Processed 5965 (100.0%) in 44.91 sec. Users per second: 133\n"
     ]
    },
    {
     "name": "stderr",
     "output_type": "stream",
     "text": [
      "[I 2023-07-25 07:59:52,451] Trial 48 finished with value: 0.08470554424619824 and parameters: {'cutoff': 13}. Best is trial 47 with value: 0.08525571122553557.\n"
     ]
    },
    {
     "name": "stdout",
     "output_type": "stream",
     "text": [
      "EvaluatorHoldout: Processed 5965 (100.0%) in 44.80 sec. Users per second: 133\n"
     ]
    },
    {
     "name": "stderr",
     "output_type": "stream",
     "text": [
      "[I 2023-07-25 08:00:37,898] Trial 49 finished with value: 0.04391750156335242 and parameters: {'cutoff': 185}. Best is trial 47 with value: 0.08525571122553557.\n"
     ]
    },
    {
     "name": "stdout",
     "output_type": "stream",
     "text": [
      "EvaluatorHoldout: Processed 5965 (100.0%) in 45.35 sec. Users per second: 132\n"
     ]
    },
    {
     "name": "stderr",
     "output_type": "stream",
     "text": [
      "[I 2023-07-25 08:01:23,276] A new study created in memory with name: no-name-275600a4-e394-43ce-afc2-d6b89f5c428b\n"
     ]
    },
    {
     "name": "stdout",
     "output_type": "stream",
     "text": [
      "Recommender_Base_Class: URM Detected 204 ( 5.3%) items with no interactions.\n",
      "SLIMElasticNetRecommender_DiffusionAutoencoderRecommender_TwoLevelRec\n",
      "EvaluatorHoldout: Processed 5965 (100.0%) in 6.48 sec. Users per second: 920\n"
     ]
    },
    {
     "name": "stderr",
     "output_type": "stream",
     "text": [
      "[I 2023-07-25 08:01:30,331] Trial 0 finished with value: 0.09276334171556297 and parameters: {'cutoff': 54}. Best is trial 0 with value: 0.09276334171556297.\n"
     ]
    },
    {
     "name": "stdout",
     "output_type": "stream",
     "text": [
      "EvaluatorHoldout: Processed 5965 (100.0%) in 6.57 sec. Users per second: 908\n"
     ]
    },
    {
     "name": "stderr",
     "output_type": "stream",
     "text": [
      "[I 2023-07-25 08:01:37,515] Trial 1 finished with value: 0.09082461847549879 and parameters: {'cutoff': 162}. Best is trial 0 with value: 0.09276334171556297.\n"
     ]
    },
    {
     "name": "stdout",
     "output_type": "stream",
     "text": [
      "EvaluatorHoldout: Processed 5965 (100.0%) in 6.54 sec. Users per second: 912\n"
     ]
    },
    {
     "name": "stderr",
     "output_type": "stream",
     "text": [
      "[I 2023-07-25 08:01:44,649] Trial 2 finished with value: 0.09098485211351953 and parameters: {'cutoff': 115}. Best is trial 0 with value: 0.09276334171556297.\n"
     ]
    },
    {
     "name": "stdout",
     "output_type": "stream",
     "text": [
      "EvaluatorHoldout: Processed 5965 (100.0%) in 6.49 sec. Users per second: 919\n"
     ]
    },
    {
     "name": "stderr",
     "output_type": "stream",
     "text": [
      "[I 2023-07-25 08:01:51,713] Trial 3 finished with value: 0.09229486821272219 and parameters: {'cutoff': 67}. Best is trial 0 with value: 0.09276334171556297.\n"
     ]
    },
    {
     "name": "stdout",
     "output_type": "stream",
     "text": [
      "EvaluatorHoldout: Processed 5965 (100.0%) in 6.49 sec. Users per second: 920\n"
     ]
    },
    {
     "name": "stderr",
     "output_type": "stream",
     "text": [
      "[I 2023-07-25 08:01:58,755] Trial 4 finished with value: 0.09327373967189531 and parameters: {'cutoff': 50}. Best is trial 4 with value: 0.09327373967189531.\n"
     ]
    },
    {
     "name": "stdout",
     "output_type": "stream",
     "text": [
      "EvaluatorHoldout: Processed 5965 (100.0%) in 6.65 sec. Users per second: 898\n"
     ]
    },
    {
     "name": "stderr",
     "output_type": "stream",
     "text": [
      "[I 2023-07-25 08:02:05,930] Trial 5 finished with value: 0.09677682646123531 and parameters: {'cutoff': 15}. Best is trial 5 with value: 0.09677682646123531.\n"
     ]
    },
    {
     "name": "stdout",
     "output_type": "stream",
     "text": [
      "EvaluatorHoldout: Processed 5965 (100.0%) in 6.55 sec. Users per second: 911\n"
     ]
    },
    {
     "name": "stderr",
     "output_type": "stream",
     "text": [
      "[I 2023-07-25 08:02:13,062] Trial 6 finished with value: 0.09106627948748648 and parameters: {'cutoff': 125}. Best is trial 5 with value: 0.09677682646123531.\n"
     ]
    },
    {
     "name": "stdout",
     "output_type": "stream",
     "text": [
      "EvaluatorHoldout: Processed 5965 (100.0%) in 6.56 sec. Users per second: 910\n"
     ]
    },
    {
     "name": "stderr",
     "output_type": "stream",
     "text": [
      "[I 2023-07-25 08:02:20,222] Trial 7 finished with value: 0.0908263215316858 and parameters: {'cutoff': 158}. Best is trial 5 with value: 0.09677682646123531.\n"
     ]
    },
    {
     "name": "stdout",
     "output_type": "stream",
     "text": [
      "EvaluatorHoldout: Processed 5965 (100.0%) in 6.55 sec. Users per second: 910\n"
     ]
    },
    {
     "name": "stderr",
     "output_type": "stream",
     "text": [
      "[I 2023-07-25 08:02:27,384] Trial 8 finished with value: 0.09107623172208225 and parameters: {'cutoff': 150}. Best is trial 5 with value: 0.09677682646123531.\n"
     ]
    },
    {
     "name": "stdout",
     "output_type": "stream",
     "text": [
      "EvaluatorHoldout: Processed 5965 (100.0%) in 6.48 sec. Users per second: 921\n"
     ]
    },
    {
     "name": "stderr",
     "output_type": "stream",
     "text": [
      "[I 2023-07-25 08:02:34,418] Trial 9 finished with value: 0.09276039463005088 and parameters: {'cutoff': 52}. Best is trial 5 with value: 0.09677682646123531.\n"
     ]
    },
    {
     "name": "stdout",
     "output_type": "stream",
     "text": [
      "EvaluatorHoldout: Processed 5965 (100.0%) in 6.65 sec. Users per second: 897\n"
     ]
    },
    {
     "name": "stderr",
     "output_type": "stream",
     "text": [
      "[I 2023-07-25 08:02:41,604] Trial 10 finished with value: 0.0970165914927022 and parameters: {'cutoff': 15}. Best is trial 10 with value: 0.0970165914927022.\n"
     ]
    },
    {
     "name": "stdout",
     "output_type": "stream",
     "text": [
      "EvaluatorHoldout: Processed 5965 (100.0%) in 6.53 sec. Users per second: 914\n"
     ]
    },
    {
     "name": "stderr",
     "output_type": "stream",
     "text": [
      "[I 2023-07-25 08:02:48,719] Trial 11 finished with value: 0.09111524235287867 and parameters: {'cutoff': 123}. Best is trial 10 with value: 0.0970165914927022.\n"
     ]
    },
    {
     "name": "stdout",
     "output_type": "stream",
     "text": [
      "EvaluatorHoldout: Processed 5965 (100.0%) in 6.70 sec. Users per second: 891\n"
     ]
    },
    {
     "name": "stderr",
     "output_type": "stream",
     "text": [
      "[I 2023-07-25 08:02:55,955] Trial 12 finished with value: 0.09679207413616457 and parameters: {'cutoff': 15}. Best is trial 10 with value: 0.0970165914927022.\n"
     ]
    },
    {
     "name": "stdout",
     "output_type": "stream",
     "text": [
      "EvaluatorHoldout: Processed 5965 (100.0%) in 6.66 sec. Users per second: 896\n"
     ]
    },
    {
     "name": "stderr",
     "output_type": "stream",
     "text": [
      "[I 2023-07-25 08:03:03,155] Trial 13 finished with value: 0.0967353543820436 and parameters: {'cutoff': 15}. Best is trial 10 with value: 0.0970165914927022.\n"
     ]
    },
    {
     "name": "stdout",
     "output_type": "stream",
     "text": [
      "EvaluatorHoldout: Processed 5965 (100.0%) in 6.51 sec. Users per second: 916\n"
     ]
    },
    {
     "name": "stderr",
     "output_type": "stream",
     "text": [
      "[I 2023-07-25 08:03:10,236] Trial 14 finished with value: 0.0913965592942961 and parameters: {'cutoff': 94}. Best is trial 10 with value: 0.0970165914927022.\n"
     ]
    },
    {
     "name": "stdout",
     "output_type": "stream",
     "text": [
      "EvaluatorHoldout: Processed 5965 (100.0%) in 6.65 sec. Users per second: 897\n"
     ]
    },
    {
     "name": "stderr",
     "output_type": "stream",
     "text": [
      "[I 2023-07-25 08:03:17,444] Trial 15 finished with value: 0.0970603121382669 and parameters: {'cutoff': 15}. Best is trial 15 with value: 0.0970603121382669.\n"
     ]
    },
    {
     "name": "stdout",
     "output_type": "stream",
     "text": [
      "EvaluatorHoldout: Processed 5965 (100.0%) in 6.53 sec. Users per second: 913\n"
     ]
    },
    {
     "name": "stderr",
     "output_type": "stream",
     "text": [
      "[I 2023-07-25 08:03:24,568] Trial 16 finished with value: 0.0915066924786119 and parameters: {'cutoff': 120}. Best is trial 15 with value: 0.0970603121382669.\n"
     ]
    },
    {
     "name": "stdout",
     "output_type": "stream",
     "text": [
      "EvaluatorHoldout: Processed 5965 (100.0%) in 6.59 sec. Users per second: 904\n"
     ]
    },
    {
     "name": "stderr",
     "output_type": "stream",
     "text": [
      "[I 2023-07-25 08:03:31,781] Trial 17 finished with value: 0.09106813555262816 and parameters: {'cutoff': 160}. Best is trial 15 with value: 0.0970603121382669.\n"
     ]
    },
    {
     "name": "stdout",
     "output_type": "stream",
     "text": [
      "EvaluatorHoldout: Processed 5965 (100.0%) in 6.60 sec. Users per second: 903\n"
     ]
    },
    {
     "name": "stderr",
     "output_type": "stream",
     "text": [
      "[I 2023-07-25 08:03:39,025] Trial 18 finished with value: 0.09056894051277956 and parameters: {'cutoff': 196}. Best is trial 15 with value: 0.0970603121382669.\n"
     ]
    },
    {
     "name": "stdout",
     "output_type": "stream",
     "text": [
      "EvaluatorHoldout: Processed 5965 (100.0%) in 6.72 sec. Users per second: 887\n"
     ]
    },
    {
     "name": "stderr",
     "output_type": "stream",
     "text": [
      "[I 2023-07-25 08:03:46,305] Trial 19 finished with value: 0.09709911653960265 and parameters: {'cutoff': 18}. Best is trial 19 with value: 0.09709911653960265.\n"
     ]
    },
    {
     "name": "stdout",
     "output_type": "stream",
     "text": [
      "EvaluatorHoldout: Processed 5965 (100.0%) in 6.71 sec. Users per second: 889\n"
     ]
    },
    {
     "name": "stderr",
     "output_type": "stream",
     "text": [
      "[I 2023-07-25 08:03:53,548] Trial 20 finished with value: 0.09701717026570343 and parameters: {'cutoff': 18}. Best is trial 19 with value: 0.09709911653960265.\n"
     ]
    },
    {
     "name": "stdout",
     "output_type": "stream",
     "text": [
      "EvaluatorHoldout: Processed 5965 (100.0%) in 6.57 sec. Users per second: 908\n"
     ]
    },
    {
     "name": "stderr",
     "output_type": "stream",
     "text": [
      "[I 2023-07-25 08:04:00,717] Trial 21 finished with value: 0.09084822842241104 and parameters: {'cutoff': 164}. Best is trial 19 with value: 0.09709911653960265.\n"
     ]
    },
    {
     "name": "stdout",
     "output_type": "stream",
     "text": [
      "EvaluatorHoldout: Processed 5965 (100.0%) in 6.71 sec. Users per second: 889\n"
     ]
    },
    {
     "name": "stderr",
     "output_type": "stream",
     "text": [
      "[I 2023-07-25 08:04:07,996] Trial 22 finished with value: 0.09700350590082366 and parameters: {'cutoff': 18}. Best is trial 19 with value: 0.09709911653960265.\n"
     ]
    },
    {
     "name": "stdout",
     "output_type": "stream",
     "text": [
      "EvaluatorHoldout: Processed 5965 (100.0%) in 6.51 sec. Users per second: 917\n"
     ]
    },
    {
     "name": "stderr",
     "output_type": "stream",
     "text": [
      "[I 2023-07-25 08:04:15,082] Trial 23 finished with value: 0.09159412046461485 and parameters: {'cutoff': 98}. Best is trial 19 with value: 0.09709911653960265.\n"
     ]
    },
    {
     "name": "stdout",
     "output_type": "stream",
     "text": [
      "EvaluatorHoldout: Processed 5965 (100.0%) in 6.68 sec. Users per second: 892\n"
     ]
    },
    {
     "name": "stderr",
     "output_type": "stream",
     "text": [
      "[I 2023-07-25 08:04:22,302] Trial 24 finished with value: 0.0970782474487418 and parameters: {'cutoff': 16}. Best is trial 19 with value: 0.09709911653960265.\n"
     ]
    },
    {
     "name": "stdout",
     "output_type": "stream",
     "text": [
      "EvaluatorHoldout: Processed 5965 (100.0%) in 6.66 sec. Users per second: 895\n"
     ]
    },
    {
     "name": "stderr",
     "output_type": "stream",
     "text": [
      "[I 2023-07-25 08:04:29,498] Trial 25 finished with value: 0.09693656780957711 and parameters: {'cutoff': 16}. Best is trial 19 with value: 0.09709911653960265.\n"
     ]
    },
    {
     "name": "stdout",
     "output_type": "stream",
     "text": [
      "EvaluatorHoldout: Processed 5965 (100.0%) in 6.49 sec. Users per second: 919\n"
     ]
    },
    {
     "name": "stderr",
     "output_type": "stream",
     "text": [
      "[I 2023-07-25 08:04:36,544] Trial 26 finished with value: 0.0925227584188188 and parameters: {'cutoff': 64}. Best is trial 19 with value: 0.09709911653960265.\n"
     ]
    },
    {
     "name": "stdout",
     "output_type": "stream",
     "text": [
      "EvaluatorHoldout: Processed 5965 (100.0%) in 6.54 sec. Users per second: 913\n"
     ]
    },
    {
     "name": "stderr",
     "output_type": "stream",
     "text": [
      "[I 2023-07-25 08:04:43,883] Trial 27 finished with value: 0.09149109887039475 and parameters: {'cutoff': 117}. Best is trial 19 with value: 0.09709911653960265.\n"
     ]
    },
    {
     "name": "stdout",
     "output_type": "stream",
     "text": [
      "EvaluatorHoldout: Processed 5965 (100.0%) in 6.58 sec. Users per second: 907\n"
     ]
    },
    {
     "name": "stderr",
     "output_type": "stream",
     "text": [
      "[I 2023-07-25 08:04:51,074] Trial 28 finished with value: 0.09077675328304005 and parameters: {'cutoff': 171}. Best is trial 19 with value: 0.09709911653960265.\n"
     ]
    },
    {
     "name": "stdout",
     "output_type": "stream",
     "text": [
      "EvaluatorHoldout: Processed 5965 (100.0%) in 6.55 sec. Users per second: 910\n"
     ]
    },
    {
     "name": "stderr",
     "output_type": "stream",
     "text": [
      "[I 2023-07-25 08:04:58,253] Trial 29 finished with value: 0.09129004510437849 and parameters: {'cutoff': 144}. Best is trial 19 with value: 0.09709911653960265.\n"
     ]
    },
    {
     "name": "stdout",
     "output_type": "stream",
     "text": [
      "EvaluatorHoldout: Processed 5965 (100.0%) in 6.90 sec. Users per second: 865\n"
     ]
    },
    {
     "name": "stderr",
     "output_type": "stream",
     "text": [
      "[I 2023-07-25 08:05:05,696] Trial 30 finished with value: 0.09547750103114723 and parameters: {'cutoff': 24}. Best is trial 19 with value: 0.09709911653960265.\n"
     ]
    },
    {
     "name": "stdout",
     "output_type": "stream",
     "text": [
      "EvaluatorHoldout: Processed 5965 (100.0%) in 6.55 sec. Users per second: 910\n"
     ]
    },
    {
     "name": "stderr",
     "output_type": "stream",
     "text": [
      "[I 2023-07-25 08:05:12,854] Trial 31 finished with value: 0.09106252078926001 and parameters: {'cutoff': 142}. Best is trial 19 with value: 0.09709911653960265.\n"
     ]
    },
    {
     "name": "stdout",
     "output_type": "stream",
     "text": [
      "EvaluatorHoldout: Processed 5965 (100.0%) in 6.51 sec. Users per second: 917\n"
     ]
    },
    {
     "name": "stderr",
     "output_type": "stream",
     "text": [
      "[I 2023-07-25 08:05:19,950] Trial 32 finished with value: 0.09152295799571573 and parameters: {'cutoff': 81}. Best is trial 19 with value: 0.09709911653960265.\n"
     ]
    },
    {
     "name": "stdout",
     "output_type": "stream",
     "text": [
      "EvaluatorHoldout: Processed 5965 (100.0%) in 6.48 sec. Users per second: 920\n"
     ]
    },
    {
     "name": "stderr",
     "output_type": "stream",
     "text": [
      "[I 2023-07-25 08:05:27,002] Trial 33 finished with value: 0.09287963517343226 and parameters: {'cutoff': 51}. Best is trial 19 with value: 0.09709911653960265.\n"
     ]
    },
    {
     "name": "stdout",
     "output_type": "stream",
     "text": [
      "EvaluatorHoldout: Processed 5965 (100.0%) in 6.50 sec. Users per second: 917\n"
     ]
    },
    {
     "name": "stderr",
     "output_type": "stream",
     "text": [
      "[I 2023-07-25 08:05:34,069] Trial 34 finished with value: 0.0919093588259556 and parameters: {'cutoff': 78}. Best is trial 19 with value: 0.09709911653960265.\n"
     ]
    },
    {
     "name": "stdout",
     "output_type": "stream",
     "text": [
      "EvaluatorHoldout: Processed 5965 (100.0%) in 6.60 sec. Users per second: 903\n"
     ]
    },
    {
     "name": "stderr",
     "output_type": "stream",
     "text": [
      "[I 2023-07-25 08:05:41,297] Trial 35 finished with value: 0.09053100094466401 and parameters: {'cutoff': 197}. Best is trial 19 with value: 0.09709911653960265.\n"
     ]
    },
    {
     "name": "stdout",
     "output_type": "stream",
     "text": [
      "EvaluatorHoldout: Processed 5965 (100.0%) in 6.50 sec. Users per second: 918\n"
     ]
    },
    {
     "name": "stderr",
     "output_type": "stream",
     "text": [
      "[I 2023-07-25 08:05:48,377] Trial 36 finished with value: 0.09158253835202713 and parameters: {'cutoff': 77}. Best is trial 19 with value: 0.09709911653960265.\n"
     ]
    },
    {
     "name": "stdout",
     "output_type": "stream",
     "text": [
      "EvaluatorHoldout: Processed 5965 (100.0%) in 6.56 sec. Users per second: 909\n"
     ]
    },
    {
     "name": "stderr",
     "output_type": "stream",
     "text": [
      "[I 2023-07-25 08:05:55,541] Trial 37 finished with value: 0.09112483534906021 and parameters: {'cutoff': 148}. Best is trial 19 with value: 0.09709911653960265.\n"
     ]
    },
    {
     "name": "stdout",
     "output_type": "stream",
     "text": [
      "EvaluatorHoldout: Processed 5965 (100.0%) in 6.59 sec. Users per second: 905\n"
     ]
    },
    {
     "name": "stderr",
     "output_type": "stream",
     "text": [
      "[I 2023-07-25 08:06:02,770] Trial 38 finished with value: 0.09086237177184371 and parameters: {'cutoff': 186}. Best is trial 19 with value: 0.09709911653960265.\n"
     ]
    },
    {
     "name": "stdout",
     "output_type": "stream",
     "text": [
      "EvaluatorHoldout: Processed 5965 (100.0%) in 6.55 sec. Users per second: 911\n"
     ]
    },
    {
     "name": "stderr",
     "output_type": "stream",
     "text": [
      "[I 2023-07-25 08:06:09,920] Trial 39 finished with value: 0.09108357615189139 and parameters: {'cutoff': 126}. Best is trial 19 with value: 0.09709911653960265.\n"
     ]
    },
    {
     "name": "stdout",
     "output_type": "stream",
     "text": [
      "EvaluatorHoldout: Processed 5965 (100.0%) in 6.50 sec. Users per second: 918\n"
     ]
    },
    {
     "name": "stderr",
     "output_type": "stream",
     "text": [
      "[I 2023-07-25 08:06:16,984] Trial 40 finished with value: 0.09212911294721847 and parameters: {'cutoff': 60}. Best is trial 19 with value: 0.09709911653960265.\n"
     ]
    },
    {
     "name": "stdout",
     "output_type": "stream",
     "text": [
      "EvaluatorHoldout: Processed 5965 (100.0%) in 6.59 sec. Users per second: 906\n"
     ]
    },
    {
     "name": "stderr",
     "output_type": "stream",
     "text": [
      "[I 2023-07-25 08:06:24,193] Trial 41 finished with value: 0.09070857116246883 and parameters: {'cutoff': 178}. Best is trial 19 with value: 0.09709911653960265.\n"
     ]
    },
    {
     "name": "stdout",
     "output_type": "stream",
     "text": [
      "EvaluatorHoldout: Processed 5965 (100.0%) in 6.52 sec. Users per second: 915\n"
     ]
    },
    {
     "name": "stderr",
     "output_type": "stream",
     "text": [
      "[I 2023-07-25 08:06:31,306] Trial 42 finished with value: 0.09156334570710097 and parameters: {'cutoff': 97}. Best is trial 19 with value: 0.09709911653960265.\n"
     ]
    },
    {
     "name": "stdout",
     "output_type": "stream",
     "text": [
      "EvaluatorHoldout: Processed 5965 (100.0%) in 6.46 sec. Users per second: 923\n"
     ]
    },
    {
     "name": "stderr",
     "output_type": "stream",
     "text": [
      "[I 2023-07-25 08:06:38,327] Trial 43 finished with value: 0.09305678627975335 and parameters: {'cutoff': 44}. Best is trial 19 with value: 0.09709911653960265.\n"
     ]
    },
    {
     "name": "stdout",
     "output_type": "stream",
     "text": [
      "EvaluatorHoldout: Processed 5965 (100.0%) in 6.58 sec. Users per second: 906\n"
     ]
    },
    {
     "name": "stderr",
     "output_type": "stream",
     "text": [
      "[I 2023-07-25 08:06:45,544] Trial 44 finished with value: 0.0907339773014544 and parameters: {'cutoff': 194}. Best is trial 19 with value: 0.09709911653960265.\n"
     ]
    },
    {
     "name": "stdout",
     "output_type": "stream",
     "text": [
      "EvaluatorHoldout: Processed 5965 (100.0%) in 6.53 sec. Users per second: 914\n"
     ]
    },
    {
     "name": "stderr",
     "output_type": "stream",
     "text": [
      "[I 2023-07-25 08:06:52,674] Trial 45 finished with value: 0.09142482603547147 and parameters: {'cutoff': 106}. Best is trial 19 with value: 0.09709911653960265.\n"
     ]
    },
    {
     "name": "stdout",
     "output_type": "stream",
     "text": [
      "EvaluatorHoldout: Processed 5965 (100.0%) in 6.71 sec. Users per second: 889\n"
     ]
    },
    {
     "name": "stderr",
     "output_type": "stream",
     "text": [
      "[I 2023-07-25 08:06:59,934] Trial 46 finished with value: 0.09667967908034948 and parameters: {'cutoff': 18}. Best is trial 19 with value: 0.09709911653960265.\n"
     ]
    },
    {
     "name": "stdout",
     "output_type": "stream",
     "text": [
      "EvaluatorHoldout: Processed 5965 (100.0%) in 6.59 sec. Users per second: 906\n"
     ]
    },
    {
     "name": "stderr",
     "output_type": "stream",
     "text": [
      "[I 2023-07-25 08:07:07,150] Trial 47 finished with value: 0.09104791176040117 and parameters: {'cutoff': 183}. Best is trial 19 with value: 0.09709911653960265.\n"
     ]
    },
    {
     "name": "stdout",
     "output_type": "stream",
     "text": [
      "EvaluatorHoldout: Processed 5965 (100.0%) in 6.49 sec. Users per second: 919\n"
     ]
    },
    {
     "name": "stderr",
     "output_type": "stream",
     "text": [
      "[I 2023-07-25 08:07:14,212] Trial 48 finished with value: 0.09226612913955709 and parameters: {'cutoff': 68}. Best is trial 19 with value: 0.09709911653960265.\n"
     ]
    },
    {
     "name": "stdout",
     "output_type": "stream",
     "text": [
      "EvaluatorHoldout: Processed 5965 (100.0%) in 6.54 sec. Users per second: 912\n"
     ]
    },
    {
     "name": "stderr",
     "output_type": "stream",
     "text": [
      "[I 2023-07-25 08:07:21,346] Trial 49 finished with value: 0.09112643196423578 and parameters: {'cutoff': 130}. Best is trial 19 with value: 0.09709911653960265.\n"
     ]
    },
    {
     "name": "stdout",
     "output_type": "stream",
     "text": [
      "EvaluatorHoldout: Processed 5965 (100.0%) in 6.60 sec. Users per second: 904\n"
     ]
    },
    {
     "name": "stderr",
     "output_type": "stream",
     "text": [
      "[I 2023-07-25 08:07:27,962] A new study created in memory with name: no-name-cb9c94a4-ece6-4690-9607-abdd9ced565b\n"
     ]
    },
    {
     "name": "stdout",
     "output_type": "stream",
     "text": [
      "Recommender_Base_Class: URM Detected 204 ( 5.3%) items with no interactions.\n",
      "SLIMElasticNetRecommender_DiffusionAutoencoderRecommender_TwoLevelRec\n",
      "EvaluatorHoldout: Processed 5965 (100.0%) in 23.52 sec. Users per second: 254\n"
     ]
    },
    {
     "name": "stderr",
     "output_type": "stream",
     "text": [
      "[I 2023-07-25 08:07:52,060] Trial 0 finished with value: 0.07412157559307636 and parameters: {'cutoff': 115}. Best is trial 0 with value: 0.07412157559307636.\n"
     ]
    },
    {
     "name": "stdout",
     "output_type": "stream",
     "text": [
      "EvaluatorHoldout: Processed 5965 (100.0%) in 23.49 sec. Users per second: 254\n"
     ]
    },
    {
     "name": "stderr",
     "output_type": "stream",
     "text": [
      "[I 2023-07-25 08:08:16,119] Trial 1 finished with value: 0.07698039489615387 and parameters: {'cutoff': 80}. Best is trial 1 with value: 0.07698039489615387.\n"
     ]
    },
    {
     "name": "stdout",
     "output_type": "stream",
     "text": [
      "EvaluatorHoldout: Processed 5965 (100.0%) in 23.96 sec. Users per second: 249\n"
     ]
    },
    {
     "name": "stderr",
     "output_type": "stream",
     "text": [
      "[I 2023-07-25 08:08:40,622] Trial 2 finished with value: 0.08559242406099105 and parameters: {'cutoff': 31}. Best is trial 2 with value: 0.08559242406099105.\n"
     ]
    },
    {
     "name": "stdout",
     "output_type": "stream",
     "text": [
      "EvaluatorHoldout: Processed 5965 (100.0%) in 23.47 sec. Users per second: 254\n"
     ]
    },
    {
     "name": "stderr",
     "output_type": "stream",
     "text": [
      "[I 2023-07-25 08:09:04,649] Trial 3 finished with value: 0.08254849718596603 and parameters: {'cutoff': 41}. Best is trial 2 with value: 0.08559242406099105.\n"
     ]
    },
    {
     "name": "stdout",
     "output_type": "stream",
     "text": [
      "EvaluatorHoldout: Processed 5965 (100.0%) in 23.50 sec. Users per second: 254\n"
     ]
    },
    {
     "name": "stderr",
     "output_type": "stream",
     "text": [
      "[I 2023-07-25 08:09:28,731] Trial 4 finished with value: 0.07458798680131494 and parameters: {'cutoff': 108}. Best is trial 2 with value: 0.08559242406099105.\n"
     ]
    },
    {
     "name": "stdout",
     "output_type": "stream",
     "text": [
      "EvaluatorHoldout: Processed 5965 (100.0%) in 23.49 sec. Users per second: 254\n"
     ]
    },
    {
     "name": "stderr",
     "output_type": "stream",
     "text": [
      "[I 2023-07-25 08:09:52,792] Trial 5 finished with value: 0.07677104538378672 and parameters: {'cutoff': 80}. Best is trial 2 with value: 0.08559242406099105.\n"
     ]
    },
    {
     "name": "stdout",
     "output_type": "stream",
     "text": [
      "EvaluatorHoldout: Processed 5965 (100.0%) in 23.61 sec. Users per second: 253\n"
     ]
    },
    {
     "name": "stderr",
     "output_type": "stream",
     "text": [
      "[I 2023-07-25 08:10:17,000] Trial 6 finished with value: 0.07327210979390386 and parameters: {'cutoff': 134}. Best is trial 2 with value: 0.08559242406099105.\n"
     ]
    },
    {
     "name": "stdout",
     "output_type": "stream",
     "text": [
      "EvaluatorHoldout: Processed 5965 (100.0%) in 23.52 sec. Users per second: 254\n"
     ]
    },
    {
     "name": "stderr",
     "output_type": "stream",
     "text": [
      "[I 2023-07-25 08:10:41,101] Trial 7 finished with value: 0.07731553107412312 and parameters: {'cutoff': 79}. Best is trial 2 with value: 0.08559242406099105.\n"
     ]
    },
    {
     "name": "stdout",
     "output_type": "stream",
     "text": [
      "EvaluatorHoldout: Processed 5965 (100.0%) in 24.00 sec. Users per second: 249\n"
     ]
    },
    {
     "name": "stderr",
     "output_type": "stream",
     "text": [
      "[I 2023-07-25 08:11:05,673] Trial 8 finished with value: 0.08542409425351616 and parameters: {'cutoff': 32}. Best is trial 2 with value: 0.08559242406099105.\n"
     ]
    },
    {
     "name": "stdout",
     "output_type": "stream",
     "text": [
      "EvaluatorHoldout: Processed 5965 (100.0%) in 23.46 sec. Users per second: 254\n"
     ]
    },
    {
     "name": "stderr",
     "output_type": "stream",
     "text": [
      "[I 2023-07-25 08:11:29,843] Trial 9 finished with value: 0.08243546348408083 and parameters: {'cutoff': 44}. Best is trial 2 with value: 0.08559242406099105.\n"
     ]
    },
    {
     "name": "stdout",
     "output_type": "stream",
     "text": [
      "EvaluatorHoldout: Processed 5965 (100.0%) in 23.92 sec. Users per second: 249\n"
     ]
    },
    {
     "name": "stderr",
     "output_type": "stream",
     "text": [
      "[I 2023-07-25 08:11:54,310] Trial 10 finished with value: 0.08617259410050707 and parameters: {'cutoff': 29}. Best is trial 10 with value: 0.08617259410050707.\n"
     ]
    },
    {
     "name": "stdout",
     "output_type": "stream",
     "text": [
      "EvaluatorHoldout: Processed 5965 (100.0%) in 23.93 sec. Users per second: 249\n"
     ]
    },
    {
     "name": "stderr",
     "output_type": "stream",
     "text": [
      "[I 2023-07-25 08:12:18,789] Trial 11 finished with value: 0.08663237270320305 and parameters: {'cutoff': 29}. Best is trial 11 with value: 0.08663237270320305.\n"
     ]
    },
    {
     "name": "stdout",
     "output_type": "stream",
     "text": [
      "EvaluatorHoldout: Processed 5965 (100.0%) in 23.53 sec. Users per second: 254\n"
     ]
    },
    {
     "name": "stderr",
     "output_type": "stream",
     "text": [
      "[I 2023-07-25 08:12:42,914] Trial 12 finished with value: 0.07346984393086667 and parameters: {'cutoff': 133}. Best is trial 11 with value: 0.08663237270320305.\n"
     ]
    },
    {
     "name": "stdout",
     "output_type": "stream",
     "text": [
      "EvaluatorHoldout: Processed 5965 (100.0%) in 23.52 sec. Users per second: 254\n"
     ]
    },
    {
     "name": "stderr",
     "output_type": "stream",
     "text": [
      "[I 2023-07-25 08:13:07,044] Trial 13 finished with value: 0.07351252012400415 and parameters: {'cutoff': 130}. Best is trial 11 with value: 0.08663237270320305.\n"
     ]
    },
    {
     "name": "stdout",
     "output_type": "stream",
     "text": [
      "EvaluatorHoldout: Processed 5965 (100.0%) in 23.93 sec. Users per second: 249\n"
     ]
    },
    {
     "name": "stderr",
     "output_type": "stream",
     "text": [
      "[I 2023-07-25 08:13:31,520] Trial 14 finished with value: 0.08632899586210581 and parameters: {'cutoff': 29}. Best is trial 11 with value: 0.08663237270320305.\n"
     ]
    },
    {
     "name": "stdout",
     "output_type": "stream",
     "text": [
      "EvaluatorHoldout: Processed 5965 (100.0%) in 23.49 sec. Users per second: 254\n"
     ]
    },
    {
     "name": "stderr",
     "output_type": "stream",
     "text": [
      "[I 2023-07-25 08:13:55,586] Trial 15 finished with value: 0.07750047233198995 and parameters: {'cutoff': 75}. Best is trial 11 with value: 0.08663237270320305.\n"
     ]
    },
    {
     "name": "stdout",
     "output_type": "stream",
     "text": [
      "EvaluatorHoldout: Processed 5965 (100.0%) in 23.83 sec. Users per second: 250\n"
     ]
    },
    {
     "name": "stderr",
     "output_type": "stream",
     "text": [
      "[I 2023-07-25 08:14:19,962] Trial 16 finished with value: 0.08771658084860105 and parameters: {'cutoff': 24}. Best is trial 16 with value: 0.08771658084860105.\n"
     ]
    },
    {
     "name": "stdout",
     "output_type": "stream",
     "text": [
      "EvaluatorHoldout: Processed 5965 (100.0%) in 23.50 sec. Users per second: 254\n"
     ]
    },
    {
     "name": "stderr",
     "output_type": "stream",
     "text": [
      "[I 2023-07-25 08:14:44,031] Trial 17 finished with value: 0.07540875344270165 and parameters: {'cutoff': 99}. Best is trial 16 with value: 0.08771658084860105.\n"
     ]
    },
    {
     "name": "stdout",
     "output_type": "stream",
     "text": [
      "EvaluatorHoldout: Processed 5965 (100.0%) in 23.56 sec. Users per second: 253\n"
     ]
    },
    {
     "name": "stderr",
     "output_type": "stream",
     "text": [
      "[I 2023-07-25 08:15:08,198] Trial 18 finished with value: 0.07300315331497259 and parameters: {'cutoff': 142}. Best is trial 16 with value: 0.08771658084860105.\n"
     ]
    },
    {
     "name": "stdout",
     "output_type": "stream",
     "text": [
      "EvaluatorHoldout: Processed 5965 (100.0%) in 23.49 sec. Users per second: 254\n"
     ]
    },
    {
     "name": "stderr",
     "output_type": "stream",
     "text": [
      "[I 2023-07-25 08:15:32,259] Trial 19 finished with value: 0.07657886613712303 and parameters: {'cutoff': 85}. Best is trial 16 with value: 0.08771658084860105.\n"
     ]
    },
    {
     "name": "stdout",
     "output_type": "stream",
     "text": [
      "EvaluatorHoldout: Processed 5965 (100.0%) in 23.86 sec. Users per second: 250\n"
     ]
    },
    {
     "name": "stderr",
     "output_type": "stream",
     "text": [
      "[I 2023-07-25 08:15:56,661] Trial 20 finished with value: 0.08772704533056619 and parameters: {'cutoff': 24}. Best is trial 20 with value: 0.08772704533056619.\n"
     ]
    },
    {
     "name": "stdout",
     "output_type": "stream",
     "text": [
      "EvaluatorHoldout: Processed 5965 (100.0%) in 23.50 sec. Users per second: 254\n"
     ]
    },
    {
     "name": "stderr",
     "output_type": "stream",
     "text": [
      "[I 2023-07-25 08:16:20,765] Trial 21 finished with value: 0.0738434585345737 and parameters: {'cutoff': 119}. Best is trial 20 with value: 0.08772704533056619.\n"
     ]
    },
    {
     "name": "stdout",
     "output_type": "stream",
     "text": [
      "EvaluatorHoldout: Processed 5965 (100.0%) in 23.52 sec. Users per second: 254\n"
     ]
    },
    {
     "name": "stderr",
     "output_type": "stream",
     "text": [
      "[I 2023-07-25 08:16:44,884] Trial 22 finished with value: 0.07429014489282756 and parameters: {'cutoff': 117}. Best is trial 20 with value: 0.08772704533056619.\n"
     ]
    },
    {
     "name": "stdout",
     "output_type": "stream",
     "text": [
      "EvaluatorHoldout: Processed 5965 (100.0%) in 23.52 sec. Users per second: 254\n"
     ]
    },
    {
     "name": "stderr",
     "output_type": "stream",
     "text": [
      "[I 2023-07-25 08:17:08,987] Trial 23 finished with value: 0.0750194920102718 and parameters: {'cutoff': 100}. Best is trial 20 with value: 0.08772704533056619.\n"
     ]
    },
    {
     "name": "stdout",
     "output_type": "stream",
     "text": [
      "EvaluatorHoldout: Processed 5965 (100.0%) in 23.58 sec. Users per second: 253\n"
     ]
    },
    {
     "name": "stderr",
     "output_type": "stream",
     "text": [
      "[I 2023-07-25 08:17:33,199] Trial 24 finished with value: 0.07150585425564503 and parameters: {'cutoff': 197}. Best is trial 20 with value: 0.08772704533056619.\n"
     ]
    },
    {
     "name": "stdout",
     "output_type": "stream",
     "text": [
      "EvaluatorHoldout: Processed 5965 (100.0%) in 23.57 sec. Users per second: 253\n"
     ]
    },
    {
     "name": "stderr",
     "output_type": "stream",
     "text": [
      "[I 2023-07-25 08:17:57,392] Trial 25 finished with value: 0.07189127715908973 and parameters: {'cutoff': 165}. Best is trial 20 with value: 0.08772704533056619.\n"
     ]
    },
    {
     "name": "stdout",
     "output_type": "stream",
     "text": [
      "EvaluatorHoldout: Processed 5965 (100.0%) in 23.86 sec. Users per second: 250\n"
     ]
    },
    {
     "name": "stderr",
     "output_type": "stream",
     "text": [
      "[I 2023-07-25 08:18:21,805] Trial 26 finished with value: 0.0873706542130685 and parameters: {'cutoff': 26}. Best is trial 20 with value: 0.08772704533056619.\n"
     ]
    },
    {
     "name": "stdout",
     "output_type": "stream",
     "text": [
      "EvaluatorHoldout: Processed 5965 (100.0%) in 23.51 sec. Users per second: 254\n"
     ]
    },
    {
     "name": "stderr",
     "output_type": "stream",
     "text": [
      "[I 2023-07-25 08:18:45,909] Trial 27 finished with value: 0.07757216035338453 and parameters: {'cutoff': 73}. Best is trial 20 with value: 0.08772704533056619.\n"
     ]
    },
    {
     "name": "stdout",
     "output_type": "stream",
     "text": [
      "EvaluatorHoldout: Processed 5965 (100.0%) in 23.82 sec. Users per second: 250\n"
     ]
    },
    {
     "name": "stderr",
     "output_type": "stream",
     "text": [
      "[I 2023-07-25 08:19:10,291] Trial 28 finished with value: 0.0877421200388512 and parameters: {'cutoff': 24}. Best is trial 28 with value: 0.0877421200388512.\n"
     ]
    },
    {
     "name": "stdout",
     "output_type": "stream",
     "text": [
      "EvaluatorHoldout: Processed 5965 (100.0%) in 23.89 sec. Users per second: 250\n"
     ]
    },
    {
     "name": "stderr",
     "output_type": "stream",
     "text": [
      "[I 2023-07-25 08:19:34,723] Trial 29 finished with value: 0.0876383267472959 and parameters: {'cutoff': 24}. Best is trial 28 with value: 0.0877421200388512.\n"
     ]
    },
    {
     "name": "stdout",
     "output_type": "stream",
     "text": [
      "EvaluatorHoldout: Processed 5965 (100.0%) in 23.84 sec. Users per second: 250\n"
     ]
    },
    {
     "name": "stderr",
     "output_type": "stream",
     "text": [
      "[I 2023-07-25 08:19:59,150] Trial 30 finished with value: 0.08766913476762618 and parameters: {'cutoff': 24}. Best is trial 28 with value: 0.0877421200388512.\n"
     ]
    },
    {
     "name": "stdout",
     "output_type": "stream",
     "text": [
      "EvaluatorHoldout: Processed 5965 (100.0%) in 23.83 sec. Users per second: 250\n"
     ]
    },
    {
     "name": "stderr",
     "output_type": "stream",
     "text": [
      "[I 2023-07-25 08:20:23,551] Trial 31 finished with value: 0.08790932556313961 and parameters: {'cutoff': 24}. Best is trial 31 with value: 0.08790932556313961.\n"
     ]
    },
    {
     "name": "stdout",
     "output_type": "stream",
     "text": [
      "EvaluatorHoldout: Processed 5965 (100.0%) in 23.89 sec. Users per second: 250\n"
     ]
    },
    {
     "name": "stderr",
     "output_type": "stream",
     "text": [
      "[I 2023-07-25 08:20:48,005] Trial 32 finished with value: 0.08763327079923916 and parameters: {'cutoff': 24}. Best is trial 31 with value: 0.08790932556313961.\n"
     ]
    },
    {
     "name": "stdout",
     "output_type": "stream",
     "text": [
      "EvaluatorHoldout: Processed 5965 (100.0%) in 24.02 sec. Users per second: 248\n"
     ]
    },
    {
     "name": "stderr",
     "output_type": "stream",
     "text": [
      "[I 2023-07-25 08:21:12,735] Trial 33 finished with value: 0.0882344363283175 and parameters: {'cutoff': 24}. Best is trial 33 with value: 0.0882344363283175.\n"
     ]
    },
    {
     "name": "stdout",
     "output_type": "stream",
     "text": [
      "EvaluatorHoldout: Processed 5965 (100.0%) in 23.58 sec. Users per second: 253\n"
     ]
    },
    {
     "name": "stderr",
     "output_type": "stream",
     "text": [
      "[I 2023-07-25 08:21:36,951] Trial 34 finished with value: 0.07211568142205221 and parameters: {'cutoff': 167}. Best is trial 33 with value: 0.0882344363283175.\n"
     ]
    },
    {
     "name": "stdout",
     "output_type": "stream",
     "text": [
      "EvaluatorHoldout: Processed 5965 (100.0%) in 23.58 sec. Users per second: 253\n"
     ]
    },
    {
     "name": "stderr",
     "output_type": "stream",
     "text": [
      "[I 2023-07-25 08:22:01,171] Trial 35 finished with value: 0.07201603267739086 and parameters: {'cutoff': 181}. Best is trial 33 with value: 0.0882344363283175.\n"
     ]
    },
    {
     "name": "stdout",
     "output_type": "stream",
     "text": [
      "EvaluatorHoldout: Processed 5965 (100.0%) in 23.50 sec. Users per second: 254\n"
     ]
    },
    {
     "name": "stderr",
     "output_type": "stream",
     "text": [
      "[I 2023-07-25 08:22:25,236] Trial 36 finished with value: 0.0788345108370258 and parameters: {'cutoff': 66}. Best is trial 33 with value: 0.0882344363283175.\n"
     ]
    },
    {
     "name": "stdout",
     "output_type": "stream",
     "text": [
      "EvaluatorHoldout: Processed 5965 (100.0%) in 23.70 sec. Users per second: 252\n"
     ]
    },
    {
     "name": "stderr",
     "output_type": "stream",
     "text": [
      "[I 2023-07-25 08:22:49,479] Trial 37 finished with value: 0.09070169906464977 and parameters: {'cutoff': 17}. Best is trial 37 with value: 0.09070169906464977.\n"
     ]
    },
    {
     "name": "stdout",
     "output_type": "stream",
     "text": [
      "EvaluatorHoldout: Processed 5965 (100.0%) in 23.50 sec. Users per second: 254\n"
     ]
    },
    {
     "name": "stderr",
     "output_type": "stream",
     "text": [
      "[I 2023-07-25 08:23:13,563] Trial 38 finished with value: 0.07645729054404675 and parameters: {'cutoff': 84}. Best is trial 37 with value: 0.09070169906464977.\n"
     ]
    },
    {
     "name": "stdout",
     "output_type": "stream",
     "text": [
      "EvaluatorHoldout: Processed 5965 (100.0%) in 23.93 sec. Users per second: 249\n"
     ]
    },
    {
     "name": "stderr",
     "output_type": "stream",
     "text": [
      "[I 2023-07-25 08:23:38,047] Trial 39 finished with value: 0.08642472624702333 and parameters: {'cutoff': 27}. Best is trial 37 with value: 0.09070169906464977.\n"
     ]
    },
    {
     "name": "stdout",
     "output_type": "stream",
     "text": [
      "EvaluatorHoldout: Processed 5965 (100.0%) in 23.60 sec. Users per second: 253\n"
     ]
    },
    {
     "name": "stderr",
     "output_type": "stream",
     "text": [
      "[I 2023-07-25 08:24:02,180] Trial 40 finished with value: 0.09510719940393049 and parameters: {'cutoff': 10}. Best is trial 40 with value: 0.09510719940393049.\n"
     ]
    },
    {
     "name": "stdout",
     "output_type": "stream",
     "text": [
      "EvaluatorHoldout: Processed 5965 (100.0%) in 23.86 sec. Users per second: 250\n"
     ]
    },
    {
     "name": "stderr",
     "output_type": "stream",
     "text": [
      "[I 2023-07-25 08:24:26,663] Trial 41 finished with value: 0.0949807408294419 and parameters: {'cutoff': 10}. Best is trial 40 with value: 0.09510719940393049.\n"
     ]
    },
    {
     "name": "stdout",
     "output_type": "stream",
     "text": [
      "EvaluatorHoldout: Processed 5965 (100.0%) in 23.47 sec. Users per second: 254\n"
     ]
    },
    {
     "name": "stderr",
     "output_type": "stream",
     "text": [
      "[I 2023-07-25 08:24:50,719] Trial 42 finished with value: 0.07924195372477065 and parameters: {'cutoff': 61}. Best is trial 40 with value: 0.09510719940393049.\n"
     ]
    },
    {
     "name": "stdout",
     "output_type": "stream",
     "text": [
      "EvaluatorHoldout: Processed 5965 (100.0%) in 23.58 sec. Users per second: 253\n"
     ]
    },
    {
     "name": "stderr",
     "output_type": "stream",
     "text": [
      "[I 2023-07-25 08:25:14,958] Trial 43 finished with value: 0.07166345347862589 and parameters: {'cutoff': 194}. Best is trial 40 with value: 0.09510719940393049.\n"
     ]
    },
    {
     "name": "stdout",
     "output_type": "stream",
     "text": [
      "EvaluatorHoldout: Processed 5965 (100.0%) in 23.51 sec. Users per second: 254\n"
     ]
    },
    {
     "name": "stderr",
     "output_type": "stream",
     "text": [
      "[I 2023-07-25 08:25:39,079] Trial 44 finished with value: 0.07446216022033318 and parameters: {'cutoff': 112}. Best is trial 40 with value: 0.09510719940393049.\n"
     ]
    },
    {
     "name": "stdout",
     "output_type": "stream",
     "text": [
      "EvaluatorHoldout: Processed 5965 (100.0%) in 23.54 sec. Users per second: 253\n"
     ]
    },
    {
     "name": "stderr",
     "output_type": "stream",
     "text": [
      "[I 2023-07-25 08:26:03,155] Trial 45 finished with value: 0.09503014276400736 and parameters: {'cutoff': 10}. Best is trial 40 with value: 0.09510719940393049.\n"
     ]
    },
    {
     "name": "stdout",
     "output_type": "stream",
     "text": [
      "EvaluatorHoldout: Processed 5965 (100.0%) in 23.61 sec. Users per second: 253\n"
     ]
    },
    {
     "name": "stderr",
     "output_type": "stream",
     "text": [
      "[I 2023-07-25 08:26:27,300] Trial 46 finished with value: 0.09501657153501285 and parameters: {'cutoff': 10}. Best is trial 40 with value: 0.09510719940393049.\n"
     ]
    },
    {
     "name": "stdout",
     "output_type": "stream",
     "text": [
      "EvaluatorHoldout: Processed 5965 (100.0%) in 23.45 sec. Users per second: 254\n"
     ]
    },
    {
     "name": "stderr",
     "output_type": "stream",
     "text": [
      "[I 2023-07-25 08:26:51,319] Trial 47 finished with value: 0.08241366303436759 and parameters: {'cutoff': 42}. Best is trial 40 with value: 0.09510719940393049.\n"
     ]
    },
    {
     "name": "stdout",
     "output_type": "stream",
     "text": [
      "EvaluatorHoldout: Processed 5965 (100.0%) in 23.54 sec. Users per second: 253\n"
     ]
    },
    {
     "name": "stderr",
     "output_type": "stream",
     "text": [
      "[I 2023-07-25 08:27:15,406] Trial 48 finished with value: 0.0951572266794399 and parameters: {'cutoff': 10}. Best is trial 48 with value: 0.0951572266794399.\n"
     ]
    },
    {
     "name": "stdout",
     "output_type": "stream",
     "text": [
      "EvaluatorHoldout: Processed 5965 (100.0%) in 23.49 sec. Users per second: 254\n"
     ]
    },
    {
     "name": "stderr",
     "output_type": "stream",
     "text": [
      "[I 2023-07-25 08:27:39,489] Trial 49 finished with value: 0.07521622161018675 and parameters: {'cutoff': 103}. Best is trial 48 with value: 0.0951572266794399.\n"
     ]
    },
    {
     "name": "stdout",
     "output_type": "stream",
     "text": [
      "EvaluatorHoldout: Processed 5965 (100.0%) in 23.77 sec. Users per second: 251\n"
     ]
    }
   ],
   "source": [
    "inference_timesteps = {1,5,25,50}\n",
    "recommenders_instances = {itemKNNinstance, slim_rec, svd_rec}\n",
    "for traditional_rec in recommenders_instances:\n",
    "    for inference_timestep in inference_timesteps:\n",
    "        modelP.inference_timesteps = inference_timestep\n",
    "        two_level_rec1 = TwoLevelRec(URM_train=URM_train, recommender1= traditional_rec, recommender2=modelP)\n",
    "        print(two_level_rec1.RECOMMENDER_NAME)\n",
    "        # Define the hyperparameter space\n",
    "        two_levels_hyperparam_space = {\n",
    "            \"cutoff\": list(range(10, 200)),\n",
    "        }\n",
    "\n",
    "        # Create an objective function\n",
    "        objective = create_objective_d(recommender_instance=two_level_rec1, URM_train= URM_train, URM_validation=URM_validation, hyperparam_space=two_levels_hyperparam_space, evaluator_validation=evaluator_validation)\n",
    "\n",
    "        # Create the study and run optimization\n",
    "        study = optuna.create_study(direction=\"maximize\")\n",
    "        study.optimize(objective, n_trials=50)\n",
    "        \n",
    "        filename = \"best_models\" + str(inference_timestep) + \"_timesteps\" + \".csv\"\n",
    "        result_df, _ = evaluator_validation.evaluateRecommender(two_level_rec1)\n",
    "        result_df[\"RECOMMENDER\"] = two_level_rec1.RECOMMENDER_NAME\n",
    "        result_df[\"PARAMS\"] = str(study.best_params)\n",
    "\n",
    "        \n",
    "        # Check if file exists\n",
    "        if os.path.isfile(filename):\n",
    "            # If it exists, append without writing the header\n",
    "            pd.DataFrame(result_df.loc[10]).transpose().to_csv(filename, mode='a', header=False, index=False)\n",
    "        else:\n",
    "            # If it doesn't exist, create it, write the header\n",
    "            pd.DataFrame(result_df.loc[10]).transpose().to_csv(filename, mode='w', header=True, index=False)\n",
    "\n",
    "    \n",
    "\n",
    "    "
   ]
  },
  {
   "cell_type": "code",
   "execution_count": null,
   "metadata": {},
   "outputs": [],
   "source": [
    "OTTIMIZZA TWOLEVELS, RECOMMEND PER OGNI RECOMMENDER, COMPUT ITEM SCORE PER OGNI RECOMMENDER, PRODOTTO CARTESIANO \n"
   ]
  },
  {
   "cell_type": "code",
   "execution_count": null,
   "metadata": {},
   "outputs": [],
   "source": [
    "one_timestep_models = pd.read_csv(\"best_models1_timesteps.csv\")\n",
    "five_timestep_models = pd.read_csv(\"best_models5_timesteps.csv\")\n",
    "twenty_timestep_models = pd.read_csv(\"best_models25_timesteps.csv\")\n",
    "fifty_timestep_models = pd.read_csv(\"best_models50_timesteps.csv\")"
   ]
  },
  {
   "cell_type": "code",
   "execution_count": null,
   "metadata": {},
   "outputs": [
    {
     "data": {
      "text/html": [
       "<div>\n",
       "<style scoped>\n",
       "    .dataframe tbody tr th:only-of-type {\n",
       "        vertical-align: middle;\n",
       "    }\n",
       "\n",
       "    .dataframe tbody tr th {\n",
       "        vertical-align: top;\n",
       "    }\n",
       "\n",
       "    .dataframe thead th {\n",
       "        text-align: right;\n",
       "    }\n",
       "</style>\n",
       "<table border=\"1\" class=\"dataframe\">\n",
       "  <thead>\n",
       "    <tr style=\"text-align: right;\">\n",
       "      <th></th>\n",
       "      <th>PRECISION</th>\n",
       "      <th>PRECISION_RECALL_MIN_DEN</th>\n",
       "      <th>RECALL</th>\n",
       "      <th>MAP</th>\n",
       "      <th>MAP_MIN_DEN</th>\n",
       "      <th>MRR</th>\n",
       "      <th>NDCG</th>\n",
       "      <th>F1</th>\n",
       "      <th>HIT_RATE</th>\n",
       "      <th>ARHR_ALL_HITS</th>\n",
       "      <th>...</th>\n",
       "      <th>USERS_IN_GT</th>\n",
       "      <th>DIVERSITY_GINI</th>\n",
       "      <th>SHANNON_ENTROPY</th>\n",
       "      <th>RATIO_DIVERSITY_HERFINDAHL</th>\n",
       "      <th>RATIO_DIVERSITY_GINI</th>\n",
       "      <th>RATIO_SHANNON_ENTROPY</th>\n",
       "      <th>RATIO_AVERAGE_POPULARITY</th>\n",
       "      <th>RATIO_NOVELTY</th>\n",
       "      <th>RECOMMENDER</th>\n",
       "      <th>PARAMS</th>\n",
       "    </tr>\n",
       "  </thead>\n",
       "  <tbody>\n",
       "    <tr>\n",
       "      <th>0</th>\n",
       "      <td>0.180721</td>\n",
       "      <td>0.235964</td>\n",
       "      <td>0.160426</td>\n",
       "      <td>0.096488</td>\n",
       "      <td>0.119901</td>\n",
       "      <td>0.406777</td>\n",
       "      <td>0.211023</td>\n",
       "      <td>0.169970</td>\n",
       "      <td>0.759933</td>\n",
       "      <td>0.616304</td>\n",
       "      <td>...</td>\n",
       "      <td>0.987583</td>\n",
       "      <td>0.056724</td>\n",
       "      <td>8.192917</td>\n",
       "      <td>0.995638</td>\n",
       "      <td>0.162209</td>\n",
       "      <td>0.757694</td>\n",
       "      <td>1.674852</td>\n",
       "      <td>0.065874</td>\n",
       "      <td>DiffusionAutoencoderRecommender_PureSVDRecomme...</td>\n",
       "      <td>{'cutoff': 13}</td>\n",
       "    </tr>\n",
       "    <tr>\n",
       "      <th>1</th>\n",
       "      <td>0.179581</td>\n",
       "      <td>0.235790</td>\n",
       "      <td>0.160184</td>\n",
       "      <td>0.093786</td>\n",
       "      <td>0.117072</td>\n",
       "      <td>0.397288</td>\n",
       "      <td>0.201674</td>\n",
       "      <td>0.169329</td>\n",
       "      <td>0.760771</td>\n",
       "      <td>0.599643</td>\n",
       "      <td>...</td>\n",
       "      <td>0.987583</td>\n",
       "      <td>0.059448</td>\n",
       "      <td>8.235371</td>\n",
       "      <td>0.995443</td>\n",
       "      <td>0.169998</td>\n",
       "      <td>0.761620</td>\n",
       "      <td>1.686815</td>\n",
       "      <td>0.065955</td>\n",
       "      <td>DiffusionAutoencoderRecommender_ItemKNNCFRecom...</td>\n",
       "      <td>{'cutoff': 13}</td>\n",
       "    </tr>\n",
       "    <tr>\n",
       "      <th>2</th>\n",
       "      <td>0.184761</td>\n",
       "      <td>0.241991</td>\n",
       "      <td>0.163945</td>\n",
       "      <td>0.100365</td>\n",
       "      <td>0.125150</td>\n",
       "      <td>0.416621</td>\n",
       "      <td>0.220698</td>\n",
       "      <td>0.173731</td>\n",
       "      <td>0.765968</td>\n",
       "      <td>0.635297</td>\n",
       "      <td>...</td>\n",
       "      <td>0.987583</td>\n",
       "      <td>0.048152</td>\n",
       "      <td>7.935934</td>\n",
       "      <td>0.994302</td>\n",
       "      <td>0.137697</td>\n",
       "      <td>0.733928</td>\n",
       "      <td>1.796585</td>\n",
       "      <td>0.065110</td>\n",
       "      <td>DiffusionAutoencoderRecommender_SLIMElasticNet...</td>\n",
       "      <td>{'cutoff': 20}</td>\n",
       "    </tr>\n",
       "    <tr>\n",
       "      <th>3</th>\n",
       "      <td>0.178189</td>\n",
       "      <td>0.233575</td>\n",
       "      <td>0.158938</td>\n",
       "      <td>0.095191</td>\n",
       "      <td>0.120165</td>\n",
       "      <td>0.409657</td>\n",
       "      <td>0.211265</td>\n",
       "      <td>0.168014</td>\n",
       "      <td>0.761609</td>\n",
       "      <td>0.613939</td>\n",
       "      <td>...</td>\n",
       "      <td>0.987583</td>\n",
       "      <td>0.056370</td>\n",
       "      <td>8.161026</td>\n",
       "      <td>0.995208</td>\n",
       "      <td>0.161198</td>\n",
       "      <td>0.754745</td>\n",
       "      <td>1.701651</td>\n",
       "      <td>0.065820</td>\n",
       "      <td>PureSVDRecommender_DiffusionAutoencoderRecomme...</td>\n",
       "      <td>{'cutoff': 22}</td>\n",
       "    </tr>\n",
       "    <tr>\n",
       "      <th>4</th>\n",
       "      <td>0.180151</td>\n",
       "      <td>0.235860</td>\n",
       "      <td>0.160694</td>\n",
       "      <td>0.096075</td>\n",
       "      <td>0.120982</td>\n",
       "      <td>0.408076</td>\n",
       "      <td>0.211822</td>\n",
       "      <td>0.169867</td>\n",
       "      <td>0.762615</td>\n",
       "      <td>0.615499</td>\n",
       "      <td>...</td>\n",
       "      <td>0.987583</td>\n",
       "      <td>0.057172</td>\n",
       "      <td>8.177789</td>\n",
       "      <td>0.995205</td>\n",
       "      <td>0.163492</td>\n",
       "      <td>0.756295</td>\n",
       "      <td>1.704953</td>\n",
       "      <td>0.065821</td>\n",
       "      <td>ItemKNNCFRecommender_DiffusionAutoencoderRecom...</td>\n",
       "      <td>{'cutoff': 42}</td>\n",
       "    </tr>\n",
       "    <tr>\n",
       "      <th>5</th>\n",
       "      <td>0.178340</td>\n",
       "      <td>0.233080</td>\n",
       "      <td>0.158249</td>\n",
       "      <td>0.095295</td>\n",
       "      <td>0.119996</td>\n",
       "      <td>0.408006</td>\n",
       "      <td>0.210557</td>\n",
       "      <td>0.167695</td>\n",
       "      <td>0.759095</td>\n",
       "      <td>0.613132</td>\n",
       "      <td>...</td>\n",
       "      <td>0.987583</td>\n",
       "      <td>0.055475</td>\n",
       "      <td>8.133980</td>\n",
       "      <td>0.995061</td>\n",
       "      <td>0.158637</td>\n",
       "      <td>0.752243</td>\n",
       "      <td>1.716040</td>\n",
       "      <td>0.065728</td>\n",
       "      <td>SLIMElasticNetRecommender_DiffusionAutoencoder...</td>\n",
       "      <td>{'cutoff': 16}</td>\n",
       "    </tr>\n",
       "  </tbody>\n",
       "</table>\n",
       "<p>6 rows × 29 columns</p>\n",
       "</div>"
      ],
      "text/plain": [
       "   PRECISION  PRECISION_RECALL_MIN_DEN    RECALL       MAP  MAP_MIN_DEN  \\\n",
       "0   0.180721                  0.235964  0.160426  0.096488     0.119901   \n",
       "1   0.179581                  0.235790  0.160184  0.093786     0.117072   \n",
       "2   0.184761                  0.241991  0.163945  0.100365     0.125150   \n",
       "3   0.178189                  0.233575  0.158938  0.095191     0.120165   \n",
       "4   0.180151                  0.235860  0.160694  0.096075     0.120982   \n",
       "5   0.178340                  0.233080  0.158249  0.095295     0.119996   \n",
       "\n",
       "        MRR      NDCG        F1  HIT_RATE  ARHR_ALL_HITS  ...  USERS_IN_GT  \\\n",
       "0  0.406777  0.211023  0.169970  0.759933       0.616304  ...     0.987583   \n",
       "1  0.397288  0.201674  0.169329  0.760771       0.599643  ...     0.987583   \n",
       "2  0.416621  0.220698  0.173731  0.765968       0.635297  ...     0.987583   \n",
       "3  0.409657  0.211265  0.168014  0.761609       0.613939  ...     0.987583   \n",
       "4  0.408076  0.211822  0.169867  0.762615       0.615499  ...     0.987583   \n",
       "5  0.408006  0.210557  0.167695  0.759095       0.613132  ...     0.987583   \n",
       "\n",
       "   DIVERSITY_GINI  SHANNON_ENTROPY  RATIO_DIVERSITY_HERFINDAHL  \\\n",
       "0        0.056724         8.192917                    0.995638   \n",
       "1        0.059448         8.235371                    0.995443   \n",
       "2        0.048152         7.935934                    0.994302   \n",
       "3        0.056370         8.161026                    0.995208   \n",
       "4        0.057172         8.177789                    0.995205   \n",
       "5        0.055475         8.133980                    0.995061   \n",
       "\n",
       "   RATIO_DIVERSITY_GINI  RATIO_SHANNON_ENTROPY  RATIO_AVERAGE_POPULARITY  \\\n",
       "0              0.162209               0.757694                  1.674852   \n",
       "1              0.169998               0.761620                  1.686815   \n",
       "2              0.137697               0.733928                  1.796585   \n",
       "3              0.161198               0.754745                  1.701651   \n",
       "4              0.163492               0.756295                  1.704953   \n",
       "5              0.158637               0.752243                  1.716040   \n",
       "\n",
       "   RATIO_NOVELTY                                        RECOMMENDER  \\\n",
       "0       0.065874  DiffusionAutoencoderRecommender_PureSVDRecomme...   \n",
       "1       0.065955  DiffusionAutoencoderRecommender_ItemKNNCFRecom...   \n",
       "2       0.065110  DiffusionAutoencoderRecommender_SLIMElasticNet...   \n",
       "3       0.065820  PureSVDRecommender_DiffusionAutoencoderRecomme...   \n",
       "4       0.065821  ItemKNNCFRecommender_DiffusionAutoencoderRecom...   \n",
       "5       0.065728  SLIMElasticNetRecommender_DiffusionAutoencoder...   \n",
       "\n",
       "           PARAMS  \n",
       "0  {'cutoff': 13}  \n",
       "1  {'cutoff': 13}  \n",
       "2  {'cutoff': 20}  \n",
       "3  {'cutoff': 22}  \n",
       "4  {'cutoff': 42}  \n",
       "5  {'cutoff': 16}  \n",
       "\n",
       "[6 rows x 29 columns]"
      ]
     },
     "execution_count": 113,
     "metadata": {},
     "output_type": "execute_result"
    }
   ],
   "source": [
    "one_timestep_models[\"AVERAGE_POPULARITY\"]"
   ]
  },
  {
   "cell_type": "code",
   "execution_count": null,
   "metadata": {},
   "outputs": [
    {
     "data": {
      "text/html": [
       "<div>\n",
       "<style scoped>\n",
       "    .dataframe tbody tr th:only-of-type {\n",
       "        vertical-align: middle;\n",
       "    }\n",
       "\n",
       "    .dataframe tbody tr th {\n",
       "        vertical-align: top;\n",
       "    }\n",
       "\n",
       "    .dataframe thead th {\n",
       "        text-align: right;\n",
       "    }\n",
       "</style>\n",
       "<table border=\"1\" class=\"dataframe\">\n",
       "  <thead>\n",
       "    <tr style=\"text-align: right;\">\n",
       "      <th></th>\n",
       "      <th>RECOMMENDER</th>\n",
       "      <th>PARAMS</th>\n",
       "      <th>MAP</th>\n",
       "      <th>PRECISION</th>\n",
       "      <th>NDCG</th>\n",
       "      <th>RATIO_NOVELTY</th>\n",
       "      <th>DIVERSITY_MEAN_INTER_LIST</th>\n",
       "      <th>DIVERSITY_GINI</th>\n",
       "      <th>COVERAGE_ITEM</th>\n",
       "      <th>AVERAGE_POPULARITY</th>\n",
       "    </tr>\n",
       "  </thead>\n",
       "  <tbody>\n",
       "    <tr>\n",
       "      <th>0</th>\n",
       "      <td>DiffusionAutoencoderRecommender_PureSVDRecomme...</td>\n",
       "      <td>{'cutoff': 13}</td>\n",
       "      <td>0.096488</td>\n",
       "      <td>0.180721</td>\n",
       "      <td>0.211023</td>\n",
       "      <td>0.065874</td>\n",
       "      <td>0.948406</td>\n",
       "      <td>0.056724</td>\n",
       "      <td>0.204996</td>\n",
       "      <td>0.462654</td>\n",
       "    </tr>\n",
       "    <tr>\n",
       "      <th>1</th>\n",
       "      <td>DiffusionAutoencoderRecommender_ItemKNNCFRecom...</td>\n",
       "      <td>{'cutoff': 13}</td>\n",
       "      <td>0.093786</td>\n",
       "      <td>0.179581</td>\n",
       "      <td>0.201674</td>\n",
       "      <td>0.065955</td>\n",
       "      <td>0.946452</td>\n",
       "      <td>0.059448</td>\n",
       "      <td>0.221736</td>\n",
       "      <td>0.465959</td>\n",
       "    </tr>\n",
       "    <tr>\n",
       "      <th>2</th>\n",
       "      <td>DiffusionAutoencoderRecommender_SLIMElasticNet...</td>\n",
       "      <td>{'cutoff': 20}</td>\n",
       "      <td>0.100365</td>\n",
       "      <td>0.184761</td>\n",
       "      <td>0.220698</td>\n",
       "      <td>0.065110</td>\n",
       "      <td>0.935050</td>\n",
       "      <td>0.048152</td>\n",
       "      <td>0.185424</td>\n",
       "      <td>0.496281</td>\n",
       "    </tr>\n",
       "    <tr>\n",
       "      <th>3</th>\n",
       "      <td>PureSVDRecommender_DiffusionAutoencoderRecomme...</td>\n",
       "      <td>{'cutoff': 22}</td>\n",
       "      <td>0.095191</td>\n",
       "      <td>0.178189</td>\n",
       "      <td>0.211265</td>\n",
       "      <td>0.065820</td>\n",
       "      <td>0.944104</td>\n",
       "      <td>0.056370</td>\n",
       "      <td>0.210662</td>\n",
       "      <td>0.470057</td>\n",
       "    </tr>\n",
       "    <tr>\n",
       "      <th>4</th>\n",
       "      <td>ItemKNNCFRecommender_DiffusionAutoencoderRecom...</td>\n",
       "      <td>{'cutoff': 42}</td>\n",
       "      <td>0.096075</td>\n",
       "      <td>0.180151</td>\n",
       "      <td>0.211822</td>\n",
       "      <td>0.065821</td>\n",
       "      <td>0.944077</td>\n",
       "      <td>0.057172</td>\n",
       "      <td>0.224569</td>\n",
       "      <td>0.470969</td>\n",
       "    </tr>\n",
       "    <tr>\n",
       "      <th>5</th>\n",
       "      <td>SLIMElasticNetRecommender_DiffusionAutoencoder...</td>\n",
       "      <td>{'cutoff': 16}</td>\n",
       "      <td>0.095295</td>\n",
       "      <td>0.178340</td>\n",
       "      <td>0.210557</td>\n",
       "      <td>0.065728</td>\n",
       "      <td>0.942636</td>\n",
       "      <td>0.055475</td>\n",
       "      <td>0.204739</td>\n",
       "      <td>0.474032</td>\n",
       "    </tr>\n",
       "  </tbody>\n",
       "</table>\n",
       "</div>"
      ],
      "text/plain": [
       "                                         RECOMMENDER          PARAMS  \\\n",
       "0  DiffusionAutoencoderRecommender_PureSVDRecomme...  {'cutoff': 13}   \n",
       "1  DiffusionAutoencoderRecommender_ItemKNNCFRecom...  {'cutoff': 13}   \n",
       "2  DiffusionAutoencoderRecommender_SLIMElasticNet...  {'cutoff': 20}   \n",
       "3  PureSVDRecommender_DiffusionAutoencoderRecomme...  {'cutoff': 22}   \n",
       "4  ItemKNNCFRecommender_DiffusionAutoencoderRecom...  {'cutoff': 42}   \n",
       "5  SLIMElasticNetRecommender_DiffusionAutoencoder...  {'cutoff': 16}   \n",
       "\n",
       "        MAP  PRECISION      NDCG  RATIO_NOVELTY  DIVERSITY_MEAN_INTER_LIST  \\\n",
       "0  0.096488   0.180721  0.211023       0.065874                   0.948406   \n",
       "1  0.093786   0.179581  0.201674       0.065955                   0.946452   \n",
       "2  0.100365   0.184761  0.220698       0.065110                   0.935050   \n",
       "3  0.095191   0.178189  0.211265       0.065820                   0.944104   \n",
       "4  0.096075   0.180151  0.211822       0.065821                   0.944077   \n",
       "5  0.095295   0.178340  0.210557       0.065728                   0.942636   \n",
       "\n",
       "   DIVERSITY_GINI  COVERAGE_ITEM  AVERAGE_POPULARITY  \n",
       "0        0.056724       0.204996            0.462654  \n",
       "1        0.059448       0.221736            0.465959  \n",
       "2        0.048152       0.185424            0.496281  \n",
       "3        0.056370       0.210662            0.470057  \n",
       "4        0.057172       0.224569            0.470969  \n",
       "5        0.055475       0.204739            0.474032  "
      ]
     },
     "execution_count": 122,
     "metadata": {},
     "output_type": "execute_result"
    }
   ],
   "source": [
    "one_timestep_models[[\"RECOMMENDER\",\"PARAMS\",\"MAP\",\"PRECISION\", \"NDCG\", \"RATIO_NOVELTY\",\"DIVERSITY_MEAN_INTER_LIST\", \"DIVERSITY_GINI\",\"COVERAGE_ITEM\", \"AVERAGE_POPULARITY\"]]"
   ]
  },
  {
   "cell_type": "code",
   "execution_count": null,
   "metadata": {},
   "outputs": [
    {
     "data": {
      "text/html": [
       "<div>\n",
       "<style scoped>\n",
       "    .dataframe tbody tr th:only-of-type {\n",
       "        vertical-align: middle;\n",
       "    }\n",
       "\n",
       "    .dataframe tbody tr th {\n",
       "        vertical-align: top;\n",
       "    }\n",
       "\n",
       "    .dataframe thead th {\n",
       "        text-align: right;\n",
       "    }\n",
       "</style>\n",
       "<table border=\"1\" class=\"dataframe\">\n",
       "  <thead>\n",
       "    <tr style=\"text-align: right;\">\n",
       "      <th></th>\n",
       "      <th>RECOMMENDER</th>\n",
       "      <th>PARAMS</th>\n",
       "      <th>MAP</th>\n",
       "      <th>PRECISION</th>\n",
       "      <th>NDCG</th>\n",
       "      <th>RATIO_NOVELTY</th>\n",
       "      <th>DIVERSITY_MEAN_INTER_LIST</th>\n",
       "      <th>DIVERSITY_GINI</th>\n",
       "      <th>COVERAGE_ITEM</th>\n",
       "      <th>AVERAGE_POPULARITY</th>\n",
       "    </tr>\n",
       "  </thead>\n",
       "  <tbody>\n",
       "    <tr>\n",
       "      <th>0</th>\n",
       "      <td>DiffusionAutoencoderRecommender_PureSVDRecomme...</td>\n",
       "      <td>{'cutoff': 178}</td>\n",
       "      <td>0.095931</td>\n",
       "      <td>0.179296</td>\n",
       "      <td>0.209406</td>\n",
       "      <td>0.065354</td>\n",
       "      <td>0.942334</td>\n",
       "      <td>0.048672</td>\n",
       "      <td>0.166366</td>\n",
       "      <td>0.479033</td>\n",
       "    </tr>\n",
       "    <tr>\n",
       "      <th>1</th>\n",
       "      <td>DiffusionAutoencoderRecommender_ItemKNNCFRecom...</td>\n",
       "      <td>{'cutoff': 15}</td>\n",
       "      <td>0.089773</td>\n",
       "      <td>0.172741</td>\n",
       "      <td>0.191912</td>\n",
       "      <td>0.066148</td>\n",
       "      <td>0.948080</td>\n",
       "      <td>0.060586</td>\n",
       "      <td>0.221221</td>\n",
       "      <td>0.459491</td>\n",
       "    </tr>\n",
       "    <tr>\n",
       "      <th>2</th>\n",
       "      <td>DiffusionAutoencoderRecommender_SLIMElasticNet...</td>\n",
       "      <td>{'cutoff': 37}</td>\n",
       "      <td>0.099378</td>\n",
       "      <td>0.183085</td>\n",
       "      <td>0.218716</td>\n",
       "      <td>0.065000</td>\n",
       "      <td>0.932713</td>\n",
       "      <td>0.046905</td>\n",
       "      <td>0.182848</td>\n",
       "      <td>0.501109</td>\n",
       "    </tr>\n",
       "    <tr>\n",
       "      <th>3</th>\n",
       "      <td>PureSVDRecommender_DiffusionAutoencoderRecomme...</td>\n",
       "      <td>{'cutoff': 12}</td>\n",
       "      <td>0.094864</td>\n",
       "      <td>0.179447</td>\n",
       "      <td>0.207514</td>\n",
       "      <td>0.065627</td>\n",
       "      <td>0.946691</td>\n",
       "      <td>0.052534</td>\n",
       "      <td>0.175637</td>\n",
       "      <td>0.468937</td>\n",
       "    </tr>\n",
       "    <tr>\n",
       "      <th>4</th>\n",
       "      <td>ItemKNNCFRecommender_DiffusionAutoencoderRecom...</td>\n",
       "      <td>{'cutoff': 34}</td>\n",
       "      <td>0.091535</td>\n",
       "      <td>0.172607</td>\n",
       "      <td>0.201418</td>\n",
       "      <td>0.065928</td>\n",
       "      <td>0.943926</td>\n",
       "      <td>0.056841</td>\n",
       "      <td>0.213752</td>\n",
       "      <td>0.468033</td>\n",
       "    </tr>\n",
       "    <tr>\n",
       "      <th>5</th>\n",
       "      <td>SLIMElasticNetRecommender_DiffusionAutoencoder...</td>\n",
       "      <td>{'cutoff': 18}</td>\n",
       "      <td>0.091172</td>\n",
       "      <td>0.171769</td>\n",
       "      <td>0.199946</td>\n",
       "      <td>0.065817</td>\n",
       "      <td>0.942483</td>\n",
       "      <td>0.055193</td>\n",
       "      <td>0.199330</td>\n",
       "      <td>0.471577</td>\n",
       "    </tr>\n",
       "  </tbody>\n",
       "</table>\n",
       "</div>"
      ],
      "text/plain": [
       "                                         RECOMMENDER           PARAMS  \\\n",
       "0  DiffusionAutoencoderRecommender_PureSVDRecomme...  {'cutoff': 178}   \n",
       "1  DiffusionAutoencoderRecommender_ItemKNNCFRecom...   {'cutoff': 15}   \n",
       "2  DiffusionAutoencoderRecommender_SLIMElasticNet...   {'cutoff': 37}   \n",
       "3  PureSVDRecommender_DiffusionAutoencoderRecomme...   {'cutoff': 12}   \n",
       "4  ItemKNNCFRecommender_DiffusionAutoencoderRecom...   {'cutoff': 34}   \n",
       "5  SLIMElasticNetRecommender_DiffusionAutoencoder...   {'cutoff': 18}   \n",
       "\n",
       "        MAP  PRECISION      NDCG  RATIO_NOVELTY  DIVERSITY_MEAN_INTER_LIST  \\\n",
       "0  0.095931   0.179296  0.209406       0.065354                   0.942334   \n",
       "1  0.089773   0.172741  0.191912       0.066148                   0.948080   \n",
       "2  0.099378   0.183085  0.218716       0.065000                   0.932713   \n",
       "3  0.094864   0.179447  0.207514       0.065627                   0.946691   \n",
       "4  0.091535   0.172607  0.201418       0.065928                   0.943926   \n",
       "5  0.091172   0.171769  0.199946       0.065817                   0.942483   \n",
       "\n",
       "   DIVERSITY_GINI  COVERAGE_ITEM  AVERAGE_POPULARITY  \n",
       "0        0.048672       0.166366            0.479033  \n",
       "1        0.060586       0.221221            0.459491  \n",
       "2        0.046905       0.182848            0.501109  \n",
       "3        0.052534       0.175637            0.468937  \n",
       "4        0.056841       0.213752            0.468033  \n",
       "5        0.055193       0.199330            0.471577  "
      ]
     },
     "execution_count": 123,
     "metadata": {},
     "output_type": "execute_result"
    }
   ],
   "source": [
    "five_timestep_models[[\"RECOMMENDER\",\"PARAMS\",\"MAP\",\"PRECISION\", \"NDCG\", \"RATIO_NOVELTY\",\"DIVERSITY_MEAN_INTER_LIST\", \"DIVERSITY_GINI\",\"COVERAGE_ITEM\", \"AVERAGE_POPULARITY\"]]"
   ]
  },
  {
   "cell_type": "code",
   "execution_count": null,
   "metadata": {},
   "outputs": [
    {
     "data": {
      "text/html": [
       "<div>\n",
       "<style scoped>\n",
       "    .dataframe tbody tr th:only-of-type {\n",
       "        vertical-align: middle;\n",
       "    }\n",
       "\n",
       "    .dataframe tbody tr th {\n",
       "        vertical-align: top;\n",
       "    }\n",
       "\n",
       "    .dataframe thead th {\n",
       "        text-align: right;\n",
       "    }\n",
       "</style>\n",
       "<table border=\"1\" class=\"dataframe\">\n",
       "  <thead>\n",
       "    <tr style=\"text-align: right;\">\n",
       "      <th></th>\n",
       "      <th>RECOMMENDER</th>\n",
       "      <th>PARAMS</th>\n",
       "      <th>MAP</th>\n",
       "      <th>PRECISION</th>\n",
       "      <th>NDCG</th>\n",
       "      <th>RATIO_NOVELTY</th>\n",
       "      <th>DIVERSITY_MEAN_INTER_LIST</th>\n",
       "      <th>DIVERSITY_GINI</th>\n",
       "      <th>COVERAGE_ITEM</th>\n",
       "      <th>AVERAGE_POPULARITY</th>\n",
       "    </tr>\n",
       "  </thead>\n",
       "  <tbody>\n",
       "    <tr>\n",
       "      <th>0</th>\n",
       "      <td>DiffusionAutoencoderRecommender_PureSVDRecomme...</td>\n",
       "      <td>{'cutoff': 183}</td>\n",
       "      <td>0.093628</td>\n",
       "      <td>0.175926</td>\n",
       "      <td>0.206198</td>\n",
       "      <td>0.065621</td>\n",
       "      <td>0.946414</td>\n",
       "      <td>0.052778</td>\n",
       "      <td>0.178213</td>\n",
       "      <td>0.469196</td>\n",
       "    </tr>\n",
       "    <tr>\n",
       "      <th>1</th>\n",
       "      <td>DiffusionAutoencoderRecommender_ItemKNNCFRecom...</td>\n",
       "      <td>{'cutoff': 169}</td>\n",
       "      <td>0.083405</td>\n",
       "      <td>0.161023</td>\n",
       "      <td>0.175489</td>\n",
       "      <td>0.067359</td>\n",
       "      <td>0.957020</td>\n",
       "      <td>0.079874</td>\n",
       "      <td>0.318826</td>\n",
       "      <td>0.420642</td>\n",
       "    </tr>\n",
       "    <tr>\n",
       "      <th>2</th>\n",
       "      <td>DiffusionAutoencoderRecommender_SLIMElasticNet...</td>\n",
       "      <td>{'cutoff': 178}</td>\n",
       "      <td>0.096221</td>\n",
       "      <td>0.178826</td>\n",
       "      <td>0.214674</td>\n",
       "      <td>0.065018</td>\n",
       "      <td>0.931743</td>\n",
       "      <td>0.047013</td>\n",
       "      <td>0.185681</td>\n",
       "      <td>0.500793</td>\n",
       "    </tr>\n",
       "    <tr>\n",
       "      <th>3</th>\n",
       "      <td>PureSVDRecommender_DiffusionAutoencoderRecomme...</td>\n",
       "      <td>{'cutoff': 18}</td>\n",
       "      <td>0.072345</td>\n",
       "      <td>0.144761</td>\n",
       "      <td>0.167674</td>\n",
       "      <td>0.067290</td>\n",
       "      <td>0.956352</td>\n",
       "      <td>0.065937</td>\n",
       "      <td>0.211434</td>\n",
       "      <td>0.419393</td>\n",
       "    </tr>\n",
       "    <tr>\n",
       "      <th>4</th>\n",
       "      <td>ItemKNNCFRecommender_DiffusionAutoencoderRecom...</td>\n",
       "      <td>{'cutoff': 15}</td>\n",
       "      <td>0.077298</td>\n",
       "      <td>0.154099</td>\n",
       "      <td>0.174915</td>\n",
       "      <td>0.067045</td>\n",
       "      <td>0.955826</td>\n",
       "      <td>0.067058</td>\n",
       "      <td>0.232037</td>\n",
       "      <td>0.427453</td>\n",
       "    </tr>\n",
       "    <tr>\n",
       "      <th>5</th>\n",
       "      <td>SLIMElasticNetRecommender_DiffusionAutoencoder...</td>\n",
       "      <td>{'cutoff': 10}</td>\n",
       "      <td>0.074930</td>\n",
       "      <td>0.149992</td>\n",
       "      <td>0.171637</td>\n",
       "      <td>0.066818</td>\n",
       "      <td>0.953447</td>\n",
       "      <td>0.062175</td>\n",
       "      <td>0.195725</td>\n",
       "      <td>0.433092</td>\n",
       "    </tr>\n",
       "  </tbody>\n",
       "</table>\n",
       "</div>"
      ],
      "text/plain": [
       "                                         RECOMMENDER           PARAMS  \\\n",
       "0  DiffusionAutoencoderRecommender_PureSVDRecomme...  {'cutoff': 183}   \n",
       "1  DiffusionAutoencoderRecommender_ItemKNNCFRecom...  {'cutoff': 169}   \n",
       "2  DiffusionAutoencoderRecommender_SLIMElasticNet...  {'cutoff': 178}   \n",
       "3  PureSVDRecommender_DiffusionAutoencoderRecomme...   {'cutoff': 18}   \n",
       "4  ItemKNNCFRecommender_DiffusionAutoencoderRecom...   {'cutoff': 15}   \n",
       "5  SLIMElasticNetRecommender_DiffusionAutoencoder...   {'cutoff': 10}   \n",
       "\n",
       "        MAP  PRECISION      NDCG  RATIO_NOVELTY  DIVERSITY_MEAN_INTER_LIST  \\\n",
       "0  0.093628   0.175926  0.206198       0.065621                   0.946414   \n",
       "1  0.083405   0.161023  0.175489       0.067359                   0.957020   \n",
       "2  0.096221   0.178826  0.214674       0.065018                   0.931743   \n",
       "3  0.072345   0.144761  0.167674       0.067290                   0.956352   \n",
       "4  0.077298   0.154099  0.174915       0.067045                   0.955826   \n",
       "5  0.074930   0.149992  0.171637       0.066818                   0.953447   \n",
       "\n",
       "   DIVERSITY_GINI  COVERAGE_ITEM  AVERAGE_POPULARITY  \n",
       "0        0.052778       0.178213            0.469196  \n",
       "1        0.079874       0.318826            0.420642  \n",
       "2        0.047013       0.185681            0.500793  \n",
       "3        0.065937       0.211434            0.419393  \n",
       "4        0.067058       0.232037            0.427453  \n",
       "5        0.062175       0.195725            0.433092  "
      ]
     },
     "execution_count": 124,
     "metadata": {},
     "output_type": "execute_result"
    }
   ],
   "source": [
    "twenty_timestep_models[[\"RECOMMENDER\",\"PARAMS\",\"MAP\",\"PRECISION\", \"NDCG\", \"RATIO_NOVELTY\",\"DIVERSITY_MEAN_INTER_LIST\", \"DIVERSITY_GINI\",\"COVERAGE_ITEM\", \"AVERAGE_POPULARITY\"]]"
   ]
  },
  {
   "cell_type": "code",
   "execution_count": null,
   "metadata": {},
   "outputs": [
    {
     "data": {
      "text/html": [
       "<div>\n",
       "<style scoped>\n",
       "    .dataframe tbody tr th:only-of-type {\n",
       "        vertical-align: middle;\n",
       "    }\n",
       "\n",
       "    .dataframe tbody tr th {\n",
       "        vertical-align: top;\n",
       "    }\n",
       "\n",
       "    .dataframe thead th {\n",
       "        text-align: right;\n",
       "    }\n",
       "</style>\n",
       "<table border=\"1\" class=\"dataframe\">\n",
       "  <thead>\n",
       "    <tr style=\"text-align: right;\">\n",
       "      <th></th>\n",
       "      <th>RECOMMENDER</th>\n",
       "      <th>PARAMS</th>\n",
       "      <th>MAP</th>\n",
       "      <th>PRECISION</th>\n",
       "      <th>NDCG</th>\n",
       "      <th>RATIO_NOVELTY</th>\n",
       "      <th>DIVERSITY_MEAN_INTER_LIST</th>\n",
       "      <th>DIVERSITY_GINI</th>\n",
       "      <th>COVERAGE_ITEM</th>\n",
       "      <th>AVERAGE_POPULARITY</th>\n",
       "    </tr>\n",
       "  </thead>\n",
       "  <tbody>\n",
       "    <tr>\n",
       "      <th>0</th>\n",
       "      <td>DiffusionAutoencoderRecommender_PureSVDRecomme...</td>\n",
       "      <td>{'cutoff': 197}</td>\n",
       "      <td>0.080997</td>\n",
       "      <td>0.153412</td>\n",
       "      <td>0.175976</td>\n",
       "      <td>0.066598</td>\n",
       "      <td>0.957797</td>\n",
       "      <td>0.063390</td>\n",
       "      <td>0.193922</td>\n",
       "      <td>0.428622</td>\n",
       "    </tr>\n",
       "    <tr>\n",
       "      <th>1</th>\n",
       "      <td>DiffusionAutoencoderRecommender_ItemKNNCFRecom...</td>\n",
       "      <td>{'cutoff': 197}</td>\n",
       "      <td>0.072604</td>\n",
       "      <td>0.141174</td>\n",
       "      <td>0.150886</td>\n",
       "      <td>0.067896</td>\n",
       "      <td>0.962150</td>\n",
       "      <td>0.082741</td>\n",
       "      <td>0.302086</td>\n",
       "      <td>0.394895</td>\n",
       "    </tr>\n",
       "    <tr>\n",
       "      <th>2</th>\n",
       "      <td>DiffusionAutoencoderRecommender_SLIMElasticNet...</td>\n",
       "      <td>{'cutoff': 197}</td>\n",
       "      <td>0.083659</td>\n",
       "      <td>0.156798</td>\n",
       "      <td>0.183967</td>\n",
       "      <td>0.065972</td>\n",
       "      <td>0.947942</td>\n",
       "      <td>0.056376</td>\n",
       "      <td>0.192119</td>\n",
       "      <td>0.457588</td>\n",
       "    </tr>\n",
       "    <tr>\n",
       "      <th>3</th>\n",
       "      <td>PureSVDRecommender_DiffusionAutoencoderRecomme...</td>\n",
       "      <td>{'cutoff': 12}</td>\n",
       "      <td>0.045456</td>\n",
       "      <td>0.098826</td>\n",
       "      <td>0.104008</td>\n",
       "      <td>0.068728</td>\n",
       "      <td>0.959673</td>\n",
       "      <td>0.066808</td>\n",
       "      <td>0.203193</td>\n",
       "      <td>0.365793</td>\n",
       "    </tr>\n",
       "    <tr>\n",
       "      <th>4</th>\n",
       "      <td>ItemKNNCFRecommender_DiffusionAutoencoderRecom...</td>\n",
       "      <td>{'cutoff': 15}</td>\n",
       "      <td>0.058132</td>\n",
       "      <td>0.125834</td>\n",
       "      <td>0.127596</td>\n",
       "      <td>0.068127</td>\n",
       "      <td>0.963596</td>\n",
       "      <td>0.075913</td>\n",
       "      <td>0.255473</td>\n",
       "      <td>0.383433</td>\n",
       "    </tr>\n",
       "    <tr>\n",
       "      <th>5</th>\n",
       "      <td>SLIMElasticNetRecommender_DiffusionAutoencoder...</td>\n",
       "      <td>{'cutoff': 13}</td>\n",
       "      <td>0.043701</td>\n",
       "      <td>0.095373</td>\n",
       "      <td>0.100439</td>\n",
       "      <td>0.068220</td>\n",
       "      <td>0.955258</td>\n",
       "      <td>0.061891</td>\n",
       "      <td>0.188772</td>\n",
       "      <td>0.381021</td>\n",
       "    </tr>\n",
       "  </tbody>\n",
       "</table>\n",
       "</div>"
      ],
      "text/plain": [
       "                                         RECOMMENDER           PARAMS  \\\n",
       "0  DiffusionAutoencoderRecommender_PureSVDRecomme...  {'cutoff': 197}   \n",
       "1  DiffusionAutoencoderRecommender_ItemKNNCFRecom...  {'cutoff': 197}   \n",
       "2  DiffusionAutoencoderRecommender_SLIMElasticNet...  {'cutoff': 197}   \n",
       "3  PureSVDRecommender_DiffusionAutoencoderRecomme...   {'cutoff': 12}   \n",
       "4  ItemKNNCFRecommender_DiffusionAutoencoderRecom...   {'cutoff': 15}   \n",
       "5  SLIMElasticNetRecommender_DiffusionAutoencoder...   {'cutoff': 13}   \n",
       "\n",
       "        MAP  PRECISION      NDCG  RATIO_NOVELTY  DIVERSITY_MEAN_INTER_LIST  \\\n",
       "0  0.080997   0.153412  0.175976       0.066598                   0.957797   \n",
       "1  0.072604   0.141174  0.150886       0.067896                   0.962150   \n",
       "2  0.083659   0.156798  0.183967       0.065972                   0.947942   \n",
       "3  0.045456   0.098826  0.104008       0.068728                   0.959673   \n",
       "4  0.058132   0.125834  0.127596       0.068127                   0.963596   \n",
       "5  0.043701   0.095373  0.100439       0.068220                   0.955258   \n",
       "\n",
       "   DIVERSITY_GINI  COVERAGE_ITEM  AVERAGE_POPULARITY  \n",
       "0        0.063390       0.193922            0.428622  \n",
       "1        0.082741       0.302086            0.394895  \n",
       "2        0.056376       0.192119            0.457588  \n",
       "3        0.066808       0.203193            0.365793  \n",
       "4        0.075913       0.255473            0.383433  \n",
       "5        0.061891       0.188772            0.381021  "
      ]
     },
     "execution_count": 125,
     "metadata": {},
     "output_type": "execute_result"
    }
   ],
   "source": [
    "fifty_timestep_models[[\"RECOMMENDER\",\"PARAMS\",\"MAP\",\"PRECISION\", \"NDCG\", \"RATIO_NOVELTY\",\"DIVERSITY_MEAN_INTER_LIST\", \"DIVERSITY_GINI\",\"COVERAGE_ITEM\", \"AVERAGE_POPULARITY\"]]"
   ]
  }
 ],
 "metadata": {
  "kernelspec": {
   "display_name": "tesi",
   "language": "python",
   "name": "python3"
  },
  "language_info": {
   "codemirror_mode": {
    "name": "ipython",
    "version": 3
   },
   "file_extension": ".py",
   "mimetype": "text/x-python",
   "name": "python",
   "nbconvert_exporter": "python",
   "pygments_lexer": "ipython3",
   "version": "3.8.16"
  },
  "orig_nbformat": 4
 },
 "nbformat": 4,
 "nbformat_minor": 2
}
