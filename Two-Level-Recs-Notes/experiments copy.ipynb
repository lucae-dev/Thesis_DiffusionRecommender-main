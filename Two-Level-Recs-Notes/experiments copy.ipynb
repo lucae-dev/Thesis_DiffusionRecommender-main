{
 "cells": [
  {
   "cell_type": "code",
   "execution_count": 1,
   "metadata": {},
   "outputs": [
    {
     "ename": "ModuleNotFoundError",
     "evalue": "No module named 'Data_manager'",
     "output_type": "error",
     "traceback": [
      "\u001b[0;31m---------------------------------------------------------------------------\u001b[0m",
      "\u001b[0;31mModuleNotFoundError\u001b[0m                       Traceback (most recent call last)",
      "\u001b[1;32m/Users/lucaortolomo/Desktop/TESI/Thesis_DiffusionRecommender-main/Two-Level-Recs-Notes/experiments copy.ipynb Cell 1\u001b[0m line \u001b[0;36m1\n\u001b[0;32m----> <a href='vscode-notebook-cell:/Users/lucaortolomo/Desktop/TESI/Thesis_DiffusionRecommender-main/Two-Level-Recs-Notes/experiments%20copy.ipynb#W0sZmlsZQ%3D%3D?line=0'>1</a>\u001b[0m \u001b[39mfrom\u001b[39;00m \u001b[39mData_manager\u001b[39;00m\u001b[39m.\u001b[39;00m\u001b[39mDataSplitter_Holdout\u001b[39;00m \u001b[39mimport\u001b[39;00m DataSplitter_Holdout\n\u001b[1;32m      <a href='vscode-notebook-cell:/Users/lucaortolomo/Desktop/TESI/Thesis_DiffusionRecommender-main/Two-Level-Recs-Notes/experiments%20copy.ipynb#W0sZmlsZQ%3D%3D?line=1'>2</a>\u001b[0m \u001b[39mfrom\u001b[39;00m \u001b[39mData_manager\u001b[39;00m\u001b[39m.\u001b[39;00m\u001b[39mMovielens\u001b[39;00m\u001b[39m.\u001b[39;00m\u001b[39mMovielens1MReader\u001b[39;00m \u001b[39mimport\u001b[39;00m Movielens1MReader\n\u001b[1;32m      <a href='vscode-notebook-cell:/Users/lucaortolomo/Desktop/TESI/Thesis_DiffusionRecommender-main/Two-Level-Recs-Notes/experiments%20copy.ipynb#W0sZmlsZQ%3D%3D?line=2'>3</a>\u001b[0m \u001b[39mfrom\u001b[39;00m \u001b[39mEvaluation\u001b[39;00m\u001b[39m.\u001b[39;00m\u001b[39mEvaluator\u001b[39;00m \u001b[39mimport\u001b[39;00m EvaluatorHoldout\n",
      "\u001b[0;31mModuleNotFoundError\u001b[0m: No module named 'Data_manager'"
     ]
    }
   ],
   "source": [
    "\n",
    "from Data_manager.DataSplitter_Holdout import DataSplitter_Holdout\n",
    "from Data_manager.Movielens.Movielens1MReader import Movielens1MReader\n",
    "from Evaluation.Evaluator import EvaluatorHoldout\n",
    "import numpy as np\n",
    "\n",
    "dataset_reader = Movielens1MReader()\n",
    "\n",
    "dataSplitter = DataSplitter_Holdout(dataset_reader, user_wise=False, split_interaction_quota_list=[80, 10, 10])\n",
    "dataSplitter.load_data(\"/Users/lucaortolomo/Desktop/TESI/Thesis_DiffusionRecommender-main/teams/Movielens1M/data\") #\"results_experiments/Movielens1M/data\"\n",
    "URM_train, URM_validation, URM_test = dataSplitter.get_holdout_split()\n",
    "\n",
    "cutoff_list = [10, 50]\n",
    "evaluator_validation = EvaluatorHoldout(URM_validation, cutoff_list=cutoff_list)\n",
    "evaluator_test = EvaluatorHoldout(URM_test, cutoff_list=cutoff_list)"
   ]
  },
  {
   "cell_type": "code",
   "execution_count": 3,
   "metadata": {},
   "outputs": [],
   "source": [
    "import optuna\n",
    "import numpy as np\n",
    "import pandas as pd\n",
    "import os\n",
    "\n",
    "def create_objective_d(recommender_instance, URM_train, URM_validation, hyperparam_space, evaluator_validation, cutoff, directory_path):\n",
    "    def objective(trial):\n",
    "        # Gather and set hyperparameters\n",
    "        hyperparams = {name: trial.suggest_categorical(name, space) for name, space in hyperparam_space.items()}\n",
    "\n",
    "        # Initialize and train the recommender\n",
    "        \n",
    "        recommender_instance.fit(**hyperparams)\n",
    "\n",
    "        # Evaluate recommender\n",
    "        user_id_array = np.arange(URM_validation.shape[0])\n",
    "        \n",
    "        result_df, _ = evaluator_validation.evaluateRecommender(recommender_instance)\n",
    "        result_df['hyperparams'] = str(hyperparams)\n",
    "\n",
    "        # Assuming df_row is the DataFrame containing the row to append\n",
    "\n",
    "        filename = directory_path + recommender_instance.RECOMMENDER_NAME + \".csv\"\n",
    "\n",
    "        # Check if file exists\n",
    "        if os.path.isfile(filename):\n",
    "            # If it exists, append without writing the header\n",
    "           pd.DataFrame(result_df.loc[cutoff]).transpose().to_csv(filename, mode='a', header=False, index=False)\n",
    "        else:\n",
    "            # If it doesn't exist, create it, write the header\n",
    "           pd.DataFrame(result_df.loc[cutoff]).transpose().to_csv(filename, mode='w', header=True, index=False)\n",
    "    \n",
    "        return result_df.loc[cutoff]['NDCG']\n",
    "\n",
    "    return objective\n"
   ]
  },
  {
   "cell_type": "code",
   "execution_count": 4,
   "metadata": {},
   "outputs": [],
   "source": [
    "from Recommenders.KNN.ItemKNNCFRecommender import ItemKNNCFRecommender\n",
    "from Recommenders.SLIM.SLIMElasticNetRecommender import SLIMElasticNetRecommender\n",
    "from Recommenders.MatrixFactorization.PureSVDRecommender import PureSVDRecommender\n",
    "from Recommenders.MatrixFactorization.IALSRecommender import IALSRecommender\n",
    "\n",
    "from Diffusion.DiffusionRecommender import DiffusionAutoencoderRecommender_OptimizerMask\n",
    "import torch\n",
    "\n"
   ]
  },
  {
   "cell_type": "code",
   "execution_count": 11,
   "metadata": {},
   "outputs": [
    {
     "name": "stdout",
     "output_type": "stream",
     "text": [
      "ItemKNNCFRecommender: URM Detected 211 ( 5.4%) items with no interactions.\n",
      "Unable to load Cython Compute_Similarity, reverting to Python\n",
      "Similarity column 3883 (100.0%), 3990.75 column/sec. Elapsed time 0.97 sec\n",
      "EvaluatorHoldout: Processed 5961 (100.0%) in 3.91 sec. Users per second: 1523\n"
     ]
    },
    {
     "data": {
      "text/html": [
       "<div>\n",
       "<style scoped>\n",
       "    .dataframe tbody tr th:only-of-type {\n",
       "        vertical-align: middle;\n",
       "    }\n",
       "\n",
       "    .dataframe tbody tr th {\n",
       "        vertical-align: top;\n",
       "    }\n",
       "\n",
       "    .dataframe thead th {\n",
       "        text-align: right;\n",
       "    }\n",
       "</style>\n",
       "<table border=\"1\" class=\"dataframe\">\n",
       "  <thead>\n",
       "    <tr style=\"text-align: right;\">\n",
       "      <th></th>\n",
       "      <th>PRECISION</th>\n",
       "      <th>PRECISION_RECALL_MIN_DEN</th>\n",
       "      <th>RECALL</th>\n",
       "      <th>MAP</th>\n",
       "      <th>MAP_MIN_DEN</th>\n",
       "      <th>MRR</th>\n",
       "      <th>NDCG</th>\n",
       "      <th>F1</th>\n",
       "      <th>HIT_RATE</th>\n",
       "      <th>ARHR_ALL_HITS</th>\n",
       "      <th>...</th>\n",
       "      <th>COVERAGE_USER</th>\n",
       "      <th>COVERAGE_USER_HIT</th>\n",
       "      <th>USERS_IN_GT</th>\n",
       "      <th>DIVERSITY_GINI</th>\n",
       "      <th>SHANNON_ENTROPY</th>\n",
       "      <th>RATIO_DIVERSITY_HERFINDAHL</th>\n",
       "      <th>RATIO_DIVERSITY_GINI</th>\n",
       "      <th>RATIO_SHANNON_ENTROPY</th>\n",
       "      <th>RATIO_AVERAGE_POPULARITY</th>\n",
       "      <th>RATIO_NOVELTY</th>\n",
       "    </tr>\n",
       "    <tr>\n",
       "      <th>cutoff</th>\n",
       "      <th></th>\n",
       "      <th></th>\n",
       "      <th></th>\n",
       "      <th></th>\n",
       "      <th></th>\n",
       "      <th></th>\n",
       "      <th></th>\n",
       "      <th></th>\n",
       "      <th></th>\n",
       "      <th></th>\n",
       "      <th></th>\n",
       "      <th></th>\n",
       "      <th></th>\n",
       "      <th></th>\n",
       "      <th></th>\n",
       "      <th></th>\n",
       "      <th></th>\n",
       "      <th></th>\n",
       "      <th></th>\n",
       "      <th></th>\n",
       "      <th></th>\n",
       "    </tr>\n",
       "  </thead>\n",
       "  <tbody>\n",
       "    <tr>\n",
       "      <th>10</th>\n",
       "      <td>0.172068</td>\n",
       "      <td>0.225724</td>\n",
       "      <td>0.152794</td>\n",
       "      <td>0.090517</td>\n",
       "      <td>0.114132</td>\n",
       "      <td>0.392586</td>\n",
       "      <td>0.1897</td>\n",
       "      <td>0.16186</td>\n",
       "      <td>0.744674</td>\n",
       "      <td>0.584341</td>\n",
       "      <td>...</td>\n",
       "      <td>0.986921</td>\n",
       "      <td>0.734934</td>\n",
       "      <td>0.986921</td>\n",
       "      <td>0.064196</td>\n",
       "      <td>8.296197</td>\n",
       "      <td>0.995206</td>\n",
       "      <td>0.183438</td>\n",
       "      <td>0.76718</td>\n",
       "      <td>1.686127</td>\n",
       "      <td>0.066146</td>\n",
       "    </tr>\n",
       "    <tr>\n",
       "      <th>50</th>\n",
       "      <td>0.101315</td>\n",
       "      <td>0.394449</td>\n",
       "      <td>0.388508</td>\n",
       "      <td>0.034652</td>\n",
       "      <td>0.112369</td>\n",
       "      <td>0.40243</td>\n",
       "      <td>0.268621</td>\n",
       "      <td>0.160718</td>\n",
       "      <td>0.925851</td>\n",
       "      <td>0.729563</td>\n",
       "      <td>...</td>\n",
       "      <td>0.986921</td>\n",
       "      <td>0.913742</td>\n",
       "      <td>0.986921</td>\n",
       "      <td>0.115281</td>\n",
       "      <td>9.205504</td>\n",
       "      <td>0.998123</td>\n",
       "      <td>0.32941</td>\n",
       "      <td>0.851267</td>\n",
       "      <td>1.367718</td>\n",
       "      <td>0.342828</td>\n",
       "    </tr>\n",
       "  </tbody>\n",
       "</table>\n",
       "<p>2 rows × 27 columns</p>\n",
       "</div>"
      ],
      "text/plain": [
       "       PRECISION PRECISION_RECALL_MIN_DEN    RECALL       MAP MAP_MIN_DEN  \\\n",
       "cutoff                                                                      \n",
       "10      0.172068                 0.225724  0.152794  0.090517    0.114132   \n",
       "50      0.101315                 0.394449  0.388508  0.034652    0.112369   \n",
       "\n",
       "             MRR      NDCG        F1  HIT_RATE ARHR_ALL_HITS  ...  \\\n",
       "cutoff                                                        ...   \n",
       "10      0.392586    0.1897   0.16186  0.744674      0.584341  ...   \n",
       "50       0.40243  0.268621  0.160718  0.925851      0.729563  ...   \n",
       "\n",
       "       COVERAGE_USER COVERAGE_USER_HIT USERS_IN_GT DIVERSITY_GINI  \\\n",
       "cutoff                                                              \n",
       "10          0.986921          0.734934    0.986921       0.064196   \n",
       "50          0.986921          0.913742    0.986921       0.115281   \n",
       "\n",
       "       SHANNON_ENTROPY RATIO_DIVERSITY_HERFINDAHL RATIO_DIVERSITY_GINI  \\\n",
       "cutoff                                                                   \n",
       "10            8.296197                   0.995206             0.183438   \n",
       "50            9.205504                   0.998123              0.32941   \n",
       "\n",
       "       RATIO_SHANNON_ENTROPY RATIO_AVERAGE_POPULARITY RATIO_NOVELTY  \n",
       "cutoff                                                               \n",
       "10                   0.76718                 1.686127      0.066146  \n",
       "50                  0.851267                 1.367718      0.342828  \n",
       "\n",
       "[2 rows x 27 columns]"
      ]
     },
     "execution_count": 11,
     "metadata": {},
     "output_type": "execute_result"
    }
   ],
   "source": [
    "itemKNN_instance2 = ItemKNNCFRecommender(URM_train=URM_train)\n",
    "itemKNN_instance2.fit(topK=96, shrink =59, similarity ='cosine', normalize=True, feature_weighting='TF-IDF')\n",
    "result_df, _ = evaluator_validation.evaluateRecommender(itemKNN_instance2)\n",
    "result_df"
   ]
  },
  {
   "cell_type": "code",
   "execution_count": 5,
   "metadata": {},
   "outputs": [
    {
     "name": "stdout",
     "output_type": "stream",
     "text": [
      "ItemKNNCFRecommender: URM Detected 211 ( 5.4%) items with no interactions.\n",
      "ItemKNNCFRecommender: Loading model from file '/Users/lucaortolomo/Desktop/TESI/Thesis_DiffusionRecommender-main/teams/Movielens1M/models/ItemKNNCFRecommender_cosine_best_model'\n",
      "ItemKNNCFRecommender: Loading complete\n",
      "SLIMElasticNetRecommender: URM Detected 211 ( 5.4%) items with no interactions.\n",
      "SLIMElasticNetRecommender: Loading model from file '/Users/lucaortolomo/Desktop/TESI/Thesis_DiffusionRecommender-main/teams/Movielens1M/models/SLIMElasticNetRecommender_best_model'\n",
      "SLIMElasticNetRecommender: Loading complete\n",
      "IALSRecommender: URM Detected 211 ( 5.4%) items with no interactions.\n",
      "IALSRecommender: Loading model from file '/Users/lucaortolomo/Desktop/TESI/Thesis_DiffusionRecommender-main/teams/Movielens1M/models/IALSRecommender_best_model'\n",
      "IALSRecommender: Loading complete\n",
      "DiffusionAutoencoderRecommender: URM Detected 211 ( 5.4%) items with no interactions.\n",
      "DiffusionAutoencoderRecommender: Loading model from file '/Users/lucaortolomo/Desktop/TESI/Thesis_DiffusionRecommender-main/teams/Movielens1M/models/DiffusionAutoencoderRecommender_best_model'\n",
      "DiffusionAutoencoderRecommender: Loading complete\n"
     ]
    }
   ],
   "source": [
    "#load validation(best_model) models instances\n",
    "\n",
    "itemKNN_instance = ItemKNNCFRecommender(URM_train=URM_train)\n",
    "itemKNN_instance.load_model(folder_path=\"/Users/lucaortolomo/Desktop/TESI/Thesis_DiffusionRecommender-main/teams/Movielens1M/models\", file_name=\"/ItemKNNCFRecommender_cosine_best_model\")\n",
    "\n",
    "slim_elastic_instance = SLIMElasticNetRecommender(URM_train=URM_train)\n",
    "slim_elastic_instance.load_model(folder_path=\"/Users/lucaortolomo/Desktop/TESI/Thesis_DiffusionRecommender-main/teams/Movielens1M/models\", file_name=\"/SLIMElasticNetRecommender_best_model\")\n",
    "\n",
    "#matrix_fact_instance = PureSVDRecommender(URM_train=URM_train)\n",
    "#matrix_fact_instance.load_model(folder_path=\"/Users/lucaortolomo/Desktop/TESI/Thesis_DiffusionRecommender-main/teams/Movielens1M/models\", file_name=\"/PureSVDRecommender_best_model\")\n",
    "\n",
    "matrix_fact_instance = IALSRecommender(URM_train=URM_train)\n",
    "matrix_fact_instance.load_model(folder_path=\"/Users/lucaortolomo/Desktop/TESI/Thesis_DiffusionRecommender-main/teams/Movielens1M/models\", file_name=\"/IALSRecommender_best_model\")\n",
    "\n",
    "\n",
    "auto_diffusion_instance = DiffusionAutoencoderRecommender_OptimizerMask(URM_train=URM_train, use_gpu=False)\n",
    "auto_diffusion_instance.load_model(folder_path=\"/Users/lucaortolomo/Desktop/TESI/Thesis_DiffusionRecommender-main/teams/Movielens1M/models\", file_name=\"/DiffusionAutoencoderRecommender_best_model\")\n"
   ]
  },
  {
   "cell_type": "code",
   "execution_count": 6,
   "metadata": {},
   "outputs": [
    {
     "name": "stdout",
     "output_type": "stream",
     "text": [
      "ItemKNNCFRecommender: URM Detected 194 ( 5.0%) items with no interactions.\n",
      "ItemKNNCFRecommender: Loading model from file '/Users/lucaortolomo/Desktop/TESI/Thesis_DiffusionRecommender-main/teams/Movielens1M/models/ItemKNNCFRecommender_cosine_best_model_last'\n",
      "ItemKNNCFRecommender: Loading complete\n",
      "SLIMElasticNetRecommender: URM Detected 211 ( 5.4%) items with no interactions.\n",
      "SLIMElasticNetRecommender: Loading model from file '/Users/lucaortolomo/Desktop/TESI/Thesis_DiffusionRecommender-main/teams/Movielens1M/models/SLIMElasticNetRecommender_best_model_last'\n",
      "SLIMElasticNetRecommender: Loading complete\n",
      "PureSVDRecommender: URM Detected 211 ( 5.4%) items with no interactions.\n",
      "PureSVDRecommender: Loading model from file '/Users/lucaortolomo/Desktop/TESI/Thesis_DiffusionRecommender-main/teams/Movielens1M/models/PureSVDRecommender_best_model_last'\n",
      "PureSVDRecommender: Loading complete\n",
      "IALSRecommender: URM Detected 211 ( 5.4%) items with no interactions.\n",
      "IALSRecommender: Loading model from file '/Users/lucaortolomo/Desktop/TESI/Thesis_DiffusionRecommender-main/teams/Movielens1M/models/IALSRecommender_best_model_last'\n",
      "IALSRecommender: Loading complete\n",
      "DiffusionAutoencoderRecommender: URM Detected 211 ( 5.4%) items with no interactions.\n",
      "DiffusionAutoencoderRecommender: Loading model from file '/Users/lucaortolomo/Desktop/TESI/Thesis_DiffusionRecommender-main/teams/Movielens1M/models/DiffusionAutoencoderRecommender_best_model_last'\n",
      "DiffusionAutoencoderRecommender: Loading complete\n"
     ]
    }
   ],
   "source": [
    "\n",
    "itemKNN_instance_test = ItemKNNCFRecommender(URM_train=URM_train+URM_validation)\n",
    "itemKNN_instance_test.load_model(folder_path=\"/Users/lucaortolomo/Desktop/TESI/Thesis_DiffusionRecommender-main/teams/Movielens1M/models\", file_name=\"/ItemKNNCFRecommender_cosine_best_model_last\")\n",
    "\n",
    "slim_elastic_instance_test = SLIMElasticNetRecommender(URM_train=URM_train)\n",
    "slim_elastic_instance_test.load_model(folder_path=\"/Users/lucaortolomo/Desktop/TESI/Thesis_DiffusionRecommender-main/teams/Movielens1M/models\", file_name=\"/SLIMElasticNetRecommender_best_model_last\")\n",
    "\n",
    "pure_svd_instance_test = PureSVDRecommender(URM_train=URM_train)\n",
    "pure_svd_instance_test.load_model(folder_path=\"/Users/lucaortolomo/Desktop/TESI/Thesis_DiffusionRecommender-main/teams/Movielens1M/models\", file_name=\"/PureSVDRecommender_best_model_last\")\n",
    "\n",
    "\n",
    "matrix_fact_instance_test = IALSRecommender(URM_train=URM_train)\n",
    "matrix_fact_instance_test.load_model(folder_path=\"/Users/lucaortolomo/Desktop/TESI/Thesis_DiffusionRecommender-main/teams/Movielens1M/models\", file_name=\"/IALSRecommender_best_model_last\")\n",
    "\n",
    "\n",
    "auto_diffusion_instance_test = DiffusionAutoencoderRecommender_OptimizerMask(URM_train=URM_train, use_gpu=False)\n",
    "auto_diffusion_instance_test.load_model(folder_path=\"/Users/lucaortolomo/Desktop/TESI/Thesis_DiffusionRecommender-main/teams/Movielens1M/models\", file_name=\"/DiffusionAutoencoderRecommender_best_model_last\")\n"
   ]
  },
  {
   "cell_type": "code",
   "execution_count": 11,
   "metadata": {},
   "outputs": [
    {
     "name": "stdout",
     "output_type": "stream",
     "text": [
      "EvaluatorHoldout: Processed 5961 (100.0%) in 3.62 sec. Users per second: 1648\n"
     ]
    },
    {
     "data": {
      "text/html": [
       "<div>\n",
       "<style scoped>\n",
       "    .dataframe tbody tr th:only-of-type {\n",
       "        vertical-align: middle;\n",
       "    }\n",
       "\n",
       "    .dataframe tbody tr th {\n",
       "        vertical-align: top;\n",
       "    }\n",
       "\n",
       "    .dataframe thead th {\n",
       "        text-align: right;\n",
       "    }\n",
       "</style>\n",
       "<table border=\"1\" class=\"dataframe\">\n",
       "  <thead>\n",
       "    <tr style=\"text-align: right;\">\n",
       "      <th></th>\n",
       "      <th>PRECISION</th>\n",
       "      <th>PRECISION_RECALL_MIN_DEN</th>\n",
       "      <th>RECALL</th>\n",
       "      <th>MAP</th>\n",
       "      <th>MAP_MIN_DEN</th>\n",
       "      <th>MRR</th>\n",
       "      <th>NDCG</th>\n",
       "      <th>F1</th>\n",
       "      <th>HIT_RATE</th>\n",
       "      <th>ARHR_ALL_HITS</th>\n",
       "      <th>...</th>\n",
       "      <th>COVERAGE_USER</th>\n",
       "      <th>COVERAGE_USER_HIT</th>\n",
       "      <th>USERS_IN_GT</th>\n",
       "      <th>DIVERSITY_GINI</th>\n",
       "      <th>SHANNON_ENTROPY</th>\n",
       "      <th>RATIO_DIVERSITY_HERFINDAHL</th>\n",
       "      <th>RATIO_DIVERSITY_GINI</th>\n",
       "      <th>RATIO_SHANNON_ENTROPY</th>\n",
       "      <th>RATIO_AVERAGE_POPULARITY</th>\n",
       "      <th>RATIO_NOVELTY</th>\n",
       "    </tr>\n",
       "    <tr>\n",
       "      <th>cutoff</th>\n",
       "      <th></th>\n",
       "      <th></th>\n",
       "      <th></th>\n",
       "      <th></th>\n",
       "      <th></th>\n",
       "      <th></th>\n",
       "      <th></th>\n",
       "      <th></th>\n",
       "      <th></th>\n",
       "      <th></th>\n",
       "      <th></th>\n",
       "      <th></th>\n",
       "      <th></th>\n",
       "      <th></th>\n",
       "      <th></th>\n",
       "      <th></th>\n",
       "      <th></th>\n",
       "      <th></th>\n",
       "      <th></th>\n",
       "      <th></th>\n",
       "      <th></th>\n",
       "    </tr>\n",
       "  </thead>\n",
       "  <tbody>\n",
       "    <tr>\n",
       "      <th>10</th>\n",
       "      <td>0.186345</td>\n",
       "      <td>0.245822</td>\n",
       "      <td>0.169608</td>\n",
       "      <td>0.09839</td>\n",
       "      <td>0.124377</td>\n",
       "      <td>0.414177</td>\n",
       "      <td>0.20549</td>\n",
       "      <td>0.177583</td>\n",
       "      <td>0.780909</td>\n",
       "      <td>0.626442</td>\n",
       "      <td>...</td>\n",
       "      <td>0.986921</td>\n",
       "      <td>0.770695</td>\n",
       "      <td>0.986921</td>\n",
       "      <td>0.073846</td>\n",
       "      <td>8.557885</td>\n",
       "      <td>0.996611</td>\n",
       "      <td>0.211011</td>\n",
       "      <td>0.79138</td>\n",
       "      <td>1.595006</td>\n",
       "      <td>0.066525</td>\n",
       "    </tr>\n",
       "    <tr>\n",
       "      <th>50</th>\n",
       "      <td>0.111149</td>\n",
       "      <td>0.434059</td>\n",
       "      <td>0.427869</td>\n",
       "      <td>0.03877</td>\n",
       "      <td>0.127246</td>\n",
       "      <td>0.423121</td>\n",
       "      <td>0.293169</td>\n",
       "      <td>0.176459</td>\n",
       "      <td>0.93944</td>\n",
       "      <td>0.786603</td>\n",
       "      <td>...</td>\n",
       "      <td>0.986921</td>\n",
       "      <td>0.927152</td>\n",
       "      <td>0.986921</td>\n",
       "      <td>0.138295</td>\n",
       "      <td>9.492902</td>\n",
       "      <td>0.998854</td>\n",
       "      <td>0.39517</td>\n",
       "      <td>0.877844</td>\n",
       "      <td>1.238788</td>\n",
       "      <td>0.347542</td>\n",
       "    </tr>\n",
       "  </tbody>\n",
       "</table>\n",
       "<p>2 rows × 27 columns</p>\n",
       "</div>"
      ],
      "text/plain": [
       "       PRECISION PRECISION_RECALL_MIN_DEN    RECALL      MAP MAP_MIN_DEN  \\\n",
       "cutoff                                                                     \n",
       "10      0.186345                 0.245822  0.169608  0.09839    0.124377   \n",
       "50      0.111149                 0.434059  0.427869  0.03877    0.127246   \n",
       "\n",
       "             MRR      NDCG        F1  HIT_RATE ARHR_ALL_HITS  ...  \\\n",
       "cutoff                                                        ...   \n",
       "10      0.414177   0.20549  0.177583  0.780909      0.626442  ...   \n",
       "50      0.423121  0.293169  0.176459   0.93944      0.786603  ...   \n",
       "\n",
       "       COVERAGE_USER COVERAGE_USER_HIT USERS_IN_GT DIVERSITY_GINI  \\\n",
       "cutoff                                                              \n",
       "10          0.986921          0.770695    0.986921       0.073846   \n",
       "50          0.986921          0.927152    0.986921       0.138295   \n",
       "\n",
       "       SHANNON_ENTROPY RATIO_DIVERSITY_HERFINDAHL RATIO_DIVERSITY_GINI  \\\n",
       "cutoff                                                                   \n",
       "10            8.557885                   0.996611             0.211011   \n",
       "50            9.492902                   0.998854              0.39517   \n",
       "\n",
       "       RATIO_SHANNON_ENTROPY RATIO_AVERAGE_POPULARITY RATIO_NOVELTY  \n",
       "cutoff                                                               \n",
       "10                   0.79138                 1.595006      0.066525  \n",
       "50                  0.877844                 1.238788      0.347542  \n",
       "\n",
       "[2 rows x 27 columns]"
      ]
     },
     "execution_count": 11,
     "metadata": {},
     "output_type": "execute_result"
    }
   ],
   "source": [
    "result_df, _ = evaluator_validation.evaluateRecommender(matrix_fact_instance)\n",
    "result_df"
   ]
  },
  {
   "cell_type": "code",
   "execution_count": 7,
   "metadata": {},
   "outputs": [],
   "source": [
    "from RecommenderLuca import TwoLevelRec\n",
    "import importlib\n",
    "\n",
    "# Make some changes to your_module.py\n",
    "\n",
    "importlib.reload(TwoLevelRec)\n",
    "from RecommenderLuca.TwoLevelRec import TwoLevelRec"
   ]
  },
  {
   "cell_type": "code",
   "execution_count": 16,
   "metadata": {},
   "outputs": [
    {
     "name": "stdout",
     "output_type": "stream",
     "text": [
      "IALSRecommender\n",
      "ItemKNNCFRecommender\n",
      "ItemKNNCFRecommender\n",
      "SLIMElasticNetRecommender\n",
      "SLIMElasticNetRecommender\n",
      "IALSRecommender\n"
     ]
    }
   ],
   "source": [
    "recommenders_instances = {itemKNN_instance, slim_elastic_instance, matrix_fact_instance}\n",
    "recommenders_instances_test = {itemKNN_instance_test, slim_elastic_instance_test, matrix_fact_instance_test}\n",
    "for traditional_rec,traditional_rec_test in zip(recommenders_instances, recommenders_instances_test):\n",
    "    print(traditional_rec.RECOMMENDER_NAME)\n",
    "    print(traditional_rec_test.RECOMMENDER_NAME)"
   ]
  },
  {
   "cell_type": "code",
   "execution_count": 14,
   "metadata": {},
   "outputs": [
    {
     "name": "stdout",
     "output_type": "stream",
     "text": [
      "<generator object <genexpr> at 0x7f78ccf02dd0>\n",
      "Recommender_Base_Class: URM Detected 211 ( 5.4%) items with no interactions.\n"
     ]
    },
    {
     "name": "stderr",
     "output_type": "stream",
     "text": [
      "[I 2023-07-31 03:41:55,253] A new study created in memory with name: no-name-a76fb45c-a600-4c94-ab41-eb1149f47109\n",
      "  0%|          | 0/50 [00:00<?, ?it/s]"
     ]
    },
    {
     "name": "stdout",
     "output_type": "stream",
     "text": [
      "SLIMElasticNetRecommender\n",
      "DiffusionAutoencoderRecommender_SLIMElasticNetRecommender_TwoLevelRec\n",
      "EvaluatorHoldout: Processed 5961 (100.0%) in 4.28 sec. Users per second: 1391\n"
     ]
    },
    {
     "name": "stderr",
     "output_type": "stream",
     "text": [
      "Best trial: 0. Best value: 0.224704:   2%|▏         | 1/50 [00:04<03:31,  4.31s/it]"
     ]
    },
    {
     "name": "stdout",
     "output_type": "stream",
     "text": [
      "[I 2023-07-31 03:41:59,563] Trial 0 finished with value: 0.22470394825909362 and parameters: {'n_items_to_rank': 260}. Best is trial 0 with value: 0.22470394825909362.\n",
      "EvaluatorHoldout: Processed 5961 (100.0%) in 4.16 sec. Users per second: 1431\n"
     ]
    },
    {
     "name": "stderr",
     "output_type": "stream",
     "text": [
      "Best trial: 0. Best value: 0.224704:   4%|▍         | 2/50 [00:08<03:23,  4.23s/it]"
     ]
    },
    {
     "name": "stdout",
     "output_type": "stream",
     "text": [
      "[I 2023-07-31 03:42:03,744] Trial 1 finished with value: 0.22470394825909362 and parameters: {'n_items_to_rank': 238}. Best is trial 0 with value: 0.22470394825909362.\n",
      "EvaluatorHoldout: Processed 5961 (100.0%) in 4.16 sec. Users per second: 1433\n"
     ]
    },
    {
     "name": "stderr",
     "output_type": "stream",
     "text": [
      "Best trial: 0. Best value: 0.224704:   6%|▌         | 3/50 [00:12<03:17,  4.21s/it]"
     ]
    },
    {
     "name": "stdout",
     "output_type": "stream",
     "text": [
      "[I 2023-07-31 03:42:07,919] Trial 2 finished with value: 0.22470394825909362 and parameters: {'n_items_to_rank': 184}. Best is trial 0 with value: 0.22470394825909362.\n",
      "EvaluatorHoldout: Processed 5961 (100.0%) in 3.97 sec. Users per second: 1500\n"
     ]
    },
    {
     "name": "stderr",
     "output_type": "stream",
     "text": [
      "Best trial: 0. Best value: 0.224704:   8%|▊         | 4/50 [00:16<03:09,  4.12s/it]"
     ]
    },
    {
     "name": "stdout",
     "output_type": "stream",
     "text": [
      "[I 2023-07-31 03:42:11,909] Trial 3 finished with value: 0.22145638248656765 and parameters: {'n_items_to_rank': 12}. Best is trial 0 with value: 0.22470394825909362.\n",
      "EvaluatorHoldout: Processed 5961 (100.0%) in 4.17 sec. Users per second: 1429\n"
     ]
    },
    {
     "name": "stderr",
     "output_type": "stream",
     "text": [
      "Best trial: 0. Best value: 0.224704:  10%|█         | 5/50 [00:20<03:06,  4.15s/it]"
     ]
    },
    {
     "name": "stdout",
     "output_type": "stream",
     "text": [
      "[I 2023-07-31 03:42:16,097] Trial 4 finished with value: 0.22449054378002337 and parameters: {'n_items_to_rank': 18}. Best is trial 0 with value: 0.22470394825909362.\n",
      "EvaluatorHoldout: Processed 5961 (100.0%) in 4.20 sec. Users per second: 1418\n"
     ]
    },
    {
     "name": "stderr",
     "output_type": "stream",
     "text": [
      "Best trial: 0. Best value: 0.224704:  12%|█▏        | 6/50 [00:25<03:03,  4.17s/it]"
     ]
    },
    {
     "name": "stdout",
     "output_type": "stream",
     "text": [
      "[I 2023-07-31 03:42:20,319] Trial 5 finished with value: 0.22470394825909362 and parameters: {'n_items_to_rank': 96}. Best is trial 0 with value: 0.22470394825909362.\n",
      "EvaluatorHoldout: Processed 5961 (100.0%) in 4.35 sec. Users per second: 1369\n"
     ]
    },
    {
     "name": "stderr",
     "output_type": "stream",
     "text": [
      "Best trial: 0. Best value: 0.224704:  14%|█▍        | 7/50 [00:29<03:05,  4.31s/it]"
     ]
    },
    {
     "name": "stdout",
     "output_type": "stream",
     "text": [
      "[I 2023-07-31 03:42:24,915] Trial 6 finished with value: 0.22470394825909362 and parameters: {'n_items_to_rank': 209}. Best is trial 0 with value: 0.22470394825909362.\n",
      "EvaluatorHoldout: Processed 5961 (100.0%) in 4.22 sec. Users per second: 1412\n"
     ]
    },
    {
     "name": "stderr",
     "output_type": "stream",
     "text": [
      "Best trial: 7. Best value: 0.224706:  16%|█▌        | 8/50 [00:33<03:00,  4.29s/it]"
     ]
    },
    {
     "name": "stdout",
     "output_type": "stream",
     "text": [
      "[I 2023-07-31 03:42:29,153] Trial 7 finished with value: 0.22470634518152352 and parameters: {'n_items_to_rank': 42}. Best is trial 7 with value: 0.22470634518152352.\n",
      "EvaluatorHoldout: Processed 5961 (100.0%) in 4.37 sec. Users per second: 1365\n"
     ]
    },
    {
     "name": "stderr",
     "output_type": "stream",
     "text": [
      "Best trial: 7. Best value: 0.224706:  18%|█▊        | 9/50 [00:38<02:57,  4.32s/it]"
     ]
    },
    {
     "name": "stdout",
     "output_type": "stream",
     "text": [
      "[I 2023-07-31 03:42:33,538] Trial 8 finished with value: 0.22470394825909362 and parameters: {'n_items_to_rank': 225}. Best is trial 7 with value: 0.22470634518152352.\n",
      "EvaluatorHoldout: Processed 5961 (100.0%) in 4.57 sec. Users per second: 1304\n"
     ]
    },
    {
     "name": "stderr",
     "output_type": "stream",
     "text": [
      "Best trial: 9. Best value: 0.225046:  20%|██        | 10/50 [00:42<02:56,  4.40s/it]"
     ]
    },
    {
     "name": "stdout",
     "output_type": "stream",
     "text": [
      "[I 2023-07-31 03:42:38,128] Trial 9 finished with value: 0.2250456452232849 and parameters: {'n_items_to_rank': 28}. Best is trial 9 with value: 0.2250456452232849.\n",
      "EvaluatorHoldout: Processed 5961 (100.0%) in 4.23 sec. Users per second: 1409\n"
     ]
    },
    {
     "name": "stderr",
     "output_type": "stream",
     "text": [
      "Best trial: 9. Best value: 0.225046:  22%|██▏       | 11/50 [00:47<02:49,  4.36s/it]"
     ]
    },
    {
     "name": "stdout",
     "output_type": "stream",
     "text": [
      "[I 2023-07-31 03:42:42,379] Trial 10 finished with value: 0.22470394825909362 and parameters: {'n_items_to_rank': 265}. Best is trial 9 with value: 0.2250456452232849.\n",
      "EvaluatorHoldout: Processed 5961 (100.0%) in 4.34 sec. Users per second: 1373\n"
     ]
    },
    {
     "name": "stderr",
     "output_type": "stream",
     "text": [
      "Best trial: 9. Best value: 0.225046:  24%|██▍       | 12/50 [00:51<02:45,  4.36s/it]"
     ]
    },
    {
     "name": "stdout",
     "output_type": "stream",
     "text": [
      "[I 2023-07-31 03:42:46,744] Trial 11 finished with value: 0.22470394825909362 and parameters: {'n_items_to_rank': 219}. Best is trial 9 with value: 0.2250456452232849.\n",
      "EvaluatorHoldout: Processed 5961 (100.0%) in 4.25 sec. Users per second: 1401\n"
     ]
    },
    {
     "name": "stderr",
     "output_type": "stream",
     "text": [
      "Best trial: 9. Best value: 0.225046:  26%|██▌       | 13/50 [00:55<02:40,  4.33s/it]"
     ]
    },
    {
     "name": "stdout",
     "output_type": "stream",
     "text": [
      "[I 2023-07-31 03:42:51,019] Trial 12 finished with value: 0.22470394825909362 and parameters: {'n_items_to_rank': 242}. Best is trial 9 with value: 0.2250456452232849.\n",
      "EvaluatorHoldout: Processed 5961 (100.0%) in 4.26 sec. Users per second: 1399\n"
     ]
    },
    {
     "name": "stderr",
     "output_type": "stream",
     "text": [
      "Best trial: 9. Best value: 0.225046:  28%|██▊       | 14/50 [01:00<02:35,  4.32s/it]"
     ]
    },
    {
     "name": "stdout",
     "output_type": "stream",
     "text": [
      "[I 2023-07-31 03:42:55,300] Trial 13 finished with value: 0.22470394825909362 and parameters: {'n_items_to_rank': 257}. Best is trial 9 with value: 0.2250456452232849.\n",
      "EvaluatorHoldout: Processed 5961 (100.0%) in 4.50 sec. Users per second: 1325\n"
     ]
    },
    {
     "name": "stderr",
     "output_type": "stream",
     "text": [
      "Best trial: 9. Best value: 0.225046:  30%|███       | 15/50 [01:04<02:33,  4.38s/it]"
     ]
    },
    {
     "name": "stdout",
     "output_type": "stream",
     "text": [
      "[I 2023-07-31 03:42:59,819] Trial 14 finished with value: 0.2250456452232849 and parameters: {'n_items_to_rank': 28}. Best is trial 9 with value: 0.2250456452232849.\n",
      "EvaluatorHoldout: Processed 5961 (100.0%) in 4.19 sec. Users per second: 1423\n"
     ]
    },
    {
     "name": "stderr",
     "output_type": "stream",
     "text": [
      "Best trial: 9. Best value: 0.225046:  32%|███▏      | 16/50 [01:08<02:27,  4.33s/it]"
     ]
    },
    {
     "name": "stdout",
     "output_type": "stream",
     "text": [
      "[I 2023-07-31 03:43:04,028] Trial 15 finished with value: 0.22470394825909362 and parameters: {'n_items_to_rank': 110}. Best is trial 9 with value: 0.2250456452232849.\n",
      "EvaluatorHoldout: Processed 5961 (100.0%) in 3.91 sec. Users per second: 1525\n"
     ]
    },
    {
     "name": "stderr",
     "output_type": "stream",
     "text": [
      "Best trial: 9. Best value: 0.225046:  34%|███▍      | 17/50 [01:12<02:18,  4.21s/it]"
     ]
    },
    {
     "name": "stdout",
     "output_type": "stream",
     "text": [
      "[I 2023-07-31 03:43:07,958] Trial 16 finished with value: 0.2206724550297101 and parameters: {'n_items_to_rank': 11}. Best is trial 9 with value: 0.2250456452232849.\n",
      "EvaluatorHoldout: Processed 5961 (100.0%) in 4.37 sec. Users per second: 1363\n"
     ]
    },
    {
     "name": "stderr",
     "output_type": "stream",
     "text": [
      "Best trial: 9. Best value: 0.225046:  36%|███▌      | 18/50 [01:17<02:16,  4.26s/it]"
     ]
    },
    {
     "name": "stdout",
     "output_type": "stream",
     "text": [
      "[I 2023-07-31 03:43:12,352] Trial 17 finished with value: 0.22480283460815853 and parameters: {'n_items_to_rank': 24}. Best is trial 9 with value: 0.2250456452232849.\n",
      "EvaluatorHoldout: Processed 5961 (100.0%) in 4.27 sec. Users per second: 1397\n"
     ]
    },
    {
     "name": "stderr",
     "output_type": "stream",
     "text": [
      "Best trial: 9. Best value: 0.225046:  38%|███▊      | 19/50 [01:21<02:12,  4.27s/it]"
     ]
    },
    {
     "name": "stdout",
     "output_type": "stream",
     "text": [
      "[I 2023-07-31 03:43:16,644] Trial 18 finished with value: 0.22470394825909362 and parameters: {'n_items_to_rank': 52}. Best is trial 9 with value: 0.2250456452232849.\n",
      "EvaluatorHoldout: Processed 5961 (100.0%) in 4.53 sec. Users per second: 1315\n"
     ]
    },
    {
     "name": "stderr",
     "output_type": "stream",
     "text": [
      "Best trial: 9. Best value: 0.225046:  40%|████      | 20/50 [01:25<02:10,  4.36s/it]"
     ]
    },
    {
     "name": "stdout",
     "output_type": "stream",
     "text": [
      "[I 2023-07-31 03:43:21,196] Trial 19 finished with value: 0.2250456452232849 and parameters: {'n_items_to_rank': 28}. Best is trial 9 with value: 0.2250456452232849.\n",
      "EvaluatorHoldout: Processed 5961 (100.0%) in 4.52 sec. Users per second: 1318\n"
     ]
    },
    {
     "name": "stderr",
     "output_type": "stream",
     "text": [
      "Best trial: 9. Best value: 0.225046:  42%|████▏     | 21/50 [01:30<02:07,  4.41s/it]"
     ]
    },
    {
     "name": "stdout",
     "output_type": "stream",
     "text": [
      "[I 2023-07-31 03:43:25,741] Trial 20 finished with value: 0.2250456452232849 and parameters: {'n_items_to_rank': 28}. Best is trial 9 with value: 0.2250456452232849.\n",
      "EvaluatorHoldout: Processed 5961 (100.0%) in 4.44 sec. Users per second: 1341\n"
     ]
    },
    {
     "name": "stderr",
     "output_type": "stream",
     "text": [
      "Best trial: 9. Best value: 0.225046:  44%|████▍     | 22/50 [01:34<02:04,  4.43s/it]"
     ]
    },
    {
     "name": "stdout",
     "output_type": "stream",
     "text": [
      "[I 2023-07-31 03:43:30,211] Trial 21 finished with value: 0.22470394825909362 and parameters: {'n_items_to_rank': 62}. Best is trial 9 with value: 0.2250456452232849.\n",
      "EvaluatorHoldout: Processed 5961 (100.0%) in 4.27 sec. Users per second: 1397\n"
     ]
    },
    {
     "name": "stderr",
     "output_type": "stream",
     "text": [
      "Best trial: 9. Best value: 0.225046:  46%|████▌     | 23/50 [01:39<01:58,  4.39s/it]"
     ]
    },
    {
     "name": "stdout",
     "output_type": "stream",
     "text": [
      "[I 2023-07-31 03:43:34,502] Trial 22 finished with value: 0.22470394825909362 and parameters: {'n_items_to_rank': 187}. Best is trial 9 with value: 0.2250456452232849.\n",
      "EvaluatorHoldout: Processed 5961 (100.0%) in 4.12 sec. Users per second: 1449\n"
     ]
    },
    {
     "name": "stderr",
     "output_type": "stream",
     "text": [
      "Best trial: 9. Best value: 0.225046:  48%|████▊     | 24/50 [01:43<01:53,  4.36s/it]"
     ]
    },
    {
     "name": "stdout",
     "output_type": "stream",
     "text": [
      "[I 2023-07-31 03:43:38,800] Trial 23 finished with value: 0.22470394825909362 and parameters: {'n_items_to_rank': 174}. Best is trial 9 with value: 0.2250456452232849.\n",
      "EvaluatorHoldout: Processed 5961 (100.0%) in 4.48 sec. Users per second: 1330\n"
     ]
    },
    {
     "name": "stderr",
     "output_type": "stream",
     "text": [
      "Best trial: 9. Best value: 0.225046:  50%|█████     | 25/50 [01:48<01:50,  4.40s/it]"
     ]
    },
    {
     "name": "stdout",
     "output_type": "stream",
     "text": [
      "[I 2023-07-31 03:43:43,304] Trial 24 finished with value: 0.2247312845737004 and parameters: {'n_items_to_rank': 32}. Best is trial 9 with value: 0.2250456452232849.\n",
      "EvaluatorHoldout: Processed 5961 (100.0%) in 4.21 sec. Users per second: 1417\n"
     ]
    },
    {
     "name": "stderr",
     "output_type": "stream",
     "text": [
      "Best trial: 9. Best value: 0.225046:  52%|█████▏    | 26/50 [01:52<01:44,  4.35s/it]"
     ]
    },
    {
     "name": "stdout",
     "output_type": "stream",
     "text": [
      "[I 2023-07-31 03:43:47,534] Trial 25 finished with value: 0.22470394825909362 and parameters: {'n_items_to_rank': 81}. Best is trial 9 with value: 0.2250456452232849.\n",
      "EvaluatorHoldout: Processed 5961 (100.0%) in 4.47 sec. Users per second: 1333\n"
     ]
    },
    {
     "name": "stderr",
     "output_type": "stream",
     "text": [
      "Best trial: 9. Best value: 0.225046:  54%|█████▍    | 27/50 [01:56<01:41,  4.39s/it]"
     ]
    },
    {
     "name": "stdout",
     "output_type": "stream",
     "text": [
      "[I 2023-07-31 03:43:52,026] Trial 26 finished with value: 0.2250456452232849 and parameters: {'n_items_to_rank': 28}. Best is trial 9 with value: 0.2250456452232849.\n",
      "EvaluatorHoldout: Processed 5961 (100.0%) in 4.44 sec. Users per second: 1343\n"
     ]
    },
    {
     "name": "stderr",
     "output_type": "stream",
     "text": [
      "Best trial: 9. Best value: 0.225046:  56%|█████▌    | 28/50 [02:01<01:37,  4.41s/it]"
     ]
    },
    {
     "name": "stdout",
     "output_type": "stream",
     "text": [
      "[I 2023-07-31 03:43:56,486] Trial 27 finished with value: 0.2250456452232849 and parameters: {'n_items_to_rank': 28}. Best is trial 9 with value: 0.2250456452232849.\n",
      "EvaluatorHoldout: Processed 5961 (100.0%) in 4.13 sec. Users per second: 1443\n"
     ]
    },
    {
     "name": "stderr",
     "output_type": "stream",
     "text": [
      "Best trial: 9. Best value: 0.225046:  58%|█████▊    | 29/50 [02:05<01:31,  4.34s/it]"
     ]
    },
    {
     "name": "stdout",
     "output_type": "stream",
     "text": [
      "[I 2023-07-31 03:44:00,640] Trial 28 finished with value: 0.22470394825909362 and parameters: {'n_items_to_rank': 133}. Best is trial 9 with value: 0.2250456452232849.\n",
      "EvaluatorHoldout: Processed 5961 (100.0%) in 4.11 sec. Users per second: 1449\n"
     ]
    },
    {
     "name": "stderr",
     "output_type": "stream",
     "text": [
      "Best trial: 9. Best value: 0.225046:  60%|██████    | 30/50 [02:09<01:25,  4.28s/it]"
     ]
    },
    {
     "name": "stdout",
     "output_type": "stream",
     "text": [
      "[I 2023-07-31 03:44:04,777] Trial 29 finished with value: 0.22470394825909362 and parameters: {'n_items_to_rank': 132}. Best is trial 9 with value: 0.2250456452232849.\n",
      "EvaluatorHoldout: Processed 5961 (100.0%) in 4.28 sec. Users per second: 1393\n"
     ]
    },
    {
     "name": "stderr",
     "output_type": "stream",
     "text": [
      "Best trial: 9. Best value: 0.225046:  62%|██████▏   | 31/50 [02:13<01:21,  4.28s/it]"
     ]
    },
    {
     "name": "stdout",
     "output_type": "stream",
     "text": [
      "[I 2023-07-31 03:44:09,081] Trial 30 finished with value: 0.22470394825909362 and parameters: {'n_items_to_rank': 67}. Best is trial 9 with value: 0.2250456452232849.\n",
      "EvaluatorHoldout: Processed 5961 (100.0%) in 4.18 sec. Users per second: 1425\n"
     ]
    },
    {
     "name": "stderr",
     "output_type": "stream",
     "text": [
      "Best trial: 9. Best value: 0.225046:  64%|██████▍   | 32/50 [02:18<01:16,  4.26s/it]"
     ]
    },
    {
     "name": "stdout",
     "output_type": "stream",
     "text": [
      "[I 2023-07-31 03:44:13,291] Trial 31 finished with value: 0.22470394825909362 and parameters: {'n_items_to_rank': 269}. Best is trial 9 with value: 0.2250456452232849.\n",
      "EvaluatorHoldout: Processed 5961 (100.0%) in 4.46 sec. Users per second: 1335\n"
     ]
    },
    {
     "name": "stderr",
     "output_type": "stream",
     "text": [
      "Best trial: 9. Best value: 0.225046:  66%|██████▌   | 33/50 [02:22<01:13,  4.33s/it]"
     ]
    },
    {
     "name": "stdout",
     "output_type": "stream",
     "text": [
      "[I 2023-07-31 03:44:17,778] Trial 32 finished with value: 0.2250456452232849 and parameters: {'n_items_to_rank': 28}. Best is trial 9 with value: 0.2250456452232849.\n",
      "EvaluatorHoldout: Processed 5961 (100.0%) in 4.18 sec. Users per second: 1426\n"
     ]
    },
    {
     "name": "stderr",
     "output_type": "stream",
     "text": [
      "Best trial: 9. Best value: 0.225046:  68%|██████▊   | 34/50 [02:26<01:08,  4.29s/it]"
     ]
    },
    {
     "name": "stdout",
     "output_type": "stream",
     "text": [
      "[I 2023-07-31 03:44:21,981] Trial 33 finished with value: 0.22470394825909362 and parameters: {'n_items_to_rank': 89}. Best is trial 9 with value: 0.2250456452232849.\n",
      "EvaluatorHoldout: Processed 5961 (100.0%) in 4.13 sec. Users per second: 1443\n"
     ]
    },
    {
     "name": "stderr",
     "output_type": "stream",
     "text": [
      "Best trial: 9. Best value: 0.225046:  70%|███████   | 35/50 [02:30<01:03,  4.25s/it]"
     ]
    },
    {
     "name": "stdout",
     "output_type": "stream",
     "text": [
      "[I 2023-07-31 03:44:26,136] Trial 34 finished with value: 0.22470394825909362 and parameters: {'n_items_to_rank': 198}. Best is trial 9 with value: 0.2250456452232849.\n",
      "EvaluatorHoldout: Processed 5961 (100.0%) in 4.44 sec. Users per second: 1342\n"
     ]
    },
    {
     "name": "stderr",
     "output_type": "stream",
     "text": [
      "Best trial: 9. Best value: 0.225046:  72%|███████▏  | 36/50 [02:35<01:00,  4.31s/it]"
     ]
    },
    {
     "name": "stdout",
     "output_type": "stream",
     "text": [
      "[I 2023-07-31 03:44:30,601] Trial 35 finished with value: 0.2250456452232849 and parameters: {'n_items_to_rank': 28}. Best is trial 9 with value: 0.2250456452232849.\n",
      "EvaluatorHoldout: Processed 5961 (100.0%) in 4.21 sec. Users per second: 1416\n"
     ]
    },
    {
     "name": "stderr",
     "output_type": "stream",
     "text": [
      "Best trial: 9. Best value: 0.225046:  74%|███████▍  | 37/50 [02:39<00:55,  4.29s/it]"
     ]
    },
    {
     "name": "stdout",
     "output_type": "stream",
     "text": [
      "[I 2023-07-31 03:44:34,839] Trial 36 finished with value: 0.22470394825909362 and parameters: {'n_items_to_rank': 173}. Best is trial 9 with value: 0.2250456452232849.\n",
      "EvaluatorHoldout: Processed 5961 (100.0%) in 4.16 sec. Users per second: 1434\n"
     ]
    },
    {
     "name": "stderr",
     "output_type": "stream",
     "text": [
      "Best trial: 9. Best value: 0.225046:  76%|███████▌  | 38/50 [02:43<00:51,  4.26s/it]"
     ]
    },
    {
     "name": "stdout",
     "output_type": "stream",
     "text": [
      "[I 2023-07-31 03:44:39,021] Trial 37 finished with value: 0.22470394825909362 and parameters: {'n_items_to_rank': 268}. Best is trial 9 with value: 0.2250456452232849.\n",
      "EvaluatorHoldout: Processed 5961 (100.0%) in 4.14 sec. Users per second: 1440\n"
     ]
    },
    {
     "name": "stderr",
     "output_type": "stream",
     "text": [
      "Best trial: 9. Best value: 0.225046:  78%|███████▊  | 39/50 [02:47<00:46,  4.23s/it]"
     ]
    },
    {
     "name": "stdout",
     "output_type": "stream",
     "text": [
      "[I 2023-07-31 03:44:43,186] Trial 38 finished with value: 0.22470394825909362 and parameters: {'n_items_to_rank': 253}. Best is trial 9 with value: 0.2250456452232849.\n",
      "EvaluatorHoldout: Processed 5961 (100.0%) in 4.20 sec. Users per second: 1419\n"
     ]
    },
    {
     "name": "stderr",
     "output_type": "stream",
     "text": [
      "Best trial: 9. Best value: 0.225046:  80%|████████  | 40/50 [02:52<00:42,  4.23s/it]"
     ]
    },
    {
     "name": "stdout",
     "output_type": "stream",
     "text": [
      "[I 2023-07-31 03:44:47,415] Trial 39 finished with value: 0.22470394825909362 and parameters: {'n_items_to_rank': 160}. Best is trial 9 with value: 0.2250456452232849.\n",
      "EvaluatorHoldout: Processed 5961 (100.0%) in 4.16 sec. Users per second: 1434\n"
     ]
    },
    {
     "name": "stderr",
     "output_type": "stream",
     "text": [
      "Best trial: 9. Best value: 0.225046:  82%|████████▏ | 41/50 [02:56<00:37,  4.22s/it]"
     ]
    },
    {
     "name": "stdout",
     "output_type": "stream",
     "text": [
      "[I 2023-07-31 03:44:51,601] Trial 40 finished with value: 0.22470394825909362 and parameters: {'n_items_to_rank': 136}. Best is trial 9 with value: 0.2250456452232849.\n",
      "EvaluatorHoldout: Processed 5961 (100.0%) in 4.14 sec. Users per second: 1440\n"
     ]
    },
    {
     "name": "stderr",
     "output_type": "stream",
     "text": [
      "Best trial: 9. Best value: 0.225046:  84%|████████▍ | 42/50 [03:00<00:33,  4.24s/it]"
     ]
    },
    {
     "name": "stdout",
     "output_type": "stream",
     "text": [
      "[I 2023-07-31 03:44:55,883] Trial 41 finished with value: 0.22470394825909362 and parameters: {'n_items_to_rank': 291}. Best is trial 9 with value: 0.2250456452232849.\n",
      "EvaluatorHoldout: Processed 5961 (100.0%) in 4.42 sec. Users per second: 1348\n"
     ]
    },
    {
     "name": "stderr",
     "output_type": "stream",
     "text": [
      "Best trial: 9. Best value: 0.225046:  86%|████████▌ | 43/50 [03:05<00:30,  4.30s/it]"
     ]
    },
    {
     "name": "stdout",
     "output_type": "stream",
     "text": [
      "[I 2023-07-31 03:45:00,333] Trial 42 finished with value: 0.2250456452232849 and parameters: {'n_items_to_rank': 28}. Best is trial 9 with value: 0.2250456452232849.\n",
      "EvaluatorHoldout: Processed 5961 (100.0%) in 4.16 sec. Users per second: 1432\n"
     ]
    },
    {
     "name": "stderr",
     "output_type": "stream",
     "text": [
      "Best trial: 9. Best value: 0.225046:  88%|████████▊ | 44/50 [03:09<00:25,  4.27s/it]"
     ]
    },
    {
     "name": "stdout",
     "output_type": "stream",
     "text": [
      "[I 2023-07-31 03:45:04,526] Trial 43 finished with value: 0.22470394825909362 and parameters: {'n_items_to_rank': 106}. Best is trial 9 with value: 0.2250456452232849.\n",
      "EvaluatorHoldout: Processed 5961 (100.0%) in 4.13 sec. Users per second: 1443\n"
     ]
    },
    {
     "name": "stderr",
     "output_type": "stream",
     "text": [
      "Best trial: 9. Best value: 0.225046:  90%|█████████ | 45/50 [03:13<00:21,  4.24s/it]"
     ]
    },
    {
     "name": "stdout",
     "output_type": "stream",
     "text": [
      "[I 2023-07-31 03:45:08,685] Trial 44 finished with value: 0.22470394825909362 and parameters: {'n_items_to_rank': 63}. Best is trial 9 with value: 0.2250456452232849.\n",
      "EvaluatorHoldout: Processed 5961 (100.0%) in 4.40 sec. Users per second: 1354\n"
     ]
    },
    {
     "name": "stderr",
     "output_type": "stream",
     "text": [
      "Best trial: 9. Best value: 0.225046:  92%|█████████▏| 46/50 [03:17<00:17,  4.29s/it]"
     ]
    },
    {
     "name": "stdout",
     "output_type": "stream",
     "text": [
      "[I 2023-07-31 03:45:13,114] Trial 45 finished with value: 0.2250456452232849 and parameters: {'n_items_to_rank': 28}. Best is trial 9 with value: 0.2250456452232849.\n",
      "EvaluatorHoldout: Processed 5961 (100.0%) in 4.14 sec. Users per second: 1441\n"
     ]
    },
    {
     "name": "stderr",
     "output_type": "stream",
     "text": [
      "Best trial: 9. Best value: 0.225046:  94%|█████████▍| 47/50 [03:22<00:12,  4.26s/it]"
     ]
    },
    {
     "name": "stdout",
     "output_type": "stream",
     "text": [
      "[I 2023-07-31 03:45:17,279] Trial 46 finished with value: 0.22470394825909362 and parameters: {'n_items_to_rank': 176}. Best is trial 9 with value: 0.2250456452232849.\n",
      "EvaluatorHoldout: Processed 5961 (100.0%) in 4.12 sec. Users per second: 1445\n"
     ]
    },
    {
     "name": "stderr",
     "output_type": "stream",
     "text": [
      "Best trial: 9. Best value: 0.225046:  96%|█████████▌| 48/50 [03:26<00:08,  4.23s/it]"
     ]
    },
    {
     "name": "stdout",
     "output_type": "stream",
     "text": [
      "[I 2023-07-31 03:45:21,434] Trial 47 finished with value: 0.22470394825909362 and parameters: {'n_items_to_rank': 191}. Best is trial 9 with value: 0.2250456452232849.\n",
      "EvaluatorHoldout: Processed 5961 (100.0%) in 4.12 sec. Users per second: 1446\n"
     ]
    },
    {
     "name": "stderr",
     "output_type": "stream",
     "text": [
      "Best trial: 9. Best value: 0.225046:  98%|█████████▊| 49/50 [03:30<00:04,  4.20s/it]"
     ]
    },
    {
     "name": "stdout",
     "output_type": "stream",
     "text": [
      "[I 2023-07-31 03:45:25,585] Trial 48 finished with value: 0.22470394825909362 and parameters: {'n_items_to_rank': 126}. Best is trial 9 with value: 0.2250456452232849.\n",
      "EvaluatorHoldout: Processed 5961 (100.0%) in 4.04 sec. Users per second: 1474\n"
     ]
    },
    {
     "name": "stderr",
     "output_type": "stream",
     "text": [
      "Best trial: 9. Best value: 0.225046: 100%|██████████| 50/50 [03:34<00:00,  4.29s/it]"
     ]
    },
    {
     "name": "stdout",
     "output_type": "stream",
     "text": [
      "[I 2023-07-31 03:45:29,661] Trial 49 finished with value: 0.22440925868824996 and parameters: {'n_items_to_rank': 34}. Best is trial 9 with value: 0.2250456452232849.\n",
      "Recommender_Base_Class: URM Detected 194 ( 5.0%) items with no interactions.\n"
     ]
    },
    {
     "name": "stderr",
     "output_type": "stream",
     "text": [
      "\n"
     ]
    },
    {
     "name": "stdout",
     "output_type": "stream",
     "text": [
      "EvaluatorHoldout: Processed 5976 (100.0%) in 4.06 sec. Users per second: 1474\n"
     ]
    },
    {
     "name": "stderr",
     "output_type": "stream",
     "text": [
      "[I 2023-07-31 03:45:35,461] A new study created in memory with name: no-name-65a8416d-90c6-42d9-bdba-d5d38ff1cf28\n",
      "  0%|          | 0/50 [00:00<?, ?it/s]"
     ]
    },
    {
     "name": "stdout",
     "output_type": "stream",
     "text": [
      "ItemKNNCFRecommender\n",
      "DiffusionAutoencoderRecommender_ItemKNNCFRecommender_TwoLevelRec\n",
      "EvaluatorHoldout: Processed 5961 (100.0%) in 5.14 sec. Users per second: 1159\n"
     ]
    },
    {
     "name": "stderr",
     "output_type": "stream",
     "text": [
      "Best trial: 0. Best value: 0.19497:   2%|▏         | 1/50 [00:05<04:12,  5.16s/it]"
     ]
    },
    {
     "name": "stdout",
     "output_type": "stream",
     "text": [
      "[I 2023-07-31 03:45:40,618] Trial 0 finished with value: 0.19497025119840253 and parameters: {'n_items_to_rank': 163}. Best is trial 0 with value: 0.19497025119840253.\n",
      "EvaluatorHoldout: Processed 5961 (100.0%) in 5.11 sec. Users per second: 1165\n"
     ]
    },
    {
     "name": "stderr",
     "output_type": "stream",
     "text": [
      "Best trial: 0. Best value: 0.19497:   4%|▍         | 2/50 [00:10<04:06,  5.14s/it]"
     ]
    },
    {
     "name": "stdout",
     "output_type": "stream",
     "text": [
      "[I 2023-07-31 03:45:45,748] Trial 1 finished with value: 0.19497025119840253 and parameters: {'n_items_to_rank': 300}. Best is trial 0 with value: 0.19497025119840253.\n",
      "EvaluatorHoldout: Processed 5961 (100.0%) in 5.12 sec. Users per second: 1164\n"
     ]
    },
    {
     "name": "stderr",
     "output_type": "stream",
     "text": [
      "Best trial: 0. Best value: 0.19497:   6%|▌         | 3/50 [00:15<04:01,  5.14s/it]"
     ]
    },
    {
     "name": "stdout",
     "output_type": "stream",
     "text": [
      "[I 2023-07-31 03:45:50,885] Trial 2 finished with value: 0.19497025119840253 and parameters: {'n_items_to_rank': 126}. Best is trial 0 with value: 0.19497025119840253.\n",
      "EvaluatorHoldout: Processed 5961 (100.0%) in 5.13 sec. Users per second: 1162\n"
     ]
    },
    {
     "name": "stderr",
     "output_type": "stream",
     "text": [
      "Best trial: 0. Best value: 0.19497:   8%|▊         | 4/50 [00:20<03:56,  5.14s/it]"
     ]
    },
    {
     "name": "stdout",
     "output_type": "stream",
     "text": [
      "[I 2023-07-31 03:45:56,033] Trial 3 finished with value: 0.19497025119840253 and parameters: {'n_items_to_rank': 99}. Best is trial 0 with value: 0.19497025119840253.\n",
      "EvaluatorHoldout: Processed 5961 (100.0%) in 5.23 sec. Users per second: 1140\n"
     ]
    },
    {
     "name": "stderr",
     "output_type": "stream",
     "text": [
      "Best trial: 0. Best value: 0.19497:  10%|█         | 5/50 [00:25<03:53,  5.18s/it]"
     ]
    },
    {
     "name": "stdout",
     "output_type": "stream",
     "text": [
      "[I 2023-07-31 03:46:01,290] Trial 4 finished with value: 0.19497025119840253 and parameters: {'n_items_to_rank': 69}. Best is trial 0 with value: 0.19497025119840253.\n",
      "EvaluatorHoldout: Processed 5961 (100.0%) in 5.29 sec. Users per second: 1127\n"
     ]
    },
    {
     "name": "stderr",
     "output_type": "stream",
     "text": [
      "Best trial: 0. Best value: 0.19497:  12%|█▏        | 6/50 [00:31<03:49,  5.23s/it]"
     ]
    },
    {
     "name": "stdout",
     "output_type": "stream",
     "text": [
      "[I 2023-07-31 03:46:06,599] Trial 5 finished with value: 0.19497025119840253 and parameters: {'n_items_to_rank': 244}. Best is trial 0 with value: 0.19497025119840253.\n",
      "EvaluatorHoldout: Processed 5961 (100.0%) in 5.63 sec. Users per second: 1059\n"
     ]
    },
    {
     "name": "stderr",
     "output_type": "stream",
     "text": [
      "Best trial: 0. Best value: 0.19497:  14%|█▍        | 7/50 [00:36<03:50,  5.37s/it]"
     ]
    },
    {
     "name": "stdout",
     "output_type": "stream",
     "text": [
      "[I 2023-07-31 03:46:12,250] Trial 6 finished with value: 0.19497025119840253 and parameters: {'n_items_to_rank': 288}. Best is trial 0 with value: 0.19497025119840253.\n",
      "EvaluatorHoldout: Processed 5961 (100.0%) in 5.29 sec. Users per second: 1128\n"
     ]
    },
    {
     "name": "stderr",
     "output_type": "stream",
     "text": [
      "Best trial: 0. Best value: 0.19497:  16%|█▌        | 8/50 [00:42<03:44,  5.35s/it]"
     ]
    },
    {
     "name": "stdout",
     "output_type": "stream",
     "text": [
      "[I 2023-07-31 03:46:17,556] Trial 7 finished with value: 0.19497025119840253 and parameters: {'n_items_to_rank': 57}. Best is trial 0 with value: 0.19497025119840253.\n",
      "EvaluatorHoldout: Processed 5961 (100.0%) in 5.35 sec. Users per second: 1114\n"
     ]
    },
    {
     "name": "stderr",
     "output_type": "stream",
     "text": [
      "Best trial: 0. Best value: 0.19497:  18%|█▊        | 9/50 [00:47<03:39,  5.35s/it]"
     ]
    },
    {
     "name": "stdout",
     "output_type": "stream",
     "text": [
      "[I 2023-07-31 03:46:22,928] Trial 8 finished with value: 0.19497025119840253 and parameters: {'n_items_to_rank': 123}. Best is trial 0 with value: 0.19497025119840253.\n",
      "EvaluatorHoldout: Processed 5961 (100.0%) in 5.31 sec. Users per second: 1124\n"
     ]
    },
    {
     "name": "stderr",
     "output_type": "stream",
     "text": [
      "Best trial: 0. Best value: 0.19497:  20%|██        | 10/50 [00:52<03:33,  5.35s/it]"
     ]
    },
    {
     "name": "stdout",
     "output_type": "stream",
     "text": [
      "[I 2023-07-31 03:46:28,255] Trial 9 finished with value: 0.19497025119840253 and parameters: {'n_items_to_rank': 262}. Best is trial 0 with value: 0.19497025119840253.\n",
      "EvaluatorHoldout: Processed 5961 (100.0%) in 5.16 sec. Users per second: 1154\n"
     ]
    },
    {
     "name": "stderr",
     "output_type": "stream",
     "text": [
      "Best trial: 0. Best value: 0.19497:  22%|██▏       | 11/50 [00:57<03:26,  5.30s/it]"
     ]
    },
    {
     "name": "stdout",
     "output_type": "stream",
     "text": [
      "[I 2023-07-31 03:46:33,441] Trial 10 finished with value: 0.19497025119840253 and parameters: {'n_items_to_rank': 117}. Best is trial 0 with value: 0.19497025119840253.\n",
      "EvaluatorHoldout: Processed 5961 (100.0%) in 5.12 sec. Users per second: 1165\n"
     ]
    },
    {
     "name": "stderr",
     "output_type": "stream",
     "text": [
      "Best trial: 11. Best value: 0.195677:  24%|██▍       | 12/50 [01:03<03:19,  5.25s/it]"
     ]
    },
    {
     "name": "stdout",
     "output_type": "stream",
     "text": [
      "[I 2023-07-31 03:46:38,577] Trial 11 finished with value: 0.19567712158676825 and parameters: {'n_items_to_rank': 46}. Best is trial 11 with value: 0.19567712158676825.\n",
      "EvaluatorHoldout: Processed 5961 (100.0%) in 5.17 sec. Users per second: 1154\n"
     ]
    },
    {
     "name": "stderr",
     "output_type": "stream",
     "text": [
      "Best trial: 11. Best value: 0.195677:  26%|██▌       | 13/50 [01:08<03:13,  5.23s/it]"
     ]
    },
    {
     "name": "stdout",
     "output_type": "stream",
     "text": [
      "[I 2023-07-31 03:46:43,767] Trial 12 finished with value: 0.19497025119840253 and parameters: {'n_items_to_rank': 163}. Best is trial 11 with value: 0.19567712158676825.\n",
      "EvaluatorHoldout: Processed 5961 (100.0%) in 5.15 sec. Users per second: 1158\n"
     ]
    },
    {
     "name": "stderr",
     "output_type": "stream",
     "text": [
      "Best trial: 11. Best value: 0.195677:  28%|██▊       | 14/50 [01:13<03:07,  5.21s/it]"
     ]
    },
    {
     "name": "stdout",
     "output_type": "stream",
     "text": [
      "[I 2023-07-31 03:46:48,933] Trial 13 finished with value: 0.19497025119840253 and parameters: {'n_items_to_rank': 222}. Best is trial 11 with value: 0.19567712158676825.\n",
      "EvaluatorHoldout: Processed 5961 (100.0%) in 5.13 sec. Users per second: 1163\n"
     ]
    },
    {
     "name": "stderr",
     "output_type": "stream",
     "text": [
      "Best trial: 11. Best value: 0.195677:  30%|███       | 15/50 [01:18<03:01,  5.19s/it]"
     ]
    },
    {
     "name": "stdout",
     "output_type": "stream",
     "text": [
      "[I 2023-07-31 03:46:54,080] Trial 14 finished with value: 0.19497025119840253 and parameters: {'n_items_to_rank': 135}. Best is trial 11 with value: 0.19567712158676825.\n",
      "EvaluatorHoldout: Processed 5961 (100.0%) in 5.14 sec. Users per second: 1159\n"
     ]
    },
    {
     "name": "stderr",
     "output_type": "stream",
     "text": [
      "Best trial: 11. Best value: 0.195677:  32%|███▏      | 16/50 [01:23<02:56,  5.18s/it]"
     ]
    },
    {
     "name": "stdout",
     "output_type": "stream",
     "text": [
      "[I 2023-07-31 03:46:59,244] Trial 15 finished with value: 0.19497025119840253 and parameters: {'n_items_to_rank': 257}. Best is trial 11 with value: 0.19567712158676825.\n",
      "EvaluatorHoldout: Processed 5961 (100.0%) in 5.15 sec. Users per second: 1157\n"
     ]
    },
    {
     "name": "stderr",
     "output_type": "stream",
     "text": [
      "Best trial: 11. Best value: 0.195677:  34%|███▍      | 17/50 [01:28<02:50,  5.18s/it]"
     ]
    },
    {
     "name": "stdout",
     "output_type": "stream",
     "text": [
      "[I 2023-07-31 03:47:04,421] Trial 16 finished with value: 0.19497025119840253 and parameters: {'n_items_to_rank': 116}. Best is trial 11 with value: 0.19567712158676825.\n",
      "EvaluatorHoldout: Processed 5961 (100.0%) in 5.40 sec. Users per second: 1105\n"
     ]
    },
    {
     "name": "stderr",
     "output_type": "stream",
     "text": [
      "Best trial: 17. Best value: 0.199418:  36%|███▌      | 18/50 [01:34<02:48,  5.25s/it]"
     ]
    },
    {
     "name": "stdout",
     "output_type": "stream",
     "text": [
      "[I 2023-07-31 03:47:09,838] Trial 17 finished with value: 0.19941797524233015 and parameters: {'n_items_to_rank': 27}. Best is trial 17 with value: 0.19941797524233015.\n",
      "EvaluatorHoldout: Processed 5961 (100.0%) in 5.27 sec. Users per second: 1132\n"
     ]
    },
    {
     "name": "stderr",
     "output_type": "stream",
     "text": [
      "Best trial: 17. Best value: 0.199418:  38%|███▊      | 19/50 [01:39<02:43,  5.26s/it]"
     ]
    },
    {
     "name": "stdout",
     "output_type": "stream",
     "text": [
      "[I 2023-07-31 03:47:15,128] Trial 18 finished with value: 0.19497025119840253 and parameters: {'n_items_to_rank': 64}. Best is trial 17 with value: 0.19941797524233015.\n",
      "EvaluatorHoldout: Processed 5961 (100.0%) in 5.15 sec. Users per second: 1158\n"
     ]
    },
    {
     "name": "stderr",
     "output_type": "stream",
     "text": [
      "Best trial: 17. Best value: 0.199418:  40%|████      | 20/50 [01:44<02:37,  5.24s/it]"
     ]
    },
    {
     "name": "stdout",
     "output_type": "stream",
     "text": [
      "[I 2023-07-31 03:47:20,297] Trial 19 finished with value: 0.19497025119840253 and parameters: {'n_items_to_rank': 177}. Best is trial 17 with value: 0.19941797524233015.\n",
      "EvaluatorHoldout: Processed 5961 (100.0%) in 5.15 sec. Users per second: 1156\n"
     ]
    },
    {
     "name": "stderr",
     "output_type": "stream",
     "text": [
      "Best trial: 17. Best value: 0.199418:  42%|████▏     | 21/50 [01:50<02:31,  5.22s/it]"
     ]
    },
    {
     "name": "stdout",
     "output_type": "stream",
     "text": [
      "[I 2023-07-31 03:47:25,474] Trial 20 finished with value: 0.19497025119840253 and parameters: {'n_items_to_rank': 54}. Best is trial 17 with value: 0.19941797524233015.\n",
      "EvaluatorHoldout: Processed 5961 (100.0%) in 5.12 sec. Users per second: 1165\n"
     ]
    },
    {
     "name": "stderr",
     "output_type": "stream",
     "text": [
      "Best trial: 17. Best value: 0.199418:  44%|████▍     | 22/50 [01:55<02:25,  5.19s/it]"
     ]
    },
    {
     "name": "stdout",
     "output_type": "stream",
     "text": [
      "[I 2023-07-31 03:47:30,614] Trial 21 finished with value: 0.19567712158676825 and parameters: {'n_items_to_rank': 46}. Best is trial 17 with value: 0.19941797524233015.\n",
      "EvaluatorHoldout: Processed 5961 (100.0%) in 5.15 sec. Users per second: 1158\n"
     ]
    },
    {
     "name": "stderr",
     "output_type": "stream",
     "text": [
      "Best trial: 17. Best value: 0.199418:  46%|████▌     | 23/50 [02:00<02:20,  5.19s/it]"
     ]
    },
    {
     "name": "stdout",
     "output_type": "stream",
     "text": [
      "[I 2023-07-31 03:47:35,785] Trial 22 finished with value: 0.19497025119840253 and parameters: {'n_items_to_rank': 259}. Best is trial 17 with value: 0.19941797524233015.\n",
      "EvaluatorHoldout: Processed 5961 (100.0%) in 5.16 sec. Users per second: 1156\n"
     ]
    },
    {
     "name": "stderr",
     "output_type": "stream",
     "text": [
      "Best trial: 17. Best value: 0.199418:  48%|████▊     | 24/50 [02:05<02:14,  5.19s/it]"
     ]
    },
    {
     "name": "stdout",
     "output_type": "stream",
     "text": [
      "[I 2023-07-31 03:47:40,965] Trial 23 finished with value: 0.19497025119840253 and parameters: {'n_items_to_rank': 196}. Best is trial 17 with value: 0.19941797524233015.\n",
      "EvaluatorHoldout: Processed 5961 (100.0%) in 5.21 sec. Users per second: 1144\n"
     ]
    },
    {
     "name": "stderr",
     "output_type": "stream",
     "text": [
      "Best trial: 17. Best value: 0.199418:  50%|█████     | 25/50 [02:10<02:10,  5.20s/it]"
     ]
    },
    {
     "name": "stdout",
     "output_type": "stream",
     "text": [
      "[I 2023-07-31 03:47:46,200] Trial 24 finished with value: 0.19567712158676825 and parameters: {'n_items_to_rank': 46}. Best is trial 17 with value: 0.19941797524233015.\n",
      "EvaluatorHoldout: Processed 5961 (100.0%) in 5.38 sec. Users per second: 1109\n"
     ]
    },
    {
     "name": "stderr",
     "output_type": "stream",
     "text": [
      "Best trial: 17. Best value: 0.199418:  52%|█████▏    | 26/50 [02:16<02:06,  5.26s/it]"
     ]
    },
    {
     "name": "stdout",
     "output_type": "stream",
     "text": [
      "[I 2023-07-31 03:47:51,598] Trial 25 finished with value: 0.19941797524233015 and parameters: {'n_items_to_rank': 27}. Best is trial 17 with value: 0.19941797524233015.\n",
      "EvaluatorHoldout: Processed 5961 (100.0%) in 5.02 sec. Users per second: 1188\n"
     ]
    },
    {
     "name": "stderr",
     "output_type": "stream",
     "text": [
      "Best trial: 17. Best value: 0.199418:  54%|█████▍    | 27/50 [02:21<01:59,  5.20s/it]"
     ]
    },
    {
     "name": "stdout",
     "output_type": "stream",
     "text": [
      "[I 2023-07-31 03:47:56,643] Trial 26 finished with value: 0.1968118013407226 and parameters: {'n_items_to_rank': 37}. Best is trial 17 with value: 0.19941797524233015.\n",
      "EvaluatorHoldout: Processed 5961 (100.0%) in 5.41 sec. Users per second: 1101\n"
     ]
    },
    {
     "name": "stderr",
     "output_type": "stream",
     "text": [
      "Best trial: 17. Best value: 0.199418:  56%|█████▌    | 28/50 [02:26<01:55,  5.27s/it]"
     ]
    },
    {
     "name": "stdout",
     "output_type": "stream",
     "text": [
      "[I 2023-07-31 03:48:02,081] Trial 27 finished with value: 0.19941797524233015 and parameters: {'n_items_to_rank': 27}. Best is trial 17 with value: 0.19941797524233015.\n",
      "EvaluatorHoldout: Processed 5961 (100.0%) in 5.18 sec. Users per second: 1150\n"
     ]
    },
    {
     "name": "stderr",
     "output_type": "stream",
     "text": [
      "Best trial: 17. Best value: 0.199418:  58%|█████▊    | 29/50 [02:31<01:50,  5.25s/it]"
     ]
    },
    {
     "name": "stdout",
     "output_type": "stream",
     "text": [
      "[I 2023-07-31 03:48:07,288] Trial 28 finished with value: 0.19497025119840253 and parameters: {'n_items_to_rank': 197}. Best is trial 17 with value: 0.19941797524233015.\n",
      "EvaluatorHoldout: Processed 5961 (100.0%) in 5.41 sec. Users per second: 1101\n"
     ]
    },
    {
     "name": "stderr",
     "output_type": "stream",
     "text": [
      "Best trial: 17. Best value: 0.199418:  60%|██████    | 30/50 [02:37<01:46,  5.31s/it]"
     ]
    },
    {
     "name": "stdout",
     "output_type": "stream",
     "text": [
      "[I 2023-07-31 03:48:12,729] Trial 29 finished with value: 0.19941797524233015 and parameters: {'n_items_to_rank': 27}. Best is trial 17 with value: 0.19941797524233015.\n",
      "EvaluatorHoldout: Processed 5961 (100.0%) in 5.18 sec. Users per second: 1150\n"
     ]
    },
    {
     "name": "stderr",
     "output_type": "stream",
     "text": [
      "Best trial: 17. Best value: 0.199418:  62%|██████▏   | 31/50 [02:42<01:40,  5.28s/it]"
     ]
    },
    {
     "name": "stdout",
     "output_type": "stream",
     "text": [
      "[I 2023-07-31 03:48:17,940] Trial 30 finished with value: 0.19497025119840253 and parameters: {'n_items_to_rank': 169}. Best is trial 17 with value: 0.19941797524233015.\n",
      "EvaluatorHoldout: Processed 5961 (100.0%) in 5.41 sec. Users per second: 1102\n"
     ]
    },
    {
     "name": "stderr",
     "output_type": "stream",
     "text": [
      "Best trial: 17. Best value: 0.199418:  64%|██████▍   | 32/50 [02:47<01:35,  5.32s/it]"
     ]
    },
    {
     "name": "stdout",
     "output_type": "stream",
     "text": [
      "[I 2023-07-31 03:48:23,374] Trial 31 finished with value: 0.19941797524233015 and parameters: {'n_items_to_rank': 27}. Best is trial 17 with value: 0.19941797524233015.\n",
      "EvaluatorHoldout: Processed 5961 (100.0%) in 5.19 sec. Users per second: 1149\n"
     ]
    },
    {
     "name": "stderr",
     "output_type": "stream",
     "text": [
      "Best trial: 17. Best value: 0.199418:  66%|██████▌   | 33/50 [02:53<01:29,  5.29s/it]"
     ]
    },
    {
     "name": "stdout",
     "output_type": "stream",
     "text": [
      "[I 2023-07-31 03:48:28,587] Trial 32 finished with value: 0.19497025119840253 and parameters: {'n_items_to_rank': 294}. Best is trial 17 with value: 0.19941797524233015.\n",
      "EvaluatorHoldout: Processed 5961 (100.0%) in 5.39 sec. Users per second: 1105\n"
     ]
    },
    {
     "name": "stderr",
     "output_type": "stream",
     "text": [
      "Best trial: 17. Best value: 0.199418:  68%|██████▊   | 34/50 [02:58<01:25,  5.33s/it]"
     ]
    },
    {
     "name": "stdout",
     "output_type": "stream",
     "text": [
      "[I 2023-07-31 03:48:34,008] Trial 33 finished with value: 0.19941797524233015 and parameters: {'n_items_to_rank': 27}. Best is trial 17 with value: 0.19941797524233015.\n",
      "EvaluatorHoldout: Processed 5961 (100.0%) in 5.13 sec. Users per second: 1162\n"
     ]
    },
    {
     "name": "stderr",
     "output_type": "stream",
     "text": [
      "Best trial: 17. Best value: 0.199418:  70%|███████   | 35/50 [03:03<01:19,  5.28s/it]"
     ]
    },
    {
     "name": "stdout",
     "output_type": "stream",
     "text": [
      "[I 2023-07-31 03:48:39,163] Trial 34 finished with value: 0.19497025119840253 and parameters: {'n_items_to_rank': 78}. Best is trial 17 with value: 0.19941797524233015.\n",
      "EvaluatorHoldout: Processed 5961 (100.0%) in 5.40 sec. Users per second: 1104\n"
     ]
    },
    {
     "name": "stderr",
     "output_type": "stream",
     "text": [
      "Best trial: 17. Best value: 0.199418:  72%|███████▏  | 36/50 [03:09<01:14,  5.32s/it]"
     ]
    },
    {
     "name": "stdout",
     "output_type": "stream",
     "text": [
      "[I 2023-07-31 03:48:44,586] Trial 35 finished with value: 0.19941797524233015 and parameters: {'n_items_to_rank': 27}. Best is trial 17 with value: 0.19941797524233015.\n",
      "EvaluatorHoldout: Processed 5961 (100.0%) in 5.16 sec. Users per second: 1156\n"
     ]
    },
    {
     "name": "stderr",
     "output_type": "stream",
     "text": [
      "Best trial: 17. Best value: 0.199418:  74%|███████▍  | 37/50 [03:14<01:08,  5.28s/it]"
     ]
    },
    {
     "name": "stdout",
     "output_type": "stream",
     "text": [
      "[I 2023-07-31 03:48:49,769] Trial 36 finished with value: 0.19497025119840253 and parameters: {'n_items_to_rank': 186}. Best is trial 17 with value: 0.19941797524233015.\n",
      "EvaluatorHoldout: Processed 5961 (100.0%) in 5.18 sec. Users per second: 1151\n"
     ]
    },
    {
     "name": "stderr",
     "output_type": "stream",
     "text": [
      "Best trial: 17. Best value: 0.199418:  76%|███████▌  | 38/50 [03:19<01:03,  5.26s/it]"
     ]
    },
    {
     "name": "stdout",
     "output_type": "stream",
     "text": [
      "[I 2023-07-31 03:48:54,974] Trial 37 finished with value: 0.19497025119840253 and parameters: {'n_items_to_rank': 271}. Best is trial 17 with value: 0.19941797524233015.\n",
      "EvaluatorHoldout: Processed 5961 (100.0%) in 5.38 sec. Users per second: 1107\n"
     ]
    },
    {
     "name": "stderr",
     "output_type": "stream",
     "text": [
      "Best trial: 17. Best value: 0.199418:  78%|███████▊  | 39/50 [03:24<00:58,  5.30s/it]"
     ]
    },
    {
     "name": "stdout",
     "output_type": "stream",
     "text": [
      "[I 2023-07-31 03:49:00,385] Trial 38 finished with value: 0.19941797524233015 and parameters: {'n_items_to_rank': 27}. Best is trial 17 with value: 0.19941797524233015.\n",
      "EvaluatorHoldout: Processed 5961 (100.0%) in 5.35 sec. Users per second: 1114\n"
     ]
    },
    {
     "name": "stderr",
     "output_type": "stream",
     "text": [
      "Best trial: 39. Best value: 0.199732:  80%|████████  | 40/50 [03:30<00:53,  5.33s/it]"
     ]
    },
    {
     "name": "stdout",
     "output_type": "stream",
     "text": [
      "[I 2023-07-31 03:49:05,763] Trial 39 finished with value: 0.19973236438319844 and parameters: {'n_items_to_rank': 26}. Best is trial 39 with value: 0.19973236438319844.\n",
      "EvaluatorHoldout: Processed 5961 (100.0%) in 5.15 sec. Users per second: 1157\n"
     ]
    },
    {
     "name": "stderr",
     "output_type": "stream",
     "text": [
      "Best trial: 39. Best value: 0.199732:  82%|████████▏ | 41/50 [03:35<00:47,  5.28s/it]"
     ]
    },
    {
     "name": "stdout",
     "output_type": "stream",
     "text": [
      "[I 2023-07-31 03:49:10,944] Trial 40 finished with value: 0.19497025119840253 and parameters: {'n_items_to_rank': 140}. Best is trial 39 with value: 0.19973236438319844.\n",
      "EvaluatorHoldout: Processed 5961 (100.0%) in 5.15 sec. Users per second: 1157\n"
     ]
    },
    {
     "name": "stderr",
     "output_type": "stream",
     "text": [
      "Best trial: 41. Best value: 0.202541:  84%|████████▍ | 42/50 [03:40<00:42,  5.25s/it]"
     ]
    },
    {
     "name": "stdout",
     "output_type": "stream",
     "text": [
      "[I 2023-07-31 03:49:16,123] Trial 41 finished with value: 0.2025410347811508 and parameters: {'n_items_to_rank': 20}. Best is trial 41 with value: 0.2025410347811508.\n",
      "EvaluatorHoldout: Processed 5961 (100.0%) in 5.17 sec. Users per second: 1153\n"
     ]
    },
    {
     "name": "stderr",
     "output_type": "stream",
     "text": [
      "Best trial: 41. Best value: 0.202541:  86%|████████▌ | 43/50 [03:45<00:36,  5.23s/it]"
     ]
    },
    {
     "name": "stdout",
     "output_type": "stream",
     "text": [
      "[I 2023-07-31 03:49:21,320] Trial 42 finished with value: 0.19497025119840253 and parameters: {'n_items_to_rank': 246}. Best is trial 41 with value: 0.2025410347811508.\n",
      "EvaluatorHoldout: Processed 5961 (100.0%) in 5.36 sec. Users per second: 1113\n"
     ]
    },
    {
     "name": "stderr",
     "output_type": "stream",
     "text": [
      "Best trial: 41. Best value: 0.202541:  88%|████████▊ | 44/50 [03:51<00:31,  5.33s/it]"
     ]
    },
    {
     "name": "stdout",
     "output_type": "stream",
     "text": [
      "[I 2023-07-31 03:49:26,878] Trial 43 finished with value: 0.19973236438319844 and parameters: {'n_items_to_rank': 26}. Best is trial 41 with value: 0.2025410347811508.\n",
      "EvaluatorHoldout: Processed 5961 (100.0%) in 5.36 sec. Users per second: 1112\n"
     ]
    },
    {
     "name": "stderr",
     "output_type": "stream",
     "text": [
      "Best trial: 41. Best value: 0.202541:  90%|█████████ | 45/50 [03:56<00:26,  5.35s/it]"
     ]
    },
    {
     "name": "stdout",
     "output_type": "stream",
     "text": [
      "[I 2023-07-31 03:49:32,266] Trial 44 finished with value: 0.19973236438319844 and parameters: {'n_items_to_rank': 26}. Best is trial 41 with value: 0.2025410347811508.\n",
      "EvaluatorHoldout: Processed 5961 (100.0%) in 5.15 sec. Users per second: 1159\n"
     ]
    },
    {
     "name": "stderr",
     "output_type": "stream",
     "text": [
      "Best trial: 41. Best value: 0.202541:  92%|█████████▏| 46/50 [04:01<00:21,  5.30s/it]"
     ]
    },
    {
     "name": "stdout",
     "output_type": "stream",
     "text": [
      "[I 2023-07-31 03:49:37,440] Trial 45 finished with value: 0.19497025119840253 and parameters: {'n_items_to_rank': 242}. Best is trial 41 with value: 0.2025410347811508.\n",
      "EvaluatorHoldout: Processed 5961 (100.0%) in 5.36 sec. Users per second: 1112\n"
     ]
    },
    {
     "name": "stderr",
     "output_type": "stream",
     "text": [
      "Best trial: 41. Best value: 0.202541:  94%|█████████▍| 47/50 [04:07<00:15,  5.32s/it]"
     ]
    },
    {
     "name": "stdout",
     "output_type": "stream",
     "text": [
      "[I 2023-07-31 03:49:42,827] Trial 46 finished with value: 0.19973236438319844 and parameters: {'n_items_to_rank': 26}. Best is trial 41 with value: 0.2025410347811508.\n",
      "EvaluatorHoldout: Processed 5961 (100.0%) in 5.15 sec. Users per second: 1158\n"
     ]
    },
    {
     "name": "stderr",
     "output_type": "stream",
     "text": [
      "Best trial: 41. Best value: 0.202541:  96%|█████████▌| 48/50 [04:12<00:10,  5.28s/it]"
     ]
    },
    {
     "name": "stdout",
     "output_type": "stream",
     "text": [
      "[I 2023-07-31 03:49:48,002] Trial 47 finished with value: 0.19497025119840253 and parameters: {'n_items_to_rank': 134}. Best is trial 41 with value: 0.2025410347811508.\n",
      "EvaluatorHoldout: Processed 5961 (100.0%) in 5.03 sec. Users per second: 1185\n"
     ]
    },
    {
     "name": "stderr",
     "output_type": "stream",
     "text": [
      "Best trial: 41. Best value: 0.202541:  98%|█████████▊| 49/50 [04:17<00:05,  5.21s/it]"
     ]
    },
    {
     "name": "stdout",
     "output_type": "stream",
     "text": [
      "[I 2023-07-31 03:49:53,061] Trial 48 finished with value: 0.1962958623818707 and parameters: {'n_items_to_rank': 40}. Best is trial 41 with value: 0.2025410347811508.\n",
      "EvaluatorHoldout: Processed 5961 (100.0%) in 5.22 sec. Users per second: 1142\n"
     ]
    },
    {
     "name": "stderr",
     "output_type": "stream",
     "text": [
      "Best trial: 41. Best value: 0.202541: 100%|██████████| 50/50 [04:22<00:00,  5.26s/it]"
     ]
    },
    {
     "name": "stdout",
     "output_type": "stream",
     "text": [
      "[I 2023-07-31 03:49:58,310] Trial 49 finished with value: 0.19497025119840253 and parameters: {'n_items_to_rank': 228}. Best is trial 41 with value: 0.2025410347811508.\n",
      "Recommender_Base_Class: URM Detected 194 ( 5.0%) items with no interactions.\n"
     ]
    },
    {
     "name": "stderr",
     "output_type": "stream",
     "text": [
      "\n"
     ]
    },
    {
     "name": "stdout",
     "output_type": "stream",
     "text": [
      "EvaluatorHoldout: Processed 5976 (100.0%) in 5.40 sec. Users per second: 1107\n"
     ]
    },
    {
     "name": "stderr",
     "output_type": "stream",
     "text": [
      "[I 2023-07-31 03:50:05,470] A new study created in memory with name: no-name-f9a3d602-c07e-4805-a6ca-f55d9f425c0b\n",
      "  0%|          | 0/50 [00:00<?, ?it/s]"
     ]
    },
    {
     "name": "stdout",
     "output_type": "stream",
     "text": [
      "IALSRecommender\n",
      "DiffusionAutoencoderRecommender_IALSRecommender_TwoLevelRec\n",
      "EvaluatorHoldout: Processed 5961 (100.0%) in 4.03 sec. Users per second: 1480\n"
     ]
    },
    {
     "name": "stderr",
     "output_type": "stream",
     "text": [
      "Best trial: 0. Best value: 0.210619:   2%|▏         | 1/50 [00:04<03:18,  4.04s/it]"
     ]
    },
    {
     "name": "stdout",
     "output_type": "stream",
     "text": [
      "[I 2023-07-31 03:50:09,511] Trial 0 finished with value: 0.21061915625277988 and parameters: {'n_items_to_rank': 24}. Best is trial 0 with value: 0.21061915625277988.\n",
      "EvaluatorHoldout: Processed 5961 (100.0%) in 3.61 sec. Users per second: 1653\n"
     ]
    },
    {
     "name": "stderr",
     "output_type": "stream",
     "text": [
      "Best trial: 1. Best value: 0.212805:   4%|▍         | 2/50 [00:07<03:02,  3.79s/it]"
     ]
    },
    {
     "name": "stdout",
     "output_type": "stream",
     "text": [
      "[I 2023-07-31 03:50:13,130] Trial 1 finished with value: 0.21280532089028922 and parameters: {'n_items_to_rank': 11}. Best is trial 1 with value: 0.21280532089028922.\n",
      "EvaluatorHoldout: Processed 5961 (100.0%) in 3.84 sec. Users per second: 1551\n"
     ]
    },
    {
     "name": "stderr",
     "output_type": "stream",
     "text": [
      "Best trial: 1. Best value: 0.212805:   6%|▌         | 3/50 [00:11<02:59,  3.82s/it]"
     ]
    },
    {
     "name": "stdout",
     "output_type": "stream",
     "text": [
      "[I 2023-07-31 03:50:16,989] Trial 2 finished with value: 0.20829770343074566 and parameters: {'n_items_to_rank': 52}. Best is trial 1 with value: 0.21280532089028922.\n",
      "EvaluatorHoldout: Processed 5961 (100.0%) in 3.84 sec. Users per second: 1552\n"
     ]
    },
    {
     "name": "stderr",
     "output_type": "stream",
     "text": [
      "Best trial: 1. Best value: 0.212805:   8%|▊         | 4/50 [00:15<02:56,  3.84s/it]"
     ]
    },
    {
     "name": "stdout",
     "output_type": "stream",
     "text": [
      "[I 2023-07-31 03:50:20,846] Trial 3 finished with value: 0.20829770343074566 and parameters: {'n_items_to_rank': 259}. Best is trial 1 with value: 0.21280532089028922.\n",
      "EvaluatorHoldout: Processed 5961 (100.0%) in 3.85 sec. Users per second: 1547\n"
     ]
    },
    {
     "name": "stderr",
     "output_type": "stream",
     "text": [
      "Best trial: 1. Best value: 0.212805:  10%|█         | 5/50 [00:19<02:53,  3.85s/it]"
     ]
    },
    {
     "name": "stdout",
     "output_type": "stream",
     "text": [
      "[I 2023-07-31 03:50:24,717] Trial 4 finished with value: 0.20829770343074566 and parameters: {'n_items_to_rank': 214}. Best is trial 1 with value: 0.21280532089028922.\n",
      "EvaluatorHoldout: Processed 5961 (100.0%) in 3.53 sec. Users per second: 1689\n"
     ]
    },
    {
     "name": "stderr",
     "output_type": "stream",
     "text": [
      "Best trial: 1. Best value: 0.212805:  12%|█▏        | 6/50 [00:22<02:44,  3.75s/it]"
     ]
    },
    {
     "name": "stdout",
     "output_type": "stream",
     "text": [
      "[I 2023-07-31 03:50:28,261] Trial 5 finished with value: 0.21225426816846538 and parameters: {'n_items_to_rank': 10}. Best is trial 1 with value: 0.21280532089028922.\n",
      "EvaluatorHoldout: Processed 5961 (100.0%) in 3.88 sec. Users per second: 1535\n"
     ]
    },
    {
     "name": "stderr",
     "output_type": "stream",
     "text": [
      "Best trial: 1. Best value: 0.212805:  14%|█▍        | 7/50 [00:26<02:43,  3.80s/it]"
     ]
    },
    {
     "name": "stdout",
     "output_type": "stream",
     "text": [
      "[I 2023-07-31 03:50:32,160] Trial 6 finished with value: 0.20829770343074566 and parameters: {'n_items_to_rank': 265}. Best is trial 1 with value: 0.21280532089028922.\n",
      "EvaluatorHoldout: Processed 5961 (100.0%) in 3.86 sec. Users per second: 1545\n"
     ]
    },
    {
     "name": "stderr",
     "output_type": "stream",
     "text": [
      "Best trial: 1. Best value: 0.212805:  16%|█▌        | 8/50 [00:30<02:40,  3.82s/it]"
     ]
    },
    {
     "name": "stdout",
     "output_type": "stream",
     "text": [
      "[I 2023-07-31 03:50:36,034] Trial 7 finished with value: 0.20829770343074566 and parameters: {'n_items_to_rank': 278}. Best is trial 1 with value: 0.21280532089028922.\n",
      "EvaluatorHoldout: Processed 5961 (100.0%) in 3.95 sec. Users per second: 1509\n"
     ]
    },
    {
     "name": "stderr",
     "output_type": "stream",
     "text": [
      "Best trial: 1. Best value: 0.212805:  18%|█▊        | 9/50 [00:34<02:38,  3.87s/it]"
     ]
    },
    {
     "name": "stdout",
     "output_type": "stream",
     "text": [
      "[I 2023-07-31 03:50:40,003] Trial 8 finished with value: 0.20829770343074566 and parameters: {'n_items_to_rank': 156}. Best is trial 1 with value: 0.21280532089028922.\n",
      "EvaluatorHoldout: Processed 5961 (100.0%) in 3.85 sec. Users per second: 1547\n"
     ]
    },
    {
     "name": "stderr",
     "output_type": "stream",
     "text": [
      "Best trial: 1. Best value: 0.212805:  20%|██        | 10/50 [00:38<02:34,  3.87s/it]"
     ]
    },
    {
     "name": "stdout",
     "output_type": "stream",
     "text": [
      "[I 2023-07-31 03:50:43,875] Trial 9 finished with value: 0.20829770343074566 and parameters: {'n_items_to_rank': 269}. Best is trial 1 with value: 0.21280532089028922.\n",
      "EvaluatorHoldout: Processed 5961 (100.0%) in 3.86 sec. Users per second: 1542\n"
     ]
    },
    {
     "name": "stderr",
     "output_type": "stream",
     "text": [
      "Best trial: 1. Best value: 0.212805:  22%|██▏       | 11/50 [00:42<02:31,  3.87s/it]"
     ]
    },
    {
     "name": "stdout",
     "output_type": "stream",
     "text": [
      "[I 2023-07-31 03:50:47,762] Trial 10 finished with value: 0.20829770343074566 and parameters: {'n_items_to_rank': 308}. Best is trial 1 with value: 0.21280532089028922.\n",
      "EvaluatorHoldout: Processed 5961 (100.0%) in 3.88 sec. Users per second: 1537\n"
     ]
    },
    {
     "name": "stderr",
     "output_type": "stream",
     "text": [
      "Best trial: 1. Best value: 0.212805:  24%|██▍       | 12/50 [00:46<02:27,  3.88s/it]"
     ]
    },
    {
     "name": "stdout",
     "output_type": "stream",
     "text": [
      "[I 2023-07-31 03:50:51,662] Trial 11 finished with value: 0.20829770343074566 and parameters: {'n_items_to_rank': 141}. Best is trial 1 with value: 0.21280532089028922.\n",
      "EvaluatorHoldout: Processed 5961 (100.0%) in 3.59 sec. Users per second: 1660\n"
     ]
    },
    {
     "name": "stderr",
     "output_type": "stream",
     "text": [
      "Best trial: 1. Best value: 0.212805:  26%|██▌       | 13/50 [00:49<02:20,  3.80s/it]"
     ]
    },
    {
     "name": "stdout",
     "output_type": "stream",
     "text": [
      "[I 2023-07-31 03:50:55,273] Trial 12 finished with value: 0.21280532089028922 and parameters: {'n_items_to_rank': 11}. Best is trial 1 with value: 0.21280532089028922.\n",
      "EvaluatorHoldout: Processed 5961 (100.0%) in 3.90 sec. Users per second: 1529\n"
     ]
    },
    {
     "name": "stderr",
     "output_type": "stream",
     "text": [
      "Best trial: 1. Best value: 0.212805:  28%|██▊       | 14/50 [00:53<02:18,  3.84s/it]"
     ]
    },
    {
     "name": "stdout",
     "output_type": "stream",
     "text": [
      "[I 2023-07-31 03:50:59,192] Trial 13 finished with value: 0.20829770343074566 and parameters: {'n_items_to_rank': 309}. Best is trial 1 with value: 0.21280532089028922.\n",
      "EvaluatorHoldout: Processed 5961 (100.0%) in 3.60 sec. Users per second: 1655\n"
     ]
    },
    {
     "name": "stderr",
     "output_type": "stream",
     "text": [
      "Best trial: 1. Best value: 0.212805:  30%|███       | 15/50 [00:57<02:11,  3.77s/it]"
     ]
    },
    {
     "name": "stdout",
     "output_type": "stream",
     "text": [
      "[I 2023-07-31 03:51:02,813] Trial 14 finished with value: 0.21280532089028922 and parameters: {'n_items_to_rank': 11}. Best is trial 1 with value: 0.21280532089028922.\n",
      "EvaluatorHoldout: Processed 5961 (100.0%) in 3.59 sec. Users per second: 1662\n"
     ]
    },
    {
     "name": "stderr",
     "output_type": "stream",
     "text": [
      "Best trial: 1. Best value: 0.212805:  32%|███▏      | 16/50 [01:00<02:06,  3.72s/it]"
     ]
    },
    {
     "name": "stdout",
     "output_type": "stream",
     "text": [
      "[I 2023-07-31 03:51:06,420] Trial 15 finished with value: 0.21280532089028922 and parameters: {'n_items_to_rank': 11}. Best is trial 1 with value: 0.21280532089028922.\n",
      "EvaluatorHoldout: Processed 5961 (100.0%) in 3.84 sec. Users per second: 1552\n"
     ]
    },
    {
     "name": "stderr",
     "output_type": "stream",
     "text": [
      "Best trial: 1. Best value: 0.212805:  34%|███▍      | 17/50 [01:04<02:04,  3.76s/it]"
     ]
    },
    {
     "name": "stdout",
     "output_type": "stream",
     "text": [
      "[I 2023-07-31 03:51:10,282] Trial 16 finished with value: 0.20829770343074566 and parameters: {'n_items_to_rank': 79}. Best is trial 1 with value: 0.21280532089028922.\n",
      "EvaluatorHoldout: Processed 5961 (100.0%) in 3.86 sec. Users per second: 1545\n"
     ]
    },
    {
     "name": "stderr",
     "output_type": "stream",
     "text": [
      "Best trial: 1. Best value: 0.212805:  36%|███▌      | 18/50 [01:08<02:01,  3.80s/it]"
     ]
    },
    {
     "name": "stdout",
     "output_type": "stream",
     "text": [
      "[I 2023-07-31 03:51:14,162] Trial 17 finished with value: 0.20829770343074566 and parameters: {'n_items_to_rank': 169}. Best is trial 1 with value: 0.21280532089028922.\n",
      "EvaluatorHoldout: Processed 5961 (100.0%) in 3.87 sec. Users per second: 1539\n"
     ]
    },
    {
     "name": "stderr",
     "output_type": "stream",
     "text": [
      "Best trial: 1. Best value: 0.212805:  38%|███▊      | 19/50 [01:12<01:58,  3.83s/it]"
     ]
    },
    {
     "name": "stdout",
     "output_type": "stream",
     "text": [
      "[I 2023-07-31 03:51:18,057] Trial 18 finished with value: 0.20829770343074566 and parameters: {'n_items_to_rank': 173}. Best is trial 1 with value: 0.21280532089028922.\n",
      "EvaluatorHoldout: Processed 5961 (100.0%) in 3.86 sec. Users per second: 1544\n"
     ]
    },
    {
     "name": "stderr",
     "output_type": "stream",
     "text": [
      "Best trial: 1. Best value: 0.212805:  40%|████      | 20/50 [01:16<01:55,  3.84s/it]"
     ]
    },
    {
     "name": "stdout",
     "output_type": "stream",
     "text": [
      "[I 2023-07-31 03:51:21,940] Trial 19 finished with value: 0.20829770343074566 and parameters: {'n_items_to_rank': 245}. Best is trial 1 with value: 0.21280532089028922.\n",
      "EvaluatorHoldout: Processed 5961 (100.0%) in 3.85 sec. Users per second: 1548\n"
     ]
    },
    {
     "name": "stderr",
     "output_type": "stream",
     "text": [
      "Best trial: 1. Best value: 0.212805:  42%|████▏     | 21/50 [01:20<01:51,  3.85s/it]"
     ]
    },
    {
     "name": "stdout",
     "output_type": "stream",
     "text": [
      "[I 2023-07-31 03:51:25,811] Trial 20 finished with value: 0.20829770343074566 and parameters: {'n_items_to_rank': 102}. Best is trial 1 with value: 0.21280532089028922.\n",
      "EvaluatorHoldout: Processed 5961 (100.0%) in 3.61 sec. Users per second: 1652\n"
     ]
    },
    {
     "name": "stderr",
     "output_type": "stream",
     "text": [
      "Best trial: 1. Best value: 0.212805:  44%|████▍     | 22/50 [01:23<01:45,  3.79s/it]"
     ]
    },
    {
     "name": "stdout",
     "output_type": "stream",
     "text": [
      "[I 2023-07-31 03:51:29,440] Trial 21 finished with value: 0.21280532089028922 and parameters: {'n_items_to_rank': 11}. Best is trial 1 with value: 0.21280532089028922.\n",
      "EvaluatorHoldout: Processed 5961 (100.0%) in 3.88 sec. Users per second: 1534\n"
     ]
    },
    {
     "name": "stderr",
     "output_type": "stream",
     "text": [
      "Best trial: 1. Best value: 0.212805:  46%|████▌     | 23/50 [01:27<01:43,  3.82s/it]"
     ]
    },
    {
     "name": "stdout",
     "output_type": "stream",
     "text": [
      "[I 2023-07-31 03:51:33,349] Trial 22 finished with value: 0.20829770343074566 and parameters: {'n_items_to_rank': 258}. Best is trial 1 with value: 0.21280532089028922.\n",
      "EvaluatorHoldout: Processed 5961 (100.0%) in 3.61 sec. Users per second: 1650\n"
     ]
    },
    {
     "name": "stderr",
     "output_type": "stream",
     "text": [
      "Best trial: 1. Best value: 0.212805:  48%|████▊     | 24/50 [01:31<01:37,  3.77s/it]"
     ]
    },
    {
     "name": "stdout",
     "output_type": "stream",
     "text": [
      "[I 2023-07-31 03:51:36,983] Trial 23 finished with value: 0.21280532089028922 and parameters: {'n_items_to_rank': 11}. Best is trial 1 with value: 0.21280532089028922.\n",
      "EvaluatorHoldout: Processed 5961 (100.0%) in 3.73 sec. Users per second: 1600\n"
     ]
    },
    {
     "name": "stderr",
     "output_type": "stream",
     "text": [
      "Best trial: 1. Best value: 0.212805:  50%|█████     | 25/50 [01:35<01:34,  3.76s/it]"
     ]
    },
    {
     "name": "stdout",
     "output_type": "stream",
     "text": [
      "[I 2023-07-31 03:51:40,733] Trial 24 finished with value: 0.20949825609204084 and parameters: {'n_items_to_rank': 35}. Best is trial 1 with value: 0.21280532089028922.\n",
      "EvaluatorHoldout: Processed 5961 (100.0%) in 3.87 sec. Users per second: 1541\n"
     ]
    },
    {
     "name": "stderr",
     "output_type": "stream",
     "text": [
      "Best trial: 1. Best value: 0.212805:  52%|█████▏    | 26/50 [01:39<01:31,  3.80s/it]"
     ]
    },
    {
     "name": "stdout",
     "output_type": "stream",
     "text": [
      "[I 2023-07-31 03:51:44,623] Trial 25 finished with value: 0.20829770343074566 and parameters: {'n_items_to_rank': 248}. Best is trial 1 with value: 0.21280532089028922.\n",
      "EvaluatorHoldout: Processed 5961 (100.0%) in 3.78 sec. Users per second: 1577\n"
     ]
    },
    {
     "name": "stderr",
     "output_type": "stream",
     "text": [
      "Best trial: 1. Best value: 0.212805:  54%|█████▍    | 27/50 [01:42<01:27,  3.80s/it]"
     ]
    },
    {
     "name": "stdout",
     "output_type": "stream",
     "text": [
      "[I 2023-07-31 03:51:48,427] Trial 26 finished with value: 0.21280532089028922 and parameters: {'n_items_to_rank': 11}. Best is trial 1 with value: 0.21280532089028922.\n",
      "EvaluatorHoldout: Processed 5961 (100.0%) in 3.87 sec. Users per second: 1542\n"
     ]
    },
    {
     "name": "stderr",
     "output_type": "stream",
     "text": [
      "Best trial: 1. Best value: 0.212805:  56%|█████▌    | 28/50 [01:46<01:24,  3.83s/it]"
     ]
    },
    {
     "name": "stdout",
     "output_type": "stream",
     "text": [
      "[I 2023-07-31 03:51:52,316] Trial 27 finished with value: 0.20829770343074566 and parameters: {'n_items_to_rank': 80}. Best is trial 1 with value: 0.21280532089028922.\n",
      "EvaluatorHoldout: Processed 5961 (100.0%) in 3.98 sec. Users per second: 1498\n"
     ]
    },
    {
     "name": "stderr",
     "output_type": "stream",
     "text": [
      "Best trial: 1. Best value: 0.212805:  58%|█████▊    | 29/50 [01:50<01:21,  3.88s/it]"
     ]
    },
    {
     "name": "stdout",
     "output_type": "stream",
     "text": [
      "[I 2023-07-31 03:51:56,318] Trial 28 finished with value: 0.21094389426857796 and parameters: {'n_items_to_rank': 23}. Best is trial 1 with value: 0.21280532089028922.\n",
      "EvaluatorHoldout: Processed 5961 (100.0%) in 3.88 sec. Users per second: 1538\n"
     ]
    },
    {
     "name": "stderr",
     "output_type": "stream",
     "text": [
      "Best trial: 1. Best value: 0.212805:  60%|██████    | 30/50 [01:54<01:17,  3.89s/it]"
     ]
    },
    {
     "name": "stdout",
     "output_type": "stream",
     "text": [
      "[I 2023-07-31 03:52:00,219] Trial 29 finished with value: 0.20829770343074566 and parameters: {'n_items_to_rank': 266}. Best is trial 1 with value: 0.21280532089028922.\n",
      "EvaluatorHoldout: Processed 5961 (100.0%) in 3.87 sec. Users per second: 1539\n"
     ]
    },
    {
     "name": "stderr",
     "output_type": "stream",
     "text": [
      "Best trial: 1. Best value: 0.212805:  62%|██████▏   | 31/50 [01:58<01:13,  3.89s/it]"
     ]
    },
    {
     "name": "stdout",
     "output_type": "stream",
     "text": [
      "[I 2023-07-31 03:52:04,122] Trial 30 finished with value: 0.20829770343074566 and parameters: {'n_items_to_rank': 199}. Best is trial 1 with value: 0.21280532089028922.\n",
      "EvaluatorHoldout: Processed 5961 (100.0%) in 3.61 sec. Users per second: 1652\n"
     ]
    },
    {
     "name": "stderr",
     "output_type": "stream",
     "text": [
      "Best trial: 1. Best value: 0.212805:  64%|██████▍   | 32/50 [02:02<01:08,  3.81s/it]"
     ]
    },
    {
     "name": "stdout",
     "output_type": "stream",
     "text": [
      "[I 2023-07-31 03:52:07,755] Trial 31 finished with value: 0.21280532089028922 and parameters: {'n_items_to_rank': 11}. Best is trial 1 with value: 0.21280532089028922.\n",
      "EvaluatorHoldout: Processed 5961 (100.0%) in 3.87 sec. Users per second: 1539\n"
     ]
    },
    {
     "name": "stderr",
     "output_type": "stream",
     "text": [
      "Best trial: 1. Best value: 0.212805:  66%|██████▌   | 33/50 [02:06<01:05,  3.84s/it]"
     ]
    },
    {
     "name": "stdout",
     "output_type": "stream",
     "text": [
      "[I 2023-07-31 03:52:11,654] Trial 32 finished with value: 0.20829770343074566 and parameters: {'n_items_to_rank': 82}. Best is trial 1 with value: 0.21280532089028922.\n",
      "EvaluatorHoldout: Processed 5961 (100.0%) in 3.87 sec. Users per second: 1541\n"
     ]
    },
    {
     "name": "stderr",
     "output_type": "stream",
     "text": [
      "Best trial: 1. Best value: 0.212805:  68%|██████▊   | 34/50 [02:10<01:01,  3.86s/it]"
     ]
    },
    {
     "name": "stdout",
     "output_type": "stream",
     "text": [
      "[I 2023-07-31 03:52:15,551] Trial 33 finished with value: 0.20829770343074566 and parameters: {'n_items_to_rank': 178}. Best is trial 1 with value: 0.21280532089028922.\n",
      "EvaluatorHoldout: Processed 5961 (100.0%) in 3.86 sec. Users per second: 1542\n"
     ]
    },
    {
     "name": "stderr",
     "output_type": "stream",
     "text": [
      "Best trial: 1. Best value: 0.212805:  70%|███████   | 35/50 [02:13<00:58,  3.87s/it]"
     ]
    },
    {
     "name": "stdout",
     "output_type": "stream",
     "text": [
      "[I 2023-07-31 03:52:19,442] Trial 34 finished with value: 0.20829770343074566 and parameters: {'n_items_to_rank': 298}. Best is trial 1 with value: 0.21280532089028922.\n",
      "EvaluatorHoldout: Processed 5961 (100.0%) in 3.86 sec. Users per second: 1545\n"
     ]
    },
    {
     "name": "stderr",
     "output_type": "stream",
     "text": [
      "Best trial: 1. Best value: 0.212805:  72%|███████▏  | 36/50 [02:17<00:54,  3.87s/it]"
     ]
    },
    {
     "name": "stdout",
     "output_type": "stream",
     "text": [
      "[I 2023-07-31 03:52:23,327] Trial 35 finished with value: 0.20829770343074566 and parameters: {'n_items_to_rank': 215}. Best is trial 1 with value: 0.21280532089028922.\n",
      "EvaluatorHoldout: Processed 5961 (100.0%) in 3.86 sec. Users per second: 1543\n"
     ]
    },
    {
     "name": "stderr",
     "output_type": "stream",
     "text": [
      "Best trial: 1. Best value: 0.212805:  74%|███████▍  | 37/50 [02:21<00:50,  3.88s/it]"
     ]
    },
    {
     "name": "stdout",
     "output_type": "stream",
     "text": [
      "[I 2023-07-31 03:52:27,218] Trial 36 finished with value: 0.20844828106118077 and parameters: {'n_items_to_rank': 45}. Best is trial 1 with value: 0.21280532089028922.\n",
      "EvaluatorHoldout: Processed 5961 (100.0%) in 3.87 sec. Users per second: 1541\n"
     ]
    },
    {
     "name": "stderr",
     "output_type": "stream",
     "text": [
      "Best trial: 1. Best value: 0.212805:  76%|███████▌  | 38/50 [02:25<00:46,  3.88s/it]"
     ]
    },
    {
     "name": "stdout",
     "output_type": "stream",
     "text": [
      "[I 2023-07-31 03:52:31,114] Trial 37 finished with value: 0.20829770343074566 and parameters: {'n_items_to_rank': 213}. Best is trial 1 with value: 0.21280532089028922.\n",
      "EvaluatorHoldout: Processed 5961 (100.0%) in 3.87 sec. Users per second: 1540\n"
     ]
    },
    {
     "name": "stderr",
     "output_type": "stream",
     "text": [
      "Best trial: 1. Best value: 0.212805:  78%|███████▊  | 39/50 [02:29<00:42,  3.89s/it]"
     ]
    },
    {
     "name": "stdout",
     "output_type": "stream",
     "text": [
      "[I 2023-07-31 03:52:35,012] Trial 38 finished with value: 0.20829770343074566 and parameters: {'n_items_to_rank': 232}. Best is trial 1 with value: 0.21280532089028922.\n",
      "EvaluatorHoldout: Processed 5961 (100.0%) in 3.87 sec. Users per second: 1541\n"
     ]
    },
    {
     "name": "stderr",
     "output_type": "stream",
     "text": [
      "Best trial: 1. Best value: 0.212805:  80%|████████  | 40/50 [02:33<00:38,  3.89s/it]"
     ]
    },
    {
     "name": "stdout",
     "output_type": "stream",
     "text": [
      "[I 2023-07-31 03:52:38,910] Trial 39 finished with value: 0.20829770343074566 and parameters: {'n_items_to_rank': 263}. Best is trial 1 with value: 0.21280532089028922.\n",
      "EvaluatorHoldout: Processed 5961 (100.0%) in 3.92 sec. Users per second: 1519\n"
     ]
    },
    {
     "name": "stderr",
     "output_type": "stream",
     "text": [
      "Best trial: 1. Best value: 0.212805:  82%|████████▏ | 41/50 [02:37<00:35,  3.91s/it]"
     ]
    },
    {
     "name": "stdout",
     "output_type": "stream",
     "text": [
      "[I 2023-07-31 03:52:42,864] Trial 40 finished with value: 0.20829770343074566 and parameters: {'n_items_to_rank': 81}. Best is trial 1 with value: 0.21280532089028922.\n",
      "EvaluatorHoldout: Processed 5961 (100.0%) in 3.85 sec. Users per second: 1548\n"
     ]
    },
    {
     "name": "stderr",
     "output_type": "stream",
     "text": [
      "Best trial: 1. Best value: 0.212805:  84%|████████▍ | 42/50 [02:41<00:31,  3.90s/it]"
     ]
    },
    {
     "name": "stdout",
     "output_type": "stream",
     "text": [
      "[I 2023-07-31 03:52:46,745] Trial 41 finished with value: 0.20829770343074566 and parameters: {'n_items_to_rank': 163}. Best is trial 1 with value: 0.21280532089028922.\n",
      "EvaluatorHoldout: Processed 5961 (100.0%) in 3.53 sec. Users per second: 1690\n"
     ]
    },
    {
     "name": "stderr",
     "output_type": "stream",
     "text": [
      "Best trial: 1. Best value: 0.212805:  86%|████████▌ | 43/50 [02:44<00:26,  3.80s/it]"
     ]
    },
    {
     "name": "stdout",
     "output_type": "stream",
     "text": [
      "[I 2023-07-31 03:52:50,301] Trial 42 finished with value: 0.21280532089028922 and parameters: {'n_items_to_rank': 11}. Best is trial 1 with value: 0.21280532089028922.\n",
      "EvaluatorHoldout: Processed 5961 (100.0%) in 3.53 sec. Users per second: 1691\n"
     ]
    },
    {
     "name": "stderr",
     "output_type": "stream",
     "text": [
      "Best trial: 1. Best value: 0.212805:  88%|████████▊ | 44/50 [02:48<00:22,  3.72s/it]"
     ]
    },
    {
     "name": "stdout",
     "output_type": "stream",
     "text": [
      "[I 2023-07-31 03:52:53,853] Trial 43 finished with value: 0.21280532089028922 and parameters: {'n_items_to_rank': 11}. Best is trial 1 with value: 0.21280532089028922.\n",
      "EvaluatorHoldout: Processed 5961 (100.0%) in 3.88 sec. Users per second: 1535\n"
     ]
    },
    {
     "name": "stderr",
     "output_type": "stream",
     "text": [
      "Best trial: 1. Best value: 0.212805:  90%|█████████ | 45/50 [02:52<00:18,  3.78s/it]"
     ]
    },
    {
     "name": "stdout",
     "output_type": "stream",
     "text": [
      "[I 2023-07-31 03:52:57,765] Trial 44 finished with value: 0.20829770343074566 and parameters: {'n_items_to_rank': 128}. Best is trial 1 with value: 0.21280532089028922.\n",
      "EvaluatorHoldout: Processed 5961 (100.0%) in 3.79 sec. Users per second: 1574\n"
     ]
    },
    {
     "name": "stderr",
     "output_type": "stream",
     "text": [
      "Best trial: 1. Best value: 0.212805:  92%|█████████▏| 46/50 [02:56<00:15,  3.79s/it]"
     ]
    },
    {
     "name": "stdout",
     "output_type": "stream",
     "text": [
      "[I 2023-07-31 03:53:01,581] Trial 45 finished with value: 0.20829770343074566 and parameters: {'n_items_to_rank': 179}. Best is trial 1 with value: 0.21280532089028922.\n",
      "EvaluatorHoldout: Processed 5961 (100.0%) in 3.69 sec. Users per second: 1614\n"
     ]
    },
    {
     "name": "stderr",
     "output_type": "stream",
     "text": [
      "Best trial: 1. Best value: 0.212805:  94%|█████████▍| 47/50 [02:59<00:11,  3.77s/it]"
     ]
    },
    {
     "name": "stdout",
     "output_type": "stream",
     "text": [
      "[I 2023-07-31 03:53:05,303] Trial 46 finished with value: 0.2089875573594593 and parameters: {'n_items_to_rank': 39}. Best is trial 1 with value: 0.21280532089028922.\n",
      "EvaluatorHoldout: Processed 5961 (100.0%) in 3.79 sec. Users per second: 1574\n"
     ]
    },
    {
     "name": "stderr",
     "output_type": "stream",
     "text": [
      "Best trial: 1. Best value: 0.212805:  96%|█████████▌| 48/50 [03:03<00:07,  3.79s/it]"
     ]
    },
    {
     "name": "stdout",
     "output_type": "stream",
     "text": [
      "[I 2023-07-31 03:53:09,133] Trial 47 finished with value: 0.20829770343074566 and parameters: {'n_items_to_rank': 136}. Best is trial 1 with value: 0.21280532089028922.\n",
      "EvaluatorHoldout: Processed 5961 (100.0%) in 3.78 sec. Users per second: 1576\n"
     ]
    },
    {
     "name": "stderr",
     "output_type": "stream",
     "text": [
      "Best trial: 1. Best value: 0.212805:  98%|█████████▊| 49/50 [03:07<00:03,  3.80s/it]"
     ]
    },
    {
     "name": "stdout",
     "output_type": "stream",
     "text": [
      "[I 2023-07-31 03:53:12,947] Trial 48 finished with value: 0.20829770343074566 and parameters: {'n_items_to_rank': 210}. Best is trial 1 with value: 0.21280532089028922.\n",
      "EvaluatorHoldout: Processed 5961 (100.0%) in 3.83 sec. Users per second: 1557\n"
     ]
    },
    {
     "name": "stderr",
     "output_type": "stream",
     "text": [
      "Best trial: 1. Best value: 0.212805: 100%|██████████| 50/50 [03:11<00:00,  3.83s/it]"
     ]
    },
    {
     "name": "stdout",
     "output_type": "stream",
     "text": [
      "[I 2023-07-31 03:53:16,807] Trial 49 finished with value: 0.20829770343074566 and parameters: {'n_items_to_rank': 280}. Best is trial 1 with value: 0.21280532089028922.\n",
      "Recommender_Base_Class: URM Detected 194 ( 5.0%) items with no interactions.\n"
     ]
    },
    {
     "name": "stderr",
     "output_type": "stream",
     "text": [
      "\n"
     ]
    },
    {
     "name": "stdout",
     "output_type": "stream",
     "text": [
      "EvaluatorHoldout: Processed 5976 (100.0%) in 3.88 sec. Users per second: 1541\n"
     ]
    },
    {
     "name": "stderr",
     "output_type": "stream",
     "text": [
      "[I 2023-07-31 03:53:22,431] A new study created in memory with name: no-name-cc6efbb4-ed24-4f35-af34-ba2d28d8965e\n",
      "  0%|          | 0/50 [00:00<?, ?it/s]"
     ]
    },
    {
     "name": "stdout",
     "output_type": "stream",
     "text": [
      "SLIMElasticNetRecommender\n",
      "DiffusionAutoencoderRecommender_SLIMElasticNetRecommender_TwoLevelRec\n",
      "EvaluatorHoldout: Processed 5961 (100.0%) in 4.22 sec. Users per second: 1413\n"
     ]
    },
    {
     "name": "stderr",
     "output_type": "stream",
     "text": [
      "Best trial: 0. Best value: 0.303288:   2%|▏         | 1/50 [00:04<03:27,  4.23s/it]"
     ]
    },
    {
     "name": "stdout",
     "output_type": "stream",
     "text": [
      "[I 2023-07-31 03:53:26,664] Trial 0 finished with value: 0.30328782335166615 and parameters: {'n_items_to_rank': 187}. Best is trial 0 with value: 0.30328782335166615.\n",
      "EvaluatorHoldout: Processed 5961 (100.0%) in 4.21 sec. Users per second: 1417\n"
     ]
    },
    {
     "name": "stderr",
     "output_type": "stream",
     "text": [
      "Best trial: 0. Best value: 0.303288:   4%|▍         | 2/50 [00:08<03:22,  4.23s/it]"
     ]
    },
    {
     "name": "stdout",
     "output_type": "stream",
     "text": [
      "[I 2023-07-31 03:53:30,886] Trial 1 finished with value: 0.30328782335166615 and parameters: {'n_items_to_rank': 191}. Best is trial 0 with value: 0.30328782335166615.\n",
      "EvaluatorHoldout: Processed 5961 (100.0%) in 4.19 sec. Users per second: 1421\n"
     ]
    },
    {
     "name": "stderr",
     "output_type": "stream",
     "text": [
      "Best trial: 0. Best value: 0.303288:   6%|▌         | 3/50 [00:12<03:18,  4.22s/it]"
     ]
    },
    {
     "name": "stdout",
     "output_type": "stream",
     "text": [
      "[I 2023-07-31 03:53:35,097] Trial 2 finished with value: 0.30328782335166615 and parameters: {'n_items_to_rank': 199}. Best is trial 0 with value: 0.30328782335166615.\n",
      "EvaluatorHoldout: Processed 5961 (100.0%) in 4.19 sec. Users per second: 1423\n"
     ]
    },
    {
     "name": "stderr",
     "output_type": "stream",
     "text": [
      "Best trial: 0. Best value: 0.303288:   8%|▊         | 4/50 [00:16<03:13,  4.21s/it]"
     ]
    },
    {
     "name": "stdout",
     "output_type": "stream",
     "text": [
      "[I 2023-07-31 03:53:39,303] Trial 3 finished with value: 0.30328782335166615 and parameters: {'n_items_to_rank': 172}. Best is trial 0 with value: 0.30328782335166615.\n",
      "EvaluatorHoldout: Processed 5961 (100.0%) in 4.19 sec. Users per second: 1422\n"
     ]
    },
    {
     "name": "stderr",
     "output_type": "stream",
     "text": [
      "Best trial: 0. Best value: 0.303288:  10%|█         | 5/50 [00:21<03:09,  4.21s/it]"
     ]
    },
    {
     "name": "stdout",
     "output_type": "stream",
     "text": [
      "[I 2023-07-31 03:53:43,512] Trial 4 finished with value: 0.30328782335166615 and parameters: {'n_items_to_rank': 236}. Best is trial 0 with value: 0.30328782335166615.\n",
      "EvaluatorHoldout: Processed 5961 (100.0%) in 4.21 sec. Users per second: 1414\n"
     ]
    },
    {
     "name": "stderr",
     "output_type": "stream",
     "text": [
      "Best trial: 0. Best value: 0.303288:  12%|█▏        | 6/50 [00:25<03:05,  4.22s/it]"
     ]
    },
    {
     "name": "stdout",
     "output_type": "stream",
     "text": [
      "[I 2023-07-31 03:53:47,744] Trial 5 finished with value: 0.30328782335166615 and parameters: {'n_items_to_rank': 171}. Best is trial 0 with value: 0.30328782335166615.\n",
      "EvaluatorHoldout: Processed 5961 (100.0%) in 4.21 sec. Users per second: 1416\n"
     ]
    },
    {
     "name": "stderr",
     "output_type": "stream",
     "text": [
      "Best trial: 0. Best value: 0.303288:  14%|█▍        | 7/50 [00:29<03:01,  4.22s/it]"
     ]
    },
    {
     "name": "stdout",
     "output_type": "stream",
     "text": [
      "[I 2023-07-31 03:53:51,970] Trial 6 finished with value: 0.30328782335166615 and parameters: {'n_items_to_rank': 209}. Best is trial 0 with value: 0.30328782335166615.\n",
      "EvaluatorHoldout: Processed 5961 (100.0%) in 4.24 sec. Users per second: 1407\n"
     ]
    },
    {
     "name": "stderr",
     "output_type": "stream",
     "text": [
      "Best trial: 0. Best value: 0.303288:  16%|█▌        | 8/50 [00:33<02:57,  4.23s/it]"
     ]
    },
    {
     "name": "stdout",
     "output_type": "stream",
     "text": [
      "[I 2023-07-31 03:53:56,222] Trial 7 finished with value: 0.30328782335166615 and parameters: {'n_items_to_rank': 169}. Best is trial 0 with value: 0.30328782335166615.\n",
      "EvaluatorHoldout: Processed 5961 (100.0%) in 4.18 sec. Users per second: 1426\n"
     ]
    },
    {
     "name": "stderr",
     "output_type": "stream",
     "text": [
      "Best trial: 0. Best value: 0.303288:  18%|█▊        | 9/50 [00:37<02:53,  4.22s/it]"
     ]
    },
    {
     "name": "stdout",
     "output_type": "stream",
     "text": [
      "[I 2023-07-31 03:54:00,424] Trial 8 finished with value: 0.30328782335166615 and parameters: {'n_items_to_rank': 109}. Best is trial 0 with value: 0.30328782335166615.\n",
      "EvaluatorHoldout: Processed 5961 (100.0%) in 4.18 sec. Users per second: 1427\n"
     ]
    },
    {
     "name": "stderr",
     "output_type": "stream",
     "text": [
      "Best trial: 0. Best value: 0.303288:  20%|██        | 10/50 [00:42<02:48,  4.21s/it]"
     ]
    },
    {
     "name": "stdout",
     "output_type": "stream",
     "text": [
      "[I 2023-07-31 03:54:04,621] Trial 9 finished with value: 0.30328782335166615 and parameters: {'n_items_to_rank': 139}. Best is trial 0 with value: 0.30328782335166615.\n",
      "EvaluatorHoldout: Processed 5961 (100.0%) in 4.19 sec. Users per second: 1423\n"
     ]
    },
    {
     "name": "stderr",
     "output_type": "stream",
     "text": [
      "Best trial: 0. Best value: 0.303288:  22%|██▏       | 11/50 [00:46<02:44,  4.21s/it]"
     ]
    },
    {
     "name": "stdout",
     "output_type": "stream",
     "text": [
      "[I 2023-07-31 03:54:08,829] Trial 10 finished with value: 0.30328782335166615 and parameters: {'n_items_to_rank': 58}. Best is trial 0 with value: 0.30328782335166615.\n",
      "EvaluatorHoldout: Processed 5961 (100.0%) in 4.19 sec. Users per second: 1422\n"
     ]
    },
    {
     "name": "stderr",
     "output_type": "stream",
     "text": [
      "Best trial: 0. Best value: 0.303288:  24%|██▍       | 12/50 [00:50<02:41,  4.24s/it]"
     ]
    },
    {
     "name": "stdout",
     "output_type": "stream",
     "text": [
      "[I 2023-07-31 03:54:13,146] Trial 11 finished with value: 0.30328782335166615 and parameters: {'n_items_to_rank': 191}. Best is trial 0 with value: 0.30328782335166615.\n",
      "EvaluatorHoldout: Processed 5961 (100.0%) in 4.19 sec. Users per second: 1422\n"
     ]
    },
    {
     "name": "stderr",
     "output_type": "stream",
     "text": [
      "Best trial: 0. Best value: 0.303288:  26%|██▌       | 13/50 [00:54<02:36,  4.23s/it]"
     ]
    },
    {
     "name": "stdout",
     "output_type": "stream",
     "text": [
      "[I 2023-07-31 03:54:17,358] Trial 12 finished with value: 0.30328782335166615 and parameters: {'n_items_to_rank': 63}. Best is trial 0 with value: 0.30328782335166615.\n",
      "EvaluatorHoldout: Processed 5961 (100.0%) in 4.19 sec. Users per second: 1422\n"
     ]
    },
    {
     "name": "stderr",
     "output_type": "stream",
     "text": [
      "Best trial: 0. Best value: 0.303288:  28%|██▊       | 14/50 [00:59<02:32,  4.23s/it]"
     ]
    },
    {
     "name": "stdout",
     "output_type": "stream",
     "text": [
      "[I 2023-07-31 03:54:21,568] Trial 13 finished with value: 0.30328782335166615 and parameters: {'n_items_to_rank': 152}. Best is trial 0 with value: 0.30328782335166615.\n",
      "EvaluatorHoldout: Processed 5961 (100.0%) in 4.20 sec. Users per second: 1420\n"
     ]
    },
    {
     "name": "stderr",
     "output_type": "stream",
     "text": [
      "Best trial: 0. Best value: 0.303288:  30%|███       | 15/50 [01:03<02:27,  4.22s/it]"
     ]
    },
    {
     "name": "stdout",
     "output_type": "stream",
     "text": [
      "[I 2023-07-31 03:54:25,786] Trial 14 finished with value: 0.30328782335166615 and parameters: {'n_items_to_rank': 264}. Best is trial 0 with value: 0.30328782335166615.\n",
      "EvaluatorHoldout: Processed 5961 (100.0%) in 4.19 sec. Users per second: 1421\n"
     ]
    },
    {
     "name": "stderr",
     "output_type": "stream",
     "text": [
      "Best trial: 0. Best value: 0.303288:  32%|███▏      | 16/50 [01:07<02:23,  4.22s/it]"
     ]
    },
    {
     "name": "stdout",
     "output_type": "stream",
     "text": [
      "[I 2023-07-31 03:54:30,001] Trial 15 finished with value: 0.30328782335166615 and parameters: {'n_items_to_rank': 118}. Best is trial 0 with value: 0.30328782335166615.\n",
      "EvaluatorHoldout: Processed 5961 (100.0%) in 4.19 sec. Users per second: 1422\n"
     ]
    },
    {
     "name": "stderr",
     "output_type": "stream",
     "text": [
      "Best trial: 0. Best value: 0.303288:  34%|███▍      | 17/50 [01:11<02:19,  4.22s/it]"
     ]
    },
    {
     "name": "stdout",
     "output_type": "stream",
     "text": [
      "[I 2023-07-31 03:54:34,213] Trial 16 finished with value: 0.30328782335166615 and parameters: {'n_items_to_rank': 247}. Best is trial 0 with value: 0.30328782335166615.\n",
      "EvaluatorHoldout: Processed 5961 (100.0%) in 4.18 sec. Users per second: 1424\n"
     ]
    },
    {
     "name": "stderr",
     "output_type": "stream",
     "text": [
      "Best trial: 0. Best value: 0.303288:  36%|███▌      | 18/50 [01:15<02:14,  4.21s/it]"
     ]
    },
    {
     "name": "stdout",
     "output_type": "stream",
     "text": [
      "[I 2023-07-31 03:54:38,419] Trial 17 finished with value: 0.30328782335166615 and parameters: {'n_items_to_rank': 187}. Best is trial 0 with value: 0.30328782335166615.\n",
      "EvaluatorHoldout: Processed 5961 (100.0%) in 4.19 sec. Users per second: 1423\n"
     ]
    },
    {
     "name": "stderr",
     "output_type": "stream",
     "text": [
      "Best trial: 0. Best value: 0.303288:  38%|███▊      | 19/50 [01:20<02:10,  4.21s/it]"
     ]
    },
    {
     "name": "stdout",
     "output_type": "stream",
     "text": [
      "[I 2023-07-31 03:54:42,630] Trial 18 finished with value: 0.30328782335166615 and parameters: {'n_items_to_rank': 212}. Best is trial 0 with value: 0.30328782335166615.\n",
      "EvaluatorHoldout: Processed 5961 (100.0%) in 4.17 sec. Users per second: 1428\n"
     ]
    },
    {
     "name": "stderr",
     "output_type": "stream",
     "text": [
      "Best trial: 0. Best value: 0.303288:  40%|████      | 20/50 [01:24<02:06,  4.21s/it]"
     ]
    },
    {
     "name": "stdout",
     "output_type": "stream",
     "text": [
      "[I 2023-07-31 03:54:46,825] Trial 19 finished with value: 0.30328782335166615 and parameters: {'n_items_to_rank': 288}. Best is trial 0 with value: 0.30328782335166615.\n",
      "EvaluatorHoldout: Processed 5961 (100.0%) in 4.18 sec. Users per second: 1425\n"
     ]
    },
    {
     "name": "stderr",
     "output_type": "stream",
     "text": [
      "Best trial: 0. Best value: 0.303288:  42%|████▏     | 21/50 [01:28<02:02,  4.21s/it]"
     ]
    },
    {
     "name": "stdout",
     "output_type": "stream",
     "text": [
      "[I 2023-07-31 03:54:51,031] Trial 20 finished with value: 0.30328782335166615 and parameters: {'n_items_to_rank': 104}. Best is trial 0 with value: 0.30328782335166615.\n",
      "EvaluatorHoldout: Processed 5961 (100.0%) in 4.19 sec. Users per second: 1422\n"
     ]
    },
    {
     "name": "stderr",
     "output_type": "stream",
     "text": [
      "Best trial: 0. Best value: 0.303288:  44%|████▍     | 22/50 [01:32<01:57,  4.21s/it]"
     ]
    },
    {
     "name": "stdout",
     "output_type": "stream",
     "text": [
      "[I 2023-07-31 03:54:55,248] Trial 21 finished with value: 0.30328782335166615 and parameters: {'n_items_to_rank': 334}. Best is trial 0 with value: 0.30328782335166615.\n",
      "EvaluatorHoldout: Processed 5961 (100.0%) in 4.18 sec. Users per second: 1427\n"
     ]
    },
    {
     "name": "stderr",
     "output_type": "stream",
     "text": [
      "Best trial: 0. Best value: 0.303288:  46%|████▌     | 23/50 [01:37<01:53,  4.21s/it]"
     ]
    },
    {
     "name": "stdout",
     "output_type": "stream",
     "text": [
      "[I 2023-07-31 03:54:59,449] Trial 22 finished with value: 0.30328782335166615 and parameters: {'n_items_to_rank': 263}. Best is trial 0 with value: 0.30328782335166615.\n",
      "EvaluatorHoldout: Processed 5961 (100.0%) in 4.18 sec. Users per second: 1427\n"
     ]
    },
    {
     "name": "stderr",
     "output_type": "stream",
     "text": [
      "Best trial: 0. Best value: 0.303288:  48%|████▊     | 24/50 [01:41<01:49,  4.21s/it]"
     ]
    },
    {
     "name": "stdout",
     "output_type": "stream",
     "text": [
      "[I 2023-07-31 03:55:03,652] Trial 23 finished with value: 0.30328782335166615 and parameters: {'n_items_to_rank': 344}. Best is trial 0 with value: 0.30328782335166615.\n",
      "EvaluatorHoldout: Processed 5961 (100.0%) in 4.18 sec. Users per second: 1426\n"
     ]
    },
    {
     "name": "stderr",
     "output_type": "stream",
     "text": [
      "Best trial: 0. Best value: 0.303288:  50%|█████     | 25/50 [01:45<01:45,  4.21s/it]"
     ]
    },
    {
     "name": "stdout",
     "output_type": "stream",
     "text": [
      "[I 2023-07-31 03:55:07,857] Trial 24 finished with value: 0.30328782335166615 and parameters: {'n_items_to_rank': 62}. Best is trial 0 with value: 0.30328782335166615.\n",
      "EvaluatorHoldout: Processed 5961 (100.0%) in 4.18 sec. Users per second: 1426\n"
     ]
    },
    {
     "name": "stderr",
     "output_type": "stream",
     "text": [
      "Best trial: 0. Best value: 0.303288:  52%|█████▏    | 26/50 [01:49<01:40,  4.21s/it]"
     ]
    },
    {
     "name": "stdout",
     "output_type": "stream",
     "text": [
      "[I 2023-07-31 03:55:12,060] Trial 25 finished with value: 0.30328782335166615 and parameters: {'n_items_to_rank': 290}. Best is trial 0 with value: 0.30328782335166615.\n",
      "EvaluatorHoldout: Processed 5961 (100.0%) in 4.19 sec. Users per second: 1424\n"
     ]
    },
    {
     "name": "stderr",
     "output_type": "stream",
     "text": [
      "Best trial: 0. Best value: 0.303288:  54%|█████▍    | 27/50 [01:53<01:36,  4.21s/it]"
     ]
    },
    {
     "name": "stdout",
     "output_type": "stream",
     "text": [
      "[I 2023-07-31 03:55:16,271] Trial 26 finished with value: 0.30328782335166615 and parameters: {'n_items_to_rank': 308}. Best is trial 0 with value: 0.30328782335166615.\n",
      "EvaluatorHoldout: Processed 5961 (100.0%) in 4.21 sec. Users per second: 1415\n"
     ]
    },
    {
     "name": "stderr",
     "output_type": "stream",
     "text": [
      "Best trial: 0. Best value: 0.303288:  56%|█████▌    | 28/50 [01:58<01:32,  4.22s/it]"
     ]
    },
    {
     "name": "stdout",
     "output_type": "stream",
     "text": [
      "[I 2023-07-31 03:55:20,510] Trial 27 finished with value: 0.30328782335166615 and parameters: {'n_items_to_rank': 289}. Best is trial 0 with value: 0.30328782335166615.\n",
      "EvaluatorHoldout: Processed 5961 (100.0%) in 4.19 sec. Users per second: 1424\n"
     ]
    },
    {
     "name": "stderr",
     "output_type": "stream",
     "text": [
      "Best trial: 0. Best value: 0.303288:  58%|█████▊    | 29/50 [02:02<01:28,  4.21s/it]"
     ]
    },
    {
     "name": "stdout",
     "output_type": "stream",
     "text": [
      "[I 2023-07-31 03:55:24,721] Trial 28 finished with value: 0.30328782335166615 and parameters: {'n_items_to_rank': 124}. Best is trial 0 with value: 0.30328782335166615.\n",
      "EvaluatorHoldout: Processed 5961 (100.0%) in 4.18 sec. Users per second: 1427\n"
     ]
    },
    {
     "name": "stderr",
     "output_type": "stream",
     "text": [
      "Best trial: 0. Best value: 0.303288:  60%|██████    | 30/50 [02:06<01:24,  4.24s/it]"
     ]
    },
    {
     "name": "stdout",
     "output_type": "stream",
     "text": [
      "[I 2023-07-31 03:55:29,027] Trial 29 finished with value: 0.30328782335166615 and parameters: {'n_items_to_rank': 149}. Best is trial 0 with value: 0.30328782335166615.\n",
      "EvaluatorHoldout: Processed 5961 (100.0%) in 4.19 sec. Users per second: 1424\n"
     ]
    },
    {
     "name": "stderr",
     "output_type": "stream",
     "text": [
      "Best trial: 0. Best value: 0.303288:  62%|██████▏   | 31/50 [02:10<01:20,  4.23s/it]"
     ]
    },
    {
     "name": "stdout",
     "output_type": "stream",
     "text": [
      "[I 2023-07-31 03:55:33,240] Trial 30 finished with value: 0.30328782335166615 and parameters: {'n_items_to_rank': 199}. Best is trial 0 with value: 0.30328782335166615.\n",
      "EvaluatorHoldout: Processed 5961 (100.0%) in 4.21 sec. Users per second: 1415\n"
     ]
    },
    {
     "name": "stderr",
     "output_type": "stream",
     "text": [
      "Best trial: 0. Best value: 0.303288:  64%|██████▍   | 32/50 [02:15<01:16,  4.24s/it]"
     ]
    },
    {
     "name": "stdout",
     "output_type": "stream",
     "text": [
      "[I 2023-07-31 03:55:37,503] Trial 31 finished with value: 0.30328782335166615 and parameters: {'n_items_to_rank': 281}. Best is trial 0 with value: 0.30328782335166615.\n",
      "EvaluatorHoldout: Processed 5961 (100.0%) in 4.20 sec. Users per second: 1419\n"
     ]
    },
    {
     "name": "stderr",
     "output_type": "stream",
     "text": [
      "Best trial: 0. Best value: 0.303288:  66%|██████▌   | 33/50 [02:19<01:12,  4.24s/it]"
     ]
    },
    {
     "name": "stdout",
     "output_type": "stream",
     "text": [
      "[I 2023-07-31 03:55:41,733] Trial 32 finished with value: 0.30328782335166615 and parameters: {'n_items_to_rank': 161}. Best is trial 0 with value: 0.30328782335166615.\n",
      "EvaluatorHoldout: Processed 5961 (100.0%) in 4.19 sec. Users per second: 1422\n"
     ]
    },
    {
     "name": "stderr",
     "output_type": "stream",
     "text": [
      "Best trial: 0. Best value: 0.303288:  68%|██████▊   | 34/50 [02:23<01:07,  4.23s/it]"
     ]
    },
    {
     "name": "stdout",
     "output_type": "stream",
     "text": [
      "[I 2023-07-31 03:55:45,954] Trial 33 finished with value: 0.30328782335166615 and parameters: {'n_items_to_rank': 213}. Best is trial 0 with value: 0.30328782335166615.\n",
      "EvaluatorHoldout: Processed 5961 (100.0%) in 4.19 sec. Users per second: 1423\n"
     ]
    },
    {
     "name": "stderr",
     "output_type": "stream",
     "text": [
      "Best trial: 0. Best value: 0.303288:  70%|███████   | 35/50 [02:27<01:03,  4.23s/it]"
     ]
    },
    {
     "name": "stdout",
     "output_type": "stream",
     "text": [
      "[I 2023-07-31 03:55:50,170] Trial 34 finished with value: 0.30328782335166615 and parameters: {'n_items_to_rank': 66}. Best is trial 0 with value: 0.30328782335166615.\n",
      "EvaluatorHoldout: Processed 5961 (100.0%) in 4.19 sec. Users per second: 1423\n"
     ]
    },
    {
     "name": "stderr",
     "output_type": "stream",
     "text": [
      "Best trial: 0. Best value: 0.303288:  72%|███████▏  | 36/50 [02:31<00:59,  4.23s/it]"
     ]
    },
    {
     "name": "stdout",
     "output_type": "stream",
     "text": [
      "[I 2023-07-31 03:55:54,388] Trial 35 finished with value: 0.30328782335166615 and parameters: {'n_items_to_rank': 244}. Best is trial 0 with value: 0.30328782335166615.\n",
      "EvaluatorHoldout: Processed 5961 (100.0%) in 4.19 sec. Users per second: 1423\n"
     ]
    },
    {
     "name": "stderr",
     "output_type": "stream",
     "text": [
      "Best trial: 0. Best value: 0.303288:  74%|███████▍  | 37/50 [02:36<00:54,  4.22s/it]"
     ]
    },
    {
     "name": "stdout",
     "output_type": "stream",
     "text": [
      "[I 2023-07-31 03:55:58,606] Trial 36 finished with value: 0.30328782335166615 and parameters: {'n_items_to_rank': 222}. Best is trial 0 with value: 0.30328782335166615.\n",
      "EvaluatorHoldout: Processed 5961 (100.0%) in 4.21 sec. Users per second: 1415\n"
     ]
    },
    {
     "name": "stderr",
     "output_type": "stream",
     "text": [
      "Best trial: 0. Best value: 0.303288:  76%|███████▌  | 38/50 [02:40<00:50,  4.23s/it]"
     ]
    },
    {
     "name": "stdout",
     "output_type": "stream",
     "text": [
      "[I 2023-07-31 03:56:02,849] Trial 37 finished with value: 0.30328782335166615 and parameters: {'n_items_to_rank': 255}. Best is trial 0 with value: 0.30328782335166615.\n",
      "EvaluatorHoldout: Processed 5961 (100.0%) in 4.24 sec. Users per second: 1406\n"
     ]
    },
    {
     "name": "stderr",
     "output_type": "stream",
     "text": [
      "Best trial: 0. Best value: 0.303288:  78%|███████▊  | 39/50 [02:44<00:46,  4.24s/it]"
     ]
    },
    {
     "name": "stdout",
     "output_type": "stream",
     "text": [
      "[I 2023-07-31 03:56:07,118] Trial 38 finished with value: 0.30328782335166615 and parameters: {'n_items_to_rank': 274}. Best is trial 0 with value: 0.30328782335166615.\n",
      "EvaluatorHoldout: Processed 5961 (100.0%) in 4.25 sec. Users per second: 1404\n"
     ]
    },
    {
     "name": "stderr",
     "output_type": "stream",
     "text": [
      "Best trial: 0. Best value: 0.303288:  80%|████████  | 40/50 [02:48<00:42,  4.25s/it]"
     ]
    },
    {
     "name": "stdout",
     "output_type": "stream",
     "text": [
      "[I 2023-07-31 03:56:11,395] Trial 39 finished with value: 0.30328782335166615 and parameters: {'n_items_to_rank': 172}. Best is trial 0 with value: 0.30328782335166615.\n",
      "EvaluatorHoldout: Processed 5961 (100.0%) in 4.22 sec. Users per second: 1414\n"
     ]
    },
    {
     "name": "stderr",
     "output_type": "stream",
     "text": [
      "Best trial: 0. Best value: 0.303288:  82%|████████▏ | 41/50 [02:53<00:38,  4.25s/it]"
     ]
    },
    {
     "name": "stdout",
     "output_type": "stream",
     "text": [
      "[I 2023-07-31 03:56:15,643] Trial 40 finished with value: 0.30328782335166615 and parameters: {'n_items_to_rank': 191}. Best is trial 0 with value: 0.30328782335166615.\n",
      "EvaluatorHoldout: Processed 5961 (100.0%) in 4.26 sec. Users per second: 1401\n"
     ]
    },
    {
     "name": "stderr",
     "output_type": "stream",
     "text": [
      "Best trial: 0. Best value: 0.303288:  84%|████████▍ | 42/50 [02:57<00:34,  4.26s/it]"
     ]
    },
    {
     "name": "stdout",
     "output_type": "stream",
     "text": [
      "[I 2023-07-31 03:56:19,931] Trial 41 finished with value: 0.30328782335166615 and parameters: {'n_items_to_rank': 286}. Best is trial 0 with value: 0.30328782335166615.\n",
      "EvaluatorHoldout: Processed 5961 (100.0%) in 4.26 sec. Users per second: 1400\n"
     ]
    },
    {
     "name": "stderr",
     "output_type": "stream",
     "text": [
      "Best trial: 0. Best value: 0.303288:  86%|████████▌ | 43/50 [03:01<00:29,  4.27s/it]"
     ]
    },
    {
     "name": "stdout",
     "output_type": "stream",
     "text": [
      "[I 2023-07-31 03:56:24,221] Trial 42 finished with value: 0.30328782335166615 and parameters: {'n_items_to_rank': 236}. Best is trial 0 with value: 0.30328782335166615.\n",
      "EvaluatorHoldout: Processed 5961 (100.0%) in 4.21 sec. Users per second: 1414\n"
     ]
    },
    {
     "name": "stderr",
     "output_type": "stream",
     "text": [
      "Best trial: 0. Best value: 0.303288:  88%|████████▊ | 44/50 [03:06<00:25,  4.26s/it]"
     ]
    },
    {
     "name": "stdout",
     "output_type": "stream",
     "text": [
      "[I 2023-07-31 03:56:28,465] Trial 43 finished with value: 0.30328782335166615 and parameters: {'n_items_to_rank': 72}. Best is trial 0 with value: 0.30328782335166615.\n",
      "EvaluatorHoldout: Processed 5961 (100.0%) in 4.24 sec. Users per second: 1405\n"
     ]
    },
    {
     "name": "stderr",
     "output_type": "stream",
     "text": [
      "Best trial: 0. Best value: 0.303288:  90%|█████████ | 45/50 [03:10<00:21,  4.27s/it]"
     ]
    },
    {
     "name": "stdout",
     "output_type": "stream",
     "text": [
      "[I 2023-07-31 03:56:32,737] Trial 44 finished with value: 0.30328782335166615 and parameters: {'n_items_to_rank': 74}. Best is trial 0 with value: 0.30328782335166615.\n",
      "EvaluatorHoldout: Processed 5961 (100.0%) in 4.21 sec. Users per second: 1417\n"
     ]
    },
    {
     "name": "stderr",
     "output_type": "stream",
     "text": [
      "Best trial: 0. Best value: 0.303288:  92%|█████████▏| 46/50 [03:14<00:17,  4.26s/it]"
     ]
    },
    {
     "name": "stdout",
     "output_type": "stream",
     "text": [
      "[I 2023-07-31 03:56:36,977] Trial 45 finished with value: 0.30328782335166615 and parameters: {'n_items_to_rank': 50}. Best is trial 0 with value: 0.30328782335166615.\n",
      "EvaluatorHoldout: Processed 5961 (100.0%) in 4.17 sec. Users per second: 1430\n"
     ]
    },
    {
     "name": "stderr",
     "output_type": "stream",
     "text": [
      "Best trial: 0. Best value: 0.303288:  94%|█████████▍| 47/50 [03:18<00:12,  4.24s/it]"
     ]
    },
    {
     "name": "stdout",
     "output_type": "stream",
     "text": [
      "[I 2023-07-31 03:56:41,179] Trial 46 finished with value: 0.30328782335166615 and parameters: {'n_items_to_rank': 256}. Best is trial 0 with value: 0.30328782335166615.\n",
      "EvaluatorHoldout: Processed 5961 (100.0%) in 4.16 sec. Users per second: 1432\n"
     ]
    },
    {
     "name": "stderr",
     "output_type": "stream",
     "text": [
      "Best trial: 0. Best value: 0.303288:  96%|█████████▌| 48/50 [03:23<00:08,  4.26s/it]"
     ]
    },
    {
     "name": "stdout",
     "output_type": "stream",
     "text": [
      "[I 2023-07-31 03:56:45,482] Trial 47 finished with value: 0.30328782335166615 and parameters: {'n_items_to_rank': 187}. Best is trial 0 with value: 0.30328782335166615.\n",
      "EvaluatorHoldout: Processed 5961 (100.0%) in 4.13 sec. Users per second: 1444\n"
     ]
    },
    {
     "name": "stderr",
     "output_type": "stream",
     "text": [
      "Best trial: 0. Best value: 0.303288:  98%|█████████▊| 49/50 [03:27<00:04,  4.23s/it]"
     ]
    },
    {
     "name": "stdout",
     "output_type": "stream",
     "text": [
      "[I 2023-07-31 03:56:49,641] Trial 48 finished with value: 0.30328782335166615 and parameters: {'n_items_to_rank': 107}. Best is trial 0 with value: 0.30328782335166615.\n",
      "EvaluatorHoldout: Processed 5961 (100.0%) in 4.22 sec. Users per second: 1413\n"
     ]
    },
    {
     "name": "stderr",
     "output_type": "stream",
     "text": [
      "Best trial: 0. Best value: 0.303288: 100%|██████████| 50/50 [03:31<00:00,  4.23s/it]"
     ]
    },
    {
     "name": "stdout",
     "output_type": "stream",
     "text": [
      "[I 2023-07-31 03:56:53,893] Trial 49 finished with value: 0.30328782335166615 and parameters: {'n_items_to_rank': 192}. Best is trial 0 with value: 0.30328782335166615.\n",
      "Recommender_Base_Class: URM Detected 194 ( 5.0%) items with no interactions.\n"
     ]
    },
    {
     "name": "stderr",
     "output_type": "stream",
     "text": [
      "\n"
     ]
    },
    {
     "name": "stdout",
     "output_type": "stream",
     "text": [
      "EvaluatorHoldout: Processed 5976 (100.0%) in 3.86 sec. Users per second: 1548\n"
     ]
    },
    {
     "name": "stderr",
     "output_type": "stream",
     "text": [
      "[I 2023-07-31 03:56:59,244] A new study created in memory with name: no-name-250bd67c-9140-490b-a664-e9eeaddc7916\n",
      "  0%|          | 0/50 [00:00<?, ?it/s]"
     ]
    },
    {
     "name": "stdout",
     "output_type": "stream",
     "text": [
      "ItemKNNCFRecommender\n",
      "DiffusionAutoencoderRecommender_ItemKNNCFRecommender_TwoLevelRec\n",
      "EvaluatorHoldout: Processed 5961 (100.0%) in 5.33 sec. Users per second: 1119\n"
     ]
    },
    {
     "name": "stderr",
     "output_type": "stream",
     "text": [
      "Best trial: 0. Best value: 0.285737:   2%|▏         | 1/50 [00:05<04:21,  5.34s/it]"
     ]
    },
    {
     "name": "stdout",
     "output_type": "stream",
     "text": [
      "[I 2023-07-31 03:57:04,585] Trial 0 finished with value: 0.28573712953417496 and parameters: {'n_items_to_rank': 172}. Best is trial 0 with value: 0.28573712953417496.\n",
      "EvaluatorHoldout: Processed 5961 (100.0%) in 5.27 sec. Users per second: 1131\n"
     ]
    },
    {
     "name": "stderr",
     "output_type": "stream",
     "text": [
      "Best trial: 0. Best value: 0.285737:   4%|▍         | 2/50 [00:10<04:14,  5.31s/it]"
     ]
    },
    {
     "name": "stdout",
     "output_type": "stream",
     "text": [
      "[I 2023-07-31 03:57:09,872] Trial 1 finished with value: 0.28573712953417496 and parameters: {'n_items_to_rank': 192}. Best is trial 0 with value: 0.28573712953417496.\n",
      "EvaluatorHoldout: Processed 5961 (100.0%) in 5.23 sec. Users per second: 1139\n"
     ]
    },
    {
     "name": "stderr",
     "output_type": "stream",
     "text": [
      "Best trial: 0. Best value: 0.285737:   6%|▌         | 3/50 [00:15<04:08,  5.28s/it]"
     ]
    },
    {
     "name": "stdout",
     "output_type": "stream",
     "text": [
      "[I 2023-07-31 03:57:15,122] Trial 2 finished with value: 0.28573712953417496 and parameters: {'n_items_to_rank': 285}. Best is trial 0 with value: 0.28573712953417496.\n",
      "EvaluatorHoldout: Processed 5961 (100.0%) in 5.17 sec. Users per second: 1152\n"
     ]
    },
    {
     "name": "stderr",
     "output_type": "stream",
     "text": [
      "Best trial: 0. Best value: 0.285737:   8%|▊         | 4/50 [00:21<04:01,  5.25s/it]"
     ]
    },
    {
     "name": "stdout",
     "output_type": "stream",
     "text": [
      "[I 2023-07-31 03:57:20,313] Trial 3 finished with value: 0.28573712953417496 and parameters: {'n_items_to_rank': 329}. Best is trial 0 with value: 0.28573712953417496.\n",
      "EvaluatorHoldout: Processed 5961 (100.0%) in 5.18 sec. Users per second: 1151\n"
     ]
    },
    {
     "name": "stderr",
     "output_type": "stream",
     "text": [
      "Best trial: 0. Best value: 0.285737:  10%|█         | 5/50 [00:26<03:55,  5.23s/it]"
     ]
    },
    {
     "name": "stdout",
     "output_type": "stream",
     "text": [
      "[I 2023-07-31 03:57:25,511] Trial 4 finished with value: 0.28573712953417496 and parameters: {'n_items_to_rank': 289}. Best is trial 0 with value: 0.28573712953417496.\n",
      "EvaluatorHoldout: Processed 5961 (100.0%) in 5.18 sec. Users per second: 1151\n"
     ]
    },
    {
     "name": "stderr",
     "output_type": "stream",
     "text": [
      "Best trial: 0. Best value: 0.285737:  12%|█▏        | 6/50 [00:31<03:49,  5.22s/it]"
     ]
    },
    {
     "name": "stdout",
     "output_type": "stream",
     "text": [
      "[I 2023-07-31 03:57:30,708] Trial 5 finished with value: 0.28573712953417496 and parameters: {'n_items_to_rank': 184}. Best is trial 0 with value: 0.28573712953417496.\n",
      "EvaluatorHoldout: Processed 5961 (100.0%) in 5.17 sec. Users per second: 1153\n"
     ]
    },
    {
     "name": "stderr",
     "output_type": "stream",
     "text": [
      "Best trial: 0. Best value: 0.285737:  14%|█▍        | 7/50 [00:36<03:43,  5.21s/it]"
     ]
    },
    {
     "name": "stdout",
     "output_type": "stream",
     "text": [
      "[I 2023-07-31 03:57:35,896] Trial 6 finished with value: 0.28573712953417496 and parameters: {'n_items_to_rank': 85}. Best is trial 0 with value: 0.28573712953417496.\n",
      "EvaluatorHoldout: Processed 5961 (100.0%) in 5.16 sec. Users per second: 1154\n"
     ]
    },
    {
     "name": "stderr",
     "output_type": "stream",
     "text": [
      "Best trial: 0. Best value: 0.285737:  16%|█▌        | 8/50 [00:41<03:38,  5.20s/it]"
     ]
    },
    {
     "name": "stdout",
     "output_type": "stream",
     "text": [
      "[I 2023-07-31 03:57:41,078] Trial 7 finished with value: 0.28573712953417496 and parameters: {'n_items_to_rank': 342}. Best is trial 0 with value: 0.28573712953417496.\n",
      "EvaluatorHoldout: Processed 5961 (100.0%) in 5.15 sec. Users per second: 1157\n"
     ]
    },
    {
     "name": "stderr",
     "output_type": "stream",
     "text": [
      "Best trial: 0. Best value: 0.285737:  18%|█▊        | 9/50 [00:47<03:32,  5.19s/it]"
     ]
    },
    {
     "name": "stdout",
     "output_type": "stream",
     "text": [
      "[I 2023-07-31 03:57:46,250] Trial 8 finished with value: 0.28573712953417496 and parameters: {'n_items_to_rank': 54}. Best is trial 0 with value: 0.28573712953417496.\n",
      "EvaluatorHoldout: Processed 5961 (100.0%) in 5.18 sec. Users per second: 1151\n"
     ]
    },
    {
     "name": "stderr",
     "output_type": "stream",
     "text": [
      "Best trial: 0. Best value: 0.285737:  20%|██        | 10/50 [00:52<03:27,  5.19s/it]"
     ]
    },
    {
     "name": "stdout",
     "output_type": "stream",
     "text": [
      "[I 2023-07-31 03:57:51,446] Trial 9 finished with value: 0.28573712953417496 and parameters: {'n_items_to_rank': 66}. Best is trial 0 with value: 0.28573712953417496.\n",
      "EvaluatorHoldout: Processed 5961 (100.0%) in 5.16 sec. Users per second: 1155\n"
     ]
    },
    {
     "name": "stderr",
     "output_type": "stream",
     "text": [
      "Best trial: 0. Best value: 0.285737:  22%|██▏       | 11/50 [00:57<03:22,  5.19s/it]"
     ]
    },
    {
     "name": "stdout",
     "output_type": "stream",
     "text": [
      "[I 2023-07-31 03:57:56,625] Trial 10 finished with value: 0.28573712953417496 and parameters: {'n_items_to_rank': 288}. Best is trial 0 with value: 0.28573712953417496.\n",
      "EvaluatorHoldout: Processed 5961 (100.0%) in 5.14 sec. Users per second: 1159\n"
     ]
    },
    {
     "name": "stderr",
     "output_type": "stream",
     "text": [
      "Best trial: 0. Best value: 0.285737:  24%|██▍       | 12/50 [01:02<03:16,  5.18s/it]"
     ]
    },
    {
     "name": "stdout",
     "output_type": "stream",
     "text": [
      "[I 2023-07-31 03:58:01,787] Trial 11 finished with value: 0.28573712953417496 and parameters: {'n_items_to_rank': 168}. Best is trial 0 with value: 0.28573712953417496.\n",
      "EvaluatorHoldout: Processed 5961 (100.0%) in 5.16 sec. Users per second: 1155\n"
     ]
    },
    {
     "name": "stderr",
     "output_type": "stream",
     "text": [
      "Best trial: 0. Best value: 0.285737:  26%|██▌       | 13/50 [01:07<03:11,  5.18s/it]"
     ]
    },
    {
     "name": "stdout",
     "output_type": "stream",
     "text": [
      "[I 2023-07-31 03:58:06,965] Trial 12 finished with value: 0.28573712953417496 and parameters: {'n_items_to_rank': 172}. Best is trial 0 with value: 0.28573712953417496.\n",
      "EvaluatorHoldout: Processed 5961 (100.0%) in 5.24 sec. Users per second: 1137\n"
     ]
    },
    {
     "name": "stderr",
     "output_type": "stream",
     "text": [
      "Best trial: 0. Best value: 0.285737:  28%|██▊       | 14/50 [01:12<03:07,  5.21s/it]"
     ]
    },
    {
     "name": "stdout",
     "output_type": "stream",
     "text": [
      "[I 2023-07-31 03:58:12,229] Trial 13 finished with value: 0.28573712953417496 and parameters: {'n_items_to_rank': 192}. Best is trial 0 with value: 0.28573712953417496.\n",
      "EvaluatorHoldout: Processed 5961 (100.0%) in 5.17 sec. Users per second: 1154\n"
     ]
    },
    {
     "name": "stderr",
     "output_type": "stream",
     "text": [
      "Best trial: 0. Best value: 0.285737:  30%|███       | 15/50 [01:18<03:01,  5.20s/it]"
     ]
    },
    {
     "name": "stdout",
     "output_type": "stream",
     "text": [
      "[I 2023-07-31 03:58:17,415] Trial 14 finished with value: 0.28573712953417496 and parameters: {'n_items_to_rank': 186}. Best is trial 0 with value: 0.28573712953417496.\n",
      "EvaluatorHoldout: Processed 5961 (100.0%) in 5.17 sec. Users per second: 1153\n"
     ]
    },
    {
     "name": "stderr",
     "output_type": "stream",
     "text": [
      "Best trial: 0. Best value: 0.285737:  32%|███▏      | 16/50 [01:23<02:56,  5.20s/it]"
     ]
    },
    {
     "name": "stdout",
     "output_type": "stream",
     "text": [
      "[I 2023-07-31 03:58:22,607] Trial 15 finished with value: 0.28573712953417496 and parameters: {'n_items_to_rank': 182}. Best is trial 0 with value: 0.28573712953417496.\n",
      "EvaluatorHoldout: Processed 5961 (100.0%) in 5.15 sec. Users per second: 1157\n"
     ]
    },
    {
     "name": "stderr",
     "output_type": "stream",
     "text": [
      "Best trial: 0. Best value: 0.285737:  34%|███▍      | 17/50 [01:28<02:51,  5.19s/it]"
     ]
    },
    {
     "name": "stdout",
     "output_type": "stream",
     "text": [
      "[I 2023-07-31 03:58:27,782] Trial 16 finished with value: 0.28573712953417496 and parameters: {'n_items_to_rank': 255}. Best is trial 0 with value: 0.28573712953417496.\n",
      "EvaluatorHoldout: Processed 5961 (100.0%) in 5.15 sec. Users per second: 1156\n"
     ]
    },
    {
     "name": "stderr",
     "output_type": "stream",
     "text": [
      "Best trial: 0. Best value: 0.285737:  36%|███▌      | 18/50 [01:33<02:45,  5.19s/it]"
     ]
    },
    {
     "name": "stdout",
     "output_type": "stream",
     "text": [
      "[I 2023-07-31 03:58:32,958] Trial 17 finished with value: 0.28573712953417496 and parameters: {'n_items_to_rank': 56}. Best is trial 0 with value: 0.28573712953417496.\n",
      "EvaluatorHoldout: Processed 5961 (100.0%) in 5.15 sec. Users per second: 1157\n"
     ]
    },
    {
     "name": "stderr",
     "output_type": "stream",
     "text": [
      "Best trial: 0. Best value: 0.285737:  38%|███▊      | 19/50 [01:38<02:40,  5.18s/it]"
     ]
    },
    {
     "name": "stdout",
     "output_type": "stream",
     "text": [
      "[I 2023-07-31 03:58:38,131] Trial 18 finished with value: 0.28573712953417496 and parameters: {'n_items_to_rank': 118}. Best is trial 0 with value: 0.28573712953417496.\n",
      "EvaluatorHoldout: Processed 5961 (100.0%) in 5.18 sec. Users per second: 1150\n"
     ]
    },
    {
     "name": "stderr",
     "output_type": "stream",
     "text": [
      "Best trial: 0. Best value: 0.285737:  40%|████      | 20/50 [01:44<02:35,  5.19s/it]"
     ]
    },
    {
     "name": "stdout",
     "output_type": "stream",
     "text": [
      "[I 2023-07-31 03:58:43,336] Trial 19 finished with value: 0.28573712953417496 and parameters: {'n_items_to_rank': 193}. Best is trial 0 with value: 0.28573712953417496.\n",
      "EvaluatorHoldout: Processed 5961 (100.0%) in 5.15 sec. Users per second: 1158\n"
     ]
    },
    {
     "name": "stderr",
     "output_type": "stream",
     "text": [
      "Best trial: 0. Best value: 0.285737:  42%|████▏     | 21/50 [01:49<02:30,  5.18s/it]"
     ]
    },
    {
     "name": "stdout",
     "output_type": "stream",
     "text": [
      "[I 2023-07-31 03:58:48,505] Trial 20 finished with value: 0.28573712953417496 and parameters: {'n_items_to_rank': 256}. Best is trial 0 with value: 0.28573712953417496.\n",
      "EvaluatorHoldout: Processed 5961 (100.0%) in 5.35 sec. Users per second: 1114\n"
     ]
    },
    {
     "name": "stderr",
     "output_type": "stream",
     "text": [
      "Best trial: 0. Best value: 0.285737:  44%|████▍     | 22/50 [01:54<02:26,  5.24s/it]"
     ]
    },
    {
     "name": "stdout",
     "output_type": "stream",
     "text": [
      "[I 2023-07-31 03:58:53,877] Trial 21 finished with value: 0.28573712953417496 and parameters: {'n_items_to_rank': 102}. Best is trial 0 with value: 0.28573712953417496.\n",
      "EvaluatorHoldout: Processed 5961 (100.0%) in 5.16 sec. Users per second: 1156\n"
     ]
    },
    {
     "name": "stderr",
     "output_type": "stream",
     "text": [
      "Best trial: 0. Best value: 0.285737:  46%|████▌     | 23/50 [01:59<02:20,  5.22s/it]"
     ]
    },
    {
     "name": "stdout",
     "output_type": "stream",
     "text": [
      "[I 2023-07-31 03:58:59,056] Trial 22 finished with value: 0.28573712953417496 and parameters: {'n_items_to_rank': 192}. Best is trial 0 with value: 0.28573712953417496.\n",
      "EvaluatorHoldout: Processed 5961 (100.0%) in 5.18 sec. Users per second: 1150\n"
     ]
    },
    {
     "name": "stderr",
     "output_type": "stream",
     "text": [
      "Best trial: 0. Best value: 0.285737:  48%|████▊     | 24/50 [02:05<02:15,  5.22s/it]"
     ]
    },
    {
     "name": "stdout",
     "output_type": "stream",
     "text": [
      "[I 2023-07-31 03:59:04,264] Trial 23 finished with value: 0.28573712953417496 and parameters: {'n_items_to_rank': 265}. Best is trial 0 with value: 0.28573712953417496.\n",
      "EvaluatorHoldout: Processed 5961 (100.0%) in 5.17 sec. Users per second: 1153\n"
     ]
    },
    {
     "name": "stderr",
     "output_type": "stream",
     "text": [
      "Best trial: 0. Best value: 0.285737:  50%|█████     | 25/50 [02:10<02:10,  5.21s/it]"
     ]
    },
    {
     "name": "stdout",
     "output_type": "stream",
     "text": [
      "[I 2023-07-31 03:59:09,459] Trial 24 finished with value: 0.28573712953417496 and parameters: {'n_items_to_rank': 150}. Best is trial 0 with value: 0.28573712953417496.\n",
      "EvaluatorHoldout: Processed 5961 (100.0%) in 5.18 sec. Users per second: 1150\n"
     ]
    },
    {
     "name": "stderr",
     "output_type": "stream",
     "text": [
      "Best trial: 0. Best value: 0.285737:  52%|█████▏    | 26/50 [02:15<02:05,  5.21s/it]"
     ]
    },
    {
     "name": "stdout",
     "output_type": "stream",
     "text": [
      "[I 2023-07-31 03:59:14,667] Trial 25 finished with value: 0.28573712953417496 and parameters: {'n_items_to_rank': 82}. Best is trial 0 with value: 0.28573712953417496.\n",
      "EvaluatorHoldout: Processed 5961 (100.0%) in 5.15 sec. Users per second: 1156\n"
     ]
    },
    {
     "name": "stderr",
     "output_type": "stream",
     "text": [
      "Best trial: 0. Best value: 0.285737:  54%|█████▍    | 27/50 [02:20<01:59,  5.20s/it]"
     ]
    },
    {
     "name": "stdout",
     "output_type": "stream",
     "text": [
      "[I 2023-07-31 03:59:19,845] Trial 26 finished with value: 0.28573712953417496 and parameters: {'n_items_to_rank': 319}. Best is trial 0 with value: 0.28573712953417496.\n",
      "EvaluatorHoldout: Processed 5961 (100.0%) in 5.15 sec. Users per second: 1157\n"
     ]
    },
    {
     "name": "stderr",
     "output_type": "stream",
     "text": [
      "Best trial: 0. Best value: 0.285737:  56%|█████▌    | 28/50 [02:25<01:54,  5.19s/it]"
     ]
    },
    {
     "name": "stdout",
     "output_type": "stream",
     "text": [
      "[I 2023-07-31 03:59:25,022] Trial 27 finished with value: 0.28573712953417496 and parameters: {'n_items_to_rank': 219}. Best is trial 0 with value: 0.28573712953417496.\n",
      "EvaluatorHoldout: Processed 5961 (100.0%) in 5.15 sec. Users per second: 1157\n"
     ]
    },
    {
     "name": "stderr",
     "output_type": "stream",
     "text": [
      "Best trial: 0. Best value: 0.285737:  58%|█████▊    | 29/50 [02:30<01:48,  5.19s/it]"
     ]
    },
    {
     "name": "stdout",
     "output_type": "stream",
     "text": [
      "[I 2023-07-31 03:59:30,199] Trial 28 finished with value: 0.28573712953417496 and parameters: {'n_items_to_rank': 263}. Best is trial 0 with value: 0.28573712953417496.\n",
      "EvaluatorHoldout: Processed 5961 (100.0%) in 5.17 sec. Users per second: 1154\n"
     ]
    },
    {
     "name": "stderr",
     "output_type": "stream",
     "text": [
      "Best trial: 0. Best value: 0.285737:  60%|██████    | 30/50 [02:36<01:43,  5.19s/it]"
     ]
    },
    {
     "name": "stdout",
     "output_type": "stream",
     "text": [
      "[I 2023-07-31 03:59:35,393] Trial 29 finished with value: 0.28573712953417496 and parameters: {'n_items_to_rank': 222}. Best is trial 0 with value: 0.28573712953417496.\n",
      "EvaluatorHoldout: Processed 5961 (100.0%) in 5.29 sec. Users per second: 1126\n"
     ]
    },
    {
     "name": "stderr",
     "output_type": "stream",
     "text": [
      "Best trial: 0. Best value: 0.285737:  62%|██████▏   | 31/50 [02:41<01:39,  5.23s/it]"
     ]
    },
    {
     "name": "stdout",
     "output_type": "stream",
     "text": [
      "[I 2023-07-31 03:59:40,714] Trial 30 finished with value: 0.28573712953417496 and parameters: {'n_items_to_rank': 322}. Best is trial 0 with value: 0.28573712953417496.\n",
      "EvaluatorHoldout: Processed 5961 (100.0%) in 5.33 sec. Users per second: 1119\n"
     ]
    },
    {
     "name": "stderr",
     "output_type": "stream",
     "text": [
      "Best trial: 0. Best value: 0.285737:  64%|██████▍   | 32/50 [02:46<01:34,  5.27s/it]"
     ]
    },
    {
     "name": "stdout",
     "output_type": "stream",
     "text": [
      "[I 2023-07-31 03:59:46,068] Trial 31 finished with value: 0.28573712953417496 and parameters: {'n_items_to_rank': 50}. Best is trial 0 with value: 0.28573712953417496.\n",
      "EvaluatorHoldout: Processed 5961 (100.0%) in 5.16 sec. Users per second: 1155\n"
     ]
    },
    {
     "name": "stderr",
     "output_type": "stream",
     "text": [
      "Best trial: 0. Best value: 0.285737:  66%|██████▌   | 33/50 [02:52<01:29,  5.24s/it]"
     ]
    },
    {
     "name": "stdout",
     "output_type": "stream",
     "text": [
      "[I 2023-07-31 03:59:51,258] Trial 32 finished with value: 0.28573712953417496 and parameters: {'n_items_to_rank': 329}. Best is trial 0 with value: 0.28573712953417496.\n",
      "EvaluatorHoldout: Processed 5961 (100.0%) in 5.17 sec. Users per second: 1154\n"
     ]
    },
    {
     "name": "stderr",
     "output_type": "stream",
     "text": [
      "Best trial: 0. Best value: 0.285737:  68%|██████▊   | 34/50 [02:57<01:23,  5.23s/it]"
     ]
    },
    {
     "name": "stdout",
     "output_type": "stream",
     "text": [
      "[I 2023-07-31 03:59:56,453] Trial 33 finished with value: 0.28573712953417496 and parameters: {'n_items_to_rank': 248}. Best is trial 0 with value: 0.28573712953417496.\n",
      "EvaluatorHoldout: Processed 5961 (100.0%) in 5.17 sec. Users per second: 1152\n"
     ]
    },
    {
     "name": "stderr",
     "output_type": "stream",
     "text": [
      "Best trial: 0. Best value: 0.285737:  70%|███████   | 35/50 [03:02<01:18,  5.22s/it]"
     ]
    },
    {
     "name": "stdout",
     "output_type": "stream",
     "text": [
      "[I 2023-07-31 04:00:01,656] Trial 34 finished with value: 0.28573712953417496 and parameters: {'n_items_to_rank': 331}. Best is trial 0 with value: 0.28573712953417496.\n",
      "EvaluatorHoldout: Processed 5961 (100.0%) in 5.16 sec. Users per second: 1155\n"
     ]
    },
    {
     "name": "stderr",
     "output_type": "stream",
     "text": [
      "Best trial: 0. Best value: 0.285737:  72%|███████▏  | 36/50 [03:07<01:12,  5.21s/it]"
     ]
    },
    {
     "name": "stdout",
     "output_type": "stream",
     "text": [
      "[I 2023-07-31 04:00:06,846] Trial 35 finished with value: 0.28573712953417496 and parameters: {'n_items_to_rank': 144}. Best is trial 0 with value: 0.28573712953417496.\n",
      "EvaluatorHoldout: Processed 5961 (100.0%) in 5.23 sec. Users per second: 1140\n"
     ]
    },
    {
     "name": "stderr",
     "output_type": "stream",
     "text": [
      "Best trial: 0. Best value: 0.285737:  74%|███████▍  | 37/50 [03:12<01:07,  5.23s/it]"
     ]
    },
    {
     "name": "stdout",
     "output_type": "stream",
     "text": [
      "[I 2023-07-31 04:00:12,102] Trial 36 finished with value: 0.28573712953417496 and parameters: {'n_items_to_rank': 73}. Best is trial 0 with value: 0.28573712953417496.\n",
      "EvaluatorHoldout: Processed 5961 (100.0%) in 5.17 sec. Users per second: 1152\n"
     ]
    },
    {
     "name": "stderr",
     "output_type": "stream",
     "text": [
      "Best trial: 0. Best value: 0.285737:  76%|███████▌  | 38/50 [03:18<01:02,  5.22s/it]"
     ]
    },
    {
     "name": "stdout",
     "output_type": "stream",
     "text": [
      "[I 2023-07-31 04:00:17,306] Trial 37 finished with value: 0.28573712953417496 and parameters: {'n_items_to_rank': 209}. Best is trial 0 with value: 0.28573712953417496.\n",
      "EvaluatorHoldout: Processed 5961 (100.0%) in 5.17 sec. Users per second: 1152\n"
     ]
    },
    {
     "name": "stderr",
     "output_type": "stream",
     "text": [
      "Best trial: 0. Best value: 0.285737:  78%|███████▊  | 39/50 [03:23<00:57,  5.21s/it]"
     ]
    },
    {
     "name": "stdout",
     "output_type": "stream",
     "text": [
      "[I 2023-07-31 04:00:22,506] Trial 38 finished with value: 0.28573712953417496 and parameters: {'n_items_to_rank': 264}. Best is trial 0 with value: 0.28573712953417496.\n",
      "EvaluatorHoldout: Processed 5961 (100.0%) in 5.17 sec. Users per second: 1152\n"
     ]
    },
    {
     "name": "stderr",
     "output_type": "stream",
     "text": [
      "Best trial: 0. Best value: 0.285737:  80%|████████  | 40/50 [03:28<00:52,  5.21s/it]"
     ]
    },
    {
     "name": "stdout",
     "output_type": "stream",
     "text": [
      "[I 2023-07-31 04:00:27,711] Trial 39 finished with value: 0.28573712953417496 and parameters: {'n_items_to_rank': 304}. Best is trial 0 with value: 0.28573712953417496.\n",
      "EvaluatorHoldout: Processed 5961 (100.0%) in 5.16 sec. Users per second: 1155\n"
     ]
    },
    {
     "name": "stderr",
     "output_type": "stream",
     "text": [
      "Best trial: 0. Best value: 0.285737:  82%|████████▏ | 41/50 [03:33<00:46,  5.21s/it]"
     ]
    },
    {
     "name": "stdout",
     "output_type": "stream",
     "text": [
      "[I 2023-07-31 04:00:32,905] Trial 40 finished with value: 0.28573712953417496 and parameters: {'n_items_to_rank': 275}. Best is trial 0 with value: 0.28573712953417496.\n",
      "EvaluatorHoldout: Processed 5961 (100.0%) in 5.17 sec. Users per second: 1154\n"
     ]
    },
    {
     "name": "stderr",
     "output_type": "stream",
     "text": [
      "Best trial: 0. Best value: 0.285737:  84%|████████▍ | 42/50 [03:38<00:41,  5.20s/it]"
     ]
    },
    {
     "name": "stdout",
     "output_type": "stream",
     "text": [
      "[I 2023-07-31 04:00:38,104] Trial 41 finished with value: 0.28573712953417496 and parameters: {'n_items_to_rank': 285}. Best is trial 0 with value: 0.28573712953417496.\n",
      "EvaluatorHoldout: Processed 5961 (100.0%) in 5.20 sec. Users per second: 1145\n"
     ]
    },
    {
     "name": "stderr",
     "output_type": "stream",
     "text": [
      "Best trial: 0. Best value: 0.285737:  86%|████████▌ | 43/50 [03:44<00:36,  5.21s/it]"
     ]
    },
    {
     "name": "stdout",
     "output_type": "stream",
     "text": [
      "[I 2023-07-31 04:00:43,340] Trial 42 finished with value: 0.28573712953417496 and parameters: {'n_items_to_rank': 114}. Best is trial 0 with value: 0.28573712953417496.\n",
      "EvaluatorHoldout: Processed 5961 (100.0%) in 5.17 sec. Users per second: 1153\n"
     ]
    },
    {
     "name": "stderr",
     "output_type": "stream",
     "text": [
      "Best trial: 0. Best value: 0.285737:  88%|████████▊ | 44/50 [03:49<00:31,  5.21s/it]"
     ]
    },
    {
     "name": "stdout",
     "output_type": "stream",
     "text": [
      "[I 2023-07-31 04:00:48,540] Trial 43 finished with value: 0.28573712953417496 and parameters: {'n_items_to_rank': 177}. Best is trial 0 with value: 0.28573712953417496.\n",
      "EvaluatorHoldout: Processed 5961 (100.0%) in 5.18 sec. Users per second: 1152\n"
     ]
    },
    {
     "name": "stderr",
     "output_type": "stream",
     "text": [
      "Best trial: 0. Best value: 0.285737:  90%|█████████ | 45/50 [03:54<00:26,  5.21s/it]"
     ]
    },
    {
     "name": "stdout",
     "output_type": "stream",
     "text": [
      "[I 2023-07-31 04:00:53,746] Trial 44 finished with value: 0.28573712953417496 and parameters: {'n_items_to_rank': 257}. Best is trial 0 with value: 0.28573712953417496.\n",
      "EvaluatorHoldout: Processed 5961 (100.0%) in 5.15 sec. Users per second: 1158\n"
     ]
    },
    {
     "name": "stderr",
     "output_type": "stream",
     "text": [
      "Best trial: 0. Best value: 0.285737:  92%|█████████▏| 46/50 [03:59<00:20,  5.20s/it]"
     ]
    },
    {
     "name": "stdout",
     "output_type": "stream",
     "text": [
      "[I 2023-07-31 04:00:58,926] Trial 45 finished with value: 0.28573712953417496 and parameters: {'n_items_to_rank': 101}. Best is trial 0 with value: 0.28573712953417496.\n",
      "EvaluatorHoldout: Processed 5961 (100.0%) in 5.15 sec. Users per second: 1158\n"
     ]
    },
    {
     "name": "stderr",
     "output_type": "stream",
     "text": [
      "Best trial: 0. Best value: 0.285737:  94%|█████████▍| 47/50 [04:04<00:15,  5.19s/it]"
     ]
    },
    {
     "name": "stdout",
     "output_type": "stream",
     "text": [
      "[I 2023-07-31 04:01:04,109] Trial 46 finished with value: 0.28573712953417496 and parameters: {'n_items_to_rank': 289}. Best is trial 0 with value: 0.28573712953417496.\n",
      "EvaluatorHoldout: Processed 5961 (100.0%) in 5.17 sec. Users per second: 1154\n"
     ]
    },
    {
     "name": "stderr",
     "output_type": "stream",
     "text": [
      "Best trial: 0. Best value: 0.285737:  96%|█████████▌| 48/50 [04:10<00:10,  5.20s/it]"
     ]
    },
    {
     "name": "stdout",
     "output_type": "stream",
     "text": [
      "[I 2023-07-31 04:01:09,307] Trial 47 finished with value: 0.28573712953417496 and parameters: {'n_items_to_rank': 117}. Best is trial 0 with value: 0.28573712953417496.\n",
      "EvaluatorHoldout: Processed 5961 (100.0%) in 5.24 sec. Users per second: 1138\n"
     ]
    },
    {
     "name": "stderr",
     "output_type": "stream",
     "text": [
      "Best trial: 0. Best value: 0.285737:  98%|█████████▊| 49/50 [04:15<00:05,  5.22s/it]"
     ]
    },
    {
     "name": "stdout",
     "output_type": "stream",
     "text": [
      "[I 2023-07-31 04:01:14,578] Trial 48 finished with value: 0.28573712953417496 and parameters: {'n_items_to_rank': 230}. Best is trial 0 with value: 0.28573712953417496.\n",
      "EvaluatorHoldout: Processed 5961 (100.0%) in 5.29 sec. Users per second: 1126\n"
     ]
    },
    {
     "name": "stderr",
     "output_type": "stream",
     "text": [
      "Best trial: 0. Best value: 0.285737: 100%|██████████| 50/50 [04:20<00:00,  5.21s/it]"
     ]
    },
    {
     "name": "stdout",
     "output_type": "stream",
     "text": [
      "[I 2023-07-31 04:01:19,904] Trial 49 finished with value: 0.28573712953417496 and parameters: {'n_items_to_rank': 249}. Best is trial 0 with value: 0.28573712953417496.\n",
      "Recommender_Base_Class: URM Detected 194 ( 5.0%) items with no interactions.\n"
     ]
    },
    {
     "name": "stderr",
     "output_type": "stream",
     "text": [
      "\n"
     ]
    },
    {
     "name": "stdout",
     "output_type": "stream",
     "text": [
      "EvaluatorHoldout: Processed 5976 (100.0%) in 5.34 sec. Users per second: 1119\n"
     ]
    },
    {
     "name": "stderr",
     "output_type": "stream",
     "text": [
      "[I 2023-07-31 04:01:26,979] A new study created in memory with name: no-name-e70eebd1-6913-472a-882b-c56f1596d2e9\n",
      "  0%|          | 0/50 [00:00<?, ?it/s]"
     ]
    },
    {
     "name": "stdout",
     "output_type": "stream",
     "text": [
      "IALSRecommender\n",
      "DiffusionAutoencoderRecommender_IALSRecommender_TwoLevelRec\n",
      "EvaluatorHoldout: Processed 5961 (100.0%) in 3.81 sec. Users per second: 1564\n"
     ]
    },
    {
     "name": "stderr",
     "output_type": "stream",
     "text": [
      "Best trial: 0. Best value: 0.294527:   2%|▏         | 1/50 [00:03<03:07,  3.82s/it]"
     ]
    },
    {
     "name": "stdout",
     "output_type": "stream",
     "text": [
      "[I 2023-07-31 04:01:30,803] Trial 0 finished with value: 0.29452684551223146 and parameters: {'n_items_to_rank': 184}. Best is trial 0 with value: 0.29452684551223146.\n",
      "EvaluatorHoldout: Processed 5961 (100.0%) in 3.82 sec. Users per second: 1559\n"
     ]
    },
    {
     "name": "stderr",
     "output_type": "stream",
     "text": [
      "Best trial: 0. Best value: 0.294527:   4%|▍         | 2/50 [00:07<03:03,  3.83s/it]"
     ]
    },
    {
     "name": "stdout",
     "output_type": "stream",
     "text": [
      "[I 2023-07-31 04:01:34,641] Trial 1 finished with value: 0.29452684551223146 and parameters: {'n_items_to_rank': 347}. Best is trial 0 with value: 0.29452684551223146.\n",
      "EvaluatorHoldout: Processed 5961 (100.0%) in 3.81 sec. Users per second: 1563\n"
     ]
    },
    {
     "name": "stderr",
     "output_type": "stream",
     "text": [
      "Best trial: 0. Best value: 0.294527:   6%|▌         | 3/50 [00:11<03:00,  3.83s/it]"
     ]
    },
    {
     "name": "stdout",
     "output_type": "stream",
     "text": [
      "[I 2023-07-31 04:01:38,473] Trial 2 finished with value: 0.29452684551223146 and parameters: {'n_items_to_rank': 289}. Best is trial 0 with value: 0.29452684551223146.\n",
      "EvaluatorHoldout: Processed 5961 (100.0%) in 3.82 sec. Users per second: 1560\n"
     ]
    },
    {
     "name": "stderr",
     "output_type": "stream",
     "text": [
      "Best trial: 0. Best value: 0.294527:   8%|▊         | 4/50 [00:15<02:56,  3.83s/it]"
     ]
    },
    {
     "name": "stdout",
     "output_type": "stream",
     "text": [
      "[I 2023-07-31 04:01:42,312] Trial 3 finished with value: 0.29452684551223146 and parameters: {'n_items_to_rank': 306}. Best is trial 0 with value: 0.29452684551223146.\n",
      "EvaluatorHoldout: Processed 5961 (100.0%) in 3.82 sec. Users per second: 1562\n"
     ]
    },
    {
     "name": "stderr",
     "output_type": "stream",
     "text": [
      "Best trial: 0. Best value: 0.294527:  10%|█         | 5/50 [00:19<02:52,  3.83s/it]"
     ]
    },
    {
     "name": "stdout",
     "output_type": "stream",
     "text": [
      "[I 2023-07-31 04:01:46,146] Trial 4 finished with value: 0.29452684551223146 and parameters: {'n_items_to_rank': 266}. Best is trial 0 with value: 0.29452684551223146.\n",
      "EvaluatorHoldout: Processed 5961 (100.0%) in 3.82 sec. Users per second: 1559\n"
     ]
    },
    {
     "name": "stderr",
     "output_type": "stream",
     "text": [
      "Best trial: 0. Best value: 0.294527:  12%|█▏        | 6/50 [00:23<02:48,  3.84s/it]"
     ]
    },
    {
     "name": "stdout",
     "output_type": "stream",
     "text": [
      "[I 2023-07-31 04:01:49,987] Trial 5 finished with value: 0.29452684551223146 and parameters: {'n_items_to_rank': 207}. Best is trial 0 with value: 0.29452684551223146.\n",
      "EvaluatorHoldout: Processed 5961 (100.0%) in 3.83 sec. Users per second: 1558\n"
     ]
    },
    {
     "name": "stderr",
     "output_type": "stream",
     "text": [
      "Best trial: 0. Best value: 0.294527:  14%|█▍        | 7/50 [00:26<02:45,  3.84s/it]"
     ]
    },
    {
     "name": "stdout",
     "output_type": "stream",
     "text": [
      "[I 2023-07-31 04:01:53,832] Trial 6 finished with value: 0.29452684551223146 and parameters: {'n_items_to_rank': 286}. Best is trial 0 with value: 0.29452684551223146.\n",
      "EvaluatorHoldout: Processed 5961 (100.0%) in 3.83 sec. Users per second: 1555\n"
     ]
    },
    {
     "name": "stderr",
     "output_type": "stream",
     "text": [
      "Best trial: 0. Best value: 0.294527:  16%|█▌        | 8/50 [00:30<02:41,  3.84s/it]"
     ]
    },
    {
     "name": "stdout",
     "output_type": "stream",
     "text": [
      "[I 2023-07-31 04:01:57,684] Trial 7 finished with value: 0.29452684551223146 and parameters: {'n_items_to_rank': 241}. Best is trial 0 with value: 0.29452684551223146.\n",
      "EvaluatorHoldout: Processed 5961 (100.0%) in 3.82 sec. Users per second: 1562\n"
     ]
    },
    {
     "name": "stderr",
     "output_type": "stream",
     "text": [
      "Best trial: 0. Best value: 0.294527:  18%|█▊        | 9/50 [00:34<02:37,  3.84s/it]"
     ]
    },
    {
     "name": "stdout",
     "output_type": "stream",
     "text": [
      "[I 2023-07-31 04:02:01,520] Trial 8 finished with value: 0.29452684551223146 and parameters: {'n_items_to_rank': 264}. Best is trial 0 with value: 0.29452684551223146.\n",
      "EvaluatorHoldout: Processed 5961 (100.0%) in 3.84 sec. Users per second: 1554\n"
     ]
    },
    {
     "name": "stderr",
     "output_type": "stream",
     "text": [
      "Best trial: 0. Best value: 0.294527:  20%|██        | 10/50 [00:38<02:33,  3.85s/it]"
     ]
    },
    {
     "name": "stdout",
     "output_type": "stream",
     "text": [
      "[I 2023-07-31 04:02:05,376] Trial 9 finished with value: 0.29452684551223146 and parameters: {'n_items_to_rank': 83}. Best is trial 0 with value: 0.29452684551223146.\n",
      "EvaluatorHoldout: Processed 5961 (100.0%) in 3.82 sec. Users per second: 1562\n"
     ]
    },
    {
     "name": "stderr",
     "output_type": "stream",
     "text": [
      "Best trial: 0. Best value: 0.294527:  22%|██▏       | 11/50 [00:42<02:29,  3.84s/it]"
     ]
    },
    {
     "name": "stdout",
     "output_type": "stream",
     "text": [
      "[I 2023-07-31 04:02:09,212] Trial 10 finished with value: 0.29452684551223146 and parameters: {'n_items_to_rank': 267}. Best is trial 0 with value: 0.29452684551223146.\n",
      "EvaluatorHoldout: Processed 5961 (100.0%) in 3.82 sec. Users per second: 1562\n"
     ]
    },
    {
     "name": "stderr",
     "output_type": "stream",
     "text": [
      "Best trial: 0. Best value: 0.294527:  24%|██▍       | 12/50 [00:46<02:25,  3.84s/it]"
     ]
    },
    {
     "name": "stdout",
     "output_type": "stream",
     "text": [
      "[I 2023-07-31 04:02:13,050] Trial 11 finished with value: 0.29452684551223146 and parameters: {'n_items_to_rank': 157}. Best is trial 0 with value: 0.29452684551223146.\n",
      "EvaluatorHoldout: Processed 5961 (100.0%) in 3.83 sec. Users per second: 1556\n"
     ]
    },
    {
     "name": "stderr",
     "output_type": "stream",
     "text": [
      "Best trial: 0. Best value: 0.294527:  26%|██▌       | 13/50 [00:49<02:22,  3.84s/it]"
     ]
    },
    {
     "name": "stdout",
     "output_type": "stream",
     "text": [
      "[I 2023-07-31 04:02:16,901] Trial 12 finished with value: 0.29452684551223146 and parameters: {'n_items_to_rank': 214}. Best is trial 0 with value: 0.29452684551223146.\n",
      "EvaluatorHoldout: Processed 5961 (100.0%) in 3.85 sec. Users per second: 1549\n"
     ]
    },
    {
     "name": "stderr",
     "output_type": "stream",
     "text": [
      "Best trial: 0. Best value: 0.294527:  28%|██▊       | 14/50 [00:53<02:18,  3.85s/it]"
     ]
    },
    {
     "name": "stdout",
     "output_type": "stream",
     "text": [
      "[I 2023-07-31 04:02:20,770] Trial 13 finished with value: 0.29452684551223146 and parameters: {'n_items_to_rank': 279}. Best is trial 0 with value: 0.29452684551223146.\n",
      "EvaluatorHoldout: Processed 5961 (100.0%) in 3.84 sec. Users per second: 1552\n"
     ]
    },
    {
     "name": "stderr",
     "output_type": "stream",
     "text": [
      "Best trial: 0. Best value: 0.294527:  30%|███       | 15/50 [00:57<02:14,  3.86s/it]"
     ]
    },
    {
     "name": "stdout",
     "output_type": "stream",
     "text": [
      "[I 2023-07-31 04:02:24,634] Trial 14 finished with value: 0.29452684551223146 and parameters: {'n_items_to_rank': 259}. Best is trial 0 with value: 0.29452684551223146.\n",
      "EvaluatorHoldout: Processed 5961 (100.0%) in 3.81 sec. Users per second: 1563\n"
     ]
    },
    {
     "name": "stderr",
     "output_type": "stream",
     "text": [
      "Best trial: 0. Best value: 0.294527:  32%|███▏      | 16/50 [01:01<02:12,  3.88s/it]"
     ]
    },
    {
     "name": "stdout",
     "output_type": "stream",
     "text": [
      "[I 2023-07-31 04:02:28,587] Trial 15 finished with value: 0.29452684551223146 and parameters: {'n_items_to_rank': 141}. Best is trial 0 with value: 0.29452684551223146.\n",
      "EvaluatorHoldout: Processed 5961 (100.0%) in 3.81 sec. Users per second: 1563\n"
     ]
    },
    {
     "name": "stderr",
     "output_type": "stream",
     "text": [
      "Best trial: 0. Best value: 0.294527:  34%|███▍      | 17/50 [01:05<02:07,  3.87s/it]"
     ]
    },
    {
     "name": "stdout",
     "output_type": "stream",
     "text": [
      "[I 2023-07-31 04:02:32,425] Trial 16 finished with value: 0.29452684551223146 and parameters: {'n_items_to_rank': 125}. Best is trial 0 with value: 0.29452684551223146.\n",
      "EvaluatorHoldout: Processed 5961 (100.0%) in 3.85 sec. Users per second: 1549\n"
     ]
    },
    {
     "name": "stderr",
     "output_type": "stream",
     "text": [
      "Best trial: 0. Best value: 0.294527:  36%|███▌      | 18/50 [01:09<02:03,  3.87s/it]"
     ]
    },
    {
     "name": "stdout",
     "output_type": "stream",
     "text": [
      "[I 2023-07-31 04:02:36,298] Trial 17 finished with value: 0.29452684551223146 and parameters: {'n_items_to_rank': 184}. Best is trial 0 with value: 0.29452684551223146.\n",
      "EvaluatorHoldout: Processed 5961 (100.0%) in 3.83 sec. Users per second: 1555\n"
     ]
    },
    {
     "name": "stderr",
     "output_type": "stream",
     "text": [
      "Best trial: 0. Best value: 0.294527:  38%|███▊      | 19/50 [01:13<01:59,  3.87s/it]"
     ]
    },
    {
     "name": "stdout",
     "output_type": "stream",
     "text": [
      "[I 2023-07-31 04:02:40,154] Trial 18 finished with value: 0.29452684551223146 and parameters: {'n_items_to_rank': 184}. Best is trial 0 with value: 0.29452684551223146.\n",
      "EvaluatorHoldout: Processed 5961 (100.0%) in 3.83 sec. Users per second: 1558\n"
     ]
    },
    {
     "name": "stderr",
     "output_type": "stream",
     "text": [
      "Best trial: 0. Best value: 0.294527:  40%|████      | 20/50 [01:17<01:55,  3.86s/it]"
     ]
    },
    {
     "name": "stdout",
     "output_type": "stream",
     "text": [
      "[I 2023-07-31 04:02:44,003] Trial 19 finished with value: 0.29452684551223146 and parameters: {'n_items_to_rank': 69}. Best is trial 0 with value: 0.29452684551223146.\n",
      "EvaluatorHoldout: Processed 5961 (100.0%) in 3.83 sec. Users per second: 1557\n"
     ]
    },
    {
     "name": "stderr",
     "output_type": "stream",
     "text": [
      "Best trial: 0. Best value: 0.294527:  42%|████▏     | 21/50 [01:20<01:51,  3.86s/it]"
     ]
    },
    {
     "name": "stdout",
     "output_type": "stream",
     "text": [
      "[I 2023-07-31 04:02:47,853] Trial 20 finished with value: 0.29452684551223146 and parameters: {'n_items_to_rank': 57}. Best is trial 0 with value: 0.29452684551223146.\n",
      "EvaluatorHoldout: Processed 5961 (100.0%) in 3.82 sec. Users per second: 1559\n"
     ]
    },
    {
     "name": "stderr",
     "output_type": "stream",
     "text": [
      "Best trial: 0. Best value: 0.294527:  44%|████▍     | 22/50 [01:24<01:47,  3.86s/it]"
     ]
    },
    {
     "name": "stdout",
     "output_type": "stream",
     "text": [
      "[I 2023-07-31 04:02:51,706] Trial 21 finished with value: 0.29452684551223146 and parameters: {'n_items_to_rank': 289}. Best is trial 0 with value: 0.29452684551223146.\n",
      "EvaluatorHoldout: Processed 5961 (100.0%) in 3.84 sec. Users per second: 1553\n"
     ]
    },
    {
     "name": "stderr",
     "output_type": "stream",
     "text": [
      "Best trial: 0. Best value: 0.294527:  46%|████▌     | 23/50 [01:28<01:44,  3.86s/it]"
     ]
    },
    {
     "name": "stdout",
     "output_type": "stream",
     "text": [
      "[I 2023-07-31 04:02:55,568] Trial 22 finished with value: 0.29452684551223146 and parameters: {'n_items_to_rank': 198}. Best is trial 0 with value: 0.29452684551223146.\n",
      "EvaluatorHoldout: Processed 5961 (100.0%) in 3.82 sec. Users per second: 1561\n"
     ]
    },
    {
     "name": "stderr",
     "output_type": "stream",
     "text": [
      "Best trial: 0. Best value: 0.294527:  48%|████▊     | 24/50 [01:32<01:40,  3.85s/it]"
     ]
    },
    {
     "name": "stdout",
     "output_type": "stream",
     "text": [
      "[I 2023-07-31 04:02:59,413] Trial 23 finished with value: 0.29452684551223146 and parameters: {'n_items_to_rank': 268}. Best is trial 0 with value: 0.29452684551223146.\n",
      "EvaluatorHoldout: Processed 5961 (100.0%) in 3.84 sec. Users per second: 1551\n"
     ]
    },
    {
     "name": "stderr",
     "output_type": "stream",
     "text": [
      "Best trial: 0. Best value: 0.294527:  50%|█████     | 25/50 [01:36<01:36,  3.86s/it]"
     ]
    },
    {
     "name": "stdout",
     "output_type": "stream",
     "text": [
      "[I 2023-07-31 04:03:03,282] Trial 24 finished with value: 0.29452684551223146 and parameters: {'n_items_to_rank': 276}. Best is trial 0 with value: 0.29452684551223146.\n",
      "EvaluatorHoldout: Processed 5961 (100.0%) in 3.82 sec. Users per second: 1560\n"
     ]
    },
    {
     "name": "stderr",
     "output_type": "stream",
     "text": [
      "Best trial: 0. Best value: 0.294527:  52%|█████▏    | 26/50 [01:40<01:32,  3.85s/it]"
     ]
    },
    {
     "name": "stdout",
     "output_type": "stream",
     "text": [
      "[I 2023-07-31 04:03:07,128] Trial 25 finished with value: 0.29452684551223146 and parameters: {'n_items_to_rank': 335}. Best is trial 0 with value: 0.29452684551223146.\n",
      "EvaluatorHoldout: Processed 5961 (100.0%) in 3.83 sec. Users per second: 1555\n"
     ]
    },
    {
     "name": "stderr",
     "output_type": "stream",
     "text": [
      "Best trial: 0. Best value: 0.294527:  54%|█████▍    | 27/50 [01:44<01:28,  3.86s/it]"
     ]
    },
    {
     "name": "stdout",
     "output_type": "stream",
     "text": [
      "[I 2023-07-31 04:03:10,986] Trial 26 finished with value: 0.29452684551223146 and parameters: {'n_items_to_rank': 136}. Best is trial 0 with value: 0.29452684551223146.\n",
      "EvaluatorHoldout: Processed 5961 (100.0%) in 3.82 sec. Users per second: 1558\n"
     ]
    },
    {
     "name": "stderr",
     "output_type": "stream",
     "text": [
      "Best trial: 0. Best value: 0.294527:  56%|█████▌    | 28/50 [01:47<01:24,  3.86s/it]"
     ]
    },
    {
     "name": "stdout",
     "output_type": "stream",
     "text": [
      "[I 2023-07-31 04:03:14,839] Trial 27 finished with value: 0.29452684551223146 and parameters: {'n_items_to_rank': 347}. Best is trial 0 with value: 0.29452684551223146.\n",
      "EvaluatorHoldout: Processed 5961 (100.0%) in 3.82 sec. Users per second: 1560\n"
     ]
    },
    {
     "name": "stderr",
     "output_type": "stream",
     "text": [
      "Best trial: 0. Best value: 0.294527:  58%|█████▊    | 29/50 [01:51<01:20,  3.85s/it]"
     ]
    },
    {
     "name": "stdout",
     "output_type": "stream",
     "text": [
      "[I 2023-07-31 04:03:18,688] Trial 28 finished with value: 0.29452684551223146 and parameters: {'n_items_to_rank': 150}. Best is trial 0 with value: 0.29452684551223146.\n",
      "EvaluatorHoldout: Processed 5961 (100.0%) in 3.82 sec. Users per second: 1560\n"
     ]
    },
    {
     "name": "stderr",
     "output_type": "stream",
     "text": [
      "Best trial: 0. Best value: 0.294527:  60%|██████    | 30/50 [01:55<01:17,  3.85s/it]"
     ]
    },
    {
     "name": "stdout",
     "output_type": "stream",
     "text": [
      "[I 2023-07-31 04:03:22,538] Trial 29 finished with value: 0.29452684551223146 and parameters: {'n_items_to_rank': 192}. Best is trial 0 with value: 0.29452684551223146.\n",
      "EvaluatorHoldout: Processed 5961 (100.0%) in 3.81 sec. Users per second: 1563\n"
     ]
    },
    {
     "name": "stderr",
     "output_type": "stream",
     "text": [
      "Best trial: 0. Best value: 0.294527:  62%|██████▏   | 31/50 [01:59<01:13,  3.85s/it]"
     ]
    },
    {
     "name": "stdout",
     "output_type": "stream",
     "text": [
      "[I 2023-07-31 04:03:26,380] Trial 30 finished with value: 0.29452684551223146 and parameters: {'n_items_to_rank': 211}. Best is trial 0 with value: 0.29452684551223146.\n",
      "EvaluatorHoldout: Processed 5961 (100.0%) in 3.84 sec. Users per second: 1552\n"
     ]
    },
    {
     "name": "stderr",
     "output_type": "stream",
     "text": [
      "Best trial: 0. Best value: 0.294527:  64%|██████▍   | 32/50 [02:03<01:09,  3.86s/it]"
     ]
    },
    {
     "name": "stdout",
     "output_type": "stream",
     "text": [
      "[I 2023-07-31 04:03:30,250] Trial 31 finished with value: 0.29452684551223146 and parameters: {'n_items_to_rank': 306}. Best is trial 0 with value: 0.29452684551223146.\n",
      "EvaluatorHoldout: Processed 5961 (100.0%) in 3.82 sec. Users per second: 1559\n"
     ]
    },
    {
     "name": "stderr",
     "output_type": "stream",
     "text": [
      "Best trial: 0. Best value: 0.294527:  66%|██████▌   | 33/50 [02:07<01:05,  3.85s/it]"
     ]
    },
    {
     "name": "stdout",
     "output_type": "stream",
     "text": [
      "[I 2023-07-31 04:03:34,099] Trial 32 finished with value: 0.29452684551223146 and parameters: {'n_items_to_rank': 71}. Best is trial 0 with value: 0.29452684551223146.\n",
      "EvaluatorHoldout: Processed 5961 (100.0%) in 3.82 sec. Users per second: 1561\n"
     ]
    },
    {
     "name": "stderr",
     "output_type": "stream",
     "text": [
      "Best trial: 0. Best value: 0.294527:  68%|██████▊   | 34/50 [02:10<01:01,  3.85s/it]"
     ]
    },
    {
     "name": "stdout",
     "output_type": "stream",
     "text": [
      "[I 2023-07-31 04:03:37,946] Trial 33 finished with value: 0.29452684551223146 and parameters: {'n_items_to_rank': 230}. Best is trial 0 with value: 0.29452684551223146.\n",
      "EvaluatorHoldout: Processed 5961 (100.0%) in 3.82 sec. Users per second: 1562\n"
     ]
    },
    {
     "name": "stderr",
     "output_type": "stream",
     "text": [
      "Best trial: 0. Best value: 0.294527:  70%|███████   | 35/50 [02:14<00:58,  3.88s/it]"
     ]
    },
    {
     "name": "stdout",
     "output_type": "stream",
     "text": [
      "[I 2023-07-31 04:03:41,891] Trial 34 finished with value: 0.29452684551223146 and parameters: {'n_items_to_rank': 90}. Best is trial 0 with value: 0.29452684551223146.\n",
      "EvaluatorHoldout: Processed 5961 (100.0%) in 3.84 sec. Users per second: 1551\n"
     ]
    },
    {
     "name": "stderr",
     "output_type": "stream",
     "text": [
      "Best trial: 0. Best value: 0.294527:  72%|███████▏  | 36/50 [02:18<00:54,  3.88s/it]"
     ]
    },
    {
     "name": "stdout",
     "output_type": "stream",
     "text": [
      "[I 2023-07-31 04:03:45,765] Trial 35 finished with value: 0.29452684551223146 and parameters: {'n_items_to_rank': 179}. Best is trial 0 with value: 0.29452684551223146.\n",
      "EvaluatorHoldout: Processed 5961 (100.0%) in 3.82 sec. Users per second: 1562\n"
     ]
    },
    {
     "name": "stderr",
     "output_type": "stream",
     "text": [
      "Best trial: 0. Best value: 0.294527:  74%|███████▍  | 37/50 [02:22<00:50,  3.87s/it]"
     ]
    },
    {
     "name": "stdout",
     "output_type": "stream",
     "text": [
      "[I 2023-07-31 04:03:49,612] Trial 36 finished with value: 0.29452684551223146 and parameters: {'n_items_to_rank': 86}. Best is trial 0 with value: 0.29452684551223146.\n",
      "EvaluatorHoldout: Processed 5961 (100.0%) in 3.81 sec. Users per second: 1563\n"
     ]
    },
    {
     "name": "stderr",
     "output_type": "stream",
     "text": [
      "Best trial: 0. Best value: 0.294527:  76%|███████▌  | 38/50 [02:26<00:46,  3.86s/it]"
     ]
    },
    {
     "name": "stdout",
     "output_type": "stream",
     "text": [
      "[I 2023-07-31 04:03:53,455] Trial 37 finished with value: 0.29452684551223146 and parameters: {'n_items_to_rank': 180}. Best is trial 0 with value: 0.29452684551223146.\n",
      "EvaluatorHoldout: Processed 5961 (100.0%) in 3.82 sec. Users per second: 1559\n"
     ]
    },
    {
     "name": "stderr",
     "output_type": "stream",
     "text": [
      "Best trial: 0. Best value: 0.294527:  78%|███████▊  | 39/50 [02:30<00:42,  3.86s/it]"
     ]
    },
    {
     "name": "stdout",
     "output_type": "stream",
     "text": [
      "[I 2023-07-31 04:03:57,308] Trial 38 finished with value: 0.29452684551223146 and parameters: {'n_items_to_rank': 118}. Best is trial 0 with value: 0.29452684551223146.\n",
      "EvaluatorHoldout: Processed 5961 (100.0%) in 3.84 sec. Users per second: 1550\n"
     ]
    },
    {
     "name": "stderr",
     "output_type": "stream",
     "text": [
      "Best trial: 0. Best value: 0.294527:  80%|████████  | 40/50 [02:34<00:38,  3.86s/it]"
     ]
    },
    {
     "name": "stdout",
     "output_type": "stream",
     "text": [
      "[I 2023-07-31 04:04:01,185] Trial 39 finished with value: 0.29452684551223146 and parameters: {'n_items_to_rank': 219}. Best is trial 0 with value: 0.29452684551223146.\n",
      "EvaluatorHoldout: Processed 5961 (100.0%) in 3.86 sec. Users per second: 1546\n"
     ]
    },
    {
     "name": "stderr",
     "output_type": "stream",
     "text": [
      "Best trial: 0. Best value: 0.294527:  82%|████████▏ | 41/50 [02:38<00:34,  3.87s/it]"
     ]
    },
    {
     "name": "stdout",
     "output_type": "stream",
     "text": [
      "[I 2023-07-31 04:04:05,073] Trial 40 finished with value: 0.29452684551223146 and parameters: {'n_items_to_rank': 148}. Best is trial 0 with value: 0.29452684551223146.\n",
      "EvaluatorHoldout: Processed 5961 (100.0%) in 3.82 sec. Users per second: 1561\n"
     ]
    },
    {
     "name": "stderr",
     "output_type": "stream",
     "text": [
      "Best trial: 0. Best value: 0.294527:  84%|████████▍ | 42/50 [02:41<00:30,  3.86s/it]"
     ]
    },
    {
     "name": "stdout",
     "output_type": "stream",
     "text": [
      "[I 2023-07-31 04:04:08,924] Trial 41 finished with value: 0.29452684551223146 and parameters: {'n_items_to_rank': 186}. Best is trial 0 with value: 0.29452684551223146.\n",
      "EvaluatorHoldout: Processed 5961 (100.0%) in 3.84 sec. Users per second: 1552\n"
     ]
    },
    {
     "name": "stderr",
     "output_type": "stream",
     "text": [
      "Best trial: 0. Best value: 0.294527:  86%|████████▌ | 43/50 [02:45<00:27,  3.87s/it]"
     ]
    },
    {
     "name": "stdout",
     "output_type": "stream",
     "text": [
      "[I 2023-07-31 04:04:12,794] Trial 42 finished with value: 0.29452684551223146 and parameters: {'n_items_to_rank': 104}. Best is trial 0 with value: 0.29452684551223146.\n",
      "EvaluatorHoldout: Processed 5961 (100.0%) in 3.84 sec. Users per second: 1552\n"
     ]
    },
    {
     "name": "stderr",
     "output_type": "stream",
     "text": [
      "Best trial: 0. Best value: 0.294527:  88%|████████▊ | 44/50 [02:49<00:23,  3.87s/it]"
     ]
    },
    {
     "name": "stdout",
     "output_type": "stream",
     "text": [
      "[I 2023-07-31 04:04:16,664] Trial 43 finished with value: 0.29452684551223146 and parameters: {'n_items_to_rank': 98}. Best is trial 0 with value: 0.29452684551223146.\n",
      "EvaluatorHoldout: Processed 5961 (100.0%) in 3.83 sec. Users per second: 1556\n"
     ]
    },
    {
     "name": "stderr",
     "output_type": "stream",
     "text": [
      "Best trial: 0. Best value: 0.294527:  90%|█████████ | 45/50 [02:53<00:19,  3.87s/it]"
     ]
    },
    {
     "name": "stdout",
     "output_type": "stream",
     "text": [
      "[I 2023-07-31 04:04:20,525] Trial 44 finished with value: 0.29452684551223146 and parameters: {'n_items_to_rank': 195}. Best is trial 0 with value: 0.29452684551223146.\n",
      "EvaluatorHoldout: Processed 5961 (100.0%) in 3.96 sec. Users per second: 1506\n"
     ]
    },
    {
     "name": "stderr",
     "output_type": "stream",
     "text": [
      "Best trial: 0. Best value: 0.294527:  92%|█████████▏| 46/50 [02:57<00:15,  3.90s/it]"
     ]
    },
    {
     "name": "stdout",
     "output_type": "stream",
     "text": [
      "[I 2023-07-31 04:04:24,517] Trial 45 finished with value: 0.29452684551223146 and parameters: {'n_items_to_rank': 266}. Best is trial 0 with value: 0.29452684551223146.\n",
      "EvaluatorHoldout: Processed 5961 (100.0%) in 3.93 sec. Users per second: 1517\n"
     ]
    },
    {
     "name": "stderr",
     "output_type": "stream",
     "text": [
      "Best trial: 0. Best value: 0.294527:  94%|█████████▍| 47/50 [03:01<00:11,  3.92s/it]"
     ]
    },
    {
     "name": "stdout",
     "output_type": "stream",
     "text": [
      "[I 2023-07-31 04:04:28,481] Trial 46 finished with value: 0.29452684551223146 and parameters: {'n_items_to_rank': 167}. Best is trial 0 with value: 0.29452684551223146.\n",
      "EvaluatorHoldout: Processed 5961 (100.0%) in 3.92 sec. Users per second: 1519\n"
     ]
    },
    {
     "name": "stderr",
     "output_type": "stream",
     "text": [
      "Best trial: 0. Best value: 0.294527:  96%|█████████▌| 48/50 [03:05<00:07,  3.93s/it]"
     ]
    },
    {
     "name": "stdout",
     "output_type": "stream",
     "text": [
      "[I 2023-07-31 04:04:32,437] Trial 47 finished with value: 0.29452684551223146 and parameters: {'n_items_to_rank': 92}. Best is trial 0 with value: 0.29452684551223146.\n",
      "EvaluatorHoldout: Processed 5961 (100.0%) in 3.85 sec. Users per second: 1546\n"
     ]
    },
    {
     "name": "stderr",
     "output_type": "stream",
     "text": [
      "Best trial: 0. Best value: 0.294527:  98%|█████████▊| 49/50 [03:09<00:03,  3.92s/it]"
     ]
    },
    {
     "name": "stdout",
     "output_type": "stream",
     "text": [
      "[I 2023-07-31 04:04:36,325] Trial 48 finished with value: 0.29452684551223146 and parameters: {'n_items_to_rank': 232}. Best is trial 0 with value: 0.29452684551223146.\n",
      "EvaluatorHoldout: Processed 5961 (100.0%) in 3.83 sec. Users per second: 1557\n"
     ]
    },
    {
     "name": "stderr",
     "output_type": "stream",
     "text": [
      "Best trial: 0. Best value: 0.294527: 100%|██████████| 50/50 [03:13<00:00,  3.86s/it]"
     ]
    },
    {
     "name": "stdout",
     "output_type": "stream",
     "text": [
      "[I 2023-07-31 04:04:40,186] Trial 49 finished with value: 0.29452684551223146 and parameters: {'n_items_to_rank': 103}. Best is trial 0 with value: 0.29452684551223146.\n",
      "Recommender_Base_Class: URM Detected 194 ( 5.0%) items with no interactions.\n"
     ]
    },
    {
     "name": "stderr",
     "output_type": "stream",
     "text": [
      "\n"
     ]
    },
    {
     "name": "stdout",
     "output_type": "stream",
     "text": [
      "EvaluatorHoldout: Processed 5976 (100.0%) in 4.24 sec. Users per second: 1408\n",
      "Recommender_Base_Class: URM Detected 211 ( 5.4%) items with no interactions.\n"
     ]
    },
    {
     "name": "stderr",
     "output_type": "stream",
     "text": [
      "[I 2023-07-31 04:05:29,781] A new study created in memory with name: no-name-621d9627-35bb-42ba-9ffa-36f5b4ecd129\n",
      "  0%|          | 0/50 [00:00<?, ?it/s]"
     ]
    },
    {
     "name": "stdout",
     "output_type": "stream",
     "text": [
      "SLIMElasticNetRecommender\n",
      "DiffusionAutoencoderRecommender_SLIMElasticNetRecommender_TwoLevelRec\n",
      "EvaluatorHoldout: Processed 5961 (100.0%) in 4.08 sec. Users per second: 1462\n"
     ]
    },
    {
     "name": "stderr",
     "output_type": "stream",
     "text": [
      "Best trial: 0. Best value: 0.156849:   2%|▏         | 1/50 [00:04<03:25,  4.19s/it]"
     ]
    },
    {
     "name": "stdout",
     "output_type": "stream",
     "text": [
      "[I 2023-07-31 04:05:33,971] Trial 0 finished with value: 0.15684889113158698 and parameters: {'n_items_to_rank': 53}. Best is trial 0 with value: 0.15684889113158698.\n",
      "EvaluatorHoldout: Processed 5961 (100.0%) in 4.04 sec. Users per second: 1475\n"
     ]
    },
    {
     "name": "stderr",
     "output_type": "stream",
     "text": [
      "Best trial: 0. Best value: 0.156849:   4%|▍         | 2/50 [00:08<03:17,  4.11s/it]"
     ]
    },
    {
     "name": "stdout",
     "output_type": "stream",
     "text": [
      "[I 2023-07-31 04:05:38,029] Trial 1 finished with value: 0.15684889113158698 and parameters: {'n_items_to_rank': 177}. Best is trial 0 with value: 0.15684889113158698.\n",
      "EvaluatorHoldout: Processed 5961 (100.0%) in 4.03 sec. Users per second: 1481\n"
     ]
    },
    {
     "name": "stderr",
     "output_type": "stream",
     "text": [
      "Best trial: 0. Best value: 0.156849:   6%|▌         | 3/50 [00:12<03:11,  4.08s/it]"
     ]
    },
    {
     "name": "stdout",
     "output_type": "stream",
     "text": [
      "[I 2023-07-31 04:05:42,071] Trial 2 finished with value: 0.15684889113158698 and parameters: {'n_items_to_rank': 244}. Best is trial 0 with value: 0.15684889113158698.\n",
      "EvaluatorHoldout: Processed 5961 (100.0%) in 3.89 sec. Users per second: 1531\n"
     ]
    },
    {
     "name": "stderr",
     "output_type": "stream",
     "text": [
      "Best trial: 0. Best value: 0.156849:   8%|▊         | 4/50 [00:16<03:04,  4.01s/it]"
     ]
    },
    {
     "name": "stdout",
     "output_type": "stream",
     "text": [
      "[I 2023-07-31 04:05:45,979] Trial 3 finished with value: 0.14810885931420045 and parameters: {'n_items_to_rank': 34}. Best is trial 0 with value: 0.15684889113158698.\n",
      "EvaluatorHoldout: Processed 5961 (100.0%) in 4.04 sec. Users per second: 1476\n"
     ]
    },
    {
     "name": "stderr",
     "output_type": "stream",
     "text": [
      "Best trial: 0. Best value: 0.156849:  10%|█         | 5/50 [00:20<03:01,  4.03s/it]"
     ]
    },
    {
     "name": "stdout",
     "output_type": "stream",
     "text": [
      "[I 2023-07-31 04:05:50,035] Trial 4 finished with value: 0.15684889113158698 and parameters: {'n_items_to_rank': 187}. Best is trial 0 with value: 0.15684889113158698.\n",
      "EvaluatorHoldout: Processed 5961 (100.0%) in 4.04 sec. Users per second: 1477\n"
     ]
    },
    {
     "name": "stderr",
     "output_type": "stream",
     "text": [
      "Best trial: 0. Best value: 0.156849:  12%|█▏        | 6/50 [00:24<02:57,  4.04s/it]"
     ]
    },
    {
     "name": "stdout",
     "output_type": "stream",
     "text": [
      "[I 2023-07-31 04:05:54,088] Trial 5 finished with value: 0.15684889113158698 and parameters: {'n_items_to_rank': 139}. Best is trial 0 with value: 0.15684889113158698.\n",
      "EvaluatorHoldout: Processed 5961 (100.0%) in 3.99 sec. Users per second: 1494\n"
     ]
    },
    {
     "name": "stderr",
     "output_type": "stream",
     "text": [
      "Best trial: 0. Best value: 0.156849:  14%|█▍        | 7/50 [00:28<02:53,  4.03s/it]"
     ]
    },
    {
     "name": "stdout",
     "output_type": "stream",
     "text": [
      "[I 2023-07-31 04:05:58,097] Trial 6 finished with value: 0.15684889113158698 and parameters: {'n_items_to_rank': 183}. Best is trial 0 with value: 0.15684889113158698.\n",
      "EvaluatorHoldout: Processed 5961 (100.0%) in 4.41 sec. Users per second: 1352\n"
     ]
    },
    {
     "name": "stderr",
     "output_type": "stream",
     "text": [
      "Best trial: 0. Best value: 0.156849:  16%|█▌        | 8/50 [00:32<02:54,  4.15s/it]"
     ]
    },
    {
     "name": "stdout",
     "output_type": "stream",
     "text": [
      "[I 2023-07-31 04:06:02,523] Trial 7 finished with value: 0.14603584796063904 and parameters: {'n_items_to_rank': 31}. Best is trial 0 with value: 0.15684889113158698.\n",
      "EvaluatorHoldout: Processed 5961 (100.0%) in 4.06 sec. Users per second: 1467\n"
     ]
    },
    {
     "name": "stderr",
     "output_type": "stream",
     "text": [
      "Best trial: 0. Best value: 0.156849:  18%|█▊        | 9/50 [00:36<02:49,  4.13s/it]"
     ]
    },
    {
     "name": "stdout",
     "output_type": "stream",
     "text": [
      "[I 2023-07-31 04:06:06,605] Trial 8 finished with value: 0.15684889113158698 and parameters: {'n_items_to_rank': 93}. Best is trial 0 with value: 0.15684889113158698.\n",
      "EvaluatorHoldout: Processed 5961 (100.0%) in 4.07 sec. Users per second: 1465\n"
     ]
    },
    {
     "name": "stderr",
     "output_type": "stream",
     "text": [
      "Best trial: 0. Best value: 0.156849:  20%|██        | 10/50 [00:40<02:44,  4.12s/it]"
     ]
    },
    {
     "name": "stdout",
     "output_type": "stream",
     "text": [
      "[I 2023-07-31 04:06:10,690] Trial 9 finished with value: 0.15684889113158698 and parameters: {'n_items_to_rank': 264}. Best is trial 0 with value: 0.15684889113158698.\n",
      "EvaluatorHoldout: Processed 5961 (100.0%) in 4.04 sec. Users per second: 1475\n"
     ]
    },
    {
     "name": "stderr",
     "output_type": "stream",
     "text": [
      "Best trial: 0. Best value: 0.156849:  22%|██▏       | 11/50 [00:44<02:39,  4.10s/it]"
     ]
    },
    {
     "name": "stdout",
     "output_type": "stream",
     "text": [
      "[I 2023-07-31 04:06:14,750] Trial 10 finished with value: 0.15684889113158698 and parameters: {'n_items_to_rank': 248}. Best is trial 0 with value: 0.15684889113158698.\n",
      "EvaluatorHoldout: Processed 5961 (100.0%) in 4.04 sec. Users per second: 1475\n"
     ]
    },
    {
     "name": "stderr",
     "output_type": "stream",
     "text": [
      "Best trial: 0. Best value: 0.156849:  24%|██▍       | 12/50 [00:49<02:35,  4.09s/it]"
     ]
    },
    {
     "name": "stdout",
     "output_type": "stream",
     "text": [
      "[I 2023-07-31 04:06:18,812] Trial 11 finished with value: 0.15684889113158698 and parameters: {'n_items_to_rank': 242}. Best is trial 0 with value: 0.15684889113158698.\n",
      "EvaluatorHoldout: Processed 5961 (100.0%) in 4.02 sec. Users per second: 1482\n"
     ]
    },
    {
     "name": "stderr",
     "output_type": "stream",
     "text": [
      "Best trial: 0. Best value: 0.156849:  26%|██▌       | 13/50 [00:53<02:30,  4.07s/it]"
     ]
    },
    {
     "name": "stdout",
     "output_type": "stream",
     "text": [
      "[I 2023-07-31 04:06:22,855] Trial 12 finished with value: 0.15684889113158698 and parameters: {'n_items_to_rank': 233}. Best is trial 0 with value: 0.15684889113158698.\n",
      "EvaluatorHoldout: Processed 5961 (100.0%) in 4.04 sec. Users per second: 1475\n"
     ]
    },
    {
     "name": "stderr",
     "output_type": "stream",
     "text": [
      "Best trial: 0. Best value: 0.156849:  28%|██▊       | 14/50 [00:57<02:26,  4.07s/it]"
     ]
    },
    {
     "name": "stdout",
     "output_type": "stream",
     "text": [
      "[I 2023-07-31 04:06:26,916] Trial 13 finished with value: 0.15684889113158698 and parameters: {'n_items_to_rank': 292}. Best is trial 0 with value: 0.15684889113158698.\n",
      "EvaluatorHoldout: Processed 5961 (100.0%) in 4.03 sec. Users per second: 1478\n"
     ]
    },
    {
     "name": "stderr",
     "output_type": "stream",
     "text": [
      "Best trial: 0. Best value: 0.156849:  30%|███       | 15/50 [01:01<02:22,  4.07s/it]"
     ]
    },
    {
     "name": "stdout",
     "output_type": "stream",
     "text": [
      "[I 2023-07-31 04:06:30,970] Trial 14 finished with value: 0.15684889113158698 and parameters: {'n_items_to_rank': 160}. Best is trial 0 with value: 0.15684889113158698.\n",
      "EvaluatorHoldout: Processed 5961 (100.0%) in 4.04 sec. Users per second: 1475\n"
     ]
    },
    {
     "name": "stderr",
     "output_type": "stream",
     "text": [
      "Best trial: 0. Best value: 0.156849:  32%|███▏      | 16/50 [01:05<02:18,  4.06s/it]"
     ]
    },
    {
     "name": "stdout",
     "output_type": "stream",
     "text": [
      "[I 2023-07-31 04:06:35,032] Trial 15 finished with value: 0.15684889113158698 and parameters: {'n_items_to_rank': 222}. Best is trial 0 with value: 0.15684889113158698.\n",
      "EvaluatorHoldout: Processed 5961 (100.0%) in 4.05 sec. Users per second: 1472\n"
     ]
    },
    {
     "name": "stderr",
     "output_type": "stream",
     "text": [
      "Best trial: 0. Best value: 0.156849:  34%|███▍      | 17/50 [01:09<02:14,  4.07s/it]"
     ]
    },
    {
     "name": "stdout",
     "output_type": "stream",
     "text": [
      "[I 2023-07-31 04:06:39,103] Trial 16 finished with value: 0.15684889113158698 and parameters: {'n_items_to_rank': 224}. Best is trial 0 with value: 0.15684889113158698.\n",
      "EvaluatorHoldout: Processed 5961 (100.0%) in 4.04 sec. Users per second: 1476\n"
     ]
    },
    {
     "name": "stderr",
     "output_type": "stream",
     "text": [
      "Best trial: 0. Best value: 0.156849:  36%|███▌      | 18/50 [01:13<02:10,  4.06s/it]"
     ]
    },
    {
     "name": "stdout",
     "output_type": "stream",
     "text": [
      "[I 2023-07-31 04:06:43,163] Trial 17 finished with value: 0.15684889113158698 and parameters: {'n_items_to_rank': 53}. Best is trial 0 with value: 0.15684889113158698.\n",
      "EvaluatorHoldout: Processed 5961 (100.0%) in 4.00 sec. Users per second: 1491\n"
     ]
    },
    {
     "name": "stderr",
     "output_type": "stream",
     "text": [
      "Best trial: 0. Best value: 0.156849:  38%|███▊      | 19/50 [01:17<02:06,  4.08s/it]"
     ]
    },
    {
     "name": "stdout",
     "output_type": "stream",
     "text": [
      "[I 2023-07-31 04:06:47,283] Trial 18 finished with value: 0.15684889113158698 and parameters: {'n_items_to_rank': 56}. Best is trial 0 with value: 0.15684889113158698.\n",
      "EvaluatorHoldout: Processed 5961 (100.0%) in 4.03 sec. Users per second: 1481\n"
     ]
    },
    {
     "name": "stderr",
     "output_type": "stream",
     "text": [
      "Best trial: 0. Best value: 0.156849:  40%|████      | 20/50 [01:21<02:02,  4.07s/it]"
     ]
    },
    {
     "name": "stdout",
     "output_type": "stream",
     "text": [
      "[I 2023-07-31 04:06:51,331] Trial 19 finished with value: 0.15684889113158698 and parameters: {'n_items_to_rank': 177}. Best is trial 0 with value: 0.15684889113158698.\n",
      "EvaluatorHoldout: Processed 5961 (100.0%) in 4.04 sec. Users per second: 1475\n"
     ]
    },
    {
     "name": "stderr",
     "output_type": "stream",
     "text": [
      "Best trial: 0. Best value: 0.156849:  42%|████▏     | 21/50 [01:25<01:57,  4.07s/it]"
     ]
    },
    {
     "name": "stdout",
     "output_type": "stream",
     "text": [
      "[I 2023-07-31 04:06:55,394] Trial 20 finished with value: 0.15684889113158698 and parameters: {'n_items_to_rank': 123}. Best is trial 0 with value: 0.15684889113158698.\n",
      "EvaluatorHoldout: Processed 5961 (100.0%) in 4.03 sec. Users per second: 1481\n"
     ]
    },
    {
     "name": "stderr",
     "output_type": "stream",
     "text": [
      "Best trial: 0. Best value: 0.156849:  44%|████▍     | 22/50 [01:29<01:53,  4.06s/it]"
     ]
    },
    {
     "name": "stdout",
     "output_type": "stream",
     "text": [
      "[I 2023-07-31 04:06:59,442] Trial 21 finished with value: 0.15684889113158698 and parameters: {'n_items_to_rank': 178}. Best is trial 0 with value: 0.15684889113158698.\n",
      "EvaluatorHoldout: Processed 5961 (100.0%) in 3.96 sec. Users per second: 1506\n"
     ]
    },
    {
     "name": "stderr",
     "output_type": "stream",
     "text": [
      "Best trial: 0. Best value: 0.156849:  46%|████▌     | 23/50 [01:33<01:49,  4.04s/it]"
     ]
    },
    {
     "name": "stdout",
     "output_type": "stream",
     "text": [
      "[I 2023-07-31 04:07:03,422] Trial 22 finished with value: 0.13000346007717017 and parameters: {'n_items_to_rank': 18}. Best is trial 0 with value: 0.15684889113158698.\n",
      "EvaluatorHoldout: Processed 5961 (100.0%) in 4.01 sec. Users per second: 1487\n"
     ]
    },
    {
     "name": "stderr",
     "output_type": "stream",
     "text": [
      "Best trial: 0. Best value: 0.156849:  48%|████▊     | 24/50 [01:37<01:44,  4.04s/it]"
     ]
    },
    {
     "name": "stdout",
     "output_type": "stream",
     "text": [
      "[I 2023-07-31 04:07:07,457] Trial 23 finished with value: 0.15684889113158698 and parameters: {'n_items_to_rank': 148}. Best is trial 0 with value: 0.15684889113158698.\n",
      "EvaluatorHoldout: Processed 5961 (100.0%) in 4.03 sec. Users per second: 1479\n"
     ]
    },
    {
     "name": "stderr",
     "output_type": "stream",
     "text": [
      "Best trial: 0. Best value: 0.156849:  50%|█████     | 25/50 [01:41<01:41,  4.04s/it]"
     ]
    },
    {
     "name": "stdout",
     "output_type": "stream",
     "text": [
      "[I 2023-07-31 04:07:11,513] Trial 24 finished with value: 0.15684889113158698 and parameters: {'n_items_to_rank': 243}. Best is trial 0 with value: 0.15684889113158698.\n",
      "EvaluatorHoldout: Processed 5961 (100.0%) in 4.02 sec. Users per second: 1482\n"
     ]
    },
    {
     "name": "stderr",
     "output_type": "stream",
     "text": [
      "Best trial: 0. Best value: 0.156849:  52%|█████▏    | 26/50 [01:45<01:37,  4.04s/it]"
     ]
    },
    {
     "name": "stdout",
     "output_type": "stream",
     "text": [
      "[I 2023-07-31 04:07:15,558] Trial 25 finished with value: 0.15565338810446985 and parameters: {'n_items_to_rank': 48}. Best is trial 0 with value: 0.15684889113158698.\n",
      "EvaluatorHoldout: Processed 5961 (100.0%) in 4.03 sec. Users per second: 1480\n"
     ]
    },
    {
     "name": "stderr",
     "output_type": "stream",
     "text": [
      "Best trial: 0. Best value: 0.156849:  54%|█████▍    | 27/50 [01:49<01:33,  4.05s/it]"
     ]
    },
    {
     "name": "stdout",
     "output_type": "stream",
     "text": [
      "[I 2023-07-31 04:07:19,609] Trial 26 finished with value: 0.15684889113158698 and parameters: {'n_items_to_rank': 79}. Best is trial 0 with value: 0.15684889113158698.\n",
      "EvaluatorHoldout: Processed 5961 (100.0%) in 4.03 sec. Users per second: 1480\n"
     ]
    },
    {
     "name": "stderr",
     "output_type": "stream",
     "text": [
      "Best trial: 0. Best value: 0.156849:  56%|█████▌    | 28/50 [01:53<01:29,  4.05s/it]"
     ]
    },
    {
     "name": "stdout",
     "output_type": "stream",
     "text": [
      "[I 2023-07-31 04:07:23,661] Trial 27 finished with value: 0.15684889113158698 and parameters: {'n_items_to_rank': 53}. Best is trial 0 with value: 0.15684889113158698.\n",
      "EvaluatorHoldout: Processed 5961 (100.0%) in 4.00 sec. Users per second: 1490\n"
     ]
    },
    {
     "name": "stderr",
     "output_type": "stream",
     "text": [
      "Best trial: 0. Best value: 0.156849:  58%|█████▊    | 29/50 [01:57<01:24,  4.04s/it]"
     ]
    },
    {
     "name": "stdout",
     "output_type": "stream",
     "text": [
      "[I 2023-07-31 04:07:27,688] Trial 28 finished with value: 0.15684889113158698 and parameters: {'n_items_to_rank': 111}. Best is trial 0 with value: 0.15684889113158698.\n",
      "EvaluatorHoldout: Processed 5961 (100.0%) in 4.06 sec. Users per second: 1469\n"
     ]
    },
    {
     "name": "stderr",
     "output_type": "stream",
     "text": [
      "Best trial: 0. Best value: 0.156849:  60%|██████    | 30/50 [02:01<01:21,  4.05s/it]"
     ]
    },
    {
     "name": "stdout",
     "output_type": "stream",
     "text": [
      "[I 2023-07-31 04:07:31,772] Trial 29 finished with value: 0.15684889113158698 and parameters: {'n_items_to_rank': 239}. Best is trial 0 with value: 0.15684889113158698.\n",
      "EvaluatorHoldout: Processed 5961 (100.0%) in 4.02 sec. Users per second: 1485\n"
     ]
    },
    {
     "name": "stderr",
     "output_type": "stream",
     "text": [
      "Best trial: 0. Best value: 0.156849:  62%|██████▏   | 31/50 [02:06<01:16,  4.05s/it]"
     ]
    },
    {
     "name": "stdout",
     "output_type": "stream",
     "text": [
      "[I 2023-07-31 04:07:35,814] Trial 30 finished with value: 0.15684889113158698 and parameters: {'n_items_to_rank': 244}. Best is trial 0 with value: 0.15684889113158698.\n",
      "EvaluatorHoldout: Processed 5961 (100.0%) in 4.03 sec. Users per second: 1479\n"
     ]
    },
    {
     "name": "stderr",
     "output_type": "stream",
     "text": [
      "Best trial: 0. Best value: 0.156849:  64%|██████▍   | 32/50 [02:10<01:12,  4.05s/it]"
     ]
    },
    {
     "name": "stdout",
     "output_type": "stream",
     "text": [
      "[I 2023-07-31 04:07:39,872] Trial 31 finished with value: 0.15684889113158698 and parameters: {'n_items_to_rank': 270}. Best is trial 0 with value: 0.15684889113158698.\n",
      "EvaluatorHoldout: Processed 5961 (100.0%) in 4.01 sec. Users per second: 1485\n"
     ]
    },
    {
     "name": "stderr",
     "output_type": "stream",
     "text": [
      "Best trial: 0. Best value: 0.156849:  66%|██████▌   | 33/50 [02:14<01:08,  4.05s/it]"
     ]
    },
    {
     "name": "stdout",
     "output_type": "stream",
     "text": [
      "[I 2023-07-31 04:07:43,912] Trial 32 finished with value: 0.15684889113158698 and parameters: {'n_items_to_rank': 129}. Best is trial 0 with value: 0.15684889113158698.\n",
      "EvaluatorHoldout: Processed 5961 (100.0%) in 4.42 sec. Users per second: 1350\n"
     ]
    },
    {
     "name": "stderr",
     "output_type": "stream",
     "text": [
      "Best trial: 0. Best value: 0.156849:  68%|██████▊   | 34/50 [02:18<01:06,  4.17s/it]"
     ]
    },
    {
     "name": "stdout",
     "output_type": "stream",
     "text": [
      "[I 2023-07-31 04:07:48,354] Trial 33 finished with value: 0.14743348279167978 and parameters: {'n_items_to_rank': 33}. Best is trial 0 with value: 0.15684889113158698.\n",
      "EvaluatorHoldout: Processed 5961 (100.0%) in 4.02 sec. Users per second: 1485\n"
     ]
    },
    {
     "name": "stderr",
     "output_type": "stream",
     "text": [
      "Best trial: 0. Best value: 0.156849:  70%|███████   | 35/50 [02:22<01:01,  4.13s/it]"
     ]
    },
    {
     "name": "stdout",
     "output_type": "stream",
     "text": [
      "[I 2023-07-31 04:07:52,398] Trial 34 finished with value: 0.15684889113158698 and parameters: {'n_items_to_rank': 259}. Best is trial 0 with value: 0.15684889113158698.\n",
      "EvaluatorHoldout: Processed 5961 (100.0%) in 4.00 sec. Users per second: 1489\n"
     ]
    },
    {
     "name": "stderr",
     "output_type": "stream",
     "text": [
      "Best trial: 0. Best value: 0.156849:  72%|███████▏  | 36/50 [02:26<00:57,  4.10s/it]"
     ]
    },
    {
     "name": "stdout",
     "output_type": "stream",
     "text": [
      "[I 2023-07-31 04:07:56,431] Trial 35 finished with value: 0.15490270485337876 and parameters: {'n_items_to_rank': 47}. Best is trial 0 with value: 0.15684889113158698.\n",
      "EvaluatorHoldout: Processed 5961 (100.0%) in 4.02 sec. Users per second: 1482\n"
     ]
    },
    {
     "name": "stderr",
     "output_type": "stream",
     "text": [
      "Best trial: 0. Best value: 0.156849:  74%|███████▍  | 37/50 [02:30<00:53,  4.12s/it]"
     ]
    },
    {
     "name": "stdout",
     "output_type": "stream",
     "text": [
      "[I 2023-07-31 04:08:00,592] Trial 36 finished with value: 0.15684889113158698 and parameters: {'n_items_to_rank': 238}. Best is trial 0 with value: 0.15684889113158698.\n",
      "EvaluatorHoldout: Processed 5961 (100.0%) in 4.04 sec. Users per second: 1476\n"
     ]
    },
    {
     "name": "stderr",
     "output_type": "stream",
     "text": [
      "Best trial: 0. Best value: 0.156849:  76%|███████▌  | 38/50 [02:34<00:49,  4.10s/it]"
     ]
    },
    {
     "name": "stdout",
     "output_type": "stream",
     "text": [
      "[I 2023-07-31 04:08:04,661] Trial 37 finished with value: 0.15684889113158698 and parameters: {'n_items_to_rank': 187}. Best is trial 0 with value: 0.15684889113158698.\n",
      "EvaluatorHoldout: Processed 5961 (100.0%) in 4.02 sec. Users per second: 1483\n"
     ]
    },
    {
     "name": "stderr",
     "output_type": "stream",
     "text": [
      "Best trial: 0. Best value: 0.156849:  78%|███████▊  | 39/50 [02:38<00:44,  4.09s/it]"
     ]
    },
    {
     "name": "stdout",
     "output_type": "stream",
     "text": [
      "[I 2023-07-31 04:08:08,712] Trial 38 finished with value: 0.15684889113158698 and parameters: {'n_items_to_rank': 133}. Best is trial 0 with value: 0.15684889113158698.\n",
      "EvaluatorHoldout: Processed 5961 (100.0%) in 4.02 sec. Users per second: 1482\n"
     ]
    },
    {
     "name": "stderr",
     "output_type": "stream",
     "text": [
      "Best trial: 0. Best value: 0.156849:  80%|████████  | 40/50 [02:42<00:40,  4.08s/it]"
     ]
    },
    {
     "name": "stdout",
     "output_type": "stream",
     "text": [
      "[I 2023-07-31 04:08:12,765] Trial 39 finished with value: 0.15684889113158698 and parameters: {'n_items_to_rank': 211}. Best is trial 0 with value: 0.15684889113158698.\n",
      "EvaluatorHoldout: Processed 5961 (100.0%) in 4.00 sec. Users per second: 1492\n"
     ]
    },
    {
     "name": "stderr",
     "output_type": "stream",
     "text": [
      "Best trial: 0. Best value: 0.156849:  82%|████████▏ | 41/50 [02:47<00:36,  4.06s/it]"
     ]
    },
    {
     "name": "stdout",
     "output_type": "stream",
     "text": [
      "[I 2023-07-31 04:08:16,789] Trial 40 finished with value: 0.15684889113158698 and parameters: {'n_items_to_rank': 66}. Best is trial 0 with value: 0.15684889113158698.\n",
      "EvaluatorHoldout: Processed 5961 (100.0%) in 4.07 sec. Users per second: 1466\n"
     ]
    },
    {
     "name": "stderr",
     "output_type": "stream",
     "text": [
      "Best trial: 0. Best value: 0.156849:  84%|████████▍ | 42/50 [02:51<00:32,  4.07s/it]"
     ]
    },
    {
     "name": "stdout",
     "output_type": "stream",
     "text": [
      "[I 2023-07-31 04:08:20,886] Trial 41 finished with value: 0.15684889113158698 and parameters: {'n_items_to_rank': 305}. Best is trial 0 with value: 0.15684889113158698.\n",
      "EvaluatorHoldout: Processed 5961 (100.0%) in 4.03 sec. Users per second: 1480\n"
     ]
    },
    {
     "name": "stderr",
     "output_type": "stream",
     "text": [
      "Best trial: 0. Best value: 0.156849:  86%|████████▌ | 43/50 [02:55<00:28,  4.07s/it]"
     ]
    },
    {
     "name": "stdout",
     "output_type": "stream",
     "text": [
      "[I 2023-07-31 04:08:24,945] Trial 42 finished with value: 0.15684889113158698 and parameters: {'n_items_to_rank': 285}. Best is trial 0 with value: 0.15684889113158698.\n",
      "EvaluatorHoldout: Processed 5961 (100.0%) in 4.03 sec. Users per second: 1481\n"
     ]
    },
    {
     "name": "stderr",
     "output_type": "stream",
     "text": [
      "Best trial: 0. Best value: 0.156849:  88%|████████▊ | 44/50 [02:59<00:24,  4.07s/it]"
     ]
    },
    {
     "name": "stdout",
     "output_type": "stream",
     "text": [
      "[I 2023-07-31 04:08:29,004] Trial 43 finished with value: 0.15684889113158698 and parameters: {'n_items_to_rank': 104}. Best is trial 0 with value: 0.15684889113158698.\n",
      "EvaluatorHoldout: Processed 5961 (100.0%) in 4.01 sec. Users per second: 1488\n"
     ]
    },
    {
     "name": "stderr",
     "output_type": "stream",
     "text": [
      "Best trial: 0. Best value: 0.156849:  90%|█████████ | 45/50 [03:03<00:20,  4.06s/it]"
     ]
    },
    {
     "name": "stdout",
     "output_type": "stream",
     "text": [
      "[I 2023-07-31 04:08:33,042] Trial 44 finished with value: 0.15684889113158698 and parameters: {'n_items_to_rank': 206}. Best is trial 0 with value: 0.15684889113158698.\n",
      "EvaluatorHoldout: Processed 5961 (100.0%) in 4.00 sec. Users per second: 1490\n"
     ]
    },
    {
     "name": "stderr",
     "output_type": "stream",
     "text": [
      "Best trial: 0. Best value: 0.156849:  92%|█████████▏| 46/50 [03:07<00:16,  4.05s/it]"
     ]
    },
    {
     "name": "stdout",
     "output_type": "stream",
     "text": [
      "[I 2023-07-31 04:08:37,072] Trial 45 finished with value: 0.15684889113158698 and parameters: {'n_items_to_rank': 139}. Best is trial 0 with value: 0.15684889113158698.\n",
      "EvaluatorHoldout: Processed 5961 (100.0%) in 4.03 sec. Users per second: 1479\n"
     ]
    },
    {
     "name": "stderr",
     "output_type": "stream",
     "text": [
      "Best trial: 0. Best value: 0.156849:  94%|█████████▍| 47/50 [03:11<00:12,  4.05s/it]"
     ]
    },
    {
     "name": "stdout",
     "output_type": "stream",
     "text": [
      "[I 2023-07-31 04:08:41,133] Trial 46 finished with value: 0.15684889113158698 and parameters: {'n_items_to_rank': 229}. Best is trial 0 with value: 0.15684889113158698.\n",
      "EvaluatorHoldout: Processed 5961 (100.0%) in 4.02 sec. Users per second: 1483\n"
     ]
    },
    {
     "name": "stderr",
     "output_type": "stream",
     "text": [
      "Best trial: 0. Best value: 0.156849:  96%|█████████▌| 48/50 [03:15<00:08,  4.05s/it]"
     ]
    },
    {
     "name": "stdout",
     "output_type": "stream",
     "text": [
      "[I 2023-07-31 04:08:45,185] Trial 47 finished with value: 0.15684889113158698 and parameters: {'n_items_to_rank': 199}. Best is trial 0 with value: 0.15684889113158698.\n",
      "EvaluatorHoldout: Processed 5961 (100.0%) in 4.02 sec. Users per second: 1482\n"
     ]
    },
    {
     "name": "stderr",
     "output_type": "stream",
     "text": [
      "Best trial: 0. Best value: 0.156849:  98%|█████████▊| 49/50 [03:19<00:04,  4.05s/it]"
     ]
    },
    {
     "name": "stdout",
     "output_type": "stream",
     "text": [
      "[I 2023-07-31 04:08:49,241] Trial 48 finished with value: 0.15684889113158698 and parameters: {'n_items_to_rank': 208}. Best is trial 0 with value: 0.15684889113158698.\n",
      "EvaluatorHoldout: Processed 5961 (100.0%) in 4.02 sec. Users per second: 1482\n"
     ]
    },
    {
     "name": "stderr",
     "output_type": "stream",
     "text": [
      "Best trial: 0. Best value: 0.156849: 100%|██████████| 50/50 [03:23<00:00,  4.07s/it]"
     ]
    },
    {
     "name": "stdout",
     "output_type": "stream",
     "text": [
      "[I 2023-07-31 04:08:53,298] Trial 49 finished with value: 0.15684889113158698 and parameters: {'n_items_to_rank': 217}. Best is trial 0 with value: 0.15684889113158698.\n",
      "Recommender_Base_Class: URM Detected 194 ( 5.0%) items with no interactions.\n"
     ]
    },
    {
     "name": "stderr",
     "output_type": "stream",
     "text": [
      "\n"
     ]
    },
    {
     "name": "stdout",
     "output_type": "stream",
     "text": [
      "EvaluatorHoldout: Processed 5976 (100.0%) in 3.77 sec. Users per second: 1587\n"
     ]
    },
    {
     "name": "stderr",
     "output_type": "stream",
     "text": [
      "[I 2023-07-31 04:09:40,626] A new study created in memory with name: no-name-c2c73d41-51f8-4ea2-b088-ca1468caac55\n",
      "  0%|          | 0/50 [00:00<?, ?it/s]"
     ]
    },
    {
     "name": "stdout",
     "output_type": "stream",
     "text": [
      "ItemKNNCFRecommender\n",
      "DiffusionAutoencoderRecommender_ItemKNNCFRecommender_TwoLevelRec\n",
      "EvaluatorHoldout: Processed 5961 (100.0%) in 5.16 sec. Users per second: 1155\n"
     ]
    },
    {
     "name": "stderr",
     "output_type": "stream",
     "text": [
      "Best trial: 0. Best value: 0.135808:   2%|▏         | 1/50 [00:05<04:13,  5.18s/it]"
     ]
    },
    {
     "name": "stdout",
     "output_type": "stream",
     "text": [
      "[I 2023-07-31 04:09:45,803] Trial 0 finished with value: 0.13580768934170037 and parameters: {'n_items_to_rank': 128}. Best is trial 0 with value: 0.13580768934170037.\n",
      "EvaluatorHoldout: Processed 5961 (100.0%) in 5.09 sec. Users per second: 1172\n"
     ]
    },
    {
     "name": "stderr",
     "output_type": "stream",
     "text": [
      "Best trial: 0. Best value: 0.135808:   4%|▍         | 2/50 [00:10<04:06,  5.13s/it]"
     ]
    },
    {
     "name": "stdout",
     "output_type": "stream",
     "text": [
      "[I 2023-07-31 04:09:50,903] Trial 1 finished with value: 0.1325601899403425 and parameters: {'n_items_to_rank': 42}. Best is trial 0 with value: 0.13580768934170037.\n",
      "EvaluatorHoldout: Processed 5961 (100.0%) in 5.26 sec. Users per second: 1134\n"
     ]
    },
    {
     "name": "stderr",
     "output_type": "stream",
     "text": [
      "Best trial: 0. Best value: 0.135808:   6%|▌         | 3/50 [00:15<04:04,  5.20s/it]"
     ]
    },
    {
     "name": "stdout",
     "output_type": "stream",
     "text": [
      "[I 2023-07-31 04:09:56,177] Trial 2 finished with value: 0.13580768934170037 and parameters: {'n_items_to_rank': 231}. Best is trial 0 with value: 0.13580768934170037.\n",
      "EvaluatorHoldout: Processed 5961 (100.0%) in 5.15 sec. Users per second: 1158\n"
     ]
    },
    {
     "name": "stderr",
     "output_type": "stream",
     "text": [
      "Best trial: 0. Best value: 0.135808:   8%|▊         | 4/50 [00:20<03:58,  5.18s/it]"
     ]
    },
    {
     "name": "stdout",
     "output_type": "stream",
     "text": [
      "[I 2023-07-31 04:10:01,341] Trial 3 finished with value: 0.13580768934170037 and parameters: {'n_items_to_rank': 187}. Best is trial 0 with value: 0.13580768934170037.\n",
      "EvaluatorHoldout: Processed 5961 (100.0%) in 5.17 sec. Users per second: 1154\n"
     ]
    },
    {
     "name": "stderr",
     "output_type": "stream",
     "text": [
      "Best trial: 0. Best value: 0.135808:  10%|█         | 5/50 [00:25<03:53,  5.18s/it]"
     ]
    },
    {
     "name": "stdout",
     "output_type": "stream",
     "text": [
      "[I 2023-07-31 04:10:06,526] Trial 4 finished with value: 0.13580768934170037 and parameters: {'n_items_to_rank': 188}. Best is trial 0 with value: 0.13580768934170037.\n",
      "EvaluatorHoldout: Processed 5961 (100.0%) in 5.16 sec. Users per second: 1155\n"
     ]
    },
    {
     "name": "stderr",
     "output_type": "stream",
     "text": [
      "Best trial: 0. Best value: 0.135808:  12%|█▏        | 6/50 [00:31<03:48,  5.18s/it]"
     ]
    },
    {
     "name": "stdout",
     "output_type": "stream",
     "text": [
      "[I 2023-07-31 04:10:11,704] Trial 5 finished with value: 0.13580768934170037 and parameters: {'n_items_to_rank': 270}. Best is trial 0 with value: 0.13580768934170037.\n",
      "EvaluatorHoldout: Processed 5961 (100.0%) in 5.13 sec. Users per second: 1162\n"
     ]
    },
    {
     "name": "stderr",
     "output_type": "stream",
     "text": [
      "Best trial: 0. Best value: 0.135808:  14%|█▍        | 7/50 [00:36<03:42,  5.17s/it]"
     ]
    },
    {
     "name": "stdout",
     "output_type": "stream",
     "text": [
      "[I 2023-07-31 04:10:16,853] Trial 6 finished with value: 0.13580768934170037 and parameters: {'n_items_to_rank': 219}. Best is trial 0 with value: 0.13580768934170037.\n",
      "EvaluatorHoldout: Processed 5961 (100.0%) in 5.14 sec. Users per second: 1160\n"
     ]
    },
    {
     "name": "stderr",
     "output_type": "stream",
     "text": [
      "Best trial: 0. Best value: 0.135808:  16%|█▌        | 8/50 [00:41<03:37,  5.17s/it]"
     ]
    },
    {
     "name": "stdout",
     "output_type": "stream",
     "text": [
      "[I 2023-07-31 04:10:22,013] Trial 7 finished with value: 0.13580768934170037 and parameters: {'n_items_to_rank': 258}. Best is trial 0 with value: 0.13580768934170037.\n",
      "EvaluatorHoldout: Processed 5961 (100.0%) in 5.14 sec. Users per second: 1160\n"
     ]
    },
    {
     "name": "stderr",
     "output_type": "stream",
     "text": [
      "Best trial: 0. Best value: 0.135808:  18%|█▊        | 9/50 [00:46<03:31,  5.16s/it]"
     ]
    },
    {
     "name": "stdout",
     "output_type": "stream",
     "text": [
      "[I 2023-07-31 04:10:27,168] Trial 8 finished with value: 0.13580768934170037 and parameters: {'n_items_to_rank': 261}. Best is trial 0 with value: 0.13580768934170037.\n",
      "EvaluatorHoldout: Processed 5961 (100.0%) in 5.17 sec. Users per second: 1154\n"
     ]
    },
    {
     "name": "stderr",
     "output_type": "stream",
     "text": [
      "Best trial: 0. Best value: 0.135808:  20%|██        | 10/50 [00:51<03:26,  5.17s/it]"
     ]
    },
    {
     "name": "stdout",
     "output_type": "stream",
     "text": [
      "[I 2023-07-31 04:10:32,352] Trial 9 finished with value: 0.13580768934170037 and parameters: {'n_items_to_rank': 68}. Best is trial 0 with value: 0.13580768934170037.\n",
      "EvaluatorHoldout: Processed 5961 (100.0%) in 5.13 sec. Users per second: 1162\n"
     ]
    },
    {
     "name": "stderr",
     "output_type": "stream",
     "text": [
      "Best trial: 0. Best value: 0.135808:  22%|██▏       | 11/50 [00:56<03:21,  5.16s/it]"
     ]
    },
    {
     "name": "stdout",
     "output_type": "stream",
     "text": [
      "[I 2023-07-31 04:10:37,502] Trial 10 finished with value: 0.13580768934170037 and parameters: {'n_items_to_rank': 271}. Best is trial 0 with value: 0.13580768934170037.\n",
      "EvaluatorHoldout: Processed 5961 (100.0%) in 5.13 sec. Users per second: 1162\n"
     ]
    },
    {
     "name": "stderr",
     "output_type": "stream",
     "text": [
      "Best trial: 0. Best value: 0.135808:  24%|██▍       | 12/50 [01:02<03:16,  5.16s/it]"
     ]
    },
    {
     "name": "stdout",
     "output_type": "stream",
     "text": [
      "[I 2023-07-31 04:10:42,655] Trial 11 finished with value: 0.13580768934170037 and parameters: {'n_items_to_rank': 110}. Best is trial 0 with value: 0.13580768934170037.\n",
      "EvaluatorHoldout: Processed 5961 (100.0%) in 5.14 sec. Users per second: 1161\n"
     ]
    },
    {
     "name": "stderr",
     "output_type": "stream",
     "text": [
      "Best trial: 0. Best value: 0.135808:  26%|██▌       | 13/50 [01:07<03:10,  5.16s/it]"
     ]
    },
    {
     "name": "stdout",
     "output_type": "stream",
     "text": [
      "[I 2023-07-31 04:10:47,813] Trial 12 finished with value: 0.13580768934170037 and parameters: {'n_items_to_rank': 287}. Best is trial 0 with value: 0.13580768934170037.\n",
      "EvaluatorHoldout: Processed 5961 (100.0%) in 5.15 sec. Users per second: 1157\n"
     ]
    },
    {
     "name": "stderr",
     "output_type": "stream",
     "text": [
      "Best trial: 0. Best value: 0.135808:  28%|██▊       | 14/50 [01:12<03:05,  5.16s/it]"
     ]
    },
    {
     "name": "stdout",
     "output_type": "stream",
     "text": [
      "[I 2023-07-31 04:10:52,988] Trial 13 finished with value: 0.13580768934170037 and parameters: {'n_items_to_rank': 305}. Best is trial 0 with value: 0.13580768934170037.\n",
      "EvaluatorHoldout: Processed 5961 (100.0%) in 5.13 sec. Users per second: 1162\n"
     ]
    },
    {
     "name": "stderr",
     "output_type": "stream",
     "text": [
      "Best trial: 0. Best value: 0.135808:  30%|███       | 15/50 [01:17<03:00,  5.16s/it]"
     ]
    },
    {
     "name": "stdout",
     "output_type": "stream",
     "text": [
      "[I 2023-07-31 04:10:58,138] Trial 14 finished with value: 0.13580768934170037 and parameters: {'n_items_to_rank': 220}. Best is trial 0 with value: 0.13580768934170037.\n",
      "EvaluatorHoldout: Processed 5961 (100.0%) in 5.16 sec. Users per second: 1155\n"
     ]
    },
    {
     "name": "stderr",
     "output_type": "stream",
     "text": [
      "Best trial: 0. Best value: 0.135808:  32%|███▏      | 16/50 [01:22<02:55,  5.17s/it]"
     ]
    },
    {
     "name": "stdout",
     "output_type": "stream",
     "text": [
      "[I 2023-07-31 04:11:03,322] Trial 15 finished with value: 0.13580768934170037 and parameters: {'n_items_to_rank': 288}. Best is trial 0 with value: 0.13580768934170037.\n",
      "EvaluatorHoldout: Processed 5961 (100.0%) in 5.14 sec. Users per second: 1160\n"
     ]
    },
    {
     "name": "stderr",
     "output_type": "stream",
     "text": [
      "Best trial: 0. Best value: 0.135808:  34%|███▍      | 17/50 [01:27<02:50,  5.17s/it]"
     ]
    },
    {
     "name": "stdout",
     "output_type": "stream",
     "text": [
      "[I 2023-07-31 04:11:08,483] Trial 16 finished with value: 0.13580768934170037 and parameters: {'n_items_to_rank': 231}. Best is trial 0 with value: 0.13580768934170037.\n",
      "EvaluatorHoldout: Processed 5961 (100.0%) in 5.16 sec. Users per second: 1155\n"
     ]
    },
    {
     "name": "stderr",
     "output_type": "stream",
     "text": [
      "Best trial: 0. Best value: 0.135808:  36%|███▌      | 18/50 [01:33<02:45,  5.17s/it]"
     ]
    },
    {
     "name": "stdout",
     "output_type": "stream",
     "text": [
      "[I 2023-07-31 04:11:13,668] Trial 17 finished with value: 0.13580768934170037 and parameters: {'n_items_to_rank': 128}. Best is trial 0 with value: 0.13580768934170037.\n",
      "EvaluatorHoldout: Processed 5961 (100.0%) in 5.13 sec. Users per second: 1163\n"
     ]
    },
    {
     "name": "stderr",
     "output_type": "stream",
     "text": [
      "Best trial: 0. Best value: 0.135808:  38%|███▊      | 19/50 [01:38<02:40,  5.17s/it]"
     ]
    },
    {
     "name": "stdout",
     "output_type": "stream",
     "text": [
      "[I 2023-07-31 04:11:18,820] Trial 18 finished with value: 0.13580768934170037 and parameters: {'n_items_to_rank': 239}. Best is trial 0 with value: 0.13580768934170037.\n",
      "EvaluatorHoldout: Processed 5961 (100.0%) in 5.13 sec. Users per second: 1161\n"
     ]
    },
    {
     "name": "stderr",
     "output_type": "stream",
     "text": [
      "Best trial: 0. Best value: 0.135808:  40%|████      | 20/50 [01:43<02:34,  5.16s/it]"
     ]
    },
    {
     "name": "stdout",
     "output_type": "stream",
     "text": [
      "[I 2023-07-31 04:11:23,979] Trial 19 finished with value: 0.13580768934170037 and parameters: {'n_items_to_rank': 128}. Best is trial 0 with value: 0.13580768934170037.\n",
      "EvaluatorHoldout: Processed 5961 (100.0%) in 5.26 sec. Users per second: 1133\n"
     ]
    },
    {
     "name": "stderr",
     "output_type": "stream",
     "text": [
      "Best trial: 0. Best value: 0.135808:  42%|████▏     | 21/50 [01:48<02:30,  5.20s/it]"
     ]
    },
    {
     "name": "stdout",
     "output_type": "stream",
     "text": [
      "[I 2023-07-31 04:11:29,266] Trial 20 finished with value: 0.13580768934170037 and parameters: {'n_items_to_rank': 186}. Best is trial 0 with value: 0.13580768934170037.\n",
      "EvaluatorHoldout: Processed 5961 (100.0%) in 5.16 sec. Users per second: 1156\n"
     ]
    },
    {
     "name": "stderr",
     "output_type": "stream",
     "text": [
      "Best trial: 0. Best value: 0.135808:  44%|████▍     | 22/50 [01:53<02:25,  5.20s/it]"
     ]
    },
    {
     "name": "stdout",
     "output_type": "stream",
     "text": [
      "[I 2023-07-31 04:11:34,450] Trial 21 finished with value: 0.13580768934170037 and parameters: {'n_items_to_rank': 260}. Best is trial 0 with value: 0.13580768934170037.\n",
      "EvaluatorHoldout: Processed 5961 (100.0%) in 5.14 sec. Users per second: 1161\n"
     ]
    },
    {
     "name": "stderr",
     "output_type": "stream",
     "text": [
      "Best trial: 0. Best value: 0.135808:  46%|████▌     | 23/50 [01:58<02:20,  5.19s/it]"
     ]
    },
    {
     "name": "stdout",
     "output_type": "stream",
     "text": [
      "[I 2023-07-31 04:11:39,612] Trial 22 finished with value: 0.13580768934170037 and parameters: {'n_items_to_rank': 64}. Best is trial 0 with value: 0.13580768934170037.\n",
      "EvaluatorHoldout: Processed 5961 (100.0%) in 5.09 sec. Users per second: 1170\n"
     ]
    },
    {
     "name": "stderr",
     "output_type": "stream",
     "text": [
      "Best trial: 0. Best value: 0.135808:  48%|████▊     | 24/50 [02:04<02:14,  5.17s/it]"
     ]
    },
    {
     "name": "stdout",
     "output_type": "stream",
     "text": [
      "[I 2023-07-31 04:11:44,733] Trial 23 finished with value: 0.13318068754683043 and parameters: {'n_items_to_rank': 44}. Best is trial 0 with value: 0.13580768934170037.\n",
      "EvaluatorHoldout: Processed 5961 (100.0%) in 5.15 sec. Users per second: 1157\n"
     ]
    },
    {
     "name": "stderr",
     "output_type": "stream",
     "text": [
      "Best trial: 0. Best value: 0.135808:  50%|█████     | 25/50 [02:09<02:09,  5.17s/it]"
     ]
    },
    {
     "name": "stdout",
     "output_type": "stream",
     "text": [
      "[I 2023-07-31 04:11:49,912] Trial 24 finished with value: 0.13580768934170037 and parameters: {'n_items_to_rank': 187}. Best is trial 0 with value: 0.13580768934170037.\n",
      "EvaluatorHoldout: Processed 5961 (100.0%) in 5.13 sec. Users per second: 1162\n"
     ]
    },
    {
     "name": "stderr",
     "output_type": "stream",
     "text": [
      "Best trial: 0. Best value: 0.135808:  52%|█████▏    | 26/50 [02:14<02:03,  5.17s/it]"
     ]
    },
    {
     "name": "stdout",
     "output_type": "stream",
     "text": [
      "[I 2023-07-31 04:11:55,069] Trial 25 finished with value: 0.13580768934170037 and parameters: {'n_items_to_rank': 253}. Best is trial 0 with value: 0.13580768934170037.\n",
      "EvaluatorHoldout: Processed 5961 (100.0%) in 5.15 sec. Users per second: 1159\n"
     ]
    },
    {
     "name": "stderr",
     "output_type": "stream",
     "text": [
      "Best trial: 0. Best value: 0.135808:  54%|█████▍    | 27/50 [02:19<01:58,  5.17s/it]"
     ]
    },
    {
     "name": "stdout",
     "output_type": "stream",
     "text": [
      "[I 2023-07-31 04:12:00,242] Trial 26 finished with value: 0.13580768934170037 and parameters: {'n_items_to_rank': 207}. Best is trial 0 with value: 0.13580768934170037.\n",
      "EvaluatorHoldout: Processed 5961 (100.0%) in 5.16 sec. Users per second: 1155\n"
     ]
    },
    {
     "name": "stderr",
     "output_type": "stream",
     "text": [
      "Best trial: 0. Best value: 0.135808:  56%|█████▌    | 28/50 [02:24<01:53,  5.17s/it]"
     ]
    },
    {
     "name": "stdout",
     "output_type": "stream",
     "text": [
      "[I 2023-07-31 04:12:05,432] Trial 27 finished with value: 0.13580768934170037 and parameters: {'n_items_to_rank': 187}. Best is trial 0 with value: 0.13580768934170037.\n",
      "EvaluatorHoldout: Processed 5961 (100.0%) in 5.15 sec. Users per second: 1157\n"
     ]
    },
    {
     "name": "stderr",
     "output_type": "stream",
     "text": [
      "Best trial: 0. Best value: 0.135808:  58%|█████▊    | 29/50 [02:29<01:48,  5.18s/it]"
     ]
    },
    {
     "name": "stdout",
     "output_type": "stream",
     "text": [
      "[I 2023-07-31 04:12:10,614] Trial 28 finished with value: 0.13580768934170037 and parameters: {'n_items_to_rank': 101}. Best is trial 0 with value: 0.13580768934170037.\n",
      "EvaluatorHoldout: Processed 5961 (100.0%) in 5.17 sec. Users per second: 1154\n"
     ]
    },
    {
     "name": "stderr",
     "output_type": "stream",
     "text": [
      "Best trial: 0. Best value: 0.135808:  60%|██████    | 30/50 [02:35<01:43,  5.18s/it]"
     ]
    },
    {
     "name": "stdout",
     "output_type": "stream",
     "text": [
      "[I 2023-07-31 04:12:15,806] Trial 29 finished with value: 0.12052714654420399 and parameters: {'n_items_to_rank': 20}. Best is trial 0 with value: 0.13580768934170037.\n",
      "EvaluatorHoldout: Processed 5961 (100.0%) in 5.14 sec. Users per second: 1160\n"
     ]
    },
    {
     "name": "stderr",
     "output_type": "stream",
     "text": [
      "Best trial: 0. Best value: 0.135808:  62%|██████▏   | 31/50 [02:40<01:38,  5.18s/it]"
     ]
    },
    {
     "name": "stdout",
     "output_type": "stream",
     "text": [
      "[I 2023-07-31 04:12:20,972] Trial 30 finished with value: 0.13580768934170037 and parameters: {'n_items_to_rank': 178}. Best is trial 0 with value: 0.13580768934170037.\n",
      "EvaluatorHoldout: Processed 5961 (100.0%) in 5.14 sec. Users per second: 1159\n"
     ]
    },
    {
     "name": "stderr",
     "output_type": "stream",
     "text": [
      "Best trial: 0. Best value: 0.135808:  64%|██████▍   | 32/50 [02:45<01:33,  5.18s/it]"
     ]
    },
    {
     "name": "stdout",
     "output_type": "stream",
     "text": [
      "[I 2023-07-31 04:12:26,145] Trial 31 finished with value: 0.13580768934170037 and parameters: {'n_items_to_rank': 165}. Best is trial 0 with value: 0.13580768934170037.\n",
      "EvaluatorHoldout: Processed 5961 (100.0%) in 5.15 sec. Users per second: 1157\n"
     ]
    },
    {
     "name": "stderr",
     "output_type": "stream",
     "text": [
      "Best trial: 0. Best value: 0.135808:  66%|██████▌   | 33/50 [02:50<01:28,  5.18s/it]"
     ]
    },
    {
     "name": "stdout",
     "output_type": "stream",
     "text": [
      "[I 2023-07-31 04:12:31,325] Trial 32 finished with value: 0.13580768934170037 and parameters: {'n_items_to_rank': 208}. Best is trial 0 with value: 0.13580768934170037.\n",
      "EvaluatorHoldout: Processed 5961 (100.0%) in 5.12 sec. Users per second: 1165\n"
     ]
    },
    {
     "name": "stderr",
     "output_type": "stream",
     "text": [
      "Best trial: 0. Best value: 0.135808:  68%|██████▊   | 34/50 [02:55<01:22,  5.17s/it]"
     ]
    },
    {
     "name": "stdout",
     "output_type": "stream",
     "text": [
      "[I 2023-07-31 04:12:36,471] Trial 33 finished with value: 0.13407610505303788 and parameters: {'n_items_to_rank': 47}. Best is trial 0 with value: 0.13580768934170037.\n",
      "EvaluatorHoldout: Processed 5961 (100.0%) in 5.14 sec. Users per second: 1161\n"
     ]
    },
    {
     "name": "stderr",
     "output_type": "stream",
     "text": [
      "Best trial: 0. Best value: 0.135808:  70%|███████   | 35/50 [03:01<01:17,  5.17s/it]"
     ]
    },
    {
     "name": "stdout",
     "output_type": "stream",
     "text": [
      "[I 2023-07-31 04:12:41,637] Trial 34 finished with value: 0.13580768934170037 and parameters: {'n_items_to_rank': 99}. Best is trial 0 with value: 0.13580768934170037.\n",
      "EvaluatorHoldout: Processed 5961 (100.0%) in 5.14 sec. Users per second: 1160\n"
     ]
    },
    {
     "name": "stderr",
     "output_type": "stream",
     "text": [
      "Best trial: 0. Best value: 0.135808:  72%|███████▏  | 36/50 [03:06<01:12,  5.17s/it]"
     ]
    },
    {
     "name": "stdout",
     "output_type": "stream",
     "text": [
      "[I 2023-07-31 04:12:46,808] Trial 35 finished with value: 0.13580768934170037 and parameters: {'n_items_to_rank': 255}. Best is trial 0 with value: 0.13580768934170037.\n",
      "EvaluatorHoldout: Processed 5961 (100.0%) in 5.16 sec. Users per second: 1155\n"
     ]
    },
    {
     "name": "stderr",
     "output_type": "stream",
     "text": [
      "Best trial: 0. Best value: 0.135808:  74%|███████▍  | 37/50 [03:11<01:07,  5.18s/it]"
     ]
    },
    {
     "name": "stdout",
     "output_type": "stream",
     "text": [
      "[I 2023-07-31 04:12:52,000] Trial 36 finished with value: 0.13580768934170037 and parameters: {'n_items_to_rank': 188}. Best is trial 0 with value: 0.13580768934170037.\n",
      "EvaluatorHoldout: Processed 5961 (100.0%) in 5.14 sec. Users per second: 1159\n"
     ]
    },
    {
     "name": "stderr",
     "output_type": "stream",
     "text": [
      "Best trial: 0. Best value: 0.135808:  76%|███████▌  | 38/50 [03:16<01:02,  5.17s/it]"
     ]
    },
    {
     "name": "stdout",
     "output_type": "stream",
     "text": [
      "[I 2023-07-31 04:12:57,173] Trial 37 finished with value: 0.13580768934170037 and parameters: {'n_items_to_rank': 122}. Best is trial 0 with value: 0.13580768934170037.\n",
      "EvaluatorHoldout: Processed 5961 (100.0%) in 5.25 sec. Users per second: 1136\n"
     ]
    },
    {
     "name": "stderr",
     "output_type": "stream",
     "text": [
      "Best trial: 0. Best value: 0.135808:  78%|███████▊  | 39/50 [03:21<00:57,  5.21s/it]"
     ]
    },
    {
     "name": "stdout",
     "output_type": "stream",
     "text": [
      "[I 2023-07-31 04:13:02,452] Trial 38 finished with value: 0.13580768934170037 and parameters: {'n_items_to_rank': 276}. Best is trial 0 with value: 0.13580768934170037.\n",
      "EvaluatorHoldout: Processed 5961 (100.0%) in 5.15 sec. Users per second: 1157\n"
     ]
    },
    {
     "name": "stderr",
     "output_type": "stream",
     "text": [
      "Best trial: 0. Best value: 0.135808:  80%|████████  | 40/50 [03:27<00:51,  5.20s/it]"
     ]
    },
    {
     "name": "stdout",
     "output_type": "stream",
     "text": [
      "[I 2023-07-31 04:13:07,635] Trial 39 finished with value: 0.13580768934170037 and parameters: {'n_items_to_rank': 280}. Best is trial 0 with value: 0.13580768934170037.\n",
      "EvaluatorHoldout: Processed 5961 (100.0%) in 5.15 sec. Users per second: 1157\n"
     ]
    },
    {
     "name": "stderr",
     "output_type": "stream",
     "text": [
      "Best trial: 0. Best value: 0.135808:  82%|████████▏ | 41/50 [03:32<00:46,  5.20s/it]"
     ]
    },
    {
     "name": "stdout",
     "output_type": "stream",
     "text": [
      "[I 2023-07-31 04:13:12,821] Trial 40 finished with value: 0.13580768934170037 and parameters: {'n_items_to_rank': 150}. Best is trial 0 with value: 0.13580768934170037.\n",
      "EvaluatorHoldout: Processed 5961 (100.0%) in 5.18 sec. Users per second: 1152\n"
     ]
    },
    {
     "name": "stderr",
     "output_type": "stream",
     "text": [
      "Best trial: 0. Best value: 0.135808:  84%|████████▍ | 42/50 [03:37<00:41,  5.20s/it]"
     ]
    },
    {
     "name": "stdout",
     "output_type": "stream",
     "text": [
      "[I 2023-07-31 04:13:18,031] Trial 41 finished with value: 0.13580768934170037 and parameters: {'n_items_to_rank': 205}. Best is trial 0 with value: 0.13580768934170037.\n",
      "EvaluatorHoldout: Processed 5961 (100.0%) in 5.15 sec. Users per second: 1158\n"
     ]
    },
    {
     "name": "stderr",
     "output_type": "stream",
     "text": [
      "Best trial: 0. Best value: 0.135808:  86%|████████▌ | 43/50 [03:42<00:36,  5.19s/it]"
     ]
    },
    {
     "name": "stdout",
     "output_type": "stream",
     "text": [
      "[I 2023-07-31 04:13:23,215] Trial 42 finished with value: 0.13580768934170037 and parameters: {'n_items_to_rank': 270}. Best is trial 0 with value: 0.13580768934170037.\n",
      "EvaluatorHoldout: Processed 5961 (100.0%) in 5.16 sec. Users per second: 1155\n"
     ]
    },
    {
     "name": "stderr",
     "output_type": "stream",
     "text": [
      "Best trial: 0. Best value: 0.135808:  88%|████████▊ | 44/50 [03:47<00:31,  5.19s/it]"
     ]
    },
    {
     "name": "stdout",
     "output_type": "stream",
     "text": [
      "[I 2023-07-31 04:13:28,408] Trial 43 finished with value: 0.13580768934170037 and parameters: {'n_items_to_rank': 163}. Best is trial 0 with value: 0.13580768934170037.\n",
      "EvaluatorHoldout: Processed 5961 (100.0%) in 5.54 sec. Users per second: 1076\n"
     ]
    },
    {
     "name": "stderr",
     "output_type": "stream",
     "text": [
      "Best trial: 0. Best value: 0.135808:  90%|█████████ | 45/50 [03:53<00:26,  5.31s/it]"
     ]
    },
    {
     "name": "stdout",
     "output_type": "stream",
     "text": [
      "[I 2023-07-31 04:13:33,980] Trial 44 finished with value: 0.129553404605182 and parameters: {'n_items_to_rank': 33}. Best is trial 0 with value: 0.13580768934170037.\n",
      "EvaluatorHoldout: Processed 5961 (100.0%) in 5.52 sec. Users per second: 1080\n"
     ]
    },
    {
     "name": "stderr",
     "output_type": "stream",
     "text": [
      "Best trial: 0. Best value: 0.135808:  92%|█████████▏| 46/50 [03:58<00:21,  5.38s/it]"
     ]
    },
    {
     "name": "stdout",
     "output_type": "stream",
     "text": [
      "[I 2023-07-31 04:13:39,531] Trial 45 finished with value: 0.12862514602919778 and parameters: {'n_items_to_rank': 31}. Best is trial 0 with value: 0.13580768934170037.\n",
      "EvaluatorHoldout: Processed 5961 (100.0%) in 5.15 sec. Users per second: 1158\n"
     ]
    },
    {
     "name": "stderr",
     "output_type": "stream",
     "text": [
      "Best trial: 0. Best value: 0.135808:  94%|█████████▍| 47/50 [04:04<00:15,  5.32s/it]"
     ]
    },
    {
     "name": "stdout",
     "output_type": "stream",
     "text": [
      "[I 2023-07-31 04:13:44,710] Trial 46 finished with value: 0.11937791911407067 and parameters: {'n_items_to_rank': 19}. Best is trial 0 with value: 0.13580768934170037.\n",
      "EvaluatorHoldout: Processed 5961 (100.0%) in 5.39 sec. Users per second: 1105\n"
     ]
    },
    {
     "name": "stderr",
     "output_type": "stream",
     "text": [
      "Best trial: 0. Best value: 0.135808:  96%|█████████▌| 48/50 [04:09<00:10,  5.35s/it]"
     ]
    },
    {
     "name": "stdout",
     "output_type": "stream",
     "text": [
      "[I 2023-07-31 04:13:50,136] Trial 47 finished with value: 0.1267746901429314 and parameters: {'n_items_to_rank': 27}. Best is trial 0 with value: 0.13580768934170037.\n",
      "EvaluatorHoldout: Processed 5961 (100.0%) in 5.14 sec. Users per second: 1161\n"
     ]
    },
    {
     "name": "stderr",
     "output_type": "stream",
     "text": [
      "Best trial: 0. Best value: 0.135808:  98%|█████████▊| 49/50 [04:14<00:05,  5.30s/it]"
     ]
    },
    {
     "name": "stdout",
     "output_type": "stream",
     "text": [
      "[I 2023-07-31 04:13:55,306] Trial 48 finished with value: 0.13580768934170037 and parameters: {'n_items_to_rank': 166}. Best is trial 0 with value: 0.13580768934170037.\n",
      "EvaluatorHoldout: Processed 5961 (100.0%) in 5.18 sec. Users per second: 1150\n"
     ]
    },
    {
     "name": "stderr",
     "output_type": "stream",
     "text": [
      "Best trial: 0. Best value: 0.135808: 100%|██████████| 50/50 [04:19<00:00,  5.20s/it]"
     ]
    },
    {
     "name": "stdout",
     "output_type": "stream",
     "text": [
      "[I 2023-07-31 04:14:00,524] Trial 49 finished with value: 0.13580768934170037 and parameters: {'n_items_to_rank': 263}. Best is trial 0 with value: 0.13580768934170037.\n",
      "Recommender_Base_Class: URM Detected 194 ( 5.0%) items with no interactions.\n"
     ]
    },
    {
     "name": "stderr",
     "output_type": "stream",
     "text": [
      "\n"
     ]
    },
    {
     "name": "stdout",
     "output_type": "stream",
     "text": [
      "EvaluatorHoldout: Processed 5976 (100.0%) in 5.38 sec. Users per second: 1110\n"
     ]
    },
    {
     "name": "stderr",
     "output_type": "stream",
     "text": [
      "[I 2023-07-31 04:14:49,793] A new study created in memory with name: no-name-4f72c7a9-c895-4c53-b969-8d9e2a60eb2e\n",
      "  0%|          | 0/50 [00:00<?, ?it/s]"
     ]
    },
    {
     "name": "stdout",
     "output_type": "stream",
     "text": [
      "IALSRecommender\n",
      "DiffusionAutoencoderRecommender_IALSRecommender_TwoLevelRec\n",
      "EvaluatorHoldout: Processed 5961 (100.0%) in 3.80 sec. Users per second: 1571\n"
     ]
    },
    {
     "name": "stderr",
     "output_type": "stream",
     "text": [
      "Best trial: 0. Best value: 0.149797:   2%|▏         | 1/50 [00:03<03:06,  3.81s/it]"
     ]
    },
    {
     "name": "stdout",
     "output_type": "stream",
     "text": [
      "[I 2023-07-31 04:14:53,604] Trial 0 finished with value: 0.14979745905694405 and parameters: {'n_items_to_rank': 55}. Best is trial 0 with value: 0.14979745905694405.\n",
      "EvaluatorHoldout: Processed 5961 (100.0%) in 3.77 sec. Users per second: 1579\n"
     ]
    },
    {
     "name": "stderr",
     "output_type": "stream",
     "text": [
      "Best trial: 0. Best value: 0.149797:   4%|▍         | 2/50 [00:07<03:02,  3.80s/it]"
     ]
    },
    {
     "name": "stdout",
     "output_type": "stream",
     "text": [
      "[I 2023-07-31 04:14:57,394] Trial 1 finished with value: 0.14979745905694405 and parameters: {'n_items_to_rank': 129}. Best is trial 0 with value: 0.14979745905694405.\n",
      "EvaluatorHoldout: Processed 5961 (100.0%) in 3.78 sec. Users per second: 1576\n"
     ]
    },
    {
     "name": "stderr",
     "output_type": "stream",
     "text": [
      "Best trial: 0. Best value: 0.149797:   6%|▌         | 3/50 [00:11<02:58,  3.80s/it]"
     ]
    },
    {
     "name": "stdout",
     "output_type": "stream",
     "text": [
      "[I 2023-07-31 04:15:01,191] Trial 2 finished with value: 0.14979745905694405 and parameters: {'n_items_to_rank': 177}. Best is trial 0 with value: 0.14979745905694405.\n",
      "EvaluatorHoldout: Processed 5961 (100.0%) in 3.76 sec. Users per second: 1584\n"
     ]
    },
    {
     "name": "stderr",
     "output_type": "stream",
     "text": [
      "Best trial: 0. Best value: 0.149797:   8%|▊         | 4/50 [00:15<02:54,  3.79s/it]"
     ]
    },
    {
     "name": "stdout",
     "output_type": "stream",
     "text": [
      "[I 2023-07-31 04:15:04,973] Trial 3 finished with value: 0.14979745905694405 and parameters: {'n_items_to_rank': 181}. Best is trial 0 with value: 0.14979745905694405.\n",
      "EvaluatorHoldout: Processed 5961 (100.0%) in 3.77 sec. Users per second: 1583\n"
     ]
    },
    {
     "name": "stderr",
     "output_type": "stream",
     "text": [
      "Best trial: 0. Best value: 0.149797:  10%|█         | 5/50 [00:18<02:50,  3.79s/it]"
     ]
    },
    {
     "name": "stdout",
     "output_type": "stream",
     "text": [
      "[I 2023-07-31 04:15:08,756] Trial 4 finished with value: 0.14979745905694405 and parameters: {'n_items_to_rank': 232}. Best is trial 0 with value: 0.14979745905694405.\n",
      "EvaluatorHoldout: Processed 5961 (100.0%) in 3.79 sec. Users per second: 1574\n"
     ]
    },
    {
     "name": "stderr",
     "output_type": "stream",
     "text": [
      "Best trial: 0. Best value: 0.149797:  12%|█▏        | 6/50 [00:22<02:49,  3.85s/it]"
     ]
    },
    {
     "name": "stdout",
     "output_type": "stream",
     "text": [
      "[I 2023-07-31 04:15:12,721] Trial 5 finished with value: 0.14979745905694405 and parameters: {'n_items_to_rank': 305}. Best is trial 0 with value: 0.14979745905694405.\n",
      "EvaluatorHoldout: Processed 5961 (100.0%) in 3.77 sec. Users per second: 1583\n"
     ]
    },
    {
     "name": "stderr",
     "output_type": "stream",
     "text": [
      "Best trial: 0. Best value: 0.149797:  14%|█▍        | 7/50 [00:26<02:44,  3.83s/it]"
     ]
    },
    {
     "name": "stdout",
     "output_type": "stream",
     "text": [
      "[I 2023-07-31 04:15:16,506] Trial 6 finished with value: 0.14979745905694405 and parameters: {'n_items_to_rank': 271}. Best is trial 0 with value: 0.14979745905694405.\n",
      "EvaluatorHoldout: Processed 5961 (100.0%) in 3.79 sec. Users per second: 1571\n"
     ]
    },
    {
     "name": "stderr",
     "output_type": "stream",
     "text": [
      "Best trial: 0. Best value: 0.149797:  16%|█▌        | 8/50 [00:30<02:40,  3.82s/it]"
     ]
    },
    {
     "name": "stdout",
     "output_type": "stream",
     "text": [
      "[I 2023-07-31 04:15:20,320] Trial 7 finished with value: 0.14979745905694405 and parameters: {'n_items_to_rank': 296}. Best is trial 0 with value: 0.14979745905694405.\n",
      "EvaluatorHoldout: Processed 5961 (100.0%) in 3.77 sec. Users per second: 1581\n"
     ]
    },
    {
     "name": "stderr",
     "output_type": "stream",
     "text": [
      "Best trial: 0. Best value: 0.149797:  18%|█▊        | 9/50 [00:34<02:36,  3.81s/it]"
     ]
    },
    {
     "name": "stdout",
     "output_type": "stream",
     "text": [
      "[I 2023-07-31 04:15:24,109] Trial 8 finished with value: 0.14979745905694405 and parameters: {'n_items_to_rank': 74}. Best is trial 0 with value: 0.14979745905694405.\n",
      "EvaluatorHoldout: Processed 5961 (100.0%) in 3.75 sec. Users per second: 1591\n"
     ]
    },
    {
     "name": "stderr",
     "output_type": "stream",
     "text": [
      "Best trial: 0. Best value: 0.149797:  20%|██        | 10/50 [00:38<02:31,  3.80s/it]"
     ]
    },
    {
     "name": "stdout",
     "output_type": "stream",
     "text": [
      "[I 2023-07-31 04:15:27,873] Trial 9 finished with value: 0.14746086654693458 and parameters: {'n_items_to_rank': 47}. Best is trial 0 with value: 0.14979745905694405.\n",
      "EvaluatorHoldout: Processed 5961 (100.0%) in 3.78 sec. Users per second: 1579\n"
     ]
    },
    {
     "name": "stderr",
     "output_type": "stream",
     "text": [
      "Best trial: 0. Best value: 0.149797:  22%|██▏       | 11/50 [00:41<02:28,  3.80s/it]"
     ]
    },
    {
     "name": "stdout",
     "output_type": "stream",
     "text": [
      "[I 2023-07-31 04:15:31,668] Trial 10 finished with value: 0.14979745905694405 and parameters: {'n_items_to_rank': 55}. Best is trial 0 with value: 0.14979745905694405.\n",
      "EvaluatorHoldout: Processed 5961 (100.0%) in 3.77 sec. Users per second: 1582\n"
     ]
    },
    {
     "name": "stderr",
     "output_type": "stream",
     "text": [
      "Best trial: 0. Best value: 0.149797:  24%|██▍       | 12/50 [00:45<02:24,  3.79s/it]"
     ]
    },
    {
     "name": "stdout",
     "output_type": "stream",
     "text": [
      "[I 2023-07-31 04:15:35,458] Trial 11 finished with value: 0.14979745905694405 and parameters: {'n_items_to_rank': 254}. Best is trial 0 with value: 0.14979745905694405.\n",
      "EvaluatorHoldout: Processed 5961 (100.0%) in 3.76 sec. Users per second: 1583\n"
     ]
    },
    {
     "name": "stderr",
     "output_type": "stream",
     "text": [
      "Best trial: 0. Best value: 0.149797:  26%|██▌       | 13/50 [00:49<02:20,  3.79s/it]"
     ]
    },
    {
     "name": "stdout",
     "output_type": "stream",
     "text": [
      "[I 2023-07-31 04:15:39,243] Trial 12 finished with value: 0.14979745905694405 and parameters: {'n_items_to_rank': 92}. Best is trial 0 with value: 0.14979745905694405.\n",
      "EvaluatorHoldout: Processed 5961 (100.0%) in 3.78 sec. Users per second: 1576\n"
     ]
    },
    {
     "name": "stderr",
     "output_type": "stream",
     "text": [
      "Best trial: 0. Best value: 0.149797:  28%|██▊       | 14/50 [00:53<02:16,  3.80s/it]"
     ]
    },
    {
     "name": "stdout",
     "output_type": "stream",
     "text": [
      "[I 2023-07-31 04:15:43,047] Trial 13 finished with value: 0.14979745905694405 and parameters: {'n_items_to_rank': 298}. Best is trial 0 with value: 0.14979745905694405.\n",
      "EvaluatorHoldout: Processed 5961 (100.0%) in 3.77 sec. Users per second: 1581\n"
     ]
    },
    {
     "name": "stderr",
     "output_type": "stream",
     "text": [
      "Best trial: 0. Best value: 0.149797:  30%|███       | 15/50 [00:57<02:12,  3.79s/it]"
     ]
    },
    {
     "name": "stdout",
     "output_type": "stream",
     "text": [
      "[I 2023-07-31 04:15:46,839] Trial 14 finished with value: 0.14979745905694405 and parameters: {'n_items_to_rank': 208}. Best is trial 0 with value: 0.14979745905694405.\n",
      "EvaluatorHoldout: Processed 5961 (100.0%) in 3.72 sec. Users per second: 1603\n"
     ]
    },
    {
     "name": "stderr",
     "output_type": "stream",
     "text": [
      "Best trial: 0. Best value: 0.149797:  32%|███▏      | 16/50 [01:00<02:08,  3.78s/it]"
     ]
    },
    {
     "name": "stdout",
     "output_type": "stream",
     "text": [
      "[I 2023-07-31 04:15:50,577] Trial 15 finished with value: 0.1467790498700764 and parameters: {'n_items_to_rank': 45}. Best is trial 0 with value: 0.14979745905694405.\n",
      "EvaluatorHoldout: Processed 5961 (100.0%) in 3.77 sec. Users per second: 1583\n"
     ]
    },
    {
     "name": "stderr",
     "output_type": "stream",
     "text": [
      "Best trial: 0. Best value: 0.149797:  34%|███▍      | 17/50 [01:04<02:04,  3.78s/it]"
     ]
    },
    {
     "name": "stdout",
     "output_type": "stream",
     "text": [
      "[I 2023-07-31 04:15:54,367] Trial 16 finished with value: 0.14979745905694405 and parameters: {'n_items_to_rank': 129}. Best is trial 0 with value: 0.14979745905694405.\n",
      "EvaluatorHoldout: Processed 5961 (100.0%) in 4.00 sec. Users per second: 1491\n"
     ]
    },
    {
     "name": "stderr",
     "output_type": "stream",
     "text": [
      "Best trial: 0. Best value: 0.149797:  36%|███▌      | 18/50 [01:08<02:03,  3.85s/it]"
     ]
    },
    {
     "name": "stdout",
     "output_type": "stream",
     "text": [
      "[I 2023-07-31 04:15:58,386] Trial 17 finished with value: 0.13791308563717217 and parameters: {'n_items_to_rank': 27}. Best is trial 0 with value: 0.14979745905694405.\n",
      "EvaluatorHoldout: Processed 5961 (100.0%) in 3.76 sec. Users per second: 1586\n"
     ]
    },
    {
     "name": "stderr",
     "output_type": "stream",
     "text": [
      "Best trial: 0. Best value: 0.149797:  38%|███▊      | 19/50 [01:12<01:58,  3.83s/it]"
     ]
    },
    {
     "name": "stdout",
     "output_type": "stream",
     "text": [
      "[I 2023-07-31 04:16:02,169] Trial 18 finished with value: 0.14979745905694405 and parameters: {'n_items_to_rank': 308}. Best is trial 0 with value: 0.14979745905694405.\n",
      "EvaluatorHoldout: Processed 5961 (100.0%) in 3.76 sec. Users per second: 1586\n"
     ]
    },
    {
     "name": "stderr",
     "output_type": "stream",
     "text": [
      "Best trial: 0. Best value: 0.149797:  40%|████      | 20/50 [01:16<01:54,  3.82s/it]"
     ]
    },
    {
     "name": "stdout",
     "output_type": "stream",
     "text": [
      "[I 2023-07-31 04:16:05,951] Trial 19 finished with value: 0.14979745905694405 and parameters: {'n_items_to_rank': 62}. Best is trial 0 with value: 0.14979745905694405.\n",
      "EvaluatorHoldout: Processed 5961 (100.0%) in 3.76 sec. Users per second: 1585\n"
     ]
    },
    {
     "name": "stderr",
     "output_type": "stream",
     "text": [
      "Best trial: 0. Best value: 0.149797:  42%|████▏     | 21/50 [01:19<01:50,  3.81s/it]"
     ]
    },
    {
     "name": "stdout",
     "output_type": "stream",
     "text": [
      "[I 2023-07-31 04:16:09,735] Trial 20 finished with value: 0.14916133276550467 and parameters: {'n_items_to_rank': 49}. Best is trial 0 with value: 0.14979745905694405.\n",
      "EvaluatorHoldout: Processed 5961 (100.0%) in 3.76 sec. Users per second: 1583\n"
     ]
    },
    {
     "name": "stderr",
     "output_type": "stream",
     "text": [
      "Best trial: 0. Best value: 0.149797:  44%|████▍     | 22/50 [01:23<01:46,  3.80s/it]"
     ]
    },
    {
     "name": "stdout",
     "output_type": "stream",
     "text": [
      "[I 2023-07-31 04:16:13,522] Trial 21 finished with value: 0.14979745905694405 and parameters: {'n_items_to_rank': 177}. Best is trial 0 with value: 0.14979745905694405.\n",
      "EvaluatorHoldout: Processed 5961 (100.0%) in 3.75 sec. Users per second: 1588\n"
     ]
    },
    {
     "name": "stderr",
     "output_type": "stream",
     "text": [
      "Best trial: 0. Best value: 0.149797:  46%|████▌     | 23/50 [01:27<01:42,  3.79s/it]"
     ]
    },
    {
     "name": "stdout",
     "output_type": "stream",
     "text": [
      "[I 2023-07-31 04:16:17,300] Trial 22 finished with value: 0.14979745905694405 and parameters: {'n_items_to_rank': 177}. Best is trial 0 with value: 0.14979745905694405.\n",
      "EvaluatorHoldout: Processed 5961 (100.0%) in 3.85 sec. Users per second: 1547\n"
     ]
    },
    {
     "name": "stderr",
     "output_type": "stream",
     "text": [
      "Best trial: 0. Best value: 0.149797:  48%|████▊     | 24/50 [01:31<01:40,  3.85s/it]"
     ]
    },
    {
     "name": "stdout",
     "output_type": "stream",
     "text": [
      "[I 2023-07-31 04:16:21,279] Trial 23 finished with value: 0.14979745905694405 and parameters: {'n_items_to_rank': 192}. Best is trial 0 with value: 0.14979745905694405.\n",
      "EvaluatorHoldout: Processed 5961 (100.0%) in 3.75 sec. Users per second: 1589\n"
     ]
    },
    {
     "name": "stderr",
     "output_type": "stream",
     "text": [
      "Best trial: 0. Best value: 0.149797:  50%|█████     | 25/50 [01:35<01:35,  3.83s/it]"
     ]
    },
    {
     "name": "stdout",
     "output_type": "stream",
     "text": [
      "[I 2023-07-31 04:16:25,055] Trial 24 finished with value: 0.14979745905694405 and parameters: {'n_items_to_rank': 204}. Best is trial 0 with value: 0.14979745905694405.\n",
      "EvaluatorHoldout: Processed 5961 (100.0%) in 3.75 sec. Users per second: 1590\n"
     ]
    },
    {
     "name": "stderr",
     "output_type": "stream",
     "text": [
      "Best trial: 0. Best value: 0.149797:  52%|█████▏    | 26/50 [01:39<01:31,  3.81s/it]"
     ]
    },
    {
     "name": "stdout",
     "output_type": "stream",
     "text": [
      "[I 2023-07-31 04:16:28,830] Trial 25 finished with value: 0.14979745905694405 and parameters: {'n_items_to_rank': 75}. Best is trial 0 with value: 0.14979745905694405.\n",
      "EvaluatorHoldout: Processed 5961 (100.0%) in 3.78 sec. Users per second: 1575\n"
     ]
    },
    {
     "name": "stderr",
     "output_type": "stream",
     "text": [
      "Best trial: 0. Best value: 0.149797:  54%|█████▍    | 27/50 [01:42<01:27,  3.81s/it]"
     ]
    },
    {
     "name": "stdout",
     "output_type": "stream",
     "text": [
      "[I 2023-07-31 04:16:32,639] Trial 26 finished with value: 0.14979745905694405 and parameters: {'n_items_to_rank': 299}. Best is trial 0 with value: 0.14979745905694405.\n",
      "EvaluatorHoldout: Processed 5961 (100.0%) in 3.75 sec. Users per second: 1588\n"
     ]
    },
    {
     "name": "stderr",
     "output_type": "stream",
     "text": [
      "Best trial: 0. Best value: 0.149797:  56%|█████▌    | 28/50 [01:46<01:23,  3.80s/it]"
     ]
    },
    {
     "name": "stdout",
     "output_type": "stream",
     "text": [
      "[I 2023-07-31 04:16:36,417] Trial 27 finished with value: 0.14979745905694405 and parameters: {'n_items_to_rank': 178}. Best is trial 0 with value: 0.14979745905694405.\n",
      "EvaluatorHoldout: Processed 5961 (100.0%) in 3.75 sec. Users per second: 1589\n"
     ]
    },
    {
     "name": "stderr",
     "output_type": "stream",
     "text": [
      "Best trial: 0. Best value: 0.149797:  58%|█████▊    | 29/50 [01:50<01:19,  3.79s/it]"
     ]
    },
    {
     "name": "stdout",
     "output_type": "stream",
     "text": [
      "[I 2023-07-31 04:16:40,194] Trial 28 finished with value: 0.14979745905694405 and parameters: {'n_items_to_rank': 203}. Best is trial 0 with value: 0.14979745905694405.\n",
      "EvaluatorHoldout: Processed 5961 (100.0%) in 3.75 sec. Users per second: 1589\n"
     ]
    },
    {
     "name": "stderr",
     "output_type": "stream",
     "text": [
      "Best trial: 0. Best value: 0.149797:  60%|██████    | 30/50 [01:54<01:15,  3.79s/it]"
     ]
    },
    {
     "name": "stdout",
     "output_type": "stream",
     "text": [
      "[I 2023-07-31 04:16:43,974] Trial 29 finished with value: 0.14979745905694405 and parameters: {'n_items_to_rank': 259}. Best is trial 0 with value: 0.14979745905694405.\n",
      "EvaluatorHoldout: Processed 5961 (100.0%) in 3.87 sec. Users per second: 1538\n"
     ]
    },
    {
     "name": "stderr",
     "output_type": "stream",
     "text": [
      "Best trial: 0. Best value: 0.149797:  62%|██████▏   | 31/50 [01:58<01:12,  3.82s/it]"
     ]
    },
    {
     "name": "stdout",
     "output_type": "stream",
     "text": [
      "[I 2023-07-31 04:16:47,876] Trial 30 finished with value: 0.14979745905694405 and parameters: {'n_items_to_rank': 300}. Best is trial 0 with value: 0.14979745905694405.\n",
      "EvaluatorHoldout: Processed 5961 (100.0%) in 3.75 sec. Users per second: 1588\n"
     ]
    },
    {
     "name": "stderr",
     "output_type": "stream",
     "text": [
      "Best trial: 0. Best value: 0.149797:  64%|██████▍   | 32/50 [02:01<01:08,  3.81s/it]"
     ]
    },
    {
     "name": "stdout",
     "output_type": "stream",
     "text": [
      "[I 2023-07-31 04:16:51,665] Trial 31 finished with value: 0.14979745905694405 and parameters: {'n_items_to_rank': 181}. Best is trial 0 with value: 0.14979745905694405.\n",
      "EvaluatorHoldout: Processed 5961 (100.0%) in 3.70 sec. Users per second: 1609\n"
     ]
    },
    {
     "name": "stderr",
     "output_type": "stream",
     "text": [
      "Best trial: 0. Best value: 0.149797:  66%|██████▌   | 33/50 [02:05<01:04,  3.79s/it]"
     ]
    },
    {
     "name": "stdout",
     "output_type": "stream",
     "text": [
      "[I 2023-07-31 04:16:55,397] Trial 32 finished with value: 0.14979745905694405 and parameters: {'n_items_to_rank': 104}. Best is trial 0 with value: 0.14979745905694405.\n",
      "EvaluatorHoldout: Processed 5961 (100.0%) in 3.70 sec. Users per second: 1612\n"
     ]
    },
    {
     "name": "stderr",
     "output_type": "stream",
     "text": [
      "Best trial: 0. Best value: 0.149797:  68%|██████▊   | 34/50 [02:09<01:00,  3.77s/it]"
     ]
    },
    {
     "name": "stdout",
     "output_type": "stream",
     "text": [
      "[I 2023-07-31 04:16:59,121] Trial 33 finished with value: 0.14979745905694405 and parameters: {'n_items_to_rank': 98}. Best is trial 0 with value: 0.14979745905694405.\n",
      "EvaluatorHoldout: Processed 5961 (100.0%) in 3.73 sec. Users per second: 1597\n"
     ]
    },
    {
     "name": "stderr",
     "output_type": "stream",
     "text": [
      "Best trial: 0. Best value: 0.149797:  70%|███████   | 35/50 [02:13<00:56,  3.77s/it]"
     ]
    },
    {
     "name": "stdout",
     "output_type": "stream",
     "text": [
      "[I 2023-07-31 04:17:02,882] Trial 34 finished with value: 0.14979745905694405 and parameters: {'n_items_to_rank': 68}. Best is trial 0 with value: 0.14979745905694405.\n",
      "EvaluatorHoldout: Processed 5961 (100.0%) in 3.69 sec. Users per second: 1614\n"
     ]
    },
    {
     "name": "stderr",
     "output_type": "stream",
     "text": [
      "Best trial: 0. Best value: 0.149797:  72%|███████▏  | 36/50 [02:16<00:52,  3.75s/it]"
     ]
    },
    {
     "name": "stdout",
     "output_type": "stream",
     "text": [
      "[I 2023-07-31 04:17:06,604] Trial 35 finished with value: 0.14979745905694405 and parameters: {'n_items_to_rank': 189}. Best is trial 0 with value: 0.14979745905694405.\n",
      "EvaluatorHoldout: Processed 5961 (100.0%) in 3.69 sec. Users per second: 1614\n"
     ]
    },
    {
     "name": "stderr",
     "output_type": "stream",
     "text": [
      "Best trial: 0. Best value: 0.149797:  74%|███████▍  | 37/50 [02:20<00:48,  3.74s/it]"
     ]
    },
    {
     "name": "stdout",
     "output_type": "stream",
     "text": [
      "[I 2023-07-31 04:17:10,327] Trial 36 finished with value: 0.14979745905694405 and parameters: {'n_items_to_rank': 100}. Best is trial 0 with value: 0.14979745905694405.\n",
      "EvaluatorHoldout: Processed 5961 (100.0%) in 3.71 sec. Users per second: 1605\n"
     ]
    },
    {
     "name": "stderr",
     "output_type": "stream",
     "text": [
      "Best trial: 0. Best value: 0.149797:  76%|███████▌  | 38/50 [02:24<00:44,  3.74s/it]"
     ]
    },
    {
     "name": "stdout",
     "output_type": "stream",
     "text": [
      "[I 2023-07-31 04:17:14,070] Trial 37 finished with value: 0.14979745905694405 and parameters: {'n_items_to_rank': 246}. Best is trial 0 with value: 0.14979745905694405.\n",
      "EvaluatorHoldout: Processed 5961 (100.0%) in 4.00 sec. Users per second: 1490\n"
     ]
    },
    {
     "name": "stderr",
     "output_type": "stream",
     "text": [
      "Best trial: 0. Best value: 0.149797:  78%|███████▊  | 39/50 [02:28<00:42,  3.83s/it]"
     ]
    },
    {
     "name": "stdout",
     "output_type": "stream",
     "text": [
      "[I 2023-07-31 04:17:18,100] Trial 38 finished with value: 0.1394602806299319 and parameters: {'n_items_to_rank': 29}. Best is trial 0 with value: 0.14979745905694405.\n",
      "EvaluatorHoldout: Processed 5961 (100.0%) in 3.70 sec. Users per second: 1611\n"
     ]
    },
    {
     "name": "stderr",
     "output_type": "stream",
     "text": [
      "Best trial: 0. Best value: 0.149797:  80%|████████  | 40/50 [02:32<00:37,  3.80s/it]"
     ]
    },
    {
     "name": "stdout",
     "output_type": "stream",
     "text": [
      "[I 2023-07-31 04:17:21,829] Trial 39 finished with value: 0.14979745905694405 and parameters: {'n_items_to_rank': 263}. Best is trial 0 with value: 0.14979745905694405.\n",
      "EvaluatorHoldout: Processed 5961 (100.0%) in 3.68 sec. Users per second: 1618\n"
     ]
    },
    {
     "name": "stderr",
     "output_type": "stream",
     "text": [
      "Best trial: 0. Best value: 0.149797:  82%|████████▏ | 41/50 [02:35<00:33,  3.77s/it]"
     ]
    },
    {
     "name": "stdout",
     "output_type": "stream",
     "text": [
      "[I 2023-07-31 04:17:25,544] Trial 40 finished with value: 0.14979745905694405 and parameters: {'n_items_to_rank': 89}. Best is trial 0 with value: 0.14979745905694405.\n",
      "EvaluatorHoldout: Processed 5961 (100.0%) in 3.71 sec. Users per second: 1605\n"
     ]
    },
    {
     "name": "stderr",
     "output_type": "stream",
     "text": [
      "Best trial: 0. Best value: 0.149797:  84%|████████▍ | 42/50 [02:39<00:30,  3.80s/it]"
     ]
    },
    {
     "name": "stdout",
     "output_type": "stream",
     "text": [
      "[I 2023-07-31 04:17:29,398] Trial 41 finished with value: 0.14979745905694405 and parameters: {'n_items_to_rank': 232}. Best is trial 0 with value: 0.14979745905694405.\n",
      "EvaluatorHoldout: Processed 5961 (100.0%) in 3.70 sec. Users per second: 1610\n"
     ]
    },
    {
     "name": "stderr",
     "output_type": "stream",
     "text": [
      "Best trial: 0. Best value: 0.149797:  86%|████████▌ | 43/50 [02:43<00:26,  3.78s/it]"
     ]
    },
    {
     "name": "stdout",
     "output_type": "stream",
     "text": [
      "[I 2023-07-31 04:17:33,133] Trial 42 finished with value: 0.14979745905694405 and parameters: {'n_items_to_rank': 59}. Best is trial 0 with value: 0.14979745905694405.\n",
      "EvaluatorHoldout: Processed 5961 (100.0%) in 3.69 sec. Users per second: 1616\n"
     ]
    },
    {
     "name": "stderr",
     "output_type": "stream",
     "text": [
      "Best trial: 0. Best value: 0.149797:  88%|████████▊ | 44/50 [02:47<00:22,  3.76s/it]"
     ]
    },
    {
     "name": "stdout",
     "output_type": "stream",
     "text": [
      "[I 2023-07-31 04:17:36,853] Trial 43 finished with value: 0.14979745905694405 and parameters: {'n_items_to_rank': 111}. Best is trial 0 with value: 0.14979745905694405.\n",
      "EvaluatorHoldout: Processed 5961 (100.0%) in 3.71 sec. Users per second: 1607\n"
     ]
    },
    {
     "name": "stderr",
     "output_type": "stream",
     "text": [
      "Best trial: 0. Best value: 0.149797:  90%|█████████ | 45/50 [02:50<00:18,  3.76s/it]"
     ]
    },
    {
     "name": "stdout",
     "output_type": "stream",
     "text": [
      "[I 2023-07-31 04:17:40,599] Trial 44 finished with value: 0.14979745905694405 and parameters: {'n_items_to_rank': 190}. Best is trial 0 with value: 0.14979745905694405.\n",
      "EvaluatorHoldout: Processed 5961 (100.0%) in 3.70 sec. Users per second: 1611\n"
     ]
    },
    {
     "name": "stderr",
     "output_type": "stream",
     "text": [
      "Best trial: 0. Best value: 0.149797:  92%|█████████▏| 46/50 [02:54<00:14,  3.75s/it]"
     ]
    },
    {
     "name": "stdout",
     "output_type": "stream",
     "text": [
      "[I 2023-07-31 04:17:44,330] Trial 45 finished with value: 0.14979745905694405 and parameters: {'n_items_to_rank': 55}. Best is trial 0 with value: 0.14979745905694405.\n",
      "EvaluatorHoldout: Processed 5961 (100.0%) in 3.71 sec. Users per second: 1607\n"
     ]
    },
    {
     "name": "stderr",
     "output_type": "stream",
     "text": [
      "Best trial: 0. Best value: 0.149797:  94%|█████████▍| 47/50 [02:58<00:11,  3.75s/it]"
     ]
    },
    {
     "name": "stdout",
     "output_type": "stream",
     "text": [
      "[I 2023-07-31 04:17:48,069] Trial 46 finished with value: 0.14979745905694405 and parameters: {'n_items_to_rank': 169}. Best is trial 0 with value: 0.14979745905694405.\n",
      "EvaluatorHoldout: Processed 5961 (100.0%) in 3.71 sec. Users per second: 1606\n"
     ]
    },
    {
     "name": "stderr",
     "output_type": "stream",
     "text": [
      "Best trial: 0. Best value: 0.149797:  96%|█████████▌| 48/50 [03:02<00:07,  3.75s/it]"
     ]
    },
    {
     "name": "stdout",
     "output_type": "stream",
     "text": [
      "[I 2023-07-31 04:17:51,814] Trial 47 finished with value: 0.14979745905694405 and parameters: {'n_items_to_rank': 132}. Best is trial 0 with value: 0.14979745905694405.\n",
      "EvaluatorHoldout: Processed 5961 (100.0%) in 3.69 sec. Users per second: 1614\n"
     ]
    },
    {
     "name": "stderr",
     "output_type": "stream",
     "text": [
      "Best trial: 0. Best value: 0.149797:  98%|█████████▊| 49/50 [03:05<00:03,  3.74s/it]"
     ]
    },
    {
     "name": "stdout",
     "output_type": "stream",
     "text": [
      "[I 2023-07-31 04:17:55,541] Trial 48 finished with value: 0.14979745905694405 and parameters: {'n_items_to_rank': 237}. Best is trial 0 with value: 0.14979745905694405.\n",
      "EvaluatorHoldout: Processed 5961 (100.0%) in 3.68 sec. Users per second: 1618\n"
     ]
    },
    {
     "name": "stderr",
     "output_type": "stream",
     "text": [
      "Best trial: 0. Best value: 0.149797: 100%|██████████| 50/50 [03:09<00:00,  3.79s/it]"
     ]
    },
    {
     "name": "stdout",
     "output_type": "stream",
     "text": [
      "[I 2023-07-31 04:17:59,258] Trial 49 finished with value: 0.14979745905694405 and parameters: {'n_items_to_rank': 112}. Best is trial 0 with value: 0.14979745905694405.\n",
      "Recommender_Base_Class: URM Detected 194 ( 5.0%) items with no interactions.\n"
     ]
    },
    {
     "name": "stderr",
     "output_type": "stream",
     "text": [
      "\n"
     ]
    },
    {
     "name": "stdout",
     "output_type": "stream",
     "text": [
      "EvaluatorHoldout: Processed 5976 (100.0%) in 3.99 sec. Users per second: 1500\n"
     ]
    },
    {
     "name": "stderr",
     "output_type": "stream",
     "text": [
      "[I 2023-07-31 04:18:46,764] A new study created in memory with name: no-name-dab7f3c9-4750-4c38-b60c-445535caa51c\n",
      "  0%|          | 0/50 [00:00<?, ?it/s]"
     ]
    },
    {
     "name": "stdout",
     "output_type": "stream",
     "text": [
      "SLIMElasticNetRecommender\n",
      "DiffusionAutoencoderRecommender_SLIMElasticNetRecommender_TwoLevelRec\n",
      "EvaluatorHoldout: Processed 5961 (100.0%) in 4.01 sec. Users per second: 1487\n"
     ]
    },
    {
     "name": "stderr",
     "output_type": "stream",
     "text": [
      "Best trial: 0. Best value: 0.177544:   2%|▏         | 1/50 [00:04<03:17,  4.03s/it]"
     ]
    },
    {
     "name": "stdout",
     "output_type": "stream",
     "text": [
      "[I 2023-07-31 04:18:50,789] Trial 0 finished with value: 0.17754379203766898 and parameters: {'n_items_to_rank': 292}. Best is trial 0 with value: 0.17754379203766898.\n",
      "EvaluatorHoldout: Processed 5961 (100.0%) in 4.00 sec. Users per second: 1489\n"
     ]
    },
    {
     "name": "stderr",
     "output_type": "stream",
     "text": [
      "Best trial: 0. Best value: 0.177544:   4%|▍         | 2/50 [00:08<03:13,  4.02s/it]"
     ]
    },
    {
     "name": "stdout",
     "output_type": "stream",
     "text": [
      "[I 2023-07-31 04:18:54,808] Trial 1 finished with value: 0.17754379203766898 and parameters: {'n_items_to_rank': 163}. Best is trial 0 with value: 0.17754379203766898.\n",
      "EvaluatorHoldout: Processed 5961 (100.0%) in 4.02 sec. Users per second: 1485\n"
     ]
    },
    {
     "name": "stderr",
     "output_type": "stream",
     "text": [
      "Best trial: 0. Best value: 0.177544:   6%|▌         | 3/50 [00:12<03:09,  4.03s/it]"
     ]
    },
    {
     "name": "stdout",
     "output_type": "stream",
     "text": [
      "[I 2023-07-31 04:18:58,839] Trial 2 finished with value: 0.17754379203766898 and parameters: {'n_items_to_rank': 217}. Best is trial 0 with value: 0.17754379203766898.\n",
      "EvaluatorHoldout: Processed 5961 (100.0%) in 4.00 sec. Users per second: 1492\n"
     ]
    },
    {
     "name": "stderr",
     "output_type": "stream",
     "text": [
      "Best trial: 0. Best value: 0.177544:   8%|▊         | 4/50 [00:16<03:04,  4.02s/it]"
     ]
    },
    {
     "name": "stdout",
     "output_type": "stream",
     "text": [
      "[I 2023-07-31 04:19:02,852] Trial 3 finished with value: 0.17754379203766898 and parameters: {'n_items_to_rank': 130}. Best is trial 0 with value: 0.17754379203766898.\n",
      "EvaluatorHoldout: Processed 5961 (100.0%) in 3.99 sec. Users per second: 1492\n"
     ]
    },
    {
     "name": "stderr",
     "output_type": "stream",
     "text": [
      "Best trial: 0. Best value: 0.177544:  10%|█         | 5/50 [00:20<03:00,  4.02s/it]"
     ]
    },
    {
     "name": "stdout",
     "output_type": "stream",
     "text": [
      "[I 2023-07-31 04:19:06,864] Trial 4 finished with value: 0.17754379203766898 and parameters: {'n_items_to_rank': 110}. Best is trial 0 with value: 0.17754379203766898.\n",
      "EvaluatorHoldout: Processed 5961 (100.0%) in 4.00 sec. Users per second: 1491\n"
     ]
    },
    {
     "name": "stderr",
     "output_type": "stream",
     "text": [
      "Best trial: 0. Best value: 0.177544:  12%|█▏        | 6/50 [00:24<02:56,  4.02s/it]"
     ]
    },
    {
     "name": "stdout",
     "output_type": "stream",
     "text": [
      "[I 2023-07-31 04:19:10,878] Trial 5 finished with value: 0.17754379203766898 and parameters: {'n_items_to_rank': 162}. Best is trial 0 with value: 0.17754379203766898.\n",
      "EvaluatorHoldout: Processed 5961 (100.0%) in 4.00 sec. Users per second: 1490\n"
     ]
    },
    {
     "name": "stderr",
     "output_type": "stream",
     "text": [
      "Best trial: 0. Best value: 0.177544:  14%|█▍        | 7/50 [00:28<02:52,  4.02s/it]"
     ]
    },
    {
     "name": "stdout",
     "output_type": "stream",
     "text": [
      "[I 2023-07-31 04:19:14,895] Trial 6 finished with value: 0.17754379203766898 and parameters: {'n_items_to_rank': 69}. Best is trial 0 with value: 0.17754379203766898.\n",
      "EvaluatorHoldout: Processed 5961 (100.0%) in 4.14 sec. Users per second: 1441\n"
     ]
    },
    {
     "name": "stderr",
     "output_type": "stream",
     "text": [
      "Best trial: 0. Best value: 0.177544:  16%|█▌        | 8/50 [00:32<02:50,  4.06s/it]"
     ]
    },
    {
     "name": "stdout",
     "output_type": "stream",
     "text": [
      "[I 2023-07-31 04:19:19,049] Trial 7 finished with value: 0.17754379203766898 and parameters: {'n_items_to_rank': 150}. Best is trial 0 with value: 0.17754379203766898.\n",
      "EvaluatorHoldout: Processed 5961 (100.0%) in 4.04 sec. Users per second: 1474\n"
     ]
    },
    {
     "name": "stderr",
     "output_type": "stream",
     "text": [
      "Best trial: 0. Best value: 0.177544:  18%|█▊        | 9/50 [00:36<02:46,  4.06s/it]"
     ]
    },
    {
     "name": "stdout",
     "output_type": "stream",
     "text": [
      "[I 2023-07-31 04:19:23,109] Trial 8 finished with value: 0.17754379203766898 and parameters: {'n_items_to_rank': 339}. Best is trial 0 with value: 0.17754379203766898.\n",
      "EvaluatorHoldout: Processed 5961 (100.0%) in 4.01 sec. Users per second: 1487\n"
     ]
    },
    {
     "name": "stderr",
     "output_type": "stream",
     "text": [
      "Best trial: 0. Best value: 0.177544:  20%|██        | 10/50 [00:40<02:42,  4.05s/it]"
     ]
    },
    {
     "name": "stdout",
     "output_type": "stream",
     "text": [
      "[I 2023-07-31 04:19:27,136] Trial 9 finished with value: 0.17754379203766898 and parameters: {'n_items_to_rank': 91}. Best is trial 0 with value: 0.17754379203766898.\n",
      "EvaluatorHoldout: Processed 5961 (100.0%) in 4.01 sec. Users per second: 1485\n"
     ]
    },
    {
     "name": "stderr",
     "output_type": "stream",
     "text": [
      "Best trial: 0. Best value: 0.177544:  22%|██▏       | 11/50 [00:44<02:37,  4.05s/it]"
     ]
    },
    {
     "name": "stdout",
     "output_type": "stream",
     "text": [
      "[I 2023-07-31 04:19:31,170] Trial 10 finished with value: 0.17754379203766898 and parameters: {'n_items_to_rank': 244}. Best is trial 0 with value: 0.17754379203766898.\n",
      "EvaluatorHoldout: Processed 5961 (100.0%) in 4.00 sec. Users per second: 1491\n"
     ]
    },
    {
     "name": "stderr",
     "output_type": "stream",
     "text": [
      "Best trial: 0. Best value: 0.177544:  24%|██▍       | 12/50 [00:48<02:33,  4.04s/it]"
     ]
    },
    {
     "name": "stdout",
     "output_type": "stream",
     "text": [
      "[I 2023-07-31 04:19:35,188] Trial 11 finished with value: 0.17754379203766898 and parameters: {'n_items_to_rank': 234}. Best is trial 0 with value: 0.17754379203766898.\n",
      "EvaluatorHoldout: Processed 5961 (100.0%) in 4.01 sec. Users per second: 1485\n"
     ]
    },
    {
     "name": "stderr",
     "output_type": "stream",
     "text": [
      "Best trial: 0. Best value: 0.177544:  26%|██▌       | 13/50 [00:52<02:29,  4.04s/it]"
     ]
    },
    {
     "name": "stdout",
     "output_type": "stream",
     "text": [
      "[I 2023-07-31 04:19:39,222] Trial 12 finished with value: 0.17754379203766898 and parameters: {'n_items_to_rank': 276}. Best is trial 0 with value: 0.17754379203766898.\n",
      "EvaluatorHoldout: Processed 5961 (100.0%) in 4.01 sec. Users per second: 1487\n"
     ]
    },
    {
     "name": "stderr",
     "output_type": "stream",
     "text": [
      "Best trial: 0. Best value: 0.177544:  28%|██▊       | 14/50 [00:56<02:25,  4.03s/it]"
     ]
    },
    {
     "name": "stdout",
     "output_type": "stream",
     "text": [
      "[I 2023-07-31 04:19:43,253] Trial 13 finished with value: 0.17754379203766898 and parameters: {'n_items_to_rank': 235}. Best is trial 0 with value: 0.17754379203766898.\n",
      "EvaluatorHoldout: Processed 5961 (100.0%) in 4.01 sec. Users per second: 1487\n"
     ]
    },
    {
     "name": "stderr",
     "output_type": "stream",
     "text": [
      "Best trial: 0. Best value: 0.177544:  30%|███       | 15/50 [01:00<02:21,  4.03s/it]"
     ]
    },
    {
     "name": "stdout",
     "output_type": "stream",
     "text": [
      "[I 2023-07-31 04:19:47,282] Trial 14 finished with value: 0.17754379203766898 and parameters: {'n_items_to_rank': 60}. Best is trial 0 with value: 0.17754379203766898.\n",
      "EvaluatorHoldout: Processed 5961 (100.0%) in 4.01 sec. Users per second: 1488\n"
     ]
    },
    {
     "name": "stderr",
     "output_type": "stream",
     "text": [
      "Best trial: 0. Best value: 0.177544:  32%|███▏      | 16/50 [01:04<02:17,  4.03s/it]"
     ]
    },
    {
     "name": "stdout",
     "output_type": "stream",
     "text": [
      "[I 2023-07-31 04:19:51,308] Trial 15 finished with value: 0.17754379203766898 and parameters: {'n_items_to_rank': 273}. Best is trial 0 with value: 0.17754379203766898.\n",
      "EvaluatorHoldout: Processed 5961 (100.0%) in 4.00 sec. Users per second: 1492\n"
     ]
    },
    {
     "name": "stderr",
     "output_type": "stream",
     "text": [
      "Best trial: 0. Best value: 0.177544:  34%|███▍      | 17/50 [01:08<02:12,  4.03s/it]"
     ]
    },
    {
     "name": "stdout",
     "output_type": "stream",
     "text": [
      "[I 2023-07-31 04:19:55,325] Trial 16 finished with value: 0.17754379203766898 and parameters: {'n_items_to_rank': 322}. Best is trial 0 with value: 0.17754379203766898.\n",
      "EvaluatorHoldout: Processed 5961 (100.0%) in 4.00 sec. Users per second: 1489\n"
     ]
    },
    {
     "name": "stderr",
     "output_type": "stream",
     "text": [
      "Best trial: 0. Best value: 0.177544:  36%|███▌      | 18/50 [01:12<02:08,  4.03s/it]"
     ]
    },
    {
     "name": "stdout",
     "output_type": "stream",
     "text": [
      "[I 2023-07-31 04:19:59,351] Trial 17 finished with value: 0.17754379203766898 and parameters: {'n_items_to_rank': 292}. Best is trial 0 with value: 0.17754379203766898.\n",
      "EvaluatorHoldout: Processed 5961 (100.0%) in 4.00 sec. Users per second: 1488\n"
     ]
    },
    {
     "name": "stderr",
     "output_type": "stream",
     "text": [
      "Best trial: 0. Best value: 0.177544:  38%|███▊      | 19/50 [01:16<02:04,  4.03s/it]"
     ]
    },
    {
     "name": "stdout",
     "output_type": "stream",
     "text": [
      "[I 2023-07-31 04:20:03,379] Trial 18 finished with value: 0.17754379203766898 and parameters: {'n_items_to_rank': 77}. Best is trial 0 with value: 0.17754379203766898.\n",
      "EvaluatorHoldout: Processed 5961 (100.0%) in 3.99 sec. Users per second: 1494\n"
     ]
    },
    {
     "name": "stderr",
     "output_type": "stream",
     "text": [
      "Best trial: 0. Best value: 0.177544:  40%|████      | 20/50 [01:20<02:00,  4.02s/it]"
     ]
    },
    {
     "name": "stdout",
     "output_type": "stream",
     "text": [
      "[I 2023-07-31 04:20:07,392] Trial 19 finished with value: 0.17754379203766898 and parameters: {'n_items_to_rank': 163}. Best is trial 0 with value: 0.17754379203766898.\n",
      "EvaluatorHoldout: Processed 5961 (100.0%) in 4.01 sec. Users per second: 1486\n"
     ]
    },
    {
     "name": "stderr",
     "output_type": "stream",
     "text": [
      "Best trial: 0. Best value: 0.177544:  42%|████▏     | 21/50 [01:24<01:56,  4.03s/it]"
     ]
    },
    {
     "name": "stdout",
     "output_type": "stream",
     "text": [
      "[I 2023-07-31 04:20:11,426] Trial 20 finished with value: 0.17754379203766898 and parameters: {'n_items_to_rank': 187}. Best is trial 0 with value: 0.17754379203766898.\n",
      "EvaluatorHoldout: Processed 5961 (100.0%) in 4.03 sec. Users per second: 1479\n"
     ]
    },
    {
     "name": "stderr",
     "output_type": "stream",
     "text": [
      "Best trial: 0. Best value: 0.177544:  44%|████▍     | 22/50 [01:28<01:52,  4.03s/it]"
     ]
    },
    {
     "name": "stdout",
     "output_type": "stream",
     "text": [
      "[I 2023-07-31 04:20:15,479] Trial 21 finished with value: 0.17754379203766898 and parameters: {'n_items_to_rank': 181}. Best is trial 0 with value: 0.17754379203766898.\n",
      "EvaluatorHoldout: Processed 5961 (100.0%) in 4.00 sec. Users per second: 1490\n"
     ]
    },
    {
     "name": "stderr",
     "output_type": "stream",
     "text": [
      "Best trial: 0. Best value: 0.177544:  46%|████▌     | 23/50 [01:32<01:48,  4.03s/it]"
     ]
    },
    {
     "name": "stdout",
     "output_type": "stream",
     "text": [
      "[I 2023-07-31 04:20:19,504] Trial 22 finished with value: 0.17754379203766898 and parameters: {'n_items_to_rank': 136}. Best is trial 0 with value: 0.17754379203766898.\n",
      "EvaluatorHoldout: Processed 5961 (100.0%) in 4.02 sec. Users per second: 1485\n"
     ]
    },
    {
     "name": "stderr",
     "output_type": "stream",
     "text": [
      "Best trial: 0. Best value: 0.177544:  48%|████▊     | 24/50 [01:36<01:44,  4.03s/it]"
     ]
    },
    {
     "name": "stdout",
     "output_type": "stream",
     "text": [
      "[I 2023-07-31 04:20:23,543] Trial 23 finished with value: 0.17754379203766898 and parameters: {'n_items_to_rank': 103}. Best is trial 0 with value: 0.17754379203766898.\n",
      "EvaluatorHoldout: Processed 5961 (100.0%) in 4.01 sec. Users per second: 1487\n"
     ]
    },
    {
     "name": "stderr",
     "output_type": "stream",
     "text": [
      "Best trial: 0. Best value: 0.177544:  50%|█████     | 25/50 [01:40<01:40,  4.03s/it]"
     ]
    },
    {
     "name": "stdout",
     "output_type": "stream",
     "text": [
      "[I 2023-07-31 04:20:27,576] Trial 24 finished with value: 0.17754379203766898 and parameters: {'n_items_to_rank': 247}. Best is trial 0 with value: 0.17754379203766898.\n",
      "EvaluatorHoldout: Processed 5961 (100.0%) in 4.09 sec. Users per second: 1456\n"
     ]
    },
    {
     "name": "stderr",
     "output_type": "stream",
     "text": [
      "Best trial: 0. Best value: 0.177544:  52%|█████▏    | 26/50 [01:44<01:37,  4.06s/it]"
     ]
    },
    {
     "name": "stdout",
     "output_type": "stream",
     "text": [
      "[I 2023-07-31 04:20:31,694] Trial 25 finished with value: 0.17754379203766898 and parameters: {'n_items_to_rank': 217}. Best is trial 0 with value: 0.17754379203766898.\n",
      "EvaluatorHoldout: Processed 5961 (100.0%) in 3.99 sec. Users per second: 1493\n"
     ]
    },
    {
     "name": "stderr",
     "output_type": "stream",
     "text": [
      "Best trial: 0. Best value: 0.177544:  54%|█████▍    | 27/50 [01:48<01:33,  4.05s/it]"
     ]
    },
    {
     "name": "stdout",
     "output_type": "stream",
     "text": [
      "[I 2023-07-31 04:20:35,710] Trial 26 finished with value: 0.17754379203766898 and parameters: {'n_items_to_rank': 67}. Best is trial 0 with value: 0.17754379203766898.\n",
      "EvaluatorHoldout: Processed 5961 (100.0%) in 4.01 sec. Users per second: 1485\n"
     ]
    },
    {
     "name": "stderr",
     "output_type": "stream",
     "text": [
      "Best trial: 0. Best value: 0.177544:  56%|█████▌    | 28/50 [01:52<01:28,  4.04s/it]"
     ]
    },
    {
     "name": "stdout",
     "output_type": "stream",
     "text": [
      "[I 2023-07-31 04:20:39,749] Trial 27 finished with value: 0.17754379203766898 and parameters: {'n_items_to_rank': 217}. Best is trial 0 with value: 0.17754379203766898.\n",
      "EvaluatorHoldout: Processed 5961 (100.0%) in 4.00 sec. Users per second: 1491\n"
     ]
    },
    {
     "name": "stderr",
     "output_type": "stream",
     "text": [
      "Best trial: 0. Best value: 0.177544:  58%|█████▊    | 29/50 [01:57<01:24,  4.04s/it]"
     ]
    },
    {
     "name": "stdout",
     "output_type": "stream",
     "text": [
      "[I 2023-07-31 04:20:43,773] Trial 28 finished with value: 0.17754379203766898 and parameters: {'n_items_to_rank': 224}. Best is trial 0 with value: 0.17754379203766898.\n",
      "EvaluatorHoldout: Processed 5961 (100.0%) in 4.00 sec. Users per second: 1491\n"
     ]
    },
    {
     "name": "stderr",
     "output_type": "stream",
     "text": [
      "Best trial: 0. Best value: 0.177544:  60%|██████    | 30/50 [02:01<01:20,  4.03s/it]"
     ]
    },
    {
     "name": "stdout",
     "output_type": "stream",
     "text": [
      "[I 2023-07-31 04:20:47,796] Trial 29 finished with value: 0.17754379203766898 and parameters: {'n_items_to_rank': 138}. Best is trial 0 with value: 0.17754379203766898.\n",
      "EvaluatorHoldout: Processed 5961 (100.0%) in 3.99 sec. Users per second: 1494\n"
     ]
    },
    {
     "name": "stderr",
     "output_type": "stream",
     "text": [
      "Best trial: 0. Best value: 0.177544:  62%|██████▏   | 31/50 [02:05<01:16,  4.03s/it]"
     ]
    },
    {
     "name": "stdout",
     "output_type": "stream",
     "text": [
      "[I 2023-07-31 04:20:51,810] Trial 30 finished with value: 0.17754379203766898 and parameters: {'n_items_to_rank': 80}. Best is trial 0 with value: 0.17754379203766898.\n",
      "EvaluatorHoldout: Processed 5961 (100.0%) in 4.00 sec. Users per second: 1491\n"
     ]
    },
    {
     "name": "stderr",
     "output_type": "stream",
     "text": [
      "Best trial: 0. Best value: 0.177544:  64%|██████▍   | 32/50 [02:09<01:12,  4.03s/it]"
     ]
    },
    {
     "name": "stdout",
     "output_type": "stream",
     "text": [
      "[I 2023-07-31 04:20:55,835] Trial 31 finished with value: 0.17754379203766898 and parameters: {'n_items_to_rank': 307}. Best is trial 0 with value: 0.17754379203766898.\n",
      "EvaluatorHoldout: Processed 5961 (100.0%) in 3.99 sec. Users per second: 1492\n"
     ]
    },
    {
     "name": "stderr",
     "output_type": "stream",
     "text": [
      "Best trial: 0. Best value: 0.177544:  66%|██████▌   | 33/50 [02:13<01:08,  4.02s/it]"
     ]
    },
    {
     "name": "stdout",
     "output_type": "stream",
     "text": [
      "[I 2023-07-31 04:20:59,854] Trial 32 finished with value: 0.17754379203766898 and parameters: {'n_items_to_rank': 216}. Best is trial 0 with value: 0.17754379203766898.\n",
      "EvaluatorHoldout: Processed 5961 (100.0%) in 4.02 sec. Users per second: 1485\n"
     ]
    },
    {
     "name": "stderr",
     "output_type": "stream",
     "text": [
      "Best trial: 0. Best value: 0.177544:  68%|██████▊   | 34/50 [02:17<01:04,  4.03s/it]"
     ]
    },
    {
     "name": "stdout",
     "output_type": "stream",
     "text": [
      "[I 2023-07-31 04:21:03,896] Trial 33 finished with value: 0.17754379203766898 and parameters: {'n_items_to_rank': 158}. Best is trial 0 with value: 0.17754379203766898.\n",
      "EvaluatorHoldout: Processed 5961 (100.0%) in 3.99 sec. Users per second: 1494\n"
     ]
    },
    {
     "name": "stderr",
     "output_type": "stream",
     "text": [
      "Best trial: 0. Best value: 0.177544:  70%|███████   | 35/50 [02:21<01:00,  4.03s/it]"
     ]
    },
    {
     "name": "stdout",
     "output_type": "stream",
     "text": [
      "[I 2023-07-31 04:21:07,914] Trial 34 finished with value: 0.17754379203766898 and parameters: {'n_items_to_rank': 130}. Best is trial 0 with value: 0.17754379203766898.\n",
      "EvaluatorHoldout: Processed 5961 (100.0%) in 4.00 sec. Users per second: 1491\n"
     ]
    },
    {
     "name": "stderr",
     "output_type": "stream",
     "text": [
      "Best trial: 0. Best value: 0.177544:  72%|███████▏  | 36/50 [02:25<00:56,  4.03s/it]"
     ]
    },
    {
     "name": "stdout",
     "output_type": "stream",
     "text": [
      "[I 2023-07-31 04:21:11,939] Trial 35 finished with value: 0.17754379203766898 and parameters: {'n_items_to_rank': 151}. Best is trial 0 with value: 0.17754379203766898.\n",
      "EvaluatorHoldout: Processed 5961 (100.0%) in 4.02 sec. Users per second: 1483\n"
     ]
    },
    {
     "name": "stderr",
     "output_type": "stream",
     "text": [
      "Best trial: 0. Best value: 0.177544:  74%|███████▍  | 37/50 [02:29<00:52,  4.03s/it]"
     ]
    },
    {
     "name": "stdout",
     "output_type": "stream",
     "text": [
      "[I 2023-07-31 04:21:15,988] Trial 36 finished with value: 0.17754379203766898 and parameters: {'n_items_to_rank': 140}. Best is trial 0 with value: 0.17754379203766898.\n",
      "EvaluatorHoldout: Processed 5961 (100.0%) in 3.99 sec. Users per second: 1494\n"
     ]
    },
    {
     "name": "stderr",
     "output_type": "stream",
     "text": [
      "Best trial: 0. Best value: 0.177544:  76%|███████▌  | 38/50 [02:33<00:48,  4.03s/it]"
     ]
    },
    {
     "name": "stdout",
     "output_type": "stream",
     "text": [
      "[I 2023-07-31 04:21:20,005] Trial 37 finished with value: 0.17754379203766898 and parameters: {'n_items_to_rank': 250}. Best is trial 0 with value: 0.17754379203766898.\n",
      "EvaluatorHoldout: Processed 5961 (100.0%) in 4.00 sec. Users per second: 1491\n"
     ]
    },
    {
     "name": "stderr",
     "output_type": "stream",
     "text": [
      "Best trial: 0. Best value: 0.177544:  78%|███████▊  | 39/50 [02:37<00:44,  4.03s/it]"
     ]
    },
    {
     "name": "stdout",
     "output_type": "stream",
     "text": [
      "[I 2023-07-31 04:21:24,028] Trial 38 finished with value: 0.17754379203766898 and parameters: {'n_items_to_rank': 98}. Best is trial 0 with value: 0.17754379203766898.\n",
      "EvaluatorHoldout: Processed 5961 (100.0%) in 4.01 sec. Users per second: 1485\n"
     ]
    },
    {
     "name": "stderr",
     "output_type": "stream",
     "text": [
      "Best trial: 0. Best value: 0.177544:  80%|████████  | 40/50 [02:41<00:40,  4.03s/it]"
     ]
    },
    {
     "name": "stdout",
     "output_type": "stream",
     "text": [
      "[I 2023-07-31 04:21:28,070] Trial 39 finished with value: 0.17754379203766898 and parameters: {'n_items_to_rank': 304}. Best is trial 0 with value: 0.17754379203766898.\n",
      "EvaluatorHoldout: Processed 5961 (100.0%) in 3.99 sec. Users per second: 1492\n"
     ]
    },
    {
     "name": "stderr",
     "output_type": "stream",
     "text": [
      "Best trial: 0. Best value: 0.177544:  82%|████████▏ | 41/50 [02:45<00:36,  4.03s/it]"
     ]
    },
    {
     "name": "stdout",
     "output_type": "stream",
     "text": [
      "[I 2023-07-31 04:21:32,093] Trial 40 finished with value: 0.17754379203766898 and parameters: {'n_items_to_rank': 89}. Best is trial 0 with value: 0.17754379203766898.\n",
      "EvaluatorHoldout: Processed 5961 (100.0%) in 3.99 sec. Users per second: 1493\n"
     ]
    },
    {
     "name": "stderr",
     "output_type": "stream",
     "text": [
      "Best trial: 0. Best value: 0.177544:  84%|████████▍ | 42/50 [02:49<00:32,  4.03s/it]"
     ]
    },
    {
     "name": "stdout",
     "output_type": "stream",
     "text": [
      "[I 2023-07-31 04:21:36,114] Trial 41 finished with value: 0.17754379203766898 and parameters: {'n_items_to_rank': 326}. Best is trial 0 with value: 0.17754379203766898.\n",
      "EvaluatorHoldout: Processed 5961 (100.0%) in 4.01 sec. Users per second: 1485\n"
     ]
    },
    {
     "name": "stderr",
     "output_type": "stream",
     "text": [
      "Best trial: 0. Best value: 0.177544:  86%|████████▌ | 43/50 [02:53<00:28,  4.03s/it]"
     ]
    },
    {
     "name": "stdout",
     "output_type": "stream",
     "text": [
      "[I 2023-07-31 04:21:40,159] Trial 42 finished with value: 0.17754379203766898 and parameters: {'n_items_to_rank': 73}. Best is trial 0 with value: 0.17754379203766898.\n",
      "EvaluatorHoldout: Processed 5961 (100.0%) in 3.99 sec. Users per second: 1495\n"
     ]
    },
    {
     "name": "stderr",
     "output_type": "stream",
     "text": [
      "Best trial: 0. Best value: 0.177544:  88%|████████▊ | 44/50 [02:57<00:24,  4.03s/it]"
     ]
    },
    {
     "name": "stdout",
     "output_type": "stream",
     "text": [
      "[I 2023-07-31 04:21:44,176] Trial 43 finished with value: 0.17754379203766898 and parameters: {'n_items_to_rank': 107}. Best is trial 0 with value: 0.17754379203766898.\n",
      "EvaluatorHoldout: Processed 5961 (100.0%) in 3.99 sec. Users per second: 1495\n"
     ]
    },
    {
     "name": "stderr",
     "output_type": "stream",
     "text": [
      "Best trial: 0. Best value: 0.177544:  90%|█████████ | 45/50 [03:01<00:20,  4.05s/it]"
     ]
    },
    {
     "name": "stdout",
     "output_type": "stream",
     "text": [
      "[I 2023-07-31 04:21:48,285] Trial 44 finished with value: 0.17754379203766898 and parameters: {'n_items_to_rank': 146}. Best is trial 0 with value: 0.17754379203766898.\n",
      "EvaluatorHoldout: Processed 5961 (100.0%) in 4.02 sec. Users per second: 1484\n"
     ]
    },
    {
     "name": "stderr",
     "output_type": "stream",
     "text": [
      "Best trial: 0. Best value: 0.177544:  92%|█████████▏| 46/50 [03:05<00:16,  4.05s/it]"
     ]
    },
    {
     "name": "stdout",
     "output_type": "stream",
     "text": [
      "[I 2023-07-31 04:21:52,334] Trial 45 finished with value: 0.17754379203766898 and parameters: {'n_items_to_rank': 110}. Best is trial 0 with value: 0.17754379203766898.\n",
      "EvaluatorHoldout: Processed 5961 (100.0%) in 4.00 sec. Users per second: 1492\n"
     ]
    },
    {
     "name": "stderr",
     "output_type": "stream",
     "text": [
      "Best trial: 0. Best value: 0.177544:  94%|█████████▍| 47/50 [03:09<00:12,  4.04s/it]"
     ]
    },
    {
     "name": "stdout",
     "output_type": "stream",
     "text": [
      "[I 2023-07-31 04:21:56,360] Trial 46 finished with value: 0.17754379203766898 and parameters: {'n_items_to_rank': 265}. Best is trial 0 with value: 0.17754379203766898.\n",
      "EvaluatorHoldout: Processed 5961 (100.0%) in 4.00 sec. Users per second: 1491\n"
     ]
    },
    {
     "name": "stderr",
     "output_type": "stream",
     "text": [
      "Best trial: 0. Best value: 0.177544:  96%|█████████▌| 48/50 [03:13<00:08,  4.04s/it]"
     ]
    },
    {
     "name": "stdout",
     "output_type": "stream",
     "text": [
      "[I 2023-07-31 04:22:00,389] Trial 47 finished with value: 0.17754379203766898 and parameters: {'n_items_to_rank': 318}. Best is trial 0 with value: 0.17754379203766898.\n",
      "EvaluatorHoldout: Processed 5961 (100.0%) in 4.00 sec. Users per second: 1491\n"
     ]
    },
    {
     "name": "stderr",
     "output_type": "stream",
     "text": [
      "Best trial: 0. Best value: 0.177544:  98%|█████████▊| 49/50 [03:17<00:04,  4.04s/it]"
     ]
    },
    {
     "name": "stdout",
     "output_type": "stream",
     "text": [
      "[I 2023-07-31 04:22:04,418] Trial 48 finished with value: 0.17754379203766898 and parameters: {'n_items_to_rank': 50}. Best is trial 0 with value: 0.17754379203766898.\n",
      "EvaluatorHoldout: Processed 5961 (100.0%) in 4.00 sec. Users per second: 1492\n"
     ]
    },
    {
     "name": "stderr",
     "output_type": "stream",
     "text": [
      "Best trial: 0. Best value: 0.177544: 100%|██████████| 50/50 [03:21<00:00,  4.03s/it]"
     ]
    },
    {
     "name": "stdout",
     "output_type": "stream",
     "text": [
      "[I 2023-07-31 04:22:08,445] Trial 49 finished with value: 0.17754379203766898 and parameters: {'n_items_to_rank': 266}. Best is trial 0 with value: 0.17754379203766898.\n",
      "Recommender_Base_Class: URM Detected 194 ( 5.0%) items with no interactions.\n"
     ]
    },
    {
     "name": "stderr",
     "output_type": "stream",
     "text": [
      "\n"
     ]
    },
    {
     "name": "stdout",
     "output_type": "stream",
     "text": [
      "EvaluatorHoldout: Processed 5976 (100.0%) in 3.70 sec. Users per second: 1616\n"
     ]
    },
    {
     "name": "stderr",
     "output_type": "stream",
     "text": [
      "[I 2023-07-31 04:22:55,518] A new study created in memory with name: no-name-ab99f12b-115d-40ab-bb43-f5912d82c8af\n",
      "  0%|          | 0/50 [00:00<?, ?it/s]"
     ]
    },
    {
     "name": "stdout",
     "output_type": "stream",
     "text": [
      "ItemKNNCFRecommender\n",
      "DiffusionAutoencoderRecommender_ItemKNNCFRecommender_TwoLevelRec\n",
      "EvaluatorHoldout: Processed 5961 (100.0%) in 5.04 sec. Users per second: 1182\n"
     ]
    },
    {
     "name": "stderr",
     "output_type": "stream",
     "text": [
      "Best trial: 0. Best value: 0.166057:   2%|▏         | 1/50 [00:05<04:07,  5.06s/it]"
     ]
    },
    {
     "name": "stdout",
     "output_type": "stream",
     "text": [
      "[I 2023-07-31 04:23:00,577] Trial 0 finished with value: 0.16605658261418485 and parameters: {'n_items_to_rank': 77}. Best is trial 0 with value: 0.16605658261418485.\n",
      "EvaluatorHoldout: Processed 5961 (100.0%) in 5.05 sec. Users per second: 1181\n"
     ]
    },
    {
     "name": "stderr",
     "output_type": "stream",
     "text": [
      "Best trial: 0. Best value: 0.166057:   4%|▍         | 2/50 [00:10<04:02,  5.06s/it]"
     ]
    },
    {
     "name": "stdout",
     "output_type": "stream",
     "text": [
      "[I 2023-07-31 04:23:05,637] Trial 1 finished with value: 0.16605658261418485 and parameters: {'n_items_to_rank': 96}. Best is trial 0 with value: 0.16605658261418485.\n",
      "EvaluatorHoldout: Processed 5961 (100.0%) in 5.05 sec. Users per second: 1181\n"
     ]
    },
    {
     "name": "stderr",
     "output_type": "stream",
     "text": [
      "Best trial: 0. Best value: 0.166057:   6%|▌         | 3/50 [00:15<03:57,  5.06s/it]"
     ]
    },
    {
     "name": "stdout",
     "output_type": "stream",
     "text": [
      "[I 2023-07-31 04:23:10,698] Trial 2 finished with value: 0.16605658261418485 and parameters: {'n_items_to_rank': 346}. Best is trial 0 with value: 0.16605658261418485.\n",
      "EvaluatorHoldout: Processed 5961 (100.0%) in 5.05 sec. Users per second: 1181\n"
     ]
    },
    {
     "name": "stderr",
     "output_type": "stream",
     "text": [
      "Best trial: 0. Best value: 0.166057:   8%|▊         | 4/50 [00:20<03:52,  5.06s/it]"
     ]
    },
    {
     "name": "stdout",
     "output_type": "stream",
     "text": [
      "[I 2023-07-31 04:23:15,762] Trial 3 finished with value: 0.16605658261418485 and parameters: {'n_items_to_rank': 299}. Best is trial 0 with value: 0.16605658261418485.\n",
      "EvaluatorHoldout: Processed 5961 (100.0%) in 5.04 sec. Users per second: 1183\n"
     ]
    },
    {
     "name": "stderr",
     "output_type": "stream",
     "text": [
      "Best trial: 0. Best value: 0.166057:  10%|█         | 5/50 [00:25<03:47,  5.06s/it]"
     ]
    },
    {
     "name": "stdout",
     "output_type": "stream",
     "text": [
      "[I 2023-07-31 04:23:20,817] Trial 4 finished with value: 0.16605658261418485 and parameters: {'n_items_to_rank': 73}. Best is trial 0 with value: 0.16605658261418485.\n",
      "EvaluatorHoldout: Processed 5961 (100.0%) in 5.05 sec. Users per second: 1180\n"
     ]
    },
    {
     "name": "stderr",
     "output_type": "stream",
     "text": [
      "Best trial: 0. Best value: 0.166057:  12%|█▏        | 6/50 [00:30<03:42,  5.06s/it]"
     ]
    },
    {
     "name": "stdout",
     "output_type": "stream",
     "text": [
      "[I 2023-07-31 04:23:25,885] Trial 5 finished with value: 0.16605658261418485 and parameters: {'n_items_to_rank': 84}. Best is trial 0 with value: 0.16605658261418485.\n",
      "EvaluatorHoldout: Processed 5961 (100.0%) in 5.05 sec. Users per second: 1181\n"
     ]
    },
    {
     "name": "stderr",
     "output_type": "stream",
     "text": [
      "Best trial: 0. Best value: 0.166057:  14%|█▍        | 7/50 [00:35<03:37,  5.06s/it]"
     ]
    },
    {
     "name": "stdout",
     "output_type": "stream",
     "text": [
      "[I 2023-07-31 04:23:30,948] Trial 6 finished with value: 0.16605658261418485 and parameters: {'n_items_to_rank': 190}. Best is trial 0 with value: 0.16605658261418485.\n",
      "EvaluatorHoldout: Processed 5961 (100.0%) in 5.04 sec. Users per second: 1183\n"
     ]
    },
    {
     "name": "stderr",
     "output_type": "stream",
     "text": [
      "Best trial: 0. Best value: 0.166057:  16%|█▌        | 8/50 [00:40<03:32,  5.06s/it]"
     ]
    },
    {
     "name": "stdout",
     "output_type": "stream",
     "text": [
      "[I 2023-07-31 04:23:36,002] Trial 7 finished with value: 0.16605658261418485 and parameters: {'n_items_to_rank': 198}. Best is trial 0 with value: 0.16605658261418485.\n",
      "EvaluatorHoldout: Processed 5961 (100.0%) in 5.04 sec. Users per second: 1182\n"
     ]
    },
    {
     "name": "stderr",
     "output_type": "stream",
     "text": [
      "Best trial: 0. Best value: 0.166057:  18%|█▊        | 9/50 [00:45<03:27,  5.06s/it]"
     ]
    },
    {
     "name": "stdout",
     "output_type": "stream",
     "text": [
      "[I 2023-07-31 04:23:41,061] Trial 8 finished with value: 0.16605658261418485 and parameters: {'n_items_to_rank': 210}. Best is trial 0 with value: 0.16605658261418485.\n",
      "EvaluatorHoldout: Processed 5961 (100.0%) in 5.13 sec. Users per second: 1162\n"
     ]
    },
    {
     "name": "stderr",
     "output_type": "stream",
     "text": [
      "Best trial: 0. Best value: 0.166057:  20%|██        | 10/50 [00:50<03:23,  5.09s/it]"
     ]
    },
    {
     "name": "stdout",
     "output_type": "stream",
     "text": [
      "[I 2023-07-31 04:23:46,210] Trial 9 finished with value: 0.16605658261418485 and parameters: {'n_items_to_rank': 174}. Best is trial 0 with value: 0.16605658261418485.\n",
      "EvaluatorHoldout: Processed 5961 (100.0%) in 5.04 sec. Users per second: 1183\n"
     ]
    },
    {
     "name": "stderr",
     "output_type": "stream",
     "text": [
      "Best trial: 0. Best value: 0.166057:  22%|██▏       | 11/50 [00:55<03:18,  5.08s/it]"
     ]
    },
    {
     "name": "stdout",
     "output_type": "stream",
     "text": [
      "[I 2023-07-31 04:23:51,268] Trial 10 finished with value: 0.16605658261418485 and parameters: {'n_items_to_rank': 188}. Best is trial 0 with value: 0.16605658261418485.\n",
      "EvaluatorHoldout: Processed 5961 (100.0%) in 5.04 sec. Users per second: 1182\n"
     ]
    },
    {
     "name": "stderr",
     "output_type": "stream",
     "text": [
      "Best trial: 0. Best value: 0.166057:  24%|██▍       | 12/50 [01:00<03:12,  5.07s/it]"
     ]
    },
    {
     "name": "stdout",
     "output_type": "stream",
     "text": [
      "[I 2023-07-31 04:23:56,330] Trial 11 finished with value: 0.16605658261418485 and parameters: {'n_items_to_rank': 195}. Best is trial 0 with value: 0.16605658261418485.\n",
      "EvaluatorHoldout: Processed 5961 (100.0%) in 5.06 sec. Users per second: 1178\n"
     ]
    },
    {
     "name": "stderr",
     "output_type": "stream",
     "text": [
      "Best trial: 0. Best value: 0.166057:  26%|██▌       | 13/50 [01:05<03:07,  5.08s/it]"
     ]
    },
    {
     "name": "stdout",
     "output_type": "stream",
     "text": [
      "[I 2023-07-31 04:24:01,412] Trial 12 finished with value: 0.16605658261418485 and parameters: {'n_items_to_rank': 90}. Best is trial 0 with value: 0.16605658261418485.\n",
      "EvaluatorHoldout: Processed 5961 (100.0%) in 5.01 sec. Users per second: 1190\n"
     ]
    },
    {
     "name": "stderr",
     "output_type": "stream",
     "text": [
      "Best trial: 0. Best value: 0.166057:  28%|██▊       | 14/50 [01:10<03:02,  5.06s/it]"
     ]
    },
    {
     "name": "stdout",
     "output_type": "stream",
     "text": [
      "[I 2023-07-31 04:24:06,443] Trial 13 finished with value: 0.16605658261418485 and parameters: {'n_items_to_rank': 76}. Best is trial 0 with value: 0.16605658261418485.\n",
      "EvaluatorHoldout: Processed 5961 (100.0%) in 5.04 sec. Users per second: 1183\n"
     ]
    },
    {
     "name": "stderr",
     "output_type": "stream",
     "text": [
      "Best trial: 0. Best value: 0.166057:  30%|███       | 15/50 [01:15<02:57,  5.06s/it]"
     ]
    },
    {
     "name": "stdout",
     "output_type": "stream",
     "text": [
      "[I 2023-07-31 04:24:11,502] Trial 14 finished with value: 0.16605658261418485 and parameters: {'n_items_to_rank': 264}. Best is trial 0 with value: 0.16605658261418485.\n",
      "EvaluatorHoldout: Processed 5961 (100.0%) in 5.03 sec. Users per second: 1185\n"
     ]
    },
    {
     "name": "stderr",
     "output_type": "stream",
     "text": [
      "Best trial: 0. Best value: 0.166057:  32%|███▏      | 16/50 [01:21<02:51,  5.06s/it]"
     ]
    },
    {
     "name": "stdout",
     "output_type": "stream",
     "text": [
      "[I 2023-07-31 04:24:16,551] Trial 15 finished with value: 0.16605658261418485 and parameters: {'n_items_to_rank': 96}. Best is trial 0 with value: 0.16605658261418485.\n",
      "EvaluatorHoldout: Processed 5961 (100.0%) in 5.03 sec. Users per second: 1185\n"
     ]
    },
    {
     "name": "stderr",
     "output_type": "stream",
     "text": [
      "Best trial: 0. Best value: 0.166057:  34%|███▍      | 17/50 [01:26<02:46,  5.06s/it]"
     ]
    },
    {
     "name": "stdout",
     "output_type": "stream",
     "text": [
      "[I 2023-07-31 04:24:21,604] Trial 16 finished with value: 0.16605658261418485 and parameters: {'n_items_to_rank': 138}. Best is trial 0 with value: 0.16605658261418485.\n",
      "EvaluatorHoldout: Processed 5961 (100.0%) in 5.04 sec. Users per second: 1183\n"
     ]
    },
    {
     "name": "stderr",
     "output_type": "stream",
     "text": [
      "Best trial: 0. Best value: 0.166057:  36%|███▌      | 18/50 [01:31<02:41,  5.06s/it]"
     ]
    },
    {
     "name": "stdout",
     "output_type": "stream",
     "text": [
      "[I 2023-07-31 04:24:26,663] Trial 17 finished with value: 0.16605658261418485 and parameters: {'n_items_to_rank': 96}. Best is trial 0 with value: 0.16605658261418485.\n",
      "EvaluatorHoldout: Processed 5961 (100.0%) in 5.04 sec. Users per second: 1184\n"
     ]
    },
    {
     "name": "stderr",
     "output_type": "stream",
     "text": [
      "Best trial: 0. Best value: 0.166057:  38%|███▊      | 19/50 [01:36<02:36,  5.06s/it]"
     ]
    },
    {
     "name": "stdout",
     "output_type": "stream",
     "text": [
      "[I 2023-07-31 04:24:31,719] Trial 18 finished with value: 0.16605658261418485 and parameters: {'n_items_to_rank': 65}. Best is trial 0 with value: 0.16605658261418485.\n",
      "EvaluatorHoldout: Processed 5961 (100.0%) in 5.04 sec. Users per second: 1184\n"
     ]
    },
    {
     "name": "stderr",
     "output_type": "stream",
     "text": [
      "Best trial: 0. Best value: 0.166057:  40%|████      | 20/50 [01:41<02:31,  5.06s/it]"
     ]
    },
    {
     "name": "stdout",
     "output_type": "stream",
     "text": [
      "[I 2023-07-31 04:24:36,775] Trial 19 finished with value: 0.16605658261418485 and parameters: {'n_items_to_rank': 93}. Best is trial 0 with value: 0.16605658261418485.\n",
      "EvaluatorHoldout: Processed 5961 (100.0%) in 5.05 sec. Users per second: 1180\n"
     ]
    },
    {
     "name": "stderr",
     "output_type": "stream",
     "text": [
      "Best trial: 0. Best value: 0.166057:  42%|████▏     | 21/50 [01:46<02:26,  5.06s/it]"
     ]
    },
    {
     "name": "stdout",
     "output_type": "stream",
     "text": [
      "[I 2023-07-31 04:24:41,845] Trial 20 finished with value: 0.16605658261418485 and parameters: {'n_items_to_rank': 191}. Best is trial 0 with value: 0.16605658261418485.\n",
      "EvaluatorHoldout: Processed 5961 (100.0%) in 5.03 sec. Users per second: 1186\n"
     ]
    },
    {
     "name": "stderr",
     "output_type": "stream",
     "text": [
      "Best trial: 0. Best value: 0.166057:  44%|████▍     | 22/50 [01:51<02:21,  5.06s/it]"
     ]
    },
    {
     "name": "stdout",
     "output_type": "stream",
     "text": [
      "[I 2023-07-31 04:24:46,893] Trial 21 finished with value: 0.16605658261418485 and parameters: {'n_items_to_rank': 83}. Best is trial 0 with value: 0.16605658261418485.\n",
      "EvaluatorHoldout: Processed 5961 (100.0%) in 5.02 sec. Users per second: 1187\n"
     ]
    },
    {
     "name": "stderr",
     "output_type": "stream",
     "text": [
      "Best trial: 0. Best value: 0.166057:  46%|████▌     | 23/50 [01:56<02:16,  5.05s/it]"
     ]
    },
    {
     "name": "stdout",
     "output_type": "stream",
     "text": [
      "[I 2023-07-31 04:24:51,936] Trial 22 finished with value: 0.16605658261418485 and parameters: {'n_items_to_rank': 346}. Best is trial 0 with value: 0.16605658261418485.\n",
      "EvaluatorHoldout: Processed 5961 (100.0%) in 5.04 sec. Users per second: 1182\n"
     ]
    },
    {
     "name": "stderr",
     "output_type": "stream",
     "text": [
      "Best trial: 0. Best value: 0.166057:  48%|████▊     | 24/50 [02:01<02:11,  5.06s/it]"
     ]
    },
    {
     "name": "stdout",
     "output_type": "stream",
     "text": [
      "[I 2023-07-31 04:24:56,999] Trial 23 finished with value: 0.16605658261418485 and parameters: {'n_items_to_rank': 63}. Best is trial 0 with value: 0.16605658261418485.\n",
      "EvaluatorHoldout: Processed 5961 (100.0%) in 5.03 sec. Users per second: 1184\n"
     ]
    },
    {
     "name": "stderr",
     "output_type": "stream",
     "text": [
      "Best trial: 0. Best value: 0.166057:  50%|█████     | 25/50 [02:06<02:06,  5.06s/it]"
     ]
    },
    {
     "name": "stdout",
     "output_type": "stream",
     "text": [
      "[I 2023-07-31 04:25:02,056] Trial 24 finished with value: 0.16605658261418485 and parameters: {'n_items_to_rank': 223}. Best is trial 0 with value: 0.16605658261418485.\n",
      "EvaluatorHoldout: Processed 5961 (100.0%) in 5.05 sec. Users per second: 1179\n"
     ]
    },
    {
     "name": "stderr",
     "output_type": "stream",
     "text": [
      "Best trial: 0. Best value: 0.166057:  52%|█████▏    | 26/50 [02:11<02:01,  5.06s/it]"
     ]
    },
    {
     "name": "stdout",
     "output_type": "stream",
     "text": [
      "[I 2023-07-31 04:25:07,133] Trial 25 finished with value: 0.16605658261418485 and parameters: {'n_items_to_rank': 77}. Best is trial 0 with value: 0.16605658261418485.\n",
      "EvaluatorHoldout: Processed 5961 (100.0%) in 5.03 sec. Users per second: 1186\n"
     ]
    },
    {
     "name": "stderr",
     "output_type": "stream",
     "text": [
      "Best trial: 0. Best value: 0.166057:  54%|█████▍    | 27/50 [02:16<01:56,  5.06s/it]"
     ]
    },
    {
     "name": "stdout",
     "output_type": "stream",
     "text": [
      "[I 2023-07-31 04:25:12,180] Trial 26 finished with value: 0.16605658261418485 and parameters: {'n_items_to_rank': 135}. Best is trial 0 with value: 0.16605658261418485.\n",
      "EvaluatorHoldout: Processed 5961 (100.0%) in 5.15 sec. Users per second: 1157\n"
     ]
    },
    {
     "name": "stderr",
     "output_type": "stream",
     "text": [
      "Best trial: 0. Best value: 0.166057:  56%|█████▌    | 28/50 [02:21<01:52,  5.09s/it]"
     ]
    },
    {
     "name": "stdout",
     "output_type": "stream",
     "text": [
      "[I 2023-07-31 04:25:17,353] Trial 27 finished with value: 0.16605658261418485 and parameters: {'n_items_to_rank': 200}. Best is trial 0 with value: 0.16605658261418485.\n",
      "EvaluatorHoldout: Processed 5961 (100.0%) in 5.04 sec. Users per second: 1184\n"
     ]
    },
    {
     "name": "stderr",
     "output_type": "stream",
     "text": [
      "Best trial: 0. Best value: 0.166057:  58%|█████▊    | 29/50 [02:26<01:46,  5.08s/it]"
     ]
    },
    {
     "name": "stdout",
     "output_type": "stream",
     "text": [
      "[I 2023-07-31 04:25:22,412] Trial 28 finished with value: 0.16605658261418485 and parameters: {'n_items_to_rank': 279}. Best is trial 0 with value: 0.16605658261418485.\n",
      "EvaluatorHoldout: Processed 5961 (100.0%) in 5.04 sec. Users per second: 1184\n"
     ]
    },
    {
     "name": "stderr",
     "output_type": "stream",
     "text": [
      "Best trial: 0. Best value: 0.166057:  60%|██████    | 30/50 [02:31<01:41,  5.08s/it]"
     ]
    },
    {
     "name": "stdout",
     "output_type": "stream",
     "text": [
      "[I 2023-07-31 04:25:27,472] Trial 29 finished with value: 0.16605658261418485 and parameters: {'n_items_to_rank': 152}. Best is trial 0 with value: 0.16605658261418485.\n",
      "EvaluatorHoldout: Processed 5961 (100.0%) in 5.02 sec. Users per second: 1189\n"
     ]
    },
    {
     "name": "stderr",
     "output_type": "stream",
     "text": [
      "Best trial: 0. Best value: 0.166057:  62%|██████▏   | 31/50 [02:36<01:36,  5.06s/it]"
     ]
    },
    {
     "name": "stdout",
     "output_type": "stream",
     "text": [
      "[I 2023-07-31 04:25:32,511] Trial 30 finished with value: 0.16605658261418485 and parameters: {'n_items_to_rank': 121}. Best is trial 0 with value: 0.16605658261418485.\n",
      "EvaluatorHoldout: Processed 5961 (100.0%) in 5.03 sec. Users per second: 1184\n"
     ]
    },
    {
     "name": "stderr",
     "output_type": "stream",
     "text": [
      "Best trial: 0. Best value: 0.166057:  64%|██████▍   | 32/50 [02:42<01:31,  5.06s/it]"
     ]
    },
    {
     "name": "stdout",
     "output_type": "stream",
     "text": [
      "[I 2023-07-31 04:25:37,571] Trial 31 finished with value: 0.16605658261418485 and parameters: {'n_items_to_rank': 207}. Best is trial 0 with value: 0.16605658261418485.\n",
      "EvaluatorHoldout: Processed 5961 (100.0%) in 5.03 sec. Users per second: 1185\n"
     ]
    },
    {
     "name": "stderr",
     "output_type": "stream",
     "text": [
      "Best trial: 0. Best value: 0.166057:  66%|██████▌   | 33/50 [02:47<01:26,  5.06s/it]"
     ]
    },
    {
     "name": "stdout",
     "output_type": "stream",
     "text": [
      "[I 2023-07-31 04:25:42,626] Trial 32 finished with value: 0.16605658261418485 and parameters: {'n_items_to_rank': 217}. Best is trial 0 with value: 0.16605658261418485.\n",
      "EvaluatorHoldout: Processed 5961 (100.0%) in 5.05 sec. Users per second: 1181\n"
     ]
    },
    {
     "name": "stderr",
     "output_type": "stream",
     "text": [
      "Best trial: 0. Best value: 0.166057:  68%|██████▊   | 34/50 [02:52<01:21,  5.06s/it]"
     ]
    },
    {
     "name": "stdout",
     "output_type": "stream",
     "text": [
      "[I 2023-07-31 04:25:47,701] Trial 33 finished with value: 0.16605658261418485 and parameters: {'n_items_to_rank': 235}. Best is trial 0 with value: 0.16605658261418485.\n",
      "EvaluatorHoldout: Processed 5961 (100.0%) in 5.22 sec. Users per second: 1143\n"
     ]
    },
    {
     "name": "stderr",
     "output_type": "stream",
     "text": [
      "Best trial: 0. Best value: 0.166057:  70%|███████   | 35/50 [02:57<01:16,  5.12s/it]"
     ]
    },
    {
     "name": "stdout",
     "output_type": "stream",
     "text": [
      "[I 2023-07-31 04:25:52,946] Trial 34 finished with value: 0.16605658261418485 and parameters: {'n_items_to_rank': 260}. Best is trial 0 with value: 0.16605658261418485.\n",
      "EvaluatorHoldout: Processed 5961 (100.0%) in 5.20 sec. Users per second: 1146\n"
     ]
    },
    {
     "name": "stderr",
     "output_type": "stream",
     "text": [
      "Best trial: 0. Best value: 0.166057:  72%|███████▏  | 36/50 [03:02<01:12,  5.15s/it]"
     ]
    },
    {
     "name": "stdout",
     "output_type": "stream",
     "text": [
      "[I 2023-07-31 04:25:58,179] Trial 35 finished with value: 0.16605658261418485 and parameters: {'n_items_to_rank': 299}. Best is trial 0 with value: 0.16605658261418485.\n",
      "EvaluatorHoldout: Processed 5961 (100.0%) in 5.31 sec. Users per second: 1123\n"
     ]
    },
    {
     "name": "stderr",
     "output_type": "stream",
     "text": [
      "Best trial: 0. Best value: 0.166057:  74%|███████▍  | 37/50 [03:08<01:07,  5.21s/it]"
     ]
    },
    {
     "name": "stdout",
     "output_type": "stream",
     "text": [
      "[I 2023-07-31 04:26:03,518] Trial 36 finished with value: 0.16605658261418485 and parameters: {'n_items_to_rank': 215}. Best is trial 0 with value: 0.16605658261418485.\n",
      "EvaluatorHoldout: Processed 5961 (100.0%) in 5.24 sec. Users per second: 1137\n"
     ]
    },
    {
     "name": "stderr",
     "output_type": "stream",
     "text": [
      "Best trial: 0. Best value: 0.166057:  76%|███████▌  | 38/50 [03:13<01:02,  5.23s/it]"
     ]
    },
    {
     "name": "stdout",
     "output_type": "stream",
     "text": [
      "[I 2023-07-31 04:26:08,791] Trial 37 finished with value: 0.16605658261418485 and parameters: {'n_items_to_rank': 204}. Best is trial 0 with value: 0.16605658261418485.\n",
      "EvaluatorHoldout: Processed 5961 (100.0%) in 5.13 sec. Users per second: 1162\n"
     ]
    },
    {
     "name": "stderr",
     "output_type": "stream",
     "text": [
      "Best trial: 0. Best value: 0.166057:  78%|███████▊  | 39/50 [03:18<00:57,  5.21s/it]"
     ]
    },
    {
     "name": "stdout",
     "output_type": "stream",
     "text": [
      "[I 2023-07-31 04:26:13,949] Trial 38 finished with value: 0.16605658261418485 and parameters: {'n_items_to_rank': 278}. Best is trial 0 with value: 0.16605658261418485.\n",
      "EvaluatorHoldout: Processed 5961 (100.0%) in 5.17 sec. Users per second: 1154\n"
     ]
    },
    {
     "name": "stderr",
     "output_type": "stream",
     "text": [
      "Best trial: 0. Best value: 0.166057:  80%|████████  | 40/50 [03:23<00:52,  5.20s/it]"
     ]
    },
    {
     "name": "stdout",
     "output_type": "stream",
     "text": [
      "[I 2023-07-31 04:26:19,144] Trial 39 finished with value: 0.16605658261418485 and parameters: {'n_items_to_rank': 160}. Best is trial 0 with value: 0.16605658261418485.\n",
      "EvaluatorHoldout: Processed 5961 (100.0%) in 5.12 sec. Users per second: 1163\n"
     ]
    },
    {
     "name": "stderr",
     "output_type": "stream",
     "text": [
      "Best trial: 0. Best value: 0.166057:  82%|████████▏ | 41/50 [03:28<00:46,  5.19s/it]"
     ]
    },
    {
     "name": "stdout",
     "output_type": "stream",
     "text": [
      "[I 2023-07-31 04:26:24,298] Trial 40 finished with value: 0.16605658261418485 and parameters: {'n_items_to_rank': 298}. Best is trial 0 with value: 0.16605658261418485.\n",
      "EvaluatorHoldout: Processed 5961 (100.0%) in 5.14 sec. Users per second: 1159\n"
     ]
    },
    {
     "name": "stderr",
     "output_type": "stream",
     "text": [
      "Best trial: 0. Best value: 0.166057:  84%|████████▍ | 42/50 [03:33<00:41,  5.18s/it]"
     ]
    },
    {
     "name": "stdout",
     "output_type": "stream",
     "text": [
      "[I 2023-07-31 04:26:29,469] Trial 41 finished with value: 0.16605658261418485 and parameters: {'n_items_to_rank': 112}. Best is trial 0 with value: 0.16605658261418485.\n",
      "EvaluatorHoldout: Processed 5961 (100.0%) in 5.10 sec. Users per second: 1170\n"
     ]
    },
    {
     "name": "stderr",
     "output_type": "stream",
     "text": [
      "Best trial: 0. Best value: 0.166057:  86%|████████▌ | 43/50 [03:39<00:36,  5.17s/it]"
     ]
    },
    {
     "name": "stdout",
     "output_type": "stream",
     "text": [
      "[I 2023-07-31 04:26:34,595] Trial 42 finished with value: 0.16605658261418485 and parameters: {'n_items_to_rank': 69}. Best is trial 0 with value: 0.16605658261418485.\n",
      "EvaluatorHoldout: Processed 5961 (100.0%) in 5.08 sec. Users per second: 1174\n"
     ]
    },
    {
     "name": "stderr",
     "output_type": "stream",
     "text": [
      "Best trial: 0. Best value: 0.166057:  88%|████████▊ | 44/50 [03:44<00:30,  5.15s/it]"
     ]
    },
    {
     "name": "stdout",
     "output_type": "stream",
     "text": [
      "[I 2023-07-31 04:26:39,702] Trial 43 finished with value: 0.16605658261418485 and parameters: {'n_items_to_rank': 317}. Best is trial 0 with value: 0.16605658261418485.\n",
      "EvaluatorHoldout: Processed 5961 (100.0%) in 5.10 sec. Users per second: 1169\n"
     ]
    },
    {
     "name": "stderr",
     "output_type": "stream",
     "text": [
      "Best trial: 0. Best value: 0.166057:  90%|█████████ | 45/50 [03:49<00:25,  5.14s/it]"
     ]
    },
    {
     "name": "stdout",
     "output_type": "stream",
     "text": [
      "[I 2023-07-31 04:26:44,828] Trial 44 finished with value: 0.16605658261418485 and parameters: {'n_items_to_rank': 318}. Best is trial 0 with value: 0.16605658261418485.\n",
      "EvaluatorHoldout: Processed 5961 (100.0%) in 5.24 sec. Users per second: 1138\n"
     ]
    },
    {
     "name": "stderr",
     "output_type": "stream",
     "text": [
      "Best trial: 0. Best value: 0.166057:  92%|█████████▏| 46/50 [03:54<00:20,  5.18s/it]"
     ]
    },
    {
     "name": "stdout",
     "output_type": "stream",
     "text": [
      "[I 2023-07-31 04:26:50,097] Trial 45 finished with value: 0.16605658261418485 and parameters: {'n_items_to_rank': 348}. Best is trial 0 with value: 0.16605658261418485.\n",
      "EvaluatorHoldout: Processed 5961 (100.0%) in 5.11 sec. Users per second: 1166\n"
     ]
    },
    {
     "name": "stderr",
     "output_type": "stream",
     "text": [
      "Best trial: 0. Best value: 0.166057:  94%|█████████▍| 47/50 [03:59<00:15,  5.17s/it]"
     ]
    },
    {
     "name": "stdout",
     "output_type": "stream",
     "text": [
      "[I 2023-07-31 04:26:55,237] Trial 46 finished with value: 0.16605658261418485 and parameters: {'n_items_to_rank': 148}. Best is trial 0 with value: 0.16605658261418485.\n",
      "EvaluatorHoldout: Processed 5961 (100.0%) in 5.08 sec. Users per second: 1174\n"
     ]
    },
    {
     "name": "stderr",
     "output_type": "stream",
     "text": [
      "Best trial: 0. Best value: 0.166057:  96%|█████████▌| 48/50 [04:04<00:10,  5.15s/it]"
     ]
    },
    {
     "name": "stdout",
     "output_type": "stream",
     "text": [
      "[I 2023-07-31 04:27:00,344] Trial 47 finished with value: 0.16605658261418485 and parameters: {'n_items_to_rank': 218}. Best is trial 0 with value: 0.16605658261418485.\n",
      "EvaluatorHoldout: Processed 5961 (100.0%) in 5.10 sec. Users per second: 1169\n"
     ]
    },
    {
     "name": "stderr",
     "output_type": "stream",
     "text": [
      "Best trial: 0. Best value: 0.166057:  98%|█████████▊| 49/50 [04:09<00:05,  5.14s/it]"
     ]
    },
    {
     "name": "stdout",
     "output_type": "stream",
     "text": [
      "[I 2023-07-31 04:27:05,474] Trial 48 finished with value: 0.16605658261418485 and parameters: {'n_items_to_rank': 206}. Best is trial 0 with value: 0.16605658261418485.\n",
      "EvaluatorHoldout: Processed 5961 (100.0%) in 5.07 sec. Users per second: 1176\n"
     ]
    },
    {
     "name": "stderr",
     "output_type": "stream",
     "text": [
      "Best trial: 0. Best value: 0.166057: 100%|██████████| 50/50 [04:15<00:00,  5.10s/it]"
     ]
    },
    {
     "name": "stdout",
     "output_type": "stream",
     "text": [
      "[I 2023-07-31 04:27:10,576] Trial 49 finished with value: 0.16605658261418485 and parameters: {'n_items_to_rank': 177}. Best is trial 0 with value: 0.16605658261418485.\n",
      "Recommender_Base_Class: URM Detected 194 ( 5.0%) items with no interactions.\n"
     ]
    },
    {
     "name": "stderr",
     "output_type": "stream",
     "text": [
      "\n"
     ]
    },
    {
     "name": "stdout",
     "output_type": "stream",
     "text": [
      "EvaluatorHoldout: Processed 5976 (100.0%) in 5.33 sec. Users per second: 1120\n"
     ]
    },
    {
     "name": "stderr",
     "output_type": "stream",
     "text": [
      "[I 2023-07-31 04:27:59,672] A new study created in memory with name: no-name-a6f891df-bb51-4eea-8df7-b335ac524d66\n",
      "  0%|          | 0/50 [00:00<?, ?it/s]"
     ]
    },
    {
     "name": "stdout",
     "output_type": "stream",
     "text": [
      "IALSRecommender\n",
      "DiffusionAutoencoderRecommender_IALSRecommender_TwoLevelRec\n",
      "EvaluatorHoldout: Processed 5961 (100.0%) in 3.84 sec. Users per second: 1552\n"
     ]
    },
    {
     "name": "stderr",
     "output_type": "stream",
     "text": [
      "Best trial: 0. Best value: 0.173472:   2%|▏         | 1/50 [00:03<03:09,  3.86s/it]"
     ]
    },
    {
     "name": "stdout",
     "output_type": "stream",
     "text": [
      "[I 2023-07-31 04:28:03,529] Trial 0 finished with value: 0.17347210282424985 and parameters: {'n_items_to_rank': 316}. Best is trial 0 with value: 0.17347210282424985.\n",
      "EvaluatorHoldout: Processed 5961 (100.0%) in 3.77 sec. Users per second: 1580\n"
     ]
    },
    {
     "name": "stderr",
     "output_type": "stream",
     "text": [
      "Best trial: 0. Best value: 0.173472:   4%|▍         | 2/50 [00:07<03:03,  3.82s/it]"
     ]
    },
    {
     "name": "stdout",
     "output_type": "stream",
     "text": [
      "[I 2023-07-31 04:28:07,318] Trial 1 finished with value: 0.17347210282424985 and parameters: {'n_items_to_rank': 336}. Best is trial 0 with value: 0.17347210282424985.\n",
      "EvaluatorHoldout: Processed 5961 (100.0%) in 3.77 sec. Users per second: 1581\n"
     ]
    },
    {
     "name": "stderr",
     "output_type": "stream",
     "text": [
      "Best trial: 0. Best value: 0.173472:   6%|▌         | 3/50 [00:11<02:58,  3.80s/it]"
     ]
    },
    {
     "name": "stdout",
     "output_type": "stream",
     "text": [
      "[I 2023-07-31 04:28:11,105] Trial 2 finished with value: 0.17347210282424985 and parameters: {'n_items_to_rank': 337}. Best is trial 0 with value: 0.17347210282424985.\n",
      "EvaluatorHoldout: Processed 5961 (100.0%) in 3.77 sec. Users per second: 1580\n"
     ]
    },
    {
     "name": "stderr",
     "output_type": "stream",
     "text": [
      "Best trial: 0. Best value: 0.173472:   8%|▊         | 4/50 [00:15<02:54,  3.80s/it]"
     ]
    },
    {
     "name": "stdout",
     "output_type": "stream",
     "text": [
      "[I 2023-07-31 04:28:14,897] Trial 3 finished with value: 0.17347210282424985 and parameters: {'n_items_to_rank': 141}. Best is trial 0 with value: 0.17347210282424985.\n",
      "EvaluatorHoldout: Processed 5961 (100.0%) in 3.78 sec. Users per second: 1575\n"
     ]
    },
    {
     "name": "stderr",
     "output_type": "stream",
     "text": [
      "Best trial: 0. Best value: 0.173472:  10%|█         | 5/50 [00:19<02:51,  3.80s/it]"
     ]
    },
    {
     "name": "stdout",
     "output_type": "stream",
     "text": [
      "[I 2023-07-31 04:28:18,701] Trial 4 finished with value: 0.17347210282424985 and parameters: {'n_items_to_rank': 247}. Best is trial 0 with value: 0.17347210282424985.\n",
      "EvaluatorHoldout: Processed 5961 (100.0%) in 3.79 sec. Users per second: 1572\n"
     ]
    },
    {
     "name": "stderr",
     "output_type": "stream",
     "text": [
      "Best trial: 0. Best value: 0.173472:  12%|█▏        | 6/50 [00:22<02:47,  3.80s/it]"
     ]
    },
    {
     "name": "stdout",
     "output_type": "stream",
     "text": [
      "[I 2023-07-31 04:28:22,514] Trial 5 finished with value: 0.17347210282424985 and parameters: {'n_items_to_rank': 166}. Best is trial 0 with value: 0.17347210282424985.\n",
      "EvaluatorHoldout: Processed 5961 (100.0%) in 3.78 sec. Users per second: 1577\n"
     ]
    },
    {
     "name": "stderr",
     "output_type": "stream",
     "text": [
      "Best trial: 0. Best value: 0.173472:  14%|█▍        | 7/50 [00:26<02:43,  3.80s/it]"
     ]
    },
    {
     "name": "stdout",
     "output_type": "stream",
     "text": [
      "[I 2023-07-31 04:28:26,312] Trial 6 finished with value: 0.17347210282424985 and parameters: {'n_items_to_rank': 252}. Best is trial 0 with value: 0.17347210282424985.\n",
      "EvaluatorHoldout: Processed 5961 (100.0%) in 3.78 sec. Users per second: 1578\n"
     ]
    },
    {
     "name": "stderr",
     "output_type": "stream",
     "text": [
      "Best trial: 0. Best value: 0.173472:  16%|█▌        | 8/50 [00:30<02:39,  3.80s/it]"
     ]
    },
    {
     "name": "stdout",
     "output_type": "stream",
     "text": [
      "[I 2023-07-31 04:28:30,108] Trial 7 finished with value: 0.17347210282424985 and parameters: {'n_items_to_rank': 130}. Best is trial 0 with value: 0.17347210282424985.\n",
      "EvaluatorHoldout: Processed 5961 (100.0%) in 3.77 sec. Users per second: 1582\n"
     ]
    },
    {
     "name": "stderr",
     "output_type": "stream",
     "text": [
      "Best trial: 0. Best value: 0.173472:  18%|█▊        | 9/50 [00:34<02:35,  3.80s/it]"
     ]
    },
    {
     "name": "stdout",
     "output_type": "stream",
     "text": [
      "[I 2023-07-31 04:28:33,895] Trial 8 finished with value: 0.17347210282424985 and parameters: {'n_items_to_rank': 285}. Best is trial 0 with value: 0.17347210282424985.\n",
      "EvaluatorHoldout: Processed 5961 (100.0%) in 3.76 sec. Users per second: 1584\n"
     ]
    },
    {
     "name": "stderr",
     "output_type": "stream",
     "text": [
      "Best trial: 0. Best value: 0.173472:  20%|██        | 10/50 [00:38<02:31,  3.79s/it]"
     ]
    },
    {
     "name": "stdout",
     "output_type": "stream",
     "text": [
      "[I 2023-07-31 04:28:37,680] Trial 9 finished with value: 0.17347210282424985 and parameters: {'n_items_to_rank': 266}. Best is trial 0 with value: 0.17347210282424985.\n",
      "EvaluatorHoldout: Processed 5961 (100.0%) in 3.80 sec. Users per second: 1569\n"
     ]
    },
    {
     "name": "stderr",
     "output_type": "stream",
     "text": [
      "Best trial: 0. Best value: 0.173472:  22%|██▏       | 11/50 [00:41<02:28,  3.80s/it]"
     ]
    },
    {
     "name": "stdout",
     "output_type": "stream",
     "text": [
      "[I 2023-07-31 04:28:41,500] Trial 10 finished with value: 0.17347210282424985 and parameters: {'n_items_to_rank': 147}. Best is trial 0 with value: 0.17347210282424985.\n",
      "EvaluatorHoldout: Processed 5961 (100.0%) in 3.77 sec. Users per second: 1581\n"
     ]
    },
    {
     "name": "stderr",
     "output_type": "stream",
     "text": [
      "Best trial: 0. Best value: 0.173472:  24%|██▍       | 12/50 [00:45<02:24,  3.80s/it]"
     ]
    },
    {
     "name": "stdout",
     "output_type": "stream",
     "text": [
      "[I 2023-07-31 04:28:45,291] Trial 11 finished with value: 0.17347210282424985 and parameters: {'n_items_to_rank': 167}. Best is trial 0 with value: 0.17347210282424985.\n",
      "EvaluatorHoldout: Processed 5961 (100.0%) in 3.77 sec. Users per second: 1579\n"
     ]
    },
    {
     "name": "stderr",
     "output_type": "stream",
     "text": [
      "Best trial: 0. Best value: 0.173472:  26%|██▌       | 13/50 [00:49<02:20,  3.80s/it]"
     ]
    },
    {
     "name": "stdout",
     "output_type": "stream",
     "text": [
      "[I 2023-07-31 04:28:49,088] Trial 12 finished with value: 0.17347210282424985 and parameters: {'n_items_to_rank': 316}. Best is trial 0 with value: 0.17347210282424985.\n",
      "EvaluatorHoldout: Processed 5961 (100.0%) in 3.79 sec. Users per second: 1574\n"
     ]
    },
    {
     "name": "stderr",
     "output_type": "stream",
     "text": [
      "Best trial: 0. Best value: 0.173472:  28%|██▊       | 14/50 [00:53<02:17,  3.83s/it]"
     ]
    },
    {
     "name": "stdout",
     "output_type": "stream",
     "text": [
      "[I 2023-07-31 04:28:52,994] Trial 13 finished with value: 0.17347210282424985 and parameters: {'n_items_to_rank': 240}. Best is trial 0 with value: 0.17347210282424985.\n",
      "EvaluatorHoldout: Processed 5961 (100.0%) in 3.77 sec. Users per second: 1580\n"
     ]
    },
    {
     "name": "stderr",
     "output_type": "stream",
     "text": [
      "Best trial: 0. Best value: 0.173472:  30%|███       | 15/50 [00:57<02:13,  3.82s/it]"
     ]
    },
    {
     "name": "stdout",
     "output_type": "stream",
     "text": [
      "[I 2023-07-31 04:28:56,788] Trial 14 finished with value: 0.17347210282424985 and parameters: {'n_items_to_rank': 55}. Best is trial 0 with value: 0.17347210282424985.\n",
      "EvaluatorHoldout: Processed 5961 (100.0%) in 3.78 sec. Users per second: 1576\n"
     ]
    },
    {
     "name": "stderr",
     "output_type": "stream",
     "text": [
      "Best trial: 0. Best value: 0.173472:  32%|███▏      | 16/50 [01:00<02:09,  3.82s/it]"
     ]
    },
    {
     "name": "stdout",
     "output_type": "stream",
     "text": [
      "[I 2023-07-31 04:29:00,593] Trial 15 finished with value: 0.17347210282424985 and parameters: {'n_items_to_rank': 94}. Best is trial 0 with value: 0.17347210282424985.\n",
      "EvaluatorHoldout: Processed 5961 (100.0%) in 3.81 sec. Users per second: 1564\n"
     ]
    },
    {
     "name": "stderr",
     "output_type": "stream",
     "text": [
      "Best trial: 0. Best value: 0.173472:  34%|███▍      | 17/50 [01:04<02:06,  3.82s/it]"
     ]
    },
    {
     "name": "stdout",
     "output_type": "stream",
     "text": [
      "[I 2023-07-31 04:29:04,429] Trial 16 finished with value: 0.17347210282424985 and parameters: {'n_items_to_rank': 336}. Best is trial 0 with value: 0.17347210282424985.\n",
      "EvaluatorHoldout: Processed 5961 (100.0%) in 3.77 sec. Users per second: 1580\n"
     ]
    },
    {
     "name": "stderr",
     "output_type": "stream",
     "text": [
      "Best trial: 0. Best value: 0.173472:  36%|███▌      | 18/50 [01:08<02:02,  3.81s/it]"
     ]
    },
    {
     "name": "stdout",
     "output_type": "stream",
     "text": [
      "[I 2023-07-31 04:29:08,225] Trial 17 finished with value: 0.17347210282424985 and parameters: {'n_items_to_rank': 336}. Best is trial 0 with value: 0.17347210282424985.\n",
      "EvaluatorHoldout: Processed 5961 (100.0%) in 3.78 sec. Users per second: 1579\n"
     ]
    },
    {
     "name": "stderr",
     "output_type": "stream",
     "text": [
      "Best trial: 0. Best value: 0.173472:  38%|███▊      | 19/50 [01:12<01:58,  3.81s/it]"
     ]
    },
    {
     "name": "stdout",
     "output_type": "stream",
     "text": [
      "[I 2023-07-31 04:29:12,026] Trial 18 finished with value: 0.17347210282424985 and parameters: {'n_items_to_rank': 170}. Best is trial 0 with value: 0.17347210282424985.\n",
      "EvaluatorHoldout: Processed 5961 (100.0%) in 3.79 sec. Users per second: 1574\n"
     ]
    },
    {
     "name": "stderr",
     "output_type": "stream",
     "text": [
      "Best trial: 0. Best value: 0.173472:  40%|████      | 20/50 [01:16<01:54,  3.81s/it]"
     ]
    },
    {
     "name": "stdout",
     "output_type": "stream",
     "text": [
      "[I 2023-07-31 04:29:15,838] Trial 19 finished with value: 0.17347210282424985 and parameters: {'n_items_to_rank': 104}. Best is trial 0 with value: 0.17347210282424985.\n",
      "EvaluatorHoldout: Processed 5961 (100.0%) in 3.79 sec. Users per second: 1575\n"
     ]
    },
    {
     "name": "stderr",
     "output_type": "stream",
     "text": [
      "Best trial: 0. Best value: 0.173472:  42%|████▏     | 21/50 [01:19<01:50,  3.81s/it]"
     ]
    },
    {
     "name": "stdout",
     "output_type": "stream",
     "text": [
      "[I 2023-07-31 04:29:19,646] Trial 20 finished with value: 0.17347210282424985 and parameters: {'n_items_to_rank': 191}. Best is trial 0 with value: 0.17347210282424985.\n",
      "EvaluatorHoldout: Processed 5961 (100.0%) in 3.78 sec. Users per second: 1579\n"
     ]
    },
    {
     "name": "stderr",
     "output_type": "stream",
     "text": [
      "Best trial: 0. Best value: 0.173472:  44%|████▍     | 22/50 [01:23<01:46,  3.81s/it]"
     ]
    },
    {
     "name": "stdout",
     "output_type": "stream",
     "text": [
      "[I 2023-07-31 04:29:23,446] Trial 21 finished with value: 0.17347210282424985 and parameters: {'n_items_to_rank': 243}. Best is trial 0 with value: 0.17347210282424985.\n",
      "EvaluatorHoldout: Processed 5961 (100.0%) in 3.80 sec. Users per second: 1567\n"
     ]
    },
    {
     "name": "stderr",
     "output_type": "stream",
     "text": [
      "Best trial: 0. Best value: 0.173472:  46%|████▌     | 23/50 [01:27<01:42,  3.81s/it]"
     ]
    },
    {
     "name": "stdout",
     "output_type": "stream",
     "text": [
      "[I 2023-07-31 04:29:27,276] Trial 22 finished with value: 0.17347210282424985 and parameters: {'n_items_to_rank': 261}. Best is trial 0 with value: 0.17347210282424985.\n",
      "EvaluatorHoldout: Processed 5961 (100.0%) in 3.79 sec. Users per second: 1573\n"
     ]
    },
    {
     "name": "stderr",
     "output_type": "stream",
     "text": [
      "Best trial: 0. Best value: 0.173472:  48%|████▊     | 24/50 [01:31<01:39,  3.81s/it]"
     ]
    },
    {
     "name": "stdout",
     "output_type": "stream",
     "text": [
      "[I 2023-07-31 04:29:31,091] Trial 23 finished with value: 0.17347210282424985 and parameters: {'n_items_to_rank': 256}. Best is trial 0 with value: 0.17347210282424985.\n",
      "EvaluatorHoldout: Processed 5961 (100.0%) in 3.78 sec. Users per second: 1576\n"
     ]
    },
    {
     "name": "stderr",
     "output_type": "stream",
     "text": [
      "Best trial: 0. Best value: 0.173472:  50%|█████     | 25/50 [01:35<01:35,  3.81s/it]"
     ]
    },
    {
     "name": "stdout",
     "output_type": "stream",
     "text": [
      "[I 2023-07-31 04:29:34,902] Trial 24 finished with value: 0.17347210282424985 and parameters: {'n_items_to_rank': 324}. Best is trial 0 with value: 0.17347210282424985.\n",
      "EvaluatorHoldout: Processed 5961 (100.0%) in 3.79 sec. Users per second: 1574\n"
     ]
    },
    {
     "name": "stderr",
     "output_type": "stream",
     "text": [
      "Best trial: 0. Best value: 0.173472:  52%|█████▏    | 26/50 [01:39<01:31,  3.81s/it]"
     ]
    },
    {
     "name": "stdout",
     "output_type": "stream",
     "text": [
      "[I 2023-07-31 04:29:38,716] Trial 25 finished with value: 0.17347210282424985 and parameters: {'n_items_to_rank': 122}. Best is trial 0 with value: 0.17347210282424985.\n",
      "EvaluatorHoldout: Processed 5961 (100.0%) in 3.79 sec. Users per second: 1574\n"
     ]
    },
    {
     "name": "stderr",
     "output_type": "stream",
     "text": [
      "Best trial: 0. Best value: 0.173472:  54%|█████▍    | 27/50 [01:42<01:27,  3.81s/it]"
     ]
    },
    {
     "name": "stdout",
     "output_type": "stream",
     "text": [
      "[I 2023-07-31 04:29:42,529] Trial 26 finished with value: 0.17347210282424985 and parameters: {'n_items_to_rank': 111}. Best is trial 0 with value: 0.17347210282424985.\n",
      "EvaluatorHoldout: Processed 5961 (100.0%) in 3.78 sec. Users per second: 1575\n"
     ]
    },
    {
     "name": "stderr",
     "output_type": "stream",
     "text": [
      "Best trial: 0. Best value: 0.173472:  56%|█████▌    | 28/50 [01:46<01:23,  3.81s/it]"
     ]
    },
    {
     "name": "stdout",
     "output_type": "stream",
     "text": [
      "[I 2023-07-31 04:29:46,339] Trial 27 finished with value: 0.17347210282424985 and parameters: {'n_items_to_rank': 264}. Best is trial 0 with value: 0.17347210282424985.\n",
      "EvaluatorHoldout: Processed 5961 (100.0%) in 3.79 sec. Users per second: 1573\n"
     ]
    },
    {
     "name": "stderr",
     "output_type": "stream",
     "text": [
      "Best trial: 0. Best value: 0.173472:  58%|█████▊    | 29/50 [01:50<01:20,  3.81s/it]"
     ]
    },
    {
     "name": "stdout",
     "output_type": "stream",
     "text": [
      "[I 2023-07-31 04:29:50,157] Trial 28 finished with value: 0.17347210282424985 and parameters: {'n_items_to_rank': 334}. Best is trial 0 with value: 0.17347210282424985.\n",
      "EvaluatorHoldout: Processed 5961 (100.0%) in 3.83 sec. Users per second: 1558\n"
     ]
    },
    {
     "name": "stderr",
     "output_type": "stream",
     "text": [
      "Best trial: 0. Best value: 0.173472:  60%|██████    | 30/50 [01:54<01:16,  3.83s/it]"
     ]
    },
    {
     "name": "stdout",
     "output_type": "stream",
     "text": [
      "[I 2023-07-31 04:29:54,013] Trial 29 finished with value: 0.17347210282424985 and parameters: {'n_items_to_rank': 199}. Best is trial 0 with value: 0.17347210282424985.\n",
      "EvaluatorHoldout: Processed 5961 (100.0%) in 3.79 sec. Users per second: 1571\n"
     ]
    },
    {
     "name": "stderr",
     "output_type": "stream",
     "text": [
      "Best trial: 0. Best value: 0.173472:  62%|██████▏   | 31/50 [01:58<01:12,  3.83s/it]"
     ]
    },
    {
     "name": "stdout",
     "output_type": "stream",
     "text": [
      "[I 2023-07-31 04:29:57,836] Trial 30 finished with value: 0.17347210282424985 and parameters: {'n_items_to_rank': 159}. Best is trial 0 with value: 0.17347210282424985.\n",
      "EvaluatorHoldout: Processed 5961 (100.0%) in 3.80 sec. Users per second: 1571\n"
     ]
    },
    {
     "name": "stderr",
     "output_type": "stream",
     "text": [
      "Best trial: 0. Best value: 0.173472:  64%|██████▍   | 32/50 [02:02<01:09,  3.85s/it]"
     ]
    },
    {
     "name": "stdout",
     "output_type": "stream",
     "text": [
      "[I 2023-07-31 04:30:01,757] Trial 31 finished with value: 0.17347210282424985 and parameters: {'n_items_to_rank': 141}. Best is trial 0 with value: 0.17347210282424985.\n",
      "EvaluatorHoldout: Processed 5961 (100.0%) in 3.79 sec. Users per second: 1574\n"
     ]
    },
    {
     "name": "stderr",
     "output_type": "stream",
     "text": [
      "Best trial: 0. Best value: 0.173472:  66%|██████▌   | 33/50 [02:05<01:05,  3.84s/it]"
     ]
    },
    {
     "name": "stdout",
     "output_type": "stream",
     "text": [
      "[I 2023-07-31 04:30:05,572] Trial 32 finished with value: 0.17347210282424985 and parameters: {'n_items_to_rank': 337}. Best is trial 0 with value: 0.17347210282424985.\n",
      "EvaluatorHoldout: Processed 5961 (100.0%) in 3.80 sec. Users per second: 1569\n"
     ]
    },
    {
     "name": "stderr",
     "output_type": "stream",
     "text": [
      "Best trial: 0. Best value: 0.173472:  68%|██████▊   | 34/50 [02:09<01:01,  3.84s/it]"
     ]
    },
    {
     "name": "stdout",
     "output_type": "stream",
     "text": [
      "[I 2023-07-31 04:30:09,401] Trial 33 finished with value: 0.17347210282424985 and parameters: {'n_items_to_rank': 202}. Best is trial 0 with value: 0.17347210282424985.\n",
      "EvaluatorHoldout: Processed 5961 (100.0%) in 3.81 sec. Users per second: 1564\n"
     ]
    },
    {
     "name": "stderr",
     "output_type": "stream",
     "text": [
      "Best trial: 0. Best value: 0.173472:  70%|███████   | 35/50 [02:13<00:57,  3.84s/it]"
     ]
    },
    {
     "name": "stdout",
     "output_type": "stream",
     "text": [
      "[I 2023-07-31 04:30:13,242] Trial 34 finished with value: 0.17347210282424985 and parameters: {'n_items_to_rank': 298}. Best is trial 0 with value: 0.17347210282424985.\n",
      "EvaluatorHoldout: Processed 5961 (100.0%) in 3.80 sec. Users per second: 1569\n"
     ]
    },
    {
     "name": "stderr",
     "output_type": "stream",
     "text": [
      "Best trial: 0. Best value: 0.173472:  72%|███████▏  | 36/50 [02:17<00:53,  3.84s/it]"
     ]
    },
    {
     "name": "stdout",
     "output_type": "stream",
     "text": [
      "[I 2023-07-31 04:30:17,075] Trial 35 finished with value: 0.17347210282424985 and parameters: {'n_items_to_rank': 201}. Best is trial 0 with value: 0.17347210282424985.\n",
      "EvaluatorHoldout: Processed 5961 (100.0%) in 3.80 sec. Users per second: 1571\n"
     ]
    },
    {
     "name": "stderr",
     "output_type": "stream",
     "text": [
      "Best trial: 0. Best value: 0.173472:  74%|███████▍  | 37/50 [02:21<00:49,  3.84s/it]"
     ]
    },
    {
     "name": "stdout",
     "output_type": "stream",
     "text": [
      "[I 2023-07-31 04:30:20,910] Trial 36 finished with value: 0.17347210282424985 and parameters: {'n_items_to_rank': 185}. Best is trial 0 with value: 0.17347210282424985.\n",
      "EvaluatorHoldout: Processed 5961 (100.0%) in 3.79 sec. Users per second: 1573\n"
     ]
    },
    {
     "name": "stderr",
     "output_type": "stream",
     "text": [
      "Best trial: 0. Best value: 0.173472:  76%|███████▌  | 38/50 [02:25<00:45,  3.83s/it]"
     ]
    },
    {
     "name": "stdout",
     "output_type": "stream",
     "text": [
      "[I 2023-07-31 04:30:24,730] Trial 37 finished with value: 0.17347210282424985 and parameters: {'n_items_to_rank': 60}. Best is trial 0 with value: 0.17347210282424985.\n",
      "EvaluatorHoldout: Processed 5961 (100.0%) in 3.77 sec. Users per second: 1583\n"
     ]
    },
    {
     "name": "stderr",
     "output_type": "stream",
     "text": [
      "Best trial: 0. Best value: 0.173472:  78%|███████▊  | 39/50 [02:28<00:42,  3.82s/it]"
     ]
    },
    {
     "name": "stdout",
     "output_type": "stream",
     "text": [
      "[I 2023-07-31 04:30:28,527] Trial 38 finished with value: 0.17347210282424985 and parameters: {'n_items_to_rank': 330}. Best is trial 0 with value: 0.17347210282424985.\n",
      "EvaluatorHoldout: Processed 5961 (100.0%) in 3.76 sec. Users per second: 1585\n"
     ]
    },
    {
     "name": "stderr",
     "output_type": "stream",
     "text": [
      "Best trial: 0. Best value: 0.173472:  80%|████████  | 40/50 [02:32<00:38,  3.81s/it]"
     ]
    },
    {
     "name": "stdout",
     "output_type": "stream",
     "text": [
      "[I 2023-07-31 04:30:32,319] Trial 39 finished with value: 0.17347210282424985 and parameters: {'n_items_to_rank': 186}. Best is trial 0 with value: 0.17347210282424985.\n",
      "EvaluatorHoldout: Processed 5961 (100.0%) in 3.76 sec. Users per second: 1585\n"
     ]
    },
    {
     "name": "stderr",
     "output_type": "stream",
     "text": [
      "Best trial: 0. Best value: 0.173472:  82%|████████▏ | 41/50 [02:36<00:34,  3.81s/it]"
     ]
    },
    {
     "name": "stdout",
     "output_type": "stream",
     "text": [
      "[I 2023-07-31 04:30:36,113] Trial 40 finished with value: 0.17347210282424985 and parameters: {'n_items_to_rank': 345}. Best is trial 0 with value: 0.17347210282424985.\n",
      "EvaluatorHoldout: Processed 5961 (100.0%) in 3.76 sec. Users per second: 1584\n"
     ]
    },
    {
     "name": "stderr",
     "output_type": "stream",
     "text": [
      "Best trial: 0. Best value: 0.173472:  84%|████████▍ | 42/50 [02:40<00:30,  3.80s/it]"
     ]
    },
    {
     "name": "stdout",
     "output_type": "stream",
     "text": [
      "[I 2023-07-31 04:30:39,911] Trial 41 finished with value: 0.17347210282424985 and parameters: {'n_items_to_rank': 316}. Best is trial 0 with value: 0.17347210282424985.\n",
      "EvaluatorHoldout: Processed 5961 (100.0%) in 3.76 sec. Users per second: 1584\n"
     ]
    },
    {
     "name": "stderr",
     "output_type": "stream",
     "text": [
      "Best trial: 0. Best value: 0.173472:  86%|████████▌ | 43/50 [02:44<00:26,  3.80s/it]"
     ]
    },
    {
     "name": "stdout",
     "output_type": "stream",
     "text": [
      "[I 2023-07-31 04:30:43,709] Trial 42 finished with value: 0.17347210282424985 and parameters: {'n_items_to_rank': 181}. Best is trial 0 with value: 0.17347210282424985.\n",
      "EvaluatorHoldout: Processed 5961 (100.0%) in 3.76 sec. Users per second: 1583\n"
     ]
    },
    {
     "name": "stderr",
     "output_type": "stream",
     "text": [
      "Best trial: 0. Best value: 0.173472:  88%|████████▊ | 44/50 [02:47<00:22,  3.80s/it]"
     ]
    },
    {
     "name": "stdout",
     "output_type": "stream",
     "text": [
      "[I 2023-07-31 04:30:47,507] Trial 43 finished with value: 0.17347210282424985 and parameters: {'n_items_to_rank': 120}. Best is trial 0 with value: 0.17347210282424985.\n",
      "EvaluatorHoldout: Processed 5961 (100.0%) in 3.76 sec. Users per second: 1583\n"
     ]
    },
    {
     "name": "stderr",
     "output_type": "stream",
     "text": [
      "Best trial: 0. Best value: 0.173472:  90%|█████████ | 45/50 [02:51<00:19,  3.80s/it]"
     ]
    },
    {
     "name": "stdout",
     "output_type": "stream",
     "text": [
      "[I 2023-07-31 04:30:51,305] Trial 44 finished with value: 0.17347210282424985 and parameters: {'n_items_to_rank': 227}. Best is trial 0 with value: 0.17347210282424985.\n",
      "EvaluatorHoldout: Processed 5961 (100.0%) in 3.77 sec. Users per second: 1582\n"
     ]
    },
    {
     "name": "stderr",
     "output_type": "stream",
     "text": [
      "Best trial: 0. Best value: 0.173472:  92%|█████████▏| 46/50 [02:55<00:15,  3.80s/it]"
     ]
    },
    {
     "name": "stdout",
     "output_type": "stream",
     "text": [
      "[I 2023-07-31 04:30:55,106] Trial 45 finished with value: 0.17347210282424985 and parameters: {'n_items_to_rank': 194}. Best is trial 0 with value: 0.17347210282424985.\n",
      "EvaluatorHoldout: Processed 5961 (100.0%) in 3.76 sec. Users per second: 1583\n"
     ]
    },
    {
     "name": "stderr",
     "output_type": "stream",
     "text": [
      "Best trial: 0. Best value: 0.173472:  94%|█████████▍| 47/50 [02:59<00:11,  3.80s/it]"
     ]
    },
    {
     "name": "stdout",
     "output_type": "stream",
     "text": [
      "[I 2023-07-31 04:30:58,907] Trial 46 finished with value: 0.17347210282424985 and parameters: {'n_items_to_rank': 296}. Best is trial 0 with value: 0.17347210282424985.\n",
      "EvaluatorHoldout: Processed 5961 (100.0%) in 3.78 sec. Users per second: 1577\n"
     ]
    },
    {
     "name": "stderr",
     "output_type": "stream",
     "text": [
      "Best trial: 0. Best value: 0.173472:  96%|█████████▌| 48/50 [03:03<00:07,  3.80s/it]"
     ]
    },
    {
     "name": "stdout",
     "output_type": "stream",
     "text": [
      "[I 2023-07-31 04:31:02,722] Trial 47 finished with value: 0.17347210282424985 and parameters: {'n_items_to_rank': 100}. Best is trial 0 with value: 0.17347210282424985.\n",
      "EvaluatorHoldout: Processed 5961 (100.0%) in 3.76 sec. Users per second: 1586\n"
     ]
    },
    {
     "name": "stderr",
     "output_type": "stream",
     "text": [
      "Best trial: 0. Best value: 0.173472:  98%|█████████▊| 49/50 [03:06<00:03,  3.80s/it]"
     ]
    },
    {
     "name": "stdout",
     "output_type": "stream",
     "text": [
      "[I 2023-07-31 04:31:06,516] Trial 48 finished with value: 0.17347210282424985 and parameters: {'n_items_to_rank': 300}. Best is trial 0 with value: 0.17347210282424985.\n",
      "EvaluatorHoldout: Processed 5961 (100.0%) in 3.78 sec. Users per second: 1577\n"
     ]
    },
    {
     "name": "stderr",
     "output_type": "stream",
     "text": [
      "Best trial: 0. Best value: 0.173472: 100%|██████████| 50/50 [03:10<00:00,  3.82s/it]"
     ]
    },
    {
     "name": "stdout",
     "output_type": "stream",
     "text": [
      "[I 2023-07-31 04:31:10,495] Trial 49 finished with value: 0.17347210282424985 and parameters: {'n_items_to_rank': 197}. Best is trial 0 with value: 0.17347210282424985.\n",
      "Recommender_Base_Class: URM Detected 194 ( 5.0%) items with no interactions.\n"
     ]
    },
    {
     "name": "stderr",
     "output_type": "stream",
     "text": [
      "\n"
     ]
    },
    {
     "name": "stdout",
     "output_type": "stream",
     "text": [
      "EvaluatorHoldout: Processed 5976 (100.0%) in 4.08 sec. Users per second: 1465\n",
      "Recommender_Base_Class: URM Detected 211 ( 5.4%) items with no interactions.\n"
     ]
    },
    {
     "name": "stderr",
     "output_type": "stream",
     "text": [
      "[I 2023-07-31 04:32:02,977] A new study created in memory with name: no-name-901f44b5-e24c-4be7-b228-31ce53e3e34b\n",
      "  0%|          | 0/50 [00:00<?, ?it/s]"
     ]
    },
    {
     "name": "stdout",
     "output_type": "stream",
     "text": [
      "SLIMElasticNetRecommender\n",
      "DiffusionAutoencoderRecommender_SLIMElasticNetRecommender_TwoLevelRec\n",
      "EvaluatorHoldout: Processed 5961 (100.0%) in 4.20 sec. Users per second: 1419\n"
     ]
    },
    {
     "name": "stderr",
     "output_type": "stream",
     "text": [
      "Best trial: 0. Best value: 0.223333:   2%|▏         | 1/50 [00:04<03:26,  4.22s/it]"
     ]
    },
    {
     "name": "stdout",
     "output_type": "stream",
     "text": [
      "[I 2023-07-31 04:32:07,195] Trial 0 finished with value: 0.22333303460790666 and parameters: {'n_items_to_rank': 202}. Best is trial 0 with value: 0.22333303460790666.\n",
      "EvaluatorHoldout: Processed 5961 (100.0%) in 4.19 sec. Users per second: 1422\n"
     ]
    },
    {
     "name": "stderr",
     "output_type": "stream",
     "text": [
      "Best trial: 0. Best value: 0.223333:   4%|▍         | 2/50 [00:08<03:22,  4.21s/it]"
     ]
    },
    {
     "name": "stdout",
     "output_type": "stream",
     "text": [
      "[I 2023-07-31 04:32:11,402] Trial 1 finished with value: 0.22333303460790666 and parameters: {'n_items_to_rank': 101}. Best is trial 0 with value: 0.22333303460790666.\n",
      "EvaluatorHoldout: Processed 5961 (100.0%) in 4.21 sec. Users per second: 1416\n"
     ]
    },
    {
     "name": "stderr",
     "output_type": "stream",
     "text": [
      "Best trial: 0. Best value: 0.223333:   6%|▌         | 3/50 [00:12<03:18,  4.22s/it]"
     ]
    },
    {
     "name": "stdout",
     "output_type": "stream",
     "text": [
      "[I 2023-07-31 04:32:15,627] Trial 2 finished with value: 0.22333303460790666 and parameters: {'n_items_to_rank': 225}. Best is trial 0 with value: 0.22333303460790666.\n",
      "EvaluatorHoldout: Processed 5961 (100.0%) in 4.20 sec. Users per second: 1421\n"
     ]
    },
    {
     "name": "stderr",
     "output_type": "stream",
     "text": [
      "Best trial: 0. Best value: 0.223333:   8%|▊         | 4/50 [00:16<03:13,  4.22s/it]"
     ]
    },
    {
     "name": "stdout",
     "output_type": "stream",
     "text": [
      "[I 2023-07-31 04:32:19,839] Trial 3 finished with value: 0.22333303460790666 and parameters: {'n_items_to_rank': 162}. Best is trial 0 with value: 0.22333303460790666.\n",
      "EvaluatorHoldout: Processed 5961 (100.0%) in 4.23 sec. Users per second: 1409\n"
     ]
    },
    {
     "name": "stderr",
     "output_type": "stream",
     "text": [
      "Best trial: 0. Best value: 0.223333:  10%|█         | 5/50 [00:21<03:10,  4.23s/it]"
     ]
    },
    {
     "name": "stdout",
     "output_type": "stream",
     "text": [
      "[I 2023-07-31 04:32:24,083] Trial 4 finished with value: 0.2191392873785093 and parameters: {'n_items_to_rank': 21}. Best is trial 0 with value: 0.22333303460790666.\n",
      "EvaluatorHoldout: Processed 5961 (100.0%) in 4.19 sec. Users per second: 1423\n"
     ]
    },
    {
     "name": "stderr",
     "output_type": "stream",
     "text": [
      "Best trial: 0. Best value: 0.223333:  12%|█▏        | 6/50 [00:25<03:05,  4.22s/it]"
     ]
    },
    {
     "name": "stdout",
     "output_type": "stream",
     "text": [
      "[I 2023-07-31 04:32:28,290] Trial 5 finished with value: 0.22333303460790666 and parameters: {'n_items_to_rank': 153}. Best is trial 0 with value: 0.22333303460790666.\n",
      "EvaluatorHoldout: Processed 5961 (100.0%) in 4.31 sec. Users per second: 1383\n"
     ]
    },
    {
     "name": "stderr",
     "output_type": "stream",
     "text": [
      "Best trial: 0. Best value: 0.223333:  14%|█▍        | 7/50 [00:29<03:02,  4.25s/it]"
     ]
    },
    {
     "name": "stdout",
     "output_type": "stream",
     "text": [
      "[I 2023-07-31 04:32:32,618] Trial 6 finished with value: 0.22333303460790666 and parameters: {'n_items_to_rank': 273}. Best is trial 0 with value: 0.22333303460790666.\n",
      "EvaluatorHoldout: Processed 5961 (100.0%) in 4.21 sec. Users per second: 1416\n"
     ]
    },
    {
     "name": "stderr",
     "output_type": "stream",
     "text": [
      "Best trial: 0. Best value: 0.223333:  16%|█▌        | 8/50 [00:33<02:58,  4.25s/it]"
     ]
    },
    {
     "name": "stdout",
     "output_type": "stream",
     "text": [
      "[I 2023-07-31 04:32:36,847] Trial 7 finished with value: 0.22333303460790666 and parameters: {'n_items_to_rank': 82}. Best is trial 0 with value: 0.22333303460790666.\n",
      "EvaluatorHoldout: Processed 5961 (100.0%) in 4.25 sec. Users per second: 1403\n"
     ]
    },
    {
     "name": "stderr",
     "output_type": "stream",
     "text": [
      "Best trial: 0. Best value: 0.223333:  18%|█▊        | 9/50 [00:38<02:54,  4.25s/it]"
     ]
    },
    {
     "name": "stdout",
     "output_type": "stream",
     "text": [
      "[I 2023-07-31 04:32:41,115] Trial 8 finished with value: 0.22333303460790666 and parameters: {'n_items_to_rank': 124}. Best is trial 0 with value: 0.22333303460790666.\n",
      "EvaluatorHoldout: Processed 5961 (100.0%) in 4.23 sec. Users per second: 1409\n"
     ]
    },
    {
     "name": "stderr",
     "output_type": "stream",
     "text": [
      "Best trial: 0. Best value: 0.223333:  20%|██        | 10/50 [00:42<02:50,  4.25s/it]"
     ]
    },
    {
     "name": "stdout",
     "output_type": "stream",
     "text": [
      "[I 2023-07-31 04:32:45,363] Trial 9 finished with value: 0.22333303460790666 and parameters: {'n_items_to_rank': 260}. Best is trial 0 with value: 0.22333303460790666.\n",
      "EvaluatorHoldout: Processed 5961 (100.0%) in 4.23 sec. Users per second: 1410\n"
     ]
    },
    {
     "name": "stderr",
     "output_type": "stream",
     "text": [
      "Best trial: 0. Best value: 0.223333:  22%|██▏       | 11/50 [00:46<02:45,  4.25s/it]"
     ]
    },
    {
     "name": "stdout",
     "output_type": "stream",
     "text": [
      "[I 2023-07-31 04:32:49,609] Trial 10 finished with value: 0.22333303460790666 and parameters: {'n_items_to_rank': 158}. Best is trial 0 with value: 0.22333303460790666.\n",
      "EvaluatorHoldout: Processed 5961 (100.0%) in 4.25 sec. Users per second: 1404\n"
     ]
    },
    {
     "name": "stderr",
     "output_type": "stream",
     "text": [
      "Best trial: 0. Best value: 0.223333:  24%|██▍       | 12/50 [00:50<02:41,  4.26s/it]"
     ]
    },
    {
     "name": "stdout",
     "output_type": "stream",
     "text": [
      "[I 2023-07-31 04:32:53,877] Trial 11 finished with value: 0.22333303460790666 and parameters: {'n_items_to_rank': 246}. Best is trial 0 with value: 0.22333303460790666.\n",
      "EvaluatorHoldout: Processed 5961 (100.0%) in 4.26 sec. Users per second: 1399\n"
     ]
    },
    {
     "name": "stderr",
     "output_type": "stream",
     "text": [
      "Best trial: 0. Best value: 0.223333:  26%|██▌       | 13/50 [00:55<02:37,  4.26s/it]"
     ]
    },
    {
     "name": "stdout",
     "output_type": "stream",
     "text": [
      "[I 2023-07-31 04:32:58,158] Trial 12 finished with value: 0.22333303460790666 and parameters: {'n_items_to_rank': 101}. Best is trial 0 with value: 0.22333303460790666.\n",
      "EvaluatorHoldout: Processed 5961 (100.0%) in 4.19 sec. Users per second: 1422\n"
     ]
    },
    {
     "name": "stderr",
     "output_type": "stream",
     "text": [
      "Best trial: 0. Best value: 0.223333:  28%|██▊       | 14/50 [00:59<02:32,  4.25s/it]"
     ]
    },
    {
     "name": "stdout",
     "output_type": "stream",
     "text": [
      "[I 2023-07-31 04:33:02,371] Trial 13 finished with value: 0.22277511430638486 and parameters: {'n_items_to_rank': 45}. Best is trial 0 with value: 0.22333303460790666.\n",
      "EvaluatorHoldout: Processed 5961 (100.0%) in 4.44 sec. Users per second: 1343\n"
     ]
    },
    {
     "name": "stderr",
     "output_type": "stream",
     "text": [
      "Best trial: 0. Best value: 0.223333:  30%|███       | 15/50 [01:03<02:30,  4.31s/it]"
     ]
    },
    {
     "name": "stdout",
     "output_type": "stream",
     "text": [
      "[I 2023-07-31 04:33:06,829] Trial 14 finished with value: 0.22333303460790666 and parameters: {'n_items_to_rank': 105}. Best is trial 0 with value: 0.22333303460790666.\n",
      "EvaluatorHoldout: Processed 5961 (100.0%) in 4.21 sec. Users per second: 1416\n"
     ]
    },
    {
     "name": "stderr",
     "output_type": "stream",
     "text": [
      "Best trial: 0. Best value: 0.223333:  32%|███▏      | 16/50 [01:08<02:25,  4.29s/it]"
     ]
    },
    {
     "name": "stdout",
     "output_type": "stream",
     "text": [
      "[I 2023-07-31 04:33:11,059] Trial 15 finished with value: 0.22333303460790666 and parameters: {'n_items_to_rank': 202}. Best is trial 0 with value: 0.22333303460790666.\n",
      "EvaluatorHoldout: Processed 5961 (100.0%) in 4.25 sec. Users per second: 1403\n"
     ]
    },
    {
     "name": "stderr",
     "output_type": "stream",
     "text": [
      "Best trial: 0. Best value: 0.223333:  34%|███▍      | 17/50 [01:12<02:21,  4.28s/it]"
     ]
    },
    {
     "name": "stdout",
     "output_type": "stream",
     "text": [
      "[I 2023-07-31 04:33:15,328] Trial 16 finished with value: 0.22333303460790666 and parameters: {'n_items_to_rank': 201}. Best is trial 0 with value: 0.22333303460790666.\n",
      "EvaluatorHoldout: Processed 5961 (100.0%) in 4.51 sec. Users per second: 1321\n"
     ]
    },
    {
     "name": "stderr",
     "output_type": "stream",
     "text": [
      "Best trial: 0. Best value: 0.223333:  36%|███▌      | 18/50 [01:16<02:19,  4.36s/it]"
     ]
    },
    {
     "name": "stdout",
     "output_type": "stream",
     "text": [
      "[I 2023-07-31 04:33:19,861] Trial 17 finished with value: 0.22112687284890178 and parameters: {'n_items_to_rank': 27}. Best is trial 0 with value: 0.22333303460790666.\n",
      "EvaluatorHoldout: Processed 5961 (100.0%) in 4.20 sec. Users per second: 1419\n"
     ]
    },
    {
     "name": "stderr",
     "output_type": "stream",
     "text": [
      "Best trial: 0. Best value: 0.223333:  38%|███▊      | 19/50 [01:21<02:13,  4.32s/it]"
     ]
    },
    {
     "name": "stdout",
     "output_type": "stream",
     "text": [
      "[I 2023-07-31 04:33:24,083] Trial 18 finished with value: 0.22333303460790666 and parameters: {'n_items_to_rank': 78}. Best is trial 0 with value: 0.22333303460790666.\n",
      "EvaluatorHoldout: Processed 5961 (100.0%) in 4.22 sec. Users per second: 1411\n"
     ]
    },
    {
     "name": "stderr",
     "output_type": "stream",
     "text": [
      "Best trial: 0. Best value: 0.223333:  40%|████      | 20/50 [01:25<02:08,  4.30s/it]"
     ]
    },
    {
     "name": "stdout",
     "output_type": "stream",
     "text": [
      "[I 2023-07-31 04:33:28,330] Trial 19 finished with value: 0.22333303460790666 and parameters: {'n_items_to_rank': 107}. Best is trial 0 with value: 0.22333303460790666.\n",
      "EvaluatorHoldout: Processed 5961 (100.0%) in 4.23 sec. Users per second: 1409\n"
     ]
    },
    {
     "name": "stderr",
     "output_type": "stream",
     "text": [
      "Best trial: 0. Best value: 0.223333:  42%|████▏     | 21/50 [01:29<02:04,  4.28s/it]"
     ]
    },
    {
     "name": "stdout",
     "output_type": "stream",
     "text": [
      "[I 2023-07-31 04:33:32,582] Trial 20 finished with value: 0.22333303460790666 and parameters: {'n_items_to_rank': 103}. Best is trial 0 with value: 0.22333303460790666.\n",
      "EvaluatorHoldout: Processed 5961 (100.0%) in 4.22 sec. Users per second: 1414\n"
     ]
    },
    {
     "name": "stderr",
     "output_type": "stream",
     "text": [
      "Best trial: 0. Best value: 0.223333:  44%|████▍     | 22/50 [01:33<01:59,  4.27s/it]"
     ]
    },
    {
     "name": "stdout",
     "output_type": "stream",
     "text": [
      "[I 2023-07-31 04:33:36,820] Trial 21 finished with value: 0.22333303460790666 and parameters: {'n_items_to_rank': 225}. Best is trial 0 with value: 0.22333303460790666.\n",
      "EvaluatorHoldout: Processed 5961 (100.0%) in 4.22 sec. Users per second: 1412\n"
     ]
    },
    {
     "name": "stderr",
     "output_type": "stream",
     "text": [
      "Best trial: 0. Best value: 0.223333:  46%|████▌     | 23/50 [01:38<01:55,  4.26s/it]"
     ]
    },
    {
     "name": "stdout",
     "output_type": "stream",
     "text": [
      "[I 2023-07-31 04:33:41,064] Trial 22 finished with value: 0.22333303460790666 and parameters: {'n_items_to_rank': 241}. Best is trial 0 with value: 0.22333303460790666.\n",
      "EvaluatorHoldout: Processed 5961 (100.0%) in 4.22 sec. Users per second: 1412\n"
     ]
    },
    {
     "name": "stderr",
     "output_type": "stream",
     "text": [
      "Best trial: 0. Best value: 0.223333:  48%|████▊     | 24/50 [01:42<01:50,  4.26s/it]"
     ]
    },
    {
     "name": "stdout",
     "output_type": "stream",
     "text": [
      "[I 2023-07-31 04:33:45,311] Trial 23 finished with value: 0.22333303460790666 and parameters: {'n_items_to_rank': 141}. Best is trial 0 with value: 0.22333303460790666.\n",
      "EvaluatorHoldout: Processed 5961 (100.0%) in 4.09 sec. Users per second: 1457\n"
     ]
    },
    {
     "name": "stderr",
     "output_type": "stream",
     "text": [
      "Best trial: 0. Best value: 0.223333:  50%|█████     | 25/50 [01:46<01:45,  4.21s/it]"
     ]
    },
    {
     "name": "stdout",
     "output_type": "stream",
     "text": [
      "[I 2023-07-31 04:33:49,424] Trial 24 finished with value: 0.2226832455351601 and parameters: {'n_items_to_rank': 40}. Best is trial 0 with value: 0.22333303460790666.\n",
      "EvaluatorHoldout: Processed 5961 (100.0%) in 4.19 sec. Users per second: 1422\n"
     ]
    },
    {
     "name": "stderr",
     "output_type": "stream",
     "text": [
      "Best trial: 0. Best value: 0.223333:  52%|█████▏    | 26/50 [01:50<01:41,  4.22s/it]"
     ]
    },
    {
     "name": "stdout",
     "output_type": "stream",
     "text": [
      "[I 2023-07-31 04:33:53,642] Trial 25 finished with value: 0.22333303460790666 and parameters: {'n_items_to_rank': 282}. Best is trial 0 with value: 0.22333303460790666.\n",
      "EvaluatorHoldout: Processed 5961 (100.0%) in 4.20 sec. Users per second: 1421\n"
     ]
    },
    {
     "name": "stderr",
     "output_type": "stream",
     "text": [
      "Best trial: 0. Best value: 0.223333:  54%|█████▍    | 27/50 [01:54<01:36,  4.22s/it]"
     ]
    },
    {
     "name": "stdout",
     "output_type": "stream",
     "text": [
      "[I 2023-07-31 04:33:57,861] Trial 26 finished with value: 0.22333303460790666 and parameters: {'n_items_to_rank': 74}. Best is trial 0 with value: 0.22333303460790666.\n",
      "EvaluatorHoldout: Processed 5961 (100.0%) in 4.20 sec. Users per second: 1419\n"
     ]
    },
    {
     "name": "stderr",
     "output_type": "stream",
     "text": [
      "Best trial: 0. Best value: 0.223333:  56%|█████▌    | 28/50 [01:59<01:32,  4.22s/it]"
     ]
    },
    {
     "name": "stdout",
     "output_type": "stream",
     "text": [
      "[I 2023-07-31 04:34:02,088] Trial 27 finished with value: 0.22333303460790666 and parameters: {'n_items_to_rank': 189}. Best is trial 0 with value: 0.22333303460790666.\n",
      "EvaluatorHoldout: Processed 5961 (100.0%) in 4.17 sec. Users per second: 1430\n"
     ]
    },
    {
     "name": "stderr",
     "output_type": "stream",
     "text": [
      "Best trial: 0. Best value: 0.223333:  58%|█████▊    | 29/50 [02:03<01:28,  4.21s/it]"
     ]
    },
    {
     "name": "stdout",
     "output_type": "stream",
     "text": [
      "[I 2023-07-31 04:34:06,283] Trial 28 finished with value: 0.22333303460790666 and parameters: {'n_items_to_rank': 127}. Best is trial 0 with value: 0.22333303460790666.\n",
      "EvaluatorHoldout: Processed 5961 (100.0%) in 4.16 sec. Users per second: 1432\n"
     ]
    },
    {
     "name": "stderr",
     "output_type": "stream",
     "text": [
      "Best trial: 0. Best value: 0.223333:  60%|██████    | 30/50 [02:07<01:24,  4.21s/it]"
     ]
    },
    {
     "name": "stdout",
     "output_type": "stream",
     "text": [
      "[I 2023-07-31 04:34:10,478] Trial 29 finished with value: 0.22333303460790666 and parameters: {'n_items_to_rank': 271}. Best is trial 0 with value: 0.22333303460790666.\n",
      "EvaluatorHoldout: Processed 5961 (100.0%) in 4.16 sec. Users per second: 1433\n"
     ]
    },
    {
     "name": "stderr",
     "output_type": "stream",
     "text": [
      "Best trial: 0. Best value: 0.223333:  62%|██████▏   | 31/50 [02:11<01:19,  4.20s/it]"
     ]
    },
    {
     "name": "stdout",
     "output_type": "stream",
     "text": [
      "[I 2023-07-31 04:34:14,664] Trial 30 finished with value: 0.22333303460790666 and parameters: {'n_items_to_rank': 251}. Best is trial 0 with value: 0.22333303460790666.\n",
      "EvaluatorHoldout: Processed 5961 (100.0%) in 4.17 sec. Users per second: 1430\n"
     ]
    },
    {
     "name": "stderr",
     "output_type": "stream",
     "text": [
      "Best trial: 0. Best value: 0.223333:  64%|██████▍   | 32/50 [02:15<01:15,  4.20s/it]"
     ]
    },
    {
     "name": "stdout",
     "output_type": "stream",
     "text": [
      "[I 2023-07-31 04:34:18,859] Trial 31 finished with value: 0.22333303460790666 and parameters: {'n_items_to_rank': 162}. Best is trial 0 with value: 0.22333303460790666.\n",
      "EvaluatorHoldout: Processed 5961 (100.0%) in 4.16 sec. Users per second: 1433\n"
     ]
    },
    {
     "name": "stderr",
     "output_type": "stream",
     "text": [
      "Best trial: 0. Best value: 0.223333:  66%|██████▌   | 33/50 [02:20<01:11,  4.20s/it]"
     ]
    },
    {
     "name": "stdout",
     "output_type": "stream",
     "text": [
      "[I 2023-07-31 04:34:23,048] Trial 32 finished with value: 0.22333303460790666 and parameters: {'n_items_to_rank': 295}. Best is trial 0 with value: 0.22333303460790666.\n",
      "EvaluatorHoldout: Processed 5961 (100.0%) in 4.17 sec. Users per second: 1431\n"
     ]
    },
    {
     "name": "stderr",
     "output_type": "stream",
     "text": [
      "Best trial: 0. Best value: 0.223333:  68%|██████▊   | 34/50 [02:24<01:07,  4.22s/it]"
     ]
    },
    {
     "name": "stdout",
     "output_type": "stream",
     "text": [
      "[I 2023-07-31 04:34:27,340] Trial 33 finished with value: 0.22333303460790666 and parameters: {'n_items_to_rank': 75}. Best is trial 0 with value: 0.22333303460790666.\n",
      "EvaluatorHoldout: Processed 5961 (100.0%) in 4.16 sec. Users per second: 1434\n"
     ]
    },
    {
     "name": "stderr",
     "output_type": "stream",
     "text": [
      "Best trial: 0. Best value: 0.223333:  70%|███████   | 35/50 [02:28<01:03,  4.21s/it]"
     ]
    },
    {
     "name": "stdout",
     "output_type": "stream",
     "text": [
      "[I 2023-07-31 04:34:31,523] Trial 34 finished with value: 0.22322702163605831 and parameters: {'n_items_to_rank': 49}. Best is trial 0 with value: 0.22333303460790666.\n",
      "EvaluatorHoldout: Processed 5961 (100.0%) in 4.18 sec. Users per second: 1426\n"
     ]
    },
    {
     "name": "stderr",
     "output_type": "stream",
     "text": [
      "Best trial: 0. Best value: 0.223333:  72%|███████▏  | 36/50 [02:32<00:58,  4.21s/it]"
     ]
    },
    {
     "name": "stdout",
     "output_type": "stream",
     "text": [
      "[I 2023-07-31 04:34:35,730] Trial 35 finished with value: 0.22333303460790666 and parameters: {'n_items_to_rank': 63}. Best is trial 0 with value: 0.22333303460790666.\n",
      "EvaluatorHoldout: Processed 5961 (100.0%) in 4.16 sec. Users per second: 1434\n"
     ]
    },
    {
     "name": "stderr",
     "output_type": "stream",
     "text": [
      "Best trial: 0. Best value: 0.223333:  74%|███████▍  | 37/50 [02:36<00:54,  4.20s/it]"
     ]
    },
    {
     "name": "stdout",
     "output_type": "stream",
     "text": [
      "[I 2023-07-31 04:34:39,914] Trial 36 finished with value: 0.22333303460790666 and parameters: {'n_items_to_rank': 150}. Best is trial 0 with value: 0.22333303460790666.\n",
      "EvaluatorHoldout: Processed 5961 (100.0%) in 4.18 sec. Users per second: 1427\n"
     ]
    },
    {
     "name": "stderr",
     "output_type": "stream",
     "text": [
      "Best trial: 0. Best value: 0.223333:  76%|███████▌  | 38/50 [02:41<00:50,  4.20s/it]"
     ]
    },
    {
     "name": "stdout",
     "output_type": "stream",
     "text": [
      "[I 2023-07-31 04:34:44,121] Trial 37 finished with value: 0.22333303460790666 and parameters: {'n_items_to_rank': 288}. Best is trial 0 with value: 0.22333303460790666.\n",
      "EvaluatorHoldout: Processed 5961 (100.0%) in 4.18 sec. Users per second: 1425\n"
     ]
    },
    {
     "name": "stderr",
     "output_type": "stream",
     "text": [
      "Best trial: 0. Best value: 0.223333:  78%|███████▊  | 39/50 [02:45<00:46,  4.21s/it]"
     ]
    },
    {
     "name": "stdout",
     "output_type": "stream",
     "text": [
      "[I 2023-07-31 04:34:48,334] Trial 38 finished with value: 0.22333303460790666 and parameters: {'n_items_to_rank': 296}. Best is trial 0 with value: 0.22333303460790666.\n",
      "EvaluatorHoldout: Processed 5961 (100.0%) in 4.16 sec. Users per second: 1432\n"
     ]
    },
    {
     "name": "stderr",
     "output_type": "stream",
     "text": [
      "Best trial: 0. Best value: 0.223333:  80%|████████  | 40/50 [02:49<00:42,  4.20s/it]"
     ]
    },
    {
     "name": "stdout",
     "output_type": "stream",
     "text": [
      "[I 2023-07-31 04:34:52,527] Trial 39 finished with value: 0.22333303460790666 and parameters: {'n_items_to_rank': 200}. Best is trial 0 with value: 0.22333303460790666.\n",
      "EvaluatorHoldout: Processed 5961 (100.0%) in 4.16 sec. Users per second: 1432\n"
     ]
    },
    {
     "name": "stderr",
     "output_type": "stream",
     "text": [
      "Best trial: 0. Best value: 0.223333:  82%|████████▏ | 41/50 [02:53<00:37,  4.20s/it]"
     ]
    },
    {
     "name": "stdout",
     "output_type": "stream",
     "text": [
      "[I 2023-07-31 04:34:56,719] Trial 40 finished with value: 0.22333303460790666 and parameters: {'n_items_to_rank': 91}. Best is trial 0 with value: 0.22333303460790666.\n",
      "EvaluatorHoldout: Processed 5961 (100.0%) in 4.16 sec. Users per second: 1434\n"
     ]
    },
    {
     "name": "stderr",
     "output_type": "stream",
     "text": [
      "Best trial: 0. Best value: 0.223333:  84%|████████▍ | 42/50 [02:57<00:33,  4.20s/it]"
     ]
    },
    {
     "name": "stdout",
     "output_type": "stream",
     "text": [
      "[I 2023-07-31 04:35:00,905] Trial 41 finished with value: 0.22333303460790666 and parameters: {'n_items_to_rank': 245}. Best is trial 0 with value: 0.22333303460790666.\n",
      "EvaluatorHoldout: Processed 5961 (100.0%) in 4.15 sec. Users per second: 1435\n"
     ]
    },
    {
     "name": "stderr",
     "output_type": "stream",
     "text": [
      "Best trial: 0. Best value: 0.223333:  86%|████████▌ | 43/50 [03:02<00:29,  4.19s/it]"
     ]
    },
    {
     "name": "stdout",
     "output_type": "stream",
     "text": [
      "[I 2023-07-31 04:35:05,090] Trial 42 finished with value: 0.22333303460790666 and parameters: {'n_items_to_rank': 302}. Best is trial 0 with value: 0.22333303460790666.\n",
      "EvaluatorHoldout: Processed 5961 (100.0%) in 4.17 sec. Users per second: 1431\n"
     ]
    },
    {
     "name": "stderr",
     "output_type": "stream",
     "text": [
      "Best trial: 0. Best value: 0.223333:  88%|████████▊ | 44/50 [03:06<00:25,  4.19s/it]"
     ]
    },
    {
     "name": "stdout",
     "output_type": "stream",
     "text": [
      "[I 2023-07-31 04:35:09,289] Trial 43 finished with value: 0.22333303460790666 and parameters: {'n_items_to_rank': 153}. Best is trial 0 with value: 0.22333303460790666.\n",
      "EvaluatorHoldout: Processed 5961 (100.0%) in 4.16 sec. Users per second: 1433\n"
     ]
    },
    {
     "name": "stderr",
     "output_type": "stream",
     "text": [
      "Best trial: 0. Best value: 0.223333:  90%|█████████ | 45/50 [03:10<00:20,  4.19s/it]"
     ]
    },
    {
     "name": "stdout",
     "output_type": "stream",
     "text": [
      "[I 2023-07-31 04:35:13,480] Trial 44 finished with value: 0.22333303460790666 and parameters: {'n_items_to_rank': 199}. Best is trial 0 with value: 0.22333303460790666.\n",
      "EvaluatorHoldout: Processed 5961 (100.0%) in 4.16 sec. Users per second: 1433\n"
     ]
    },
    {
     "name": "stderr",
     "output_type": "stream",
     "text": [
      "Best trial: 0. Best value: 0.223333:  92%|█████████▏| 46/50 [03:14<00:16,  4.19s/it]"
     ]
    },
    {
     "name": "stdout",
     "output_type": "stream",
     "text": [
      "[I 2023-07-31 04:35:17,673] Trial 45 finished with value: 0.22333303460790666 and parameters: {'n_items_to_rank': 274}. Best is trial 0 with value: 0.22333303460790666.\n",
      "EvaluatorHoldout: Processed 5961 (100.0%) in 4.02 sec. Users per second: 1483\n"
     ]
    },
    {
     "name": "stderr",
     "output_type": "stream",
     "text": [
      "Best trial: 0. Best value: 0.223333:  94%|█████████▍| 47/50 [03:18<00:12,  4.15s/it]"
     ]
    },
    {
     "name": "stdout",
     "output_type": "stream",
     "text": [
      "[I 2023-07-31 04:35:21,723] Trial 46 finished with value: 0.22231390713490617 and parameters: {'n_items_to_rank': 35}. Best is trial 0 with value: 0.22333303460790666.\n",
      "EvaluatorHoldout: Processed 5961 (100.0%) in 4.16 sec. Users per second: 1433\n"
     ]
    },
    {
     "name": "stderr",
     "output_type": "stream",
     "text": [
      "Best trial: 0. Best value: 0.223333:  96%|█████████▌| 48/50 [03:22<00:08,  4.16s/it]"
     ]
    },
    {
     "name": "stdout",
     "output_type": "stream",
     "text": [
      "[I 2023-07-31 04:35:25,915] Trial 47 finished with value: 0.22333303460790666 and parameters: {'n_items_to_rank': 202}. Best is trial 0 with value: 0.22333303460790666.\n",
      "EvaluatorHoldout: Processed 5961 (100.0%) in 4.15 sec. Users per second: 1436\n"
     ]
    },
    {
     "name": "stderr",
     "output_type": "stream",
     "text": [
      "Best trial: 0. Best value: 0.223333:  98%|█████████▊| 49/50 [03:27<00:04,  4.17s/it]"
     ]
    },
    {
     "name": "stdout",
     "output_type": "stream",
     "text": [
      "[I 2023-07-31 04:35:30,101] Trial 48 finished with value: 0.22333303460790666 and parameters: {'n_items_to_rank': 242}. Best is trial 0 with value: 0.22333303460790666.\n",
      "EvaluatorHoldout: Processed 5961 (100.0%) in 4.16 sec. Users per second: 1434\n"
     ]
    },
    {
     "name": "stderr",
     "output_type": "stream",
     "text": [
      "Best trial: 0. Best value: 0.223333: 100%|██████████| 50/50 [03:31<00:00,  4.23s/it]"
     ]
    },
    {
     "name": "stdout",
     "output_type": "stream",
     "text": [
      "[I 2023-07-31 04:35:34,291] Trial 49 finished with value: 0.22333303460790666 and parameters: {'n_items_to_rank': 279}. Best is trial 0 with value: 0.22333303460790666.\n",
      "Recommender_Base_Class: URM Detected 194 ( 5.0%) items with no interactions.\n"
     ]
    },
    {
     "name": "stderr",
     "output_type": "stream",
     "text": [
      "\n"
     ]
    },
    {
     "name": "stdout",
     "output_type": "stream",
     "text": [
      "EvaluatorHoldout: Processed 5976 (100.0%) in 3.80 sec. Users per second: 1572\n"
     ]
    },
    {
     "name": "stderr",
     "output_type": "stream",
     "text": [
      "[I 2023-07-31 04:35:43,288] A new study created in memory with name: no-name-b14ede10-8c4d-4542-ae38-76dab8b1ae81\n",
      "  0%|          | 0/50 [00:00<?, ?it/s]"
     ]
    },
    {
     "name": "stdout",
     "output_type": "stream",
     "text": [
      "ItemKNNCFRecommender\n",
      "DiffusionAutoencoderRecommender_ItemKNNCFRecommender_TwoLevelRec\n",
      "EvaluatorHoldout: Processed 5961 (100.0%) in 5.46 sec. Users per second: 1092\n"
     ]
    },
    {
     "name": "stderr",
     "output_type": "stream",
     "text": [
      "Best trial: 0. Best value: 0.193377:   2%|▏         | 1/50 [00:05<04:28,  5.48s/it]"
     ]
    },
    {
     "name": "stdout",
     "output_type": "stream",
     "text": [
      "[I 2023-07-31 04:35:48,765] Trial 0 finished with value: 0.19337714954735513 and parameters: {'n_items_to_rank': 102}. Best is trial 0 with value: 0.19337714954735513.\n",
      "EvaluatorHoldout: Processed 5961 (100.0%) in 5.24 sec. Users per second: 1138\n"
     ]
    },
    {
     "name": "stderr",
     "output_type": "stream",
     "text": [
      "Best trial: 0. Best value: 0.193377:   4%|▍         | 2/50 [00:10<04:16,  5.35s/it]"
     ]
    },
    {
     "name": "stdout",
     "output_type": "stream",
     "text": [
      "[I 2023-07-31 04:35:54,021] Trial 1 finished with value: 0.19337714954735513 and parameters: {'n_items_to_rank': 132}. Best is trial 0 with value: 0.19337714954735513.\n",
      "EvaluatorHoldout: Processed 5961 (100.0%) in 5.18 sec. Users per second: 1151\n"
     ]
    },
    {
     "name": "stderr",
     "output_type": "stream",
     "text": [
      "Best trial: 0. Best value: 0.193377:   6%|▌         | 3/50 [00:15<04:08,  5.28s/it]"
     ]
    },
    {
     "name": "stdout",
     "output_type": "stream",
     "text": [
      "[I 2023-07-31 04:35:59,218] Trial 2 finished with value: 0.19337714954735513 and parameters: {'n_items_to_rank': 91}. Best is trial 0 with value: 0.19337714954735513.\n",
      "EvaluatorHoldout: Processed 5961 (100.0%) in 5.18 sec. Users per second: 1151\n"
     ]
    },
    {
     "name": "stderr",
     "output_type": "stream",
     "text": [
      "Best trial: 0. Best value: 0.193377:   8%|▊         | 4/50 [00:21<04:01,  5.24s/it]"
     ]
    },
    {
     "name": "stdout",
     "output_type": "stream",
     "text": [
      "[I 2023-07-31 04:36:04,411] Trial 3 finished with value: 0.19337714954735513 and parameters: {'n_items_to_rank': 151}. Best is trial 0 with value: 0.19337714954735513.\n",
      "EvaluatorHoldout: Processed 5961 (100.0%) in 5.14 sec. Users per second: 1159\n"
     ]
    },
    {
     "name": "stderr",
     "output_type": "stream",
     "text": [
      "Best trial: 0. Best value: 0.193377:  10%|█         | 5/50 [00:26<03:54,  5.21s/it]"
     ]
    },
    {
     "name": "stdout",
     "output_type": "stream",
     "text": [
      "[I 2023-07-31 04:36:09,571] Trial 4 finished with value: 0.19337714954735513 and parameters: {'n_items_to_rank': 266}. Best is trial 0 with value: 0.19337714954735513.\n",
      "EvaluatorHoldout: Processed 5961 (100.0%) in 5.17 sec. Users per second: 1153\n"
     ]
    },
    {
     "name": "stderr",
     "output_type": "stream",
     "text": [
      "Best trial: 0. Best value: 0.193377:  12%|█▏        | 6/50 [00:31<03:49,  5.21s/it]"
     ]
    },
    {
     "name": "stdout",
     "output_type": "stream",
     "text": [
      "[I 2023-07-31 04:36:14,759] Trial 5 finished with value: 0.19337714954735513 and parameters: {'n_items_to_rank': 155}. Best is trial 0 with value: 0.19337714954735513.\n",
      "EvaluatorHoldout: Processed 5961 (100.0%) in 5.16 sec. Users per second: 1155\n"
     ]
    },
    {
     "name": "stderr",
     "output_type": "stream",
     "text": [
      "Best trial: 0. Best value: 0.193377:  14%|█▍        | 7/50 [00:36<03:43,  5.20s/it]"
     ]
    },
    {
     "name": "stdout",
     "output_type": "stream",
     "text": [
      "[I 2023-07-31 04:36:19,938] Trial 6 finished with value: 0.19337714954735513 and parameters: {'n_items_to_rank': 180}. Best is trial 0 with value: 0.19337714954735513.\n",
      "EvaluatorHoldout: Processed 5961 (100.0%) in 5.15 sec. Users per second: 1156\n"
     ]
    },
    {
     "name": "stderr",
     "output_type": "stream",
     "text": [
      "Best trial: 0. Best value: 0.193377:  16%|█▌        | 8/50 [00:41<03:37,  5.19s/it]"
     ]
    },
    {
     "name": "stdout",
     "output_type": "stream",
     "text": [
      "[I 2023-07-31 04:36:25,111] Trial 7 finished with value: 0.19337714954735513 and parameters: {'n_items_to_rank': 98}. Best is trial 0 with value: 0.19337714954735513.\n",
      "EvaluatorHoldout: Processed 5961 (100.0%) in 5.17 sec. Users per second: 1152\n"
     ]
    },
    {
     "name": "stderr",
     "output_type": "stream",
     "text": [
      "Best trial: 0. Best value: 0.193377:  18%|█▊        | 9/50 [00:47<03:32,  5.19s/it]"
     ]
    },
    {
     "name": "stdout",
     "output_type": "stream",
     "text": [
      "[I 2023-07-31 04:36:30,303] Trial 8 finished with value: 0.19337714954735513 and parameters: {'n_items_to_rank': 62}. Best is trial 0 with value: 0.19337714954735513.\n",
      "EvaluatorHoldout: Processed 5961 (100.0%) in 5.16 sec. Users per second: 1156\n"
     ]
    },
    {
     "name": "stderr",
     "output_type": "stream",
     "text": [
      "Best trial: 0. Best value: 0.193377:  20%|██        | 10/50 [00:52<03:27,  5.19s/it]"
     ]
    },
    {
     "name": "stdout",
     "output_type": "stream",
     "text": [
      "[I 2023-07-31 04:36:35,478] Trial 9 finished with value: 0.19337714954735513 and parameters: {'n_items_to_rank': 129}. Best is trial 0 with value: 0.19337714954735513.\n",
      "EvaluatorHoldout: Processed 5961 (100.0%) in 5.18 sec. Users per second: 1150\n"
     ]
    },
    {
     "name": "stderr",
     "output_type": "stream",
     "text": [
      "Best trial: 0. Best value: 0.193377:  22%|██▏       | 11/50 [00:57<03:22,  5.19s/it]"
     ]
    },
    {
     "name": "stdout",
     "output_type": "stream",
     "text": [
      "[I 2023-07-31 04:36:40,678] Trial 10 finished with value: 0.19337714954735513 and parameters: {'n_items_to_rank': 162}. Best is trial 0 with value: 0.19337714954735513.\n",
      "EvaluatorHoldout: Processed 5961 (100.0%) in 5.31 sec. Users per second: 1122\n"
     ]
    },
    {
     "name": "stderr",
     "output_type": "stream",
     "text": [
      "Best trial: 0. Best value: 0.193377:  24%|██▍       | 12/50 [01:02<03:18,  5.23s/it]"
     ]
    },
    {
     "name": "stdout",
     "output_type": "stream",
     "text": [
      "[I 2023-07-31 04:36:46,014] Trial 11 finished with value: 0.19337714954735513 and parameters: {'n_items_to_rank': 241}. Best is trial 0 with value: 0.19337714954735513.\n",
      "EvaluatorHoldout: Processed 5961 (100.0%) in 5.24 sec. Users per second: 1137\n"
     ]
    },
    {
     "name": "stderr",
     "output_type": "stream",
     "text": [
      "Best trial: 0. Best value: 0.193377:  26%|██▌       | 13/50 [01:07<03:14,  5.24s/it]"
     ]
    },
    {
     "name": "stdout",
     "output_type": "stream",
     "text": [
      "[I 2023-07-31 04:36:51,279] Trial 12 finished with value: 0.19337714954735513 and parameters: {'n_items_to_rank': 262}. Best is trial 0 with value: 0.19337714954735513.\n",
      "EvaluatorHoldout: Processed 5961 (100.0%) in 5.15 sec. Users per second: 1158\n"
     ]
    },
    {
     "name": "stderr",
     "output_type": "stream",
     "text": [
      "Best trial: 0. Best value: 0.193377:  28%|██▊       | 14/50 [01:13<03:07,  5.22s/it]"
     ]
    },
    {
     "name": "stdout",
     "output_type": "stream",
     "text": [
      "[I 2023-07-31 04:36:56,450] Trial 13 finished with value: 0.19337714954735513 and parameters: {'n_items_to_rank': 132}. Best is trial 0 with value: 0.19337714954735513.\n",
      "EvaluatorHoldout: Processed 5961 (100.0%) in 5.13 sec. Users per second: 1162\n"
     ]
    },
    {
     "name": "stderr",
     "output_type": "stream",
     "text": [
      "Best trial: 0. Best value: 0.193377:  30%|███       | 15/50 [01:18<03:02,  5.20s/it]"
     ]
    },
    {
     "name": "stdout",
     "output_type": "stream",
     "text": [
      "[I 2023-07-31 04:37:01,602] Trial 14 finished with value: 0.19337714954735513 and parameters: {'n_items_to_rank': 274}. Best is trial 0 with value: 0.19337714954735513.\n",
      "EvaluatorHoldout: Processed 5961 (100.0%) in 5.18 sec. Users per second: 1151\n"
     ]
    },
    {
     "name": "stderr",
     "output_type": "stream",
     "text": [
      "Best trial: 0. Best value: 0.193377:  32%|███▏      | 16/50 [01:23<02:56,  5.20s/it]"
     ]
    },
    {
     "name": "stdout",
     "output_type": "stream",
     "text": [
      "[I 2023-07-31 04:37:06,803] Trial 15 finished with value: 0.19337714954735513 and parameters: {'n_items_to_rank': 191}. Best is trial 0 with value: 0.19337714954735513.\n",
      "EvaluatorHoldout: Processed 5961 (100.0%) in 5.14 sec. Users per second: 1161\n"
     ]
    },
    {
     "name": "stderr",
     "output_type": "stream",
     "text": [
      "Best trial: 0. Best value: 0.193377:  34%|███▍      | 17/50 [01:28<02:51,  5.19s/it]"
     ]
    },
    {
     "name": "stdout",
     "output_type": "stream",
     "text": [
      "[I 2023-07-31 04:37:11,961] Trial 16 finished with value: 0.19337714954735513 and parameters: {'n_items_to_rank': 56}. Best is trial 0 with value: 0.19337714954735513.\n",
      "EvaluatorHoldout: Processed 5961 (100.0%) in 5.10 sec. Users per second: 1168\n"
     ]
    },
    {
     "name": "stderr",
     "output_type": "stream",
     "text": [
      "Best trial: 0. Best value: 0.193377:  36%|███▌      | 18/50 [01:33<02:47,  5.22s/it]"
     ]
    },
    {
     "name": "stdout",
     "output_type": "stream",
     "text": [
      "[I 2023-07-31 04:37:17,267] Trial 17 finished with value: 0.19337714954735513 and parameters: {'n_items_to_rank': 271}. Best is trial 0 with value: 0.19337714954735513.\n",
      "EvaluatorHoldout: Processed 5961 (100.0%) in 5.15 sec. Users per second: 1157\n"
     ]
    },
    {
     "name": "stderr",
     "output_type": "stream",
     "text": [
      "Best trial: 0. Best value: 0.193377:  38%|███▊      | 19/50 [01:39<02:41,  5.21s/it]"
     ]
    },
    {
     "name": "stdout",
     "output_type": "stream",
     "text": [
      "[I 2023-07-31 04:37:22,440] Trial 18 finished with value: 0.19337714954735513 and parameters: {'n_items_to_rank': 140}. Best is trial 0 with value: 0.19337714954735513.\n",
      "EvaluatorHoldout: Processed 5961 (100.0%) in 5.03 sec. Users per second: 1185\n"
     ]
    },
    {
     "name": "stderr",
     "output_type": "stream",
     "text": [
      "Best trial: 19. Best value: 0.194303:  40%|████      | 20/50 [01:44<02:34,  5.16s/it]"
     ]
    },
    {
     "name": "stdout",
     "output_type": "stream",
     "text": [
      "[I 2023-07-31 04:37:27,491] Trial 19 finished with value: 0.19430290499881844 and parameters: {'n_items_to_rank': 41}. Best is trial 19 with value: 0.19430290499881844.\n",
      "EvaluatorHoldout: Processed 5961 (100.0%) in 5.11 sec. Users per second: 1167\n"
     ]
    },
    {
     "name": "stderr",
     "output_type": "stream",
     "text": [
      "Best trial: 19. Best value: 0.194303:  42%|████▏     | 21/50 [01:49<02:29,  5.15s/it]"
     ]
    },
    {
     "name": "stdout",
     "output_type": "stream",
     "text": [
      "[I 2023-07-31 04:37:32,623] Trial 20 finished with value: 0.19337714954735513 and parameters: {'n_items_to_rank': 121}. Best is trial 19 with value: 0.19430290499881844.\n",
      "EvaluatorHoldout: Processed 5961 (100.0%) in 5.04 sec. Users per second: 1184\n"
     ]
    },
    {
     "name": "stderr",
     "output_type": "stream",
     "text": [
      "Best trial: 19. Best value: 0.194303:  44%|████▍     | 22/50 [01:54<02:23,  5.12s/it]"
     ]
    },
    {
     "name": "stdout",
     "output_type": "stream",
     "text": [
      "[I 2023-07-31 04:37:37,681] Trial 21 finished with value: 0.19430290499881844 and parameters: {'n_items_to_rank': 41}. Best is trial 19 with value: 0.19430290499881844.\n",
      "EvaluatorHoldout: Processed 5961 (100.0%) in 5.02 sec. Users per second: 1187\n"
     ]
    },
    {
     "name": "stderr",
     "output_type": "stream",
     "text": [
      "Best trial: 19. Best value: 0.194303:  46%|████▌     | 23/50 [01:59<02:17,  5.10s/it]"
     ]
    },
    {
     "name": "stdout",
     "output_type": "stream",
     "text": [
      "[I 2023-07-31 04:37:42,724] Trial 22 finished with value: 0.19430290499881844 and parameters: {'n_items_to_rank': 41}. Best is trial 19 with value: 0.19430290499881844.\n",
      "EvaluatorHoldout: Processed 5961 (100.0%) in 5.17 sec. Users per second: 1153\n"
     ]
    },
    {
     "name": "stderr",
     "output_type": "stream",
     "text": [
      "Best trial: 23. Best value: 0.196942:  48%|████▊     | 24/50 [02:04<02:13,  5.13s/it]"
     ]
    },
    {
     "name": "stdout",
     "output_type": "stream",
     "text": [
      "[I 2023-07-31 04:37:47,915] Trial 23 finished with value: 0.1969416543273657 and parameters: {'n_items_to_rank': 21}. Best is trial 23 with value: 0.1969416543273657.\n",
      "EvaluatorHoldout: Processed 5961 (100.0%) in 5.18 sec. Users per second: 1150\n"
     ]
    },
    {
     "name": "stderr",
     "output_type": "stream",
     "text": [
      "Best trial: 23. Best value: 0.196942:  50%|█████     | 25/50 [02:09<02:08,  5.15s/it]"
     ]
    },
    {
     "name": "stdout",
     "output_type": "stream",
     "text": [
      "[I 2023-07-31 04:37:53,120] Trial 24 finished with value: 0.1969416543273657 and parameters: {'n_items_to_rank': 21}. Best is trial 23 with value: 0.1969416543273657.\n",
      "EvaluatorHoldout: Processed 5961 (100.0%) in 5.17 sec. Users per second: 1154\n"
     ]
    },
    {
     "name": "stderr",
     "output_type": "stream",
     "text": [
      "Best trial: 23. Best value: 0.196942:  52%|█████▏    | 26/50 [02:15<02:03,  5.16s/it]"
     ]
    },
    {
     "name": "stdout",
     "output_type": "stream",
     "text": [
      "[I 2023-07-31 04:37:58,309] Trial 25 finished with value: 0.1969416543273657 and parameters: {'n_items_to_rank': 21}. Best is trial 23 with value: 0.1969416543273657.\n",
      "EvaluatorHoldout: Processed 5961 (100.0%) in 5.12 sec. Users per second: 1164\n"
     ]
    },
    {
     "name": "stderr",
     "output_type": "stream",
     "text": [
      "Best trial: 23. Best value: 0.196942:  54%|█████▍    | 27/50 [02:20<01:58,  5.16s/it]"
     ]
    },
    {
     "name": "stdout",
     "output_type": "stream",
     "text": [
      "[I 2023-07-31 04:38:03,455] Trial 26 finished with value: 0.19337714954735513 and parameters: {'n_items_to_rank': 107}. Best is trial 23 with value: 0.1969416543273657.\n",
      "EvaluatorHoldout: Processed 5961 (100.0%) in 5.12 sec. Users per second: 1164\n"
     ]
    },
    {
     "name": "stderr",
     "output_type": "stream",
     "text": [
      "Best trial: 23. Best value: 0.196942:  56%|█████▌    | 28/50 [02:25<01:53,  5.15s/it]"
     ]
    },
    {
     "name": "stdout",
     "output_type": "stream",
     "text": [
      "[I 2023-07-31 04:38:08,601] Trial 27 finished with value: 0.19337714954735513 and parameters: {'n_items_to_rank': 286}. Best is trial 23 with value: 0.1969416543273657.\n",
      "EvaluatorHoldout: Processed 5961 (100.0%) in 5.12 sec. Users per second: 1163\n"
     ]
    },
    {
     "name": "stderr",
     "output_type": "stream",
     "text": [
      "Best trial: 23. Best value: 0.196942:  58%|█████▊    | 29/50 [02:30<01:48,  5.15s/it]"
     ]
    },
    {
     "name": "stdout",
     "output_type": "stream",
     "text": [
      "[I 2023-07-31 04:38:13,748] Trial 28 finished with value: 0.19337714954735513 and parameters: {'n_items_to_rank': 186}. Best is trial 23 with value: 0.1969416543273657.\n",
      "EvaluatorHoldout: Processed 5961 (100.0%) in 4.83 sec. Users per second: 1235\n"
     ]
    },
    {
     "name": "stderr",
     "output_type": "stream",
     "text": [
      "Best trial: 29. Best value: 0.201587:  60%|██████    | 30/50 [02:35<01:41,  5.06s/it]"
     ]
    },
    {
     "name": "stdout",
     "output_type": "stream",
     "text": [
      "[I 2023-07-31 04:38:18,598] Trial 29 finished with value: 0.20158694462102156 and parameters: {'n_items_to_rank': 10}. Best is trial 29 with value: 0.20158694462102156.\n",
      "EvaluatorHoldout: Processed 5961 (100.0%) in 5.19 sec. Users per second: 1148\n"
     ]
    },
    {
     "name": "stderr",
     "output_type": "stream",
     "text": [
      "Best trial: 29. Best value: 0.201587:  62%|██████▏   | 31/50 [02:40<01:37,  5.11s/it]"
     ]
    },
    {
     "name": "stdout",
     "output_type": "stream",
     "text": [
      "[I 2023-07-31 04:38:23,812] Trial 30 finished with value: 0.1969416543273657 and parameters: {'n_items_to_rank': 21}. Best is trial 29 with value: 0.20158694462102156.\n",
      "EvaluatorHoldout: Processed 5961 (100.0%) in 5.23 sec. Users per second: 1139\n"
     ]
    },
    {
     "name": "stderr",
     "output_type": "stream",
     "text": [
      "Best trial: 29. Best value: 0.201587:  64%|██████▍   | 32/50 [02:45<01:32,  5.15s/it]"
     ]
    },
    {
     "name": "stdout",
     "output_type": "stream",
     "text": [
      "[I 2023-07-31 04:38:29,069] Trial 31 finished with value: 0.19337714954735513 and parameters: {'n_items_to_rank': 183}. Best is trial 29 with value: 0.20158694462102156.\n",
      "EvaluatorHoldout: Processed 5961 (100.0%) in 5.21 sec. Users per second: 1143\n"
     ]
    },
    {
     "name": "stderr",
     "output_type": "stream",
     "text": [
      "Best trial: 29. Best value: 0.201587:  66%|██████▌   | 33/50 [02:51<01:28,  5.18s/it]"
     ]
    },
    {
     "name": "stdout",
     "output_type": "stream",
     "text": [
      "[I 2023-07-31 04:38:34,306] Trial 32 finished with value: 0.1969416543273657 and parameters: {'n_items_to_rank': 21}. Best is trial 29 with value: 0.20158694462102156.\n",
      "EvaluatorHoldout: Processed 5961 (100.0%) in 5.16 sec. Users per second: 1154\n"
     ]
    },
    {
     "name": "stderr",
     "output_type": "stream",
     "text": [
      "Best trial: 29. Best value: 0.201587:  68%|██████▊   | 34/50 [02:56<01:22,  5.18s/it]"
     ]
    },
    {
     "name": "stdout",
     "output_type": "stream",
     "text": [
      "[I 2023-07-31 04:38:39,493] Trial 33 finished with value: 0.1969416543273657 and parameters: {'n_items_to_rank': 21}. Best is trial 29 with value: 0.20158694462102156.\n",
      "EvaluatorHoldout: Processed 5961 (100.0%) in 4.82 sec. Users per second: 1238\n"
     ]
    },
    {
     "name": "stderr",
     "output_type": "stream",
     "text": [
      "Best trial: 29. Best value: 0.201587:  70%|███████   | 35/50 [03:01<01:16,  5.08s/it]"
     ]
    },
    {
     "name": "stdout",
     "output_type": "stream",
     "text": [
      "[I 2023-07-31 04:38:44,331] Trial 34 finished with value: 0.20158694462102156 and parameters: {'n_items_to_rank': 10}. Best is trial 29 with value: 0.20158694462102156.\n",
      "EvaluatorHoldout: Processed 5961 (100.0%) in 5.25 sec. Users per second: 1135\n"
     ]
    },
    {
     "name": "stderr",
     "output_type": "stream",
     "text": [
      "Best trial: 29. Best value: 0.201587:  72%|███████▏  | 36/50 [03:06<01:11,  5.14s/it]"
     ]
    },
    {
     "name": "stdout",
     "output_type": "stream",
     "text": [
      "[I 2023-07-31 04:38:49,611] Trial 35 finished with value: 0.19337714954735513 and parameters: {'n_items_to_rank': 214}. Best is trial 29 with value: 0.20158694462102156.\n",
      "EvaluatorHoldout: Processed 5961 (100.0%) in 5.11 sec. Users per second: 1165\n"
     ]
    },
    {
     "name": "stderr",
     "output_type": "stream",
     "text": [
      "Best trial: 29. Best value: 0.201587:  74%|███████▍  | 37/50 [03:11<01:06,  5.14s/it]"
     ]
    },
    {
     "name": "stdout",
     "output_type": "stream",
     "text": [
      "[I 2023-07-31 04:38:54,753] Trial 36 finished with value: 0.19337714954735513 and parameters: {'n_items_to_rank': 164}. Best is trial 29 with value: 0.20158694462102156.\n",
      "EvaluatorHoldout: Processed 5961 (100.0%) in 5.20 sec. Users per second: 1146\n"
     ]
    },
    {
     "name": "stderr",
     "output_type": "stream",
     "text": [
      "Best trial: 29. Best value: 0.201587:  76%|███████▌  | 38/50 [03:16<01:01,  5.17s/it]"
     ]
    },
    {
     "name": "stdout",
     "output_type": "stream",
     "text": [
      "[I 2023-07-31 04:38:59,980] Trial 37 finished with value: 0.1968628978946014 and parameters: {'n_items_to_rank': 22}. Best is trial 29 with value: 0.20158694462102156.\n",
      "EvaluatorHoldout: Processed 5961 (100.0%) in 4.82 sec. Users per second: 1237\n"
     ]
    },
    {
     "name": "stderr",
     "output_type": "stream",
     "text": [
      "Best trial: 29. Best value: 0.201587:  78%|███████▊  | 39/50 [03:21<00:55,  5.07s/it]"
     ]
    },
    {
     "name": "stdout",
     "output_type": "stream",
     "text": [
      "[I 2023-07-31 04:39:04,829] Trial 38 finished with value: 0.20158694462102156 and parameters: {'n_items_to_rank': 10}. Best is trial 29 with value: 0.20158694462102156.\n",
      "EvaluatorHoldout: Processed 5961 (100.0%) in 5.35 sec. Users per second: 1115\n"
     ]
    },
    {
     "name": "stderr",
     "output_type": "stream",
     "text": [
      "Best trial: 29. Best value: 0.201587:  80%|████████  | 40/50 [03:26<00:51,  5.16s/it]"
     ]
    },
    {
     "name": "stdout",
     "output_type": "stream",
     "text": [
      "[I 2023-07-31 04:39:10,200] Trial 39 finished with value: 0.1965066841884838 and parameters: {'n_items_to_rank': 27}. Best is trial 29 with value: 0.20158694462102156.\n",
      "EvaluatorHoldout: Processed 5961 (100.0%) in 4.83 sec. Users per second: 1233\n"
     ]
    },
    {
     "name": "stderr",
     "output_type": "stream",
     "text": [
      "Best trial: 29. Best value: 0.201587:  82%|████████▏ | 41/50 [03:31<00:45,  5.07s/it]"
     ]
    },
    {
     "name": "stdout",
     "output_type": "stream",
     "text": [
      "[I 2023-07-31 04:39:15,058] Trial 40 finished with value: 0.20158694462102156 and parameters: {'n_items_to_rank': 10}. Best is trial 29 with value: 0.20158694462102156.\n",
      "EvaluatorHoldout: Processed 5961 (100.0%) in 5.11 sec. Users per second: 1167\n"
     ]
    },
    {
     "name": "stderr",
     "output_type": "stream",
     "text": [
      "Best trial: 29. Best value: 0.201587:  84%|████████▍ | 42/50 [03:36<00:40,  5.09s/it]"
     ]
    },
    {
     "name": "stdout",
     "output_type": "stream",
     "text": [
      "[I 2023-07-31 04:39:20,190] Trial 41 finished with value: 0.19337714954735513 and parameters: {'n_items_to_rank': 223}. Best is trial 29 with value: 0.20158694462102156.\n",
      "EvaluatorHoldout: Processed 5961 (100.0%) in 5.10 sec. Users per second: 1168\n"
     ]
    },
    {
     "name": "stderr",
     "output_type": "stream",
     "text": [
      "Best trial: 29. Best value: 0.201587:  86%|████████▌ | 43/50 [03:42<00:35,  5.10s/it]"
     ]
    },
    {
     "name": "stdout",
     "output_type": "stream",
     "text": [
      "[I 2023-07-31 04:39:25,322] Trial 42 finished with value: 0.19337714954735513 and parameters: {'n_items_to_rank': 150}. Best is trial 29 with value: 0.20158694462102156.\n",
      "EvaluatorHoldout: Processed 5961 (100.0%) in 4.82 sec. Users per second: 1236\n"
     ]
    },
    {
     "name": "stderr",
     "output_type": "stream",
     "text": [
      "Best trial: 29. Best value: 0.201587:  88%|████████▊ | 44/50 [03:46<00:30,  5.03s/it]"
     ]
    },
    {
     "name": "stdout",
     "output_type": "stream",
     "text": [
      "[I 2023-07-31 04:39:30,169] Trial 43 finished with value: 0.20158694462102156 and parameters: {'n_items_to_rank': 10}. Best is trial 29 with value: 0.20158694462102156.\n",
      "EvaluatorHoldout: Processed 5961 (100.0%) in 5.11 sec. Users per second: 1166\n"
     ]
    },
    {
     "name": "stderr",
     "output_type": "stream",
     "text": [
      "Best trial: 29. Best value: 0.201587:  90%|█████████ | 45/50 [03:52<00:25,  5.06s/it]"
     ]
    },
    {
     "name": "stdout",
     "output_type": "stream",
     "text": [
      "[I 2023-07-31 04:39:35,306] Trial 44 finished with value: 0.19337714954735513 and parameters: {'n_items_to_rank': 217}. Best is trial 29 with value: 0.20158694462102156.\n",
      "EvaluatorHoldout: Processed 5961 (100.0%) in 5.12 sec. Users per second: 1165\n"
     ]
    },
    {
     "name": "stderr",
     "output_type": "stream",
     "text": [
      "Best trial: 29. Best value: 0.201587:  92%|█████████▏| 46/50 [03:57<00:20,  5.08s/it]"
     ]
    },
    {
     "name": "stdout",
     "output_type": "stream",
     "text": [
      "[I 2023-07-31 04:39:40,452] Trial 45 finished with value: 0.19337714954735513 and parameters: {'n_items_to_rank': 237}. Best is trial 29 with value: 0.20158694462102156.\n",
      "EvaluatorHoldout: Processed 5961 (100.0%) in 4.80 sec. Users per second: 1241\n"
     ]
    },
    {
     "name": "stderr",
     "output_type": "stream",
     "text": [
      "Best trial: 29. Best value: 0.201587:  94%|█████████▍| 47/50 [04:01<00:15,  5.01s/it]"
     ]
    },
    {
     "name": "stdout",
     "output_type": "stream",
     "text": [
      "[I 2023-07-31 04:39:45,281] Trial 46 finished with value: 0.20158694462102156 and parameters: {'n_items_to_rank': 10}. Best is trial 29 with value: 0.20158694462102156.\n",
      "EvaluatorHoldout: Processed 5961 (100.0%) in 4.81 sec. Users per second: 1239\n"
     ]
    },
    {
     "name": "stderr",
     "output_type": "stream",
     "text": [
      "Best trial: 29. Best value: 0.201587:  96%|█████████▌| 48/50 [04:06<00:09,  4.96s/it]"
     ]
    },
    {
     "name": "stdout",
     "output_type": "stream",
     "text": [
      "[I 2023-07-31 04:39:50,118] Trial 47 finished with value: 0.20158694462102156 and parameters: {'n_items_to_rank': 10}. Best is trial 29 with value: 0.20158694462102156.\n",
      "EvaluatorHoldout: Processed 5961 (100.0%) in 4.81 sec. Users per second: 1240\n"
     ]
    },
    {
     "name": "stderr",
     "output_type": "stream",
     "text": [
      "Best trial: 29. Best value: 0.201587:  98%|█████████▊| 49/50 [04:11<00:04,  4.92s/it]"
     ]
    },
    {
     "name": "stdout",
     "output_type": "stream",
     "text": [
      "[I 2023-07-31 04:39:54,949] Trial 48 finished with value: 0.20158694462102156 and parameters: {'n_items_to_rank': 10}. Best is trial 29 with value: 0.20158694462102156.\n",
      "EvaluatorHoldout: Processed 5961 (100.0%) in 5.11 sec. Users per second: 1168\n"
     ]
    },
    {
     "name": "stderr",
     "output_type": "stream",
     "text": [
      "Best trial: 29. Best value: 0.201587: 100%|██████████| 50/50 [04:16<00:00,  5.14s/it]"
     ]
    },
    {
     "name": "stdout",
     "output_type": "stream",
     "text": [
      "[I 2023-07-31 04:40:00,082] Trial 49 finished with value: 0.19337714954735513 and parameters: {'n_items_to_rank': 125}. Best is trial 29 with value: 0.20158694462102156.\n",
      "Recommender_Base_Class: URM Detected 194 ( 5.0%) items with no interactions.\n"
     ]
    },
    {
     "name": "stderr",
     "output_type": "stream",
     "text": [
      "\n"
     ]
    },
    {
     "name": "stdout",
     "output_type": "stream",
     "text": [
      "EvaluatorHoldout: Processed 5976 (100.0%) in 4.97 sec. Users per second: 1203\n"
     ]
    },
    {
     "name": "stderr",
     "output_type": "stream",
     "text": [
      "[I 2023-07-31 04:40:10,159] A new study created in memory with name: no-name-bf1cfe74-3d84-4732-a6bc-f773401a8086\n",
      "  0%|          | 0/50 [00:00<?, ?it/s]"
     ]
    },
    {
     "name": "stdout",
     "output_type": "stream",
     "text": [
      "IALSRecommender\n",
      "DiffusionAutoencoderRecommender_IALSRecommender_TwoLevelRec\n",
      "EvaluatorHoldout: Processed 5961 (100.0%) in 3.82 sec. Users per second: 1562\n"
     ]
    },
    {
     "name": "stderr",
     "output_type": "stream",
     "text": [
      "Best trial: 0. Best value: 0.207997:   2%|▏         | 1/50 [00:03<03:07,  3.84s/it]"
     ]
    },
    {
     "name": "stdout",
     "output_type": "stream",
     "text": [
      "[I 2023-07-31 04:40:13,994] Trial 0 finished with value: 0.20799704113546266 and parameters: {'n_items_to_rank': 133}. Best is trial 0 with value: 0.20799704113546266.\n",
      "EvaluatorHoldout: Processed 5961 (100.0%) in 3.78 sec. Users per second: 1576\n"
     ]
    },
    {
     "name": "stderr",
     "output_type": "stream",
     "text": [
      "Best trial: 0. Best value: 0.207997:   4%|▍         | 2/50 [00:07<03:03,  3.81s/it]"
     ]
    },
    {
     "name": "stdout",
     "output_type": "stream",
     "text": [
      "[I 2023-07-31 04:40:17,792] Trial 1 finished with value: 0.20799704113546266 and parameters: {'n_items_to_rank': 62}. Best is trial 0 with value: 0.20799704113546266.\n",
      "EvaluatorHoldout: Processed 5961 (100.0%) in 3.89 sec. Users per second: 1534\n"
     ]
    },
    {
     "name": "stderr",
     "output_type": "stream",
     "text": [
      "Best trial: 0. Best value: 0.207997:   6%|▌         | 3/50 [00:11<03:01,  3.85s/it]"
     ]
    },
    {
     "name": "stdout",
     "output_type": "stream",
     "text": [
      "[I 2023-07-31 04:40:21,692] Trial 2 finished with value: 0.20799704113546266 and parameters: {'n_items_to_rank': 172}. Best is trial 0 with value: 0.20799704113546266.\n",
      "EvaluatorHoldout: Processed 5961 (100.0%) in 3.77 sec. Users per second: 1580\n"
     ]
    },
    {
     "name": "stderr",
     "output_type": "stream",
     "text": [
      "Best trial: 0. Best value: 0.207997:   8%|▊         | 4/50 [00:15<02:56,  3.83s/it]"
     ]
    },
    {
     "name": "stdout",
     "output_type": "stream",
     "text": [
      "[I 2023-07-31 04:40:25,480] Trial 3 finished with value: 0.20799704113546266 and parameters: {'n_items_to_rank': 198}. Best is trial 0 with value: 0.20799704113546266.\n",
      "EvaluatorHoldout: Processed 5961 (100.0%) in 3.77 sec. Users per second: 1581\n"
     ]
    },
    {
     "name": "stderr",
     "output_type": "stream",
     "text": [
      "Best trial: 0. Best value: 0.207997:  10%|█         | 5/50 [00:19<02:51,  3.81s/it]"
     ]
    },
    {
     "name": "stdout",
     "output_type": "stream",
     "text": [
      "[I 2023-07-31 04:40:29,266] Trial 4 finished with value: 0.20799704113546266 and parameters: {'n_items_to_rank': 131}. Best is trial 0 with value: 0.20799704113546266.\n",
      "EvaluatorHoldout: Processed 5961 (100.0%) in 3.81 sec. Users per second: 1566\n"
     ]
    },
    {
     "name": "stderr",
     "output_type": "stream",
     "text": [
      "Best trial: 0. Best value: 0.207997:  12%|█▏        | 6/50 [00:22<02:47,  3.82s/it]"
     ]
    },
    {
     "name": "stdout",
     "output_type": "stream",
     "text": [
      "[I 2023-07-31 04:40:33,090] Trial 5 finished with value: 0.20799704113546266 and parameters: {'n_items_to_rank': 292}. Best is trial 0 with value: 0.20799704113546266.\n",
      "EvaluatorHoldout: Processed 5961 (100.0%) in 3.50 sec. Users per second: 1703\n"
     ]
    },
    {
     "name": "stderr",
     "output_type": "stream",
     "text": [
      "Best trial: 0. Best value: 0.207997:  14%|█▍        | 7/50 [00:26<02:39,  3.72s/it]"
     ]
    },
    {
     "name": "stdout",
     "output_type": "stream",
     "text": [
      "[I 2023-07-31 04:40:36,605] Trial 6 finished with value: 0.2048743361611645 and parameters: {'n_items_to_rank': 11}. Best is trial 0 with value: 0.20799704113546266.\n",
      "EvaluatorHoldout: Processed 5961 (100.0%) in 3.78 sec. Users per second: 1578\n"
     ]
    },
    {
     "name": "stderr",
     "output_type": "stream",
     "text": [
      "Best trial: 0. Best value: 0.207997:  16%|█▌        | 8/50 [00:30<02:37,  3.74s/it]"
     ]
    },
    {
     "name": "stdout",
     "output_type": "stream",
     "text": [
      "[I 2023-07-31 04:40:40,400] Trial 7 finished with value: 0.20799704113546266 and parameters: {'n_items_to_rank': 294}. Best is trial 0 with value: 0.20799704113546266.\n",
      "EvaluatorHoldout: Processed 5961 (100.0%) in 3.81 sec. Users per second: 1566\n"
     ]
    },
    {
     "name": "stderr",
     "output_type": "stream",
     "text": [
      "Best trial: 0. Best value: 0.207997:  18%|█▊        | 9/50 [00:34<02:34,  3.77s/it]"
     ]
    },
    {
     "name": "stdout",
     "output_type": "stream",
     "text": [
      "[I 2023-07-31 04:40:44,226] Trial 8 finished with value: 0.20799704113546266 and parameters: {'n_items_to_rank': 77}. Best is trial 0 with value: 0.20799704113546266.\n",
      "EvaluatorHoldout: Processed 5961 (100.0%) in 3.77 sec. Users per second: 1581\n"
     ]
    },
    {
     "name": "stderr",
     "output_type": "stream",
     "text": [
      "Best trial: 0. Best value: 0.207997:  20%|██        | 10/50 [00:37<02:30,  3.77s/it]"
     ]
    },
    {
     "name": "stdout",
     "output_type": "stream",
     "text": [
      "[I 2023-07-31 04:40:48,015] Trial 9 finished with value: 0.20799704113546266 and parameters: {'n_items_to_rank': 74}. Best is trial 0 with value: 0.20799704113546266.\n",
      "EvaluatorHoldout: Processed 5961 (100.0%) in 3.84 sec. Users per second: 1554\n"
     ]
    },
    {
     "name": "stderr",
     "output_type": "stream",
     "text": [
      "Best trial: 0. Best value: 0.207997:  22%|██▏       | 11/50 [00:41<02:28,  3.80s/it]"
     ]
    },
    {
     "name": "stdout",
     "output_type": "stream",
     "text": [
      "[I 2023-07-31 04:40:51,872] Trial 10 finished with value: 0.20799704113546266 and parameters: {'n_items_to_rank': 273}. Best is trial 0 with value: 0.20799704113546266.\n",
      "EvaluatorHoldout: Processed 5961 (100.0%) in 3.81 sec. Users per second: 1564\n"
     ]
    },
    {
     "name": "stderr",
     "output_type": "stream",
     "text": [
      "Best trial: 0. Best value: 0.207997:  24%|██▍       | 12/50 [00:45<02:24,  3.81s/it]"
     ]
    },
    {
     "name": "stdout",
     "output_type": "stream",
     "text": [
      "[I 2023-07-31 04:40:55,705] Trial 11 finished with value: 0.20799704113546266 and parameters: {'n_items_to_rank': 240}. Best is trial 0 with value: 0.20799704113546266.\n",
      "EvaluatorHoldout: Processed 5961 (100.0%) in 3.78 sec. Users per second: 1579\n"
     ]
    },
    {
     "name": "stderr",
     "output_type": "stream",
     "text": [
      "Best trial: 0. Best value: 0.207997:  26%|██▌       | 13/50 [00:49<02:20,  3.81s/it]"
     ]
    },
    {
     "name": "stdout",
     "output_type": "stream",
     "text": [
      "[I 2023-07-31 04:40:59,501] Trial 12 finished with value: 0.20799704113546266 and parameters: {'n_items_to_rank': 207}. Best is trial 0 with value: 0.20799704113546266.\n",
      "EvaluatorHoldout: Processed 5961 (100.0%) in 3.77 sec. Users per second: 1580\n"
     ]
    },
    {
     "name": "stderr",
     "output_type": "stream",
     "text": [
      "Best trial: 0. Best value: 0.207997:  28%|██▊       | 14/50 [00:53<02:16,  3.80s/it]"
     ]
    },
    {
     "name": "stdout",
     "output_type": "stream",
     "text": [
      "[I 2023-07-31 04:41:03,297] Trial 13 finished with value: 0.20799704113546266 and parameters: {'n_items_to_rank': 249}. Best is trial 0 with value: 0.20799704113546266.\n",
      "EvaluatorHoldout: Processed 5961 (100.0%) in 3.78 sec. Users per second: 1578\n"
     ]
    },
    {
     "name": "stderr",
     "output_type": "stream",
     "text": [
      "Best trial: 0. Best value: 0.207997:  30%|███       | 15/50 [00:56<02:13,  3.80s/it]"
     ]
    },
    {
     "name": "stdout",
     "output_type": "stream",
     "text": [
      "[I 2023-07-31 04:41:07,097] Trial 14 finished with value: 0.20799704113546266 and parameters: {'n_items_to_rank': 161}. Best is trial 0 with value: 0.20799704113546266.\n",
      "EvaluatorHoldout: Processed 5961 (100.0%) in 3.78 sec. Users per second: 1579\n"
     ]
    },
    {
     "name": "stderr",
     "output_type": "stream",
     "text": [
      "Best trial: 0. Best value: 0.207997:  32%|███▏      | 16/50 [01:00<02:09,  3.80s/it]"
     ]
    },
    {
     "name": "stdout",
     "output_type": "stream",
     "text": [
      "[I 2023-07-31 04:41:10,894] Trial 15 finished with value: 0.20799704113546266 and parameters: {'n_items_to_rank': 62}. Best is trial 0 with value: 0.20799704113546266.\n",
      "EvaluatorHoldout: Processed 5961 (100.0%) in 3.79 sec. Users per second: 1571\n"
     ]
    },
    {
     "name": "stderr",
     "output_type": "stream",
     "text": [
      "Best trial: 0. Best value: 0.207997:  34%|███▍      | 17/50 [01:04<02:05,  3.81s/it]"
     ]
    },
    {
     "name": "stdout",
     "output_type": "stream",
     "text": [
      "[I 2023-07-31 04:41:14,710] Trial 16 finished with value: 0.20799704113546266 and parameters: {'n_items_to_rank': 177}. Best is trial 0 with value: 0.20799704113546266.\n",
      "EvaluatorHoldout: Processed 5961 (100.0%) in 3.79 sec. Users per second: 1574\n"
     ]
    },
    {
     "name": "stderr",
     "output_type": "stream",
     "text": [
      "Best trial: 0. Best value: 0.207997:  36%|███▌      | 18/50 [01:08<02:01,  3.81s/it]"
     ]
    },
    {
     "name": "stdout",
     "output_type": "stream",
     "text": [
      "[I 2023-07-31 04:41:18,519] Trial 17 finished with value: 0.20799704113546266 and parameters: {'n_items_to_rank': 52}. Best is trial 0 with value: 0.20799704113546266.\n",
      "EvaluatorHoldout: Processed 5961 (100.0%) in 3.56 sec. Users per second: 1673\n"
     ]
    },
    {
     "name": "stderr",
     "output_type": "stream",
     "text": [
      "Best trial: 0. Best value: 0.207997:  38%|███▊      | 19/50 [01:11<01:55,  3.74s/it]"
     ]
    },
    {
     "name": "stdout",
     "output_type": "stream",
     "text": [
      "[I 2023-07-31 04:41:22,104] Trial 18 finished with value: 0.20541473034106691 and parameters: {'n_items_to_rank': 12}. Best is trial 0 with value: 0.20799704113546266.\n",
      "EvaluatorHoldout: Processed 5961 (100.0%) in 3.78 sec. Users per second: 1578\n"
     ]
    },
    {
     "name": "stderr",
     "output_type": "stream",
     "text": [
      "Best trial: 0. Best value: 0.207997:  40%|████      | 20/50 [01:15<01:52,  3.76s/it]"
     ]
    },
    {
     "name": "stdout",
     "output_type": "stream",
     "text": [
      "[I 2023-07-31 04:41:25,905] Trial 19 finished with value: 0.20799704113546266 and parameters: {'n_items_to_rank': 192}. Best is trial 0 with value: 0.20799704113546266.\n",
      "EvaluatorHoldout: Processed 5961 (100.0%) in 3.82 sec. Users per second: 1559\n"
     ]
    },
    {
     "name": "stderr",
     "output_type": "stream",
     "text": [
      "Best trial: 0. Best value: 0.207997:  42%|████▏     | 21/50 [01:19<01:49,  3.79s/it]"
     ]
    },
    {
     "name": "stdout",
     "output_type": "stream",
     "text": [
      "[I 2023-07-31 04:41:29,753] Trial 20 finished with value: 0.20794714538478787 and parameters: {'n_items_to_rank': 43}. Best is trial 0 with value: 0.20799704113546266.\n",
      "EvaluatorHoldout: Processed 5961 (100.0%) in 3.81 sec. Users per second: 1565\n"
     ]
    },
    {
     "name": "stderr",
     "output_type": "stream",
     "text": [
      "Best trial: 0. Best value: 0.207997:  44%|████▍     | 22/50 [01:23<01:46,  3.80s/it]"
     ]
    },
    {
     "name": "stdout",
     "output_type": "stream",
     "text": [
      "[I 2023-07-31 04:41:33,586] Trial 21 finished with value: 0.20799704113546266 and parameters: {'n_items_to_rank': 243}. Best is trial 0 with value: 0.20799704113546266.\n",
      "EvaluatorHoldout: Processed 5961 (100.0%) in 3.78 sec. Users per second: 1578\n"
     ]
    },
    {
     "name": "stderr",
     "output_type": "stream",
     "text": [
      "Best trial: 0. Best value: 0.207997:  46%|████▌     | 23/50 [01:27<01:42,  3.80s/it]"
     ]
    },
    {
     "name": "stdout",
     "output_type": "stream",
     "text": [
      "[I 2023-07-31 04:41:37,385] Trial 22 finished with value: 0.20799704113546266 and parameters: {'n_items_to_rank': 270}. Best is trial 0 with value: 0.20799704113546266.\n",
      "EvaluatorHoldout: Processed 5961 (100.0%) in 3.77 sec. Users per second: 1582\n"
     ]
    },
    {
     "name": "stderr",
     "output_type": "stream",
     "text": [
      "Best trial: 23. Best value: 0.208228:  48%|████▊     | 24/50 [01:31<01:38,  3.80s/it]"
     ]
    },
    {
     "name": "stdout",
     "output_type": "stream",
     "text": [
      "[I 2023-07-31 04:41:41,179] Trial 23 finished with value: 0.20822807240794658 and parameters: {'n_items_to_rank': 47}. Best is trial 23 with value: 0.20822807240794658.\n",
      "EvaluatorHoldout: Processed 5961 (100.0%) in 3.76 sec. Users per second: 1587\n"
     ]
    },
    {
     "name": "stderr",
     "output_type": "stream",
     "text": [
      "Best trial: 23. Best value: 0.208228:  50%|█████     | 25/50 [01:34<01:34,  3.79s/it]"
     ]
    },
    {
     "name": "stdout",
     "output_type": "stream",
     "text": [
      "[I 2023-07-31 04:41:44,960] Trial 24 finished with value: 0.20799704113546266 and parameters: {'n_items_to_rank': 109}. Best is trial 23 with value: 0.20822807240794658.\n",
      "EvaluatorHoldout: Processed 5961 (100.0%) in 3.78 sec. Users per second: 1575\n"
     ]
    },
    {
     "name": "stderr",
     "output_type": "stream",
     "text": [
      "Best trial: 23. Best value: 0.208228:  52%|█████▏    | 26/50 [01:38<01:31,  3.80s/it]"
     ]
    },
    {
     "name": "stdout",
     "output_type": "stream",
     "text": [
      "[I 2023-07-31 04:41:48,769] Trial 25 finished with value: 0.20799704113546266 and parameters: {'n_items_to_rank': 122}. Best is trial 23 with value: 0.20822807240794658.\n",
      "EvaluatorHoldout: Processed 5961 (100.0%) in 3.68 sec. Users per second: 1619\n"
     ]
    },
    {
     "name": "stderr",
     "output_type": "stream",
     "text": [
      "Best trial: 23. Best value: 0.208228:  54%|█████▍    | 27/50 [01:42<01:26,  3.77s/it]"
     ]
    },
    {
     "name": "stdout",
     "output_type": "stream",
     "text": [
      "[I 2023-07-31 04:41:52,476] Trial 26 finished with value: 0.20795933111443268 and parameters: {'n_items_to_rank': 40}. Best is trial 23 with value: 0.20822807240794658.\n",
      "EvaluatorHoldout: Processed 5961 (100.0%) in 3.78 sec. Users per second: 1578\n"
     ]
    },
    {
     "name": "stderr",
     "output_type": "stream",
     "text": [
      "Best trial: 23. Best value: 0.208228:  56%|█████▌    | 28/50 [01:46<01:23,  3.78s/it]"
     ]
    },
    {
     "name": "stdout",
     "output_type": "stream",
     "text": [
      "[I 2023-07-31 04:41:56,276] Trial 27 finished with value: 0.20799704113546266 and parameters: {'n_items_to_rank': 244}. Best is trial 23 with value: 0.20822807240794658.\n",
      "EvaluatorHoldout: Processed 5961 (100.0%) in 3.81 sec. Users per second: 1564\n"
     ]
    },
    {
     "name": "stderr",
     "output_type": "stream",
     "text": [
      "Best trial: 23. Best value: 0.208228:  58%|█████▊    | 29/50 [01:49<01:19,  3.80s/it]"
     ]
    },
    {
     "name": "stdout",
     "output_type": "stream",
     "text": [
      "[I 2023-07-31 04:42:00,115] Trial 28 finished with value: 0.20799704113546266 and parameters: {'n_items_to_rank': 129}. Best is trial 23 with value: 0.20822807240794658.\n",
      "EvaluatorHoldout: Processed 5961 (100.0%) in 3.77 sec. Users per second: 1582\n"
     ]
    },
    {
     "name": "stderr",
     "output_type": "stream",
     "text": [
      "Best trial: 23. Best value: 0.208228:  60%|██████    | 30/50 [01:53<01:15,  3.80s/it]"
     ]
    },
    {
     "name": "stdout",
     "output_type": "stream",
     "text": [
      "[I 2023-07-31 04:42:03,908] Trial 29 finished with value: 0.20799704113546266 and parameters: {'n_items_to_rank': 133}. Best is trial 23 with value: 0.20822807240794658.\n",
      "EvaluatorHoldout: Processed 5961 (100.0%) in 3.77 sec. Users per second: 1581\n"
     ]
    },
    {
     "name": "stderr",
     "output_type": "stream",
     "text": [
      "Best trial: 23. Best value: 0.208228:  62%|██████▏   | 31/50 [01:57<01:12,  3.80s/it]"
     ]
    },
    {
     "name": "stdout",
     "output_type": "stream",
     "text": [
      "[I 2023-07-31 04:42:07,704] Trial 30 finished with value: 0.20799704113546266 and parameters: {'n_items_to_rank': 286}. Best is trial 23 with value: 0.20822807240794658.\n",
      "EvaluatorHoldout: Processed 5961 (100.0%) in 3.77 sec. Users per second: 1579\n"
     ]
    },
    {
     "name": "stderr",
     "output_type": "stream",
     "text": [
      "Best trial: 23. Best value: 0.208228:  64%|██████▍   | 32/50 [02:01<01:08,  3.80s/it]"
     ]
    },
    {
     "name": "stdout",
     "output_type": "stream",
     "text": [
      "[I 2023-07-31 04:42:11,506] Trial 31 finished with value: 0.20799704113546266 and parameters: {'n_items_to_rank': 214}. Best is trial 23 with value: 0.20822807240794658.\n",
      "EvaluatorHoldout: Processed 5961 (100.0%) in 3.78 sec. Users per second: 1575\n"
     ]
    },
    {
     "name": "stderr",
     "output_type": "stream",
     "text": [
      "Best trial: 23. Best value: 0.208228:  66%|██████▌   | 33/50 [02:05<01:04,  3.80s/it]"
     ]
    },
    {
     "name": "stdout",
     "output_type": "stream",
     "text": [
      "[I 2023-07-31 04:42:15,319] Trial 32 finished with value: 0.20799704113546266 and parameters: {'n_items_to_rank': 250}. Best is trial 23 with value: 0.20822807240794658.\n",
      "EvaluatorHoldout: Processed 5961 (100.0%) in 3.47 sec. Users per second: 1718\n"
     ]
    },
    {
     "name": "stderr",
     "output_type": "stream",
     "text": [
      "Best trial: 23. Best value: 0.208228:  68%|██████▊   | 34/50 [02:08<00:59,  3.71s/it]"
     ]
    },
    {
     "name": "stdout",
     "output_type": "stream",
     "text": [
      "[I 2023-07-31 04:42:18,812] Trial 33 finished with value: 0.20398560378276642 and parameters: {'n_items_to_rank': 10}. Best is trial 23 with value: 0.20822807240794658.\n",
      "EvaluatorHoldout: Processed 5961 (100.0%) in 3.75 sec. Users per second: 1589\n"
     ]
    },
    {
     "name": "stderr",
     "output_type": "stream",
     "text": [
      "Best trial: 23. Best value: 0.208228:  70%|███████   | 35/50 [02:12<00:55,  3.73s/it]"
     ]
    },
    {
     "name": "stdout",
     "output_type": "stream",
     "text": [
      "[I 2023-07-31 04:42:22,590] Trial 34 finished with value: 0.20822807240794658 and parameters: {'n_items_to_rank': 47}. Best is trial 23 with value: 0.20822807240794658.\n",
      "EvaluatorHoldout: Processed 5961 (100.0%) in 3.78 sec. Users per second: 1578\n"
     ]
    },
    {
     "name": "stderr",
     "output_type": "stream",
     "text": [
      "Best trial: 23. Best value: 0.208228:  72%|███████▏  | 36/50 [02:16<00:52,  3.75s/it]"
     ]
    },
    {
     "name": "stdout",
     "output_type": "stream",
     "text": [
      "[I 2023-07-31 04:42:26,395] Trial 35 finished with value: 0.20799704113546266 and parameters: {'n_items_to_rank': 195}. Best is trial 23 with value: 0.20822807240794658.\n",
      "EvaluatorHoldout: Processed 5961 (100.0%) in 3.74 sec. Users per second: 1592\n"
     ]
    },
    {
     "name": "stderr",
     "output_type": "stream",
     "text": [
      "Best trial: 23. Best value: 0.208228:  74%|███████▍  | 37/50 [02:20<00:48,  3.76s/it]"
     ]
    },
    {
     "name": "stdout",
     "output_type": "stream",
     "text": [
      "[I 2023-07-31 04:42:30,166] Trial 36 finished with value: 0.20822807240794658 and parameters: {'n_items_to_rank': 47}. Best is trial 23 with value: 0.20822807240794658.\n",
      "EvaluatorHoldout: Processed 5961 (100.0%) in 3.73 sec. Users per second: 1596\n"
     ]
    },
    {
     "name": "stderr",
     "output_type": "stream",
     "text": [
      "Best trial: 23. Best value: 0.208228:  76%|███████▌  | 38/50 [02:23<00:45,  3.76s/it]"
     ]
    },
    {
     "name": "stdout",
     "output_type": "stream",
     "text": [
      "[I 2023-07-31 04:42:33,929] Trial 37 finished with value: 0.20822807240794658 and parameters: {'n_items_to_rank': 47}. Best is trial 23 with value: 0.20822807240794658.\n",
      "EvaluatorHoldout: Processed 5961 (100.0%) in 3.77 sec. Users per second: 1581\n"
     ]
    },
    {
     "name": "stderr",
     "output_type": "stream",
     "text": [
      "Best trial: 23. Best value: 0.208228:  78%|███████▊  | 39/50 [02:27<00:41,  3.77s/it]"
     ]
    },
    {
     "name": "stdout",
     "output_type": "stream",
     "text": [
      "[I 2023-07-31 04:42:37,728] Trial 38 finished with value: 0.20799704113546266 and parameters: {'n_items_to_rank': 256}. Best is trial 23 with value: 0.20822807240794658.\n",
      "EvaluatorHoldout: Processed 5961 (100.0%) in 3.78 sec. Users per second: 1578\n"
     ]
    },
    {
     "name": "stderr",
     "output_type": "stream",
     "text": [
      "Best trial: 23. Best value: 0.208228:  80%|████████  | 40/50 [02:31<00:38,  3.81s/it]"
     ]
    },
    {
     "name": "stdout",
     "output_type": "stream",
     "text": [
      "[I 2023-07-31 04:42:41,636] Trial 39 finished with value: 0.20799704113546266 and parameters: {'n_items_to_rank': 233}. Best is trial 23 with value: 0.20822807240794658.\n",
      "EvaluatorHoldout: Processed 5961 (100.0%) in 3.78 sec. Users per second: 1578\n"
     ]
    },
    {
     "name": "stderr",
     "output_type": "stream",
     "text": [
      "Best trial: 23. Best value: 0.208228:  82%|████████▏ | 41/50 [02:35<00:34,  3.81s/it]"
     ]
    },
    {
     "name": "stdout",
     "output_type": "stream",
     "text": [
      "[I 2023-07-31 04:42:45,441] Trial 40 finished with value: 0.20799704113546266 and parameters: {'n_items_to_rank': 55}. Best is trial 23 with value: 0.20822807240794658.\n",
      "EvaluatorHoldout: Processed 5961 (100.0%) in 3.75 sec. Users per second: 1588\n"
     ]
    },
    {
     "name": "stderr",
     "output_type": "stream",
     "text": [
      "Best trial: 23. Best value: 0.208228:  84%|████████▍ | 42/50 [02:39<00:30,  3.80s/it]"
     ]
    },
    {
     "name": "stdout",
     "output_type": "stream",
     "text": [
      "[I 2023-07-31 04:42:49,222] Trial 41 finished with value: 0.20822807240794658 and parameters: {'n_items_to_rank': 47}. Best is trial 23 with value: 0.20822807240794658.\n",
      "EvaluatorHoldout: Processed 5961 (100.0%) in 3.74 sec. Users per second: 1592\n"
     ]
    },
    {
     "name": "stderr",
     "output_type": "stream",
     "text": [
      "Best trial: 23. Best value: 0.208228:  86%|████████▌ | 43/50 [02:42<00:26,  3.79s/it]"
     ]
    },
    {
     "name": "stdout",
     "output_type": "stream",
     "text": [
      "[I 2023-07-31 04:42:52,995] Trial 42 finished with value: 0.20822807240794658 and parameters: {'n_items_to_rank': 47}. Best is trial 23 with value: 0.20822807240794658.\n",
      "EvaluatorHoldout: Processed 5961 (100.0%) in 3.77 sec. Users per second: 1581\n"
     ]
    },
    {
     "name": "stderr",
     "output_type": "stream",
     "text": [
      "Best trial: 23. Best value: 0.208228:  88%|████████▊ | 44/50 [02:46<00:22,  3.80s/it]"
     ]
    },
    {
     "name": "stdout",
     "output_type": "stream",
     "text": [
      "[I 2023-07-31 04:42:56,796] Trial 43 finished with value: 0.20799704113546266 and parameters: {'n_items_to_rank': 189}. Best is trial 23 with value: 0.20822807240794658.\n",
      "EvaluatorHoldout: Processed 5961 (100.0%) in 3.76 sec. Users per second: 1586\n"
     ]
    },
    {
     "name": "stderr",
     "output_type": "stream",
     "text": [
      "Best trial: 23. Best value: 0.208228:  90%|█████████ | 45/50 [02:50<00:18,  3.79s/it]"
     ]
    },
    {
     "name": "stdout",
     "output_type": "stream",
     "text": [
      "[I 2023-07-31 04:43:00,585] Trial 44 finished with value: 0.20822807240794658 and parameters: {'n_items_to_rank': 47}. Best is trial 23 with value: 0.20822807240794658.\n",
      "EvaluatorHoldout: Processed 5961 (100.0%) in 3.77 sec. Users per second: 1579\n"
     ]
    },
    {
     "name": "stderr",
     "output_type": "stream",
     "text": [
      "Best trial: 23. Best value: 0.208228:  92%|█████████▏| 46/50 [02:54<00:15,  3.80s/it]"
     ]
    },
    {
     "name": "stdout",
     "output_type": "stream",
     "text": [
      "[I 2023-07-31 04:43:04,389] Trial 45 finished with value: 0.20822807240794658 and parameters: {'n_items_to_rank': 47}. Best is trial 23 with value: 0.20822807240794658.\n",
      "EvaluatorHoldout: Processed 5961 (100.0%) in 3.75 sec. Users per second: 1588\n"
     ]
    },
    {
     "name": "stderr",
     "output_type": "stream",
     "text": [
      "Best trial: 23. Best value: 0.208228:  94%|█████████▍| 47/50 [02:58<00:11,  3.79s/it]"
     ]
    },
    {
     "name": "stdout",
     "output_type": "stream",
     "text": [
      "[I 2023-07-31 04:43:08,171] Trial 46 finished with value: 0.20822807240794658 and parameters: {'n_items_to_rank': 47}. Best is trial 23 with value: 0.20822807240794658.\n",
      "EvaluatorHoldout: Processed 5961 (100.0%) in 3.77 sec. Users per second: 1582\n"
     ]
    },
    {
     "name": "stderr",
     "output_type": "stream",
     "text": [
      "Best trial: 23. Best value: 0.208228:  96%|█████████▌| 48/50 [03:01<00:07,  3.79s/it]"
     ]
    },
    {
     "name": "stdout",
     "output_type": "stream",
     "text": [
      "[I 2023-07-31 04:43:11,968] Trial 47 finished with value: 0.20822807240794658 and parameters: {'n_items_to_rank': 47}. Best is trial 23 with value: 0.20822807240794658.\n",
      "EvaluatorHoldout: Processed 5961 (100.0%) in 3.77 sec. Users per second: 1579\n"
     ]
    },
    {
     "name": "stderr",
     "output_type": "stream",
     "text": [
      "Best trial: 23. Best value: 0.208228:  98%|█████████▊| 49/50 [03:05<00:03,  3.80s/it]"
     ]
    },
    {
     "name": "stdout",
     "output_type": "stream",
     "text": [
      "[I 2023-07-31 04:43:15,774] Trial 48 finished with value: 0.20799704113546266 and parameters: {'n_items_to_rank': 289}. Best is trial 23 with value: 0.20822807240794658.\n",
      "EvaluatorHoldout: Processed 5961 (100.0%) in 3.78 sec. Users per second: 1579\n"
     ]
    },
    {
     "name": "stderr",
     "output_type": "stream",
     "text": [
      "Best trial: 23. Best value: 0.208228: 100%|██████████| 50/50 [03:09<00:00,  3.79s/it]"
     ]
    },
    {
     "name": "stdout",
     "output_type": "stream",
     "text": [
      "[I 2023-07-31 04:43:19,579] Trial 49 finished with value: 0.20799704113546266 and parameters: {'n_items_to_rank': 60}. Best is trial 23 with value: 0.20822807240794658.\n",
      "Recommender_Base_Class: URM Detected 194 ( 5.0%) items with no interactions.\n"
     ]
    },
    {
     "name": "stderr",
     "output_type": "stream",
     "text": [
      "\n"
     ]
    },
    {
     "name": "stdout",
     "output_type": "stream",
     "text": [
      "EvaluatorHoldout: Processed 5976 (100.0%) in 4.03 sec. Users per second: 1482\n"
     ]
    },
    {
     "name": "stderr",
     "output_type": "stream",
     "text": [
      "[I 2023-07-31 04:43:28,564] A new study created in memory with name: no-name-02c872d0-6260-479c-8755-df29ec4ab807\n",
      "  0%|          | 0/50 [00:00<?, ?it/s]"
     ]
    },
    {
     "name": "stdout",
     "output_type": "stream",
     "text": [
      "SLIMElasticNetRecommender\n",
      "DiffusionAutoencoderRecommender_SLIMElasticNetRecommender_TwoLevelRec\n",
      "EvaluatorHoldout: Processed 5961 (100.0%) in 4.08 sec. Users per second: 1462\n"
     ]
    },
    {
     "name": "stderr",
     "output_type": "stream",
     "text": [
      "Best trial: 0. Best value: 0.293305:   2%|▏         | 1/50 [00:04<03:20,  4.09s/it]"
     ]
    },
    {
     "name": "stdout",
     "output_type": "stream",
     "text": [
      "[I 2023-07-31 04:43:32,655] Trial 0 finished with value: 0.29330523821827575 and parameters: {'n_items_to_rank': 152}. Best is trial 0 with value: 0.29330523821827575.\n",
      "EvaluatorHoldout: Processed 5961 (100.0%) in 4.09 sec. Users per second: 1457\n"
     ]
    },
    {
     "name": "stderr",
     "output_type": "stream",
     "text": [
      "Best trial: 0. Best value: 0.293305:   4%|▍         | 2/50 [00:08<03:16,  4.10s/it]"
     ]
    },
    {
     "name": "stdout",
     "output_type": "stream",
     "text": [
      "[I 2023-07-31 04:43:36,763] Trial 1 finished with value: 0.29330523821827575 and parameters: {'n_items_to_rank': 316}. Best is trial 0 with value: 0.29330523821827575.\n",
      "EvaluatorHoldout: Processed 5961 (100.0%) in 4.08 sec. Users per second: 1460\n"
     ]
    },
    {
     "name": "stderr",
     "output_type": "stream",
     "text": [
      "Best trial: 0. Best value: 0.293305:   6%|▌         | 3/50 [00:12<03:12,  4.10s/it]"
     ]
    },
    {
     "name": "stdout",
     "output_type": "stream",
     "text": [
      "[I 2023-07-31 04:43:40,860] Trial 2 finished with value: 0.29330523821827575 and parameters: {'n_items_to_rank': 97}. Best is trial 0 with value: 0.29330523821827575.\n",
      "EvaluatorHoldout: Processed 5961 (100.0%) in 4.06 sec. Users per second: 1468\n"
     ]
    },
    {
     "name": "stderr",
     "output_type": "stream",
     "text": [
      "Best trial: 0. Best value: 0.293305:   8%|▊         | 4/50 [00:16<03:08,  4.09s/it]"
     ]
    },
    {
     "name": "stdout",
     "output_type": "stream",
     "text": [
      "[I 2023-07-31 04:43:44,937] Trial 3 finished with value: 0.29330523821827575 and parameters: {'n_items_to_rank': 316}. Best is trial 0 with value: 0.29330523821827575.\n",
      "EvaluatorHoldout: Processed 5961 (100.0%) in 4.17 sec. Users per second: 1431\n"
     ]
    },
    {
     "name": "stderr",
     "output_type": "stream",
     "text": [
      "Best trial: 0. Best value: 0.293305:  10%|█         | 5/50 [00:20<03:05,  4.12s/it]"
     ]
    },
    {
     "name": "stdout",
     "output_type": "stream",
     "text": [
      "[I 2023-07-31 04:43:49,121] Trial 4 finished with value: 0.29330523821827575 and parameters: {'n_items_to_rank': 229}. Best is trial 0 with value: 0.29330523821827575.\n",
      "EvaluatorHoldout: Processed 5961 (100.0%) in 4.07 sec. Users per second: 1465\n"
     ]
    },
    {
     "name": "stderr",
     "output_type": "stream",
     "text": [
      "Best trial: 0. Best value: 0.293305:  12%|█▏        | 6/50 [00:24<03:00,  4.11s/it]"
     ]
    },
    {
     "name": "stdout",
     "output_type": "stream",
     "text": [
      "[I 2023-07-31 04:43:53,207] Trial 5 finished with value: 0.29330523821827575 and parameters: {'n_items_to_rank': 203}. Best is trial 0 with value: 0.29330523821827575.\n",
      "EvaluatorHoldout: Processed 5961 (100.0%) in 4.08 sec. Users per second: 1460\n"
     ]
    },
    {
     "name": "stderr",
     "output_type": "stream",
     "text": [
      "Best trial: 0. Best value: 0.293305:  14%|█▍        | 7/50 [00:28<02:56,  4.11s/it]"
     ]
    },
    {
     "name": "stdout",
     "output_type": "stream",
     "text": [
      "[I 2023-07-31 04:43:57,307] Trial 6 finished with value: 0.29330523821827575 and parameters: {'n_items_to_rank': 52}. Best is trial 0 with value: 0.29330523821827575.\n",
      "EvaluatorHoldout: Processed 5961 (100.0%) in 4.08 sec. Users per second: 1462\n"
     ]
    },
    {
     "name": "stderr",
     "output_type": "stream",
     "text": [
      "Best trial: 0. Best value: 0.293305:  16%|█▌        | 8/50 [00:32<02:52,  4.10s/it]"
     ]
    },
    {
     "name": "stdout",
     "output_type": "stream",
     "text": [
      "[I 2023-07-31 04:44:01,404] Trial 7 finished with value: 0.29330523821827575 and parameters: {'n_items_to_rank': 107}. Best is trial 0 with value: 0.29330523821827575.\n",
      "EvaluatorHoldout: Processed 5961 (100.0%) in 4.12 sec. Users per second: 1448\n"
     ]
    },
    {
     "name": "stderr",
     "output_type": "stream",
     "text": [
      "Best trial: 0. Best value: 0.293305:  18%|█▊        | 9/50 [00:36<02:48,  4.11s/it]"
     ]
    },
    {
     "name": "stdout",
     "output_type": "stream",
     "text": [
      "[I 2023-07-31 04:44:05,539] Trial 8 finished with value: 0.29330523821827575 and parameters: {'n_items_to_rank': 117}. Best is trial 0 with value: 0.29330523821827575.\n",
      "EvaluatorHoldout: Processed 5961 (100.0%) in 4.10 sec. Users per second: 1455\n"
     ]
    },
    {
     "name": "stderr",
     "output_type": "stream",
     "text": [
      "Best trial: 0. Best value: 0.293305:  20%|██        | 10/50 [00:41<02:44,  4.11s/it]"
     ]
    },
    {
     "name": "stdout",
     "output_type": "stream",
     "text": [
      "[I 2023-07-31 04:44:09,653] Trial 9 finished with value: 0.29330523821827575 and parameters: {'n_items_to_rank': 140}. Best is trial 0 with value: 0.29330523821827575.\n",
      "EvaluatorHoldout: Processed 5961 (100.0%) in 4.07 sec. Users per second: 1465\n"
     ]
    },
    {
     "name": "stderr",
     "output_type": "stream",
     "text": [
      "Best trial: 0. Best value: 0.293305:  22%|██▏       | 11/50 [00:45<02:40,  4.11s/it]"
     ]
    },
    {
     "name": "stdout",
     "output_type": "stream",
     "text": [
      "[I 2023-07-31 04:44:13,739] Trial 10 finished with value: 0.29330523821827575 and parameters: {'n_items_to_rank': 152}. Best is trial 0 with value: 0.29330523821827575.\n",
      "EvaluatorHoldout: Processed 5961 (100.0%) in 4.09 sec. Users per second: 1458\n"
     ]
    },
    {
     "name": "stderr",
     "output_type": "stream",
     "text": [
      "Best trial: 0. Best value: 0.293305:  24%|██▍       | 12/50 [00:49<02:36,  4.11s/it]"
     ]
    },
    {
     "name": "stdout",
     "output_type": "stream",
     "text": [
      "[I 2023-07-31 04:44:17,847] Trial 11 finished with value: 0.29330523821827575 and parameters: {'n_items_to_rank': 223}. Best is trial 0 with value: 0.29330523821827575.\n",
      "EvaluatorHoldout: Processed 5961 (100.0%) in 4.07 sec. Users per second: 1466\n"
     ]
    },
    {
     "name": "stderr",
     "output_type": "stream",
     "text": [
      "Best trial: 0. Best value: 0.293305:  26%|██▌       | 13/50 [00:53<02:31,  4.10s/it]"
     ]
    },
    {
     "name": "stdout",
     "output_type": "stream",
     "text": [
      "[I 2023-07-31 04:44:21,934] Trial 12 finished with value: 0.29330523821827575 and parameters: {'n_items_to_rank': 291}. Best is trial 0 with value: 0.29330523821827575.\n",
      "EvaluatorHoldout: Processed 5961 (100.0%) in 4.07 sec. Users per second: 1463\n"
     ]
    },
    {
     "name": "stderr",
     "output_type": "stream",
     "text": [
      "Best trial: 0. Best value: 0.293305:  28%|██▊       | 14/50 [00:57<02:27,  4.10s/it]"
     ]
    },
    {
     "name": "stdout",
     "output_type": "stream",
     "text": [
      "[I 2023-07-31 04:44:26,029] Trial 13 finished with value: 0.29330523821827575 and parameters: {'n_items_to_rank': 274}. Best is trial 0 with value: 0.29330523821827575.\n",
      "EvaluatorHoldout: Processed 5961 (100.0%) in 4.06 sec. Users per second: 1469\n"
     ]
    },
    {
     "name": "stderr",
     "output_type": "stream",
     "text": [
      "Best trial: 0. Best value: 0.293305:  30%|███       | 15/50 [01:01<02:23,  4.09s/it]"
     ]
    },
    {
     "name": "stdout",
     "output_type": "stream",
     "text": [
      "[I 2023-07-31 04:44:30,106] Trial 14 finished with value: 0.29330523821827575 and parameters: {'n_items_to_rank': 67}. Best is trial 0 with value: 0.29330523821827575.\n",
      "EvaluatorHoldout: Processed 5961 (100.0%) in 4.06 sec. Users per second: 1469\n"
     ]
    },
    {
     "name": "stderr",
     "output_type": "stream",
     "text": [
      "Best trial: 0. Best value: 0.293305:  32%|███▏      | 16/50 [01:05<02:18,  4.09s/it]"
     ]
    },
    {
     "name": "stdout",
     "output_type": "stream",
     "text": [
      "[I 2023-07-31 04:44:34,182] Trial 15 finished with value: 0.29330523821827575 and parameters: {'n_items_to_rank': 303}. Best is trial 0 with value: 0.29330523821827575.\n",
      "EvaluatorHoldout: Processed 5961 (100.0%) in 4.08 sec. Users per second: 1463\n"
     ]
    },
    {
     "name": "stderr",
     "output_type": "stream",
     "text": [
      "Best trial: 0. Best value: 0.293305:  34%|███▍      | 17/50 [01:09<02:14,  4.09s/it]"
     ]
    },
    {
     "name": "stdout",
     "output_type": "stream",
     "text": [
      "[I 2023-07-31 04:44:38,279] Trial 16 finished with value: 0.29330523821827575 and parameters: {'n_items_to_rank': 323}. Best is trial 0 with value: 0.29330523821827575.\n",
      "EvaluatorHoldout: Processed 5961 (100.0%) in 4.06 sec. Users per second: 1469\n"
     ]
    },
    {
     "name": "stderr",
     "output_type": "stream",
     "text": [
      "Best trial: 0. Best value: 0.293305:  36%|███▌      | 18/50 [01:13<02:10,  4.09s/it]"
     ]
    },
    {
     "name": "stdout",
     "output_type": "stream",
     "text": [
      "[I 2023-07-31 04:44:42,358] Trial 17 finished with value: 0.29330523821827575 and parameters: {'n_items_to_rank': 79}. Best is trial 0 with value: 0.29330523821827575.\n",
      "EvaluatorHoldout: Processed 5961 (100.0%) in 4.06 sec. Users per second: 1468\n"
     ]
    },
    {
     "name": "stderr",
     "output_type": "stream",
     "text": [
      "Best trial: 0. Best value: 0.293305:  38%|███▊      | 19/50 [01:17<02:06,  4.09s/it]"
     ]
    },
    {
     "name": "stdout",
     "output_type": "stream",
     "text": [
      "[I 2023-07-31 04:44:46,440] Trial 18 finished with value: 0.29330523821827575 and parameters: {'n_items_to_rank': 247}. Best is trial 0 with value: 0.29330523821827575.\n",
      "EvaluatorHoldout: Processed 5961 (100.0%) in 4.05 sec. Users per second: 1471\n"
     ]
    },
    {
     "name": "stderr",
     "output_type": "stream",
     "text": [
      "Best trial: 0. Best value: 0.293305:  40%|████      | 20/50 [01:21<02:02,  4.08s/it]"
     ]
    },
    {
     "name": "stdout",
     "output_type": "stream",
     "text": [
      "[I 2023-07-31 04:44:50,516] Trial 19 finished with value: 0.29330523821827575 and parameters: {'n_items_to_rank': 216}. Best is trial 0 with value: 0.29330523821827575.\n",
      "EvaluatorHoldout: Processed 5961 (100.0%) in 4.06 sec. Users per second: 1469\n"
     ]
    },
    {
     "name": "stderr",
     "output_type": "stream",
     "text": [
      "Best trial: 0. Best value: 0.293305:  42%|████▏     | 21/50 [01:26<01:58,  4.08s/it]"
     ]
    },
    {
     "name": "stdout",
     "output_type": "stream",
     "text": [
      "[I 2023-07-31 04:44:54,597] Trial 20 finished with value: 0.29330523821827575 and parameters: {'n_items_to_rank': 316}. Best is trial 0 with value: 0.29330523821827575.\n",
      "EvaluatorHoldout: Processed 5961 (100.0%) in 4.08 sec. Users per second: 1462\n"
     ]
    },
    {
     "name": "stderr",
     "output_type": "stream",
     "text": [
      "Best trial: 0. Best value: 0.293305:  44%|████▍     | 22/50 [01:30<01:54,  4.09s/it]"
     ]
    },
    {
     "name": "stdout",
     "output_type": "stream",
     "text": [
      "[I 2023-07-31 04:44:58,696] Trial 21 finished with value: 0.29330523821827575 and parameters: {'n_items_to_rank': 137}. Best is trial 0 with value: 0.29330523821827575.\n",
      "EvaluatorHoldout: Processed 5961 (100.0%) in 4.16 sec. Users per second: 1432\n"
     ]
    },
    {
     "name": "stderr",
     "output_type": "stream",
     "text": [
      "Best trial: 0. Best value: 0.293305:  46%|████▌     | 23/50 [01:34<01:51,  4.12s/it]"
     ]
    },
    {
     "name": "stdout",
     "output_type": "stream",
     "text": [
      "[I 2023-07-31 04:45:02,883] Trial 22 finished with value: 0.29330523821827575 and parameters: {'n_items_to_rank': 246}. Best is trial 0 with value: 0.29330523821827575.\n",
      "EvaluatorHoldout: Processed 5961 (100.0%) in 4.07 sec. Users per second: 1464\n"
     ]
    },
    {
     "name": "stderr",
     "output_type": "stream",
     "text": [
      "Best trial: 0. Best value: 0.293305:  48%|████▊     | 24/50 [01:38<01:46,  4.11s/it]"
     ]
    },
    {
     "name": "stdout",
     "output_type": "stream",
     "text": [
      "[I 2023-07-31 04:45:06,985] Trial 23 finished with value: 0.29330523821827575 and parameters: {'n_items_to_rank': 282}. Best is trial 0 with value: 0.29330523821827575.\n",
      "EvaluatorHoldout: Processed 5961 (100.0%) in 4.05 sec. Users per second: 1472\n"
     ]
    },
    {
     "name": "stderr",
     "output_type": "stream",
     "text": [
      "Best trial: 0. Best value: 0.293305:  50%|█████     | 25/50 [01:42<01:42,  4.10s/it]"
     ]
    },
    {
     "name": "stdout",
     "output_type": "stream",
     "text": [
      "[I 2023-07-31 04:45:11,061] Trial 24 finished with value: 0.29330523821827575 and parameters: {'n_items_to_rank': 313}. Best is trial 0 with value: 0.29330523821827575.\n",
      "EvaluatorHoldout: Processed 5961 (100.0%) in 4.06 sec. Users per second: 1470\n"
     ]
    },
    {
     "name": "stderr",
     "output_type": "stream",
     "text": [
      "Best trial: 0. Best value: 0.293305:  52%|█████▏    | 26/50 [01:46<01:38,  4.10s/it]"
     ]
    },
    {
     "name": "stdout",
     "output_type": "stream",
     "text": [
      "[I 2023-07-31 04:45:15,142] Trial 25 finished with value: 0.29330523821827575 and parameters: {'n_items_to_rank': 206}. Best is trial 0 with value: 0.29330523821827575.\n",
      "EvaluatorHoldout: Processed 5961 (100.0%) in 4.05 sec. Users per second: 1470\n"
     ]
    },
    {
     "name": "stderr",
     "output_type": "stream",
     "text": [
      "Best trial: 0. Best value: 0.293305:  54%|█████▍    | 27/50 [01:50<01:34,  4.09s/it]"
     ]
    },
    {
     "name": "stdout",
     "output_type": "stream",
     "text": [
      "[I 2023-07-31 04:45:19,221] Trial 26 finished with value: 0.29330523821827575 and parameters: {'n_items_to_rank': 97}. Best is trial 0 with value: 0.29330523821827575.\n",
      "EvaluatorHoldout: Processed 5961 (100.0%) in 4.05 sec. Users per second: 1472\n"
     ]
    },
    {
     "name": "stderr",
     "output_type": "stream",
     "text": [
      "Best trial: 0. Best value: 0.293305:  56%|█████▌    | 28/50 [01:54<01:29,  4.09s/it]"
     ]
    },
    {
     "name": "stdout",
     "output_type": "stream",
     "text": [
      "[I 2023-07-31 04:45:23,295] Trial 27 finished with value: 0.29330523821827575 and parameters: {'n_items_to_rank': 222}. Best is trial 0 with value: 0.29330523821827575.\n",
      "EvaluatorHoldout: Processed 5961 (100.0%) in 4.07 sec. Users per second: 1466\n"
     ]
    },
    {
     "name": "stderr",
     "output_type": "stream",
     "text": [
      "Best trial: 0. Best value: 0.293305:  58%|█████▊    | 29/50 [01:58<01:25,  4.09s/it]"
     ]
    },
    {
     "name": "stdout",
     "output_type": "stream",
     "text": [
      "[I 2023-07-31 04:45:27,388] Trial 28 finished with value: 0.29330523821827575 and parameters: {'n_items_to_rank': 294}. Best is trial 0 with value: 0.29330523821827575.\n",
      "EvaluatorHoldout: Processed 5961 (100.0%) in 4.05 sec. Users per second: 1473\n"
     ]
    },
    {
     "name": "stderr",
     "output_type": "stream",
     "text": [
      "Best trial: 0. Best value: 0.293305:  60%|██████    | 30/50 [02:02<01:21,  4.08s/it]"
     ]
    },
    {
     "name": "stdout",
     "output_type": "stream",
     "text": [
      "[I 2023-07-31 04:45:31,462] Trial 29 finished with value: 0.29330523821827575 and parameters: {'n_items_to_rank': 159}. Best is trial 0 with value: 0.29330523821827575.\n",
      "EvaluatorHoldout: Processed 5961 (100.0%) in 4.08 sec. Users per second: 1461\n"
     ]
    },
    {
     "name": "stderr",
     "output_type": "stream",
     "text": [
      "Best trial: 0. Best value: 0.293305:  62%|██████▏   | 31/50 [02:07<01:17,  4.09s/it]"
     ]
    },
    {
     "name": "stdout",
     "output_type": "stream",
     "text": [
      "[I 2023-07-31 04:45:35,568] Trial 30 finished with value: 0.29330523821827575 and parameters: {'n_items_to_rank': 99}. Best is trial 0 with value: 0.29330523821827575.\n",
      "EvaluatorHoldout: Processed 5961 (100.0%) in 4.07 sec. Users per second: 1464\n"
     ]
    },
    {
     "name": "stderr",
     "output_type": "stream",
     "text": [
      "Best trial: 0. Best value: 0.293305:  64%|██████▍   | 32/50 [02:11<01:13,  4.09s/it]"
     ]
    },
    {
     "name": "stdout",
     "output_type": "stream",
     "text": [
      "[I 2023-07-31 04:45:39,668] Trial 31 finished with value: 0.29330523821827575 and parameters: {'n_items_to_rank': 144}. Best is trial 0 with value: 0.29330523821827575.\n",
      "EvaluatorHoldout: Processed 5961 (100.0%) in 4.05 sec. Users per second: 1472\n"
     ]
    },
    {
     "name": "stderr",
     "output_type": "stream",
     "text": [
      "Best trial: 0. Best value: 0.293305:  66%|██████▌   | 33/50 [02:15<01:09,  4.09s/it]"
     ]
    },
    {
     "name": "stdout",
     "output_type": "stream",
     "text": [
      "[I 2023-07-31 04:45:43,745] Trial 32 finished with value: 0.29330523821827575 and parameters: {'n_items_to_rank': 57}. Best is trial 0 with value: 0.29330523821827575.\n",
      "EvaluatorHoldout: Processed 5961 (100.0%) in 4.07 sec. Users per second: 1466\n"
     ]
    },
    {
     "name": "stderr",
     "output_type": "stream",
     "text": [
      "Best trial: 0. Best value: 0.293305:  68%|██████▊   | 34/50 [02:19<01:05,  4.09s/it]"
     ]
    },
    {
     "name": "stdout",
     "output_type": "stream",
     "text": [
      "[I 2023-07-31 04:45:47,837] Trial 33 finished with value: 0.29330523821827575 and parameters: {'n_items_to_rank': 296}. Best is trial 0 with value: 0.29330523821827575.\n",
      "EvaluatorHoldout: Processed 5961 (100.0%) in 4.04 sec. Users per second: 1474\n"
     ]
    },
    {
     "name": "stderr",
     "output_type": "stream",
     "text": [
      "Best trial: 0. Best value: 0.293305:  70%|███████   | 35/50 [02:23<01:01,  4.08s/it]"
     ]
    },
    {
     "name": "stdout",
     "output_type": "stream",
     "text": [
      "[I 2023-07-31 04:45:51,909] Trial 34 finished with value: 0.29330523821827575 and parameters: {'n_items_to_rank': 316}. Best is trial 0 with value: 0.29330523821827575.\n",
      "EvaluatorHoldout: Processed 5961 (100.0%) in 4.05 sec. Users per second: 1471\n"
     ]
    },
    {
     "name": "stderr",
     "output_type": "stream",
     "text": [
      "Best trial: 0. Best value: 0.293305:  72%|███████▏  | 36/50 [02:27<00:57,  4.08s/it]"
     ]
    },
    {
     "name": "stdout",
     "output_type": "stream",
     "text": [
      "[I 2023-07-31 04:45:55,989] Trial 35 finished with value: 0.29330523821827575 and parameters: {'n_items_to_rank': 68}. Best is trial 0 with value: 0.29330523821827575.\n",
      "EvaluatorHoldout: Processed 5961 (100.0%) in 4.07 sec. Users per second: 1463\n"
     ]
    },
    {
     "name": "stderr",
     "output_type": "stream",
     "text": [
      "Best trial: 0. Best value: 0.293305:  74%|███████▍  | 37/50 [02:31<00:53,  4.09s/it]"
     ]
    },
    {
     "name": "stdout",
     "output_type": "stream",
     "text": [
      "[I 2023-07-31 04:46:00,095] Trial 36 finished with value: 0.29330523821827575 and parameters: {'n_items_to_rank': 256}. Best is trial 0 with value: 0.29330523821827575.\n",
      "EvaluatorHoldout: Processed 5961 (100.0%) in 4.06 sec. Users per second: 1470\n"
     ]
    },
    {
     "name": "stderr",
     "output_type": "stream",
     "text": [
      "Best trial: 0. Best value: 0.293305:  76%|███████▌  | 38/50 [02:35<00:49,  4.09s/it]"
     ]
    },
    {
     "name": "stdout",
     "output_type": "stream",
     "text": [
      "[I 2023-07-31 04:46:04,179] Trial 37 finished with value: 0.29330523821827575 and parameters: {'n_items_to_rank': 60}. Best is trial 0 with value: 0.29330523821827575.\n",
      "EvaluatorHoldout: Processed 5961 (100.0%) in 4.04 sec. Users per second: 1474\n"
     ]
    },
    {
     "name": "stderr",
     "output_type": "stream",
     "text": [
      "Best trial: 0. Best value: 0.293305:  78%|███████▊  | 39/50 [02:39<00:44,  4.08s/it]"
     ]
    },
    {
     "name": "stdout",
     "output_type": "stream",
     "text": [
      "[I 2023-07-31 04:46:08,251] Trial 38 finished with value: 0.29330523821827575 and parameters: {'n_items_to_rank': 205}. Best is trial 0 with value: 0.29330523821827575.\n",
      "EvaluatorHoldout: Processed 5961 (100.0%) in 4.04 sec. Users per second: 1476\n"
     ]
    },
    {
     "name": "stderr",
     "output_type": "stream",
     "text": [
      "Best trial: 0. Best value: 0.293305:  80%|████████  | 40/50 [02:43<00:40,  4.08s/it]"
     ]
    },
    {
     "name": "stdout",
     "output_type": "stream",
     "text": [
      "[I 2023-07-31 04:46:12,316] Trial 39 finished with value: 0.29330523821827575 and parameters: {'n_items_to_rank': 124}. Best is trial 0 with value: 0.29330523821827575.\n",
      "EvaluatorHoldout: Processed 5961 (100.0%) in 4.17 sec. Users per second: 1430\n"
     ]
    },
    {
     "name": "stderr",
     "output_type": "stream",
     "text": [
      "Best trial: 0. Best value: 0.293305:  82%|████████▏ | 41/50 [02:47<00:37,  4.11s/it]"
     ]
    },
    {
     "name": "stdout",
     "output_type": "stream",
     "text": [
      "[I 2023-07-31 04:46:16,513] Trial 40 finished with value: 0.29330523821827575 and parameters: {'n_items_to_rank': 329}. Best is trial 0 with value: 0.29330523821827575.\n",
      "EvaluatorHoldout: Processed 5961 (100.0%) in 4.08 sec. Users per second: 1460\n"
     ]
    },
    {
     "name": "stderr",
     "output_type": "stream",
     "text": [
      "Best trial: 0. Best value: 0.293305:  84%|████████▍ | 42/50 [02:52<00:32,  4.11s/it]"
     ]
    },
    {
     "name": "stdout",
     "output_type": "stream",
     "text": [
      "[I 2023-07-31 04:46:20,626] Trial 41 finished with value: 0.29330523821827575 and parameters: {'n_items_to_rank': 290}. Best is trial 0 with value: 0.29330523821827575.\n",
      "EvaluatorHoldout: Processed 5961 (100.0%) in 4.04 sec. Users per second: 1475\n"
     ]
    },
    {
     "name": "stderr",
     "output_type": "stream",
     "text": [
      "Best trial: 0. Best value: 0.293305:  86%|████████▌ | 43/50 [02:56<00:28,  4.10s/it]"
     ]
    },
    {
     "name": "stdout",
     "output_type": "stream",
     "text": [
      "[I 2023-07-31 04:46:24,698] Trial 42 finished with value: 0.29330523821827575 and parameters: {'n_items_to_rank': 327}. Best is trial 0 with value: 0.29330523821827575.\n",
      "EvaluatorHoldout: Processed 5961 (100.0%) in 4.03 sec. Users per second: 1479\n"
     ]
    },
    {
     "name": "stderr",
     "output_type": "stream",
     "text": [
      "Best trial: 0. Best value: 0.293305:  88%|████████▊ | 44/50 [03:00<00:24,  4.09s/it]"
     ]
    },
    {
     "name": "stdout",
     "output_type": "stream",
     "text": [
      "[I 2023-07-31 04:46:28,761] Trial 43 finished with value: 0.29330523821827575 and parameters: {'n_items_to_rank': 229}. Best is trial 0 with value: 0.29330523821827575.\n",
      "EvaluatorHoldout: Processed 5961 (100.0%) in 4.03 sec. Users per second: 1480\n"
     ]
    },
    {
     "name": "stderr",
     "output_type": "stream",
     "text": [
      "Best trial: 0. Best value: 0.293305:  90%|█████████ | 45/50 [03:04<00:20,  4.08s/it]"
     ]
    },
    {
     "name": "stdout",
     "output_type": "stream",
     "text": [
      "[I 2023-07-31 04:46:32,822] Trial 44 finished with value: 0.29330523821827575 and parameters: {'n_items_to_rank': 258}. Best is trial 0 with value: 0.29330523821827575.\n",
      "EvaluatorHoldout: Processed 5961 (100.0%) in 4.03 sec. Users per second: 1478\n"
     ]
    },
    {
     "name": "stderr",
     "output_type": "stream",
     "text": [
      "Best trial: 0. Best value: 0.293305:  92%|█████████▏| 46/50 [03:08<00:16,  4.08s/it]"
     ]
    },
    {
     "name": "stdout",
     "output_type": "stream",
     "text": [
      "[I 2023-07-31 04:46:36,887] Trial 45 finished with value: 0.29330523821827575 and parameters: {'n_items_to_rank': 259}. Best is trial 0 with value: 0.29330523821827575.\n",
      "EvaluatorHoldout: Processed 5961 (100.0%) in 4.08 sec. Users per second: 1461\n"
     ]
    },
    {
     "name": "stderr",
     "output_type": "stream",
     "text": [
      "Best trial: 0. Best value: 0.293305:  94%|█████████▍| 47/50 [03:12<00:12,  4.09s/it]"
     ]
    },
    {
     "name": "stdout",
     "output_type": "stream",
     "text": [
      "[I 2023-07-31 04:46:40,999] Trial 46 finished with value: 0.29330523821827575 and parameters: {'n_items_to_rank': 152}. Best is trial 0 with value: 0.29330523821827575.\n",
      "EvaluatorHoldout: Processed 5961 (100.0%) in 4.04 sec. Users per second: 1476\n"
     ]
    },
    {
     "name": "stderr",
     "output_type": "stream",
     "text": [
      "Best trial: 0. Best value: 0.293305:  96%|█████████▌| 48/50 [03:16<00:08,  4.08s/it]"
     ]
    },
    {
     "name": "stdout",
     "output_type": "stream",
     "text": [
      "[I 2023-07-31 04:46:45,069] Trial 47 finished with value: 0.29330523821827575 and parameters: {'n_items_to_rank': 175}. Best is trial 0 with value: 0.29330523821827575.\n",
      "EvaluatorHoldout: Processed 5961 (100.0%) in 4.03 sec. Users per second: 1478\n"
     ]
    },
    {
     "name": "stderr",
     "output_type": "stream",
     "text": [
      "Best trial: 0. Best value: 0.293305:  98%|█████████▊| 49/50 [03:20<00:04,  4.08s/it]"
     ]
    },
    {
     "name": "stdout",
     "output_type": "stream",
     "text": [
      "[I 2023-07-31 04:46:49,134] Trial 48 finished with value: 0.29330523821827575 and parameters: {'n_items_to_rank': 199}. Best is trial 0 with value: 0.29330523821827575.\n",
      "EvaluatorHoldout: Processed 5961 (100.0%) in 4.08 sec. Users per second: 1462\n"
     ]
    },
    {
     "name": "stderr",
     "output_type": "stream",
     "text": [
      "Best trial: 0. Best value: 0.293305: 100%|██████████| 50/50 [03:24<00:00,  4.09s/it]"
     ]
    },
    {
     "name": "stdout",
     "output_type": "stream",
     "text": [
      "[I 2023-07-31 04:46:53,259] Trial 49 finished with value: 0.29330523821827575 and parameters: {'n_items_to_rank': 72}. Best is trial 0 with value: 0.29330523821827575.\n",
      "Recommender_Base_Class: URM Detected 194 ( 5.0%) items with no interactions.\n"
     ]
    },
    {
     "name": "stderr",
     "output_type": "stream",
     "text": [
      "\n"
     ]
    },
    {
     "name": "stdout",
     "output_type": "stream",
     "text": [
      "EvaluatorHoldout: Processed 5976 (100.0%) in 3.75 sec. Users per second: 1595\n"
     ]
    },
    {
     "name": "stderr",
     "output_type": "stream",
     "text": [
      "[I 2023-07-31 04:47:01,892] A new study created in memory with name: no-name-aad60e19-500f-46a2-a9ee-5a48b942c63a\n",
      "  0%|          | 0/50 [00:00<?, ?it/s]"
     ]
    },
    {
     "name": "stdout",
     "output_type": "stream",
     "text": [
      "ItemKNNCFRecommender\n",
      "DiffusionAutoencoderRecommender_ItemKNNCFRecommender_TwoLevelRec\n",
      "EvaluatorHoldout: Processed 5961 (100.0%) in 5.11 sec. Users per second: 1166\n"
     ]
    },
    {
     "name": "stderr",
     "output_type": "stream",
     "text": [
      "Best trial: 0. Best value: 0.275716:   2%|▏         | 1/50 [00:05<04:11,  5.13s/it]"
     ]
    },
    {
     "name": "stdout",
     "output_type": "stream",
     "text": [
      "[I 2023-07-31 04:47:07,021] Trial 0 finished with value: 0.2757162254211908 and parameters: {'n_items_to_rank': 143}. Best is trial 0 with value: 0.2757162254211908.\n",
      "EvaluatorHoldout: Processed 5961 (100.0%) in 5.13 sec. Users per second: 1163\n"
     ]
    },
    {
     "name": "stderr",
     "output_type": "stream",
     "text": [
      "Best trial: 0. Best value: 0.275716:   4%|▍         | 2/50 [00:10<04:06,  5.14s/it]"
     ]
    },
    {
     "name": "stdout",
     "output_type": "stream",
     "text": [
      "[I 2023-07-31 04:47:12,162] Trial 1 finished with value: 0.2757162254211908 and parameters: {'n_items_to_rank': 218}. Best is trial 0 with value: 0.2757162254211908.\n",
      "EvaluatorHoldout: Processed 5961 (100.0%) in 5.10 sec. Users per second: 1169\n"
     ]
    },
    {
     "name": "stderr",
     "output_type": "stream",
     "text": [
      "Best trial: 0. Best value: 0.275716:   6%|▌         | 3/50 [00:15<04:00,  5.13s/it]"
     ]
    },
    {
     "name": "stdout",
     "output_type": "stream",
     "text": [
      "[I 2023-07-31 04:47:17,276] Trial 2 finished with value: 0.2757162254211908 and parameters: {'n_items_to_rank': 296}. Best is trial 0 with value: 0.2757162254211908.\n",
      "EvaluatorHoldout: Processed 5961 (100.0%) in 5.11 sec. Users per second: 1167\n"
     ]
    },
    {
     "name": "stderr",
     "output_type": "stream",
     "text": [
      "Best trial: 0. Best value: 0.275716:   8%|▊         | 4/50 [00:20<03:55,  5.13s/it]"
     ]
    },
    {
     "name": "stdout",
     "output_type": "stream",
     "text": [
      "[I 2023-07-31 04:47:22,401] Trial 3 finished with value: 0.2757162254211908 and parameters: {'n_items_to_rank': 211}. Best is trial 0 with value: 0.2757162254211908.\n",
      "EvaluatorHoldout: Processed 5961 (100.0%) in 5.08 sec. Users per second: 1173\n"
     ]
    },
    {
     "name": "stderr",
     "output_type": "stream",
     "text": [
      "Best trial: 0. Best value: 0.275716:  10%|█         | 5/50 [00:25<03:50,  5.12s/it]"
     ]
    },
    {
     "name": "stdout",
     "output_type": "stream",
     "text": [
      "[I 2023-07-31 04:47:27,500] Trial 4 finished with value: 0.2757162254211908 and parameters: {'n_items_to_rank': 218}. Best is trial 0 with value: 0.2757162254211908.\n",
      "EvaluatorHoldout: Processed 5961 (100.0%) in 5.08 sec. Users per second: 1174\n"
     ]
    },
    {
     "name": "stderr",
     "output_type": "stream",
     "text": [
      "Best trial: 0. Best value: 0.275716:  12%|█▏        | 6/50 [00:30<03:44,  5.11s/it]"
     ]
    },
    {
     "name": "stdout",
     "output_type": "stream",
     "text": [
      "[I 2023-07-31 04:47:32,597] Trial 5 finished with value: 0.2757162254211908 and parameters: {'n_items_to_rank': 344}. Best is trial 0 with value: 0.2757162254211908.\n",
      "EvaluatorHoldout: Processed 5961 (100.0%) in 5.07 sec. Users per second: 1176\n"
     ]
    },
    {
     "name": "stderr",
     "output_type": "stream",
     "text": [
      "Best trial: 0. Best value: 0.275716:  14%|█▍        | 7/50 [00:35<03:39,  5.10s/it]"
     ]
    },
    {
     "name": "stdout",
     "output_type": "stream",
     "text": [
      "[I 2023-07-31 04:47:37,683] Trial 6 finished with value: 0.2757162254211908 and parameters: {'n_items_to_rank': 187}. Best is trial 0 with value: 0.2757162254211908.\n",
      "EvaluatorHoldout: Processed 5961 (100.0%) in 5.10 sec. Users per second: 1168\n"
     ]
    },
    {
     "name": "stderr",
     "output_type": "stream",
     "text": [
      "Best trial: 0. Best value: 0.275716:  16%|█▌        | 8/50 [00:40<03:34,  5.11s/it]"
     ]
    },
    {
     "name": "stdout",
     "output_type": "stream",
     "text": [
      "[I 2023-07-31 04:47:42,806] Trial 7 finished with value: 0.2757162254211908 and parameters: {'n_items_to_rank': 62}. Best is trial 0 with value: 0.2757162254211908.\n",
      "EvaluatorHoldout: Processed 5961 (100.0%) in 5.08 sec. Users per second: 1173\n"
     ]
    },
    {
     "name": "stderr",
     "output_type": "stream",
     "text": [
      "Best trial: 0. Best value: 0.275716:  18%|█▊        | 9/50 [00:46<03:30,  5.14s/it]"
     ]
    },
    {
     "name": "stdout",
     "output_type": "stream",
     "text": [
      "[I 2023-07-31 04:47:48,000] Trial 8 finished with value: 0.2757162254211908 and parameters: {'n_items_to_rank': 349}. Best is trial 0 with value: 0.2757162254211908.\n",
      "EvaluatorHoldout: Processed 5961 (100.0%) in 5.09 sec. Users per second: 1171\n"
     ]
    },
    {
     "name": "stderr",
     "output_type": "stream",
     "text": [
      "Best trial: 0. Best value: 0.275716:  20%|██        | 10/50 [00:51<03:25,  5.13s/it]"
     ]
    },
    {
     "name": "stdout",
     "output_type": "stream",
     "text": [
      "[I 2023-07-31 04:47:53,110] Trial 9 finished with value: 0.2757162254211908 and parameters: {'n_items_to_rank': 66}. Best is trial 0 with value: 0.2757162254211908.\n",
      "EvaluatorHoldout: Processed 5961 (100.0%) in 5.11 sec. Users per second: 1167\n"
     ]
    },
    {
     "name": "stderr",
     "output_type": "stream",
     "text": [
      "Best trial: 0. Best value: 0.275716:  22%|██▏       | 11/50 [00:56<03:19,  5.13s/it]"
     ]
    },
    {
     "name": "stdout",
     "output_type": "stream",
     "text": [
      "[I 2023-07-31 04:47:58,237] Trial 10 finished with value: 0.2757162254211908 and parameters: {'n_items_to_rank': 330}. Best is trial 0 with value: 0.2757162254211908.\n",
      "EvaluatorHoldout: Processed 5961 (100.0%) in 5.06 sec. Users per second: 1178\n"
     ]
    },
    {
     "name": "stderr",
     "output_type": "stream",
     "text": [
      "Best trial: 0. Best value: 0.275716:  24%|██▍       | 12/50 [01:01<03:14,  5.11s/it]"
     ]
    },
    {
     "name": "stdout",
     "output_type": "stream",
     "text": [
      "[I 2023-07-31 04:48:03,321] Trial 11 finished with value: 0.2757162254211908 and parameters: {'n_items_to_rank': 95}. Best is trial 0 with value: 0.2757162254211908.\n",
      "EvaluatorHoldout: Processed 5961 (100.0%) in 5.09 sec. Users per second: 1171\n"
     ]
    },
    {
     "name": "stderr",
     "output_type": "stream",
     "text": [
      "Best trial: 0. Best value: 0.275716:  26%|██▌       | 13/50 [01:06<03:09,  5.11s/it]"
     ]
    },
    {
     "name": "stdout",
     "output_type": "stream",
     "text": [
      "[I 2023-07-31 04:48:08,433] Trial 12 finished with value: 0.2757162254211908 and parameters: {'n_items_to_rank': 199}. Best is trial 0 with value: 0.2757162254211908.\n",
      "EvaluatorHoldout: Processed 5961 (100.0%) in 5.09 sec. Users per second: 1172\n"
     ]
    },
    {
     "name": "stderr",
     "output_type": "stream",
     "text": [
      "Best trial: 0. Best value: 0.275716:  28%|██▊       | 14/50 [01:11<03:04,  5.11s/it]"
     ]
    },
    {
     "name": "stdout",
     "output_type": "stream",
     "text": [
      "[I 2023-07-31 04:48:13,542] Trial 13 finished with value: 0.2757162254211908 and parameters: {'n_items_to_rank': 143}. Best is trial 0 with value: 0.2757162254211908.\n",
      "EvaluatorHoldout: Processed 5961 (100.0%) in 5.11 sec. Users per second: 1167\n"
     ]
    },
    {
     "name": "stderr",
     "output_type": "stream",
     "text": [
      "Best trial: 0. Best value: 0.275716:  30%|███       | 15/50 [01:16<02:59,  5.12s/it]"
     ]
    },
    {
     "name": "stdout",
     "output_type": "stream",
     "text": [
      "[I 2023-07-31 04:48:18,670] Trial 14 finished with value: 0.2757162254211908 and parameters: {'n_items_to_rank': 181}. Best is trial 0 with value: 0.2757162254211908.\n",
      "EvaluatorHoldout: Processed 5961 (100.0%) in 5.07 sec. Users per second: 1176\n"
     ]
    },
    {
     "name": "stderr",
     "output_type": "stream",
     "text": [
      "Best trial: 0. Best value: 0.275716:  32%|███▏      | 16/50 [01:21<02:53,  5.11s/it]"
     ]
    },
    {
     "name": "stdout",
     "output_type": "stream",
     "text": [
      "[I 2023-07-31 04:48:23,758] Trial 15 finished with value: 0.2757162254211908 and parameters: {'n_items_to_rank': 288}. Best is trial 0 with value: 0.2757162254211908.\n",
      "EvaluatorHoldout: Processed 5961 (100.0%) in 5.10 sec. Users per second: 1168\n"
     ]
    },
    {
     "name": "stderr",
     "output_type": "stream",
     "text": [
      "Best trial: 0. Best value: 0.275716:  34%|███▍      | 17/50 [01:26<02:48,  5.11s/it]"
     ]
    },
    {
     "name": "stdout",
     "output_type": "stream",
     "text": [
      "[I 2023-07-31 04:48:28,881] Trial 16 finished with value: 0.2757162254211908 and parameters: {'n_items_to_rank': 332}. Best is trial 0 with value: 0.2757162254211908.\n",
      "EvaluatorHoldout: Processed 5961 (100.0%) in 5.10 sec. Users per second: 1169\n"
     ]
    },
    {
     "name": "stderr",
     "output_type": "stream",
     "text": [
      "Best trial: 0. Best value: 0.275716:  36%|███▌      | 18/50 [01:32<02:43,  5.12s/it]"
     ]
    },
    {
     "name": "stdout",
     "output_type": "stream",
     "text": [
      "[I 2023-07-31 04:48:34,007] Trial 17 finished with value: 0.2757162254211908 and parameters: {'n_items_to_rank': 201}. Best is trial 0 with value: 0.2757162254211908.\n",
      "EvaluatorHoldout: Processed 5961 (100.0%) in 5.09 sec. Users per second: 1172\n"
     ]
    },
    {
     "name": "stderr",
     "output_type": "stream",
     "text": [
      "Best trial: 0. Best value: 0.275716:  38%|███▊      | 19/50 [01:37<02:38,  5.11s/it]"
     ]
    },
    {
     "name": "stdout",
     "output_type": "stream",
     "text": [
      "[I 2023-07-31 04:48:39,115] Trial 18 finished with value: 0.2757162254211908 and parameters: {'n_items_to_rank': 143}. Best is trial 0 with value: 0.2757162254211908.\n",
      "EvaluatorHoldout: Processed 5961 (100.0%) in 5.08 sec. Users per second: 1174\n"
     ]
    },
    {
     "name": "stderr",
     "output_type": "stream",
     "text": [
      "Best trial: 0. Best value: 0.275716:  40%|████      | 20/50 [01:42<02:33,  5.11s/it]"
     ]
    },
    {
     "name": "stdout",
     "output_type": "stream",
     "text": [
      "[I 2023-07-31 04:48:44,215] Trial 19 finished with value: 0.2757162254211908 and parameters: {'n_items_to_rank': 172}. Best is trial 0 with value: 0.2757162254211908.\n",
      "EvaluatorHoldout: Processed 5961 (100.0%) in 5.10 sec. Users per second: 1170\n"
     ]
    },
    {
     "name": "stderr",
     "output_type": "stream",
     "text": [
      "Best trial: 0. Best value: 0.275716:  42%|████▏     | 21/50 [01:47<02:28,  5.11s/it]"
     ]
    },
    {
     "name": "stdout",
     "output_type": "stream",
     "text": [
      "[I 2023-07-31 04:48:49,335] Trial 20 finished with value: 0.2757162254211908 and parameters: {'n_items_to_rank': 221}. Best is trial 0 with value: 0.2757162254211908.\n",
      "EvaluatorHoldout: Processed 5961 (100.0%) in 5.10 sec. Users per second: 1170\n"
     ]
    },
    {
     "name": "stderr",
     "output_type": "stream",
     "text": [
      "Best trial: 0. Best value: 0.275716:  44%|████▍     | 22/50 [01:52<02:23,  5.11s/it]"
     ]
    },
    {
     "name": "stdout",
     "output_type": "stream",
     "text": [
      "[I 2023-07-31 04:48:54,455] Trial 21 finished with value: 0.2757162254211908 and parameters: {'n_items_to_rank': 277}. Best is trial 0 with value: 0.2757162254211908.\n",
      "EvaluatorHoldout: Processed 5961 (100.0%) in 5.07 sec. Users per second: 1177\n"
     ]
    },
    {
     "name": "stderr",
     "output_type": "stream",
     "text": [
      "Best trial: 0. Best value: 0.275716:  46%|████▌     | 23/50 [01:57<02:17,  5.11s/it]"
     ]
    },
    {
     "name": "stdout",
     "output_type": "stream",
     "text": [
      "[I 2023-07-31 04:48:59,543] Trial 22 finished with value: 0.2757162254211908 and parameters: {'n_items_to_rank': 124}. Best is trial 0 with value: 0.2757162254211908.\n",
      "EvaluatorHoldout: Processed 5961 (100.0%) in 5.10 sec. Users per second: 1169\n"
     ]
    },
    {
     "name": "stderr",
     "output_type": "stream",
     "text": [
      "Best trial: 0. Best value: 0.275716:  48%|████▊     | 24/50 [02:02<02:12,  5.11s/it]"
     ]
    },
    {
     "name": "stdout",
     "output_type": "stream",
     "text": [
      "[I 2023-07-31 04:49:04,667] Trial 23 finished with value: 0.2757162254211908 and parameters: {'n_items_to_rank': 171}. Best is trial 0 with value: 0.2757162254211908.\n",
      "EvaluatorHoldout: Processed 5961 (100.0%) in 5.09 sec. Users per second: 1171\n"
     ]
    },
    {
     "name": "stderr",
     "output_type": "stream",
     "text": [
      "Best trial: 0. Best value: 0.275716:  50%|█████     | 25/50 [02:07<02:07,  5.11s/it]"
     ]
    },
    {
     "name": "stdout",
     "output_type": "stream",
     "text": [
      "[I 2023-07-31 04:49:09,781] Trial 24 finished with value: 0.2757162254211908 and parameters: {'n_items_to_rank': 300}. Best is trial 0 with value: 0.2757162254211908.\n",
      "EvaluatorHoldout: Processed 5961 (100.0%) in 5.10 sec. Users per second: 1169\n"
     ]
    },
    {
     "name": "stderr",
     "output_type": "stream",
     "text": [
      "Best trial: 0. Best value: 0.275716:  52%|█████▏    | 26/50 [02:13<02:02,  5.12s/it]"
     ]
    },
    {
     "name": "stdout",
     "output_type": "stream",
     "text": [
      "[I 2023-07-31 04:49:14,907] Trial 25 finished with value: 0.2757162254211908 and parameters: {'n_items_to_rank': 296}. Best is trial 0 with value: 0.2757162254211908.\n",
      "EvaluatorHoldout: Processed 5961 (100.0%) in 5.08 sec. Users per second: 1174\n"
     ]
    },
    {
     "name": "stderr",
     "output_type": "stream",
     "text": [
      "Best trial: 0. Best value: 0.275716:  54%|█████▍    | 27/50 [02:18<01:58,  5.14s/it]"
     ]
    },
    {
     "name": "stdout",
     "output_type": "stream",
     "text": [
      "[I 2023-07-31 04:49:20,107] Trial 26 finished with value: 0.2757162254211908 and parameters: {'n_items_to_rank': 197}. Best is trial 0 with value: 0.2757162254211908.\n",
      "EvaluatorHoldout: Processed 5961 (100.0%) in 5.09 sec. Users per second: 1171\n"
     ]
    },
    {
     "name": "stderr",
     "output_type": "stream",
     "text": [
      "Best trial: 0. Best value: 0.275716:  56%|█████▌    | 28/50 [02:23<01:52,  5.13s/it]"
     ]
    },
    {
     "name": "stdout",
     "output_type": "stream",
     "text": [
      "[I 2023-07-31 04:49:25,223] Trial 27 finished with value: 0.2757162254211908 and parameters: {'n_items_to_rank': 305}. Best is trial 0 with value: 0.2757162254211908.\n",
      "EvaluatorHoldout: Processed 5961 (100.0%) in 5.10 sec. Users per second: 1169\n"
     ]
    },
    {
     "name": "stderr",
     "output_type": "stream",
     "text": [
      "Best trial: 0. Best value: 0.275716:  58%|█████▊    | 29/50 [02:28<01:47,  5.13s/it]"
     ]
    },
    {
     "name": "stdout",
     "output_type": "stream",
     "text": [
      "[I 2023-07-31 04:49:30,348] Trial 28 finished with value: 0.2757162254211908 and parameters: {'n_items_to_rank': 295}. Best is trial 0 with value: 0.2757162254211908.\n",
      "EvaluatorHoldout: Processed 5961 (100.0%) in 5.05 sec. Users per second: 1180\n"
     ]
    },
    {
     "name": "stderr",
     "output_type": "stream",
     "text": [
      "Best trial: 0. Best value: 0.275716:  60%|██████    | 30/50 [02:33<01:42,  5.12s/it]"
     ]
    },
    {
     "name": "stdout",
     "output_type": "stream",
     "text": [
      "[I 2023-07-31 04:49:35,430] Trial 29 finished with value: 0.2757162254211908 and parameters: {'n_items_to_rank': 253}. Best is trial 0 with value: 0.2757162254211908.\n",
      "EvaluatorHoldout: Processed 5961 (100.0%) in 5.09 sec. Users per second: 1172\n"
     ]
    },
    {
     "name": "stderr",
     "output_type": "stream",
     "text": [
      "Best trial: 0. Best value: 0.275716:  62%|██████▏   | 31/50 [02:38<01:37,  5.12s/it]"
     ]
    },
    {
     "name": "stdout",
     "output_type": "stream",
     "text": [
      "[I 2023-07-31 04:49:40,543] Trial 30 finished with value: 0.2757162254211908 and parameters: {'n_items_to_rank': 292}. Best is trial 0 with value: 0.2757162254211908.\n",
      "EvaluatorHoldout: Processed 5961 (100.0%) in 5.08 sec. Users per second: 1172\n"
     ]
    },
    {
     "name": "stderr",
     "output_type": "stream",
     "text": [
      "Best trial: 0. Best value: 0.275716:  64%|██████▍   | 32/50 [02:43<01:32,  5.11s/it]"
     ]
    },
    {
     "name": "stdout",
     "output_type": "stream",
     "text": [
      "[I 2023-07-31 04:49:45,657] Trial 31 finished with value: 0.2757162254211908 and parameters: {'n_items_to_rank': 188}. Best is trial 0 with value: 0.2757162254211908.\n",
      "EvaluatorHoldout: Processed 5961 (100.0%) in 5.12 sec. Users per second: 1165\n"
     ]
    },
    {
     "name": "stderr",
     "output_type": "stream",
     "text": [
      "Best trial: 0. Best value: 0.275716:  66%|██████▌   | 33/50 [02:48<01:27,  5.12s/it]"
     ]
    },
    {
     "name": "stdout",
     "output_type": "stream",
     "text": [
      "[I 2023-07-31 04:49:50,801] Trial 32 finished with value: 0.2757162254211908 and parameters: {'n_items_to_rank': 272}. Best is trial 0 with value: 0.2757162254211908.\n",
      "EvaluatorHoldout: Processed 5961 (100.0%) in 5.08 sec. Users per second: 1174\n"
     ]
    },
    {
     "name": "stderr",
     "output_type": "stream",
     "text": [
      "Best trial: 0. Best value: 0.275716:  68%|██████▊   | 34/50 [02:54<01:21,  5.12s/it]"
     ]
    },
    {
     "name": "stdout",
     "output_type": "stream",
     "text": [
      "[I 2023-07-31 04:49:55,905] Trial 33 finished with value: 0.2757162254211908 and parameters: {'n_items_to_rank': 211}. Best is trial 0 with value: 0.2757162254211908.\n",
      "EvaluatorHoldout: Processed 5961 (100.0%) in 5.10 sec. Users per second: 1168\n"
     ]
    },
    {
     "name": "stderr",
     "output_type": "stream",
     "text": [
      "Best trial: 0. Best value: 0.275716:  70%|███████   | 35/50 [02:59<01:16,  5.12s/it]"
     ]
    },
    {
     "name": "stdout",
     "output_type": "stream",
     "text": [
      "[I 2023-07-31 04:50:01,037] Trial 34 finished with value: 0.2757162254211908 and parameters: {'n_items_to_rank': 134}. Best is trial 0 with value: 0.2757162254211908.\n",
      "EvaluatorHoldout: Processed 5961 (100.0%) in 5.08 sec. Users per second: 1173\n"
     ]
    },
    {
     "name": "stderr",
     "output_type": "stream",
     "text": [
      "Best trial: 0. Best value: 0.275716:  72%|███████▏  | 36/50 [03:04<01:11,  5.12s/it]"
     ]
    },
    {
     "name": "stdout",
     "output_type": "stream",
     "text": [
      "[I 2023-07-31 04:50:06,150] Trial 35 finished with value: 0.2757162254211908 and parameters: {'n_items_to_rank': 325}. Best is trial 0 with value: 0.2757162254211908.\n",
      "EvaluatorHoldout: Processed 5961 (100.0%) in 5.09 sec. Users per second: 1171\n"
     ]
    },
    {
     "name": "stderr",
     "output_type": "stream",
     "text": [
      "Best trial: 0. Best value: 0.275716:  74%|███████▍  | 37/50 [03:09<01:06,  5.12s/it]"
     ]
    },
    {
     "name": "stdout",
     "output_type": "stream",
     "text": [
      "[I 2023-07-31 04:50:11,270] Trial 36 finished with value: 0.2757162254211908 and parameters: {'n_items_to_rank': 131}. Best is trial 0 with value: 0.2757162254211908.\n",
      "EvaluatorHoldout: Processed 5961 (100.0%) in 5.09 sec. Users per second: 1170\n"
     ]
    },
    {
     "name": "stderr",
     "output_type": "stream",
     "text": [
      "Best trial: 0. Best value: 0.275716:  76%|███████▌  | 38/50 [03:14<01:01,  5.12s/it]"
     ]
    },
    {
     "name": "stdout",
     "output_type": "stream",
     "text": [
      "[I 2023-07-31 04:50:16,396] Trial 37 finished with value: 0.2757162254211908 and parameters: {'n_items_to_rank': 125}. Best is trial 0 with value: 0.2757162254211908.\n",
      "EvaluatorHoldout: Processed 5961 (100.0%) in 5.07 sec. Users per second: 1176\n"
     ]
    },
    {
     "name": "stderr",
     "output_type": "stream",
     "text": [
      "Best trial: 0. Best value: 0.275716:  78%|███████▊  | 39/50 [03:19<00:56,  5.11s/it]"
     ]
    },
    {
     "name": "stdout",
     "output_type": "stream",
     "text": [
      "[I 2023-07-31 04:50:21,494] Trial 38 finished with value: 0.2757162254211908 and parameters: {'n_items_to_rank': 202}. Best is trial 0 with value: 0.2757162254211908.\n",
      "EvaluatorHoldout: Processed 5961 (100.0%) in 5.11 sec. Users per second: 1166\n"
     ]
    },
    {
     "name": "stderr",
     "output_type": "stream",
     "text": [
      "Best trial: 0. Best value: 0.275716:  80%|████████  | 40/50 [03:24<00:51,  5.12s/it]"
     ]
    },
    {
     "name": "stdout",
     "output_type": "stream",
     "text": [
      "[I 2023-07-31 04:50:26,636] Trial 39 finished with value: 0.2757162254211908 and parameters: {'n_items_to_rank': 279}. Best is trial 0 with value: 0.2757162254211908.\n",
      "EvaluatorHoldout: Processed 5961 (100.0%) in 5.09 sec. Users per second: 1172\n"
     ]
    },
    {
     "name": "stderr",
     "output_type": "stream",
     "text": [
      "Best trial: 0. Best value: 0.275716:  82%|████████▏ | 41/50 [03:29<00:46,  5.12s/it]"
     ]
    },
    {
     "name": "stdout",
     "output_type": "stream",
     "text": [
      "[I 2023-07-31 04:50:31,754] Trial 40 finished with value: 0.2757162254211908 and parameters: {'n_items_to_rank': 57}. Best is trial 0 with value: 0.2757162254211908.\n",
      "EvaluatorHoldout: Processed 5961 (100.0%) in 5.12 sec. Users per second: 1164\n"
     ]
    },
    {
     "name": "stderr",
     "output_type": "stream",
     "text": [
      "Best trial: 0. Best value: 0.275716:  84%|████████▍ | 42/50 [03:35<00:41,  5.13s/it]"
     ]
    },
    {
     "name": "stdout",
     "output_type": "stream",
     "text": [
      "[I 2023-07-31 04:50:36,906] Trial 41 finished with value: 0.2757162254211908 and parameters: {'n_items_to_rank': 218}. Best is trial 0 with value: 0.2757162254211908.\n",
      "EvaluatorHoldout: Processed 5961 (100.0%) in 5.08 sec. Users per second: 1174\n"
     ]
    },
    {
     "name": "stderr",
     "output_type": "stream",
     "text": [
      "Best trial: 0. Best value: 0.275716:  86%|████████▌ | 43/50 [03:40<00:35,  5.12s/it]"
     ]
    },
    {
     "name": "stdout",
     "output_type": "stream",
     "text": [
      "[I 2023-07-31 04:50:42,015] Trial 42 finished with value: 0.2757162254211908 and parameters: {'n_items_to_rank': 218}. Best is trial 0 with value: 0.2757162254211908.\n",
      "EvaluatorHoldout: Processed 5961 (100.0%) in 5.08 sec. Users per second: 1173\n"
     ]
    },
    {
     "name": "stderr",
     "output_type": "stream",
     "text": [
      "Best trial: 0. Best value: 0.275716:  88%|████████▊ | 44/50 [03:45<00:30,  5.12s/it]"
     ]
    },
    {
     "name": "stdout",
     "output_type": "stream",
     "text": [
      "[I 2023-07-31 04:50:47,128] Trial 43 finished with value: 0.2757162254211908 and parameters: {'n_items_to_rank': 155}. Best is trial 0 with value: 0.2757162254211908.\n",
      "EvaluatorHoldout: Processed 5961 (100.0%) in 5.08 sec. Users per second: 1172\n"
     ]
    },
    {
     "name": "stderr",
     "output_type": "stream",
     "text": [
      "Best trial: 0. Best value: 0.275716:  90%|█████████ | 45/50 [03:50<00:25,  5.15s/it]"
     ]
    },
    {
     "name": "stdout",
     "output_type": "stream",
     "text": [
      "[I 2023-07-31 04:50:52,340] Trial 44 finished with value: 0.2757162254211908 and parameters: {'n_items_to_rank': 230}. Best is trial 0 with value: 0.2757162254211908.\n",
      "EvaluatorHoldout: Processed 5961 (100.0%) in 5.12 sec. Users per second: 1164\n"
     ]
    },
    {
     "name": "stderr",
     "output_type": "stream",
     "text": [
      "Best trial: 0. Best value: 0.275716:  92%|█████████▏| 46/50 [03:55<00:20,  5.15s/it]"
     ]
    },
    {
     "name": "stdout",
     "output_type": "stream",
     "text": [
      "[I 2023-07-31 04:50:57,496] Trial 45 finished with value: 0.2757162254211908 and parameters: {'n_items_to_rank': 156}. Best is trial 0 with value: 0.2757162254211908.\n",
      "EvaluatorHoldout: Processed 5961 (100.0%) in 5.08 sec. Users per second: 1172\n"
     ]
    },
    {
     "name": "stderr",
     "output_type": "stream",
     "text": [
      "Best trial: 0. Best value: 0.275716:  94%|█████████▍| 47/50 [04:00<00:15,  5.14s/it]"
     ]
    },
    {
     "name": "stdout",
     "output_type": "stream",
     "text": [
      "[I 2023-07-31 04:51:02,613] Trial 46 finished with value: 0.2757162254211908 and parameters: {'n_items_to_rank': 173}. Best is trial 0 with value: 0.2757162254211908.\n",
      "EvaluatorHoldout: Processed 5961 (100.0%) in 5.08 sec. Users per second: 1172\n"
     ]
    },
    {
     "name": "stderr",
     "output_type": "stream",
     "text": [
      "Best trial: 0. Best value: 0.275716:  96%|█████████▌| 48/50 [04:05<00:10,  5.13s/it]"
     ]
    },
    {
     "name": "stdout",
     "output_type": "stream",
     "text": [
      "[I 2023-07-31 04:51:07,730] Trial 47 finished with value: 0.2757162254211908 and parameters: {'n_items_to_rank': 79}. Best is trial 0 with value: 0.2757162254211908.\n",
      "EvaluatorHoldout: Processed 5961 (100.0%) in 5.08 sec. Users per second: 1174\n"
     ]
    },
    {
     "name": "stderr",
     "output_type": "stream",
     "text": [
      "Best trial: 0. Best value: 0.275716:  98%|█████████▊| 49/50 [04:10<00:05,  5.13s/it]"
     ]
    },
    {
     "name": "stdout",
     "output_type": "stream",
     "text": [
      "[I 2023-07-31 04:51:12,842] Trial 48 finished with value: 0.2757162254211908 and parameters: {'n_items_to_rank': 56}. Best is trial 0 with value: 0.2757162254211908.\n",
      "EvaluatorHoldout: Processed 5961 (100.0%) in 5.09 sec. Users per second: 1171\n"
     ]
    },
    {
     "name": "stderr",
     "output_type": "stream",
     "text": [
      "Best trial: 0. Best value: 0.275716: 100%|██████████| 50/50 [04:16<00:00,  5.12s/it]"
     ]
    },
    {
     "name": "stdout",
     "output_type": "stream",
     "text": [
      "[I 2023-07-31 04:51:17,966] Trial 49 finished with value: 0.2757162254211908 and parameters: {'n_items_to_rank': 321}. Best is trial 0 with value: 0.2757162254211908.\n",
      "Recommender_Base_Class: URM Detected 194 ( 5.0%) items with no interactions.\n"
     ]
    },
    {
     "name": "stderr",
     "output_type": "stream",
     "text": [
      "\n"
     ]
    },
    {
     "name": "stdout",
     "output_type": "stream",
     "text": [
      "EvaluatorHoldout: Processed 5976 (100.0%) in 5.17 sec. Users per second: 1155\n"
     ]
    },
    {
     "name": "stderr",
     "output_type": "stream",
     "text": [
      "[I 2023-07-31 04:51:28,113] A new study created in memory with name: no-name-ba4cfcee-5394-41b3-92ad-9396657255ae\n",
      "  0%|          | 0/50 [00:00<?, ?it/s]"
     ]
    },
    {
     "name": "stdout",
     "output_type": "stream",
     "text": [
      "IALSRecommender\n",
      "DiffusionAutoencoderRecommender_IALSRecommender_TwoLevelRec\n",
      "EvaluatorHoldout: Processed 5961 (100.0%) in 3.89 sec. Users per second: 1533\n"
     ]
    },
    {
     "name": "stderr",
     "output_type": "stream",
     "text": [
      "Best trial: 0. Best value: 0.285121:   2%|▏         | 1/50 [00:03<03:11,  3.91s/it]"
     ]
    },
    {
     "name": "stdout",
     "output_type": "stream",
     "text": [
      "[I 2023-07-31 04:51:32,022] Trial 0 finished with value: 0.28512149668143416 and parameters: {'n_items_to_rank': 220}. Best is trial 0 with value: 0.28512149668143416.\n",
      "EvaluatorHoldout: Processed 5961 (100.0%) in 3.78 sec. Users per second: 1579\n"
     ]
    },
    {
     "name": "stderr",
     "output_type": "stream",
     "text": [
      "Best trial: 0. Best value: 0.285121:   4%|▍         | 2/50 [00:07<03:04,  3.84s/it]"
     ]
    },
    {
     "name": "stdout",
     "output_type": "stream",
     "text": [
      "[I 2023-07-31 04:51:35,818] Trial 1 finished with value: 0.28512149668143416 and parameters: {'n_items_to_rank': 96}. Best is trial 0 with value: 0.28512149668143416.\n",
      "EvaluatorHoldout: Processed 5961 (100.0%) in 3.77 sec. Users per second: 1579\n"
     ]
    },
    {
     "name": "stderr",
     "output_type": "stream",
     "text": [
      "Best trial: 0. Best value: 0.285121:   6%|▌         | 3/50 [00:11<02:59,  3.82s/it]"
     ]
    },
    {
     "name": "stdout",
     "output_type": "stream",
     "text": [
      "[I 2023-07-31 04:51:39,607] Trial 2 finished with value: 0.28512149668143416 and parameters: {'n_items_to_rank': 160}. Best is trial 0 with value: 0.28512149668143416.\n",
      "EvaluatorHoldout: Processed 5961 (100.0%) in 3.76 sec. Users per second: 1587\n"
     ]
    },
    {
     "name": "stderr",
     "output_type": "stream",
     "text": [
      "Best trial: 0. Best value: 0.285121:   8%|▊         | 4/50 [00:15<02:54,  3.80s/it]"
     ]
    },
    {
     "name": "stdout",
     "output_type": "stream",
     "text": [
      "[I 2023-07-31 04:51:43,378] Trial 3 finished with value: 0.28512149668143416 and parameters: {'n_items_to_rank': 114}. Best is trial 0 with value: 0.28512149668143416.\n",
      "EvaluatorHoldout: Processed 5961 (100.0%) in 3.76 sec. Users per second: 1586\n"
     ]
    },
    {
     "name": "stderr",
     "output_type": "stream",
     "text": [
      "Best trial: 0. Best value: 0.285121:  10%|█         | 5/50 [00:19<02:50,  3.79s/it]"
     ]
    },
    {
     "name": "stdout",
     "output_type": "stream",
     "text": [
      "[I 2023-07-31 04:51:47,152] Trial 4 finished with value: 0.28512149668143416 and parameters: {'n_items_to_rank': 75}. Best is trial 0 with value: 0.28512149668143416.\n",
      "EvaluatorHoldout: Processed 5961 (100.0%) in 3.79 sec. Users per second: 1574\n"
     ]
    },
    {
     "name": "stderr",
     "output_type": "stream",
     "text": [
      "Best trial: 0. Best value: 0.285121:  12%|█▏        | 6/50 [00:22<02:46,  3.79s/it]"
     ]
    },
    {
     "name": "stdout",
     "output_type": "stream",
     "text": [
      "[I 2023-07-31 04:51:50,956] Trial 5 finished with value: 0.28512149668143416 and parameters: {'n_items_to_rank': 260}. Best is trial 0 with value: 0.28512149668143416.\n",
      "EvaluatorHoldout: Processed 5961 (100.0%) in 3.73 sec. Users per second: 1598\n"
     ]
    },
    {
     "name": "stderr",
     "output_type": "stream",
     "text": [
      "Best trial: 0. Best value: 0.285121:  14%|█▍        | 7/50 [00:26<02:42,  3.78s/it]"
     ]
    },
    {
     "name": "stdout",
     "output_type": "stream",
     "text": [
      "[I 2023-07-31 04:51:54,705] Trial 6 finished with value: 0.28512149668143416 and parameters: {'n_items_to_rank': 179}. Best is trial 0 with value: 0.28512149668143416.\n",
      "EvaluatorHoldout: Processed 5961 (100.0%) in 3.74 sec. Users per second: 1592\n"
     ]
    },
    {
     "name": "stderr",
     "output_type": "stream",
     "text": [
      "Best trial: 0. Best value: 0.285121:  16%|█▌        | 8/50 [00:30<02:38,  3.77s/it]"
     ]
    },
    {
     "name": "stdout",
     "output_type": "stream",
     "text": [
      "[I 2023-07-31 04:51:58,466] Trial 7 finished with value: 0.28512149668143416 and parameters: {'n_items_to_rank': 113}. Best is trial 0 with value: 0.28512149668143416.\n",
      "EvaluatorHoldout: Processed 5961 (100.0%) in 3.77 sec. Users per second: 1582\n"
     ]
    },
    {
     "name": "stderr",
     "output_type": "stream",
     "text": [
      "Best trial: 0. Best value: 0.285121:  18%|█▊        | 9/50 [00:34<02:34,  3.78s/it]"
     ]
    },
    {
     "name": "stdout",
     "output_type": "stream",
     "text": [
      "[I 2023-07-31 04:52:02,252] Trial 8 finished with value: 0.28512149668143416 and parameters: {'n_items_to_rank': 221}. Best is trial 0 with value: 0.28512149668143416.\n",
      "EvaluatorHoldout: Processed 5961 (100.0%) in 3.78 sec. Users per second: 1576\n"
     ]
    },
    {
     "name": "stderr",
     "output_type": "stream",
     "text": [
      "Best trial: 0. Best value: 0.285121:  20%|██        | 10/50 [00:37<02:31,  3.78s/it]"
     ]
    },
    {
     "name": "stdout",
     "output_type": "stream",
     "text": [
      "[I 2023-07-31 04:52:06,049] Trial 9 finished with value: 0.28512149668143416 and parameters: {'n_items_to_rank': 176}. Best is trial 0 with value: 0.28512149668143416.\n",
      "EvaluatorHoldout: Processed 5961 (100.0%) in 3.91 sec. Users per second: 1523\n"
     ]
    },
    {
     "name": "stderr",
     "output_type": "stream",
     "text": [
      "Best trial: 0. Best value: 0.285121:  22%|██▏       | 11/50 [00:41<02:29,  3.83s/it]"
     ]
    },
    {
     "name": "stdout",
     "output_type": "stream",
     "text": [
      "[I 2023-07-31 04:52:09,981] Trial 10 finished with value: 0.28512149668143416 and parameters: {'n_items_to_rank': 97}. Best is trial 0 with value: 0.28512149668143416.\n",
      "EvaluatorHoldout: Processed 5961 (100.0%) in 3.77 sec. Users per second: 1582\n"
     ]
    },
    {
     "name": "stderr",
     "output_type": "stream",
     "text": [
      "Best trial: 0. Best value: 0.285121:  24%|██▍       | 12/50 [00:45<02:25,  3.82s/it]"
     ]
    },
    {
     "name": "stdout",
     "output_type": "stream",
     "text": [
      "[I 2023-07-31 04:52:13,769] Trial 11 finished with value: 0.28512149668143416 and parameters: {'n_items_to_rank': 110}. Best is trial 0 with value: 0.28512149668143416.\n",
      "EvaluatorHoldout: Processed 5961 (100.0%) in 3.76 sec. Users per second: 1583\n"
     ]
    },
    {
     "name": "stderr",
     "output_type": "stream",
     "text": [
      "Best trial: 0. Best value: 0.285121:  26%|██▌       | 13/50 [00:49<02:20,  3.81s/it]"
     ]
    },
    {
     "name": "stdout",
     "output_type": "stream",
     "text": [
      "[I 2023-07-31 04:52:17,553] Trial 12 finished with value: 0.28512149668143416 and parameters: {'n_items_to_rank': 241}. Best is trial 0 with value: 0.28512149668143416.\n",
      "EvaluatorHoldout: Processed 5961 (100.0%) in 3.75 sec. Users per second: 1590\n"
     ]
    },
    {
     "name": "stderr",
     "output_type": "stream",
     "text": [
      "Best trial: 0. Best value: 0.285121:  28%|██▊       | 14/50 [00:53<02:16,  3.80s/it]"
     ]
    },
    {
     "name": "stdout",
     "output_type": "stream",
     "text": [
      "[I 2023-07-31 04:52:21,322] Trial 13 finished with value: 0.28512149668143416 and parameters: {'n_items_to_rank': 162}. Best is trial 0 with value: 0.28512149668143416.\n",
      "EvaluatorHoldout: Processed 5961 (100.0%) in 3.73 sec. Users per second: 1599\n"
     ]
    },
    {
     "name": "stderr",
     "output_type": "stream",
     "text": [
      "Best trial: 0. Best value: 0.285121:  30%|███       | 15/50 [00:56<02:12,  3.78s/it]"
     ]
    },
    {
     "name": "stdout",
     "output_type": "stream",
     "text": [
      "[I 2023-07-31 04:52:25,077] Trial 14 finished with value: 0.28512149668143416 and parameters: {'n_items_to_rank': 340}. Best is trial 0 with value: 0.28512149668143416.\n",
      "EvaluatorHoldout: Processed 5961 (100.0%) in 3.77 sec. Users per second: 1583\n"
     ]
    },
    {
     "name": "stderr",
     "output_type": "stream",
     "text": [
      "Best trial: 0. Best value: 0.285121:  32%|███▏      | 16/50 [01:00<02:08,  3.78s/it]"
     ]
    },
    {
     "name": "stdout",
     "output_type": "stream",
     "text": [
      "[I 2023-07-31 04:52:28,861] Trial 15 finished with value: 0.28512149668143416 and parameters: {'n_items_to_rank': 96}. Best is trial 0 with value: 0.28512149668143416.\n",
      "EvaluatorHoldout: Processed 5961 (100.0%) in 3.77 sec. Users per second: 1583\n"
     ]
    },
    {
     "name": "stderr",
     "output_type": "stream",
     "text": [
      "Best trial: 0. Best value: 0.285121:  34%|███▍      | 17/50 [01:04<02:04,  3.78s/it]"
     ]
    },
    {
     "name": "stdout",
     "output_type": "stream",
     "text": [
      "[I 2023-07-31 04:52:32,649] Trial 16 finished with value: 0.28512149668143416 and parameters: {'n_items_to_rank': 324}. Best is trial 0 with value: 0.28512149668143416.\n",
      "EvaluatorHoldout: Processed 5961 (100.0%) in 3.75 sec. Users per second: 1591\n"
     ]
    },
    {
     "name": "stderr",
     "output_type": "stream",
     "text": [
      "Best trial: 0. Best value: 0.285121:  36%|███▌      | 18/50 [01:08<02:00,  3.78s/it]"
     ]
    },
    {
     "name": "stdout",
     "output_type": "stream",
     "text": [
      "[I 2023-07-31 04:52:36,417] Trial 17 finished with value: 0.28512149668143416 and parameters: {'n_items_to_rank': 292}. Best is trial 0 with value: 0.28512149668143416.\n",
      "EvaluatorHoldout: Processed 5961 (100.0%) in 3.76 sec. Users per second: 1587\n"
     ]
    },
    {
     "name": "stderr",
     "output_type": "stream",
     "text": [
      "Best trial: 0. Best value: 0.285121:  38%|███▊      | 19/50 [01:12<01:57,  3.78s/it]"
     ]
    },
    {
     "name": "stdout",
     "output_type": "stream",
     "text": [
      "[I 2023-07-31 04:52:40,195] Trial 18 finished with value: 0.28512149668143416 and parameters: {'n_items_to_rank': 193}. Best is trial 0 with value: 0.28512149668143416.\n",
      "EvaluatorHoldout: Processed 5961 (100.0%) in 3.74 sec. Users per second: 1595\n"
     ]
    },
    {
     "name": "stderr",
     "output_type": "stream",
     "text": [
      "Best trial: 0. Best value: 0.285121:  40%|████      | 20/50 [01:15<01:53,  3.77s/it]"
     ]
    },
    {
     "name": "stdout",
     "output_type": "stream",
     "text": [
      "[I 2023-07-31 04:52:43,955] Trial 19 finished with value: 0.28512149668143416 and parameters: {'n_items_to_rank': 77}. Best is trial 0 with value: 0.28512149668143416.\n",
      "EvaluatorHoldout: Processed 5961 (100.0%) in 3.75 sec. Users per second: 1590\n"
     ]
    },
    {
     "name": "stderr",
     "output_type": "stream",
     "text": [
      "Best trial: 0. Best value: 0.285121:  42%|████▏     | 21/50 [01:19<01:49,  3.77s/it]"
     ]
    },
    {
     "name": "stdout",
     "output_type": "stream",
     "text": [
      "[I 2023-07-31 04:52:47,727] Trial 20 finished with value: 0.28512149668143416 and parameters: {'n_items_to_rank': 246}. Best is trial 0 with value: 0.28512149668143416.\n",
      "EvaluatorHoldout: Processed 5961 (100.0%) in 3.79 sec. Users per second: 1575\n"
     ]
    },
    {
     "name": "stderr",
     "output_type": "stream",
     "text": [
      "Best trial: 0. Best value: 0.285121:  44%|████▍     | 22/50 [01:23<01:45,  3.78s/it]"
     ]
    },
    {
     "name": "stdout",
     "output_type": "stream",
     "text": [
      "[I 2023-07-31 04:52:51,534] Trial 21 finished with value: 0.28512149668143416 and parameters: {'n_items_to_rank': 214}. Best is trial 0 with value: 0.28512149668143416.\n",
      "EvaluatorHoldout: Processed 5961 (100.0%) in 3.75 sec. Users per second: 1588\n"
     ]
    },
    {
     "name": "stderr",
     "output_type": "stream",
     "text": [
      "Best trial: 0. Best value: 0.285121:  46%|████▌     | 23/50 [01:27<01:42,  3.78s/it]"
     ]
    },
    {
     "name": "stdout",
     "output_type": "stream",
     "text": [
      "[I 2023-07-31 04:52:55,310] Trial 22 finished with value: 0.28512149668143416 and parameters: {'n_items_to_rank': 143}. Best is trial 0 with value: 0.28512149668143416.\n",
      "EvaluatorHoldout: Processed 5961 (100.0%) in 3.77 sec. Users per second: 1582\n"
     ]
    },
    {
     "name": "stderr",
     "output_type": "stream",
     "text": [
      "Best trial: 0. Best value: 0.285121:  48%|████▊     | 24/50 [01:30<01:38,  3.78s/it]"
     ]
    },
    {
     "name": "stdout",
     "output_type": "stream",
     "text": [
      "[I 2023-07-31 04:52:59,101] Trial 23 finished with value: 0.28512149668143416 and parameters: {'n_items_to_rank': 129}. Best is trial 0 with value: 0.28512149668143416.\n",
      "EvaluatorHoldout: Processed 5961 (100.0%) in 3.76 sec. Users per second: 1584\n"
     ]
    },
    {
     "name": "stderr",
     "output_type": "stream",
     "text": [
      "Best trial: 0. Best value: 0.285121:  50%|█████     | 25/50 [01:34<01:34,  3.79s/it]"
     ]
    },
    {
     "name": "stdout",
     "output_type": "stream",
     "text": [
      "[I 2023-07-31 04:53:02,889] Trial 24 finished with value: 0.28512149668143416 and parameters: {'n_items_to_rank': 220}. Best is trial 0 with value: 0.28512149668143416.\n",
      "EvaluatorHoldout: Processed 5961 (100.0%) in 3.77 sec. Users per second: 1583\n"
     ]
    },
    {
     "name": "stderr",
     "output_type": "stream",
     "text": [
      "Best trial: 0. Best value: 0.285121:  52%|█████▏    | 26/50 [01:38<01:30,  3.79s/it]"
     ]
    },
    {
     "name": "stdout",
     "output_type": "stream",
     "text": [
      "[I 2023-07-31 04:53:06,678] Trial 25 finished with value: 0.28512149668143416 and parameters: {'n_items_to_rank': 229}. Best is trial 0 with value: 0.28512149668143416.\n",
      "EvaluatorHoldout: Processed 5961 (100.0%) in 3.76 sec. Users per second: 1584\n"
     ]
    },
    {
     "name": "stderr",
     "output_type": "stream",
     "text": [
      "Best trial: 0. Best value: 0.285121:  54%|█████▍    | 27/50 [01:42<01:27,  3.79s/it]"
     ]
    },
    {
     "name": "stdout",
     "output_type": "stream",
     "text": [
      "[I 2023-07-31 04:53:10,465] Trial 26 finished with value: 0.28512149668143416 and parameters: {'n_items_to_rank': 102}. Best is trial 0 with value: 0.28512149668143416.\n",
      "EvaluatorHoldout: Processed 5961 (100.0%) in 3.76 sec. Users per second: 1584\n"
     ]
    },
    {
     "name": "stderr",
     "output_type": "stream",
     "text": [
      "Best trial: 0. Best value: 0.285121:  56%|█████▌    | 28/50 [01:46<01:23,  3.79s/it]"
     ]
    },
    {
     "name": "stdout",
     "output_type": "stream",
     "text": [
      "[I 2023-07-31 04:53:14,251] Trial 27 finished with value: 0.28512149668143416 and parameters: {'n_items_to_rank': 220}. Best is trial 0 with value: 0.28512149668143416.\n",
      "EvaluatorHoldout: Processed 5961 (100.0%) in 3.86 sec. Users per second: 1546\n"
     ]
    },
    {
     "name": "stderr",
     "output_type": "stream",
     "text": [
      "Best trial: 0. Best value: 0.285121:  58%|█████▊    | 29/50 [01:50<01:20,  3.81s/it]"
     ]
    },
    {
     "name": "stdout",
     "output_type": "stream",
     "text": [
      "[I 2023-07-31 04:53:18,131] Trial 28 finished with value: 0.28512149668143416 and parameters: {'n_items_to_rank': 197}. Best is trial 0 with value: 0.28512149668143416.\n",
      "EvaluatorHoldout: Processed 5961 (100.0%) in 3.77 sec. Users per second: 1580\n"
     ]
    },
    {
     "name": "stderr",
     "output_type": "stream",
     "text": [
      "Best trial: 0. Best value: 0.285121:  60%|██████    | 30/50 [01:53<01:16,  3.81s/it]"
     ]
    },
    {
     "name": "stdout",
     "output_type": "stream",
     "text": [
      "[I 2023-07-31 04:53:21,928] Trial 29 finished with value: 0.28512149668143416 and parameters: {'n_items_to_rank': 189}. Best is trial 0 with value: 0.28512149668143416.\n",
      "EvaluatorHoldout: Processed 5961 (100.0%) in 3.77 sec. Users per second: 1579\n"
     ]
    },
    {
     "name": "stderr",
     "output_type": "stream",
     "text": [
      "Best trial: 0. Best value: 0.285121:  62%|██████▏   | 31/50 [01:57<01:12,  3.81s/it]"
     ]
    },
    {
     "name": "stdout",
     "output_type": "stream",
     "text": [
      "[I 2023-07-31 04:53:25,729] Trial 30 finished with value: 0.28512149668143416 and parameters: {'n_items_to_rank': 164}. Best is trial 0 with value: 0.28512149668143416.\n",
      "EvaluatorHoldout: Processed 5961 (100.0%) in 3.78 sec. Users per second: 1577\n"
     ]
    },
    {
     "name": "stderr",
     "output_type": "stream",
     "text": [
      "Best trial: 0. Best value: 0.285121:  64%|██████▍   | 32/50 [02:01<01:08,  3.81s/it]"
     ]
    },
    {
     "name": "stdout",
     "output_type": "stream",
     "text": [
      "[I 2023-07-31 04:53:29,534] Trial 31 finished with value: 0.28512149668143416 and parameters: {'n_items_to_rank': 90}. Best is trial 0 with value: 0.28512149668143416.\n",
      "EvaluatorHoldout: Processed 5961 (100.0%) in 3.76 sec. Users per second: 1587\n"
     ]
    },
    {
     "name": "stderr",
     "output_type": "stream",
     "text": [
      "Best trial: 0. Best value: 0.285121:  66%|██████▌   | 33/50 [02:05<01:04,  3.80s/it]"
     ]
    },
    {
     "name": "stdout",
     "output_type": "stream",
     "text": [
      "[I 2023-07-31 04:53:33,315] Trial 32 finished with value: 0.28512149668143416 and parameters: {'n_items_to_rank': 160}. Best is trial 0 with value: 0.28512149668143416.\n",
      "EvaluatorHoldout: Processed 5961 (100.0%) in 3.76 sec. Users per second: 1586\n"
     ]
    },
    {
     "name": "stderr",
     "output_type": "stream",
     "text": [
      "Best trial: 0. Best value: 0.285121:  68%|██████▊   | 34/50 [02:08<01:00,  3.79s/it]"
     ]
    },
    {
     "name": "stdout",
     "output_type": "stream",
     "text": [
      "[I 2023-07-31 04:53:37,099] Trial 33 finished with value: 0.28512149668143416 and parameters: {'n_items_to_rank': 173}. Best is trial 0 with value: 0.28512149668143416.\n",
      "EvaluatorHoldout: Processed 5961 (100.0%) in 3.77 sec. Users per second: 1582\n"
     ]
    },
    {
     "name": "stderr",
     "output_type": "stream",
     "text": [
      "Best trial: 0. Best value: 0.285121:  70%|███████   | 35/50 [02:12<00:56,  3.79s/it]"
     ]
    },
    {
     "name": "stdout",
     "output_type": "stream",
     "text": [
      "[I 2023-07-31 04:53:40,893] Trial 34 finished with value: 0.28512149668143416 and parameters: {'n_items_to_rank': 288}. Best is trial 0 with value: 0.28512149668143416.\n",
      "EvaluatorHoldout: Processed 5961 (100.0%) in 3.78 sec. Users per second: 1577\n"
     ]
    },
    {
     "name": "stderr",
     "output_type": "stream",
     "text": [
      "Best trial: 0. Best value: 0.285121:  72%|███████▏  | 36/50 [02:16<00:53,  3.80s/it]"
     ]
    },
    {
     "name": "stdout",
     "output_type": "stream",
     "text": [
      "[I 2023-07-31 04:53:44,702] Trial 35 finished with value: 0.28512149668143416 and parameters: {'n_items_to_rank': 328}. Best is trial 0 with value: 0.28512149668143416.\n",
      "EvaluatorHoldout: Processed 5961 (100.0%) in 3.73 sec. Users per second: 1598\n"
     ]
    },
    {
     "name": "stderr",
     "output_type": "stream",
     "text": [
      "Best trial: 0. Best value: 0.285121:  74%|███████▍  | 37/50 [02:20<00:49,  3.79s/it]"
     ]
    },
    {
     "name": "stdout",
     "output_type": "stream",
     "text": [
      "[I 2023-07-31 04:53:48,462] Trial 36 finished with value: 0.28512149668143416 and parameters: {'n_items_to_rank': 289}. Best is trial 0 with value: 0.28512149668143416.\n",
      "EvaluatorHoldout: Processed 5961 (100.0%) in 3.76 sec. Users per second: 1585\n"
     ]
    },
    {
     "name": "stderr",
     "output_type": "stream",
     "text": [
      "Best trial: 0. Best value: 0.285121:  76%|███████▌  | 38/50 [02:24<00:45,  3.79s/it]"
     ]
    },
    {
     "name": "stdout",
     "output_type": "stream",
     "text": [
      "[I 2023-07-31 04:53:52,250] Trial 37 finished with value: 0.28512149668143416 and parameters: {'n_items_to_rank': 344}. Best is trial 0 with value: 0.28512149668143416.\n",
      "EvaluatorHoldout: Processed 5961 (100.0%) in 3.76 sec. Users per second: 1584\n"
     ]
    },
    {
     "name": "stderr",
     "output_type": "stream",
     "text": [
      "Best trial: 0. Best value: 0.285121:  78%|███████▊  | 39/50 [02:27<00:41,  3.79s/it]"
     ]
    },
    {
     "name": "stdout",
     "output_type": "stream",
     "text": [
      "[I 2023-07-31 04:53:56,043] Trial 38 finished with value: 0.28512149668143416 and parameters: {'n_items_to_rank': 114}. Best is trial 0 with value: 0.28512149668143416.\n",
      "EvaluatorHoldout: Processed 5961 (100.0%) in 3.77 sec. Users per second: 1580\n"
     ]
    },
    {
     "name": "stderr",
     "output_type": "stream",
     "text": [
      "Best trial: 0. Best value: 0.285121:  80%|████████  | 40/50 [02:31<00:37,  3.79s/it]"
     ]
    },
    {
     "name": "stdout",
     "output_type": "stream",
     "text": [
      "[I 2023-07-31 04:53:59,845] Trial 39 finished with value: 0.28512149668143416 and parameters: {'n_items_to_rank': 250}. Best is trial 0 with value: 0.28512149668143416.\n",
      "EvaluatorHoldout: Processed 5961 (100.0%) in 3.71 sec. Users per second: 1608\n"
     ]
    },
    {
     "name": "stderr",
     "output_type": "stream",
     "text": [
      "Best trial: 0. Best value: 0.285121:  82%|████████▏ | 41/50 [02:35<00:33,  3.78s/it]"
     ]
    },
    {
     "name": "stdout",
     "output_type": "stream",
     "text": [
      "[I 2023-07-31 04:54:03,582] Trial 40 finished with value: 0.28512149668143416 and parameters: {'n_items_to_rank': 131}. Best is trial 0 with value: 0.28512149668143416.\n",
      "EvaluatorHoldout: Processed 5961 (100.0%) in 3.77 sec. Users per second: 1582\n"
     ]
    },
    {
     "name": "stderr",
     "output_type": "stream",
     "text": [
      "Best trial: 0. Best value: 0.285121:  84%|████████▍ | 42/50 [02:39<00:30,  3.78s/it]"
     ]
    },
    {
     "name": "stdout",
     "output_type": "stream",
     "text": [
      "[I 2023-07-31 04:54:07,383] Trial 41 finished with value: 0.28512149668143416 and parameters: {'n_items_to_rank': 116}. Best is trial 0 with value: 0.28512149668143416.\n",
      "EvaluatorHoldout: Processed 5961 (100.0%) in 3.75 sec. Users per second: 1588\n"
     ]
    },
    {
     "name": "stderr",
     "output_type": "stream",
     "text": [
      "Best trial: 0. Best value: 0.285121:  86%|████████▌ | 43/50 [02:43<00:26,  3.78s/it]"
     ]
    },
    {
     "name": "stdout",
     "output_type": "stream",
     "text": [
      "[I 2023-07-31 04:54:11,167] Trial 42 finished with value: 0.28512149668143416 and parameters: {'n_items_to_rank': 263}. Best is trial 0 with value: 0.28512149668143416.\n",
      "EvaluatorHoldout: Processed 5961 (100.0%) in 3.79 sec. Users per second: 1574\n"
     ]
    },
    {
     "name": "stderr",
     "output_type": "stream",
     "text": [
      "Best trial: 0. Best value: 0.285121:  88%|████████▊ | 44/50 [02:46<00:22,  3.79s/it]"
     ]
    },
    {
     "name": "stdout",
     "output_type": "stream",
     "text": [
      "[I 2023-07-31 04:54:14,984] Trial 43 finished with value: 0.28512149668143416 and parameters: {'n_items_to_rank': 125}. Best is trial 0 with value: 0.28512149668143416.\n",
      "EvaluatorHoldout: Processed 5961 (100.0%) in 3.75 sec. Users per second: 1589\n"
     ]
    },
    {
     "name": "stderr",
     "output_type": "stream",
     "text": [
      "Best trial: 0. Best value: 0.285121:  90%|█████████ | 45/50 [02:50<00:18,  3.79s/it]"
     ]
    },
    {
     "name": "stdout",
     "output_type": "stream",
     "text": [
      "[I 2023-07-31 04:54:18,766] Trial 44 finished with value: 0.28512149668143416 and parameters: {'n_items_to_rank': 330}. Best is trial 0 with value: 0.28512149668143416.\n",
      "EvaluatorHoldout: Processed 5961 (100.0%) in 3.78 sec. Users per second: 1578\n"
     ]
    },
    {
     "name": "stderr",
     "output_type": "stream",
     "text": [
      "Best trial: 0. Best value: 0.285121:  92%|█████████▏| 46/50 [02:54<00:15,  3.79s/it]"
     ]
    },
    {
     "name": "stdout",
     "output_type": "stream",
     "text": [
      "[I 2023-07-31 04:54:22,572] Trial 45 finished with value: 0.28512149668143416 and parameters: {'n_items_to_rank': 75}. Best is trial 0 with value: 0.28512149668143416.\n",
      "EvaluatorHoldout: Processed 5961 (100.0%) in 3.83 sec. Users per second: 1557\n"
     ]
    },
    {
     "name": "stderr",
     "output_type": "stream",
     "text": [
      "Best trial: 0. Best value: 0.285121:  94%|█████████▍| 47/50 [02:58<00:11,  3.81s/it]"
     ]
    },
    {
     "name": "stdout",
     "output_type": "stream",
     "text": [
      "[I 2023-07-31 04:54:26,430] Trial 46 finished with value: 0.28512149668143416 and parameters: {'n_items_to_rank': 82}. Best is trial 0 with value: 0.28512149668143416.\n",
      "EvaluatorHoldout: Processed 5961 (100.0%) in 3.76 sec. Users per second: 1584\n"
     ]
    },
    {
     "name": "stderr",
     "output_type": "stream",
     "text": [
      "Best trial: 0. Best value: 0.285121:  96%|█████████▌| 48/50 [03:02<00:07,  3.81s/it]"
     ]
    },
    {
     "name": "stdout",
     "output_type": "stream",
     "text": [
      "[I 2023-07-31 04:54:30,222] Trial 47 finished with value: 0.28512149668143416 and parameters: {'n_items_to_rank': 70}. Best is trial 0 with value: 0.28512149668143416.\n",
      "EvaluatorHoldout: Processed 5961 (100.0%) in 3.74 sec. Users per second: 1595\n"
     ]
    },
    {
     "name": "stderr",
     "output_type": "stream",
     "text": [
      "Best trial: 0. Best value: 0.285121:  98%|█████████▊| 49/50 [03:05<00:03,  3.80s/it]"
     ]
    },
    {
     "name": "stdout",
     "output_type": "stream",
     "text": [
      "[I 2023-07-31 04:54:33,993] Trial 48 finished with value: 0.28512149668143416 and parameters: {'n_items_to_rank': 349}. Best is trial 0 with value: 0.28512149668143416.\n",
      "EvaluatorHoldout: Processed 5961 (100.0%) in 3.75 sec. Users per second: 1589\n"
     ]
    },
    {
     "name": "stderr",
     "output_type": "stream",
     "text": [
      "Best trial: 0. Best value: 0.285121: 100%|██████████| 50/50 [03:09<00:00,  3.79s/it]"
     ]
    },
    {
     "name": "stdout",
     "output_type": "stream",
     "text": [
      "[I 2023-07-31 04:54:37,775] Trial 49 finished with value: 0.28512149668143416 and parameters: {'n_items_to_rank': 132}. Best is trial 0 with value: 0.28512149668143416.\n",
      "Recommender_Base_Class: URM Detected 194 ( 5.0%) items with no interactions.\n"
     ]
    },
    {
     "name": "stderr",
     "output_type": "stream",
     "text": [
      "\n"
     ]
    },
    {
     "name": "stdout",
     "output_type": "stream",
     "text": [
      "EvaluatorHoldout: Processed 5976 (100.0%) in 4.02 sec. Users per second: 1486\n",
      "Recommender_Base_Class: URM Detected 211 ( 5.4%) items with no interactions.\n"
     ]
    },
    {
     "name": "stderr",
     "output_type": "stream",
     "text": [
      "[I 2023-07-31 04:55:08,657] A new study created in memory with name: no-name-3a2647a9-4e55-4a7c-8e77-8ad6bc95bbe2\n",
      "  0%|          | 0/50 [00:00<?, ?it/s]"
     ]
    },
    {
     "name": "stdout",
     "output_type": "stream",
     "text": [
      "SLIMElasticNetRecommender\n",
      "DiffusionAutoencoderRecommender_SLIMElasticNetRecommender_TwoLevelRec\n",
      "EvaluatorHoldout: Processed 5961 (100.0%) in 4.06 sec. Users per second: 1470\n"
     ]
    },
    {
     "name": "stderr",
     "output_type": "stream",
     "text": [
      "Best trial: 0. Best value: 0.203493:   2%|▏         | 1/50 [00:04<03:19,  4.07s/it]"
     ]
    },
    {
     "name": "stdout",
     "output_type": "stream",
     "text": [
      "[I 2023-07-31 04:55:12,729] Trial 0 finished with value: 0.2034934192156783 and parameters: {'n_items_to_rank': 105}. Best is trial 0 with value: 0.2034934192156783.\n",
      "EvaluatorHoldout: Processed 5961 (100.0%) in 4.05 sec. Users per second: 1473\n"
     ]
    },
    {
     "name": "stderr",
     "output_type": "stream",
     "text": [
      "Best trial: 0. Best value: 0.203493:   4%|▍         | 2/50 [00:08<03:15,  4.07s/it]"
     ]
    },
    {
     "name": "stdout",
     "output_type": "stream",
     "text": [
      "[I 2023-07-31 04:55:16,793] Trial 1 finished with value: 0.2034934192156783 and parameters: {'n_items_to_rank': 56}. Best is trial 0 with value: 0.2034934192156783.\n",
      "EvaluatorHoldout: Processed 5961 (100.0%) in 4.04 sec. Users per second: 1476\n"
     ]
    },
    {
     "name": "stderr",
     "output_type": "stream",
     "text": [
      "Best trial: 0. Best value: 0.203493:   6%|▌         | 3/50 [00:12<03:10,  4.06s/it]"
     ]
    },
    {
     "name": "stdout",
     "output_type": "stream",
     "text": [
      "[I 2023-07-31 04:55:20,847] Trial 2 finished with value: 0.2034934192156783 and parameters: {'n_items_to_rank': 179}. Best is trial 0 with value: 0.2034934192156783.\n",
      "EvaluatorHoldout: Processed 5961 (100.0%) in 3.99 sec. Users per second: 1494\n"
     ]
    },
    {
     "name": "stderr",
     "output_type": "stream",
     "text": [
      "Best trial: 0. Best value: 0.203493:   8%|▊         | 4/50 [00:16<03:05,  4.04s/it]"
     ]
    },
    {
     "name": "stdout",
     "output_type": "stream",
     "text": [
      "[I 2023-07-31 04:55:24,854] Trial 3 finished with value: 0.2034934192156783 and parameters: {'n_items_to_rank': 307}. Best is trial 0 with value: 0.2034934192156783.\n",
      "EvaluatorHoldout: Processed 5961 (100.0%) in 4.04 sec. Users per second: 1475\n"
     ]
    },
    {
     "name": "stderr",
     "output_type": "stream",
     "text": [
      "Best trial: 0. Best value: 0.203493:  10%|█         | 5/50 [00:20<03:02,  4.05s/it]"
     ]
    },
    {
     "name": "stdout",
     "output_type": "stream",
     "text": [
      "[I 2023-07-31 04:55:28,913] Trial 4 finished with value: 0.2034934192156783 and parameters: {'n_items_to_rank': 294}. Best is trial 0 with value: 0.2034934192156783.\n",
      "EvaluatorHoldout: Processed 5961 (100.0%) in 4.01 sec. Users per second: 1486\n"
     ]
    },
    {
     "name": "stderr",
     "output_type": "stream",
     "text": [
      "Best trial: 0. Best value: 0.203493:  12%|█▏        | 6/50 [00:24<02:57,  4.04s/it]"
     ]
    },
    {
     "name": "stdout",
     "output_type": "stream",
     "text": [
      "[I 2023-07-31 04:55:32,942] Trial 5 finished with value: 0.2034934192156783 and parameters: {'n_items_to_rank': 161}. Best is trial 0 with value: 0.2034934192156783.\n",
      "EvaluatorHoldout: Processed 5961 (100.0%) in 4.03 sec. Users per second: 1479\n"
     ]
    },
    {
     "name": "stderr",
     "output_type": "stream",
     "text": [
      "Best trial: 0. Best value: 0.203493:  14%|█▍        | 7/50 [00:28<02:53,  4.04s/it]"
     ]
    },
    {
     "name": "stdout",
     "output_type": "stream",
     "text": [
      "[I 2023-07-31 04:55:36,991] Trial 6 finished with value: 0.2034934192156783 and parameters: {'n_items_to_rank': 302}. Best is trial 0 with value: 0.2034934192156783.\n",
      "EvaluatorHoldout: Processed 5961 (100.0%) in 4.04 sec. Users per second: 1477\n"
     ]
    },
    {
     "name": "stderr",
     "output_type": "stream",
     "text": [
      "Best trial: 0. Best value: 0.203493:  16%|█▌        | 8/50 [00:32<02:49,  4.05s/it]"
     ]
    },
    {
     "name": "stdout",
     "output_type": "stream",
     "text": [
      "[I 2023-07-31 04:55:41,045] Trial 7 finished with value: 0.2034934192156783 and parameters: {'n_items_to_rank': 72}. Best is trial 0 with value: 0.2034934192156783.\n",
      "EvaluatorHoldout: Processed 5961 (100.0%) in 4.02 sec. Users per second: 1485\n"
     ]
    },
    {
     "name": "stderr",
     "output_type": "stream",
     "text": [
      "Best trial: 0. Best value: 0.203493:  18%|█▊        | 9/50 [00:36<02:45,  4.04s/it]"
     ]
    },
    {
     "name": "stdout",
     "output_type": "stream",
     "text": [
      "[I 2023-07-31 04:55:45,080] Trial 8 finished with value: 0.2034934192156783 and parameters: {'n_items_to_rank': 252}. Best is trial 0 with value: 0.2034934192156783.\n",
      "EvaluatorHoldout: Processed 5961 (100.0%) in 4.30 sec. Users per second: 1387\n"
     ]
    },
    {
     "name": "stderr",
     "output_type": "stream",
     "text": [
      "Best trial: 0. Best value: 0.203493:  20%|██        | 10/50 [00:40<02:45,  4.13s/it]"
     ]
    },
    {
     "name": "stdout",
     "output_type": "stream",
     "text": [
      "[I 2023-07-31 04:55:49,397] Trial 9 finished with value: 0.19497697783681708 and parameters: {'n_items_to_rank': 28}. Best is trial 0 with value: 0.2034934192156783.\n",
      "EvaluatorHoldout: Processed 5961 (100.0%) in 4.04 sec. Users per second: 1477\n"
     ]
    },
    {
     "name": "stderr",
     "output_type": "stream",
     "text": [
      "Best trial: 0. Best value: 0.203493:  22%|██▏       | 11/50 [00:44<02:40,  4.11s/it]"
     ]
    },
    {
     "name": "stdout",
     "output_type": "stream",
     "text": [
      "[I 2023-07-31 04:55:53,453] Trial 10 finished with value: 0.2034934192156783 and parameters: {'n_items_to_rank': 74}. Best is trial 0 with value: 0.2034934192156783.\n",
      "EvaluatorHoldout: Processed 5961 (100.0%) in 4.09 sec. Users per second: 1457\n"
     ]
    },
    {
     "name": "stderr",
     "output_type": "stream",
     "text": [
      "Best trial: 0. Best value: 0.203493:  24%|██▍       | 12/50 [00:48<02:36,  4.11s/it]"
     ]
    },
    {
     "name": "stdout",
     "output_type": "stream",
     "text": [
      "[I 2023-07-31 04:55:57,582] Trial 11 finished with value: 0.2034934192156783 and parameters: {'n_items_to_rank': 105}. Best is trial 0 with value: 0.2034934192156783.\n",
      "EvaluatorHoldout: Processed 5961 (100.0%) in 4.00 sec. Users per second: 1490\n"
     ]
    },
    {
     "name": "stderr",
     "output_type": "stream",
     "text": [
      "Best trial: 0. Best value: 0.203493:  26%|██▌       | 13/50 [00:53<02:32,  4.11s/it]"
     ]
    },
    {
     "name": "stdout",
     "output_type": "stream",
     "text": [
      "[I 2023-07-31 04:56:01,704] Trial 12 finished with value: 0.2034934192156783 and parameters: {'n_items_to_rank': 212}. Best is trial 0 with value: 0.2034934192156783.\n",
      "EvaluatorHoldout: Processed 5961 (100.0%) in 4.02 sec. Users per second: 1482\n"
     ]
    },
    {
     "name": "stderr",
     "output_type": "stream",
     "text": [
      "Best trial: 0. Best value: 0.203493:  28%|██▊       | 14/50 [00:57<02:27,  4.09s/it]"
     ]
    },
    {
     "name": "stdout",
     "output_type": "stream",
     "text": [
      "[I 2023-07-31 04:56:05,749] Trial 13 finished with value: 0.2034934192156783 and parameters: {'n_items_to_rank': 284}. Best is trial 0 with value: 0.2034934192156783.\n",
      "EvaluatorHoldout: Processed 5961 (100.0%) in 4.03 sec. Users per second: 1480\n"
     ]
    },
    {
     "name": "stderr",
     "output_type": "stream",
     "text": [
      "Best trial: 0. Best value: 0.203493:  30%|███       | 15/50 [01:01<02:22,  4.08s/it]"
     ]
    },
    {
     "name": "stdout",
     "output_type": "stream",
     "text": [
      "[I 2023-07-31 04:56:09,798] Trial 14 finished with value: 0.2034934192156783 and parameters: {'n_items_to_rank': 268}. Best is trial 0 with value: 0.2034934192156783.\n",
      "EvaluatorHoldout: Processed 5961 (100.0%) in 3.99 sec. Users per second: 1494\n"
     ]
    },
    {
     "name": "stderr",
     "output_type": "stream",
     "text": [
      "Best trial: 0. Best value: 0.203493:  32%|███▏      | 16/50 [01:05<02:18,  4.06s/it]"
     ]
    },
    {
     "name": "stdout",
     "output_type": "stream",
     "text": [
      "[I 2023-07-31 04:56:13,812] Trial 15 finished with value: 0.2034934192156783 and parameters: {'n_items_to_rank': 283}. Best is trial 0 with value: 0.2034934192156783.\n",
      "EvaluatorHoldout: Processed 5961 (100.0%) in 4.01 sec. Users per second: 1485\n"
     ]
    },
    {
     "name": "stderr",
     "output_type": "stream",
     "text": [
      "Best trial: 0. Best value: 0.203493:  34%|███▍      | 17/50 [01:09<02:13,  4.05s/it]"
     ]
    },
    {
     "name": "stdout",
     "output_type": "stream",
     "text": [
      "[I 2023-07-31 04:56:17,849] Trial 16 finished with value: 0.2034934192156783 and parameters: {'n_items_to_rank': 68}. Best is trial 0 with value: 0.2034934192156783.\n",
      "EvaluatorHoldout: Processed 5961 (100.0%) in 4.04 sec. Users per second: 1476\n"
     ]
    },
    {
     "name": "stderr",
     "output_type": "stream",
     "text": [
      "Best trial: 0. Best value: 0.203493:  36%|███▌      | 18/50 [01:13<02:09,  4.05s/it]"
     ]
    },
    {
     "name": "stdout",
     "output_type": "stream",
     "text": [
      "[I 2023-07-31 04:56:21,907] Trial 17 finished with value: 0.18858037361247867 and parameters: {'n_items_to_rank': 21}. Best is trial 0 with value: 0.2034934192156783.\n",
      "EvaluatorHoldout: Processed 5961 (100.0%) in 3.98 sec. Users per second: 1497\n"
     ]
    },
    {
     "name": "stderr",
     "output_type": "stream",
     "text": [
      "Best trial: 0. Best value: 0.203493:  38%|███▊      | 19/50 [01:17<02:05,  4.04s/it]"
     ]
    },
    {
     "name": "stdout",
     "output_type": "stream",
     "text": [
      "[I 2023-07-31 04:56:25,914] Trial 18 finished with value: 0.2034934192156783 and parameters: {'n_items_to_rank': 254}. Best is trial 0 with value: 0.2034934192156783.\n",
      "EvaluatorHoldout: Processed 5961 (100.0%) in 3.99 sec. Users per second: 1496\n"
     ]
    },
    {
     "name": "stderr",
     "output_type": "stream",
     "text": [
      "Best trial: 0. Best value: 0.203493:  40%|████      | 20/50 [01:21<02:00,  4.03s/it]"
     ]
    },
    {
     "name": "stdout",
     "output_type": "stream",
     "text": [
      "[I 2023-07-31 04:56:29,923] Trial 19 finished with value: 0.2034934192156783 and parameters: {'n_items_to_rank': 295}. Best is trial 0 with value: 0.2034934192156783.\n",
      "EvaluatorHoldout: Processed 5961 (100.0%) in 3.97 sec. Users per second: 1500\n"
     ]
    },
    {
     "name": "stderr",
     "output_type": "stream",
     "text": [
      "Best trial: 0. Best value: 0.203493:  42%|████▏     | 21/50 [01:25<01:56,  4.02s/it]"
     ]
    },
    {
     "name": "stdout",
     "output_type": "stream",
     "text": [
      "[I 2023-07-31 04:56:33,922] Trial 20 finished with value: 0.2034934192156783 and parameters: {'n_items_to_rank': 202}. Best is trial 0 with value: 0.2034934192156783.\n",
      "EvaluatorHoldout: Processed 5961 (100.0%) in 4.01 sec. Users per second: 1486\n"
     ]
    },
    {
     "name": "stderr",
     "output_type": "stream",
     "text": [
      "Best trial: 0. Best value: 0.203493:  44%|████▍     | 22/50 [01:29<01:52,  4.03s/it]"
     ]
    },
    {
     "name": "stdout",
     "output_type": "stream",
     "text": [
      "[I 2023-07-31 04:56:37,961] Trial 21 finished with value: 0.2034934192156783 and parameters: {'n_items_to_rank': 277}. Best is trial 0 with value: 0.2034934192156783.\n",
      "EvaluatorHoldout: Processed 5961 (100.0%) in 3.98 sec. Users per second: 1496\n"
     ]
    },
    {
     "name": "stderr",
     "output_type": "stream",
     "text": [
      "Best trial: 0. Best value: 0.203493:  46%|████▌     | 23/50 [01:33<01:48,  4.02s/it]"
     ]
    },
    {
     "name": "stdout",
     "output_type": "stream",
     "text": [
      "[I 2023-07-31 04:56:41,970] Trial 22 finished with value: 0.2034934192156783 and parameters: {'n_items_to_rank': 291}. Best is trial 0 with value: 0.2034934192156783.\n",
      "EvaluatorHoldout: Processed 5961 (100.0%) in 3.98 sec. Users per second: 1498\n"
     ]
    },
    {
     "name": "stderr",
     "output_type": "stream",
     "text": [
      "Best trial: 0. Best value: 0.203493:  48%|████▊     | 24/50 [01:37<01:44,  4.02s/it]"
     ]
    },
    {
     "name": "stdout",
     "output_type": "stream",
     "text": [
      "[I 2023-07-31 04:56:45,974] Trial 23 finished with value: 0.2034934192156783 and parameters: {'n_items_to_rank': 179}. Best is trial 0 with value: 0.2034934192156783.\n",
      "EvaluatorHoldout: Processed 5961 (100.0%) in 3.99 sec. Users per second: 1495\n"
     ]
    },
    {
     "name": "stderr",
     "output_type": "stream",
     "text": [
      "Best trial: 0. Best value: 0.203493:  50%|█████     | 25/50 [01:41<01:40,  4.02s/it]"
     ]
    },
    {
     "name": "stdout",
     "output_type": "stream",
     "text": [
      "[I 2023-07-31 04:56:49,987] Trial 24 finished with value: 0.2034934192156783 and parameters: {'n_items_to_rank': 260}. Best is trial 0 with value: 0.2034934192156783.\n",
      "EvaluatorHoldout: Processed 5961 (100.0%) in 4.05 sec. Users per second: 1472\n"
     ]
    },
    {
     "name": "stderr",
     "output_type": "stream",
     "text": [
      "Best trial: 0. Best value: 0.203493:  52%|█████▏    | 26/50 [01:45<01:36,  4.03s/it]"
     ]
    },
    {
     "name": "stdout",
     "output_type": "stream",
     "text": [
      "[I 2023-07-31 04:56:54,066] Trial 25 finished with value: 0.2034934192156783 and parameters: {'n_items_to_rank': 156}. Best is trial 0 with value: 0.2034934192156783.\n",
      "EvaluatorHoldout: Processed 5961 (100.0%) in 3.98 sec. Users per second: 1498\n"
     ]
    },
    {
     "name": "stderr",
     "output_type": "stream",
     "text": [
      "Best trial: 0. Best value: 0.203493:  54%|█████▍    | 27/50 [01:49<01:32,  4.03s/it]"
     ]
    },
    {
     "name": "stdout",
     "output_type": "stream",
     "text": [
      "[I 2023-07-31 04:56:58,071] Trial 26 finished with value: 0.2034934192156783 and parameters: {'n_items_to_rank': 58}. Best is trial 0 with value: 0.2034934192156783.\n",
      "EvaluatorHoldout: Processed 5961 (100.0%) in 4.00 sec. Users per second: 1490\n"
     ]
    },
    {
     "name": "stderr",
     "output_type": "stream",
     "text": [
      "Best trial: 0. Best value: 0.203493:  56%|█████▌    | 28/50 [01:53<01:28,  4.03s/it]"
     ]
    },
    {
     "name": "stdout",
     "output_type": "stream",
     "text": [
      "[I 2023-07-31 04:57:02,101] Trial 27 finished with value: 0.2034934192156783 and parameters: {'n_items_to_rank': 56}. Best is trial 0 with value: 0.2034934192156783.\n",
      "EvaluatorHoldout: Processed 5961 (100.0%) in 4.00 sec. Users per second: 1491\n"
     ]
    },
    {
     "name": "stderr",
     "output_type": "stream",
     "text": [
      "Best trial: 0. Best value: 0.203493:  58%|█████▊    | 29/50 [01:57<01:24,  4.03s/it]"
     ]
    },
    {
     "name": "stdout",
     "output_type": "stream",
     "text": [
      "[I 2023-07-31 04:57:06,126] Trial 28 finished with value: 0.2034934192156783 and parameters: {'n_items_to_rank': 241}. Best is trial 0 with value: 0.2034934192156783.\n",
      "EvaluatorHoldout: Processed 5961 (100.0%) in 3.99 sec. Users per second: 1496\n"
     ]
    },
    {
     "name": "stderr",
     "output_type": "stream",
     "text": [
      "Best trial: 0. Best value: 0.203493:  60%|██████    | 30/50 [02:01<01:20,  4.02s/it]"
     ]
    },
    {
     "name": "stdout",
     "output_type": "stream",
     "text": [
      "[I 2023-07-31 04:57:10,138] Trial 29 finished with value: 0.2034934192156783 and parameters: {'n_items_to_rank': 79}. Best is trial 0 with value: 0.2034934192156783.\n",
      "EvaluatorHoldout: Processed 5961 (100.0%) in 4.11 sec. Users per second: 1451\n"
     ]
    },
    {
     "name": "stderr",
     "output_type": "stream",
     "text": [
      "Best trial: 0. Best value: 0.203493:  62%|██████▏   | 31/50 [02:05<01:17,  4.06s/it]"
     ]
    },
    {
     "name": "stdout",
     "output_type": "stream",
     "text": [
      "[I 2023-07-31 04:57:14,274] Trial 30 finished with value: 0.2034934192156783 and parameters: {'n_items_to_rank': 166}. Best is trial 0 with value: 0.2034934192156783.\n",
      "EvaluatorHoldout: Processed 5961 (100.0%) in 4.00 sec. Users per second: 1489\n"
     ]
    },
    {
     "name": "stderr",
     "output_type": "stream",
     "text": [
      "Best trial: 0. Best value: 0.203493:  64%|██████▍   | 32/50 [02:09<01:12,  4.05s/it]"
     ]
    },
    {
     "name": "stdout",
     "output_type": "stream",
     "text": [
      "[I 2023-07-31 04:57:18,307] Trial 31 finished with value: 0.2034934192156783 and parameters: {'n_items_to_rank': 298}. Best is trial 0 with value: 0.2034934192156783.\n",
      "EvaluatorHoldout: Processed 5961 (100.0%) in 3.99 sec. Users per second: 1492\n"
     ]
    },
    {
     "name": "stderr",
     "output_type": "stream",
     "text": [
      "Best trial: 0. Best value: 0.203493:  66%|██████▌   | 33/50 [02:13<01:08,  4.04s/it]"
     ]
    },
    {
     "name": "stdout",
     "output_type": "stream",
     "text": [
      "[I 2023-07-31 04:57:22,331] Trial 32 finished with value: 0.2034934192156783 and parameters: {'n_items_to_rank': 191}. Best is trial 0 with value: 0.2034934192156783.\n",
      "EvaluatorHoldout: Processed 5961 (100.0%) in 3.97 sec. Users per second: 1500\n"
     ]
    },
    {
     "name": "stderr",
     "output_type": "stream",
     "text": [
      "Best trial: 0. Best value: 0.203493:  68%|██████▊   | 34/50 [02:17<01:04,  4.03s/it]"
     ]
    },
    {
     "name": "stdout",
     "output_type": "stream",
     "text": [
      "[I 2023-07-31 04:57:26,335] Trial 33 finished with value: 0.2034934192156783 and parameters: {'n_items_to_rank': 69}. Best is trial 0 with value: 0.2034934192156783.\n",
      "EvaluatorHoldout: Processed 5961 (100.0%) in 3.99 sec. Users per second: 1494\n"
     ]
    },
    {
     "name": "stderr",
     "output_type": "stream",
     "text": [
      "Best trial: 0. Best value: 0.203493:  70%|███████   | 35/50 [02:21<01:00,  4.03s/it]"
     ]
    },
    {
     "name": "stdout",
     "output_type": "stream",
     "text": [
      "[I 2023-07-31 04:57:30,353] Trial 34 finished with value: 0.2034934192156783 and parameters: {'n_items_to_rank': 220}. Best is trial 0 with value: 0.2034934192156783.\n",
      "EvaluatorHoldout: Processed 5961 (100.0%) in 4.00 sec. Users per second: 1490\n"
     ]
    },
    {
     "name": "stderr",
     "output_type": "stream",
     "text": [
      "Best trial: 0. Best value: 0.203493:  72%|███████▏  | 36/50 [02:25<00:56,  4.03s/it]"
     ]
    },
    {
     "name": "stdout",
     "output_type": "stream",
     "text": [
      "[I 2023-07-31 04:57:34,385] Trial 35 finished with value: 0.2034934192156783 and parameters: {'n_items_to_rank': 272}. Best is trial 0 with value: 0.2034934192156783.\n",
      "EvaluatorHoldout: Processed 5961 (100.0%) in 3.99 sec. Users per second: 1494\n"
     ]
    },
    {
     "name": "stderr",
     "output_type": "stream",
     "text": [
      "Best trial: 0. Best value: 0.203493:  74%|███████▍  | 37/50 [02:29<00:52,  4.03s/it]"
     ]
    },
    {
     "name": "stdout",
     "output_type": "stream",
     "text": [
      "[I 2023-07-31 04:57:38,403] Trial 36 finished with value: 0.2034934192156783 and parameters: {'n_items_to_rank': 239}. Best is trial 0 with value: 0.2034934192156783.\n",
      "EvaluatorHoldout: Processed 5961 (100.0%) in 4.02 sec. Users per second: 1483\n"
     ]
    },
    {
     "name": "stderr",
     "output_type": "stream",
     "text": [
      "Best trial: 0. Best value: 0.203493:  76%|███████▌  | 38/50 [02:33<00:48,  4.03s/it]"
     ]
    },
    {
     "name": "stdout",
     "output_type": "stream",
     "text": [
      "[I 2023-07-31 04:57:42,454] Trial 37 finished with value: 0.2034934192156783 and parameters: {'n_items_to_rank': 119}. Best is trial 0 with value: 0.2034934192156783.\n",
      "EvaluatorHoldout: Processed 5961 (100.0%) in 3.98 sec. Users per second: 1498\n"
     ]
    },
    {
     "name": "stderr",
     "output_type": "stream",
     "text": [
      "Best trial: 0. Best value: 0.203493:  78%|███████▊  | 39/50 [02:37<00:44,  4.03s/it]"
     ]
    },
    {
     "name": "stdout",
     "output_type": "stream",
     "text": [
      "[I 2023-07-31 04:57:46,464] Trial 38 finished with value: 0.2034934192156783 and parameters: {'n_items_to_rank': 175}. Best is trial 0 with value: 0.2034934192156783.\n",
      "EvaluatorHoldout: Processed 5961 (100.0%) in 3.98 sec. Users per second: 1496\n"
     ]
    },
    {
     "name": "stderr",
     "output_type": "stream",
     "text": [
      "Best trial: 0. Best value: 0.203493:  80%|████████  | 40/50 [02:41<00:40,  4.02s/it]"
     ]
    },
    {
     "name": "stdout",
     "output_type": "stream",
     "text": [
      "[I 2023-07-31 04:57:50,480] Trial 39 finished with value: 0.2034934192156783 and parameters: {'n_items_to_rank': 105}. Best is trial 0 with value: 0.2034934192156783.\n",
      "EvaluatorHoldout: Processed 5961 (100.0%) in 3.99 sec. Users per second: 1494\n"
     ]
    },
    {
     "name": "stderr",
     "output_type": "stream",
     "text": [
      "Best trial: 0. Best value: 0.203493:  82%|████████▏ | 41/50 [02:45<00:36,  4.02s/it]"
     ]
    },
    {
     "name": "stdout",
     "output_type": "stream",
     "text": [
      "[I 2023-07-31 04:57:54,502] Trial 40 finished with value: 0.2034934192156783 and parameters: {'n_items_to_rank': 130}. Best is trial 0 with value: 0.2034934192156783.\n",
      "EvaluatorHoldout: Processed 5961 (100.0%) in 3.99 sec. Users per second: 1496\n"
     ]
    },
    {
     "name": "stderr",
     "output_type": "stream",
     "text": [
      "Best trial: 0. Best value: 0.203493:  84%|████████▍ | 42/50 [02:49<00:32,  4.02s/it]"
     ]
    },
    {
     "name": "stdout",
     "output_type": "stream",
     "text": [
      "[I 2023-07-31 04:57:58,518] Trial 41 finished with value: 0.2034934192156783 and parameters: {'n_items_to_rank': 159}. Best is trial 0 with value: 0.2034934192156783.\n",
      "EvaluatorHoldout: Processed 5961 (100.0%) in 4.00 sec. Users per second: 1491\n"
     ]
    },
    {
     "name": "stderr",
     "output_type": "stream",
     "text": [
      "Best trial: 0. Best value: 0.203493:  86%|████████▌ | 43/50 [02:53<00:28,  4.02s/it]"
     ]
    },
    {
     "name": "stdout",
     "output_type": "stream",
     "text": [
      "[I 2023-07-31 04:58:02,549] Trial 42 finished with value: 0.2034934192156783 and parameters: {'n_items_to_rank': 294}. Best is trial 0 with value: 0.2034934192156783.\n",
      "EvaluatorHoldout: Processed 5961 (100.0%) in 3.98 sec. Users per second: 1499\n"
     ]
    },
    {
     "name": "stderr",
     "output_type": "stream",
     "text": [
      "Best trial: 0. Best value: 0.203493:  88%|████████▊ | 44/50 [02:57<00:24,  4.02s/it]"
     ]
    },
    {
     "name": "stdout",
     "output_type": "stream",
     "text": [
      "[I 2023-07-31 04:58:06,557] Trial 43 finished with value: 0.20311781514978366 and parameters: {'n_items_to_rank': 49}. Best is trial 0 with value: 0.2034934192156783.\n",
      "EvaluatorHoldout: Processed 5961 (100.0%) in 3.98 sec. Users per second: 1500\n"
     ]
    },
    {
     "name": "stderr",
     "output_type": "stream",
     "text": [
      "Best trial: 0. Best value: 0.203493:  90%|█████████ | 45/50 [03:01<00:20,  4.02s/it]"
     ]
    },
    {
     "name": "stdout",
     "output_type": "stream",
     "text": [
      "[I 2023-07-31 04:58:10,566] Trial 44 finished with value: 0.2034934192156783 and parameters: {'n_items_to_rank': 307}. Best is trial 0 with value: 0.2034934192156783.\n",
      "EvaluatorHoldout: Processed 5961 (100.0%) in 4.00 sec. Users per second: 1490\n"
     ]
    },
    {
     "name": "stderr",
     "output_type": "stream",
     "text": [
      "Best trial: 0. Best value: 0.203493:  92%|█████████▏| 46/50 [03:05<00:16,  4.02s/it]"
     ]
    },
    {
     "name": "stdout",
     "output_type": "stream",
     "text": [
      "[I 2023-07-31 04:58:14,601] Trial 45 finished with value: 0.2034934192156783 and parameters: {'n_items_to_rank': 299}. Best is trial 0 with value: 0.2034934192156783.\n",
      "EvaluatorHoldout: Processed 5961 (100.0%) in 3.98 sec. Users per second: 1497\n"
     ]
    },
    {
     "name": "stderr",
     "output_type": "stream",
     "text": [
      "Best trial: 0. Best value: 0.203493:  94%|█████████▍| 47/50 [03:09<00:12,  4.02s/it]"
     ]
    },
    {
     "name": "stdout",
     "output_type": "stream",
     "text": [
      "[I 2023-07-31 04:58:18,618] Trial 46 finished with value: 0.2034934192156783 and parameters: {'n_items_to_rank': 290}. Best is trial 0 with value: 0.2034934192156783.\n",
      "EvaluatorHoldout: Processed 5961 (100.0%) in 4.00 sec. Users per second: 1490\n"
     ]
    },
    {
     "name": "stderr",
     "output_type": "stream",
     "text": [
      "Best trial: 0. Best value: 0.203493:  96%|█████████▌| 48/50 [03:13<00:08,  4.02s/it]"
     ]
    },
    {
     "name": "stdout",
     "output_type": "stream",
     "text": [
      "[I 2023-07-31 04:58:22,652] Trial 47 finished with value: 0.2034934192156783 and parameters: {'n_items_to_rank': 246}. Best is trial 0 with value: 0.2034934192156783.\n",
      "EvaluatorHoldout: Processed 5961 (100.0%) in 4.13 sec. Users per second: 1442\n"
     ]
    },
    {
     "name": "stderr",
     "output_type": "stream",
     "text": [
      "Best trial: 0. Best value: 0.203493:  98%|█████████▊| 49/50 [03:18<00:04,  4.07s/it]"
     ]
    },
    {
     "name": "stdout",
     "output_type": "stream",
     "text": [
      "[I 2023-07-31 04:58:26,823] Trial 48 finished with value: 0.2034934192156783 and parameters: {'n_items_to_rank': 124}. Best is trial 0 with value: 0.2034934192156783.\n",
      "EvaluatorHoldout: Processed 5961 (100.0%) in 4.00 sec. Users per second: 1489\n"
     ]
    },
    {
     "name": "stderr",
     "output_type": "stream",
     "text": [
      "Best trial: 0. Best value: 0.203493: 100%|██████████| 50/50 [03:22<00:00,  4.04s/it]"
     ]
    },
    {
     "name": "stdout",
     "output_type": "stream",
     "text": [
      "[I 2023-07-31 04:58:30,864] Trial 49 finished with value: 0.2034934192156783 and parameters: {'n_items_to_rank': 210}. Best is trial 0 with value: 0.2034934192156783.\n",
      "Recommender_Base_Class: URM Detected 194 ( 5.0%) items with no interactions.\n"
     ]
    },
    {
     "name": "stderr",
     "output_type": "stream",
     "text": [
      "\n"
     ]
    },
    {
     "name": "stdout",
     "output_type": "stream",
     "text": [
      "EvaluatorHoldout: Processed 5976 (100.0%) in 3.75 sec. Users per second: 1594\n"
     ]
    },
    {
     "name": "stderr",
     "output_type": "stream",
     "text": [
      "[I 2023-07-31 04:58:56,684] A new study created in memory with name: no-name-c48c1e3f-db8c-4e30-afe3-3cfe95523ae9\n",
      "  0%|          | 0/50 [00:00<?, ?it/s]"
     ]
    },
    {
     "name": "stdout",
     "output_type": "stream",
     "text": [
      "ItemKNNCFRecommender\n",
      "DiffusionAutoencoderRecommender_ItemKNNCFRecommender_TwoLevelRec\n",
      "EvaluatorHoldout: Processed 5961 (100.0%) in 5.04 sec. Users per second: 1183\n"
     ]
    },
    {
     "name": "stderr",
     "output_type": "stream",
     "text": [
      "Best trial: 0. Best value: 0.176542:   2%|▏         | 1/50 [00:05<04:07,  5.06s/it]"
     ]
    },
    {
     "name": "stdout",
     "output_type": "stream",
     "text": [
      "[I 2023-07-31 04:59:01,740] Trial 0 finished with value: 0.17654150833216775 and parameters: {'n_items_to_rank': 204}. Best is trial 0 with value: 0.17654150833216775.\n",
      "EvaluatorHoldout: Processed 5961 (100.0%) in 5.05 sec. Users per second: 1181\n"
     ]
    },
    {
     "name": "stderr",
     "output_type": "stream",
     "text": [
      "Best trial: 0. Best value: 0.176542:   4%|▍         | 2/50 [00:10<04:02,  5.06s/it]"
     ]
    },
    {
     "name": "stdout",
     "output_type": "stream",
     "text": [
      "[I 2023-07-31 04:59:06,804] Trial 1 finished with value: 0.17654150833216775 and parameters: {'n_items_to_rank': 116}. Best is trial 0 with value: 0.17654150833216775.\n",
      "EvaluatorHoldout: Processed 5961 (100.0%) in 5.06 sec. Users per second: 1179\n"
     ]
    },
    {
     "name": "stderr",
     "output_type": "stream",
     "text": [
      "Best trial: 0. Best value: 0.176542:   6%|▌         | 3/50 [00:15<03:58,  5.07s/it]"
     ]
    },
    {
     "name": "stdout",
     "output_type": "stream",
     "text": [
      "[I 2023-07-31 04:59:11,878] Trial 2 finished with value: 0.17654150833216775 and parameters: {'n_items_to_rank': 181}. Best is trial 0 with value: 0.17654150833216775.\n",
      "EvaluatorHoldout: Processed 5961 (100.0%) in 5.05 sec. Users per second: 1181\n"
     ]
    },
    {
     "name": "stderr",
     "output_type": "stream",
     "text": [
      "Best trial: 0. Best value: 0.176542:   8%|▊         | 4/50 [00:20<03:53,  5.07s/it]"
     ]
    },
    {
     "name": "stdout",
     "output_type": "stream",
     "text": [
      "[I 2023-07-31 04:59:16,943] Trial 3 finished with value: 0.17654150833216775 and parameters: {'n_items_to_rank': 278}. Best is trial 0 with value: 0.17654150833216775.\n",
      "EvaluatorHoldout: Processed 5961 (100.0%) in 5.05 sec. Users per second: 1179\n"
     ]
    },
    {
     "name": "stderr",
     "output_type": "stream",
     "text": [
      "Best trial: 0. Best value: 0.176542:  10%|█         | 5/50 [00:25<03:48,  5.07s/it]"
     ]
    },
    {
     "name": "stdout",
     "output_type": "stream",
     "text": [
      "[I 2023-07-31 04:59:22,014] Trial 4 finished with value: 0.17654150833216775 and parameters: {'n_items_to_rank': 131}. Best is trial 0 with value: 0.17654150833216775.\n",
      "EvaluatorHoldout: Processed 5961 (100.0%) in 5.00 sec. Users per second: 1192\n"
     ]
    },
    {
     "name": "stderr",
     "output_type": "stream",
     "text": [
      "Best trial: 0. Best value: 0.176542:  12%|█▏        | 6/50 [00:30<03:42,  5.05s/it]"
     ]
    },
    {
     "name": "stdout",
     "output_type": "stream",
     "text": [
      "[I 2023-07-31 04:59:27,030] Trial 5 finished with value: 0.17654150833216775 and parameters: {'n_items_to_rank': 71}. Best is trial 0 with value: 0.17654150833216775.\n",
      "EvaluatorHoldout: Processed 5961 (100.0%) in 5.05 sec. Users per second: 1180\n"
     ]
    },
    {
     "name": "stderr",
     "output_type": "stream",
     "text": [
      "Best trial: 0. Best value: 0.176542:  14%|█▍        | 7/50 [00:35<03:37,  5.06s/it]"
     ]
    },
    {
     "name": "stdout",
     "output_type": "stream",
     "text": [
      "[I 2023-07-31 04:59:32,097] Trial 6 finished with value: 0.17654150833216775 and parameters: {'n_items_to_rank': 249}. Best is trial 0 with value: 0.17654150833216775.\n",
      "EvaluatorHoldout: Processed 5961 (100.0%) in 5.06 sec. Users per second: 1178\n"
     ]
    },
    {
     "name": "stderr",
     "output_type": "stream",
     "text": [
      "Best trial: 0. Best value: 0.176542:  16%|█▌        | 8/50 [00:40<03:32,  5.06s/it]"
     ]
    },
    {
     "name": "stdout",
     "output_type": "stream",
     "text": [
      "[I 2023-07-31 04:59:37,175] Trial 7 finished with value: 0.17654150833216775 and parameters: {'n_items_to_rank': 216}. Best is trial 0 with value: 0.17654150833216775.\n",
      "EvaluatorHoldout: Processed 5961 (100.0%) in 5.02 sec. Users per second: 1187\n"
     ]
    },
    {
     "name": "stderr",
     "output_type": "stream",
     "text": [
      "Best trial: 0. Best value: 0.176542:  18%|█▊        | 9/50 [00:45<03:27,  5.06s/it]"
     ]
    },
    {
     "name": "stdout",
     "output_type": "stream",
     "text": [
      "[I 2023-07-31 04:59:42,217] Trial 8 finished with value: 0.17654150833216775 and parameters: {'n_items_to_rank': 66}. Best is trial 0 with value: 0.17654150833216775.\n",
      "EvaluatorHoldout: Processed 5961 (100.0%) in 5.03 sec. Users per second: 1186\n"
     ]
    },
    {
     "name": "stderr",
     "output_type": "stream",
     "text": [
      "Best trial: 0. Best value: 0.176542:  20%|██        | 10/50 [00:50<03:22,  5.05s/it]"
     ]
    },
    {
     "name": "stdout",
     "output_type": "stream",
     "text": [
      "[I 2023-07-31 04:59:47,261] Trial 9 finished with value: 0.16800402095347264 and parameters: {'n_items_to_rank': 19}. Best is trial 0 with value: 0.17654150833216775.\n",
      "EvaluatorHoldout: Processed 5961 (100.0%) in 5.05 sec. Users per second: 1180\n"
     ]
    },
    {
     "name": "stderr",
     "output_type": "stream",
     "text": [
      "Best trial: 0. Best value: 0.176542:  22%|██▏       | 11/50 [00:55<03:17,  5.06s/it]"
     ]
    },
    {
     "name": "stdout",
     "output_type": "stream",
     "text": [
      "[I 2023-07-31 04:59:52,330] Trial 10 finished with value: 0.17654150833216775 and parameters: {'n_items_to_rank': 108}. Best is trial 0 with value: 0.17654150833216775.\n",
      "EvaluatorHoldout: Processed 5961 (100.0%) in 5.07 sec. Users per second: 1175\n"
     ]
    },
    {
     "name": "stderr",
     "output_type": "stream",
     "text": [
      "Best trial: 0. Best value: 0.176542:  24%|██▍       | 12/50 [01:00<03:12,  5.07s/it]"
     ]
    },
    {
     "name": "stdout",
     "output_type": "stream",
     "text": [
      "[I 2023-07-31 04:59:57,422] Trial 11 finished with value: 0.17654150833216775 and parameters: {'n_items_to_rank': 116}. Best is trial 0 with value: 0.17654150833216775.\n",
      "EvaluatorHoldout: Processed 5961 (100.0%) in 5.02 sec. Users per second: 1188\n"
     ]
    },
    {
     "name": "stderr",
     "output_type": "stream",
     "text": [
      "Best trial: 0. Best value: 0.176542:  26%|██▌       | 13/50 [01:05<03:07,  5.06s/it]"
     ]
    },
    {
     "name": "stdout",
     "output_type": "stream",
     "text": [
      "[I 2023-07-31 05:00:02,461] Trial 12 finished with value: 0.17654150833216775 and parameters: {'n_items_to_rank': 126}. Best is trial 0 with value: 0.17654150833216775.\n",
      "EvaluatorHoldout: Processed 5961 (100.0%) in 5.04 sec. Users per second: 1183\n"
     ]
    },
    {
     "name": "stderr",
     "output_type": "stream",
     "text": [
      "Best trial: 0. Best value: 0.176542:  28%|██▊       | 14/50 [01:10<03:02,  5.06s/it]"
     ]
    },
    {
     "name": "stdout",
     "output_type": "stream",
     "text": [
      "[I 2023-07-31 05:00:07,522] Trial 13 finished with value: 0.17654150833216775 and parameters: {'n_items_to_rank': 111}. Best is trial 0 with value: 0.17654150833216775.\n",
      "EvaluatorHoldout: Processed 5961 (100.0%) in 5.04 sec. Users per second: 1182\n"
     ]
    },
    {
     "name": "stderr",
     "output_type": "stream",
     "text": [
      "Best trial: 0. Best value: 0.176542:  30%|███       | 15/50 [01:15<02:57,  5.06s/it]"
     ]
    },
    {
     "name": "stdout",
     "output_type": "stream",
     "text": [
      "[I 2023-07-31 05:00:12,586] Trial 14 finished with value: 0.17654150833216775 and parameters: {'n_items_to_rank': 204}. Best is trial 0 with value: 0.17654150833216775.\n",
      "EvaluatorHoldout: Processed 5961 (100.0%) in 5.14 sec. Users per second: 1160\n"
     ]
    },
    {
     "name": "stderr",
     "output_type": "stream",
     "text": [
      "Best trial: 0. Best value: 0.176542:  32%|███▏      | 16/50 [01:21<02:53,  5.09s/it]"
     ]
    },
    {
     "name": "stdout",
     "output_type": "stream",
     "text": [
      "[I 2023-07-31 05:00:17,747] Trial 15 finished with value: 0.17654150833216775 and parameters: {'n_items_to_rank': 144}. Best is trial 0 with value: 0.17654150833216775.\n",
      "EvaluatorHoldout: Processed 5961 (100.0%) in 4.95 sec. Users per second: 1205\n"
     ]
    },
    {
     "name": "stderr",
     "output_type": "stream",
     "text": [
      "Best trial: 0. Best value: 0.176542:  34%|███▍      | 17/50 [01:26<02:46,  5.05s/it]"
     ]
    },
    {
     "name": "stdout",
     "output_type": "stream",
     "text": [
      "[I 2023-07-31 05:00:22,713] Trial 16 finished with value: 0.1745035092901211 and parameters: {'n_items_to_rank': 40}. Best is trial 0 with value: 0.17654150833216775.\n",
      "EvaluatorHoldout: Processed 5961 (100.0%) in 5.04 sec. Users per second: 1184\n"
     ]
    },
    {
     "name": "stderr",
     "output_type": "stream",
     "text": [
      "Best trial: 0. Best value: 0.176542:  36%|███▌      | 18/50 [01:31<02:41,  5.05s/it]"
     ]
    },
    {
     "name": "stdout",
     "output_type": "stream",
     "text": [
      "[I 2023-07-31 05:00:27,769] Trial 17 finished with value: 0.17654150833216775 and parameters: {'n_items_to_rank': 145}. Best is trial 0 with value: 0.17654150833216775.\n",
      "EvaluatorHoldout: Processed 5961 (100.0%) in 5.03 sec. Users per second: 1186\n"
     ]
    },
    {
     "name": "stderr",
     "output_type": "stream",
     "text": [
      "Best trial: 0. Best value: 0.176542:  38%|███▊      | 19/50 [01:36<02:36,  5.05s/it]"
     ]
    },
    {
     "name": "stdout",
     "output_type": "stream",
     "text": [
      "[I 2023-07-31 05:00:32,817] Trial 18 finished with value: 0.17654150833216775 and parameters: {'n_items_to_rank': 207}. Best is trial 0 with value: 0.17654150833216775.\n",
      "EvaluatorHoldout: Processed 5961 (100.0%) in 5.03 sec. Users per second: 1184\n"
     ]
    },
    {
     "name": "stderr",
     "output_type": "stream",
     "text": [
      "Best trial: 0. Best value: 0.176542:  40%|████      | 20/50 [01:41<02:31,  5.05s/it]"
     ]
    },
    {
     "name": "stdout",
     "output_type": "stream",
     "text": [
      "[I 2023-07-31 05:00:37,872] Trial 19 finished with value: 0.17654150833216775 and parameters: {'n_items_to_rank': 204}. Best is trial 0 with value: 0.17654150833216775.\n",
      "EvaluatorHoldout: Processed 5961 (100.0%) in 5.04 sec. Users per second: 1183\n"
     ]
    },
    {
     "name": "stderr",
     "output_type": "stream",
     "text": [
      "Best trial: 0. Best value: 0.176542:  42%|████▏     | 21/50 [01:46<02:26,  5.06s/it]"
     ]
    },
    {
     "name": "stdout",
     "output_type": "stream",
     "text": [
      "[I 2023-07-31 05:00:42,936] Trial 20 finished with value: 0.17654150833216775 and parameters: {'n_items_to_rank': 56}. Best is trial 0 with value: 0.17654150833216775.\n",
      "EvaluatorHoldout: Processed 5961 (100.0%) in 5.03 sec. Users per second: 1184\n"
     ]
    },
    {
     "name": "stderr",
     "output_type": "stream",
     "text": [
      "Best trial: 0. Best value: 0.176542:  44%|████▍     | 22/50 [01:51<02:21,  5.06s/it]"
     ]
    },
    {
     "name": "stdout",
     "output_type": "stream",
     "text": [
      "[I 2023-07-31 05:00:47,991] Trial 21 finished with value: 0.17654150833216775 and parameters: {'n_items_to_rank': 82}. Best is trial 0 with value: 0.17654150833216775.\n",
      "EvaluatorHoldout: Processed 5961 (100.0%) in 5.42 sec. Users per second: 1099\n"
     ]
    },
    {
     "name": "stderr",
     "output_type": "stream",
     "text": [
      "Best trial: 0. Best value: 0.176542:  46%|████▌     | 23/50 [01:56<02:19,  5.17s/it]"
     ]
    },
    {
     "name": "stdout",
     "output_type": "stream",
     "text": [
      "[I 2023-07-31 05:00:53,437] Trial 22 finished with value: 0.17296410230199538 and parameters: {'n_items_to_rank': 33}. Best is trial 0 with value: 0.17654150833216775.\n",
      "EvaluatorHoldout: Processed 5961 (100.0%) in 5.03 sec. Users per second: 1186\n"
     ]
    },
    {
     "name": "stderr",
     "output_type": "stream",
     "text": [
      "Best trial: 0. Best value: 0.176542:  48%|████▊     | 24/50 [02:01<02:13,  5.14s/it]"
     ]
    },
    {
     "name": "stdout",
     "output_type": "stream",
     "text": [
      "[I 2023-07-31 05:00:58,485] Trial 23 finished with value: 0.17654150833216775 and parameters: {'n_items_to_rank': 300}. Best is trial 0 with value: 0.17654150833216775.\n",
      "EvaluatorHoldout: Processed 5961 (100.0%) in 5.04 sec. Users per second: 1183\n"
     ]
    },
    {
     "name": "stderr",
     "output_type": "stream",
     "text": [
      "Best trial: 0. Best value: 0.176542:  50%|█████     | 25/50 [02:06<02:07,  5.11s/it]"
     ]
    },
    {
     "name": "stdout",
     "output_type": "stream",
     "text": [
      "[I 2023-07-31 05:01:03,550] Trial 24 finished with value: 0.17654150833216775 and parameters: {'n_items_to_rank': 137}. Best is trial 0 with value: 0.17654150833216775.\n",
      "EvaluatorHoldout: Processed 5961 (100.0%) in 4.99 sec. Users per second: 1194\n"
     ]
    },
    {
     "name": "stderr",
     "output_type": "stream",
     "text": [
      "Best trial: 0. Best value: 0.176542:  52%|█████▏    | 26/50 [02:11<02:02,  5.08s/it]"
     ]
    },
    {
     "name": "stdout",
     "output_type": "stream",
     "text": [
      "[I 2023-07-31 05:01:08,566] Trial 25 finished with value: 0.17654150833216775 and parameters: {'n_items_to_rank': 146}. Best is trial 0 with value: 0.17654150833216775.\n",
      "EvaluatorHoldout: Processed 5961 (100.0%) in 5.02 sec. Users per second: 1188\n"
     ]
    },
    {
     "name": "stderr",
     "output_type": "stream",
     "text": [
      "Best trial: 0. Best value: 0.176542:  54%|█████▍    | 27/50 [02:16<01:56,  5.07s/it]"
     ]
    },
    {
     "name": "stdout",
     "output_type": "stream",
     "text": [
      "[I 2023-07-31 05:01:13,608] Trial 26 finished with value: 0.17654150833216775 and parameters: {'n_items_to_rank': 55}. Best is trial 0 with value: 0.17654150833216775.\n",
      "EvaluatorHoldout: Processed 5961 (100.0%) in 4.87 sec. Users per second: 1225\n"
     ]
    },
    {
     "name": "stderr",
     "output_type": "stream",
     "text": [
      "Best trial: 0. Best value: 0.176542:  56%|█████▌    | 28/50 [02:21<01:50,  5.02s/it]"
     ]
    },
    {
     "name": "stdout",
     "output_type": "stream",
     "text": [
      "[I 2023-07-31 05:01:18,499] Trial 27 finished with value: 0.17361377947232276 and parameters: {'n_items_to_rank': 34}. Best is trial 0 with value: 0.17654150833216775.\n",
      "EvaluatorHoldout: Processed 5961 (100.0%) in 5.03 sec. Users per second: 1185\n"
     ]
    },
    {
     "name": "stderr",
     "output_type": "stream",
     "text": [
      "Best trial: 0. Best value: 0.176542:  58%|█████▊    | 29/50 [02:26<01:45,  5.03s/it]"
     ]
    },
    {
     "name": "stdout",
     "output_type": "stream",
     "text": [
      "[I 2023-07-31 05:01:23,552] Trial 28 finished with value: 0.17654150833216775 and parameters: {'n_items_to_rank': 262}. Best is trial 0 with value: 0.17654150833216775.\n",
      "EvaluatorHoldout: Processed 5961 (100.0%) in 5.04 sec. Users per second: 1182\n"
     ]
    },
    {
     "name": "stderr",
     "output_type": "stream",
     "text": [
      "Best trial: 0. Best value: 0.176542:  60%|██████    | 30/50 [02:31<01:40,  5.04s/it]"
     ]
    },
    {
     "name": "stdout",
     "output_type": "stream",
     "text": [
      "[I 2023-07-31 05:01:28,620] Trial 29 finished with value: 0.17654150833216775 and parameters: {'n_items_to_rank': 52}. Best is trial 0 with value: 0.17654150833216775.\n",
      "EvaluatorHoldout: Processed 5961 (100.0%) in 5.01 sec. Users per second: 1189\n"
     ]
    },
    {
     "name": "stderr",
     "output_type": "stream",
     "text": [
      "Best trial: 0. Best value: 0.176542:  62%|██████▏   | 31/50 [02:36<01:35,  5.04s/it]"
     ]
    },
    {
     "name": "stdout",
     "output_type": "stream",
     "text": [
      "[I 2023-07-31 05:01:33,661] Trial 30 finished with value: 0.17654150833216775 and parameters: {'n_items_to_rank': 205}. Best is trial 0 with value: 0.17654150833216775.\n",
      "EvaluatorHoldout: Processed 5961 (100.0%) in 5.03 sec. Users per second: 1186\n"
     ]
    },
    {
     "name": "stderr",
     "output_type": "stream",
     "text": [
      "Best trial: 0. Best value: 0.176542:  64%|██████▍   | 32/50 [02:42<01:30,  5.04s/it]"
     ]
    },
    {
     "name": "stdout",
     "output_type": "stream",
     "text": [
      "[I 2023-07-31 05:01:38,711] Trial 31 finished with value: 0.17654150833216775 and parameters: {'n_items_to_rank': 112}. Best is trial 0 with value: 0.17654150833216775.\n",
      "EvaluatorHoldout: Processed 5961 (100.0%) in 5.04 sec. Users per second: 1182\n"
     ]
    },
    {
     "name": "stderr",
     "output_type": "stream",
     "text": [
      "Best trial: 0. Best value: 0.176542:  66%|██████▌   | 33/50 [02:47<01:25,  5.05s/it]"
     ]
    },
    {
     "name": "stdout",
     "output_type": "stream",
     "text": [
      "[I 2023-07-31 05:01:43,783] Trial 32 finished with value: 0.17654150833216775 and parameters: {'n_items_to_rank': 173}. Best is trial 0 with value: 0.17654150833216775.\n",
      "EvaluatorHoldout: Processed 5961 (100.0%) in 5.02 sec. Users per second: 1187\n"
     ]
    },
    {
     "name": "stderr",
     "output_type": "stream",
     "text": [
      "Best trial: 0. Best value: 0.176542:  68%|██████▊   | 34/50 [02:52<01:20,  5.05s/it]"
     ]
    },
    {
     "name": "stdout",
     "output_type": "stream",
     "text": [
      "[I 2023-07-31 05:01:48,832] Trial 33 finished with value: 0.17654150833216775 and parameters: {'n_items_to_rank': 181}. Best is trial 0 with value: 0.17654150833216775.\n",
      "EvaluatorHoldout: Processed 5961 (100.0%) in 5.01 sec. Users per second: 1190\n"
     ]
    },
    {
     "name": "stderr",
     "output_type": "stream",
     "text": [
      "Best trial: 0. Best value: 0.176542:  70%|███████   | 35/50 [02:57<01:16,  5.08s/it]"
     ]
    },
    {
     "name": "stdout",
     "output_type": "stream",
     "text": [
      "[I 2023-07-31 05:01:53,975] Trial 34 finished with value: 0.17654150833216775 and parameters: {'n_items_to_rank': 93}. Best is trial 0 with value: 0.17654150833216775.\n",
      "EvaluatorHoldout: Processed 5961 (100.0%) in 5.02 sec. Users per second: 1188\n"
     ]
    },
    {
     "name": "stderr",
     "output_type": "stream",
     "text": [
      "Best trial: 0. Best value: 0.176542:  72%|███████▏  | 36/50 [03:02<01:10,  5.07s/it]"
     ]
    },
    {
     "name": "stdout",
     "output_type": "stream",
     "text": [
      "[I 2023-07-31 05:01:59,019] Trial 35 finished with value: 0.17654150833216775 and parameters: {'n_items_to_rank': 134}. Best is trial 0 with value: 0.17654150833216775.\n",
      "EvaluatorHoldout: Processed 5961 (100.0%) in 5.07 sec. Users per second: 1176\n"
     ]
    },
    {
     "name": "stderr",
     "output_type": "stream",
     "text": [
      "Best trial: 0. Best value: 0.176542:  74%|███████▍  | 37/50 [03:07<01:05,  5.08s/it]"
     ]
    },
    {
     "name": "stdout",
     "output_type": "stream",
     "text": [
      "[I 2023-07-31 05:02:04,114] Trial 36 finished with value: 0.17654150833216775 and parameters: {'n_items_to_rank': 255}. Best is trial 0 with value: 0.17654150833216775.\n",
      "EvaluatorHoldout: Processed 5961 (100.0%) in 5.02 sec. Users per second: 1188\n"
     ]
    },
    {
     "name": "stderr",
     "output_type": "stream",
     "text": [
      "Best trial: 0. Best value: 0.176542:  76%|███████▌  | 38/50 [03:12<01:00,  5.07s/it]"
     ]
    },
    {
     "name": "stdout",
     "output_type": "stream",
     "text": [
      "[I 2023-07-31 05:02:09,159] Trial 37 finished with value: 0.17654150833216775 and parameters: {'n_items_to_rank': 206}. Best is trial 0 with value: 0.17654150833216775.\n",
      "EvaluatorHoldout: Processed 5961 (100.0%) in 5.04 sec. Users per second: 1184\n"
     ]
    },
    {
     "name": "stderr",
     "output_type": "stream",
     "text": [
      "Best trial: 0. Best value: 0.176542:  78%|███████▊  | 39/50 [03:17<00:55,  5.07s/it]"
     ]
    },
    {
     "name": "stdout",
     "output_type": "stream",
     "text": [
      "[I 2023-07-31 05:02:14,224] Trial 38 finished with value: 0.17654150833216775 and parameters: {'n_items_to_rank': 237}. Best is trial 0 with value: 0.17654150833216775.\n",
      "EvaluatorHoldout: Processed 5961 (100.0%) in 5.07 sec. Users per second: 1176\n"
     ]
    },
    {
     "name": "stderr",
     "output_type": "stream",
     "text": [
      "Best trial: 0. Best value: 0.176542:  80%|████████  | 40/50 [03:22<00:50,  5.08s/it]"
     ]
    },
    {
     "name": "stdout",
     "output_type": "stream",
     "text": [
      "[I 2023-07-31 05:02:19,321] Trial 39 finished with value: 0.17654150833216775 and parameters: {'n_items_to_rank': 79}. Best is trial 0 with value: 0.17654150833216775.\n",
      "EvaluatorHoldout: Processed 5961 (100.0%) in 5.04 sec. Users per second: 1183\n"
     ]
    },
    {
     "name": "stderr",
     "output_type": "stream",
     "text": [
      "Best trial: 0. Best value: 0.176542:  82%|████████▏ | 41/50 [03:27<00:45,  5.07s/it]"
     ]
    },
    {
     "name": "stdout",
     "output_type": "stream",
     "text": [
      "[I 2023-07-31 05:02:24,390] Trial 40 finished with value: 0.17654150833216775 and parameters: {'n_items_to_rank': 295}. Best is trial 0 with value: 0.17654150833216775.\n",
      "EvaluatorHoldout: Processed 5961 (100.0%) in 5.03 sec. Users per second: 1185\n"
     ]
    },
    {
     "name": "stderr",
     "output_type": "stream",
     "text": [
      "Best trial: 0. Best value: 0.176542:  84%|████████▍ | 42/50 [03:32<00:40,  5.07s/it]"
     ]
    },
    {
     "name": "stdout",
     "output_type": "stream",
     "text": [
      "[I 2023-07-31 05:02:29,450] Trial 41 finished with value: 0.17654150833216775 and parameters: {'n_items_to_rank': 253}. Best is trial 0 with value: 0.17654150833216775.\n",
      "EvaluatorHoldout: Processed 5961 (100.0%) in 5.03 sec. Users per second: 1186\n"
     ]
    },
    {
     "name": "stderr",
     "output_type": "stream",
     "text": [
      "Best trial: 0. Best value: 0.176542:  86%|████████▌ | 43/50 [03:37<00:35,  5.07s/it]"
     ]
    },
    {
     "name": "stdout",
     "output_type": "stream",
     "text": [
      "[I 2023-07-31 05:02:34,508] Trial 42 finished with value: 0.17654150833216775 and parameters: {'n_items_to_rank': 278}. Best is trial 0 with value: 0.17654150833216775.\n",
      "EvaluatorHoldout: Processed 5961 (100.0%) in 5.01 sec. Users per second: 1189\n"
     ]
    },
    {
     "name": "stderr",
     "output_type": "stream",
     "text": [
      "Best trial: 0. Best value: 0.176542:  88%|████████▊ | 44/50 [03:42<00:30,  5.06s/it]"
     ]
    },
    {
     "name": "stdout",
     "output_type": "stream",
     "text": [
      "[I 2023-07-31 05:02:39,551] Trial 43 finished with value: 0.17654150833216775 and parameters: {'n_items_to_rank': 131}. Best is trial 0 with value: 0.17654150833216775.\n",
      "EvaluatorHoldout: Processed 5961 (100.0%) in 5.11 sec. Users per second: 1167\n"
     ]
    },
    {
     "name": "stderr",
     "output_type": "stream",
     "text": [
      "Best trial: 0. Best value: 0.176542:  90%|█████████ | 45/50 [03:48<00:25,  5.08s/it]"
     ]
    },
    {
     "name": "stdout",
     "output_type": "stream",
     "text": [
      "[I 2023-07-31 05:02:44,692] Trial 44 finished with value: 0.17654150833216775 and parameters: {'n_items_to_rank': 116}. Best is trial 0 with value: 0.17654150833216775.\n",
      "EvaluatorHoldout: Processed 5961 (100.0%) in 5.01 sec. Users per second: 1191\n"
     ]
    },
    {
     "name": "stderr",
     "output_type": "stream",
     "text": [
      "Best trial: 0. Best value: 0.176542:  92%|█████████▏| 46/50 [03:53<00:20,  5.07s/it]"
     ]
    },
    {
     "name": "stdout",
     "output_type": "stream",
     "text": [
      "[I 2023-07-31 05:02:49,729] Trial 45 finished with value: 0.17654150833216775 and parameters: {'n_items_to_rank': 282}. Best is trial 0 with value: 0.17654150833216775.\n",
      "EvaluatorHoldout: Processed 5961 (100.0%) in 5.03 sec. Users per second: 1185\n"
     ]
    },
    {
     "name": "stderr",
     "output_type": "stream",
     "text": [
      "Best trial: 0. Best value: 0.176542:  94%|█████████▍| 47/50 [03:58<00:15,  5.07s/it]"
     ]
    },
    {
     "name": "stdout",
     "output_type": "stream",
     "text": [
      "[I 2023-07-31 05:02:54,798] Trial 46 finished with value: 0.17654150833216775 and parameters: {'n_items_to_rank': 128}. Best is trial 0 with value: 0.17654150833216775.\n",
      "EvaluatorHoldout: Processed 5961 (100.0%) in 5.01 sec. Users per second: 1189\n"
     ]
    },
    {
     "name": "stderr",
     "output_type": "stream",
     "text": [
      "Best trial: 0. Best value: 0.176542:  96%|█████████▌| 48/50 [04:03<00:10,  5.06s/it]"
     ]
    },
    {
     "name": "stdout",
     "output_type": "stream",
     "text": [
      "[I 2023-07-31 05:02:59,841] Trial 47 finished with value: 0.17654150833216775 and parameters: {'n_items_to_rank': 228}. Best is trial 0 with value: 0.17654150833216775.\n",
      "EvaluatorHoldout: Processed 5961 (100.0%) in 5.02 sec. Users per second: 1188\n"
     ]
    },
    {
     "name": "stderr",
     "output_type": "stream",
     "text": [
      "Best trial: 0. Best value: 0.176542:  98%|█████████▊| 49/50 [04:08<00:05,  5.06s/it]"
     ]
    },
    {
     "name": "stdout",
     "output_type": "stream",
     "text": [
      "[I 2023-07-31 05:03:04,897] Trial 48 finished with value: 0.17654150833216775 and parameters: {'n_items_to_rank': 175}. Best is trial 0 with value: 0.17654150833216775.\n",
      "EvaluatorHoldout: Processed 5961 (100.0%) in 5.01 sec. Users per second: 1190\n"
     ]
    },
    {
     "name": "stderr",
     "output_type": "stream",
     "text": [
      "Best trial: 0. Best value: 0.176542: 100%|██████████| 50/50 [04:13<00:00,  5.07s/it]"
     ]
    },
    {
     "name": "stdout",
     "output_type": "stream",
     "text": [
      "[I 2023-07-31 05:03:09,937] Trial 49 finished with value: 0.17654150833216775 and parameters: {'n_items_to_rank': 110}. Best is trial 0 with value: 0.17654150833216775.\n",
      "Recommender_Base_Class: URM Detected 194 ( 5.0%) items with no interactions.\n"
     ]
    },
    {
     "name": "stderr",
     "output_type": "stream",
     "text": [
      "\n"
     ]
    },
    {
     "name": "stdout",
     "output_type": "stream",
     "text": [
      "EvaluatorHoldout: Processed 5976 (100.0%) in 5.31 sec. Users per second: 1126\n"
     ]
    },
    {
     "name": "stderr",
     "output_type": "stream",
     "text": [
      "[I 2023-07-31 05:03:37,448] A new study created in memory with name: no-name-b7568761-c6db-4919-9b80-7fa34695c4c6\n",
      "  0%|          | 0/50 [00:00<?, ?it/s]"
     ]
    },
    {
     "name": "stdout",
     "output_type": "stream",
     "text": [
      "IALSRecommender\n",
      "DiffusionAutoencoderRecommender_IALSRecommender_TwoLevelRec\n",
      "EvaluatorHoldout: Processed 5961 (100.0%) in 3.57 sec. Users per second: 1671\n"
     ]
    },
    {
     "name": "stderr",
     "output_type": "stream",
     "text": [
      "Best trial: 0. Best value: 0.189645:   2%|▏         | 1/50 [00:03<02:55,  3.58s/it]"
     ]
    },
    {
     "name": "stdout",
     "output_type": "stream",
     "text": [
      "[I 2023-07-31 05:03:41,031] Trial 0 finished with value: 0.18964526698248962 and parameters: {'n_items_to_rank': 36}. Best is trial 0 with value: 0.18964526698248962.\n",
      "EvaluatorHoldout: Processed 5961 (100.0%) in 3.74 sec. Users per second: 1594\n"
     ]
    },
    {
     "name": "stderr",
     "output_type": "stream",
     "text": [
      "Best trial: 1. Best value: 0.192552:   4%|▍         | 2/50 [00:07<02:56,  3.69s/it]"
     ]
    },
    {
     "name": "stdout",
     "output_type": "stream",
     "text": [
      "[I 2023-07-31 05:03:44,787] Trial 1 finished with value: 0.1925521605413758 and parameters: {'n_items_to_rank': 285}. Best is trial 1 with value: 0.1925521605413758.\n",
      "EvaluatorHoldout: Processed 5961 (100.0%) in 3.70 sec. Users per second: 1613\n"
     ]
    },
    {
     "name": "stderr",
     "output_type": "stream",
     "text": [
      "Best trial: 1. Best value: 0.192552:   6%|▌         | 3/50 [00:11<02:53,  3.70s/it]"
     ]
    },
    {
     "name": "stdout",
     "output_type": "stream",
     "text": [
      "[I 2023-07-31 05:03:48,499] Trial 2 finished with value: 0.1925521605413758 and parameters: {'n_items_to_rank': 60}. Best is trial 1 with value: 0.1925521605413758.\n",
      "EvaluatorHoldout: Processed 5961 (100.0%) in 3.72 sec. Users per second: 1603\n"
     ]
    },
    {
     "name": "stderr",
     "output_type": "stream",
     "text": [
      "Best trial: 1. Best value: 0.192552:   8%|▊         | 4/50 [00:14<02:50,  3.71s/it]"
     ]
    },
    {
     "name": "stdout",
     "output_type": "stream",
     "text": [
      "[I 2023-07-31 05:03:52,235] Trial 3 finished with value: 0.1925521605413758 and parameters: {'n_items_to_rank': 166}. Best is trial 1 with value: 0.1925521605413758.\n",
      "EvaluatorHoldout: Processed 5961 (100.0%) in 3.72 sec. Users per second: 1602\n"
     ]
    },
    {
     "name": "stderr",
     "output_type": "stream",
     "text": [
      "Best trial: 1. Best value: 0.192552:  10%|█         | 5/50 [00:18<02:47,  3.72s/it]"
     ]
    },
    {
     "name": "stdout",
     "output_type": "stream",
     "text": [
      "[I 2023-07-31 05:03:55,973] Trial 4 finished with value: 0.1925521605413758 and parameters: {'n_items_to_rank': 279}. Best is trial 1 with value: 0.1925521605413758.\n",
      "EvaluatorHoldout: Processed 5961 (100.0%) in 3.73 sec. Users per second: 1597\n"
     ]
    },
    {
     "name": "stderr",
     "output_type": "stream",
     "text": [
      "Best trial: 1. Best value: 0.192552:  12%|█▏        | 6/50 [00:22<02:44,  3.73s/it]"
     ]
    },
    {
     "name": "stdout",
     "output_type": "stream",
     "text": [
      "[I 2023-07-31 05:03:59,722] Trial 5 finished with value: 0.1925521605413758 and parameters: {'n_items_to_rank': 171}. Best is trial 1 with value: 0.1925521605413758.\n",
      "EvaluatorHoldout: Processed 5961 (100.0%) in 3.62 sec. Users per second: 1647\n"
     ]
    },
    {
     "name": "stderr",
     "output_type": "stream",
     "text": [
      "Best trial: 1. Best value: 0.192552:  14%|█▍        | 7/50 [00:25<02:39,  3.70s/it]"
     ]
    },
    {
     "name": "stdout",
     "output_type": "stream",
     "text": [
      "[I 2023-07-31 05:04:03,359] Trial 6 finished with value: 0.18957173921872486 and parameters: {'n_items_to_rank': 38}. Best is trial 1 with value: 0.1925521605413758.\n",
      "EvaluatorHoldout: Processed 5961 (100.0%) in 3.72 sec. Users per second: 1602\n"
     ]
    },
    {
     "name": "stderr",
     "output_type": "stream",
     "text": [
      "Best trial: 1. Best value: 0.192552:  16%|█▌        | 8/50 [00:29<02:35,  3.71s/it]"
     ]
    },
    {
     "name": "stdout",
     "output_type": "stream",
     "text": [
      "[I 2023-07-31 05:04:07,098] Trial 7 finished with value: 0.1925521605413758 and parameters: {'n_items_to_rank': 131}. Best is trial 1 with value: 0.1925521605413758.\n",
      "EvaluatorHoldout: Processed 5961 (100.0%) in 3.72 sec. Users per second: 1604\n"
     ]
    },
    {
     "name": "stderr",
     "output_type": "stream",
     "text": [
      "Best trial: 1. Best value: 0.192552:  18%|█▊        | 9/50 [00:33<02:32,  3.72s/it]"
     ]
    },
    {
     "name": "stdout",
     "output_type": "stream",
     "text": [
      "[I 2023-07-31 05:04:10,832] Trial 8 finished with value: 0.1925521605413758 and parameters: {'n_items_to_rank': 122}. Best is trial 1 with value: 0.1925521605413758.\n",
      "EvaluatorHoldout: Processed 5961 (100.0%) in 3.78 sec. Users per second: 1578\n"
     ]
    },
    {
     "name": "stderr",
     "output_type": "stream",
     "text": [
      "Best trial: 1. Best value: 0.192552:  20%|██        | 10/50 [00:37<02:29,  3.74s/it]"
     ]
    },
    {
     "name": "stdout",
     "output_type": "stream",
     "text": [
      "[I 2023-07-31 05:04:14,626] Trial 9 finished with value: 0.18117991681632714 and parameters: {'n_items_to_rank': 21}. Best is trial 1 with value: 0.1925521605413758.\n",
      "EvaluatorHoldout: Processed 5961 (100.0%) in 3.68 sec. Users per second: 1622\n"
     ]
    },
    {
     "name": "stderr",
     "output_type": "stream",
     "text": [
      "Best trial: 1. Best value: 0.192552:  22%|██▏       | 11/50 [00:40<02:25,  3.73s/it]"
     ]
    },
    {
     "name": "stdout",
     "output_type": "stream",
     "text": [
      "[I 2023-07-31 05:04:18,319] Trial 10 finished with value: 0.1925521605413758 and parameters: {'n_items_to_rank': 285}. Best is trial 1 with value: 0.1925521605413758.\n",
      "EvaluatorHoldout: Processed 5961 (100.0%) in 3.71 sec. Users per second: 1607\n"
     ]
    },
    {
     "name": "stderr",
     "output_type": "stream",
     "text": [
      "Best trial: 1. Best value: 0.192552:  24%|██▍       | 12/50 [00:44<02:21,  3.73s/it]"
     ]
    },
    {
     "name": "stdout",
     "output_type": "stream",
     "text": [
      "[I 2023-07-31 05:04:22,046] Trial 11 finished with value: 0.19236492466841665 and parameters: {'n_items_to_rank': 49}. Best is trial 1 with value: 0.1925521605413758.\n",
      "EvaluatorHoldout: Processed 5961 (100.0%) in 3.71 sec. Users per second: 1605\n"
     ]
    },
    {
     "name": "stderr",
     "output_type": "stream",
     "text": [
      "Best trial: 1. Best value: 0.192552:  26%|██▌       | 13/50 [00:48<02:17,  3.73s/it]"
     ]
    },
    {
     "name": "stdout",
     "output_type": "stream",
     "text": [
      "[I 2023-07-31 05:04:25,780] Trial 12 finished with value: 0.1925521605413758 and parameters: {'n_items_to_rank': 301}. Best is trial 1 with value: 0.1925521605413758.\n",
      "EvaluatorHoldout: Processed 5961 (100.0%) in 3.73 sec. Users per second: 1598\n"
     ]
    },
    {
     "name": "stderr",
     "output_type": "stream",
     "text": [
      "Best trial: 1. Best value: 0.192552:  28%|██▊       | 14/50 [00:52<02:14,  3.74s/it]"
     ]
    },
    {
     "name": "stdout",
     "output_type": "stream",
     "text": [
      "[I 2023-07-31 05:04:29,532] Trial 13 finished with value: 0.1925521605413758 and parameters: {'n_items_to_rank': 87}. Best is trial 1 with value: 0.1925521605413758.\n",
      "EvaluatorHoldout: Processed 5961 (100.0%) in 3.72 sec. Users per second: 1604\n"
     ]
    },
    {
     "name": "stderr",
     "output_type": "stream",
     "text": [
      "Best trial: 1. Best value: 0.192552:  30%|███       | 15/50 [00:55<02:10,  3.74s/it]"
     ]
    },
    {
     "name": "stdout",
     "output_type": "stream",
     "text": [
      "[I 2023-07-31 05:04:33,268] Trial 14 finished with value: 0.1925521605413758 and parameters: {'n_items_to_rank': 250}. Best is trial 1 with value: 0.1925521605413758.\n",
      "EvaluatorHoldout: Processed 5961 (100.0%) in 3.74 sec. Users per second: 1592\n"
     ]
    },
    {
     "name": "stderr",
     "output_type": "stream",
     "text": [
      "Best trial: 1. Best value: 0.192552:  32%|███▏      | 16/50 [00:59<02:07,  3.74s/it]"
     ]
    },
    {
     "name": "stdout",
     "output_type": "stream",
     "text": [
      "[I 2023-07-31 05:04:37,033] Trial 15 finished with value: 0.1925521605413758 and parameters: {'n_items_to_rank': 60}. Best is trial 1 with value: 0.1925521605413758.\n",
      "EvaluatorHoldout: Processed 5961 (100.0%) in 3.71 sec. Users per second: 1608\n"
     ]
    },
    {
     "name": "stderr",
     "output_type": "stream",
     "text": [
      "Best trial: 1. Best value: 0.192552:  34%|███▍      | 17/50 [01:03<02:03,  3.74s/it]"
     ]
    },
    {
     "name": "stdout",
     "output_type": "stream",
     "text": [
      "[I 2023-07-31 05:04:40,768] Trial 16 finished with value: 0.17754538338314946 and parameters: {'n_items_to_rank': 18}. Best is trial 1 with value: 0.1925521605413758.\n",
      "EvaluatorHoldout: Processed 5961 (100.0%) in 3.83 sec. Users per second: 1558\n"
     ]
    },
    {
     "name": "stderr",
     "output_type": "stream",
     "text": [
      "Best trial: 1. Best value: 0.192552:  36%|███▌      | 18/50 [01:07<02:00,  3.77s/it]"
     ]
    },
    {
     "name": "stdout",
     "output_type": "stream",
     "text": [
      "[I 2023-07-31 05:04:44,615] Trial 17 finished with value: 0.1925521605413758 and parameters: {'n_items_to_rank': 254}. Best is trial 1 with value: 0.1925521605413758.\n",
      "EvaluatorHoldout: Processed 5961 (100.0%) in 3.71 sec. Users per second: 1607\n"
     ]
    },
    {
     "name": "stderr",
     "output_type": "stream",
     "text": [
      "Best trial: 1. Best value: 0.192552:  38%|███▊      | 19/50 [01:10<01:56,  3.76s/it]"
     ]
    },
    {
     "name": "stdout",
     "output_type": "stream",
     "text": [
      "[I 2023-07-31 05:04:48,346] Trial 18 finished with value: 0.1925521605413758 and parameters: {'n_items_to_rank': 210}. Best is trial 1 with value: 0.1925521605413758.\n",
      "EvaluatorHoldout: Processed 5961 (100.0%) in 3.73 sec. Users per second: 1599\n"
     ]
    },
    {
     "name": "stderr",
     "output_type": "stream",
     "text": [
      "Best trial: 1. Best value: 0.192552:  40%|████      | 20/50 [01:14<01:52,  3.76s/it]"
     ]
    },
    {
     "name": "stdout",
     "output_type": "stream",
     "text": [
      "[I 2023-07-31 05:04:52,098] Trial 19 finished with value: 0.1925521605413758 and parameters: {'n_items_to_rank': 251}. Best is trial 1 with value: 0.1925521605413758.\n",
      "EvaluatorHoldout: Processed 5961 (100.0%) in 3.72 sec. Users per second: 1602\n"
     ]
    },
    {
     "name": "stderr",
     "output_type": "stream",
     "text": [
      "Best trial: 1. Best value: 0.192552:  42%|████▏     | 21/50 [01:18<01:48,  3.75s/it]"
     ]
    },
    {
     "name": "stdout",
     "output_type": "stream",
     "text": [
      "[I 2023-07-31 05:04:55,842] Trial 20 finished with value: 0.1925521605413758 and parameters: {'n_items_to_rank': 60}. Best is trial 1 with value: 0.1925521605413758.\n",
      "EvaluatorHoldout: Processed 5961 (100.0%) in 3.74 sec. Users per second: 1596\n"
     ]
    },
    {
     "name": "stderr",
     "output_type": "stream",
     "text": [
      "Best trial: 1. Best value: 0.192552:  44%|████▍     | 22/50 [01:22<01:45,  3.75s/it]"
     ]
    },
    {
     "name": "stdout",
     "output_type": "stream",
     "text": [
      "[I 2023-07-31 05:04:59,599] Trial 21 finished with value: 0.18018945935599912 and parameters: {'n_items_to_rank': 20}. Best is trial 1 with value: 0.1925521605413758.\n",
      "EvaluatorHoldout: Processed 5961 (100.0%) in 3.73 sec. Users per second: 1597\n"
     ]
    },
    {
     "name": "stderr",
     "output_type": "stream",
     "text": [
      "Best trial: 1. Best value: 0.192552:  46%|████▌     | 23/50 [01:25<01:41,  3.75s/it]"
     ]
    },
    {
     "name": "stdout",
     "output_type": "stream",
     "text": [
      "[I 2023-07-31 05:05:03,353] Trial 22 finished with value: 0.1925521605413758 and parameters: {'n_items_to_rank': 285}. Best is trial 1 with value: 0.1925521605413758.\n",
      "EvaluatorHoldout: Processed 5961 (100.0%) in 3.74 sec. Users per second: 1593\n"
     ]
    },
    {
     "name": "stderr",
     "output_type": "stream",
     "text": [
      "Best trial: 1. Best value: 0.192552:  48%|████▊     | 24/50 [01:29<01:37,  3.76s/it]"
     ]
    },
    {
     "name": "stdout",
     "output_type": "stream",
     "text": [
      "[I 2023-07-31 05:05:07,117] Trial 23 finished with value: 0.1925521605413758 and parameters: {'n_items_to_rank': 292}. Best is trial 1 with value: 0.1925521605413758.\n",
      "EvaluatorHoldout: Processed 5961 (100.0%) in 3.69 sec. Users per second: 1615\n"
     ]
    },
    {
     "name": "stderr",
     "output_type": "stream",
     "text": [
      "Best trial: 1. Best value: 0.192552:  50%|█████     | 25/50 [01:33<01:33,  3.74s/it]"
     ]
    },
    {
     "name": "stdout",
     "output_type": "stream",
     "text": [
      "[I 2023-07-31 05:05:10,832] Trial 24 finished with value: 0.1925521605413758 and parameters: {'n_items_to_rank': 191}. Best is trial 1 with value: 0.1925521605413758.\n",
      "EvaluatorHoldout: Processed 5961 (100.0%) in 3.69 sec. Users per second: 1614\n"
     ]
    },
    {
     "name": "stderr",
     "output_type": "stream",
     "text": [
      "Best trial: 1. Best value: 0.192552:  52%|█████▏    | 26/50 [01:37<01:29,  3.74s/it]"
     ]
    },
    {
     "name": "stdout",
     "output_type": "stream",
     "text": [
      "[I 2023-07-31 05:05:14,550] Trial 25 finished with value: 0.1925521605413758 and parameters: {'n_items_to_rank': 92}. Best is trial 1 with value: 0.1925521605413758.\n",
      "EvaluatorHoldout: Processed 5961 (100.0%) in 3.72 sec. Users per second: 1603\n"
     ]
    },
    {
     "name": "stderr",
     "output_type": "stream",
     "text": [
      "Best trial: 1. Best value: 0.192552:  54%|█████▍    | 27/50 [01:40<01:25,  3.74s/it]"
     ]
    },
    {
     "name": "stdout",
     "output_type": "stream",
     "text": [
      "[I 2023-07-31 05:05:18,294] Trial 26 finished with value: 0.1925521605413758 and parameters: {'n_items_to_rank': 230}. Best is trial 1 with value: 0.1925521605413758.\n",
      "EvaluatorHoldout: Processed 5961 (100.0%) in 3.73 sec. Users per second: 1598\n"
     ]
    },
    {
     "name": "stderr",
     "output_type": "stream",
     "text": [
      "Best trial: 1. Best value: 0.192552:  56%|█████▌    | 28/50 [01:44<01:22,  3.74s/it]"
     ]
    },
    {
     "name": "stdout",
     "output_type": "stream",
     "text": [
      "[I 2023-07-31 05:05:22,050] Trial 27 finished with value: 0.1925521605413758 and parameters: {'n_items_to_rank': 124}. Best is trial 1 with value: 0.1925521605413758.\n",
      "EvaluatorHoldout: Processed 5961 (100.0%) in 3.65 sec. Users per second: 1633\n"
     ]
    },
    {
     "name": "stderr",
     "output_type": "stream",
     "text": [
      "Best trial: 1. Best value: 0.192552:  58%|█████▊    | 29/50 [01:48<01:18,  3.72s/it]"
     ]
    },
    {
     "name": "stdout",
     "output_type": "stream",
     "text": [
      "[I 2023-07-31 05:05:25,723] Trial 28 finished with value: 0.1898921200078907 and parameters: {'n_items_to_rank': 40}. Best is trial 1 with value: 0.1925521605413758.\n",
      "EvaluatorHoldout: Processed 5961 (100.0%) in 3.72 sec. Users per second: 1603\n"
     ]
    },
    {
     "name": "stderr",
     "output_type": "stream",
     "text": [
      "Best trial: 1. Best value: 0.192552:  60%|██████    | 30/50 [01:52<01:14,  3.73s/it]"
     ]
    },
    {
     "name": "stdout",
     "output_type": "stream",
     "text": [
      "[I 2023-07-31 05:05:29,466] Trial 29 finished with value: 0.1925521605413758 and parameters: {'n_items_to_rank': 232}. Best is trial 1 with value: 0.1925521605413758.\n",
      "EvaluatorHoldout: Processed 5961 (100.0%) in 3.47 sec. Users per second: 1716\n"
     ]
    },
    {
     "name": "stderr",
     "output_type": "stream",
     "text": [
      "Best trial: 1. Best value: 0.192552:  62%|██████▏   | 31/50 [01:55<01:09,  3.66s/it]"
     ]
    },
    {
     "name": "stdout",
     "output_type": "stream",
     "text": [
      "[I 2023-07-31 05:05:32,965] Trial 30 finished with value: 0.16758711288455444 and parameters: {'n_items_to_rank': 12}. Best is trial 1 with value: 0.1925521605413758.\n",
      "EvaluatorHoldout: Processed 5961 (100.0%) in 3.72 sec. Users per second: 1601\n"
     ]
    },
    {
     "name": "stderr",
     "output_type": "stream",
     "text": [
      "Best trial: 1. Best value: 0.192552:  64%|██████▍   | 32/50 [01:59<01:06,  3.69s/it]"
     ]
    },
    {
     "name": "stdout",
     "output_type": "stream",
     "text": [
      "[I 2023-07-31 05:05:36,714] Trial 31 finished with value: 0.1925521605413758 and parameters: {'n_items_to_rank': 279}. Best is trial 1 with value: 0.1925521605413758.\n",
      "EvaluatorHoldout: Processed 5961 (100.0%) in 3.72 sec. Users per second: 1603\n"
     ]
    },
    {
     "name": "stderr",
     "output_type": "stream",
     "text": [
      "Best trial: 1. Best value: 0.192552:  66%|██████▌   | 33/50 [02:03<01:03,  3.71s/it]"
     ]
    },
    {
     "name": "stdout",
     "output_type": "stream",
     "text": [
      "[I 2023-07-31 05:05:40,460] Trial 32 finished with value: 0.1925521605413758 and parameters: {'n_items_to_rank': 129}. Best is trial 1 with value: 0.1925521605413758.\n",
      "EvaluatorHoldout: Processed 5961 (100.0%) in 3.73 sec. Users per second: 1600\n"
     ]
    },
    {
     "name": "stderr",
     "output_type": "stream",
     "text": [
      "Best trial: 1. Best value: 0.192552:  68%|██████▊   | 34/50 [02:06<00:59,  3.72s/it]"
     ]
    },
    {
     "name": "stdout",
     "output_type": "stream",
     "text": [
      "[I 2023-07-31 05:05:44,220] Trial 33 finished with value: 0.1925521605413758 and parameters: {'n_items_to_rank': 56}. Best is trial 1 with value: 0.1925521605413758.\n",
      "EvaluatorHoldout: Processed 5961 (100.0%) in 3.73 sec. Users per second: 1597\n"
     ]
    },
    {
     "name": "stderr",
     "output_type": "stream",
     "text": [
      "Best trial: 1. Best value: 0.192552:  70%|███████   | 35/50 [02:10<00:55,  3.73s/it]"
     ]
    },
    {
     "name": "stdout",
     "output_type": "stream",
     "text": [
      "[I 2023-07-31 05:05:47,977] Trial 34 finished with value: 0.1925521605413758 and parameters: {'n_items_to_rank': 61}. Best is trial 1 with value: 0.1925521605413758.\n",
      "EvaluatorHoldout: Processed 5961 (100.0%) in 3.85 sec. Users per second: 1549\n"
     ]
    },
    {
     "name": "stderr",
     "output_type": "stream",
     "text": [
      "Best trial: 1. Best value: 0.192552:  72%|███████▏  | 36/50 [02:14<00:52,  3.78s/it]"
     ]
    },
    {
     "name": "stdout",
     "output_type": "stream",
     "text": [
      "[I 2023-07-31 05:05:51,853] Trial 35 finished with value: 0.1925521605413758 and parameters: {'n_items_to_rank': 166}. Best is trial 1 with value: 0.1925521605413758.\n",
      "EvaluatorHoldout: Processed 5961 (100.0%) in 3.75 sec. Users per second: 1590\n"
     ]
    },
    {
     "name": "stderr",
     "output_type": "stream",
     "text": [
      "Best trial: 1. Best value: 0.192552:  74%|███████▍  | 37/50 [02:18<00:49,  3.78s/it]"
     ]
    },
    {
     "name": "stdout",
     "output_type": "stream",
     "text": [
      "[I 2023-07-31 05:05:55,629] Trial 36 finished with value: 0.1925521605413758 and parameters: {'n_items_to_rank': 252}. Best is trial 1 with value: 0.1925521605413758.\n",
      "EvaluatorHoldout: Processed 5961 (100.0%) in 3.73 sec. Users per second: 1597\n"
     ]
    },
    {
     "name": "stderr",
     "output_type": "stream",
     "text": [
      "Best trial: 1. Best value: 0.192552:  76%|███████▌  | 38/50 [02:21<00:45,  3.77s/it]"
     ]
    },
    {
     "name": "stdout",
     "output_type": "stream",
     "text": [
      "[I 2023-07-31 05:05:59,389] Trial 37 finished with value: 0.1925521605413758 and parameters: {'n_items_to_rank': 85}. Best is trial 1 with value: 0.1925521605413758.\n",
      "EvaluatorHoldout: Processed 5961 (100.0%) in 3.75 sec. Users per second: 1589\n"
     ]
    },
    {
     "name": "stderr",
     "output_type": "stream",
     "text": [
      "Best trial: 1. Best value: 0.192552:  78%|███████▊  | 39/50 [02:25<00:41,  3.77s/it]"
     ]
    },
    {
     "name": "stdout",
     "output_type": "stream",
     "text": [
      "[I 2023-07-31 05:06:03,171] Trial 38 finished with value: 0.1925521605413758 and parameters: {'n_items_to_rank': 291}. Best is trial 1 with value: 0.1925521605413758.\n",
      "EvaluatorHoldout: Processed 5961 (100.0%) in 3.72 sec. Users per second: 1601\n"
     ]
    },
    {
     "name": "stderr",
     "output_type": "stream",
     "text": [
      "Best trial: 1. Best value: 0.192552:  80%|████████  | 40/50 [02:29<00:37,  3.77s/it]"
     ]
    },
    {
     "name": "stdout",
     "output_type": "stream",
     "text": [
      "[I 2023-07-31 05:06:06,924] Trial 39 finished with value: 0.1925521605413758 and parameters: {'n_items_to_rank': 94}. Best is trial 1 with value: 0.1925521605413758.\n",
      "EvaluatorHoldout: Processed 5961 (100.0%) in 3.74 sec. Users per second: 1594\n"
     ]
    },
    {
     "name": "stderr",
     "output_type": "stream",
     "text": [
      "Best trial: 1. Best value: 0.192552:  82%|████████▏ | 41/50 [02:33<00:33,  3.77s/it]"
     ]
    },
    {
     "name": "stdout",
     "output_type": "stream",
     "text": [
      "[I 2023-07-31 05:06:10,691] Trial 40 finished with value: 0.1925521605413758 and parameters: {'n_items_to_rank': 162}. Best is trial 1 with value: 0.1925521605413758.\n",
      "EvaluatorHoldout: Processed 5961 (100.0%) in 3.73 sec. Users per second: 1596\n"
     ]
    },
    {
     "name": "stderr",
     "output_type": "stream",
     "text": [
      "Best trial: 1. Best value: 0.192552:  84%|████████▍ | 42/50 [02:37<00:30,  3.77s/it]"
     ]
    },
    {
     "name": "stdout",
     "output_type": "stream",
     "text": [
      "[I 2023-07-31 05:06:14,453] Trial 41 finished with value: 0.1925521605413758 and parameters: {'n_items_to_rank': 171}. Best is trial 1 with value: 0.1925521605413758.\n",
      "EvaluatorHoldout: Processed 5961 (100.0%) in 3.73 sec. Users per second: 1600\n"
     ]
    },
    {
     "name": "stderr",
     "output_type": "stream",
     "text": [
      "Best trial: 1. Best value: 0.192552:  86%|████████▌ | 43/50 [02:40<00:26,  3.76s/it]"
     ]
    },
    {
     "name": "stdout",
     "output_type": "stream",
     "text": [
      "[I 2023-07-31 05:06:18,208] Trial 42 finished with value: 0.1925521605413758 and parameters: {'n_items_to_rank': 248}. Best is trial 1 with value: 0.1925521605413758.\n",
      "EvaluatorHoldout: Processed 5961 (100.0%) in 3.76 sec. Users per second: 1587\n"
     ]
    },
    {
     "name": "stderr",
     "output_type": "stream",
     "text": [
      "Best trial: 1. Best value: 0.192552:  88%|████████▊ | 44/50 [02:44<00:22,  3.77s/it]"
     ]
    },
    {
     "name": "stdout",
     "output_type": "stream",
     "text": [
      "[I 2023-07-31 05:06:21,997] Trial 43 finished with value: 0.1925521605413758 and parameters: {'n_items_to_rank': 177}. Best is trial 1 with value: 0.1925521605413758.\n",
      "EvaluatorHoldout: Processed 5961 (100.0%) in 3.74 sec. Users per second: 1594\n"
     ]
    },
    {
     "name": "stderr",
     "output_type": "stream",
     "text": [
      "Best trial: 1. Best value: 0.192552:  90%|█████████ | 45/50 [02:48<00:18,  3.77s/it]"
     ]
    },
    {
     "name": "stdout",
     "output_type": "stream",
     "text": [
      "[I 2023-07-31 05:06:25,767] Trial 44 finished with value: 0.1925521605413758 and parameters: {'n_items_to_rank': 229}. Best is trial 1 with value: 0.1925521605413758.\n",
      "EvaluatorHoldout: Processed 5961 (100.0%) in 3.71 sec. Users per second: 1608\n"
     ]
    },
    {
     "name": "stderr",
     "output_type": "stream",
     "text": [
      "Best trial: 1. Best value: 0.192552:  92%|█████████▏| 46/50 [02:52<00:15,  3.76s/it]"
     ]
    },
    {
     "name": "stdout",
     "output_type": "stream",
     "text": [
      "[I 2023-07-31 05:06:29,505] Trial 45 finished with value: 0.1925521605413758 and parameters: {'n_items_to_rank': 97}. Best is trial 1 with value: 0.1925521605413758.\n",
      "EvaluatorHoldout: Processed 5961 (100.0%) in 3.73 sec. Users per second: 1597\n"
     ]
    },
    {
     "name": "stderr",
     "output_type": "stream",
     "text": [
      "Best trial: 1. Best value: 0.192552:  94%|█████████▍| 47/50 [02:55<00:11,  3.76s/it]"
     ]
    },
    {
     "name": "stdout",
     "output_type": "stream",
     "text": [
      "[I 2023-07-31 05:06:33,272] Trial 46 finished with value: 0.1925521605413758 and parameters: {'n_items_to_rank': 255}. Best is trial 1 with value: 0.1925521605413758.\n",
      "EvaluatorHoldout: Processed 5961 (100.0%) in 3.71 sec. Users per second: 1607\n"
     ]
    },
    {
     "name": "stderr",
     "output_type": "stream",
     "text": [
      "Best trial: 1. Best value: 0.192552:  96%|█████████▌| 48/50 [02:59<00:07,  3.76s/it]"
     ]
    },
    {
     "name": "stdout",
     "output_type": "stream",
     "text": [
      "[I 2023-07-31 05:06:37,013] Trial 47 finished with value: 0.1925521605413758 and parameters: {'n_items_to_rank': 309}. Best is trial 1 with value: 0.1925521605413758.\n",
      "EvaluatorHoldout: Processed 5961 (100.0%) in 3.74 sec. Users per second: 1594\n"
     ]
    },
    {
     "name": "stderr",
     "output_type": "stream",
     "text": [
      "Best trial: 1. Best value: 0.192552:  98%|█████████▊| 49/50 [03:03<00:03,  3.76s/it]"
     ]
    },
    {
     "name": "stdout",
     "output_type": "stream",
     "text": [
      "[I 2023-07-31 05:06:40,786] Trial 48 finished with value: 0.1925521605413758 and parameters: {'n_items_to_rank': 160}. Best is trial 1 with value: 0.1925521605413758.\n",
      "EvaluatorHoldout: Processed 5961 (100.0%) in 3.72 sec. Users per second: 1602\n"
     ]
    },
    {
     "name": "stderr",
     "output_type": "stream",
     "text": [
      "Best trial: 1. Best value: 0.192552: 100%|██████████| 50/50 [03:07<00:00,  3.74s/it]"
     ]
    },
    {
     "name": "stdout",
     "output_type": "stream",
     "text": [
      "[I 2023-07-31 05:06:44,541] Trial 49 finished with value: 0.1925521605413758 and parameters: {'n_items_to_rank': 76}. Best is trial 1 with value: 0.1925521605413758.\n",
      "Recommender_Base_Class: URM Detected 194 ( 5.0%) items with no interactions.\n"
     ]
    },
    {
     "name": "stderr",
     "output_type": "stream",
     "text": [
      "\n"
     ]
    },
    {
     "name": "stdout",
     "output_type": "stream",
     "text": [
      "EvaluatorHoldout: Processed 5976 (100.0%) in 3.94 sec. Users per second: 1518\n"
     ]
    },
    {
     "name": "stderr",
     "output_type": "stream",
     "text": [
      "[I 2023-07-31 05:07:10,497] A new study created in memory with name: no-name-dfda2f5b-1c41-4810-bd48-be0013066392\n",
      "  0%|          | 0/50 [00:00<?, ?it/s]"
     ]
    },
    {
     "name": "stdout",
     "output_type": "stream",
     "text": [
      "SLIMElasticNetRecommender\n",
      "DiffusionAutoencoderRecommender_SLIMElasticNetRecommender_TwoLevelRec\n",
      "EvaluatorHoldout: Processed 5961 (100.0%) in 4.00 sec. Users per second: 1490\n"
     ]
    },
    {
     "name": "stderr",
     "output_type": "stream",
     "text": [
      "Best trial: 0. Best value: 0.24602:   2%|▏         | 1/50 [00:04<03:16,  4.01s/it]"
     ]
    },
    {
     "name": "stdout",
     "output_type": "stream",
     "text": [
      "[I 2023-07-31 05:07:14,511] Trial 0 finished with value: 0.24602040342533987 and parameters: {'n_items_to_rank': 120}. Best is trial 0 with value: 0.24602040342533987.\n",
      "EvaluatorHoldout: Processed 5961 (100.0%) in 3.98 sec. Users per second: 1497\n"
     ]
    },
    {
     "name": "stderr",
     "output_type": "stream",
     "text": [
      "Best trial: 0. Best value: 0.24602:   4%|▍         | 2/50 [00:08<03:12,  4.00s/it]"
     ]
    },
    {
     "name": "stdout",
     "output_type": "stream",
     "text": [
      "[I 2023-07-31 05:07:18,509] Trial 1 finished with value: 0.24602040342533987 and parameters: {'n_items_to_rank': 236}. Best is trial 0 with value: 0.24602040342533987.\n",
      "EvaluatorHoldout: Processed 5961 (100.0%) in 4.00 sec. Users per second: 1490\n"
     ]
    },
    {
     "name": "stderr",
     "output_type": "stream",
     "text": [
      "Best trial: 0. Best value: 0.24602:   6%|▌         | 3/50 [00:12<03:08,  4.01s/it]"
     ]
    },
    {
     "name": "stdout",
     "output_type": "stream",
     "text": [
      "[I 2023-07-31 05:07:22,524] Trial 2 finished with value: 0.24602040342533987 and parameters: {'n_items_to_rank': 228}. Best is trial 0 with value: 0.24602040342533987.\n",
      "EvaluatorHoldout: Processed 5961 (100.0%) in 3.97 sec. Users per second: 1501\n"
     ]
    },
    {
     "name": "stderr",
     "output_type": "stream",
     "text": [
      "Best trial: 0. Best value: 0.24602:   8%|▊         | 4/50 [00:16<03:05,  4.04s/it]"
     ]
    },
    {
     "name": "stdout",
     "output_type": "stream",
     "text": [
      "[I 2023-07-31 05:07:26,608] Trial 3 finished with value: 0.24602040342533987 and parameters: {'n_items_to_rank': 284}. Best is trial 0 with value: 0.24602040342533987.\n",
      "EvaluatorHoldout: Processed 5961 (100.0%) in 4.03 sec. Users per second: 1479\n"
     ]
    },
    {
     "name": "stderr",
     "output_type": "stream",
     "text": [
      "Best trial: 0. Best value: 0.24602:  10%|█         | 5/50 [00:20<03:01,  4.04s/it]"
     ]
    },
    {
     "name": "stdout",
     "output_type": "stream",
     "text": [
      "[I 2023-07-31 05:07:30,653] Trial 4 finished with value: 0.24602040342533987 and parameters: {'n_items_to_rank': 223}. Best is trial 0 with value: 0.24602040342533987.\n",
      "EvaluatorHoldout: Processed 5961 (100.0%) in 4.07 sec. Users per second: 1465\n"
     ]
    },
    {
     "name": "stderr",
     "output_type": "stream",
     "text": [
      "Best trial: 0. Best value: 0.24602:  12%|█▏        | 6/50 [00:24<02:58,  4.06s/it]"
     ]
    },
    {
     "name": "stdout",
     "output_type": "stream",
     "text": [
      "[I 2023-07-31 05:07:34,739] Trial 5 finished with value: 0.24602040342533987 and parameters: {'n_items_to_rank': 198}. Best is trial 0 with value: 0.24602040342533987.\n",
      "EvaluatorHoldout: Processed 5961 (100.0%) in 3.97 sec. Users per second: 1500\n"
     ]
    },
    {
     "name": "stderr",
     "output_type": "stream",
     "text": [
      "Best trial: 0. Best value: 0.24602:  14%|█▍        | 7/50 [00:28<02:53,  4.04s/it]"
     ]
    },
    {
     "name": "stdout",
     "output_type": "stream",
     "text": [
      "[I 2023-07-31 05:07:38,732] Trial 6 finished with value: 0.24602040342533987 and parameters: {'n_items_to_rank': 250}. Best is trial 0 with value: 0.24602040342533987.\n",
      "EvaluatorHoldout: Processed 5961 (100.0%) in 3.99 sec. Users per second: 1493\n"
     ]
    },
    {
     "name": "stderr",
     "output_type": "stream",
     "text": [
      "Best trial: 0. Best value: 0.24602:  16%|█▌        | 8/50 [00:32<02:49,  4.03s/it]"
     ]
    },
    {
     "name": "stdout",
     "output_type": "stream",
     "text": [
      "[I 2023-07-31 05:07:42,744] Trial 7 finished with value: 0.24602040342533987 and parameters: {'n_items_to_rank': 208}. Best is trial 0 with value: 0.24602040342533987.\n",
      "EvaluatorHoldout: Processed 5961 (100.0%) in 4.01 sec. Users per second: 1488\n"
     ]
    },
    {
     "name": "stderr",
     "output_type": "stream",
     "text": [
      "Best trial: 0. Best value: 0.24602:  18%|█▊        | 9/50 [00:36<02:45,  4.03s/it]"
     ]
    },
    {
     "name": "stdout",
     "output_type": "stream",
     "text": [
      "[I 2023-07-31 05:07:46,770] Trial 8 finished with value: 0.24602040342533987 and parameters: {'n_items_to_rank': 161}. Best is trial 0 with value: 0.24602040342533987.\n",
      "EvaluatorHoldout: Processed 5961 (100.0%) in 3.97 sec. Users per second: 1501\n"
     ]
    },
    {
     "name": "stderr",
     "output_type": "stream",
     "text": [
      "Best trial: 0. Best value: 0.24602:  20%|██        | 10/50 [00:40<02:40,  4.02s/it]"
     ]
    },
    {
     "name": "stdout",
     "output_type": "stream",
     "text": [
      "[I 2023-07-31 05:07:50,761] Trial 9 finished with value: 0.24602040342533987 and parameters: {'n_items_to_rank': 163}. Best is trial 0 with value: 0.24602040342533987.\n",
      "EvaluatorHoldout: Processed 5961 (100.0%) in 3.99 sec. Users per second: 1495\n"
     ]
    },
    {
     "name": "stderr",
     "output_type": "stream",
     "text": [
      "Best trial: 0. Best value: 0.24602:  22%|██▏       | 11/50 [00:44<02:36,  4.01s/it]"
     ]
    },
    {
     "name": "stdout",
     "output_type": "stream",
     "text": [
      "[I 2023-07-31 05:07:54,768] Trial 10 finished with value: 0.24602040342533987 and parameters: {'n_items_to_rank': 235}. Best is trial 0 with value: 0.24602040342533987.\n",
      "EvaluatorHoldout: Processed 5961 (100.0%) in 3.97 sec. Users per second: 1503\n"
     ]
    },
    {
     "name": "stderr",
     "output_type": "stream",
     "text": [
      "Best trial: 0. Best value: 0.24602:  24%|██▍       | 12/50 [00:48<02:32,  4.00s/it]"
     ]
    },
    {
     "name": "stdout",
     "output_type": "stream",
     "text": [
      "[I 2023-07-31 05:07:58,753] Trial 11 finished with value: 0.24602040342533987 and parameters: {'n_items_to_rank': 147}. Best is trial 0 with value: 0.24602040342533987.\n",
      "EvaluatorHoldout: Processed 5961 (100.0%) in 3.98 sec. Users per second: 1498\n"
     ]
    },
    {
     "name": "stderr",
     "output_type": "stream",
     "text": [
      "Best trial: 0. Best value: 0.24602:  26%|██▌       | 13/50 [00:52<02:28,  4.00s/it]"
     ]
    },
    {
     "name": "stdout",
     "output_type": "stream",
     "text": [
      "[I 2023-07-31 05:08:02,753] Trial 12 finished with value: 0.24602040342533987 and parameters: {'n_items_to_rank': 120}. Best is trial 0 with value: 0.24602040342533987.\n",
      "EvaluatorHoldout: Processed 5961 (100.0%) in 3.97 sec. Users per second: 1502\n"
     ]
    },
    {
     "name": "stderr",
     "output_type": "stream",
     "text": [
      "Best trial: 0. Best value: 0.24602:  28%|██▊       | 14/50 [00:56<02:23,  4.00s/it]"
     ]
    },
    {
     "name": "stdout",
     "output_type": "stream",
     "text": [
      "[I 2023-07-31 05:08:06,743] Trial 13 finished with value: 0.24602040342533987 and parameters: {'n_items_to_rank': 125}. Best is trial 0 with value: 0.24602040342533987.\n",
      "EvaluatorHoldout: Processed 5961 (100.0%) in 3.97 sec. Users per second: 1501\n"
     ]
    },
    {
     "name": "stderr",
     "output_type": "stream",
     "text": [
      "Best trial: 0. Best value: 0.24602:  30%|███       | 15/50 [01:00<02:19,  4.00s/it]"
     ]
    },
    {
     "name": "stdout",
     "output_type": "stream",
     "text": [
      "[I 2023-07-31 05:08:10,735] Trial 14 finished with value: 0.24602040342533987 and parameters: {'n_items_to_rank': 315}. Best is trial 0 with value: 0.24602040342533987.\n",
      "EvaluatorHoldout: Processed 5961 (100.0%) in 3.99 sec. Users per second: 1494\n"
     ]
    },
    {
     "name": "stderr",
     "output_type": "stream",
     "text": [
      "Best trial: 0. Best value: 0.24602:  32%|███▏      | 16/50 [01:04<02:16,  4.00s/it]"
     ]
    },
    {
     "name": "stdout",
     "output_type": "stream",
     "text": [
      "[I 2023-07-31 05:08:14,746] Trial 15 finished with value: 0.24602040342533987 and parameters: {'n_items_to_rank': 111}. Best is trial 0 with value: 0.24602040342533987.\n",
      "EvaluatorHoldout: Processed 5961 (100.0%) in 3.97 sec. Users per second: 1501\n"
     ]
    },
    {
     "name": "stderr",
     "output_type": "stream",
     "text": [
      "Best trial: 0. Best value: 0.24602:  34%|███▍      | 17/50 [01:08<02:11,  4.00s/it]"
     ]
    },
    {
     "name": "stdout",
     "output_type": "stream",
     "text": [
      "[I 2023-07-31 05:08:18,739] Trial 16 finished with value: 0.24602040342533987 and parameters: {'n_items_to_rank': 236}. Best is trial 0 with value: 0.24602040342533987.\n",
      "EvaluatorHoldout: Processed 5961 (100.0%) in 3.99 sec. Users per second: 1494\n"
     ]
    },
    {
     "name": "stderr",
     "output_type": "stream",
     "text": [
      "Best trial: 0. Best value: 0.24602:  36%|███▌      | 18/50 [01:12<02:08,  4.00s/it]"
     ]
    },
    {
     "name": "stdout",
     "output_type": "stream",
     "text": [
      "[I 2023-07-31 05:08:22,754] Trial 17 finished with value: 0.24602040342533987 and parameters: {'n_items_to_rank': 120}. Best is trial 0 with value: 0.24602040342533987.\n",
      "EvaluatorHoldout: Processed 5961 (100.0%) in 3.98 sec. Users per second: 1499\n"
     ]
    },
    {
     "name": "stderr",
     "output_type": "stream",
     "text": [
      "Best trial: 0. Best value: 0.24602:  38%|███▊      | 19/50 [01:16<02:04,  4.00s/it]"
     ]
    },
    {
     "name": "stdout",
     "output_type": "stream",
     "text": [
      "[I 2023-07-31 05:08:26,754] Trial 18 finished with value: 0.24602040342533987 and parameters: {'n_items_to_rank': 280}. Best is trial 0 with value: 0.24602040342533987.\n",
      "EvaluatorHoldout: Processed 5961 (100.0%) in 3.97 sec. Users per second: 1502\n"
     ]
    },
    {
     "name": "stderr",
     "output_type": "stream",
     "text": [
      "Best trial: 0. Best value: 0.24602:  40%|████      | 20/50 [01:20<01:59,  4.00s/it]"
     ]
    },
    {
     "name": "stdout",
     "output_type": "stream",
     "text": [
      "[I 2023-07-31 05:08:30,746] Trial 19 finished with value: 0.24602040342533987 and parameters: {'n_items_to_rank': 243}. Best is trial 0 with value: 0.24602040342533987.\n",
      "EvaluatorHoldout: Processed 5961 (100.0%) in 3.97 sec. Users per second: 1503\n"
     ]
    },
    {
     "name": "stderr",
     "output_type": "stream",
     "text": [
      "Best trial: 0. Best value: 0.24602:  42%|████▏     | 21/50 [01:24<01:55,  4.00s/it]"
     ]
    },
    {
     "name": "stdout",
     "output_type": "stream",
     "text": [
      "[I 2023-07-31 05:08:34,735] Trial 20 finished with value: 0.24602040342533987 and parameters: {'n_items_to_rank': 92}. Best is trial 0 with value: 0.24602040342533987.\n",
      "EvaluatorHoldout: Processed 5961 (100.0%) in 3.97 sec. Users per second: 1501\n"
     ]
    },
    {
     "name": "stderr",
     "output_type": "stream",
     "text": [
      "Best trial: 0. Best value: 0.24602:  44%|████▍     | 22/50 [01:28<01:52,  4.03s/it]"
     ]
    },
    {
     "name": "stdout",
     "output_type": "stream",
     "text": [
      "[I 2023-07-31 05:08:38,838] Trial 21 finished with value: 0.24602040342533987 and parameters: {'n_items_to_rank': 126}. Best is trial 0 with value: 0.24602040342533987.\n",
      "EvaluatorHoldout: Processed 5961 (100.0%) in 3.99 sec. Users per second: 1495\n"
     ]
    },
    {
     "name": "stderr",
     "output_type": "stream",
     "text": [
      "Best trial: 0. Best value: 0.24602:  46%|████▌     | 23/50 [01:32<01:48,  4.02s/it]"
     ]
    },
    {
     "name": "stdout",
     "output_type": "stream",
     "text": [
      "[I 2023-07-31 05:08:42,848] Trial 22 finished with value: 0.24602040342533987 and parameters: {'n_items_to_rank': 328}. Best is trial 0 with value: 0.24602040342533987.\n",
      "EvaluatorHoldout: Processed 5961 (100.0%) in 3.97 sec. Users per second: 1501\n"
     ]
    },
    {
     "name": "stderr",
     "output_type": "stream",
     "text": [
      "Best trial: 0. Best value: 0.24602:  48%|████▊     | 24/50 [01:36<01:44,  4.01s/it]"
     ]
    },
    {
     "name": "stdout",
     "output_type": "stream",
     "text": [
      "[I 2023-07-31 05:08:46,842] Trial 23 finished with value: 0.24602040342533987 and parameters: {'n_items_to_rank': 151}. Best is trial 0 with value: 0.24602040342533987.\n",
      "EvaluatorHoldout: Processed 5961 (100.0%) in 3.99 sec. Users per second: 1494\n"
     ]
    },
    {
     "name": "stderr",
     "output_type": "stream",
     "text": [
      "Best trial: 0. Best value: 0.24602:  50%|█████     | 25/50 [01:40<01:40,  4.01s/it]"
     ]
    },
    {
     "name": "stdout",
     "output_type": "stream",
     "text": [
      "[I 2023-07-31 05:08:50,857] Trial 24 finished with value: 0.24602040342533987 and parameters: {'n_items_to_rank': 252}. Best is trial 0 with value: 0.24602040342533987.\n",
      "EvaluatorHoldout: Processed 5961 (100.0%) in 4.02 sec. Users per second: 1482\n"
     ]
    },
    {
     "name": "stderr",
     "output_type": "stream",
     "text": [
      "Best trial: 0. Best value: 0.24602:  52%|█████▏    | 26/50 [01:44<01:36,  4.02s/it]"
     ]
    },
    {
     "name": "stdout",
     "output_type": "stream",
     "text": [
      "[I 2023-07-31 05:08:54,905] Trial 25 finished with value: 0.24602040342533987 and parameters: {'n_items_to_rank': 228}. Best is trial 0 with value: 0.24602040342533987.\n",
      "EvaluatorHoldout: Processed 5961 (100.0%) in 3.95 sec. Users per second: 1508\n"
     ]
    },
    {
     "name": "stderr",
     "output_type": "stream",
     "text": [
      "Best trial: 0. Best value: 0.24602:  54%|█████▍    | 27/50 [01:48<01:32,  4.01s/it]"
     ]
    },
    {
     "name": "stdout",
     "output_type": "stream",
     "text": [
      "[I 2023-07-31 05:08:58,884] Trial 26 finished with value: 0.24602040342533987 and parameters: {'n_items_to_rank': 180}. Best is trial 0 with value: 0.24602040342533987.\n",
      "EvaluatorHoldout: Processed 5961 (100.0%) in 4.00 sec. Users per second: 1490\n"
     ]
    },
    {
     "name": "stderr",
     "output_type": "stream",
     "text": [
      "Best trial: 0. Best value: 0.24602:  56%|█████▌    | 28/50 [01:52<01:28,  4.02s/it]"
     ]
    },
    {
     "name": "stdout",
     "output_type": "stream",
     "text": [
      "[I 2023-07-31 05:09:02,915] Trial 27 finished with value: 0.24602040342533987 and parameters: {'n_items_to_rank': 313}. Best is trial 0 with value: 0.24602040342533987.\n",
      "EvaluatorHoldout: Processed 5961 (100.0%) in 3.98 sec. Users per second: 1497\n"
     ]
    },
    {
     "name": "stderr",
     "output_type": "stream",
     "text": [
      "Best trial: 0. Best value: 0.24602:  58%|█████▊    | 29/50 [01:56<01:24,  4.01s/it]"
     ]
    },
    {
     "name": "stdout",
     "output_type": "stream",
     "text": [
      "[I 2023-07-31 05:09:06,921] Trial 28 finished with value: 0.24602040342533987 and parameters: {'n_items_to_rank': 246}. Best is trial 0 with value: 0.24602040342533987.\n",
      "EvaluatorHoldout: Processed 5961 (100.0%) in 3.97 sec. Users per second: 1500\n"
     ]
    },
    {
     "name": "stderr",
     "output_type": "stream",
     "text": [
      "Best trial: 0. Best value: 0.24602:  60%|██████    | 30/50 [02:00<01:20,  4.01s/it]"
     ]
    },
    {
     "name": "stdout",
     "output_type": "stream",
     "text": [
      "[I 2023-07-31 05:09:10,921] Trial 29 finished with value: 0.24602040342533987 and parameters: {'n_items_to_rank': 289}. Best is trial 0 with value: 0.24602040342533987.\n",
      "EvaluatorHoldout: Processed 5961 (100.0%) in 3.97 sec. Users per second: 1501\n"
     ]
    },
    {
     "name": "stderr",
     "output_type": "stream",
     "text": [
      "Best trial: 0. Best value: 0.24602:  62%|██████▏   | 31/50 [02:04<01:16,  4.01s/it]"
     ]
    },
    {
     "name": "stdout",
     "output_type": "stream",
     "text": [
      "[I 2023-07-31 05:09:14,919] Trial 30 finished with value: 0.24602040342533987 and parameters: {'n_items_to_rank': 344}. Best is trial 0 with value: 0.24602040342533987.\n",
      "EvaluatorHoldout: Processed 5961 (100.0%) in 3.97 sec. Users per second: 1503\n"
     ]
    },
    {
     "name": "stderr",
     "output_type": "stream",
     "text": [
      "Best trial: 0. Best value: 0.24602:  64%|██████▍   | 32/50 [02:08<01:12,  4.00s/it]"
     ]
    },
    {
     "name": "stdout",
     "output_type": "stream",
     "text": [
      "[I 2023-07-31 05:09:18,914] Trial 31 finished with value: 0.24602040342533987 and parameters: {'n_items_to_rank': 284}. Best is trial 0 with value: 0.24602040342533987.\n",
      "EvaluatorHoldout: Processed 5961 (100.0%) in 3.98 sec. Users per second: 1500\n"
     ]
    },
    {
     "name": "stderr",
     "output_type": "stream",
     "text": [
      "Best trial: 0. Best value: 0.24602:  66%|██████▌   | 33/50 [02:12<01:08,  4.00s/it]"
     ]
    },
    {
     "name": "stdout",
     "output_type": "stream",
     "text": [
      "[I 2023-07-31 05:09:22,918] Trial 32 finished with value: 0.24602040342533987 and parameters: {'n_items_to_rank': 80}. Best is trial 0 with value: 0.24602040342533987.\n",
      "EvaluatorHoldout: Processed 5961 (100.0%) in 4.00 sec. Users per second: 1491\n"
     ]
    },
    {
     "name": "stderr",
     "output_type": "stream",
     "text": [
      "Best trial: 0. Best value: 0.24602:  68%|██████▊   | 34/50 [02:16<01:04,  4.01s/it]"
     ]
    },
    {
     "name": "stdout",
     "output_type": "stream",
     "text": [
      "[I 2023-07-31 05:09:26,944] Trial 33 finished with value: 0.24602040342533987 and parameters: {'n_items_to_rank': 127}. Best is trial 0 with value: 0.24602040342533987.\n",
      "EvaluatorHoldout: Processed 5961 (100.0%) in 3.97 sec. Users per second: 1502\n"
     ]
    },
    {
     "name": "stderr",
     "output_type": "stream",
     "text": [
      "Best trial: 0. Best value: 0.24602:  70%|███████   | 35/50 [02:20<01:00,  4.01s/it]"
     ]
    },
    {
     "name": "stdout",
     "output_type": "stream",
     "text": [
      "[I 2023-07-31 05:09:30,940] Trial 34 finished with value: 0.24602040342533987 and parameters: {'n_items_to_rank': 336}. Best is trial 0 with value: 0.24602040342533987.\n",
      "EvaluatorHoldout: Processed 5961 (100.0%) in 3.99 sec. Users per second: 1496\n"
     ]
    },
    {
     "name": "stderr",
     "output_type": "stream",
     "text": [
      "Best trial: 0. Best value: 0.24602:  72%|███████▏  | 36/50 [02:24<00:56,  4.01s/it]"
     ]
    },
    {
     "name": "stdout",
     "output_type": "stream",
     "text": [
      "[I 2023-07-31 05:09:34,956] Trial 35 finished with value: 0.24602040342533987 and parameters: {'n_items_to_rank': 168}. Best is trial 0 with value: 0.24602040342533987.\n",
      "EvaluatorHoldout: Processed 5961 (100.0%) in 3.97 sec. Users per second: 1500\n"
     ]
    },
    {
     "name": "stderr",
     "output_type": "stream",
     "text": [
      "Best trial: 0. Best value: 0.24602:  74%|███████▍  | 37/50 [02:28<00:52,  4.01s/it]"
     ]
    },
    {
     "name": "stdout",
     "output_type": "stream",
     "text": [
      "[I 2023-07-31 05:09:38,961] Trial 36 finished with value: 0.24602040342533987 and parameters: {'n_items_to_rank': 304}. Best is trial 0 with value: 0.24602040342533987.\n",
      "EvaluatorHoldout: Processed 5961 (100.0%) in 3.97 sec. Users per second: 1503\n"
     ]
    },
    {
     "name": "stderr",
     "output_type": "stream",
     "text": [
      "Best trial: 0. Best value: 0.24602:  76%|███████▌  | 38/50 [02:32<00:48,  4.00s/it]"
     ]
    },
    {
     "name": "stdout",
     "output_type": "stream",
     "text": [
      "[I 2023-07-31 05:09:42,957] Trial 37 finished with value: 0.24602040342533987 and parameters: {'n_items_to_rank': 342}. Best is trial 0 with value: 0.24602040342533987.\n",
      "EvaluatorHoldout: Processed 5961 (100.0%) in 3.97 sec. Users per second: 1502\n"
     ]
    },
    {
     "name": "stderr",
     "output_type": "stream",
     "text": [
      "Best trial: 0. Best value: 0.24602:  78%|███████▊  | 39/50 [02:36<00:44,  4.00s/it]"
     ]
    },
    {
     "name": "stdout",
     "output_type": "stream",
     "text": [
      "[I 2023-07-31 05:09:46,955] Trial 38 finished with value: 0.24602040342533987 and parameters: {'n_items_to_rank': 156}. Best is trial 0 with value: 0.24602040342533987.\n",
      "EvaluatorHoldout: Processed 5961 (100.0%) in 3.97 sec. Users per second: 1502\n"
     ]
    },
    {
     "name": "stderr",
     "output_type": "stream",
     "text": [
      "Best trial: 0. Best value: 0.24602:  80%|████████  | 40/50 [02:40<00:40,  4.03s/it]"
     ]
    },
    {
     "name": "stdout",
     "output_type": "stream",
     "text": [
      "[I 2023-07-31 05:09:51,060] Trial 39 finished with value: 0.24602040342533987 and parameters: {'n_items_to_rank': 70}. Best is trial 0 with value: 0.24602040342533987.\n",
      "EvaluatorHoldout: Processed 5961 (100.0%) in 3.98 sec. Users per second: 1497\n"
     ]
    },
    {
     "name": "stderr",
     "output_type": "stream",
     "text": [
      "Best trial: 0. Best value: 0.24602:  82%|████████▏ | 41/50 [02:44<00:36,  4.03s/it]"
     ]
    },
    {
     "name": "stdout",
     "output_type": "stream",
     "text": [
      "[I 2023-07-31 05:09:55,073] Trial 40 finished with value: 0.24602040342533987 and parameters: {'n_items_to_rank': 124}. Best is trial 0 with value: 0.24602040342533987.\n",
      "EvaluatorHoldout: Processed 5961 (100.0%) in 3.98 sec. Users per second: 1499\n"
     ]
    },
    {
     "name": "stderr",
     "output_type": "stream",
     "text": [
      "Best trial: 0. Best value: 0.24602:  84%|████████▍ | 42/50 [02:48<00:32,  4.02s/it]"
     ]
    },
    {
     "name": "stdout",
     "output_type": "stream",
     "text": [
      "[I 2023-07-31 05:09:59,078] Trial 41 finished with value: 0.24602040342533987 and parameters: {'n_items_to_rank': 85}. Best is trial 0 with value: 0.24602040342533987.\n",
      "EvaluatorHoldout: Processed 5961 (100.0%) in 3.98 sec. Users per second: 1497\n"
     ]
    },
    {
     "name": "stderr",
     "output_type": "stream",
     "text": [
      "Best trial: 0. Best value: 0.24602:  86%|████████▌ | 43/50 [02:52<00:28,  4.02s/it]"
     ]
    },
    {
     "name": "stdout",
     "output_type": "stream",
     "text": [
      "[I 2023-07-31 05:10:03,090] Trial 42 finished with value: 0.24602040342533987 and parameters: {'n_items_to_rank': 203}. Best is trial 0 with value: 0.24602040342533987.\n",
      "EvaluatorHoldout: Processed 5961 (100.0%) in 3.97 sec. Users per second: 1500\n"
     ]
    },
    {
     "name": "stderr",
     "output_type": "stream",
     "text": [
      "Best trial: 0. Best value: 0.24602:  88%|████████▊ | 44/50 [02:56<00:24,  4.01s/it]"
     ]
    },
    {
     "name": "stdout",
     "output_type": "stream",
     "text": [
      "[I 2023-07-31 05:10:07,094] Trial 43 finished with value: 0.24602040342533987 and parameters: {'n_items_to_rank': 117}. Best is trial 0 with value: 0.24602040342533987.\n",
      "EvaluatorHoldout: Processed 5961 (100.0%) in 3.98 sec. Users per second: 1499\n"
     ]
    },
    {
     "name": "stderr",
     "output_type": "stream",
     "text": [
      "Best trial: 0. Best value: 0.24602:  90%|█████████ | 45/50 [03:00<00:20,  4.01s/it]"
     ]
    },
    {
     "name": "stdout",
     "output_type": "stream",
     "text": [
      "[I 2023-07-31 05:10:11,102] Trial 44 finished with value: 0.24602040342533987 and parameters: {'n_items_to_rank': 278}. Best is trial 0 with value: 0.24602040342533987.\n",
      "EvaluatorHoldout: Processed 5961 (100.0%) in 3.97 sec. Users per second: 1501\n"
     ]
    },
    {
     "name": "stderr",
     "output_type": "stream",
     "text": [
      "Best trial: 0. Best value: 0.24602:  92%|█████████▏| 46/50 [03:04<00:16,  4.01s/it]"
     ]
    },
    {
     "name": "stdout",
     "output_type": "stream",
     "text": [
      "[I 2023-07-31 05:10:15,106] Trial 45 finished with value: 0.24602040342533987 and parameters: {'n_items_to_rank': 213}. Best is trial 0 with value: 0.24602040342533987.\n",
      "EvaluatorHoldout: Processed 5961 (100.0%) in 3.97 sec. Users per second: 1503\n"
     ]
    },
    {
     "name": "stderr",
     "output_type": "stream",
     "text": [
      "Best trial: 0. Best value: 0.24602:  94%|█████████▍| 47/50 [03:08<00:12,  4.01s/it]"
     ]
    },
    {
     "name": "stdout",
     "output_type": "stream",
     "text": [
      "[I 2023-07-31 05:10:19,105] Trial 46 finished with value: 0.24602040342533987 and parameters: {'n_items_to_rank': 221}. Best is trial 0 with value: 0.24602040342533987.\n",
      "EvaluatorHoldout: Processed 5961 (100.0%) in 3.98 sec. Users per second: 1497\n"
     ]
    },
    {
     "name": "stderr",
     "output_type": "stream",
     "text": [
      "Best trial: 0. Best value: 0.24602:  96%|█████████▌| 48/50 [03:12<00:08,  4.01s/it]"
     ]
    },
    {
     "name": "stdout",
     "output_type": "stream",
     "text": [
      "[I 2023-07-31 05:10:23,119] Trial 47 finished with value: 0.24602040342533987 and parameters: {'n_items_to_rank': 116}. Best is trial 0 with value: 0.24602040342533987.\n",
      "EvaluatorHoldout: Processed 5961 (100.0%) in 3.96 sec. Users per second: 1504\n"
     ]
    },
    {
     "name": "stderr",
     "output_type": "stream",
     "text": [
      "Best trial: 0. Best value: 0.24602:  98%|█████████▊| 49/50 [03:16<00:04,  4.00s/it]"
     ]
    },
    {
     "name": "stdout",
     "output_type": "stream",
     "text": [
      "[I 2023-07-31 05:10:27,115] Trial 48 finished with value: 0.24602040342533987 and parameters: {'n_items_to_rank': 223}. Best is trial 0 with value: 0.24602040342533987.\n",
      "EvaluatorHoldout: Processed 5961 (100.0%) in 3.98 sec. Users per second: 1497\n"
     ]
    },
    {
     "name": "stderr",
     "output_type": "stream",
     "text": [
      "Best trial: 0. Best value: 0.24602: 100%|██████████| 50/50 [03:20<00:00,  4.01s/it]"
     ]
    },
    {
     "name": "stdout",
     "output_type": "stream",
     "text": [
      "[I 2023-07-31 05:10:31,131] Trial 49 finished with value: 0.24602040342533987 and parameters: {'n_items_to_rank': 236}. Best is trial 0 with value: 0.24602040342533987.\n",
      "Recommender_Base_Class: URM Detected 194 ( 5.0%) items with no interactions.\n"
     ]
    },
    {
     "name": "stderr",
     "output_type": "stream",
     "text": [
      "\n"
     ]
    },
    {
     "name": "stdout",
     "output_type": "stream",
     "text": [
      "EvaluatorHoldout: Processed 5976 (100.0%) in 3.71 sec. Users per second: 1611\n"
     ]
    },
    {
     "name": "stderr",
     "output_type": "stream",
     "text": [
      "[I 2023-07-31 05:10:56,933] A new study created in memory with name: no-name-9af44c59-690c-4338-b5f7-5dc44eb3c829\n",
      "  0%|          | 0/50 [00:00<?, ?it/s]"
     ]
    },
    {
     "name": "stdout",
     "output_type": "stream",
     "text": [
      "ItemKNNCFRecommender\n",
      "DiffusionAutoencoderRecommender_ItemKNNCFRecommender_TwoLevelRec\n",
      "EvaluatorHoldout: Processed 5961 (100.0%) in 5.03 sec. Users per second: 1184\n"
     ]
    },
    {
     "name": "stderr",
     "output_type": "stream",
     "text": [
      "Best trial: 0. Best value: 0.231449:   2%|▏         | 1/50 [00:05<04:07,  5.05s/it]"
     ]
    },
    {
     "name": "stdout",
     "output_type": "stream",
     "text": [
      "[I 2023-07-31 05:11:01,981] Trial 0 finished with value: 0.23144886499690182 and parameters: {'n_items_to_rank': 164}. Best is trial 0 with value: 0.23144886499690182.\n",
      "EvaluatorHoldout: Processed 5961 (100.0%) in 5.04 sec. Users per second: 1182\n"
     ]
    },
    {
     "name": "stderr",
     "output_type": "stream",
     "text": [
      "Best trial: 0. Best value: 0.231449:   4%|▍         | 2/50 [00:10<04:02,  5.05s/it]"
     ]
    },
    {
     "name": "stdout",
     "output_type": "stream",
     "text": [
      "[I 2023-07-31 05:11:07,039] Trial 1 finished with value: 0.23144886499690182 and parameters: {'n_items_to_rank': 225}. Best is trial 0 with value: 0.23144886499690182.\n",
      "EvaluatorHoldout: Processed 5961 (100.0%) in 5.03 sec. Users per second: 1185\n"
     ]
    },
    {
     "name": "stderr",
     "output_type": "stream",
     "text": [
      "Best trial: 0. Best value: 0.231449:   6%|▌         | 3/50 [00:15<03:57,  5.05s/it]"
     ]
    },
    {
     "name": "stdout",
     "output_type": "stream",
     "text": [
      "[I 2023-07-31 05:11:12,087] Trial 2 finished with value: 0.23144886499690182 and parameters: {'n_items_to_rank': 167}. Best is trial 0 with value: 0.23144886499690182.\n",
      "EvaluatorHoldout: Processed 5961 (100.0%) in 5.00 sec. Users per second: 1192\n"
     ]
    },
    {
     "name": "stderr",
     "output_type": "stream",
     "text": [
      "Best trial: 0. Best value: 0.231449:   8%|▊         | 4/50 [00:20<03:51,  5.04s/it]"
     ]
    },
    {
     "name": "stdout",
     "output_type": "stream",
     "text": [
      "[I 2023-07-31 05:11:17,105] Trial 3 finished with value: 0.23144886499690182 and parameters: {'n_items_to_rank': 86}. Best is trial 0 with value: 0.23144886499690182.\n",
      "EvaluatorHoldout: Processed 5961 (100.0%) in 5.03 sec. Users per second: 1186\n"
     ]
    },
    {
     "name": "stderr",
     "output_type": "stream",
     "text": [
      "Best trial: 0. Best value: 0.231449:  10%|█         | 5/50 [00:25<03:46,  5.04s/it]"
     ]
    },
    {
     "name": "stdout",
     "output_type": "stream",
     "text": [
      "[I 2023-07-31 05:11:22,147] Trial 4 finished with value: 0.23144886499690182 and parameters: {'n_items_to_rank': 161}. Best is trial 0 with value: 0.23144886499690182.\n",
      "EvaluatorHoldout: Processed 5961 (100.0%) in 5.20 sec. Users per second: 1146\n"
     ]
    },
    {
     "name": "stderr",
     "output_type": "stream",
     "text": [
      "Best trial: 0. Best value: 0.231449:  12%|█▏        | 6/50 [00:30<03:44,  5.10s/it]"
     ]
    },
    {
     "name": "stdout",
     "output_type": "stream",
     "text": [
      "[I 2023-07-31 05:11:27,367] Trial 5 finished with value: 0.23144886499690182 and parameters: {'n_items_to_rank': 228}. Best is trial 0 with value: 0.23144886499690182.\n",
      "EvaluatorHoldout: Processed 5961 (100.0%) in 5.00 sec. Users per second: 1191\n"
     ]
    },
    {
     "name": "stderr",
     "output_type": "stream",
     "text": [
      "Best trial: 0. Best value: 0.231449:  14%|█▍        | 7/50 [00:35<03:38,  5.08s/it]"
     ]
    },
    {
     "name": "stdout",
     "output_type": "stream",
     "text": [
      "[I 2023-07-31 05:11:32,389] Trial 6 finished with value: 0.23144886499690182 and parameters: {'n_items_to_rank': 190}. Best is trial 0 with value: 0.23144886499690182.\n",
      "EvaluatorHoldout: Processed 5961 (100.0%) in 5.01 sec. Users per second: 1190\n"
     ]
    },
    {
     "name": "stderr",
     "output_type": "stream",
     "text": [
      "Best trial: 0. Best value: 0.231449:  16%|█▌        | 8/50 [00:40<03:32,  5.06s/it]"
     ]
    },
    {
     "name": "stdout",
     "output_type": "stream",
     "text": [
      "[I 2023-07-31 05:11:37,415] Trial 7 finished with value: 0.23144886499690182 and parameters: {'n_items_to_rank': 305}. Best is trial 0 with value: 0.23144886499690182.\n",
      "EvaluatorHoldout: Processed 5961 (100.0%) in 5.02 sec. Users per second: 1188\n"
     ]
    },
    {
     "name": "stderr",
     "output_type": "stream",
     "text": [
      "Best trial: 0. Best value: 0.231449:  18%|█▊        | 9/50 [00:45<03:27,  5.05s/it]"
     ]
    },
    {
     "name": "stdout",
     "output_type": "stream",
     "text": [
      "[I 2023-07-31 05:11:42,449] Trial 8 finished with value: 0.23144886499690182 and parameters: {'n_items_to_rank': 109}. Best is trial 0 with value: 0.23144886499690182.\n",
      "EvaluatorHoldout: Processed 5961 (100.0%) in 5.02 sec. Users per second: 1188\n"
     ]
    },
    {
     "name": "stderr",
     "output_type": "stream",
     "text": [
      "Best trial: 0. Best value: 0.231449:  20%|██        | 10/50 [00:50<03:21,  5.05s/it]"
     ]
    },
    {
     "name": "stdout",
     "output_type": "stream",
     "text": [
      "[I 2023-07-31 05:11:47,483] Trial 9 finished with value: 0.23144886499690182 and parameters: {'n_items_to_rank': 72}. Best is trial 0 with value: 0.23144886499690182.\n",
      "EvaluatorHoldout: Processed 5961 (100.0%) in 5.04 sec. Users per second: 1182\n"
     ]
    },
    {
     "name": "stderr",
     "output_type": "stream",
     "text": [
      "Best trial: 0. Best value: 0.231449:  22%|██▏       | 11/50 [00:55<03:16,  5.05s/it]"
     ]
    },
    {
     "name": "stdout",
     "output_type": "stream",
     "text": [
      "[I 2023-07-31 05:11:52,543] Trial 10 finished with value: 0.23144886499690182 and parameters: {'n_items_to_rank': 344}. Best is trial 0 with value: 0.23144886499690182.\n",
      "EvaluatorHoldout: Processed 5961 (100.0%) in 5.02 sec. Users per second: 1187\n"
     ]
    },
    {
     "name": "stderr",
     "output_type": "stream",
     "text": [
      "Best trial: 0. Best value: 0.231449:  24%|██▍       | 12/50 [01:00<03:11,  5.05s/it]"
     ]
    },
    {
     "name": "stdout",
     "output_type": "stream",
     "text": [
      "[I 2023-07-31 05:11:57,583] Trial 11 finished with value: 0.23144886499690182 and parameters: {'n_items_to_rank': 59}. Best is trial 0 with value: 0.23144886499690182.\n",
      "EvaluatorHoldout: Processed 5961 (100.0%) in 5.01 sec. Users per second: 1189\n"
     ]
    },
    {
     "name": "stderr",
     "output_type": "stream",
     "text": [
      "Best trial: 0. Best value: 0.231449:  26%|██▌       | 13/50 [01:05<03:06,  5.04s/it]"
     ]
    },
    {
     "name": "stdout",
     "output_type": "stream",
     "text": [
      "[I 2023-07-31 05:12:02,618] Trial 12 finished with value: 0.23144886499690182 and parameters: {'n_items_to_rank': 164}. Best is trial 0 with value: 0.23144886499690182.\n",
      "EvaluatorHoldout: Processed 5961 (100.0%) in 5.03 sec. Users per second: 1186\n"
     ]
    },
    {
     "name": "stderr",
     "output_type": "stream",
     "text": [
      "Best trial: 0. Best value: 0.231449:  28%|██▊       | 14/50 [01:10<03:01,  5.04s/it]"
     ]
    },
    {
     "name": "stdout",
     "output_type": "stream",
     "text": [
      "[I 2023-07-31 05:12:07,664] Trial 13 finished with value: 0.23144886499690182 and parameters: {'n_items_to_rank': 164}. Best is trial 0 with value: 0.23144886499690182.\n",
      "EvaluatorHoldout: Processed 5961 (100.0%) in 5.02 sec. Users per second: 1186\n"
     ]
    },
    {
     "name": "stderr",
     "output_type": "stream",
     "text": [
      "Best trial: 0. Best value: 0.231449:  30%|███       | 15/50 [01:15<02:56,  5.04s/it]"
     ]
    },
    {
     "name": "stdout",
     "output_type": "stream",
     "text": [
      "[I 2023-07-31 05:12:12,708] Trial 14 finished with value: 0.23144886499690182 and parameters: {'n_items_to_rank': 225}. Best is trial 0 with value: 0.23144886499690182.\n",
      "EvaluatorHoldout: Processed 5961 (100.0%) in 5.02 sec. Users per second: 1186\n"
     ]
    },
    {
     "name": "stderr",
     "output_type": "stream",
     "text": [
      "Best trial: 0. Best value: 0.231449:  32%|███▏      | 16/50 [01:20<02:51,  5.04s/it]"
     ]
    },
    {
     "name": "stdout",
     "output_type": "stream",
     "text": [
      "[I 2023-07-31 05:12:17,753] Trial 15 finished with value: 0.23144886499690182 and parameters: {'n_items_to_rank': 262}. Best is trial 0 with value: 0.23144886499690182.\n",
      "EvaluatorHoldout: Processed 5961 (100.0%) in 5.04 sec. Users per second: 1184\n"
     ]
    },
    {
     "name": "stderr",
     "output_type": "stream",
     "text": [
      "Best trial: 0. Best value: 0.231449:  34%|███▍      | 17/50 [01:25<02:46,  5.05s/it]"
     ]
    },
    {
     "name": "stdout",
     "output_type": "stream",
     "text": [
      "[I 2023-07-31 05:12:22,807] Trial 16 finished with value: 0.23144886499690182 and parameters: {'n_items_to_rank': 96}. Best is trial 0 with value: 0.23144886499690182.\n",
      "EvaluatorHoldout: Processed 5961 (100.0%) in 5.03 sec. Users per second: 1185\n"
     ]
    },
    {
     "name": "stderr",
     "output_type": "stream",
     "text": [
      "Best trial: 0. Best value: 0.231449:  36%|███▌      | 18/50 [01:30<02:41,  5.05s/it]"
     ]
    },
    {
     "name": "stdout",
     "output_type": "stream",
     "text": [
      "[I 2023-07-31 05:12:27,856] Trial 17 finished with value: 0.23144886499690182 and parameters: {'n_items_to_rank': 55}. Best is trial 0 with value: 0.23144886499690182.\n",
      "EvaluatorHoldout: Processed 5961 (100.0%) in 5.03 sec. Users per second: 1186\n"
     ]
    },
    {
     "name": "stderr",
     "output_type": "stream",
     "text": [
      "Best trial: 0. Best value: 0.231449:  38%|███▊      | 19/50 [01:35<02:36,  5.05s/it]"
     ]
    },
    {
     "name": "stdout",
     "output_type": "stream",
     "text": [
      "[I 2023-07-31 05:12:32,905] Trial 18 finished with value: 0.23144886499690182 and parameters: {'n_items_to_rank': 225}. Best is trial 0 with value: 0.23144886499690182.\n",
      "EvaluatorHoldout: Processed 5961 (100.0%) in 5.01 sec. Users per second: 1190\n"
     ]
    },
    {
     "name": "stderr",
     "output_type": "stream",
     "text": [
      "Best trial: 0. Best value: 0.231449:  40%|████      | 20/50 [01:41<02:31,  5.04s/it]"
     ]
    },
    {
     "name": "stdout",
     "output_type": "stream",
     "text": [
      "[I 2023-07-31 05:12:37,935] Trial 19 finished with value: 0.23144886499690182 and parameters: {'n_items_to_rank': 113}. Best is trial 0 with value: 0.23144886499690182.\n",
      "EvaluatorHoldout: Processed 5961 (100.0%) in 5.01 sec. Users per second: 1190\n"
     ]
    },
    {
     "name": "stderr",
     "output_type": "stream",
     "text": [
      "Best trial: 0. Best value: 0.231449:  42%|████▏     | 21/50 [01:46<02:26,  5.04s/it]"
     ]
    },
    {
     "name": "stdout",
     "output_type": "stream",
     "text": [
      "[I 2023-07-31 05:12:42,964] Trial 20 finished with value: 0.23144886499690182 and parameters: {'n_items_to_rank': 105}. Best is trial 0 with value: 0.23144886499690182.\n",
      "EvaluatorHoldout: Processed 5961 (100.0%) in 5.03 sec. Users per second: 1185\n"
     ]
    },
    {
     "name": "stderr",
     "output_type": "stream",
     "text": [
      "Best trial: 0. Best value: 0.231449:  44%|████▍     | 22/50 [01:51<02:21,  5.04s/it]"
     ]
    },
    {
     "name": "stdout",
     "output_type": "stream",
     "text": [
      "[I 2023-07-31 05:12:48,017] Trial 21 finished with value: 0.23144886499690182 and parameters: {'n_items_to_rank': 162}. Best is trial 0 with value: 0.23144886499690182.\n",
      "EvaluatorHoldout: Processed 5961 (100.0%) in 5.03 sec. Users per second: 1184\n"
     ]
    },
    {
     "name": "stderr",
     "output_type": "stream",
     "text": [
      "Best trial: 0. Best value: 0.231449:  46%|████▌     | 23/50 [01:56<02:16,  5.05s/it]"
     ]
    },
    {
     "name": "stdout",
     "output_type": "stream",
     "text": [
      "[I 2023-07-31 05:12:53,071] Trial 22 finished with value: 0.23144886499690182 and parameters: {'n_items_to_rank': 311}. Best is trial 0 with value: 0.23144886499690182.\n",
      "EvaluatorHoldout: Processed 5961 (100.0%) in 5.19 sec. Users per second: 1149\n"
     ]
    },
    {
     "name": "stderr",
     "output_type": "stream",
     "text": [
      "Best trial: 0. Best value: 0.231449:  48%|████▊     | 24/50 [02:01<02:12,  5.10s/it]"
     ]
    },
    {
     "name": "stdout",
     "output_type": "stream",
     "text": [
      "[I 2023-07-31 05:12:58,280] Trial 23 finished with value: 0.23144886499690182 and parameters: {'n_items_to_rank': 198}. Best is trial 0 with value: 0.23144886499690182.\n",
      "EvaluatorHoldout: Processed 5961 (100.0%) in 5.05 sec. Users per second: 1181\n"
     ]
    },
    {
     "name": "stderr",
     "output_type": "stream",
     "text": [
      "Best trial: 0. Best value: 0.231449:  50%|█████     | 25/50 [02:06<02:07,  5.09s/it]"
     ]
    },
    {
     "name": "stdout",
     "output_type": "stream",
     "text": [
      "[I 2023-07-31 05:13:03,352] Trial 24 finished with value: 0.23144886499690182 and parameters: {'n_items_to_rank': 328}. Best is trial 0 with value: 0.23144886499690182.\n",
      "EvaluatorHoldout: Processed 5961 (100.0%) in 5.01 sec. Users per second: 1189\n"
     ]
    },
    {
     "name": "stderr",
     "output_type": "stream",
     "text": [
      "Best trial: 0. Best value: 0.231449:  52%|█████▏    | 26/50 [02:11<02:01,  5.07s/it]"
     ]
    },
    {
     "name": "stdout",
     "output_type": "stream",
     "text": [
      "[I 2023-07-31 05:13:08,389] Trial 25 finished with value: 0.23144886499690182 and parameters: {'n_items_to_rank': 151}. Best is trial 0 with value: 0.23144886499690182.\n",
      "EvaluatorHoldout: Processed 5961 (100.0%) in 5.02 sec. Users per second: 1187\n"
     ]
    },
    {
     "name": "stderr",
     "output_type": "stream",
     "text": [
      "Best trial: 0. Best value: 0.231449:  54%|█████▍    | 27/50 [02:16<01:56,  5.06s/it]"
     ]
    },
    {
     "name": "stdout",
     "output_type": "stream",
     "text": [
      "[I 2023-07-31 05:13:13,436] Trial 26 finished with value: 0.23144886499690182 and parameters: {'n_items_to_rank': 348}. Best is trial 0 with value: 0.23144886499690182.\n",
      "EvaluatorHoldout: Processed 5961 (100.0%) in 5.04 sec. Users per second: 1182\n"
     ]
    },
    {
     "name": "stderr",
     "output_type": "stream",
     "text": [
      "Best trial: 0. Best value: 0.231449:  56%|█████▌    | 28/50 [02:21<01:51,  5.07s/it]"
     ]
    },
    {
     "name": "stdout",
     "output_type": "stream",
     "text": [
      "[I 2023-07-31 05:13:18,506] Trial 27 finished with value: 0.23144886499690182 and parameters: {'n_items_to_rank': 334}. Best is trial 0 with value: 0.23144886499690182.\n",
      "EvaluatorHoldout: Processed 5961 (100.0%) in 5.03 sec. Users per second: 1185\n"
     ]
    },
    {
     "name": "stderr",
     "output_type": "stream",
     "text": [
      "Best trial: 0. Best value: 0.231449:  58%|█████▊    | 29/50 [02:26<01:46,  5.06s/it]"
     ]
    },
    {
     "name": "stdout",
     "output_type": "stream",
     "text": [
      "[I 2023-07-31 05:13:23,559] Trial 28 finished with value: 0.23144886499690182 and parameters: {'n_items_to_rank': 207}. Best is trial 0 with value: 0.23144886499690182.\n",
      "EvaluatorHoldout: Processed 5961 (100.0%) in 5.04 sec. Users per second: 1182\n"
     ]
    },
    {
     "name": "stderr",
     "output_type": "stream",
     "text": [
      "Best trial: 0. Best value: 0.231449:  60%|██████    | 30/50 [02:31<01:41,  5.06s/it]"
     ]
    },
    {
     "name": "stdout",
     "output_type": "stream",
     "text": [
      "[I 2023-07-31 05:13:28,629] Trial 29 finished with value: 0.23144886499690182 and parameters: {'n_items_to_rank': 238}. Best is trial 0 with value: 0.23144886499690182.\n",
      "EvaluatorHoldout: Processed 5961 (100.0%) in 5.01 sec. Users per second: 1189\n"
     ]
    },
    {
     "name": "stderr",
     "output_type": "stream",
     "text": [
      "Best trial: 0. Best value: 0.231449:  62%|██████▏   | 31/50 [02:36<01:36,  5.06s/it]"
     ]
    },
    {
     "name": "stdout",
     "output_type": "stream",
     "text": [
      "[I 2023-07-31 05:13:33,669] Trial 30 finished with value: 0.23144886499690182 and parameters: {'n_items_to_rank': 303}. Best is trial 0 with value: 0.23144886499690182.\n",
      "EvaluatorHoldout: Processed 5961 (100.0%) in 5.02 sec. Users per second: 1187\n"
     ]
    },
    {
     "name": "stderr",
     "output_type": "stream",
     "text": [
      "Best trial: 0. Best value: 0.231449:  64%|██████▍   | 32/50 [02:41<01:31,  5.06s/it]"
     ]
    },
    {
     "name": "stdout",
     "output_type": "stream",
     "text": [
      "[I 2023-07-31 05:13:38,722] Trial 31 finished with value: 0.23144886499690182 and parameters: {'n_items_to_rank': 319}. Best is trial 0 with value: 0.23144886499690182.\n",
      "EvaluatorHoldout: Processed 5961 (100.0%) in 5.03 sec. Users per second: 1186\n"
     ]
    },
    {
     "name": "stderr",
     "output_type": "stream",
     "text": [
      "Best trial: 0. Best value: 0.231449:  66%|██████▌   | 33/50 [02:46<01:25,  5.06s/it]"
     ]
    },
    {
     "name": "stdout",
     "output_type": "stream",
     "text": [
      "[I 2023-07-31 05:13:43,777] Trial 32 finished with value: 0.23144886499690182 and parameters: {'n_items_to_rank': 291}. Best is trial 0 with value: 0.23144886499690182.\n",
      "EvaluatorHoldout: Processed 5961 (100.0%) in 5.02 sec. Users per second: 1186\n"
     ]
    },
    {
     "name": "stderr",
     "output_type": "stream",
     "text": [
      "Best trial: 0. Best value: 0.231449:  68%|██████▊   | 34/50 [02:51<01:20,  5.05s/it]"
     ]
    },
    {
     "name": "stdout",
     "output_type": "stream",
     "text": [
      "[I 2023-07-31 05:13:48,829] Trial 33 finished with value: 0.23144886499690182 and parameters: {'n_items_to_rank': 86}. Best is trial 0 with value: 0.23144886499690182.\n",
      "EvaluatorHoldout: Processed 5961 (100.0%) in 5.01 sec. Users per second: 1190\n"
     ]
    },
    {
     "name": "stderr",
     "output_type": "stream",
     "text": [
      "Best trial: 0. Best value: 0.231449:  70%|███████   | 35/50 [02:56<01:15,  5.05s/it]"
     ]
    },
    {
     "name": "stdout",
     "output_type": "stream",
     "text": [
      "[I 2023-07-31 05:13:53,865] Trial 34 finished with value: 0.23144886499690182 and parameters: {'n_items_to_rank': 67}. Best is trial 0 with value: 0.23144886499690182.\n",
      "EvaluatorHoldout: Processed 5961 (100.0%) in 5.03 sec. Users per second: 1186\n"
     ]
    },
    {
     "name": "stderr",
     "output_type": "stream",
     "text": [
      "Best trial: 0. Best value: 0.231449:  72%|███████▏  | 36/50 [03:01<01:10,  5.05s/it]"
     ]
    },
    {
     "name": "stdout",
     "output_type": "stream",
     "text": [
      "[I 2023-07-31 05:13:58,919] Trial 35 finished with value: 0.23144886499690182 and parameters: {'n_items_to_rank': 122}. Best is trial 0 with value: 0.23144886499690182.\n",
      "EvaluatorHoldout: Processed 5961 (100.0%) in 5.04 sec. Users per second: 1183\n"
     ]
    },
    {
     "name": "stderr",
     "output_type": "stream",
     "text": [
      "Best trial: 0. Best value: 0.231449:  74%|███████▍  | 37/50 [03:07<01:05,  5.06s/it]"
     ]
    },
    {
     "name": "stdout",
     "output_type": "stream",
     "text": [
      "[I 2023-07-31 05:14:03,990] Trial 36 finished with value: 0.23144886499690182 and parameters: {'n_items_to_rank': 298}. Best is trial 0 with value: 0.23144886499690182.\n",
      "EvaluatorHoldout: Processed 5961 (100.0%) in 5.00 sec. Users per second: 1193\n"
     ]
    },
    {
     "name": "stderr",
     "output_type": "stream",
     "text": [
      "Best trial: 0. Best value: 0.231449:  76%|███████▌  | 38/50 [03:12<01:00,  5.05s/it]"
     ]
    },
    {
     "name": "stdout",
     "output_type": "stream",
     "text": [
      "[I 2023-07-31 05:14:09,014] Trial 37 finished with value: 0.23144886499690182 and parameters: {'n_items_to_rank': 167}. Best is trial 0 with value: 0.23144886499690182.\n",
      "EvaluatorHoldout: Processed 5961 (100.0%) in 5.03 sec. Users per second: 1186\n"
     ]
    },
    {
     "name": "stderr",
     "output_type": "stream",
     "text": [
      "Best trial: 0. Best value: 0.231449:  78%|███████▊  | 39/50 [03:17<00:55,  5.05s/it]"
     ]
    },
    {
     "name": "stdout",
     "output_type": "stream",
     "text": [
      "[I 2023-07-31 05:14:14,077] Trial 38 finished with value: 0.23144886499690182 and parameters: {'n_items_to_rank': 271}. Best is trial 0 with value: 0.23144886499690182.\n",
      "EvaluatorHoldout: Processed 5961 (100.0%) in 5.02 sec. Users per second: 1187\n"
     ]
    },
    {
     "name": "stderr",
     "output_type": "stream",
     "text": [
      "Best trial: 0. Best value: 0.231449:  80%|████████  | 40/50 [03:22<00:50,  5.05s/it]"
     ]
    },
    {
     "name": "stdout",
     "output_type": "stream",
     "text": [
      "[I 2023-07-31 05:14:19,127] Trial 39 finished with value: 0.23144886499690182 and parameters: {'n_items_to_rank': 314}. Best is trial 0 with value: 0.23144886499690182.\n",
      "EvaluatorHoldout: Processed 5961 (100.0%) in 5.01 sec. Users per second: 1189\n"
     ]
    },
    {
     "name": "stderr",
     "output_type": "stream",
     "text": [
      "Best trial: 0. Best value: 0.231449:  82%|████████▏ | 41/50 [03:27<00:45,  5.05s/it]"
     ]
    },
    {
     "name": "stdout",
     "output_type": "stream",
     "text": [
      "[I 2023-07-31 05:14:24,168] Trial 40 finished with value: 0.23144886499690182 and parameters: {'n_items_to_rank': 158}. Best is trial 0 with value: 0.23144886499690182.\n",
      "EvaluatorHoldout: Processed 5961 (100.0%) in 5.11 sec. Users per second: 1166\n"
     ]
    },
    {
     "name": "stderr",
     "output_type": "stream",
     "text": [
      "Best trial: 0. Best value: 0.231449:  84%|████████▍ | 42/50 [03:32<00:40,  5.08s/it]"
     ]
    },
    {
     "name": "stdout",
     "output_type": "stream",
     "text": [
      "[I 2023-07-31 05:14:29,309] Trial 41 finished with value: 0.23144886499690182 and parameters: {'n_items_to_rank': 330}. Best is trial 0 with value: 0.23144886499690182.\n",
      "EvaluatorHoldout: Processed 5961 (100.0%) in 5.03 sec. Users per second: 1185\n"
     ]
    },
    {
     "name": "stderr",
     "output_type": "stream",
     "text": [
      "Best trial: 0. Best value: 0.231449:  86%|████████▌ | 43/50 [03:37<00:35,  5.07s/it]"
     ]
    },
    {
     "name": "stdout",
     "output_type": "stream",
     "text": [
      "[I 2023-07-31 05:14:34,371] Trial 42 finished with value: 0.23144886499690182 and parameters: {'n_items_to_rank': 252}. Best is trial 0 with value: 0.23144886499690182.\n",
      "EvaluatorHoldout: Processed 5961 (100.0%) in 5.02 sec. Users per second: 1188\n"
     ]
    },
    {
     "name": "stderr",
     "output_type": "stream",
     "text": [
      "Best trial: 0. Best value: 0.231449:  88%|████████▊ | 44/50 [03:42<00:30,  5.06s/it]"
     ]
    },
    {
     "name": "stdout",
     "output_type": "stream",
     "text": [
      "[I 2023-07-31 05:14:39,420] Trial 43 finished with value: 0.23144886499690182 and parameters: {'n_items_to_rank': 209}. Best is trial 0 with value: 0.23144886499690182.\n",
      "EvaluatorHoldout: Processed 5961 (100.0%) in 5.01 sec. Users per second: 1191\n"
     ]
    },
    {
     "name": "stderr",
     "output_type": "stream",
     "text": [
      "Best trial: 0. Best value: 0.231449:  90%|█████████ | 45/50 [03:47<00:25,  5.06s/it]"
     ]
    },
    {
     "name": "stdout",
     "output_type": "stream",
     "text": [
      "[I 2023-07-31 05:14:44,457] Trial 44 finished with value: 0.23144886499690182 and parameters: {'n_items_to_rank': 178}. Best is trial 0 with value: 0.23144886499690182.\n",
      "EvaluatorHoldout: Processed 5961 (100.0%) in 5.00 sec. Users per second: 1191\n"
     ]
    },
    {
     "name": "stderr",
     "output_type": "stream",
     "text": [
      "Best trial: 0. Best value: 0.231449:  92%|█████████▏| 46/50 [03:52<00:20,  5.05s/it]"
     ]
    },
    {
     "name": "stdout",
     "output_type": "stream",
     "text": [
      "[I 2023-07-31 05:14:49,493] Trial 45 finished with value: 0.23144886499690182 and parameters: {'n_items_to_rank': 76}. Best is trial 0 with value: 0.23144886499690182.\n",
      "EvaluatorHoldout: Processed 5961 (100.0%) in 5.09 sec. Users per second: 1170\n"
     ]
    },
    {
     "name": "stderr",
     "output_type": "stream",
     "text": [
      "Best trial: 0. Best value: 0.231449:  94%|█████████▍| 47/50 [03:57<00:15,  5.07s/it]"
     ]
    },
    {
     "name": "stdout",
     "output_type": "stream",
     "text": [
      "[I 2023-07-31 05:14:54,623] Trial 46 finished with value: 0.23144886499690182 and parameters: {'n_items_to_rank': 161}. Best is trial 0 with value: 0.23144886499690182.\n",
      "EvaluatorHoldout: Processed 5961 (100.0%) in 5.02 sec. Users per second: 1188\n"
     ]
    },
    {
     "name": "stderr",
     "output_type": "stream",
     "text": [
      "Best trial: 0. Best value: 0.231449:  96%|█████████▌| 48/50 [04:02<00:10,  5.07s/it]"
     ]
    },
    {
     "name": "stdout",
     "output_type": "stream",
     "text": [
      "[I 2023-07-31 05:14:59,673] Trial 47 finished with value: 0.23144886499690182 and parameters: {'n_items_to_rank': 302}. Best is trial 0 with value: 0.23144886499690182.\n",
      "EvaluatorHoldout: Processed 5961 (100.0%) in 5.02 sec. Users per second: 1188\n"
     ]
    },
    {
     "name": "stderr",
     "output_type": "stream",
     "text": [
      "Best trial: 0. Best value: 0.231449:  98%|█████████▊| 49/50 [04:07<00:05,  5.06s/it]"
     ]
    },
    {
     "name": "stdout",
     "output_type": "stream",
     "text": [
      "[I 2023-07-31 05:15:04,724] Trial 48 finished with value: 0.23144886499690182 and parameters: {'n_items_to_rank': 316}. Best is trial 0 with value: 0.23144886499690182.\n",
      "EvaluatorHoldout: Processed 5961 (100.0%) in 5.01 sec. Users per second: 1190\n"
     ]
    },
    {
     "name": "stderr",
     "output_type": "stream",
     "text": [
      "Best trial: 0. Best value: 0.231449: 100%|██████████| 50/50 [04:12<00:00,  5.06s/it]"
     ]
    },
    {
     "name": "stdout",
     "output_type": "stream",
     "text": [
      "[I 2023-07-31 05:15:09,767] Trial 49 finished with value: 0.23144886499690182 and parameters: {'n_items_to_rank': 184}. Best is trial 0 with value: 0.23144886499690182.\n",
      "Recommender_Base_Class: URM Detected 194 ( 5.0%) items with no interactions.\n"
     ]
    },
    {
     "name": "stderr",
     "output_type": "stream",
     "text": [
      "\n"
     ]
    },
    {
     "name": "stdout",
     "output_type": "stream",
     "text": [
      "EvaluatorHoldout: Processed 5976 (100.0%) in 5.19 sec. Users per second: 1151\n"
     ]
    },
    {
     "name": "stderr",
     "output_type": "stream",
     "text": [
      "[I 2023-07-31 05:15:36,992] A new study created in memory with name: no-name-ecbfe931-18de-490c-bb01-2a6a134422e1\n",
      "  0%|          | 0/50 [00:00<?, ?it/s]"
     ]
    },
    {
     "name": "stdout",
     "output_type": "stream",
     "text": [
      "IALSRecommender\n",
      "DiffusionAutoencoderRecommender_IALSRecommender_TwoLevelRec\n",
      "EvaluatorHoldout: Processed 5961 (100.0%) in 3.73 sec. Users per second: 1596\n"
     ]
    },
    {
     "name": "stderr",
     "output_type": "stream",
     "text": [
      "Best trial: 0. Best value: 0.240484:   2%|▏         | 1/50 [00:03<03:03,  3.75s/it]"
     ]
    },
    {
     "name": "stdout",
     "output_type": "stream",
     "text": [
      "[I 2023-07-31 05:15:40,742] Trial 0 finished with value: 0.24048367348205787 and parameters: {'n_items_to_rank': 148}. Best is trial 0 with value: 0.24048367348205787.\n",
      "EvaluatorHoldout: Processed 5961 (100.0%) in 3.71 sec. Users per second: 1607\n"
     ]
    },
    {
     "name": "stderr",
     "output_type": "stream",
     "text": [
      "Best trial: 0. Best value: 0.240484:   4%|▍         | 2/50 [00:07<02:59,  3.74s/it]"
     ]
    },
    {
     "name": "stdout",
     "output_type": "stream",
     "text": [
      "[I 2023-07-31 05:15:44,467] Trial 1 finished with value: 0.24048367348205787 and parameters: {'n_items_to_rank': 170}. Best is trial 0 with value: 0.24048367348205787.\n",
      "EvaluatorHoldout: Processed 5961 (100.0%) in 3.72 sec. Users per second: 1601\n"
     ]
    },
    {
     "name": "stderr",
     "output_type": "stream",
     "text": [
      "Best trial: 0. Best value: 0.240484:   6%|▌         | 3/50 [00:11<02:55,  3.74s/it]"
     ]
    },
    {
     "name": "stdout",
     "output_type": "stream",
     "text": [
      "[I 2023-07-31 05:15:48,206] Trial 2 finished with value: 0.24048367348205787 and parameters: {'n_items_to_rank': 78}. Best is trial 0 with value: 0.24048367348205787.\n",
      "EvaluatorHoldout: Processed 5961 (100.0%) in 3.72 sec. Users per second: 1602\n"
     ]
    },
    {
     "name": "stderr",
     "output_type": "stream",
     "text": [
      "Best trial: 0. Best value: 0.240484:   8%|▊         | 4/50 [00:14<02:51,  3.74s/it]"
     ]
    },
    {
     "name": "stdout",
     "output_type": "stream",
     "text": [
      "[I 2023-07-31 05:15:51,942] Trial 3 finished with value: 0.24048367348205787 and parameters: {'n_items_to_rank': 294}. Best is trial 0 with value: 0.24048367348205787.\n",
      "EvaluatorHoldout: Processed 5961 (100.0%) in 3.71 sec. Users per second: 1605\n"
     ]
    },
    {
     "name": "stderr",
     "output_type": "stream",
     "text": [
      "Best trial: 0. Best value: 0.240484:  10%|█         | 5/50 [00:18<02:48,  3.73s/it]"
     ]
    },
    {
     "name": "stdout",
     "output_type": "stream",
     "text": [
      "[I 2023-07-31 05:15:55,671] Trial 4 finished with value: 0.24048367348205787 and parameters: {'n_items_to_rank': 175}. Best is trial 0 with value: 0.24048367348205787.\n",
      "EvaluatorHoldout: Processed 5961 (100.0%) in 3.70 sec. Users per second: 1609\n"
     ]
    },
    {
     "name": "stderr",
     "output_type": "stream",
     "text": [
      "Best trial: 0. Best value: 0.240484:  12%|█▏        | 6/50 [00:22<02:44,  3.73s/it]"
     ]
    },
    {
     "name": "stdout",
     "output_type": "stream",
     "text": [
      "[I 2023-07-31 05:15:59,394] Trial 5 finished with value: 0.24048367348205787 and parameters: {'n_items_to_rank': 210}. Best is trial 0 with value: 0.24048367348205787.\n",
      "EvaluatorHoldout: Processed 5961 (100.0%) in 3.73 sec. Users per second: 1596\n"
     ]
    },
    {
     "name": "stderr",
     "output_type": "stream",
     "text": [
      "Best trial: 0. Best value: 0.240484:  14%|█▍        | 7/50 [00:26<02:40,  3.74s/it]"
     ]
    },
    {
     "name": "stdout",
     "output_type": "stream",
     "text": [
      "[I 2023-07-31 05:16:03,147] Trial 6 finished with value: 0.24048367348205787 and parameters: {'n_items_to_rank': 78}. Best is trial 0 with value: 0.24048367348205787.\n",
      "EvaluatorHoldout: Processed 5961 (100.0%) in 3.73 sec. Users per second: 1599\n"
     ]
    },
    {
     "name": "stderr",
     "output_type": "stream",
     "text": [
      "Best trial: 0. Best value: 0.240484:  16%|█▌        | 8/50 [00:29<02:37,  3.74s/it]"
     ]
    },
    {
     "name": "stdout",
     "output_type": "stream",
     "text": [
      "[I 2023-07-31 05:16:06,893] Trial 7 finished with value: 0.24048367348205787 and parameters: {'n_items_to_rank': 274}. Best is trial 0 with value: 0.24048367348205787.\n",
      "EvaluatorHoldout: Processed 5961 (100.0%) in 3.72 sec. Users per second: 1602\n"
     ]
    },
    {
     "name": "stderr",
     "output_type": "stream",
     "text": [
      "Best trial: 0. Best value: 0.240484:  18%|█▊        | 9/50 [00:33<02:33,  3.74s/it]"
     ]
    },
    {
     "name": "stdout",
     "output_type": "stream",
     "text": [
      "[I 2023-07-31 05:16:10,631] Trial 8 finished with value: 0.24048367348205787 and parameters: {'n_items_to_rank': 113}. Best is trial 0 with value: 0.24048367348205787.\n",
      "EvaluatorHoldout: Processed 5961 (100.0%) in 3.72 sec. Users per second: 1603\n"
     ]
    },
    {
     "name": "stderr",
     "output_type": "stream",
     "text": [
      "Best trial: 0. Best value: 0.240484:  20%|██        | 10/50 [00:37<02:30,  3.77s/it]"
     ]
    },
    {
     "name": "stdout",
     "output_type": "stream",
     "text": [
      "[I 2023-07-31 05:16:14,462] Trial 9 finished with value: 0.24048367348205787 and parameters: {'n_items_to_rank': 142}. Best is trial 0 with value: 0.24048367348205787.\n",
      "EvaluatorHoldout: Processed 5961 (100.0%) in 3.72 sec. Users per second: 1604\n"
     ]
    },
    {
     "name": "stderr",
     "output_type": "stream",
     "text": [
      "Best trial: 0. Best value: 0.240484:  22%|██▏       | 11/50 [00:41<02:26,  3.76s/it]"
     ]
    },
    {
     "name": "stdout",
     "output_type": "stream",
     "text": [
      "[I 2023-07-31 05:16:18,196] Trial 10 finished with value: 0.24048367348205787 and parameters: {'n_items_to_rank': 233}. Best is trial 0 with value: 0.24048367348205787.\n",
      "EvaluatorHoldout: Processed 5961 (100.0%) in 3.72 sec. Users per second: 1600\n"
     ]
    },
    {
     "name": "stderr",
     "output_type": "stream",
     "text": [
      "Best trial: 0. Best value: 0.240484:  24%|██▍       | 12/50 [00:44<02:22,  3.75s/it]"
     ]
    },
    {
     "name": "stdout",
     "output_type": "stream",
     "text": [
      "[I 2023-07-31 05:16:21,938] Trial 11 finished with value: 0.24048367348205787 and parameters: {'n_items_to_rank': 97}. Best is trial 0 with value: 0.24048367348205787.\n",
      "EvaluatorHoldout: Processed 5961 (100.0%) in 3.71 sec. Users per second: 1606\n"
     ]
    },
    {
     "name": "stderr",
     "output_type": "stream",
     "text": [
      "Best trial: 0. Best value: 0.240484:  26%|██▌       | 13/50 [00:48<02:18,  3.75s/it]"
     ]
    },
    {
     "name": "stdout",
     "output_type": "stream",
     "text": [
      "[I 2023-07-31 05:16:25,670] Trial 12 finished with value: 0.24048367348205787 and parameters: {'n_items_to_rank': 342}. Best is trial 0 with value: 0.24048367348205787.\n",
      "EvaluatorHoldout: Processed 5961 (100.0%) in 3.71 sec. Users per second: 1607\n"
     ]
    },
    {
     "name": "stderr",
     "output_type": "stream",
     "text": [
      "Best trial: 0. Best value: 0.240484:  28%|██▊       | 14/50 [00:52<02:14,  3.74s/it]"
     ]
    },
    {
     "name": "stdout",
     "output_type": "stream",
     "text": [
      "[I 2023-07-31 05:16:29,400] Trial 13 finished with value: 0.24048367348205787 and parameters: {'n_items_to_rank': 183}. Best is trial 0 with value: 0.24048367348205787.\n",
      "EvaluatorHoldout: Processed 5961 (100.0%) in 3.73 sec. Users per second: 1600\n"
     ]
    },
    {
     "name": "stderr",
     "output_type": "stream",
     "text": [
      "Best trial: 0. Best value: 0.240484:  30%|███       | 15/50 [00:56<02:11,  3.74s/it]"
     ]
    },
    {
     "name": "stdout",
     "output_type": "stream",
     "text": [
      "[I 2023-07-31 05:16:33,148] Trial 14 finished with value: 0.24048367348205787 and parameters: {'n_items_to_rank': 298}. Best is trial 0 with value: 0.24048367348205787.\n",
      "EvaluatorHoldout: Processed 5961 (100.0%) in 3.71 sec. Users per second: 1605\n"
     ]
    },
    {
     "name": "stderr",
     "output_type": "stream",
     "text": [
      "Best trial: 0. Best value: 0.240484:  32%|███▏      | 16/50 [00:59<02:07,  3.74s/it]"
     ]
    },
    {
     "name": "stdout",
     "output_type": "stream",
     "text": [
      "[I 2023-07-31 05:16:36,883] Trial 15 finished with value: 0.24048367348205787 and parameters: {'n_items_to_rank': 61}. Best is trial 0 with value: 0.24048367348205787.\n",
      "EvaluatorHoldout: Processed 5961 (100.0%) in 3.72 sec. Users per second: 1603\n"
     ]
    },
    {
     "name": "stderr",
     "output_type": "stream",
     "text": [
      "Best trial: 0. Best value: 0.240484:  34%|███▍      | 17/50 [01:03<02:03,  3.74s/it]"
     ]
    },
    {
     "name": "stdout",
     "output_type": "stream",
     "text": [
      "[I 2023-07-31 05:16:40,622] Trial 16 finished with value: 0.24048367348205787 and parameters: {'n_items_to_rank': 106}. Best is trial 0 with value: 0.24048367348205787.\n",
      "EvaluatorHoldout: Processed 5961 (100.0%) in 3.73 sec. Users per second: 1597\n"
     ]
    },
    {
     "name": "stderr",
     "output_type": "stream",
     "text": [
      "Best trial: 0. Best value: 0.240484:  36%|███▌      | 18/50 [01:07<01:59,  3.74s/it]"
     ]
    },
    {
     "name": "stdout",
     "output_type": "stream",
     "text": [
      "[I 2023-07-31 05:16:44,375] Trial 17 finished with value: 0.24048367348205787 and parameters: {'n_items_to_rank': 288}. Best is trial 0 with value: 0.24048367348205787.\n",
      "EvaluatorHoldout: Processed 5961 (100.0%) in 3.70 sec. Users per second: 1609\n"
     ]
    },
    {
     "name": "stderr",
     "output_type": "stream",
     "text": [
      "Best trial: 0. Best value: 0.240484:  38%|███▊      | 19/50 [01:11<01:55,  3.74s/it]"
     ]
    },
    {
     "name": "stdout",
     "output_type": "stream",
     "text": [
      "[I 2023-07-31 05:16:48,101] Trial 18 finished with value: 0.24048367348205787 and parameters: {'n_items_to_rank': 339}. Best is trial 0 with value: 0.24048367348205787.\n",
      "EvaluatorHoldout: Processed 5961 (100.0%) in 3.73 sec. Users per second: 1599\n"
     ]
    },
    {
     "name": "stderr",
     "output_type": "stream",
     "text": [
      "Best trial: 0. Best value: 0.240484:  40%|████      | 20/50 [01:14<01:52,  3.74s/it]"
     ]
    },
    {
     "name": "stdout",
     "output_type": "stream",
     "text": [
      "[I 2023-07-31 05:16:51,851] Trial 19 finished with value: 0.24048367348205787 and parameters: {'n_items_to_rank': 316}. Best is trial 0 with value: 0.24048367348205787.\n",
      "EvaluatorHoldout: Processed 5961 (100.0%) in 3.75 sec. Users per second: 1589\n"
     ]
    },
    {
     "name": "stderr",
     "output_type": "stream",
     "text": [
      "Best trial: 0. Best value: 0.240484:  42%|████▏     | 21/50 [01:18<01:48,  3.75s/it]"
     ]
    },
    {
     "name": "stdout",
     "output_type": "stream",
     "text": [
      "[I 2023-07-31 05:16:55,627] Trial 20 finished with value: 0.24048367348205787 and parameters: {'n_items_to_rank': 148}. Best is trial 0 with value: 0.24048367348205787.\n",
      "EvaluatorHoldout: Processed 5961 (100.0%) in 3.74 sec. Users per second: 1593\n"
     ]
    },
    {
     "name": "stderr",
     "output_type": "stream",
     "text": [
      "Best trial: 0. Best value: 0.240484:  44%|████▍     | 22/50 [01:22<01:45,  3.76s/it]"
     ]
    },
    {
     "name": "stdout",
     "output_type": "stream",
     "text": [
      "[I 2023-07-31 05:16:59,391] Trial 21 finished with value: 0.24048367348205787 and parameters: {'n_items_to_rank': 108}. Best is trial 0 with value: 0.24048367348205787.\n",
      "EvaluatorHoldout: Processed 5961 (100.0%) in 3.74 sec. Users per second: 1592\n"
     ]
    },
    {
     "name": "stderr",
     "output_type": "stream",
     "text": [
      "Best trial: 0. Best value: 0.240484:  46%|████▌     | 23/50 [01:26<01:41,  3.76s/it]"
     ]
    },
    {
     "name": "stdout",
     "output_type": "stream",
     "text": [
      "[I 2023-07-31 05:17:03,158] Trial 22 finished with value: 0.24048367348205787 and parameters: {'n_items_to_rank': 78}. Best is trial 0 with value: 0.24048367348205787.\n",
      "EvaluatorHoldout: Processed 5961 (100.0%) in 3.72 sec. Users per second: 1601\n"
     ]
    },
    {
     "name": "stderr",
     "output_type": "stream",
     "text": [
      "Best trial: 0. Best value: 0.240484:  48%|████▊     | 24/50 [01:29<01:37,  3.76s/it]"
     ]
    },
    {
     "name": "stdout",
     "output_type": "stream",
     "text": [
      "[I 2023-07-31 05:17:06,903] Trial 23 finished with value: 0.24048367348205787 and parameters: {'n_items_to_rank': 280}. Best is trial 0 with value: 0.24048367348205787.\n",
      "EvaluatorHoldout: Processed 5961 (100.0%) in 3.74 sec. Users per second: 1595\n"
     ]
    },
    {
     "name": "stderr",
     "output_type": "stream",
     "text": [
      "Best trial: 0. Best value: 0.240484:  50%|█████     | 25/50 [01:33<01:33,  3.76s/it]"
     ]
    },
    {
     "name": "stdout",
     "output_type": "stream",
     "text": [
      "[I 2023-07-31 05:17:10,666] Trial 24 finished with value: 0.24048367348205787 and parameters: {'n_items_to_rank': 63}. Best is trial 0 with value: 0.24048367348205787.\n",
      "EvaluatorHoldout: Processed 5961 (100.0%) in 3.72 sec. Users per second: 1602\n"
     ]
    },
    {
     "name": "stderr",
     "output_type": "stream",
     "text": [
      "Best trial: 0. Best value: 0.240484:  52%|█████▏    | 26/50 [01:37<01:30,  3.75s/it]"
     ]
    },
    {
     "name": "stdout",
     "output_type": "stream",
     "text": [
      "[I 2023-07-31 05:17:14,412] Trial 25 finished with value: 0.24048367348205787 and parameters: {'n_items_to_rank': 99}. Best is trial 0 with value: 0.24048367348205787.\n",
      "EvaluatorHoldout: Processed 5961 (100.0%) in 3.72 sec. Users per second: 1605\n"
     ]
    },
    {
     "name": "stderr",
     "output_type": "stream",
     "text": [
      "Best trial: 0. Best value: 0.240484:  54%|█████▍    | 27/50 [01:41<01:26,  3.75s/it]"
     ]
    },
    {
     "name": "stdout",
     "output_type": "stream",
     "text": [
      "[I 2023-07-31 05:17:18,151] Trial 26 finished with value: 0.24048367348205787 and parameters: {'n_items_to_rank': 72}. Best is trial 0 with value: 0.24048367348205787.\n",
      "EvaluatorHoldout: Processed 5961 (100.0%) in 3.71 sec. Users per second: 1607\n"
     ]
    },
    {
     "name": "stderr",
     "output_type": "stream",
     "text": [
      "Best trial: 0. Best value: 0.240484:  56%|█████▌    | 28/50 [01:44<01:23,  3.78s/it]"
     ]
    },
    {
     "name": "stdout",
     "output_type": "stream",
     "text": [
      "[I 2023-07-31 05:17:21,989] Trial 27 finished with value: 0.24048367348205787 and parameters: {'n_items_to_rank': 141}. Best is trial 0 with value: 0.24048367348205787.\n",
      "EvaluatorHoldout: Processed 5961 (100.0%) in 3.73 sec. Users per second: 1597\n"
     ]
    },
    {
     "name": "stderr",
     "output_type": "stream",
     "text": [
      "Best trial: 0. Best value: 0.240484:  58%|█████▊    | 29/50 [01:48<01:19,  3.77s/it]"
     ]
    },
    {
     "name": "stdout",
     "output_type": "stream",
     "text": [
      "[I 2023-07-31 05:17:25,745] Trial 28 finished with value: 0.24048367348205787 and parameters: {'n_items_to_rank': 173}. Best is trial 0 with value: 0.24048367348205787.\n",
      "EvaluatorHoldout: Processed 5961 (100.0%) in 3.72 sec. Users per second: 1603\n"
     ]
    },
    {
     "name": "stderr",
     "output_type": "stream",
     "text": [
      "Best trial: 0. Best value: 0.240484:  60%|██████    | 30/50 [01:52<01:15,  3.76s/it]"
     ]
    },
    {
     "name": "stdout",
     "output_type": "stream",
     "text": [
      "[I 2023-07-31 05:17:29,489] Trial 29 finished with value: 0.24048367348205787 and parameters: {'n_items_to_rank': 170}. Best is trial 0 with value: 0.24048367348205787.\n",
      "EvaluatorHoldout: Processed 5961 (100.0%) in 3.73 sec. Users per second: 1600\n"
     ]
    },
    {
     "name": "stderr",
     "output_type": "stream",
     "text": [
      "Best trial: 0. Best value: 0.240484:  62%|██████▏   | 31/50 [01:56<01:11,  3.76s/it]"
     ]
    },
    {
     "name": "stdout",
     "output_type": "stream",
     "text": [
      "[I 2023-07-31 05:17:33,240] Trial 30 finished with value: 0.24048367348205787 and parameters: {'n_items_to_rank': 304}. Best is trial 0 with value: 0.24048367348205787.\n",
      "EvaluatorHoldout: Processed 5961 (100.0%) in 3.71 sec. Users per second: 1607\n"
     ]
    },
    {
     "name": "stderr",
     "output_type": "stream",
     "text": [
      "Best trial: 0. Best value: 0.240484:  64%|██████▍   | 32/50 [01:59<01:07,  3.75s/it]"
     ]
    },
    {
     "name": "stdout",
     "output_type": "stream",
     "text": [
      "[I 2023-07-31 05:17:36,976] Trial 31 finished with value: 0.24048367348205787 and parameters: {'n_items_to_rank': 235}. Best is trial 0 with value: 0.24048367348205787.\n",
      "EvaluatorHoldout: Processed 5961 (100.0%) in 3.73 sec. Users per second: 1598\n"
     ]
    },
    {
     "name": "stderr",
     "output_type": "stream",
     "text": [
      "Best trial: 0. Best value: 0.240484:  66%|██████▌   | 33/50 [02:03<01:03,  3.75s/it]"
     ]
    },
    {
     "name": "stdout",
     "output_type": "stream",
     "text": [
      "[I 2023-07-31 05:17:40,733] Trial 32 finished with value: 0.24048367348205787 and parameters: {'n_items_to_rank': 87}. Best is trial 0 with value: 0.24048367348205787.\n",
      "EvaluatorHoldout: Processed 5961 (100.0%) in 3.73 sec. Users per second: 1599\n"
     ]
    },
    {
     "name": "stderr",
     "output_type": "stream",
     "text": [
      "Best trial: 0. Best value: 0.240484:  68%|██████▊   | 34/50 [02:07<01:00,  3.75s/it]"
     ]
    },
    {
     "name": "stdout",
     "output_type": "stream",
     "text": [
      "[I 2023-07-31 05:17:44,487] Trial 33 finished with value: 0.24048367348205787 and parameters: {'n_items_to_rank': 294}. Best is trial 0 with value: 0.24048367348205787.\n",
      "EvaluatorHoldout: Processed 5961 (100.0%) in 3.72 sec. Users per second: 1602\n"
     ]
    },
    {
     "name": "stderr",
     "output_type": "stream",
     "text": [
      "Best trial: 0. Best value: 0.240484:  70%|███████   | 35/50 [02:11<00:56,  3.75s/it]"
     ]
    },
    {
     "name": "stdout",
     "output_type": "stream",
     "text": [
      "[I 2023-07-31 05:17:48,232] Trial 34 finished with value: 0.24048367348205787 and parameters: {'n_items_to_rank': 161}. Best is trial 0 with value: 0.24048367348205787.\n",
      "EvaluatorHoldout: Processed 5961 (100.0%) in 3.74 sec. Users per second: 1592\n"
     ]
    },
    {
     "name": "stderr",
     "output_type": "stream",
     "text": [
      "Best trial: 0. Best value: 0.240484:  72%|███████▏  | 36/50 [02:15<00:52,  3.76s/it]"
     ]
    },
    {
     "name": "stdout",
     "output_type": "stream",
     "text": [
      "[I 2023-07-31 05:17:52,003] Trial 35 finished with value: 0.24048367348205787 and parameters: {'n_items_to_rank': 89}. Best is trial 0 with value: 0.24048367348205787.\n",
      "EvaluatorHoldout: Processed 5961 (100.0%) in 3.73 sec. Users per second: 1600\n"
     ]
    },
    {
     "name": "stderr",
     "output_type": "stream",
     "text": [
      "Best trial: 0. Best value: 0.240484:  74%|███████▍  | 37/50 [02:18<00:48,  3.76s/it]"
     ]
    },
    {
     "name": "stdout",
     "output_type": "stream",
     "text": [
      "[I 2023-07-31 05:17:55,756] Trial 36 finished with value: 0.24048367348205787 and parameters: {'n_items_to_rank': 157}. Best is trial 0 with value: 0.24048367348205787.\n",
      "EvaluatorHoldout: Processed 5961 (100.0%) in 3.70 sec. Users per second: 1613\n"
     ]
    },
    {
     "name": "stderr",
     "output_type": "stream",
     "text": [
      "Best trial: 0. Best value: 0.240484:  76%|███████▌  | 38/50 [02:22<00:44,  3.75s/it]"
     ]
    },
    {
     "name": "stdout",
     "output_type": "stream",
     "text": [
      "[I 2023-07-31 05:17:59,479] Trial 37 finished with value: 0.24048367348205787 and parameters: {'n_items_to_rank': 168}. Best is trial 0 with value: 0.24048367348205787.\n",
      "EvaluatorHoldout: Processed 5961 (100.0%) in 3.72 sec. Users per second: 1603\n"
     ]
    },
    {
     "name": "stderr",
     "output_type": "stream",
     "text": [
      "Best trial: 0. Best value: 0.240484:  78%|███████▊  | 39/50 [02:26<00:41,  3.75s/it]"
     ]
    },
    {
     "name": "stdout",
     "output_type": "stream",
     "text": [
      "[I 2023-07-31 05:18:03,226] Trial 38 finished with value: 0.24048367348205787 and parameters: {'n_items_to_rank': 83}. Best is trial 0 with value: 0.24048367348205787.\n",
      "EvaluatorHoldout: Processed 5961 (100.0%) in 3.73 sec. Users per second: 1597\n"
     ]
    },
    {
     "name": "stderr",
     "output_type": "stream",
     "text": [
      "Best trial: 0. Best value: 0.240484:  80%|████████  | 40/50 [02:29<00:37,  3.75s/it]"
     ]
    },
    {
     "name": "stdout",
     "output_type": "stream",
     "text": [
      "[I 2023-07-31 05:18:06,986] Trial 39 finished with value: 0.24048367348205787 and parameters: {'n_items_to_rank': 219}. Best is trial 0 with value: 0.24048367348205787.\n",
      "EvaluatorHoldout: Processed 5961 (100.0%) in 3.71 sec. Users per second: 1605\n"
     ]
    },
    {
     "name": "stderr",
     "output_type": "stream",
     "text": [
      "Best trial: 0. Best value: 0.240484:  82%|████████▏ | 41/50 [02:33<00:33,  3.75s/it]"
     ]
    },
    {
     "name": "stdout",
     "output_type": "stream",
     "text": [
      "[I 2023-07-31 05:18:10,726] Trial 40 finished with value: 0.24048367348205787 and parameters: {'n_items_to_rank': 231}. Best is trial 0 with value: 0.24048367348205787.\n",
      "EvaluatorHoldout: Processed 5961 (100.0%) in 3.75 sec. Users per second: 1588\n"
     ]
    },
    {
     "name": "stderr",
     "output_type": "stream",
     "text": [
      "Best trial: 0. Best value: 0.240484:  84%|████████▍ | 42/50 [02:37<00:30,  3.76s/it]"
     ]
    },
    {
     "name": "stdout",
     "output_type": "stream",
     "text": [
      "[I 2023-07-31 05:18:14,508] Trial 41 finished with value: 0.24048367348205787 and parameters: {'n_items_to_rank': 184}. Best is trial 0 with value: 0.24048367348205787.\n",
      "EvaluatorHoldout: Processed 5961 (100.0%) in 3.76 sec. Users per second: 1587\n"
     ]
    },
    {
     "name": "stderr",
     "output_type": "stream",
     "text": [
      "Best trial: 0. Best value: 0.240484:  86%|████████▌ | 43/50 [02:41<00:26,  3.77s/it]"
     ]
    },
    {
     "name": "stdout",
     "output_type": "stream",
     "text": [
      "[I 2023-07-31 05:18:18,293] Trial 42 finished with value: 0.24048367348205787 and parameters: {'n_items_to_rank': 345}. Best is trial 0 with value: 0.24048367348205787.\n",
      "EvaluatorHoldout: Processed 5961 (100.0%) in 3.73 sec. Users per second: 1600\n"
     ]
    },
    {
     "name": "stderr",
     "output_type": "stream",
     "text": [
      "Best trial: 0. Best value: 0.240484:  88%|████████▊ | 44/50 [02:45<00:22,  3.76s/it]"
     ]
    },
    {
     "name": "stdout",
     "output_type": "stream",
     "text": [
      "[I 2023-07-31 05:18:22,050] Trial 43 finished with value: 0.24048367348205787 and parameters: {'n_items_to_rank': 227}. Best is trial 0 with value: 0.24048367348205787.\n",
      "EvaluatorHoldout: Processed 5961 (100.0%) in 3.71 sec. Users per second: 1607\n"
     ]
    },
    {
     "name": "stderr",
     "output_type": "stream",
     "text": [
      "Best trial: 0. Best value: 0.240484:  90%|█████████ | 45/50 [02:48<00:18,  3.76s/it]"
     ]
    },
    {
     "name": "stdout",
     "output_type": "stream",
     "text": [
      "[I 2023-07-31 05:18:25,791] Trial 44 finished with value: 0.24048367348205787 and parameters: {'n_items_to_rank': 321}. Best is trial 0 with value: 0.24048367348205787.\n",
      "EvaluatorHoldout: Processed 5961 (100.0%) in 3.74 sec. Users per second: 1593\n"
     ]
    },
    {
     "name": "stderr",
     "output_type": "stream",
     "text": [
      "Best trial: 0. Best value: 0.240484:  92%|█████████▏| 46/50 [02:52<00:15,  3.79s/it]"
     ]
    },
    {
     "name": "stdout",
     "output_type": "stream",
     "text": [
      "[I 2023-07-31 05:18:29,664] Trial 45 finished with value: 0.24048367348205787 and parameters: {'n_items_to_rank': 56}. Best is trial 0 with value: 0.24048367348205787.\n",
      "EvaluatorHoldout: Processed 5961 (100.0%) in 3.75 sec. Users per second: 1588\n"
     ]
    },
    {
     "name": "stderr",
     "output_type": "stream",
     "text": [
      "Best trial: 0. Best value: 0.240484:  94%|█████████▍| 47/50 [02:56<00:11,  3.79s/it]"
     ]
    },
    {
     "name": "stdout",
     "output_type": "stream",
     "text": [
      "[I 2023-07-31 05:18:33,450] Trial 46 finished with value: 0.24048367348205787 and parameters: {'n_items_to_rank': 178}. Best is trial 0 with value: 0.24048367348205787.\n",
      "EvaluatorHoldout: Processed 5961 (100.0%) in 3.72 sec. Users per second: 1603\n"
     ]
    },
    {
     "name": "stderr",
     "output_type": "stream",
     "text": [
      "Best trial: 0. Best value: 0.240484:  96%|█████████▌| 48/50 [03:00<00:07,  3.78s/it]"
     ]
    },
    {
     "name": "stdout",
     "output_type": "stream",
     "text": [
      "[I 2023-07-31 05:18:37,198] Trial 47 finished with value: 0.24048367348205787 and parameters: {'n_items_to_rank': 175}. Best is trial 0 with value: 0.24048367348205787.\n",
      "EvaluatorHoldout: Processed 5961 (100.0%) in 3.73 sec. Users per second: 1599\n"
     ]
    },
    {
     "name": "stderr",
     "output_type": "stream",
     "text": [
      "Best trial: 0. Best value: 0.240484:  98%|█████████▊| 49/50 [03:03<00:03,  3.77s/it]"
     ]
    },
    {
     "name": "stdout",
     "output_type": "stream",
     "text": [
      "[I 2023-07-31 05:18:40,956] Trial 48 finished with value: 0.24048367348205787 and parameters: {'n_items_to_rank': 286}. Best is trial 0 with value: 0.24048367348205787.\n",
      "EvaluatorHoldout: Processed 5961 (100.0%) in 3.75 sec. Users per second: 1589\n"
     ]
    },
    {
     "name": "stderr",
     "output_type": "stream",
     "text": [
      "Best trial: 0. Best value: 0.240484: 100%|██████████| 50/50 [03:07<00:00,  3.75s/it]"
     ]
    },
    {
     "name": "stdout",
     "output_type": "stream",
     "text": [
      "[I 2023-07-31 05:18:44,739] Trial 49 finished with value: 0.24048367348205787 and parameters: {'n_items_to_rank': 340}. Best is trial 0 with value: 0.24048367348205787.\n",
      "Recommender_Base_Class: URM Detected 194 ( 5.0%) items with no interactions.\n"
     ]
    },
    {
     "name": "stderr",
     "output_type": "stream",
     "text": [
      "\n"
     ]
    },
    {
     "name": "stdout",
     "output_type": "stream",
     "text": [
      "EvaluatorHoldout: Processed 5976 (100.0%) in 3.94 sec. Users per second: 1516\n"
     ]
    }
   ],
   "source": [
    "from datetime import datetime\n",
    "from RecommenderLuca.TwoLevelRec import TwoLevelRec\n",
    "\n",
    "inference_timesteps = {1,5,25,50}\n",
    "recommenders_instances = {itemKNN_instance, slim_elastic_instance, matrix_fact_instance}\n",
    "recommenders_instances_test = {itemKNN_instance_test, slim_elastic_instance_test, matrix_fact_instance_test}\n",
    "\n",
    "print(recommenders_instance for recommenders_instance in recommenders_instances)\n",
    "\n",
    "today_date = datetime.now().strftime('%Y-%m-%d %H:%M:%S')\n",
    "\n",
    "\n",
    "for inference_timestep in inference_timesteps:\n",
    "    auto_diffusion_instance.inference_timesteps = inference_timestep\n",
    "    auto_diffusion_instance_test.inference_timesteps = inference_timestep\n",
    "    two_level_rec = TwoLevelRec(URM_train=URM_train, recommender1= auto_diffusion_instance, recommender2=itemKNN_instance, max_cutoff=max(cutoff_list))\n",
    "    for cutoff in cutoff_list:\n",
    "        # Define the hyperparameter space\n",
    "        two_level_rec_hyperparam_space = {\n",
    "            \"n_items_to_rank\": list(range(cutoff, 300+cutoff)),\n",
    "        }\n",
    "        for traditional_rec,traditional_rec_test in zip(recommenders_instances, recommenders_instances_test):\n",
    "            two_level_rec.set_rec2(traditional_rec)\n",
    "             # Create the directory with today's date\n",
    "            directory_path = os.path.join('/Users/lucaortolomo/Desktop/TESI/Thesis_DiffusionRecommender-main/experiment_data', today_date,'cutoff_'+str(cutoff), str(inference_timestep))\n",
    "            os.makedirs(directory_path, exist_ok=True)\n",
    "            \n",
    "            print(traditional_rec.RECOMMENDER_NAME)\n",
    "            \n",
    "            print(two_level_rec.RECOMMENDER_NAME)\n",
    "\n",
    "           \n",
    "\n",
    "            # Create an objective function\n",
    "            objective = create_objective_d(recommender_instance=two_level_rec, URM_train= URM_train, URM_validation=URM_validation, hyperparam_space=two_level_rec_hyperparam_space, evaluator_validation=evaluator_validation, cutoff = cutoff, directory_path=directory_path)\n",
    "\n",
    "            # Create the study and run optimization\n",
    "            study = optuna.create_study(direction=\"maximize\")\n",
    "            study.optimize(objective, n_trials=50,show_progress_bar=True)\n",
    "            \n",
    "            two_level_rec1 = TwoLevelRec(URM_train=URM_train+URM_validation, recommender1= auto_diffusion_instance_test, recommender2=traditional_rec_test, max_cutoff=max(cutoff_list))\n",
    "            two_level_rec1.fit(** study.best_params)\n",
    "            filename = \"best_models_last_\" + str(inference_timestep) + \"_timesteps\" + \".csv\"\n",
    "            filename = os.path.join(directory_path, filename)\n",
    "            filename2 = auto_diffusion_instance.RECOMMENDER_NAME + \"_\" + traditional_rec.RECOMMENDER_NAME + \"_\" + str(inference_timestep)\n",
    "            filename2 = os.path.join(directory_path, filename2)\n",
    "            result_df, _ = evaluator_test.evaluateRecommender(two_level_rec1)\n",
    "            result_df[\"RECOMMENDER\"] = two_level_rec1.RECOMMENDER_NAME\n",
    "            result_df[\"PARAMS\"] = str(study.best_params)\n",
    "\n",
    "            \n",
    "            # Check if file exists\n",
    "            if os.path.isfile(filename):\n",
    "                # If it exists, append without writing the header\n",
    "                pd.DataFrame(result_df.loc[10]).transpose().to_csv(filename, mode='a', header=False, index=False)\n",
    "            else:\n",
    "                # If it doesn't exist, create it, write the header\n",
    "                pd.DataFrame(result_df.loc[10]).transpose().to_csv(filename, mode='w', header=True, index=False)\n",
    "\n",
    "        "
   ]
  },
  {
   "cell_type": "code",
   "execution_count": 16,
   "metadata": {},
   "outputs": [
    {
     "name": "stdout",
     "output_type": "stream",
     "text": [
      "<generator object <genexpr> at 0x7f78ebbe6660>\n",
      "Recommender_Base_Class: URM Detected 211 ( 5.4%) items with no interactions.\n"
     ]
    },
    {
     "name": "stderr",
     "output_type": "stream",
     "text": [
      "[I 2023-07-31 08:40:58,847] A new study created in memory with name: no-name-c0f50e73-1c0b-443f-9ce3-de86f5c402fa\n",
      "  0%|          | 0/50 [00:00<?, ?it/s]"
     ]
    },
    {
     "name": "stdout",
     "output_type": "stream",
     "text": [
      "SLIMElasticNetRecommender\n",
      "SLIMElasticNetRecommender_DiffusionAutoencoderRecommender_TwoLevelRec\n",
      "EvaluatorHoldout: Processed 5961 (100.0%) in 4.98 sec. Users per second: 1197\n"
     ]
    },
    {
     "name": "stderr",
     "output_type": "stream",
     "text": [
      "Best trial: 0. Best value: 0.218367:   2%|▏         | 1/50 [00:05<04:05,  5.00s/it]"
     ]
    },
    {
     "name": "stdout",
     "output_type": "stream",
     "text": [
      "[I 2023-07-31 08:41:03,849] Trial 0 finished with value: 0.21836671141447161 and parameters: {'n_items_to_rank': 285}. Best is trial 0 with value: 0.21836671141447161.\n",
      "EvaluatorHoldout: Processed 5961 (100.0%) in 4.88 sec. Users per second: 1222\n"
     ]
    },
    {
     "name": "stderr",
     "output_type": "stream",
     "text": [
      "Best trial: 1. Best value: 0.21903:   4%|▍         | 2/50 [00:09<03:57,  4.94s/it] "
     ]
    },
    {
     "name": "stdout",
     "output_type": "stream",
     "text": [
      "[I 2023-07-31 08:41:08,743] Trial 1 finished with value: 0.2190298298298961 and parameters: {'n_items_to_rank': 179}. Best is trial 1 with value: 0.2190298298298961.\n",
      "EvaluatorHoldout: Processed 5961 (100.0%) in 4.85 sec. Users per second: 1230\n"
     ]
    },
    {
     "name": "stderr",
     "output_type": "stream",
     "text": [
      "Best trial: 1. Best value: 0.21903:   6%|▌         | 3/50 [00:14<03:50,  4.90s/it]"
     ]
    },
    {
     "name": "stdout",
     "output_type": "stream",
     "text": [
      "[I 2023-07-31 08:41:13,604] Trial 2 finished with value: 0.21895275768093295 and parameters: {'n_items_to_rank': 182}. Best is trial 1 with value: 0.2190298298298961.\n",
      "EvaluatorHoldout: Processed 5961 (100.0%) in 4.84 sec. Users per second: 1232\n"
     ]
    },
    {
     "name": "stderr",
     "output_type": "stream",
     "text": [
      "Best trial: 1. Best value: 0.21903:   8%|▊         | 4/50 [00:19<03:44,  4.89s/it]"
     ]
    },
    {
     "name": "stdout",
     "output_type": "stream",
     "text": [
      "[I 2023-07-31 08:41:18,462] Trial 3 finished with value: 0.21844272266259104 and parameters: {'n_items_to_rank': 237}. Best is trial 1 with value: 0.2190298298298961.\n",
      "EvaluatorHoldout: Processed 5961 (100.0%) in 4.81 sec. Users per second: 1238\n"
     ]
    },
    {
     "name": "stderr",
     "output_type": "stream",
     "text": [
      "Best trial: 1. Best value: 0.21903:  10%|█         | 5/50 [00:24<03:38,  4.87s/it]"
     ]
    },
    {
     "name": "stdout",
     "output_type": "stream",
     "text": [
      "[I 2023-07-31 08:41:23,294] Trial 4 finished with value: 0.21899307233501134 and parameters: {'n_items_to_rank': 124}. Best is trial 1 with value: 0.2190298298298961.\n",
      "EvaluatorHoldout: Processed 5961 (100.0%) in 4.81 sec. Users per second: 1240\n"
     ]
    },
    {
     "name": "stderr",
     "output_type": "stream",
     "text": [
      "Best trial: 5. Best value: 0.224251:  12%|█▏        | 6/50 [00:29<03:33,  4.85s/it]"
     ]
    },
    {
     "name": "stdout",
     "output_type": "stream",
     "text": [
      "[I 2023-07-31 08:41:28,120] Trial 5 finished with value: 0.22425146571551743 and parameters: {'n_items_to_rank': 19}. Best is trial 5 with value: 0.22425146571551743.\n",
      "EvaluatorHoldout: Processed 5961 (100.0%) in 4.85 sec. Users per second: 1229\n"
     ]
    },
    {
     "name": "stderr",
     "output_type": "stream",
     "text": [
      "Best trial: 5. Best value: 0.224251:  14%|█▍        | 7/50 [00:34<03:28,  4.86s/it]"
     ]
    },
    {
     "name": "stdout",
     "output_type": "stream",
     "text": [
      "[I 2023-07-31 08:41:32,987] Trial 6 finished with value: 0.2189202346837773 and parameters: {'n_items_to_rank': 140}. Best is trial 5 with value: 0.22425146571551743.\n",
      "EvaluatorHoldout: Processed 5961 (100.0%) in 4.97 sec. Users per second: 1201\n"
     ]
    },
    {
     "name": "stderr",
     "output_type": "stream",
     "text": [
      "Best trial: 5. Best value: 0.224251:  16%|█▌        | 8/50 [00:39<03:25,  4.90s/it]"
     ]
    },
    {
     "name": "stdout",
     "output_type": "stream",
     "text": [
      "[I 2023-07-31 08:41:37,970] Trial 7 finished with value: 0.21877838411569805 and parameters: {'n_items_to_rank': 273}. Best is trial 5 with value: 0.22425146571551743.\n",
      "EvaluatorHoldout: Processed 5961 (100.0%) in 4.84 sec. Users per second: 1232\n"
     ]
    },
    {
     "name": "stderr",
     "output_type": "stream",
     "text": [
      "Best trial: 5. Best value: 0.224251:  18%|█▊        | 9/50 [00:43<03:20,  4.88s/it]"
     ]
    },
    {
     "name": "stdout",
     "output_type": "stream",
     "text": [
      "[I 2023-07-31 08:41:42,826] Trial 8 finished with value: 0.2184205572737347 and parameters: {'n_items_to_rank': 263}. Best is trial 5 with value: 0.22425146571551743.\n",
      "EvaluatorHoldout: Processed 5961 (100.0%) in 4.69 sec. Users per second: 1270\n"
     ]
    },
    {
     "name": "stderr",
     "output_type": "stream",
     "text": [
      "Best trial: 5. Best value: 0.224251:  20%|██        | 10/50 [00:48<03:13,  4.83s/it]"
     ]
    },
    {
     "name": "stdout",
     "output_type": "stream",
     "text": [
      "[I 2023-07-31 08:41:47,538] Trial 9 finished with value: 0.2201127791106894 and parameters: {'n_items_to_rank': 37}. Best is trial 5 with value: 0.22425146571551743.\n",
      "EvaluatorHoldout: Processed 5961 (100.0%) in 4.81 sec. Users per second: 1239\n"
     ]
    },
    {
     "name": "stderr",
     "output_type": "stream",
     "text": [
      "Best trial: 5. Best value: 0.224251:  22%|██▏       | 11/50 [00:53<03:08,  4.83s/it]"
     ]
    },
    {
     "name": "stdout",
     "output_type": "stream",
     "text": [
      "[I 2023-07-31 08:41:52,372] Trial 10 finished with value: 0.2201409224459808 and parameters: {'n_items_to_rank': 41}. Best is trial 5 with value: 0.22425146571551743.\n",
      "EvaluatorHoldout: Processed 5961 (100.0%) in 5.21 sec. Users per second: 1144\n"
     ]
    },
    {
     "name": "stderr",
     "output_type": "stream",
     "text": [
      "Best trial: 5. Best value: 0.224251:  24%|██▍       | 12/50 [00:58<03:08,  4.95s/it]"
     ]
    },
    {
     "name": "stdout",
     "output_type": "stream",
     "text": [
      "[I 2023-07-31 08:41:57,603] Trial 11 finished with value: 0.22145278125502696 and parameters: {'n_items_to_rank': 32}. Best is trial 5 with value: 0.22425146571551743.\n",
      "EvaluatorHoldout: Processed 5961 (100.0%) in 4.85 sec. Users per second: 1229\n"
     ]
    },
    {
     "name": "stderr",
     "output_type": "stream",
     "text": [
      "Best trial: 5. Best value: 0.224251:  26%|██▌       | 13/50 [01:03<03:02,  4.93s/it]"
     ]
    },
    {
     "name": "stdout",
     "output_type": "stream",
     "text": [
      "[I 2023-07-31 08:42:02,475] Trial 12 finished with value: 0.21898861611275483 and parameters: {'n_items_to_rank': 262}. Best is trial 5 with value: 0.22425146571551743.\n",
      "EvaluatorHoldout: Processed 5961 (100.0%) in 4.85 sec. Users per second: 1230\n"
     ]
    },
    {
     "name": "stderr",
     "output_type": "stream",
     "text": [
      "Best trial: 5. Best value: 0.224251:  28%|██▊       | 14/50 [01:08<02:58,  4.96s/it]"
     ]
    },
    {
     "name": "stdout",
     "output_type": "stream",
     "text": [
      "[I 2023-07-31 08:42:07,515] Trial 13 finished with value: 0.2191620986028144 and parameters: {'n_items_to_rank': 61}. Best is trial 5 with value: 0.22425146571551743.\n",
      "EvaluatorHoldout: Processed 5961 (100.0%) in 4.90 sec. Users per second: 1216\n"
     ]
    },
    {
     "name": "stderr",
     "output_type": "stream",
     "text": [
      "Best trial: 5. Best value: 0.224251:  30%|███       | 15/50 [01:13<02:53,  4.95s/it]"
     ]
    },
    {
     "name": "stdout",
     "output_type": "stream",
     "text": [
      "[I 2023-07-31 08:42:12,438] Trial 14 finished with value: 0.21895135330292342 and parameters: {'n_items_to_rank': 143}. Best is trial 5 with value: 0.22425146571551743.\n",
      "EvaluatorHoldout: Processed 5961 (100.0%) in 4.89 sec. Users per second: 1219\n"
     ]
    },
    {
     "name": "stderr",
     "output_type": "stream",
     "text": [
      "Best trial: 5. Best value: 0.224251:  32%|███▏      | 16/50 [01:18<02:47,  4.94s/it]"
     ]
    },
    {
     "name": "stdout",
     "output_type": "stream",
     "text": [
      "[I 2023-07-31 08:42:17,350] Trial 15 finished with value: 0.21889350967922272 and parameters: {'n_items_to_rank': 258}. Best is trial 5 with value: 0.22425146571551743.\n",
      "EvaluatorHoldout: Processed 5961 (100.0%) in 4.73 sec. Users per second: 1261\n"
     ]
    },
    {
     "name": "stderr",
     "output_type": "stream",
     "text": [
      "Best trial: 5. Best value: 0.224251:  34%|███▍      | 17/50 [01:23<02:41,  4.88s/it]"
     ]
    },
    {
     "name": "stdout",
     "output_type": "stream",
     "text": [
      "[I 2023-07-31 08:42:22,099] Trial 16 finished with value: 0.2198868598411298 and parameters: {'n_items_to_rank': 40}. Best is trial 5 with value: 0.22425146571551743.\n",
      "EvaluatorHoldout: Processed 5961 (100.0%) in 4.78 sec. Users per second: 1246\n"
     ]
    },
    {
     "name": "stderr",
     "output_type": "stream",
     "text": [
      "Best trial: 5. Best value: 0.224251:  36%|███▌      | 18/50 [01:28<02:35,  4.86s/it]"
     ]
    },
    {
     "name": "stdout",
     "output_type": "stream",
     "text": [
      "[I 2023-07-31 08:42:26,904] Trial 17 finished with value: 0.21870712794592923 and parameters: {'n_items_to_rank': 147}. Best is trial 5 with value: 0.22425146571551743.\n",
      "EvaluatorHoldout: Processed 5961 (100.0%) in 4.81 sec. Users per second: 1240\n"
     ]
    },
    {
     "name": "stderr",
     "output_type": "stream",
     "text": [
      "Best trial: 5. Best value: 0.224251:  38%|███▊      | 19/50 [01:32<02:30,  4.85s/it]"
     ]
    },
    {
     "name": "stdout",
     "output_type": "stream",
     "text": [
      "[I 2023-07-31 08:42:31,736] Trial 18 finished with value: 0.21855191326265594 and parameters: {'n_items_to_rank': 268}. Best is trial 5 with value: 0.22425146571551743.\n",
      "EvaluatorHoldout: Processed 5961 (100.0%) in 4.84 sec. Users per second: 1232\n"
     ]
    },
    {
     "name": "stderr",
     "output_type": "stream",
     "text": [
      "Best trial: 5. Best value: 0.224251:  40%|████      | 20/50 [01:37<02:25,  4.85s/it]"
     ]
    },
    {
     "name": "stdout",
     "output_type": "stream",
     "text": [
      "[I 2023-07-31 08:42:36,599] Trial 19 finished with value: 0.21876404793184745 and parameters: {'n_items_to_rank': 225}. Best is trial 5 with value: 0.22425146571551743.\n",
      "EvaluatorHoldout: Processed 5961 (100.0%) in 4.87 sec. Users per second: 1225\n"
     ]
    },
    {
     "name": "stderr",
     "output_type": "stream",
     "text": [
      "Best trial: 5. Best value: 0.224251:  42%|████▏     | 21/50 [01:42<02:21,  4.87s/it]"
     ]
    },
    {
     "name": "stdout",
     "output_type": "stream",
     "text": [
      "[I 2023-07-31 08:42:41,489] Trial 20 finished with value: 0.21905792631448834 and parameters: {'n_items_to_rank': 192}. Best is trial 5 with value: 0.22425146571551743.\n",
      "EvaluatorHoldout: Processed 5961 (100.0%) in 5.27 sec. Users per second: 1132\n"
     ]
    },
    {
     "name": "stderr",
     "output_type": "stream",
     "text": [
      "Best trial: 5. Best value: 0.224251:  44%|████▍     | 22/50 [01:47<02:19,  4.99s/it]"
     ]
    },
    {
     "name": "stdout",
     "output_type": "stream",
     "text": [
      "[I 2023-07-31 08:42:46,779] Trial 21 finished with value: 0.22109816060943566 and parameters: {'n_items_to_rank': 30}. Best is trial 5 with value: 0.22425146571551743.\n",
      "EvaluatorHoldout: Processed 5961 (100.0%) in 4.96 sec. Users per second: 1201\n"
     ]
    },
    {
     "name": "stderr",
     "output_type": "stream",
     "text": [
      "Best trial: 5. Best value: 0.224251:  46%|████▌     | 23/50 [01:52<02:14,  4.99s/it]"
     ]
    },
    {
     "name": "stdout",
     "output_type": "stream",
     "text": [
      "[I 2023-07-31 08:42:51,768] Trial 22 finished with value: 0.21883856503256277 and parameters: {'n_items_to_rank': 109}. Best is trial 5 with value: 0.22425146571551743.\n",
      "EvaluatorHoldout: Processed 5961 (100.0%) in 4.95 sec. Users per second: 1204\n"
     ]
    },
    {
     "name": "stderr",
     "output_type": "stream",
     "text": [
      "Best trial: 5. Best value: 0.224251:  48%|████▊     | 24/50 [01:57<02:09,  4.99s/it]"
     ]
    },
    {
     "name": "stdout",
     "output_type": "stream",
     "text": [
      "[I 2023-07-31 08:42:56,745] Trial 23 finished with value: 0.21873340120068732 and parameters: {'n_items_to_rank': 219}. Best is trial 5 with value: 0.22425146571551743.\n",
      "EvaluatorHoldout: Processed 5961 (100.0%) in 4.85 sec. Users per second: 1230\n"
     ]
    },
    {
     "name": "stderr",
     "output_type": "stream",
     "text": [
      "Best trial: 5. Best value: 0.224251:  50%|█████     | 25/50 [02:02<02:03,  4.95s/it]"
     ]
    },
    {
     "name": "stdout",
     "output_type": "stream",
     "text": [
      "[I 2023-07-31 08:43:01,623] Trial 24 finished with value: 0.21894505073770082 and parameters: {'n_items_to_rank': 276}. Best is trial 5 with value: 0.22425146571551743.\n",
      "EvaluatorHoldout: Processed 5961 (100.0%) in 4.80 sec. Users per second: 1242\n"
     ]
    },
    {
     "name": "stderr",
     "output_type": "stream",
     "text": [
      "Best trial: 5. Best value: 0.224251:  52%|█████▏    | 26/50 [02:07<01:57,  4.92s/it]"
     ]
    },
    {
     "name": "stdout",
     "output_type": "stream",
     "text": [
      "[I 2023-07-31 08:43:06,450] Trial 25 finished with value: 0.21919136716875734 and parameters: {'n_items_to_rank': 49}. Best is trial 5 with value: 0.22425146571551743.\n",
      "EvaluatorHoldout: Processed 5961 (100.0%) in 4.81 sec. Users per second: 1238\n"
     ]
    },
    {
     "name": "stderr",
     "output_type": "stream",
     "text": [
      "Best trial: 26. Best value: 0.224667:  54%|█████▍    | 27/50 [02:12<01:52,  4.89s/it]"
     ]
    },
    {
     "name": "stdout",
     "output_type": "stream",
     "text": [
      "[I 2023-07-31 08:43:11,286] Trial 26 finished with value: 0.2246672580222338 and parameters: {'n_items_to_rank': 19}. Best is trial 26 with value: 0.2246672580222338.\n",
      "EvaluatorHoldout: Processed 5961 (100.0%) in 4.77 sec. Users per second: 1249\n"
     ]
    },
    {
     "name": "stderr",
     "output_type": "stream",
     "text": [
      "Best trial: 26. Best value: 0.224667:  56%|█████▌    | 28/50 [02:17<01:46,  4.86s/it]"
     ]
    },
    {
     "name": "stdout",
     "output_type": "stream",
     "text": [
      "[I 2023-07-31 08:43:16,082] Trial 27 finished with value: 0.22369286928171736 and parameters: {'n_items_to_rank': 19}. Best is trial 26 with value: 0.2246672580222338.\n",
      "EvaluatorHoldout: Processed 5961 (100.0%) in 4.80 sec. Users per second: 1242\n"
     ]
    },
    {
     "name": "stderr",
     "output_type": "stream",
     "text": [
      "Best trial: 26. Best value: 0.224667:  58%|█████▊    | 29/50 [02:22<01:41,  4.85s/it]"
     ]
    },
    {
     "name": "stdout",
     "output_type": "stream",
     "text": [
      "[I 2023-07-31 08:43:20,909] Trial 28 finished with value: 0.21952134910448312 and parameters: {'n_items_to_rank': 178}. Best is trial 26 with value: 0.2246672580222338.\n",
      "EvaluatorHoldout: Processed 5961 (100.0%) in 4.83 sec. Users per second: 1235\n"
     ]
    },
    {
     "name": "stderr",
     "output_type": "stream",
     "text": [
      "Best trial: 26. Best value: 0.224667:  60%|██████    | 30/50 [02:26<01:37,  4.85s/it]"
     ]
    },
    {
     "name": "stdout",
     "output_type": "stream",
     "text": [
      "[I 2023-07-31 08:43:25,764] Trial 29 finished with value: 0.2184035903956269 and parameters: {'n_items_to_rank': 183}. Best is trial 26 with value: 0.2246672580222338.\n",
      "EvaluatorHoldout: Processed 5961 (100.0%) in 4.79 sec. Users per second: 1244\n"
     ]
    },
    {
     "name": "stderr",
     "output_type": "stream",
     "text": [
      "Best trial: 26. Best value: 0.224667:  62%|██████▏   | 31/50 [02:31<01:32,  4.84s/it]"
     ]
    },
    {
     "name": "stdout",
     "output_type": "stream",
     "text": [
      "[I 2023-07-31 08:43:30,583] Trial 30 finished with value: 0.21988565763285817 and parameters: {'n_items_to_rank': 34}. Best is trial 26 with value: 0.2246672580222338.\n",
      "EvaluatorHoldout: Processed 5961 (100.0%) in 5.07 sec. Users per second: 1175\n"
     ]
    },
    {
     "name": "stderr",
     "output_type": "stream",
     "text": [
      "Best trial: 26. Best value: 0.224667:  64%|██████▍   | 32/50 [02:36<01:28,  4.92s/it]"
     ]
    },
    {
     "name": "stdout",
     "output_type": "stream",
     "text": [
      "[I 2023-07-31 08:43:35,684] Trial 31 finished with value: 0.21816215491044377 and parameters: {'n_items_to_rank': 217}. Best is trial 26 with value: 0.2246672580222338.\n",
      "EvaluatorHoldout: Processed 5961 (100.0%) in 4.62 sec. Users per second: 1289\n"
     ]
    },
    {
     "name": "stderr",
     "output_type": "stream",
     "text": [
      "Best trial: 32. Best value: 0.225281:  66%|██████▌   | 33/50 [02:41<01:22,  4.84s/it]"
     ]
    },
    {
     "name": "stdout",
     "output_type": "stream",
     "text": [
      "[I 2023-07-31 08:43:40,332] Trial 32 finished with value: 0.22528120560212367 and parameters: {'n_items_to_rank': 13}. Best is trial 32 with value: 0.22528120560212367.\n",
      "EvaluatorHoldout: Processed 5961 (100.0%) in 4.81 sec. Users per second: 1240\n"
     ]
    },
    {
     "name": "stderr",
     "output_type": "stream",
     "text": [
      "Best trial: 32. Best value: 0.225281:  68%|██████▊   | 34/50 [02:46<01:17,  4.84s/it]"
     ]
    },
    {
     "name": "stdout",
     "output_type": "stream",
     "text": [
      "[I 2023-07-31 08:43:45,165] Trial 33 finished with value: 0.21929366471227557 and parameters: {'n_items_to_rank': 309}. Best is trial 32 with value: 0.22528120560212367.\n",
      "EvaluatorHoldout: Processed 5961 (100.0%) in 4.95 sec. Users per second: 1205\n"
     ]
    },
    {
     "name": "stderr",
     "output_type": "stream",
     "text": [
      "Best trial: 32. Best value: 0.225281:  70%|███████   | 35/50 [02:51<01:13,  4.88s/it]"
     ]
    },
    {
     "name": "stdout",
     "output_type": "stream",
     "text": [
      "[I 2023-07-31 08:43:50,137] Trial 34 finished with value: 0.22241848933907052 and parameters: {'n_items_to_rank': 23}. Best is trial 32 with value: 0.22528120560212367.\n",
      "EvaluatorHoldout: Processed 5961 (100.0%) in 4.85 sec. Users per second: 1228\n"
     ]
    },
    {
     "name": "stderr",
     "output_type": "stream",
     "text": [
      "Best trial: 32. Best value: 0.225281:  72%|███████▏  | 36/50 [02:56<01:08,  4.88s/it]"
     ]
    },
    {
     "name": "stdout",
     "output_type": "stream",
     "text": [
      "[I 2023-07-31 08:43:55,020] Trial 35 finished with value: 0.21919797491039072 and parameters: {'n_items_to_rank': 114}. Best is trial 32 with value: 0.22528120560212367.\n",
      "EvaluatorHoldout: Processed 5961 (100.0%) in 4.82 sec. Users per second: 1236\n"
     ]
    },
    {
     "name": "stderr",
     "output_type": "stream",
     "text": [
      "Best trial: 32. Best value: 0.225281:  74%|███████▍  | 37/50 [03:01<01:03,  4.87s/it]"
     ]
    },
    {
     "name": "stdout",
     "output_type": "stream",
     "text": [
      "[I 2023-07-31 08:43:59,868] Trial 36 finished with value: 0.22341722233094882 and parameters: {'n_items_to_rank': 19}. Best is trial 32 with value: 0.22528120560212367.\n",
      "EvaluatorHoldout: Processed 5961 (100.0%) in 4.84 sec. Users per second: 1233\n"
     ]
    },
    {
     "name": "stderr",
     "output_type": "stream",
     "text": [
      "Best trial: 32. Best value: 0.225281:  76%|███████▌  | 38/50 [03:05<00:58,  4.87s/it]"
     ]
    },
    {
     "name": "stdout",
     "output_type": "stream",
     "text": [
      "[I 2023-07-31 08:44:04,732] Trial 37 finished with value: 0.21877781950550104 and parameters: {'n_items_to_rank': 80}. Best is trial 32 with value: 0.22528120560212367.\n",
      "EvaluatorHoldout: Processed 5961 (100.0%) in 4.88 sec. Users per second: 1222\n"
     ]
    },
    {
     "name": "stderr",
     "output_type": "stream",
     "text": [
      "Best trial: 32. Best value: 0.225281:  78%|███████▊  | 39/50 [03:10<00:53,  4.88s/it]"
     ]
    },
    {
     "name": "stdout",
     "output_type": "stream",
     "text": [
      "[I 2023-07-31 08:44:09,636] Trial 38 finished with value: 0.2188598474723345 and parameters: {'n_items_to_rank': 199}. Best is trial 32 with value: 0.22528120560212367.\n",
      "EvaluatorHoldout: Processed 5961 (100.0%) in 4.68 sec. Users per second: 1275\n"
     ]
    },
    {
     "name": "stderr",
     "output_type": "stream",
     "text": [
      "Best trial: 39. Best value: 0.225872:  80%|████████  | 40/50 [03:15<00:48,  4.83s/it]"
     ]
    },
    {
     "name": "stdout",
     "output_type": "stream",
     "text": [
      "[I 2023-07-31 08:44:14,338] Trial 39 finished with value: 0.22587151469513575 and parameters: {'n_items_to_rank': 13}. Best is trial 39 with value: 0.22587151469513575.\n",
      "EvaluatorHoldout: Processed 5961 (100.0%) in 4.83 sec. Users per second: 1235\n"
     ]
    },
    {
     "name": "stderr",
     "output_type": "stream",
     "text": [
      "Best trial: 39. Best value: 0.225872:  82%|████████▏ | 41/50 [03:20<00:43,  4.84s/it]"
     ]
    },
    {
     "name": "stdout",
     "output_type": "stream",
     "text": [
      "[I 2023-07-31 08:44:19,196] Trial 40 finished with value: 0.21910442256806004 and parameters: {'n_items_to_rank': 306}. Best is trial 39 with value: 0.22587151469513575.\n",
      "EvaluatorHoldout: Processed 5961 (100.0%) in 4.84 sec. Users per second: 1233\n"
     ]
    },
    {
     "name": "stderr",
     "output_type": "stream",
     "text": [
      "Best trial: 39. Best value: 0.225872:  84%|████████▍ | 42/50 [03:25<00:38,  4.84s/it]"
     ]
    },
    {
     "name": "stdout",
     "output_type": "stream",
     "text": [
      "[I 2023-07-31 08:44:24,061] Trial 41 finished with value: 0.21866500321310153 and parameters: {'n_items_to_rank': 174}. Best is trial 39 with value: 0.22587151469513575.\n",
      "EvaluatorHoldout: Processed 5961 (100.0%) in 4.82 sec. Users per second: 1237\n"
     ]
    },
    {
     "name": "stderr",
     "output_type": "stream",
     "text": [
      "Best trial: 39. Best value: 0.225872:  86%|████████▌ | 43/50 [03:30<00:33,  4.85s/it]"
     ]
    },
    {
     "name": "stdout",
     "output_type": "stream",
     "text": [
      "[I 2023-07-31 08:44:28,912] Trial 42 finished with value: 0.21964054416794304 and parameters: {'n_items_to_rank': 60}. Best is trial 39 with value: 0.22587151469513575.\n",
      "EvaluatorHoldout: Processed 5961 (100.0%) in 4.82 sec. Users per second: 1237\n"
     ]
    },
    {
     "name": "stderr",
     "output_type": "stream",
     "text": [
      "Best trial: 39. Best value: 0.225872:  88%|████████▊ | 44/50 [03:34<00:29,  4.85s/it]"
     ]
    },
    {
     "name": "stdout",
     "output_type": "stream",
     "text": [
      "[I 2023-07-31 08:44:33,760] Trial 43 finished with value: 0.2241524073774531 and parameters: {'n_items_to_rank': 19}. Best is trial 39 with value: 0.22587151469513575.\n",
      "EvaluatorHoldout: Processed 5961 (100.0%) in 4.64 sec. Users per second: 1285\n"
     ]
    },
    {
     "name": "stderr",
     "output_type": "stream",
     "text": [
      "Best trial: 39. Best value: 0.225872:  90%|█████████ | 45/50 [03:39<00:23,  4.79s/it]"
     ]
    },
    {
     "name": "stdout",
     "output_type": "stream",
     "text": [
      "[I 2023-07-31 08:44:38,427] Trial 44 finished with value: 0.2255057016771406 and parameters: {'n_items_to_rank': 13}. Best is trial 39 with value: 0.22587151469513575.\n",
      "EvaluatorHoldout: Processed 5961 (100.0%) in 4.82 sec. Users per second: 1237\n"
     ]
    },
    {
     "name": "stderr",
     "output_type": "stream",
     "text": [
      "Best trial: 39. Best value: 0.225872:  92%|█████████▏| 46/50 [03:44<00:19,  4.81s/it]"
     ]
    },
    {
     "name": "stdout",
     "output_type": "stream",
     "text": [
      "[I 2023-07-31 08:44:43,272] Trial 45 finished with value: 0.21825973546109262 and parameters: {'n_items_to_rank': 253}. Best is trial 39 with value: 0.22587151469513575.\n",
      "EvaluatorHoldout: Processed 5961 (100.0%) in 4.83 sec. Users per second: 1235\n"
     ]
    },
    {
     "name": "stderr",
     "output_type": "stream",
     "text": [
      "Best trial: 39. Best value: 0.225872:  94%|█████████▍| 47/50 [03:49<00:14,  4.82s/it]"
     ]
    },
    {
     "name": "stdout",
     "output_type": "stream",
     "text": [
      "[I 2023-07-31 08:44:48,131] Trial 46 finished with value: 0.2195432733067745 and parameters: {'n_items_to_rank': 292}. Best is trial 39 with value: 0.22587151469513575.\n",
      "EvaluatorHoldout: Processed 5961 (100.0%) in 4.63 sec. Users per second: 1288\n"
     ]
    },
    {
     "name": "stderr",
     "output_type": "stream",
     "text": [
      "Best trial: 39. Best value: 0.225872:  96%|█████████▌| 48/50 [03:53<00:09,  4.77s/it]"
     ]
    },
    {
     "name": "stdout",
     "output_type": "stream",
     "text": [
      "[I 2023-07-31 08:44:52,788] Trial 47 finished with value: 0.2258570107549661 and parameters: {'n_items_to_rank': 13}. Best is trial 39 with value: 0.22587151469513575.\n",
      "EvaluatorHoldout: Processed 5961 (100.0%) in 4.62 sec. Users per second: 1289\n"
     ]
    },
    {
     "name": "stderr",
     "output_type": "stream",
     "text": [
      "Best trial: 39. Best value: 0.225872:  98%|█████████▊| 49/50 [03:58<00:04,  4.74s/it]"
     ]
    },
    {
     "name": "stdout",
     "output_type": "stream",
     "text": [
      "[I 2023-07-31 08:44:57,440] Trial 48 finished with value: 0.22581805252061576 and parameters: {'n_items_to_rank': 13}. Best is trial 39 with value: 0.22587151469513575.\n",
      "EvaluatorHoldout: Processed 5961 (100.0%) in 4.70 sec. Users per second: 1268\n"
     ]
    },
    {
     "name": "stderr",
     "output_type": "stream",
     "text": [
      "Best trial: 39. Best value: 0.225872: 100%|██████████| 50/50 [04:03<00:00,  4.87s/it]"
     ]
    },
    {
     "name": "stdout",
     "output_type": "stream",
     "text": [
      "[I 2023-07-31 08:45:02,171] Trial 49 finished with value: 0.22569542364608738 and parameters: {'n_items_to_rank': 13}. Best is trial 39 with value: 0.22587151469513575.\n",
      "Recommender_Base_Class: URM Detected 194 ( 5.0%) items with no interactions.\n"
     ]
    },
    {
     "name": "stderr",
     "output_type": "stream",
     "text": [
      "\n"
     ]
    },
    {
     "name": "stdout",
     "output_type": "stream",
     "text": [
      "EvaluatorHoldout: Processed 5976 (100.0%) in 25.20 sec. Users per second: 237\n",
      "SLIMElasticNetRecommender_DiffusionAutoencoderRecommender_TwoLevelRec\n",
      "IALSRecommender_DiffusionAutoencoderRecommender_TwoLevelRec\n",
      "Recommender_Base_Class: URM Detected 211 ( 5.4%) items with no interactions.\n"
     ]
    },
    {
     "name": "stderr",
     "output_type": "stream",
     "text": [
      "[I 2023-07-31 08:45:29,936] A new study created in memory with name: no-name-18932722-d189-4f8c-8f97-7015e536117f\n",
      "  0%|          | 0/50 [00:00<?, ?it/s]"
     ]
    },
    {
     "name": "stdout",
     "output_type": "stream",
     "text": [
      "ItemKNNCFRecommender\n",
      "ItemKNNCFRecommender_DiffusionAutoencoderRecommender_TwoLevelRec\n",
      "EvaluatorHoldout: Processed 5961 (100.0%) in 4.80 sec. Users per second: 1241\n"
     ]
    },
    {
     "name": "stderr",
     "output_type": "stream",
     "text": [
      "Best trial: 0. Best value: 0.214919:   2%|▏         | 1/50 [00:04<03:56,  4.82s/it]"
     ]
    },
    {
     "name": "stdout",
     "output_type": "stream",
     "text": [
      "[I 2023-07-31 08:45:34,755] Trial 0 finished with value: 0.21491863210980883 and parameters: {'n_items_to_rank': 165}. Best is trial 0 with value: 0.21491863210980883.\n",
      "EvaluatorHoldout: Processed 5961 (100.0%) in 4.81 sec. Users per second: 1238\n"
     ]
    },
    {
     "name": "stderr",
     "output_type": "stream",
     "text": [
      "Best trial: 0. Best value: 0.214919:   4%|▍         | 2/50 [00:09<03:51,  4.83s/it]"
     ]
    },
    {
     "name": "stdout",
     "output_type": "stream",
     "text": [
      "[I 2023-07-31 08:45:39,585] Trial 1 finished with value: 0.214154363569412 and parameters: {'n_items_to_rank': 246}. Best is trial 0 with value: 0.21491863210980883.\n",
      "EvaluatorHoldout: Processed 5961 (100.0%) in 4.80 sec. Users per second: 1241\n"
     ]
    },
    {
     "name": "stderr",
     "output_type": "stream",
     "text": [
      "Best trial: 0. Best value: 0.214919:   6%|▌         | 3/50 [00:14<03:46,  4.82s/it]"
     ]
    },
    {
     "name": "stdout",
     "output_type": "stream",
     "text": [
      "[I 2023-07-31 08:45:44,402] Trial 2 finished with value: 0.21486910669145942 and parameters: {'n_items_to_rank': 171}. Best is trial 0 with value: 0.21491863210980883.\n",
      "EvaluatorHoldout: Processed 5961 (100.0%) in 4.82 sec. Users per second: 1237\n"
     ]
    },
    {
     "name": "stderr",
     "output_type": "stream",
     "text": [
      "Best trial: 0. Best value: 0.214919:   8%|▊         | 4/50 [00:19<03:42,  4.83s/it]"
     ]
    },
    {
     "name": "stdout",
     "output_type": "stream",
     "text": [
      "[I 2023-07-31 08:45:49,236] Trial 3 finished with value: 0.2143180608578508 and parameters: {'n_items_to_rank': 128}. Best is trial 0 with value: 0.21491863210980883.\n",
      "EvaluatorHoldout: Processed 5961 (100.0%) in 4.81 sec. Users per second: 1239\n"
     ]
    },
    {
     "name": "stderr",
     "output_type": "stream",
     "text": [
      "Best trial: 0. Best value: 0.214919:  10%|█         | 5/50 [00:24<03:37,  4.83s/it]"
     ]
    },
    {
     "name": "stdout",
     "output_type": "stream",
     "text": [
      "[I 2023-07-31 08:45:54,067] Trial 4 finished with value: 0.21450469129849756 and parameters: {'n_items_to_rank': 293}. Best is trial 0 with value: 0.21491863210980883.\n",
      "EvaluatorHoldout: Processed 5961 (100.0%) in 4.80 sec. Users per second: 1243\n"
     ]
    },
    {
     "name": "stderr",
     "output_type": "stream",
     "text": [
      "Best trial: 0. Best value: 0.214919:  12%|█▏        | 6/50 [00:28<03:32,  4.82s/it]"
     ]
    },
    {
     "name": "stdout",
     "output_type": "stream",
     "text": [
      "[I 2023-07-31 08:45:58,880] Trial 5 finished with value: 0.21440666957521362 and parameters: {'n_items_to_rank': 283}. Best is trial 0 with value: 0.21491863210980883.\n",
      "EvaluatorHoldout: Processed 5961 (100.0%) in 4.79 sec. Users per second: 1244\n"
     ]
    },
    {
     "name": "stderr",
     "output_type": "stream",
     "text": [
      "Best trial: 0. Best value: 0.214919:  14%|█▍        | 7/50 [00:33<03:27,  4.82s/it]"
     ]
    },
    {
     "name": "stdout",
     "output_type": "stream",
     "text": [
      "[I 2023-07-31 08:46:03,692] Trial 6 finished with value: 0.2141297070182932 and parameters: {'n_items_to_rank': 132}. Best is trial 0 with value: 0.21491863210980883.\n",
      "EvaluatorHoldout: Processed 5961 (100.0%) in 4.82 sec. Users per second: 1237\n"
     ]
    },
    {
     "name": "stderr",
     "output_type": "stream",
     "text": [
      "Best trial: 7. Best value: 0.215254:  16%|█▌        | 8/50 [00:38<03:22,  4.83s/it]"
     ]
    },
    {
     "name": "stdout",
     "output_type": "stream",
     "text": [
      "[I 2023-07-31 08:46:08,532] Trial 7 finished with value: 0.21525443486891524 and parameters: {'n_items_to_rank': 196}. Best is trial 7 with value: 0.21525443486891524.\n",
      "EvaluatorHoldout: Processed 5961 (100.0%) in 4.79 sec. Users per second: 1245\n"
     ]
    },
    {
     "name": "stderr",
     "output_type": "stream",
     "text": [
      "Best trial: 7. Best value: 0.215254:  18%|█▊        | 9/50 [00:43<03:17,  4.82s/it]"
     ]
    },
    {
     "name": "stdout",
     "output_type": "stream",
     "text": [
      "[I 2023-07-31 08:46:13,338] Trial 8 finished with value: 0.21390276338658526 and parameters: {'n_items_to_rank': 112}. Best is trial 7 with value: 0.21525443486891524.\n",
      "EvaluatorHoldout: Processed 5961 (100.0%) in 4.81 sec. Users per second: 1240\n"
     ]
    },
    {
     "name": "stderr",
     "output_type": "stream",
     "text": [
      "Best trial: 7. Best value: 0.215254:  20%|██        | 10/50 [00:48<03:12,  4.82s/it]"
     ]
    },
    {
     "name": "stdout",
     "output_type": "stream",
     "text": [
      "[I 2023-07-31 08:46:18,164] Trial 9 finished with value: 0.21438369613457292 and parameters: {'n_items_to_rank': 201}. Best is trial 7 with value: 0.21525443486891524.\n",
      "EvaluatorHoldout: Processed 5961 (100.0%) in 4.80 sec. Users per second: 1242\n"
     ]
    },
    {
     "name": "stderr",
     "output_type": "stream",
     "text": [
      "Best trial: 7. Best value: 0.215254:  22%|██▏       | 11/50 [00:53<03:08,  4.82s/it]"
     ]
    },
    {
     "name": "stdout",
     "output_type": "stream",
     "text": [
      "[I 2023-07-31 08:46:22,984] Trial 10 finished with value: 0.21480739627227508 and parameters: {'n_items_to_rank': 190}. Best is trial 7 with value: 0.21525443486891524.\n",
      "EvaluatorHoldout: Processed 5961 (100.0%) in 4.80 sec. Users per second: 1243\n"
     ]
    },
    {
     "name": "stderr",
     "output_type": "stream",
     "text": [
      "Best trial: 7. Best value: 0.215254:  24%|██▍       | 12/50 [00:57<03:03,  4.82s/it]"
     ]
    },
    {
     "name": "stdout",
     "output_type": "stream",
     "text": [
      "[I 2023-07-31 08:46:27,800] Trial 11 finished with value: 0.21433282408872878 and parameters: {'n_items_to_rank': 292}. Best is trial 7 with value: 0.21525443486891524.\n",
      "EvaluatorHoldout: Processed 5961 (100.0%) in 4.87 sec. Users per second: 1225\n"
     ]
    },
    {
     "name": "stderr",
     "output_type": "stream",
     "text": [
      "Best trial: 7. Best value: 0.215254:  26%|██▌       | 13/50 [01:02<02:59,  4.84s/it]"
     ]
    },
    {
     "name": "stdout",
     "output_type": "stream",
     "text": [
      "[I 2023-07-31 08:46:32,691] Trial 12 finished with value: 0.21450763670594822 and parameters: {'n_items_to_rank': 285}. Best is trial 7 with value: 0.21525443486891524.\n",
      "EvaluatorHoldout: Processed 5961 (100.0%) in 4.83 sec. Users per second: 1235\n"
     ]
    },
    {
     "name": "stderr",
     "output_type": "stream",
     "text": [
      "Best trial: 7. Best value: 0.215254:  28%|██▊       | 14/50 [01:07<02:54,  4.84s/it]"
     ]
    },
    {
     "name": "stdout",
     "output_type": "stream",
     "text": [
      "[I 2023-07-31 08:46:37,540] Trial 13 finished with value: 0.21516708550241356 and parameters: {'n_items_to_rank': 146}. Best is trial 7 with value: 0.21525443486891524.\n",
      "EvaluatorHoldout: Processed 5961 (100.0%) in 4.80 sec. Users per second: 1243\n"
     ]
    },
    {
     "name": "stderr",
     "output_type": "stream",
     "text": [
      "Best trial: 7. Best value: 0.215254:  30%|███       | 15/50 [01:12<02:49,  4.84s/it]"
     ]
    },
    {
     "name": "stdout",
     "output_type": "stream",
     "text": [
      "[I 2023-07-31 08:46:42,359] Trial 14 finished with value: 0.21460825647525555 and parameters: {'n_items_to_rank': 147}. Best is trial 7 with value: 0.21525443486891524.\n",
      "EvaluatorHoldout: Processed 5961 (100.0%) in 4.89 sec. Users per second: 1218\n"
     ]
    },
    {
     "name": "stderr",
     "output_type": "stream",
     "text": [
      "Best trial: 7. Best value: 0.215254:  32%|███▏      | 16/50 [01:17<02:45,  4.86s/it]"
     ]
    },
    {
     "name": "stdout",
     "output_type": "stream",
     "text": [
      "[I 2023-07-31 08:46:47,273] Trial 15 finished with value: 0.21492323079492123 and parameters: {'n_items_to_rank': 61}. Best is trial 7 with value: 0.21525443486891524.\n",
      "EvaluatorHoldout: Processed 5961 (100.0%) in 4.81 sec. Users per second: 1239\n"
     ]
    },
    {
     "name": "stderr",
     "output_type": "stream",
     "text": [
      "Best trial: 7. Best value: 0.215254:  34%|███▍      | 17/50 [01:22<02:40,  4.85s/it]"
     ]
    },
    {
     "name": "stdout",
     "output_type": "stream",
     "text": [
      "[I 2023-07-31 08:46:52,107] Trial 16 finished with value: 0.2146779251330295 and parameters: {'n_items_to_rank': 50}. Best is trial 7 with value: 0.21525443486891524.\n",
      "EvaluatorHoldout: Processed 5961 (100.0%) in 4.82 sec. Users per second: 1236\n"
     ]
    },
    {
     "name": "stderr",
     "output_type": "stream",
     "text": [
      "Best trial: 7. Best value: 0.215254:  36%|███▌      | 18/50 [01:27<02:35,  4.85s/it]"
     ]
    },
    {
     "name": "stdout",
     "output_type": "stream",
     "text": [
      "[I 2023-07-31 08:46:56,953] Trial 17 finished with value: 0.2150539683669361 and parameters: {'n_items_to_rank': 238}. Best is trial 7 with value: 0.21525443486891524.\n",
      "EvaluatorHoldout: Processed 5961 (100.0%) in 4.85 sec. Users per second: 1230\n"
     ]
    },
    {
     "name": "stderr",
     "output_type": "stream",
     "text": [
      "Best trial: 7. Best value: 0.215254:  38%|███▊      | 19/50 [01:31<02:30,  4.86s/it]"
     ]
    },
    {
     "name": "stdout",
     "output_type": "stream",
     "text": [
      "[I 2023-07-31 08:47:01,824] Trial 18 finished with value: 0.21491407703704066 and parameters: {'n_items_to_rank': 196}. Best is trial 7 with value: 0.21525443486891524.\n",
      "EvaluatorHoldout: Processed 5961 (100.0%) in 4.82 sec. Users per second: 1237\n"
     ]
    },
    {
     "name": "stderr",
     "output_type": "stream",
     "text": [
      "Best trial: 7. Best value: 0.215254:  40%|████      | 20/50 [01:36<02:25,  4.85s/it]"
     ]
    },
    {
     "name": "stdout",
     "output_type": "stream",
     "text": [
      "[I 2023-07-31 08:47:06,670] Trial 19 finished with value: 0.21500941883825064 and parameters: {'n_items_to_rank': 223}. Best is trial 7 with value: 0.21525443486891524.\n",
      "EvaluatorHoldout: Processed 5961 (100.0%) in 4.69 sec. Users per second: 1271\n"
     ]
    },
    {
     "name": "stderr",
     "output_type": "stream",
     "text": [
      "Best trial: 7. Best value: 0.215254:  42%|████▏     | 21/50 [01:41<02:19,  4.81s/it]"
     ]
    },
    {
     "name": "stdout",
     "output_type": "stream",
     "text": [
      "[I 2023-07-31 08:47:11,381] Trial 20 finished with value: 0.2069165001222023 and parameters: {'n_items_to_rank': 15}. Best is trial 7 with value: 0.21525443486891524.\n",
      "EvaluatorHoldout: Processed 5961 (100.0%) in 5.10 sec. Users per second: 1168\n"
     ]
    },
    {
     "name": "stderr",
     "output_type": "stream",
     "text": [
      "Best trial: 7. Best value: 0.215254:  44%|████▍     | 22/50 [01:46<02:17,  4.90s/it]"
     ]
    },
    {
     "name": "stdout",
     "output_type": "stream",
     "text": [
      "[I 2023-07-31 08:47:16,506] Trial 21 finished with value: 0.21254639461116087 and parameters: {'n_items_to_rank': 27}. Best is trial 7 with value: 0.21525443486891524.\n",
      "EvaluatorHoldout: Processed 5961 (100.0%) in 4.88 sec. Users per second: 1221\n"
     ]
    },
    {
     "name": "stderr",
     "output_type": "stream",
     "text": [
      "Best trial: 7. Best value: 0.215254:  46%|████▌     | 23/50 [01:51<02:12,  4.91s/it]"
     ]
    },
    {
     "name": "stdout",
     "output_type": "stream",
     "text": [
      "[I 2023-07-31 08:47:21,414] Trial 22 finished with value: 0.21488696288907327 and parameters: {'n_items_to_rank': 146}. Best is trial 7 with value: 0.21525443486891524.\n",
      "EvaluatorHoldout: Processed 5961 (100.0%) in 4.84 sec. Users per second: 1231\n"
     ]
    },
    {
     "name": "stderr",
     "output_type": "stream",
     "text": [
      "Best trial: 7. Best value: 0.215254:  48%|████▊     | 24/50 [01:56<02:07,  4.89s/it]"
     ]
    },
    {
     "name": "stdout",
     "output_type": "stream",
     "text": [
      "[I 2023-07-31 08:47:26,283] Trial 23 finished with value: 0.2148870654917314 and parameters: {'n_items_to_rank': 298}. Best is trial 7 with value: 0.21525443486891524.\n",
      "EvaluatorHoldout: Processed 5961 (100.0%) in 4.89 sec. Users per second: 1220\n"
     ]
    },
    {
     "name": "stderr",
     "output_type": "stream",
     "text": [
      "Best trial: 7. Best value: 0.215254:  50%|█████     | 25/50 [02:01<02:02,  4.90s/it]"
     ]
    },
    {
     "name": "stdout",
     "output_type": "stream",
     "text": [
      "[I 2023-07-31 08:47:31,198] Trial 24 finished with value: 0.21423197990108542 and parameters: {'n_items_to_rank': 265}. Best is trial 7 with value: 0.21525443486891524.\n",
      "EvaluatorHoldout: Processed 5961 (100.0%) in 4.88 sec. Users per second: 1222\n"
     ]
    },
    {
     "name": "stderr",
     "output_type": "stream",
     "text": [
      "Best trial: 7. Best value: 0.215254:  52%|█████▏    | 26/50 [02:06<01:57,  4.90s/it]"
     ]
    },
    {
     "name": "stdout",
     "output_type": "stream",
     "text": [
      "[I 2023-07-31 08:47:36,103] Trial 25 finished with value: 0.21453277009834007 and parameters: {'n_items_to_rank': 296}. Best is trial 7 with value: 0.21525443486891524.\n",
      "EvaluatorHoldout: Processed 5961 (100.0%) in 4.94 sec. Users per second: 1206\n"
     ]
    },
    {
     "name": "stderr",
     "output_type": "stream",
     "text": [
      "Best trial: 7. Best value: 0.215254:  54%|█████▍    | 27/50 [02:11<01:53,  4.92s/it]"
     ]
    },
    {
     "name": "stdout",
     "output_type": "stream",
     "text": [
      "[I 2023-07-31 08:47:41,073] Trial 26 finished with value: 0.21518779548815686 and parameters: {'n_items_to_rank': 238}. Best is trial 7 with value: 0.21525443486891524.\n",
      "EvaluatorHoldout: Processed 5961 (100.0%) in 4.86 sec. Users per second: 1226\n"
     ]
    },
    {
     "name": "stderr",
     "output_type": "stream",
     "text": [
      "Best trial: 7. Best value: 0.215254:  56%|█████▌    | 28/50 [02:16<01:48,  4.91s/it]"
     ]
    },
    {
     "name": "stdout",
     "output_type": "stream",
     "text": [
      "[I 2023-07-31 08:47:45,962] Trial 27 finished with value: 0.21498237608112067 and parameters: {'n_items_to_rank': 146}. Best is trial 7 with value: 0.21525443486891524.\n",
      "EvaluatorHoldout: Processed 5961 (100.0%) in 5.30 sec. Users per second: 1124\n"
     ]
    },
    {
     "name": "stderr",
     "output_type": "stream",
     "text": [
      "Best trial: 7. Best value: 0.215254:  58%|█████▊    | 29/50 [02:21<01:45,  5.04s/it]"
     ]
    },
    {
     "name": "stdout",
     "output_type": "stream",
     "text": [
      "[I 2023-07-31 08:47:51,296] Trial 28 finished with value: 0.21070375962250248 and parameters: {'n_items_to_rank': 23}. Best is trial 7 with value: 0.21525443486891524.\n",
      "EvaluatorHoldout: Processed 5961 (100.0%) in 4.86 sec. Users per second: 1226\n"
     ]
    },
    {
     "name": "stderr",
     "output_type": "stream",
     "text": [
      "Best trial: 7. Best value: 0.215254:  60%|██████    | 30/50 [02:26<01:39,  5.00s/it]"
     ]
    },
    {
     "name": "stdout",
     "output_type": "stream",
     "text": [
      "[I 2023-07-31 08:47:56,189] Trial 29 finished with value: 0.21437305406455975 and parameters: {'n_items_to_rank': 248}. Best is trial 7 with value: 0.21525443486891524.\n",
      "EvaluatorHoldout: Processed 5961 (100.0%) in 4.67 sec. Users per second: 1276\n"
     ]
    },
    {
     "name": "stderr",
     "output_type": "stream",
     "text": [
      "Best trial: 7. Best value: 0.215254:  62%|██████▏   | 31/50 [02:30<01:33,  4.91s/it]"
     ]
    },
    {
     "name": "stdout",
     "output_type": "stream",
     "text": [
      "[I 2023-07-31 08:48:00,890] Trial 30 finished with value: 0.20532964167268608 and parameters: {'n_items_to_rank': 14}. Best is trial 7 with value: 0.21525443486891524.\n",
      "EvaluatorHoldout: Processed 5961 (100.0%) in 5.21 sec. Users per second: 1143\n"
     ]
    },
    {
     "name": "stderr",
     "output_type": "stream",
     "text": [
      "Best trial: 7. Best value: 0.215254:  64%|██████▍   | 32/50 [02:36<01:30,  5.01s/it]"
     ]
    },
    {
     "name": "stdout",
     "output_type": "stream",
     "text": [
      "[I 2023-07-31 08:48:06,131] Trial 31 finished with value: 0.2131634448002028 and parameters: {'n_items_to_rank': 32}. Best is trial 7 with value: 0.21525443486891524.\n",
      "EvaluatorHoldout: Processed 5961 (100.0%) in 4.84 sec. Users per second: 1233\n"
     ]
    },
    {
     "name": "stderr",
     "output_type": "stream",
     "text": [
      "Best trial: 7. Best value: 0.215254:  66%|██████▌   | 33/50 [02:41<01:24,  4.96s/it]"
     ]
    },
    {
     "name": "stdout",
     "output_type": "stream",
     "text": [
      "[I 2023-07-31 08:48:10,994] Trial 32 finished with value: 0.21470313182953168 and parameters: {'n_items_to_rank': 297}. Best is trial 7 with value: 0.21525443486891524.\n",
      "EvaluatorHoldout: Processed 5961 (100.0%) in 5.22 sec. Users per second: 1142\n"
     ]
    },
    {
     "name": "stderr",
     "output_type": "stream",
     "text": [
      "Best trial: 7. Best value: 0.215254:  68%|██████▊   | 34/50 [02:46<01:20,  5.05s/it]"
     ]
    },
    {
     "name": "stdout",
     "output_type": "stream",
     "text": [
      "[I 2023-07-31 08:48:16,242] Trial 33 finished with value: 0.2128716271322428 and parameters: {'n_items_to_rank': 31}. Best is trial 7 with value: 0.21525443486891524.\n",
      "EvaluatorHoldout: Processed 5961 (100.0%) in 5.06 sec. Users per second: 1177\n"
     ]
    },
    {
     "name": "stderr",
     "output_type": "stream",
     "text": [
      "Best trial: 7. Best value: 0.215254:  70%|███████   | 35/50 [02:51<01:15,  5.06s/it]"
     ]
    },
    {
     "name": "stdout",
     "output_type": "stream",
     "text": [
      "[I 2023-07-31 08:48:21,331] Trial 34 finished with value: 0.21014467378946344 and parameters: {'n_items_to_rank': 21}. Best is trial 7 with value: 0.21525443486891524.\n",
      "EvaluatorHoldout: Processed 5961 (100.0%) in 4.91 sec. Users per second: 1213\n"
     ]
    },
    {
     "name": "stderr",
     "output_type": "stream",
     "text": [
      "Best trial: 7. Best value: 0.215254:  72%|███████▏  | 36/50 [02:56<01:10,  5.03s/it]"
     ]
    },
    {
     "name": "stdout",
     "output_type": "stream",
     "text": [
      "[I 2023-07-31 08:48:26,272] Trial 35 finished with value: 0.21496606410238392 and parameters: {'n_items_to_rank': 305}. Best is trial 7 with value: 0.21525443486891524.\n",
      "EvaluatorHoldout: Processed 5961 (100.0%) in 4.89 sec. Users per second: 1220\n"
     ]
    },
    {
     "name": "stderr",
     "output_type": "stream",
     "text": [
      "Best trial: 7. Best value: 0.215254:  74%|███████▍  | 37/50 [03:01<01:04,  4.99s/it]"
     ]
    },
    {
     "name": "stdout",
     "output_type": "stream",
     "text": [
      "[I 2023-07-31 08:48:31,191] Trial 36 finished with value: 0.2150045237903864 and parameters: {'n_items_to_rank': 307}. Best is trial 7 with value: 0.21525443486891524.\n",
      "EvaluatorHoldout: Processed 5961 (100.0%) in 4.83 sec. Users per second: 1234\n"
     ]
    },
    {
     "name": "stderr",
     "output_type": "stream",
     "text": [
      "Best trial: 37. Best value: 0.215549:  76%|███████▌  | 38/50 [03:06<00:59,  4.95s/it]"
     ]
    },
    {
     "name": "stdout",
     "output_type": "stream",
     "text": [
      "[I 2023-07-31 08:48:36,051] Trial 37 finished with value: 0.21554858806188085 and parameters: {'n_items_to_rank': 235}. Best is trial 37 with value: 0.21554858806188085.\n",
      "EvaluatorHoldout: Processed 5961 (100.0%) in 4.83 sec. Users per second: 1234\n"
     ]
    },
    {
     "name": "stderr",
     "output_type": "stream",
     "text": [
      "Best trial: 37. Best value: 0.215549:  78%|███████▊  | 39/50 [03:10<00:54,  4.93s/it]"
     ]
    },
    {
     "name": "stdout",
     "output_type": "stream",
     "text": [
      "[I 2023-07-31 08:48:40,912] Trial 38 finished with value: 0.21415090122695202 and parameters: {'n_items_to_rank': 294}. Best is trial 37 with value: 0.21554858806188085.\n",
      "EvaluatorHoldout: Processed 5961 (100.0%) in 4.81 sec. Users per second: 1240\n"
     ]
    },
    {
     "name": "stderr",
     "output_type": "stream",
     "text": [
      "Best trial: 37. Best value: 0.215549:  80%|████████  | 40/50 [03:15<00:48,  4.90s/it]"
     ]
    },
    {
     "name": "stdout",
     "output_type": "stream",
     "text": [
      "[I 2023-07-31 08:48:45,749] Trial 39 finished with value: 0.21532559912338914 and parameters: {'n_items_to_rank': 266}. Best is trial 37 with value: 0.21554858806188085.\n",
      "EvaluatorHoldout: Processed 5961 (100.0%) in 4.82 sec. Users per second: 1238\n"
     ]
    },
    {
     "name": "stderr",
     "output_type": "stream",
     "text": [
      "Best trial: 37. Best value: 0.215549:  82%|████████▏ | 41/50 [03:20<00:43,  4.88s/it]"
     ]
    },
    {
     "name": "stdout",
     "output_type": "stream",
     "text": [
      "[I 2023-07-31 08:48:50,596] Trial 40 finished with value: 0.21474518411837895 and parameters: {'n_items_to_rank': 145}. Best is trial 37 with value: 0.21554858806188085.\n",
      "EvaluatorHoldout: Processed 5961 (100.0%) in 4.80 sec. Users per second: 1242\n"
     ]
    },
    {
     "name": "stderr",
     "output_type": "stream",
     "text": [
      "Best trial: 37. Best value: 0.215549:  84%|████████▍ | 42/50 [03:25<00:38,  4.87s/it]"
     ]
    },
    {
     "name": "stdout",
     "output_type": "stream",
     "text": [
      "[I 2023-07-31 08:48:55,427] Trial 41 finished with value: 0.21398841410622915 and parameters: {'n_items_to_rank': 121}. Best is trial 37 with value: 0.21554858806188085.\n",
      "EvaluatorHoldout: Processed 5961 (100.0%) in 4.81 sec. Users per second: 1240\n"
     ]
    },
    {
     "name": "stderr",
     "output_type": "stream",
     "text": [
      "Best trial: 37. Best value: 0.215549:  86%|████████▌ | 43/50 [03:30<00:34,  4.86s/it]"
     ]
    },
    {
     "name": "stdout",
     "output_type": "stream",
     "text": [
      "[I 2023-07-31 08:49:00,267] Trial 42 finished with value: 0.21423988684206924 and parameters: {'n_items_to_rank': 266}. Best is trial 37 with value: 0.21554858806188085.\n",
      "EvaluatorHoldout: Processed 5961 (100.0%) in 4.81 sec. Users per second: 1240\n"
     ]
    },
    {
     "name": "stderr",
     "output_type": "stream",
     "text": [
      "Best trial: 37. Best value: 0.215549:  88%|████████▊ | 44/50 [03:35<00:29,  4.85s/it]"
     ]
    },
    {
     "name": "stdout",
     "output_type": "stream",
     "text": [
      "[I 2023-07-31 08:49:05,111] Trial 43 finished with value: 0.21417546161716042 and parameters: {'n_items_to_rank': 213}. Best is trial 37 with value: 0.21554858806188085.\n",
      "EvaluatorHoldout: Processed 5961 (100.0%) in 4.80 sec. Users per second: 1242\n"
     ]
    },
    {
     "name": "stderr",
     "output_type": "stream",
     "text": [
      "Best trial: 37. Best value: 0.215549:  90%|█████████ | 45/50 [03:40<00:24,  4.85s/it]"
     ]
    },
    {
     "name": "stdout",
     "output_type": "stream",
     "text": [
      "[I 2023-07-31 08:49:09,945] Trial 44 finished with value: 0.21387712799050965 and parameters: {'n_items_to_rank': 235}. Best is trial 37 with value: 0.21554858806188085.\n",
      "EvaluatorHoldout: Processed 5961 (100.0%) in 4.80 sec. Users per second: 1241\n"
     ]
    },
    {
     "name": "stderr",
     "output_type": "stream",
     "text": [
      "Best trial: 37. Best value: 0.215549:  92%|█████████▏| 46/50 [03:44<00:19,  4.85s/it]"
     ]
    },
    {
     "name": "stdout",
     "output_type": "stream",
     "text": [
      "[I 2023-07-31 08:49:14,782] Trial 45 finished with value: 0.21464905759943814 and parameters: {'n_items_to_rank': 259}. Best is trial 37 with value: 0.21554858806188085.\n",
      "EvaluatorHoldout: Processed 5961 (100.0%) in 4.80 sec. Users per second: 1243\n"
     ]
    },
    {
     "name": "stderr",
     "output_type": "stream",
     "text": [
      "Best trial: 37. Best value: 0.215549:  94%|█████████▍| 47/50 [03:49<00:14,  4.84s/it]"
     ]
    },
    {
     "name": "stdout",
     "output_type": "stream",
     "text": [
      "[I 2023-07-31 08:49:19,610] Trial 46 finished with value: 0.2149118343680991 and parameters: {'n_items_to_rank': 241}. Best is trial 37 with value: 0.21554858806188085.\n",
      "EvaluatorHoldout: Processed 5961 (100.0%) in 4.81 sec. Users per second: 1240\n"
     ]
    },
    {
     "name": "stderr",
     "output_type": "stream",
     "text": [
      "Best trial: 37. Best value: 0.215549:  96%|█████████▌| 48/50 [03:54<00:09,  4.84s/it]"
     ]
    },
    {
     "name": "stdout",
     "output_type": "stream",
     "text": [
      "[I 2023-07-31 08:49:24,452] Trial 47 finished with value: 0.2148351735984443 and parameters: {'n_items_to_rank': 52}. Best is trial 37 with value: 0.21554858806188085.\n",
      "EvaluatorHoldout: Processed 5961 (100.0%) in 5.12 sec. Users per second: 1164\n"
     ]
    },
    {
     "name": "stderr",
     "output_type": "stream",
     "text": [
      "Best trial: 37. Best value: 0.215549:  98%|█████████▊| 49/50 [03:59<00:04,  4.94s/it]"
     ]
    },
    {
     "name": "stdout",
     "output_type": "stream",
     "text": [
      "[I 2023-07-31 08:49:29,609] Trial 48 finished with value: 0.21193701344597854 and parameters: {'n_items_to_rank': 29}. Best is trial 37 with value: 0.21554858806188085.\n",
      "EvaluatorHoldout: Processed 5961 (100.0%) in 4.79 sec. Users per second: 1245\n"
     ]
    },
    {
     "name": "stderr",
     "output_type": "stream",
     "text": [
      "Best trial: 37. Best value: 0.215549: 100%|██████████| 50/50 [04:04<00:00,  4.89s/it]"
     ]
    },
    {
     "name": "stdout",
     "output_type": "stream",
     "text": [
      "[I 2023-07-31 08:49:34,435] Trial 49 finished with value: 0.21469044020317365 and parameters: {'n_items_to_rank': 107}. Best is trial 37 with value: 0.21554858806188085.\n",
      "Recommender_Base_Class: URM Detected 194 ( 5.0%) items with no interactions.\n"
     ]
    },
    {
     "name": "stderr",
     "output_type": "stream",
     "text": [
      "\n"
     ]
    },
    {
     "name": "stdout",
     "output_type": "stream",
     "text": [
      "EvaluatorHoldout: Processed 5976 (100.0%) in 25.42 sec. Users per second: 235\n",
      "ItemKNNCFRecommender_DiffusionAutoencoderRecommender_TwoLevelRec\n",
      "ItemKNNCFRecommender_DiffusionAutoencoderRecommender_TwoLevelRec\n",
      "Recommender_Base_Class: URM Detected 211 ( 5.4%) items with no interactions.\n"
     ]
    },
    {
     "name": "stderr",
     "output_type": "stream",
     "text": [
      "[I 2023-07-31 08:50:02,550] A new study created in memory with name: no-name-3ff0535e-9d29-4fe0-9435-50ca29ad182d\n",
      "  0%|          | 0/50 [00:00<?, ?it/s]"
     ]
    },
    {
     "name": "stdout",
     "output_type": "stream",
     "text": [
      "IALSRecommender\n",
      "IALSRecommender_DiffusionAutoencoderRecommender_TwoLevelRec\n",
      "EvaluatorHoldout: Processed 5961 (100.0%) in 4.82 sec. Users per second: 1237\n"
     ]
    },
    {
     "name": "stderr",
     "output_type": "stream",
     "text": [
      "Best trial: 0. Best value: 0.218335:   2%|▏         | 1/50 [00:04<03:56,  4.84s/it]"
     ]
    },
    {
     "name": "stdout",
     "output_type": "stream",
     "text": [
      "[I 2023-07-31 08:50:07,387] Trial 0 finished with value: 0.2183352441097745 and parameters: {'n_items_to_rank': 105}. Best is trial 0 with value: 0.2183352441097745.\n",
      "EvaluatorHoldout: Processed 5961 (100.0%) in 4.82 sec. Users per second: 1238\n"
     ]
    },
    {
     "name": "stderr",
     "output_type": "stream",
     "text": [
      "Best trial: 0. Best value: 0.218335:   4%|▍         | 2/50 [00:09<03:57,  4.94s/it]"
     ]
    },
    {
     "name": "stdout",
     "output_type": "stream",
     "text": [
      "[I 2023-07-31 08:50:12,401] Trial 1 finished with value: 0.2175394887465307 and parameters: {'n_items_to_rank': 256}. Best is trial 0 with value: 0.2183352441097745.\n",
      "EvaluatorHoldout: Processed 5961 (100.0%) in 4.82 sec. Users per second: 1236\n"
     ]
    },
    {
     "name": "stderr",
     "output_type": "stream",
     "text": [
      "Best trial: 0. Best value: 0.218335:   6%|▌         | 3/50 [00:14<03:50,  4.89s/it]"
     ]
    },
    {
     "name": "stdout",
     "output_type": "stream",
     "text": [
      "[I 2023-07-31 08:50:17,239] Trial 2 finished with value: 0.21758304177510335 and parameters: {'n_items_to_rank': 212}. Best is trial 0 with value: 0.2183352441097745.\n",
      "EvaluatorHoldout: Processed 5961 (100.0%) in 4.86 sec. Users per second: 1227\n"
     ]
    },
    {
     "name": "stderr",
     "output_type": "stream",
     "text": [
      "Best trial: 0. Best value: 0.218335:   8%|▊         | 4/50 [00:19<03:44,  4.89s/it]"
     ]
    },
    {
     "name": "stdout",
     "output_type": "stream",
     "text": [
      "[I 2023-07-31 08:50:22,115] Trial 3 finished with value: 0.21765843847357205 and parameters: {'n_items_to_rank': 225}. Best is trial 0 with value: 0.2183352441097745.\n",
      "EvaluatorHoldout: Processed 5961 (100.0%) in 4.89 sec. Users per second: 1218\n"
     ]
    },
    {
     "name": "stderr",
     "output_type": "stream",
     "text": [
      "Best trial: 0. Best value: 0.218335:  10%|█         | 5/50 [00:24<03:40,  4.90s/it]"
     ]
    },
    {
     "name": "stdout",
     "output_type": "stream",
     "text": [
      "[I 2023-07-31 08:50:27,026] Trial 4 finished with value: 0.21736280191118446 and parameters: {'n_items_to_rank': 289}. Best is trial 0 with value: 0.2183352441097745.\n",
      "EvaluatorHoldout: Processed 5961 (100.0%) in 4.87 sec. Users per second: 1223\n"
     ]
    },
    {
     "name": "stderr",
     "output_type": "stream",
     "text": [
      "Best trial: 0. Best value: 0.218335:  12%|█▏        | 6/50 [00:29<03:35,  4.89s/it]"
     ]
    },
    {
     "name": "stdout",
     "output_type": "stream",
     "text": [
      "[I 2023-07-31 08:50:31,916] Trial 5 finished with value: 0.21729148476299365 and parameters: {'n_items_to_rank': 297}. Best is trial 0 with value: 0.2183352441097745.\n",
      "EvaluatorHoldout: Processed 5961 (100.0%) in 4.82 sec. Users per second: 1236\n"
     ]
    },
    {
     "name": "stderr",
     "output_type": "stream",
     "text": [
      "Best trial: 0. Best value: 0.218335:  14%|█▍        | 7/50 [00:34<03:29,  4.88s/it]"
     ]
    },
    {
     "name": "stdout",
     "output_type": "stream",
     "text": [
      "[I 2023-07-31 08:50:36,758] Trial 6 finished with value: 0.21777983168528373 and parameters: {'n_items_to_rank': 90}. Best is trial 0 with value: 0.2183352441097745.\n",
      "EvaluatorHoldout: Processed 5961 (100.0%) in 4.78 sec. Users per second: 1248\n"
     ]
    },
    {
     "name": "stderr",
     "output_type": "stream",
     "text": [
      "Best trial: 0. Best value: 0.218335:  16%|█▌        | 8/50 [00:39<03:23,  4.85s/it]"
     ]
    },
    {
     "name": "stdout",
     "output_type": "stream",
     "text": [
      "[I 2023-07-31 08:50:41,555] Trial 7 finished with value: 0.21692650949425032 and parameters: {'n_items_to_rank': 283}. Best is trial 0 with value: 0.2183352441097745.\n",
      "EvaluatorHoldout: Processed 5961 (100.0%) in 4.78 sec. Users per second: 1246\n"
     ]
    },
    {
     "name": "stderr",
     "output_type": "stream",
     "text": [
      "Best trial: 0. Best value: 0.218335:  18%|█▊        | 9/50 [00:43<03:18,  4.84s/it]"
     ]
    },
    {
     "name": "stdout",
     "output_type": "stream",
     "text": [
      "[I 2023-07-31 08:50:46,357] Trial 8 finished with value: 0.21741911477756715 and parameters: {'n_items_to_rank': 137}. Best is trial 0 with value: 0.2183352441097745.\n",
      "EvaluatorHoldout: Processed 5961 (100.0%) in 4.79 sec. Users per second: 1244\n"
     ]
    },
    {
     "name": "stderr",
     "output_type": "stream",
     "text": [
      "Best trial: 0. Best value: 0.218335:  20%|██        | 10/50 [00:48<03:13,  4.83s/it]"
     ]
    },
    {
     "name": "stdout",
     "output_type": "stream",
     "text": [
      "[I 2023-07-31 08:50:51,170] Trial 9 finished with value: 0.21798939550138274 and parameters: {'n_items_to_rank': 187}. Best is trial 0 with value: 0.2183352441097745.\n",
      "EvaluatorHoldout: Processed 5961 (100.0%) in 4.82 sec. Users per second: 1238\n"
     ]
    },
    {
     "name": "stderr",
     "output_type": "stream",
     "text": [
      "Best trial: 0. Best value: 0.218335:  22%|██▏       | 11/50 [00:53<03:08,  4.83s/it]"
     ]
    },
    {
     "name": "stdout",
     "output_type": "stream",
     "text": [
      "[I 2023-07-31 08:50:56,006] Trial 10 finished with value: 0.21782348940712928 and parameters: {'n_items_to_rank': 252}. Best is trial 0 with value: 0.2183352441097745.\n",
      "EvaluatorHoldout: Processed 5961 (100.0%) in 4.85 sec. Users per second: 1230\n"
     ]
    },
    {
     "name": "stderr",
     "output_type": "stream",
     "text": [
      "Best trial: 0. Best value: 0.218335:  24%|██▍       | 12/50 [00:58<03:03,  4.84s/it]"
     ]
    },
    {
     "name": "stdout",
     "output_type": "stream",
     "text": [
      "[I 2023-07-31 08:51:00,873] Trial 11 finished with value: 0.2177683227498175 and parameters: {'n_items_to_rank': 187}. Best is trial 0 with value: 0.2183352441097745.\n",
      "EvaluatorHoldout: Processed 5961 (100.0%) in 4.89 sec. Users per second: 1218\n"
     ]
    },
    {
     "name": "stderr",
     "output_type": "stream",
     "text": [
      "Best trial: 0. Best value: 0.218335:  26%|██▌       | 13/50 [01:03<02:59,  4.86s/it]"
     ]
    },
    {
     "name": "stdout",
     "output_type": "stream",
     "text": [
      "[I 2023-07-31 08:51:05,790] Trial 12 finished with value: 0.21763772000994708 and parameters: {'n_items_to_rank': 82}. Best is trial 0 with value: 0.2183352441097745.\n",
      "EvaluatorHoldout: Processed 5961 (100.0%) in 4.84 sec. Users per second: 1230\n"
     ]
    },
    {
     "name": "stderr",
     "output_type": "stream",
     "text": [
      "Best trial: 0. Best value: 0.218335:  28%|██▊       | 14/50 [01:08<02:55,  4.87s/it]"
     ]
    },
    {
     "name": "stdout",
     "output_type": "stream",
     "text": [
      "[I 2023-07-31 08:51:10,656] Trial 13 finished with value: 0.21724726913012674 and parameters: {'n_items_to_rank': 17}. Best is trial 0 with value: 0.2183352441097745.\n",
      "EvaluatorHoldout: Processed 5961 (100.0%) in 4.88 sec. Users per second: 1222\n"
     ]
    },
    {
     "name": "stderr",
     "output_type": "stream",
     "text": [
      "Best trial: 0. Best value: 0.218335:  30%|███       | 15/50 [01:13<02:50,  4.88s/it]"
     ]
    },
    {
     "name": "stdout",
     "output_type": "stream",
     "text": [
      "[I 2023-07-31 08:51:15,557] Trial 14 finished with value: 0.2180157897597443 and parameters: {'n_items_to_rank': 126}. Best is trial 0 with value: 0.2183352441097745.\n",
      "EvaluatorHoldout: Processed 5961 (100.0%) in 4.97 sec. Users per second: 1200\n"
     ]
    },
    {
     "name": "stderr",
     "output_type": "stream",
     "text": [
      "Best trial: 15. Best value: 0.218616:  32%|███▏      | 16/50 [01:17<02:46,  4.91s/it]"
     ]
    },
    {
     "name": "stdout",
     "output_type": "stream",
     "text": [
      "[I 2023-07-31 08:51:20,550] Trial 15 finished with value: 0.21861617830151564 and parameters: {'n_items_to_rank': 305}. Best is trial 15 with value: 0.21861617830151564.\n",
      "EvaluatorHoldout: Processed 5961 (100.0%) in 4.84 sec. Users per second: 1232\n"
     ]
    },
    {
     "name": "stderr",
     "output_type": "stream",
     "text": [
      "Best trial: 15. Best value: 0.218616:  34%|███▍      | 17/50 [01:22<02:41,  4.90s/it]"
     ]
    },
    {
     "name": "stdout",
     "output_type": "stream",
     "text": [
      "[I 2023-07-31 08:51:25,411] Trial 16 finished with value: 0.21720379627308173 and parameters: {'n_items_to_rank': 149}. Best is trial 15 with value: 0.21861617830151564.\n",
      "EvaluatorHoldout: Processed 5961 (100.0%) in 4.88 sec. Users per second: 1222\n"
     ]
    },
    {
     "name": "stderr",
     "output_type": "stream",
     "text": [
      "Best trial: 15. Best value: 0.218616:  36%|███▌      | 18/50 [01:27<02:36,  4.90s/it]"
     ]
    },
    {
     "name": "stdout",
     "output_type": "stream",
     "text": [
      "[I 2023-07-31 08:51:30,313] Trial 17 finished with value: 0.21812666560904903 and parameters: {'n_items_to_rank': 105}. Best is trial 15 with value: 0.21861617830151564.\n",
      "EvaluatorHoldout: Processed 5961 (100.0%) in 4.89 sec. Users per second: 1218\n"
     ]
    },
    {
     "name": "stderr",
     "output_type": "stream",
     "text": [
      "Best trial: 15. Best value: 0.218616:  38%|███▊      | 19/50 [01:32<02:32,  4.90s/it]"
     ]
    },
    {
     "name": "stdout",
     "output_type": "stream",
     "text": [
      "[I 2023-07-31 08:51:35,231] Trial 18 finished with value: 0.2177552387061522 and parameters: {'n_items_to_rank': 302}. Best is trial 15 with value: 0.21861617830151564.\n",
      "EvaluatorHoldout: Processed 5961 (100.0%) in 4.86 sec. Users per second: 1228\n"
     ]
    },
    {
     "name": "stderr",
     "output_type": "stream",
     "text": [
      "Best trial: 15. Best value: 0.218616:  40%|████      | 20/50 [01:37<02:26,  4.90s/it]"
     ]
    },
    {
     "name": "stdout",
     "output_type": "stream",
     "text": [
      "[I 2023-07-31 08:51:40,111] Trial 19 finished with value: 0.21726764947386523 and parameters: {'n_items_to_rank': 105}. Best is trial 15 with value: 0.21861617830151564.\n",
      "EvaluatorHoldout: Processed 5961 (100.0%) in 4.87 sec. Users per second: 1224\n"
     ]
    },
    {
     "name": "stderr",
     "output_type": "stream",
     "text": [
      "Best trial: 15. Best value: 0.218616:  42%|████▏     | 21/50 [01:42<02:22,  4.93s/it]"
     ]
    },
    {
     "name": "stdout",
     "output_type": "stream",
     "text": [
      "[I 2023-07-31 08:51:45,115] Trial 20 finished with value: 0.21790642239497918 and parameters: {'n_items_to_rank': 235}. Best is trial 15 with value: 0.21861617830151564.\n",
      "EvaluatorHoldout: Processed 5961 (100.0%) in 4.86 sec. Users per second: 1227\n"
     ]
    },
    {
     "name": "stderr",
     "output_type": "stream",
     "text": [
      "Best trial: 15. Best value: 0.218616:  44%|████▍     | 22/50 [01:47<02:17,  4.91s/it]"
     ]
    },
    {
     "name": "stdout",
     "output_type": "stream",
     "text": [
      "[I 2023-07-31 08:51:49,997] Trial 21 finished with value: 0.21782799238156653 and parameters: {'n_items_to_rank': 186}. Best is trial 15 with value: 0.21861617830151564.\n",
      "EvaluatorHoldout: Processed 5961 (100.0%) in 4.84 sec. Users per second: 1232\n"
     ]
    },
    {
     "name": "stderr",
     "output_type": "stream",
     "text": [
      "Best trial: 15. Best value: 0.218616:  46%|████▌     | 23/50 [01:52<02:12,  4.90s/it]"
     ]
    },
    {
     "name": "stdout",
     "output_type": "stream",
     "text": [
      "[I 2023-07-31 08:51:54,858] Trial 22 finished with value: 0.21737852723148685 and parameters: {'n_items_to_rank': 255}. Best is trial 15 with value: 0.21861617830151564.\n",
      "EvaluatorHoldout: Processed 5961 (100.0%) in 4.83 sec. Users per second: 1235\n"
     ]
    },
    {
     "name": "stderr",
     "output_type": "stream",
     "text": [
      "Best trial: 15. Best value: 0.218616:  48%|████▊     | 24/50 [01:57<02:06,  4.88s/it]"
     ]
    },
    {
     "name": "stdout",
     "output_type": "stream",
     "text": [
      "[I 2023-07-31 08:51:59,710] Trial 23 finished with value: 0.2180718409755165 and parameters: {'n_items_to_rank': 154}. Best is trial 15 with value: 0.21861617830151564.\n",
      "EvaluatorHoldout: Processed 5961 (100.0%) in 4.83 sec. Users per second: 1235\n"
     ]
    },
    {
     "name": "stderr",
     "output_type": "stream",
     "text": [
      "Best trial: 15. Best value: 0.218616:  50%|█████     | 25/50 [02:02<02:01,  4.87s/it]"
     ]
    },
    {
     "name": "stdout",
     "output_type": "stream",
     "text": [
      "[I 2023-07-31 08:52:04,562] Trial 24 finished with value: 0.21770374829636466 and parameters: {'n_items_to_rank': 250}. Best is trial 15 with value: 0.21861617830151564.\n",
      "EvaluatorHoldout: Processed 5961 (100.0%) in 4.86 sec. Users per second: 1225\n"
     ]
    },
    {
     "name": "stderr",
     "output_type": "stream",
     "text": [
      "Best trial: 15. Best value: 0.218616:  52%|█████▏    | 26/50 [02:06<01:57,  4.88s/it]"
     ]
    },
    {
     "name": "stdout",
     "output_type": "stream",
     "text": [
      "[I 2023-07-31 08:52:09,453] Trial 25 finished with value: 0.21730853799239763 and parameters: {'n_items_to_rank': 199}. Best is trial 15 with value: 0.21861617830151564.\n",
      "EvaluatorHoldout: Processed 5961 (100.0%) in 4.85 sec. Users per second: 1229\n"
     ]
    },
    {
     "name": "stderr",
     "output_type": "stream",
     "text": [
      "Best trial: 15. Best value: 0.218616:  54%|█████▍    | 27/50 [02:11<01:52,  4.88s/it]"
     ]
    },
    {
     "name": "stdout",
     "output_type": "stream",
     "text": [
      "[I 2023-07-31 08:52:14,331] Trial 26 finished with value: 0.2180873615707204 and parameters: {'n_items_to_rank': 95}. Best is trial 15 with value: 0.21861617830151564.\n",
      "EvaluatorHoldout: Processed 5961 (100.0%) in 4.82 sec. Users per second: 1236\n"
     ]
    },
    {
     "name": "stderr",
     "output_type": "stream",
     "text": [
      "Best trial: 15. Best value: 0.218616:  56%|█████▌    | 28/50 [02:16<01:47,  4.87s/it]"
     ]
    },
    {
     "name": "stdout",
     "output_type": "stream",
     "text": [
      "[I 2023-07-31 08:52:19,181] Trial 27 finished with value: 0.21798074475884577 and parameters: {'n_items_to_rank': 305}. Best is trial 15 with value: 0.21861617830151564.\n",
      "EvaluatorHoldout: Processed 5961 (100.0%) in 4.85 sec. Users per second: 1229\n"
     ]
    },
    {
     "name": "stderr",
     "output_type": "stream",
     "text": [
      "Best trial: 15. Best value: 0.218616:  58%|█████▊    | 29/50 [02:21<01:42,  4.87s/it]"
     ]
    },
    {
     "name": "stdout",
     "output_type": "stream",
     "text": [
      "[I 2023-07-31 08:52:24,061] Trial 28 finished with value: 0.21772638553472992 and parameters: {'n_items_to_rank': 177}. Best is trial 15 with value: 0.21861617830151564.\n",
      "EvaluatorHoldout: Processed 5961 (100.0%) in 4.87 sec. Users per second: 1224\n"
     ]
    },
    {
     "name": "stderr",
     "output_type": "stream",
     "text": [
      "Best trial: 15. Best value: 0.218616:  60%|██████    | 30/50 [02:26<01:37,  4.88s/it]"
     ]
    },
    {
     "name": "stdout",
     "output_type": "stream",
     "text": [
      "[I 2023-07-31 08:52:28,957] Trial 29 finished with value: 0.21714205129674444 and parameters: {'n_items_to_rank': 130}. Best is trial 15 with value: 0.21861617830151564.\n",
      "EvaluatorHoldout: Processed 5961 (100.0%) in 4.82 sec. Users per second: 1237\n"
     ]
    },
    {
     "name": "stderr",
     "output_type": "stream",
     "text": [
      "Best trial: 15. Best value: 0.218616:  62%|██████▏   | 31/50 [02:31<01:32,  4.87s/it]"
     ]
    },
    {
     "name": "stdout",
     "output_type": "stream",
     "text": [
      "[I 2023-07-31 08:52:33,805] Trial 30 finished with value: 0.2172972213689029 and parameters: {'n_items_to_rank': 105}. Best is trial 15 with value: 0.21861617830151564.\n",
      "EvaluatorHoldout: Processed 5961 (100.0%) in 4.78 sec. Users per second: 1247\n"
     ]
    },
    {
     "name": "stderr",
     "output_type": "stream",
     "text": [
      "Best trial: 15. Best value: 0.218616:  64%|██████▍   | 32/50 [02:36<01:27,  4.85s/it]"
     ]
    },
    {
     "name": "stdout",
     "output_type": "stream",
     "text": [
      "[I 2023-07-31 08:52:38,614] Trial 31 finished with value: 0.2174689723026939 and parameters: {'n_items_to_rank': 92}. Best is trial 15 with value: 0.21861617830151564.\n",
      "EvaluatorHoldout: Processed 5961 (100.0%) in 4.81 sec. Users per second: 1238\n"
     ]
    },
    {
     "name": "stderr",
     "output_type": "stream",
     "text": [
      "Best trial: 15. Best value: 0.218616:  66%|██████▌   | 33/50 [02:40<01:22,  4.85s/it]"
     ]
    },
    {
     "name": "stdout",
     "output_type": "stream",
     "text": [
      "[I 2023-07-31 08:52:43,458] Trial 32 finished with value: 0.21744635517163133 and parameters: {'n_items_to_rank': 95}. Best is trial 15 with value: 0.21861617830151564.\n",
      "EvaluatorHoldout: Processed 5961 (100.0%) in 4.82 sec. Users per second: 1236\n"
     ]
    },
    {
     "name": "stderr",
     "output_type": "stream",
     "text": [
      "Best trial: 15. Best value: 0.218616:  68%|██████▊   | 34/50 [02:45<01:17,  4.85s/it]"
     ]
    },
    {
     "name": "stdout",
     "output_type": "stream",
     "text": [
      "[I 2023-07-31 08:52:48,311] Trial 33 finished with value: 0.21809950376772086 and parameters: {'n_items_to_rank': 161}. Best is trial 15 with value: 0.21861617830151564.\n",
      "EvaluatorHoldout: Processed 5961 (100.0%) in 4.83 sec. Users per second: 1235\n"
     ]
    },
    {
     "name": "stderr",
     "output_type": "stream",
     "text": [
      "Best trial: 15. Best value: 0.218616:  70%|███████   | 35/50 [02:50<01:12,  4.85s/it]"
     ]
    },
    {
     "name": "stdout",
     "output_type": "stream",
     "text": [
      "[I 2023-07-31 08:52:53,167] Trial 34 finished with value: 0.217663490036086 and parameters: {'n_items_to_rank': 161}. Best is trial 15 with value: 0.21861617830151564.\n",
      "EvaluatorHoldout: Processed 5961 (100.0%) in 4.79 sec. Users per second: 1245\n"
     ]
    },
    {
     "name": "stderr",
     "output_type": "stream",
     "text": [
      "Best trial: 15. Best value: 0.218616:  72%|███████▏  | 36/50 [02:55<01:07,  4.84s/it]"
     ]
    },
    {
     "name": "stdout",
     "output_type": "stream",
     "text": [
      "[I 2023-07-31 08:52:57,987] Trial 35 finished with value: 0.21748154878585063 and parameters: {'n_items_to_rank': 296}. Best is trial 15 with value: 0.21861617830151564.\n",
      "EvaluatorHoldout: Processed 5961 (100.0%) in 4.89 sec. Users per second: 1220\n"
     ]
    },
    {
     "name": "stderr",
     "output_type": "stream",
     "text": [
      "Best trial: 15. Best value: 0.218616:  74%|███████▍  | 37/50 [03:00<01:03,  4.87s/it]"
     ]
    },
    {
     "name": "stdout",
     "output_type": "stream",
     "text": [
      "[I 2023-07-31 08:53:02,906] Trial 36 finished with value: 0.21724274113497516 and parameters: {'n_items_to_rank': 77}. Best is trial 15 with value: 0.21861617830151564.\n",
      "EvaluatorHoldout: Processed 5961 (100.0%) in 4.85 sec. Users per second: 1229\n"
     ]
    },
    {
     "name": "stderr",
     "output_type": "stream",
     "text": [
      "Best trial: 15. Best value: 0.218616:  76%|███████▌  | 38/50 [03:05<00:58,  4.87s/it]"
     ]
    },
    {
     "name": "stdout",
     "output_type": "stream",
     "text": [
      "[I 2023-07-31 08:53:07,788] Trial 37 finished with value: 0.21797343101374236 and parameters: {'n_items_to_rank': 61}. Best is trial 15 with value: 0.21861617830151564.\n",
      "EvaluatorHoldout: Processed 5961 (100.0%) in 4.88 sec. Users per second: 1221\n"
     ]
    },
    {
     "name": "stderr",
     "output_type": "stream",
     "text": [
      "Best trial: 15. Best value: 0.218616:  78%|███████▊  | 39/50 [03:10<00:53,  4.88s/it]"
     ]
    },
    {
     "name": "stdout",
     "output_type": "stream",
     "text": [
      "[I 2023-07-31 08:53:12,704] Trial 38 finished with value: 0.21719237365338748 and parameters: {'n_items_to_rank': 122}. Best is trial 15 with value: 0.21861617830151564.\n",
      "EvaluatorHoldout: Processed 5961 (100.0%) in 4.90 sec. Users per second: 1217\n"
     ]
    },
    {
     "name": "stderr",
     "output_type": "stream",
     "text": [
      "Best trial: 15. Best value: 0.218616:  80%|████████  | 40/50 [03:15<00:49,  4.93s/it]"
     ]
    },
    {
     "name": "stdout",
     "output_type": "stream",
     "text": [
      "[I 2023-07-31 08:53:17,752] Trial 39 finished with value: 0.21715859603155388 and parameters: {'n_items_to_rank': 280}. Best is trial 15 with value: 0.21861617830151564.\n",
      "EvaluatorHoldout: Processed 5961 (100.0%) in 4.80 sec. Users per second: 1242\n"
     ]
    },
    {
     "name": "stderr",
     "output_type": "stream",
     "text": [
      "Best trial: 15. Best value: 0.218616:  82%|████████▏ | 41/50 [03:20<00:44,  4.90s/it]"
     ]
    },
    {
     "name": "stdout",
     "output_type": "stream",
     "text": [
      "[I 2023-07-31 08:53:22,585] Trial 40 finished with value: 0.21768355359005562 and parameters: {'n_items_to_rank': 158}. Best is trial 15 with value: 0.21861617830151564.\n",
      "EvaluatorHoldout: Processed 5961 (100.0%) in 4.86 sec. Users per second: 1226\n"
     ]
    },
    {
     "name": "stderr",
     "output_type": "stream",
     "text": [
      "Best trial: 15. Best value: 0.218616:  84%|████████▍ | 42/50 [03:24<00:39,  4.90s/it]"
     ]
    },
    {
     "name": "stdout",
     "output_type": "stream",
     "text": [
      "[I 2023-07-31 08:53:27,481] Trial 41 finished with value: 0.2179935362066363 and parameters: {'n_items_to_rank': 170}. Best is trial 15 with value: 0.21861617830151564.\n",
      "EvaluatorHoldout: Processed 5961 (100.0%) in 4.93 sec. Users per second: 1209\n"
     ]
    },
    {
     "name": "stderr",
     "output_type": "stream",
     "text": [
      "Best trial: 15. Best value: 0.218616:  86%|████████▌ | 43/50 [03:29<00:34,  4.92s/it]"
     ]
    },
    {
     "name": "stdout",
     "output_type": "stream",
     "text": [
      "[I 2023-07-31 08:53:32,445] Trial 42 finished with value: 0.21731278159791478 and parameters: {'n_items_to_rank': 113}. Best is trial 15 with value: 0.21861617830151564.\n",
      "EvaluatorHoldout: Processed 5961 (100.0%) in 4.98 sec. Users per second: 1197\n"
     ]
    },
    {
     "name": "stderr",
     "output_type": "stream",
     "text": [
      "Best trial: 15. Best value: 0.218616:  88%|████████▊ | 44/50 [03:34<00:29,  4.95s/it]"
     ]
    },
    {
     "name": "stdout",
     "output_type": "stream",
     "text": [
      "[I 2023-07-31 08:53:37,459] Trial 43 finished with value: 0.21831999049826661 and parameters: {'n_items_to_rank': 87}. Best is trial 15 with value: 0.21861617830151564.\n",
      "EvaluatorHoldout: Processed 5961 (100.0%) in 4.81 sec. Users per second: 1240\n"
     ]
    },
    {
     "name": "stderr",
     "output_type": "stream",
     "text": [
      "Best trial: 15. Best value: 0.218616:  90%|█████████ | 45/50 [03:39<00:24,  4.92s/it]"
     ]
    },
    {
     "name": "stdout",
     "output_type": "stream",
     "text": [
      "[I 2023-07-31 08:53:42,298] Trial 44 finished with value: 0.21723940322689356 and parameters: {'n_items_to_rank': 239}. Best is trial 15 with value: 0.21861617830151564.\n",
      "EvaluatorHoldout: Processed 5961 (100.0%) in 4.95 sec. Users per second: 1204\n"
     ]
    },
    {
     "name": "stderr",
     "output_type": "stream",
     "text": [
      "Best trial: 15. Best value: 0.218616:  92%|█████████▏| 46/50 [03:44<00:19,  4.94s/it]"
     ]
    },
    {
     "name": "stdout",
     "output_type": "stream",
     "text": [
      "[I 2023-07-31 08:53:47,282] Trial 45 finished with value: 0.2174320535481737 and parameters: {'n_items_to_rank': 237}. Best is trial 15 with value: 0.21861617830151564.\n",
      "EvaluatorHoldout: Processed 5961 (100.0%) in 4.82 sec. Users per second: 1236\n"
     ]
    },
    {
     "name": "stderr",
     "output_type": "stream",
     "text": [
      "Best trial: 15. Best value: 0.218616:  94%|█████████▍| 47/50 [03:49<00:14,  4.91s/it]"
     ]
    },
    {
     "name": "stdout",
     "output_type": "stream",
     "text": [
      "[I 2023-07-31 08:53:52,138] Trial 46 finished with value: 0.21753336620762648 and parameters: {'n_items_to_rank': 62}. Best is trial 15 with value: 0.21861617830151564.\n",
      "EvaluatorHoldout: Processed 5961 (100.0%) in 4.84 sec. Users per second: 1231\n"
     ]
    },
    {
     "name": "stderr",
     "output_type": "stream",
     "text": [
      "Best trial: 15. Best value: 0.218616:  96%|█████████▌| 48/50 [03:54<00:09,  4.90s/it]"
     ]
    },
    {
     "name": "stdout",
     "output_type": "stream",
     "text": [
      "[I 2023-07-31 08:53:57,015] Trial 47 finished with value: 0.21700096187574705 and parameters: {'n_items_to_rank': 87}. Best is trial 15 with value: 0.21861617830151564.\n",
      "EvaluatorHoldout: Processed 5961 (100.0%) in 4.82 sec. Users per second: 1237\n"
     ]
    },
    {
     "name": "stderr",
     "output_type": "stream",
     "text": [
      "Best trial: 15. Best value: 0.218616:  98%|█████████▊| 49/50 [03:59<00:04,  4.89s/it]"
     ]
    },
    {
     "name": "stdout",
     "output_type": "stream",
     "text": [
      "[I 2023-07-31 08:54:01,868] Trial 48 finished with value: 0.21744925973622684 and parameters: {'n_items_to_rank': 214}. Best is trial 15 with value: 0.21861617830151564.\n",
      "EvaluatorHoldout: Processed 5961 (100.0%) in 4.83 sec. Users per second: 1234\n"
     ]
    },
    {
     "name": "stderr",
     "output_type": "stream",
     "text": [
      "Best trial: 15. Best value: 0.218616: 100%|██████████| 50/50 [04:04<00:00,  4.88s/it]"
     ]
    },
    {
     "name": "stdout",
     "output_type": "stream",
     "text": [
      "[I 2023-07-31 08:54:06,734] Trial 49 finished with value: 0.21747748323873078 and parameters: {'n_items_to_rank': 93}. Best is trial 15 with value: 0.21861617830151564.\n",
      "Recommender_Base_Class: URM Detected 194 ( 5.0%) items with no interactions.\n"
     ]
    },
    {
     "name": "stderr",
     "output_type": "stream",
     "text": [
      "\n"
     ]
    },
    {
     "name": "stdout",
     "output_type": "stream",
     "text": [
      "EvaluatorHoldout: Processed 5976 (100.0%) in 25.28 sec. Users per second: 236\n",
      "IALSRecommender_DiffusionAutoencoderRecommender_TwoLevelRec\n",
      "SLIMElasticNetRecommender_DiffusionAutoencoderRecommender_TwoLevelRec\n",
      "Recommender_Base_Class: URM Detected 211 ( 5.4%) items with no interactions.\n"
     ]
    },
    {
     "name": "stderr",
     "output_type": "stream",
     "text": [
      "[I 2023-07-31 08:54:33,561] A new study created in memory with name: no-name-fed870c5-92b7-4ddf-a3ea-9385a4060a37\n",
      "  0%|          | 0/50 [00:00<?, ?it/s]"
     ]
    },
    {
     "name": "stdout",
     "output_type": "stream",
     "text": [
      "SLIMElasticNetRecommender\n",
      "SLIMElasticNetRecommender_DiffusionAutoencoderRecommender_TwoLevelRec\n",
      "EvaluatorHoldout: Processed 5961 (100.0%) in 4.83 sec. Users per second: 1234\n"
     ]
    },
    {
     "name": "stderr",
     "output_type": "stream",
     "text": [
      "Best trial: 0. Best value: 0.306106:   2%|▏         | 1/50 [00:04<03:57,  4.84s/it]"
     ]
    },
    {
     "name": "stdout",
     "output_type": "stream",
     "text": [
      "[I 2023-07-31 08:54:38,404] Trial 0 finished with value: 0.3061055595156255 and parameters: {'n_items_to_rank': 168}. Best is trial 0 with value: 0.3061055595156255.\n",
      "EvaluatorHoldout: Processed 5961 (100.0%) in 4.82 sec. Users per second: 1236\n"
     ]
    },
    {
     "name": "stderr",
     "output_type": "stream",
     "text": [
      "Best trial: 1. Best value: 0.306377:   4%|▍         | 2/50 [00:09<03:52,  4.84s/it]"
     ]
    },
    {
     "name": "stdout",
     "output_type": "stream",
     "text": [
      "[I 2023-07-31 08:54:43,244] Trial 1 finished with value: 0.30637734174377584 and parameters: {'n_items_to_rank': 182}. Best is trial 1 with value: 0.30637734174377584.\n",
      "EvaluatorHoldout: Processed 5961 (100.0%) in 4.87 sec. Users per second: 1224\n"
     ]
    },
    {
     "name": "stderr",
     "output_type": "stream",
     "text": [
      "Best trial: 1. Best value: 0.306377:   6%|▌         | 3/50 [00:14<03:48,  4.86s/it]"
     ]
    },
    {
     "name": "stdout",
     "output_type": "stream",
     "text": [
      "[I 2023-07-31 08:54:48,130] Trial 2 finished with value: 0.30545795890787847 and parameters: {'n_items_to_rank': 231}. Best is trial 1 with value: 0.30637734174377584.\n",
      "EvaluatorHoldout: Processed 5961 (100.0%) in 4.94 sec. Users per second: 1208\n"
     ]
    },
    {
     "name": "stderr",
     "output_type": "stream",
     "text": [
      "Best trial: 1. Best value: 0.306377:   8%|▊         | 4/50 [00:19<03:45,  4.90s/it]"
     ]
    },
    {
     "name": "stdout",
     "output_type": "stream",
     "text": [
      "[I 2023-07-31 08:54:53,084] Trial 3 finished with value: 0.30608805290480245 and parameters: {'n_items_to_rank': 83}. Best is trial 1 with value: 0.30637734174377584.\n",
      "EvaluatorHoldout: Processed 5961 (100.0%) in 4.86 sec. Users per second: 1226\n"
     ]
    },
    {
     "name": "stderr",
     "output_type": "stream",
     "text": [
      "Best trial: 1. Best value: 0.306377:  10%|█         | 5/50 [00:24<03:40,  4.89s/it]"
     ]
    },
    {
     "name": "stdout",
     "output_type": "stream",
     "text": [
      "[I 2023-07-31 08:54:57,965] Trial 4 finished with value: 0.30603507573342675 and parameters: {'n_items_to_rank': 171}. Best is trial 1 with value: 0.30637734174377584.\n",
      "EvaluatorHoldout: Processed 5961 (100.0%) in 5.16 sec. Users per second: 1154\n"
     ]
    },
    {
     "name": "stderr",
     "output_type": "stream",
     "text": [
      "Best trial: 1. Best value: 0.306377:  12%|█▏        | 6/50 [00:29<03:39,  4.99s/it]"
     ]
    },
    {
     "name": "stdout",
     "output_type": "stream",
     "text": [
      "[I 2023-07-31 08:55:03,148] Trial 5 finished with value: 0.30588527421385225 and parameters: {'n_items_to_rank': 326}. Best is trial 1 with value: 0.30637734174377584.\n",
      "EvaluatorHoldout: Processed 5961 (100.0%) in 4.80 sec. Users per second: 1242\n"
     ]
    },
    {
     "name": "stderr",
     "output_type": "stream",
     "text": [
      "Best trial: 1. Best value: 0.306377:  14%|█▍        | 7/50 [00:34<03:32,  4.93s/it]"
     ]
    },
    {
     "name": "stdout",
     "output_type": "stream",
     "text": [
      "[I 2023-07-31 08:55:07,966] Trial 6 finished with value: 0.3061776212894109 and parameters: {'n_items_to_rank': 146}. Best is trial 1 with value: 0.30637734174377584.\n"
     ]
    }
   ],
   "source": [
    "from datetime import datetime\n",
    "from RecommenderLuca.TwoLevelRec import TwoLevelRec\n",
    "\n",
    "inference_timesteps = {1,5,25,50}\n",
    "recommenders_instances = {itemKNN_instance, slim_elastic_instance, matrix_fact_instance}\n",
    "recommenders_instances_test = {itemKNN_instance_test, slim_elastic_instance_test, matrix_fact_instance_test}\n",
    "\n",
    "print(recommenders_instance for recommenders_instance in recommenders_instances)\n",
    "\n",
    "today_date = datetime.now().strftime('%Y-%m-%d %H:%M:%S')\n",
    "\n",
    "\n",
    "for inference_timestep in inference_timesteps:\n",
    "    auto_diffusion_instance.inference_timesteps = inference_timestep\n",
    "    for cutoff in cutoff_list:\n",
    "        # Define the hyperparameter space\n",
    "        two_level_rec_hyperparam_space = {\n",
    "            \"n_items_to_rank\": list(range(cutoff, 300+cutoff)),\n",
    "        }\n",
    "        for traditional_rec,traditional_rec_test in zip(recommenders_instances, recommenders_instances_test):\n",
    "            two_level_rec = TwoLevelRec(URM_train=URM_train, recommender1= traditional_rec, recommender2=auto_diffusion_instance, max_cutoff=max(cutoff_list))\n",
    "             # Create the directory with today's date\n",
    "            directory_path = os.path.join('/Users/lucaortolomo/Desktop/TESI/Thesis_DiffusionRecommender-main/experiment_data', today_date,'cutoff_'+str(cutoff), str(inference_timestep))\n",
    "            os.makedirs(directory_path, exist_ok=True)\n",
    "            \n",
    "            print(traditional_rec.RECOMMENDER_NAME)\n",
    "            \n",
    "            print(two_level_rec.RECOMMENDER_NAME)\n",
    "\n",
    "           \n",
    "\n",
    "            # Create an objective function\n",
    "            objective = create_objective_d(recommender_instance=two_level_rec, URM_train= URM_train, URM_validation=URM_validation, hyperparam_space=two_level_rec_hyperparam_space, evaluator_validation=evaluator_validation, cutoff = cutoff, directory_path=directory_path)\n",
    "\n",
    "            # Create the study and run optimization\n",
    "            study = optuna.create_study(direction=\"maximize\")\n",
    "            study.optimize(objective, n_trials=50,show_progress_bar=True)\n",
    "            \n",
    "            two_level_rec_test = TwoLevelRec(URM_train=URM_train+URM_validation, recommender1= traditional_rec_test, recommender2=auto_diffusion_instance_test, max_cutoff=max(cutoff_list))\n",
    "            two_level_rec_test.fit(** study.best_params)\n",
    "            filename = \"best_models_last_\" + str(inference_timestep) + \"_timesteps\" + \".csv\"\n",
    "            filename = os.path.join(directory_path, filename)\n",
    "            filename2 = auto_diffusion_instance.RECOMMENDER_NAME + \"_\" + traditional_rec.RECOMMENDER_NAME + \"_\" + str(inference_timestep)\n",
    "            filename2 = os.path.join(directory_path, filename2)\n",
    "            result_df, _ = evaluator_test.evaluateRecommender(two_level_rec_test)\n",
    "            result_df[\"RECOMMENDER\"] = two_level_rec_test.RECOMMENDER_NAME\n",
    "            result_df[\"PARAMS\"] = str(study.best_params)\n",
    "            print(two_level_rec.RECOMMENDER_NAME)\n",
    "            print(two_level_rec_test.RECOMMENDER_NAME)\n",
    "\n",
    "\n",
    "            \n",
    "            # Check if file exists\n",
    "            if os.path.isfile(filename):\n",
    "                # If it exists, append without writing the header\n",
    "                pd.DataFrame(result_df.loc[10]).transpose().to_csv(filename, mode='a', header=False, index=False)\n",
    "            else:\n",
    "                # If it doesn't exist, create it, write the header\n",
    "                pd.DataFrame(result_df.loc[10]).transpose().to_csv(filename, mode='w', header=True, index=False)\n",
    "\n",
    "        "
   ]
  },
  {
   "cell_type": "code",
   "execution_count": null,
   "metadata": {},
   "outputs": [],
   "source": [
    "import os\n",
    "import pandas as pd\n",
    "\n",
    "# Indirizzo della cartella\n",
    "folder_path = \"/Users/lucaortolomo/Desktop/TESI/Thesis_DiffusionRecommender-main/experiment_data/2023-07-31 03:41:53/cutoff_10\"\n",
    "\n",
    "# Ottieni tutti i file nella cartella\n",
    "files = [f for f in os.listdir(folder_path) if os.path.isfile(os.path.join(folder_path, f))]\n",
    "\n",
    "# Itera su ogni file\n",
    "for file in files:\n",
    "    # Costruisci il percorso completo del file\n",
    "    file_path = os.path.join(folder_path, file)\n",
    "\n",
    "    # Leggi il file come un DataFrame\n",
    "    df = pd.read_csv(file_path)  # assume che i tuoi file siano in formato CSV\n",
    "\n",
    "    # Trova il valore massimo nella colonna 'NDCG'\n",
    "    max_ndcg_row = df[df['NDCG'] == df['NDCG'].max()]\n",
    "\n",
    "    n_timesteps = file.\n",
    "\n",
    "    directory_path = os.path.join('/Users/lucaortolomo/Desktop/TESI/Thesis_DiffusionRecommender-main/experiment_data', today_date,'cutoff_'+str(cutoff), str(inference_timestep))\n",
    "    os.makedirs(directory_path, exist_ok=True)\n",
    "    \n",
    "\n",
    "        filename = directory_path + recommender_instance.RECOMMENDER_NAME + \".csv\"\n",
    "\n",
    "        # Check if file exists\n",
    "        if os.path.isfile(filename):\n",
    "            # If it exists, append without writing the header\n",
    "           pd.DataFrame(result_df.loc[cutoff]).transpose().to_csv(filename, mode='a', header=False, index=False)\n",
    "        else:\n",
    "            # If it doesn't exist, create it, write the header\n",
    "           pd.DataFrame(result_df.loc[cutoff]).transpose().to_csv(filename, mode='w', header=True, index=False)\n",
    "    \n",
    "\n",
    "    print(f\"File: {file}, NDCG massimo: {max_ndcg}\")\n"
   ]
  },
  {
   "cell_type": "code",
   "execution_count": 18,
   "metadata": {},
   "outputs": [
    {
     "name": "stdout",
     "output_type": "stream",
     "text": [
      "/Users/lucaortolomo/Desktop/TESI/Thesis_DiffusionRecommender-main/experiment_data/2023-07-31 03:41:53/cutoff_10/1DiffusionAutoencoderRecommender_ItemKNNCFRecommender_TwoLevelRec.csv\n",
      "20\n",
      "Recommender_Base_Class: URM Detected 194 ( 5.0%) items with no interactions.\n",
      "EvaluatorHoldout: Processed 5976 (100.0%) in 5.41 sec. Users per second: 1105\n",
      "/Users/lucaortolomo/Desktop/TESI/Thesis_DiffusionRecommender-main/experiment_data/2023-07-31 03:41:53/cutoff_10/1DiffusionAutoencoderRecommender_SLIMElasticNetRecommender_TwoLevelRec.csv\n",
      "28\n",
      "Recommender_Base_Class: URM Detected 194 ( 5.0%) items with no interactions.\n",
      "EvaluatorHoldout: Processed 5976 (100.0%) in 4.36 sec. Users per second: 1370\n",
      "/Users/lucaortolomo/Desktop/TESI/Thesis_DiffusionRecommender-main/experiment_data/2023-07-31 03:41:53/cutoff_10/1DiffusionAutoencoderRecommender_IALSRecommender_TwoLevelRec.csv\n",
      "11\n",
      "Recommender_Base_Class: URM Detected 194 ( 5.0%) items with no interactions.\n",
      "EvaluatorHoldout: Processed 5976 (100.0%) in 3.55 sec. Users per second: 1683\n",
      "/Users/lucaortolomo/Desktop/TESI/Thesis_DiffusionRecommender-main/experiment_data/2023-07-31 03:41:53/cutoff_10/5DiffusionAutoencoderRecommender_ItemKNNCFRecommender_TwoLevelRec.csv\n",
      "10\n",
      "Recommender_Base_Class: URM Detected 194 ( 5.0%) items with no interactions.\n",
      "EvaluatorHoldout: Processed 5976 (100.0%) in 5.01 sec. Users per second: 1193\n",
      "/Users/lucaortolomo/Desktop/TESI/Thesis_DiffusionRecommender-main/experiment_data/2023-07-31 03:41:53/cutoff_10/5DiffusionAutoencoderRecommender_SLIMElasticNetRecommender_TwoLevelRec.csv\n",
      "202\n",
      "Recommender_Base_Class: URM Detected 194 ( 5.0%) items with no interactions.\n",
      "EvaluatorHoldout: Processed 5976 (100.0%) in 4.07 sec. Users per second: 1470\n",
      "/Users/lucaortolomo/Desktop/TESI/Thesis_DiffusionRecommender-main/experiment_data/2023-07-31 03:41:53/cutoff_10/5DiffusionAutoencoderRecommender_IALSRecommender_TwoLevelRec.csv\n",
      "47\n",
      "Recommender_Base_Class: URM Detected 194 ( 5.0%) items with no interactions.\n",
      "EvaluatorHoldout: Processed 5976 (100.0%) in 3.91 sec. Users per second: 1529\n",
      "/Users/lucaortolomo/Desktop/TESI/Thesis_DiffusionRecommender-main/experiment_data/2023-07-31 03:41:53/cutoff_10/25DiffusionAutoencoderRecommender_ItemKNNCFRecommender_TwoLevelRec.csv\n",
      "204\n",
      "Recommender_Base_Class: URM Detected 194 ( 5.0%) items with no interactions.\n",
      "EvaluatorHoldout: Processed 5976 (100.0%) in 5.29 sec. Users per second: 1130\n",
      "/Users/lucaortolomo/Desktop/TESI/Thesis_DiffusionRecommender-main/experiment_data/2023-07-31 03:41:53/cutoff_10/25DiffusionAutoencoderRecommender_SLIMElasticNetRecommender_TwoLevelRec.csv\n",
      "105\n",
      "Recommender_Base_Class: URM Detected 194 ( 5.0%) items with no interactions.\n",
      "EvaluatorHoldout: Processed 5976 (100.0%) in 4.06 sec. Users per second: 1473\n",
      "/Users/lucaortolomo/Desktop/TESI/Thesis_DiffusionRecommender-main/experiment_data/2023-07-31 03:41:53/cutoff_10/25DiffusionAutoencoderRecommender_IALSRecommender_TwoLevelRec.csv\n",
      "285\n",
      "Recommender_Base_Class: URM Detected 194 ( 5.0%) items with no interactions.\n",
      "EvaluatorHoldout: Processed 5976 (100.0%) in 3.79 sec. Users per second: 1576\n",
      "/Users/lucaortolomo/Desktop/TESI/Thesis_DiffusionRecommender-main/experiment_data/2023-07-31 03:41:53/cutoff_10/50DiffusionAutoencoderRecommender_ItemKNNCFRecommender_TwoLevelRec.csv\n",
      "128\n",
      "Recommender_Base_Class: URM Detected 194 ( 5.0%) items with no interactions.\n",
      "EvaluatorHoldout: Processed 5976 (100.0%) in 5.26 sec. Users per second: 1136\n",
      "/Users/lucaortolomo/Desktop/TESI/Thesis_DiffusionRecommender-main/experiment_data/2023-07-31 03:41:53/cutoff_10/50DiffusionAutoencoderRecommender_SLIMElasticNetRecommender_TwoLevelRec.csv\n",
      "53\n",
      "Recommender_Base_Class: URM Detected 194 ( 5.0%) items with no interactions.\n",
      "EvaluatorHoldout: Processed 5976 (100.0%) in 4.02 sec. Users per second: 1487\n",
      "/Users/lucaortolomo/Desktop/TESI/Thesis_DiffusionRecommender-main/experiment_data/2023-07-31 03:41:53/cutoff_10/50DiffusionAutoencoderRecommender_IALSRecommender_TwoLevelRec.csv\n",
      "55\n",
      "Recommender_Base_Class: URM Detected 194 ( 5.0%) items with no interactions.\n",
      "EvaluatorHoldout: Processed 5976 (100.0%) in 3.75 sec. Users per second: 1594\n"
     ]
    }
   ],
   "source": [
    "import ast\n",
    "folder_path = \"/Users/lucaortolomo/Desktop/TESI/Thesis_DiffusionRecommender-main/experiment_data/2023-07-31 03:41:53/cutoff_10\"\n",
    "recommenders_instances = [itemKNN_instance, slim_elastic_instance, matrix_fact_instance]\n",
    "recommenders_instances_test = [itemKNN_instance_test, slim_elastic_instance_test, matrix_fact_instance_test]\n",
    "inference_timesteps = [1,5,25,50]\n",
    "\n",
    "for inference_timestep in inference_timesteps:\n",
    "    auto_diffusion_instance_test.inference_timesteps = inference_timestep\n",
    "    directory_path = os.path.join(folder_path, '_best_timestep', str(inference_timestep))\n",
    "    os.makedirs(directory_path, exist_ok=True)\n",
    "    for traditional_rec,traditional_rec_test in zip(recommenders_instances, recommenders_instances_test):\n",
    "        file_path = os.path.join(folder_path , str(inference_timestep) + auto_diffusion_instance.RECOMMENDER_NAME + '_' + traditional_rec.RECOMMENDER_NAME + '_' + 'TwoLevelRec.csv')\n",
    "        print(file_path)\n",
    "        df = pd.read_csv(file_path)  # assume che i tuoi file siano in formato CSV\n",
    "\n",
    "        # Trova il valore massimo nella colonna 'NDCG'\n",
    "        max_ndcg_row = df[df['NDCG'] == df['NDCG'].max()]\n",
    "        print(ast.literal_eval(max_ndcg_row['hyperparams'].iloc[0])['n_items_to_rank'])\n",
    "        two_level_rec_test = TwoLevelRec(URM_train=URM_train+URM_validation, recommender1= auto_diffusion_instance_test, recommender2=traditional_rec_test, max_cutoff=max(cutoff_list))\n",
    "        two_level_rec_test.fit(n_items_to_rank= ast.literal_eval(max_ndcg_row['hyperparams'].iloc[0])['n_items_to_rank'])\n",
    "        result_df, _ =evaluator_test.evaluateRecommender(two_level_rec_test)\n",
    "        result_df[\"RECOMMENDER\"] = two_level_rec_test.RECOMMENDER_NAME\n",
    "        result_df[\"PARAMS\"] = str(max_ndcg_row['hyperparams'].iloc[0])\n",
    "        filename = \"best_models_last_\" + str(inference_timestep) + \"_timesteps\" + \".csv\"\n",
    "        filename = os.path.join(directory_path, filename)\n",
    "\n",
    "        if os.path.isfile(filename):\n",
    "                # If it exists, append without writing the header\n",
    "                pd.DataFrame(result_df.loc[10]).transpose().to_csv(filename, mode='a', header=False, index=False)\n",
    "        else:\n",
    "                # If it doesn't exist, create it, write the header\n",
    "                pd.DataFrame(result_df.loc[10]).transpose().to_csv(filename, mode='w', header=True, index=False)\n",
    "\n",
    "        \n",
    "        "
   ]
  },
  {
   "cell_type": "code",
   "execution_count": 17,
   "metadata": {},
   "outputs": [
    {
     "name": "stdout",
     "output_type": "stream",
     "text": [
      "/Users/lucaortolomo/Desktop/TESI/Thesis_DiffusionRecommender-main/experiment_data/2023-07-31 03:41:53/cutoff_50/1DiffusionAutoencoderRecommender_ItemKNNCFRecommender_TwoLevelRec.csv\n",
      "172\n",
      "Recommender_Base_Class: URM Detected 194 ( 5.0%) items with no interactions.\n"
     ]
    },
    {
     "name": "stderr",
     "output_type": "stream",
     "text": [
      "/Users/lucaortolomo/Desktop/TESI/Thesis_DiffusionRecommender-main/Diffusion/DiffusionRecommender.py:266: UserWarning: Sparse CSR tensor support is in beta state. If you miss a functionality in the sparse tensor support, please submit a feature request to https://github.com/pytorch/pytorch/issues. (Triggered internally at /Users/runner/work/pytorch/pytorch/pytorch/aten/src/ATen/SparseCsrTensorImpl.cpp:56.)\n",
      "  user_profile_batch = torch.sparse_csr_tensor(user_profile_batch.indptr,\n"
     ]
    },
    {
     "name": "stdout",
     "output_type": "stream",
     "text": [
      "EvaluatorHoldout: Processed 5976 (100.0%) in 5.64 sec. Users per second: 1060\n",
      "/Users/lucaortolomo/Desktop/TESI/Thesis_DiffusionRecommender-main/experiment_data/2023-07-31 03:41:53/cutoff_50/1DiffusionAutoencoderRecommender_SLIMElasticNetRecommender_TwoLevelRec.csv\n",
      "187\n",
      "Recommender_Base_Class: URM Detected 194 ( 5.0%) items with no interactions.\n",
      "EvaluatorHoldout: Processed 5976 (100.0%) in 4.18 sec. Users per second: 1430\n",
      "/Users/lucaortolomo/Desktop/TESI/Thesis_DiffusionRecommender-main/experiment_data/2023-07-31 03:41:53/cutoff_50/1DiffusionAutoencoderRecommender_IALSRecommender_TwoLevelRec.csv\n",
      "184\n",
      "Recommender_Base_Class: URM Detected 194 ( 5.0%) items with no interactions.\n",
      "EvaluatorHoldout: Processed 5976 (100.0%) in 3.94 sec. Users per second: 1519\n",
      "/Users/lucaortolomo/Desktop/TESI/Thesis_DiffusionRecommender-main/experiment_data/2023-07-31 03:41:53/cutoff_50/5DiffusionAutoencoderRecommender_ItemKNNCFRecommender_TwoLevelRec.csv\n",
      "143\n",
      "Recommender_Base_Class: URM Detected 194 ( 5.0%) items with no interactions.\n",
      "EvaluatorHoldout: Processed 5976 (100.0%) in 5.33 sec. Users per second: 1121\n",
      "/Users/lucaortolomo/Desktop/TESI/Thesis_DiffusionRecommender-main/experiment_data/2023-07-31 03:41:53/cutoff_50/5DiffusionAutoencoderRecommender_SLIMElasticNetRecommender_TwoLevelRec.csv\n",
      "152\n",
      "Recommender_Base_Class: URM Detected 194 ( 5.0%) items with no interactions.\n",
      "EvaluatorHoldout: Processed 5976 (100.0%) in 4.18 sec. Users per second: 1429\n",
      "/Users/lucaortolomo/Desktop/TESI/Thesis_DiffusionRecommender-main/experiment_data/2023-07-31 03:41:53/cutoff_50/5DiffusionAutoencoderRecommender_IALSRecommender_TwoLevelRec.csv\n",
      "220\n",
      "Recommender_Base_Class: URM Detected 194 ( 5.0%) items with no interactions.\n",
      "EvaluatorHoldout: Processed 5976 (100.0%) in 3.78 sec. Users per second: 1580\n",
      "/Users/lucaortolomo/Desktop/TESI/Thesis_DiffusionRecommender-main/experiment_data/2023-07-31 03:41:53/cutoff_50/25DiffusionAutoencoderRecommender_ItemKNNCFRecommender_TwoLevelRec.csv\n",
      "164\n",
      "Recommender_Base_Class: URM Detected 194 ( 5.0%) items with no interactions.\n",
      "EvaluatorHoldout: Processed 5976 (100.0%) in 5.24 sec. Users per second: 1140\n",
      "/Users/lucaortolomo/Desktop/TESI/Thesis_DiffusionRecommender-main/experiment_data/2023-07-31 03:41:53/cutoff_50/25DiffusionAutoencoderRecommender_SLIMElasticNetRecommender_TwoLevelRec.csv\n",
      "120\n",
      "Recommender_Base_Class: URM Detected 194 ( 5.0%) items with no interactions.\n",
      "EvaluatorHoldout: Processed 5976 (100.0%) in 3.98 sec. Users per second: 1501\n",
      "/Users/lucaortolomo/Desktop/TESI/Thesis_DiffusionRecommender-main/experiment_data/2023-07-31 03:41:53/cutoff_50/25DiffusionAutoencoderRecommender_IALSRecommender_TwoLevelRec.csv\n",
      "148\n",
      "Recommender_Base_Class: URM Detected 194 ( 5.0%) items with no interactions.\n",
      "EvaluatorHoldout: Processed 5976 (100.0%) in 3.74 sec. Users per second: 1598\n",
      "/Users/lucaortolomo/Desktop/TESI/Thesis_DiffusionRecommender-main/experiment_data/2023-07-31 03:41:53/cutoff_50/50DiffusionAutoencoderRecommender_ItemKNNCFRecommender_TwoLevelRec.csv\n",
      "77\n",
      "Recommender_Base_Class: URM Detected 194 ( 5.0%) items with no interactions.\n",
      "EvaluatorHoldout: Processed 5976 (100.0%) in 5.17 sec. Users per second: 1155\n",
      "/Users/lucaortolomo/Desktop/TESI/Thesis_DiffusionRecommender-main/experiment_data/2023-07-31 03:41:53/cutoff_50/50DiffusionAutoencoderRecommender_SLIMElasticNetRecommender_TwoLevelRec.csv\n",
      "292\n",
      "Recommender_Base_Class: URM Detected 194 ( 5.0%) items with no interactions.\n",
      "EvaluatorHoldout: Processed 5976 (100.0%) in 4.02 sec. Users per second: 1485\n",
      "/Users/lucaortolomo/Desktop/TESI/Thesis_DiffusionRecommender-main/experiment_data/2023-07-31 03:41:53/cutoff_50/50DiffusionAutoencoderRecommender_IALSRecommender_TwoLevelRec.csv\n",
      "316\n",
      "Recommender_Base_Class: URM Detected 194 ( 5.0%) items with no interactions.\n",
      "EvaluatorHoldout: Processed 5976 (100.0%) in 3.75 sec. Users per second: 1592\n"
     ]
    }
   ],
   "source": [
    "import ast\n",
    "folder_path = \"/Users/lucaortolomo/Desktop/TESI/Thesis_DiffusionRecommender-main/experiment_data/2023-07-31 03:41:53/cutoff_50\"\n",
    "recommenders_instances = [itemKNN_instance, slim_elastic_instance, matrix_fact_instance]\n",
    "recommenders_instances_test = [itemKNN_instance_test, slim_elastic_instance_test, matrix_fact_instance_test]\n",
    "inference_timesteps = [1,5,25,50]\n",
    "\n",
    "for inference_timestep in inference_timesteps:\n",
    "    auto_diffusion_instance_test.inference_timesteps = inference_timestep\n",
    "    directory_path = os.path.join(folder_path, '_best_timestep', str(inference_timestep))\n",
    "    os.makedirs(directory_path, exist_ok=True)\n",
    "    for traditional_rec,traditional_rec_test in zip(recommenders_instances, recommenders_instances_test):\n",
    "        file_path = os.path.join(folder_path , str(inference_timestep) + auto_diffusion_instance.RECOMMENDER_NAME + '_' + traditional_rec.RECOMMENDER_NAME + '_' + 'TwoLevelRec.csv')\n",
    "        print(file_path)\n",
    "        df = pd.read_csv(file_path)  # assume che i tuoi file siano in formato CSV\n",
    "\n",
    "        # Trova il valore massimo nella colonna 'NDCG'\n",
    "        max_ndcg_row = df[df['NDCG'] == df['NDCG'].max()]\n",
    "        print(ast.literal_eval(max_ndcg_row['hyperparams'].iloc[0])['n_items_to_rank'])\n",
    "        two_level_rec_test = TwoLevelRec(URM_train=URM_train+URM_validation, recommender1= auto_diffusion_instance_test, recommender2=traditional_rec_test, max_cutoff=max(cutoff_list))\n",
    "        two_level_rec_test.fit(n_items_to_rank= ast.literal_eval(max_ndcg_row['hyperparams'].iloc[0])['n_items_to_rank'])\n",
    "        result_df, _ =evaluator_test.evaluateRecommender(two_level_rec_test)\n",
    "        result_df[\"RECOMMENDER\"] = two_level_rec_test.RECOMMENDER_NAME\n",
    "        result_df[\"PARAMS\"] = str(max_ndcg_row['hyperparams'].iloc[0])\n",
    "        filename = \"best_models_last_\" + str(inference_timestep) + \"_timesteps\" + \".csv\"\n",
    "        filename = os.path.join(directory_path, filename)\n",
    "\n",
    "        if os.path.isfile(filename):\n",
    "                # If it exists, append without writing the header\n",
    "                pd.DataFrame(result_df.loc[10]).transpose().to_csv(filename, mode='a', header=False, index=False)\n",
    "        else:\n",
    "                # If it doesn't exist, create it, write the header\n",
    "                pd.DataFrame(result_df.loc[10]).transpose().to_csv(filename, mode='w', header=True, index=False)\n",
    "\n",
    "        \n",
    "        "
   ]
  },
  {
   "cell_type": "code",
   "execution_count": 25,
   "metadata": {},
   "outputs": [
    {
     "name": "stdout",
     "output_type": "stream",
     "text": [
      "Saved LaTeX version to /Users/lucaortolomo/Desktop/TESI/Thesis_DiffusionRecommender-main/experiment_data/2023-07-31 09:13:50/cutoff_10/1/best_models_last_1_timesteps.tex\n",
      "Saved LaTeX version to /Users/lucaortolomo/Desktop/TESI/Thesis_DiffusionRecommender-main/experiment_data/2023-07-31 09:13:50/cutoff_10/5/best_models_last_5_timesteps.tex\n",
      "Saved LaTeX version to /Users/lucaortolomo/Desktop/TESI/Thesis_DiffusionRecommender-main/experiment_data/2023-07-31 09:13:50/cutoff_10/25/best_models_last_25_timesteps.tex\n",
      "Saved LaTeX version to /Users/lucaortolomo/Desktop/TESI/Thesis_DiffusionRecommender-main/experiment_data/2023-07-31 09:13:50/cutoff_10/50/best_models_last_50_timesteps.tex\n",
      "Saved LaTeX version to /Users/lucaortolomo/Desktop/TESI/Thesis_DiffusionRecommender-main/experiment_data/2023-07-31 09:13:50/cutoff_50/1/best_models_last_1_timesteps.tex\n",
      "Saved LaTeX version to /Users/lucaortolomo/Desktop/TESI/Thesis_DiffusionRecommender-main/experiment_data/2023-07-31 09:13:50/cutoff_50/5/best_models_last_5_timesteps.tex\n",
      "Saved LaTeX version to /Users/lucaortolomo/Desktop/TESI/Thesis_DiffusionRecommender-main/experiment_data/2023-07-31 09:13:50/cutoff_50/25/best_models_last_25_timesteps.tex\n",
      "Saved LaTeX version to /Users/lucaortolomo/Desktop/TESI/Thesis_DiffusionRecommender-main/experiment_data/2023-07-31 09:13:50/cutoff_50/50/best_models_last_50_timesteps.tex\n"
     ]
    }
   ],
   "source": [
    "import pandas as pd\n",
    "import os\n",
    "\n",
    "def csv_to_latex(base_dir):\n",
    "    cutoff_dirs = [\"cutoff_10\", \"cutoff_50\"]\n",
    "    timesteps_dirs = [\"1\", \"5\", \"25\", \"50\"]\n",
    "\n",
    "    latex_output = {}\n",
    "\n",
    "    for cutoff in cutoff_dirs:\n",
    "        for timestep in timesteps_dirs:\n",
    "            path = os.path.join(base_dir, cutoff, timestep, f'best_models_last_{timestep}_timesteps.csv')\n",
    "            if os.path.exists(path):\n",
    "                df = pd.read_csv(path)\n",
    "                latex_str = df.to_latex(index=False)\n",
    "                output_file_name = os.path.join(base_dir, cutoff, timestep, f'best_models_last_{timestep}_timesteps.tex')\n",
    "                with open(output_file_name, 'w') as f:\n",
    "                    f.write(latex_str)\n",
    "                print(f'Saved LaTeX version to {output_file_name}')\n",
    "            else:\n",
    "                print(f'File {path} does not exist.')\n",
    "\n",
    "base_dir = \"/Users/lucaortolomo/Desktop/TESI/Thesis_DiffusionRecommender-main/experiment_data/2023-07-31 09:13:50\"\n",
    "csv_to_latex(base_dir)\n"
   ]
  },
  {
   "cell_type": "code",
   "execution_count": 3,
   "metadata": {},
   "outputs": [
    {
     "name": "stdout",
     "output_type": "stream",
     "text": [
      "Saved LaTeX version to /Users/lucaortolomo/Desktop/TESI/Thesis_DiffusionRecommender-main/experiment_data/2023-07-31 09:13:50/cutoff_10/latex_best/best_models_cutoff_10_1_timesteps.tex\n",
      "Saved LaTeX version to /Users/lucaortolomo/Desktop/TESI/Thesis_DiffusionRecommender-main/experiment_data/2023-07-31 09:13:50/cutoff_10/latex_best/best_models_cutoff_10_5_timesteps.tex\n",
      "Saved LaTeX version to /Users/lucaortolomo/Desktop/TESI/Thesis_DiffusionRecommender-main/experiment_data/2023-07-31 09:13:50/cutoff_10/latex_best/best_models_cutoff_10_25_timesteps.tex\n",
      "Saved LaTeX version to /Users/lucaortolomo/Desktop/TESI/Thesis_DiffusionRecommender-main/experiment_data/2023-07-31 09:13:50/cutoff_10/latex_best/best_models_cutoff_10_50_timesteps.tex\n",
      "Saved LaTeX version to /Users/lucaortolomo/Desktop/TESI/Thesis_DiffusionRecommender-main/experiment_data/2023-07-31 09:13:50/cutoff_10/latex_best/best_models_cutoff_50_1_timesteps.tex\n",
      "Saved LaTeX version to /Users/lucaortolomo/Desktop/TESI/Thesis_DiffusionRecommender-main/experiment_data/2023-07-31 09:13:50/cutoff_10/latex_best/best_models_cutoff_50_5_timesteps.tex\n",
      "Saved LaTeX version to /Users/lucaortolomo/Desktop/TESI/Thesis_DiffusionRecommender-main/experiment_data/2023-07-31 09:13:50/cutoff_10/latex_best/best_models_cutoff_50_25_timesteps.tex\n",
      "Saved LaTeX version to /Users/lucaortolomo/Desktop/TESI/Thesis_DiffusionRecommender-main/experiment_data/2023-07-31 09:13:50/cutoff_10/latex_best/best_models_cutoff_50_50_timesteps.tex\n"
     ]
    }
   ],
   "source": [
    "import pandas as pd\n",
    "import os\n",
    "\n",
    "def csv_to_latex(base_dir, output_dir):\n",
    "    # The desired columns\n",
    "    selected_columns = [\n",
    "        'NDCG', \n",
    "        'PRECISION', \n",
    "        'MAP', \n",
    "        'NOVELTY', \n",
    "        'DIVERSITY_GINI', \n",
    "        'DIVERSITY_MEAN_INTER_LIST', \n",
    "        'COVERAGE_ITEM', \n",
    "        'AVERAGE_POPULARITY'\n",
    "    ]\n",
    "\n",
    "    cutoff_dirs = [\"cutoff_10\", \"cutoff_50\"]\n",
    "    timesteps_dirs = [\"1\", \"5\", \"25\", \"50\"]\n",
    "\n",
    "    for cutoff in cutoff_dirs:\n",
    "        for timestep in timesteps_dirs:\n",
    "            path = os.path.join(base_dir, cutoff, timestep, f'best_models_last_{timestep}_timesteps.csv')\n",
    "            if os.path.exists(path):\n",
    "                df = pd.read_csv(path)\n",
    "\n",
    "                # Filter the dataframe to keep only the desired columns\n",
    "                df = df[selected_columns]\n",
    "                latex_str = df.to_latex(index=False)\n",
    "                \n",
    "                # Save the file in the specified output directory\n",
    "                output_file_name = os.path.join(output_dir, f'best_models_{cutoff}_{timestep}_timesteps.tex')\n",
    "                with open(output_file_name, 'w') as f:\n",
    "                    f.write(latex_str)\n",
    "                print(f'Saved LaTeX version to {output_file_name}')\n",
    "            else:\n",
    "                print(f'File {path} does not exist.')\n",
    "\n",
    "base_dir = \"/Users/lucaortolomo/Desktop/TESI/Thesis_DiffusionRecommender-main/experiment_data/2023-07-31 09:13:50\"\n",
    "output_dir = \"/Users/lucaortolomo/Desktop/TESI/Thesis_DiffusionRecommender-main/experiment_data/2023-07-31 09:13:50/cutoff_10/latex_best\"\n",
    "csv_to_latex(base_dir, output_dir)\n"
   ]
  },
  {
   "cell_type": "code",
   "execution_count": 1,
   "metadata": {},
   "outputs": [
    {
     "name": "stdout",
     "output_type": "stream",
     "text": [
      "/Users/lucaortolomo/Desktop/TESI/Thesis_DiffusionRecommender-main/experiment_data/2023-07-31 09:13:50\n",
      "/Users/lucaortolomo/Desktop/TESI/Thesis_DiffusionRecommender-main/experiment_data/2023-07-31 03:41:53\n",
      "Saved LaTeX version to /Users/lucaortolomo/Desktop/TESI/Thesis_DiffusionRecommender-main/experiment_data/FINAL_TABLE/final_table.tex\n"
     ]
    }
   ],
   "source": [
    "import pandas as pd\n",
    "import os\n",
    "\n",
    "def csv_to_latex(dirs, output_file_path):\n",
    "    # The desired columns\n",
    "    selected_columns = [\n",
    "        'RECOMMENDER',\n",
    "        'PARAMS',\n",
    "        'NDCG', \n",
    "        'PRECISION', \n",
    "        'MAP', \n",
    "        'NOVELTY', \n",
    "        'DIVERSITY_GINI', \n",
    "        'DIVERSITY_MEAN_INTER_LIST', \n",
    "        'COVERAGE_ITEM', \n",
    "        'COVERAGE_ITEM_HIT', \n",
    "        'AVERAGE_POPULARITY'\n",
    "    ]\n",
    "\n",
    "    # Column order\n",
    "    final_column_order = [\n",
    "        'RECOMMENDER',\n",
    "        'PARAMS',\n",
    "        'TIMESTEP',\n",
    "        'CUTOFF',\n",
    "        'NDCG', \n",
    "        'PRECISION', \n",
    "        'MAP', \n",
    "        'NOVELTY', \n",
    "        'DIVERSITY_GINI', \n",
    "        'DIVERSITY_MEAN_INTER_LIST', \n",
    "        'COVERAGE_ITEM', \n",
    "        'COVERAGE_ITEM_HIT', \n",
    "        'AVERAGE_POPULARITY'\n",
    "    ]\n",
    "\n",
    "    cutoff_dirs = [\"cutoff_10\", \"cutoff_50\"]\n",
    "    timesteps_dirs = [\"1\", \"5\", \"25\", \"50\"]\n",
    "\n",
    "    all_dfs = [] # list to hold all the dataframes\n",
    "\n",
    "    for base_dir in dirs:\n",
    "        print(base_dir)\n",
    "        for cutoff in cutoff_dirs:\n",
    "            for timestep in timesteps_dirs:\n",
    "                path = os.path.join(base_dir, cutoff, timestep, f'best_models_last_{timestep}_timesteps.csv')\n",
    "                if os.path.exists(path):\n",
    "                    df = pd.read_csv(path)\n",
    "\n",
    "                    # Filter the dataframe to keep only the desired columns\n",
    "                    df = df[selected_columns]\n",
    "\n",
    "                    # Add cutoff, timestep, and directory columns to the dataframe\n",
    "                    df['CUTOFF'] = cutoff\n",
    "                    df['TIMESTEP'] = timestep\n",
    "                    all_dfs.append(df)\n",
    "    \n",
    "    # Concatenate all the dataframes into a single one\n",
    "    final_df = pd.concat(all_dfs, ignore_index=True)\n",
    "    final_df = final_df[final_column_order]  # rearrange columns\n",
    "    latex_str = final_df.to_latex(index=False)\n",
    "\n",
    "    # Save the final LaTeX table to the specified output path\n",
    "    with open(output_file_path, 'w') as f:\n",
    "        f.write(latex_str)\n",
    "\n",
    "    print(f'Saved LaTeX version to {output_file_path}')\n",
    "\n",
    "dirs = [\n",
    "    \"/Users/lucaortolomo/Desktop/TESI/Thesis_DiffusionRecommender-main/experiment_data/2023-07-31 09:13:50\",\n",
    "    \"/Users/lucaortolomo/Desktop/TESI/Thesis_DiffusionRecommender-main/experiment_data/2023-07-31 03:41:53\"\n",
    "]\n",
    "output_file_path = \"/Users/lucaortolomo/Desktop/TESI/Thesis_DiffusionRecommender-main/experiment_data/FINAL_TABLE/final_table.tex\"\n",
    "csv_to_latex(dirs, output_file_path)\n"
   ]
  },
  {
   "cell_type": "code",
   "execution_count": 51,
   "metadata": {},
   "outputs": [
    {
     "name": "stdout",
     "output_type": "stream",
     "text": [
      "Modified content saved to /Users/lucaortolomo/Desktop/TESI/Thesis_DiffusionRecommender-main/experiment_data/FINAL_TABLE/modified_latex_file.tex\n"
     ]
    }
   ],
   "source": [
    "import re\n",
    "\n",
    "def replace_names_in_latex_file(input_filepath, output_filepath):\n",
    "    with open(input_filepath, 'r', encoding='utf-8') as file:\n",
    "        content = file.read()\n",
    "\n",
    "\n",
    "\n",
    "    replacements = {\n",
    "        r\"ItemKNN\\w*\": \"ItemKNN\",\n",
    "        r\"SLIM\\w*\": \"SLIM\",\n",
    "        r\"IALS\\w*\": \"IALS\",\n",
    "        r\"Diffusi\\w*\": \"Diffusion\",\n",
    "        \"PARAMS\": \"PARAM\",\n",
    "        \n",
    "    }\n",
    "\n",
    "    for pattern, replacement in replacements.items():\n",
    "        content = re.sub(pattern, replacement, content)\n",
    "\n",
    "    with open(output_filepath, 'w', encoding='utf-8') as file:\n",
    "        file.write(content)\n",
    "\n",
    "\n",
    "# Esempio di utilizzo:\n",
    "\n",
    "input_file = \"/Users/lucaortolomo/Desktop/TESI/Thesis_DiffusionRecommender-main/experiment_data/FINAL_TABLE/final_table.tex\"\n",
    "output_file = \"/Users/lucaortolomo/Desktop/TESI/Thesis_DiffusionRecommender-main/experiment_data/FINAL_TABLE/modified_latex_file.tex\"\n",
    "\n",
    "replace_names_in_latex_file(input_file, output_file)\n",
    "print(f\"Modified content saved to {output_file}\")\n"
   ]
  },
  {
   "cell_type": "code",
   "execution_count": 54,
   "metadata": {},
   "outputs": [
    {
     "name": "stdout",
     "output_type": "stream",
     "text": [
      "DiffusionAutoencoderRecommender_ItemKNNCFRecommender_TwoLevelRec\n",
      "DiffusionAutoencoderRecommender_SLIMElasticNetRecommender_TwoLevelRec\n",
      "DiffusionAutoencoderRecommender_IALSRecommender_TwoLevelRec\n"
     ]
    }
   ],
   "source": [
    "df = pd.read_csv('/Users/lucaortolomo/Desktop/TESI/Thesis_DiffusionRecommender-main/experiment_data/2023-07-31 03:41:53/cutoff_10/1/best_models_last_1_timesteps.csv')\n",
    "for _, row in df.iterrows():\n",
    "        hybrid_name = row['RECOMMENDER']\n",
    "        print(hybrid_name)"
   ]
  },
  {
   "cell_type": "code",
   "execution_count": 65,
   "metadata": {},
   "outputs": [
    {
     "name": "stdout",
     "output_type": "stream",
     "text": [
      "Recommender_Base_Class: URM Detected 194 ( 5.0%) items with no interactions.\n",
      "EvaluatorHoldout: Processed 5976 (100.0%) in 5.73 sec. Users per second: 1044\n",
      "EvaluatorHoldout: Processed 5976 (100.0%) in 6.33 sec. Users per second: 944\n",
      "EvaluatorHoldout: Processed 5976 (100.0%) in 5.73 sec. Users per second: 1043\n",
      "Recommender_Base_Class: URM Detected 194 ( 5.0%) items with no interactions.\n",
      "EvaluatorHoldout: Processed 5976 (100.0%) in 5.98 sec. Users per second: 1000\n",
      "EvaluatorHoldout: Processed 5976 (100.0%) in 6.44 sec. Users per second: 927\n",
      "EvaluatorHoldout: Processed 5976 (100.0%) in 5.73 sec. Users per second: 1043\n",
      "Recommender_Base_Class: URM Detected 194 ( 5.0%) items with no interactions.\n",
      "EvaluatorHoldout: Processed 5976 (100.0%) in 6.01 sec. Users per second: 995\n",
      "EvaluatorHoldout: Processed 5976 (100.0%) in 6.29 sec. Users per second: 950\n",
      "EvaluatorHoldout: Processed 5976 (100.0%) in 5.74 sec. Users per second: 1042\n",
      "Recommender_Base_Class: URM Detected 194 ( 5.0%) items with no interactions.\n",
      "EvaluatorHoldout: Processed 5976 (100.0%) in 5.95 sec. Users per second: 1005\n",
      "EvaluatorHoldout: Processed 5976 (100.0%) in 6.23 sec. Users per second: 959\n",
      "EvaluatorHoldout: Processed 5976 (100.0%) in 5.66 sec. Users per second: 1056\n",
      "Recommender_Base_Class: URM Detected 194 ( 5.0%) items with no interactions.\n",
      "EvaluatorHoldout: Processed 5976 (100.0%) in 6.58 sec. Users per second: 909\n",
      "EvaluatorHoldout: Processed 5976 (100.0%) in 8.42 sec. Users per second: 710\n",
      "EvaluatorHoldout: Processed 5976 (100.0%) in 7.40 sec. Users per second: 807\n",
      "Recommender_Base_Class: URM Detected 194 ( 5.0%) items with no interactions.\n",
      "EvaluatorHoldout: Processed 5976 (100.0%) in 5.92 sec. Users per second: 1009\n",
      "EvaluatorHoldout: Processed 5976 (100.0%) in 6.21 sec. Users per second: 962\n",
      "EvaluatorHoldout: Processed 5976 (100.0%) in 5.83 sec. Users per second: 1024\n",
      "Recommender_Base_Class: URM Detected 194 ( 5.0%) items with no interactions.\n",
      "EvaluatorHoldout: Processed 5976 (100.0%) in 5.63 sec. Users per second: 1061\n",
      "EvaluatorHoldout: Processed 5976 (100.0%) in 6.35 sec. Users per second: 941\n",
      "EvaluatorHoldout: Processed 5976 (100.0%) in 5.91 sec. Users per second: 1011\n",
      "Recommender_Base_Class: URM Detected 194 ( 5.0%) items with no interactions.\n",
      "EvaluatorHoldout: Processed 5976 (100.0%) in 5.82 sec. Users per second: 1027\n",
      "EvaluatorHoldout: Processed 5976 (100.0%) in 6.34 sec. Users per second: 942\n",
      "EvaluatorHoldout: Processed 5976 (100.0%) in 6.12 sec. Users per second: 977\n",
      "Recommender_Base_Class: URM Detected 194 ( 5.0%) items with no interactions.\n",
      "EvaluatorHoldout: Processed 5976 (100.0%) in 5.78 sec. Users per second: 1035\n",
      "EvaluatorHoldout: Processed 5976 (100.0%) in 5.85 sec. Users per second: 1022\n",
      "EvaluatorHoldout: Processed 5976 (100.0%) in 5.47 sec. Users per second: 1092\n",
      "Recommender_Base_Class: URM Detected 194 ( 5.0%) items with no interactions.\n",
      "EvaluatorHoldout: Processed 5976 (100.0%) in 5.36 sec. Users per second: 1115\n",
      "EvaluatorHoldout: Processed 5976 (100.0%) in 5.64 sec. Users per second: 1060\n",
      "EvaluatorHoldout: Processed 5976 (100.0%) in 5.06 sec. Users per second: 1181\n",
      "Recommender_Base_Class: URM Detected 194 ( 5.0%) items with no interactions.\n",
      "EvaluatorHoldout: Processed 5976 (100.0%) in 5.35 sec. Users per second: 1117\n",
      "EvaluatorHoldout: Processed 5976 (100.0%) in 5.58 sec. Users per second: 1072\n",
      "EvaluatorHoldout: Processed 5976 (100.0%) in 5.04 sec. Users per second: 1185\n",
      "Recommender_Base_Class: URM Detected 194 ( 5.0%) items with no interactions.\n",
      "EvaluatorHoldout: Processed 5976 (100.0%) in 5.27 sec. Users per second: 1134\n",
      "EvaluatorHoldout: Processed 5976 (100.0%) in 5.56 sec. Users per second: 1074\n",
      "EvaluatorHoldout: Processed 5976 (100.0%) in 4.94 sec. Users per second: 1211\n",
      "Recommender_Base_Class: URM Detected 194 ( 5.0%) items with no interactions.\n",
      "EvaluatorHoldout: Processed 5976 (100.0%) in 5.32 sec. Users per second: 1122\n",
      "EvaluatorHoldout: Processed 5976 (100.0%) in 5.64 sec. Users per second: 1059\n",
      "EvaluatorHoldout: Processed 5976 (100.0%) in 5.04 sec. Users per second: 1187\n",
      "Recommender_Base_Class: URM Detected 194 ( 5.0%) items with no interactions.\n",
      "EvaluatorHoldout: Processed 5976 (100.0%) in 5.32 sec. Users per second: 1123\n",
      "EvaluatorHoldout: Processed 5976 (100.0%) in 5.49 sec. Users per second: 1088\n",
      "EvaluatorHoldout: Processed 5976 (100.0%) in 4.97 sec. Users per second: 1202\n",
      "Recommender_Base_Class: URM Detected 194 ( 5.0%) items with no interactions.\n",
      "EvaluatorHoldout: Processed 5976 (100.0%) in 5.21 sec. Users per second: 1147\n",
      "EvaluatorHoldout: Processed 5976 (100.0%) in 5.41 sec. Users per second: 1106\n",
      "EvaluatorHoldout: Processed 5976 (100.0%) in 4.86 sec. Users per second: 1230\n",
      "Recommender_Base_Class: URM Detected 194 ( 5.0%) items with no interactions.\n",
      "EvaluatorHoldout: Processed 5976 (100.0%) in 5.16 sec. Users per second: 1158\n",
      "EvaluatorHoldout: Processed 5976 (100.0%) in 5.44 sec. Users per second: 1099\n",
      "EvaluatorHoldout: Processed 5976 (100.0%) in 4.87 sec. Users per second: 1227\n",
      "Recommender_Base_Class: URM Detected 194 ( 5.0%) items with no interactions.\n",
      "EvaluatorHoldout: Processed 5976 (100.0%) in 5.19 sec. Users per second: 1152\n",
      "EvaluatorHoldout: Processed 5976 (100.0%) in 5.44 sec. Users per second: 1099\n",
      "EvaluatorHoldout: Processed 5976 (100.0%) in 4.87 sec. Users per second: 1227\n",
      "Recommender_Base_Class: URM Detected 194 ( 5.0%) items with no interactions.\n",
      "EvaluatorHoldout: Processed 5976 (100.0%) in 5.16 sec. Users per second: 1158\n",
      "EvaluatorHoldout: Processed 5976 (100.0%) in 5.45 sec. Users per second: 1096\n",
      "EvaluatorHoldout: Processed 5976 (100.0%) in 4.88 sec. Users per second: 1224\n",
      "Recommender_Base_Class: URM Detected 194 ( 5.0%) items with no interactions.\n",
      "EvaluatorHoldout: Processed 5976 (100.0%) in 5.24 sec. Users per second: 1140\n",
      "EvaluatorHoldout: Processed 5976 (100.0%) in 5.47 sec. Users per second: 1092\n",
      "EvaluatorHoldout: Processed 5976 (100.0%) in 4.91 sec. Users per second: 1218\n",
      "Recommender_Base_Class: URM Detected 194 ( 5.0%) items with no interactions.\n"
     ]
    },
    {
     "ename": "IndexError",
     "evalue": "index 500 is out of bounds for dimension 0 with size 429",
     "output_type": "error",
     "traceback": [
      "\u001b[0;31m---------------------------------------------------------------------------\u001b[0m",
      "\u001b[0;31mIndexError\u001b[0m                                Traceback (most recent call last)",
      "Cell \u001b[0;32mIn[65], line 21\u001b[0m\n\u001b[1;32m     19\u001b[0m \u001b[39mfor\u001b[39;00m timestep \u001b[39min\u001b[39;00m timesteps:  \u001b[39m# Assuming you have a list of timesteps defined somewhere\u001b[39;00m\n\u001b[1;32m     20\u001b[0m     auto_diffusion_instance_test\u001b[39m.\u001b[39minference_timesteps \u001b[39m=\u001b[39m timestep\n\u001b[0;32m---> 21\u001b[0m     two_level_rec_test \u001b[39m=\u001b[39m TwoLevelRec(URM_train\u001b[39m=\u001b[39;49mURM_train\u001b[39m+\u001b[39;49mURM_validation,\n\u001b[1;32m     22\u001b[0m                                         recommender1\u001b[39m=\u001b[39;49mauto_diffusion_instance_test,\n\u001b[1;32m     23\u001b[0m                                         recommender2\u001b[39m=\u001b[39;49mitemKNN_instance_test,\n\u001b[1;32m     24\u001b[0m                                         max_cutoff\u001b[39m=\u001b[39;49m\u001b[39m350\u001b[39;49m)\n\u001b[1;32m     25\u001b[0m     \u001b[39mfor\u001b[39;00m traditional_rec_name, traditional_rec_instance \u001b[39min\u001b[39;00m recommenders_instances_test\u001b[39m.\u001b[39mitems():\n\u001b[1;32m     26\u001b[0m         expected_name \u001b[39m=\u001b[39m auto_diffusion_instance\u001b[39m.\u001b[39mRECOMMENDER_NAME \u001b[39m+\u001b[39m \u001b[39m'\u001b[39m\u001b[39m_\u001b[39m\u001b[39m'\u001b[39m \u001b[39m+\u001b[39m traditional_rec_name \u001b[39m+\u001b[39m \u001b[39m'\u001b[39m\u001b[39m_TwoLevelRec\u001b[39m\u001b[39m'\u001b[39m\n",
      "File \u001b[0;32m~/Desktop/TESI/Thesis_DiffusionRecommender-main/RecommenderLuca/TwoLevelRec.py:21\u001b[0m, in \u001b[0;36m__init__\u001b[0;34m(self, URM_train, recommender1, recommender2, max_cutoff)\u001b[0m\n\u001b[1;32m     19\u001b[0m self.recommender2 = recommender2\n\u001b[1;32m     20\u001b[0m self.RECOMMENDER_NAME = recommender1.RECOMMENDER_NAME + '_' + recommender2.RECOMMENDER_NAME + '_' + \"TwoLevelRec\"\n\u001b[0;32m---> 21\u001b[0m self.recommendations = self.recommender1.recommend(list(range(0,self.URM_train.shape[0])), max_cutoff)\n\u001b[1;32m     22\u001b[0m \n\u001b[1;32m     23\u001b[0m \n",
      "File \u001b[0;32m~/Desktop/TESI/Thesis_DiffusionRecommender-main/Recommenders/BaseRecommender.py:147\u001b[0m, in \u001b[0;36mBaseRecommender.recommend\u001b[0;34m(self, user_id_array, cutoff, remove_seen_flag, items_to_compute, remove_top_pop_flag, remove_custom_items_flag, return_scores)\u001b[0m\n\u001b[1;32m    143\u001b[0m cutoff \u001b[39m=\u001b[39m \u001b[39mmin\u001b[39m(cutoff, \u001b[39mself\u001b[39m\u001b[39m.\u001b[39mURM_train\u001b[39m.\u001b[39mshape[\u001b[39m1\u001b[39m] \u001b[39m-\u001b[39m \u001b[39m1\u001b[39m)\n\u001b[1;32m    145\u001b[0m \u001b[39m# Compute the scores using the model-specific function\u001b[39;00m\n\u001b[1;32m    146\u001b[0m \u001b[39m# Vectorize over all users in user_id_array\u001b[39;00m\n\u001b[0;32m--> 147\u001b[0m scores_batch \u001b[39m=\u001b[39m \u001b[39mself\u001b[39;49m\u001b[39m.\u001b[39;49m_compute_item_score(user_id_array, items_to_compute\u001b[39m=\u001b[39;49mitems_to_compute)\n\u001b[1;32m    150\u001b[0m \u001b[39mfor\u001b[39;00m user_index \u001b[39min\u001b[39;00m \u001b[39mrange\u001b[39m(\u001b[39mlen\u001b[39m(user_id_array)):\n\u001b[1;32m    152\u001b[0m     user_id \u001b[39m=\u001b[39m user_id_array[user_index]\n",
      "File \u001b[0;32m~/Desktop/TESI/Thesis_DiffusionRecommender-main/Diffusion/DiffusionRecommender.py:274\u001b[0m, in \u001b[0;36mDiffusionRecommender._compute_item_score\u001b[0;34m(self, user_id_array, items_to_compute)\u001b[0m\n\u001b[1;32m    265\u001b[0m user_profile_batch \u001b[39m=\u001b[39m \u001b[39mself\u001b[39m\u001b[39m.\u001b[39mURM_train[user_id_array]\n\u001b[1;32m    266\u001b[0m user_profile_batch \u001b[39m=\u001b[39m torch\u001b[39m.\u001b[39msparse_csr_tensor(user_profile_batch\u001b[39m.\u001b[39mindptr,\n\u001b[1;32m    267\u001b[0m                                             user_profile_batch\u001b[39m.\u001b[39mindices,\n\u001b[1;32m    268\u001b[0m                                             user_profile_batch\u001b[39m.\u001b[39mdata,\n\u001b[0;32m   (...)\u001b[0m\n\u001b[1;32m    271\u001b[0m                                             device\u001b[39m=\u001b[39m\u001b[39mself\u001b[39m\u001b[39m.\u001b[39mdevice,\n\u001b[1;32m    272\u001b[0m                                             requires_grad\u001b[39m=\u001b[39m\u001b[39mFalse\u001b[39;00m)\u001b[39m.\u001b[39mto_dense()\n\u001b[0;32m--> 274\u001b[0m user_profile_inference \u001b[39m=\u001b[39m \u001b[39mself\u001b[39;49m\u001b[39m.\u001b[39;49m_model\u001b[39m.\u001b[39;49msample_from_user_profile(user_profile_batch, \u001b[39mself\u001b[39;49m\u001b[39m.\u001b[39;49minference_timesteps)\u001b[39m.\u001b[39mcpu()\u001b[39m.\u001b[39mdetach()\u001b[39m.\u001b[39mnumpy()\n\u001b[1;32m    276\u001b[0m \u001b[39mif\u001b[39;00m items_to_compute \u001b[39mis\u001b[39;00m \u001b[39mNone\u001b[39;00m:\n\u001b[1;32m    277\u001b[0m     item_scores \u001b[39m=\u001b[39m user_profile_inference\n",
      "File \u001b[0;32m~/Desktop/TESI/Thesis_DiffusionRecommender-main/Diffusion/DiffusionRecommender.py:138\u001b[0m, in \u001b[0;36m_GaussianDiffusionModel.sample_from_user_profile\u001b[0;34m(self, user_profile, inference_timesteps)\u001b[0m\n\u001b[1;32m    135\u001b[0m \u001b[39mwith\u001b[39;00m torch\u001b[39m.\u001b[39mno_grad():\n\u001b[1;32m    136\u001b[0m     gaussian_noise \u001b[39m=\u001b[39m torch\u001b[39m.\u001b[39mrandn_like(user_profile, device\u001b[39m=\u001b[39muser_profile\u001b[39m.\u001b[39mdevice)\n\u001b[0;32m--> 138\u001b[0m     user_profile_inference \u001b[39m=\u001b[39m \u001b[39mself\u001b[39;49m\u001b[39m.\u001b[39;49mq_sample(x_start \u001b[39m=\u001b[39;49m user_profile, t \u001b[39m=\u001b[39;49m torch\u001b[39m.\u001b[39;49mtensor([inference_timesteps], device\u001b[39m=\u001b[39;49muser_profile\u001b[39m.\u001b[39;49mdevice, dtype\u001b[39m=\u001b[39;49mtorch\u001b[39m.\u001b[39;49mlong), gaussian_noise \u001b[39m=\u001b[39;49m gaussian_noise)\n\u001b[1;32m    140\u001b[0m     \u001b[39mfor\u001b[39;00m timestep \u001b[39min\u001b[39;00m \u001b[39mrange\u001b[39m(inference_timesteps, \u001b[39m0\u001b[39m, \u001b[39m-\u001b[39m\u001b[39m1\u001b[39m):\n\u001b[1;32m    141\u001b[0m         user_profile_inference \u001b[39m=\u001b[39m user_profile_inference \u001b[39m+\u001b[39m \u001b[39mself\u001b[39m\u001b[39m.\u001b[39mpositional_encoding\u001b[39m.\u001b[39mget_encoding(torch\u001b[39m.\u001b[39mtensor([timestep], device\u001b[39m=\u001b[39muser_profile\u001b[39m.\u001b[39mdevice))\n",
      "File \u001b[0;32m~/Desktop/TESI/Thesis_DiffusionRecommender-main/Diffusion/DiffusionRecommender.py:93\u001b[0m, in \u001b[0;36m_GaussianDiffusionModel.q_sample\u001b[0;34m(self, x_start, t, gaussian_noise)\u001b[0m\n\u001b[1;32m     78\u001b[0m \u001b[39mdef\u001b[39;00m \u001b[39mq_sample\u001b[39m(\u001b[39mself\u001b[39m, x_start, t, gaussian_noise \u001b[39m=\u001b[39m \u001b[39mNone\u001b[39;00m):\n\u001b[1;32m     79\u001b[0m     \u001b[39m\"\"\"\u001b[39;00m\n\u001b[1;32m     80\u001b[0m \u001b[39m    Apply noise to the sample by calculating the total noise that would be applied after t steps.\u001b[39;00m\n\u001b[1;32m     81\u001b[0m \u001b[39m    The sum of t gaussian noise steps is also a gaussian so we can avoid to iterate t steps and calculate\u001b[39;00m\n\u001b[0;32m   (...)\u001b[0m\n\u001b[1;32m     90\u001b[0m \u001b[39m    :return:\u001b[39;00m\n\u001b[1;32m     91\u001b[0m \u001b[39m    \"\"\"\u001b[39;00m\n\u001b[0;32m---> 93\u001b[0m     a_signed \u001b[39m=\u001b[39m \u001b[39mself\u001b[39;49m\u001b[39m.\u001b[39;49mnoise_schedule\u001b[39m.\u001b[39;49mget_a_signed(t)\n\u001b[1;32m     94\u001b[0m     batch_size \u001b[39m=\u001b[39m \u001b[39mlen\u001b[39m(t)\n\u001b[1;32m     95\u001b[0m     x_noisy \u001b[39m=\u001b[39m torch\u001b[39m.\u001b[39msqrt(a_signed)\u001b[39m.\u001b[39mreshape(batch_size, \u001b[39m1\u001b[39m)\u001b[39m*\u001b[39mx_start \u001b[39m+\u001b[39m torch\u001b[39m.\u001b[39msqrt(\u001b[39m1\u001b[39m \u001b[39m-\u001b[39m a_signed)\u001b[39m.\u001b[39mreshape(batch_size, \u001b[39m1\u001b[39m) \u001b[39m*\u001b[39m gaussian_noise\n",
      "File \u001b[0;32m~/Desktop/TESI/Thesis_DiffusionRecommender-main/Diffusion/NoiseSchedule.py:35\u001b[0m, in \u001b[0;36mLinearNoiseSchedule.get_a_signed\u001b[0;34m(self, step)\u001b[0m\n\u001b[1;32m     34\u001b[0m \u001b[39mdef\u001b[39;00m \u001b[39mget_a_signed\u001b[39m(\u001b[39mself\u001b[39m, step):\n\u001b[0;32m---> 35\u001b[0m     \u001b[39mreturn\u001b[39;00m \u001b[39mself\u001b[39;49m\u001b[39m.\u001b[39;49m_alpha_values[step]\n",
      "\u001b[0;31mIndexError\u001b[0m: index 500 is out of bounds for dimension 0 with size 429"
     ]
    }
   ],
   "source": [
    "import pandas as pd\n",
    "import ast\n",
    "directory = \"/Users/lucaortolomo/Desktop/TESI/Thesis_DiffusionRecommender-main/experiment_data\"\n",
    "# Read the CSV\n",
    "df = pd.read_csv('/Users/lucaortolomo/Desktop/TESI/Thesis_DiffusionRecommender-main/experiment_data/2023-07-31 03:41:53/cutoff_10/1/best_models_last_1_timesteps.csv')\n",
    "\n",
    "# Define recommenders\n",
    "recommenders_instances_test = {\n",
    "    \"ItemKNNCFRecommender\": itemKNN_instance_test,\n",
    "    \"SLIMElasticNetRecommender\": slim_elastic_instance_test,\n",
    "    \"IALSRecommender\": matrix_fact_instance_test\n",
    "}\n",
    "\n",
    "timesteps = [1, 2, 3, 4, 5, 10, 15, 20, 30, 40, 60, 80, 100, 150, 200, 250, 300, 350, 400, 500]\n",
    "#!!! best model di diffusion autoencoder ha NOISE timesteps =429 quindi non di possono dare INFERENCE timesteps>429 perchè quando viene preso beta o alpha[430+] c'è un errore siccome è stato generato beta solo fino a noise timesteps, quindi 429\n",
    "\n",
    "\n",
    "# Loop through each row in the dataframe\n",
    "  # Once you have the model ready, loop through timesteps and perform operations\n",
    "for timestep in timesteps:  \n",
    "    auto_diffusion_instance_test.inference_timesteps = timestep\n",
    "    two_level_rec_test = TwoLevelRec(URM_train=URM_train+URM_validation,\n",
    "                                        recommender1=auto_diffusion_instance_test,\n",
    "                                        recommender2=itemKNN_instance_test,\n",
    "                                        max_cutoff=350)\n",
    "    for traditional_rec_name, traditional_rec_instance in recommenders_instances_test.items():\n",
    "        expected_name = auto_diffusion_instance.RECOMMENDER_NAME + '_' + traditional_rec_name + '_TwoLevelRec'\n",
    "        for _, row in df.iterrows():\n",
    "            hybrid_name = row['RECOMMENDER']\n",
    "            if hybrid_name == expected_name:\n",
    "                # Get the parameters\n",
    "                params = ast.literal_eval(row['PARAMS'])\n",
    "                two_level_rec.set_rec2(traditional_rec_instance)\n",
    "                # Instantiate the TwoLevelRec model with correct parameters\n",
    "        # Fit the model\n",
    "        two_level_rec_test.fit(n_items_to_rank=params['n_items_to_rank'])\n",
    "        result_df, _ =evaluator_test.evaluateRecommender(two_level_rec_test)\n",
    "        result_df[\"RECOMMENDER\"] = two_level_rec_test.RECOMMENDER_NAME\n",
    "        result_df[\"PARAMS\"] = str(max_ndcg_row['hyperparams'].iloc[0])\n",
    "        result_df[\"TIMESTEPS\"] = timestep\n",
    "        filename = expected_name+ \".csv\"\n",
    "        filename = os.path.join(directory, filename)\n",
    "\n",
    "        if os.path.isfile(filename):\n",
    "                # If it exists, append without writing the header\n",
    "                pd.DataFrame(result_df.loc[10]).transpose().to_csv(filename, mode='a', header=False, index=False)\n",
    "        else:\n",
    "                # If it doesn't exist, create it, write the header\n",
    "                pd.DataFrame(result_df.loc[10]).transpose().to_csv(filename, mode='w', header=True, index=False)\n",
    "\n",
    "    \n",
    "        "
   ]
  },
  {
   "cell_type": "code",
   "execution_count": 9,
   "metadata": {},
   "outputs": [
    {
     "name": "stdout",
     "output_type": "stream",
     "text": [
      "Recommender_Base_Class: URM Detected 194 ( 5.0%) items with no interactions.\n",
      "EvaluatorHoldout: Processed 5976 (100.0%) in 5.15 sec. Users per second: 1160\n",
      "Recommender_Base_Class: URM Detected 194 ( 5.0%) items with no interactions.\n",
      "EvaluatorHoldout: Processed 5976 (100.0%) in 5.84 sec. Users per second: 1023\n",
      "Recommender_Base_Class: URM Detected 194 ( 5.0%) items with no interactions.\n",
      "EvaluatorHoldout: Processed 5976 (100.0%) in 6.63 sec. Users per second: 901\n",
      "Recommender_Base_Class: URM Detected 194 ( 5.0%) items with no interactions.\n",
      "EvaluatorHoldout: Processed 5976 (100.0%) in 7.59 sec. Users per second: 788\n",
      "Recommender_Base_Class: URM Detected 194 ( 5.0%) items with no interactions.\n",
      "EvaluatorHoldout: Processed 5976 (100.0%) in 8.52 sec. Users per second: 702\n",
      "Recommender_Base_Class: URM Detected 194 ( 5.0%) items with no interactions.\n",
      "EvaluatorHoldout: Processed 5976 (100.0%) in 12.74 sec. Users per second: 469\n",
      "Recommender_Base_Class: URM Detected 194 ( 5.0%) items with no interactions.\n",
      "EvaluatorHoldout: Processed 5976 (100.0%) in 17.05 sec. Users per second: 350\n",
      "Recommender_Base_Class: URM Detected 194 ( 5.0%) items with no interactions.\n",
      "EvaluatorHoldout: Processed 5976 (100.0%) in 21.44 sec. Users per second: 279\n",
      "Recommender_Base_Class: URM Detected 194 ( 5.0%) items with no interactions.\n",
      "EvaluatorHoldout: Processed 5976 (100.0%) in 30.02 sec. Users per second: 199\n",
      "Recommender_Base_Class: URM Detected 194 ( 5.0%) items with no interactions.\n",
      "EvaluatorHoldout: Processed 5976 (100.0%) in 38.76 sec. Users per second: 154\n",
      "Recommender_Base_Class: URM Detected 194 ( 5.0%) items with no interactions.\n",
      "EvaluatorHoldout: Processed 5976 (100.0%) in 55.83 sec. Users per second: 107\n",
      "Recommender_Base_Class: URM Detected 194 ( 5.0%) items with no interactions.\n",
      "EvaluatorHoldout: Processed 5976 (100.0%) in 1.22 min. Users per second: 82\n",
      "Recommender_Base_Class: URM Detected 194 ( 5.0%) items with no interactions.\n",
      "EvaluatorHoldout: Processed 5976 (100.0%) in 1.50 min. Users per second: 66\n",
      "Recommender_Base_Class: URM Detected 194 ( 5.0%) items with no interactions.\n",
      "EvaluatorHoldout: Processed 5976 (100.0%) in 2.21 min. Users per second: 45\n",
      "Recommender_Base_Class: URM Detected 194 ( 5.0%) items with no interactions.\n",
      "EvaluatorHoldout: Processed 5976 (100.0%) in 2.93 min. Users per second: 34\n",
      "Recommender_Base_Class: URM Detected 194 ( 5.0%) items with no interactions.\n",
      "EvaluatorHoldout: Processed 5976 (100.0%) in 3.64 min. Users per second: 27\n",
      "Recommender_Base_Class: URM Detected 194 ( 5.0%) items with no interactions.\n",
      "EvaluatorHoldout: Processed 5976 (100.0%) in 4.38 min. Users per second: 23\n",
      "Recommender_Base_Class: URM Detected 194 ( 5.0%) items with no interactions.\n",
      "EvaluatorHoldout: Processed 5976 (100.0%) in 5.09 min. Users per second: 20\n",
      "Recommender_Base_Class: URM Detected 194 ( 5.0%) items with no interactions.\n",
      "EvaluatorHoldout: Processed 5976 (100.0%) in 5.80 min. Users per second: 17\n",
      "Recommender_Base_Class: URM Detected 194 ( 5.0%) items with no interactions.\n"
     ]
    },
    {
     "ename": "IndexError",
     "evalue": "index 500 is out of bounds for dimension 0 with size 429",
     "output_type": "error",
     "traceback": [
      "\u001b[0;31m---------------------------------------------------------------------------\u001b[0m",
      "\u001b[0;31mIndexError\u001b[0m                                Traceback (most recent call last)",
      "Cell \u001b[0;32mIn[9], line 37\u001b[0m\n\u001b[1;32m     32\u001b[0m two_level_rec_test \u001b[39m=\u001b[39m TwoLevelRec(URM_train\u001b[39m=\u001b[39mURM_train\u001b[39m+\u001b[39mURM_validation,\n\u001b[1;32m     33\u001b[0m                                 recommender1\u001b[39m=\u001b[39mitemKNN_instance_test ,\n\u001b[1;32m     34\u001b[0m                                 recommender2\u001b[39m=\u001b[39mauto_diffusion_instance_test,\n\u001b[1;32m     35\u001b[0m                                 max_cutoff\u001b[39m=\u001b[39m\u001b[39m350\u001b[39m)\n\u001b[1;32m     36\u001b[0m two_level_rec_test\u001b[39m.\u001b[39mfit(n_items_to_rank\u001b[39m=\u001b[39mparams[\u001b[39m'\u001b[39m\u001b[39mn_items_to_rank\u001b[39m\u001b[39m'\u001b[39m])\n\u001b[0;32m---> 37\u001b[0m result_df, _ \u001b[39m=\u001b[39mevaluator_test\u001b[39m.\u001b[39;49mevaluateRecommender(two_level_rec_test)\n\u001b[1;32m     38\u001b[0m result_df[\u001b[39m\"\u001b[39m\u001b[39mRECOMMENDER\u001b[39m\u001b[39m\"\u001b[39m] \u001b[39m=\u001b[39m two_level_rec_test\u001b[39m.\u001b[39mRECOMMENDER_NAME\n\u001b[1;32m     39\u001b[0m result_df[\u001b[39m\"\u001b[39m\u001b[39mPARAMS\u001b[39m\u001b[39m\"\u001b[39m] \u001b[39m=\u001b[39m params[\u001b[39m'\u001b[39m\u001b[39mn_items_to_rank\u001b[39m\u001b[39m'\u001b[39m]\n",
      "File \u001b[0;32m~/Desktop/TESI/Thesis_DiffusionRecommender-main/Evaluation/Evaluator.py:276\u001b[0m, in \u001b[0;36mEvaluator.evaluateRecommender\u001b[0;34m(self, recommender_object)\u001b[0m\n\u001b[1;32m    273\u001b[0m \u001b[39mself\u001b[39m\u001b[39m.\u001b[39m_start_time_print \u001b[39m=\u001b[39m time\u001b[39m.\u001b[39mtime()\n\u001b[1;32m    274\u001b[0m \u001b[39mself\u001b[39m\u001b[39m.\u001b[39m_n_users_evaluated \u001b[39m=\u001b[39m \u001b[39m0\u001b[39m\n\u001b[0;32m--> 276\u001b[0m results_dict \u001b[39m=\u001b[39m \u001b[39mself\u001b[39;49m\u001b[39m.\u001b[39;49m_run_evaluation_on_selected_users(recommender_object, \u001b[39mself\u001b[39;49m\u001b[39m.\u001b[39;49musers_to_evaluate)\n\u001b[1;32m    279\u001b[0m \u001b[39mif\u001b[39;00m \u001b[39mself\u001b[39m\u001b[39m.\u001b[39m_n_users_evaluated \u001b[39m>\u001b[39m \u001b[39m0\u001b[39m:\n\u001b[1;32m    281\u001b[0m     \u001b[39mfor\u001b[39;00m cutoff \u001b[39min\u001b[39;00m \u001b[39mself\u001b[39m\u001b[39m.\u001b[39mcutoff_list:\n",
      "File \u001b[0;32m~/Desktop/TESI/Thesis_DiffusionRecommender-main/Evaluation/Evaluator.py:476\u001b[0m, in \u001b[0;36mEvaluatorHoldout._run_evaluation_on_selected_users\u001b[0;34m(self, recommender_object, users_to_evaluate, block_size)\u001b[0m\n\u001b[1;32m    473\u001b[0m     user_batch_start \u001b[39m=\u001b[39m user_batch_end\n\u001b[1;32m    475\u001b[0m     \u001b[39m# Compute predictions for a batch of users using vectorization, much more efficient than computing it one at a time\u001b[39;00m\n\u001b[0;32m--> 476\u001b[0m     recommended_items_batch_list, scores_batch \u001b[39m=\u001b[39m recommender_object\u001b[39m.\u001b[39;49mrecommend(test_user_batch_array,\n\u001b[1;32m    477\u001b[0m                                                               remove_seen_flag\u001b[39m=\u001b[39;49m\u001b[39mself\u001b[39;49m\u001b[39m.\u001b[39;49mexclude_seen,\n\u001b[1;32m    478\u001b[0m                                                               cutoff \u001b[39m=\u001b[39;49m \u001b[39mself\u001b[39;49m\u001b[39m.\u001b[39;49mmax_cutoff,\n\u001b[1;32m    479\u001b[0m                                                               remove_top_pop_flag\u001b[39m=\u001b[39;49m\u001b[39mFalse\u001b[39;49;00m,\n\u001b[1;32m    480\u001b[0m                                                               remove_custom_items_flag\u001b[39m=\u001b[39;49m\u001b[39mself\u001b[39;49m\u001b[39m.\u001b[39;49mignore_items_flag,\n\u001b[1;32m    481\u001b[0m                                                               return_scores \u001b[39m=\u001b[39;49m \u001b[39mTrue\u001b[39;49;00m\n\u001b[1;32m    482\u001b[0m                                                              )\n\u001b[1;32m    484\u001b[0m     results_dict \u001b[39m=\u001b[39m \u001b[39mself\u001b[39m\u001b[39m.\u001b[39m_compute_metrics_on_recommendation_list(test_user_batch_array \u001b[39m=\u001b[39m test_user_batch_array,\n\u001b[1;32m    485\u001b[0m                                                  recommended_items_batch_list \u001b[39m=\u001b[39m recommended_items_batch_list,\n\u001b[1;32m    486\u001b[0m                                                  scores_batch \u001b[39m=\u001b[39m scores_batch,\n\u001b[1;32m    487\u001b[0m                                                  results_dict \u001b[39m=\u001b[39m results_dict)\n\u001b[1;32m    490\u001b[0m \u001b[39mreturn\u001b[39;00m results_dict\n",
      "File \u001b[0;32m~/Desktop/TESI/Thesis_DiffusionRecommender-main/Recommenders/BaseRecommender.py:147\u001b[0m, in \u001b[0;36mBaseRecommender.recommend\u001b[0;34m(self, user_id_array, cutoff, remove_seen_flag, items_to_compute, remove_top_pop_flag, remove_custom_items_flag, return_scores)\u001b[0m\n\u001b[1;32m    143\u001b[0m cutoff \u001b[39m=\u001b[39m \u001b[39mmin\u001b[39m(cutoff, \u001b[39mself\u001b[39m\u001b[39m.\u001b[39mURM_train\u001b[39m.\u001b[39mshape[\u001b[39m1\u001b[39m] \u001b[39m-\u001b[39m \u001b[39m1\u001b[39m)\n\u001b[1;32m    145\u001b[0m \u001b[39m# Compute the scores using the model-specific function\u001b[39;00m\n\u001b[1;32m    146\u001b[0m \u001b[39m# Vectorize over all users in user_id_array\u001b[39;00m\n\u001b[0;32m--> 147\u001b[0m scores_batch \u001b[39m=\u001b[39m \u001b[39mself\u001b[39;49m\u001b[39m.\u001b[39;49m_compute_item_score(user_id_array, items_to_compute\u001b[39m=\u001b[39;49mitems_to_compute)\n\u001b[1;32m    150\u001b[0m \u001b[39mfor\u001b[39;00m user_index \u001b[39min\u001b[39;00m \u001b[39mrange\u001b[39m(\u001b[39mlen\u001b[39m(user_id_array)):\n\u001b[1;32m    152\u001b[0m     user_id \u001b[39m=\u001b[39m user_id_array[user_index]\n",
      "File \u001b[0;32m~/Desktop/TESI/Thesis_DiffusionRecommender-main/RecommenderLuca/TwoLevelRec.py:48\u001b[0m, in \u001b[0;36mTwoLevelRec._compute_item_score\u001b[0;34m(self, user_id_array, items_to_compute)\u001b[0m\n\u001b[1;32m     44\u001b[0m \u001b[39mdef\u001b[39;00m \u001b[39m_compute_item_score\u001b[39m(\u001b[39mself\u001b[39m, user_id_array, items_to_compute \u001b[39m=\u001b[39m \u001b[39mNone\u001b[39;00m):\n\u001b[1;32m     45\u001b[0m     \n\u001b[1;32m     46\u001b[0m     \n\u001b[1;32m     47\u001b[0m     \u001b[39m#this could be a loop over a list of pretrained recommender objects\u001b[39;00m\n\u001b[0;32m---> 48\u001b[0m     scores_batch \u001b[39m=\u001b[39m \u001b[39mself\u001b[39;49m\u001b[39m.\u001b[39;49mrecommender2\u001b[39m.\u001b[39;49m_compute_item_score(user_id_array, items_to_compute)\n\u001b[1;32m     49\u001b[0m    \u001b[39m# print(scores_batch.shape)\u001b[39;00m\n\u001b[1;32m     50\u001b[0m     \u001b[39m#scores_batch2 = self.recommender2._compute_item_score(user_id_array, self.items_to_rank) #non va bene perche items to compute è sottoinsieme di items, a me serve un sottoinsieme diverso per ogni utente non uno per tutti!!\u001b[39;00m\n\u001b[1;32m     51\u001b[0m     \u001b[39m#print(scores_batch2.shape)\u001b[39;00m\n\u001b[1;32m     52\u001b[0m     \u001b[39m#print(np.array_equal(scores_batch,scores_batch2))\u001b[39;00m\n\u001b[1;32m     53\u001b[0m     \u001b[39mfor\u001b[39;00m user_index \u001b[39min\u001b[39;00m \u001b[39mrange\u001b[39m(\u001b[39mlen\u001b[39m(user_id_array)):\n",
      "File \u001b[0;32m~/Desktop/TESI/Thesis_DiffusionRecommender-main/Diffusion/DiffusionRecommender.py:274\u001b[0m, in \u001b[0;36mDiffusionRecommender._compute_item_score\u001b[0;34m(self, user_id_array, items_to_compute)\u001b[0m\n\u001b[1;32m    265\u001b[0m user_profile_batch \u001b[39m=\u001b[39m \u001b[39mself\u001b[39m\u001b[39m.\u001b[39mURM_train[user_id_array]\n\u001b[1;32m    266\u001b[0m user_profile_batch \u001b[39m=\u001b[39m torch\u001b[39m.\u001b[39msparse_csr_tensor(user_profile_batch\u001b[39m.\u001b[39mindptr,\n\u001b[1;32m    267\u001b[0m                                             user_profile_batch\u001b[39m.\u001b[39mindices,\n\u001b[1;32m    268\u001b[0m                                             user_profile_batch\u001b[39m.\u001b[39mdata,\n\u001b[0;32m   (...)\u001b[0m\n\u001b[1;32m    271\u001b[0m                                             device\u001b[39m=\u001b[39m\u001b[39mself\u001b[39m\u001b[39m.\u001b[39mdevice,\n\u001b[1;32m    272\u001b[0m                                             requires_grad\u001b[39m=\u001b[39m\u001b[39mFalse\u001b[39;00m)\u001b[39m.\u001b[39mto_dense()\n\u001b[0;32m--> 274\u001b[0m user_profile_inference \u001b[39m=\u001b[39m \u001b[39mself\u001b[39;49m\u001b[39m.\u001b[39;49m_model\u001b[39m.\u001b[39;49msample_from_user_profile(user_profile_batch, \u001b[39mself\u001b[39;49m\u001b[39m.\u001b[39;49minference_timesteps)\u001b[39m.\u001b[39mcpu()\u001b[39m.\u001b[39mdetach()\u001b[39m.\u001b[39mnumpy()\n\u001b[1;32m    276\u001b[0m \u001b[39mif\u001b[39;00m items_to_compute \u001b[39mis\u001b[39;00m \u001b[39mNone\u001b[39;00m:\n\u001b[1;32m    277\u001b[0m     item_scores \u001b[39m=\u001b[39m user_profile_inference\n",
      "File \u001b[0;32m~/Desktop/TESI/Thesis_DiffusionRecommender-main/Diffusion/DiffusionRecommender.py:138\u001b[0m, in \u001b[0;36m_GaussianDiffusionModel.sample_from_user_profile\u001b[0;34m(self, user_profile, inference_timesteps)\u001b[0m\n\u001b[1;32m    135\u001b[0m \u001b[39mwith\u001b[39;00m torch\u001b[39m.\u001b[39mno_grad():\n\u001b[1;32m    136\u001b[0m     gaussian_noise \u001b[39m=\u001b[39m torch\u001b[39m.\u001b[39mrandn_like(user_profile, device\u001b[39m=\u001b[39muser_profile\u001b[39m.\u001b[39mdevice)\n\u001b[0;32m--> 138\u001b[0m     user_profile_inference \u001b[39m=\u001b[39m \u001b[39mself\u001b[39;49m\u001b[39m.\u001b[39;49mq_sample(x_start \u001b[39m=\u001b[39;49m user_profile, t \u001b[39m=\u001b[39;49m torch\u001b[39m.\u001b[39;49mtensor([inference_timesteps], device\u001b[39m=\u001b[39;49muser_profile\u001b[39m.\u001b[39;49mdevice, dtype\u001b[39m=\u001b[39;49mtorch\u001b[39m.\u001b[39;49mlong), gaussian_noise \u001b[39m=\u001b[39;49m gaussian_noise)\n\u001b[1;32m    140\u001b[0m     \u001b[39mfor\u001b[39;00m timestep \u001b[39min\u001b[39;00m \u001b[39mrange\u001b[39m(inference_timesteps, \u001b[39m0\u001b[39m, \u001b[39m-\u001b[39m\u001b[39m1\u001b[39m):\n\u001b[1;32m    141\u001b[0m         user_profile_inference \u001b[39m=\u001b[39m user_profile_inference \u001b[39m+\u001b[39m \u001b[39mself\u001b[39m\u001b[39m.\u001b[39mpositional_encoding\u001b[39m.\u001b[39mget_encoding(torch\u001b[39m.\u001b[39mtensor([timestep], device\u001b[39m=\u001b[39muser_profile\u001b[39m.\u001b[39mdevice))\n",
      "File \u001b[0;32m~/Desktop/TESI/Thesis_DiffusionRecommender-main/Diffusion/DiffusionRecommender.py:93\u001b[0m, in \u001b[0;36m_GaussianDiffusionModel.q_sample\u001b[0;34m(self, x_start, t, gaussian_noise)\u001b[0m\n\u001b[1;32m     78\u001b[0m \u001b[39mdef\u001b[39;00m \u001b[39mq_sample\u001b[39m(\u001b[39mself\u001b[39m, x_start, t, gaussian_noise \u001b[39m=\u001b[39m \u001b[39mNone\u001b[39;00m):\n\u001b[1;32m     79\u001b[0m     \u001b[39m\"\"\"\u001b[39;00m\n\u001b[1;32m     80\u001b[0m \u001b[39m    Apply noise to the sample by calculating the total noise that would be applied after t steps.\u001b[39;00m\n\u001b[1;32m     81\u001b[0m \u001b[39m    The sum of t gaussian noise steps is also a gaussian so we can avoid to iterate t steps and calculate\u001b[39;00m\n\u001b[0;32m   (...)\u001b[0m\n\u001b[1;32m     90\u001b[0m \u001b[39m    :return:\u001b[39;00m\n\u001b[1;32m     91\u001b[0m \u001b[39m    \"\"\"\u001b[39;00m\n\u001b[0;32m---> 93\u001b[0m     a_signed \u001b[39m=\u001b[39m \u001b[39mself\u001b[39;49m\u001b[39m.\u001b[39;49mnoise_schedule\u001b[39m.\u001b[39;49mget_a_signed(t)\n\u001b[1;32m     94\u001b[0m     batch_size \u001b[39m=\u001b[39m \u001b[39mlen\u001b[39m(t)\n\u001b[1;32m     95\u001b[0m     x_noisy \u001b[39m=\u001b[39m torch\u001b[39m.\u001b[39msqrt(a_signed)\u001b[39m.\u001b[39mreshape(batch_size, \u001b[39m1\u001b[39m)\u001b[39m*\u001b[39mx_start \u001b[39m+\u001b[39m torch\u001b[39m.\u001b[39msqrt(\u001b[39m1\u001b[39m \u001b[39m-\u001b[39m a_signed)\u001b[39m.\u001b[39mreshape(batch_size, \u001b[39m1\u001b[39m) \u001b[39m*\u001b[39m gaussian_noise\n",
      "File \u001b[0;32m~/Desktop/TESI/Thesis_DiffusionRecommender-main/Diffusion/NoiseSchedule.py:35\u001b[0m, in \u001b[0;36mLinearNoiseSchedule.get_a_signed\u001b[0;34m(self, step)\u001b[0m\n\u001b[1;32m     34\u001b[0m \u001b[39mdef\u001b[39;00m \u001b[39mget_a_signed\u001b[39m(\u001b[39mself\u001b[39m, step):\n\u001b[0;32m---> 35\u001b[0m     \u001b[39mreturn\u001b[39;00m \u001b[39mself\u001b[39;49m\u001b[39m.\u001b[39;49m_alpha_values[step]\n",
      "\u001b[0;31mIndexError\u001b[0m: index 500 is out of bounds for dimension 0 with size 429"
     ]
    }
   ],
   "source": [
    "import pandas as pd\n",
    "import ast\n",
    "directory = \"/Users/lucaortolomo/Desktop/TESI/Thesis_DiffusionRecommender-main/experiment_data\"\n",
    "# Read the CSV\n",
    "df = pd.read_csv('/Users/lucaortolomo/Desktop/TESI/Thesis_DiffusionRecommender-main/experiment_data/2023-07-31 09:13:50/cutoff_10/1/best_models_last_1_timesteps.csv')\n",
    "\n",
    "# Define recommenders\n",
    "recommenders_instances_test = {\n",
    "    #\"ItemKNNCFRecommender\": itemKNN_instance_test,\n",
    "    #\"SLIMElasticNetRecommender\": slim_elastic_instance_test,\n",
    "    \"IALSRecommender\": matrix_fact_instance_test\n",
    "}\n",
    "\n",
    "timesteps = [1, 2, 3, 4, 5, 10, 15, 20, 30, 40, 60, 80, 100, 150, 200, 250, 300, 350, 400, 500]\n",
    "#!!! best model di diffusion autoencoder ha NOISE timesteps =429 quindi non di possono dare INFERENCE timesteps>429 perchè quando viene preso beta o alpha[430+] c'è un errore siccome è stato generato beta solo fino a noise timesteps, quindi 429\n",
    "\n",
    "# Loop through each row in the dataframe\n",
    "  # Once you have the model ready, loop through timesteps and perform operations\n",
    "for timestep in timesteps:  # Assuming you have a list of timesteps defined somewhere\n",
    "    auto_diffusion_instance_test.inference_timesteps = timestep\n",
    "    \n",
    "                                        \n",
    "    for traditional_rec_name, traditional_rec_instance in recommenders_instances_test.items():\n",
    "        expected_name = traditional_rec_name + '_' + auto_diffusion_instance.RECOMMENDER_NAME + '_TwoLevelRec'\n",
    "        for _, row in df.iterrows():\n",
    "            hybrid_name = row['RECOMMENDER']\n",
    "            if hybrid_name == expected_name:\n",
    "                # Get the parameters\n",
    "                params = ast.literal_eval(row['PARAMS'])\n",
    "                # Instantiate the TwoLevelRec model with correct parameters\n",
    "        # Fit the model\n",
    "        two_level_rec_test = TwoLevelRec(URM_train=URM_train+URM_validation,\n",
    "                                        recommender1=itemKNN_instance_test ,\n",
    "                                        recommender2=auto_diffusion_instance_test,\n",
    "                                        max_cutoff=350)\n",
    "        two_level_rec_test.fit(n_items_to_rank=params['n_items_to_rank'])\n",
    "        result_df, _ =evaluator_test.evaluateRecommender(two_level_rec_test)\n",
    "        result_df[\"RECOMMENDER\"] = two_level_rec_test.RECOMMENDER_NAME\n",
    "        result_df[\"PARAMS\"] = params['n_items_to_rank']\n",
    "        result_df[\"TIMESTEPS\"] = timestep\n",
    "        filename = expected_name+ \".csv\"\n",
    "        filename = os.path.join(directory, filename)\n",
    "\n",
    "        if os.path.isfile(filename):\n",
    "                # If it exists, append without writing the header\n",
    "                pd.DataFrame(result_df.loc[10]).transpose().to_csv(filename, mode='a', header=False, index=False)\n",
    "        else:\n",
    "                # If it doesn't exist, create it, write the header\n",
    "                pd.DataFrame(result_df.loc[10]).transpose().to_csv(filename, mode='w', header=True, index=False)\n",
    "\n",
    "    \n",
    "        "
   ]
  },
  {
   "cell_type": "code",
   "execution_count": 11,
   "metadata": {},
   "outputs": [
    {
     "name": "stdout",
     "output_type": "stream",
     "text": [
      "/Users/lucaortolomo/Desktop/TESI/Thesis_DiffusionRecommender-main/experiment_data/2023-07-31 09:13:50\n",
      "/Users/lucaortolomo/Desktop/TESI/Thesis_DiffusionRecommender-main/experiment_data/2023-07-31 03:41:53\n",
      "Saved LaTeX version to /Users/lucaortolomo/Desktop/TESI/Thesis_DiffusionRecommender-main/experiment_data/FINAL_TABLE/final_table_short.tex\n"
     ]
    }
   ],
   "source": [
    "import pandas as pd\n",
    "import os\n",
    "\n",
    "def csv_to_latex(dirs, output_file_path):\n",
    "    # The desired columns\n",
    "    selected_columns = [\n",
    "        'RECOMMENDER',\n",
    "        'PARAMS',\n",
    "        'NDCG', \n",
    "        'PRECISION', \n",
    "        'COVERAGE_ITEM', \n",
    "        'COVERAGE_ITEM_HIT', \n",
    "        'AVERAGE_POPULARITY'\n",
    "    ]\n",
    "\n",
    "    # Column order\n",
    "    final_column_order = [\n",
    "        'RECOMMENDER',\n",
    "        'PARAMS',\n",
    "        'TIMESTEP',\n",
    "        'CUTOFF',\n",
    "        'NDCG', \n",
    "        'PRECISION', \n",
    "        'COVERAGE_ITEM', \n",
    "        'COVERAGE_ITEM_HIT', \n",
    "        'AVERAGE_POPULARITY'\n",
    "    ]\n",
    "\n",
    "    cutoff_dirs = [\"cutoff_10\", \"cutoff_50\"]\n",
    "    timesteps_dirs = [\"1\", \"5\", \"25\", \"50\"]\n",
    "\n",
    "    all_dfs = [] # list to hold all the dataframes\n",
    "\n",
    "    for base_dir in dirs:\n",
    "        print(base_dir)\n",
    "        for cutoff in cutoff_dirs:\n",
    "            for timestep in timesteps_dirs:\n",
    "                path = os.path.join(base_dir, cutoff, timestep, f'best_models_last_{timestep}_timesteps.csv')\n",
    "                if os.path.exists(path):\n",
    "                    df = pd.read_csv(path)\n",
    "\n",
    "                    # Filter the dataframe to keep only the desired columns\n",
    "                    df = df[selected_columns]\n",
    "\n",
    "                    # Add cutoff, timestep, and directory columns to the dataframe\n",
    "                    df['CUTOFF'] = cutoff\n",
    "                    df['TIMESTEP'] = timestep\n",
    "                    all_dfs.append(df)\n",
    "    \n",
    "    # Concatenate all the dataframes into a single one\n",
    "    final_df = pd.concat(all_dfs, ignore_index=True)\n",
    "    final_df = final_df[final_column_order]  # rearrange columns\n",
    "    latex_str = final_df.to_latex(index=False)\n",
    "\n",
    "    # Save the final LaTeX table to the specified output path\n",
    "    with open(output_file_path, 'w') as f:\n",
    "        f.write(latex_str)\n",
    "\n",
    "    print(f'Saved LaTeX version to {output_file_path}')\n",
    "\n",
    "dirs = [\n",
    "    \"/Users/lucaortolomo/Desktop/TESI/Thesis_DiffusionRecommender-main/experiment_data/2023-07-31 09:13:50\",\n",
    "    \"/Users/lucaortolomo/Desktop/TESI/Thesis_DiffusionRecommender-main/experiment_data/2023-07-31 03:41:53\"\n",
    "]\n",
    "output_file_path = \"/Users/lucaortolomo/Desktop/TESI/Thesis_DiffusionRecommender-main/experiment_data/FINAL_TABLE/final_table_short.tex\"\n",
    "csv_to_latex(dirs, output_file_path)\n"
   ]
  }
 ],
 "metadata": {
  "kernelspec": {
   "display_name": "tesi",
   "language": "python",
   "name": "python3"
  },
  "language_info": {
   "codemirror_mode": {
    "name": "ipython",
    "version": 3
   },
   "file_extension": ".py",
   "mimetype": "text/x-python",
   "name": "python",
   "nbconvert_exporter": "python",
   "pygments_lexer": "ipython3",
   "version": "3.8.16"
  },
  "orig_nbformat": 4
 },
 "nbformat": 4,
 "nbformat_minor": 2
}
